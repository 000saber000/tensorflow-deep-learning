{
  "nbformat": 4,
  "nbformat_minor": 0,
  "metadata": {
    "colab": {
      "name": "07_food_vision_milestone_project_1.ipynb",
      "provenance": [],
      "collapsed_sections": [],
      "mount_file_id": "1c4WrBrZ-ZQUKE9I17T6vDv4TzoXV6Wu1",
      "authorship_tag": "ABX9TyNUrQ0vFC5BZ3MOnzwYkzQ7",
      "include_colab_link": true
    },
    "kernelspec": {
      "name": "python3",
      "display_name": "Python 3"
    },
    "accelerator": "GPU"
  },
  "cells": [
    {
      "cell_type": "markdown",
      "metadata": {
        "id": "view-in-github",
        "colab_type": "text"
      },
      "source": [
        "<a href=\"https://colab.research.google.com/github/mrdbourke/tensorflow-deep-learning/blob/main/07_food_vision_milestone_project_1.ipynb\" target=\"_parent\"><img src=\"https://colab.research.google.com/assets/colab-badge.svg\" alt=\"Open In Colab\"/></a>"
      ]
    },
    {
      "cell_type": "markdown",
      "metadata": {
        "id": "z2PPYrQIztfX"
      },
      "source": [
        "# NOTE: This notebook is still a work in progress & will be updated soon\n",
        "\n",
        "# Milestone Project 1: Food Vision\n",
        "\n",
        "- Training a big dog model with all of the images\n",
        "- Trying to beat DeepFood paper: https://arxiv.org/pdf/1606.05675.pdf (top-1 accuracy of 77.4%)\n",
        "- Use feature extraction then straight into fine-tuning\n",
        "- The exercises are to evaluate the model like we did in notebook 01\n",
        "\n",
        "## TK - Intro\n",
        "\n",
        "## TK - What we're going to cover\n",
        "\n",
        "* Building Food Vision... an image classification model trained on Food101 data with better results than the DeepFood paper - https://arxiv.org/pdf/1606.05675.pdf\n",
        "* Beating Food Vision Mini (from the previous notebook)\n",
        "* Food Vision Mini = model trained on 10% of data with 101 classes, Food Vision Big = model trained on 100% of data with 101 classes\n",
        "\n",
        " TK - fix below\n",
        "\n",
        "1. Get data ready (download).\n",
        "2. Prepare the data (load with `image_dataset_from_directory`).\n",
        "3. Choose and fit/train a model (tf.keras.applications, create callbacks with TensorBoard, Learning rate lowering, EarlyStopping and model checkpointing).\n",
        "4. Evalute model predictions (with metrics and testing on sample images).\n",
        "5. Make sure model can be saved and reloaded.\n",
        "6. Discuss possible model improvements...\n",
        "\n",
        "## TK - How you should approach this notebook\n",
        "\n",
        "\n",
        "## TODO:\n",
        "\n",
        "* Add text to differnt sections \n",
        "* Clean model loading code (remove excess cell outputs)\n",
        "* Make sure all code runs from head to tail ✅\n",
        "* Clean up headings ✅\n",
        "* Clean up data loading ✅\n",
        "* Use mixed precision for fine-tuning (if you don’t, your models will take 2.5x longer to train) ✅\n",
        "* Upload trained models to GS so a student can download the trained version and use it ✅\n",
        "* Make sure mixed precision works with the saved & loaded model ✅"
      ]
    },
    {
      "cell_type": "markdown",
      "metadata": {
        "id": "rLaDq25mykWN"
      },
      "source": [
        "## Check GPU\n",
        "\n",
        "For this notebook, we're going to be doing something different.\n",
        "\n",
        "We're going to be using mixed precision training.\n",
        "\n",
        "Mixed precision training was introduced in [TensorFlow 2.4.0](https://blog.tensorflow.org/2020/12/whats-new-in-tensorflow-24.html) (a very new feature at the time of writing).\n",
        "\n",
        "What does **mixed precision training** do?\n",
        "\n",
        "Mixed precision training uses a combination of single precision (float32) and half-preicison (float16) data types to speed up model training (up 3x on modern GPUs).\n",
        "\n",
        "We'll talk about this more later on but in the meantime you can read the [TensorFlow documentation on mixed precision](https://www.tensorflow.org/guide/mixed_precision) for more details.\n",
        "\n",
        "For now, before we can move forward if we want to use mixed precision training, we need to make sure the GPU powering our Google Colab instance (if you're using Google Colab) is compataible. \n",
        "\n",
        "For mixed precision training to work, you need access to a GPU with a compute compability score of 7.0+. \n",
        "\n",
        "Google Colab offers P100, K80 and T4 GPUs, however, the P100 and K80 aren't compatible with mixed precision training.\n",
        "\n",
        "Therefore before we proceed we need to make sure we have access to a Tesla T4 GPU in our Google Colab instance.\n",
        "\n",
        "If you're not using Google Colab, you can find a list of various [Nvidia GPU compute capabilities on Nvidia's developer website](https://developer.nvidia.com/cuda-gpus#compute).\n",
        "\n",
        "> 🔑 **Note:** If you run the cell below and see a P100 or K80, try going to to Runtime -> Factory Reset Runtime (note: this will remove any saved variables and data from your Colab instance) and retry to get a T4."
      ]
    },
    {
      "cell_type": "code",
      "metadata": {
        "id": "VAC_5rYJicZ4",
        "colab": {
          "base_uri": "https://localhost:8080/"
        },
        "outputId": "04867aca-a5b2-457f-9824-fe2d0a8ab45e"
      },
      "source": [
        "# If using Google Colab, this should output \"Tesla T4\" otherwise, \n",
        "# you won't be able to use mixed precision training\n",
        "!nvidia-smi -L"
      ],
      "execution_count": 8,
      "outputs": [
        {
          "output_type": "stream",
          "text": [
            "GPU 0: Tesla T4 (UUID: GPU-b34afed3-cd29-ef25-406b-c0626254e498)\n"
          ],
          "name": "stdout"
        }
      ]
    },
    {
      "cell_type": "markdown",
      "metadata": {
        "id": "oWgb38BYKhS_"
      },
      "source": [
        "Since mixed precision training was introduced in TensorFlow 2.4.0, make sure you've got at least TensorFlow 2.4.0+."
      ]
    },
    {
      "cell_type": "code",
      "metadata": {
        "colab": {
          "base_uri": "https://localhost:8080/"
        },
        "id": "8LpEDWLxKg46",
        "outputId": "8bf9e9c5-9b41-4060-9ec0-1f1f55c40298"
      },
      "source": [
        "# Check TensorFlow version (should be 2.4.0+)\n",
        "import tensorflow as tf\n",
        "print(tf.__version__)"
      ],
      "execution_count": 9,
      "outputs": [
        {
          "output_type": "stream",
          "text": [
            "2.4.1\n"
          ],
          "name": "stdout"
        }
      ]
    },
    {
      "cell_type": "markdown",
      "metadata": {
        "id": "pPwSfuFDzT5v"
      },
      "source": [
        "## Get helper functions\n",
        "\n",
        "We've created a series of helper functions throughout the previous notebooks in the course. Instead of rewriting them (tedious), we'll import the [`helper_functions.py`](https://github.com/mrdbourke/tensorflow-deep-learning/blob/main/extras/helper_functions.py) file from the GitHub repo."
      ]
    },
    {
      "cell_type": "code",
      "metadata": {
        "id": "iC2R6bOZzhQd"
      },
      "source": [
        "# Get helper functions file\n",
        "!wget https://raw.githubusercontent.com/mrdbourke/tensorflow-deep-learning/main/extras/helper_functions.py"
      ],
      "execution_count": null,
      "outputs": []
    },
    {
      "cell_type": "code",
      "metadata": {
        "id": "ZqKKuFt7zYvf"
      },
      "source": [
        "# Import series of helper functions for the notebook (we've created/used these in previous notebooks)\n",
        "from helper_functions import create_tensorboard_callback, plot_loss_curves, compare_historys"
      ],
      "execution_count": 11,
      "outputs": []
    },
    {
      "cell_type": "markdown",
      "metadata": {
        "id": "w5BE7WYl9b_8"
      },
      "source": [
        "## TK - Use TensorFlow Datasets to Download Data\n",
        "\n",
        "In previous notebooks, we've downloaded our food images (from the [Food101 dataset](https://www.kaggle.com/dansbecker/food-101/home)) from Google Storage.\n",
        "\n",
        "And this is a typical workflow you'd use if you're working on your own datasets.\n",
        "\n",
        "However, there's another way to get datasets ready to use with TensorFlow.\n",
        "\n",
        "For many of the most popular datasets in the machine learning world (often referred to and used as benchmarks), you can access them through [TensorFlow Datasets (TFDS)](https://www.tensorflow.org/datasets/overview).\n",
        "\n",
        "What is **TensorFlow Datasets**?\n",
        "\n",
        "A place for prepared and ready-to-use machine learning datasets.\n",
        "\n",
        "Why use TensorFlow Datasets?\n",
        "\n",
        "* Load data already in Tensors\n",
        "* Practice on well established datasets\n",
        "* Experiment with differet data loading techniques (like we're going to use in this notebook)\n",
        "* Experiment with new TensorFlow features quickly (such as mixed precision training)\n",
        "\n",
        "Why *not* use TensorFlow Datasets?\n",
        "\n",
        "* The datasets are static\n",
        "* Might not be suited for your particular problem (but great for experimenting)\n",
        "\n",
        "To begin using TensorFlow Datasets we can import it under the alias `tfds`.\n"
      ]
    },
    {
      "cell_type": "code",
      "metadata": {
        "id": "YDMExkAG8ztE"
      },
      "source": [
        "# Get TensorFlow Datasets\n",
        "import tensorflow_datasets as tfds"
      ],
      "execution_count": 12,
      "outputs": []
    },
    {
      "cell_type": "markdown",
      "metadata": {
        "id": "-TRPTGvpNuJm"
      },
      "source": [
        "To find all of the available datasets in TensorFlow Datasets, you can use the `list_builders()` method.\n",
        "\n",
        "After doing so, we can check to see if the one we're after (`\"food101\"`) is present."
      ]
    },
    {
      "cell_type": "code",
      "metadata": {
        "colab": {
          "base_uri": "https://localhost:8080/"
        },
        "id": "gXA8b2619s0X",
        "outputId": "1e29c1f9-fee7-44c3-fb9c-d679067e5b06"
      },
      "source": [
        "# List available datasets\n",
        "datasets_list = tfds.list_builders() # get all available datasets in TFDS\n",
        "print(\"food101\" in datasets_list) # is the dataset we're after available?"
      ],
      "execution_count": 5,
      "outputs": [
        {
          "output_type": "stream",
          "text": [
            "True\n"
          ],
          "name": "stdout"
        }
      ]
    },
    {
      "cell_type": "markdown",
      "metadata": {
        "id": "bUK_zulYNfVY"
      },
      "source": [
        "Beautiful! It looks like the dataset we're after is available (note there are plenty more available but we're on Food101).\n",
        "\n",
        "To get access to the Food101 dataset from the TFDS, we can use the [`tfds.load()`](https://www.tensorflow.org/datasets/api_docs/python/tfds/load) method.\n",
        "\n",
        "In particular, we'll have to pass it a few parameters to let it know what we're after:\n",
        "* `name` (str) : the target dataset (e.g. `\"food101\"`)\n",
        "* `split` (list, optional) : what splits of the dataset we're after (e.g. `[\"train\", \"validation\"]`)\n",
        "  * the `split` parameter is quite tricky. See [the documentation for more](https://github.com/tensorflow/datasets/blob/master/docs/splits.md).\n",
        "* `shuffle_files` (bool) : whether or not to shuffle the files on download, defaults to `False` \n",
        "* `as_supervised` (bool) : `True` to download data samples in tuple format (`(data, label)`) or `False` for dictionary format \n",
        "* `with_info` (bool) : `True` to download dataset metadata (labels, number of samples, etc)\n",
        "\n",
        "> 🔑 **Note:** Calling the `tfds.load()` method will start to download a target dataset to disk if the `download=True` parameter is set (default). This dataset could be 100GB+, so make sure you have space."
      ]
    },
    {
      "cell_type": "code",
      "metadata": {
        "id": "ClXZDWng-s8F"
      },
      "source": [
        "# Load in the data (takes about 5-6 minutes in Google Colab)\n",
        "(train_data, test_data), ds_info = tfds.load(name=\"food101\", # target dataset to get from TFDS\n",
        "                                             split=[\"train\", \"validation\"], # what splits of data should we get? note: not all datasets have train, valid, test\n",
        "                                             shuffle_files=True, # shuffle files on download?\n",
        "                                             as_supervised=True, # download data in tuple format (sample, label), e.g. (image, label)\n",
        "                                             with_info=True) # include dataset metadata? if so, tfds.load() returns tuple (data, ds_info)"
      ],
      "execution_count": 13,
      "outputs": []
    },
    {
      "cell_type": "markdown",
      "metadata": {
        "id": "pSxo6soUwTQl"
      },
      "source": [
        "Wonderful! After a few minutes of downloading, we've now got access to entire Food101 dataset (in tensor format) ready for modelling.\n",
        "\n",
        "Now let's get a little information from our dataset, starting with the class names.\n",
        "\n",
        "Getting class names from a TensorFlow Datasets dataset requires downloading the \"`dataset_info`\" variable (using the `as_supervised=True` parameter in the `tfds.load()` method, **note:** this will only work for supervised datasets in TFDS).\n",
        "\n",
        "We can access the class names of a particular dataset using the `dataset_info.features` attribute and accessing `names` attribute of the the `\"label\"` key."
      ]
    },
    {
      "cell_type": "code",
      "metadata": {
        "colab": {
          "base_uri": "https://localhost:8080/"
        },
        "id": "Zoy8Tu7VR2ji",
        "outputId": "d29062fc-5625-493f-d5b4-bdb89cef599e"
      },
      "source": [
        "# Features of Food101 TFDS\n",
        "ds_info.features"
      ],
      "execution_count": 16,
      "outputs": [
        {
          "output_type": "execute_result",
          "data": {
            "text/plain": [
              "FeaturesDict({\n",
              "    'image': Image(shape=(None, None, 3), dtype=tf.uint8),\n",
              "    'label': ClassLabel(shape=(), dtype=tf.int64, num_classes=101),\n",
              "})"
            ]
          },
          "metadata": {
            "tags": []
          },
          "execution_count": 16
        }
      ]
    },
    {
      "cell_type": "code",
      "metadata": {
        "colab": {
          "base_uri": "https://localhost:8080/"
        },
        "id": "g2UkCaLsDXaR",
        "outputId": "2ccbab28-2960-4f7f-8978-f63bf9708b52"
      },
      "source": [
        "# Get class names\n",
        "class_names = ds_info.features[\"label\"].names\n",
        "class_names[:10]"
      ],
      "execution_count": 7,
      "outputs": [
        {
          "output_type": "execute_result",
          "data": {
            "text/plain": [
              "['apple_pie',\n",
              " 'baby_back_ribs',\n",
              " 'baklava',\n",
              " 'beef_carpaccio',\n",
              " 'beef_tartare',\n",
              " 'beet_salad',\n",
              " 'beignets',\n",
              " 'bibimbap',\n",
              " 'bread_pudding',\n",
              " 'breakfast_burrito']"
            ]
          },
          "metadata": {
            "tags": []
          },
          "execution_count": 7
        }
      ]
    },
    {
      "cell_type": "markdown",
      "metadata": {
        "id": "TwsBAkGKwh08"
      },
      "source": [
        "### Exploring the Food101 data from TensorFlow Datasets\n",
        "\n",
        "Now we've downloaded the Food101 dataset from TensorFlow Datasets, how about we do what any good data explorer should?\n",
        "\n",
        "In other words, \"visualize, visualize, visualize\". \n",
        "\n",
        "Let's find out a few details about our dataset:\n",
        "* The shape of our input data (image tensors)\n",
        "* The datatype of our input data\n",
        "* What the labels of our input data look like (e.g. one-hot encoded versus label-encoded)\n",
        "* Do the labels match up with the class names?\n",
        "\n",
        "To do, let's take one sample off the training data (using the [`.take()` method](https://www.tensorflow.org/api_docs/python/tf/data/Dataset#take)) and explore it. "
      ]
    },
    {
      "cell_type": "code",
      "metadata": {
        "id": "5eO2qVy3A-CC"
      },
      "source": [
        "# Take one sample off the training data\n",
        "train_one_sample = train_data.take(1) # samples are in format (image_tensor, label)"
      ],
      "execution_count": 23,
      "outputs": []
    },
    {
      "cell_type": "markdown",
      "metadata": {
        "id": "hsZj4K3ETdvB"
      },
      "source": [
        "Because we used the `as_supervised=True` parameter in our `tfds.load()` method above, data samples come in the tuple format structure `(data, label)` or in our case `(image_tensor, label)`."
      ]
    },
    {
      "cell_type": "code",
      "metadata": {
        "colab": {
          "base_uri": "https://localhost:8080/"
        },
        "id": "m--0wDNDTU8S",
        "outputId": "1207f6fe-2704-4815-f538-302389c1bbac"
      },
      "source": [
        "# What does one sample of our training data look like?\n",
        "train_one_sample"
      ],
      "execution_count": 24,
      "outputs": [
        {
          "output_type": "execute_result",
          "data": {
            "text/plain": [
              "<TakeDataset shapes: ((None, None, 3), ()), types: (tf.uint8, tf.int64)>"
            ]
          },
          "metadata": {
            "tags": []
          },
          "execution_count": 24
        }
      ]
    },
    {
      "cell_type": "markdown",
      "metadata": {
        "id": "bP1MeznpTsbM"
      },
      "source": [
        "Let's loop through our single training sample and get some info from the `image_tensor` and `label`."
      ]
    },
    {
      "cell_type": "code",
      "metadata": {
        "colab": {
          "base_uri": "https://localhost:8080/"
        },
        "id": "Zjz4goiHBMO7",
        "outputId": "7268ca4e-9f28-4da6-de16-65b035db79bc"
      },
      "source": [
        "# Output info about our training sample\n",
        "for image, label in train_one_sample:\n",
        "  print(f\"\"\"\n",
        "  Image shape: {image.shape}\n",
        "  Image dtype: {image.dtype}\n",
        "  Target class from Food101 (tensor form): {label}\n",
        "  Class name (str form): {class_names[label.numpy()]}\n",
        "        \"\"\")"
      ],
      "execution_count": 27,
      "outputs": [
        {
          "output_type": "stream",
          "text": [
            "\n",
            "  Image shape: (512, 342, 3)\n",
            "  Image dtype: <dtype: 'uint8'>\n",
            "  Target class from Food101 (tensor form): 50\n",
            "  Class name (str form): grilled_salmon\n",
            "        \n"
          ],
          "name": "stdout"
        }
      ]
    },
    {
      "cell_type": "markdown",
      "metadata": {
        "id": "i4_od8dUUSHE"
      },
      "source": [
        "Because we set the `shuffle_files=True` parameter in our `tfds.load()` method above, running the cell above a few times will give a different result each time.\n",
        "\n",
        "Checking these you might notice some of the images have different shapes, for example `(512, 342, 3)` and `(512, 512, 3)` (height, width, color_channels).\n",
        "\n",
        "Let's see what one of the image tensors from TFDS's Food101 dataset looks like."
      ]
    },
    {
      "cell_type": "code",
      "metadata": {
        "colab": {
          "base_uri": "https://localhost:8080/"
        },
        "id": "FuZmVEH-WS4b",
        "outputId": "7be8bbdd-8c21-46b7-c80a-01dabff5d527"
      },
      "source": [
        "# What does an image tensor from TFDS's Food101 look like?\n",
        "image"
      ],
      "execution_count": 28,
      "outputs": [
        {
          "output_type": "execute_result",
          "data": {
            "text/plain": [
              "<tf.Tensor: shape=(512, 342, 3), dtype=uint8, numpy=\n",
              "array([[[178, 184, 198],\n",
              "        [178, 184, 198],\n",
              "        [178, 184, 198],\n",
              "        ...,\n",
              "        [168, 176, 195],\n",
              "        [167, 175, 194],\n",
              "        [167, 175, 194]],\n",
              "\n",
              "       [[179, 185, 199],\n",
              "        [179, 185, 199],\n",
              "        [180, 186, 200],\n",
              "        ...,\n",
              "        [169, 177, 196],\n",
              "        [168, 176, 195],\n",
              "        [168, 176, 195]],\n",
              "\n",
              "       [[181, 187, 201],\n",
              "        [181, 187, 201],\n",
              "        [181, 187, 201],\n",
              "        ...,\n",
              "        [171, 179, 198],\n",
              "        [170, 178, 197],\n",
              "        [170, 178, 197]],\n",
              "\n",
              "       ...,\n",
              "\n",
              "       [[164, 169, 188],\n",
              "        [164, 169, 188],\n",
              "        [163, 168, 187],\n",
              "        ...,\n",
              "        [194, 196, 208],\n",
              "        [195, 197, 209],\n",
              "        [195, 197, 209]],\n",
              "\n",
              "       [[165, 170, 189],\n",
              "        [165, 170, 189],\n",
              "        [164, 169, 188],\n",
              "        ...,\n",
              "        [194, 196, 209],\n",
              "        [194, 196, 209],\n",
              "        [195, 197, 210]],\n",
              "\n",
              "       [[165, 170, 189],\n",
              "        [165, 170, 189],\n",
              "        [165, 170, 189],\n",
              "        ...,\n",
              "        [194, 196, 209],\n",
              "        [194, 196, 209],\n",
              "        [194, 196, 209]]], dtype=uint8)>"
            ]
          },
          "metadata": {
            "tags": []
          },
          "execution_count": 28
        }
      ]
    },
    {
      "cell_type": "code",
      "metadata": {
        "colab": {
          "base_uri": "https://localhost:8080/"
        },
        "id": "3jJF7njRVKh6",
        "outputId": "de5f462c-732d-4bea-bf47-d81a40607457"
      },
      "source": [
        "# What are the min and max values?\n",
        "tf.reduce_min(image), tf.reduce_max(image)"
      ],
      "execution_count": 30,
      "outputs": [
        {
          "output_type": "execute_result",
          "data": {
            "text/plain": [
              "(<tf.Tensor: shape=(), dtype=uint8, numpy=0>,\n",
              " <tf.Tensor: shape=(), dtype=uint8, numpy=249>)"
            ]
          },
          "metadata": {
            "tags": []
          },
          "execution_count": 30
        }
      ]
    },
    {
      "cell_type": "markdown",
      "metadata": {
        "id": "P2GvO7HjVF5i"
      },
      "source": [
        "Alright looks like our image tensors have values of between 0 & 255 (standard red, green, blue colour values) and the values are of data type `unit8`.\n",
        "\n",
        "We might have to preprocess these before passing them to a neural network. But we'll handle this later.\n",
        "\n",
        "In the meantime, let's see if we can plot an image sample."
      ]
    },
    {
      "cell_type": "markdown",
      "metadata": {
        "id": "llQyIBfJWc5x"
      },
      "source": [
        "### Plot an image from TensorFlow Datasets\n",
        "\n",
        "We've seen our image tensors in tensor format, now let's really adhere to our motto.\n",
        "\n",
        "\"Visualize, visualize, visualize!\"\n",
        "\n",
        "Let's plot one of the image samples using [`matplotlib.pyplot.imshow()`](https://matplotlib.org/stable/api/_as_gen/matplotlib.pyplot.imshow.html) and set the title to target class name."
      ]
    },
    {
      "cell_type": "code",
      "metadata": {
        "colab": {
          "base_uri": "https://localhost:8080/",
          "height": 264
        },
        "id": "pK581hgPWyLm",
        "outputId": "bcaca846-ffc5-48e9-e6f5-6cb449c5a224"
      },
      "source": [
        "# Plot an image tensor\n",
        "import matplotlib.pyplot as plt\n",
        "plt.imshow(image)\n",
        "plt.title(class_names[label.numpy()])\n",
        "plt.axis(False);"
      ],
      "execution_count": 32,
      "outputs": [
        {
          "output_type": "display_data",
          "data": {
            "image/png": "[encoded data removed]",
            "text/plain": [
              "<Figure size 432x288 with 1 Axes>"
            ]
          },
          "metadata": {
            "tags": [],
            "needs_background": "light"
          }
        }
      ]
    },
    {
      "cell_type": "markdown",
      "metadata": {
        "id": "4mBAtGnPWQHy"
      },
      "source": [
        "Delicious!\n",
        "\n",
        "Okay, looks like the Food101 data we've got from TFDS is similar to the datasets we've been using in previous notebooks.\n",
        "\n",
        "Now let's preprocess it and get it ready for use with a neural network."
      ]
    },
    {
      "cell_type": "markdown",
      "metadata": {
        "id": "UeRJnQMIYLcy"
      },
      "source": [
        "## TK Create preprocessing functions for our data\n",
        "\n",
        "In previous notebooks, when our images were in folder format we used the method [`tf.keras.preprocessing.image_dataset_from_directory()`](https://www.tensorflow.org/api_docs/python/tf/keras/preprocessing/image_dataset_from_directory) to load them in.\n",
        "\n",
        "Doing this meant our data was loaded into a format ready to be used with our models.\n",
        "\n",
        "However, since we've downloaded the data from TensorFlow Datasets, there are a couple of preprocessing steps we have to take before it's ready to model. \n",
        "\n",
        "More specifically, our data is currently:\n",
        "\n",
        "* In `uint8` data type\n",
        "* Comprised of all differnet sized tensors (different sized images)\n",
        "* Not scaled (the pixel values are between 0 & 255)\n",
        "\n",
        "Where as, models like data to be:\n",
        "\n",
        "* In `float32` data type\n",
        "* Have all of the same size tensors (batches require all tensors have the same shape, e.g. `(224, 224, 3)`)\n",
        "* Scaled (values between 0 & 1), also called normalized\n",
        "\n",
        "To take care of these, we'll create a `preprocess_img()` function which:\n",
        "\n",
        "* Resizes an input image tensor to a specified size using [`tf.image.resize()`](https://www.tensorflow.org/api_docs/python/tf/image/resize)\n",
        "* Converts an input image tensor's current datatype to `tf.float32` using [`tf.cast()`](https://www.tensorflow.org/api_docs/python/tf/cast)\n",
        "\n",
        "> 🔑 **Note:** Pretrained EfficientNetBX models in [`tf.keras.applications.efficientnet`](https://www.tensorflow.org/api_docs/python/tf/keras/applications/efficientnet) (what we're going to be using) have rescaling built-in. But for many other model architectures you'll want to rescale your data (e.g. get its values between 0 & 1). This could be incorporated inside your \"`preprocess_img()`\" function (like the one below) or within your model as a [`tf.keras.layers.experimental.preprocessing.Rescaling`](https://www.tensorflow.org/api_docs/python/tf/keras/layers/experimental/preprocessing/Rescaling) layer."
      ]
    },
    {
      "cell_type": "code",
      "metadata": {
        "id": "NKuwdjm0CWc1"
      },
      "source": [
        "# Make a function for preprocessing images\n",
        "def preprocess_img(image, label, img_shape=224):\n",
        "  \"\"\"\n",
        "  Converts image datatype from 'uint8' -> 'float32' and reshapes image to\n",
        "  [img_shape, img_shape, color_channels]\n",
        "  \"\"\"\n",
        "  image = tf.image.resize(image, [img_shape, img_shape]) # reshape to img_shape\n",
        "  return tf.cast(image, tf.float32), label # return (float32_image, label) tuple"
      ],
      "execution_count": 33,
      "outputs": []
    },
    {
      "cell_type": "markdown",
      "metadata": {
        "id": "m6kGGFa1Z3Nz"
      },
      "source": [
        "Our `preprocess_img()` function above takes image and label as input (even though it does nothing to the label) because our dataset is currently in the tuple structure `(image, label)`.\n",
        "\n",
        "Let's try our function out on a target image."
      ]
    },
    {
      "cell_type": "code",
      "metadata": {
        "colab": {
          "base_uri": "https://localhost:8080/"
        },
        "id": "BqPDUGCvHI4K",
        "outputId": "cbb64d3c-51f3-4ef1-8be0-29b2c0ac4c55"
      },
      "source": [
        "# Preprocess a single sample image and check the outputs\n",
        "preprocessed_img = preprocess_img(image, label)[0]\n",
        "print(f\"Image before preprocessing:\\n {image[:2]}...,\\nShape: {image.shape},\\nDatatype: {image.dtype}\\n\")\n",
        "print(f\"Image after preprocessing:\\n {preprocessed_img[:2]}...,\\nShape: {preprocessed_img.shape},\\nDatatype: {preprocessed_img.dtype}\")"
      ],
      "execution_count": 38,
      "outputs": [
        {
          "output_type": "stream",
          "text": [
            "Image before preprocessing:\n",
            " [[[178 184 198]\n",
            "  [178 184 198]\n",
            "  [178 184 198]\n",
            "  ...\n",
            "  [168 176 195]\n",
            "  [167 175 194]\n",
            "  [167 175 194]]\n",
            "\n",
            " [[179 185 199]\n",
            "  [179 185 199]\n",
            "  [180 186 200]\n",
            "  ...\n",
            "  [169 177 196]\n",
            "  [168 176 195]\n",
            "  [168 176 195]]]...,\n",
            "Shape: (512, 342, 3),\n",
            "Datatype: <dtype: 'uint8'>\n",
            "\n",
            "Image after preprocessing:\n",
            " [[[178.64285 184.64285 198.64285]\n",
            "  [179.15083 185.15083 199.15083]\n",
            "  [179.64285 185.64285 199.64285]\n",
            "  ...\n",
            "  [169.84662 177.84662 196.84662]\n",
            "  [168.43301 176.43301 195.43301]\n",
            "  [167.64285 175.64285 194.64285]]\n",
            "\n",
            " [[181.92857 187.92857 201.92857]\n",
            "  [181.92857 187.92857 201.92857]\n",
            "  [182.24554 188.24554 202.24554]\n",
            "  ...\n",
            "  [173.24553 181.24553 200.24553]\n",
            "  [171.71873 179.71873 198.71873]\n",
            "  [170.92857 178.92857 197.92857]]]...,\n",
            "Shape: (224, 224, 3),\n",
            "Datatype: <dtype: 'float32'>\n"
          ],
          "name": "stdout"
        }
      ]
    },
    {
      "cell_type": "markdown",
      "metadata": {
        "id": "uhIIvprqaHEZ"
      },
      "source": [
        "Excellent! Looks like our `preprocess_img()` function is working as expected.\n",
        "\n",
        "The input image gets converted from `uint8` to `float32` and gets reshaped from its current shape to `(224, 224, 3)`.\n",
        "\n",
        "How does it look?"
      ]
    },
    {
      "cell_type": "code",
      "metadata": {
        "colab": {
          "base_uri": "https://localhost:8080/",
          "height": 264
        },
        "id": "wYtMxQzZY0F7",
        "outputId": "ee0df364-71ac-4f6b-b8a0-aa2571397fae"
      },
      "source": [
        "# We can still plot our preprocessed image as long as we \n",
        "# divide by 255 (for matplotlib capatibility)\n",
        "plt.imshow(preprocessed_img/255.)\n",
        "plt.title(class_names[label])\n",
        "plt.axis(False);"
      ],
      "execution_count": 40,
      "outputs": [
        {
          "output_type": "display_data",
          "data": {
            "image/png": "[encoded data removed]",
            "text/plain": [
              "<Figure size 432x288 with 1 Axes>"
            ]
          },
          "metadata": {
            "tags": [],
            "needs_background": "light"
          }
        }
      ]
    },
    {
      "cell_type": "markdown",
      "metadata": {
        "id": "gsIaJZEU7y_M"
      },
      "source": [
        "All this food visualization is making me hungry. How about we start preparing to model it?"
      ]
    },
    {
      "cell_type": "code",
      "metadata": {
        "colab": {
          "base_uri": "https://localhost:8080/"
        },
        "id": "5WgJH2bLax10",
        "outputId": "29b5227f-a702-4d15-c831-d6291d06d979"
      },
      "source": [
        "train_data, test_data"
      ],
      "execution_count": 41,
      "outputs": [
        {
          "output_type": "execute_result",
          "data": {
            "text/plain": [
              "(<_OptionsDataset shapes: ((None, None, 3), ()), types: (tf.uint8, tf.int64)>,\n",
              " <_OptionsDataset shapes: ((None, None, 3), ()), types: (tf.uint8, tf.int64)>)"
            ]
          },
          "metadata": {
            "tags": []
          },
          "execution_count": 41
        }
      ]
    },
    {
      "cell_type": "markdown",
      "metadata": {
        "id": "t2rd4_3CjdGE"
      },
      "source": [
        "## TK - Batch & prepare datasets\n",
        "\n",
        "Before we can model our data, we have to turn it into batches.\n",
        "\n",
        "Why?\n",
        "\n",
        "Because computing on batches is memory efficient.\n",
        "\n",
        "We turn our data from 101,000 image tensors and labels (train and test combined) into batches of 32 image and label pairs, thus enabling it to fit into the memory of our GPU.\n",
        "\n",
        "To do this in effective way, we're going to be leveraging a number of methods from the [`tf.data` API](https://www.tensorflow.org/api_docs/python/tf/data).\n",
        "\n",
        "> 📖 **Resource:** For loading data in the most performant way possible, see the TensorFlow docuemntation on [Better performance with the tf.data API](https://www.tensorflow.org/guide/data_performance).\n",
        "\n",
        "Specifically, we're going to be using:\n",
        "\n",
        "* [`map()`](https://www.tensorflow.org/api_docs/python/tf/data/Dataset#map) - maps a predefined function to a target dataset (e.g. `preprocess_img()` to our image tensors)\n",
        "* [`shuffle()`](https://www.tensorflow.org/api_docs/python/tf/data/Dataset#shuffle) - randomly shuffles the elements of a target dataset up `buffer_size` (ideally, the `buffer_size` is equal to the size of the dataset, however, this may have implications on memory)\n",
        "* [`batch()`](https://www.tensorflow.org/api_docs/python/tf/data/Dataset#batch) - turns elements of a target dataset into batches (size defined by parameter `batch_size`)\n",
        "* [`prefetch()`](https://www.tensorflow.org/api_docs/python/tf/data/Dataset#prefetch) - prepares subsequent batches of data whilst other batches of data are being computed on (improves data loading speed but costs memory)\n",
        "* Extra: [`cache()`](https://www.tensorflow.org/api_docs/python/tf/data/Dataset#cache) - caches elements in a target dataset, saving loading time (will only if your dataset is small enough to fit in memory, standard Colab instances only has 12GB of memory) \n",
        "\n",
        "Things to note:\n",
        "- Can't batch tensors of different shapes (e.g. different image sizes, need to reshape images first, hence our `preprocess_img()` function)\n",
        "- `shuffle()` keeps a buffer of the number you pass it images shuffled, ideally this number would be all of the samples in your training set, however, if your training set is large, this buffer might not fit in memory (a fairly large number like 1000 or 10000 is usually suffice for shuffling)\n",
        "- For methods with the `num_parallel_calls` parameter available (such as `map()` and `prefetch()`), setting it to`num_parallel_calls=tf.data.AUTOTUNE` will parallelize preprocessing and significantly improve speed\n",
        "- Can't use `cache()` unless your dataset can fit in memory\n",
        "\n",
        "Woah, the above is alot. But once we've coded below, it'll start to make sense.\n",
        "\n",
        "We're going to through things in the following order:\n",
        "\n",
        "```\n",
        "Original dataset (e.g. train_data) -> map() -> shuffle() -> batch() -> prefetch() -> PrefetchDataset\n",
        "```\n",
        "\n",
        "This is like saying, \"hey, map this preprocessing function across our training dataset, then shuffle a number of elements before batching them together and make sure you prepare new batches (prefetch) whilst the model is looking through the current batch\".\n",
        "\n",
        "TK - image of loading data (steps above) "
      ]
    },
    {
      "cell_type": "code",
      "metadata": {
        "id": "VhA4gq-pI2W3"
      },
      "source": [
        "# Map preprocessing function to training data (and paralellize)\n",
        "train_data = train_data.map(map_func=preprocess_img, num_parallel_calls=tf.data.AUTOTUNE)\n",
        "# Shuffle train_data and turn it into batches and prefetch it (load it faster)\n",
        "train_data = train_data.shuffle(buffer_size=1000).batch(batch_size=32).prefetch(buffer_size=tf.data.AUTOTUNE)\n",
        "\n",
        "# Map prepreprocessing function to test data\n",
        "test_data = test_data.map(preprocess_img, num_parallel_calls=tf.data.AUTOTUNE)\n",
        "# Turn test data into batches (don't need to shuffle)\n",
        "test_data = test_data.batch(32).prefetch(tf.data.AUTOTUNE)"
      ],
      "execution_count": 42,
      "outputs": []
    },
    {
      "cell_type": "markdown",
      "metadata": {
        "id": "rnTPWyAhlKO3"
      },
      "source": [
        "And now let's check out what our prepared datasets look like."
      ]
    },
    {
      "cell_type": "code",
      "metadata": {
        "colab": {
          "base_uri": "https://localhost:8080/"
        },
        "id": "5_fBkGqfJFxT",
        "outputId": "d2b5918c-083e-4916-eca8-2077df92be86"
      },
      "source": [
        "train_data, test_data"
      ],
      "execution_count": 43,
      "outputs": [
        {
          "output_type": "execute_result",
          "data": {
            "text/plain": [
              "(<PrefetchDataset shapes: ((None, 224, 224, 3), (None,)), types: (tf.float32, tf.int64)>,\n",
              " <PrefetchDataset shapes: ((None, 224, 224, 3), (None,)), types: (tf.float32, tf.int64)>)"
            ]
          },
          "metadata": {
            "tags": []
          },
          "execution_count": 43
        }
      ]
    },
    {
      "cell_type": "markdown",
      "metadata": {
        "id": "X1fxgyWnlQNU"
      },
      "source": [
        "Excellent! Looks like our data is now in tutples of `(image, label)` with datatypes of `(tf.float32, tf.int64)`, just what our model is after.\n",
        "\n",
        "> 🔑 **Note:** You can get away without calling the `prefetch()` method on the end of your datasets, however, you'd probably see significantly slower data loading speeds when building a model. So most of your dataset input pipelines should end with a call to [`prefecth()`](https://www.tensorflow.org/api_docs/python/tf/data/Dataset#prefetch).\n",
        "\n",
        "Onward."
      ]
    },
    {
      "cell_type": "markdown",
      "metadata": {
        "id": "Qj3umnpMvSw8"
      },
      "source": [
        "## TK - Create modelling callbacks\n",
        "\n",
        "Since we're going to be training on a large amount of data and training could take a long time, it's a good idea to set up some modelling callbacks so we be sure of things like our model's training logs being tracked and our model being checkpointed (saved) after various training milestones.\n",
        "\n",
        "To do each of these we'll use the following callbacks:\n",
        "* [`tf.keras.callbacks.TensorBoard()`](https://www.tensorflow.org/api_docs/python/tf/keras/callbacks/TensorBoard) - allows us to keep track of our model's training history so we can inspect it later (**note:** we've created this callback before have imported it from `helper_functions.py` as `create_tensorboard_callback()`)\n",
        "* [`tf.keras.callbacks.ModelCheckpoint()`](https://www.tensorflow.org/api_docs/python/tf/keras/callbacks/ModelCheckpoint) - saves our model's progress at various intervals so we can load it and resuse it later without having to retrain it\n",
        "  * Checkpointing is also helpful so we can start fine-tuning our model at a particular epoch and revert back to a previous state if fine-tuning offers no benefits"
      ]
    },
    {
      "cell_type": "code",
      "metadata": {
        "id": "wyYmxPnlXOwd"
      },
      "source": [
        "# Create TensorBoard callback (already have \"create_tensorboard_callback()\" from a previous notebook)\n",
        "from helper_functions import create_tensorboard_callback\n",
        "\n",
        "# Create ModelCheckpoint callback to save model's progress\n",
        "checkpoint_path = \"model_checkpoints/cp.ckpt\" # saving weights requires \".ckpt\" extension\n",
        "model_checkpoint = tf.keras.callbacks.ModelCheckpoint(checkpoint_path,\n",
        "                                                      montior=\"val_acc\", # save the model weights with best validation accuracy\n",
        "                                                      save_best_only=True, # only save the best weights\n",
        "                                                      save_weights_only=True, # only save model weights (not whole model)\n",
        "                                                      verbose=0) # don't print out whether or not model is being saved "
      ],
      "execution_count": 19,
      "outputs": []
    },
    {
      "cell_type": "markdown",
      "metadata": {
        "id": "DyXlCU50UElG"
      },
      "source": [
        "## TK - Setup mixed precision training\n",
        "\n",
        "UPTOHERE\n",
        "\n",
        "Mixed precision training = faster model training with same results!!!! (save time)\n",
        "\n",
        "See: https://www.tensorflow.org/guide/mixed_precision\n",
        "\n",
        "**Note:** If your GPU doesn't have a score of over 7 (e.g. P100 in Colab), mixed precision won't work (see: \"Supported Hardware\": https://www.tensorflow.org/guide/mixed_precision#supported_hardware)"
      ]
    },
    {
      "cell_type": "code",
      "metadata": {
        "colab": {
          "base_uri": "https://localhost:8080/"
        },
        "id": "5BuEjmlybR7V",
        "outputId": "56ba1791-0532-4a49-f17c-c687835cc656"
      },
      "source": [
        "# Turn on mixed precision training\n",
        "from tensorflow.keras import mixed_precision\n",
        "mixed_precision.set_global_policy(\"mixed_float16\")"
      ],
      "execution_count": 20,
      "outputs": [
        {
          "output_type": "stream",
          "text": [
            "INFO:tensorflow:Mixed precision compatibility check (mixed_float16): OK\n",
            "Your GPU will likely run quickly with dtype policy mixed_float16 as it has compute capability of at least 7.0. Your GPU: Tesla T4, compute capability 7.5\n"
          ],
          "name": "stdout"
        },
        {
          "output_type": "stream",
          "text": [
            "INFO:tensorflow:Mixed precision compatibility check (mixed_float16): OK\n",
            "Your GPU will likely run quickly with dtype policy mixed_float16 as it has compute capability of at least 7.0. Your GPU: Tesla T4, compute capability 7.5\n"
          ],
          "name": "stderr"
        }
      ]
    },
    {
      "cell_type": "code",
      "metadata": {
        "colab": {
          "base_uri": "https://localhost:8080/"
        },
        "id": "qzSWJP8KkKae",
        "outputId": "6618b8cc-f5e9-44d7-8c2d-6763d62e5ca9"
      },
      "source": [
        "mixed_precision.global_policy() # should output \"mixed_float16\""
      ],
      "execution_count": 21,
      "outputs": [
        {
          "output_type": "execute_result",
          "data": {
            "text/plain": [
              "<Policy \"mixed_float16\">"
            ]
          },
          "metadata": {
            "tags": []
          },
          "execution_count": 21
        }
      ]
    },
    {
      "cell_type": "markdown",
      "metadata": {
        "id": "rA8FBJwwvVoG"
      },
      "source": [
        "## TK - Build feature extraction model\n",
        "\n",
        "Callbacks ready to roll, let's set up a feature-extraction model.\n",
        "\n",
        "To do so, we'll:\n",
        "* Use `EfficientNetB0` from `tf.keras.applications` pre-trained on ImageNet as our base model.\n",
        "  * We'll download this without the top layers using `include_top=False` so we can create our own output layers.\n",
        "* Freeze the base model layers so we can use the pre-learned patterns the base model has found on ImageNet.\n",
        "* Put together the input, base model, pooling and output layers in a [Functional model](https://keras.io/guides/functional_api/).\n",
        "* Compile the Functional model using the Adam optimizer and categorical crossentropy as the loss function.\n",
        "* Fit the model for 5 epochs using the TensorBoard and ModelCheckpoint callbacks.\n",
        "\n",
        "TK - our model needs a separate output layer (softmax with dtype=float32) so we can use mixed precision for fine-tuning"
      ]
    },
    {
      "cell_type": "code",
      "metadata": {
        "id": "GrkWpCzfXKE7",
        "colab": {
          "base_uri": "https://localhost:8080/"
        },
        "outputId": "9c12f361-d64b-4b93-9050-63fa4ef459f8"
      },
      "source": [
        "from tensorflow.keras import layers\n",
        "from tensorflow.keras.layers.experimental import preprocessing\n",
        "\n",
        "# Create base model\n",
        "input_shape = (224, 224, 3)\n",
        "base_model = tf.keras.applications.EfficientNetB0(include_top=False)\n",
        "base_model.trainable = False # freeze base model layers\n",
        "\n",
        "# Create Functional model \n",
        "inputs = layers.Input(shape=input_shape, name=\"input_layer\")\n",
        "# Note: EfficientNetBX models have rescaling built-in but if your model didn't you could have a layer like below\n",
        "# x = preprocessing.Rescaling(1./255)(x)\n",
        "x = base_model(inputs, training=False) # set base_model to inference mode only\n",
        "x = layers.GlobalAveragePooling2D(name=\"pooling_layer\")(x)\n",
        "x = layers.Dense(len(class_names))(x)\n",
        "# Separate activation of output layer so we can output float32 activations\n",
        "outputs = layers.Activation(\"softmax\", dtype=tf.float32, name=\"softmax_float32\")(x) # want one output neuron per class \n",
        "model = tf.keras.Model(inputs, outputs)\n",
        "\n",
        "# Compile the model\n",
        "model.compile(loss=\"sparse_categorical_crossentropy\", # Use sparse_categorical_crossentropy when labels are *not* one-hot\n",
        "              optimizer=tf.keras.optimizers.Adam(),\n",
        "              metrics=[\"accuracy\"])"
      ],
      "execution_count": 22,
      "outputs": [
        {
          "output_type": "stream",
          "text": [
            "Downloading data from https://storage.googleapis.com/keras-applications/efficientnetb0_notop.h5\n",
            "16711680/16705208 [==============================] - 0s 0us/step\n"
          ],
          "name": "stdout"
        }
      ]
    },
    {
      "cell_type": "code",
      "metadata": {
        "id": "wfEG8ud_jsNY",
        "colab": {
          "base_uri": "https://localhost:8080/"
        },
        "outputId": "17eb7827-d72a-46c8-8aee-4a52064f71dd"
      },
      "source": [
        "# Check out our model\n",
        "model.summary()"
      ],
      "execution_count": 23,
      "outputs": [
        {
          "output_type": "stream",
          "text": [
            "Model: \"model\"\n",
            "_________________________________________________________________\n",
            "Layer (type)                 Output Shape              Param #   \n",
            "=================================================================\n",
            "input_layer (InputLayer)     [(None, 224, 224, 3)]     0         \n",
            "_________________________________________________________________\n",
            "efficientnetb0 (Functional)  (None, None, None, 1280)  4049571   \n",
            "_________________________________________________________________\n",
            "pooling_layer (GlobalAverage (None, 1280)              0         \n",
            "_________________________________________________________________\n",
            "dense (Dense)                (None, 101)               129381    \n",
            "_________________________________________________________________\n",
            "softmax_float32 (Activation) (None, 101)               0         \n",
            "=================================================================\n",
            "Total params: 4,178,952\n",
            "Trainable params: 129,381\n",
            "Non-trainable params: 4,049,571\n",
            "_________________________________________________________________\n"
          ],
          "name": "stdout"
        }
      ]
    },
    {
      "cell_type": "markdown",
      "metadata": {
        "id": "lIXkEdnNGpKi"
      },
      "source": [
        "Check which layers in our model are trainable/not trainable and what is their `dtype_policy`?"
      ]
    },
    {
      "cell_type": "code",
      "metadata": {
        "colab": {
          "base_uri": "https://localhost:8080/"
        },
        "id": "Zk__ebBLHC-Q",
        "outputId": "562c4028-94ec-41b8-9e09-312ac21f4ec2"
      },
      "source": [
        "for layer in model.layers:\n",
        "  # layer.dtype = \"mixed_float16\"\n",
        "  print(layer.name, layer.trainable, layer.dtype_policy) # Check the dtype policy of layers"
      ],
      "execution_count": 24,
      "outputs": [
        {
          "output_type": "stream",
          "text": [
            "input_layer True <Policy \"float32\">\n",
            "efficientnetb0 False <Policy \"mixed_float16\">\n",
            "pooling_layer True <Policy \"mixed_float16\">\n",
            "dense True <Policy \"mixed_float16\">\n",
            "softmax_float32 True <Policy \"float32\">\n"
          ],
          "name": "stdout"
        }
      ]
    },
    {
      "cell_type": "code",
      "metadata": {
        "colab": {
          "base_uri": "https://localhost:8080/"
        },
        "id": "eL_THJCYGenQ",
        "outputId": "dc36058e-6781-4612-a545-693384a2ff61"
      },
      "source": [
        "# Check the layers in the base model and see what dtype policy they're using\n",
        "for layer in model.layers[1].layers:\n",
        "  # layer.dtype = \"mixed_float16\"\n",
        "  print(layer.name, layer.trainable, layer.dtype, layer.dtype_policy)"
      ],
      "execution_count": 25,
      "outputs": [
        {
          "output_type": "stream",
          "text": [
            "input_1 False float32 <Policy \"float32\">\n",
            "rescaling False float32 <Policy \"mixed_float16\">\n",
            "normalization False float32 <Policy \"float32\">\n",
            "stem_conv_pad False float32 <Policy \"mixed_float16\">\n",
            "stem_conv False float32 <Policy \"mixed_float16\">\n",
            "stem_bn False float32 <Policy \"mixed_float16\">\n",
            "stem_activation False float32 <Policy \"mixed_float16\">\n",
            "block1a_dwconv False float32 <Policy \"mixed_float16\">\n",
            "block1a_bn False float32 <Policy \"mixed_float16\">\n",
            "block1a_activation False float32 <Policy \"mixed_float16\">\n",
            "block1a_se_squeeze False float32 <Policy \"mixed_float16\">\n",
            "block1a_se_reshape False float32 <Policy \"mixed_float16\">\n",
            "block1a_se_reduce False float32 <Policy \"mixed_float16\">\n",
            "block1a_se_expand False float32 <Policy \"mixed_float16\">\n",
            "block1a_se_excite False float32 <Policy \"mixed_float16\">\n",
            "block1a_project_conv False float32 <Policy \"mixed_float16\">\n",
            "block1a_project_bn False float32 <Policy \"mixed_float16\">\n",
            "block2a_expand_conv False float32 <Policy \"mixed_float16\">\n",
            "block2a_expand_bn False float32 <Policy \"mixed_float16\">\n",
            "block2a_expand_activation False float32 <Policy \"mixed_float16\">\n",
            "block2a_dwconv_pad False float32 <Policy \"mixed_float16\">\n",
            "block2a_dwconv False float32 <Policy \"mixed_float16\">\n",
            "block2a_bn False float32 <Policy \"mixed_float16\">\n",
            "block2a_activation False float32 <Policy \"mixed_float16\">\n",
            "block2a_se_squeeze False float32 <Policy \"mixed_float16\">\n",
            "block2a_se_reshape False float32 <Policy \"mixed_float16\">\n",
            "block2a_se_reduce False float32 <Policy \"mixed_float16\">\n",
            "block2a_se_expand False float32 <Policy \"mixed_float16\">\n",
            "block2a_se_excite False float32 <Policy \"mixed_float16\">\n",
            "block2a_project_conv False float32 <Policy \"mixed_float16\">\n",
            "block2a_project_bn False float32 <Policy \"mixed_float16\">\n",
            "block2b_expand_conv False float32 <Policy \"mixed_float16\">\n",
            "block2b_expand_bn False float32 <Policy \"mixed_float16\">\n",
            "block2b_expand_activation False float32 <Policy \"mixed_float16\">\n",
            "block2b_dwconv False float32 <Policy \"mixed_float16\">\n",
            "block2b_bn False float32 <Policy \"mixed_float16\">\n",
            "block2b_activation False float32 <Policy \"mixed_float16\">\n",
            "block2b_se_squeeze False float32 <Policy \"mixed_float16\">\n",
            "block2b_se_reshape False float32 <Policy \"mixed_float16\">\n",
            "block2b_se_reduce False float32 <Policy \"mixed_float16\">\n",
            "block2b_se_expand False float32 <Policy \"mixed_float16\">\n",
            "block2b_se_excite False float32 <Policy \"mixed_float16\">\n",
            "block2b_project_conv False float32 <Policy \"mixed_float16\">\n",
            "block2b_project_bn False float32 <Policy \"mixed_float16\">\n",
            "block2b_drop False float32 <Policy \"mixed_float16\">\n",
            "block2b_add False float32 <Policy \"mixed_float16\">\n",
            "block3a_expand_conv False float32 <Policy \"mixed_float16\">\n",
            "block3a_expand_bn False float32 <Policy \"mixed_float16\">\n",
            "block3a_expand_activation False float32 <Policy \"mixed_float16\">\n",
            "block3a_dwconv_pad False float32 <Policy \"mixed_float16\">\n",
            "block3a_dwconv False float32 <Policy \"mixed_float16\">\n",
            "block3a_bn False float32 <Policy \"mixed_float16\">\n",
            "block3a_activation False float32 <Policy \"mixed_float16\">\n",
            "block3a_se_squeeze False float32 <Policy \"mixed_float16\">\n",
            "block3a_se_reshape False float32 <Policy \"mixed_float16\">\n",
            "block3a_se_reduce False float32 <Policy \"mixed_float16\">\n",
            "block3a_se_expand False float32 <Policy \"mixed_float16\">\n",
            "block3a_se_excite False float32 <Policy \"mixed_float16\">\n",
            "block3a_project_conv False float32 <Policy \"mixed_float16\">\n",
            "block3a_project_bn False float32 <Policy \"mixed_float16\">\n",
            "block3b_expand_conv False float32 <Policy \"mixed_float16\">\n",
            "block3b_expand_bn False float32 <Policy \"mixed_float16\">\n",
            "block3b_expand_activation False float32 <Policy \"mixed_float16\">\n",
            "block3b_dwconv False float32 <Policy \"mixed_float16\">\n",
            "block3b_bn False float32 <Policy \"mixed_float16\">\n",
            "block3b_activation False float32 <Policy \"mixed_float16\">\n",
            "block3b_se_squeeze False float32 <Policy \"mixed_float16\">\n",
            "block3b_se_reshape False float32 <Policy \"mixed_float16\">\n",
            "block3b_se_reduce False float32 <Policy \"mixed_float16\">\n",
            "block3b_se_expand False float32 <Policy \"mixed_float16\">\n",
            "block3b_se_excite False float32 <Policy \"mixed_float16\">\n",
            "block3b_project_conv False float32 <Policy \"mixed_float16\">\n",
            "block3b_project_bn False float32 <Policy \"mixed_float16\">\n",
            "block3b_drop False float32 <Policy \"mixed_float16\">\n",
            "block3b_add False float32 <Policy \"mixed_float16\">\n",
            "block4a_expand_conv False float32 <Policy \"mixed_float16\">\n",
            "block4a_expand_bn False float32 <Policy \"mixed_float16\">\n",
            "block4a_expand_activation False float32 <Policy \"mixed_float16\">\n",
            "block4a_dwconv_pad False float32 <Policy \"mixed_float16\">\n",
            "block4a_dwconv False float32 <Policy \"mixed_float16\">\n",
            "block4a_bn False float32 <Policy \"mixed_float16\">\n",
            "block4a_activation False float32 <Policy \"mixed_float16\">\n",
            "block4a_se_squeeze False float32 <Policy \"mixed_float16\">\n",
            "block4a_se_reshape False float32 <Policy \"mixed_float16\">\n",
            "block4a_se_reduce False float32 <Policy \"mixed_float16\">\n",
            "block4a_se_expand False float32 <Policy \"mixed_float16\">\n",
            "block4a_se_excite False float32 <Policy \"mixed_float16\">\n",
            "block4a_project_conv False float32 <Policy \"mixed_float16\">\n",
            "block4a_project_bn False float32 <Policy \"mixed_float16\">\n",
            "block4b_expand_conv False float32 <Policy \"mixed_float16\">\n",
            "block4b_expand_bn False float32 <Policy \"mixed_float16\">\n",
            "block4b_expand_activation False float32 <Policy \"mixed_float16\">\n",
            "block4b_dwconv False float32 <Policy \"mixed_float16\">\n",
            "block4b_bn False float32 <Policy \"mixed_float16\">\n",
            "block4b_activation False float32 <Policy \"mixed_float16\">\n",
            "block4b_se_squeeze False float32 <Policy \"mixed_float16\">\n",
            "block4b_se_reshape False float32 <Policy \"mixed_float16\">\n",
            "block4b_se_reduce False float32 <Policy \"mixed_float16\">\n",
            "block4b_se_expand False float32 <Policy \"mixed_float16\">\n",
            "block4b_se_excite False float32 <Policy \"mixed_float16\">\n",
            "block4b_project_conv False float32 <Policy \"mixed_float16\">\n",
            "block4b_project_bn False float32 <Policy \"mixed_float16\">\n",
            "block4b_drop False float32 <Policy \"mixed_float16\">\n",
            "block4b_add False float32 <Policy \"mixed_float16\">\n",
            "block4c_expand_conv False float32 <Policy \"mixed_float16\">\n",
            "block4c_expand_bn False float32 <Policy \"mixed_float16\">\n",
            "block4c_expand_activation False float32 <Policy \"mixed_float16\">\n",
            "block4c_dwconv False float32 <Policy \"mixed_float16\">\n",
            "block4c_bn False float32 <Policy \"mixed_float16\">\n",
            "block4c_activation False float32 <Policy \"mixed_float16\">\n",
            "block4c_se_squeeze False float32 <Policy \"mixed_float16\">\n",
            "block4c_se_reshape False float32 <Policy \"mixed_float16\">\n",
            "block4c_se_reduce False float32 <Policy \"mixed_float16\">\n",
            "block4c_se_expand False float32 <Policy \"mixed_float16\">\n",
            "block4c_se_excite False float32 <Policy \"mixed_float16\">\n",
            "block4c_project_conv False float32 <Policy \"mixed_float16\">\n",
            "block4c_project_bn False float32 <Policy \"mixed_float16\">\n",
            "block4c_drop False float32 <Policy \"mixed_float16\">\n",
            "block4c_add False float32 <Policy \"mixed_float16\">\n",
            "block5a_expand_conv False float32 <Policy \"mixed_float16\">\n",
            "block5a_expand_bn False float32 <Policy \"mixed_float16\">\n",
            "block5a_expand_activation False float32 <Policy \"mixed_float16\">\n",
            "block5a_dwconv False float32 <Policy \"mixed_float16\">\n",
            "block5a_bn False float32 <Policy \"mixed_float16\">\n",
            "block5a_activation False float32 <Policy \"mixed_float16\">\n",
            "block5a_se_squeeze False float32 <Policy \"mixed_float16\">\n",
            "block5a_se_reshape False float32 <Policy \"mixed_float16\">\n",
            "block5a_se_reduce False float32 <Policy \"mixed_float16\">\n",
            "block5a_se_expand False float32 <Policy \"mixed_float16\">\n",
            "block5a_se_excite False float32 <Policy \"mixed_float16\">\n",
            "block5a_project_conv False float32 <Policy \"mixed_float16\">\n",
            "block5a_project_bn False float32 <Policy \"mixed_float16\">\n",
            "block5b_expand_conv False float32 <Policy \"mixed_float16\">\n",
            "block5b_expand_bn False float32 <Policy \"mixed_float16\">\n",
            "block5b_expand_activation False float32 <Policy \"mixed_float16\">\n",
            "block5b_dwconv False float32 <Policy \"mixed_float16\">\n",
            "block5b_bn False float32 <Policy \"mixed_float16\">\n",
            "block5b_activation False float32 <Policy \"mixed_float16\">\n",
            "block5b_se_squeeze False float32 <Policy \"mixed_float16\">\n",
            "block5b_se_reshape False float32 <Policy \"mixed_float16\">\n",
            "block5b_se_reduce False float32 <Policy \"mixed_float16\">\n",
            "block5b_se_expand False float32 <Policy \"mixed_float16\">\n",
            "block5b_se_excite False float32 <Policy \"mixed_float16\">\n",
            "block5b_project_conv False float32 <Policy \"mixed_float16\">\n",
            "block5b_project_bn False float32 <Policy \"mixed_float16\">\n",
            "block5b_drop False float32 <Policy \"mixed_float16\">\n",
            "block5b_add False float32 <Policy \"mixed_float16\">\n",
            "block5c_expand_conv False float32 <Policy \"mixed_float16\">\n",
            "block5c_expand_bn False float32 <Policy \"mixed_float16\">\n",
            "block5c_expand_activation False float32 <Policy \"mixed_float16\">\n",
            "block5c_dwconv False float32 <Policy \"mixed_float16\">\n",
            "block5c_bn False float32 <Policy \"mixed_float16\">\n",
            "block5c_activation False float32 <Policy \"mixed_float16\">\n",
            "block5c_se_squeeze False float32 <Policy \"mixed_float16\">\n",
            "block5c_se_reshape False float32 <Policy \"mixed_float16\">\n",
            "block5c_se_reduce False float32 <Policy \"mixed_float16\">\n",
            "block5c_se_expand False float32 <Policy \"mixed_float16\">\n",
            "block5c_se_excite False float32 <Policy \"mixed_float16\">\n",
            "block5c_project_conv False float32 <Policy \"mixed_float16\">\n",
            "block5c_project_bn False float32 <Policy \"mixed_float16\">\n",
            "block5c_drop False float32 <Policy \"mixed_float16\">\n",
            "block5c_add False float32 <Policy \"mixed_float16\">\n",
            "block6a_expand_conv False float32 <Policy \"mixed_float16\">\n",
            "block6a_expand_bn False float32 <Policy \"mixed_float16\">\n",
            "block6a_expand_activation False float32 <Policy \"mixed_float16\">\n",
            "block6a_dwconv_pad False float32 <Policy \"mixed_float16\">\n",
            "block6a_dwconv False float32 <Policy \"mixed_float16\">\n",
            "block6a_bn False float32 <Policy \"mixed_float16\">\n",
            "block6a_activation False float32 <Policy \"mixed_float16\">\n",
            "block6a_se_squeeze False float32 <Policy \"mixed_float16\">\n",
            "block6a_se_reshape False float32 <Policy \"mixed_float16\">\n",
            "block6a_se_reduce False float32 <Policy \"mixed_float16\">\n",
            "block6a_se_expand False float32 <Policy \"mixed_float16\">\n",
            "block6a_se_excite False float32 <Policy \"mixed_float16\">\n",
            "block6a_project_conv False float32 <Policy \"mixed_float16\">\n",
            "block6a_project_bn False float32 <Policy \"mixed_float16\">\n",
            "block6b_expand_conv False float32 <Policy \"mixed_float16\">\n",
            "block6b_expand_bn False float32 <Policy \"mixed_float16\">\n",
            "block6b_expand_activation False float32 <Policy \"mixed_float16\">\n",
            "block6b_dwconv False float32 <Policy \"mixed_float16\">\n",
            "block6b_bn False float32 <Policy \"mixed_float16\">\n",
            "block6b_activation False float32 <Policy \"mixed_float16\">\n",
            "block6b_se_squeeze False float32 <Policy \"mixed_float16\">\n",
            "block6b_se_reshape False float32 <Policy \"mixed_float16\">\n",
            "block6b_se_reduce False float32 <Policy \"mixed_float16\">\n",
            "block6b_se_expand False float32 <Policy \"mixed_float16\">\n",
            "block6b_se_excite False float32 <Policy \"mixed_float16\">\n",
            "block6b_project_conv False float32 <Policy \"mixed_float16\">\n",
            "block6b_project_bn False float32 <Policy \"mixed_float16\">\n",
            "block6b_drop False float32 <Policy \"mixed_float16\">\n",
            "block6b_add False float32 <Policy \"mixed_float16\">\n",
            "block6c_expand_conv False float32 <Policy \"mixed_float16\">\n",
            "block6c_expand_bn False float32 <Policy \"mixed_float16\">\n",
            "block6c_expand_activation False float32 <Policy \"mixed_float16\">\n",
            "block6c_dwconv False float32 <Policy \"mixed_float16\">\n",
            "block6c_bn False float32 <Policy \"mixed_float16\">\n",
            "block6c_activation False float32 <Policy \"mixed_float16\">\n",
            "block6c_se_squeeze False float32 <Policy \"mixed_float16\">\n",
            "block6c_se_reshape False float32 <Policy \"mixed_float16\">\n",
            "block6c_se_reduce False float32 <Policy \"mixed_float16\">\n",
            "block6c_se_expand False float32 <Policy \"mixed_float16\">\n",
            "block6c_se_excite False float32 <Policy \"mixed_float16\">\n",
            "block6c_project_conv False float32 <Policy \"mixed_float16\">\n",
            "block6c_project_bn False float32 <Policy \"mixed_float16\">\n",
            "block6c_drop False float32 <Policy \"mixed_float16\">\n",
            "block6c_add False float32 <Policy \"mixed_float16\">\n",
            "block6d_expand_conv False float32 <Policy \"mixed_float16\">\n",
            "block6d_expand_bn False float32 <Policy \"mixed_float16\">\n",
            "block6d_expand_activation False float32 <Policy \"mixed_float16\">\n",
            "block6d_dwconv False float32 <Policy \"mixed_float16\">\n",
            "block6d_bn False float32 <Policy \"mixed_float16\">\n",
            "block6d_activation False float32 <Policy \"mixed_float16\">\n",
            "block6d_se_squeeze False float32 <Policy \"mixed_float16\">\n",
            "block6d_se_reshape False float32 <Policy \"mixed_float16\">\n",
            "block6d_se_reduce False float32 <Policy \"mixed_float16\">\n",
            "block6d_se_expand False float32 <Policy \"mixed_float16\">\n",
            "block6d_se_excite False float32 <Policy \"mixed_float16\">\n",
            "block6d_project_conv False float32 <Policy \"mixed_float16\">\n",
            "block6d_project_bn False float32 <Policy \"mixed_float16\">\n",
            "block6d_drop False float32 <Policy \"mixed_float16\">\n",
            "block6d_add False float32 <Policy \"mixed_float16\">\n",
            "block7a_expand_conv False float32 <Policy \"mixed_float16\">\n",
            "block7a_expand_bn False float32 <Policy \"mixed_float16\">\n",
            "block7a_expand_activation False float32 <Policy \"mixed_float16\">\n",
            "block7a_dwconv False float32 <Policy \"mixed_float16\">\n",
            "block7a_bn False float32 <Policy \"mixed_float16\">\n",
            "block7a_activation False float32 <Policy \"mixed_float16\">\n",
            "block7a_se_squeeze False float32 <Policy \"mixed_float16\">\n",
            "block7a_se_reshape False float32 <Policy \"mixed_float16\">\n",
            "block7a_se_reduce False float32 <Policy \"mixed_float16\">\n",
            "block7a_se_expand False float32 <Policy \"mixed_float16\">\n",
            "block7a_se_excite False float32 <Policy \"mixed_float16\">\n",
            "block7a_project_conv False float32 <Policy \"mixed_float16\">\n",
            "block7a_project_bn False float32 <Policy \"mixed_float16\">\n",
            "top_conv False float32 <Policy \"mixed_float16\">\n",
            "top_bn False float32 <Policy \"mixed_float16\">\n",
            "top_activation False float32 <Policy \"mixed_float16\">\n"
          ],
          "name": "stdout"
        }
      ]
    },
    {
      "cell_type": "markdown",
      "metadata": {
        "id": "NJz5S66ojyUS"
      },
      "source": [
        "## TK Fit the feature extraction model\n",
        "\n",
        "Now that's one good looking model. Let's fit it to our data shall we?\n",
        "\n",
        "Five epochs should be enough for our top layers to adjust their weights enough to our food image data.\n",
        "\n",
        "To save time per epoch, we'll also only validate on 15% of the test data."
      ]
    },
    {
      "cell_type": "code",
      "metadata": {
        "id": "4v7rXZG-ZkNJ",
        "colab": {
          "base_uri": "https://localhost:8080/"
        },
        "outputId": "7e4912cc-95b8-4774-f4b5-8d6870f3c855"
      },
      "source": [
        "# Fit the model with callbacks\n",
        "history_101_food_classes_feature_extract = model.fit(train_data, \n",
        "                                                     epochs=3,\n",
        "                                                     steps_per_epoch=len(train_data),\n",
        "                                                     validation_data=test_data,\n",
        "                                                     validation_steps=int(0.15 * len(test_data)),\n",
        "                                                     callbacks=[create_tensorboard_callback(\"training_logs\", \n",
        "                                                                                            \"efficientnetb0_101_classes_all_data_feature_extract\"),\n",
        "                                                                model_checkpoint])"
      ],
      "execution_count": 26,
      "outputs": [
        {
          "output_type": "stream",
          "text": [
            "Saving TensorBoard log files to: training_logs/efficientnetb0_101_classes_all_data_feature_extract/20210309-045209\n",
            "Epoch 1/3\n",
            "2368/2368 [==============================] - 219s 77ms/step - loss: 2.3274 - accuracy: 0.4672 - val_loss: 1.2300 - val_accuracy: 0.6740\n",
            "Epoch 2/3\n",
            "2368/2368 [==============================] - 159s 67ms/step - loss: 1.2981 - accuracy: 0.6658 - val_loss: 1.1288 - val_accuracy: 0.6989\n",
            "Epoch 3/3\n",
            "2368/2368 [==============================] - 158s 66ms/step - loss: 1.1371 - accuracy: 0.7029 - val_loss: 1.0856 - val_accuracy: 0.7076\n"
          ],
          "name": "stdout"
        }
      ]
    },
    {
      "cell_type": "markdown",
      "metadata": {
        "id": "xg01Gh3EnQSu"
      },
      "source": [
        "Nice, looks like our feature extraction model is performing pretty well. How about we evaluate it on the whole test dataset?"
      ]
    },
    {
      "cell_type": "code",
      "metadata": {
        "id": "jhV7fvTreV27",
        "colab": {
          "base_uri": "https://localhost:8080/"
        },
        "outputId": "8d2cc051-9fc2-4cfd-84f0-1df9a5fe94c8"
      },
      "source": [
        "# Evaluate model (unsaved version) on whole test dataset\n",
        "results_feature_extract_model = model.evaluate(test_data)\n",
        "results_feature_extract_model"
      ],
      "execution_count": 27,
      "outputs": [
        {
          "output_type": "stream",
          "text": [
            "790/790 [==============================] - 54s 69ms/step - loss: 1.0917 - accuracy: 0.7053\n"
          ],
          "name": "stdout"
        },
        {
          "output_type": "execute_result",
          "data": {
            "text/plain": [
              "[1.0916588306427002, 0.7053465247154236]"
            ]
          },
          "metadata": {
            "tags": []
          },
          "execution_count": 27
        }
      ]
    },
    {
      "cell_type": "markdown",
      "metadata": {
        "id": "TI0li4ZenctF"
      },
      "source": [
        "And since we used the `ModelCheckpoint` callback, we've got a saved version of our model in the `model_checkpoints` directory.\n",
        "\n",
        "Let's load it in and make sure it performs just as well.\n",
        "\n",
        "TK - update checkpoint path to save .cpkt and then load .cpkt..."
      ]
    },
    {
      "cell_type": "markdown",
      "metadata": {
        "id": "nNGoI1cS21um"
      },
      "source": [
        "## TK - Load and evaluate checkpoint weights"
      ]
    },
    {
      "cell_type": "code",
      "metadata": {
        "colab": {
          "base_uri": "https://localhost:8080/"
        },
        "id": "C5a_eh9RKBSY",
        "outputId": "f056ace2-e91a-4476-dfe7-84160a8d7f6d"
      },
      "source": [
        "# Clone the model we created (this resets all weights)\n",
        "cloned_model = tf.keras.models.clone_model(model)\n",
        "cloned_model.summary()"
      ],
      "execution_count": 28,
      "outputs": [
        {
          "output_type": "stream",
          "text": [
            "Model: \"model\"\n",
            "_________________________________________________________________\n",
            "Layer (type)                 Output Shape              Param #   \n",
            "=================================================================\n",
            "input_layer (InputLayer)     [(None, 224, 224, 3)]     0         \n",
            "_________________________________________________________________\n",
            "efficientnetb0 (Functional)  (None, None, None, 1280)  4049571   \n",
            "_________________________________________________________________\n",
            "pooling_layer (GlobalAverage (None, 1280)              0         \n",
            "_________________________________________________________________\n",
            "dense (Dense)                (None, 101)               129381    \n",
            "_________________________________________________________________\n",
            "softmax_float32 (Activation) (None, 101)               0         \n",
            "=================================================================\n",
            "Total params: 4,178,952\n",
            "Trainable params: 129,381\n",
            "Non-trainable params: 4,049,571\n",
            "_________________________________________________________________\n"
          ],
          "name": "stdout"
        }
      ]
    },
    {
      "cell_type": "code",
      "metadata": {
        "colab": {
          "base_uri": "https://localhost:8080/"
        },
        "id": "mnagdIagKGZY",
        "outputId": "dfe13401-f5cc-4212-e6b1-a3d29847c98f"
      },
      "source": [
        "# Load checkpointed weights into cloned_model\n",
        "cloned_model.load_weights(checkpoint_path)"
      ],
      "execution_count": 29,
      "outputs": [
        {
          "output_type": "execute_result",
          "data": {
            "text/plain": [
              "<tensorflow.python.training.tracking.util.CheckpointLoadStatus at 0x7fd85fffb790>"
            ]
          },
          "metadata": {
            "tags": []
          },
          "execution_count": 29
        }
      ]
    },
    {
      "cell_type": "code",
      "metadata": {
        "id": "So0ybUwRKNSf"
      },
      "source": [
        "# Compile cloned_model (with same parameters as original model)\n",
        "cloned_model.compile(loss=\"sparse_categorical_crossentropy\",\n",
        "                     optimizer=tf.keras.optimizers.Adam(),\n",
        "                     metrics=[\"accuracy\"])"
      ],
      "execution_count": 30,
      "outputs": []
    },
    {
      "cell_type": "code",
      "metadata": {
        "colab": {
          "base_uri": "https://localhost:8080/"
        },
        "id": "aZtbkOhHKKLs",
        "outputId": "6992df55-c336-4f29-ac72-eb8ab5c00bfb"
      },
      "source": [
        "# Evalaute cloned model with loaded weights (should be same score as trained model)\n",
        "results_cloned_model_with_loaded_weights = cloned_model.evaluate(test_data)"
      ],
      "execution_count": 31,
      "outputs": [
        {
          "output_type": "stream",
          "text": [
            "790/790 [==============================] - 48s 58ms/step - loss: 1.0933 - accuracy: 0.7042\n"
          ],
          "name": "stdout"
        }
      ]
    },
    {
      "cell_type": "code",
      "metadata": {
        "id": "zbcuQQgz5tNX"
      },
      "source": [
        "# Loaded checkpoint weights should return very similar results to checkpoint weights prior to saving\n",
        "import numpy as np\n",
        "assert np.isclose(results_feature_extract_model, results_cloned_model_with_loaded_weights).all() # check if all elements in array are close"
      ],
      "execution_count": 32,
      "outputs": []
    },
    {
      "cell_type": "markdown",
      "metadata": {
        "id": "n6j46R_L3VED"
      },
      "source": [
        "TK - cloning the model preserves `dtype_policy`'s of layers (but doesn't preserve weights).\n",
        "\n",
        "TK 🔑 **Note:** `layer.dtype` and `layer.dtype_policy` are two different things. For example, a layers `.dtype` attribute may return `float32` but a layers `.dtype_policy` attribute may return `\"mixed_float16\"`. (TK - why is this so?)"
      ]
    },
    {
      "cell_type": "code",
      "metadata": {
        "colab": {
          "base_uri": "https://localhost:8080/"
        },
        "id": "YjCO0tm9Je3N",
        "outputId": "8c0ff168-761c-4f80-9a46-b07e5e7ab0ff"
      },
      "source": [
        "# Check the layers in the base model and see what dtype policy they're using\n",
        "for layer in cloned_model.layers[1].layers:\n",
        "  print(layer.name, layer.trainable, layer.dtype, layer.dtype_policy)"
      ],
      "execution_count": 33,
      "outputs": [
        {
          "output_type": "stream",
          "text": [
            "input_1 True float32 <Policy \"float32\">\n",
            "rescaling False float32 <Policy \"mixed_float16\">\n",
            "normalization False float32 <Policy \"float32\">\n",
            "stem_conv_pad False float32 <Policy \"mixed_float16\">\n",
            "stem_conv False float32 <Policy \"mixed_float16\">\n",
            "stem_bn False float32 <Policy \"mixed_float16\">\n",
            "stem_activation False float32 <Policy \"mixed_float16\">\n",
            "block1a_dwconv False float32 <Policy \"mixed_float16\">\n",
            "block1a_bn False float32 <Policy \"mixed_float16\">\n",
            "block1a_activation False float32 <Policy \"mixed_float16\">\n",
            "block1a_se_squeeze False float32 <Policy \"mixed_float16\">\n",
            "block1a_se_reshape False float32 <Policy \"mixed_float16\">\n",
            "block1a_se_reduce False float32 <Policy \"mixed_float16\">\n",
            "block1a_se_expand False float32 <Policy \"mixed_float16\">\n",
            "block1a_se_excite False float32 <Policy \"mixed_float16\">\n",
            "block1a_project_conv False float32 <Policy \"mixed_float16\">\n",
            "block1a_project_bn False float32 <Policy \"mixed_float16\">\n",
            "block2a_expand_conv False float32 <Policy \"mixed_float16\">\n",
            "block2a_expand_bn False float32 <Policy \"mixed_float16\">\n",
            "block2a_expand_activation False float32 <Policy \"mixed_float16\">\n",
            "block2a_dwconv_pad False float32 <Policy \"mixed_float16\">\n",
            "block2a_dwconv False float32 <Policy \"mixed_float16\">\n",
            "block2a_bn False float32 <Policy \"mixed_float16\">\n",
            "block2a_activation False float32 <Policy \"mixed_float16\">\n",
            "block2a_se_squeeze False float32 <Policy \"mixed_float16\">\n",
            "block2a_se_reshape False float32 <Policy \"mixed_float16\">\n",
            "block2a_se_reduce False float32 <Policy \"mixed_float16\">\n",
            "block2a_se_expand False float32 <Policy \"mixed_float16\">\n",
            "block2a_se_excite False float32 <Policy \"mixed_float16\">\n",
            "block2a_project_conv False float32 <Policy \"mixed_float16\">\n",
            "block2a_project_bn False float32 <Policy \"mixed_float16\">\n",
            "block2b_expand_conv False float32 <Policy \"mixed_float16\">\n",
            "block2b_expand_bn False float32 <Policy \"mixed_float16\">\n",
            "block2b_expand_activation False float32 <Policy \"mixed_float16\">\n",
            "block2b_dwconv False float32 <Policy \"mixed_float16\">\n",
            "block2b_bn False float32 <Policy \"mixed_float16\">\n",
            "block2b_activation False float32 <Policy \"mixed_float16\">\n",
            "block2b_se_squeeze False float32 <Policy \"mixed_float16\">\n",
            "block2b_se_reshape False float32 <Policy \"mixed_float16\">\n",
            "block2b_se_reduce False float32 <Policy \"mixed_float16\">\n",
            "block2b_se_expand False float32 <Policy \"mixed_float16\">\n",
            "block2b_se_excite False float32 <Policy \"mixed_float16\">\n",
            "block2b_project_conv False float32 <Policy \"mixed_float16\">\n",
            "block2b_project_bn False float32 <Policy \"mixed_float16\">\n",
            "block2b_drop False float32 <Policy \"mixed_float16\">\n",
            "block2b_add False float32 <Policy \"mixed_float16\">\n",
            "block3a_expand_conv False float32 <Policy \"mixed_float16\">\n",
            "block3a_expand_bn False float32 <Policy \"mixed_float16\">\n",
            "block3a_expand_activation False float32 <Policy \"mixed_float16\">\n",
            "block3a_dwconv_pad False float32 <Policy \"mixed_float16\">\n",
            "block3a_dwconv False float32 <Policy \"mixed_float16\">\n",
            "block3a_bn False float32 <Policy \"mixed_float16\">\n",
            "block3a_activation False float32 <Policy \"mixed_float16\">\n",
            "block3a_se_squeeze False float32 <Policy \"mixed_float16\">\n",
            "block3a_se_reshape False float32 <Policy \"mixed_float16\">\n",
            "block3a_se_reduce False float32 <Policy \"mixed_float16\">\n",
            "block3a_se_expand False float32 <Policy \"mixed_float16\">\n",
            "block3a_se_excite False float32 <Policy \"mixed_float16\">\n",
            "block3a_project_conv False float32 <Policy \"mixed_float16\">\n",
            "block3a_project_bn False float32 <Policy \"mixed_float16\">\n",
            "block3b_expand_conv False float32 <Policy \"mixed_float16\">\n",
            "block3b_expand_bn False float32 <Policy \"mixed_float16\">\n",
            "block3b_expand_activation False float32 <Policy \"mixed_float16\">\n",
            "block3b_dwconv False float32 <Policy \"mixed_float16\">\n",
            "block3b_bn False float32 <Policy \"mixed_float16\">\n",
            "block3b_activation False float32 <Policy \"mixed_float16\">\n",
            "block3b_se_squeeze False float32 <Policy \"mixed_float16\">\n",
            "block3b_se_reshape False float32 <Policy \"mixed_float16\">\n",
            "block3b_se_reduce False float32 <Policy \"mixed_float16\">\n",
            "block3b_se_expand False float32 <Policy \"mixed_float16\">\n",
            "block3b_se_excite False float32 <Policy \"mixed_float16\">\n",
            "block3b_project_conv False float32 <Policy \"mixed_float16\">\n",
            "block3b_project_bn False float32 <Policy \"mixed_float16\">\n",
            "block3b_drop False float32 <Policy \"mixed_float16\">\n",
            "block3b_add False float32 <Policy \"mixed_float16\">\n",
            "block4a_expand_conv False float32 <Policy \"mixed_float16\">\n",
            "block4a_expand_bn False float32 <Policy \"mixed_float16\">\n",
            "block4a_expand_activation False float32 <Policy \"mixed_float16\">\n",
            "block4a_dwconv_pad False float32 <Policy \"mixed_float16\">\n",
            "block4a_dwconv False float32 <Policy \"mixed_float16\">\n",
            "block4a_bn False float32 <Policy \"mixed_float16\">\n",
            "block4a_activation False float32 <Policy \"mixed_float16\">\n",
            "block4a_se_squeeze False float32 <Policy \"mixed_float16\">\n",
            "block4a_se_reshape False float32 <Policy \"mixed_float16\">\n",
            "block4a_se_reduce False float32 <Policy \"mixed_float16\">\n",
            "block4a_se_expand False float32 <Policy \"mixed_float16\">\n",
            "block4a_se_excite False float32 <Policy \"mixed_float16\">\n",
            "block4a_project_conv False float32 <Policy \"mixed_float16\">\n",
            "block4a_project_bn False float32 <Policy \"mixed_float16\">\n",
            "block4b_expand_conv False float32 <Policy \"mixed_float16\">\n",
            "block4b_expand_bn False float32 <Policy \"mixed_float16\">\n",
            "block4b_expand_activation False float32 <Policy \"mixed_float16\">\n",
            "block4b_dwconv False float32 <Policy \"mixed_float16\">\n",
            "block4b_bn False float32 <Policy \"mixed_float16\">\n",
            "block4b_activation False float32 <Policy \"mixed_float16\">\n",
            "block4b_se_squeeze False float32 <Policy \"mixed_float16\">\n",
            "block4b_se_reshape False float32 <Policy \"mixed_float16\">\n",
            "block4b_se_reduce False float32 <Policy \"mixed_float16\">\n",
            "block4b_se_expand False float32 <Policy \"mixed_float16\">\n",
            "block4b_se_excite False float32 <Policy \"mixed_float16\">\n",
            "block4b_project_conv False float32 <Policy \"mixed_float16\">\n",
            "block4b_project_bn False float32 <Policy \"mixed_float16\">\n",
            "block4b_drop False float32 <Policy \"mixed_float16\">\n",
            "block4b_add False float32 <Policy \"mixed_float16\">\n",
            "block4c_expand_conv False float32 <Policy \"mixed_float16\">\n",
            "block4c_expand_bn False float32 <Policy \"mixed_float16\">\n",
            "block4c_expand_activation False float32 <Policy \"mixed_float16\">\n",
            "block4c_dwconv False float32 <Policy \"mixed_float16\">\n",
            "block4c_bn False float32 <Policy \"mixed_float16\">\n",
            "block4c_activation False float32 <Policy \"mixed_float16\">\n",
            "block4c_se_squeeze False float32 <Policy \"mixed_float16\">\n",
            "block4c_se_reshape False float32 <Policy \"mixed_float16\">\n",
            "block4c_se_reduce False float32 <Policy \"mixed_float16\">\n",
            "block4c_se_expand False float32 <Policy \"mixed_float16\">\n",
            "block4c_se_excite False float32 <Policy \"mixed_float16\">\n",
            "block4c_project_conv False float32 <Policy \"mixed_float16\">\n",
            "block4c_project_bn False float32 <Policy \"mixed_float16\">\n",
            "block4c_drop False float32 <Policy \"mixed_float16\">\n",
            "block4c_add False float32 <Policy \"mixed_float16\">\n",
            "block5a_expand_conv False float32 <Policy \"mixed_float16\">\n",
            "block5a_expand_bn False float32 <Policy \"mixed_float16\">\n",
            "block5a_expand_activation False float32 <Policy \"mixed_float16\">\n",
            "block5a_dwconv False float32 <Policy \"mixed_float16\">\n",
            "block5a_bn False float32 <Policy \"mixed_float16\">\n",
            "block5a_activation False float32 <Policy \"mixed_float16\">\n",
            "block5a_se_squeeze False float32 <Policy \"mixed_float16\">\n",
            "block5a_se_reshape False float32 <Policy \"mixed_float16\">\n",
            "block5a_se_reduce False float32 <Policy \"mixed_float16\">\n",
            "block5a_se_expand False float32 <Policy \"mixed_float16\">\n",
            "block5a_se_excite False float32 <Policy \"mixed_float16\">\n",
            "block5a_project_conv False float32 <Policy \"mixed_float16\">\n",
            "block5a_project_bn False float32 <Policy \"mixed_float16\">\n",
            "block5b_expand_conv False float32 <Policy \"mixed_float16\">\n",
            "block5b_expand_bn False float32 <Policy \"mixed_float16\">\n",
            "block5b_expand_activation False float32 <Policy \"mixed_float16\">\n",
            "block5b_dwconv False float32 <Policy \"mixed_float16\">\n",
            "block5b_bn False float32 <Policy \"mixed_float16\">\n",
            "block5b_activation False float32 <Policy \"mixed_float16\">\n",
            "block5b_se_squeeze False float32 <Policy \"mixed_float16\">\n",
            "block5b_se_reshape False float32 <Policy \"mixed_float16\">\n",
            "block5b_se_reduce False float32 <Policy \"mixed_float16\">\n",
            "block5b_se_expand False float32 <Policy \"mixed_float16\">\n",
            "block5b_se_excite False float32 <Policy \"mixed_float16\">\n",
            "block5b_project_conv False float32 <Policy \"mixed_float16\">\n",
            "block5b_project_bn False float32 <Policy \"mixed_float16\">\n",
            "block5b_drop False float32 <Policy \"mixed_float16\">\n",
            "block5b_add False float32 <Policy \"mixed_float16\">\n",
            "block5c_expand_conv False float32 <Policy \"mixed_float16\">\n",
            "block5c_expand_bn False float32 <Policy \"mixed_float16\">\n",
            "block5c_expand_activation False float32 <Policy \"mixed_float16\">\n",
            "block5c_dwconv False float32 <Policy \"mixed_float16\">\n",
            "block5c_bn False float32 <Policy \"mixed_float16\">\n",
            "block5c_activation False float32 <Policy \"mixed_float16\">\n",
            "block5c_se_squeeze False float32 <Policy \"mixed_float16\">\n",
            "block5c_se_reshape False float32 <Policy \"mixed_float16\">\n",
            "block5c_se_reduce False float32 <Policy \"mixed_float16\">\n",
            "block5c_se_expand False float32 <Policy \"mixed_float16\">\n",
            "block5c_se_excite False float32 <Policy \"mixed_float16\">\n",
            "block5c_project_conv False float32 <Policy \"mixed_float16\">\n",
            "block5c_project_bn False float32 <Policy \"mixed_float16\">\n",
            "block5c_drop False float32 <Policy \"mixed_float16\">\n",
            "block5c_add False float32 <Policy \"mixed_float16\">\n",
            "block6a_expand_conv False float32 <Policy \"mixed_float16\">\n",
            "block6a_expand_bn False float32 <Policy \"mixed_float16\">\n",
            "block6a_expand_activation False float32 <Policy \"mixed_float16\">\n",
            "block6a_dwconv_pad False float32 <Policy \"mixed_float16\">\n",
            "block6a_dwconv False float32 <Policy \"mixed_float16\">\n",
            "block6a_bn False float32 <Policy \"mixed_float16\">\n",
            "block6a_activation False float32 <Policy \"mixed_float16\">\n",
            "block6a_se_squeeze False float32 <Policy \"mixed_float16\">\n",
            "block6a_se_reshape False float32 <Policy \"mixed_float16\">\n",
            "block6a_se_reduce False float32 <Policy \"mixed_float16\">\n",
            "block6a_se_expand False float32 <Policy \"mixed_float16\">\n",
            "block6a_se_excite False float32 <Policy \"mixed_float16\">\n",
            "block6a_project_conv False float32 <Policy \"mixed_float16\">\n",
            "block6a_project_bn False float32 <Policy \"mixed_float16\">\n",
            "block6b_expand_conv False float32 <Policy \"mixed_float16\">\n",
            "block6b_expand_bn False float32 <Policy \"mixed_float16\">\n",
            "block6b_expand_activation False float32 <Policy \"mixed_float16\">\n",
            "block6b_dwconv False float32 <Policy \"mixed_float16\">\n",
            "block6b_bn False float32 <Policy \"mixed_float16\">\n",
            "block6b_activation False float32 <Policy \"mixed_float16\">\n",
            "block6b_se_squeeze False float32 <Policy \"mixed_float16\">\n",
            "block6b_se_reshape False float32 <Policy \"mixed_float16\">\n",
            "block6b_se_reduce False float32 <Policy \"mixed_float16\">\n",
            "block6b_se_expand False float32 <Policy \"mixed_float16\">\n",
            "block6b_se_excite False float32 <Policy \"mixed_float16\">\n",
            "block6b_project_conv False float32 <Policy \"mixed_float16\">\n",
            "block6b_project_bn False float32 <Policy \"mixed_float16\">\n",
            "block6b_drop False float32 <Policy \"mixed_float16\">\n",
            "block6b_add False float32 <Policy \"mixed_float16\">\n",
            "block6c_expand_conv False float32 <Policy \"mixed_float16\">\n",
            "block6c_expand_bn False float32 <Policy \"mixed_float16\">\n",
            "block6c_expand_activation False float32 <Policy \"mixed_float16\">\n",
            "block6c_dwconv False float32 <Policy \"mixed_float16\">\n",
            "block6c_bn False float32 <Policy \"mixed_float16\">\n",
            "block6c_activation False float32 <Policy \"mixed_float16\">\n",
            "block6c_se_squeeze False float32 <Policy \"mixed_float16\">\n",
            "block6c_se_reshape False float32 <Policy \"mixed_float16\">\n",
            "block6c_se_reduce False float32 <Policy \"mixed_float16\">\n",
            "block6c_se_expand False float32 <Policy \"mixed_float16\">\n",
            "block6c_se_excite False float32 <Policy \"mixed_float16\">\n",
            "block6c_project_conv False float32 <Policy \"mixed_float16\">\n",
            "block6c_project_bn False float32 <Policy \"mixed_float16\">\n",
            "block6c_drop False float32 <Policy \"mixed_float16\">\n",
            "block6c_add False float32 <Policy \"mixed_float16\">\n",
            "block6d_expand_conv False float32 <Policy \"mixed_float16\">\n",
            "block6d_expand_bn False float32 <Policy \"mixed_float16\">\n",
            "block6d_expand_activation False float32 <Policy \"mixed_float16\">\n",
            "block6d_dwconv False float32 <Policy \"mixed_float16\">\n",
            "block6d_bn False float32 <Policy \"mixed_float16\">\n",
            "block6d_activation False float32 <Policy \"mixed_float16\">\n",
            "block6d_se_squeeze False float32 <Policy \"mixed_float16\">\n",
            "block6d_se_reshape False float32 <Policy \"mixed_float16\">\n",
            "block6d_se_reduce False float32 <Policy \"mixed_float16\">\n",
            "block6d_se_expand False float32 <Policy \"mixed_float16\">\n",
            "block6d_se_excite False float32 <Policy \"mixed_float16\">\n",
            "block6d_project_conv False float32 <Policy \"mixed_float16\">\n",
            "block6d_project_bn False float32 <Policy \"mixed_float16\">\n",
            "block6d_drop False float32 <Policy \"mixed_float16\">\n",
            "block6d_add False float32 <Policy \"mixed_float16\">\n",
            "block7a_expand_conv False float32 <Policy \"mixed_float16\">\n",
            "block7a_expand_bn False float32 <Policy \"mixed_float16\">\n",
            "block7a_expand_activation False float32 <Policy \"mixed_float16\">\n",
            "block7a_dwconv False float32 <Policy \"mixed_float16\">\n",
            "block7a_bn False float32 <Policy \"mixed_float16\">\n",
            "block7a_activation False float32 <Policy \"mixed_float16\">\n",
            "block7a_se_squeeze False float32 <Policy \"mixed_float16\">\n",
            "block7a_se_reshape False float32 <Policy \"mixed_float16\">\n",
            "block7a_se_reduce False float32 <Policy \"mixed_float16\">\n",
            "block7a_se_expand False float32 <Policy \"mixed_float16\">\n",
            "block7a_se_excite False float32 <Policy \"mixed_float16\">\n",
            "block7a_project_conv False float32 <Policy \"mixed_float16\">\n",
            "block7a_project_bn False float32 <Policy \"mixed_float16\">\n",
            "top_conv False float32 <Policy \"mixed_float16\">\n",
            "top_bn False float32 <Policy \"mixed_float16\">\n",
            "top_activation False float32 <Policy \"mixed_float16\">\n"
          ],
          "name": "stdout"
        }
      ]
    },
    {
      "cell_type": "markdown",
      "metadata": {
        "id": "EvTGiIFv3eOe"
      },
      "source": [
        "## TK - Save the whole model to file\n",
        "\n",
        "We can also save the whole model using the [`save()`](https://www.tensorflow.org/api_docs/python/tf/keras/Model#save) method.\n",
        "\n",
        "TK - You can save the model to Google Drive directly from Colab if you wish (see cell below)."
      ]
    },
    {
      "cell_type": "code",
      "metadata": {
        "id": "CH4jkVPBoPhe"
      },
      "source": [
        "# ## Saving model to Google Drive (optional)\n",
        "\n",
        "# # Create save path to drive \n",
        "# save_dir = \"drive/MyDrive/tensorflow_course/food_vision/07_efficientnetb0_feature_extract_model_mixed_precision/\"\n",
        "# # os.makedirs(save_dir) # Make directory if it doesn't exist\n",
        "\n",
        "# # Save model\n",
        "# model.save(save_dir)"
      ],
      "execution_count": 35,
      "outputs": []
    },
    {
      "cell_type": "code",
      "metadata": {
        "colab": {
          "base_uri": "https://localhost:8080/"
        },
        "id": "RHKn4Ex57wzF",
        "outputId": "9f796b7e-59eb-4009-916c-da6eae7e82e7"
      },
      "source": [
        "# Save model locally (note: Google Colab storage is ephemeral and your model will delete itself when the Colab session expires)\n",
        "save_dir = \"07_efficientnetb0_feature_extract_model_mixed_precision\"\n",
        "model.save(save_dir)"
      ],
      "execution_count": 34,
      "outputs": [
        {
          "output_type": "stream",
          "text": [
            "INFO:tensorflow:Assets written to: 07_efficientnetb0_feature_extract_model_mixed_precision/assets\n"
          ],
          "name": "stdout"
        },
        {
          "output_type": "stream",
          "text": [
            "INFO:tensorflow:Assets written to: 07_efficientnetb0_feature_extract_model_mixed_precision/assets\n"
          ],
          "name": "stderr"
        }
      ]
    },
    {
      "cell_type": "markdown",
      "metadata": {
        "id": "QKiEXBC6n83F"
      },
      "source": [
        "And again, we can check whether or not our model saved correctly by loading it in and evaluating it.\n",
        "\n",
        "TK - add code for downloading a model from GS and using it in this notebook"
      ]
    },
    {
      "cell_type": "code",
      "metadata": {
        "id": "bKGDBKrU6rej",
        "colab": {
          "base_uri": "https://localhost:8080/"
        },
        "outputId": "c7224208-fac8-438a-b542-9860878306e7"
      },
      "source": [
        "# Load model previously saved above\n",
        "loaded_saved_model = tf.keras.models.load_model(save_dir)"
      ],
      "execution_count": 36,
      "outputs": [
        {
          "output_type": "stream",
          "text": [
            "WARNING:absl:Importing a function (__inference_block6b_expand_activation_layer_call_and_return_conditional_losses_60395) with ops with custom gradients. Will likely fail if a gradient is requested.\n",
            "WARNING:absl:Importing a function (__inference_block4c_se_reduce_layer_call_and_return_conditional_losses_92134) with ops with custom gradients. Will likely fail if a gradient is requested.\n",
            "WARNING:absl:Importing a function (__inference_block5c_expand_activation_layer_call_and_return_conditional_losses_59771) with ops with custom gradients. Will likely fail if a gradient is requested.\n",
            "WARNING:absl:Importing a function (__inference_block5a_activation_layer_call_and_return_conditional_losses_92465) with ops with custom gradients. Will likely fail if a gradient is requested.\n",
            "WARNING:absl:Importing a function (__inference_block6d_expand_activation_layer_call_and_return_conditional_losses_61071) with ops with custom gradients. Will likely fail if a gradient is requested.\n",
            "WARNING:absl:Importing a function (__inference_block5a_expand_activation_layer_call_and_return_conditional_losses_59148) with ops with custom gradients. Will likely fail if a gradient is requested.\n",
            "WARNING:absl:Importing a function (__inference_block6d_expand_activation_layer_call_and_return_conditional_losses_94532) with ops with custom gradients. Will likely fail if a gradient is requested.\n",
            "WARNING:absl:Importing a function (__inference_block5a_se_reduce_layer_call_and_return_conditional_losses_92507) with ops with custom gradients. Will likely fail if a gradient is requested.\n",
            "WARNING:absl:Importing a function (__inference_block5a_activation_layer_call_and_return_conditional_losses_59204) with ops with custom gradients. Will likely fail if a gradient is requested.\n",
            "WARNING:absl:Importing a function (__inference_block6b_activation_layer_call_and_return_conditional_losses_93863) with ops with custom gradients. Will likely fail if a gradient is requested.\n",
            "WARNING:absl:Importing a function (__inference_block5c_se_reduce_layer_call_and_return_conditional_losses_93206) with ops with custom gradients. Will likely fail if a gradient is requested.\n",
            "WARNING:absl:Importing a function (__inference_stem_activation_layer_call_and_return_conditional_losses_56653) with ops with custom gradients. Will likely fail if a gradient is requested.\n",
            "WARNING:absl:Importing a function (__inference_block2a_se_reduce_layer_call_and_return_conditional_losses_57044) with ops with custom gradients. Will likely fail if a gradient is requested.\n",
            "WARNING:absl:Importing a function (__inference_block2b_activation_layer_call_and_return_conditional_losses_57280) with ops with custom gradients. Will likely fail if a gradient is requested.\n",
            "WARNING:absl:Importing a function (__inference_block4a_se_reduce_layer_call_and_return_conditional_losses_58292) with ops with custom gradients. Will likely fail if a gradient is requested.\n",
            "WARNING:absl:Importing a function (__inference_block6b_activation_layer_call_and_return_conditional_losses_60451) with ops with custom gradients. Will likely fail if a gradient is requested.\n",
            "WARNING:absl:Importing a function (__inference_block4b_se_reduce_layer_call_and_return_conditional_losses_91761) with ops with custom gradients. Will likely fail if a gradient is requested.\n",
            "WARNING:absl:Importing a function (__inference_block3b_activation_layer_call_and_return_conditional_losses_57904) with ops with custom gradients. Will likely fail if a gradient is requested.\n",
            "WARNING:absl:Importing a function (__inference_block2a_activation_layer_call_and_return_conditional_losses_56995) with ops with custom gradients. Will likely fail if a gradient is requested.\n",
            "WARNING:absl:Importing a function (__inference_block6d_se_reduce_layer_call_and_return_conditional_losses_61176) with ops with custom gradients. Will likely fail if a gradient is requested.\n",
            "WARNING:absl:Importing a function (__inference_block7a_activation_layer_call_and_return_conditional_losses_61465) with ops with custom gradients. Will likely fail if a gradient is requested.\n",
            "WARNING:absl:Importing a function (__inference_block2b_expand_activation_layer_call_and_return_conditional_losses_57224) with ops with custom gradients. Will likely fail if a gradient is requested.\n",
            "WARNING:absl:Importing a function (__inference_block4c_expand_activation_layer_call_and_return_conditional_losses_58810) with ops with custom gradients. Will likely fail if a gradient is requested.\n",
            "WARNING:absl:Importing a function (__inference_block6a_expand_activation_layer_call_and_return_conditional_losses_60109) with ops with custom gradients. Will likely fail if a gradient is requested.\n",
            "WARNING:absl:Importing a function (__inference_block4b_activation_layer_call_and_return_conditional_losses_58528) with ops with custom gradients. Will likely fail if a gradient is requested.\n",
            "WARNING:absl:Importing a function (__inference_block7a_expand_activation_layer_call_and_return_conditional_losses_94905) with ops with custom gradients. Will likely fail if a gradient is requested.\n",
            "WARNING:absl:Importing a function (__inference_block2a_se_reduce_layer_call_and_return_conditional_losses_90037) with ops with custom gradients. Will likely fail if a gradient is requested.\n",
            "WARNING:absl:Importing a function (__inference_efficientnetb0_layer_call_and_return_conditional_losses_86478) with ops with custom gradients. Will likely fail if a gradient is requested.\n",
            "WARNING:absl:Importing a function (__inference_efficientnetb0_layer_call_and_return_conditional_losses_86478) with ops with custom gradients. Will likely fail if a gradient is requested.\n",
            "WARNING:absl:Importing a function (__inference_efficientnetb0_layer_call_and_return_conditional_losses_86478) with ops with custom gradients. Will likely fail if a gradient is requested.\n",
            "WARNING:absl:Importing a function (__inference_efficientnetb0_layer_call_and_return_conditional_losses_86478) with ops with custom gradients. Will likely fail if a gradient is requested.\n",
            "WARNING:absl:Importing a function (__inference_efficientnetb0_layer_call_and_return_conditional_losses_86478) with ops with custom gradients. Will likely fail if a gradient is requested.\n",
            "WARNING:absl:Importing a function (__inference_efficientnetb0_layer_call_and_return_conditional_losses_86478) with ops with custom gradients. Will likely fail if a gradient is requested.\n",
            "WARNING:absl:Importing a function (__inference_efficientnetb0_layer_call_and_return_conditional_losses_86478) with ops with custom gradients. Will likely fail if a gradient is requested.\n",
            "WARNING:absl:Importing a function (__inference_efficientnetb0_layer_call_and_return_conditional_losses_86478) with ops with custom gradients. Will likely fail if a gradient is requested.\n",
            "WARNING:absl:Importing a function (__inference_efficientnetb0_layer_call_and_return_conditional_losses_86478) with ops with custom gradients. Will likely fail if a gradient is requested.\n",
            "WARNING:absl:Importing a function (__inference_efficientnetb0_layer_call_and_return_conditional_losses_86478) with ops with custom gradients. Will likely fail if a gradient is requested.\n",
            "WARNING:absl:Importing a function (__inference_efficientnetb0_layer_call_and_return_conditional_losses_86478) with ops with custom gradients. Will likely fail if a gradient is requested.\n",
            "WARNING:absl:Importing a function (__inference_efficientnetb0_layer_call_and_return_conditional_losses_86478) with ops with custom gradients. Will likely fail if a gradient is requested.\n",
            "WARNING:absl:Importing a function (__inference_efficientnetb0_layer_call_and_return_conditional_losses_86478) with ops with custom gradients. Will likely fail if a gradient is requested.\n",
            "WARNING:absl:Importing a function (__inference_efficientnetb0_layer_call_and_return_conditional_losses_86478) with ops with custom gradients. Will likely fail if a gradient is requested.\n",
            "WARNING:absl:Importing a function (__inference_efficientnetb0_layer_call_and_return_conditional_losses_86478) with ops with custom gradients. Will likely fail if a gradient is requested.\n",
            "WARNING:absl:Importing a function (__inference_efficientnetb0_layer_call_and_return_conditional_losses_86478) with ops with custom gradients. Will likely fail if a gradient is requested.\n",
            "WARNING:absl:Importing a function (__inference_efficientnetb0_layer_call_and_return_conditional_losses_86478) with ops with custom gradients. Will likely fail if a gradient is requested.\n",
            "WARNING:absl:Importing a function (__inference_efficientnetb0_layer_call_and_return_conditional_losses_86478) with ops with custom gradients. Will likely fail if a gradient is requested.\n",
            "WARNING:absl:Importing a function (__inference_efficientnetb0_layer_call_and_return_conditional_losses_86478) with ops with custom gradients. Will likely fail if a gradient is requested.\n",
            "WARNING:absl:Importing a function (__inference_efficientnetb0_layer_call_and_return_conditional_losses_86478) with ops with custom gradients. Will likely fail if a gradient is requested.\n",
            "WARNING:absl:Importing a function (__inference_efficientnetb0_layer_call_and_return_conditional_losses_86478) with ops with custom gradients. Will likely fail if a gradient is requested.\n",
            "WARNING:absl:Importing a function (__inference_efficientnetb0_layer_call_and_return_conditional_losses_86478) with ops with custom gradients. Will likely fail if a gradient is requested.\n",
            "WARNING:absl:Importing a function (__inference_efficientnetb0_layer_call_and_return_conditional_losses_86478) with ops with custom gradients. Will likely fail if a gradient is requested.\n",
            "WARNING:absl:Importing a function (__inference_efficientnetb0_layer_call_and_return_conditional_losses_86478) with ops with custom gradients. Will likely fail if a gradient is requested.\n",
            "WARNING:absl:Importing a function (__inference_efficientnetb0_layer_call_and_return_conditional_losses_86478) with ops with custom gradients. Will likely fail if a gradient is requested.\n",
            "WARNING:absl:Importing a function (__inference_efficientnetb0_layer_call_and_return_conditional_losses_86478) with ops with custom gradients. Will likely fail if a gradient is requested.\n",
            "WARNING:absl:Importing a function (__inference_efficientnetb0_layer_call_and_return_conditional_losses_86478) with ops with custom gradients. Will likely fail if a gradient is requested.\n",
            "WARNING:absl:Importing a function (__inference_efficientnetb0_layer_call_and_return_conditional_losses_86478) with ops with custom gradients. Will likely fail if a gradient is requested.\n",
            "WARNING:absl:Importing a function (__inference_efficientnetb0_layer_call_and_return_conditional_losses_86478) with ops with custom gradients. Will likely fail if a gradient is requested.\n",
            "WARNING:absl:Importing a function (__inference_efficientnetb0_layer_call_and_return_conditional_losses_86478) with ops with custom gradients. Will likely fail if a gradient is requested.\n",
            "WARNING:absl:Importing a function (__inference_efficientnetb0_layer_call_and_return_conditional_losses_86478) with ops with custom gradients. Will likely fail if a gradient is requested.\n",
            "WARNING:absl:Importing a function (__inference_efficientnetb0_layer_call_and_return_conditional_losses_86478) with ops with custom gradients. Will likely fail if a gradient is requested.\n",
            "WARNING:absl:Importing a function (__inference_efficientnetb0_layer_call_and_return_conditional_losses_86478) with ops with custom gradients. Will likely fail if a gradient is requested.\n",
            "WARNING:absl:Importing a function (__inference_efficientnetb0_layer_call_and_return_conditional_losses_86478) with ops with custom gradients. Will likely fail if a gradient is requested.\n",
            "WARNING:absl:Importing a function (__inference_efficientnetb0_layer_call_and_return_conditional_losses_86478) with ops with custom gradients. Will likely fail if a gradient is requested.\n",
            "WARNING:absl:Importing a function (__inference_efficientnetb0_layer_call_and_return_conditional_losses_86478) with ops with custom gradients. Will likely fail if a gradient is requested.\n",
            "WARNING:absl:Importing a function (__inference_efficientnetb0_layer_call_and_return_conditional_losses_86478) with ops with custom gradients. Will likely fail if a gradient is requested.\n",
            "WARNING:absl:Importing a function (__inference_efficientnetb0_layer_call_and_return_conditional_losses_86478) with ops with custom gradients. Will likely fail if a gradient is requested.\n",
            "WARNING:absl:Importing a function (__inference_efficientnetb0_layer_call_and_return_conditional_losses_86478) with ops with custom gradients. Will likely fail if a gradient is requested.\n",
            "WARNING:absl:Importing a function (__inference_efficientnetb0_layer_call_and_return_conditional_losses_86478) with ops with custom gradients. Will likely fail if a gradient is requested.\n",
            "WARNING:absl:Importing a function (__inference_efficientnetb0_layer_call_and_return_conditional_losses_86478) with ops with custom gradients. Will likely fail if a gradient is requested.\n",
            "WARNING:absl:Importing a function (__inference_efficientnetb0_layer_call_and_return_conditional_losses_86478) with ops with custom gradients. Will likely fail if a gradient is requested.\n",
            "WARNING:absl:Importing a function (__inference_efficientnetb0_layer_call_and_return_conditional_losses_86478) with ops with custom gradients. Will likely fail if a gradient is requested.\n",
            "WARNING:absl:Importing a function (__inference_efficientnetb0_layer_call_and_return_conditional_losses_86478) with ops with custom gradients. Will likely fail if a gradient is requested.\n",
            "WARNING:absl:Importing a function (__inference_efficientnetb0_layer_call_and_return_conditional_losses_86478) with ops with custom gradients. Will likely fail if a gradient is requested.\n",
            "WARNING:absl:Importing a function (__inference_efficientnetb0_layer_call_and_return_conditional_losses_86478) with ops with custom gradients. Will likely fail if a gradient is requested.\n",
            "WARNING:absl:Importing a function (__inference_efficientnetb0_layer_call_and_return_conditional_losses_86478) with ops with custom gradients. Will likely fail if a gradient is requested.\n",
            "WARNING:absl:Importing a function (__inference_efficientnetb0_layer_call_and_return_conditional_losses_86478) with ops with custom gradients. Will likely fail if a gradient is requested.\n",
            "WARNING:absl:Importing a function (__inference_efficientnetb0_layer_call_and_return_conditional_losses_86478) with ops with custom gradients. Will likely fail if a gradient is requested.\n",
            "WARNING:absl:Importing a function (__inference_block6c_activation_layer_call_and_return_conditional_losses_60789) with ops with custom gradients. Will likely fail if a gradient is requested.\n",
            "WARNING:absl:Importing a function (__inference_block2b_se_reduce_layer_call_and_return_conditional_losses_57329) with ops with custom gradients. Will likely fail if a gradient is requested.\n",
            "WARNING:absl:Importing a function (__inference_block3b_expand_activation_layer_call_and_return_conditional_losses_57848) with ops with custom gradients. Will likely fail if a gradient is requested.\n",
            "WARNING:absl:Importing a function (__inference_block3a_activation_layer_call_and_return_conditional_losses_90694) with ops with custom gradients. Will likely fail if a gradient is requested.\n",
            "WARNING:absl:Importing a function (__inference_block5b_expand_activation_layer_call_and_return_conditional_losses_92714) with ops with custom gradients. Will likely fail if a gradient is requested.\n",
            "WARNING:absl:Importing a function (__inference_block6a_se_reduce_layer_call_and_return_conditional_losses_93579) with ops with custom gradients. Will likely fail if a gradient is requested.\n",
            "WARNING:absl:Importing a function (__inference_block3a_expand_activation_layer_call_and_return_conditional_losses_90617) with ops with custom gradients. Will likely fail if a gradient is requested.\n",
            "WARNING:absl:Importing a function (__inference_block4a_activation_layer_call_and_return_conditional_losses_58243) with ops with custom gradients. Will likely fail if a gradient is requested.\n",
            "WARNING:absl:Importing a function (__inference_block4b_activation_layer_call_and_return_conditional_losses_91719) with ops with custom gradients. Will likely fail if a gradient is requested.\n",
            "WARNING:absl:Importing a function (__inference_block7a_se_reduce_layer_call_and_return_conditional_losses_61514) with ops with custom gradients. Will likely fail if a gradient is requested.\n",
            "WARNING:absl:Importing a function (__inference_block4c_expand_activation_layer_call_and_return_conditional_losses_92015) with ops with custom gradients. Will likely fail if a gradient is requested.\n",
            "WARNING:absl:Importing a function (__inference_block5a_se_reduce_layer_call_and_return_conditional_losses_59253) with ops with custom gradients. Will likely fail if a gradient is requested.\n",
            "WARNING:absl:Importing a function (__inference_block2b_expand_activation_layer_call_and_return_conditional_losses_90244) with ops with custom gradients. Will likely fail if a gradient is requested.\n",
            "WARNING:absl:Importing a function (__inference_block2b_se_reduce_layer_call_and_return_conditional_losses_90363) with ops with custom gradients. Will likely fail if a gradient is requested.\n",
            "WARNING:absl:Importing a function (__inference_block5c_activation_layer_call_and_return_conditional_losses_93164) with ops with custom gradients. Will likely fail if a gradient is requested.\n",
            "WARNING:absl:Importing a function (__inference_block3b_se_reduce_layer_call_and_return_conditional_losses_57953) with ops with custom gradients. Will likely fail if a gradient is requested.\n",
            "WARNING:absl:Importing a function (__inference_block4b_se_reduce_layer_call_and_return_conditional_losses_58577) with ops with custom gradients. Will likely fail if a gradient is requested.\n",
            "WARNING:absl:Importing a function (__inference_block2a_expand_activation_layer_call_and_return_conditional_losses_56938) with ops with custom gradients. Will likely fail if a gradient is requested.\n",
            "WARNING:absl:Importing a function (__inference__wrapped_model_51084) with ops with custom gradients. Will likely fail if a gradient is requested.\n",
            "WARNING:absl:Importing a function (__inference__wrapped_model_51084) with ops with custom gradients. Will likely fail if a gradient is requested.\n",
            "WARNING:absl:Importing a function (__inference__wrapped_model_51084) with ops with custom gradients. Will likely fail if a gradient is requested.\n",
            "WARNING:absl:Importing a function (__inference__wrapped_model_51084) with ops with custom gradients. Will likely fail if a gradient is requested.\n",
            "WARNING:absl:Importing a function (__inference__wrapped_model_51084) with ops with custom gradients. Will likely fail if a gradient is requested.\n",
            "WARNING:absl:Importing a function (__inference__wrapped_model_51084) with ops with custom gradients. Will likely fail if a gradient is requested.\n",
            "WARNING:absl:Importing a function (__inference__wrapped_model_51084) with ops with custom gradients. Will likely fail if a gradient is requested.\n",
            "WARNING:absl:Importing a function (__inference__wrapped_model_51084) with ops with custom gradients. Will likely fail if a gradient is requested.\n",
            "WARNING:absl:Importing a function (__inference__wrapped_model_51084) with ops with custom gradients. Will likely fail if a gradient is requested.\n",
            "WARNING:absl:Importing a function (__inference__wrapped_model_51084) with ops with custom gradients. Will likely fail if a gradient is requested.\n",
            "WARNING:absl:Importing a function (__inference__wrapped_model_51084) with ops with custom gradients. Will likely fail if a gradient is requested.\n",
            "WARNING:absl:Importing a function (__inference__wrapped_model_51084) with ops with custom gradients. Will likely fail if a gradient is requested.\n",
            "WARNING:absl:Importing a function (__inference__wrapped_model_51084) with ops with custom gradients. Will likely fail if a gradient is requested.\n",
            "WARNING:absl:Importing a function (__inference__wrapped_model_51084) with ops with custom gradients. Will likely fail if a gradient is requested.\n",
            "WARNING:absl:Importing a function (__inference__wrapped_model_51084) with ops with custom gradients. Will likely fail if a gradient is requested.\n",
            "WARNING:absl:Importing a function (__inference__wrapped_model_51084) with ops with custom gradients. Will likely fail if a gradient is requested.\n",
            "WARNING:absl:Importing a function (__inference__wrapped_model_51084) with ops with custom gradients. Will likely fail if a gradient is requested.\n",
            "WARNING:absl:Importing a function (__inference__wrapped_model_51084) with ops with custom gradients. Will likely fail if a gradient is requested.\n",
            "WARNING:absl:Importing a function (__inference__wrapped_model_51084) with ops with custom gradients. Will likely fail if a gradient is requested.\n",
            "WARNING:absl:Importing a function (__inference__wrapped_model_51084) with ops with custom gradients. Will likely fail if a gradient is requested.\n",
            "WARNING:absl:Importing a function (__inference__wrapped_model_51084) with ops with custom gradients. Will likely fail if a gradient is requested.\n",
            "WARNING:absl:Importing a function (__inference__wrapped_model_51084) with ops with custom gradients. Will likely fail if a gradient is requested.\n",
            "WARNING:absl:Importing a function (__inference__wrapped_model_51084) with ops with custom gradients. Will likely fail if a gradient is requested.\n",
            "WARNING:absl:Importing a function (__inference__wrapped_model_51084) with ops with custom gradients. Will likely fail if a gradient is requested.\n",
            "WARNING:absl:Importing a function (__inference__wrapped_model_51084) with ops with custom gradients. Will likely fail if a gradient is requested.\n",
            "WARNING:absl:Importing a function (__inference__wrapped_model_51084) with ops with custom gradients. Will likely fail if a gradient is requested.\n",
            "WARNING:absl:Importing a function (__inference__wrapped_model_51084) with ops with custom gradients. Will likely fail if a gradient is requested.\n",
            "WARNING:absl:Importing a function (__inference__wrapped_model_51084) with ops with custom gradients. Will likely fail if a gradient is requested.\n",
            "WARNING:absl:Importing a function (__inference__wrapped_model_51084) with ops with custom gradients. Will likely fail if a gradient is requested.\n",
            "WARNING:absl:Importing a function (__inference__wrapped_model_51084) with ops with custom gradients. Will likely fail if a gradient is requested.\n",
            "WARNING:absl:Importing a function (__inference__wrapped_model_51084) with ops with custom gradients. Will likely fail if a gradient is requested.\n",
            "WARNING:absl:Importing a function (__inference__wrapped_model_51084) with ops with custom gradients. Will likely fail if a gradient is requested.\n",
            "WARNING:absl:Importing a function (__inference__wrapped_model_51084) with ops with custom gradients. Will likely fail if a gradient is requested.\n",
            "WARNING:absl:Importing a function (__inference__wrapped_model_51084) with ops with custom gradients. Will likely fail if a gradient is requested.\n",
            "WARNING:absl:Importing a function (__inference__wrapped_model_51084) with ops with custom gradients. Will likely fail if a gradient is requested.\n",
            "WARNING:absl:Importing a function (__inference__wrapped_model_51084) with ops with custom gradients. Will likely fail if a gradient is requested.\n",
            "WARNING:absl:Importing a function (__inference__wrapped_model_51084) with ops with custom gradients. Will likely fail if a gradient is requested.\n",
            "WARNING:absl:Importing a function (__inference__wrapped_model_51084) with ops with custom gradients. Will likely fail if a gradient is requested.\n",
            "WARNING:absl:Importing a function (__inference__wrapped_model_51084) with ops with custom gradients. Will likely fail if a gradient is requested.\n",
            "WARNING:absl:Importing a function (__inference__wrapped_model_51084) with ops with custom gradients. Will likely fail if a gradient is requested.\n",
            "WARNING:absl:Importing a function (__inference__wrapped_model_51084) with ops with custom gradients. Will likely fail if a gradient is requested.\n",
            "WARNING:absl:Importing a function (__inference__wrapped_model_51084) with ops with custom gradients. Will likely fail if a gradient is requested.\n",
            "WARNING:absl:Importing a function (__inference__wrapped_model_51084) with ops with custom gradients. Will likely fail if a gradient is requested.\n",
            "WARNING:absl:Importing a function (__inference__wrapped_model_51084) with ops with custom gradients. Will likely fail if a gradient is requested.\n",
            "WARNING:absl:Importing a function (__inference__wrapped_model_51084) with ops with custom gradients. Will likely fail if a gradient is requested.\n",
            "WARNING:absl:Importing a function (__inference__wrapped_model_51084) with ops with custom gradients. Will likely fail if a gradient is requested.\n",
            "WARNING:absl:Importing a function (__inference__wrapped_model_51084) with ops with custom gradients. Will likely fail if a gradient is requested.\n",
            "WARNING:absl:Importing a function (__inference__wrapped_model_51084) with ops with custom gradients. Will likely fail if a gradient is requested.\n",
            "WARNING:absl:Importing a function (__inference__wrapped_model_51084) with ops with custom gradients. Will likely fail if a gradient is requested.\n",
            "WARNING:absl:Importing a function (__inference_efficientnetb0_layer_call_and_return_conditional_losses_67485) with ops with custom gradients. Will likely fail if a gradient is requested.\n",
            "WARNING:absl:Importing a function (__inference_efficientnetb0_layer_call_and_return_conditional_losses_67485) with ops with custom gradients. Will likely fail if a gradient is requested.\n",
            "WARNING:absl:Importing a function (__inference_efficientnetb0_layer_call_and_return_conditional_losses_67485) with ops with custom gradients. Will likely fail if a gradient is requested.\n",
            "WARNING:absl:Importing a function (__inference_efficientnetb0_layer_call_and_return_conditional_losses_67485) with ops with custom gradients. Will likely fail if a gradient is requested.\n",
            "WARNING:absl:Importing a function (__inference_efficientnetb0_layer_call_and_return_conditional_losses_67485) with ops with custom gradients. Will likely fail if a gradient is requested.\n",
            "WARNING:absl:Importing a function (__inference_efficientnetb0_layer_call_and_return_conditional_losses_67485) with ops with custom gradients. Will likely fail if a gradient is requested.\n",
            "WARNING:absl:Importing a function (__inference_efficientnetb0_layer_call_and_return_conditional_losses_67485) with ops with custom gradients. Will likely fail if a gradient is requested.\n",
            "WARNING:absl:Importing a function (__inference_efficientnetb0_layer_call_and_return_conditional_losses_67485) with ops with custom gradients. Will likely fail if a gradient is requested.\n",
            "WARNING:absl:Importing a function (__inference_efficientnetb0_layer_call_and_return_conditional_losses_67485) with ops with custom gradients. Will likely fail if a gradient is requested.\n",
            "WARNING:absl:Importing a function (__inference_efficientnetb0_layer_call_and_return_conditional_losses_67485) with ops with custom gradients. Will likely fail if a gradient is requested.\n",
            "WARNING:absl:Importing a function (__inference_efficientnetb0_layer_call_and_return_conditional_losses_67485) with ops with custom gradients. Will likely fail if a gradient is requested.\n",
            "WARNING:absl:Importing a function (__inference_efficientnetb0_layer_call_and_return_conditional_losses_67485) with ops with custom gradients. Will likely fail if a gradient is requested.\n",
            "WARNING:absl:Importing a function (__inference_efficientnetb0_layer_call_and_return_conditional_losses_67485) with ops with custom gradients. Will likely fail if a gradient is requested.\n",
            "WARNING:absl:Importing a function (__inference_efficientnetb0_layer_call_and_return_conditional_losses_67485) with ops with custom gradients. Will likely fail if a gradient is requested.\n",
            "WARNING:absl:Importing a function (__inference_efficientnetb0_layer_call_and_return_conditional_losses_67485) with ops with custom gradients. Will likely fail if a gradient is requested.\n",
            "WARNING:absl:Importing a function (__inference_efficientnetb0_layer_call_and_return_conditional_losses_67485) with ops with custom gradients. Will likely fail if a gradient is requested.\n",
            "WARNING:absl:Importing a function (__inference_efficientnetb0_layer_call_and_return_conditional_losses_67485) with ops with custom gradients. Will likely fail if a gradient is requested.\n",
            "WARNING:absl:Importing a function (__inference_efficientnetb0_layer_call_and_return_conditional_losses_67485) with ops with custom gradients. Will likely fail if a gradient is requested.\n",
            "WARNING:absl:Importing a function (__inference_efficientnetb0_layer_call_and_return_conditional_losses_67485) with ops with custom gradients. Will likely fail if a gradient is requested.\n",
            "WARNING:absl:Importing a function (__inference_efficientnetb0_layer_call_and_return_conditional_losses_67485) with ops with custom gradients. Will likely fail if a gradient is requested.\n",
            "WARNING:absl:Importing a function (__inference_efficientnetb0_layer_call_and_return_conditional_losses_67485) with ops with custom gradients. Will likely fail if a gradient is requested.\n",
            "WARNING:absl:Importing a function (__inference_efficientnetb0_layer_call_and_return_conditional_losses_67485) with ops with custom gradients. Will likely fail if a gradient is requested.\n",
            "WARNING:absl:Importing a function (__inference_efficientnetb0_layer_call_and_return_conditional_losses_67485) with ops with custom gradients. Will likely fail if a gradient is requested.\n",
            "WARNING:absl:Importing a function (__inference_efficientnetb0_layer_call_and_return_conditional_losses_67485) with ops with custom gradients. Will likely fail if a gradient is requested.\n",
            "WARNING:absl:Importing a function (__inference_efficientnetb0_layer_call_and_return_conditional_losses_67485) with ops with custom gradients. Will likely fail if a gradient is requested.\n",
            "WARNING:absl:Importing a function (__inference_efficientnetb0_layer_call_and_return_conditional_losses_67485) with ops with custom gradients. Will likely fail if a gradient is requested.\n",
            "WARNING:absl:Importing a function (__inference_efficientnetb0_layer_call_and_return_conditional_losses_67485) with ops with custom gradients. Will likely fail if a gradient is requested.\n",
            "WARNING:absl:Importing a function (__inference_efficientnetb0_layer_call_and_return_conditional_losses_67485) with ops with custom gradients. Will likely fail if a gradient is requested.\n",
            "WARNING:absl:Importing a function (__inference_efficientnetb0_layer_call_and_return_conditional_losses_67485) with ops with custom gradients. Will likely fail if a gradient is requested.\n",
            "WARNING:absl:Importing a function (__inference_efficientnetb0_layer_call_and_return_conditional_losses_67485) with ops with custom gradients. Will likely fail if a gradient is requested.\n",
            "WARNING:absl:Importing a function (__inference_efficientnetb0_layer_call_and_return_conditional_losses_67485) with ops with custom gradients. Will likely fail if a gradient is requested.\n",
            "WARNING:absl:Importing a function (__inference_efficientnetb0_layer_call_and_return_conditional_losses_67485) with ops with custom gradients. Will likely fail if a gradient is requested.\n",
            "WARNING:absl:Importing a function (__inference_efficientnetb0_layer_call_and_return_conditional_losses_67485) with ops with custom gradients. Will likely fail if a gradient is requested.\n",
            "WARNING:absl:Importing a function (__inference_efficientnetb0_layer_call_and_return_conditional_losses_67485) with ops with custom gradients. Will likely fail if a gradient is requested.\n",
            "WARNING:absl:Importing a function (__inference_efficientnetb0_layer_call_and_return_conditional_losses_67485) with ops with custom gradients. Will likely fail if a gradient is requested.\n",
            "WARNING:absl:Importing a function (__inference_efficientnetb0_layer_call_and_return_conditional_losses_67485) with ops with custom gradients. Will likely fail if a gradient is requested.\n",
            "WARNING:absl:Importing a function (__inference_efficientnetb0_layer_call_and_return_conditional_losses_67485) with ops with custom gradients. Will likely fail if a gradient is requested.\n",
            "WARNING:absl:Importing a function (__inference_efficientnetb0_layer_call_and_return_conditional_losses_67485) with ops with custom gradients. Will likely fail if a gradient is requested.\n",
            "WARNING:absl:Importing a function (__inference_efficientnetb0_layer_call_and_return_conditional_losses_67485) with ops with custom gradients. Will likely fail if a gradient is requested.\n",
            "WARNING:absl:Importing a function (__inference_efficientnetb0_layer_call_and_return_conditional_losses_67485) with ops with custom gradients. Will likely fail if a gradient is requested.\n",
            "WARNING:absl:Importing a function (__inference_efficientnetb0_layer_call_and_return_conditional_losses_67485) with ops with custom gradients. Will likely fail if a gradient is requested.\n",
            "WARNING:absl:Importing a function (__inference_efficientnetb0_layer_call_and_return_conditional_losses_67485) with ops with custom gradients. Will likely fail if a gradient is requested.\n",
            "WARNING:absl:Importing a function (__inference_efficientnetb0_layer_call_and_return_conditional_losses_67485) with ops with custom gradients. Will likely fail if a gradient is requested.\n",
            "WARNING:absl:Importing a function (__inference_efficientnetb0_layer_call_and_return_conditional_losses_67485) with ops with custom gradients. Will likely fail if a gradient is requested.\n",
            "WARNING:absl:Importing a function (__inference_efficientnetb0_layer_call_and_return_conditional_losses_67485) with ops with custom gradients. Will likely fail if a gradient is requested.\n",
            "WARNING:absl:Importing a function (__inference_efficientnetb0_layer_call_and_return_conditional_losses_67485) with ops with custom gradients. Will likely fail if a gradient is requested.\n",
            "WARNING:absl:Importing a function (__inference_efficientnetb0_layer_call_and_return_conditional_losses_67485) with ops with custom gradients. Will likely fail if a gradient is requested.\n",
            "WARNING:absl:Importing a function (__inference_efficientnetb0_layer_call_and_return_conditional_losses_67485) with ops with custom gradients. Will likely fail if a gradient is requested.\n",
            "WARNING:absl:Importing a function (__inference_efficientnetb0_layer_call_and_return_conditional_losses_67485) with ops with custom gradients. Will likely fail if a gradient is requested.\n",
            "WARNING:absl:Importing a function (__inference_stem_activation_layer_call_and_return_conditional_losses_89592) with ops with custom gradients. Will likely fail if a gradient is requested.\n",
            "WARNING:absl:Importing a function (__inference_block3b_expand_activation_layer_call_and_return_conditional_losses_90943) with ops with custom gradients. Will likely fail if a gradient is requested.\n",
            "WARNING:absl:Importing a function (__inference_block3a_se_reduce_layer_call_and_return_conditional_losses_57668) with ops with custom gradients. Will likely fail if a gradient is requested.\n",
            "WARNING:absl:Importing a function (__inference_block3a_se_reduce_layer_call_and_return_conditional_losses_90736) with ops with custom gradients. Will likely fail if a gradient is requested.\n",
            "WARNING:absl:Importing a function (__inference_efficientnetb0_layer_call_and_return_conditional_losses_69227) with ops with custom gradients. Will likely fail if a gradient is requested.\n",
            "WARNING:absl:Importing a function (__inference_efficientnetb0_layer_call_and_return_conditional_losses_69227) with ops with custom gradients. Will likely fail if a gradient is requested.\n",
            "WARNING:absl:Importing a function (__inference_efficientnetb0_layer_call_and_return_conditional_losses_69227) with ops with custom gradients. Will likely fail if a gradient is requested.\n",
            "WARNING:absl:Importing a function (__inference_efficientnetb0_layer_call_and_return_conditional_losses_69227) with ops with custom gradients. Will likely fail if a gradient is requested.\n",
            "WARNING:absl:Importing a function (__inference_efficientnetb0_layer_call_and_return_conditional_losses_69227) with ops with custom gradients. Will likely fail if a gradient is requested.\n",
            "WARNING:absl:Importing a function (__inference_efficientnetb0_layer_call_and_return_conditional_losses_69227) with ops with custom gradients. Will likely fail if a gradient is requested.\n",
            "WARNING:absl:Importing a function (__inference_efficientnetb0_layer_call_and_return_conditional_losses_69227) with ops with custom gradients. Will likely fail if a gradient is requested.\n",
            "WARNING:absl:Importing a function (__inference_efficientnetb0_layer_call_and_return_conditional_losses_69227) with ops with custom gradients. Will likely fail if a gradient is requested.\n",
            "WARNING:absl:Importing a function (__inference_efficientnetb0_layer_call_and_return_conditional_losses_69227) with ops with custom gradients. Will likely fail if a gradient is requested.\n",
            "WARNING:absl:Importing a function (__inference_efficientnetb0_layer_call_and_return_conditional_losses_69227) with ops with custom gradients. Will likely fail if a gradient is requested.\n",
            "WARNING:absl:Importing a function (__inference_efficientnetb0_layer_call_and_return_conditional_losses_69227) with ops with custom gradients. Will likely fail if a gradient is requested.\n",
            "WARNING:absl:Importing a function (__inference_efficientnetb0_layer_call_and_return_conditional_losses_69227) with ops with custom gradients. Will likely fail if a gradient is requested.\n",
            "WARNING:absl:Importing a function (__inference_efficientnetb0_layer_call_and_return_conditional_losses_69227) with ops with custom gradients. Will likely fail if a gradient is requested.\n",
            "WARNING:absl:Importing a function (__inference_efficientnetb0_layer_call_and_return_conditional_losses_69227) with ops with custom gradients. Will likely fail if a gradient is requested.\n",
            "WARNING:absl:Importing a function (__inference_efficientnetb0_layer_call_and_return_conditional_losses_69227) with ops with custom gradients. Will likely fail if a gradient is requested.\n",
            "WARNING:absl:Importing a function (__inference_efficientnetb0_layer_call_and_return_conditional_losses_69227) with ops with custom gradients. Will likely fail if a gradient is requested.\n",
            "WARNING:absl:Importing a function (__inference_efficientnetb0_layer_call_and_return_conditional_losses_69227) with ops with custom gradients. Will likely fail if a gradient is requested.\n",
            "WARNING:absl:Importing a function (__inference_efficientnetb0_layer_call_and_return_conditional_losses_69227) with ops with custom gradients. Will likely fail if a gradient is requested.\n",
            "WARNING:absl:Importing a function (__inference_efficientnetb0_layer_call_and_return_conditional_losses_69227) with ops with custom gradients. Will likely fail if a gradient is requested.\n",
            "WARNING:absl:Importing a function (__inference_efficientnetb0_layer_call_and_return_conditional_losses_69227) with ops with custom gradients. Will likely fail if a gradient is requested.\n",
            "WARNING:absl:Importing a function (__inference_efficientnetb0_layer_call_and_return_conditional_losses_69227) with ops with custom gradients. Will likely fail if a gradient is requested.\n",
            "WARNING:absl:Importing a function (__inference_efficientnetb0_layer_call_and_return_conditional_losses_69227) with ops with custom gradients. Will likely fail if a gradient is requested.\n",
            "WARNING:absl:Importing a function (__inference_efficientnetb0_layer_call_and_return_conditional_losses_69227) with ops with custom gradients. Will likely fail if a gradient is requested.\n",
            "WARNING:absl:Importing a function (__inference_efficientnetb0_layer_call_and_return_conditional_losses_69227) with ops with custom gradients. Will likely fail if a gradient is requested.\n",
            "WARNING:absl:Importing a function (__inference_efficientnetb0_layer_call_and_return_conditional_losses_69227) with ops with custom gradients. Will likely fail if a gradient is requested.\n",
            "WARNING:absl:Importing a function (__inference_efficientnetb0_layer_call_and_return_conditional_losses_69227) with ops with custom gradients. Will likely fail if a gradient is requested.\n",
            "WARNING:absl:Importing a function (__inference_efficientnetb0_layer_call_and_return_conditional_losses_69227) with ops with custom gradients. Will likely fail if a gradient is requested.\n",
            "WARNING:absl:Importing a function (__inference_efficientnetb0_layer_call_and_return_conditional_losses_69227) with ops with custom gradients. Will likely fail if a gradient is requested.\n",
            "WARNING:absl:Importing a function (__inference_efficientnetb0_layer_call_and_return_conditional_losses_69227) with ops with custom gradients. Will likely fail if a gradient is requested.\n",
            "WARNING:absl:Importing a function (__inference_efficientnetb0_layer_call_and_return_conditional_losses_69227) with ops with custom gradients. Will likely fail if a gradient is requested.\n",
            "WARNING:absl:Importing a function (__inference_efficientnetb0_layer_call_and_return_conditional_losses_69227) with ops with custom gradients. Will likely fail if a gradient is requested.\n",
            "WARNING:absl:Importing a function (__inference_efficientnetb0_layer_call_and_return_conditional_losses_69227) with ops with custom gradients. Will likely fail if a gradient is requested.\n",
            "WARNING:absl:Importing a function (__inference_efficientnetb0_layer_call_and_return_conditional_losses_69227) with ops with custom gradients. Will likely fail if a gradient is requested.\n",
            "WARNING:absl:Importing a function (__inference_efficientnetb0_layer_call_and_return_conditional_losses_69227) with ops with custom gradients. Will likely fail if a gradient is requested.\n",
            "WARNING:absl:Importing a function (__inference_efficientnetb0_layer_call_and_return_conditional_losses_69227) with ops with custom gradients. Will likely fail if a gradient is requested.\n",
            "WARNING:absl:Importing a function (__inference_efficientnetb0_layer_call_and_return_conditional_losses_69227) with ops with custom gradients. Will likely fail if a gradient is requested.\n",
            "WARNING:absl:Importing a function (__inference_efficientnetb0_layer_call_and_return_conditional_losses_69227) with ops with custom gradients. Will likely fail if a gradient is requested.\n",
            "WARNING:absl:Importing a function (__inference_efficientnetb0_layer_call_and_return_conditional_losses_69227) with ops with custom gradients. Will likely fail if a gradient is requested.\n",
            "WARNING:absl:Importing a function (__inference_efficientnetb0_layer_call_and_return_conditional_losses_69227) with ops with custom gradients. Will likely fail if a gradient is requested.\n",
            "WARNING:absl:Importing a function (__inference_efficientnetb0_layer_call_and_return_conditional_losses_69227) with ops with custom gradients. Will likely fail if a gradient is requested.\n",
            "WARNING:absl:Importing a function (__inference_efficientnetb0_layer_call_and_return_conditional_losses_69227) with ops with custom gradients. Will likely fail if a gradient is requested.\n",
            "WARNING:absl:Importing a function (__inference_efficientnetb0_layer_call_and_return_conditional_losses_69227) with ops with custom gradients. Will likely fail if a gradient is requested.\n",
            "WARNING:absl:Importing a function (__inference_efficientnetb0_layer_call_and_return_conditional_losses_69227) with ops with custom gradients. Will likely fail if a gradient is requested.\n",
            "WARNING:absl:Importing a function (__inference_efficientnetb0_layer_call_and_return_conditional_losses_69227) with ops with custom gradients. Will likely fail if a gradient is requested.\n",
            "WARNING:absl:Importing a function (__inference_efficientnetb0_layer_call_and_return_conditional_losses_69227) with ops with custom gradients. Will likely fail if a gradient is requested.\n",
            "WARNING:absl:Importing a function (__inference_efficientnetb0_layer_call_and_return_conditional_losses_69227) with ops with custom gradients. Will likely fail if a gradient is requested.\n",
            "WARNING:absl:Importing a function (__inference_efficientnetb0_layer_call_and_return_conditional_losses_69227) with ops with custom gradients. Will likely fail if a gradient is requested.\n",
            "WARNING:absl:Importing a function (__inference_efficientnetb0_layer_call_and_return_conditional_losses_69227) with ops with custom gradients. Will likely fail if a gradient is requested.\n",
            "WARNING:absl:Importing a function (__inference_efficientnetb0_layer_call_and_return_conditional_losses_69227) with ops with custom gradients. Will likely fail if a gradient is requested.\n",
            "WARNING:absl:Importing a function (__inference_block4a_expand_activation_layer_call_and_return_conditional_losses_91316) with ops with custom gradients. Will likely fail if a gradient is requested.\n",
            "WARNING:absl:Importing a function (__inference_block5c_expand_activation_layer_call_and_return_conditional_losses_93087) with ops with custom gradients. Will likely fail if a gradient is requested.\n",
            "WARNING:absl:Importing a function (__inference_block4a_se_reduce_layer_call_and_return_conditional_losses_91435) with ops with custom gradients. Will likely fail if a gradient is requested.\n",
            "WARNING:absl:Importing a function (__inference_block5b_expand_activation_layer_call_and_return_conditional_losses_59433) with ops with custom gradients. Will likely fail if a gradient is requested.\n",
            "WARNING:absl:Importing a function (__inference_block6a_activation_layer_call_and_return_conditional_losses_60166) with ops with custom gradients. Will likely fail if a gradient is requested.\n",
            "WARNING:absl:Importing a function (__inference_block2a_activation_layer_call_and_return_conditional_losses_89995) with ops with custom gradients. Will likely fail if a gradient is requested.\n",
            "WARNING:absl:Importing a function (__inference_efficientnetb0_layer_call_and_return_conditional_losses_81605) with ops with custom gradients. Will likely fail if a gradient is requested.\n",
            "WARNING:absl:Importing a function (__inference_efficientnetb0_layer_call_and_return_conditional_losses_81605) with ops with custom gradients. Will likely fail if a gradient is requested.\n",
            "WARNING:absl:Importing a function (__inference_efficientnetb0_layer_call_and_return_conditional_losses_81605) with ops with custom gradients. Will likely fail if a gradient is requested.\n",
            "WARNING:absl:Importing a function (__inference_efficientnetb0_layer_call_and_return_conditional_losses_81605) with ops with custom gradients. Will likely fail if a gradient is requested.\n",
            "WARNING:absl:Importing a function (__inference_efficientnetb0_layer_call_and_return_conditional_losses_81605) with ops with custom gradients. Will likely fail if a gradient is requested.\n",
            "WARNING:absl:Importing a function (__inference_efficientnetb0_layer_call_and_return_conditional_losses_81605) with ops with custom gradients. Will likely fail if a gradient is requested.\n",
            "WARNING:absl:Importing a function (__inference_efficientnetb0_layer_call_and_return_conditional_losses_81605) with ops with custom gradients. Will likely fail if a gradient is requested.\n",
            "WARNING:absl:Importing a function (__inference_efficientnetb0_layer_call_and_return_conditional_losses_81605) with ops with custom gradients. Will likely fail if a gradient is requested.\n",
            "WARNING:absl:Importing a function (__inference_efficientnetb0_layer_call_and_return_conditional_losses_81605) with ops with custom gradients. Will likely fail if a gradient is requested.\n",
            "WARNING:absl:Importing a function (__inference_efficientnetb0_layer_call_and_return_conditional_losses_81605) with ops with custom gradients. Will likely fail if a gradient is requested.\n",
            "WARNING:absl:Importing a function (__inference_efficientnetb0_layer_call_and_return_conditional_losses_81605) with ops with custom gradients. Will likely fail if a gradient is requested.\n",
            "WARNING:absl:Importing a function (__inference_efficientnetb0_layer_call_and_return_conditional_losses_81605) with ops with custom gradients. Will likely fail if a gradient is requested.\n",
            "WARNING:absl:Importing a function (__inference_efficientnetb0_layer_call_and_return_conditional_losses_81605) with ops with custom gradients. Will likely fail if a gradient is requested.\n",
            "WARNING:absl:Importing a function (__inference_efficientnetb0_layer_call_and_return_conditional_losses_81605) with ops with custom gradients. Will likely fail if a gradient is requested.\n",
            "WARNING:absl:Importing a function (__inference_efficientnetb0_layer_call_and_return_conditional_losses_81605) with ops with custom gradients. Will likely fail if a gradient is requested.\n",
            "WARNING:absl:Importing a function (__inference_efficientnetb0_layer_call_and_return_conditional_losses_81605) with ops with custom gradients. Will likely fail if a gradient is requested.\n",
            "WARNING:absl:Importing a function (__inference_efficientnetb0_layer_call_and_return_conditional_losses_81605) with ops with custom gradients. Will likely fail if a gradient is requested.\n",
            "WARNING:absl:Importing a function (__inference_efficientnetb0_layer_call_and_return_conditional_losses_81605) with ops with custom gradients. Will likely fail if a gradient is requested.\n",
            "WARNING:absl:Importing a function (__inference_efficientnetb0_layer_call_and_return_conditional_losses_81605) with ops with custom gradients. Will likely fail if a gradient is requested.\n",
            "WARNING:absl:Importing a function (__inference_efficientnetb0_layer_call_and_return_conditional_losses_81605) with ops with custom gradients. Will likely fail if a gradient is requested.\n",
            "WARNING:absl:Importing a function (__inference_efficientnetb0_layer_call_and_return_conditional_losses_81605) with ops with custom gradients. Will likely fail if a gradient is requested.\n",
            "WARNING:absl:Importing a function (__inference_efficientnetb0_layer_call_and_return_conditional_losses_81605) with ops with custom gradients. Will likely fail if a gradient is requested.\n",
            "WARNING:absl:Importing a function (__inference_efficientnetb0_layer_call_and_return_conditional_losses_81605) with ops with custom gradients. Will likely fail if a gradient is requested.\n",
            "WARNING:absl:Importing a function (__inference_efficientnetb0_layer_call_and_return_conditional_losses_81605) with ops with custom gradients. Will likely fail if a gradient is requested.\n",
            "WARNING:absl:Importing a function (__inference_efficientnetb0_layer_call_and_return_conditional_losses_81605) with ops with custom gradients. Will likely fail if a gradient is requested.\n",
            "WARNING:absl:Importing a function (__inference_efficientnetb0_layer_call_and_return_conditional_losses_81605) with ops with custom gradients. Will likely fail if a gradient is requested.\n",
            "WARNING:absl:Importing a function (__inference_efficientnetb0_layer_call_and_return_conditional_losses_81605) with ops with custom gradients. Will likely fail if a gradient is requested.\n",
            "WARNING:absl:Importing a function (__inference_efficientnetb0_layer_call_and_return_conditional_losses_81605) with ops with custom gradients. Will likely fail if a gradient is requested.\n",
            "WARNING:absl:Importing a function (__inference_efficientnetb0_layer_call_and_return_conditional_losses_81605) with ops with custom gradients. Will likely fail if a gradient is requested.\n",
            "WARNING:absl:Importing a function (__inference_efficientnetb0_layer_call_and_return_conditional_losses_81605) with ops with custom gradients. Will likely fail if a gradient is requested.\n",
            "WARNING:absl:Importing a function (__inference_efficientnetb0_layer_call_and_return_conditional_losses_81605) with ops with custom gradients. Will likely fail if a gradient is requested.\n",
            "WARNING:absl:Importing a function (__inference_efficientnetb0_layer_call_and_return_conditional_losses_81605) with ops with custom gradients. Will likely fail if a gradient is requested.\n",
            "WARNING:absl:Importing a function (__inference_efficientnetb0_layer_call_and_return_conditional_losses_81605) with ops with custom gradients. Will likely fail if a gradient is requested.\n",
            "WARNING:absl:Importing a function (__inference_efficientnetb0_layer_call_and_return_conditional_losses_81605) with ops with custom gradients. Will likely fail if a gradient is requested.\n",
            "WARNING:absl:Importing a function (__inference_efficientnetb0_layer_call_and_return_conditional_losses_81605) with ops with custom gradients. Will likely fail if a gradient is requested.\n",
            "WARNING:absl:Importing a function (__inference_efficientnetb0_layer_call_and_return_conditional_losses_81605) with ops with custom gradients. Will likely fail if a gradient is requested.\n",
            "WARNING:absl:Importing a function (__inference_efficientnetb0_layer_call_and_return_conditional_losses_81605) with ops with custom gradients. Will likely fail if a gradient is requested.\n",
            "WARNING:absl:Importing a function (__inference_efficientnetb0_layer_call_and_return_conditional_losses_81605) with ops with custom gradients. Will likely fail if a gradient is requested.\n",
            "WARNING:absl:Importing a function (__inference_efficientnetb0_layer_call_and_return_conditional_losses_81605) with ops with custom gradients. Will likely fail if a gradient is requested.\n",
            "WARNING:absl:Importing a function (__inference_efficientnetb0_layer_call_and_return_conditional_losses_81605) with ops with custom gradients. Will likely fail if a gradient is requested.\n",
            "WARNING:absl:Importing a function (__inference_efficientnetb0_layer_call_and_return_conditional_losses_81605) with ops with custom gradients. Will likely fail if a gradient is requested.\n",
            "WARNING:absl:Importing a function (__inference_efficientnetb0_layer_call_and_return_conditional_losses_81605) with ops with custom gradients. Will likely fail if a gradient is requested.\n",
            "WARNING:absl:Importing a function (__inference_efficientnetb0_layer_call_and_return_conditional_losses_81605) with ops with custom gradients. Will likely fail if a gradient is requested.\n",
            "WARNING:absl:Importing a function (__inference_efficientnetb0_layer_call_and_return_conditional_losses_81605) with ops with custom gradients. Will likely fail if a gradient is requested.\n",
            "WARNING:absl:Importing a function (__inference_efficientnetb0_layer_call_and_return_conditional_losses_81605) with ops with custom gradients. Will likely fail if a gradient is requested.\n",
            "WARNING:absl:Importing a function (__inference_efficientnetb0_layer_call_and_return_conditional_losses_81605) with ops with custom gradients. Will likely fail if a gradient is requested.\n",
            "WARNING:absl:Importing a function (__inference_efficientnetb0_layer_call_and_return_conditional_losses_81605) with ops with custom gradients. Will likely fail if a gradient is requested.\n",
            "WARNING:absl:Importing a function (__inference_efficientnetb0_layer_call_and_return_conditional_losses_81605) with ops with custom gradients. Will likely fail if a gradient is requested.\n",
            "WARNING:absl:Importing a function (__inference_efficientnetb0_layer_call_and_return_conditional_losses_81605) with ops with custom gradients. Will likely fail if a gradient is requested.\n",
            "WARNING:absl:Importing a function (__inference_block5b_activation_layer_call_and_return_conditional_losses_59489) with ops with custom gradients. Will likely fail if a gradient is requested.\n",
            "WARNING:absl:Importing a function (__inference_block7a_se_reduce_layer_call_and_return_conditional_losses_95024) with ops with custom gradients. Will likely fail if a gradient is requested.\n",
            "WARNING:absl:Importing a function (__inference_block6d_activation_layer_call_and_return_conditional_losses_61127) with ops with custom gradients. Will likely fail if a gradient is requested.\n",
            "WARNING:absl:Importing a function (__inference_block5c_activation_layer_call_and_return_conditional_losses_59827) with ops with custom gradients. Will likely fail if a gradient is requested.\n",
            "WARNING:absl:Importing a function (__inference_block4c_activation_layer_call_and_return_conditional_losses_92092) with ops with custom gradients. Will likely fail if a gradient is requested.\n",
            "WARNING:absl:Importing a function (__inference_block6c_expand_activation_layer_call_and_return_conditional_losses_60733) with ops with custom gradients. Will likely fail if a gradient is requested.\n",
            "WARNING:absl:Importing a function (__inference_efficientnetb0_layer_call_and_return_conditional_losses_83347) with ops with custom gradients. Will likely fail if a gradient is requested.\n",
            "WARNING:absl:Importing a function (__inference_efficientnetb0_layer_call_and_return_conditional_losses_83347) with ops with custom gradients. Will likely fail if a gradient is requested.\n",
            "WARNING:absl:Importing a function (__inference_efficientnetb0_layer_call_and_return_conditional_losses_83347) with ops with custom gradients. Will likely fail if a gradient is requested.\n",
            "WARNING:absl:Importing a function (__inference_efficientnetb0_layer_call_and_return_conditional_losses_83347) with ops with custom gradients. Will likely fail if a gradient is requested.\n",
            "WARNING:absl:Importing a function (__inference_efficientnetb0_layer_call_and_return_conditional_losses_83347) with ops with custom gradients. Will likely fail if a gradient is requested.\n",
            "WARNING:absl:Importing a function (__inference_efficientnetb0_layer_call_and_return_conditional_losses_83347) with ops with custom gradients. Will likely fail if a gradient is requested.\n",
            "WARNING:absl:Importing a function (__inference_efficientnetb0_layer_call_and_return_conditional_losses_83347) with ops with custom gradients. Will likely fail if a gradient is requested.\n",
            "WARNING:absl:Importing a function (__inference_efficientnetb0_layer_call_and_return_conditional_losses_83347) with ops with custom gradients. Will likely fail if a gradient is requested.\n",
            "WARNING:absl:Importing a function (__inference_efficientnetb0_layer_call_and_return_conditional_losses_83347) with ops with custom gradients. Will likely fail if a gradient is requested.\n",
            "WARNING:absl:Importing a function (__inference_efficientnetb0_layer_call_and_return_conditional_losses_83347) with ops with custom gradients. Will likely fail if a gradient is requested.\n",
            "WARNING:absl:Importing a function (__inference_efficientnetb0_layer_call_and_return_conditional_losses_83347) with ops with custom gradients. Will likely fail if a gradient is requested.\n",
            "WARNING:absl:Importing a function (__inference_efficientnetb0_layer_call_and_return_conditional_losses_83347) with ops with custom gradients. Will likely fail if a gradient is requested.\n",
            "WARNING:absl:Importing a function (__inference_efficientnetb0_layer_call_and_return_conditional_losses_83347) with ops with custom gradients. Will likely fail if a gradient is requested.\n",
            "WARNING:absl:Importing a function (__inference_efficientnetb0_layer_call_and_return_conditional_losses_83347) with ops with custom gradients. Will likely fail if a gradient is requested.\n",
            "WARNING:absl:Importing a function (__inference_efficientnetb0_layer_call_and_return_conditional_losses_83347) with ops with custom gradients. Will likely fail if a gradient is requested.\n",
            "WARNING:absl:Importing a function (__inference_efficientnetb0_layer_call_and_return_conditional_losses_83347) with ops with custom gradients. Will likely fail if a gradient is requested.\n",
            "WARNING:absl:Importing a function (__inference_efficientnetb0_layer_call_and_return_conditional_losses_83347) with ops with custom gradients. Will likely fail if a gradient is requested.\n",
            "WARNING:absl:Importing a function (__inference_efficientnetb0_layer_call_and_return_conditional_losses_83347) with ops with custom gradients. Will likely fail if a gradient is requested.\n",
            "WARNING:absl:Importing a function (__inference_efficientnetb0_layer_call_and_return_conditional_losses_83347) with ops with custom gradients. Will likely fail if a gradient is requested.\n",
            "WARNING:absl:Importing a function (__inference_efficientnetb0_layer_call_and_return_conditional_losses_83347) with ops with custom gradients. Will likely fail if a gradient is requested.\n",
            "WARNING:absl:Importing a function (__inference_efficientnetb0_layer_call_and_return_conditional_losses_83347) with ops with custom gradients. Will likely fail if a gradient is requested.\n",
            "WARNING:absl:Importing a function (__inference_efficientnetb0_layer_call_and_return_conditional_losses_83347) with ops with custom gradients. Will likely fail if a gradient is requested.\n",
            "WARNING:absl:Importing a function (__inference_efficientnetb0_layer_call_and_return_conditional_losses_83347) with ops with custom gradients. Will likely fail if a gradient is requested.\n",
            "WARNING:absl:Importing a function (__inference_efficientnetb0_layer_call_and_return_conditional_losses_83347) with ops with custom gradients. Will likely fail if a gradient is requested.\n",
            "WARNING:absl:Importing a function (__inference_efficientnetb0_layer_call_and_return_conditional_losses_83347) with ops with custom gradients. Will likely fail if a gradient is requested.\n",
            "WARNING:absl:Importing a function (__inference_efficientnetb0_layer_call_and_return_conditional_losses_83347) with ops with custom gradients. Will likely fail if a gradient is requested.\n",
            "WARNING:absl:Importing a function (__inference_efficientnetb0_layer_call_and_return_conditional_losses_83347) with ops with custom gradients. Will likely fail if a gradient is requested.\n",
            "WARNING:absl:Importing a function (__inference_efficientnetb0_layer_call_and_return_conditional_losses_83347) with ops with custom gradients. Will likely fail if a gradient is requested.\n",
            "WARNING:absl:Importing a function (__inference_efficientnetb0_layer_call_and_return_conditional_losses_83347) with ops with custom gradients. Will likely fail if a gradient is requested.\n",
            "WARNING:absl:Importing a function (__inference_efficientnetb0_layer_call_and_return_conditional_losses_83347) with ops with custom gradients. Will likely fail if a gradient is requested.\n",
            "WARNING:absl:Importing a function (__inference_efficientnetb0_layer_call_and_return_conditional_losses_83347) with ops with custom gradients. Will likely fail if a gradient is requested.\n",
            "WARNING:absl:Importing a function (__inference_efficientnetb0_layer_call_and_return_conditional_losses_83347) with ops with custom gradients. Will likely fail if a gradient is requested.\n",
            "WARNING:absl:Importing a function (__inference_efficientnetb0_layer_call_and_return_conditional_losses_83347) with ops with custom gradients. Will likely fail if a gradient is requested.\n",
            "WARNING:absl:Importing a function (__inference_efficientnetb0_layer_call_and_return_conditional_losses_83347) with ops with custom gradients. Will likely fail if a gradient is requested.\n",
            "WARNING:absl:Importing a function (__inference_efficientnetb0_layer_call_and_return_conditional_losses_83347) with ops with custom gradients. Will likely fail if a gradient is requested.\n",
            "WARNING:absl:Importing a function (__inference_efficientnetb0_layer_call_and_return_conditional_losses_83347) with ops with custom gradients. Will likely fail if a gradient is requested.\n",
            "WARNING:absl:Importing a function (__inference_efficientnetb0_layer_call_and_return_conditional_losses_83347) with ops with custom gradients. Will likely fail if a gradient is requested.\n",
            "WARNING:absl:Importing a function (__inference_efficientnetb0_layer_call_and_return_conditional_losses_83347) with ops with custom gradients. Will likely fail if a gradient is requested.\n",
            "WARNING:absl:Importing a function (__inference_efficientnetb0_layer_call_and_return_conditional_losses_83347) with ops with custom gradients. Will likely fail if a gradient is requested.\n",
            "WARNING:absl:Importing a function (__inference_efficientnetb0_layer_call_and_return_conditional_losses_83347) with ops with custom gradients. Will likely fail if a gradient is requested.\n",
            "WARNING:absl:Importing a function (__inference_efficientnetb0_layer_call_and_return_conditional_losses_83347) with ops with custom gradients. Will likely fail if a gradient is requested.\n",
            "WARNING:absl:Importing a function (__inference_efficientnetb0_layer_call_and_return_conditional_losses_83347) with ops with custom gradients. Will likely fail if a gradient is requested.\n",
            "WARNING:absl:Importing a function (__inference_efficientnetb0_layer_call_and_return_conditional_losses_83347) with ops with custom gradients. Will likely fail if a gradient is requested.\n",
            "WARNING:absl:Importing a function (__inference_efficientnetb0_layer_call_and_return_conditional_losses_83347) with ops with custom gradients. Will likely fail if a gradient is requested.\n",
            "WARNING:absl:Importing a function (__inference_efficientnetb0_layer_call_and_return_conditional_losses_83347) with ops with custom gradients. Will likely fail if a gradient is requested.\n",
            "WARNING:absl:Importing a function (__inference_efficientnetb0_layer_call_and_return_conditional_losses_83347) with ops with custom gradients. Will likely fail if a gradient is requested.\n",
            "WARNING:absl:Importing a function (__inference_efficientnetb0_layer_call_and_return_conditional_losses_83347) with ops with custom gradients. Will likely fail if a gradient is requested.\n",
            "WARNING:absl:Importing a function (__inference_efficientnetb0_layer_call_and_return_conditional_losses_83347) with ops with custom gradients. Will likely fail if a gradient is requested.\n",
            "WARNING:absl:Importing a function (__inference_efficientnetb0_layer_call_and_return_conditional_losses_83347) with ops with custom gradients. Will likely fail if a gradient is requested.\n",
            "WARNING:absl:Importing a function (__inference_block6a_activation_layer_call_and_return_conditional_losses_93537) with ops with custom gradients. Will likely fail if a gradient is requested.\n",
            "WARNING:absl:Importing a function (__inference_block2a_expand_activation_layer_call_and_return_conditional_losses_89918) with ops with custom gradients. Will likely fail if a gradient is requested.\n",
            "WARNING:absl:Importing a function (__inference_block5a_expand_activation_layer_call_and_return_conditional_losses_92388) with ops with custom gradients. Will likely fail if a gradient is requested.\n",
            "WARNING:absl:Importing a function (__inference_block1a_se_reduce_layer_call_and_return_conditional_losses_89711) with ops with custom gradients. Will likely fail if a gradient is requested.\n",
            "WARNING:absl:Importing a function (__inference_block6d_se_reduce_layer_call_and_return_conditional_losses_94651) with ops with custom gradients. Will likely fail if a gradient is requested.\n",
            "WARNING:absl:Importing a function (__inference_block4a_expand_activation_layer_call_and_return_conditional_losses_58186) with ops with custom gradients. Will likely fail if a gradient is requested.\n",
            "WARNING:absl:Importing a function (__inference_block4c_se_reduce_layer_call_and_return_conditional_losses_58915) with ops with custom gradients. Will likely fail if a gradient is requested.\n",
            "WARNING:absl:Importing a function (__inference_block3a_activation_layer_call_and_return_conditional_losses_57619) with ops with custom gradients. Will likely fail if a gradient is requested.\n",
            "WARNING:absl:Importing a function (__inference_block6a_se_reduce_layer_call_and_return_conditional_losses_60215) with ops with custom gradients. Will likely fail if a gradient is requested.\n",
            "WARNING:absl:Importing a function (__inference_top_activation_layer_call_and_return_conditional_losses_61694) with ops with custom gradients. Will likely fail if a gradient is requested.\n",
            "WARNING:absl:Importing a function (__inference_block4b_expand_activation_layer_call_and_return_conditional_losses_91642) with ops with custom gradients. Will likely fail if a gradient is requested.\n",
            "WARNING:absl:Importing a function (__inference_block5b_activation_layer_call_and_return_conditional_losses_92791) with ops with custom gradients. Will likely fail if a gradient is requested.\n",
            "WARNING:absl:Importing a function (__inference_block7a_expand_activation_layer_call_and_return_conditional_losses_61409) with ops with custom gradients. Will likely fail if a gradient is requested.\n",
            "WARNING:absl:Importing a function (__inference_top_activation_layer_call_and_return_conditional_losses_95231) with ops with custom gradients. Will likely fail if a gradient is requested.\n",
            "WARNING:absl:Importing a function (__inference_block6c_activation_layer_call_and_return_conditional_losses_94236) with ops with custom gradients. Will likely fail if a gradient is requested.\n",
            "WARNING:absl:Importing a function (__inference_block6c_se_reduce_layer_call_and_return_conditional_losses_94278) with ops with custom gradients. Will likely fail if a gradient is requested.\n",
            "WARNING:absl:Importing a function (__inference_block5b_se_reduce_layer_call_and_return_conditional_losses_59538) with ops with custom gradients. Will likely fail if a gradient is requested.\n",
            "WARNING:absl:Importing a function (__inference_block6a_expand_activation_layer_call_and_return_conditional_losses_93460) with ops with custom gradients. Will likely fail if a gradient is requested.\n",
            "WARNING:absl:Importing a function (__inference_block6c_se_reduce_layer_call_and_return_conditional_losses_60838) with ops with custom gradients. Will likely fail if a gradient is requested.\n",
            "WARNING:absl:Importing a function (__inference_block2b_activation_layer_call_and_return_conditional_losses_90321) with ops with custom gradients. Will likely fail if a gradient is requested.\n",
            "WARNING:absl:Importing a function (__inference_block1a_se_reduce_layer_call_and_return_conditional_losses_56758) with ops with custom gradients. Will likely fail if a gradient is requested.\n",
            "WARNING:absl:Importing a function (__inference_block6b_se_reduce_layer_call_and_return_conditional_losses_60500) with ops with custom gradients. Will likely fail if a gradient is requested.\n",
            "WARNING:absl:Importing a function (__inference_model_layer_call_and_return_conditional_losses_78466) with ops with custom gradients. Will likely fail if a gradient is requested.\n",
            "WARNING:absl:Importing a function (__inference_model_layer_call_and_return_conditional_losses_78466) with ops with custom gradients. Will likely fail if a gradient is requested.\n",
            "WARNING:absl:Importing a function (__inference_model_layer_call_and_return_conditional_losses_78466) with ops with custom gradients. Will likely fail if a gradient is requested.\n",
            "WARNING:absl:Importing a function (__inference_model_layer_call_and_return_conditional_losses_78466) with ops with custom gradients. Will likely fail if a gradient is requested.\n",
            "WARNING:absl:Importing a function (__inference_model_layer_call_and_return_conditional_losses_78466) with ops with custom gradients. Will likely fail if a gradient is requested.\n",
            "WARNING:absl:Importing a function (__inference_model_layer_call_and_return_conditional_losses_78466) with ops with custom gradients. Will likely fail if a gradient is requested.\n",
            "WARNING:absl:Importing a function (__inference_model_layer_call_and_return_conditional_losses_78466) with ops with custom gradients. Will likely fail if a gradient is requested.\n",
            "WARNING:absl:Importing a function (__inference_model_layer_call_and_return_conditional_losses_78466) with ops with custom gradients. Will likely fail if a gradient is requested.\n",
            "WARNING:absl:Importing a function (__inference_model_layer_call_and_return_conditional_losses_78466) with ops with custom gradients. Will likely fail if a gradient is requested.\n",
            "WARNING:absl:Importing a function (__inference_model_layer_call_and_return_conditional_losses_78466) with ops with custom gradients. Will likely fail if a gradient is requested.\n",
            "WARNING:absl:Importing a function (__inference_model_layer_call_and_return_conditional_losses_78466) with ops with custom gradients. Will likely fail if a gradient is requested.\n",
            "WARNING:absl:Importing a function (__inference_model_layer_call_and_return_conditional_losses_78466) with ops with custom gradients. Will likely fail if a gradient is requested.\n",
            "WARNING:absl:Importing a function (__inference_model_layer_call_and_return_conditional_losses_78466) with ops with custom gradients. Will likely fail if a gradient is requested.\n",
            "WARNING:absl:Importing a function (__inference_model_layer_call_and_return_conditional_losses_78466) with ops with custom gradients. Will likely fail if a gradient is requested.\n",
            "WARNING:absl:Importing a function (__inference_model_layer_call_and_return_conditional_losses_78466) with ops with custom gradients. Will likely fail if a gradient is requested.\n",
            "WARNING:absl:Importing a function (__inference_model_layer_call_and_return_conditional_losses_78466) with ops with custom gradients. Will likely fail if a gradient is requested.\n",
            "WARNING:absl:Importing a function (__inference_model_layer_call_and_return_conditional_losses_78466) with ops with custom gradients. Will likely fail if a gradient is requested.\n",
            "WARNING:absl:Importing a function (__inference_model_layer_call_and_return_conditional_losses_78466) with ops with custom gradients. Will likely fail if a gradient is requested.\n",
            "WARNING:absl:Importing a function (__inference_model_layer_call_and_return_conditional_losses_78466) with ops with custom gradients. Will likely fail if a gradient is requested.\n",
            "WARNING:absl:Importing a function (__inference_model_layer_call_and_return_conditional_losses_78466) with ops with custom gradients. Will likely fail if a gradient is requested.\n",
            "WARNING:absl:Importing a function (__inference_model_layer_call_and_return_conditional_losses_78466) with ops with custom gradients. Will likely fail if a gradient is requested.\n",
            "WARNING:absl:Importing a function (__inference_model_layer_call_and_return_conditional_losses_78466) with ops with custom gradients. Will likely fail if a gradient is requested.\n",
            "WARNING:absl:Importing a function (__inference_model_layer_call_and_return_conditional_losses_78466) with ops with custom gradients. Will likely fail if a gradient is requested.\n",
            "WARNING:absl:Importing a function (__inference_model_layer_call_and_return_conditional_losses_78466) with ops with custom gradients. Will likely fail if a gradient is requested.\n",
            "WARNING:absl:Importing a function (__inference_model_layer_call_and_return_conditional_losses_78466) with ops with custom gradients. Will likely fail if a gradient is requested.\n",
            "WARNING:absl:Importing a function (__inference_model_layer_call_and_return_conditional_losses_78466) with ops with custom gradients. Will likely fail if a gradient is requested.\n",
            "WARNING:absl:Importing a function (__inference_model_layer_call_and_return_conditional_losses_78466) with ops with custom gradients. Will likely fail if a gradient is requested.\n",
            "WARNING:absl:Importing a function (__inference_model_layer_call_and_return_conditional_losses_78466) with ops with custom gradients. Will likely fail if a gradient is requested.\n",
            "WARNING:absl:Importing a function (__inference_model_layer_call_and_return_conditional_losses_78466) with ops with custom gradients. Will likely fail if a gradient is requested.\n",
            "WARNING:absl:Importing a function (__inference_model_layer_call_and_return_conditional_losses_78466) with ops with custom gradients. Will likely fail if a gradient is requested.\n",
            "WARNING:absl:Importing a function (__inference_model_layer_call_and_return_conditional_losses_78466) with ops with custom gradients. Will likely fail if a gradient is requested.\n",
            "WARNING:absl:Importing a function (__inference_model_layer_call_and_return_conditional_losses_78466) with ops with custom gradients. Will likely fail if a gradient is requested.\n",
            "WARNING:absl:Importing a function (__inference_model_layer_call_and_return_conditional_losses_78466) with ops with custom gradients. Will likely fail if a gradient is requested.\n",
            "WARNING:absl:Importing a function (__inference_model_layer_call_and_return_conditional_losses_78466) with ops with custom gradients. Will likely fail if a gradient is requested.\n",
            "WARNING:absl:Importing a function (__inference_model_layer_call_and_return_conditional_losses_78466) with ops with custom gradients. Will likely fail if a gradient is requested.\n",
            "WARNING:absl:Importing a function (__inference_model_layer_call_and_return_conditional_losses_78466) with ops with custom gradients. Will likely fail if a gradient is requested.\n",
            "WARNING:absl:Importing a function (__inference_model_layer_call_and_return_conditional_losses_78466) with ops with custom gradients. Will likely fail if a gradient is requested.\n",
            "WARNING:absl:Importing a function (__inference_model_layer_call_and_return_conditional_losses_78466) with ops with custom gradients. Will likely fail if a gradient is requested.\n",
            "WARNING:absl:Importing a function (__inference_model_layer_call_and_return_conditional_losses_78466) with ops with custom gradients. Will likely fail if a gradient is requested.\n",
            "WARNING:absl:Importing a function (__inference_model_layer_call_and_return_conditional_losses_78466) with ops with custom gradients. Will likely fail if a gradient is requested.\n",
            "WARNING:absl:Importing a function (__inference_model_layer_call_and_return_conditional_losses_78466) with ops with custom gradients. Will likely fail if a gradient is requested.\n",
            "WARNING:absl:Importing a function (__inference_model_layer_call_and_return_conditional_losses_78466) with ops with custom gradients. Will likely fail if a gradient is requested.\n",
            "WARNING:absl:Importing a function (__inference_model_layer_call_and_return_conditional_losses_78466) with ops with custom gradients. Will likely fail if a gradient is requested.\n",
            "WARNING:absl:Importing a function (__inference_model_layer_call_and_return_conditional_losses_78466) with ops with custom gradients. Will likely fail if a gradient is requested.\n",
            "WARNING:absl:Importing a function (__inference_model_layer_call_and_return_conditional_losses_78466) with ops with custom gradients. Will likely fail if a gradient is requested.\n",
            "WARNING:absl:Importing a function (__inference_model_layer_call_and_return_conditional_losses_78466) with ops with custom gradients. Will likely fail if a gradient is requested.\n",
            "WARNING:absl:Importing a function (__inference_model_layer_call_and_return_conditional_losses_78466) with ops with custom gradients. Will likely fail if a gradient is requested.\n",
            "WARNING:absl:Importing a function (__inference_model_layer_call_and_return_conditional_losses_78466) with ops with custom gradients. Will likely fail if a gradient is requested.\n",
            "WARNING:absl:Importing a function (__inference_model_layer_call_and_return_conditional_losses_78466) with ops with custom gradients. Will likely fail if a gradient is requested.\n",
            "WARNING:absl:Importing a function (__inference_block4c_activation_layer_call_and_return_conditional_losses_58866) with ops with custom gradients. Will likely fail if a gradient is requested.\n",
            "WARNING:absl:Importing a function (__inference_model_layer_call_and_return_conditional_losses_76712) with ops with custom gradients. Will likely fail if a gradient is requested.\n",
            "WARNING:absl:Importing a function (__inference_model_layer_call_and_return_conditional_losses_76712) with ops with custom gradients. Will likely fail if a gradient is requested.\n",
            "WARNING:absl:Importing a function (__inference_model_layer_call_and_return_conditional_losses_76712) with ops with custom gradients. Will likely fail if a gradient is requested.\n",
            "WARNING:absl:Importing a function (__inference_model_layer_call_and_return_conditional_losses_76712) with ops with custom gradients. Will likely fail if a gradient is requested.\n",
            "WARNING:absl:Importing a function (__inference_model_layer_call_and_return_conditional_losses_76712) with ops with custom gradients. Will likely fail if a gradient is requested.\n",
            "WARNING:absl:Importing a function (__inference_model_layer_call_and_return_conditional_losses_76712) with ops with custom gradients. Will likely fail if a gradient is requested.\n",
            "WARNING:absl:Importing a function (__inference_model_layer_call_and_return_conditional_losses_76712) with ops with custom gradients. Will likely fail if a gradient is requested.\n",
            "WARNING:absl:Importing a function (__inference_model_layer_call_and_return_conditional_losses_76712) with ops with custom gradients. Will likely fail if a gradient is requested.\n",
            "WARNING:absl:Importing a function (__inference_model_layer_call_and_return_conditional_losses_76712) with ops with custom gradients. Will likely fail if a gradient is requested.\n",
            "WARNING:absl:Importing a function (__inference_model_layer_call_and_return_conditional_losses_76712) with ops with custom gradients. Will likely fail if a gradient is requested.\n",
            "WARNING:absl:Importing a function (__inference_model_layer_call_and_return_conditional_losses_76712) with ops with custom gradients. Will likely fail if a gradient is requested.\n",
            "WARNING:absl:Importing a function (__inference_model_layer_call_and_return_conditional_losses_76712) with ops with custom gradients. Will likely fail if a gradient is requested.\n",
            "WARNING:absl:Importing a function (__inference_model_layer_call_and_return_conditional_losses_76712) with ops with custom gradients. Will likely fail if a gradient is requested.\n",
            "WARNING:absl:Importing a function (__inference_model_layer_call_and_return_conditional_losses_76712) with ops with custom gradients. Will likely fail if a gradient is requested.\n",
            "WARNING:absl:Importing a function (__inference_model_layer_call_and_return_conditional_losses_76712) with ops with custom gradients. Will likely fail if a gradient is requested.\n",
            "WARNING:absl:Importing a function (__inference_model_layer_call_and_return_conditional_losses_76712) with ops with custom gradients. Will likely fail if a gradient is requested.\n",
            "WARNING:absl:Importing a function (__inference_model_layer_call_and_return_conditional_losses_76712) with ops with custom gradients. Will likely fail if a gradient is requested.\n",
            "WARNING:absl:Importing a function (__inference_model_layer_call_and_return_conditional_losses_76712) with ops with custom gradients. Will likely fail if a gradient is requested.\n",
            "WARNING:absl:Importing a function (__inference_model_layer_call_and_return_conditional_losses_76712) with ops with custom gradients. Will likely fail if a gradient is requested.\n",
            "WARNING:absl:Importing a function (__inference_model_layer_call_and_return_conditional_losses_76712) with ops with custom gradients. Will likely fail if a gradient is requested.\n",
            "WARNING:absl:Importing a function (__inference_model_layer_call_and_return_conditional_losses_76712) with ops with custom gradients. Will likely fail if a gradient is requested.\n",
            "WARNING:absl:Importing a function (__inference_model_layer_call_and_return_conditional_losses_76712) with ops with custom gradients. Will likely fail if a gradient is requested.\n",
            "WARNING:absl:Importing a function (__inference_model_layer_call_and_return_conditional_losses_76712) with ops with custom gradients. Will likely fail if a gradient is requested.\n",
            "WARNING:absl:Importing a function (__inference_model_layer_call_and_return_conditional_losses_76712) with ops with custom gradients. Will likely fail if a gradient is requested.\n",
            "WARNING:absl:Importing a function (__inference_model_layer_call_and_return_conditional_losses_76712) with ops with custom gradients. Will likely fail if a gradient is requested.\n",
            "WARNING:absl:Importing a function (__inference_model_layer_call_and_return_conditional_losses_76712) with ops with custom gradients. Will likely fail if a gradient is requested.\n",
            "WARNING:absl:Importing a function (__inference_model_layer_call_and_return_conditional_losses_76712) with ops with custom gradients. Will likely fail if a gradient is requested.\n",
            "WARNING:absl:Importing a function (__inference_model_layer_call_and_return_conditional_losses_76712) with ops with custom gradients. Will likely fail if a gradient is requested.\n",
            "WARNING:absl:Importing a function (__inference_model_layer_call_and_return_conditional_losses_76712) with ops with custom gradients. Will likely fail if a gradient is requested.\n",
            "WARNING:absl:Importing a function (__inference_model_layer_call_and_return_conditional_losses_76712) with ops with custom gradients. Will likely fail if a gradient is requested.\n",
            "WARNING:absl:Importing a function (__inference_model_layer_call_and_return_conditional_losses_76712) with ops with custom gradients. Will likely fail if a gradient is requested.\n",
            "WARNING:absl:Importing a function (__inference_model_layer_call_and_return_conditional_losses_76712) with ops with custom gradients. Will likely fail if a gradient is requested.\n",
            "WARNING:absl:Importing a function (__inference_model_layer_call_and_return_conditional_losses_76712) with ops with custom gradients. Will likely fail if a gradient is requested.\n",
            "WARNING:absl:Importing a function (__inference_model_layer_call_and_return_conditional_losses_76712) with ops with custom gradients. Will likely fail if a gradient is requested.\n",
            "WARNING:absl:Importing a function (__inference_model_layer_call_and_return_conditional_losses_76712) with ops with custom gradients. Will likely fail if a gradient is requested.\n",
            "WARNING:absl:Importing a function (__inference_model_layer_call_and_return_conditional_losses_76712) with ops with custom gradients. Will likely fail if a gradient is requested.\n",
            "WARNING:absl:Importing a function (__inference_model_layer_call_and_return_conditional_losses_76712) with ops with custom gradients. Will likely fail if a gradient is requested.\n",
            "WARNING:absl:Importing a function (__inference_model_layer_call_and_return_conditional_losses_76712) with ops with custom gradients. Will likely fail if a gradient is requested.\n",
            "WARNING:absl:Importing a function (__inference_model_layer_call_and_return_conditional_losses_76712) with ops with custom gradients. Will likely fail if a gradient is requested.\n",
            "WARNING:absl:Importing a function (__inference_model_layer_call_and_return_conditional_losses_76712) with ops with custom gradients. Will likely fail if a gradient is requested.\n",
            "WARNING:absl:Importing a function (__inference_model_layer_call_and_return_conditional_losses_76712) with ops with custom gradients. Will likely fail if a gradient is requested.\n",
            "WARNING:absl:Importing a function (__inference_model_layer_call_and_return_conditional_losses_76712) with ops with custom gradients. Will likely fail if a gradient is requested.\n",
            "WARNING:absl:Importing a function (__inference_model_layer_call_and_return_conditional_losses_76712) with ops with custom gradients. Will likely fail if a gradient is requested.\n",
            "WARNING:absl:Importing a function (__inference_model_layer_call_and_return_conditional_losses_76712) with ops with custom gradients. Will likely fail if a gradient is requested.\n",
            "WARNING:absl:Importing a function (__inference_model_layer_call_and_return_conditional_losses_76712) with ops with custom gradients. Will likely fail if a gradient is requested.\n",
            "WARNING:absl:Importing a function (__inference_model_layer_call_and_return_conditional_losses_76712) with ops with custom gradients. Will likely fail if a gradient is requested.\n",
            "WARNING:absl:Importing a function (__inference_model_layer_call_and_return_conditional_losses_76712) with ops with custom gradients. Will likely fail if a gradient is requested.\n",
            "WARNING:absl:Importing a function (__inference_model_layer_call_and_return_conditional_losses_76712) with ops with custom gradients. Will likely fail if a gradient is requested.\n",
            "WARNING:absl:Importing a function (__inference_model_layer_call_and_return_conditional_losses_76712) with ops with custom gradients. Will likely fail if a gradient is requested.\n",
            "WARNING:absl:Importing a function (__inference_block3a_expand_activation_layer_call_and_return_conditional_losses_57562) with ops with custom gradients. Will likely fail if a gradient is requested.\n",
            "WARNING:absl:Importing a function (__inference_block6b_expand_activation_layer_call_and_return_conditional_losses_93786) with ops with custom gradients. Will likely fail if a gradient is requested.\n",
            "WARNING:absl:Importing a function (__inference_block4a_activation_layer_call_and_return_conditional_losses_91393) with ops with custom gradients. Will likely fail if a gradient is requested.\n",
            "WARNING:absl:Importing a function (__inference_block7a_activation_layer_call_and_return_conditional_losses_94982) with ops with custom gradients. Will likely fail if a gradient is requested.\n",
            "WARNING:absl:Importing a function (__inference_block3b_activation_layer_call_and_return_conditional_losses_91020) with ops with custom gradients. Will likely fail if a gradient is requested.\n",
            "WARNING:absl:Importing a function (__inference_block6c_expand_activation_layer_call_and_return_conditional_losses_94159) with ops with custom gradients. Will likely fail if a gradient is requested.\n",
            "WARNING:absl:Importing a function (__inference_block1a_activation_layer_call_and_return_conditional_losses_56709) with ops with custom gradients. Will likely fail if a gradient is requested.\n",
            "WARNING:absl:Importing a function (__inference_block3b_se_reduce_layer_call_and_return_conditional_losses_91062) with ops with custom gradients. Will likely fail if a gradient is requested.\n",
            "WARNING:absl:Importing a function (__inference_block5b_se_reduce_layer_call_and_return_conditional_losses_92833) with ops with custom gradients. Will likely fail if a gradient is requested.\n",
            "WARNING:absl:Importing a function (__inference_block6b_se_reduce_layer_call_and_return_conditional_losses_93905) with ops with custom gradients. Will likely fail if a gradient is requested.\n",
            "WARNING:absl:Importing a function (__inference_efficientnetb0_layer_call_and_return_conditional_losses_88220) with ops with custom gradients. Will likely fail if a gradient is requested.\n",
            "WARNING:absl:Importing a function (__inference_efficientnetb0_layer_call_and_return_conditional_losses_88220) with ops with custom gradients. Will likely fail if a gradient is requested.\n",
            "WARNING:absl:Importing a function (__inference_efficientnetb0_layer_call_and_return_conditional_losses_88220) with ops with custom gradients. Will likely fail if a gradient is requested.\n",
            "WARNING:absl:Importing a function (__inference_efficientnetb0_layer_call_and_return_conditional_losses_88220) with ops with custom gradients. Will likely fail if a gradient is requested.\n",
            "WARNING:absl:Importing a function (__inference_efficientnetb0_layer_call_and_return_conditional_losses_88220) with ops with custom gradients. Will likely fail if a gradient is requested.\n",
            "WARNING:absl:Importing a function (__inference_efficientnetb0_layer_call_and_return_conditional_losses_88220) with ops with custom gradients. Will likely fail if a gradient is requested.\n",
            "WARNING:absl:Importing a function (__inference_efficientnetb0_layer_call_and_return_conditional_losses_88220) with ops with custom gradients. Will likely fail if a gradient is requested.\n",
            "WARNING:absl:Importing a function (__inference_efficientnetb0_layer_call_and_return_conditional_losses_88220) with ops with custom gradients. Will likely fail if a gradient is requested.\n",
            "WARNING:absl:Importing a function (__inference_efficientnetb0_layer_call_and_return_conditional_losses_88220) with ops with custom gradients. Will likely fail if a gradient is requested.\n",
            "WARNING:absl:Importing a function (__inference_efficientnetb0_layer_call_and_return_conditional_losses_88220) with ops with custom gradients. Will likely fail if a gradient is requested.\n",
            "WARNING:absl:Importing a function (__inference_efficientnetb0_layer_call_and_return_conditional_losses_88220) with ops with custom gradients. Will likely fail if a gradient is requested.\n",
            "WARNING:absl:Importing a function (__inference_efficientnetb0_layer_call_and_return_conditional_losses_88220) with ops with custom gradients. Will likely fail if a gradient is requested.\n",
            "WARNING:absl:Importing a function (__inference_efficientnetb0_layer_call_and_return_conditional_losses_88220) with ops with custom gradients. Will likely fail if a gradient is requested.\n",
            "WARNING:absl:Importing a function (__inference_efficientnetb0_layer_call_and_return_conditional_losses_88220) with ops with custom gradients. Will likely fail if a gradient is requested.\n",
            "WARNING:absl:Importing a function (__inference_efficientnetb0_layer_call_and_return_conditional_losses_88220) with ops with custom gradients. Will likely fail if a gradient is requested.\n",
            "WARNING:absl:Importing a function (__inference_efficientnetb0_layer_call_and_return_conditional_losses_88220) with ops with custom gradients. Will likely fail if a gradient is requested.\n",
            "WARNING:absl:Importing a function (__inference_efficientnetb0_layer_call_and_return_conditional_losses_88220) with ops with custom gradients. Will likely fail if a gradient is requested.\n",
            "WARNING:absl:Importing a function (__inference_efficientnetb0_layer_call_and_return_conditional_losses_88220) with ops with custom gradients. Will likely fail if a gradient is requested.\n",
            "WARNING:absl:Importing a function (__inference_efficientnetb0_layer_call_and_return_conditional_losses_88220) with ops with custom gradients. Will likely fail if a gradient is requested.\n",
            "WARNING:absl:Importing a function (__inference_efficientnetb0_layer_call_and_return_conditional_losses_88220) with ops with custom gradients. Will likely fail if a gradient is requested.\n",
            "WARNING:absl:Importing a function (__inference_efficientnetb0_layer_call_and_return_conditional_losses_88220) with ops with custom gradients. Will likely fail if a gradient is requested.\n",
            "WARNING:absl:Importing a function (__inference_efficientnetb0_layer_call_and_return_conditional_losses_88220) with ops with custom gradients. Will likely fail if a gradient is requested.\n",
            "WARNING:absl:Importing a function (__inference_efficientnetb0_layer_call_and_return_conditional_losses_88220) with ops with custom gradients. Will likely fail if a gradient is requested.\n",
            "WARNING:absl:Importing a function (__inference_efficientnetb0_layer_call_and_return_conditional_losses_88220) with ops with custom gradients. Will likely fail if a gradient is requested.\n",
            "WARNING:absl:Importing a function (__inference_efficientnetb0_layer_call_and_return_conditional_losses_88220) with ops with custom gradients. Will likely fail if a gradient is requested.\n",
            "WARNING:absl:Importing a function (__inference_efficientnetb0_layer_call_and_return_conditional_losses_88220) with ops with custom gradients. Will likely fail if a gradient is requested.\n",
            "WARNING:absl:Importing a function (__inference_efficientnetb0_layer_call_and_return_conditional_losses_88220) with ops with custom gradients. Will likely fail if a gradient is requested.\n",
            "WARNING:absl:Importing a function (__inference_efficientnetb0_layer_call_and_return_conditional_losses_88220) with ops with custom gradients. Will likely fail if a gradient is requested.\n",
            "WARNING:absl:Importing a function (__inference_efficientnetb0_layer_call_and_return_conditional_losses_88220) with ops with custom gradients. Will likely fail if a gradient is requested.\n",
            "WARNING:absl:Importing a function (__inference_efficientnetb0_layer_call_and_return_conditional_losses_88220) with ops with custom gradients. Will likely fail if a gradient is requested.\n",
            "WARNING:absl:Importing a function (__inference_efficientnetb0_layer_call_and_return_conditional_losses_88220) with ops with custom gradients. Will likely fail if a gradient is requested.\n",
            "WARNING:absl:Importing a function (__inference_efficientnetb0_layer_call_and_return_conditional_losses_88220) with ops with custom gradients. Will likely fail if a gradient is requested.\n",
            "WARNING:absl:Importing a function (__inference_efficientnetb0_layer_call_and_return_conditional_losses_88220) with ops with custom gradients. Will likely fail if a gradient is requested.\n",
            "WARNING:absl:Importing a function (__inference_efficientnetb0_layer_call_and_return_conditional_losses_88220) with ops with custom gradients. Will likely fail if a gradient is requested.\n",
            "WARNING:absl:Importing a function (__inference_efficientnetb0_layer_call_and_return_conditional_losses_88220) with ops with custom gradients. Will likely fail if a gradient is requested.\n",
            "WARNING:absl:Importing a function (__inference_efficientnetb0_layer_call_and_return_conditional_losses_88220) with ops with custom gradients. Will likely fail if a gradient is requested.\n",
            "WARNING:absl:Importing a function (__inference_efficientnetb0_layer_call_and_return_conditional_losses_88220) with ops with custom gradients. Will likely fail if a gradient is requested.\n",
            "WARNING:absl:Importing a function (__inference_efficientnetb0_layer_call_and_return_conditional_losses_88220) with ops with custom gradients. Will likely fail if a gradient is requested.\n",
            "WARNING:absl:Importing a function (__inference_efficientnetb0_layer_call_and_return_conditional_losses_88220) with ops with custom gradients. Will likely fail if a gradient is requested.\n",
            "WARNING:absl:Importing a function (__inference_efficientnetb0_layer_call_and_return_conditional_losses_88220) with ops with custom gradients. Will likely fail if a gradient is requested.\n",
            "WARNING:absl:Importing a function (__inference_efficientnetb0_layer_call_and_return_conditional_losses_88220) with ops with custom gradients. Will likely fail if a gradient is requested.\n",
            "WARNING:absl:Importing a function (__inference_efficientnetb0_layer_call_and_return_conditional_losses_88220) with ops with custom gradients. Will likely fail if a gradient is requested.\n",
            "WARNING:absl:Importing a function (__inference_efficientnetb0_layer_call_and_return_conditional_losses_88220) with ops with custom gradients. Will likely fail if a gradient is requested.\n",
            "WARNING:absl:Importing a function (__inference_efficientnetb0_layer_call_and_return_conditional_losses_88220) with ops with custom gradients. Will likely fail if a gradient is requested.\n",
            "WARNING:absl:Importing a function (__inference_efficientnetb0_layer_call_and_return_conditional_losses_88220) with ops with custom gradients. Will likely fail if a gradient is requested.\n",
            "WARNING:absl:Importing a function (__inference_efficientnetb0_layer_call_and_return_conditional_losses_88220) with ops with custom gradients. Will likely fail if a gradient is requested.\n",
            "WARNING:absl:Importing a function (__inference_efficientnetb0_layer_call_and_return_conditional_losses_88220) with ops with custom gradients. Will likely fail if a gradient is requested.\n",
            "WARNING:absl:Importing a function (__inference_efficientnetb0_layer_call_and_return_conditional_losses_88220) with ops with custom gradients. Will likely fail if a gradient is requested.\n",
            "WARNING:absl:Importing a function (__inference_efficientnetb0_layer_call_and_return_conditional_losses_88220) with ops with custom gradients. Will likely fail if a gradient is requested.\n",
            "WARNING:absl:Importing a function (__inference_block4b_expand_activation_layer_call_and_return_conditional_losses_58472) with ops with custom gradients. Will likely fail if a gradient is requested.\n",
            "WARNING:absl:Importing a function (__inference_block6d_activation_layer_call_and_return_conditional_losses_94609) with ops with custom gradients. Will likely fail if a gradient is requested.\n",
            "WARNING:absl:Importing a function (__inference_block5c_se_reduce_layer_call_and_return_conditional_losses_59876) with ops with custom gradients. Will likely fail if a gradient is requested.\n",
            "WARNING:absl:Importing a function (__inference_block1a_activation_layer_call_and_return_conditional_losses_89669) with ops with custom gradients. Will likely fail if a gradient is requested.\n"
          ],
          "name": "stderr"
        }
      ]
    },
    {
      "cell_type": "markdown",
      "metadata": {
        "id": "CT50keE46i9y"
      },
      "source": [
        "Does loading a `SavedModel` retain all of the underlying layers `dtype_policy` (we want them to be `\"mixed_float16\"`)."
      ]
    },
    {
      "cell_type": "code",
      "metadata": {
        "colab": {
          "base_uri": "https://localhost:8080/"
        },
        "id": "fUJXpxmMKnYV",
        "outputId": "c64d6f9f-1578-485a-9b80-7a2abc041c18"
      },
      "source": [
        "# Check the layers in the base model and see what dtype policy they're using\n",
        "for layer in loaded_saved_model.layers[1].layers:\n",
        "  print(layer.name, layer.trainable, layer.dtype, layer.dtype_policy)"
      ],
      "execution_count": 37,
      "outputs": [
        {
          "output_type": "stream",
          "text": [
            "input_1 True float32 <Policy \"float32\">\n",
            "rescaling True float32 <Policy \"mixed_float16\">\n",
            "normalization True float32 <Policy \"float32\">\n",
            "stem_conv_pad True float32 <Policy \"mixed_float16\">\n",
            "stem_conv True float32 <Policy \"mixed_float16\">\n",
            "stem_bn True float32 <Policy \"mixed_float16\">\n",
            "stem_activation True float32 <Policy \"mixed_float16\">\n",
            "block1a_dwconv True float32 <Policy \"mixed_float16\">\n",
            "block1a_bn True float32 <Policy \"mixed_float16\">\n",
            "block1a_activation True float32 <Policy \"mixed_float16\">\n",
            "block1a_se_squeeze True float32 <Policy \"mixed_float16\">\n",
            "block1a_se_reshape True float32 <Policy \"mixed_float16\">\n",
            "block1a_se_reduce True float32 <Policy \"mixed_float16\">\n",
            "block1a_se_expand True float32 <Policy \"mixed_float16\">\n",
            "block1a_se_excite True float32 <Policy \"mixed_float16\">\n",
            "block1a_project_conv True float32 <Policy \"mixed_float16\">\n",
            "block1a_project_bn True float32 <Policy \"mixed_float16\">\n",
            "block2a_expand_conv True float32 <Policy \"mixed_float16\">\n",
            "block2a_expand_bn True float32 <Policy \"mixed_float16\">\n",
            "block2a_expand_activation True float32 <Policy \"mixed_float16\">\n",
            "block2a_dwconv_pad True float32 <Policy \"mixed_float16\">\n",
            "block2a_dwconv True float32 <Policy \"mixed_float16\">\n",
            "block2a_bn True float32 <Policy \"mixed_float16\">\n",
            "block2a_activation True float32 <Policy \"mixed_float16\">\n",
            "block2a_se_squeeze True float32 <Policy \"mixed_float16\">\n",
            "block2a_se_reshape True float32 <Policy \"mixed_float16\">\n",
            "block2a_se_reduce True float32 <Policy \"mixed_float16\">\n",
            "block2a_se_expand True float32 <Policy \"mixed_float16\">\n",
            "block2a_se_excite True float32 <Policy \"mixed_float16\">\n",
            "block2a_project_conv True float32 <Policy \"mixed_float16\">\n",
            "block2a_project_bn True float32 <Policy \"mixed_float16\">\n",
            "block2b_expand_conv True float32 <Policy \"mixed_float16\">\n",
            "block2b_expand_bn True float32 <Policy \"mixed_float16\">\n",
            "block2b_expand_activation True float32 <Policy \"mixed_float16\">\n",
            "block2b_dwconv True float32 <Policy \"mixed_float16\">\n",
            "block2b_bn True float32 <Policy \"mixed_float16\">\n",
            "block2b_activation True float32 <Policy \"mixed_float16\">\n",
            "block2b_se_squeeze True float32 <Policy \"mixed_float16\">\n",
            "block2b_se_reshape True float32 <Policy \"mixed_float16\">\n",
            "block2b_se_reduce True float32 <Policy \"mixed_float16\">\n",
            "block2b_se_expand True float32 <Policy \"mixed_float16\">\n",
            "block2b_se_excite True float32 <Policy \"mixed_float16\">\n",
            "block2b_project_conv True float32 <Policy \"mixed_float16\">\n",
            "block2b_project_bn True float32 <Policy \"mixed_float16\">\n",
            "block2b_drop True float32 <Policy \"mixed_float16\">\n",
            "block2b_add True float32 <Policy \"mixed_float16\">\n",
            "block3a_expand_conv True float32 <Policy \"mixed_float16\">\n",
            "block3a_expand_bn True float32 <Policy \"mixed_float16\">\n",
            "block3a_expand_activation True float32 <Policy \"mixed_float16\">\n",
            "block3a_dwconv_pad True float32 <Policy \"mixed_float16\">\n",
            "block3a_dwconv True float32 <Policy \"mixed_float16\">\n",
            "block3a_bn True float32 <Policy \"mixed_float16\">\n",
            "block3a_activation True float32 <Policy \"mixed_float16\">\n",
            "block3a_se_squeeze True float32 <Policy \"mixed_float16\">\n",
            "block3a_se_reshape True float32 <Policy \"mixed_float16\">\n",
            "block3a_se_reduce True float32 <Policy \"mixed_float16\">\n",
            "block3a_se_expand True float32 <Policy \"mixed_float16\">\n",
            "block3a_se_excite True float32 <Policy \"mixed_float16\">\n",
            "block3a_project_conv True float32 <Policy \"mixed_float16\">\n",
            "block3a_project_bn True float32 <Policy \"mixed_float16\">\n",
            "block3b_expand_conv True float32 <Policy \"mixed_float16\">\n",
            "block3b_expand_bn True float32 <Policy \"mixed_float16\">\n",
            "block3b_expand_activation True float32 <Policy \"mixed_float16\">\n",
            "block3b_dwconv True float32 <Policy \"mixed_float16\">\n",
            "block3b_bn True float32 <Policy \"mixed_float16\">\n",
            "block3b_activation True float32 <Policy \"mixed_float16\">\n",
            "block3b_se_squeeze True float32 <Policy \"mixed_float16\">\n",
            "block3b_se_reshape True float32 <Policy \"mixed_float16\">\n",
            "block3b_se_reduce True float32 <Policy \"mixed_float16\">\n",
            "block3b_se_expand True float32 <Policy \"mixed_float16\">\n",
            "block3b_se_excite True float32 <Policy \"mixed_float16\">\n",
            "block3b_project_conv True float32 <Policy \"mixed_float16\">\n",
            "block3b_project_bn True float32 <Policy \"mixed_float16\">\n",
            "block3b_drop True float32 <Policy \"mixed_float16\">\n",
            "block3b_add True float32 <Policy \"mixed_float16\">\n",
            "block4a_expand_conv True float32 <Policy \"mixed_float16\">\n",
            "block4a_expand_bn True float32 <Policy \"mixed_float16\">\n",
            "block4a_expand_activation True float32 <Policy \"mixed_float16\">\n",
            "block4a_dwconv_pad True float32 <Policy \"mixed_float16\">\n",
            "block4a_dwconv True float32 <Policy \"mixed_float16\">\n",
            "block4a_bn True float32 <Policy \"mixed_float16\">\n",
            "block4a_activation True float32 <Policy \"mixed_float16\">\n",
            "block4a_se_squeeze True float32 <Policy \"mixed_float16\">\n",
            "block4a_se_reshape True float32 <Policy \"mixed_float16\">\n",
            "block4a_se_reduce True float32 <Policy \"mixed_float16\">\n",
            "block4a_se_expand True float32 <Policy \"mixed_float16\">\n",
            "block4a_se_excite True float32 <Policy \"mixed_float16\">\n",
            "block4a_project_conv True float32 <Policy \"mixed_float16\">\n",
            "block4a_project_bn True float32 <Policy \"mixed_float16\">\n",
            "block4b_expand_conv True float32 <Policy \"mixed_float16\">\n",
            "block4b_expand_bn True float32 <Policy \"mixed_float16\">\n",
            "block4b_expand_activation True float32 <Policy \"mixed_float16\">\n",
            "block4b_dwconv True float32 <Policy \"mixed_float16\">\n",
            "block4b_bn True float32 <Policy \"mixed_float16\">\n",
            "block4b_activation True float32 <Policy \"mixed_float16\">\n",
            "block4b_se_squeeze True float32 <Policy \"mixed_float16\">\n",
            "block4b_se_reshape True float32 <Policy \"mixed_float16\">\n",
            "block4b_se_reduce True float32 <Policy \"mixed_float16\">\n",
            "block4b_se_expand True float32 <Policy \"mixed_float16\">\n",
            "block4b_se_excite True float32 <Policy \"mixed_float16\">\n",
            "block4b_project_conv True float32 <Policy \"mixed_float16\">\n",
            "block4b_project_bn True float32 <Policy \"mixed_float16\">\n",
            "block4b_drop True float32 <Policy \"mixed_float16\">\n",
            "block4b_add True float32 <Policy \"mixed_float16\">\n",
            "block4c_expand_conv True float32 <Policy \"mixed_float16\">\n",
            "block4c_expand_bn True float32 <Policy \"mixed_float16\">\n",
            "block4c_expand_activation True float32 <Policy \"mixed_float16\">\n",
            "block4c_dwconv True float32 <Policy \"mixed_float16\">\n",
            "block4c_bn True float32 <Policy \"mixed_float16\">\n",
            "block4c_activation True float32 <Policy \"mixed_float16\">\n",
            "block4c_se_squeeze True float32 <Policy \"mixed_float16\">\n",
            "block4c_se_reshape True float32 <Policy \"mixed_float16\">\n",
            "block4c_se_reduce True float32 <Policy \"mixed_float16\">\n",
            "block4c_se_expand True float32 <Policy \"mixed_float16\">\n",
            "block4c_se_excite True float32 <Policy \"mixed_float16\">\n",
            "block4c_project_conv True float32 <Policy \"mixed_float16\">\n",
            "block4c_project_bn True float32 <Policy \"mixed_float16\">\n",
            "block4c_drop True float32 <Policy \"mixed_float16\">\n",
            "block4c_add True float32 <Policy \"mixed_float16\">\n",
            "block5a_expand_conv True float32 <Policy \"mixed_float16\">\n",
            "block5a_expand_bn True float32 <Policy \"mixed_float16\">\n",
            "block5a_expand_activation True float32 <Policy \"mixed_float16\">\n",
            "block5a_dwconv True float32 <Policy \"mixed_float16\">\n",
            "block5a_bn True float32 <Policy \"mixed_float16\">\n",
            "block5a_activation True float32 <Policy \"mixed_float16\">\n",
            "block5a_se_squeeze True float32 <Policy \"mixed_float16\">\n",
            "block5a_se_reshape True float32 <Policy \"mixed_float16\">\n",
            "block5a_se_reduce True float32 <Policy \"mixed_float16\">\n",
            "block5a_se_expand True float32 <Policy \"mixed_float16\">\n",
            "block5a_se_excite True float32 <Policy \"mixed_float16\">\n",
            "block5a_project_conv True float32 <Policy \"mixed_float16\">\n",
            "block5a_project_bn True float32 <Policy \"mixed_float16\">\n",
            "block5b_expand_conv True float32 <Policy \"mixed_float16\">\n",
            "block5b_expand_bn True float32 <Policy \"mixed_float16\">\n",
            "block5b_expand_activation True float32 <Policy \"mixed_float16\">\n",
            "block5b_dwconv True float32 <Policy \"mixed_float16\">\n",
            "block5b_bn True float32 <Policy \"mixed_float16\">\n",
            "block5b_activation True float32 <Policy \"mixed_float16\">\n",
            "block5b_se_squeeze True float32 <Policy \"mixed_float16\">\n",
            "block5b_se_reshape True float32 <Policy \"mixed_float16\">\n",
            "block5b_se_reduce True float32 <Policy \"mixed_float16\">\n",
            "block5b_se_expand True float32 <Policy \"mixed_float16\">\n",
            "block5b_se_excite True float32 <Policy \"mixed_float16\">\n",
            "block5b_project_conv True float32 <Policy \"mixed_float16\">\n",
            "block5b_project_bn True float32 <Policy \"mixed_float16\">\n",
            "block5b_drop True float32 <Policy \"mixed_float16\">\n",
            "block5b_add True float32 <Policy \"mixed_float16\">\n",
            "block5c_expand_conv True float32 <Policy \"mixed_float16\">\n",
            "block5c_expand_bn True float32 <Policy \"mixed_float16\">\n",
            "block5c_expand_activation True float32 <Policy \"mixed_float16\">\n",
            "block5c_dwconv True float32 <Policy \"mixed_float16\">\n",
            "block5c_bn True float32 <Policy \"mixed_float16\">\n",
            "block5c_activation True float32 <Policy \"mixed_float16\">\n",
            "block5c_se_squeeze True float32 <Policy \"mixed_float16\">\n",
            "block5c_se_reshape True float32 <Policy \"mixed_float16\">\n",
            "block5c_se_reduce True float32 <Policy \"mixed_float16\">\n",
            "block5c_se_expand True float32 <Policy \"mixed_float16\">\n",
            "block5c_se_excite True float32 <Policy \"mixed_float16\">\n",
            "block5c_project_conv True float32 <Policy \"mixed_float16\">\n",
            "block5c_project_bn True float32 <Policy \"mixed_float16\">\n",
            "block5c_drop True float32 <Policy \"mixed_float16\">\n",
            "block5c_add True float32 <Policy \"mixed_float16\">\n",
            "block6a_expand_conv True float32 <Policy \"mixed_float16\">\n",
            "block6a_expand_bn True float32 <Policy \"mixed_float16\">\n",
            "block6a_expand_activation True float32 <Policy \"mixed_float16\">\n",
            "block6a_dwconv_pad True float32 <Policy \"mixed_float16\">\n",
            "block6a_dwconv True float32 <Policy \"mixed_float16\">\n",
            "block6a_bn True float32 <Policy \"mixed_float16\">\n",
            "block6a_activation True float32 <Policy \"mixed_float16\">\n",
            "block6a_se_squeeze True float32 <Policy \"mixed_float16\">\n",
            "block6a_se_reshape True float32 <Policy \"mixed_float16\">\n",
            "block6a_se_reduce True float32 <Policy \"mixed_float16\">\n",
            "block6a_se_expand True float32 <Policy \"mixed_float16\">\n",
            "block6a_se_excite True float32 <Policy \"mixed_float16\">\n",
            "block6a_project_conv True float32 <Policy \"mixed_float16\">\n",
            "block6a_project_bn True float32 <Policy \"mixed_float16\">\n",
            "block6b_expand_conv True float32 <Policy \"mixed_float16\">\n",
            "block6b_expand_bn True float32 <Policy \"mixed_float16\">\n",
            "block6b_expand_activation True float32 <Policy \"mixed_float16\">\n",
            "block6b_dwconv True float32 <Policy \"mixed_float16\">\n",
            "block6b_bn True float32 <Policy \"mixed_float16\">\n",
            "block6b_activation True float32 <Policy \"mixed_float16\">\n",
            "block6b_se_squeeze True float32 <Policy \"mixed_float16\">\n",
            "block6b_se_reshape True float32 <Policy \"mixed_float16\">\n",
            "block6b_se_reduce True float32 <Policy \"mixed_float16\">\n",
            "block6b_se_expand True float32 <Policy \"mixed_float16\">\n",
            "block6b_se_excite True float32 <Policy \"mixed_float16\">\n",
            "block6b_project_conv True float32 <Policy \"mixed_float16\">\n",
            "block6b_project_bn True float32 <Policy \"mixed_float16\">\n",
            "block6b_drop True float32 <Policy \"mixed_float16\">\n",
            "block6b_add True float32 <Policy \"mixed_float16\">\n",
            "block6c_expand_conv True float32 <Policy \"mixed_float16\">\n",
            "block6c_expand_bn True float32 <Policy \"mixed_float16\">\n",
            "block6c_expand_activation True float32 <Policy \"mixed_float16\">\n",
            "block6c_dwconv True float32 <Policy \"mixed_float16\">\n",
            "block6c_bn True float32 <Policy \"mixed_float16\">\n",
            "block6c_activation True float32 <Policy \"mixed_float16\">\n",
            "block6c_se_squeeze True float32 <Policy \"mixed_float16\">\n",
            "block6c_se_reshape True float32 <Policy \"mixed_float16\">\n",
            "block6c_se_reduce True float32 <Policy \"mixed_float16\">\n",
            "block6c_se_expand True float32 <Policy \"mixed_float16\">\n",
            "block6c_se_excite True float32 <Policy \"mixed_float16\">\n",
            "block6c_project_conv True float32 <Policy \"mixed_float16\">\n",
            "block6c_project_bn True float32 <Policy \"mixed_float16\">\n",
            "block6c_drop True float32 <Policy \"mixed_float16\">\n",
            "block6c_add True float32 <Policy \"mixed_float16\">\n",
            "block6d_expand_conv True float32 <Policy \"mixed_float16\">\n",
            "block6d_expand_bn True float32 <Policy \"mixed_float16\">\n",
            "block6d_expand_activation True float32 <Policy \"mixed_float16\">\n",
            "block6d_dwconv True float32 <Policy \"mixed_float16\">\n",
            "block6d_bn True float32 <Policy \"mixed_float16\">\n",
            "block6d_activation True float32 <Policy \"mixed_float16\">\n",
            "block6d_se_squeeze True float32 <Policy \"mixed_float16\">\n",
            "block6d_se_reshape True float32 <Policy \"mixed_float16\">\n",
            "block6d_se_reduce True float32 <Policy \"mixed_float16\">\n",
            "block6d_se_expand True float32 <Policy \"mixed_float16\">\n",
            "block6d_se_excite True float32 <Policy \"mixed_float16\">\n",
            "block6d_project_conv True float32 <Policy \"mixed_float16\">\n",
            "block6d_project_bn True float32 <Policy \"mixed_float16\">\n",
            "block6d_drop True float32 <Policy \"mixed_float16\">\n",
            "block6d_add True float32 <Policy \"mixed_float16\">\n",
            "block7a_expand_conv True float32 <Policy \"mixed_float16\">\n",
            "block7a_expand_bn True float32 <Policy \"mixed_float16\">\n",
            "block7a_expand_activation True float32 <Policy \"mixed_float16\">\n",
            "block7a_dwconv True float32 <Policy \"mixed_float16\">\n",
            "block7a_bn True float32 <Policy \"mixed_float16\">\n",
            "block7a_activation True float32 <Policy \"mixed_float16\">\n",
            "block7a_se_squeeze True float32 <Policy \"mixed_float16\">\n",
            "block7a_se_reshape True float32 <Policy \"mixed_float16\">\n",
            "block7a_se_reduce True float32 <Policy \"mixed_float16\">\n",
            "block7a_se_expand True float32 <Policy \"mixed_float16\">\n",
            "block7a_se_excite True float32 <Policy \"mixed_float16\">\n",
            "block7a_project_conv True float32 <Policy \"mixed_float16\">\n",
            "block7a_project_bn True float32 <Policy \"mixed_float16\">\n",
            "top_conv True float32 <Policy \"mixed_float16\">\n",
            "top_bn True float32 <Policy \"mixed_float16\">\n",
            "top_activation True float32 <Policy \"mixed_float16\">\n"
          ],
          "name": "stdout"
        }
      ]
    },
    {
      "cell_type": "code",
      "metadata": {
        "id": "5Qym9gSm6vL_",
        "colab": {
          "base_uri": "https://localhost:8080/"
        },
        "outputId": "79b007b9-7cc5-4b72-b300-28323cc86d55"
      },
      "source": [
        "# Check loaded model performance (this should be the same as results_feature_extract_model)\n",
        "results_loaded_saved_model = loaded_saved_model.evaluate(test_data)\n",
        "results_loaded_saved_model"
      ],
      "execution_count": 38,
      "outputs": [
        {
          "output_type": "stream",
          "text": [
            "790/790 [==============================] - 47s 57ms/step - loss: 1.0917 - accuracy: 0.7053\n"
          ],
          "name": "stdout"
        },
        {
          "output_type": "execute_result",
          "data": {
            "text/plain": [
              "[1.0916582345962524, 0.7053465247154236]"
            ]
          },
          "metadata": {
            "tags": []
          },
          "execution_count": 38
        }
      ]
    },
    {
      "cell_type": "code",
      "metadata": {
        "id": "4BUhHSXI-l0v"
      },
      "source": [
        "# The loaded model's results should equal (or at least be very close) to the model's results prior to saving\n",
        "# Note: this will only work if you've instatiated results variables \n",
        "import numpy as np\n",
        "assert np.isclose(results_feature_extract_model, results_loaded_saved_model).all()"
      ],
      "execution_count": 39,
      "outputs": []
    },
    {
      "cell_type": "markdown",
      "metadata": {
        "id": "mXlDCU8zoUiK"
      },
      "source": [
        "That's what we want! Our loaded model performing as it should.\n",
        "\n",
        "> 🔑 **Note:** We spent a fair bit of time making sure our model saved correctly because training on a lot of data can be time-consuming, so we want to make sure we don't have to continaully train from scratch."
      ]
    },
    {
      "cell_type": "markdown",
      "metadata": {
        "id": "bj21OVxBGlw9"
      },
      "source": [
        "## TK Fine-tuning all of the layers in our base model\n",
        "\n",
        "Our feature-extraction model is showing some great promise after five epochs. But since we've got so much data, it's probably worthwhile that we see what results we can get with fine-tuning.\n",
        "\n",
        "In fact, let's set ourselves a challenge to beat the [DeepFood paper](https://arxiv.org/pdf/1606.05675.pdf). Reading through it, it seems they were able to achieve 77.4% top-1 accuracy on the test set.\n",
        "\n",
        "To start, let's load in our saved model.\n",
        "\n",
        "> 🔑 **Note:** It's worth remembering a traditional workflow for fine-tuning is to freeze a pre-trained base model and then train only the output layers for a few iterations so their weights can be updated inline with your custom data (feature extraction). And then unfreeze a number or all of the layers in the base model and continue training until the model stops improving."
      ]
    },
    {
      "cell_type": "code",
      "metadata": {
        "colab": {
          "base_uri": "https://localhost:8080/"
        },
        "id": "veoEmC6V-cZv",
        "outputId": "8d61ced4-160d-463b-fabf-8584866e8b5d"
      },
      "source": [
        "# Download the saved model from Google Storage\n",
        "!wget https://storage.googleapis.com/ztm_tf_course/food_vision/07_efficientnetb0_feature_extract_model_mixed_precision.zip "
      ],
      "execution_count": 40,
      "outputs": [
        {
          "output_type": "stream",
          "text": [
            "--2021-03-09 05:05:52--  https://storage.googleapis.com/ztm_tf_course/food_vision/07_efficientnetb0_feature_extract_model_mixed_precision.zip\n",
            "Resolving storage.googleapis.com (storage.googleapis.com)... 142.250.107.128, 74.125.20.128, 74.125.142.128, ...\n",
            "Connecting to storage.googleapis.com (storage.googleapis.com)|142.250.107.128|:443... connected.\n",
            "HTTP request sent, awaiting response... 200 OK\n",
            "Length: 16976857 (16M) [application/zip]\n",
            "Saving to: ‘07_efficientnetb0_feature_extract_model_mixed_precision.zip’\n",
            "\n",
            "07_efficientnetb0_f 100%[===================>]  16.19M  --.-KB/s    in 0.09s   \n",
            "\n",
            "2021-03-09 05:05:52 (177 MB/s) - ‘07_efficientnetb0_feature_extract_model_mixed_precision.zip’ saved [16976857/16976857]\n",
            "\n"
          ],
          "name": "stdout"
        }
      ]
    },
    {
      "cell_type": "code",
      "metadata": {
        "colab": {
          "base_uri": "https://localhost:8080/"
        },
        "id": "F5uIf_0J-jRt",
        "outputId": "2edf1382-4362-41e6-ace0-a732a1c2ebf1"
      },
      "source": [
        "# Unzip the SavedModel downloaded from Google Stroage\n",
        "!mkdir downloaded_gs_model # create new dir to store downloaded feature extraction model\n",
        "!unzip 07_efficientnetb0_feature_extract_model_mixed_precision.zip -d downloaded_gs_model"
      ],
      "execution_count": 41,
      "outputs": [
        {
          "output_type": "stream",
          "text": [
            "Archive:  07_efficientnetb0_feature_extract_model_mixed_precision.zip\n",
            "   creating: downloaded_gs_model/07_efficientnetb0_feature_extract_model_mixed_precision/\n",
            "   creating: downloaded_gs_model/07_efficientnetb0_feature_extract_model_mixed_precision/variables/\n",
            "  inflating: downloaded_gs_model/07_efficientnetb0_feature_extract_model_mixed_precision/variables/variables.data-00000-of-00001  \n",
            "  inflating: downloaded_gs_model/07_efficientnetb0_feature_extract_model_mixed_precision/variables/variables.index  \n",
            "  inflating: downloaded_gs_model/07_efficientnetb0_feature_extract_model_mixed_precision/saved_model.pb  \n",
            "   creating: downloaded_gs_model/07_efficientnetb0_feature_extract_model_mixed_precision/assets/\n"
          ],
          "name": "stdout"
        }
      ]
    },
    {
      "cell_type": "code",
      "metadata": {
        "id": "Xbs5ywA6_CWV"
      },
      "source": [
        "# Load and evaluate downloaded GS model\n",
        "loaded_gs_model = tf.keras.models.load_model(\"/content/downloaded_gs_model/07_efficientnetb0_feature_extract_model_mixed_precision\")\n",
        "loaded_gs_model.summary()"
      ],
      "execution_count": null,
      "outputs": []
    },
    {
      "cell_type": "markdown",
      "metadata": {
        "id": "AH6sS_DNzSe_"
      },
      "source": [
        "And now let's make sure our loaded model is performing as expected."
      ]
    },
    {
      "cell_type": "code",
      "metadata": {
        "id": "IlGs5V3Tosx3",
        "colab": {
          "base_uri": "https://localhost:8080/"
        },
        "outputId": "effdb88b-7971-4acf-fd7a-e5b7014f0445"
      },
      "source": [
        "# How does the loaded model perform?\n",
        "results_loaded_gs_model = loaded_gs_model.evaluate(test_data)\n",
        "results_loaded_gs_model"
      ],
      "execution_count": 43,
      "outputs": [
        {
          "output_type": "stream",
          "text": [
            "790/790 [==============================] - 47s 57ms/step - loss: 1.0881 - accuracy: 0.7065\n"
          ],
          "name": "stdout"
        },
        {
          "output_type": "execute_result",
          "data": {
            "text/plain": [
              "[1.0881290435791016, 0.7064950466156006]"
            ]
          },
          "metadata": {
            "tags": []
          },
          "execution_count": 43
        }
      ]
    },
    {
      "cell_type": "markdown",
      "metadata": {
        "id": "2ZokTvmxzXv8"
      },
      "source": [
        "Great, our loaded model is performing as expected.\n",
        "\n",
        "When we first created our model, we froze all of the layers in the base model by setting `base_model.trainable=False` but since we've loaded in our model from file, let's check whether or not the layers are trainable or not."
      ]
    },
    {
      "cell_type": "code",
      "metadata": {
        "id": "S-RQ633CapPk",
        "colab": {
          "base_uri": "https://localhost:8080/"
        },
        "outputId": "4fbaa934-2f14-4b97-a407-9b4178290b43"
      },
      "source": [
        "# Are any of the layers in our model frozen?\n",
        "for layer in loaded_gs_model.layers:\n",
        "  layer.trainable = True # set all layers to trainable\n",
        "  print(layer.name, layer.trainable, layer.dtype, layer.dtype_policy) # make sure loaded model is using mixed precision dtype_policy (\"mixed_float16\")"
      ],
      "execution_count": 44,
      "outputs": [
        {
          "output_type": "stream",
          "text": [
            "input_layer True float32 <Policy \"float32\">\n",
            "efficientnetb0 True float32 <Policy \"mixed_float16\">\n",
            "pooling_layer True float32 <Policy \"mixed_float16\">\n",
            "dense True float32 <Policy \"mixed_float16\">\n",
            "softmax_float32 True float32 <Policy \"float32\">\n"
          ],
          "name": "stdout"
        }
      ]
    },
    {
      "cell_type": "markdown",
      "metadata": {
        "id": "tTzYLrzGzs6W"
      },
      "source": [
        "Alright, it seems like each layer in our loaded model is trainable. But what if we got a little deeper and inspected each of the layers in our base model?\n",
        "\n",
        "> 🤔 **Question:** *Which layer in the loaded model is our base model?*\n",
        "\n",
        "Before saving the Functional model to file, we created it with five layers (layers below are 0-indexed):\n",
        "0. The input layer.\n",
        "1. The pre-trained base model layer (`tf.keras.applications.EfficientNetB0`).\n",
        "2. The pooling layer.\n",
        "3. The fully-connected (dense) layer.\n",
        "4. The output softmax activation.\n",
        "\n",
        "Therefore to inspect our base model layer, we can access the `layers` attribute of the layer at index 1 in our model."
      ]
    },
    {
      "cell_type": "code",
      "metadata": {
        "id": "rob4ClPIa2hp",
        "colab": {
          "base_uri": "https://localhost:8080/"
        },
        "outputId": "ab51e5f7-f613-4d5f-9cf6-844626963024"
      },
      "source": [
        "# Check the layers in the base model and see what dtype policy they're using\n",
        "for layer in loaded_gs_model.layers[1].layers:\n",
        "  print(layer.name, layer.trainable, layer.dtype, layer.dtype_policy)"
      ],
      "execution_count": 46,
      "outputs": [
        {
          "output_type": "stream",
          "text": [
            "input_1 True float32 <Policy \"float32\">\n",
            "rescaling True float32 <Policy \"mixed_float16\">\n",
            "normalization True float32 <Policy \"float32\">\n",
            "stem_conv_pad True float32 <Policy \"mixed_float16\">\n",
            "stem_conv True float32 <Policy \"mixed_float16\">\n",
            "stem_bn True float32 <Policy \"mixed_float16\">\n",
            "stem_activation True float32 <Policy \"mixed_float16\">\n",
            "block1a_dwconv True float32 <Policy \"mixed_float16\">\n",
            "block1a_bn True float32 <Policy \"mixed_float16\">\n",
            "block1a_activation True float32 <Policy \"mixed_float16\">\n",
            "block1a_se_squeeze True float32 <Policy \"mixed_float16\">\n",
            "block1a_se_reshape True float32 <Policy \"mixed_float16\">\n",
            "block1a_se_reduce True float32 <Policy \"mixed_float16\">\n",
            "block1a_se_expand True float32 <Policy \"mixed_float16\">\n",
            "block1a_se_excite True float32 <Policy \"mixed_float16\">\n",
            "block1a_project_conv True float32 <Policy \"mixed_float16\">\n",
            "block1a_project_bn True float32 <Policy \"mixed_float16\">\n",
            "block2a_expand_conv True float32 <Policy \"mixed_float16\">\n",
            "block2a_expand_bn True float32 <Policy \"mixed_float16\">\n",
            "block2a_expand_activation True float32 <Policy \"mixed_float16\">\n",
            "block2a_dwconv_pad True float32 <Policy \"mixed_float16\">\n",
            "block2a_dwconv True float32 <Policy \"mixed_float16\">\n",
            "block2a_bn True float32 <Policy \"mixed_float16\">\n",
            "block2a_activation True float32 <Policy \"mixed_float16\">\n",
            "block2a_se_squeeze True float32 <Policy \"mixed_float16\">\n",
            "block2a_se_reshape True float32 <Policy \"mixed_float16\">\n",
            "block2a_se_reduce True float32 <Policy \"mixed_float16\">\n",
            "block2a_se_expand True float32 <Policy \"mixed_float16\">\n",
            "block2a_se_excite True float32 <Policy \"mixed_float16\">\n",
            "block2a_project_conv True float32 <Policy \"mixed_float16\">\n",
            "block2a_project_bn True float32 <Policy \"mixed_float16\">\n",
            "block2b_expand_conv True float32 <Policy \"mixed_float16\">\n",
            "block2b_expand_bn True float32 <Policy \"mixed_float16\">\n",
            "block2b_expand_activation True float32 <Policy \"mixed_float16\">\n",
            "block2b_dwconv True float32 <Policy \"mixed_float16\">\n",
            "block2b_bn True float32 <Policy \"mixed_float16\">\n",
            "block2b_activation True float32 <Policy \"mixed_float16\">\n",
            "block2b_se_squeeze True float32 <Policy \"mixed_float16\">\n",
            "block2b_se_reshape True float32 <Policy \"mixed_float16\">\n",
            "block2b_se_reduce True float32 <Policy \"mixed_float16\">\n",
            "block2b_se_expand True float32 <Policy \"mixed_float16\">\n",
            "block2b_se_excite True float32 <Policy \"mixed_float16\">\n",
            "block2b_project_conv True float32 <Policy \"mixed_float16\">\n",
            "block2b_project_bn True float32 <Policy \"mixed_float16\">\n",
            "block2b_drop True float32 <Policy \"mixed_float16\">\n",
            "block2b_add True float32 <Policy \"mixed_float16\">\n",
            "block3a_expand_conv True float32 <Policy \"mixed_float16\">\n",
            "block3a_expand_bn True float32 <Policy \"mixed_float16\">\n",
            "block3a_expand_activation True float32 <Policy \"mixed_float16\">\n",
            "block3a_dwconv_pad True float32 <Policy \"mixed_float16\">\n",
            "block3a_dwconv True float32 <Policy \"mixed_float16\">\n",
            "block3a_bn True float32 <Policy \"mixed_float16\">\n",
            "block3a_activation True float32 <Policy \"mixed_float16\">\n",
            "block3a_se_squeeze True float32 <Policy \"mixed_float16\">\n",
            "block3a_se_reshape True float32 <Policy \"mixed_float16\">\n",
            "block3a_se_reduce True float32 <Policy \"mixed_float16\">\n",
            "block3a_se_expand True float32 <Policy \"mixed_float16\">\n",
            "block3a_se_excite True float32 <Policy \"mixed_float16\">\n",
            "block3a_project_conv True float32 <Policy \"mixed_float16\">\n",
            "block3a_project_bn True float32 <Policy \"mixed_float16\">\n",
            "block3b_expand_conv True float32 <Policy \"mixed_float16\">\n",
            "block3b_expand_bn True float32 <Policy \"mixed_float16\">\n",
            "block3b_expand_activation True float32 <Policy \"mixed_float16\">\n",
            "block3b_dwconv True float32 <Policy \"mixed_float16\">\n",
            "block3b_bn True float32 <Policy \"mixed_float16\">\n",
            "block3b_activation True float32 <Policy \"mixed_float16\">\n",
            "block3b_se_squeeze True float32 <Policy \"mixed_float16\">\n",
            "block3b_se_reshape True float32 <Policy \"mixed_float16\">\n",
            "block3b_se_reduce True float32 <Policy \"mixed_float16\">\n",
            "block3b_se_expand True float32 <Policy \"mixed_float16\">\n",
            "block3b_se_excite True float32 <Policy \"mixed_float16\">\n",
            "block3b_project_conv True float32 <Policy \"mixed_float16\">\n",
            "block3b_project_bn True float32 <Policy \"mixed_float16\">\n",
            "block3b_drop True float32 <Policy \"mixed_float16\">\n",
            "block3b_add True float32 <Policy \"mixed_float16\">\n",
            "block4a_expand_conv True float32 <Policy \"mixed_float16\">\n",
            "block4a_expand_bn True float32 <Policy \"mixed_float16\">\n",
            "block4a_expand_activation True float32 <Policy \"mixed_float16\">\n",
            "block4a_dwconv_pad True float32 <Policy \"mixed_float16\">\n",
            "block4a_dwconv True float32 <Policy \"mixed_float16\">\n",
            "block4a_bn True float32 <Policy \"mixed_float16\">\n",
            "block4a_activation True float32 <Policy \"mixed_float16\">\n",
            "block4a_se_squeeze True float32 <Policy \"mixed_float16\">\n",
            "block4a_se_reshape True float32 <Policy \"mixed_float16\">\n",
            "block4a_se_reduce True float32 <Policy \"mixed_float16\">\n",
            "block4a_se_expand True float32 <Policy \"mixed_float16\">\n",
            "block4a_se_excite True float32 <Policy \"mixed_float16\">\n",
            "block4a_project_conv True float32 <Policy \"mixed_float16\">\n",
            "block4a_project_bn True float32 <Policy \"mixed_float16\">\n",
            "block4b_expand_conv True float32 <Policy \"mixed_float16\">\n",
            "block4b_expand_bn True float32 <Policy \"mixed_float16\">\n",
            "block4b_expand_activation True float32 <Policy \"mixed_float16\">\n",
            "block4b_dwconv True float32 <Policy \"mixed_float16\">\n",
            "block4b_bn True float32 <Policy \"mixed_float16\">\n",
            "block4b_activation True float32 <Policy \"mixed_float16\">\n",
            "block4b_se_squeeze True float32 <Policy \"mixed_float16\">\n",
            "block4b_se_reshape True float32 <Policy \"mixed_float16\">\n",
            "block4b_se_reduce True float32 <Policy \"mixed_float16\">\n",
            "block4b_se_expand True float32 <Policy \"mixed_float16\">\n",
            "block4b_se_excite True float32 <Policy \"mixed_float16\">\n",
            "block4b_project_conv True float32 <Policy \"mixed_float16\">\n",
            "block4b_project_bn True float32 <Policy \"mixed_float16\">\n",
            "block4b_drop True float32 <Policy \"mixed_float16\">\n",
            "block4b_add True float32 <Policy \"mixed_float16\">\n",
            "block4c_expand_conv True float32 <Policy \"mixed_float16\">\n",
            "block4c_expand_bn True float32 <Policy \"mixed_float16\">\n",
            "block4c_expand_activation True float32 <Policy \"mixed_float16\">\n",
            "block4c_dwconv True float32 <Policy \"mixed_float16\">\n",
            "block4c_bn True float32 <Policy \"mixed_float16\">\n",
            "block4c_activation True float32 <Policy \"mixed_float16\">\n",
            "block4c_se_squeeze True float32 <Policy \"mixed_float16\">\n",
            "block4c_se_reshape True float32 <Policy \"mixed_float16\">\n",
            "block4c_se_reduce True float32 <Policy \"mixed_float16\">\n",
            "block4c_se_expand True float32 <Policy \"mixed_float16\">\n",
            "block4c_se_excite True float32 <Policy \"mixed_float16\">\n",
            "block4c_project_conv True float32 <Policy \"mixed_float16\">\n",
            "block4c_project_bn True float32 <Policy \"mixed_float16\">\n",
            "block4c_drop True float32 <Policy \"mixed_float16\">\n",
            "block4c_add True float32 <Policy \"mixed_float16\">\n",
            "block5a_expand_conv True float32 <Policy \"mixed_float16\">\n",
            "block5a_expand_bn True float32 <Policy \"mixed_float16\">\n",
            "block5a_expand_activation True float32 <Policy \"mixed_float16\">\n",
            "block5a_dwconv True float32 <Policy \"mixed_float16\">\n",
            "block5a_bn True float32 <Policy \"mixed_float16\">\n",
            "block5a_activation True float32 <Policy \"mixed_float16\">\n",
            "block5a_se_squeeze True float32 <Policy \"mixed_float16\">\n",
            "block5a_se_reshape True float32 <Policy \"mixed_float16\">\n",
            "block5a_se_reduce True float32 <Policy \"mixed_float16\">\n",
            "block5a_se_expand True float32 <Policy \"mixed_float16\">\n",
            "block5a_se_excite True float32 <Policy \"mixed_float16\">\n",
            "block5a_project_conv True float32 <Policy \"mixed_float16\">\n",
            "block5a_project_bn True float32 <Policy \"mixed_float16\">\n",
            "block5b_expand_conv True float32 <Policy \"mixed_float16\">\n",
            "block5b_expand_bn True float32 <Policy \"mixed_float16\">\n",
            "block5b_expand_activation True float32 <Policy \"mixed_float16\">\n",
            "block5b_dwconv True float32 <Policy \"mixed_float16\">\n",
            "block5b_bn True float32 <Policy \"mixed_float16\">\n",
            "block5b_activation True float32 <Policy \"mixed_float16\">\n",
            "block5b_se_squeeze True float32 <Policy \"mixed_float16\">\n",
            "block5b_se_reshape True float32 <Policy \"mixed_float16\">\n",
            "block5b_se_reduce True float32 <Policy \"mixed_float16\">\n",
            "block5b_se_expand True float32 <Policy \"mixed_float16\">\n",
            "block5b_se_excite True float32 <Policy \"mixed_float16\">\n",
            "block5b_project_conv True float32 <Policy \"mixed_float16\">\n",
            "block5b_project_bn True float32 <Policy \"mixed_float16\">\n",
            "block5b_drop True float32 <Policy \"mixed_float16\">\n",
            "block5b_add True float32 <Policy \"mixed_float16\">\n",
            "block5c_expand_conv True float32 <Policy \"mixed_float16\">\n",
            "block5c_expand_bn True float32 <Policy \"mixed_float16\">\n",
            "block5c_expand_activation True float32 <Policy \"mixed_float16\">\n",
            "block5c_dwconv True float32 <Policy \"mixed_float16\">\n",
            "block5c_bn True float32 <Policy \"mixed_float16\">\n",
            "block5c_activation True float32 <Policy \"mixed_float16\">\n",
            "block5c_se_squeeze True float32 <Policy \"mixed_float16\">\n",
            "block5c_se_reshape True float32 <Policy \"mixed_float16\">\n",
            "block5c_se_reduce True float32 <Policy \"mixed_float16\">\n",
            "block5c_se_expand True float32 <Policy \"mixed_float16\">\n",
            "block5c_se_excite True float32 <Policy \"mixed_float16\">\n",
            "block5c_project_conv True float32 <Policy \"mixed_float16\">\n",
            "block5c_project_bn True float32 <Policy \"mixed_float16\">\n",
            "block5c_drop True float32 <Policy \"mixed_float16\">\n",
            "block5c_add True float32 <Policy \"mixed_float16\">\n",
            "block6a_expand_conv True float32 <Policy \"mixed_float16\">\n",
            "block6a_expand_bn True float32 <Policy \"mixed_float16\">\n",
            "block6a_expand_activation True float32 <Policy \"mixed_float16\">\n",
            "block6a_dwconv_pad True float32 <Policy \"mixed_float16\">\n",
            "block6a_dwconv True float32 <Policy \"mixed_float16\">\n",
            "block6a_bn True float32 <Policy \"mixed_float16\">\n",
            "block6a_activation True float32 <Policy \"mixed_float16\">\n",
            "block6a_se_squeeze True float32 <Policy \"mixed_float16\">\n",
            "block6a_se_reshape True float32 <Policy \"mixed_float16\">\n",
            "block6a_se_reduce True float32 <Policy \"mixed_float16\">\n",
            "block6a_se_expand True float32 <Policy \"mixed_float16\">\n",
            "block6a_se_excite True float32 <Policy \"mixed_float16\">\n",
            "block6a_project_conv True float32 <Policy \"mixed_float16\">\n",
            "block6a_project_bn True float32 <Policy \"mixed_float16\">\n",
            "block6b_expand_conv True float32 <Policy \"mixed_float16\">\n",
            "block6b_expand_bn True float32 <Policy \"mixed_float16\">\n",
            "block6b_expand_activation True float32 <Policy \"mixed_float16\">\n",
            "block6b_dwconv True float32 <Policy \"mixed_float16\">\n",
            "block6b_bn True float32 <Policy \"mixed_float16\">\n",
            "block6b_activation True float32 <Policy \"mixed_float16\">\n",
            "block6b_se_squeeze True float32 <Policy \"mixed_float16\">\n",
            "block6b_se_reshape True float32 <Policy \"mixed_float16\">\n",
            "block6b_se_reduce True float32 <Policy \"mixed_float16\">\n",
            "block6b_se_expand True float32 <Policy \"mixed_float16\">\n",
            "block6b_se_excite True float32 <Policy \"mixed_float16\">\n",
            "block6b_project_conv True float32 <Policy \"mixed_float16\">\n",
            "block6b_project_bn True float32 <Policy \"mixed_float16\">\n",
            "block6b_drop True float32 <Policy \"mixed_float16\">\n",
            "block6b_add True float32 <Policy \"mixed_float16\">\n",
            "block6c_expand_conv True float32 <Policy \"mixed_float16\">\n",
            "block6c_expand_bn True float32 <Policy \"mixed_float16\">\n",
            "block6c_expand_activation True float32 <Policy \"mixed_float16\">\n",
            "block6c_dwconv True float32 <Policy \"mixed_float16\">\n",
            "block6c_bn True float32 <Policy \"mixed_float16\">\n",
            "block6c_activation True float32 <Policy \"mixed_float16\">\n",
            "block6c_se_squeeze True float32 <Policy \"mixed_float16\">\n",
            "block6c_se_reshape True float32 <Policy \"mixed_float16\">\n",
            "block6c_se_reduce True float32 <Policy \"mixed_float16\">\n",
            "block6c_se_expand True float32 <Policy \"mixed_float16\">\n",
            "block6c_se_excite True float32 <Policy \"mixed_float16\">\n",
            "block6c_project_conv True float32 <Policy \"mixed_float16\">\n",
            "block6c_project_bn True float32 <Policy \"mixed_float16\">\n",
            "block6c_drop True float32 <Policy \"mixed_float16\">\n",
            "block6c_add True float32 <Policy \"mixed_float16\">\n",
            "block6d_expand_conv True float32 <Policy \"mixed_float16\">\n",
            "block6d_expand_bn True float32 <Policy \"mixed_float16\">\n",
            "block6d_expand_activation True float32 <Policy \"mixed_float16\">\n",
            "block6d_dwconv True float32 <Policy \"mixed_float16\">\n",
            "block6d_bn True float32 <Policy \"mixed_float16\">\n",
            "block6d_activation True float32 <Policy \"mixed_float16\">\n",
            "block6d_se_squeeze True float32 <Policy \"mixed_float16\">\n",
            "block6d_se_reshape True float32 <Policy \"mixed_float16\">\n",
            "block6d_se_reduce True float32 <Policy \"mixed_float16\">\n",
            "block6d_se_expand True float32 <Policy \"mixed_float16\">\n",
            "block6d_se_excite True float32 <Policy \"mixed_float16\">\n",
            "block6d_project_conv True float32 <Policy \"mixed_float16\">\n",
            "block6d_project_bn True float32 <Policy \"mixed_float16\">\n",
            "block6d_drop True float32 <Policy \"mixed_float16\">\n",
            "block6d_add True float32 <Policy \"mixed_float16\">\n",
            "block7a_expand_conv True float32 <Policy \"mixed_float16\">\n",
            "block7a_expand_bn True float32 <Policy \"mixed_float16\">\n",
            "block7a_expand_activation True float32 <Policy \"mixed_float16\">\n",
            "block7a_dwconv True float32 <Policy \"mixed_float16\">\n",
            "block7a_bn True float32 <Policy \"mixed_float16\">\n",
            "block7a_activation True float32 <Policy \"mixed_float16\">\n",
            "block7a_se_squeeze True float32 <Policy \"mixed_float16\">\n",
            "block7a_se_reshape True float32 <Policy \"mixed_float16\">\n",
            "block7a_se_reduce True float32 <Policy \"mixed_float16\">\n",
            "block7a_se_expand True float32 <Policy \"mixed_float16\">\n",
            "block7a_se_excite True float32 <Policy \"mixed_float16\">\n",
            "block7a_project_conv True float32 <Policy \"mixed_float16\">\n",
            "block7a_project_bn True float32 <Policy \"mixed_float16\">\n",
            "top_conv True float32 <Policy \"mixed_float16\">\n",
            "top_bn True float32 <Policy \"mixed_float16\">\n",
            "top_activation True float32 <Policy \"mixed_float16\">\n"
          ],
          "name": "stdout"
        }
      ]
    },
    {
      "cell_type": "markdown",
      "metadata": {
        "id": "BRmD0IvT1bR_"
      },
      "source": [
        "TK (and using mixed_float16 as their dtype_policy) \n",
        "\n",
        "Wonderful, it looks like each layer in our base model is trainable (unfrozen). Since we've got so much data (750 images per training class), let's keep it that way.\n",
        "\n",
        "> 🔑 **Note:** If you've got a small amount of data (less than 100 images per class), you may want to only unfreeze and fine-tune a small number of layers in the base model at a time. Otherwise, you risk overfitting."
      ]
    },
    {
      "cell_type": "markdown",
      "metadata": {
        "id": "m6_6m5jb2Nea"
      },
      "source": [
        "## A couple more callbacks\n",
        "\n",
        "We're about to start fine-tuning a deep learning model with over 200 layers using over 100,000 images, which means our model's training time is probably going to be much longer than before.\n",
        "\n",
        "> 🤔 **Question:** *How long does training take?*\n",
        "\n",
        "It could be a couple of hours or in the case of the [DeepFood paper](https://arxiv.org/pdf/1606.05675.pdf) (the baseline we're trying to beat), their best performing model took 2-3 days of training time.\n",
        "\n",
        "You will really only know how long it'll take once you start training.\n",
        "\n",
        "> 🤔 **Question:** *When do you stop training?*\n",
        "\n",
        "Ideally, when your model stops improving. But again, due to the nature of deep learning, it can be hard to know when exactly a model will stop improving.\n",
        "\n",
        "Luckily, there's a solution: the [`EarlyStopping` callback](https://www.tensorflow.org/api_docs/python/tf/keras/callbacks/EarlyStopping).\n",
        "\n",
        "The `EarlyStopping` callback monitors a specified model performance metric (e.g. `val_loss`) and when it stops improving for a specified number of epochs, automatically stops training. \n",
        "\n",
        "Using the `EarlyStopping` callback combined with the `ModelCheckpoint` callback saving the best performing model automatically, we could keep our model training for an unlimited number of epochs until it stops improving.\n",
        "\n",
        "Let's set both of these up to monitor our model's `val_loss`."
      ]
    },
    {
      "cell_type": "code",
      "metadata": {
        "id": "GcKFVlXVwjJy"
      },
      "source": [
        "# Setup EarlyStopping callback to stop training if model's val_loss doesn't improve for 3 epochs\n",
        "early_stopping = tf.keras.callbacks.EarlyStopping(monitor=\"val_loss\", # watch the val loss metric\n",
        "                                                  patience=3) # if val loss decreases for 3 epochs in a row, stop training\n",
        "\n",
        "# Create ModelCheckpoint callback to save best model during fine-tuning\n",
        "checkpoint_path = \"fine_tune_checkpoints/\"\n",
        "model_checkpoint = tf.keras.callbacks.ModelCheckpoint(checkpoint_path,\n",
        "                                                      save_best_only=True,\n",
        "                                                      monitor=\"val_loss\")"
      ],
      "execution_count": 47,
      "outputs": []
    },
    {
      "cell_type": "markdown",
      "metadata": {
        "id": "14cdwkIi4WnG"
      },
      "source": [
        "Excellent. If you're planning on training large models, the `ModelCheckpoint` and `EarlyStopping` are two callbacks you'll want to become very familiar with. \n",
        "\n",
        "We're almost ready to start fine-tuning our model but there's one more callback we're going to implement: [`ReduceLROnPlateau`](https://www.tensorflow.org/api_docs/python/tf/keras/callbacks/ReduceLROnPlateau).\n",
        "\n",
        "Remember how the learning rate is the most important model hyperparameter you can tune? (if not, treat this as a reminder)\n",
        "\n",
        "Well, the `ReduceLROnPlateau` callback helps to tune the learning rate for you.\n",
        "\n",
        "Like the `ModelCheckpoint` and `EarlyStopping` callbacks, the `ReduceLROnPlateua` callback montiors a specified metric and when that metric stops improving, it reduces the learning rate by a specified factor (e.g. divides the learning rate by 10).\n",
        "\n",
        "> 🤔 **Question:** *Why lower the learning rate?*\n",
        "\n",
        "Imagine having a coin at the back of the couch and you're trying to grab with your fingers. Now think of the learning rate as the size of the movements your hand makes towards the coin. The closer you get, the smaller you want your hand movements to be, otherwise the coin will be lost.\n",
        "\n",
        "Our model's ideal performance is the equivalent of grabbing the coin. So as training goes on and our model gets closer and closer to it's ideal performance (also called **convergence**), we want the amount it learns to be less and less.\n",
        "\n",
        "To do this we'll create an instance of the `ReduceLROnPlateau` callback to monitor the validation loss just like the `EarlyStopping` callback. Once the validation loss stops improving for 3 or more epochs, we'll reduce the learning rate by a factor of 5 (e.g. `0.001` to `0.0002`).\n",
        "\n",
        "And to make sure the learning rate doesn't get too low (and potentially result in our model learning nothing), we'll set the minimum learning rate to `1e-7`."
      ]
    },
    {
      "cell_type": "code",
      "metadata": {
        "id": "I794Kaiq4Ekk"
      },
      "source": [
        "# Creating learning rate reduction callback\n",
        "reduce_lr = tf.keras.callbacks.ReduceLROnPlateau(monitor=\"val_loss\",  \n",
        "                                                 factor=0.2, # multiply the learning rate by 0.2 (reduce by 5x)\n",
        "                                                 patience=2,\n",
        "                                                 verbose=1, # print out when learning rate goes down \n",
        "                                                 min_lr=1e-7)"
      ],
      "execution_count": 48,
      "outputs": []
    },
    {
      "cell_type": "markdown",
      "metadata": {
        "id": "3v0BHURF6Lnz"
      },
      "source": [
        "Learning rate reduction ready to go!\n",
        "\n",
        "Now before we start training, we've got to recompile our model.\n",
        "\n",
        "We'll use sparse categorical crossentropy as the loss and since we're fine-tuning, we'll use a 10x lower learning rate than the Adam optimizers default (`1e-4` instead of `1e-3`). "
      ]
    },
    {
      "cell_type": "code",
      "metadata": {
        "id": "GlpO9LflcVHW"
      },
      "source": [
        "# Compile the model\n",
        "loaded_gs_model.compile(loss=\"sparse_categorical_crossentropy\", # sparse_categorical_crossentropy for labels that are *not* one-hot\n",
        "                        optimizer=tf.keras.optimizers.Adam(0.0001), # 10x lower learning rate than the default\n",
        "                        metrics=[\"accuracy\"])"
      ],
      "execution_count": 49,
      "outputs": []
    },
    {
      "cell_type": "markdown",
      "metadata": {
        "id": "yo1bio8SYxvc"
      },
      "source": [
        "Okay, model compiled.\n",
        "\n",
        "Now let's fit it on all of the data. We'll set it up to run for up to 100 epochs. But since we're going to be using the `EarlyStopping` callback, it might use all 100.\n",
        "\n",
        "> TK (it actually runs faster since we've stepped it up a notch) 🔑 **Note:** Running the cell below will set the model up to fine-tune all of the pre-trained weights in the base model on all of the Food101 data. Doing so will take a fairly long time per epoch depending on what type of GPU you're using (about 15-20 minutes on Colab GPUs)."
      ]
    },
    {
      "cell_type": "code",
      "metadata": {
        "colab": {
          "base_uri": "https://localhost:8080/"
        },
        "id": "NU7_igLooFWA",
        "outputId": "5a4cf6bc-5aa0-475d-9c64-0ad3eafc625c"
      },
      "source": [
        "loaded_gs_model.summary()"
      ],
      "execution_count": 50,
      "outputs": [
        {
          "output_type": "stream",
          "text": [
            "Model: \"model\"\n",
            "_________________________________________________________________\n",
            "Layer (type)                 Output Shape              Param #   \n",
            "=================================================================\n",
            "input_layer (InputLayer)     [(None, 224, 224, 3)]     0         \n",
            "_________________________________________________________________\n",
            "efficientnetb0 (Functional)  (None, None, None, 1280)  4049571   \n",
            "_________________________________________________________________\n",
            "pooling_layer (GlobalAverage (None, 1280)              0         \n",
            "_________________________________________________________________\n",
            "dense (Dense)                (None, 101)               129381    \n",
            "_________________________________________________________________\n",
            "softmax_float32 (Activation) (None, 101)               0         \n",
            "=================================================================\n",
            "Total params: 4,178,952\n",
            "Trainable params: 4,136,929\n",
            "Non-trainable params: 42,023\n",
            "_________________________________________________________________\n"
          ],
          "name": "stdout"
        }
      ]
    },
    {
      "cell_type": "markdown",
      "metadata": {
        "id": "fiIXIvfWt3DZ"
      },
      "source": [
        "## TK NOTE: Mixed precision helps an outstanding amount with fine-tuning (the more model parameters you have, the more mixed precision seems to help)"
      ]
    },
    {
      "cell_type": "code",
      "metadata": {
        "id": "LkUtOdVkbMPC",
        "colab": {
          "base_uri": "https://localhost:8080/"
        },
        "outputId": "c5e8a046-d3f2-4dbd-e9ee-10d138c8db6f"
      },
      "source": [
        "# Start to fine-tune (all layers)\n",
        "history_101_food_classes_all_data_fine_tune = loaded_gs_model.fit(train_data,\n",
        "                                                        epochs=100, # fine-tune for a maximum of 100 epochs\n",
        "                                                        steps_per_epoch=len(train_data),\n",
        "                                                        validation_data=test_data,\n",
        "                                                        validation_steps=int(0.15 * len(test_data)), # validation during training on 15% of test data\n",
        "                                                        callbacks=[create_tensorboard_callback(\"training_logs\", \"efficientb0_101_classes_all_data_fine_tuning\"), # track the model training logs\n",
        "                                                                   model_checkpoint, # save only the best model during training\n",
        "                                                                   early_stopping, # stop model after X epochs of no improvements\n",
        "                                                                   reduce_lr]) # reduce the learning rate after X epochs of no improvements"
      ],
      "execution_count": 52,
      "outputs": [
        {
          "output_type": "stream",
          "text": [
            "Saving TensorBoard log files to: training_logs/efficientb0_101_classes_all_data_fine_tuning/20210309-050920\n",
            "Epoch 1/100\n",
            "2368/2368 [==============================] - 307s 124ms/step - loss: 0.9780 - accuracy: 0.7406 - val_loss: 0.8241 - val_accuracy: 0.7730\n",
            "INFO:tensorflow:Assets written to: fine_tune_checkpoints/assets\n"
          ],
          "name": "stdout"
        },
        {
          "output_type": "stream",
          "text": [
            "INFO:tensorflow:Assets written to: fine_tune_checkpoints/assets\n"
          ],
          "name": "stderr"
        },
        {
          "output_type": "stream",
          "text": [
            "Epoch 2/100\n",
            "2368/2368 [==============================] - 290s 122ms/step - loss: 0.5875 - accuracy: 0.8367 - val_loss: 0.7959 - val_accuracy: 0.7908\n",
            "INFO:tensorflow:Assets written to: fine_tune_checkpoints/assets\n"
          ],
          "name": "stdout"
        },
        {
          "output_type": "stream",
          "text": [
            "INFO:tensorflow:Assets written to: fine_tune_checkpoints/assets\n"
          ],
          "name": "stderr"
        },
        {
          "output_type": "stream",
          "text": [
            "Epoch 3/100\n",
            "2368/2368 [==============================] - 289s 122ms/step - loss: 0.3212 - accuracy: 0.9107 - val_loss: 0.8458 - val_accuracy: 0.7812\n",
            "Epoch 4/100\n",
            "2368/2368 [==============================] - 289s 121ms/step - loss: 0.1670 - accuracy: 0.9526 - val_loss: 0.9928 - val_accuracy: 0.7810\n",
            "\n",
            "Epoch 00004: ReduceLROnPlateau reducing learning rate to 1.9999999494757503e-05.\n",
            "Epoch 5/100\n",
            "2368/2368 [==============================] - 289s 121ms/step - loss: 0.0509 - accuracy: 0.9876 - val_loss: 1.0674 - val_accuracy: 0.8043\n"
          ],
          "name": "stdout"
        }
      ]
    },
    {
      "cell_type": "code",
      "metadata": {
        "id": "_ORw_op-Bc9r"
      },
      "source": [
        "# ## Results from fine-tuning with prefetched data and mixed precision\n",
        "# Saving TensorBoard log files to: training_logs/efficientB0_101_classes_all_data_fine_tuning/20210305-065748\n",
        "# Epoch 1/100\n",
        "# 2368/2368 [==============================] - 305s 124ms/step - loss: 0.9746 - accuracy: 0.7371 - val_loss: 0.8110 - val_accuracy: 0.7738\n",
        "# INFO:tensorflow:Assets written to: fine_tune_checkpoints/assets\n",
        "# INFO:tensorflow:Assets written to: fine_tune_checkpoints/assets\n",
        "# Epoch 2/100\n",
        "# 2368/2368 [==============================] - 290s 122ms/step - loss: 0.5795 - accuracy: 0.8405 - val_loss: 0.7908 - val_accuracy: 0.7842\n",
        "# INFO:tensorflow:Assets written to: fine_tune_checkpoints/assets\n",
        "# INFO:tensorflow:Assets written to: fine_tune_checkpoints/assets\n",
        "# Epoch 3/100\n",
        "# 2368/2368 [==============================] - 289s 122ms/step - loss: 0.3286 - accuracy: 0.9082 - val_loss: 0.8521 - val_accuracy: 0.7871\n",
        "# Epoch 4/100\n",
        "# 2368/2368 [==============================] - 290s 122ms/step - loss: 0.1651 - accuracy: 0.9527 - val_loss: 0.9878 - val_accuracy: 0.7812\n",
        "\n",
        "# Epoch 00004: ReduceLROnPlateau reducing learning rate to 1.9999999494757503e-05.\n",
        "# Epoch 5/100\n",
        "# 2368/2368 [==============================] - 290s 122ms/step - loss: 0.0480 - accuracy: 0.9890 - val_loss: 1.0351 - val_accuracy: 0.8024"
      ],
      "execution_count": null,
      "outputs": []
    },
    {
      "cell_type": "markdown",
      "metadata": {
        "id": "nC2HLXePh9Af"
      },
      "source": [
        "TK (fix what fine-tuning looks like) Fine-tuning results should look something like this:\n",
        "\n",
        "TK - Note: if you didn't use mixed precision, your model fine-tuning probably takes up 2.5-3x longer per epoch... see below.\n",
        "```\n",
        "Saving TensorBoard log files to: training_logs/efficientB0_101_classes_all_data_fine_tuning/20200928-013008\n",
        "Epoch 1/100\n",
        "   1/2368 [..............................] - ETA: 0s - loss: 1.1452 - accuracy: 0.7188WARNING:tensorflow:From /usr/local/lib/python3.6/dist-packages/tensorflow/python/ops/summary_ops_v2.py:1277: stop (from tensorflow.python.eager.profiler) is deprecated and will be removed after 2020-07-01.\n",
        "Instructions for updating:\n",
        "use `tf.profiler.experimental.stop` instead.\n",
        "2368/2368 [==============================] - ETA: 0s - loss: 1.2068 - accuracy: 0.6820\n",
        "INFO:tensorflow:Assets written to: fine_tune_checkpoints/assets\n",
        "2368/2368 [==============================] - 1397s 590ms/step - loss: 1.2068 - accuracy: 0.6820 - val_loss: 1.1623 - val_accuracy: 0.6894\n",
        "Epoch 2/100\n",
        "2368/2368 [==============================] - ETA: 0s - loss: 0.9459 - accuracy: 0.7444INFO:tensorflow:Assets written to: fine_tune_checkpoints/assets\n",
        "2368/2368 [==============================] - 1193s 504ms/step - loss: 0.9459 - accuracy: 0.7444 - val_loss: 1.1549 - val_accuracy: 0.6872\n",
        "Epoch 3/100\n",
        "2368/2368 [==============================] - ETA: 0s - loss: 0.7848 - accuracy: 0.7838INFO:tensorflow:Assets written to: fine_tune_checkpoints/assets\n",
        "2368/2368 [==============================] - 1143s 482ms/step - loss: 0.7848 - accuracy: 0.7838 - val_loss: 1.0402 - val_accuracy: 0.7142\n",
        "Epoch 4/100\n",
        "2368/2368 [==============================] - ETA: 0s - loss: 0.6599 - accuracy: 0.8149INFO:tensorflow:Assets written to: fine_tune_checkpoints/assets\n",
        "2368/2368 [==============================] - 1127s 476ms/step - loss: 0.6599 - accuracy: 0.8149 - val_loss: 0.9599 - val_accuracy: 0.7373\n",
        "Epoch 5/100\n",
        "2368/2368 [==============================] - 1019s 430ms/step - loss: 0.5532 - accuracy: 0.8414 - val_loss: 1.0422 - val_accuracy: 0.7315\n",
        "Epoch 6/100\n",
        "2368/2368 [==============================] - 981s 414ms/step - loss: 0.4615 - accuracy: 0.8643 - val_loss: 1.0906 - val_accuracy: 0.7177\n",
        "Epoch 7/100\n",
        "2368/2368 [==============================] - ETA: 0s - loss: 0.3901 - accuracy: 0.8836\n",
        "Epoch 00007: ReduceLROnPlateau reducing learning rate to 1.9999999494757503e-05.\n",
        "2368/2368 [==============================] - 1002s 423ms/step - loss: 0.3901 - accuracy: 0.8836 - val_loss: 1.0548 - val_accuracy: 0.7331\n",
        "Epoch 8/100\n",
        "2368/2368 [==============================] - 995s 420ms/step - loss: 0.2341 - accuracy: 0.9299 - val_loss: 1.0763 - val_accuracy: 0.7526\n",
        "Epoch 9/100\n",
        "2368/2368 [==============================] - 987s 417ms/step - loss: 0.1918 - accuracy: 0.9421 - val_loss: 1.1538 - val_accuracy: 0.7389\n",
        "Epoch 10/100\n",
        "2368/2368 [==============================] - ETA: 0s - loss: 0.1697 - accuracy: 0.9492\n",
        "Epoch 00010: ReduceLROnPlateau reducing learning rate to 3.999999898951501e-06.\n",
        "2368/2368 [==============================] - 986s 416ms/step - loss: 0.1697 - accuracy: 0.9492 - val_loss: 1.2061 - val_accuracy: 0.7402\n",
        "Epoch 11/100\n",
        "2368/2368 [==============================] - 988s 417ms/step - loss: 0.1441 - accuracy: 0.9559 - val_loss: 1.1608 - val_accuracy: 0.7524\n",
        "Epoch 12/100\n",
        "2368/2368 [==============================] - 981s 414ms/step - loss: 0.1329 - accuracy: 0.9592 - val_loss: 1.1609 - val_accuracy: 0.7532\n",
        "Epoch 13/100\n",
        "2368/2368 [==============================] - ETA: 0s - loss: 0.1258 - accuracy: 0.9617\n",
        "Epoch 00013: ReduceLROnPlateau reducing learning rate to 7.999999979801942e-07.\n",
        "2368/2368 [==============================] - 984s 415ms/step - loss: 0.1258 - accuracy: 0.9617 - val_loss: 1.1746 - val_accuracy: 0.7542\n",
        "Epoch 14/100\n",
        "2368/2368 [==============================] - 977s 413ms/step - loss: 0.1196 - accuracy: 0.9634 - val_loss: 1.2065 - val_accuracy: 0.7508\n",
        "```\n",
        "\n",
        "Let's make sure we save our model before we start evaluating it."
      ]
    },
    {
      "cell_type": "code",
      "metadata": {
        "id": "mwjxnUsgI558",
        "colab": {
          "base_uri": "https://localhost:8080/"
        },
        "outputId": "b8cfa804-b867-42a8-867f-8dfa4cfe3c06"
      },
      "source": [
        "# # Save model to drive (optional)\n",
        "# loaded_gs_model.save(\"/content/drive/MyDrive/tensorflow_course/food_vision/07_efficientnetb0_fine_tuned_101_classes_mixed_precision/\")"
      ],
      "execution_count": 80,
      "outputs": [
        {
          "output_type": "stream",
          "text": [
            "INFO:tensorflow:Assets written to: /content/drive/MyDrive/tensorflow_course/food_vision/07_efficientnetb0_fine_tuned_101_classes_mixed_precision/assets\n"
          ],
          "name": "stdout"
        },
        {
          "output_type": "stream",
          "text": [
            "INFO:tensorflow:Assets written to: /content/drive/MyDrive/tensorflow_course/food_vision/07_efficientnetb0_fine_tuned_101_classes_mixed_precision/assets\n"
          ],
          "name": "stderr"
        }
      ]
    },
    {
      "cell_type": "code",
      "metadata": {
        "colab": {
          "base_uri": "https://localhost:8080/"
        },
        "id": "K1As0OhYHFX-",
        "outputId": "d72dc5d4-aa77-4bbc-88c6-8040ab6d5f84"
      },
      "source": [
        "# Save model locally (note: if you're using Google Colab and you save your model locally, it will be deleted when your Google Colab session ends)\n",
        "loaded_gs_model.save(\"07_efficientnetb0_fine_tuned_101_classes_mixed_precision\")"
      ],
      "execution_count": 53,
      "outputs": [
        {
          "output_type": "stream",
          "text": [
            "INFO:tensorflow:Assets written to: 07_efficientnetb0_fine_tuned_101_classes_mixed_precision/assets\n"
          ],
          "name": "stdout"
        },
        {
          "output_type": "stream",
          "text": [
            "INFO:tensorflow:Assets written to: 07_efficientnetb0_fine_tuned_101_classes_mixed_precision/assets\n"
          ],
          "name": "stderr"
        }
      ]
    },
    {
      "cell_type": "markdown",
      "metadata": {
        "id": "CcpNGcSAZ2UC"
      },
      "source": [
        "TK (did we beat DeepFood?) - Looks like our model has gained a few performance points from fine-tuning, let's evaluate on the whole test dataset and see if managed to beat the [DeepFood paper's](https://arxiv.org/abs/1606.05675) result of 77.4% accuracy."
      ]
    },
    {
      "cell_type": "code",
      "metadata": {
        "colab": {
          "base_uri": "https://localhost:8080/"
        },
        "id": "2CR6q8MYM37K",
        "outputId": "3c88313c-47ca-4e2e-f89c-9743bc3e85c6"
      },
      "source": [
        "# Evaluate mixed precision trained loaded model\n",
        "results_loaded_gs_model_fine_tuned = loaded_gs_model.evaluate(test_data) \n",
        "results_loaded_gs_model_fine_tuned"
      ],
      "execution_count": 54,
      "outputs": [
        {
          "output_type": "stream",
          "text": [
            "790/790 [==============================] - 55s 69ms/step - loss: 1.0523 - accuracy: 0.7980\n"
          ],
          "name": "stdout"
        },
        {
          "output_type": "execute_result",
          "data": {
            "text/plain": [
              "[1.0522665977478027, 0.7979801893234253]"
            ]
          },
          "metadata": {
            "tags": []
          },
          "execution_count": 54
        }
      ]
    },
    {
      "cell_type": "markdown",
      "metadata": {
        "id": "a0H1rSG9RBBV"
      },
      "source": [
        "## TK - Download fine-tuned model from Google Storage\n",
        "\n",
        "\"Here's something we prepared earlier...\""
      ]
    },
    {
      "cell_type": "code",
      "metadata": {
        "colab": {
          "base_uri": "https://localhost:8080/"
        },
        "id": "qRuBSsPxI8Yg",
        "outputId": "e960bc7a-5fe2-4894-e8bd-d0f63abd134c"
      },
      "source": [
        "# Download and evaluate fine-tuned model from Google Storage\n",
        "!wget https://storage.googleapis.com/ztm_tf_course/food_vision/07_efficientnetb0_fine_tuned_101_classes_mixed_precision.zip"
      ],
      "execution_count": 55,
      "outputs": [
        {
          "output_type": "stream",
          "text": [
            "--2021-03-09 05:37:06--  https://storage.googleapis.com/ztm_tf_course/food_vision/07_efficientnetb0_fine_tuned_101_classes_mixed_precision.zip\n",
            "Resolving storage.googleapis.com (storage.googleapis.com)... 74.125.20.128, 74.125.197.128, 74.125.142.128, ...\n",
            "Connecting to storage.googleapis.com (storage.googleapis.com)|74.125.20.128|:443... connected.\n",
            "HTTP request sent, awaiting response... 200 OK\n",
            "Length: 46790356 (45M) [application/zip]\n",
            "Saving to: ‘07_efficientnetb0_fine_tuned_101_classes_mixed_precision.zip’\n",
            "\n",
            "07_efficientnetb0_f 100%[===================>]  44.62M   208MB/s    in 0.2s    \n",
            "\n",
            "2021-03-09 05:37:06 (208 MB/s) - ‘07_efficientnetb0_fine_tuned_101_classes_mixed_precision.zip’ saved [46790356/46790356]\n",
            "\n"
          ],
          "name": "stdout"
        }
      ]
    },
    {
      "cell_type": "code",
      "metadata": {
        "colab": {
          "base_uri": "https://localhost:8080/"
        },
        "id": "PNh0cPL7JBpv",
        "outputId": "88f7103e-d99b-4ea2-defe-b78cac319e5c"
      },
      "source": [
        "# Unzip fine-tuned model\n",
        "!mkdir downloaded_fine_tuned_gs_model # create separate directory for fine-tuned model downloaded from Google Storage\n",
        "!unzip /content/07_efficientnetb0_fine_tuned_101_classes_mixed_precision -d downloaded_fine_tuned_gs_model"
      ],
      "execution_count": 56,
      "outputs": [
        {
          "output_type": "stream",
          "text": [
            "Archive:  /content/07_efficientnetb0_fine_tuned_101_classes_mixed_precision.zip\n",
            "   creating: downloaded_fine_tuned_gs_model/07_efficientnetb0_fine_tuned_101_classes_mixed_precision/\n",
            "   creating: downloaded_fine_tuned_gs_model/07_efficientnetb0_fine_tuned_101_classes_mixed_precision/variables/\n",
            "  inflating: downloaded_fine_tuned_gs_model/07_efficientnetb0_fine_tuned_101_classes_mixed_precision/variables/variables.data-00000-of-00001  \n",
            "  inflating: downloaded_fine_tuned_gs_model/07_efficientnetb0_fine_tuned_101_classes_mixed_precision/variables/variables.index  \n",
            "  inflating: downloaded_fine_tuned_gs_model/07_efficientnetb0_fine_tuned_101_classes_mixed_precision/saved_model.pb  \n",
            "   creating: downloaded_fine_tuned_gs_model/07_efficientnetb0_fine_tuned_101_classes_mixed_precision/assets/\n"
          ],
          "name": "stdout"
        }
      ]
    },
    {
      "cell_type": "code",
      "metadata": {
        "id": "yBWWTb-QKuW1"
      },
      "source": [
        "# Load in fine-tuned model from Google Storage and evaluate\n",
        "loaded_fine_tuned_gs_model = tf.keras.models.load_model(\"/content/downloaded_fine_tuned_gs_model/07_efficientnetb0_fine_tuned_101_classes_mixed_precision\")"
      ],
      "execution_count": null,
      "outputs": []
    },
    {
      "cell_type": "code",
      "metadata": {
        "colab": {
          "base_uri": "https://localhost:8080/"
        },
        "id": "sysv2pDmJoe8",
        "outputId": "a975262a-3f37-49d1-8c7b-dd8a32708b80"
      },
      "source": [
        "loaded_fine_tuned_gs_model.summary()"
      ],
      "execution_count": 60,
      "outputs": [
        {
          "output_type": "stream",
          "text": [
            "Model: \"model\"\n",
            "_________________________________________________________________\n",
            "Layer (type)                 Output Shape              Param #   \n",
            "=================================================================\n",
            "input_layer (InputLayer)     [(None, 224, 224, 3)]     0         \n",
            "_________________________________________________________________\n",
            "efficientnetb0 (Functional)  (None, None, None, 1280)  4049571   \n",
            "_________________________________________________________________\n",
            "pooling_layer (GlobalAverage (None, 1280)              0         \n",
            "_________________________________________________________________\n",
            "dense (Dense)                (None, 101)               129381    \n",
            "_________________________________________________________________\n",
            "softmax_float32 (Activation) (None, 101)               0         \n",
            "=================================================================\n",
            "Total params: 4,178,952\n",
            "Trainable params: 4,136,929\n",
            "Non-trainable params: 42,023\n",
            "_________________________________________________________________\n"
          ],
          "name": "stdout"
        }
      ]
    },
    {
      "cell_type": "code",
      "metadata": {
        "colab": {
          "base_uri": "https://localhost:8080/"
        },
        "id": "Ms0R3LZ9Jrr5",
        "outputId": "37f58903-716a-4f69-f54d-ab94ef1139f1"
      },
      "source": [
        "results_downloaded_fine_tuned_gs_model = loaded_fine_tuned_gs_model.evaluate(test_data)\n",
        "results_downloaded_fine_tuned_gs_model"
      ],
      "execution_count": 61,
      "outputs": [
        {
          "output_type": "stream",
          "text": [
            "790/790 [==============================] - 46s 57ms/step - loss: 0.9073 - accuracy: 0.8017\n"
          ],
          "name": "stdout"
        },
        {
          "output_type": "execute_result",
          "data": {
            "text/plain": [
              "[0.9072550535202026, 0.8017029762268066]"
            ]
          },
          "metadata": {
            "tags": []
          },
          "execution_count": 61
        }
      ]
    },
    {
      "cell_type": "markdown",
      "metadata": {
        "id": "yMAXmidMc_hA"
      },
      "source": [
        "Excellent! Our saved model is performing as expected.\n",
        "\n",
        "Congrautlations! You should be excited! You just trained a computer vision model with competitive performance to a research paper and in far less time.\n",
        "\n",
        "In other words, you brought Food Vision life!"
      ]
    },
    {
      "cell_type": "markdown",
      "metadata": {
        "id": "Szfib8F7aE2Q"
      },
      "source": [
        "## TODO: Update text (we did beat it without data augmentation)\n",
        "\n",
        "Ohh!!!! Dam... so close! But our model is still performing incredibly well and, it took far less time to train than the DeepFood paper (2-3 hours vs. 2-3 days).\n",
        "\n",
        "And if we really wanted to step things up, we could try using the `EfficientNetB4` model (a larger version of `EfficientNetB0`), which at the time of writing, has the [state of the art classification results](https://paperswithcode.com/sota/fine-grained-image-classification-on-food-101) on the Food101 dataset.\n",
        "\n",
        "> 📖 **Resource:** To see which models are currently performing the best on a given dataset or problem type as well as the latest trending machine learning research, be sure to check out [paperswithcode.com](http://paperswithcode.com/) and [sotabench.com](https://sotabench.com/)."
      ]
    },
    {
      "cell_type": "code",
      "metadata": {
        "id": "9YsDhkX_XwMS"
      },
      "source": [
        "## TK - visualize images and predictions\n",
        "# # Get next batches\n",
        "# train_batch = next(iter(train_dataset))\n",
        "# valid_batch = next(iter(valid_dataset))\n",
        "# # Get images\n",
        "# train_images = train_batch[\"image\"]\n",
        "# valid_images = valid_batch[\"image\"]"
      ],
      "execution_count": null,
      "outputs": []
    },
    {
      "cell_type": "markdown",
      "metadata": {
        "id": "pFjooc5Gy0I2"
      },
      "source": [
        "## View training results on TensorBoard\n",
        "\n",
        "Since we tracked our model's fine-tuning training logs using the `TensorBoard` callback, let's upload them and inspect them on TensorBoard.dev."
      ]
    },
    {
      "cell_type": "code",
      "metadata": {
        "id": "DW9x3o1kWlO3"
      },
      "source": [
        "!tensorboard dev upload --logdir ./training_logs \\\n",
        "  --name \"Fine-tuning EfficientNetB0 on all Food101 Data\" \\\n",
        "  --description \"Training results for fine-tuning EfficientNetB0 on Food101 Data with learning rate 0.0001\" \\\n",
        "  --one_shot"
      ],
      "execution_count": null,
      "outputs": []
    },
    {
      "cell_type": "code",
      "metadata": {
        "id": "Cnqjq9aWM6pd"
      },
      "source": [
        "View experiment: https://tensorboard.dev/experiment/2KINdYxgSgW2bUg7dIvevw/"
      ],
      "execution_count": null,
      "outputs": []
    },
    {
      "cell_type": "markdown",
      "metadata": {
        "id": "zvn5JfmuVSCf"
      },
      "source": [
        "Viewing at our [model's training curves on TensorBoard.dev](https://tensorboard.dev/experiment/2KINdYxgSgW2bUg7dIvevw/), it looks like our fine-tuning model gains boost in performance but starts to overfit as training goes on.\n",
        "\n",
        "See the training curves on TensorBoard.dev here: https://tensorboard.dev/experiment/2KINdYxgSgW2bUg7dIvevw/\n",
        "\n",
        "To fix this, in future experiments, we might try things like:\n",
        "* A different iteration of `EfficientNet` (e.g. `EfficientNetB4` instead of `EfficientNetB0`).\n",
        "* Unfreezing less layers of the base model and training them rather than unfreezing the whole base model in one go.\n",
        "\n"
      ]
    },
    {
      "cell_type": "code",
      "metadata": {
        "colab": {
          "base_uri": "https://localhost:8080/"
        },
        "id": "fUpOtu_tNWcJ",
        "outputId": "1b9f45dd-95c6-4088-c939-761a491a3d3a"
      },
      "source": [
        "# View past TensorBoard experiments\n",
        "!tensorboard dev list"
      ],
      "execution_count": 111,
      "outputs": [
        {
          "output_type": "stream",
          "text": [
            "Data for the \"text\" plugin is now uploaded to TensorBoard.dev! Note that uploaded data is public. If you do not want to upload data for this plugin, use the \"--plugins\" command line argument.\n",
            "https://tensorboard.dev/experiment/2KINdYxgSgW2bUg7dIvevw/\n",
            "\tName                 Fine-tuning EfficientNetB0 on all Food101 Data\n",
            "\tDescription          Training results for fine-tuning EfficientNetB0 on Food101 Data with learning rate 0.0001\n",
            "\tId                   2KINdYxgSgW2bUg7dIvevw\n",
            "\tCreated              2021-03-09 04:16:36 (2 minutes ago)\n",
            "\tUpdated              2021-03-09 04:16:39 (2 minutes ago)\n",
            "\tRuns                 4\n",
            "\tTags                 3\n",
            "\tScalars              28\n",
            "\tTensor bytes         0\n",
            "\tBinary object bytes  2079943\n",
            "https://tensorboard.dev/experiment/vcySzjmkRkKBLVSdAQMO8g/\n",
            "\tName                 Transfer Learning Experiments with 10 Food101 Classes\n",
            "\tDescription          A series of different transfer learning experiments with varying amounts of data and fine-tuning.\n",
            "\tId                   vcySzjmkRkKBLVSdAQMO8g\n",
            "\tCreated              2021-02-18 05:43:45\n",
            "\tUpdated              2021-02-18 05:43:50\n",
            "\tRuns                 10\n",
            "\tTags                 3\n",
            "\tScalars              108\n",
            "\tTensor bytes         0\n",
            "\tBinary object bytes  4162671\n",
            "https://tensorboard.dev/experiment/dQBrpdwIRgS2qI0Andv8Yg/\n",
            "\tName                 EfficientNetB0 vs. ResNet50V2\n",
            "\tDescription          Comparing two different TF Hub feature extraction model architectures using 10% of the training data\n",
            "\tId                   dQBrpdwIRgS2qI0Andv8Yg\n",
            "\tCreated              2021-02-15 02:13:39\n",
            "\tUpdated              2021-02-15 02:13:41\n",
            "\tRuns                 4\n",
            "\tTags                 3\n",
            "\tScalars              40\n",
            "\tTensor bytes         0\n",
            "\tBinary object bytes  6020432\n",
            "https://tensorboard.dev/experiment/OAE6KXizQZKQxDiqI3cnUQ/\n",
            "\tName                 Fine-tuning EfficientNetB0 on all Food101 Data\n",
            "\tDescription          Training results for fine-tuning EfficientNetB0 on Food101 Data with learning rate 0.0001\n",
            "\tId                   OAE6KXizQZKQxDiqI3cnUQ\n",
            "\tCreated              2020-09-28 05:46:53\n",
            "\tUpdated              2020-09-28 05:46:55\n",
            "\tRuns                 2\n",
            "\tTags                 3\n",
            "\tScalars              56\n",
            "\tTensor bytes         0\n",
            "\tBinary object bytes  1338330\n",
            "https://tensorboard.dev/experiment/2O76kw3PQbKl0lByfg5B4w/\n",
            "\tName                 Transfer learning experiments\n",
            "\tDescription          A series of different transfer learning experiments with varying amounts of data and fine-tuning\n",
            "\tId                   2O76kw3PQbKl0lByfg5B4w\n",
            "\tCreated              2020-09-17 22:51:37\n",
            "\tUpdated              2020-09-17 22:51:47\n",
            "\tRuns                 10\n",
            "\tTags                 3\n",
            "\tScalars              128\n",
            "\tTensor bytes         0\n",
            "\tBinary object bytes  9520961\n",
            "https://tensorboard.dev/experiment/73taSKxXQeGPQsNBcVvY3g/\n",
            "\tName                 EfficientNetB0 vs. ResNet50V2\n",
            "\tDescription          Comparing two different TF Hub feature extraction models architectures using 10% of training images\n",
            "\tId                   73taSKxXQeGPQsNBcVvY3g\n",
            "\tCreated              2020-09-14 05:02:48\n",
            "\tUpdated              2020-09-14 05:02:50\n",
            "\tRuns                 4\n",
            "\tTags                 3\n",
            "\tScalars              40\n",
            "\tTensor bytes         0\n",
            "\tBinary object bytes  3402042\n",
            "Total: 6 experiment(s)\n"
          ],
          "name": "stdout"
        }
      ]
    },
    {
      "cell_type": "code",
      "metadata": {
        "colab": {
          "base_uri": "https://localhost:8080/"
        },
        "id": "u-Rl-L0hNbEv",
        "outputId": "8b497600-ccd0-4f01-c4e5-defcb597310b"
      },
      "source": [
        "# Delete past TensorBoard experiments\n",
        "# !tensorboard dev delete --experiment_id YOUR_EXPERIMENT_ID\n",
        "\n",
        "# Example\n",
        "!tensorboard dev delete --experiment_id OAE6KXizQZKQxDiqI3cnUQ"
      ],
      "execution_count": 117,
      "outputs": [
        {
          "output_type": "stream",
          "text": [
            "Data for the \"text\" plugin is now uploaded to TensorBoard.dev! Note that uploaded data is public. If you do not want to upload data for this plugin, use the \"--plugins\" command line argument.\n",
            "Deleted experiment OAE6KXizQZKQxDiqI3cnUQ.\n"
          ],
          "name": "stdout"
        }
      ]
    },
    {
      "cell_type": "markdown",
      "metadata": {
        "id": "nDDrrqy5egTn"
      },
      "source": [
        "## 🛠 Exercises \n",
        "\n",
        "1. Use the same evaluation techniques on the large-scale Food Vision model as you did in the previous notebook (TK - link to previous notebook). More specifically, it would be good to see:\n",
        "  * A confusion matrix between all of the model's predictions and true labels.\n",
        "  * A graph showing the f1-scores of each class.\n",
        "  * A visualization of the model making predictions on various images and comparing the predictions to the ground truth.\n",
        "    * For example, plot a sample image from the test dataset and have the title of the plot show the prediction, the prediction probability and the ground truth label. \n",
        "2. Take 3 of your own photos of food and use the Food Vision model to make predictions on them. How does it go? Share your images/predictions with the other students."
      ]
    },
    {
      "cell_type": "markdown",
      "metadata": {
        "id": "z8ncI458ZkpA"
      },
      "source": [
        "## 📖 Extra-curriculum\n",
        "\n",
        "* Read up on learning rate scheduling and the [learning rate scheduler callback](https://www.tensorflow.org/api_docs/python/tf/keras/callbacks/LearningRateScheduler). What is it? And how might it be helpful to this project?\n",
        "* TK - Read up on TensorFlow data loaders (improving TensorFlow data loading performance page) - https://www.tensorflow.org/guide/data_performance\n",
        "* TK - Read up on the documentation for TensorFlow mixed precision training"
      ]
    },
    {
      "cell_type": "code",
      "metadata": {
        "id": "jfvBm3cQGs7T"
      },
      "source": [
        ""
      ],
      "execution_count": null,
      "outputs": []
    }
  ]
}