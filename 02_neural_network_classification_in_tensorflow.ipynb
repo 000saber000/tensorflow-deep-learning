{
  "nbformat": 4,
  "nbformat_minor": 0,
  "metadata": {
    "colab": {
      "name": "02_neural_network_classification_in_tensorflow.ipynb",
      "provenance": [],
      "collapsed_sections": [],
      "authorship_tag": "ABX9TyOwYawJqo0MhmmLOOSQ2OI3",
      "include_colab_link": true
    },
    "kernelspec": {
      "name": "python3",
      "display_name": "Python 3"
    }
  },
  "cells": [
    {
      "cell_type": "markdown",
      "metadata": {
        "id": "view-in-github",
        "colab_type": "text"
      },
      "source": [
        "<a href=\"https://colab.research.google.com/github/mrdbourke/tensorflow-deep-learning/blob/main/02_neural_network_classification_in_tensorflow.ipynb\" target=\"_parent\"><img src=\"https://colab.research.google.com/assets/colab-badge.svg\" alt=\"Open In Colab\"/></a>"
      ]
    },
    {
      "cell_type": "markdown",
      "metadata": {
        "id": "JZNT-Tz4ntRw"
      },
      "source": [
        "# Introduction to Classification with Neural Networks in TensorFlow Tutorial\n",
        "\n",
        "Okay, we've seen how to deal with a regression problem in TensorFlow, let's look at how we can approach a classification problem.\n",
        "\n",
        "A [classification problem](https://en.wikipedia.org/wiki/Statistical_classification) involves predicting whether something is one thing or another.\n",
        "\n",
        "For example, you might want to:\n",
        "* Predict whether or not someone has heart disease based on their health parameters. This is called **binary classification** since there are only two options.\n",
        "* Decide whether a photo of is of food, a person or a dog. This is called **multi-class classification** since there are more than two options.\n",
        "* Predict what categories should be assigned to a Wikipedia article. This is called **multi-label classification** since a single article could have more than one category assigned.\n",
        "\n",
        "In this notebook, we're going to work through a number of different classification problems with TensorFlow. In other words, taking a set of inputs and predicting what class those set of inputs belong to.\n",
        "\n",
        "## What we're going to cover\n",
        "\n",
        "Specifically, we're going to go through doing the following with TensorFlow:\n",
        "- Architecture of a classification model\n",
        "- Input shapes and output shapes\n",
        "  - `X`: features/data (inputs)\n",
        "  - `y`: labels (outputs) \n",
        "    - \"What class do the inputs belong to?\"\n",
        "- Creating custom data to view and fit\n",
        "- Steps in modelling for binary and mutliclass classification\n",
        "  - Creating a model\n",
        "  - Compiling a model\n",
        "    - Defining a loss function\n",
        "    - Setting up an optimizer\n",
        "      - Finding the best learning rate\n",
        "    - Creating evaluation metrics\n",
        "  - Fitting a model (getting it to find patterns in our data)\n",
        "  - Improving a model\n",
        "- The power of non-linearity\n",
        "- Evaluating classification models\n",
        "  - Visualizng the model (\"visualize, visualize, visualize\")\n",
        "  - Looking at training curves\n",
        "  - Compare predictions to ground truth (using our evaluation metrics)\n",
        "\n",
        "## How you can use this notebook\n",
        "\n",
        "You can read through the descriptions and the code (it should all run), but there's a better option.\n",
        "\n",
        "Write all of the code yourself.\n",
        "\n",
        "Yes. I'm serious. Create a new notebook, and rewrite each line by yourself. Investigate it, see if you can break it, why does it break?\n",
        "\n",
        "You don't have to write the text descriptions but writing the code yourself is a great way to get hands-on experience.\n",
        "\n",
        "Don't worry if you make mistakes, we all do. The way to get better and make less mistakes is to **write more code**."
      ]
    },
    {
      "cell_type": "markdown",
      "metadata": {
        "id": "ucRDjFFCJ92X"
      },
      "source": [
        "# Typical architecture of a classification neural network \n",
        "\n",
        "The word *typical* is on purpose.\n",
        "\n",
        "Because the architecture of a classification neural network can widely vary depending on the problem you're working on.\n",
        "\n",
        "However, there are some fundamentals all deep neural networks contain:\n",
        "* An input layer.\n",
        "* Some hidden layers.\n",
        "* An output layer.\n",
        "\n",
        "Much of the rest is up to the data analyst creating the model.\n",
        "\n",
        "The following are some standard values you'll often use in your classification neural networks.\n",
        "\n",
        "| **Hyperparameter** | **Binary Classification** | **Multiclass classification** |\n",
        "| --- | --- | --- |\n",
        "| Input layer shape | Same as number of features (e.g. 5 for age, sex, height, weight, smoking status in heart disease prediction) | Same as binary classification |\n",
        "| Hidden layer(s) | Problem specific, minimum = 1, maximum = unlimited | Same as binary classification |\n",
        "| Neurons per hidden layer | Problem specific, generally 10 to 100 | Same as binary classification |\n",
        "| Output layer shape | 1 (one class or the other) | 1 per class (e.g. 3 for food, person or dog photo) |\n",
        "| Hidden activation | Usually [ReLU](https://www.kaggle.com/dansbecker/rectified-linear-units-relu-in-deep-learning) (rectified linear unit) | Same as binary classification |\n",
        "| Output activation | [Sigmoid](https://en.wikipedia.org/wiki/Sigmoid_function) | [Softmax](https://en.wikipedia.org/wiki/Softmax_function) |\n",
        "| Loss function | [Cross entropy](https://en.wikipedia.org/wiki/Cross_entropy#Cross-entropy_loss_function_and_logistic_regression) ([`tf.keras.losses.BinaryCrossentropy`](https://www.tensorflow.org/api_docs/python/tf/keras/losses/BinaryCrossentropy) in TensorFlow) | Cross entropy ([`tf.keras.losses.CategoricalCrossentropy`](https://www.tensorflow.org/api_docs/python/tf/keras/losses/CategoricalCrossentropy) in TensorFlow) |\n",
        "| Optimizer | [SGD](https://www.tensorflow.org/api_docs/python/tf/keras/optimizers/SGD) (stochastic gradient descent), [Adam](https://www.tensorflow.org/api_docs/python/tf/keras/optimizers/Adam) | Same as binary classification |\n",
        "\n",
        "***Table 1:*** *Typical architecture of a classification network.* ***Source:*** *Adapted from page 295 of [Hands-On Machine Learning with Scikit-Learn, Keras & TensorFlow Book by Aurélien Géron](https://www.oreilly.com/library/view/hands-on-machine-learning/9781492032632/)*\n",
        "\n",
        "Don't worry if not much of the above makes sense right now, we'll get plenty of experience as we go through this notebook.\n",
        "\n",
        "Let's start by importing TensorFlow as `tf`. For this notebook, make sure you're using version 2.x+."
      ]
    },
    {
      "cell_type": "code",
      "metadata": {
        "id": "IPWQMjYwKpCH",
        "colab": {
          "base_uri": "https://localhost:8080/"
        },
        "outputId": "7b8f7bcf-b962-41a0-f6d5-4834112b2b3d"
      },
      "source": [
        "import tensorflow as tf\n",
        "print(tf.__version__)"
      ],
      "execution_count": 44,
      "outputs": [
        {
          "output_type": "stream",
          "text": [
            "2.3.0\n"
          ],
          "name": "stdout"
        }
      ]
    },
    {
      "cell_type": "markdown",
      "metadata": {
        "id": "PEAjPGv8J2K0"
      },
      "source": [
        "# Creating data to view and fit\n",
        "\n",
        "We could start by importing a classification dataset but let's practice making some of our own classification data.\n",
        "\n",
        "> 🔑 **Note:** It's a common practice to get you and model you build working on a toy (or simple) dataset before moving to your actual problem. Treat it as a rehersal experiment before the actual experiment(s).\n",
        "\n",
        "Since classification is predicting whether something is one thing or another, let's make some data to reflect that.\n",
        "\n",
        "To do so, we'll use Scikit-Learn's [`make_circles()`](https://scikit-learn.org/stable/modules/generated/sklearn.datasets.make_circles.html#sklearn.datasets.make_circles) function.\n",
        "\n"
      ]
    },
    {
      "cell_type": "code",
      "metadata": {
        "id": "7dT80sWqLYPf"
      },
      "source": [
        "from sklearn.datasets import make_circles\n",
        "\n",
        "# Make 1000 examples\n",
        "n_samples = 1000\n",
        "\n",
        "# Create circles\n",
        "X, y = make_circles(n_samples, \n",
        "                    noise=0.03, \n",
        "                    random_state=42)"
      ],
      "execution_count": 45,
      "outputs": []
    },
    {
      "cell_type": "markdown",
      "metadata": {
        "id": "CclQDWU8c69i"
      },
      "source": [
        "Wonderful, now we've created some data, let's look at the features (`X`) and labels (`y`)."
      ]
    },
    {
      "cell_type": "code",
      "metadata": {
        "id": "Gf47AUmxLYMj",
        "colab": {
          "base_uri": "https://localhost:8080/"
        },
        "outputId": "ebd49c50-f646-4fd8-e373-acc594ddecb1"
      },
      "source": [
        "# Check out the features\n",
        "X"
      ],
      "execution_count": 46,
      "outputs": [
        {
          "output_type": "execute_result",
          "data": {
            "text/plain": [
              "array([[ 0.75424625,  0.23148074],\n",
              "       [-0.75615888,  0.15325888],\n",
              "       [-0.81539193,  0.17328203],\n",
              "       ...,\n",
              "       [-0.13690036, -0.81001183],\n",
              "       [ 0.67036156, -0.76750154],\n",
              "       [ 0.28105665,  0.96382443]])"
            ]
          },
          "metadata": {
            "tags": []
          },
          "execution_count": 46
        }
      ]
    },
    {
      "cell_type": "code",
      "metadata": {
        "id": "FkgZlGstK572",
        "colab": {
          "base_uri": "https://localhost:8080/"
        },
        "outputId": "029120f7-934c-442c-9be3-145fa54b2f6f"
      },
      "source": [
        "# See the first 10 labels\n",
        "y[:10]"
      ],
      "execution_count": 47,
      "outputs": [
        {
          "output_type": "execute_result",
          "data": {
            "text/plain": [
              "array([1, 1, 1, 1, 0, 1, 1, 1, 1, 0])"
            ]
          },
          "metadata": {
            "tags": []
          },
          "execution_count": 47
        }
      ]
    },
    {
      "cell_type": "markdown",
      "metadata": {
        "id": "DcBi6A1PeC4s"
      },
      "source": [
        "Okay, we've seen some of our data and labels, how about we move towards visualizing?\n",
        "\n",
        "> 🔑 **Note:** One important step of starting any kind of machine learning project is to [become one with the data](https://karpathy.github.io/2019/04/25/recipe/). And one of the best ways to do this is to visualize the data you're working with as much as possible. The data explorer's motto is \"visualize, visualize, visualize\".\n",
        "\n",
        "We'll start with a DataFrame."
      ]
    },
    {
      "cell_type": "code",
      "metadata": {
        "id": "SzQ7X9QgMGpq",
        "colab": {
          "base_uri": "https://localhost:8080/",
          "height": 204
        },
        "outputId": "049d7bef-e25a-4843-9313-a429606acdca"
      },
      "source": [
        "# Make dataframe of features and labels\n",
        "import pandas as pd\n",
        "circles = pd.DataFrame({\"X0\":X[:, 0], \"X1\":X[:, 1], \"label\":y})\n",
        "circles.head()"
      ],
      "execution_count": 48,
      "outputs": [
        {
          "output_type": "execute_result",
          "data": {
            "text/html": [
              "<div>\n",
              "<style scoped>\n",
              "    .dataframe tbody tr th:only-of-type {\n",
              "        vertical-align: middle;\n",
              "    }\n",
              "\n",
              "    .dataframe tbody tr th {\n",
              "        vertical-align: top;\n",
              "    }\n",
              "\n",
              "    .dataframe thead th {\n",
              "        text-align: right;\n",
              "    }\n",
              "</style>\n",
              "<table border=\"1\" class=\"dataframe\">\n",
              "  <thead>\n",
              "    <tr style=\"text-align: right;\">\n",
              "      <th></th>\n",
              "      <th>X0</th>\n",
              "      <th>X1</th>\n",
              "      <th>label</th>\n",
              "    </tr>\n",
              "  </thead>\n",
              "  <tbody>\n",
              "    <tr>\n",
              "      <th>0</th>\n",
              "      <td>0.754246</td>\n",
              "      <td>0.231481</td>\n",
              "      <td>1</td>\n",
              "    </tr>\n",
              "    <tr>\n",
              "      <th>1</th>\n",
              "      <td>-0.756159</td>\n",
              "      <td>0.153259</td>\n",
              "      <td>1</td>\n",
              "    </tr>\n",
              "    <tr>\n",
              "      <th>2</th>\n",
              "      <td>-0.815392</td>\n",
              "      <td>0.173282</td>\n",
              "      <td>1</td>\n",
              "    </tr>\n",
              "    <tr>\n",
              "      <th>3</th>\n",
              "      <td>-0.393731</td>\n",
              "      <td>0.692883</td>\n",
              "      <td>1</td>\n",
              "    </tr>\n",
              "    <tr>\n",
              "      <th>4</th>\n",
              "      <td>0.442208</td>\n",
              "      <td>-0.896723</td>\n",
              "      <td>0</td>\n",
              "    </tr>\n",
              "  </tbody>\n",
              "</table>\n",
              "</div>"
            ],
            "text/plain": [
              "         X0        X1  label\n",
              "0  0.754246  0.231481      1\n",
              "1 -0.756159  0.153259      1\n",
              "2 -0.815392  0.173282      1\n",
              "3 -0.393731  0.692883      1\n",
              "4  0.442208 -0.896723      0"
            ]
          },
          "metadata": {
            "tags": []
          },
          "execution_count": 48
        }
      ]
    },
    {
      "cell_type": "markdown",
      "metadata": {
        "id": "1ngNwBOxevcv"
      },
      "source": [
        "What kind of labels are we dealing with?"
      ]
    },
    {
      "cell_type": "code",
      "metadata": {
        "id": "cfgZGtMGe0XB",
        "colab": {
          "base_uri": "https://localhost:8080/"
        },
        "outputId": "eebd104a-e143-46ef-9130-fdf6940070c3"
      },
      "source": [
        "# Check out the different labels\n",
        "circles.label.value_counts()"
      ],
      "execution_count": 49,
      "outputs": [
        {
          "output_type": "execute_result",
          "data": {
            "text/plain": [
              "1    500\n",
              "0    500\n",
              "Name: label, dtype: int64"
            ]
          },
          "metadata": {
            "tags": []
          },
          "execution_count": 49
        }
      ]
    },
    {
      "cell_type": "markdown",
      "metadata": {
        "id": "ajz7TdQPesKt"
      },
      "source": [
        "Alright, looks like we're dealing with a **binary classification** problem. It's binary because there are only two labels (0 or 1).\n",
        "\n",
        "If there were more label options (e.g. 0, 1, 2, 3 or 4), it would be called **multiclass classification**.\n",
        "\n",
        "Let's take our visualization a step further and plot our data."
      ]
    },
    {
      "cell_type": "code",
      "metadata": {
        "id": "KIPTzrETMemP",
        "colab": {
          "base_uri": "https://localhost:8080/",
          "height": 265
        },
        "outputId": "872ad79c-0699-43e6-e6c6-6fd246e67ffd"
      },
      "source": [
        "# Visualize with a plot\n",
        "import matplotlib.pyplot as plt\n",
        "plt.scatter(X[:, 0], X[:, 1], c=y, cmap=plt.cm.RdYlBu);"
      ],
      "execution_count": 50,
      "outputs": [
        {
          "output_type": "display_data",
          "data": {
            "image/png": "[encoded data removed]",
            "text/plain": [
              "<Figure size 432x288 with 1 Axes>"
            ]
          },
          "metadata": {
            "tags": [],
            "needs_background": "light"
          }
        }
      ]
    },
    {
      "cell_type": "markdown",
      "metadata": {
        "id": "_Jty66H6cbJp"
      },
      "source": [
        "Nice! From the plot, can you guess what kind of model we might want to build?\n",
        "\n",
        "How about we try and build one to classify blue or red dots? As in, a model which is able to distinguish blue from red dots.\n",
        "\n",
        "> 🛠 **Practice:** Before pushing forward, you might want to spend 10 minutes playing around with the [TensorFlow Playground](https://playground.tensorflow.org/#activation=relu&batchSize=10&dataset=circle&regDataset=reg-plane&learningRate=0.03&regularizationRate=0&noise=0&networkShape=2,2&seed=0.93799&showTestData=false&discretize=false&percTrainData=50&x=true&y=true&xTimesY=false&xSquared=false&ySquared=false&cosX=false&sinX=false&cosY=false&sinY=false&collectStats=false&problem=classification&initZero=false&hideText=false&regularization_hide=true&regularizationRate_hide=true&batchSize_hide=true). Try adjusting the different hyperparameters you see and click play to see a neural network train. I think you'll find the data very similar to what we've just created."
      ]
    },
    {
      "cell_type": "markdown",
      "metadata": {
        "id": "Cv4fEHihOAq4"
      },
      "source": [
        "# Input and output shapes\n",
        "\n",
        "One of the most common issues you'll run into when building neural networks is shape mismatches.\n",
        "\n",
        "More specifically, the shape of the input data and the shape of the output data.\n",
        "\n",
        "In our case, we want to input `X` and get our model to predict `y`.\n",
        "\n",
        "So let's check out the shapes of `X` and `y`."
      ]
    },
    {
      "cell_type": "code",
      "metadata": {
        "id": "lZxjjmsHNt_K",
        "colab": {
          "base_uri": "https://localhost:8080/"
        },
        "outputId": "e1cbfa22-ad9c-47d2-d852-892291ca0e9b"
      },
      "source": [
        "# Check the shapes of our features and labels\n",
        "X.shape, y.shape"
      ],
      "execution_count": 51,
      "outputs": [
        {
          "output_type": "execute_result",
          "data": {
            "text/plain": [
              "((1000, 2), (1000,))"
            ]
          },
          "metadata": {
            "tags": []
          },
          "execution_count": 51
        }
      ]
    },
    {
      "cell_type": "markdown",
      "metadata": {
        "id": "5BSq58RogJMa"
      },
      "source": [
        "Hmm, where do these numbers come from?"
      ]
    },
    {
      "cell_type": "code",
      "metadata": {
        "id": "SPr81SsKgHvZ",
        "colab": {
          "base_uri": "https://localhost:8080/"
        },
        "outputId": "4ae152b0-dc6a-4577-ae69-bde31d0b467f"
      },
      "source": [
        "# Check how many samples we have\n",
        "len(X), len(y)"
      ],
      "execution_count": 52,
      "outputs": [
        {
          "output_type": "execute_result",
          "data": {
            "text/plain": [
              "(1000, 1000)"
            ]
          },
          "metadata": {
            "tags": []
          },
          "execution_count": 52
        }
      ]
    },
    {
      "cell_type": "markdown",
      "metadata": {
        "id": "XCBbrNaOgPWC"
      },
      "source": [
        "So we've got as many `X` values as we do `y` values, that makes sense.\n",
        "\n",
        "Let's check out one example of each."
      ]
    },
    {
      "cell_type": "code",
      "metadata": {
        "id": "hwrSEVubgZNb",
        "colab": {
          "base_uri": "https://localhost:8080/"
        },
        "outputId": "3578c96d-f702-43a9-b61e-ecd3a0d86e79"
      },
      "source": [
        "# View the first example of features and labels\n",
        "X[0], y[0]"
      ],
      "execution_count": 53,
      "outputs": [
        {
          "output_type": "execute_result",
          "data": {
            "text/plain": [
              "(array([0.75424625, 0.23148074]), 1)"
            ]
          },
          "metadata": {
            "tags": []
          },
          "execution_count": 53
        }
      ]
    },
    {
      "cell_type": "markdown",
      "metadata": {
        "id": "OMeqY8JSgg4L"
      },
      "source": [
        "Alright, so we've got two `X` features which lead to one `y` value.\n",
        "\n",
        "This means our neural network input shape will has to accept a tensor with at least one dimension being two and output a tensor with at least one value.\n",
        "\n",
        "> 🤔 **Note:** `y` having a shape of (1000,) can seem confusing. However, this is because all `y` values are actually scalars (single values) and therefore don't have a dimension. For now, think of your output shape as being at least the same value as one example of `y` (in our case, the output from our neural network has to be at least one value)."
      ]
    },
    {
      "cell_type": "markdown",
      "metadata": {
        "id": "vSjUbiCBN9fc"
      },
      "source": [
        "# Steps in modelling\n",
        "\n",
        "Now we know what data we have as well as the input and output shapes, let's see how we'd build a neural network to model it.\n",
        "\n",
        "In TensorFlow, there are typically 3 fundamental steps to creating and training a model.\n",
        "\n",
        "1. **Creating a model** - piece together the layers of a neural network yourself (using the [functional](https://www.tensorflow.org/guide/keras/functional) or [sequential API](https://www.tensorflow.org/api_docs/python/tf/keras/Sequential)) or import a previously built model (known as transfer learning).\n",
        "2. **Compiling a model** - defining how a model's performance should be measured (loss/metrics) as well as defining how it should improve (optimizer). \n",
        "3. **Fitting a model** - letting the model try to find patterns in the data (how does `X` get to `y`). \n",
        "\n",
        "Let's see these in action using the Sequential API to build a model for our regression data. And then we'll step through each."
      ]
    },
    {
      "cell_type": "code",
      "metadata": {
        "id": "Lt4pbcZ7OEif",
        "colab": {
          "base_uri": "https://localhost:8080/"
        },
        "outputId": "51ae756c-072c-4cd4-d46b-15b25ba5a558"
      },
      "source": [
        "# Set random seed\n",
        "tf.random.set_seed(42)\n",
        "\n",
        "# 1. Create the model using the Sequential API\n",
        "model_1 = tf.keras.Sequential([\n",
        "  tf.keras.layers.Dense(1)\n",
        "])\n",
        "\n",
        "# 2. Compile the model\n",
        "model_1.compile(loss=tf.keras.losses.BinaryCrossentropy(), # binary since we are working with 2 clases (0 & 1)\n",
        "                optimizer=tf.keras.optimizers.SGD(),\n",
        "                metrics=['accuracy'])\n",
        "\n",
        "# 3. Fit the model\n",
        "model_1.fit(X, y, epochs=5)"
      ],
      "execution_count": 54,
      "outputs": [
        {
          "output_type": "stream",
          "text": [
            "Epoch 1/5\n",
            "32/32 [==============================] - 0s 897us/step - loss: 2.8544 - accuracy: 0.4600\n",
            "Epoch 2/5\n",
            "32/32 [==============================] - 0s 862us/step - loss: 0.7131 - accuracy: 0.5430\n",
            "Epoch 3/5\n",
            "32/32 [==============================] - 0s 950us/step - loss: 0.6973 - accuracy: 0.5090\n",
            "Epoch 4/5\n",
            "32/32 [==============================] - 0s 895us/step - loss: 0.6950 - accuracy: 0.5010\n",
            "Epoch 5/5\n",
            "32/32 [==============================] - 0s 903us/step - loss: 0.6942 - accuracy: 0.4830\n"
          ],
          "name": "stdout"
        },
        {
          "output_type": "execute_result",
          "data": {
            "text/plain": [
              "<tensorflow.python.keras.callbacks.History at 0x7f130e9c3550>"
            ]
          },
          "metadata": {
            "tags": []
          },
          "execution_count": 54
        }
      ]
    },
    {
      "cell_type": "markdown",
      "metadata": {
        "id": "oa8Tcv9ePRq6"
      },
      "source": [
        "Looking at the accuracy metric, our model performs poorly (50% accuracy on a binary classification problem is the equivalent of guessing), but what if we trained it for longer?"
      ]
    },
    {
      "cell_type": "code",
      "metadata": {
        "id": "GqVVD_IqPHm5",
        "colab": {
          "base_uri": "https://localhost:8080/"
        },
        "outputId": "16f7c179-f6f9-49a8-dc17-3c5990d788ad"
      },
      "source": [
        "# Train our model for longer (more chances to look at the data)\n",
        "model_1.fit(X, y, epochs=200, verbose=0) # set verbose=0 to remove training updates\n",
        "model_1.evaluate(X, y)"
      ],
      "execution_count": 55,
      "outputs": [
        {
          "output_type": "stream",
          "text": [
            "32/32 [==============================] - 0s 882us/step - loss: 0.6935 - accuracy: 0.5000\n"
          ],
          "name": "stdout"
        },
        {
          "output_type": "execute_result",
          "data": {
            "text/plain": [
              "[0.6934829950332642, 0.5]"
            ]
          },
          "metadata": {
            "tags": []
          },
          "execution_count": 55
        }
      ]
    },
    {
      "cell_type": "markdown",
      "metadata": {
        "id": "H-qaMmKrPegL"
      },
      "source": [
        "Even after 200 passes of the data, it's still performing as if it's guessing.\n",
        "\n",
        "What if we added an extra layer and trained for a little longer?"
      ]
    },
    {
      "cell_type": "code",
      "metadata": {
        "id": "TED0ZkOuPklW",
        "colab": {
          "base_uri": "https://localhost:8080/"
        },
        "outputId": "435b0cdd-cbb2-448f-bd61-ac20acc3dcfc"
      },
      "source": [
        "# Set random seed\n",
        "tf.random.set_seed(42)\n",
        "\n",
        "# 1. Create the model (same as model_1 but with an extra layer)\n",
        "model_2 = tf.keras.Sequential([\n",
        "  tf.keras.layers.Dense(1), # add an extra layer\n",
        "  tf.keras.layers.Dense(1) \n",
        "])\n",
        "\n",
        "# 2. Compile the model\n",
        "model_2.compile(loss=tf.keras.losses.BinaryCrossentropy(),\n",
        "                optimizer=tf.keras.optimizers.SGD(),\n",
        "                metrics=['accuracy'])\n",
        "\n",
        "# 3. Fit the model\n",
        "model_2.fit(X, y, epochs=100, verbose=0) # set verbose=0 to make the output print less"
      ],
      "execution_count": 56,
      "outputs": [
        {
          "output_type": "execute_result",
          "data": {
            "text/plain": [
              "<tensorflow.python.keras.callbacks.History at 0x7f131171cef0>"
            ]
          },
          "metadata": {
            "tags": []
          },
          "execution_count": 56
        }
      ]
    },
    {
      "cell_type": "code",
      "metadata": {
        "id": "qFWWlhByirLa",
        "colab": {
          "base_uri": "https://localhost:8080/"
        },
        "outputId": "f60fdff0-6d0e-4610-d534-ce7cd08ab615"
      },
      "source": [
        "# Evaluate the model\n",
        "model_2.evaluate(X, y)"
      ],
      "execution_count": 57,
      "outputs": [
        {
          "output_type": "stream",
          "text": [
            "32/32 [==============================] - 0s 802us/step - loss: 0.6933 - accuracy: 0.5000\n"
          ],
          "name": "stdout"
        },
        {
          "output_type": "execute_result",
          "data": {
            "text/plain": [
              "[0.6933314800262451, 0.5]"
            ]
          },
          "metadata": {
            "tags": []
          },
          "execution_count": 57
        }
      ]
    },
    {
      "cell_type": "markdown",
      "metadata": {
        "id": "HC7vhAHKQQRY"
      },
      "source": [
        "Still not even as good as guessing (~50% accuracy)... hmm...?\n",
        "\n",
        "Let's remind ourselves of a couple more ways we can use to improve our models."
      ]
    },
    {
      "cell_type": "markdown",
      "metadata": {
        "id": "wyTs6QgijF6_"
      },
      "source": [
        "# Improving a model\n",
        "\n",
        "To improve our model, we can alter almost every part of the 3 steps we went through before.\n",
        "\n",
        "1. **Creating a model** - here you might want to add more layers, increase the number of hidden units (also called neurons) within each layer, change the activation functions of each layer.\n",
        "2. **Compiling a model** - you might want to choose a different optimization function (such as the [Adam](https://www.tensorflow.org/api_docs/python/tf/keras/optimizers/Adam) optimizer, which is usually pretty good for many problems) or perhaps change the learning rate of the optimization function.\n",
        "3. **Fitting a model** - perhaps you could fit a model for more epochs (leave it training for longer).\n",
        "\n",
        "How about we try adding more neurons, an extra layer and our friend the Adam optimizer?\n",
        "\n",
        "Surely doing this is better than guessing..."
      ]
    },
    {
      "cell_type": "code",
      "metadata": {
        "id": "46pebMB4Qeth",
        "colab": {
          "base_uri": "https://localhost:8080/"
        },
        "outputId": "c5578fa7-f460-493a-e1f5-02adec71bba4"
      },
      "source": [
        "# Set random seed\n",
        "tf.random.set_seed(42)\n",
        "\n",
        "# 1. Create the model (this time 3 layers)\n",
        "model_3 = tf.keras.Sequential([\n",
        "  tf.keras.layers.Dense(100), # add 100 dense neurons\n",
        "  tf.keras.layers.Dense(10), # add another layer with 10 neurons\n",
        "  tf.keras.layers.Dense(1)\n",
        "])\n",
        "\n",
        "# 2. Compile the model\n",
        "model_3.compile(loss=tf.keras.losses.BinaryCrossentropy(),\n",
        "                optimizer=tf.keras.optimizers.Adam(), # use Adam instead of SGD\n",
        "                metrics=['accuracy'])\n",
        "\n",
        "# 3. Fit the model\n",
        "model_3.fit(X, y, epochs=100, verbose=0) # fit for 100 passes of the data"
      ],
      "execution_count": 58,
      "outputs": [
        {
          "output_type": "execute_result",
          "data": {
            "text/plain": [
              "<tensorflow.python.keras.callbacks.History at 0x7f13115cbeb8>"
            ]
          },
          "metadata": {
            "tags": []
          },
          "execution_count": 58
        }
      ]
    },
    {
      "cell_type": "markdown",
      "metadata": {
        "id": "TJJL0YT7RVzv"
      },
      "source": [
        "Still! \n",
        "\n",
        "We've pulled out a few tricks but our model isn't even doing better than guessing.\n",
        "\n",
        "Let's make some visualizations to see what's happening.\n",
        "\n",
        "> 🔑 **Note:** Whenever your model is performing strangely or there's something going on with your data you're not quite sure of, remember these three words: **visualize, visualize, visualize**. Inspect your data, inspect your model, inpsect your model's predictions.\n",
        "\n",
        "To visualize our model's predictions we're going to create a function `plot_decision_boundary()` which:\n",
        "* Takes in a trained model, features (`X`) and labels (`y`).\n",
        "* Creates a [meshgrid](https://numpy.org/doc/stable/reference/generated/numpy.meshgrid.html) of the different `X` values.\n",
        "* Makes predictions across the meshgrid.\n",
        "* Plots the predictions as well as a line between the different zones (where each unique class falls).\n",
        "\n",
        "If this sounds confusing, let's see it in code and then see the output.\n",
        "\n",
        "> 🔑 **Note:** If you're ever unsure of what a function does, try unraveling it and writing it line by line for yourself to see what it does. Break it into small parts and see what each part outputs."
      ]
    },
    {
      "cell_type": "code",
      "metadata": {
        "id": "MuwGjU_XR0aG"
      },
      "source": [
        "import numpy as np\n",
        "\n",
        "def plot_decision_boundary(model, X, y):\n",
        "  \"\"\"\n",
        "  Plots the decision boundary created by a model predicting on X.\n",
        "  This function has been adapted from two phenomenal resources:\n",
        "   1. CS231n - https://cs231n.github.io/neural-networks-case-study/\n",
        "   2. Made with ML basics - https://github.com/madewithml/basics/blob/master/notebooks/09_Multilayer_Perceptrons/09_TF_Multilayer_Perceptrons.ipynb\n",
        "  \"\"\"\n",
        "  # Define the axis boundaries of the plot and create a meshgrid\n",
        "  x_min, x_max = X[:, 0].min() - 0.1, X[:, 0].max() + 0.1\n",
        "  y_min, y_max = X[:, 1].min() - 0.1, X[:, 1].max() + 0.1\n",
        "  xx, yy = np.meshgrid(np.linspace(x_min, x_max, 100),\n",
        "                       np.linspace(y_min, y_max, 100))\n",
        "  \n",
        "  # Create X values (we're going to predict on all of these)\n",
        "  x_in = np.c_[xx.ravel(), yy.ravel()] # stack 2D arrays together: https://numpy.org/devdocs/reference/generated/numpy.c_.html\n",
        "  \n",
        "  # Make predictions using the trained model\n",
        "  y_pred = model.predict(x_in)\n",
        "\n",
        "  # Check for multi-class\n",
        "  if len(y_pred[0]) > 1:\n",
        "    print(\"doing multiclass classification...\")\n",
        "    # We have to reshape our predictions to get them ready for plotting\n",
        "    y_pred = np.argmax(y_pred, axis=1).reshape(xx.shape)\n",
        "  else:\n",
        "    print(\"doing binary classifcation...\")\n",
        "    y_pred = np.round(y_pred).reshape(xx.shape)\n",
        "  \n",
        "  # Plot decision boundary\n",
        "  plt.contourf(xx, yy, y_pred, cmap=plt.cm.RdYlBu, alpha=0.7)\n",
        "  plt.scatter(X[:, 0], X[:, 1], c=y, s=40, cmap=plt.cm.RdYlBu)\n",
        "  plt.xlim(xx.min(), xx.max())\n",
        "  plt.ylim(yy.min(), yy.max())"
      ],
      "execution_count": 59,
      "outputs": []
    },
    {
      "cell_type": "markdown",
      "metadata": {
        "id": "OgekXFM2clQW"
      },
      "source": [
        "Now we've got a function to plot our model's decision boundary (the cut off point its making between red and blue dots), let's try it out."
      ]
    },
    {
      "cell_type": "code",
      "metadata": {
        "id": "XIyCVjolTmy4",
        "colab": {
          "base_uri": "https://localhost:8080/",
          "height": 282
        },
        "outputId": "68fa09ec-9a45-431a-994b-40ced630521f"
      },
      "source": [
        "# Check out the predictions our model is making \n",
        "plot_decision_boundary(model_3, X, y)"
      ],
      "execution_count": 60,
      "outputs": [
        {
          "output_type": "stream",
          "text": [
            "doing binary classifcation...\n"
          ],
          "name": "stdout"
        },
        {
          "output_type": "display_data",
          "data": {
            "image/png": "[encoded data removed]",
            "text/plain": [
              "<Figure size 432x288 with 1 Axes>"
            ]
          },
          "metadata": {
            "tags": [],
            "needs_background": "light"
          }
        }
      ]
    },
    {
      "cell_type": "markdown",
      "metadata": {
        "id": "XIzcQrknUJPK"
      },
      "source": [
        "Looks like our model is trying to draw a straight line through the data.\n",
        "\n",
        "What's wrong with doing this?\n",
        "\n",
        "The main issue is our data isn't separable by a straight line.\n",
        "\n",
        "In a regression problem, our model might work. In fact, let's try it."
      ]
    },
    {
      "cell_type": "code",
      "metadata": {
        "id": "7d9O9subUshC",
        "colab": {
          "base_uri": "https://localhost:8080/",
          "height": 885
        },
        "outputId": "c25f4a47-8542-41fa-a035-a675dfe50681"
      },
      "source": [
        "# Set random seed\n",
        "tf.random.set_seed(42)\n",
        "\n",
        "# Create some regression data\n",
        "X_regression = np.arange(0, 1000, 5)\n",
        "y_regression = np.arange(100, 1100, 5)\n",
        "\n",
        "# Split it into training and test sets\n",
        "X_reg_train = X_regression[:150]\n",
        "X_reg_test = X_regression[150:]\n",
        "y_reg_train = y_regression[:150]\n",
        "y_reg_test = y_regression[150:]\n",
        "\n",
        "# Fit our model to the data\n",
        "model_3.fit(X_reg_train, y_reg_train, epochs=100)"
      ],
      "execution_count": 61,
      "outputs": [
        {
          "output_type": "stream",
          "text": [
            "Epoch 1/100\n"
          ],
          "name": "stdout"
        },
        {
          "output_type": "error",
          "ename": "ValueError",
          "evalue": "ignored",
          "traceback": [
            "\u001b[0;31m---------------------------------------------------------------------------\u001b[0m",
            "\u001b[0;31mValueError\u001b[0m                                Traceback (most recent call last)",
            "\u001b[0;32m<ipython-input-61-ac5f57a9e452>\u001b[0m in \u001b[0;36m<module>\u001b[0;34m()\u001b[0m\n\u001b[1;32m     13\u001b[0m \u001b[0;34m\u001b[0m\u001b[0m\n\u001b[1;32m     14\u001b[0m \u001b[0;31m# Fit our model to the data\u001b[0m\u001b[0;34m\u001b[0m\u001b[0;34m\u001b[0m\u001b[0;34m\u001b[0m\u001b[0m\n\u001b[0;32m---> 15\u001b[0;31m \u001b[0mmodel_3\u001b[0m\u001b[0;34m.\u001b[0m\u001b[0mfit\u001b[0m\u001b[0;34m(\u001b[0m\u001b[0mX_reg_train\u001b[0m\u001b[0;34m,\u001b[0m \u001b[0my_reg_train\u001b[0m\u001b[0;34m,\u001b[0m \u001b[0mepochs\u001b[0m\u001b[0;34m=\u001b[0m\u001b[0;36m100\u001b[0m\u001b[0;34m)\u001b[0m\u001b[0;34m\u001b[0m\u001b[0;34m\u001b[0m\u001b[0m\n\u001b[0m",
            "\u001b[0;32m/usr/local/lib/python3.6/dist-packages/tensorflow/python/keras/engine/training.py\u001b[0m in \u001b[0;36m_method_wrapper\u001b[0;34m(self, *args, **kwargs)\u001b[0m\n\u001b[1;32m    106\u001b[0m   \u001b[0;32mdef\u001b[0m \u001b[0m_method_wrapper\u001b[0m\u001b[0;34m(\u001b[0m\u001b[0mself\u001b[0m\u001b[0;34m,\u001b[0m \u001b[0;34m*\u001b[0m\u001b[0margs\u001b[0m\u001b[0;34m,\u001b[0m \u001b[0;34m**\u001b[0m\u001b[0mkwargs\u001b[0m\u001b[0;34m)\u001b[0m\u001b[0;34m:\u001b[0m\u001b[0;34m\u001b[0m\u001b[0;34m\u001b[0m\u001b[0m\n\u001b[1;32m    107\u001b[0m     \u001b[0;32mif\u001b[0m \u001b[0;32mnot\u001b[0m \u001b[0mself\u001b[0m\u001b[0;34m.\u001b[0m\u001b[0m_in_multi_worker_mode\u001b[0m\u001b[0;34m(\u001b[0m\u001b[0;34m)\u001b[0m\u001b[0;34m:\u001b[0m  \u001b[0;31m# pylint: disable=protected-access\u001b[0m\u001b[0;34m\u001b[0m\u001b[0;34m\u001b[0m\u001b[0m\n\u001b[0;32m--> 108\u001b[0;31m       \u001b[0;32mreturn\u001b[0m \u001b[0mmethod\u001b[0m\u001b[0;34m(\u001b[0m\u001b[0mself\u001b[0m\u001b[0;34m,\u001b[0m \u001b[0;34m*\u001b[0m\u001b[0margs\u001b[0m\u001b[0;34m,\u001b[0m \u001b[0;34m**\u001b[0m\u001b[0mkwargs\u001b[0m\u001b[0;34m)\u001b[0m\u001b[0;34m\u001b[0m\u001b[0;34m\u001b[0m\u001b[0m\n\u001b[0m\u001b[1;32m    109\u001b[0m \u001b[0;34m\u001b[0m\u001b[0m\n\u001b[1;32m    110\u001b[0m     \u001b[0;31m# Running inside `run_distribute_coordinator` already.\u001b[0m\u001b[0;34m\u001b[0m\u001b[0;34m\u001b[0m\u001b[0;34m\u001b[0m\u001b[0m\n",
            "\u001b[0;32m/usr/local/lib/python3.6/dist-packages/tensorflow/python/keras/engine/training.py\u001b[0m in \u001b[0;36mfit\u001b[0;34m(self, x, y, batch_size, epochs, verbose, callbacks, validation_split, validation_data, shuffle, class_weight, sample_weight, initial_epoch, steps_per_epoch, validation_steps, validation_batch_size, validation_freq, max_queue_size, workers, use_multiprocessing)\u001b[0m\n\u001b[1;32m   1096\u001b[0m                 batch_size=batch_size):\n\u001b[1;32m   1097\u001b[0m               \u001b[0mcallbacks\u001b[0m\u001b[0;34m.\u001b[0m\u001b[0mon_train_batch_begin\u001b[0m\u001b[0;34m(\u001b[0m\u001b[0mstep\u001b[0m\u001b[0;34m)\u001b[0m\u001b[0;34m\u001b[0m\u001b[0;34m\u001b[0m\u001b[0m\n\u001b[0;32m-> 1098\u001b[0;31m               \u001b[0mtmp_logs\u001b[0m \u001b[0;34m=\u001b[0m \u001b[0mtrain_function\u001b[0m\u001b[0;34m(\u001b[0m\u001b[0miterator\u001b[0m\u001b[0;34m)\u001b[0m\u001b[0;34m\u001b[0m\u001b[0;34m\u001b[0m\u001b[0m\n\u001b[0m\u001b[1;32m   1099\u001b[0m               \u001b[0;32mif\u001b[0m \u001b[0mdata_handler\u001b[0m\u001b[0;34m.\u001b[0m\u001b[0mshould_sync\u001b[0m\u001b[0;34m:\u001b[0m\u001b[0;34m\u001b[0m\u001b[0;34m\u001b[0m\u001b[0m\n\u001b[1;32m   1100\u001b[0m                 \u001b[0mcontext\u001b[0m\u001b[0;34m.\u001b[0m\u001b[0masync_wait\u001b[0m\u001b[0;34m(\u001b[0m\u001b[0;34m)\u001b[0m\u001b[0;34m\u001b[0m\u001b[0;34m\u001b[0m\u001b[0m\n",
            "\u001b[0;32m/usr/local/lib/python3.6/dist-packages/tensorflow/python/eager/def_function.py\u001b[0m in \u001b[0;36m__call__\u001b[0;34m(self, *args, **kwds)\u001b[0m\n\u001b[1;32m    778\u001b[0m       \u001b[0;32melse\u001b[0m\u001b[0;34m:\u001b[0m\u001b[0;34m\u001b[0m\u001b[0;34m\u001b[0m\u001b[0m\n\u001b[1;32m    779\u001b[0m         \u001b[0mcompiler\u001b[0m \u001b[0;34m=\u001b[0m \u001b[0;34m\"nonXla\"\u001b[0m\u001b[0;34m\u001b[0m\u001b[0;34m\u001b[0m\u001b[0m\n\u001b[0;32m--> 780\u001b[0;31m         \u001b[0mresult\u001b[0m \u001b[0;34m=\u001b[0m \u001b[0mself\u001b[0m\u001b[0;34m.\u001b[0m\u001b[0m_call\u001b[0m\u001b[0;34m(\u001b[0m\u001b[0;34m*\u001b[0m\u001b[0margs\u001b[0m\u001b[0;34m,\u001b[0m \u001b[0;34m**\u001b[0m\u001b[0mkwds\u001b[0m\u001b[0;34m)\u001b[0m\u001b[0;34m\u001b[0m\u001b[0;34m\u001b[0m\u001b[0m\n\u001b[0m\u001b[1;32m    781\u001b[0m \u001b[0;34m\u001b[0m\u001b[0m\n\u001b[1;32m    782\u001b[0m       \u001b[0mnew_tracing_count\u001b[0m \u001b[0;34m=\u001b[0m \u001b[0mself\u001b[0m\u001b[0;34m.\u001b[0m\u001b[0m_get_tracing_count\u001b[0m\u001b[0;34m(\u001b[0m\u001b[0;34m)\u001b[0m\u001b[0;34m\u001b[0m\u001b[0;34m\u001b[0m\u001b[0m\n",
            "\u001b[0;32m/usr/local/lib/python3.6/dist-packages/tensorflow/python/eager/def_function.py\u001b[0m in \u001b[0;36m_call\u001b[0;34m(self, *args, **kwds)\u001b[0m\n\u001b[1;32m    805\u001b[0m       \u001b[0;31m# In this case we have created variables on the first call, so we run the\u001b[0m\u001b[0;34m\u001b[0m\u001b[0;34m\u001b[0m\u001b[0;34m\u001b[0m\u001b[0m\n\u001b[1;32m    806\u001b[0m       \u001b[0;31m# defunned version which is guaranteed to never create variables.\u001b[0m\u001b[0;34m\u001b[0m\u001b[0;34m\u001b[0m\u001b[0;34m\u001b[0m\u001b[0m\n\u001b[0;32m--> 807\u001b[0;31m       \u001b[0;32mreturn\u001b[0m \u001b[0mself\u001b[0m\u001b[0;34m.\u001b[0m\u001b[0m_stateless_fn\u001b[0m\u001b[0;34m(\u001b[0m\u001b[0;34m*\u001b[0m\u001b[0margs\u001b[0m\u001b[0;34m,\u001b[0m \u001b[0;34m**\u001b[0m\u001b[0mkwds\u001b[0m\u001b[0;34m)\u001b[0m  \u001b[0;31m# pylint: disable=not-callable\u001b[0m\u001b[0;34m\u001b[0m\u001b[0;34m\u001b[0m\u001b[0m\n\u001b[0m\u001b[1;32m    808\u001b[0m     \u001b[0;32melif\u001b[0m \u001b[0mself\u001b[0m\u001b[0;34m.\u001b[0m\u001b[0m_stateful_fn\u001b[0m \u001b[0;32mis\u001b[0m \u001b[0;32mnot\u001b[0m \u001b[0;32mNone\u001b[0m\u001b[0;34m:\u001b[0m\u001b[0;34m\u001b[0m\u001b[0;34m\u001b[0m\u001b[0m\n\u001b[1;32m    809\u001b[0m       \u001b[0;31m# Release the lock early so that multiple threads can perform the call\u001b[0m\u001b[0;34m\u001b[0m\u001b[0;34m\u001b[0m\u001b[0;34m\u001b[0m\u001b[0m\n",
            "\u001b[0;32m/usr/local/lib/python3.6/dist-packages/tensorflow/python/eager/function.py\u001b[0m in \u001b[0;36m__call__\u001b[0;34m(self, *args, **kwargs)\u001b[0m\n\u001b[1;32m   2826\u001b[0m     \u001b[0;34m\"\"\"Calls a graph function specialized to the inputs.\"\"\"\u001b[0m\u001b[0;34m\u001b[0m\u001b[0;34m\u001b[0m\u001b[0m\n\u001b[1;32m   2827\u001b[0m     \u001b[0;32mwith\u001b[0m \u001b[0mself\u001b[0m\u001b[0;34m.\u001b[0m\u001b[0m_lock\u001b[0m\u001b[0;34m:\u001b[0m\u001b[0;34m\u001b[0m\u001b[0;34m\u001b[0m\u001b[0m\n\u001b[0;32m-> 2828\u001b[0;31m       \u001b[0mgraph_function\u001b[0m\u001b[0;34m,\u001b[0m \u001b[0margs\u001b[0m\u001b[0;34m,\u001b[0m \u001b[0mkwargs\u001b[0m \u001b[0;34m=\u001b[0m \u001b[0mself\u001b[0m\u001b[0;34m.\u001b[0m\u001b[0m_maybe_define_function\u001b[0m\u001b[0;34m(\u001b[0m\u001b[0margs\u001b[0m\u001b[0;34m,\u001b[0m \u001b[0mkwargs\u001b[0m\u001b[0;34m)\u001b[0m\u001b[0;34m\u001b[0m\u001b[0;34m\u001b[0m\u001b[0m\n\u001b[0m\u001b[1;32m   2829\u001b[0m     \u001b[0;32mreturn\u001b[0m \u001b[0mgraph_function\u001b[0m\u001b[0;34m.\u001b[0m\u001b[0m_filtered_call\u001b[0m\u001b[0;34m(\u001b[0m\u001b[0margs\u001b[0m\u001b[0;34m,\u001b[0m \u001b[0mkwargs\u001b[0m\u001b[0;34m)\u001b[0m  \u001b[0;31m# pylint: disable=protected-access\u001b[0m\u001b[0;34m\u001b[0m\u001b[0;34m\u001b[0m\u001b[0m\n\u001b[1;32m   2830\u001b[0m \u001b[0;34m\u001b[0m\u001b[0m\n",
            "\u001b[0;32m/usr/local/lib/python3.6/dist-packages/tensorflow/python/eager/function.py\u001b[0m in \u001b[0;36m_maybe_define_function\u001b[0;34m(self, args, kwargs)\u001b[0m\n\u001b[1;32m   3208\u001b[0m           \u001b[0;32mand\u001b[0m \u001b[0mself\u001b[0m\u001b[0;34m.\u001b[0m\u001b[0minput_signature\u001b[0m \u001b[0;32mis\u001b[0m \u001b[0;32mNone\u001b[0m\u001b[0;34m\u001b[0m\u001b[0;34m\u001b[0m\u001b[0m\n\u001b[1;32m   3209\u001b[0m           and call_context_key in self._function_cache.missed):\n\u001b[0;32m-> 3210\u001b[0;31m         \u001b[0;32mreturn\u001b[0m \u001b[0mself\u001b[0m\u001b[0;34m.\u001b[0m\u001b[0m_define_function_with_shape_relaxation\u001b[0m\u001b[0;34m(\u001b[0m\u001b[0margs\u001b[0m\u001b[0;34m,\u001b[0m \u001b[0mkwargs\u001b[0m\u001b[0;34m)\u001b[0m\u001b[0;34m\u001b[0m\u001b[0;34m\u001b[0m\u001b[0m\n\u001b[0m\u001b[1;32m   3211\u001b[0m \u001b[0;34m\u001b[0m\u001b[0m\n\u001b[1;32m   3212\u001b[0m       \u001b[0mself\u001b[0m\u001b[0;34m.\u001b[0m\u001b[0m_function_cache\u001b[0m\u001b[0;34m.\u001b[0m\u001b[0mmissed\u001b[0m\u001b[0;34m.\u001b[0m\u001b[0madd\u001b[0m\u001b[0;34m(\u001b[0m\u001b[0mcall_context_key\u001b[0m\u001b[0;34m)\u001b[0m\u001b[0;34m\u001b[0m\u001b[0;34m\u001b[0m\u001b[0m\n",
            "\u001b[0;32m/usr/local/lib/python3.6/dist-packages/tensorflow/python/eager/function.py\u001b[0m in \u001b[0;36m_define_function_with_shape_relaxation\u001b[0;34m(self, args, kwargs)\u001b[0m\n\u001b[1;32m   3140\u001b[0m \u001b[0;34m\u001b[0m\u001b[0m\n\u001b[1;32m   3141\u001b[0m     graph_function = self._create_graph_function(\n\u001b[0;32m-> 3142\u001b[0;31m         args, kwargs, override_flat_arg_shapes=relaxed_arg_shapes)\n\u001b[0m\u001b[1;32m   3143\u001b[0m     \u001b[0mself\u001b[0m\u001b[0;34m.\u001b[0m\u001b[0m_function_cache\u001b[0m\u001b[0;34m.\u001b[0m\u001b[0marg_relaxed\u001b[0m\u001b[0;34m[\u001b[0m\u001b[0mrank_only_cache_key\u001b[0m\u001b[0;34m]\u001b[0m \u001b[0;34m=\u001b[0m \u001b[0mgraph_function\u001b[0m\u001b[0;34m\u001b[0m\u001b[0;34m\u001b[0m\u001b[0m\n\u001b[1;32m   3144\u001b[0m \u001b[0;34m\u001b[0m\u001b[0m\n",
            "\u001b[0;32m/usr/local/lib/python3.6/dist-packages/tensorflow/python/eager/function.py\u001b[0m in \u001b[0;36m_create_graph_function\u001b[0;34m(self, args, kwargs, override_flat_arg_shapes)\u001b[0m\n\u001b[1;32m   3073\u001b[0m             \u001b[0marg_names\u001b[0m\u001b[0;34m=\u001b[0m\u001b[0marg_names\u001b[0m\u001b[0;34m,\u001b[0m\u001b[0;34m\u001b[0m\u001b[0;34m\u001b[0m\u001b[0m\n\u001b[1;32m   3074\u001b[0m             \u001b[0moverride_flat_arg_shapes\u001b[0m\u001b[0;34m=\u001b[0m\u001b[0moverride_flat_arg_shapes\u001b[0m\u001b[0;34m,\u001b[0m\u001b[0;34m\u001b[0m\u001b[0;34m\u001b[0m\u001b[0m\n\u001b[0;32m-> 3075\u001b[0;31m             capture_by_value=self._capture_by_value),\n\u001b[0m\u001b[1;32m   3076\u001b[0m         \u001b[0mself\u001b[0m\u001b[0;34m.\u001b[0m\u001b[0m_function_attributes\u001b[0m\u001b[0;34m,\u001b[0m\u001b[0;34m\u001b[0m\u001b[0;34m\u001b[0m\u001b[0m\n\u001b[1;32m   3077\u001b[0m         \u001b[0mfunction_spec\u001b[0m\u001b[0;34m=\u001b[0m\u001b[0mself\u001b[0m\u001b[0;34m.\u001b[0m\u001b[0mfunction_spec\u001b[0m\u001b[0;34m,\u001b[0m\u001b[0;34m\u001b[0m\u001b[0;34m\u001b[0m\u001b[0m\n",
            "\u001b[0;32m/usr/local/lib/python3.6/dist-packages/tensorflow/python/framework/func_graph.py\u001b[0m in \u001b[0;36mfunc_graph_from_py_func\u001b[0;34m(name, python_func, args, kwargs, signature, func_graph, autograph, autograph_options, add_control_dependencies, arg_names, op_return_value, collections, capture_by_value, override_flat_arg_shapes)\u001b[0m\n\u001b[1;32m    984\u001b[0m         \u001b[0m_\u001b[0m\u001b[0;34m,\u001b[0m \u001b[0moriginal_func\u001b[0m \u001b[0;34m=\u001b[0m \u001b[0mtf_decorator\u001b[0m\u001b[0;34m.\u001b[0m\u001b[0munwrap\u001b[0m\u001b[0;34m(\u001b[0m\u001b[0mpython_func\u001b[0m\u001b[0;34m)\u001b[0m\u001b[0;34m\u001b[0m\u001b[0;34m\u001b[0m\u001b[0m\n\u001b[1;32m    985\u001b[0m \u001b[0;34m\u001b[0m\u001b[0m\n\u001b[0;32m--> 986\u001b[0;31m       \u001b[0mfunc_outputs\u001b[0m \u001b[0;34m=\u001b[0m \u001b[0mpython_func\u001b[0m\u001b[0;34m(\u001b[0m\u001b[0;34m*\u001b[0m\u001b[0mfunc_args\u001b[0m\u001b[0;34m,\u001b[0m \u001b[0;34m**\u001b[0m\u001b[0mfunc_kwargs\u001b[0m\u001b[0;34m)\u001b[0m\u001b[0;34m\u001b[0m\u001b[0;34m\u001b[0m\u001b[0m\n\u001b[0m\u001b[1;32m    987\u001b[0m \u001b[0;34m\u001b[0m\u001b[0m\n\u001b[1;32m    988\u001b[0m       \u001b[0;31m# invariant: `func_outputs` contains only Tensors, CompositeTensors,\u001b[0m\u001b[0;34m\u001b[0m\u001b[0;34m\u001b[0m\u001b[0;34m\u001b[0m\u001b[0m\n",
            "\u001b[0;32m/usr/local/lib/python3.6/dist-packages/tensorflow/python/eager/def_function.py\u001b[0m in \u001b[0;36mwrapped_fn\u001b[0;34m(*args, **kwds)\u001b[0m\n\u001b[1;32m    598\u001b[0m         \u001b[0;31m# __wrapped__ allows AutoGraph to swap in a converted function. We give\u001b[0m\u001b[0;34m\u001b[0m\u001b[0;34m\u001b[0m\u001b[0;34m\u001b[0m\u001b[0m\n\u001b[1;32m    599\u001b[0m         \u001b[0;31m# the function a weak reference to itself to avoid a reference cycle.\u001b[0m\u001b[0;34m\u001b[0m\u001b[0;34m\u001b[0m\u001b[0;34m\u001b[0m\u001b[0m\n\u001b[0;32m--> 600\u001b[0;31m         \u001b[0;32mreturn\u001b[0m \u001b[0mweak_wrapped_fn\u001b[0m\u001b[0;34m(\u001b[0m\u001b[0;34m)\u001b[0m\u001b[0;34m.\u001b[0m\u001b[0m__wrapped__\u001b[0m\u001b[0;34m(\u001b[0m\u001b[0;34m*\u001b[0m\u001b[0margs\u001b[0m\u001b[0;34m,\u001b[0m \u001b[0;34m**\u001b[0m\u001b[0mkwds\u001b[0m\u001b[0;34m)\u001b[0m\u001b[0;34m\u001b[0m\u001b[0;34m\u001b[0m\u001b[0m\n\u001b[0m\u001b[1;32m    601\u001b[0m     \u001b[0mweak_wrapped_fn\u001b[0m \u001b[0;34m=\u001b[0m \u001b[0mweakref\u001b[0m\u001b[0;34m.\u001b[0m\u001b[0mref\u001b[0m\u001b[0;34m(\u001b[0m\u001b[0mwrapped_fn\u001b[0m\u001b[0;34m)\u001b[0m\u001b[0;34m\u001b[0m\u001b[0;34m\u001b[0m\u001b[0m\n\u001b[1;32m    602\u001b[0m \u001b[0;34m\u001b[0m\u001b[0m\n",
            "\u001b[0;32m/usr/local/lib/python3.6/dist-packages/tensorflow/python/framework/func_graph.py\u001b[0m in \u001b[0;36mwrapper\u001b[0;34m(*args, **kwargs)\u001b[0m\n\u001b[1;32m    971\u001b[0m           \u001b[0;32mexcept\u001b[0m \u001b[0mException\u001b[0m \u001b[0;32mas\u001b[0m \u001b[0me\u001b[0m\u001b[0;34m:\u001b[0m  \u001b[0;31m# pylint:disable=broad-except\u001b[0m\u001b[0;34m\u001b[0m\u001b[0;34m\u001b[0m\u001b[0m\n\u001b[1;32m    972\u001b[0m             \u001b[0;32mif\u001b[0m \u001b[0mhasattr\u001b[0m\u001b[0;34m(\u001b[0m\u001b[0me\u001b[0m\u001b[0;34m,\u001b[0m \u001b[0;34m\"ag_error_metadata\"\u001b[0m\u001b[0;34m)\u001b[0m\u001b[0;34m:\u001b[0m\u001b[0;34m\u001b[0m\u001b[0;34m\u001b[0m\u001b[0m\n\u001b[0;32m--> 973\u001b[0;31m               \u001b[0;32mraise\u001b[0m \u001b[0me\u001b[0m\u001b[0;34m.\u001b[0m\u001b[0mag_error_metadata\u001b[0m\u001b[0;34m.\u001b[0m\u001b[0mto_exception\u001b[0m\u001b[0;34m(\u001b[0m\u001b[0me\u001b[0m\u001b[0;34m)\u001b[0m\u001b[0;34m\u001b[0m\u001b[0;34m\u001b[0m\u001b[0m\n\u001b[0m\u001b[1;32m    974\u001b[0m             \u001b[0;32melse\u001b[0m\u001b[0;34m:\u001b[0m\u001b[0;34m\u001b[0m\u001b[0;34m\u001b[0m\u001b[0m\n\u001b[1;32m    975\u001b[0m               \u001b[0;32mraise\u001b[0m\u001b[0;34m\u001b[0m\u001b[0;34m\u001b[0m\u001b[0m\n",
            "\u001b[0;31mValueError\u001b[0m: in user code:\n\n    /usr/local/lib/python3.6/dist-packages/tensorflow/python/keras/engine/training.py:806 train_function  *\n        return step_function(self, iterator)\n    /usr/local/lib/python3.6/dist-packages/tensorflow/python/keras/engine/training.py:796 step_function  **\n        outputs = model.distribute_strategy.run(run_step, args=(data,))\n    /usr/local/lib/python3.6/dist-packages/tensorflow/python/distribute/distribute_lib.py:1211 run\n        return self._extended.call_for_each_replica(fn, args=args, kwargs=kwargs)\n    /usr/local/lib/python3.6/dist-packages/tensorflow/python/distribute/distribute_lib.py:2585 call_for_each_replica\n        return self._call_for_each_replica(fn, args, kwargs)\n    /usr/local/lib/python3.6/dist-packages/tensorflow/python/distribute/distribute_lib.py:2945 _call_for_each_replica\n        return fn(*args, **kwargs)\n    /usr/local/lib/python3.6/dist-packages/tensorflow/python/keras/engine/training.py:789 run_step  **\n        outputs = model.train_step(data)\n    /usr/local/lib/python3.6/dist-packages/tensorflow/python/keras/engine/training.py:747 train_step\n        y_pred = self(x, training=True)\n    /usr/local/lib/python3.6/dist-packages/tensorflow/python/keras/engine/base_layer.py:976 __call__\n        self.name)\n    /usr/local/lib/python3.6/dist-packages/tensorflow/python/keras/engine/input_spec.py:216 assert_input_compatibility\n        ' but received input with shape ' + str(shape))\n\n    ValueError: Input 0 of layer sequential_10 is incompatible with the layer: expected axis -1 of input shape to have value 2 but received input with shape [None, 1]\n"
          ]
        }
      ]
    },
    {
      "cell_type": "markdown",
      "metadata": {
        "id": "SMu37fayVEZI"
      },
      "source": [
        "Oh wait... we compiled our model for a binary classification problem.\n",
        "\n",
        "No trouble, we can recreate it for a regression problem."
      ]
    },
    {
      "cell_type": "code",
      "metadata": {
        "id": "OUJtmMPZVOZ9"
      },
      "source": [
        "# Setup random seed\n",
        "tf.random.set_seed(42)\n",
        "\n",
        "# Recreate the model\n",
        "model_3 = tf.keras.Sequential([\n",
        "  tf.keras.layers.Dense(100),\n",
        "  tf.keras.layers.Dense(10),\n",
        "  tf.keras.layers.Dense(1)\n",
        "])\n",
        "\n",
        "# Change the loss and metrics of our compiled model\n",
        "model_3.compile(loss=tf.keras.losses.mae, # change the loss function to be regression-specific\n",
        "                optimizer=tf.keras.optimizers.Adam(),\n",
        "                metrics=['mae']) # change the metric to be regression-specific\n",
        "\n",
        "# Fit the recompiled model\n",
        "model_3.fit(X_reg_train, y_reg_train, epochs=100)"
      ],
      "execution_count": null,
      "outputs": []
    },
    {
      "cell_type": "markdown",
      "metadata": {
        "id": "FYHvt7fRWBUL"
      },
      "source": [
        "Okay, it seems like our model is learning something (the `mae` value trends down with each epoch), let's plot its predictions."
      ]
    },
    {
      "cell_type": "code",
      "metadata": {
        "id": "qUf5DL_fWMZA"
      },
      "source": [
        "# Make predictions with our trained model\n",
        "y_reg_preds = model_3.predict(y_reg_test)\n",
        "\n",
        "# Plot the model's predictions against our regression data\n",
        "plt.figure(figsize=(10, 7))\n",
        "plt.scatter(X_reg_train, y_reg_train, c='b', label='Training data')\n",
        "plt.scatter(X_reg_test, y_reg_test, c='g', label='Testing data')\n",
        "plt.scatter(X_reg_test, y_reg_preds.squeeze(), c='r', label='Predictions')\n",
        "plt.legend();"
      ],
      "execution_count": null,
      "outputs": []
    },
    {
      "cell_type": "markdown",
      "metadata": {
        "id": "V-LGK_jQYUcA"
      },
      "source": [
        "Okay, the predictions aren't perfect (if the predictions were perfect, the red would line up with the green), but they look better than complete guessing.\n",
        "\n",
        "So this means our model must be learning something...\n",
        "\n",
        "There must be something we're missing out on for our classification problem."
      ]
    },
    {
      "cell_type": "markdown",
      "metadata": {
        "id": "RZqShArhUh6d"
      },
      "source": [
        "# The missing piece: Non-linearity\n",
        "\n",
        "Okay, so we saw our neural network can model straight lines (with ability a little bit better than guessing).\n",
        "\n",
        "What about non-straight (non-linear) lines?\n",
        "\n",
        "If we're going to model our classification data (the red and clue circles), we're going to need some non-linear lines.\n",
        "\n",
        "> 🔨 **Practice:** Before we get to the next steps, I'd encourage you to play around with the [TensorFlow Playground](https://playground.tensorflow.org/#activation=linear&batchSize=1&dataset=circle&regDataset=reg-plane&learningRate=0.01&regularizationRate=0&noise=0&networkShape=1&seed=0.09561&showTestData=false&discretize=false&percTrainData=70&x=true&y=true&xTimesY=false&xSquared=false&ySquared=false&cosX=false&sinX=false&cosY=false&sinY=false&collectStats=false&problem=classification&initZero=false&hideText=false&regularizationRate_hide=true&discretize_hide=true&regularization_hide=true&dataset_hide=true&noise_hide=true&batchSize_hide=true) (check out what the data has in common with our own classification data) for 10-minutes. In particular the tab which says \"activation\". Once you're done, come back.\n",
        "\n",
        "Did you try out the activation options? If so, what did you find?\n",
        "\n",
        "If you didn't, don't worry, let's see it in code.\n",
        "\n",
        "We're going to replicate the neural network you can see at this link: [TensorFlow Playground](https://playground.tensorflow.org/#activation=linear&batchSize=1&dataset=circle&regDataset=reg-plane&learningRate=0.01&regularizationRate=0&noise=0&networkShape=1&seed=0.09561&showTestData=false&discretize=false&percTrainData=70&x=true&y=true&xTimesY=false&xSquared=false&ySquared=false&cosX=false&sinX=false&cosY=false&sinY=false&collectStats=false&problem=classification&initZero=false&hideText=false&regularizationRate_hide=true&discretize_hide=true&regularization_hide=true&dataset_hide=true&noise_hide=true&batchSize_hide=true).\n",
        "\n",
        "![simple neural net created with TensorFlow playground](https://raw.githubusercontent.com/mrdbourke/tensorflow-deep-learning/main/images/02-tensorflow-playground-simple-net-linear-activation.png)\n",
        "*The neural network we're going to recreate with TensorFlow code. See it live at [TensorFlow Playground](https://playground.tensorflow.org/#activation=linear&batchSize=1&dataset=circle&regDataset=reg-plane&learningRate=0.01&regularizationRate=0&noise=0&networkShape=1&seed=0.09561&showTestData=false&discretize=false&percTrainData=70&x=true&y=true&xTimesY=false&xSquared=false&ySquared=false&cosX=false&sinX=false&cosY=false&sinY=false&collectStats=false&problem=classification&initZero=false&hideText=false&regularizationRate_hide=true&discretize_hide=true&regularization_hide=true&dataset_hide=true&noise_hide=true&batchSize_hide=true).*\n",
        "\n",
        "The main change we'll add to models we've built before is the use of the `activation` keyword.\n"
      ]
    },
    {
      "cell_type": "code",
      "metadata": {
        "id": "p54Sk5WeYue9"
      },
      "source": [
        "# Set the random seed\n",
        "tf.random.set_seed(42)\n",
        "\n",
        "# Create the model\n",
        "model_4 = tf.keras.Sequential([\n",
        "  tf.keras.layers.Dense(1, activation=tf.keras.activations.linear), # 1 hidden layer with linear activation\n",
        "  tf.keras.layers.Dense(1) # output layer\n",
        "])\n",
        "\n",
        "# Compile the model\n",
        "model_4.compile(loss=tf.keras.losses.binary_crossentropy,\n",
        "                optimizer=tf.keras.optimizers.Adam(lr=0.001), # \"lr\" is short for \"learning rate\"\n",
        "                metrics=[\"accuracy\"])\n",
        "\n",
        "# Fit the model\n",
        "history = model_4.fit(X, y, epochs=100)"
      ],
      "execution_count": null,
      "outputs": []
    },
    {
      "cell_type": "markdown",
      "metadata": {
        "id": "TTNzKBvwf2uJ"
      },
      "source": [
        "Okay, our model performs a little worse than guessing.\n",
        "\n",
        "Let's remind ourselves what our data looks like."
      ]
    },
    {
      "cell_type": "code",
      "metadata": {
        "id": "RcwI7-s1f2a4"
      },
      "source": [
        "# Check out our data\n",
        "plt.scatter(X[:, 0], X[:, 1], c=y, cmap=plt.cm.RdYlBu);"
      ],
      "execution_count": null,
      "outputs": []
    },
    {
      "cell_type": "markdown",
      "metadata": {
        "id": "EmuUVtenj-tC"
      },
      "source": [
        "And let's see how our model is making predictions on it."
      ]
    },
    {
      "cell_type": "code",
      "metadata": {
        "id": "_vFgOI88itVD"
      },
      "source": [
        "# Check the deicison boundary (blue is blue class, yellow is the crossover, red is red class)\n",
        "plot_decision_boundary(model_4, X, y)"
      ],
      "execution_count": null,
      "outputs": []
    },
    {
      "cell_type": "markdown",
      "metadata": {
        "id": "XgNyVx3XkG4K"
      },
      "source": [
        "Well, it looks like we're getting a straight (linear) line prediction again. \n",
        "\n",
        "But our data is non-linear (not a straight line)...\n",
        "\n",
        "What we're going to have to do is add some non-linearity to our model.\n",
        "\n",
        "To do so, we'll use the `activation` parameter in on of our layers."
      ]
    },
    {
      "cell_type": "code",
      "metadata": {
        "id": "utJIUKmHkbyV"
      },
      "source": [
        "# Set random seed\n",
        "tf.random.set_seed(42)\n",
        "\n",
        "# Create a model with a non-linear activation\n",
        "model_5 = tf.keras.Sequential([\n",
        "  tf.keras.layers.Dense(1, activation=tf.keras.activations.relu), # can also do activation='relu'\n",
        "  tf.keras.layers.Dense(1) # output layer \n",
        "])\n",
        "\n",
        "# Compile the model\n",
        "model_5.compile(loss=tf.keras.losses.binary_crossentropy,\n",
        "              optimizer=tf.keras.optimizers.Adam(),\n",
        "              metrics=[\"accuracy\"])\n",
        "\n",
        "# Fit the model\n",
        "history = model_5.fit(X, y, epochs=100)"
      ],
      "execution_count": null,
      "outputs": []
    },
    {
      "cell_type": "markdown",
      "metadata": {
        "id": "eW3l-KicgLW8"
      },
      "source": [
        "Hmm... still not learning...\n",
        "\n",
        "What we if increased the number of neurons and layers?\n",
        "\n",
        "Say, 2 hidden layers, with [ReLU](https://www.tensorflow.org/api_docs/python/tf/keras/activations/relu), pronounced \"rel-u\", (short for [rectified linear unit](https://machinelearningmastery.com/rectified-linear-activation-function-for-deep-learning-neural-networks/)), activation on the first one, and 4 neurons each?\n",
        "\n",
        "To see this network in action, check out the [TensorFlow Playground demo](https://playground.tensorflow.org/#activation=relu&batchSize=10&dataset=circle&regDataset=reg-plane&learningRate=0.001&regularizationRate=0&noise=0&networkShape=4,4&seed=0.93799&showTestData=false&discretize=false&percTrainData=50&x=true&y=true&xTimesY=false&xSquared=false&ySquared=false&cosX=false&sinX=false&cosY=false&sinY=false&collectStats=false&problem=classification&initZero=false&hideText=false&regularization_hide=true&regularizationRate_hide=true&batchSize_hide=true&dataset_hide=true).\n",
        "\n",
        "![multi-layer neural net created with TensorFlow playground](https://raw.githubusercontent.com/mrdbourke/tensorflow-deep-learning/main/images/02-tensorflow-playground-two-layer-net-relu-activation.png)\n",
        "*The neural network we're going to recreate with TensorFlow code. See it live at [TensorFlow Playground](https://playground.tensorflow.org/#activation=relu&batchSize=10&dataset=circle&regDataset=reg-plane&learningRate=0.001&regularizationRate=0&noise=0&networkShape=4,4&seed=0.93799&showTestData=false&discretize=false&percTrainData=50&x=true&y=true&xTimesY=false&xSquared=false&ySquared=false&cosX=false&sinX=false&cosY=false&sinY=false&collectStats=false&problem=classification&initZero=false&hideText=false&regularization_hide=true&regularizationRate_hide=true&batchSize_hide=true&dataset_hide=true).*\n",
        "\n",
        "Let's try."
      ]
    },
    {
      "cell_type": "code",
      "metadata": {
        "id": "yXxtQFHwlc9w"
      },
      "source": [
        "# Set random seed\n",
        "tf.random.set_seed(42)\n",
        "\n",
        "# Create a model\n",
        "model_6 = tf.keras.Sequential([\n",
        "  tf.keras.layers.Dense(4, activation=tf.keras.activations.relu), # hidden layer 1, 4 neurons, ReLU activation\n",
        "  tf.keras.layers.Dense(4, activation=tf.keras.activations.relu), # hidden layer 2, 4 neurons, ReLU activation\n",
        "  tf.keras.layers.Dense(1) # ouput layer\n",
        "])\n",
        "\n",
        "# Compile the model\n",
        "model_6.compile(loss=tf.keras.losses.binary_crossentropy,\n",
        "                optimizer=tf.keras.optimizers.Adam(lr=0.001), # Adam's default learning rate is 0.001\n",
        "                metrics=['accuracy'])\n",
        "\n",
        "# Fit the model\n",
        "history = model_6.fit(X, y, epochs=100)"
      ],
      "execution_count": null,
      "outputs": []
    },
    {
      "cell_type": "code",
      "metadata": {
        "id": "bJqimQ0UsiO5"
      },
      "source": [
        "# Evaluate the model\n",
        "model_6.evaluate(X, y)"
      ],
      "execution_count": null,
      "outputs": []
    },
    {
      "cell_type": "markdown",
      "metadata": {
        "id": "Dh6l8egoc-Wr"
      },
      "source": [
        "We're still hitting 50% accuracy, our model is still practically as good as guessing.\n",
        "\n",
        "How do the predictions look?"
      ]
    },
    {
      "cell_type": "code",
      "metadata": {
        "id": "OtmmuzJkcclw"
      },
      "source": [
        "# Check out the predictions using 2 hidden layers\n",
        "plot_decision_boundary(model_6, X, y)"
      ],
      "execution_count": null,
      "outputs": []
    },
    {
      "cell_type": "markdown",
      "metadata": {
        "id": "q-hj-lAodLYU"
      },
      "source": [
        "What gives? \n",
        "\n",
        "It seems like our model is the same as the one in the [TensorFlow Playground](https://playground.tensorflow.org/#activation=relu&batchSize=10&dataset=circle&regDataset=reg-plane&learningRate=0.03&regularizationRate=0&noise=0&networkShape=4,4&seed=0.93799&showTestData=false&discretize=false&percTrainData=50&x=true&y=true&xTimesY=false&xSquared=false&ySquared=false&cosX=false&sinX=false&cosY=false&sinY=false&collectStats=false&problem=classification&initZero=false&hideText=false&regularization_hide=true&regularizationRate_hide=true&batchSize_hide=true) but model it's still drawing straight lines... \n",
        "\n",
        "Ideally, the yellow lines go on the inside of the red circle and the blue circle.\n",
        "\n",
        "Okay, okay, let's model this circle once and for all. \n",
        "\n",
        "One more model (I promise... actually, I'm going to have to break that promise... we'll be building plenty more models). \n",
        "\n",
        "This time we'll change the activation function on our output layer too. Remember the architecture of a classification model? For binary classification, the output layer activation is usually the [Sigmoid activation function](https://www.tensorflow.org/api_docs/python/tf/math/sigmoid)."
      ]
    },
    {
      "cell_type": "code",
      "metadata": {
        "id": "zgyJ67E3corL"
      },
      "source": [
        "# Set random seed\n",
        "tf.random.set_seed(42)\n",
        "\n",
        "# Create a model\n",
        "model_7 = tf.keras.Sequential([\n",
        "  tf.keras.layers.Dense(4, activation=tf.keras.activations.relu), # hidden layer 1, ReLU activation\n",
        "  tf.keras.layers.Dense(4, activation=tf.keras.activations.relu), # hidden layer 2, ReLU activation\n",
        "  tf.keras.layers.Dense(1, activation=tf.keras.activations.sigmoid) # ouput layer, sigmoid activation\n",
        "])\n",
        "\n",
        "# Compile the model\n",
        "model_7.compile(loss=tf.keras.losses.binary_crossentropy,\n",
        "                optimizer=tf.keras.optimizers.Adam(),\n",
        "                metrics=['accuracy'])\n",
        "\n",
        "# Fit the model\n",
        "history = model_7.fit(X, y, epochs=100, verbose=0)"
      ],
      "execution_count": null,
      "outputs": []
    },
    {
      "cell_type": "code",
      "metadata": {
        "id": "e5wpRgBVtSRK"
      },
      "source": [
        "# Evaluate our model\n",
        "model_7.evaluate(X, y)"
      ],
      "execution_count": null,
      "outputs": []
    },
    {
      "cell_type": "markdown",
      "metadata": {
        "id": "XsB0aZ42eIS2"
      },
      "source": [
        "Woah! It looks like our model is getting some incredible results, let's check them out."
      ]
    },
    {
      "cell_type": "code",
      "metadata": {
        "id": "zSoLyVMmczP4"
      },
      "source": [
        "# View the predictions of the model with relu and sigmoid activations\n",
        "plot_decision_boundary(model_7, X, y)"
      ],
      "execution_count": null,
      "outputs": []
    },
    {
      "cell_type": "markdown",
      "metadata": {
        "id": "zKR2JO4PeTie"
      },
      "source": [
        "Nice! It looks like our model is almost perfectly (apart from a few examples) separating the two circles.\n",
        "\n",
        "> 🤔 **Question:** What's wrong with the predictions we've made? Are we really evaluating our model correctly here? Hint: what data did the model learn on and what did we predict on?\n",
        "\n",
        "Before we answer that, it's important to recognize what we've just covered.\n",
        "\n",
        "> 🔑 **Note:** The combination of **linear (straight lines) and non-linear (non-straight lines) functions** is one of the key fundamentals of neural networks.\n",
        "\n",
        "Think of it like this:\n",
        "\n",
        "If I gave you an unlimited amount of straight lines and non-straight lines, what kind of patterns could you draw?\n",
        "\n",
        "That's essentially what neural networks do to find patterns in data.\n",
        "\n",
        "Now you might be thinking, \"but I haven't seen a linear function or a non-linear function before...\"\n",
        "\n",
        "Oh but you have.\n",
        "\n",
        "We've been using them the whole time.\n",
        "\n",
        "They're what power the layers in the models we just built.\n",
        "\n",
        "To get some intuition about the activation functions we've just used, let's create them and then try them on some toy data."
      ]
    },
    {
      "cell_type": "code",
      "metadata": {
        "id": "qm-b9aoemQ8A"
      },
      "source": [
        "# Create a toy tensor (similar to the data we pass into our model)\n",
        "A = tf.cast(tf.range(-10, 10), tf.float32)\n",
        "A"
      ],
      "execution_count": null,
      "outputs": []
    },
    {
      "cell_type": "markdown",
      "metadata": {
        "id": "Ti67IeWI9vnP"
      },
      "source": [
        "How does this look?\n",
        "\n"
      ]
    },
    {
      "cell_type": "code",
      "metadata": {
        "id": "mYWO_14e-Pf8"
      },
      "source": [
        "# Visualize our toy tensor\n",
        "plt.plot(A);"
      ],
      "execution_count": null,
      "outputs": []
    },
    {
      "cell_type": "markdown",
      "metadata": {
        "id": "5f9qOgTb-O7L"
      },
      "source": [
        "A straight (linear) line!\n",
        "\n",
        "Nice, now let's recreate the [sigmoid function](https://en.wikipedia.org/wiki/Sigmoid_function) and see what it does to our data. You can also find a pre-built sigmoid function at [`tf.keras.activations.sigmoid`](https://www.tensorflow.org/api_docs/python/tf/keras/activations/sigmoid)."
      ]
    },
    {
      "cell_type": "code",
      "metadata": {
        "id": "corG975yiwAP"
      },
      "source": [
        "# Sigmoid - https://www.tensorflow.org/api_docs/python/tf/keras/activations/sigmoid\n",
        "def sigmoid(x):\n",
        "  return 1 / (1 + tf.exp(-x))\n",
        "\n",
        "# Use the sigmoid function on our tensor\n",
        "sigmoid(A)"
      ],
      "execution_count": null,
      "outputs": []
    },
    {
      "cell_type": "markdown",
      "metadata": {
        "id": "3EpZb0F6-cn7"
      },
      "source": [
        "And how does it look?"
      ]
    },
    {
      "cell_type": "code",
      "metadata": {
        "id": "vz4Pr2Mk-eko"
      },
      "source": [
        "# Plot sigmoid modified tensor\n",
        "plt.plot(sigmoid(A));"
      ],
      "execution_count": null,
      "outputs": []
    },
    {
      "cell_type": "markdown",
      "metadata": {
        "id": "EGT2qtUV-k5f"
      },
      "source": [
        "A non-straight (non-linear) line!\n",
        "\n",
        "Okay, how about the [ReLU function](https://machinelearningmastery.com/rectified-linear-activation-function-for-deep-learning-neural-networks/#:~:text=The%20rectified%20linear%20activation%20function,otherwise%2C%20it%20will%20output%20zero.) (ReLU turns all negatives to 0 and positive numbers stay the same)?"
      ]
    },
    {
      "cell_type": "code",
      "metadata": {
        "id": "_PUMn--Hiwyz"
      },
      "source": [
        "# ReLU - https://www.tensorflow.org/api_docs/python/tf/keras/activations/relu\n",
        "def relu(x):\n",
        "  return tf.maximum(0, x)\n",
        "\n",
        "# Pass toy tensor through ReLU function\n",
        "relu(A)"
      ],
      "execution_count": null,
      "outputs": []
    },
    {
      "cell_type": "markdown",
      "metadata": {
        "id": "xAkmlNeZ-90e"
      },
      "source": [
        "How does the ReLU-modified tensor look?"
      ]
    },
    {
      "cell_type": "code",
      "metadata": {
        "colab": {
          "base_uri": "https://localhost:8080/",
          "height": 265
        },
        "id": "iXWCO2R4mlk7",
        "outputId": "889bdc23-6544-4b0c-f4f8-e6b9035e3123"
      },
      "source": [
        "# Plot ReLU-modified tensor\n",
        "plt.plot(relu(A));"
      ],
      "execution_count": 62,
      "outputs": [
        {
          "output_type": "display_data",
          "data": {
            "image/png": "[encoded data removed]",
            "text/plain": [
              "<Figure size 432x288 with 1 Axes>"
            ]
          },
          "metadata": {
            "tags": [],
            "needs_background": "light"
          }
        }
      ]
    },
    {
      "cell_type": "markdown",
      "metadata": {
        "id": "-NLdoxJr_Grk"
      },
      "source": [
        "Another non-straight line!\n",
        "\n",
        "Well, how about TensorFlow's [linear activation function](https://www.tensorflow.org/api_docs/python/tf/keras/activations/linear)? "
      ]
    },
    {
      "cell_type": "code",
      "metadata": {
        "id": "Cg_kBQLVoXRB",
        "colab": {
          "base_uri": "https://localhost:8080/"
        },
        "outputId": "be89596d-58c6-4c2e-f17f-1b53b563d8ed"
      },
      "source": [
        "# Linear - https://www.tensorflow.org/api_docs/python/tf/keras/activations/linear (returns input non-modified...)\n",
        "tf.keras.activations.linear(A)"
      ],
      "execution_count": 63,
      "outputs": [
        {
          "output_type": "execute_result",
          "data": {
            "text/plain": [
              "<tf.Tensor: shape=(20,), dtype=float32, numpy=\n",
              "array([-10.,  -9.,  -8.,  -7.,  -6.,  -5.,  -4.,  -3.,  -2.,  -1.,   0.,\n",
              "         1.,   2.,   3.,   4.,   5.,   6.,   7.,   8.,   9.],\n",
              "      dtype=float32)>"
            ]
          },
          "metadata": {
            "tags": []
          },
          "execution_count": 63
        }
      ]
    },
    {
      "cell_type": "markdown",
      "metadata": {
        "id": "d0NnpC_N_uWT"
      },
      "source": [
        "Hmm, it looks like our inputs are unmodified..."
      ]
    },
    {
      "cell_type": "code",
      "metadata": {
        "colab": {
          "base_uri": "https://localhost:8080/"
        },
        "id": "iwlgKpco_7V2",
        "outputId": "94b126ff-701d-4965-b110-79f4877e597f"
      },
      "source": [
        "# Does the linear activation change anything?\n",
        "A == tf.keras.activations.linear(A)"
      ],
      "execution_count": 64,
      "outputs": [
        {
          "output_type": "execute_result",
          "data": {
            "text/plain": [
              "<tf.Tensor: shape=(20,), dtype=bool, numpy=\n",
              "array([ True,  True,  True,  True,  True,  True,  True,  True,  True,\n",
              "        True,  True,  True,  True,  True,  True,  True,  True,  True,\n",
              "        True,  True])>"
            ]
          },
          "metadata": {
            "tags": []
          },
          "execution_count": 64
        }
      ]
    },
    {
      "cell_type": "markdown",
      "metadata": {
        "id": "KcCT_ipvADpR"
      },
      "source": [
        "Okay, so it makes sense now the model doesn't really learn anything when using only linear activation functions, because the linear activation function doesn't change our input data in anyway.\n",
        "\n",
        "Where as, with our non-linear functions, our data gets manipulated. A neural network uses these kind of transformations at a large scale to figure out patterns in our inputs.\n",
        "\n",
        "Now rather than dive into the guts of neural networks (for now), we're going to keep coding applying what we've learned to different problems but if you want a more in-depth look at what's going on behind the scenes, check out the Extra Curriculum section below. \n",
        "\n",
        "> 📖  **Resource:** For more on activation functions, check out the [machine learning cheatsheet page](https://ml-cheatsheet.readthedocs.io/en/latest/activation_functions.html#) on them."
      ]
    },
    {
      "cell_type": "markdown",
      "metadata": {
        "id": "BPCpA90uQBjk"
      },
      "source": [
        "# Evaluating and improving our classification model\n",
        "\n",
        "If you answered the question above, you might've picked up what we've been doing wrong.\n",
        "\n",
        "We've been evaluating our model on the same data it was trained on.\n",
        "\n",
        "A better approach would be to split our data into training, validation (optional) and test sets.\n",
        "\n",
        "Once we've done that, we'll train our model on the training set (let it find patterns in the data) and then see how well it learned the patterns by using it to predict values on the test set.\n",
        "\n",
        "Let's do it."
      ]
    },
    {
      "cell_type": "code",
      "metadata": {
        "id": "NjOviFscgl4S",
        "colab": {
          "base_uri": "https://localhost:8080/"
        },
        "outputId": "f56e988b-64d5-4eae-d1e1-5b0925d417ce"
      },
      "source": [
        "# How many examples are in the whole dataset?\n",
        "len(X)"
      ],
      "execution_count": 65,
      "outputs": [
        {
          "output_type": "execute_result",
          "data": {
            "text/plain": [
              "1000"
            ]
          },
          "metadata": {
            "tags": []
          },
          "execution_count": 65
        }
      ]
    },
    {
      "cell_type": "code",
      "metadata": {
        "id": "qNvKa8QrkSWR",
        "colab": {
          "base_uri": "https://localhost:8080/"
        },
        "outputId": "cd1d008a-2a76-4b85-d6b9-3e6fb0057c81"
      },
      "source": [
        "# Split into train, validation and test sets\n",
        "X_train, y_train = X[:800], y[:800] # 80% of the data for the training set\n",
        "X_test, y_test = X[800:], y[800:] # 20% of the data for the test set\n",
        "\n",
        "# Check the shapes of the data\n",
        "X_train.shape, X_test.shape # 800 examples in the training set, 200 examples in the test set "
      ],
      "execution_count": 66,
      "outputs": [
        {
          "output_type": "execute_result",
          "data": {
            "text/plain": [
              "((800, 2), (200, 2))"
            ]
          },
          "metadata": {
            "tags": []
          },
          "execution_count": 66
        }
      ]
    },
    {
      "cell_type": "markdown",
      "metadata": {
        "id": "YtNge18ahgqa"
      },
      "source": [
        "Great, now we've got training and test sets, let's model the training data and evaluate what our model has learned on the test set."
      ]
    },
    {
      "cell_type": "code",
      "metadata": {
        "id": "0RUOBhA1g8Kx",
        "colab": {
          "base_uri": "https://localhost:8080/"
        },
        "outputId": "27806e46-2e5b-4187-9c96-9cb304fd971d"
      },
      "source": [
        "# Set random seed\n",
        "tf.random.set_seed(42)\n",
        "\n",
        "# Create the model (same as model_7)\n",
        "model_8 = tf.keras.Sequential([\n",
        "  tf.keras.layers.Dense(4, activation=\"relu\"), # hidden layer 1, using \"relu\" for activation (same as tf.keras.activations.relu)\n",
        "  tf.keras.layers.Dense(4, activation=\"relu\"),\n",
        "  tf.keras.layers.Dense(1, activation=\"sigmoid\") # output layer, using 'sigmoid' for the output\n",
        "])\n",
        "\n",
        "# Compile the model\n",
        "model_8.compile(loss=tf.keras.losses.binary_crossentropy,\n",
        "                optimizer=tf.keras.optimizers.Adam(lr=0.01), # increase learning rate from 0.001 to 0.01 for faster learning\n",
        "                metrics=['accuracy'])\n",
        "\n",
        "# Fit the model\n",
        "history = model_8.fit(X_train, y_train, epochs=25)"
      ],
      "execution_count": 67,
      "outputs": [
        {
          "output_type": "stream",
          "text": [
            "Epoch 1/25\n",
            "25/25 [==============================] - 0s 1ms/step - loss: 0.6847 - accuracy: 0.5425\n",
            "Epoch 2/25\n",
            "25/25 [==============================] - 0s 1ms/step - loss: 0.6777 - accuracy: 0.5525\n",
            "Epoch 3/25\n",
            "25/25 [==============================] - 0s 983us/step - loss: 0.6736 - accuracy: 0.5512\n",
            "Epoch 4/25\n",
            "25/25 [==============================] - 0s 1ms/step - loss: 0.6681 - accuracy: 0.5775\n",
            "Epoch 5/25\n",
            "25/25 [==============================] - 0s 1ms/step - loss: 0.6633 - accuracy: 0.5850\n",
            "Epoch 6/25\n",
            "25/25 [==============================] - 0s 1ms/step - loss: 0.6546 - accuracy: 0.5838\n",
            "Epoch 7/25\n",
            "25/25 [==============================] - 0s 1ms/step - loss: 0.6413 - accuracy: 0.6750\n",
            "Epoch 8/25\n",
            "25/25 [==============================] - 0s 1ms/step - loss: 0.6264 - accuracy: 0.7013\n",
            "Epoch 9/25\n",
            "25/25 [==============================] - 0s 1ms/step - loss: 0.6038 - accuracy: 0.7487\n",
            "Epoch 10/25\n",
            "25/25 [==============================] - 0s 1ms/step - loss: 0.5714 - accuracy: 0.7738\n",
            "Epoch 11/25\n",
            "25/25 [==============================] - 0s 1ms/step - loss: 0.5404 - accuracy: 0.7650\n",
            "Epoch 12/25\n",
            "25/25 [==============================] - 0s 1ms/step - loss: 0.5015 - accuracy: 0.7837\n",
            "Epoch 13/25\n",
            "25/25 [==============================] - 0s 1ms/step - loss: 0.4683 - accuracy: 0.7975\n",
            "Epoch 14/25\n",
            "25/25 [==============================] - 0s 1ms/step - loss: 0.4113 - accuracy: 0.8450\n",
            "Epoch 15/25\n",
            "25/25 [==============================] - 0s 1ms/step - loss: 0.3625 - accuracy: 0.9125\n",
            "Epoch 16/25\n",
            "25/25 [==============================] - 0s 1ms/step - loss: 0.3209 - accuracy: 0.9312\n",
            "Epoch 17/25\n",
            "25/25 [==============================] - 0s 975us/step - loss: 0.2847 - accuracy: 0.9488\n",
            "Epoch 18/25\n",
            "25/25 [==============================] - 0s 951us/step - loss: 0.2597 - accuracy: 0.9525\n",
            "Epoch 19/25\n",
            "25/25 [==============================] - 0s 1ms/step - loss: 0.2375 - accuracy: 0.9563\n",
            "Epoch 20/25\n",
            "25/25 [==============================] - 0s 1ms/step - loss: 0.2135 - accuracy: 0.9663\n",
            "Epoch 21/25\n",
            "25/25 [==============================] - 0s 1ms/step - loss: 0.1938 - accuracy: 0.9775\n",
            "Epoch 22/25\n",
            "25/25 [==============================] - 0s 955us/step - loss: 0.1752 - accuracy: 0.9737\n",
            "Epoch 23/25\n",
            "25/25 [==============================] - 0s 982us/step - loss: 0.1619 - accuracy: 0.9787\n",
            "Epoch 24/25\n",
            "25/25 [==============================] - 0s 984us/step - loss: 0.1550 - accuracy: 0.9775\n",
            "Epoch 25/25\n",
            "25/25 [==============================] - 0s 1ms/step - loss: 0.1490 - accuracy: 0.9762\n"
          ],
          "name": "stdout"
        }
      ]
    },
    {
      "cell_type": "code",
      "metadata": {
        "id": "aAnKqoDxloAA",
        "colab": {
          "base_uri": "https://localhost:8080/"
        },
        "outputId": "44b22712-73c8-4ebe-8f5e-bf67ac67ed78"
      },
      "source": [
        "# Evaluate our model on the test set\n",
        "loss, accuracy = model_8.evaluate(X_test, y_test)\n",
        "print(f\"Model loss on the test set: {loss}\")\n",
        "print(f\"Model accuracy on the test set: {100*accuracy:.2f}%\")"
      ],
      "execution_count": 68,
      "outputs": [
        {
          "output_type": "stream",
          "text": [
            "7/7 [==============================] - 0s 1ms/step - loss: 0.1247 - accuracy: 1.0000\n",
            "Model loss on the test set: 0.12468849867582321\n",
            "Model accuracy on the test set: 100.00%\n"
          ],
          "name": "stdout"
        }
      ]
    },
    {
      "cell_type": "markdown",
      "metadata": {
        "id": "c1lWpsNwjD5C"
      },
      "source": [
        "100% accuracy? Nice!\n",
        "\n",
        "Now, when we started to create `model_8` we said it was going to be the same as `model_7` but you might've found that to be a little lie.\n",
        "\n",
        "That's because we changed a few things: \n",
        "* **The `activation` parameter** - We used strings (`\"relu\"` & `\"sigmoid\"`) instead of using library paths (`tf.keras.activations.relu`), in TensorFlow, they both offer the same functionality.\n",
        "* **The `learning_rate` (also `lr`) parameter** - We increased the **learning rate** parameter in the [Adam optimizer](https://www.tensorflow.org/api_docs/python/tf/keras/optimizers/Adam) to `0.01` instead of `0.001` (an increase of 10x).\n",
        "  * You can think of the learning rate as how quickly a model learns. The higher the learning rate, the faster the model's capacity to learn, however, there's such a thing as a *too high* learning rate, where a model tries to learn too fast and doesn't learn anything. We'll see a trick to find the ideal learning rate soon.\n",
        "* **The number of epochs** - We lowered the number of epochs (using the `epochs` parameter) from 100 to 25 but our model still got an incredible result on both the training and test sets.\n",
        "  * One of the reasons our model performed well in even less epochs (remember a single epoch is the model trying to learn patterns in the data by looking at it once, so 25 epochs means the model gets 25 chances) than before is because we increased the learning rate.\n",
        "\n",
        "We know our model is performing well based on the evaluation metrics but let's see how it performs visually.\n"
      ]
    },
    {
      "cell_type": "code",
      "metadata": {
        "id": "LRvAIBfAmtdc",
        "colab": {
          "base_uri": "https://localhost:8080/",
          "height": 424
        },
        "outputId": "c9b10f61-f39f-4fb8-9f6d-228f5bac8b44"
      },
      "source": [
        "# Plot the decision boundaries for the training and test sets\n",
        "plt.figure(figsize=(12, 6))\n",
        "plt.subplot(1, 2, 1)\n",
        "plt.title(\"Train\")\n",
        "plot_decision_boundary(model_8, X=X_train, y=y_train)\n",
        "plt.subplot(1, 2, 2)\n",
        "plt.title(\"Test\")\n",
        "plot_decision_boundary(model_8, X=X_test, y=y_test)\n",
        "plt.show()"
      ],
      "execution_count": 69,
      "outputs": [
        {
          "output_type": "stream",
          "text": [
            "doing binary classifcation...\n",
            "doing binary classifcation...\n"
          ],
          "name": "stdout"
        },
        {
          "output_type": "display_data",
          "data": {
            "image/png": "[encoded data removed]",
            "text/plain": [
              "<Figure size 864x432 with 2 Axes>"
            ]
          },
          "metadata": {
            "tags": [],
            "needs_background": "light"
          }
        }
      ]
    },
    {
      "cell_type": "markdown",
      "metadata": {
        "id": "42KDFaHonmGN"
      },
      "source": [
        "Check that out! How cool. With a few tweaks, our model is now predicting the blue and red circles almost perfectly."
      ]
    },
    {
      "cell_type": "markdown",
      "metadata": {
        "id": "EqaFRxFaiklC"
      },
      "source": [
        "## Plot the loss curves\n",
        "\n",
        "Looking at the plots above, we can see the outputs of our model are very good.\n",
        "\n",
        "But how did our model go whilst it was learning?\n",
        "\n",
        "As in, how did the performance change everytime the model had a chance to look at the data (once every epoch)?\n",
        "\n",
        "To figure this out, we can check the **loss curves** (also referred to as the **learning curves**).\n",
        "\n",
        "You might've seen we've been using the variable `history` when calling the `fit()` function on a model ([`fit()` returns a `History` object](https://www.tensorflow.org/api_docs/python/tf/keras/Model#fit)).\n",
        "\n",
        "This is where we'll get the information for how our model is performing as it learns.\n",
        "\n",
        "Let's see how we might use it."
      ]
    },
    {
      "cell_type": "code",
      "metadata": {
        "id": "sBHuMm9mpoOz",
        "colab": {
          "base_uri": "https://localhost:8080/",
          "height": 824
        },
        "outputId": "814cee83-1833-4d18-ee20-03c6f5f423a5"
      },
      "source": [
        "# You can access the information in the history variable using the .history attribute\n",
        "pd.DataFrame(history.history)"
      ],
      "execution_count": 70,
      "outputs": [
        {
          "output_type": "execute_result",
          "data": {
            "text/html": [
              "<div>\n",
              "<style scoped>\n",
              "    .dataframe tbody tr th:only-of-type {\n",
              "        vertical-align: middle;\n",
              "    }\n",
              "\n",
              "    .dataframe tbody tr th {\n",
              "        vertical-align: top;\n",
              "    }\n",
              "\n",
              "    .dataframe thead th {\n",
              "        text-align: right;\n",
              "    }\n",
              "</style>\n",
              "<table border=\"1\" class=\"dataframe\">\n",
              "  <thead>\n",
              "    <tr style=\"text-align: right;\">\n",
              "      <th></th>\n",
              "      <th>loss</th>\n",
              "      <th>accuracy</th>\n",
              "    </tr>\n",
              "  </thead>\n",
              "  <tbody>\n",
              "    <tr>\n",
              "      <th>0</th>\n",
              "      <td>0.684651</td>\n",
              "      <td>0.54250</td>\n",
              "    </tr>\n",
              "    <tr>\n",
              "      <th>1</th>\n",
              "      <td>0.677721</td>\n",
              "      <td>0.55250</td>\n",
              "    </tr>\n",
              "    <tr>\n",
              "      <th>2</th>\n",
              "      <td>0.673595</td>\n",
              "      <td>0.55125</td>\n",
              "    </tr>\n",
              "    <tr>\n",
              "      <th>3</th>\n",
              "      <td>0.668149</td>\n",
              "      <td>0.57750</td>\n",
              "    </tr>\n",
              "    <tr>\n",
              "      <th>4</th>\n",
              "      <td>0.663269</td>\n",
              "      <td>0.58500</td>\n",
              "    </tr>\n",
              "    <tr>\n",
              "      <th>5</th>\n",
              "      <td>0.654567</td>\n",
              "      <td>0.58375</td>\n",
              "    </tr>\n",
              "    <tr>\n",
              "      <th>6</th>\n",
              "      <td>0.641258</td>\n",
              "      <td>0.67500</td>\n",
              "    </tr>\n",
              "    <tr>\n",
              "      <th>7</th>\n",
              "      <td>0.626428</td>\n",
              "      <td>0.70125</td>\n",
              "    </tr>\n",
              "    <tr>\n",
              "      <th>8</th>\n",
              "      <td>0.603831</td>\n",
              "      <td>0.74875</td>\n",
              "    </tr>\n",
              "    <tr>\n",
              "      <th>9</th>\n",
              "      <td>0.571404</td>\n",
              "      <td>0.77375</td>\n",
              "    </tr>\n",
              "    <tr>\n",
              "      <th>10</th>\n",
              "      <td>0.540443</td>\n",
              "      <td>0.76500</td>\n",
              "    </tr>\n",
              "    <tr>\n",
              "      <th>11</th>\n",
              "      <td>0.501504</td>\n",
              "      <td>0.78375</td>\n",
              "    </tr>\n",
              "    <tr>\n",
              "      <th>12</th>\n",
              "      <td>0.468332</td>\n",
              "      <td>0.79750</td>\n",
              "    </tr>\n",
              "    <tr>\n",
              "      <th>13</th>\n",
              "      <td>0.411302</td>\n",
              "      <td>0.84500</td>\n",
              "    </tr>\n",
              "    <tr>\n",
              "      <th>14</th>\n",
              "      <td>0.362506</td>\n",
              "      <td>0.91250</td>\n",
              "    </tr>\n",
              "    <tr>\n",
              "      <th>15</th>\n",
              "      <td>0.320904</td>\n",
              "      <td>0.93125</td>\n",
              "    </tr>\n",
              "    <tr>\n",
              "      <th>16</th>\n",
              "      <td>0.284708</td>\n",
              "      <td>0.94875</td>\n",
              "    </tr>\n",
              "    <tr>\n",
              "      <th>17</th>\n",
              "      <td>0.259720</td>\n",
              "      <td>0.95250</td>\n",
              "    </tr>\n",
              "    <tr>\n",
              "      <th>18</th>\n",
              "      <td>0.237469</td>\n",
              "      <td>0.95625</td>\n",
              "    </tr>\n",
              "    <tr>\n",
              "      <th>19</th>\n",
              "      <td>0.213520</td>\n",
              "      <td>0.96625</td>\n",
              "    </tr>\n",
              "    <tr>\n",
              "      <th>20</th>\n",
              "      <td>0.193820</td>\n",
              "      <td>0.97750</td>\n",
              "    </tr>\n",
              "    <tr>\n",
              "      <th>21</th>\n",
              "      <td>0.175244</td>\n",
              "      <td>0.97375</td>\n",
              "    </tr>\n",
              "    <tr>\n",
              "      <th>22</th>\n",
              "      <td>0.161893</td>\n",
              "      <td>0.97875</td>\n",
              "    </tr>\n",
              "    <tr>\n",
              "      <th>23</th>\n",
              "      <td>0.154989</td>\n",
              "      <td>0.97750</td>\n",
              "    </tr>\n",
              "    <tr>\n",
              "      <th>24</th>\n",
              "      <td>0.148973</td>\n",
              "      <td>0.97625</td>\n",
              "    </tr>\n",
              "  </tbody>\n",
              "</table>\n",
              "</div>"
            ],
            "text/plain": [
              "        loss  accuracy\n",
              "0   0.684651   0.54250\n",
              "1   0.677721   0.55250\n",
              "2   0.673595   0.55125\n",
              "3   0.668149   0.57750\n",
              "4   0.663269   0.58500\n",
              "5   0.654567   0.58375\n",
              "6   0.641258   0.67500\n",
              "7   0.626428   0.70125\n",
              "8   0.603831   0.74875\n",
              "9   0.571404   0.77375\n",
              "10  0.540443   0.76500\n",
              "11  0.501504   0.78375\n",
              "12  0.468332   0.79750\n",
              "13  0.411302   0.84500\n",
              "14  0.362506   0.91250\n",
              "15  0.320904   0.93125\n",
              "16  0.284708   0.94875\n",
              "17  0.259720   0.95250\n",
              "18  0.237469   0.95625\n",
              "19  0.213520   0.96625\n",
              "20  0.193820   0.97750\n",
              "21  0.175244   0.97375\n",
              "22  0.161893   0.97875\n",
              "23  0.154989   0.97750\n",
              "24  0.148973   0.97625"
            ]
          },
          "metadata": {
            "tags": []
          },
          "execution_count": 70
        }
      ]
    },
    {
      "cell_type": "markdown",
      "metadata": {
        "id": "mblFGnDap48J"
      },
      "source": [
        "Inspecting the outputs, we can see the loss values going down and the accuracy going up. \n",
        "\n",
        "How's it look (visualize, visualize, visualize)?"
      ]
    },
    {
      "cell_type": "code",
      "metadata": {
        "id": "mqlwnZGJpYNF",
        "colab": {
          "base_uri": "https://localhost:8080/",
          "height": 298
        },
        "outputId": "c184376d-45ec-4564-ad7b-672f7a2cae85"
      },
      "source": [
        "# Plot the loss curves\n",
        "pd.DataFrame(history.history).plot()\n",
        "plt.title(\"Model_8 training curves\")"
      ],
      "execution_count": 71,
      "outputs": [
        {
          "output_type": "execute_result",
          "data": {
            "text/plain": [
              "Text(0.5, 1.0, 'Model_8 training curves')"
            ]
          },
          "metadata": {
            "tags": []
          },
          "execution_count": 71
        },
        {
          "output_type": "display_data",
          "data": {
            "image/png": "[encoded data removed]",
            "text/plain": [
              "<Figure size 432x288 with 1 Axes>"
            ]
          },
          "metadata": {
            "tags": [],
            "needs_background": "light"
          }
        }
      ]
    },
    {
      "cell_type": "markdown",
      "metadata": {
        "id": "mofXV4znqmNh"
      },
      "source": [
        "Beautiful. This is the ideal plot we'd be looking for when dealing with a classification problem, loss going down, accuracy going up.\n",
        "\n",
        "> 🔑 **Note:** For many problems, the loss function going down means the model is improving (the predictions it's making are getting closer to the ground truth labels)."
      ]
    },
    {
      "cell_type": "markdown",
      "metadata": {
        "id": "QyZA0CYLir5-"
      },
      "source": [
        "## Finding the best learning rate\n",
        "\n",
        "Aside from the architecture itself (the layers, number of neurons, activations, etc), the most important hyperparameter you can tune for your neural network models is the **learning rate**.\n",
        "\n",
        "In `model_8` you saw we lowered the Adam optimizer's learning rate from the default of `0.001` (default) to `0.01`.\n",
        "\n",
        "And you might be wondering why we did this.\n",
        "\n",
        "Put it this way, it was a lucky guess.\n",
        "\n",
        "I just decided to try a lower learning rate and see how the model went.\n",
        "\n",
        "Now you might be thinking, \"Seriously? You can do that?\"\n",
        "\n",
        "And the answer is yes. You can change any of the hyperparamaters of your neural networks.\n",
        "\n",
        "With practice, you'll start to see what kind of hyperparameters work and what don't.\n",
        "\n",
        "That's an important thing to understand about machine learning and deep learning in general. It's very experimental. You build a model and evaluate it, build a model and evaluate it.\n",
        "\n",
        "That being said, I want to introduce you a trick which will help you find the optimal learning rate (at least to begin training with) for your models going forward.\n",
        "\n",
        "To do so, we're going to use the following:\n",
        "* A [learning rate **callback**](https://www.tensorflow.org/api_docs/python/tf/keras/callbacks/LearningRateScheduler).\n",
        "   * You can think of a callback as an extra piece of functionality you can add to your model *while* its training.\n",
        "* Another model (we could use the same ones as above, we we're practicing building models here).\n",
        "* A modified loss curves plot.\n",
        "\n",
        "We'll go through each with code, then explain what's going on.\n",
        "\n",
        "> 🔑 **Note:** The default hyperparameters of many neural network building blocks in TensorFlow are setup in a way which usually work right out of the box (e.g. the [Adam optimizer's](https://www.tensorflow.org/api_docs/python/tf/keras/optimizers/Adam) default settings can usually get good results on many datasets). So it's a good idea to try the defaults first, then adjust as needed."
      ]
    },
    {
      "cell_type": "code",
      "metadata": {
        "id": "3g05waDawhsZ",
        "colab": {
          "base_uri": "https://localhost:8080/"
        },
        "outputId": "60984c57-4dd1-4fe0-d1a4-a088e1c08a72"
      },
      "source": [
        "# Set random seed\n",
        "tf.random.set_seed(42)\n",
        "\n",
        "# Create a model (same as model_8)\n",
        "model_9 = tf.keras.Sequential([\n",
        "  tf.keras.layers.Dense(4, activation=\"relu\"),\n",
        "  tf.keras.layers.Dense(4, activation=\"relu\"),\n",
        "  tf.keras.layers.Dense(1, activation=\"sigmoid\")\n",
        "])\n",
        "\n",
        "# Compile the model\n",
        "model_9.compile(loss=\"binary_crossentropy\", # we can use strings here too\n",
        "              optimizer=\"Adam\", # same as tf.keras.optimizers.Adam() with default settings\n",
        "              metrics=[\"accuracy\"]) \n",
        "\n",
        "# Create a learning rate scheduler callback\n",
        "lr_scheduler = tf.keras.callbacks.LearningRateScheduler(lambda epoch: 1e-4 * 10**(epoch/20)) # traverse a set of learning rate values starting from 1e-4, increasing by 10**(epoch/20) every epoch\n",
        "\n",
        "# Fit the model (passing the lr_scheduler callback)\n",
        "history = model_9.fit(X_train, \n",
        "                      y_train, \n",
        "                      epochs=100,\n",
        "                      callbacks=[lr_scheduler])"
      ],
      "execution_count": 72,
      "outputs": [
        {
          "output_type": "stream",
          "text": [
            "Epoch 1/100\n",
            "25/25 [==============================] - 0s 1ms/step - loss: 0.6945 - accuracy: 0.4988\n",
            "Epoch 2/100\n",
            "25/25 [==============================] - 0s 983us/step - loss: 0.6938 - accuracy: 0.4975\n",
            "Epoch 3/100\n",
            "25/25 [==============================] - 0s 1ms/step - loss: 0.6930 - accuracy: 0.4963\n",
            "Epoch 4/100\n",
            "25/25 [==============================] - 0s 1ms/step - loss: 0.6922 - accuracy: 0.4975\n",
            "Epoch 5/100\n",
            "25/25 [==============================] - 0s 1ms/step - loss: 0.6914 - accuracy: 0.5063\n",
            "Epoch 6/100\n",
            "25/25 [==============================] - 0s 1ms/step - loss: 0.6906 - accuracy: 0.5013\n",
            "Epoch 7/100\n",
            "25/25 [==============================] - 0s 1ms/step - loss: 0.6898 - accuracy: 0.4950\n",
            "Epoch 8/100\n",
            "25/25 [==============================] - 0s 1ms/step - loss: 0.6889 - accuracy: 0.5038\n",
            "Epoch 9/100\n",
            "25/25 [==============================] - 0s 1ms/step - loss: 0.6880 - accuracy: 0.5013\n",
            "Epoch 10/100\n",
            "25/25 [==============================] - 0s 1ms/step - loss: 0.6871 - accuracy: 0.5050\n",
            "Epoch 11/100\n",
            "25/25 [==============================] - 0s 1ms/step - loss: 0.6863 - accuracy: 0.5200\n",
            "Epoch 12/100\n",
            "25/25 [==============================] - 0s 1ms/step - loss: 0.6856 - accuracy: 0.5163\n",
            "Epoch 13/100\n",
            "25/25 [==============================] - 0s 1ms/step - loss: 0.6847 - accuracy: 0.5175\n",
            "Epoch 14/100\n",
            "25/25 [==============================] - 0s 956us/step - loss: 0.6842 - accuracy: 0.5200\n",
            "Epoch 15/100\n",
            "25/25 [==============================] - 0s 983us/step - loss: 0.6835 - accuracy: 0.5213\n",
            "Epoch 16/100\n",
            "25/25 [==============================] - 0s 1ms/step - loss: 0.6829 - accuracy: 0.5213\n",
            "Epoch 17/100\n",
            "25/25 [==============================] - 0s 1ms/step - loss: 0.6826 - accuracy: 0.5225\n",
            "Epoch 18/100\n",
            "25/25 [==============================] - 0s 1ms/step - loss: 0.6819 - accuracy: 0.5300\n",
            "Epoch 19/100\n",
            "25/25 [==============================] - 0s 1ms/step - loss: 0.6816 - accuracy: 0.5312\n",
            "Epoch 20/100\n",
            "25/25 [==============================] - 0s 1ms/step - loss: 0.6811 - accuracy: 0.5387\n",
            "Epoch 21/100\n",
            "25/25 [==============================] - 0s 1ms/step - loss: 0.6806 - accuracy: 0.5400\n",
            "Epoch 22/100\n",
            "25/25 [==============================] - 0s 1ms/step - loss: 0.6801 - accuracy: 0.5412\n",
            "Epoch 23/100\n",
            "25/25 [==============================] - 0s 1ms/step - loss: 0.6796 - accuracy: 0.5400\n",
            "Epoch 24/100\n",
            "25/25 [==============================] - 0s 974us/step - loss: 0.6790 - accuracy: 0.5425\n",
            "Epoch 25/100\n",
            "25/25 [==============================] - 0s 1ms/step - loss: 0.6784 - accuracy: 0.5450\n",
            "Epoch 26/100\n",
            "25/25 [==============================] - 0s 1ms/step - loss: 0.6778 - accuracy: 0.5387\n",
            "Epoch 27/100\n",
            "25/25 [==============================] - 0s 1ms/step - loss: 0.6770 - accuracy: 0.5425\n",
            "Epoch 28/100\n",
            "25/25 [==============================] - 0s 1ms/step - loss: 0.6760 - accuracy: 0.5537\n",
            "Epoch 29/100\n",
            "25/25 [==============================] - 0s 981us/step - loss: 0.6754 - accuracy: 0.5512\n",
            "Epoch 30/100\n",
            "25/25 [==============================] - 0s 1ms/step - loss: 0.6739 - accuracy: 0.5575\n",
            "Epoch 31/100\n",
            "25/25 [==============================] - 0s 1ms/step - loss: 0.6726 - accuracy: 0.5500\n",
            "Epoch 32/100\n",
            "25/25 [==============================] - 0s 1ms/step - loss: 0.6711 - accuracy: 0.5512\n",
            "Epoch 33/100\n",
            "25/25 [==============================] - 0s 1ms/step - loss: 0.6688 - accuracy: 0.5562\n",
            "Epoch 34/100\n",
            "25/25 [==============================] - 0s 987us/step - loss: 0.6672 - accuracy: 0.5612\n",
            "Epoch 35/100\n",
            "25/25 [==============================] - 0s 1ms/step - loss: 0.6660 - accuracy: 0.5888\n",
            "Epoch 36/100\n",
            "25/25 [==============================] - 0s 1ms/step - loss: 0.6625 - accuracy: 0.5625\n",
            "Epoch 37/100\n",
            "25/25 [==============================] - 0s 1ms/step - loss: 0.6560 - accuracy: 0.5813\n",
            "Epoch 38/100\n",
            "25/25 [==============================] - 0s 1ms/step - loss: 0.6521 - accuracy: 0.6025\n",
            "Epoch 39/100\n",
            "25/25 [==============================] - 0s 1ms/step - loss: 0.6415 - accuracy: 0.7088\n",
            "Epoch 40/100\n",
            "25/25 [==============================] - 0s 2ms/step - loss: 0.6210 - accuracy: 0.7113\n",
            "Epoch 41/100\n",
            "25/25 [==============================] - 0s 2ms/step - loss: 0.5904 - accuracy: 0.7487\n",
            "Epoch 42/100\n",
            "25/25 [==============================] - 0s 1ms/step - loss: 0.5688 - accuracy: 0.7312\n",
            "Epoch 43/100\n",
            "25/25 [==============================] - 0s 1ms/step - loss: 0.5346 - accuracy: 0.7563\n",
            "Epoch 44/100\n",
            "25/25 [==============================] - 0s 1ms/step - loss: 0.4533 - accuracy: 0.8150\n",
            "Epoch 45/100\n",
            "25/25 [==============================] - 0s 1ms/step - loss: 0.3455 - accuracy: 0.9112\n",
            "Epoch 46/100\n",
            "25/25 [==============================] - 0s 1ms/step - loss: 0.2570 - accuracy: 0.9463\n",
            "Epoch 47/100\n",
            "25/25 [==============================] - 0s 1ms/step - loss: 0.1968 - accuracy: 0.9575\n",
            "Epoch 48/100\n",
            "25/25 [==============================] - 0s 1ms/step - loss: 0.1336 - accuracy: 0.9700\n",
            "Epoch 49/100\n",
            "25/25 [==============================] - 0s 1ms/step - loss: 0.1310 - accuracy: 0.9613\n",
            "Epoch 50/100\n",
            "25/25 [==============================] - 0s 1ms/step - loss: 0.1002 - accuracy: 0.9700\n",
            "Epoch 51/100\n",
            "25/25 [==============================] - 0s 1ms/step - loss: 0.1166 - accuracy: 0.9638\n",
            "Epoch 52/100\n",
            "25/25 [==============================] - 0s 1ms/step - loss: 0.1368 - accuracy: 0.9513\n",
            "Epoch 53/100\n",
            "25/25 [==============================] - 0s 1ms/step - loss: 0.0879 - accuracy: 0.9787\n",
            "Epoch 54/100\n",
            "25/25 [==============================] - 0s 1ms/step - loss: 0.1187 - accuracy: 0.9588\n",
            "Epoch 55/100\n",
            "25/25 [==============================] - 0s 991us/step - loss: 0.0733 - accuracy: 0.9712\n",
            "Epoch 56/100\n",
            "25/25 [==============================] - 0s 977us/step - loss: 0.1132 - accuracy: 0.9550\n",
            "Epoch 57/100\n",
            "25/25 [==============================] - 0s 1ms/step - loss: 0.1057 - accuracy: 0.9613\n",
            "Epoch 58/100\n",
            "25/25 [==============================] - 0s 1ms/step - loss: 0.0664 - accuracy: 0.9750\n",
            "Epoch 59/100\n",
            "25/25 [==============================] - 0s 1ms/step - loss: 0.1901 - accuracy: 0.9275\n",
            "Epoch 60/100\n",
            "25/25 [==============================] - 0s 1ms/step - loss: 0.1895 - accuracy: 0.9312\n",
            "Epoch 61/100\n",
            "25/25 [==============================] - 0s 1ms/step - loss: 0.4128 - accuracy: 0.8625\n",
            "Epoch 62/100\n",
            "25/25 [==============================] - 0s 1ms/step - loss: 0.1716 - accuracy: 0.9725\n",
            "Epoch 63/100\n",
            "25/25 [==============================] - 0s 1ms/step - loss: 0.0575 - accuracy: 0.9950\n",
            "Epoch 64/100\n",
            "25/25 [==============================] - 0s 1ms/step - loss: 0.1009 - accuracy: 0.9638\n",
            "Epoch 65/100\n",
            "25/25 [==============================] - 0s 1ms/step - loss: 0.1292 - accuracy: 0.9488\n",
            "Epoch 66/100\n",
            "25/25 [==============================] - 0s 1ms/step - loss: 0.1552 - accuracy: 0.9438\n",
            "Epoch 67/100\n",
            "25/25 [==============================] - 0s 1ms/step - loss: 0.2122 - accuracy: 0.9325\n",
            "Epoch 68/100\n",
            "25/25 [==============================] - 0s 1ms/step - loss: 0.2178 - accuracy: 0.9100\n",
            "Epoch 69/100\n",
            "25/25 [==============================] - 0s 1ms/step - loss: 0.0810 - accuracy: 0.9762\n",
            "Epoch 70/100\n",
            "25/25 [==============================] - 0s 1ms/step - loss: 0.1457 - accuracy: 0.9388\n",
            "Epoch 71/100\n",
            "25/25 [==============================] - 0s 1ms/step - loss: 0.3945 - accuracy: 0.8475\n",
            "Epoch 72/100\n",
            "25/25 [==============================] - 0s 978us/step - loss: 0.1845 - accuracy: 0.9212\n",
            "Epoch 73/100\n",
            "25/25 [==============================] - 0s 1ms/step - loss: 0.1096 - accuracy: 0.9600\n",
            "Epoch 74/100\n",
            "25/25 [==============================] - 0s 1ms/step - loss: 0.1100 - accuracy: 0.9588\n",
            "Epoch 75/100\n",
            "25/25 [==============================] - 0s 1ms/step - loss: 0.1986 - accuracy: 0.9362\n",
            "Epoch 76/100\n",
            "25/25 [==============================] - 0s 1ms/step - loss: 0.0812 - accuracy: 0.9712\n",
            "Epoch 77/100\n",
            "25/25 [==============================] - 0s 1ms/step - loss: 0.2043 - accuracy: 0.9187\n",
            "Epoch 78/100\n",
            "25/25 [==============================] - 0s 1ms/step - loss: 0.1318 - accuracy: 0.9538\n",
            "Epoch 79/100\n",
            "25/25 [==============================] - 0s 1ms/step - loss: 0.6341 - accuracy: 0.8000\n",
            "Epoch 80/100\n",
            "25/25 [==============================] - 0s 1ms/step - loss: 0.7168 - accuracy: 0.6087\n",
            "Epoch 81/100\n",
            "25/25 [==============================] - 0s 1ms/step - loss: 0.7397 - accuracy: 0.5238\n",
            "Epoch 82/100\n",
            "25/25 [==============================] - 0s 1ms/step - loss: 0.7165 - accuracy: 0.5113\n",
            "Epoch 83/100\n",
            "25/25 [==============================] - 0s 1ms/step - loss: 0.7297 - accuracy: 0.4812\n",
            "Epoch 84/100\n",
            "25/25 [==============================] - 0s 987us/step - loss: 0.7066 - accuracy: 0.5038\n",
            "Epoch 85/100\n",
            "25/25 [==============================] - 0s 1ms/step - loss: 0.7282 - accuracy: 0.5038\n",
            "Epoch 86/100\n",
            "25/25 [==============================] - 0s 1ms/step - loss: 0.7687 - accuracy: 0.5038\n",
            "Epoch 87/100\n",
            "25/25 [==============================] - 0s 1ms/step - loss: 0.7680 - accuracy: 0.5063\n",
            "Epoch 88/100\n",
            "25/25 [==============================] - 0s 1ms/step - loss: 0.7586 - accuracy: 0.5163\n",
            "Epoch 89/100\n",
            "25/25 [==============================] - 0s 1ms/step - loss: 0.7630 - accuracy: 0.5038\n",
            "Epoch 90/100\n",
            "25/25 [==============================] - 0s 1ms/step - loss: 0.7854 - accuracy: 0.4938\n",
            "Epoch 91/100\n",
            "25/25 [==============================] - 0s 1ms/step - loss: 0.8033 - accuracy: 0.5138\n",
            "Epoch 92/100\n",
            "25/25 [==============================] - 0s 1ms/step - loss: 0.7382 - accuracy: 0.4963\n",
            "Epoch 93/100\n",
            "25/25 [==============================] - 0s 1ms/step - loss: 0.7402 - accuracy: 0.4963\n",
            "Epoch 94/100\n",
            "25/25 [==============================] - 0s 1ms/step - loss: 0.7582 - accuracy: 0.4938\n",
            "Epoch 95/100\n",
            "25/25 [==============================] - 0s 1ms/step - loss: 0.8194 - accuracy: 0.4863\n",
            "Epoch 96/100\n",
            "25/25 [==============================] - 0s 1ms/step - loss: 0.7818 - accuracy: 0.4613\n",
            "Epoch 97/100\n",
            "25/25 [==============================] - 0s 1ms/step - loss: 0.8059 - accuracy: 0.5013\n",
            "Epoch 98/100\n",
            "25/25 [==============================] - 0s 1ms/step - loss: 0.9631 - accuracy: 0.4963\n",
            "Epoch 99/100\n",
            "25/25 [==============================] - 0s 1ms/step - loss: 0.9587 - accuracy: 0.4913\n",
            "Epoch 100/100\n",
            "25/25 [==============================] - 0s 1ms/step - loss: 0.8582 - accuracy: 0.4613\n"
          ],
          "name": "stdout"
        }
      ]
    },
    {
      "cell_type": "markdown",
      "metadata": {
        "id": "KKln6dnbNPVR"
      },
      "source": [
        "Now our model has finished training, let's have a look at the training history."
      ]
    },
    {
      "cell_type": "code",
      "metadata": {
        "id": "wCd12upnyO4y",
        "colab": {
          "base_uri": "https://localhost:8080/",
          "height": 442
        },
        "outputId": "e770a1e5-d688-41c2-b71c-fd1a80c29689"
      },
      "source": [
        "# Checkout the history\n",
        "pd.DataFrame(history.history).plot(figsize=(10,7), xlabel=\"epochs\");"
      ],
      "execution_count": 73,
      "outputs": [
        {
          "output_type": "display_data",
          "data": {
            "image/png": "[encoded data removed]",
            "text/plain": [
              "<Figure size 720x504 with 1 Axes>"
            ]
          },
          "metadata": {
            "tags": [],
            "needs_background": "light"
          }
        }
      ]
    },
    {
      "cell_type": "markdown",
      "metadata": {
        "id": "9OkUFgZSx6hP"
      },
      "source": [
        "As you you see the learning rate exponentially increases as the number of epochs increases.\n",
        "\n",
        "And you can see the model's accuracy goes up (and loss goes down) at a specific point when the learning rate slowly increases.\n",
        "\n",
        "To figure out where this infliction point is, we can plot the loss versus the log-scale learning rate."
      ]
    },
    {
      "cell_type": "code",
      "metadata": {
        "id": "8fnEklbYyGBG",
        "colab": {
          "base_uri": "https://localhost:8080/",
          "height": 462
        },
        "outputId": "1fc10b3a-656a-4d8a-91e0-01af273d2bb5"
      },
      "source": [
        "# Plot the learning rate versus the loss\n",
        "lrs = 1e-4 * (10 ** (np.arange(100)/20))\n",
        "plt.figure(figsize=(10, 7))\n",
        "plt.semilogx(lrs, history.history[\"loss\"]) # we want the x-axis (learning rate) to be log scale\n",
        "plt.xlabel(\"Learning Rate\")\n",
        "plt.ylabel(\"Loss\")\n",
        "plt.title(\"Learning rate vs. loss\");"
      ],
      "execution_count": 74,
      "outputs": [
        {
          "output_type": "display_data",
          "data": {
            "image/png": "[encoded data removed]",
            "text/plain": [
              "<Figure size 720x504 with 1 Axes>"
            ]
          },
          "metadata": {
            "tags": [],
            "needs_background": "light"
          }
        }
      ]
    },
    {
      "cell_type": "markdown",
      "metadata": {
        "id": "w0kMFKLvOF8s"
      },
      "source": [
        "To figure out the ideal value of the learning rate (at least the ideal value to *begin* training our model), the rule of thumb is to take the learning rate value where the loss is still decreasing but not quite flattened out (usually about 10x smaller than the bottom of the curve).\n",
        "\n",
        "In this case, our ideal learning rate ends up between `0.01` ($10^{-2}$) and `0.02`.\n",
        "\n",
        "![finding the ideal learning rate by plotting learning rate vs. loss](https://raw.githubusercontent.com/mrdbourke/tensorflow-deep-learning/main/images/02-learning-rate-vs-loss.png)\n",
        "\n",
        "*The ideal learning rate at the start of model training is somewhere just before the loss curve bottoms out (a value where the loss is still decreasing).*"
      ]
    },
    {
      "cell_type": "code",
      "metadata": {
        "id": "vJo-nDw4zFfx",
        "colab": {
          "base_uri": "https://localhost:8080/"
        },
        "outputId": "77c0e3db-2a02-4174-c80d-44ba2d06ce79"
      },
      "source": [
        "# Example of other typical learning rate values\n",
        "10**0, 10**-1, 10**-2, 10**-3, 1e-4"
      ],
      "execution_count": 75,
      "outputs": [
        {
          "output_type": "execute_result",
          "data": {
            "text/plain": [
              "(1, 0.1, 0.01, 0.001, 0.0001)"
            ]
          },
          "metadata": {
            "tags": []
          },
          "execution_count": 75
        }
      ]
    },
    {
      "cell_type": "markdown",
      "metadata": {
        "id": "iALar-WvPlEc"
      },
      "source": [
        "Now we've estimated the ideal learning rate (we'll use `0.02`) for our model, let's refit it."
      ]
    },
    {
      "cell_type": "code",
      "metadata": {
        "id": "EJ9wbXblzPPL",
        "colab": {
          "base_uri": "https://localhost:8080/"
        },
        "outputId": "f0972975-9346-4a56-db8f-e629a3a83240"
      },
      "source": [
        "# Set the random seed\n",
        "tf.random.set_seed(42)\n",
        "\n",
        "# Create the model\n",
        "model_10 = tf.keras.Sequential([\n",
        "  tf.keras.layers.Dense(4, activation=\"relu\"),\n",
        "  tf.keras.layers.Dense(4, activation=\"relu\"),\n",
        "  tf.keras.layers.Dense(1, activation=\"sigmoid\")\n",
        "])\n",
        "\n",
        "# Compile the model with the ideal learning rate\n",
        "model_10.compile(loss=\"binary_crossentropy\",\n",
        "                optimizer=tf.keras.optimizers.Adam(lr=0.02), # to adjust the learning rate, you need to use tf.keras.optimizers.Adam (not \"adam\")\n",
        "                metrics=[\"accuracy\"])\n",
        "\n",
        "# Fit the model for 20 epochs (5 less than before)\n",
        "history = model_10.fit(X_train, y_train, epochs=20)"
      ],
      "execution_count": 76,
      "outputs": [
        {
          "output_type": "stream",
          "text": [
            "Epoch 1/20\n",
            "25/25 [==============================] - 0s 1ms/step - loss: 0.6837 - accuracy: 0.5600\n",
            "Epoch 2/20\n",
            "25/25 [==============================] - 0s 995us/step - loss: 0.6744 - accuracy: 0.5750\n",
            "Epoch 3/20\n",
            "25/25 [==============================] - 0s 1ms/step - loss: 0.6626 - accuracy: 0.5875\n",
            "Epoch 4/20\n",
            "25/25 [==============================] - 0s 938us/step - loss: 0.6332 - accuracy: 0.6388\n",
            "Epoch 5/20\n",
            "25/25 [==============================] - 0s 973us/step - loss: 0.5830 - accuracy: 0.7563\n",
            "Epoch 6/20\n",
            "25/25 [==============================] - 0s 1ms/step - loss: 0.4907 - accuracy: 0.8313\n",
            "Epoch 7/20\n",
            "25/25 [==============================] - 0s 1ms/step - loss: 0.4251 - accuracy: 0.8450\n",
            "Epoch 8/20\n",
            "25/25 [==============================] - 0s 1ms/step - loss: 0.3596 - accuracy: 0.8875\n",
            "Epoch 9/20\n",
            "25/25 [==============================] - 0s 1ms/step - loss: 0.3152 - accuracy: 0.9100\n",
            "Epoch 10/20\n",
            "25/25 [==============================] - 0s 1ms/step - loss: 0.2512 - accuracy: 0.9500\n",
            "Epoch 11/20\n",
            "25/25 [==============================] - 0s 1ms/step - loss: 0.2152 - accuracy: 0.9500\n",
            "Epoch 12/20\n",
            "25/25 [==============================] - 0s 1ms/step - loss: 0.1721 - accuracy: 0.9750\n",
            "Epoch 13/20\n",
            "25/25 [==============================] - 0s 988us/step - loss: 0.1443 - accuracy: 0.9837\n",
            "Epoch 14/20\n",
            "25/25 [==============================] - 0s 1ms/step - loss: 0.1232 - accuracy: 0.9862\n",
            "Epoch 15/20\n",
            "25/25 [==============================] - 0s 1ms/step - loss: 0.1085 - accuracy: 0.9850\n",
            "Epoch 16/20\n",
            "25/25 [==============================] - 0s 1ms/step - loss: 0.0940 - accuracy: 0.9937\n",
            "Epoch 17/20\n",
            "25/25 [==============================] - 0s 1ms/step - loss: 0.0827 - accuracy: 0.9962\n",
            "Epoch 18/20\n",
            "25/25 [==============================] - 0s 958us/step - loss: 0.0798 - accuracy: 0.9937\n",
            "Epoch 19/20\n",
            "25/25 [==============================] - 0s 959us/step - loss: 0.0845 - accuracy: 0.9875\n",
            "Epoch 20/20\n",
            "25/25 [==============================] - 0s 1ms/step - loss: 0.0790 - accuracy: 0.9887\n"
          ],
          "name": "stdout"
        }
      ]
    },
    {
      "cell_type": "markdown",
      "metadata": {
        "id": "qb9xwISc0pnF"
      },
      "source": [
        "Nice! With a little higher learning rate (`0.02` instead of `0.01`) we reach a higher accuracy than `model_8` in less epochs (`20` instead of `25`).\n",
        "\n",
        "> 🛠 **Practice:** Now you've seen an example of what can happen when you change the learning rate, try changing the learning rate value in the [TensorFlow Playground](https://playground.tensorflow.org/#activation=tanh&batchSize=10&dataset=circle&regDataset=reg-plane&learningRate=0.03&regularizationRate=0&noise=0&networkShape=4,2&seed=0.03154&showTestData=false&discretize=false&percTrainData=50&x=true&y=true&xTimesY=false&xSquared=false&ySquared=false&cosX=false&sinX=false&cosY=false&sinY=false&collectStats=false&problem=classification&initZero=false&hideText=false&regularization_hide=true&regularizationRate_hide=true&problem_hide=true) and see what happens. What happens if you increase it? What happens if you decrease it?\n",
        "\n"
      ]
    },
    {
      "cell_type": "code",
      "metadata": {
        "colab": {
          "base_uri": "https://localhost:8080/"
        },
        "id": "3ZCYAqitKUk2",
        "outputId": "a3809929-2d00-4912-96e1-8e204b6db113"
      },
      "source": [
        "# Evaluate model on the test dataset\n",
        "model_10.evaluate(X_test, y_test)"
      ],
      "execution_count": 77,
      "outputs": [
        {
          "output_type": "stream",
          "text": [
            "7/7 [==============================] - 0s 1ms/step - loss: 0.0574 - accuracy: 0.9900\n"
          ],
          "name": "stdout"
        },
        {
          "output_type": "execute_result",
          "data": {
            "text/plain": [
              "[0.05740181356668472, 0.9900000095367432]"
            ]
          },
          "metadata": {
            "tags": []
          },
          "execution_count": 77
        }
      ]
    },
    {
      "cell_type": "markdown",
      "metadata": {
        "id": "YWqQShzZKT7R"
      },
      "source": [
        "\n",
        "\n",
        "Let's see how the predictions look."
      ]
    },
    {
      "cell_type": "code",
      "metadata": {
        "id": "rJbzQ5kQ2HSh",
        "colab": {
          "base_uri": "https://localhost:8080/",
          "height": 424
        },
        "outputId": "a58f3995-507e-4fc4-fb83-cbd3c9763f7c"
      },
      "source": [
        "# Plot the decision boundaries for the training and test sets\n",
        "plt.figure(figsize=(12, 6))\n",
        "plt.subplot(1, 2, 1)\n",
        "plt.title(\"Train\")\n",
        "plot_decision_boundary(model_10, X=X_train, y=y_train)\n",
        "plt.subplot(1, 2, 2)\n",
        "plt.title(\"Test\")\n",
        "plot_decision_boundary(model_10, X=X_test, y=y_test)\n",
        "plt.show()"
      ],
      "execution_count": 78,
      "outputs": [
        {
          "output_type": "stream",
          "text": [
            "doing binary classifcation...\n",
            "doing binary classifcation...\n"
          ],
          "name": "stdout"
        },
        {
          "output_type": "display_data",
          "data": {
            "image/png": "[encoded data removed]",
            "text/plain": [
              "<Figure size 864x432 with 2 Axes>"
            ]
          },
          "metadata": {
            "tags": [],
            "needs_background": "light"
          }
        }
      ]
    },
    {
      "cell_type": "markdown",
      "metadata": {
        "id": "ppVLzAao2Hkl"
      },
      "source": [
        "And as we can see, almost perfect again.\n",
        "\n",
        "These are the kind of experiments you'll be running often when building your own models.\n",
        "\n",
        "Start with default settings and see how they perform on your data.\n",
        "\n",
        "And if they don't perform as well as you'd like, improve them.\n",
        "\n",
        "Let's look at a few more ways to evaluate our classification models."
      ]
    },
    {
      "cell_type": "markdown",
      "metadata": {
        "id": "0bNdy1EbftYp"
      },
      "source": [
        "## More classification evaluation methods\n",
        "\n",
        "Alongside the visualizations we've been making, there are a number of different evaluation metrics we can use to evaluate our classification models.\n",
        "\n",
        "| **Metric name/Evaluation method** | **Defintion** | **Code** |\n",
        "| --- | --- | --- |\n",
        "| Accuracy | Out of 100 predictions, how many does your model get correct? E.g. 95% accuracy means it gets 95/100 predictions correct. | [`sklearn.metrics.accuracy_score()`](https://scikit-learn.org/stable/modules/generated/sklearn.metrics.accuracy_score.html) or [`tf.keras.metrics.Accuracy()`](tensorflow.org/api_docs/python/tf/keras/metrics/Accuracy) |\n",
        "| Precision | Proportion of true positives over total number of samples. Higher precision leads to less false positives (model predicts 1 when it should've been 0). | [`sklearn.metrics.precision_score()`](https://scikit-learn.org/stable/modules/generated/sklearn.metrics.precision_score.html) or [`tf.keras.metrics.Precision()`](tensorflow.org/api_docs/python/tf/keras/metrics/Precision) |\n",
        "| Recall | Proportion of true positives over total number of true positives and false negatives (model predicts 0 when it should've been 1). Higher recall leads to less false negatives. | [`sklearn.metrics.recall_score()`](https://scikit-learn.org/stable/modules/generated/sklearn.metrics.recall_score.html) or [`tf.keras.metrics.Recall()`](tensorflow.org/api_docs/python/tf/keras/metrics/Recall) |\n",
        "| F1-score | Combines precision and recall into one metric. 1 is best, 0 is worst. | [`sklearn.metrics.f1_score()`](https://scikit-learn.org/stable/modules/generated/sklearn.metrics.f1_score.html) |\n",
        "| [Confusion matrix](https://www.dataschool.io/simple-guide-to-confusion-matrix-terminology/)  | Compares the predicted values with the true values in a tabular way, if 100% correct, all values in the matrix will be top left to bottom right (diagnol line). | Custom function or [`sklearn.metrics.plot_confusion_matrix()`](https://scikit-learn.org/stable/modules/generated/sklearn.metrics.plot_confusion_matrix.html) |\n",
        "| Classification report | Collection of some of the main classification metrics such as precision, recall and f1-score. | [`sklearn.metrics.classification_report()`](https://scikit-learn.org/stable/modules/generated/sklearn.metrics.classification_report.html) |\n",
        "\n",
        "> 🔑 **Note:** Every classification problem will require different kinds of evaluation methods. But you should be familiar with at least the ones above.\n",
        "\n",
        "Let's start with accuracy.\n",
        "\n",
        "Because we passed `[\"accuracy\"]` to the `metrics` parameter when we compiled our model, calling `evaluate()` on it will return the loss as well as accuracy."
      ]
    },
    {
      "cell_type": "code",
      "metadata": {
        "id": "LUvEwzqp4zVW",
        "colab": {
          "base_uri": "https://localhost:8080/"
        },
        "outputId": "62554477-ea19-4476-d8fb-f821101a0474"
      },
      "source": [
        "# Check the accuracy of our model\n",
        "loss, accuracy = model_10.evaluate(X_test, y_test)\n",
        "print(f\"Model loss on test set: {loss}\")\n",
        "print(f\"Model accuracy on test set: {(accuracy*100):.2f}%\")"
      ],
      "execution_count": 79,
      "outputs": [
        {
          "output_type": "stream",
          "text": [
            "7/7 [==============================] - 0s 1ms/step - loss: 0.0574 - accuracy: 0.9900\n",
            "Model loss on test set: 0.05740181356668472\n",
            "Model accuracy on test set: 99.00%\n"
          ],
          "name": "stdout"
        }
      ]
    },
    {
      "cell_type": "markdown",
      "metadata": {
        "id": "a5fXPTGi5aRX"
      },
      "source": [
        "How about a confusion matrix?\n",
        "\n",
        "![anatomy of a confusion matrix](https://raw.githubusercontent.com/mrdbourke/tensorflow-deep-learning/main/images/02-anatomy-of-a-confusion-matrix.png)\n",
        "*Anatomy of a confusion matrix (what we're going to be creating). Correct predictions appear down the diagonal (from top left to bottom right).*\n",
        "\n",
        "We can make a confusion matrix using [Scikit-Learn's `confusion_matrix`](https://scikit-learn.org/stable/modules/generated/sklearn.metrics.confusion_matrix.html) method."
      ]
    },
    {
      "cell_type": "code",
      "metadata": {
        "id": "g_Zee4lI5vi2",
        "colab": {
          "base_uri": "https://localhost:8080/",
          "height": 358
        },
        "outputId": "33f2025a-3e9e-4884-d843-14d2a5af3a07"
      },
      "source": [
        "# Create a confusion matrix\n",
        "from sklearn.metrics import confusion_matrix\n",
        "\n",
        "# Make predictions\n",
        "y_preds = model_10.predict(X_test)\n",
        "\n",
        "# Create confusion matrix\n",
        "confusion_matrix(y_test, y_preds)"
      ],
      "execution_count": 80,
      "outputs": [
        {
          "output_type": "error",
          "ename": "ValueError",
          "evalue": "ignored",
          "traceback": [
            "\u001b[0;31m---------------------------------------------------------------------------\u001b[0m",
            "\u001b[0;31mValueError\u001b[0m                                Traceback (most recent call last)",
            "\u001b[0;32m<ipython-input-80-f9843efd97f5>\u001b[0m in \u001b[0;36m<module>\u001b[0;34m()\u001b[0m\n\u001b[1;32m      6\u001b[0m \u001b[0;34m\u001b[0m\u001b[0m\n\u001b[1;32m      7\u001b[0m \u001b[0;31m# Create confusion matrix\u001b[0m\u001b[0;34m\u001b[0m\u001b[0;34m\u001b[0m\u001b[0;34m\u001b[0m\u001b[0m\n\u001b[0;32m----> 8\u001b[0;31m \u001b[0mconfusion_matrix\u001b[0m\u001b[0;34m(\u001b[0m\u001b[0my_test\u001b[0m\u001b[0;34m,\u001b[0m \u001b[0my_preds\u001b[0m\u001b[0;34m)\u001b[0m\u001b[0;34m\u001b[0m\u001b[0;34m\u001b[0m\u001b[0m\n\u001b[0m",
            "\u001b[0;32m/usr/local/lib/python3.6/dist-packages/sklearn/metrics/_classification.py\u001b[0m in \u001b[0;36mconfusion_matrix\u001b[0;34m(y_true, y_pred, labels, sample_weight, normalize)\u001b[0m\n\u001b[1;32m    266\u001b[0m \u001b[0;34m\u001b[0m\u001b[0m\n\u001b[1;32m    267\u001b[0m     \"\"\"\n\u001b[0;32m--> 268\u001b[0;31m     \u001b[0my_type\u001b[0m\u001b[0;34m,\u001b[0m \u001b[0my_true\u001b[0m\u001b[0;34m,\u001b[0m \u001b[0my_pred\u001b[0m \u001b[0;34m=\u001b[0m \u001b[0m_check_targets\u001b[0m\u001b[0;34m(\u001b[0m\u001b[0my_true\u001b[0m\u001b[0;34m,\u001b[0m \u001b[0my_pred\u001b[0m\u001b[0;34m)\u001b[0m\u001b[0;34m\u001b[0m\u001b[0;34m\u001b[0m\u001b[0m\n\u001b[0m\u001b[1;32m    269\u001b[0m     \u001b[0;32mif\u001b[0m \u001b[0my_type\u001b[0m \u001b[0;32mnot\u001b[0m \u001b[0;32min\u001b[0m \u001b[0;34m(\u001b[0m\u001b[0;34m\"binary\"\u001b[0m\u001b[0;34m,\u001b[0m \u001b[0;34m\"multiclass\"\u001b[0m\u001b[0;34m)\u001b[0m\u001b[0;34m:\u001b[0m\u001b[0;34m\u001b[0m\u001b[0;34m\u001b[0m\u001b[0m\n\u001b[1;32m    270\u001b[0m         \u001b[0;32mraise\u001b[0m \u001b[0mValueError\u001b[0m\u001b[0;34m(\u001b[0m\u001b[0;34m\"%s is not supported\"\u001b[0m \u001b[0;34m%\u001b[0m \u001b[0my_type\u001b[0m\u001b[0;34m)\u001b[0m\u001b[0;34m\u001b[0m\u001b[0;34m\u001b[0m\u001b[0m\n",
            "\u001b[0;32m/usr/local/lib/python3.6/dist-packages/sklearn/metrics/_classification.py\u001b[0m in \u001b[0;36m_check_targets\u001b[0;34m(y_true, y_pred)\u001b[0m\n\u001b[1;32m     88\u001b[0m     \u001b[0;32mif\u001b[0m \u001b[0mlen\u001b[0m\u001b[0;34m(\u001b[0m\u001b[0my_type\u001b[0m\u001b[0;34m)\u001b[0m \u001b[0;34m>\u001b[0m \u001b[0;36m1\u001b[0m\u001b[0;34m:\u001b[0m\u001b[0;34m\u001b[0m\u001b[0;34m\u001b[0m\u001b[0m\n\u001b[1;32m     89\u001b[0m         raise ValueError(\"Classification metrics can't handle a mix of {0} \"\n\u001b[0;32m---> 90\u001b[0;31m                          \"and {1} targets\".format(type_true, type_pred))\n\u001b[0m\u001b[1;32m     91\u001b[0m \u001b[0;34m\u001b[0m\u001b[0m\n\u001b[1;32m     92\u001b[0m     \u001b[0;31m# We can't have more than one value on y_type => The set is no more needed\u001b[0m\u001b[0;34m\u001b[0m\u001b[0;34m\u001b[0m\u001b[0;34m\u001b[0m\u001b[0m\n",
            "\u001b[0;31mValueError\u001b[0m: Classification metrics can't handle a mix of binary and continuous targets"
          ]
        }
      ]
    },
    {
      "cell_type": "markdown",
      "metadata": {
        "id": "4GLOPxx9fx__"
      },
      "source": [
        "Ahh, it seems our predictions aren't in the format they need to be.\n",
        "\n",
        "Let's check them out."
      ]
    },
    {
      "cell_type": "code",
      "metadata": {
        "id": "aLBs249Gfu-W",
        "colab": {
          "base_uri": "https://localhost:8080/"
        },
        "outputId": "8d022efa-9e04-48ab-834d-dd41bb1af288"
      },
      "source": [
        "# View the first 10 predictions\n",
        "y_preds[:10]"
      ],
      "execution_count": 81,
      "outputs": [
        {
          "output_type": "execute_result",
          "data": {
            "text/plain": [
              "array([[9.8526537e-01],\n",
              "       [9.9923790e-01],\n",
              "       [9.9032342e-01],\n",
              "       [9.9706948e-01],\n",
              "       [3.9622882e-01],\n",
              "       [1.8126875e-02],\n",
              "       [9.6829069e-01],\n",
              "       [1.9746691e-02],\n",
              "       [9.9967170e-01],\n",
              "       [5.6460500e-04]], dtype=float32)"
            ]
          },
          "metadata": {
            "tags": []
          },
          "execution_count": 81
        }
      ]
    },
    {
      "cell_type": "markdown",
      "metadata": {
        "id": "zacw9BNegVkY"
      },
      "source": [
        "What about our test labels?"
      ]
    },
    {
      "cell_type": "code",
      "metadata": {
        "id": "3BH8XHAegYMd",
        "colab": {
          "base_uri": "https://localhost:8080/"
        },
        "outputId": "857f1dc0-af77-4c5b-8318-c75384757329"
      },
      "source": [
        "# View the first 10 test labels\n",
        "y_test[:10]"
      ],
      "execution_count": 82,
      "outputs": [
        {
          "output_type": "execute_result",
          "data": {
            "text/plain": [
              "array([1, 1, 1, 1, 0, 0, 1, 0, 1, 0])"
            ]
          },
          "metadata": {
            "tags": []
          },
          "execution_count": 82
        }
      ]
    },
    {
      "cell_type": "markdown",
      "metadata": {
        "id": "4vd8EA95ggks"
      },
      "source": [
        "It looks like we need to get our predictions into the binary format (0 or 1).\n",
        "\n",
        "But you might be wondering, what format are they currently in?\n",
        "\n",
        "In their current format (`9.8526537e-01`), they're in a form called **prediction probabilities**.\n",
        "\n",
        "You'll see this often with the outputs of neural networks. Often they won't be exact values but more a probability of how *likely* they are to be one value or another.\n",
        "\n",
        "So one of the steps you'll often see after making predicitons with a neural network is converting the prediction probabilities into labels.\n",
        "\n",
        "In our case, since our ground truth labels (`y_test`) are binary (0 or 1), we can convert the prediction probabilities using to their binary form using [`tf.round()`](https://www.tensorflow.org/api_docs/python/tf/math/round)."
      ]
    },
    {
      "cell_type": "code",
      "metadata": {
        "id": "YaS_yvGA6KV3",
        "colab": {
          "base_uri": "https://localhost:8080/"
        },
        "outputId": "5d3b6186-81b4-4b63-ff8e-99b0ef001224"
      },
      "source": [
        "# Convert prediction probabilities to binary format and view the first 10\n",
        "tf.round(y_preds)[:10]"
      ],
      "execution_count": 83,
      "outputs": [
        {
          "output_type": "execute_result",
          "data": {
            "text/plain": [
              "<tf.Tensor: shape=(10, 1), dtype=float32, numpy=\n",
              "array([[1.],\n",
              "       [1.],\n",
              "       [1.],\n",
              "       [1.],\n",
              "       [0.],\n",
              "       [0.],\n",
              "       [1.],\n",
              "       [0.],\n",
              "       [1.],\n",
              "       [0.]], dtype=float32)>"
            ]
          },
          "metadata": {
            "tags": []
          },
          "execution_count": 83
        }
      ]
    },
    {
      "cell_type": "markdown",
      "metadata": {
        "id": "mLvWYgFIh_A9"
      },
      "source": [
        "Wonderful! Now we can use the `confusion_matrix` function."
      ]
    },
    {
      "cell_type": "code",
      "metadata": {
        "id": "GEZx1WHCiC8n",
        "colab": {
          "base_uri": "https://localhost:8080/"
        },
        "outputId": "072fd077-ce2a-4b13-c1eb-ded6e02fefbd"
      },
      "source": [
        "# Create a confusion matrix\n",
        "confusion_matrix(y_test, tf.round(y_preds))"
      ],
      "execution_count": 84,
      "outputs": [
        {
          "output_type": "execute_result",
          "data": {
            "text/plain": [
              "array([[99,  2],\n",
              "       [ 0, 99]])"
            ]
          },
          "metadata": {
            "tags": []
          },
          "execution_count": 84
        }
      ]
    },
    {
      "cell_type": "markdown",
      "metadata": {
        "id": "VY1LmNeTiKHl"
      },
      "source": [
        "Alright, we can see the highest numbers are down the diagonal (from top left to bottom right) so this a good sign, but the rest of the matrix doesn't really tell us much.\n",
        "\n",
        "How about we make a function to make our confusion matrix a little more visual?"
      ]
    },
    {
      "cell_type": "code",
      "metadata": {
        "id": "IIPSs9ERi78w",
        "colab": {
          "base_uri": "https://localhost:8080/",
          "height": 232
        },
        "outputId": "9b6717ad-622c-4379-9dbd-c9c460a39aaf"
      },
      "source": [
        "# Note: The following confusion matrix code is a remix of Scikit-Learn's \n",
        "# plot_confusion_matrix function - https://scikit-learn.org/stable/modules/generated/sklearn.metrics.plot_confusion_matrix.html\n",
        "# and Made with ML's introductory notebook - https://github.com/madewithml/basics/blob/master/notebooks/09_Multilayer_Perceptrons/09_TF_Multilayer_Perceptrons.ipynb\n",
        "import itertools\n",
        "\n",
        "figsize = (10, 10)\n",
        "\n",
        "# Create the confusion matrix\n",
        "cm = confusion_matrix(y_test, predictions)\n",
        "cm_norm = cm.astype(\"float\") / cm.sum(axis=1)[:, np.newaxis] # normalize it\n",
        "n_classes = cm.shape[0]\n",
        "\n",
        "# Let's prettify it\n",
        "fig, ax = plt.subplots(figsize=figsize)\n",
        "# Create a matrix plot\n",
        "cax = ax.matshow(cm, cmap=plt.cm.Blues) # https://matplotlib.org/3.2.0/api/_as_gen/matplotlib.axes.Axes.matshow.html\n",
        "fig.colorbar(cax)\n",
        "\n",
        "# Create classes\n",
        "classes = False\n",
        "\n",
        "if classes:\n",
        "  labels = classes\n",
        "else:\n",
        "  labels = np.arange(cm.shape[0])\n",
        "\n",
        "# Label the axes\n",
        "ax.set(title=\"Confusion Matrix\",\n",
        "       xlabel=\"Predicted label\",\n",
        "       ylabel=\"True label\",\n",
        "      #  xlabel.set_size=20,\n",
        "       xticks=np.arange(n_classes),\n",
        "       yticks=np.arange(n_classes),\n",
        "       xticklabels=labels,\n",
        "       yticklabels=labels)\n",
        "\n",
        "# Set x-axis labels to bottom\n",
        "ax.xaxis.set_label_position(\"bottom\")\n",
        "ax.xaxis.tick_bottom()\n",
        "\n",
        "# Adjust label size\n",
        "ax.xaxis.label.set_size(20)\n",
        "ax.yaxis.label.set_size(20)\n",
        "ax.title.set_size(20)\n",
        "\n",
        "# Set threshold for different colors\n",
        "threshold = (cm.max() + cm.min()) / 2.\n",
        "\n",
        "# Plot the text on each cell\n",
        "for i, j in itertools.product(range(cm.shape[0]), range(cm.shape[1])):\n",
        "  plt.text(j, i, f\"{cm[i, j]} ({cm_norm[i, j]*100:.1f}%)\",\n",
        "           horizontalalignment=\"center\",\n",
        "           color=\"white\" if cm[i, j] > threshold else \"black\",\n",
        "           size=15)"
      ],
      "execution_count": 85,
      "outputs": [
        {
          "output_type": "error",
          "ename": "NameError",
          "evalue": "ignored",
          "traceback": [
            "\u001b[0;31m---------------------------------------------------------------------------\u001b[0m",
            "\u001b[0;31mNameError\u001b[0m                                 Traceback (most recent call last)",
            "\u001b[0;32m<ipython-input-85-309295d166b8>\u001b[0m in \u001b[0;36m<module>\u001b[0;34m()\u001b[0m\n\u001b[1;32m      7\u001b[0m \u001b[0;34m\u001b[0m\u001b[0m\n\u001b[1;32m      8\u001b[0m \u001b[0;31m# Create the confusion matrix\u001b[0m\u001b[0;34m\u001b[0m\u001b[0;34m\u001b[0m\u001b[0;34m\u001b[0m\u001b[0m\n\u001b[0;32m----> 9\u001b[0;31m \u001b[0mcm\u001b[0m \u001b[0;34m=\u001b[0m \u001b[0mconfusion_matrix\u001b[0m\u001b[0;34m(\u001b[0m\u001b[0my_test\u001b[0m\u001b[0;34m,\u001b[0m \u001b[0mpredictions\u001b[0m\u001b[0;34m)\u001b[0m\u001b[0;34m\u001b[0m\u001b[0;34m\u001b[0m\u001b[0m\n\u001b[0m\u001b[1;32m     10\u001b[0m \u001b[0mcm_norm\u001b[0m \u001b[0;34m=\u001b[0m \u001b[0mcm\u001b[0m\u001b[0;34m.\u001b[0m\u001b[0mastype\u001b[0m\u001b[0;34m(\u001b[0m\u001b[0;34m\"float\"\u001b[0m\u001b[0;34m)\u001b[0m \u001b[0;34m/\u001b[0m \u001b[0mcm\u001b[0m\u001b[0;34m.\u001b[0m\u001b[0msum\u001b[0m\u001b[0;34m(\u001b[0m\u001b[0maxis\u001b[0m\u001b[0;34m=\u001b[0m\u001b[0;36m1\u001b[0m\u001b[0;34m)\u001b[0m\u001b[0;34m[\u001b[0m\u001b[0;34m:\u001b[0m\u001b[0;34m,\u001b[0m \u001b[0mnp\u001b[0m\u001b[0;34m.\u001b[0m\u001b[0mnewaxis\u001b[0m\u001b[0;34m]\u001b[0m \u001b[0;31m# normalize it\u001b[0m\u001b[0;34m\u001b[0m\u001b[0;34m\u001b[0m\u001b[0m\n\u001b[1;32m     11\u001b[0m \u001b[0mn_classes\u001b[0m \u001b[0;34m=\u001b[0m \u001b[0mcm\u001b[0m\u001b[0;34m.\u001b[0m\u001b[0mshape\u001b[0m\u001b[0;34m[\u001b[0m\u001b[0;36m0\u001b[0m\u001b[0;34m]\u001b[0m\u001b[0;34m\u001b[0m\u001b[0;34m\u001b[0m\u001b[0m\n",
            "\u001b[0;31mNameError\u001b[0m: name 'predictions' is not defined"
          ]
        }
      ]
    },
    {
      "cell_type": "markdown",
      "metadata": {
        "id": "0EaKOeeNnWbq"
      },
      "source": [
        "That looks much better. It seems our model has made almost perfect predictions on the test set except for two false positives (top right corner)."
      ]
    },
    {
      "cell_type": "code",
      "metadata": {
        "id": "ZvNQjM-rk7uE",
        "colab": {
          "base_uri": "https://localhost:8080/",
          "height": 215
        },
        "outputId": "a07f4354-7cc3-4816-d2ba-a9ca8bcaaa23"
      },
      "source": [
        "# What does itertools.product do? Combines two things into each combination\n",
        "import itertools\n",
        "for i, j in itertools.product(range(cm.shape[0]), range(cm.shape[1])):\n",
        "  print(i, j)"
      ],
      "execution_count": 86,
      "outputs": [
        {
          "output_type": "error",
          "ename": "NameError",
          "evalue": "ignored",
          "traceback": [
            "\u001b[0;31m---------------------------------------------------------------------------\u001b[0m",
            "\u001b[0;31mNameError\u001b[0m                                 Traceback (most recent call last)",
            "\u001b[0;32m<ipython-input-86-6aaf656e430f>\u001b[0m in \u001b[0;36m<module>\u001b[0;34m()\u001b[0m\n\u001b[1;32m      1\u001b[0m \u001b[0;31m# What does itertools.product do? Combines two things into each combination\u001b[0m\u001b[0;34m\u001b[0m\u001b[0;34m\u001b[0m\u001b[0;34m\u001b[0m\u001b[0m\n\u001b[1;32m      2\u001b[0m \u001b[0;32mimport\u001b[0m \u001b[0mitertools\u001b[0m\u001b[0;34m\u001b[0m\u001b[0;34m\u001b[0m\u001b[0m\n\u001b[0;32m----> 3\u001b[0;31m \u001b[0;32mfor\u001b[0m \u001b[0mi\u001b[0m\u001b[0;34m,\u001b[0m \u001b[0mj\u001b[0m \u001b[0;32min\u001b[0m \u001b[0mitertools\u001b[0m\u001b[0;34m.\u001b[0m\u001b[0mproduct\u001b[0m\u001b[0;34m(\u001b[0m\u001b[0mrange\u001b[0m\u001b[0;34m(\u001b[0m\u001b[0mcm\u001b[0m\u001b[0;34m.\u001b[0m\u001b[0mshape\u001b[0m\u001b[0;34m[\u001b[0m\u001b[0;36m0\u001b[0m\u001b[0;34m]\u001b[0m\u001b[0;34m)\u001b[0m\u001b[0;34m,\u001b[0m \u001b[0mrange\u001b[0m\u001b[0;34m(\u001b[0m\u001b[0mcm\u001b[0m\u001b[0;34m.\u001b[0m\u001b[0mshape\u001b[0m\u001b[0;34m[\u001b[0m\u001b[0;36m1\u001b[0m\u001b[0;34m]\u001b[0m\u001b[0;34m)\u001b[0m\u001b[0;34m)\u001b[0m\u001b[0;34m:\u001b[0m\u001b[0;34m\u001b[0m\u001b[0;34m\u001b[0m\u001b[0m\n\u001b[0m\u001b[1;32m      4\u001b[0m   \u001b[0mprint\u001b[0m\u001b[0;34m(\u001b[0m\u001b[0mi\u001b[0m\u001b[0;34m,\u001b[0m \u001b[0mj\u001b[0m\u001b[0;34m)\u001b[0m\u001b[0;34m\u001b[0m\u001b[0;34m\u001b[0m\u001b[0m\n",
            "\u001b[0;31mNameError\u001b[0m: name 'cm' is not defined"
          ]
        }
      ]
    },
    {
      "cell_type": "markdown",
      "metadata": {
        "id": "2WLKnUi6fI6B"
      },
      "source": [
        "# Working with a larger example (multiclass classification)\n",
        "\n",
        "We've seen a binary classification example (predicting if a data point is part of a red circle or blue circle) but what if you had multiple different classes of things?\n",
        "\n",
        "For example, say you were a fashion company and you wanted to build a neural network to predict whether a piece of clothing was a shoe, a shirt or a jaceket (3 different options).\n",
        "\n",
        "When you have more than two classes as an option, this is known as **multiclass classification**.\n",
        "\n",
        "The good news is, the things we've learned so far (with a few tweaks) can be applied to multiclass classification problems as well.\n",
        "\n",
        "Let's see it in action.\n",
        "\n",
        "To start, we'll need some data. The good thing for us is TensorFlow has a multiclass classication dataset known as [Fashion MNIST built-in](https://github.com/zalandoresearch/fashion-mnist). Meaning we can get started straight away.\n",
        "\n",
        "We can import it using the [`tf.keras.datasets`](https://www.tensorflow.org/api_docs/python/tf/keras/datasets) module.\n",
        "\n",
        "> 📖 **Resource:** The following multiclass classification problem has been adapted from the [TensorFlow classification guide](https://www.tensorflow.org/tutorials/keras/classification). A good exercise would be to once you've gone through the following example, replicate the TensorFlow guide."
      ]
    },
    {
      "cell_type": "code",
      "metadata": {
        "id": "zl50sxPTqpw4",
        "colab": {
          "base_uri": "https://localhost:8080/"
        },
        "outputId": "69584b0b-a9d7-4445-e1e7-d0e4dfb417ab"
      },
      "source": [
        "import tensorflow as tf\n",
        "from tensorflow.keras.datasets import fashion_mnist\n",
        "\n",
        "# The data has already been sorted into training and test sets for us\n",
        "(train_data, train_labels), (test_data, test_labels) = fashion_mnist.load_data()"
      ],
      "execution_count": 87,
      "outputs": [
        {
          "output_type": "stream",
          "text": [
            "Downloading data from https://storage.googleapis.com/tensorflow/tf-keras-datasets/train-labels-idx1-ubyte.gz\n",
            "32768/29515 [=================================] - 0s 0us/step\n",
            "Downloading data from https://storage.googleapis.com/tensorflow/tf-keras-datasets/train-images-idx3-ubyte.gz\n",
            "26427392/26421880 [==============================] - 0s 0us/step\n",
            "Downloading data from https://storage.googleapis.com/tensorflow/tf-keras-datasets/t10k-labels-idx1-ubyte.gz\n",
            "8192/5148 [===============================================] - 0s 0us/step\n",
            "Downloading data from https://storage.googleapis.com/tensorflow/tf-keras-datasets/t10k-images-idx3-ubyte.gz\n",
            "4423680/4422102 [==============================] - 0s 0us/step\n"
          ],
          "name": "stdout"
        }
      ]
    },
    {
      "cell_type": "markdown",
      "metadata": {
        "id": "D6qJforMrCZy"
      },
      "source": [
        "Now let's check out an example."
      ]
    },
    {
      "cell_type": "code",
      "metadata": {
        "id": "8PWdrQsyrBcy",
        "colab": {
          "base_uri": "https://localhost:8080/"
        },
        "outputId": "25d1b46d-e865-497f-9ca3-48fffbd2b294"
      },
      "source": [
        "# Show the first training example\n",
        "print(f\"Training sample:\\n{train_data[0]}\\n\") \n",
        "print(f\"Training label: {train_labels[0]}\")"
      ],
      "execution_count": 88,
      "outputs": [
        {
          "output_type": "stream",
          "text": [
            "Training sample:\n",
            "[[  0   0   0   0   0   0   0   0   0   0   0   0   0   0   0   0   0   0\n",
            "    0   0   0   0   0   0   0   0   0   0]\n",
            " [  0   0   0   0   0   0   0   0   0   0   0   0   0   0   0   0   0   0\n",
            "    0   0   0   0   0   0   0   0   0   0]\n",
            " [  0   0   0   0   0   0   0   0   0   0   0   0   0   0   0   0   0   0\n",
            "    0   0   0   0   0   0   0   0   0   0]\n",
            " [  0   0   0   0   0   0   0   0   0   0   0   0   1   0   0  13  73   0\n",
            "    0   1   4   0   0   0   0   1   1   0]\n",
            " [  0   0   0   0   0   0   0   0   0   0   0   0   3   0  36 136 127  62\n",
            "   54   0   0   0   1   3   4   0   0   3]\n",
            " [  0   0   0   0   0   0   0   0   0   0   0   0   6   0 102 204 176 134\n",
            "  144 123  23   0   0   0   0  12  10   0]\n",
            " [  0   0   0   0   0   0   0   0   0   0   0   0   0   0 155 236 207 178\n",
            "  107 156 161 109  64  23  77 130  72  15]\n",
            " [  0   0   0   0   0   0   0   0   0   0   0   1   0  69 207 223 218 216\n",
            "  216 163 127 121 122 146 141  88 172  66]\n",
            " [  0   0   0   0   0   0   0   0   0   1   1   1   0 200 232 232 233 229\n",
            "  223 223 215 213 164 127 123 196 229   0]\n",
            " [  0   0   0   0   0   0   0   0   0   0   0   0   0 183 225 216 223 228\n",
            "  235 227 224 222 224 221 223 245 173   0]\n",
            " [  0   0   0   0   0   0   0   0   0   0   0   0   0 193 228 218 213 198\n",
            "  180 212 210 211 213 223 220 243 202   0]\n",
            " [  0   0   0   0   0   0   0   0   0   1   3   0  12 219 220 212 218 192\n",
            "  169 227 208 218 224 212 226 197 209  52]\n",
            " [  0   0   0   0   0   0   0   0   0   0   6   0  99 244 222 220 218 203\n",
            "  198 221 215 213 222 220 245 119 167  56]\n",
            " [  0   0   0   0   0   0   0   0   0   4   0   0  55 236 228 230 228 240\n",
            "  232 213 218 223 234 217 217 209  92   0]\n",
            " [  0   0   1   4   6   7   2   0   0   0   0   0 237 226 217 223 222 219\n",
            "  222 221 216 223 229 215 218 255  77   0]\n",
            " [  0   3   0   0   0   0   0   0   0  62 145 204 228 207 213 221 218 208\n",
            "  211 218 224 223 219 215 224 244 159   0]\n",
            " [  0   0   0   0  18  44  82 107 189 228 220 222 217 226 200 205 211 230\n",
            "  224 234 176 188 250 248 233 238 215   0]\n",
            " [  0  57 187 208 224 221 224 208 204 214 208 209 200 159 245 193 206 223\n",
            "  255 255 221 234 221 211 220 232 246   0]\n",
            " [  3 202 228 224 221 211 211 214 205 205 205 220 240  80 150 255 229 221\n",
            "  188 154 191 210 204 209 222 228 225   0]\n",
            " [ 98 233 198 210 222 229 229 234 249 220 194 215 217 241  65  73 106 117\n",
            "  168 219 221 215 217 223 223 224 229  29]\n",
            " [ 75 204 212 204 193 205 211 225 216 185 197 206 198 213 240 195 227 245\n",
            "  239 223 218 212 209 222 220 221 230  67]\n",
            " [ 48 203 183 194 213 197 185 190 194 192 202 214 219 221 220 236 225 216\n",
            "  199 206 186 181 177 172 181 205 206 115]\n",
            " [  0 122 219 193 179 171 183 196 204 210 213 207 211 210 200 196 194 191\n",
            "  195 191 198 192 176 156 167 177 210  92]\n",
            " [  0   0  74 189 212 191 175 172 175 181 185 188 189 188 193 198 204 209\n",
            "  210 210 211 188 188 194 192 216 170   0]\n",
            " [  2   0   0   0  66 200 222 237 239 242 246 243 244 221 220 193 191 179\n",
            "  182 182 181 176 166 168  99  58   0   0]\n",
            " [  0   0   0   0   0   0   0  40  61  44  72  41  35   0   0   0   0   0\n",
            "    0   0   0   0   0   0   0   0   0   0]\n",
            " [  0   0   0   0   0   0   0   0   0   0   0   0   0   0   0   0   0   0\n",
            "    0   0   0   0   0   0   0   0   0   0]\n",
            " [  0   0   0   0   0   0   0   0   0   0   0   0   0   0   0   0   0   0\n",
            "    0   0   0   0   0   0   0   0   0   0]]\n",
            "\n",
            "Training label: 9\n"
          ],
          "name": "stdout"
        }
      ]
    },
    {
      "cell_type": "markdown",
      "metadata": {
        "id": "MMqbRp8jrdtv"
      },
      "source": [
        "Woah, we get a large list of numbers, followed (the data) by a single number (the class label).\n",
        "\n",
        "What about the shapes?"
      ]
    },
    {
      "cell_type": "code",
      "metadata": {
        "id": "gN5-jr6arj19",
        "colab": {
          "base_uri": "https://localhost:8080/"
        },
        "outputId": "cd415b26-3c34-427e-f37c-cd11c87df677"
      },
      "source": [
        "# Check the shape of our data\n",
        "train_data.shape, train_labels.shape, test_data.shape, test_labels.shape"
      ],
      "execution_count": 89,
      "outputs": [
        {
          "output_type": "execute_result",
          "data": {
            "text/plain": [
              "((60000, 28, 28), (60000,), (10000, 28, 28), (10000,))"
            ]
          },
          "metadata": {
            "tags": []
          },
          "execution_count": 89
        }
      ]
    },
    {
      "cell_type": "code",
      "metadata": {
        "id": "wNfIOUUEsJRt",
        "colab": {
          "base_uri": "https://localhost:8080/"
        },
        "outputId": "2054a343-6bbd-4829-8869-6c3347963f14"
      },
      "source": [
        "# Check shape of a single example\n",
        "train_data[0].shape, train_labels[0].shape"
      ],
      "execution_count": 90,
      "outputs": [
        {
          "output_type": "execute_result",
          "data": {
            "text/plain": [
              "((28, 28), ())"
            ]
          },
          "metadata": {
            "tags": []
          },
          "execution_count": 90
        }
      ]
    },
    {
      "cell_type": "markdown",
      "metadata": {
        "id": "r2wW0cEfsAve"
      },
      "source": [
        "Okay, 60,000 training examples each with shape (28, 28) and a label each as well as 10,000 test examples of shape (28, 28).\n",
        "\n",
        "But these are just numbers, let's visualize."
      ]
    },
    {
      "cell_type": "code",
      "metadata": {
        "id": "RmC2VsWOscKP",
        "colab": {
          "base_uri": "https://localhost:8080/",
          "height": 265
        },
        "outputId": "b0281ef8-0c20-4bef-9436-20b442980898"
      },
      "source": [
        "# Plot a single example\n",
        "import matplotlib.pyplot as plt\n",
        "plt.imshow(train_data[7]);"
      ],
      "execution_count": 91,
      "outputs": [
        {
          "output_type": "display_data",
          "data": {
            "image/png": "[encoded data removed]",
            "text/plain": [
              "<Figure size 432x288 with 1 Axes>"
            ]
          },
          "metadata": {
            "tags": [],
            "needs_background": "light"
          }
        }
      ]
    },
    {
      "cell_type": "markdown",
      "metadata": {
        "id": "sOqirdtfstdQ"
      },
      "source": [
        "Hmm, but what about its label?"
      ]
    },
    {
      "cell_type": "code",
      "metadata": {
        "id": "hzTDEpaYsxga",
        "colab": {
          "base_uri": "https://localhost:8080/"
        },
        "outputId": "fac2f2de-1dc2-419a-c0d0-01bf392ba31c"
      },
      "source": [
        "# Check our samples label\n",
        "train_labels[7]"
      ],
      "execution_count": 92,
      "outputs": [
        {
          "output_type": "execute_result",
          "data": {
            "text/plain": [
              "2"
            ]
          },
          "metadata": {
            "tags": []
          },
          "execution_count": 92
        }
      ]
    },
    {
      "cell_type": "markdown",
      "metadata": {
        "id": "ZHdVBrCUs10A"
      },
      "source": [
        "It looks like our labels are in numerical form. And while this is fine for a neural network, you might want to have them in human readable form.\n",
        "\n",
        "Let's create a small list of the class names (we can find them on [the dataset's GitHub page](https://github.com/zalandoresearch/fashion-mnist#labels)).\n",
        "\n",
        "> 🔑 **Note:** Whilst this dataset has been prepared for us and ready to go, it's important to remember many datasets won't be ready to go like this one. Often you'll have to do a few preprocessing steps to have it ready to use with a neural network (we'll see more of this when we work with our own data later)."
      ]
    },
    {
      "cell_type": "code",
      "metadata": {
        "id": "uGOi32T8s1ai",
        "colab": {
          "base_uri": "https://localhost:8080/"
        },
        "outputId": "8a6fc6b3-7b3b-458c-8a10-63c948f039c9"
      },
      "source": [
        "class_names = ['T-shirt/top', 'Trouser', 'Pullover', 'Dress', 'Coat', \n",
        "               'Sandal', 'Shirt', 'Sneaker', 'Bag', 'Ankle boot']\n",
        "\n",
        "# How many classes are there (this'll be our output shape)?\n",
        "len(class_names)"
      ],
      "execution_count": 93,
      "outputs": [
        {
          "output_type": "execute_result",
          "data": {
            "text/plain": [
              "10"
            ]
          },
          "metadata": {
            "tags": []
          },
          "execution_count": 93
        }
      ]
    },
    {
      "cell_type": "markdown",
      "metadata": {
        "id": "zOiwINQQtzys"
      },
      "source": [
        "Now we have these, let's plot another example.\n",
        "\n",
        "> 🤔 **Question:** Pay particular attention to what the data we're working with *looks* like. Is it only straight lines? Or does it have non-straight lines as well? Do you think if we wanted to find patterns in the photos of clothes (which are actually collections of pixels), will our model need non-linearities (non-straight lines) or not?"
      ]
    },
    {
      "cell_type": "code",
      "metadata": {
        "id": "_qD40id2tytn",
        "colab": {
          "base_uri": "https://localhost:8080/",
          "height": 281
        },
        "outputId": "eaade665-ace5-4088-de5d-edc2647152e6"
      },
      "source": [
        "# Plot an example image and its label\n",
        "plt.imshow(train_data[17], cmap=plt.cm.binary) # change the colours to black & white\n",
        "plt.title(class_names[train_labels[17]]);"
      ],
      "execution_count": 94,
      "outputs": [
        {
          "output_type": "display_data",
          "data": {
            "image/png": "[encoded data removed]",
            "text/plain": [
              "<Figure size 432x288 with 1 Axes>"
            ]
          },
          "metadata": {
            "tags": [],
            "needs_background": "light"
          }
        }
      ]
    },
    {
      "cell_type": "code",
      "metadata": {
        "colab": {
          "base_uri": "https://localhost:8080/",
          "height": 427
        },
        "id": "Rtz9__w3s4JF",
        "outputId": "015ed6a2-1320-4960-a4a3-2fc34a182402"
      },
      "source": [
        "# Plot multiple random images of fashion MNIST\n",
        "import random\n",
        "plt.figure(figsize=(7, 7))\n",
        "for i in range(4):\n",
        "  ax = plt.subplot(2, 2, i + 1)\n",
        "  rand_index = random.choice(range(len(train_data)))\n",
        "  plt.imshow(train_data[rand_index], cmap=plt.cm.binary)\n",
        "  plt.title(class_names[train_labels[rand_index]])\n",
        "  plt.axis(False)"
      ],
      "execution_count": 112,
      "outputs": [
        {
          "output_type": "display_data",
          "data": {
            "image/png": "[encoded data removed]",
            "text/plain": [
              "<Figure size 504x504 with 4 Axes>"
            ]
          },
          "metadata": {
            "tags": [],
            "needs_background": "light"
          }
        }
      ]
    },
    {
      "cell_type": "markdown",
      "metadata": {
        "id": "TLqZif3Rv0Aq"
      },
      "source": [
        "Alright, let's build a model to figure out the relationship between the pixel values and their labels.\n",
        "\n",
        "Since this is a multiclass classification problem, we'll need to make a few changes to our architecture (inline with Table 1 above):\n",
        "\n",
        "* The **input shape** will have to deal with 28x28 tensors (the height and width of our images).\n",
        "  * We're actually going to squash the input into a tensor (vector) of shape `(784)`.\n",
        "* The **output shape** will have to be 10 because we need our model to predict for 10 different classes.\n",
        "  * We'll also change the `activation` parameter of our output layer to be [`\"softmax\"`](https://www.tensorflow.org/api_docs/python/tf/keras/activations/softmax) instead of `'sigmoid'`. As we'll see the `\"softmax\"` activation function outputs a series of values between 0 & 1 (the same shape as **output shape**, which together add up to ~1. The index with the highest value is predicted by the model to be the most *likely* class.\n",
        "* We'll need to change our loss function from a binary loss function to a multiclass loss function. \n",
        "  * More specifically, since our labels are in integer form, we'll use [`tf.keras.losses.SparseCategoricalCrossentropy()`](https://www.tensorflow.org/versions/r2.0/api_docs/python/tf/keras/losses/SparseCategoricalCrossentropy), if our labels were one-hot encoded (e.g. they looked something like `[0, 0, 1, 0, 0...]`), we'd use [`tf.keras.losses.CategoricalCrossentropy()`](https://www.tensorflow.org/api_docs/python/tf/keras/losses/CategoricalCrossentropy).\n",
        "* We'll also use the `validation_data` parameter when calling the `fit()` function. This will give us an idea of how the model performs on the test set during training.\n",
        "\n",
        "You ready? Let's go."
      ]
    },
    {
      "cell_type": "code",
      "metadata": {
        "id": "qUFHuzIpv30K",
        "colab": {
          "base_uri": "https://localhost:8080/"
        },
        "outputId": "04dae431-151e-4f09-81d6-1c4e2612e7a6"
      },
      "source": [
        "# Set random seed\n",
        "tf.random.set_seed(42)\n",
        "\n",
        "# Create the model\n",
        "model_11 = tf.keras.Sequential([\n",
        "  tf.keras.layers.Flatten(input_shape=(28, 28)), # input layer (we had to reshape 28x28 to 784, the Flatten layer does this for us)\n",
        "  tf.keras.layers.Dense(4, activation=\"relu\"),\n",
        "  tf.keras.layers.Dense(4, activation=\"relu\"),\n",
        "  tf.keras.layers.Dense(10, activation=\"softmax\") # output shape is 10, activation is softmax\n",
        "])\n",
        "\n",
        "# Compile the model\n",
        "model_11.compile(loss=tf.keras.losses.SparseCategoricalCrossentropy(), # different loss function for multiclass classifcation\n",
        "                 optimizer=tf.keras.optimizers.Adam(),\n",
        "                 metrics=[\"accuracy\"])\n",
        "\n",
        "# Fit the model\n",
        "non_norm_history = model_11.fit(train_data,\n",
        "                                train_labels,\n",
        "                                epochs=10,\n",
        "                                validation_data=(test_data, test_labels)) # see how the model performs on the test set during training"
      ],
      "execution_count": 116,
      "outputs": [
        {
          "output_type": "stream",
          "text": [
            "Epoch 1/10\n",
            "1875/1875 [==============================] - 3s 1ms/step - loss: 2.1631 - accuracy: 0.1622 - val_loss: 1.7951 - val_accuracy: 0.2100\n",
            "Epoch 2/10\n",
            "1875/1875 [==============================] - 2s 1ms/step - loss: 1.7094 - accuracy: 0.2514 - val_loss: 1.6439 - val_accuracy: 0.3022\n",
            "Epoch 3/10\n",
            "1875/1875 [==============================] - 2s 1ms/step - loss: 1.6353 - accuracy: 0.2847 - val_loss: 1.6003 - val_accuracy: 0.2818\n",
            "Epoch 4/10\n",
            "1875/1875 [==============================] - 3s 1ms/step - loss: 1.6099 - accuracy: 0.2858 - val_loss: 1.5964 - val_accuracy: 0.2958\n",
            "Epoch 5/10\n",
            "1875/1875 [==============================] - 2s 1ms/step - loss: 1.5958 - accuracy: 0.3040 - val_loss: 1.5948 - val_accuracy: 0.3005\n",
            "Epoch 6/10\n",
            "1875/1875 [==============================] - 2s 1ms/step - loss: 1.5842 - accuracy: 0.3115 - val_loss: 1.5678 - val_accuracy: 0.3195\n",
            "Epoch 7/10\n",
            "1875/1875 [==============================] - 2s 1ms/step - loss: 1.5700 - accuracy: 0.3205 - val_loss: 1.5695 - val_accuracy: 0.3161\n",
            "Epoch 8/10\n",
            "1875/1875 [==============================] - 2s 1ms/step - loss: 1.5605 - accuracy: 0.3258 - val_loss: 1.5526 - val_accuracy: 0.3343\n",
            "Epoch 9/10\n",
            "1875/1875 [==============================] - 2s 1ms/step - loss: 1.5626 - accuracy: 0.3269 - val_loss: 1.5467 - val_accuracy: 0.3373\n",
            "Epoch 10/10\n",
            "1875/1875 [==============================] - 3s 1ms/step - loss: 1.5451 - accuracy: 0.3327 - val_loss: 1.5339 - val_accuracy: 0.3542\n"
          ],
          "name": "stdout"
        }
      ]
    },
    {
      "cell_type": "code",
      "metadata": {
        "id": "3hzYWEgoVJ_p",
        "colab": {
          "base_uri": "https://localhost:8080/"
        },
        "outputId": "59fef257-73de-4071-b9e9-69842fa1a211"
      },
      "source": [
        "# Check the shapes of our model\n",
        "# Note: the \"None\" in (None, 784) is for batch_size, we'll cover this in a later module\n",
        "model_11.summary()"
      ],
      "execution_count": 117,
      "outputs": [
        {
          "output_type": "stream",
          "text": [
            "Model: \"sequential_14\"\n",
            "_________________________________________________________________\n",
            "Layer (type)                 Output Shape              Param #   \n",
            "=================================================================\n",
            "flatten (Flatten)            (None, 784)               0         \n",
            "_________________________________________________________________\n",
            "dense_34 (Dense)             (None, 4)                 3140      \n",
            "_________________________________________________________________\n",
            "dense_35 (Dense)             (None, 4)                 20        \n",
            "_________________________________________________________________\n",
            "dense_36 (Dense)             (None, 10)                50        \n",
            "=================================================================\n",
            "Total params: 3,210\n",
            "Trainable params: 3,210\n",
            "Non-trainable params: 0\n",
            "_________________________________________________________________\n"
          ],
          "name": "stdout"
        }
      ]
    },
    {
      "cell_type": "markdown",
      "metadata": {
        "id": "XRfkre59zSto"
      },
      "source": [
        "Alright, our model gets to about ~35% accuracy after 10 epochs using a similar style model to what we used on our binary classification problem.\n",
        "\n",
        "Which is better than guessing (guessing with 10 classes would result in about 10% accuracy) but we can do better.\n",
        "\n",
        "Do you remember when we talked about neural networks preferring numbers between 0 and 1? (if not, treat this as a reminder)\n",
        "\n",
        "Well, right now, the data we have isn't between 0 and 1, in other words, it's not normalized (hence why we used the `non_norm_history` variable when calling `fit()`). It's pixel values are between 0 and 255.\n",
        "\n",
        "Let's see."
      ]
    },
    {
      "cell_type": "code",
      "metadata": {
        "id": "tGiweanwz82_",
        "colab": {
          "base_uri": "https://localhost:8080/"
        },
        "outputId": "5fd2e4a7-9232-46e3-e55a-75f918826dd6"
      },
      "source": [
        "# Check the min and max values of the training data\n",
        "train_data.min(), train_data.max()"
      ],
      "execution_count": 118,
      "outputs": [
        {
          "output_type": "execute_result",
          "data": {
            "text/plain": [
              "(0, 255)"
            ]
          },
          "metadata": {
            "tags": []
          },
          "execution_count": 118
        }
      ]
    },
    {
      "cell_type": "markdown",
      "metadata": {
        "id": "syB7LOk30H0_"
      },
      "source": [
        "We can get these values between 0 and 1 by dividing the entire array by the maximum: `255.0` (dividing by a float also converts to a float).\n",
        "\n",
        "\n",
        "Doing so will result in all of our data being between 0 and 1 (known as **normalization**)."
      ]
    },
    {
      "cell_type": "code",
      "metadata": {
        "id": "ABRKp5U8voV_",
        "colab": {
          "base_uri": "https://localhost:8080/"
        },
        "outputId": "7d6c378a-fde3-4f07-e397-616611442fe8"
      },
      "source": [
        "# Divide train and test images by the maximum value (normalize it)\n",
        "train_data = train_data / 255.0\n",
        "test_data = test_data / 255.0\n",
        "\n",
        "# Check the min and max values of the training data\n",
        "train_data.min(), train_data.max()"
      ],
      "execution_count": 119,
      "outputs": [
        {
          "output_type": "execute_result",
          "data": {
            "text/plain": [
              "(0.0, 1.0)"
            ]
          },
          "metadata": {
            "tags": []
          },
          "execution_count": 119
        }
      ]
    },
    {
      "cell_type": "markdown",
      "metadata": {
        "id": "LeYQEXOf06oo"
      },
      "source": [
        "Beautiful! Now our data is between 0 and 1. Let's see what happens when we model it.\n",
        "\n",
        "We'll use the same model as before (`model_11`) except this time the data will be normalized."
      ]
    },
    {
      "cell_type": "code",
      "metadata": {
        "id": "z1QRy7y_K_87",
        "colab": {
          "base_uri": "https://localhost:8080/"
        },
        "outputId": "f8df44f9-62c6-4cd3-856e-b4b8e514fcd6"
      },
      "source": [
        "# Set random seed\n",
        "tf.random.set_seed(42)\n",
        "\n",
        "# Create the model\n",
        "model_12 = tf.keras.Sequential([\n",
        "  tf.keras.layers.Flatten(input_shape=(28, 28)), # input layer (we had to reshape 28x28 to 784)\n",
        "  tf.keras.layers.Dense(4, activation=\"relu\"),\n",
        "  tf.keras.layers.Dense(4, activation=\"relu\"),\n",
        "  tf.keras.layers.Dense(10, activation=\"softmax\") # output shape is 10, activation is softmax\n",
        "])\n",
        "\n",
        "# Compile the model\n",
        "model_12.compile(loss=tf.keras.losses.SparseCategoricalCrossentropy(),\n",
        "                 optimizer=tf.keras.optimizers.Adam(),\n",
        "                 metrics=[\"accuracy\"])\n",
        "\n",
        "# Fit the model (to the normalized data)\n",
        "norm_history = model_12.fit(train_data,\n",
        "                            train_labels,\n",
        "                            epochs=10,\n",
        "                            validation_data=(test_data, test_labels))"
      ],
      "execution_count": 120,
      "outputs": [
        {
          "output_type": "stream",
          "text": [
            "Epoch 1/10\n",
            "1875/1875 [==============================] - 3s 2ms/step - loss: 1.0348 - accuracy: 0.6474 - val_loss: 0.6937 - val_accuracy: 0.7617\n",
            "Epoch 2/10\n",
            "1875/1875 [==============================] - 2s 1ms/step - loss: 0.6376 - accuracy: 0.7757 - val_loss: 0.6400 - val_accuracy: 0.7820\n",
            "Epoch 3/10\n",
            "1875/1875 [==============================] - 2s 1ms/step - loss: 0.5942 - accuracy: 0.7914 - val_loss: 0.6247 - val_accuracy: 0.7783\n",
            "Epoch 4/10\n",
            "1875/1875 [==============================] - 2s 1ms/step - loss: 0.5750 - accuracy: 0.7979 - val_loss: 0.6078 - val_accuracy: 0.7881\n",
            "Epoch 5/10\n",
            "1875/1875 [==============================] - 2s 1ms/step - loss: 0.5641 - accuracy: 0.8006 - val_loss: 0.6169 - val_accuracy: 0.7881\n",
            "Epoch 6/10\n",
            "1875/1875 [==============================] - 2s 1ms/step - loss: 0.5544 - accuracy: 0.8043 - val_loss: 0.5855 - val_accuracy: 0.7951\n",
            "Epoch 7/10\n",
            "1875/1875 [==============================] - 2s 1ms/step - loss: 0.5488 - accuracy: 0.8063 - val_loss: 0.6097 - val_accuracy: 0.7836\n",
            "Epoch 8/10\n",
            "1875/1875 [==============================] - 2s 1ms/step - loss: 0.5428 - accuracy: 0.8077 - val_loss: 0.5787 - val_accuracy: 0.7971\n",
            "Epoch 9/10\n",
            "1875/1875 [==============================] - 2s 1ms/step - loss: 0.5373 - accuracy: 0.8097 - val_loss: 0.5698 - val_accuracy: 0.7977\n",
            "Epoch 10/10\n",
            "1875/1875 [==============================] - 3s 1ms/step - loss: 0.5360 - accuracy: 0.8124 - val_loss: 0.5658 - val_accuracy: 0.8014\n"
          ],
          "name": "stdout"
        }
      ]
    },
    {
      "cell_type": "markdown",
      "metadata": {
        "id": "C_I2KNJiMWZ8"
      },
      "source": [
        "Woah, we used the exact same model as before but we with normalized data we're now seeing a much higher accuracy value!\n",
        "\n",
        "Let's plot each model's history (their loss curves)."
      ]
    },
    {
      "cell_type": "code",
      "metadata": {
        "id": "zmRcYU7xN1wQ",
        "colab": {
          "base_uri": "https://localhost:8080/",
          "height": 545
        },
        "outputId": "534b3611-e50e-4cac-e21d-7a613183a297"
      },
      "source": [
        "import pandas as pd\n",
        "# Plot non-normalized data loss curves\n",
        "pd.DataFrame(non_norm_history.history).plot(title=\"Non-normalized Data\")\n",
        "# Plot normalized data loss curves\n",
        "pd.DataFrame(norm_history.history).plot(title=\"Normalized data\");"
      ],
      "execution_count": 121,
      "outputs": [
        {
          "output_type": "display_data",
          "data": {
            "image/png": "[encoded data removed]",
            "text/plain": [
              "<Figure size 432x288 with 1 Axes>"
            ]
          },
          "metadata": {
            "tags": [],
            "needs_background": "light"
          }
        },
        {
          "output_type": "display_data",
          "data": {
            "image/png": "[encoded data removed]",
            "text/plain": [
              "<Figure size 432x288 with 1 Axes>"
            ]
          },
          "metadata": {
            "tags": [],
            "needs_background": "light"
          }
        }
      ]
    },
    {
      "cell_type": "markdown",
      "metadata": {
        "id": "VKm8MsACOm4j"
      },
      "source": [
        "Wow. From these two plots, we can see how much quicker our model with the normalized data (`model_12`) improved than the model with the non-normalized data (`model_11`).\n",
        "\n",
        "> 🔑 **Note:** The same model with even *slightly* different data can produce *dramatically* different results. So when you're comparing models, it's important to make sure you're comparing them on the same criteria (e.g. same architecture but different data or same data but different architecture).\n",
        "\n",
        "How about we find the ideal learning rate and see what happens?\n",
        "\n",
        "We'll use the same architecture we've been using."
      ]
    },
    {
      "cell_type": "code",
      "metadata": {
        "id": "LcR_wb4nPSb2",
        "colab": {
          "base_uri": "https://localhost:8080/"
        },
        "outputId": "008c5e41-c42d-4b92-c2fe-8304a2fe9f0e"
      },
      "source": [
        "# Set random seed\n",
        "tf.random.set_seed(42)\n",
        "\n",
        "# Create the model\n",
        "model_13 = tf.keras.Sequential([\n",
        "  tf.keras.layers.Flatten(input_shape=(28, 28)), # input layer (we had to reshape 28x28 to 784)\n",
        "  tf.keras.layers.Dense(4, activation=\"relu\"),\n",
        "  tf.keras.layers.Dense(4, activation=\"relu\"),\n",
        "  tf.keras.layers.Dense(10, activation=\"softmax\") # output shape is 10, activation is softmax\n",
        "])\n",
        "\n",
        "# Compile the model\n",
        "model_13.compile(loss=tf.keras.losses.SparseCategoricalCrossentropy(),\n",
        "                 optimizer=tf.keras.optimizers.Adam(),\n",
        "                 metrics=[\"accuracy\"])\n",
        "\n",
        "# Create the learning rate callback\n",
        "lr_scheduler = tf.keras.callbacks.LearningRateScheduler(lambda epoch: 1e-3 * 10**(epoch/20))\n",
        "\n",
        "# Fit the model\n",
        "find_lr_history = model_13.fit(train_data,\n",
        "                               train_labels,\n",
        "                               epochs=40, # model already doing pretty good with current LR, probably don't need 100 epochs\n",
        "                               validation_data=(test_data, test_labels),\n",
        "                               callbacks=[lr_scheduler])"
      ],
      "execution_count": 122,
      "outputs": [
        {
          "output_type": "stream",
          "text": [
            "Epoch 1/40\n",
            "1875/1875 [==============================] - 3s 2ms/step - loss: 1.0348 - accuracy: 0.6474 - val_loss: 0.6937 - val_accuracy: 0.7617\n",
            "Epoch 2/40\n",
            "1875/1875 [==============================] - 3s 1ms/step - loss: 0.6366 - accuracy: 0.7759 - val_loss: 0.6400 - val_accuracy: 0.7808\n",
            "Epoch 3/40\n",
            "1875/1875 [==============================] - 3s 1ms/step - loss: 0.5934 - accuracy: 0.7911 - val_loss: 0.6278 - val_accuracy: 0.7770\n",
            "Epoch 4/40\n",
            "1875/1875 [==============================] - 3s 1ms/step - loss: 0.5749 - accuracy: 0.7969 - val_loss: 0.6122 - val_accuracy: 0.7871\n",
            "Epoch 5/40\n",
            "1875/1875 [==============================] - 3s 1ms/step - loss: 0.5655 - accuracy: 0.7987 - val_loss: 0.6061 - val_accuracy: 0.7913\n",
            "Epoch 6/40\n",
            "1875/1875 [==============================] - 3s 1ms/step - loss: 0.5569 - accuracy: 0.8022 - val_loss: 0.5917 - val_accuracy: 0.7940\n",
            "Epoch 7/40\n",
            "1875/1875 [==============================] - 3s 1ms/step - loss: 0.5542 - accuracy: 0.8036 - val_loss: 0.5898 - val_accuracy: 0.7896\n",
            "Epoch 8/40\n",
            "1875/1875 [==============================] - 2s 1ms/step - loss: 0.5509 - accuracy: 0.8039 - val_loss: 0.5829 - val_accuracy: 0.7949\n",
            "Epoch 9/40\n",
            "1875/1875 [==============================] - 2s 1ms/step - loss: 0.5468 - accuracy: 0.8047 - val_loss: 0.6036 - val_accuracy: 0.7833\n",
            "Epoch 10/40\n",
            "1875/1875 [==============================] - 2s 1ms/step - loss: 0.5478 - accuracy: 0.8058 - val_loss: 0.5736 - val_accuracy: 0.7974\n",
            "Epoch 11/40\n",
            "1875/1875 [==============================] - 2s 1ms/step - loss: 0.5446 - accuracy: 0.8059 - val_loss: 0.5672 - val_accuracy: 0.8016\n",
            "Epoch 12/40\n",
            "1875/1875 [==============================] - 2s 1ms/step - loss: 0.5432 - accuracy: 0.8067 - val_loss: 0.5773 - val_accuracy: 0.7950\n",
            "Epoch 13/40\n",
            "1875/1875 [==============================] - 2s 1ms/step - loss: 0.5425 - accuracy: 0.8056 - val_loss: 0.5775 - val_accuracy: 0.7992\n",
            "Epoch 14/40\n",
            "1875/1875 [==============================] - 2s 1ms/step - loss: 0.5407 - accuracy: 0.8078 - val_loss: 0.5616 - val_accuracy: 0.8075\n",
            "Epoch 15/40\n",
            "1875/1875 [==============================] - 2s 1ms/step - loss: 0.5408 - accuracy: 0.8052 - val_loss: 0.5773 - val_accuracy: 0.8039\n",
            "Epoch 16/40\n",
            "1875/1875 [==============================] - 2s 1ms/step - loss: 0.5437 - accuracy: 0.8058 - val_loss: 0.5682 - val_accuracy: 0.8015\n",
            "Epoch 17/40\n",
            "1875/1875 [==============================] - 2s 1ms/step - loss: 0.5419 - accuracy: 0.8075 - val_loss: 0.5995 - val_accuracy: 0.7964\n",
            "Epoch 18/40\n",
            "1875/1875 [==============================] - 2s 1ms/step - loss: 0.5488 - accuracy: 0.8058 - val_loss: 0.5544 - val_accuracy: 0.8087\n",
            "Epoch 19/40\n",
            "1875/1875 [==============================] - 2s 1ms/step - loss: 0.5506 - accuracy: 0.8042 - val_loss: 0.6068 - val_accuracy: 0.7864\n",
            "Epoch 20/40\n",
            "1875/1875 [==============================] - 2s 1ms/step - loss: 0.5537 - accuracy: 0.8030 - val_loss: 0.5597 - val_accuracy: 0.8076\n",
            "Epoch 21/40\n",
            "1875/1875 [==============================] - 2s 1ms/step - loss: 0.5572 - accuracy: 0.8036 - val_loss: 0.5998 - val_accuracy: 0.7934\n",
            "Epoch 22/40\n",
            "1875/1875 [==============================] - 2s 1ms/step - loss: 0.5615 - accuracy: 0.8013 - val_loss: 0.5756 - val_accuracy: 0.8034\n",
            "Epoch 23/40\n",
            "1875/1875 [==============================] - 2s 1ms/step - loss: 0.5655 - accuracy: 0.8017 - val_loss: 0.6386 - val_accuracy: 0.7668\n",
            "Epoch 24/40\n",
            "1875/1875 [==============================] - 2s 1ms/step - loss: 0.5819 - accuracy: 0.7963 - val_loss: 0.6356 - val_accuracy: 0.7869\n",
            "Epoch 25/40\n",
            "1875/1875 [==============================] - 3s 1ms/step - loss: 0.5810 - accuracy: 0.7977 - val_loss: 0.6481 - val_accuracy: 0.7865\n",
            "Epoch 26/40\n",
            "1875/1875 [==============================] - 2s 1ms/step - loss: 0.5960 - accuracy: 0.7901 - val_loss: 0.6997 - val_accuracy: 0.7802\n",
            "Epoch 27/40\n",
            "1875/1875 [==============================] - 2s 1ms/step - loss: 0.6101 - accuracy: 0.7870 - val_loss: 0.6124 - val_accuracy: 0.7917\n",
            "Epoch 28/40\n",
            "1875/1875 [==============================] - 3s 1ms/step - loss: 0.6178 - accuracy: 0.7846 - val_loss: 0.6137 - val_accuracy: 0.7962\n",
            "Epoch 29/40\n",
            "1875/1875 [==============================] - 2s 1ms/step - loss: 0.6357 - accuracy: 0.7771 - val_loss: 0.6655 - val_accuracy: 0.7621\n",
            "Epoch 30/40\n",
            "1875/1875 [==============================] - 2s 1ms/step - loss: 0.6664 - accuracy: 0.7673 - val_loss: 0.7274 - val_accuracy: 0.7454\n",
            "Epoch 31/40\n",
            "1875/1875 [==============================] - 3s 1ms/step - loss: 0.6815 - accuracy: 0.7611 - val_loss: 0.6861 - val_accuracy: 0.7527\n",
            "Epoch 32/40\n",
            "1875/1875 [==============================] - 2s 1ms/step - loss: 0.7031 - accuracy: 0.7570 - val_loss: 0.8097 - val_accuracy: 0.7441\n",
            "Epoch 33/40\n",
            "1875/1875 [==============================] - 2s 1ms/step - loss: 0.7765 - accuracy: 0.7337 - val_loss: 0.8163 - val_accuracy: 0.7702\n",
            "Epoch 34/40\n",
            "1875/1875 [==============================] - 2s 1ms/step - loss: 0.7721 - accuracy: 0.7409 - val_loss: 0.7519 - val_accuracy: 0.7000\n",
            "Epoch 35/40\n",
            "1875/1875 [==============================] - 2s 1ms/step - loss: 0.8270 - accuracy: 0.7169 - val_loss: 0.8102 - val_accuracy: 0.7342\n",
            "Epoch 36/40\n",
            "1875/1875 [==============================] - 2s 1ms/step - loss: 0.8899 - accuracy: 0.6934 - val_loss: 0.8824 - val_accuracy: 0.6822\n",
            "Epoch 37/40\n",
            "1875/1875 [==============================] - 2s 1ms/step - loss: 0.9549 - accuracy: 0.6611 - val_loss: 1.0329 - val_accuracy: 0.6430\n",
            "Epoch 38/40\n",
            "1875/1875 [==============================] - 2s 1ms/step - loss: 1.0223 - accuracy: 0.6282 - val_loss: 0.9631 - val_accuracy: 0.6314\n",
            "Epoch 39/40\n",
            "1875/1875 [==============================] - 2s 1ms/step - loss: 1.2757 - accuracy: 0.4810 - val_loss: 1.1771 - val_accuracy: 0.4974\n",
            "Epoch 40/40\n",
            "1875/1875 [==============================] - 2s 1ms/step - loss: 1.5858 - accuracy: 0.3265 - val_loss: 1.6092 - val_accuracy: 0.3048\n"
          ],
          "name": "stdout"
        }
      ]
    },
    {
      "cell_type": "code",
      "metadata": {
        "id": "Hi2YODTwQ1ie",
        "colab": {
          "base_uri": "https://localhost:8080/",
          "height": 299
        },
        "outputId": "75ff05c7-22dc-4183-80b0-2c9be301b60a"
      },
      "source": [
        "# Plot the learning rate decay curve\n",
        "import numpy as np\n",
        "import matplotlib.pyplot as plt\n",
        "lrs = 1e-3 * (10**(np.arange(40)/20))\n",
        "plt.semilogx(lrs, find_lr_history.history[\"loss\"]) # want the x-axis to be log-scale\n",
        "plt.xlabel(\"Learning rate\")\n",
        "plt.ylabel(\"Loss\")\n",
        "plt.title(\"Finding the ideal learning rate\");"
      ],
      "execution_count": 123,
      "outputs": [
        {
          "output_type": "display_data",
          "data": {
            "image/png": "[encoded data removed]",
            "text/plain": [
              "<Figure size 432x288 with 1 Axes>"
            ]
          },
          "metadata": {
            "tags": [],
            "needs_background": "light"
          }
        }
      ]
    },
    {
      "cell_type": "markdown",
      "metadata": {
        "id": "GqtOjggqWcfS"
      },
      "source": [
        "In this case, it looks like somewhere close to the default learning rate of the [Adam optimizer](https://www.tensorflow.org/api_docs/python/tf/keras/optimizers/Adam) (`0.001`) is the ideal learning rate.\n",
        "\n",
        "Let's refit a model using the ideal learning rate."
      ]
    },
    {
      "cell_type": "code",
      "metadata": {
        "id": "i9KFhAwKXjWd",
        "colab": {
          "base_uri": "https://localhost:8080/"
        },
        "outputId": "6d5020f5-5668-48ac-8013-da4cd73cb969"
      },
      "source": [
        "# Set random seed\n",
        "tf.random.set_seed(42)\n",
        "\n",
        "# Create the model\n",
        "model_14 = tf.keras.Sequential([\n",
        "  tf.keras.layers.Flatten(input_shape=(28, 28)), # input layer (we had to reshape 28x28 to 784)\n",
        "  tf.keras.layers.Dense(4, activation=\"relu\"),\n",
        "  tf.keras.layers.Dense(4, activation=\"relu\"),\n",
        "  tf.keras.layers.Dense(10, activation=\"softmax\") # output shape is 10, activation is softmax\n",
        "])\n",
        "\n",
        "# Compile the model\n",
        "model_14.compile(loss=tf.keras.losses.SparseCategoricalCrossentropy(),\n",
        "                 optimizer=tf.keras.optimizers.Adam(lr=0.001), # ideal learning rate (same as default)\n",
        "                 metrics=[\"accuracy\"])\n",
        "\n",
        "# Fit the model\n",
        "history = model_14.fit(train_data,\n",
        "                       train_labels,\n",
        "                       epochs=20,\n",
        "                       validation_data=(test_data, test_labels))"
      ],
      "execution_count": 124,
      "outputs": [
        {
          "output_type": "stream",
          "text": [
            "Epoch 1/20\n",
            "1875/1875 [==============================] - 3s 1ms/step - loss: 1.0348 - accuracy: 0.6474 - val_loss: 0.6937 - val_accuracy: 0.7617\n",
            "Epoch 2/20\n",
            "1875/1875 [==============================] - 2s 1ms/step - loss: 0.6376 - accuracy: 0.7757 - val_loss: 0.6400 - val_accuracy: 0.7820\n",
            "Epoch 3/20\n",
            "1875/1875 [==============================] - 2s 1ms/step - loss: 0.5942 - accuracy: 0.7914 - val_loss: 0.6247 - val_accuracy: 0.7783\n",
            "Epoch 4/20\n",
            "1875/1875 [==============================] - 2s 1ms/step - loss: 0.5750 - accuracy: 0.7979 - val_loss: 0.6078 - val_accuracy: 0.7881\n",
            "Epoch 5/20\n",
            "1875/1875 [==============================] - 3s 1ms/step - loss: 0.5641 - accuracy: 0.8006 - val_loss: 0.6169 - val_accuracy: 0.7881\n",
            "Epoch 6/20\n",
            "1875/1875 [==============================] - 2s 1ms/step - loss: 0.5544 - accuracy: 0.8043 - val_loss: 0.5855 - val_accuracy: 0.7951\n",
            "Epoch 7/20\n",
            "1875/1875 [==============================] - 2s 1ms/step - loss: 0.5488 - accuracy: 0.8063 - val_loss: 0.6097 - val_accuracy: 0.7836\n",
            "Epoch 8/20\n",
            "1875/1875 [==============================] - 2s 1ms/step - loss: 0.5428 - accuracy: 0.8077 - val_loss: 0.5787 - val_accuracy: 0.7971\n",
            "Epoch 9/20\n",
            "1875/1875 [==============================] - 2s 1ms/step - loss: 0.5373 - accuracy: 0.8097 - val_loss: 0.5698 - val_accuracy: 0.7977\n",
            "Epoch 10/20\n",
            "1875/1875 [==============================] - 2s 1ms/step - loss: 0.5360 - accuracy: 0.8124 - val_loss: 0.5658 - val_accuracy: 0.8014\n",
            "Epoch 11/20\n",
            "1875/1875 [==============================] - 2s 1ms/step - loss: 0.5311 - accuracy: 0.8130 - val_loss: 0.5714 - val_accuracy: 0.8002\n",
            "Epoch 12/20\n",
            "1875/1875 [==============================] - 2s 1ms/step - loss: 0.5284 - accuracy: 0.8132 - val_loss: 0.5626 - val_accuracy: 0.8027\n",
            "Epoch 13/20\n",
            "1875/1875 [==============================] - 2s 1ms/step - loss: 0.5271 - accuracy: 0.8138 - val_loss: 0.5619 - val_accuracy: 0.8041\n",
            "Epoch 14/20\n",
            "1875/1875 [==============================] - 3s 1ms/step - loss: 0.5249 - accuracy: 0.8143 - val_loss: 0.5718 - val_accuracy: 0.7991\n",
            "Epoch 15/20\n",
            "1875/1875 [==============================] - 2s 1ms/step - loss: 0.5231 - accuracy: 0.8148 - val_loss: 0.5706 - val_accuracy: 0.8024\n",
            "Epoch 16/20\n",
            "1875/1875 [==============================] - 2s 1ms/step - loss: 0.5203 - accuracy: 0.8162 - val_loss: 0.5731 - val_accuracy: 0.8023\n",
            "Epoch 17/20\n",
            "1875/1875 [==============================] - 2s 1ms/step - loss: 0.5191 - accuracy: 0.8176 - val_loss: 0.5594 - val_accuracy: 0.8030\n",
            "Epoch 18/20\n",
            "1875/1875 [==============================] - 2s 1ms/step - loss: 0.5176 - accuracy: 0.8157 - val_loss: 0.5582 - val_accuracy: 0.8053\n",
            "Epoch 19/20\n",
            "1875/1875 [==============================] - 2s 1ms/step - loss: 0.5156 - accuracy: 0.8169 - val_loss: 0.5644 - val_accuracy: 0.8007\n",
            "Epoch 20/20\n",
            "1875/1875 [==============================] - 2s 1ms/step - loss: 0.5146 - accuracy: 0.8177 - val_loss: 0.5660 - val_accuracy: 0.8075\n"
          ],
          "name": "stdout"
        }
      ]
    },
    {
      "cell_type": "markdown",
      "metadata": {
        "id": "1ODWXAlnWqri"
      },
      "source": [
        "Now we've got a model trained with a close-to-ideal learning rate and performing pretty well, we've got a couple of options.\n",
        "\n",
        "We could:\n",
        "* Evaluate its performance using other classification metrics (such as a [confusion matrix](https://scikit-learn.org/stable/auto_examples/model_selection/plot_confusion_matrix.html#sphx-glr-auto-examples-model-selection-plot-confusion-matrix-py) or [classification report](https://scikit-learn.org/stable/modules/generated/sklearn.metrics.classification_report.html)).\n",
        "* Assess some of its predictions (through visualizations).\n",
        "* Improve its accuracy (by training it for longer or changing the architecture).\n",
        "* Save and export it for use in an application.\n",
        "\n",
        "Let's go through the first two options.\n",
        "\n",
        "First we'll create a classification matrix to visualize its predictions across the different classes."
      ]
    },
    {
      "cell_type": "code",
      "metadata": {
        "id": "jK4zA47sYVp5"
      },
      "source": [
        "# Note: The following confusion matrix code is a remix of Scikit-Learn's \n",
        "# plot_confusion_matrix function - https://scikit-learn.org/stable/modules/generated/sklearn.metrics.plot_confusion_matrix.html\n",
        "# and Made with ML's introductory notebook - https://github.com/madewithml/basics/blob/master/notebooks/09_Multilayer_Perceptrons/09_TF_Multilayer_Perceptrons.ipynb\n",
        "import itertools\n",
        "from sklearn.metrics import confusion_matrix\n",
        "\n",
        "# needs a different title to sklearn's plot_confusion_matrix\n",
        "def make_confusion_matrix(y_true, y_pred, classes=None, figsize=(10, 10), text_size=15): \n",
        "  \"\"\"Makes a labelled confusion matrix comparing predictions and ground truth labels.\n",
        "\n",
        "  If classes is passed, confusion matrix will be labelled, if not, integer class values\n",
        "  will be used.\n",
        "\n",
        "  Args:\n",
        "    y_true: Array of truth labels (must be same shape as y_pred).\n",
        "    y_pred: Array of predicted labels (must be same shape as y_true).\n",
        "    classes: Array of class labels (e.g. string form). If `None`, integer labels are used.\n",
        "    figsize: Size of output figure (default=(10, 10)).\n",
        "    text_size: Size of output figure text (default=15).\n",
        "  \n",
        "  Returns:\n",
        "    A labelled confusion matrix plot comparing y_true and y_pred.\n",
        "\n",
        "  Example usage:\n",
        "    make_confusion_matrix(y_true=test_labels, # ground truth test labels\n",
        "                          y_pred=y_preds, # predicted labels\n",
        "                          classes=class_names, # array of class label names\n",
        "                          figsize=(15, 15),\n",
        "                          text_size=10)\n",
        "  \"\"\"  \n",
        "  # Create the confustion matrix\n",
        "  cm = confusion_matrix(y_true, y_pred)\n",
        "  cm_norm = cm.astype(\"float\") / cm.sum(axis=1)[:, np.newaxis] # normalize it\n",
        "  n_classes = cm.shape[0] # find the number of classes we're dealing with\n",
        "\n",
        "  # Plot the figure and make it pretty\n",
        "  fig, ax = plt.subplots(figsize=figsize)\n",
        "  cax = ax.matshow(cm, cmap=plt.cm.Blues) # colors will represent how 'correct' a class is, darker == better\n",
        "  fig.colorbar(cax)\n",
        "\n",
        "  # Are there a list of classes?\n",
        "  if classes:\n",
        "    labels = classes\n",
        "  else:\n",
        "    labels = np.arange(cm.shape[0])\n",
        "  \n",
        "  # Label the axes\n",
        "  ax.set(title=\"Confusion Matrix\",\n",
        "         xlabel=\"Predicted label\",\n",
        "         ylabel=\"True label\",\n",
        "         xticks=np.arange(n_classes), # create enough axis slots for each class\n",
        "         yticks=np.arange(n_classes), \n",
        "         xticklabels=labels, # axes will labeled with class names (if they exist) or ints\n",
        "         yticklabels=labels)\n",
        "  \n",
        "  # Make x-axis labels appear on bottom\n",
        "  ax.xaxis.set_label_position(\"bottom\")\n",
        "  ax.xaxis.tick_bottom()\n",
        "\n",
        "  # Set the threshold for different colors\n",
        "  threshold = (cm.max() + cm.min()) / 2.\n",
        "\n",
        "  # Plot the text on each cell\n",
        "  for i, j in itertools.product(range(cm.shape[0]), range(cm.shape[1])):\n",
        "    plt.text(j, i, f\"{cm[i, j]} ({cm_norm[i, j]*100:.1f}%)\",\n",
        "             horizontalalignment=\"center\",\n",
        "             color=\"white\" if cm[i, j] > threshold else \"black\",\n",
        "             size=text_size)"
      ],
      "execution_count": 125,
      "outputs": []
    },
    {
      "cell_type": "markdown",
      "metadata": {
        "id": "Mi5kNRyZdyXA"
      },
      "source": [
        "Since a confusion matrix compares the truth labels (`test_labels`) to the predicted labels, we have to make some predictions with our model."
      ]
    },
    {
      "cell_type": "code",
      "metadata": {
        "id": "HhxrXhrjbjja",
        "colab": {
          "base_uri": "https://localhost:8080/"
        },
        "outputId": "f16ad0f1-5656-4f99-c7cd-dbac9645a119"
      },
      "source": [
        "# Make predictions with the most recent model\n",
        "y_probs = model_14.predict(test_data) # \"probs\" is short for probabilities\n",
        "\n",
        "# View the first 5 predictions\n",
        "y_probs[:5]"
      ],
      "execution_count": 126,
      "outputs": [
        {
          "output_type": "execute_result",
          "data": {
            "text/plain": [
              "array([[8.5630336e-11, 3.5361509e-13, 2.6633865e-05, 4.6356046e-08,\n",
              "        5.0950021e-05, 9.6119225e-02, 8.1778381e-08, 9.1868617e-02,\n",
              "        4.0605213e-03, 8.0787390e-01],\n",
              "       [3.4278683e-06, 1.2899412e-16, 9.5989138e-01, 2.0516255e-07,\n",
              "        1.5329245e-02, 2.4532243e-13, 2.4142915e-02, 1.1383623e-28,\n",
              "        6.3271803e-04, 4.4789552e-08],\n",
              "       [6.1063176e-05, 9.9657673e-01, 4.3867061e-08, 3.3405994e-03,\n",
              "        1.3249499e-05, 1.4383491e-21, 8.2790693e-06, 7.3237471e-18,\n",
              "        5.4811817e-08, 4.9225428e-14],\n",
              "       [7.5031145e-05, 9.9053687e-01, 4.2528288e-07, 9.2231687e-03,\n",
              "        1.3623090e-04, 1.8276231e-18, 2.6808115e-05, 4.8124743e-14,\n",
              "        1.4521548e-06, 2.2211462e-11],\n",
              "       [7.2190031e-02, 1.5495797e-06, 2.5566885e-01, 1.0363121e-02,\n",
              "        4.3541368e-02, 1.1069260e-13, 6.1693019e-01, 6.7543135e-23,\n",
              "        1.3049162e-03, 1.2140360e-09]], dtype=float32)"
            ]
          },
          "metadata": {
            "tags": []
          },
          "execution_count": 126
        }
      ]
    },
    {
      "cell_type": "markdown",
      "metadata": {
        "id": "eP5zslXbf5ZY"
      },
      "source": [
        "Our model outputs a list of **prediction probabilities**, meaning, it outputs a number for how likely it thinks a particular class is to be the label.\n",
        "\n",
        "The higher the number in the prediction probabilities list, the more likely the model believes that is the right class.\n",
        "\n",
        "To find the highest value we can use the [`argmax()`](https://numpy.org/doc/stable/reference/generated/numpy.argmax.html) method."
      ]
    },
    {
      "cell_type": "code",
      "metadata": {
        "id": "hQvrJbbWf4Es",
        "colab": {
          "base_uri": "https://localhost:8080/"
        },
        "outputId": "5b182960-a934-4f7e-d91d-a17d87c2dfb3"
      },
      "source": [
        "# See the predicted class number and label for the first example\n",
        "y_probs[0].argmax(), class_names[y_probs[0].argmax()]"
      ],
      "execution_count": 127,
      "outputs": [
        {
          "output_type": "execute_result",
          "data": {
            "text/plain": [
              "(9, 'Ankle boot')"
            ]
          },
          "metadata": {
            "tags": []
          },
          "execution_count": 127
        }
      ]
    },
    {
      "cell_type": "markdown",
      "metadata": {
        "id": "BFPgnBCghrTz"
      },
      "source": [
        "Now let's do the same for all of the predictions."
      ]
    },
    {
      "cell_type": "code",
      "metadata": {
        "id": "ozUpeZU6g2An",
        "colab": {
          "base_uri": "https://localhost:8080/"
        },
        "outputId": "c816763e-fada-4fc7-b15c-4af266f781b7"
      },
      "source": [
        "# Convert all of the predictions from probabilities to labels\n",
        "y_preds = y_probs.argmax(axis=1)\n",
        "\n",
        "# View the first 10 prediction labels\n",
        "y_preds[:10]"
      ],
      "execution_count": 128,
      "outputs": [
        {
          "output_type": "execute_result",
          "data": {
            "text/plain": [
              "array([9, 2, 1, 1, 6, 1, 4, 6, 5, 7])"
            ]
          },
          "metadata": {
            "tags": []
          },
          "execution_count": 128
        }
      ]
    },
    {
      "cell_type": "markdown",
      "metadata": {
        "id": "47g1wNk6iYTd"
      },
      "source": [
        "Wonderful, now we've got our model's predictions in label form, let's create a confusion matrix to view them against the truth labels."
      ]
    },
    {
      "cell_type": "code",
      "metadata": {
        "id": "FBMSVSRqcU_m",
        "colab": {
          "base_uri": "https://localhost:8080/"
        },
        "outputId": "a43ab326-cecb-45de-f8e8-fa9fed7e404c"
      },
      "source": [
        "# Check out the non-prettified confusion matrix\n",
        "from sklearn.metrics import confusion_matrix\n",
        "confusion_matrix(y_true=test_labels, \n",
        "                 y_pred=y_preds)"
      ],
      "execution_count": 129,
      "outputs": [
        {
          "output_type": "execute_result",
          "data": {
            "text/plain": [
              "array([[696,   8,  25,  87,   9,   5, 160,   0,  10,   0],\n",
              "       [  2, 939,   2,  35,   9,   0,  13,   0,   0,   0],\n",
              "       [ 19,   2, 656,  10, 188,   0, 110,   0,  15,   0],\n",
              "       [ 39,  10,  10, 819,  55,   0,  47,   1,  19,   0],\n",
              "       [  0,   0,  95,  23, 800,   0,  73,   0,   7,   2],\n",
              "       [  0,   0,   1,   0,   0, 894,   0,  60,   7,  38],\n",
              "       [106,   4, 158,  57, 159,   1, 499,   0,  16,   0],\n",
              "       [  0,   0,   0,   0,   0,  31,   0, 936,   0,  33],\n",
              "       [  4,   1,  38,  15,   8,  12,   9,   5, 906,   2],\n",
              "       [  0,   0,   1,   0,   2,  15,   0,  51,   1, 930]])"
            ]
          },
          "metadata": {
            "tags": []
          },
          "execution_count": 129
        }
      ]
    },
    {
      "cell_type": "markdown",
      "metadata": {
        "id": "ql-TQxuYiqPl"
      },
      "source": [
        "That confusion matrix is hard to comprehend, let's make it prettier using the function we created before."
      ]
    },
    {
      "cell_type": "code",
      "metadata": {
        "id": "DLr6daZAbzRi",
        "colab": {
          "base_uri": "https://localhost:8080/",
          "height": 825
        },
        "outputId": "93fa74f4-0846-4c98-a7a0-fd9794a135a6"
      },
      "source": [
        "# Make a prettier confusion matrix\n",
        "make_confusion_matrix(y_true=test_labels, \n",
        "                      y_pred=y_preds,\n",
        "                      classes=class_names,\n",
        "                      figsize=(15, 15),\n",
        "                      text_size=10)"
      ],
      "execution_count": 130,
      "outputs": [
        {
          "output_type": "display_data",
          "data": {
            "image/png": "[encoded data removed]",
            "text/plain": [
              "<Figure size 1080x1080 with 2 Axes>"
            ]
          },
          "metadata": {
            "tags": [],
            "needs_background": "light"
          }
        }
      ]
    },
    {
      "cell_type": "markdown",
      "metadata": {
        "id": "tH3FhuGEjTu9"
      },
      "source": [
        "That looks much better! (one of my favourites sights in the world is a confusion matrix with dark squares down the diagonal)\n",
        "\n",
        "Except the results aren't as good as they could be...\n",
        "\n",
        "It looks like our model is getting confused between the `Shirt` and `T-shirt/top` classes (e.g. predicting `Shirt` when it's actually a `T-shirt/top`).\n",
        "\n",
        "> 🤔 **Question:** Does it make sense that our model is getting confused between the `Shirt` and `T-shirt/top` classes? Why do you think this might be? What's one way you could investigate?\n",
        "\n",
        "We've seen how our models predictions line up to the truth labels using a confusion matrix, but how about we visualize some?\n",
        "\n",
        "Let's create a function to plot a random image along with its prediction.\n",
        "\n",
        "> 🔑 **Note:** Often when working with images and other forms of visual data, it's a good idea to visualize as much as possible to develop a further understanding of the data and the outputs of your model."
      ]
    },
    {
      "cell_type": "code",
      "metadata": {
        "id": "2XIuAjgJri9e"
      },
      "source": [
        " import random\n",
        "\n",
        "# Create a function for plotting a random image along with its prediction\n",
        "def plot_random_image(model, images, true_labels, classes):\n",
        "  \"\"\"Picks a random image, plots it and labels it with a predicted and truth label.\n",
        "\n",
        "  Args:\n",
        "    model: a trained model (trained on data similar to what's in images).\n",
        "    images: a set of random images (in tensor form).\n",
        "    true_labels: array of ground truth labels for images.\n",
        "    classes: array of class names for images.\n",
        "  \n",
        "  Returns:\n",
        "    A plot of a random image from `images` with a predicted class label from `model`\n",
        "    as well as the truth class label from `true_labels`.\n",
        "  \"\"\" \n",
        "  # Setup random integer\n",
        "  i = random.randint(0, len(images))\n",
        "  \n",
        "  # Create predictions and targets\n",
        "  target_image = images[i]\n",
        "  pred_probs = model.predict(target_image.reshape(1, 28, 28)) # have to reshape to get into right size for model\n",
        "  pred_label = classes[pred_probs.argmax()]\n",
        "  true_label = classes[true_labels[i]]\n",
        "\n",
        "  # Plot the target image\n",
        "  plt.imshow(target_image, cmap=plt.cm.binary)\n",
        "\n",
        "  # Change the color of the titles depending on if the prediction is right or wrong\n",
        "  if pred_label == true_label:\n",
        "    color = \"green\"\n",
        "  else:\n",
        "    color = \"red\"\n",
        "\n",
        "  # Add xlabel information (prediction/true label)\n",
        "  plt.xlabel(\"Pred: {} {:2.0f}% (True: {})\".format(pred_label,\n",
        "                                                   100*tf.reduce_max(pred_probs),\n",
        "                                                   true_label),\n",
        "             color=color) # set the color to green or red"
      ],
      "execution_count": 131,
      "outputs": []
    },
    {
      "cell_type": "code",
      "metadata": {
        "id": "RAAIrpcEumyE",
        "colab": {
          "base_uri": "https://localhost:8080/",
          "height": 279
        },
        "outputId": "893c19ec-6618-4093-8a0c-4a4d402168bb"
      },
      "source": [
        "# Check out a random image as well as its prediction\n",
        "plot_random_image(model=model_13, \n",
        "                  images=test_data, \n",
        "                  true_labels=test_labels, \n",
        "                  classes=class_names)"
      ],
      "execution_count": 132,
      "outputs": [
        {
          "output_type": "display_data",
          "data": {
            "image/png": "[encoded data removed]",
            "text/plain": [
              "<Figure size 432x288 with 1 Axes>"
            ]
          },
          "metadata": {
            "tags": [],
            "needs_background": "light"
          }
        }
      ]
    },
    {
      "cell_type": "markdown",
      "metadata": {
        "id": "FNebpPbCw52S"
      },
      "source": [
        "After running the cell above a few times you'll start to get a visual understanding of the relationship between the model's predictions and the true labels.\n",
        "\n",
        "Did you figure out which predictions the model gets confused on?\n",
        "\n",
        "It seems to mix up classes which are similar, for example, `Sneaker` with `Ankle boot`.\n",
        "\n",
        "Looking at the images, you can see how this might be the case.\n",
        "\n",
        "The overall shape of a `Sneaker` and an `Ankle Boot` are similar.\n",
        "\n",
        "The overall shape might be one of the patterns the model has learned and so therefore when two images have a similar shape, their predictions get mixed up."
      ]
    },
    {
      "cell_type": "markdown",
      "metadata": {
        "id": "pOwM1rqhx6p3"
      },
      "source": [
        "## What patterns is our model learning?\n",
        "\n",
        "We've been talking a lot about how a neural network finds patterns in numbers, but what exactly do these patterns look like?\n",
        "\n",
        "Let's crack open one of our models and find out.\n",
        "\n",
        "First, we'll get a list of layers in our most recent model (`model_14`) using the `layers` attribute."
      ]
    },
    {
      "cell_type": "code",
      "metadata": {
        "id": "kcwMsgFuySTi",
        "colab": {
          "base_uri": "https://localhost:8080/"
        },
        "outputId": "c12b79c4-93f4-47a2-8937-f37661836f0d"
      },
      "source": [
        "# Find the layers of our most recent model\n",
        "model_14.layers"
      ],
      "execution_count": 133,
      "outputs": [
        {
          "output_type": "execute_result",
          "data": {
            "text/plain": [
              "[<tensorflow.python.keras.layers.core.Flatten at 0x7f1302518e80>,\n",
              " <tensorflow.python.keras.layers.core.Dense at 0x7f130a71b7f0>,\n",
              " <tensorflow.python.keras.layers.core.Dense at 0x7f1302692f60>,\n",
              " <tensorflow.python.keras.layers.core.Dense at 0x7f130d7134a8>]"
            ]
          },
          "metadata": {
            "tags": []
          },
          "execution_count": 133
        }
      ]
    },
    {
      "cell_type": "markdown",
      "metadata": {
        "id": "w9si0o-h4oO1"
      },
      "source": [
        "We can access a target layer using indexing."
      ]
    },
    {
      "cell_type": "code",
      "metadata": {
        "id": "DXuQmsNX1mGR",
        "colab": {
          "base_uri": "https://localhost:8080/"
        },
        "outputId": "b9eb1b7d-5e0f-43e0-dc89-b1f853db12cc"
      },
      "source": [
        "# Extract a particular layer\n",
        "model_14.layers[1]"
      ],
      "execution_count": 134,
      "outputs": [
        {
          "output_type": "execute_result",
          "data": {
            "text/plain": [
              "<tensorflow.python.keras.layers.core.Dense at 0x7f130a71b7f0>"
            ]
          },
          "metadata": {
            "tags": []
          },
          "execution_count": 134
        }
      ]
    },
    {
      "cell_type": "markdown",
      "metadata": {
        "id": "W6Cftaib4uG-"
      },
      "source": [
        "And we can find the patterns learned by a particular layer using the `get_weights()` method.\n",
        "\n",
        "The `get_weights()` method returns the **weights** (also known as a weights matrix) and biases (also known as a bias vector) of a particular layer."
      ]
    },
    {
      "cell_type": "code",
      "metadata": {
        "id": "WdmZy5xi1srE",
        "colab": {
          "base_uri": "https://localhost:8080/"
        },
        "outputId": "bcbb7ff1-e6d1-427e-dbdb-c73a56177e92"
      },
      "source": [
        "# Get the patterns of a layer in our network\n",
        "weights, biases = model_14.layers[1].get_weights()\n",
        "\n",
        "# Shape = 1 weight matrix the size of our input data (28x28) per neuron (4)\n",
        "weights, weights.shape"
      ],
      "execution_count": 135,
      "outputs": [
        {
          "output_type": "execute_result",
          "data": {
            "text/plain": [
              "(array([[ 0.7150263 , -0.06077094, -0.99763054, -1.048431  ],\n",
              "        [ 0.27732128, -0.47155392, -0.5291646 ,  0.02329262],\n",
              "        [ 0.775243  ,  0.540276  , -1.1288569 , -0.7426157 ],\n",
              "        ...,\n",
              "        [-0.39453438,  0.47628698, -0.22641574,  0.25505954],\n",
              "        [-0.4051576 ,  0.6181001 ,  0.23928389, -0.5038765 ],\n",
              "        [ 0.23884599,  0.11606929, -0.12131333,  0.04352435]],\n",
              "       dtype=float32), (784, 4))"
            ]
          },
          "metadata": {
            "tags": []
          },
          "execution_count": 135
        }
      ]
    },
    {
      "cell_type": "markdown",
      "metadata": {
        "id": "yCjuNSD73oG0"
      },
      "source": [
        "The weights matrix is the same shape as the input data, which in our case is 784 (28x28 pixels). And there's a copy of the weights matrix for each neuron the in the selected layer (our selected layer has 4 neurons).\n",
        "\n",
        "Each value in the weights matrix corresponds to how a particular value in the input data influences the network's decisions.\n",
        "\n",
        "These values start out as random numbers (they're set by the [`kernel_initializer` parameter](https://www.tensorflow.org/api_docs/python/tf/keras/layers/Dense) when creating a layer, the default is [`\"glorot_uniform\"`](https://www.tensorflow.org/api_docs/python/tf/keras/initializers/GlorotUniform)) and are then updated to better representative values of the data (non-random) by the neural network during training.\n",
        "\n",
        "![neural network supervised learning weight updates](https://raw.githubusercontent.com/mrdbourke/tensorflow-deep-learning/main/images/02-fashion-mnist-learning.png)\n",
        "*Example workflow of how a supervised neural network starts with random weights and updates them to better represent the data by looking at examples of ideal outputs.*\n",
        "\n",
        "Now let's check out the bias vector."
      ]
    },
    {
      "cell_type": "code",
      "metadata": {
        "id": "ndG-h2yz1z2_",
        "colab": {
          "base_uri": "https://localhost:8080/"
        },
        "outputId": "a1bda39c-5278-4bea-fccc-aa6352bbb7e7"
      },
      "source": [
        "# Shape = 1 bias per neuron (we use 4 neurons in the first layer)\n",
        "biases, biases.shape"
      ],
      "execution_count": 136,
      "outputs": [
        {
          "output_type": "execute_result",
          "data": {
            "text/plain": [
              "(array([ 2.4485605e-02, -6.1463297e-04, -2.7230164e-01,  8.1124890e-01],\n",
              "       dtype=float32), (4,))"
            ]
          },
          "metadata": {
            "tags": []
          },
          "execution_count": 136
        }
      ]
    },
    {
      "cell_type": "markdown",
      "metadata": {
        "id": "3JRQFh3U374U"
      },
      "source": [
        "Every neuron has a bias vector. Each of these is paired with a weight matrix.\n",
        "\n",
        "The bias values get initialized as zeroes by default (using the [`bias_initializer` parameter](https://www.tensorflow.org/api_docs/python/tf/keras/layers/Dense)).\n",
        "\n",
        "The bias vector dictates how much the patterns within the corresponding weights matrix should influence the next layer."
      ]
    },
    {
      "cell_type": "code",
      "metadata": {
        "id": "_QCUb7GeSGYF",
        "colab": {
          "base_uri": "https://localhost:8080/"
        },
        "outputId": "cf9b617d-e861-41ce-b066-203867030b56"
      },
      "source": [
        "# Can now calculate the number of paramters in our model\n",
        "model_14.summary()"
      ],
      "execution_count": 137,
      "outputs": [
        {
          "output_type": "stream",
          "text": [
            "Model: \"sequential_17\"\n",
            "_________________________________________________________________\n",
            "Layer (type)                 Output Shape              Param #   \n",
            "=================================================================\n",
            "flatten_3 (Flatten)          (None, 784)               0         \n",
            "_________________________________________________________________\n",
            "dense_43 (Dense)             (None, 4)                 3140      \n",
            "_________________________________________________________________\n",
            "dense_44 (Dense)             (None, 4)                 20        \n",
            "_________________________________________________________________\n",
            "dense_45 (Dense)             (None, 10)                50        \n",
            "=================================================================\n",
            "Total params: 3,210\n",
            "Trainable params: 3,210\n",
            "Non-trainable params: 0\n",
            "_________________________________________________________________\n"
          ],
          "name": "stdout"
        }
      ]
    },
    {
      "cell_type": "markdown",
      "metadata": {
        "id": "trRRZLIRyLXe"
      },
      "source": [
        "Now we've built a few deep learning models, it's a good time to point out the whole concept of inputs and outputs not only relates to a model as a whole but to *every* layer within a model.\n",
        "\n",
        "You might've already guessed this, but starting from the input layer, each subsequent layer's input is the output of the previous layer.\n",
        "\n",
        "We can see this clearly using the utility [`plot_model()`](https://www.tensorflow.org/api_docs/python/tf/keras/utils/plot_model)."
      ]
    },
    {
      "cell_type": "code",
      "metadata": {
        "colab": {
          "base_uri": "https://localhost:8080/",
          "height": 533
        },
        "id": "YJD0GqGl3NY0",
        "outputId": "6f334b3a-224f-41e5-972a-17ed25107434"
      },
      "source": [
        "from tensorflow.keras.utils import plot_model\n",
        "\n",
        "# See the inputs and outputs of each layer\n",
        "plot_model(model_14, show_shapes=True)"
      ],
      "execution_count": 139,
      "outputs": [
        {
          "output_type": "execute_result",
          "data": {
            "image/png": "[encoded data removed]",
            "text/plain": [
              "<IPython.core.display.Image object>"
            ]
          },
          "metadata": {
            "tags": []
          },
          "execution_count": 139
        }
      ]
    },
    {
      "cell_type": "markdown",
      "metadata": {
        "id": "OY5HO72ATJR4"
      },
      "source": [
        "# How a model learns (in brief)\n",
        "\n",
        "Alright, we've trained a bunch of models, but we've never really discussed what's going on under the hood. So how exactly does a model learn?\n",
        "\n",
        "A model learns by updating and improving its weight matrices and biases values every epoch (in our case, when we call the `fit()` fucntion).\n",
        "\n",
        "It does so by comparing the patterns its learned between the data and labels to the actual labels.\n",
        "\n",
        "If the current patterns (weight matrices and bias values) don't result in a desirable decrease in the loss function (higher loss means worse predictions), the optimizer tries to steer the model to update its patterns in the right way (using the real labels as a reference).\n",
        "\n",
        "This process of using the real labels as a reference to improve the model's predictions is called [**backpropagation**](https://en.wikipedia.org/wiki/Backpropagation).\n",
        "\n",
        "In other words, data and labels pass through a model (**forward pass**) and it attempts to learn the relationship between the data and labels. \n",
        "\n",
        "And if this learned relationship isn't close to the actual relationship or it could be improved, the model does so by going back through itself (**backward pass**) and tweaking its weights matrices and bias values to better represent the data.\n",
        "\n",
        "If all of this sounds confusing (and it's fine if it does, the above is a very succinct description), check out the resources in the extra-curriculum section for more."
      ]
    },
    {
      "cell_type": "markdown",
      "metadata": {
        "id": "LXmMG6fcpoIp"
      },
      "source": [
        "# Exercises 🛠\n",
        "\n",
        "1. Play with neural networks in the [TensorFlow Playground](https://playground.tensorflow.org/) for 10-minutes. Especially try different values of the learning, what happens when you decrease it? What happens when you increase it?\n",
        "2. Replicate the model pictured in the [TensorFlow Playground diagram](https://playground.tensorflow.org/#activation=relu&batchSize=10&dataset=circle&regDataset=reg-plane&learningRate=0.001&regularizationRate=0&noise=0&networkShape=6,6,6,6,6&seed=0.51287&showTestData=false&discretize=false&percTrainData=50&x=true&y=true&xTimesY=false&xSquared=false&ySquared=false&cosX=false&sinX=false&cosY=false&sinY=false&collectStats=false&problem=classification&initZero=false&hideText=false&regularization_hide=true&discretize_hide=true&regularizationRate_hide=true&percTrainData_hide=true&dataset_hide=true&problem_hide=true&noise_hide=true&batchSize_hide=true) below using TensorFlow code. Compile it using the Adam optimizer, binary crossentropy loss and accuracy metric. Once it's compiled check a summary of the model.\n",
        "![tensorflow playground example neural network](https://raw.githubusercontent.com/mrdbourke/tensorflow-deep-learning/main/images/02-tensorflow-playground-replication-exercise.png)\n",
        "*Try this network out for yourself on the [TensorFlow Playground website](https://playground.tensorflow.org/#activation=relu&batchSize=10&dataset=circle&regDataset=reg-plane&learningRate=0.001&regularizationRate=0&noise=0&networkShape=6,6,6,6,6&seed=0.51287&showTestData=false&discretize=false&percTrainData=50&x=true&y=true&xTimesY=false&xSquared=false&ySquared=false&cosX=false&sinX=false&cosY=false&sinY=false&collectStats=false&problem=classification&initZero=false&hideText=false&regularization_hide=true&discretize_hide=true&regularizationRate_hide=true&percTrainData_hide=true&dataset_hide=true&problem_hide=true&noise_hide=true&batchSize_hide=true). Hint: there are 5 hidden layers but the output layer isn't pictured, you'll have to decide what the output layer should be based on the input data.*\n",
        "3. Create a classification dataset using Scikit-Learn's [`make_moons()`](https://scikit-learn.org/stable/modules/generated/sklearn.datasets.make_moons.html) function, visualize it and then build a model to fit it at over 85% accuracy.\n",
        "4. Create a function (or write code) to visualize multiple image predictions for the fashion MNIST at the same time. Plot at least three different images and their prediciton labels at the same time. Hint: see the [classifcation tutorial in the TensorFlow documentation](https://www.tensorflow.org/tutorials/keras/classification) for ideas.\n",
        "5. Recreate [TensorFlow's](https://www.tensorflow.org/api_docs/python/tf/keras/activations/softmax) [softmax activation function](https://en.wikipedia.org/wiki/Softmax_function) in your own code. Make sure it can accept a tensor and return that tensor after having the softmax function applied to it.\n",
        "6. Train a model to get 88%+ accuracy on the fashion MNIST test set. Plot a confusion matrix to see the results after.\n",
        "7. Make a function to show an image of a certain class of the fashion MNIST dataset and make a prediction on it. For example, plot 3 images of the `T-shirt` class with their predictions.\n",
        "\n"
      ]
    },
    {
      "cell_type": "markdown",
      "metadata": {
        "id": "oksgPs-meGHj"
      },
      "source": [
        "# Extra curriculum 📖\n",
        "* Watch 3Blue1Brown's neural networks video 2: [*Gradient descent, how neural networks learn*](https://www.youtube.com/watch?v=IHZwWFHWa-w). After you're done, write 100 words about what you've learned.\n",
        "  * If you haven't already, watch video 1: [*But what is a Neural Network?*](https://youtu.be/aircAruvnKk). Note the activation function they talk about at the end.\n",
        "* Watch [MIT's introduction to deep learning lecture 1](https://youtu.be/njKP3FqW3Sk) (if you haven't already) to get an idea of the concepts behind using linear and non-linear functions.\n",
        "* Spend 1-hour reading [Michael Nielsen's Neural Networks and Deep Learning book](http://neuralnetworksanddeeplearning.com/index.html).\n",
        "* Read the [ML-Glossary documentation on activation functions](https://ml-cheatsheet.readthedocs.io/en/latest/activation_functions.html). Which one is your favourite?\n",
        "  * After you've read the ML-Glossary, see which activation functions are available in TensorFlow by searching \"tensorflow activation functions\"."
      ]
    }
  ]
}