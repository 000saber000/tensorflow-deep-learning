{
  "nbformat": 4,
  "nbformat_minor": 0,
  "metadata": {
    "colab": {
      "name": "10_time_series_forecasting_in_tensorflow.ipynb",
      "provenance": [],
      "collapsed_sections": [],
      "toc_visible": true,
      "authorship_tag": "ABX9TyOnnMrzOUjzRThgcoDvCZZP",
      "include_colab_link": true
    },
    "kernelspec": {
      "name": "python3",
      "display_name": "Python 3"
    },
    "language_info": {
      "name": "python"
    }
  },
  "cells": [
    {
      "cell_type": "markdown",
      "metadata": {
        "id": "view-in-github",
        "colab_type": "text"
      },
      "source": [
        "<a href=\"https://colab.research.google.com/github/mrdbourke/tensorflow-deep-learning/blob/main/10_time_series_forecasting_in_tensorflow.ipynb\" target=\"_parent\"><img src=\"https://colab.research.google.com/assets/colab-badge.svg\" alt=\"Open In Colab\"/></a>"
      ]
    },
    {
      "cell_type": "markdown",
      "metadata": {
        "id": "vlVtweEv7nAx"
      },
      "source": [
        "# Note: This notebook is a work in progress & will be updated continuously over the next week or so before it's ready - 26 May 2021\n",
        "\n",
        "# Time series forecasting in TensorFlow\n",
        "\n",
        "The goal of this notebook is to get you familiar with working with time series data.\n",
        "\n",
        "It won't cover all of the time series field but by the end you will get a fairly good overview of things to consider for time series problems...\n",
        "\n",
        "Outline:\n",
        "* Get data (a time series)\n",
        "* Format data\n",
        "  * Turn data into a windowed dataset\n",
        "  * Training/test sets for time series\n",
        "  * Univariate - Bitcoin's price history\n",
        "  * Multivariate - Bitcoin's price history + block size\n",
        "* Model data\n",
        "  * Baseline - naive forecasting\n",
        "  * Baseline 2 - random forest regressor - https://youtu.be/5qgk9QJ4rdQ \n",
        "  * Deep model - fully connected\n",
        "  * Sequence models\n",
        "    * LSTM\n",
        "    * Conv1D\n",
        "  * N-Beats algorithm - https://arxiv.org/pdf/1905.10437.pdf\n",
        "* Evaluating a time series model\n",
        "  * MAE\n",
        "  * MSE\n",
        "  * RMSE etc...\n",
        "* Uncertainty estimates\n",
        "  * Coconut uncertainty - epistemic uncertainty\n",
        "  * Subway uncertainty - aleatory uncertainty\n",
        "* Why forecasting is BS (turkey problem) - https://youtu.be/hRwimmE2wEk\n",
        "  * Open system: beware (like fortune telling), see Mark Saroufim's tweet - https://twitter.com/marksaroufim/status/1366871736604532739?s=20 \n",
        "  * Closed system: try it out \n",
        "* Exercises\n",
        "* Extra-curriculum\n",
        "  * Time series book - https://otexts.com/fpp2/accuracy.html \n"
      ]
    },
    {
      "cell_type": "markdown",
      "metadata": {
        "id": "ZdeV4DEeAjF2"
      },
      "source": [
        "## TODO: What is a time series problem?\n",
        "\n",
        "* Forecasting\n",
        "* Classification"
      ]
    },
    {
      "cell_type": "markdown",
      "metadata": {
        "id": "81ywkh0q8Apj"
      },
      "source": [
        "## TODO: Get data\n",
        "\n",
        "Let's predict the price of Bitcoin! Data source: https://www.coindesk.com/price/bitcoin\n",
        "\n",
        "> **Note:** This is not financial advice, as you'll see time series forecasting for stock market prices is actually quite terrible.\n",
        "\n",
        "See this tweet for reference: https://twitter.com/marksaroufim/status/1366871736604532739?s=20\n",
        "\n",
        "TODO (upload to Google Storage/GitHub): Data: https://www.dropbox.com/s/hoexgnrk44uco0a/BTC_USD_2013-10-01_2021-05-18-CoinDesk.csv?dl=0"
      ]
    },
    {
      "cell_type": "code",
      "metadata": {
        "colab": {
          "base_uri": "https://localhost:8080/"
        },
        "id": "mVEjK6ZHDqkQ",
        "outputId": "4fac3d24-b755-4f0d-8dcd-15b6b4895829"
      },
      "source": [
        "!wget https://www.dropbox.com/s/hoexgnrk44uco0a/BTC_USD_2013-10-01_2021-05-18-CoinDesk.csv"
      ],
      "execution_count": 35,
      "outputs": [
        {
          "output_type": "stream",
          "text": [
            "--2021-05-26 22:53:49--  https://www.dropbox.com/s/hoexgnrk44uco0a/BTC_USD_2013-10-01_2021-05-18-CoinDesk.csv\n",
            "Resolving www.dropbox.com (www.dropbox.com)... 162.125.5.18, 2620:100:601d:18::a27d:512\n",
            "Connecting to www.dropbox.com (www.dropbox.com)|162.125.5.18|:443... connected.\n",
            "HTTP request sent, awaiting response... 301 Moved Permanently\n",
            "Location: /s/raw/hoexgnrk44uco0a/BTC_USD_2013-10-01_2021-05-18-CoinDesk.csv [following]\n",
            "--2021-05-26 22:53:49--  https://www.dropbox.com/s/raw/hoexgnrk44uco0a/BTC_USD_2013-10-01_2021-05-18-CoinDesk.csv\n",
            "Reusing existing connection to www.dropbox.com:443.\n",
            "HTTP request sent, awaiting response... 302 Found\n",
            "Location: https://uc6f96409fe8c4d5d5558c4c784c.dl.dropboxusercontent.com/cd/0/inline/BPMm1-DvmpXQxhE699BI3cEpFToLpsQwVv07phOz4KDH6MSNfDxPHErPbApIkKUG0Zk6e8v4NczWXubZu-HMSJUqP59bB1FC2ejmOr1CPDMFaPg2DmRN58DlHUeQJ2_YsYWMJkR_DW1gUrk-OZEMhtl1/file# [following]\n",
            "--2021-05-26 22:53:50--  https://uc6f96409fe8c4d5d5558c4c784c.dl.dropboxusercontent.com/cd/0/inline/BPMm1-DvmpXQxhE699BI3cEpFToLpsQwVv07phOz4KDH6MSNfDxPHErPbApIkKUG0Zk6e8v4NczWXubZu-HMSJUqP59bB1FC2ejmOr1CPDMFaPg2DmRN58DlHUeQJ2_YsYWMJkR_DW1gUrk-OZEMhtl1/file\n",
            "Resolving uc6f96409fe8c4d5d5558c4c784c.dl.dropboxusercontent.com (uc6f96409fe8c4d5d5558c4c784c.dl.dropboxusercontent.com)... 162.125.5.15, 2620:100:601d:15::a27d:50f\n",
            "Connecting to uc6f96409fe8c4d5d5558c4c784c.dl.dropboxusercontent.com (uc6f96409fe8c4d5d5558c4c784c.dl.dropboxusercontent.com)|162.125.5.15|:443... connected.\n",
            "HTTP request sent, awaiting response... 200 OK\n",
            "Length: 178509 (174K) [text/plain]\n",
            "Saving to: ‘BTC_USD_2013-10-01_2021-05-18-CoinDesk.csv.2’\n",
            "\n",
            "BTC_USD_2013-10-01_ 100%[===================>] 174.33K  --.-KB/s    in 0.06s   \n",
            "\n",
            "2021-05-26 22:53:50 (3.06 MB/s) - ‘BTC_USD_2013-10-01_2021-05-18-CoinDesk.csv.2’ saved [178509/178509]\n",
            "\n"
          ],
          "name": "stdout"
        }
      ]
    },
    {
      "cell_type": "code",
      "metadata": {
        "colab": {
          "base_uri": "https://localhost:8080/",
          "height": 450
        },
        "id": "5FOrshVX_dUE",
        "outputId": "91286d23-7311-4b73-cdd4-ce70ed377f80"
      },
      "source": [
        "# Import with pandas \n",
        "import pandas as pd\n",
        "# Parse dates and set date column to index\n",
        "df = pd.read_csv(\"/content/BTC_USD_2013-10-01_2021-05-18-CoinDesk.csv\", \n",
        "                 parse_dates=[\"Date\"], \n",
        "                 index_col=[\"Date\"]) # parse the date column (tell pandas column 1 is a datetime)\n",
        "df"
      ],
      "execution_count": 36,
      "outputs": [
        {
          "output_type": "execute_result",
          "data": {
            "text/html": [
              "<div>\n",
              "<style scoped>\n",
              "    .dataframe tbody tr th:only-of-type {\n",
              "        vertical-align: middle;\n",
              "    }\n",
              "\n",
              "    .dataframe tbody tr th {\n",
              "        vertical-align: top;\n",
              "    }\n",
              "\n",
              "    .dataframe thead th {\n",
              "        text-align: right;\n",
              "    }\n",
              "</style>\n",
              "<table border=\"1\" class=\"dataframe\">\n",
              "  <thead>\n",
              "    <tr style=\"text-align: right;\">\n",
              "      <th></th>\n",
              "      <th>Currency</th>\n",
              "      <th>Closing Price (USD)</th>\n",
              "      <th>24h Open (USD)</th>\n",
              "      <th>24h High (USD)</th>\n",
              "      <th>24h Low (USD)</th>\n",
              "    </tr>\n",
              "    <tr>\n",
              "      <th>Date</th>\n",
              "      <th></th>\n",
              "      <th></th>\n",
              "      <th></th>\n",
              "      <th></th>\n",
              "      <th></th>\n",
              "    </tr>\n",
              "  </thead>\n",
              "  <tbody>\n",
              "    <tr>\n",
              "      <th>2013-10-01</th>\n",
              "      <td>BTC</td>\n",
              "      <td>123.654990</td>\n",
              "      <td>124.304660</td>\n",
              "      <td>124.751660</td>\n",
              "      <td>122.563490</td>\n",
              "    </tr>\n",
              "    <tr>\n",
              "      <th>2013-10-02</th>\n",
              "      <td>BTC</td>\n",
              "      <td>125.455000</td>\n",
              "      <td>123.654990</td>\n",
              "      <td>125.758500</td>\n",
              "      <td>123.633830</td>\n",
              "    </tr>\n",
              "    <tr>\n",
              "      <th>2013-10-03</th>\n",
              "      <td>BTC</td>\n",
              "      <td>108.584830</td>\n",
              "      <td>125.455000</td>\n",
              "      <td>125.665660</td>\n",
              "      <td>83.328330</td>\n",
              "    </tr>\n",
              "    <tr>\n",
              "      <th>2013-10-04</th>\n",
              "      <td>BTC</td>\n",
              "      <td>118.674660</td>\n",
              "      <td>108.584830</td>\n",
              "      <td>118.675000</td>\n",
              "      <td>107.058160</td>\n",
              "    </tr>\n",
              "    <tr>\n",
              "      <th>2013-10-05</th>\n",
              "      <td>BTC</td>\n",
              "      <td>121.338660</td>\n",
              "      <td>118.674660</td>\n",
              "      <td>121.936330</td>\n",
              "      <td>118.005660</td>\n",
              "    </tr>\n",
              "    <tr>\n",
              "      <th>...</th>\n",
              "      <td>...</td>\n",
              "      <td>...</td>\n",
              "      <td>...</td>\n",
              "      <td>...</td>\n",
              "      <td>...</td>\n",
              "    </tr>\n",
              "    <tr>\n",
              "      <th>2021-05-14</th>\n",
              "      <td>BTC</td>\n",
              "      <td>49764.132082</td>\n",
              "      <td>49596.778891</td>\n",
              "      <td>51448.798576</td>\n",
              "      <td>46294.720180</td>\n",
              "    </tr>\n",
              "    <tr>\n",
              "      <th>2021-05-15</th>\n",
              "      <td>BTC</td>\n",
              "      <td>50032.693137</td>\n",
              "      <td>49717.354353</td>\n",
              "      <td>51578.312545</td>\n",
              "      <td>48944.346536</td>\n",
              "    </tr>\n",
              "    <tr>\n",
              "      <th>2021-05-16</th>\n",
              "      <td>BTC</td>\n",
              "      <td>47885.625255</td>\n",
              "      <td>49926.035067</td>\n",
              "      <td>50690.802950</td>\n",
              "      <td>47005.102292</td>\n",
              "    </tr>\n",
              "    <tr>\n",
              "      <th>2021-05-17</th>\n",
              "      <td>BTC</td>\n",
              "      <td>45604.615754</td>\n",
              "      <td>46805.537852</td>\n",
              "      <td>49670.414174</td>\n",
              "      <td>43868.638969</td>\n",
              "    </tr>\n",
              "    <tr>\n",
              "      <th>2021-05-18</th>\n",
              "      <td>BTC</td>\n",
              "      <td>43144.471291</td>\n",
              "      <td>46439.336570</td>\n",
              "      <td>46622.853437</td>\n",
              "      <td>42102.346430</td>\n",
              "    </tr>\n",
              "  </tbody>\n",
              "</table>\n",
              "<p>2787 rows × 5 columns</p>\n",
              "</div>"
            ],
            "text/plain": [
              "           Currency  Closing Price (USD)  ...  24h High (USD)  24h Low (USD)\n",
              "Date                                      ...                               \n",
              "2013-10-01      BTC           123.654990  ...      124.751660     122.563490\n",
              "2013-10-02      BTC           125.455000  ...      125.758500     123.633830\n",
              "2013-10-03      BTC           108.584830  ...      125.665660      83.328330\n",
              "2013-10-04      BTC           118.674660  ...      118.675000     107.058160\n",
              "2013-10-05      BTC           121.338660  ...      121.936330     118.005660\n",
              "...             ...                  ...  ...             ...            ...\n",
              "2021-05-14      BTC         49764.132082  ...    51448.798576   46294.720180\n",
              "2021-05-15      BTC         50032.693137  ...    51578.312545   48944.346536\n",
              "2021-05-16      BTC         47885.625255  ...    50690.802950   47005.102292\n",
              "2021-05-17      BTC         45604.615754  ...    49670.414174   43868.638969\n",
              "2021-05-18      BTC         43144.471291  ...    46622.853437   42102.346430\n",
              "\n",
              "[2787 rows x 5 columns]"
            ]
          },
          "metadata": {
            "tags": []
          },
          "execution_count": 36
        }
      ]
    },
    {
      "cell_type": "code",
      "metadata": {
        "colab": {
          "base_uri": "https://localhost:8080/"
        },
        "id": "Z-YoeINjCzJ_",
        "outputId": "9406967c-7d81-4364-bc0a-84c56e3f3f24"
      },
      "source": [
        "df.info()"
      ],
      "execution_count": 37,
      "outputs": [
        {
          "output_type": "stream",
          "text": [
            "<class 'pandas.core.frame.DataFrame'>\n",
            "DatetimeIndex: 2787 entries, 2013-10-01 to 2021-05-18\n",
            "Data columns (total 5 columns):\n",
            " #   Column               Non-Null Count  Dtype  \n",
            "---  ------               --------------  -----  \n",
            " 0   Currency             2787 non-null   object \n",
            " 1   Closing Price (USD)  2787 non-null   float64\n",
            " 2   24h Open (USD)       2787 non-null   float64\n",
            " 3   24h High (USD)       2787 non-null   float64\n",
            " 4   24h Low (USD)        2787 non-null   float64\n",
            "dtypes: float64(4), object(1)\n",
            "memory usage: 130.6+ KB\n"
          ],
          "name": "stdout"
        }
      ]
    },
    {
      "cell_type": "code",
      "metadata": {
        "colab": {
          "base_uri": "https://localhost:8080/"
        },
        "id": "XP3cN0uvlxhi",
        "outputId": "be788630-69ae-4fdd-e1c0-e44a06e58eba"
      },
      "source": [
        "# TODO: time series often may not have very many samples (e.g. monthly = only 12 per year, daily = 365 per year... etc)\n",
        "# Deep learning algorithms usually flourish with lots of data (1000's of samples)\n",
        "len(df)"
      ],
      "execution_count": 38,
      "outputs": [
        {
          "output_type": "execute_result",
          "data": {
            "text/plain": [
              "2787"
            ]
          },
          "metadata": {
            "tags": []
          },
          "execution_count": 38
        }
      ]
    },
    {
      "cell_type": "code",
      "metadata": {
        "colab": {
          "base_uri": "https://localhost:8080/",
          "height": 235
        },
        "id": "QxoNCv2NCuLY",
        "outputId": "898e4fde-32de-4089-a42f-51c380c00c0c"
      },
      "source": [
        "# Only want closing price\n",
        "bitcoin_prices = pd.DataFrame(df[\"Closing Price (USD)\"]).rename(columns={\"Closing Price (USD)\": \"Price\"})\n",
        "bitcoin_prices.head()"
      ],
      "execution_count": 39,
      "outputs": [
        {
          "output_type": "execute_result",
          "data": {
            "text/html": [
              "<div>\n",
              "<style scoped>\n",
              "    .dataframe tbody tr th:only-of-type {\n",
              "        vertical-align: middle;\n",
              "    }\n",
              "\n",
              "    .dataframe tbody tr th {\n",
              "        vertical-align: top;\n",
              "    }\n",
              "\n",
              "    .dataframe thead th {\n",
              "        text-align: right;\n",
              "    }\n",
              "</style>\n",
              "<table border=\"1\" class=\"dataframe\">\n",
              "  <thead>\n",
              "    <tr style=\"text-align: right;\">\n",
              "      <th></th>\n",
              "      <th>Price</th>\n",
              "    </tr>\n",
              "    <tr>\n",
              "      <th>Date</th>\n",
              "      <th></th>\n",
              "    </tr>\n",
              "  </thead>\n",
              "  <tbody>\n",
              "    <tr>\n",
              "      <th>2013-10-01</th>\n",
              "      <td>123.65499</td>\n",
              "    </tr>\n",
              "    <tr>\n",
              "      <th>2013-10-02</th>\n",
              "      <td>125.45500</td>\n",
              "    </tr>\n",
              "    <tr>\n",
              "      <th>2013-10-03</th>\n",
              "      <td>108.58483</td>\n",
              "    </tr>\n",
              "    <tr>\n",
              "      <th>2013-10-04</th>\n",
              "      <td>118.67466</td>\n",
              "    </tr>\n",
              "    <tr>\n",
              "      <th>2013-10-05</th>\n",
              "      <td>121.33866</td>\n",
              "    </tr>\n",
              "  </tbody>\n",
              "</table>\n",
              "</div>"
            ],
            "text/plain": [
              "                Price\n",
              "Date                 \n",
              "2013-10-01  123.65499\n",
              "2013-10-02  125.45500\n",
              "2013-10-03  108.58483\n",
              "2013-10-04  118.67466\n",
              "2013-10-05  121.33866"
            ]
          },
          "metadata": {
            "tags": []
          },
          "execution_count": 39
        }
      ]
    },
    {
      "cell_type": "code",
      "metadata": {
        "colab": {
          "base_uri": "https://localhost:8080/"
        },
        "id": "Y0CAu0PTFT5R",
        "outputId": "78551f2f-63e1-4703-da5d-37980e14be97"
      },
      "source": [
        "bitcoin_prices.info()"
      ],
      "execution_count": 40,
      "outputs": [
        {
          "output_type": "stream",
          "text": [
            "<class 'pandas.core.frame.DataFrame'>\n",
            "DatetimeIndex: 2787 entries, 2013-10-01 to 2021-05-18\n",
            "Data columns (total 1 columns):\n",
            " #   Column  Non-Null Count  Dtype  \n",
            "---  ------  --------------  -----  \n",
            " 0   Price   2787 non-null   float64\n",
            "dtypes: float64(1)\n",
            "memory usage: 43.5 KB\n"
          ],
          "name": "stdout"
        }
      ]
    },
    {
      "cell_type": "code",
      "metadata": {
        "colab": {
          "base_uri": "https://localhost:8080/",
          "height": 442
        },
        "id": "CfkhZhmCEyUe",
        "outputId": "b5395880-a73c-4d1b-eda3-8f6ac243b805"
      },
      "source": [
        "bitcoin_prices.plot(figsize=(10, 7));"
      ],
      "execution_count": 41,
      "outputs": [
        {
          "output_type": "display_data",
          "data": {
            "image/png": "[encoded data removed]",
            "text/plain": [
              "<Figure size 720x504 with 1 Axes>"
            ]
          },
          "metadata": {
            "tags": [],
            "needs_background": "light"
          }
        }
      ]
    },
    {
      "cell_type": "code",
      "metadata": {
        "colab": {
          "base_uri": "https://localhost:8080/",
          "height": 235
        },
        "id": "v-hEaaGjePVD",
        "outputId": "04b38105-a9e2-4e82-931d-702f9c4ab59f"
      },
      "source": [
        "bitcoin_prices.head()"
      ],
      "execution_count": 42,
      "outputs": [
        {
          "output_type": "execute_result",
          "data": {
            "text/html": [
              "<div>\n",
              "<style scoped>\n",
              "    .dataframe tbody tr th:only-of-type {\n",
              "        vertical-align: middle;\n",
              "    }\n",
              "\n",
              "    .dataframe tbody tr th {\n",
              "        vertical-align: top;\n",
              "    }\n",
              "\n",
              "    .dataframe thead th {\n",
              "        text-align: right;\n",
              "    }\n",
              "</style>\n",
              "<table border=\"1\" class=\"dataframe\">\n",
              "  <thead>\n",
              "    <tr style=\"text-align: right;\">\n",
              "      <th></th>\n",
              "      <th>Price</th>\n",
              "    </tr>\n",
              "    <tr>\n",
              "      <th>Date</th>\n",
              "      <th></th>\n",
              "    </tr>\n",
              "  </thead>\n",
              "  <tbody>\n",
              "    <tr>\n",
              "      <th>2013-10-01</th>\n",
              "      <td>123.65499</td>\n",
              "    </tr>\n",
              "    <tr>\n",
              "      <th>2013-10-02</th>\n",
              "      <td>125.45500</td>\n",
              "    </tr>\n",
              "    <tr>\n",
              "      <th>2013-10-03</th>\n",
              "      <td>108.58483</td>\n",
              "    </tr>\n",
              "    <tr>\n",
              "      <th>2013-10-04</th>\n",
              "      <td>118.67466</td>\n",
              "    </tr>\n",
              "    <tr>\n",
              "      <th>2013-10-05</th>\n",
              "      <td>121.33866</td>\n",
              "    </tr>\n",
              "  </tbody>\n",
              "</table>\n",
              "</div>"
            ],
            "text/plain": [
              "                Price\n",
              "Date                 \n",
              "2013-10-01  123.65499\n",
              "2013-10-02  125.45500\n",
              "2013-10-03  108.58483\n",
              "2013-10-04  118.67466\n",
              "2013-10-05  121.33866"
            ]
          },
          "metadata": {
            "tags": []
          },
          "execution_count": 42
        }
      ]
    },
    {
      "cell_type": "markdown",
      "metadata": {
        "id": "O2C1JsHUPYGG"
      },
      "source": [
        "### Importing time series as a CSV"
      ]
    },
    {
      "cell_type": "code",
      "metadata": {
        "colab": {
          "base_uri": "https://localhost:8080/"
        },
        "id": "UkTvwP2DCuGK",
        "outputId": "0cea16d8-8ecc-4bfa-a482-e70462de79d7"
      },
      "source": [
        "# Importing with Python CSV - https://realpython.com/python-csv/\n",
        "import csv\n",
        "from datetime import datetime\n",
        "\n",
        "timesteps = []\n",
        "btc_price = []\n",
        "with open(\"/content/BTC_USD_2013-10-01_2021-05-18-CoinDesk.csv\", \"r\") as f:\n",
        "  csv_reader = csv.reader(f, delimiter=\",\")\n",
        "  next(csv_reader) # skip first line\n",
        "  for line in csv_reader:\n",
        "    timesteps.append(datetime.strptime(line[1], \"%Y-%m-%d\")) # get the dates as dates (not strings)\n",
        "    btc_price.append(float(line[2])) # get the closing price as float\n",
        "\n",
        "# View first 10\n",
        "timesteps[:10], btc_price[:10]"
      ],
      "execution_count": 43,
      "outputs": [
        {
          "output_type": "execute_result",
          "data": {
            "text/plain": [
              "([datetime.datetime(2013, 10, 1, 0, 0),\n",
              "  datetime.datetime(2013, 10, 2, 0, 0),\n",
              "  datetime.datetime(2013, 10, 3, 0, 0),\n",
              "  datetime.datetime(2013, 10, 4, 0, 0),\n",
              "  datetime.datetime(2013, 10, 5, 0, 0),\n",
              "  datetime.datetime(2013, 10, 6, 0, 0),\n",
              "  datetime.datetime(2013, 10, 7, 0, 0),\n",
              "  datetime.datetime(2013, 10, 8, 0, 0),\n",
              "  datetime.datetime(2013, 10, 9, 0, 0),\n",
              "  datetime.datetime(2013, 10, 10, 0, 0)],\n",
              " [123.65499,\n",
              "  125.455,\n",
              "  108.58483,\n",
              "  118.67466,\n",
              "  121.33866,\n",
              "  120.65533,\n",
              "  121.795,\n",
              "  123.033,\n",
              "  124.049,\n",
              "  125.96116])"
            ]
          },
          "metadata": {
            "tags": []
          },
          "execution_count": 43
        }
      ]
    },
    {
      "cell_type": "code",
      "metadata": {
        "colab": {
          "base_uri": "https://localhost:8080/",
          "height": 442
        },
        "id": "bTSX7RZ9Cytj",
        "outputId": "d8cc683d-5cab-4d7c-8c26-3a3ccd66b17e"
      },
      "source": [
        "# Plot from CSV\n",
        "import matplotlib.pyplot as plt\n",
        "import numpy as np\n",
        "plt.figure(figsize=(10, 7))\n",
        "plt.plot(timesteps, np.array(btc_price))\n",
        "plt.xlabel(\"Date\")\n",
        "plt.ylabel(\"BTC Price\");"
      ],
      "execution_count": 44,
      "outputs": [
        {
          "output_type": "display_data",
          "data": {
            "image/png": "[encoded data removed]",
            "text/plain": [
              "<Figure size 720x504 with 1 Axes>"
            ]
          },
          "metadata": {
            "tags": [],
            "needs_background": "light"
          }
        }
      ]
    },
    {
      "cell_type": "markdown",
      "metadata": {
        "id": "_nfP7i9R_dOp"
      },
      "source": [
        "## TODO: Format data \n",
        "\n",
        "* Turn data into a windowed dataset\n",
        "* Training/test sets for time series\n",
        "* Univariate - Bitcoin's price history\n",
        "* Multivariate - Bitcoin's price history + block size"
      ]
    },
    {
      "cell_type": "markdown",
      "metadata": {
        "id": "prkQhgiHNOKd"
      },
      "source": [
        "### TODO: Create train & test sets for time series\n",
        "\n",
        "* Note: cannot do random split, time series will buckle under this (using future values in the past)\n",
        "* Need to make train set: values from past, test set: values from \"future\""
      ]
    },
    {
      "cell_type": "code",
      "metadata": {
        "colab": {
          "base_uri": "https://localhost:8080/"
        },
        "id": "wxQbuGVTRFKX",
        "outputId": "0327397b-d5d9-4ee6-e778-c779f4e3d164"
      },
      "source": [
        "# Get bitcoin date array\n",
        "timesteps = bitcoin_prices.index.to_numpy()\n",
        "prices = bitcoin_prices[\"Price\"].to_numpy()\n",
        "\n",
        "timesteps[:10], prices[:10]"
      ],
      "execution_count": 45,
      "outputs": [
        {
          "output_type": "execute_result",
          "data": {
            "text/plain": [
              "(array(['2013-10-01T00:00:00.000000000', '2013-10-02T00:00:00.000000000',\n",
              "        '2013-10-03T00:00:00.000000000', '2013-10-04T00:00:00.000000000',\n",
              "        '2013-10-05T00:00:00.000000000', '2013-10-06T00:00:00.000000000',\n",
              "        '2013-10-07T00:00:00.000000000', '2013-10-08T00:00:00.000000000',\n",
              "        '2013-10-09T00:00:00.000000000', '2013-10-10T00:00:00.000000000'],\n",
              "       dtype='datetime64[ns]'),\n",
              " array([123.65499, 125.455  , 108.58483, 118.67466, 121.33866, 120.65533,\n",
              "        121.795  , 123.033  , 124.049  , 125.96116]))"
            ]
          },
          "metadata": {
            "tags": []
          },
          "execution_count": 45
        }
      ]
    },
    {
      "cell_type": "code",
      "metadata": {
        "colab": {
          "base_uri": "https://localhost:8080/"
        },
        "id": "eGY7hTfyNLZ1",
        "outputId": "18155a95-8fb4-488b-de71-03266710b2ac"
      },
      "source": [
        "# Wrong way to make train/test sets for time series\n",
        "from sklearn.model_selection import train_test_split \n",
        "\n",
        "X_train, X_test, y_train, y_test = train_test_split(timesteps, # dates\n",
        "                                                    prices, # prices\n",
        "                                                    test_size=0.2,\n",
        "                                                    random_state=42)\n",
        "X_train.shape, X_test.shape, y_train.shape, y_test.shape "
      ],
      "execution_count": 46,
      "outputs": [
        {
          "output_type": "execute_result",
          "data": {
            "text/plain": [
              "((2229,), (558,), (2229,), (558,))"
            ]
          },
          "metadata": {
            "tags": []
          },
          "execution_count": 46
        }
      ]
    },
    {
      "cell_type": "code",
      "metadata": {
        "colab": {
          "base_uri": "https://localhost:8080/",
          "height": 442
        },
        "id": "cvH_0RvSNLWm",
        "outputId": "ecaed16e-2ac9-456a-badd-6c76cc389404"
      },
      "source": [
        "# Let's plot wrong train and test splits\n",
        "plt.figure(figsize=(10, 7))\n",
        "plt.scatter(X_train, y_train, s=5, label=\"Train data\")\n",
        "plt.scatter(X_test, y_test, s=5, label=\"Test data\")\n",
        "plt.xlabel(\"Date\")\n",
        "plt.ylabel(\"BTC Price\")\n",
        "plt.legend()\n",
        "plt.show();"
      ],
      "execution_count": 47,
      "outputs": [
        {
          "output_type": "display_data",
          "data": {
            "image/png": "[encoded data removed]",
            "text/plain": [
              "<Figure size 720x504 with 1 Axes>"
            ]
          },
          "metadata": {
            "tags": [],
            "needs_background": "light"
          }
        }
      ]
    },
    {
      "cell_type": "markdown",
      "metadata": {
        "id": "OK9sORtjRh5z"
      },
      "source": [
        "* TODO: Note: time series forecasting can often have many less data points than traditional deep learning projects (e.g. the entire history of BTC daily price data = only ~3000 samples)\n",
        "\n",
        "* TODO: What kind of steps should we predict? E.g. 80/20 split is that realisitic? You may want to use all of the data up until the last week..."
      ]
    },
    {
      "cell_type": "code",
      "metadata": {
        "colab": {
          "base_uri": "https://localhost:8080/"
        },
        "id": "lpEVKyXANLT4",
        "outputId": "d529a4ea-cd83-496b-af6e-72123cbcc373"
      },
      "source": [
        "# Create train and test splits the right way for time series data\n",
        "split_size = int(0.8 * len(prices)) # 80% train, 20% test\n",
        "\n",
        "# Create train data splits\n",
        "X_train, y_train = timesteps[:split_size], prices[:split_size]\n",
        "\n",
        "# Create test data splits\n",
        "X_test, y_test = timesteps[split_size:], prices[split_size:]\n",
        "\n",
        "X_train.shape, X_test.shape, y_train.shape, y_test.shape"
      ],
      "execution_count": 48,
      "outputs": [
        {
          "output_type": "execute_result",
          "data": {
            "text/plain": [
              "((2229,), (558,), (2229,), (558,))"
            ]
          },
          "metadata": {
            "tags": []
          },
          "execution_count": 48
        }
      ]
    },
    {
      "cell_type": "code",
      "metadata": {
        "colab": {
          "base_uri": "https://localhost:8080/",
          "height": 442
        },
        "id": "L9QImNlhOQuS",
        "outputId": "910d35fd-6e1f-4b8f-bb0f-1041934b33d8"
      },
      "source": [
        "# Plot correctly made splits\n",
        "plt.figure(figsize=(10, 7))\n",
        "plt.scatter(X_train, y_train, s=5, label=\"Train data\")\n",
        "plt.scatter(X_test, y_test, s=5, label=\"Test data\")\n",
        "plt.xlabel(\"Date\")\n",
        "plt.ylabel(\"BTC Price\")\n",
        "plt.legend()\n",
        "plt.show();"
      ],
      "execution_count": 49,
      "outputs": [
        {
          "output_type": "display_data",
          "data": {
            "image/png": "[encoded data removed]",
            "text/plain": [
              "<Figure size 720x504 with 1 Axes>"
            ]
          },
          "metadata": {
            "tags": [],
            "needs_background": "light"
          }
        }
      ]
    },
    {
      "cell_type": "markdown",
      "metadata": {
        "id": "sGUelYVKCybB"
      },
      "source": [
        "### TODO: Create a plotting function\n",
        "\n",
        "Rather than retyping `matplotlib` commands to continuously plot data, let's make a plotting function we can reuse later."
      ]
    },
    {
      "cell_type": "code",
      "metadata": {
        "id": "trkvizA0C6vc"
      },
      "source": [
        "# Create a function to plot time series data\n",
        "def plot_time_series(timesteps, values, format='-', start=0, end=None, label=None):\n",
        "  # Plot the series\n",
        "  plt.plot(timesteps[start:end], values[start:end], format, label=label)\n",
        "  plt.xlabel(\"Time\")\n",
        "  plt.ylabel(\"BTC Price\")\n",
        "  if label:\n",
        "    plt.legend(fontsize=14) # make label bigger\n",
        "  plt.grid(True)"
      ],
      "execution_count": 50,
      "outputs": []
    },
    {
      "cell_type": "code",
      "metadata": {
        "colab": {
          "base_uri": "https://localhost:8080/",
          "height": 442
        },
        "id": "6TyFY1cGC_sw",
        "outputId": "91bd01f1-f53d-4c82-d38e-1e50b1d1453a"
      },
      "source": [
        "# Try out our plotting function\n",
        "plt.figure(figsize=(10, 7))\n",
        "plot_time_series(timesteps=X_train, values=y_train, format=\".\", label=\"Train data\")\n",
        "plot_time_series(timesteps=X_test, values=y_test, format=\".\", label=\"Test data\")"
      ],
      "execution_count": 51,
      "outputs": [
        {
          "output_type": "display_data",
          "data": {
            "image/png": "[encoded data removed]",
            "text/plain": [
              "<Figure size 720x504 with 1 Axes>"
            ]
          },
          "metadata": {
            "tags": [],
            "needs_background": "light"
          }
        }
      ]
    },
    {
      "cell_type": "markdown",
      "metadata": {
        "id": "cwSpQQRl_dHb"
      },
      "source": [
        "## TODO: Model data\n",
        "\n",
        "* Baseline - naive forecasting\n",
        "* Baseline 2 - decision forest - https://www.tensorflow.org/decision_forests/tutorials/beginner_colab\n",
        "* Deep model - fully connected\n",
        "  * Fully connected with different size window/horizon\n",
        "* Sequence models\n",
        "  * LSTM\n",
        "  * Conv1D\n",
        "* N-Beats algorithm - https://arxiv.org/pdf/1905.10437.pdf"
      ]
    },
    {
      "cell_type": "markdown",
      "metadata": {
        "id": "JO1YAv7w_dE7"
      },
      "source": [
        "### Model 0: Naive forecast (baseline)\n",
        "\n",
        "Naive forecast = Use the previous timestep to predict the next timestep\n",
        "\n",
        "$$\\hat{y}_{t} = y_{t-1}$$ "
      ]
    },
    {
      "cell_type": "code",
      "metadata": {
        "colab": {
          "base_uri": "https://localhost:8080/"
        },
        "id": "nCKGUO4OVos9",
        "outputId": "cd9f1524-e0de-4268-86b8-f47ecfba8a78"
      },
      "source": [
        "naive_forecast = y_test[:-1]\n",
        "naive_forecast[:10]"
      ],
      "execution_count": 52,
      "outputs": [
        {
          "output_type": "execute_result",
          "data": {
            "text/plain": [
              "array([9226.48582088, 8794.35864452, 8798.04205463, 9081.18687849,\n",
              "       8711.53433917, 8760.89271814, 8749.52059102, 8656.97092235,\n",
              "       8500.64355816, 8469.2608989 ])"
            ]
          },
          "metadata": {
            "tags": []
          },
          "execution_count": 52
        }
      ]
    },
    {
      "cell_type": "code",
      "metadata": {
        "colab": {
          "base_uri": "https://localhost:8080/",
          "height": 442
        },
        "id": "a0NLHXDhWDX-",
        "outputId": "ba1f58eb-8512-480b-f670-fbbd698472b2"
      },
      "source": [
        "# Plot naive forecast\n",
        "plt.figure(figsize=(10, 7))\n",
        "plot_time_series(timesteps=X_train, values=y_train, format=\".\", label=\"Train data\")\n",
        "plot_time_series(timesteps=X_test, values=y_test, format=\".\", label=\"Test data\")\n",
        "plot_time_series(timesteps=X_test[1:], values=naive_forecast, label=\"Naive forecast\");"
      ],
      "execution_count": 53,
      "outputs": [
        {
          "output_type": "display_data",
          "data": {
            "image/png": "[encoded data removed]",
            "text/plain": [
              "<Figure size 720x504 with 1 Axes>"
            ]
          },
          "metadata": {
            "tags": [],
            "needs_background": "light"
          }
        }
      ]
    },
    {
      "cell_type": "markdown",
      "metadata": {
        "id": "8Zj2p8NAkRLD"
      },
      "source": [
        "The naive forecast looks like it's following the data well. But let's zoom in to take a better look."
      ]
    },
    {
      "cell_type": "code",
      "metadata": {
        "id": "dx0wUhtOW_VX",
        "colab": {
          "base_uri": "https://localhost:8080/",
          "height": 442
        },
        "outputId": "1fb9b0db-4f24-40fe-b8f7-eb8327c077ce"
      },
      "source": [
        "plt.figure(figsize=(10, 7))\n",
        "offset=300\n",
        "plot_time_series(timesteps=X_test, values=y_test, format=\".\", start=offset, label=\"Test data\")\n",
        "plot_time_series(timesteps=X_test[1:], values=naive_forecast, start=offset, label=\"Naive forecast\");"
      ],
      "execution_count": 54,
      "outputs": [
        {
          "output_type": "display_data",
          "data": {
            "image/png": "[encoded data removed]",
            "text/plain": [
              "<Figure size 720x504 with 1 Axes>"
            ]
          },
          "metadata": {
            "tags": [],
            "needs_background": "light"
          }
        }
      ]
    },
    {
      "cell_type": "markdown",
      "metadata": {
        "id": "AdPsP9SwD72K"
      },
      "source": [
        "When we zoom in we see the naive forecast comes slightly after the test data. This makes sense because the naive forecast uses the previous timestep value to predict the next timestep value.\n",
        "\n",
        "TK - add image for naive forecast (previous step to predict next step) "
      ]
    },
    {
      "cell_type": "markdown",
      "metadata": {
        "id": "UdK4KoFnA90I"
      },
      "source": [
        "## TODO: Evaluating a time series model\n",
        "\n",
        "TK - this can be a function for each model (compares predictions to ground truth...)\n",
        "\n",
        "TK - metrics for evaluating time series models: https://otexts.com/fpp2/accuracy.html\n",
        "\n",
        "Scale-dependent erros (these can't be used to make comparisons between series that involve different units):\n",
        "* MAE - a forecast method that minimises the MAE will lead to forecasts of the median\n",
        "* RMSE - a forecast method that minimisies RMSE will lead to forecasts of the mean\n",
        "\n",
        "Percentage errors: \n",
        "* MAPE (mean absolute percentage error) \n",
        "* sMAPE (recommended not to be used, though it is used in forecasting competitions)\n",
        "\n",
        "Scaled errors (these are good when comparing forecasts accuracy across series with different units) - https://otexts.com/fpp2/accuracy.html#scaled-errors:\n",
        "* MASE (mean absolute scaled error) \n",
        "  * There are two kinds of MASE, one for seasonal, one for non-seasonal data\n",
        "    * \"To take a non-seasonal example, consider the Google stock price...\"\n"
      ]
    },
    {
      "cell_type": "code",
      "metadata": {
        "id": "ljaO69huYCZD"
      },
      "source": [
        "import tensorflow as tf"
      ],
      "execution_count": 55,
      "outputs": []
    },
    {
      "cell_type": "code",
      "metadata": {
        "id": "2jbLBJ_IGjla"
      },
      "source": [
        "# MASE implemented courtesy of sktime - https://github.com/alan-turing-institute/sktime/blob/ee7a06843a44f4aaec7582d847e36073a9ab0566/sktime/performance_metrics/forecasting/_functions.py#L16\n",
        "def mean_absolute_scaled_error(y_true, y_pred):\n",
        "  \"\"\"\n",
        "  Implement MASE (assuming no seasonality of data)\n",
        "  \"\"\"\n",
        "  mae = tf.reduce_mean(tf.abs(y_true - y_pred))\n",
        "  # Find MAE of naive forecast (no seasonality)\n",
        "  mae_naive_no_season = tf.reduce_mean(tf.abs(y_true[1:] - y_true[:-1]))\n",
        "  return mae / mae_naive_no_season"
      ],
      "execution_count": 56,
      "outputs": []
    },
    {
      "cell_type": "code",
      "metadata": {
        "id": "MwMeVgRXWaJp"
      },
      "source": [
        "def evaluate_preds(y_true, y_pred):\n",
        "  # Make sure float32 (for metric calculations)\n",
        "  y_true = tf.cast(y_true, dtype=tf.float32)\n",
        "  y_pred = tf.cast(y_pred, dtype=tf.float32)\n",
        "\n",
        "  # Calculate various metrics\n",
        "  mae = tf.keras.metrics.mean_absolute_error(y_true, y_pred)\n",
        "  mse = tf.keras.metrics.mean_squared_error(y_true, y_pred)\n",
        "  rmse = tf.sqrt(mse)\n",
        "  mape = tf.keras.metrics.mean_absolute_percentage_error(y_true, y_pred)\n",
        "  mase = mean_absolute_scaled_error(y_true, y_pred)\n",
        "  \n",
        "  return {\"mae\": mae.numpy(),\n",
        "          \"mse\": mse.numpy(),\n",
        "          \"rmse\": rmse.numpy(),\n",
        "          \"mape\": mape.numpy(),\n",
        "          \"mase\": mase.numpy()}"
      ],
      "execution_count": 57,
      "outputs": []
    },
    {
      "cell_type": "code",
      "metadata": {
        "colab": {
          "base_uri": "https://localhost:8080/"
        },
        "id": "HbJlsvUwYEsf",
        "outputId": "c0b13c6a-cdc1-4456-852f-fa02dcd9be7b"
      },
      "source": [
        "naive_results = evaluate_preds(y_true=y_test[1:],\n",
        "                               y_pred=naive_forecast)\n",
        "naive_results"
      ],
      "execution_count": 58,
      "outputs": [
        {
          "output_type": "execute_result",
          "data": {
            "text/plain": [
              "{'mae': 567.9802,\n",
              " 'mape': 2.516525,\n",
              " 'mase': 0.99957,\n",
              " 'mse': 1147547.0,\n",
              " 'rmse': 1071.2362}"
            ]
          },
          "metadata": {
            "tags": []
          },
          "execution_count": 58
        }
      ]
    },
    {
      "cell_type": "markdown",
      "metadata": {
        "id": "_5kgVzdq1S1A"
      },
      "source": [
        "## TODO: Mention other kinds of models which can be used for baselines\n",
        "\n",
        "* TensorFlow Decision Forest\n",
        "* Moving average\n",
        "* Etc...\n",
        "* Focused on pure TensorFlow kinds of models"
      ]
    },
    {
      "cell_type": "code",
      "metadata": {
        "id": "o8O_uBXUx7yP"
      },
      "source": [
        ""
      ],
      "execution_count": 58,
      "outputs": []
    },
    {
      "cell_type": "code",
      "metadata": {
        "id": "VYhcUJEbwTXw"
      },
      "source": [
        ""
      ],
      "execution_count": 58,
      "outputs": []
    },
    {
      "cell_type": "code",
      "metadata": {
        "id": "w-lS1r2MPx78"
      },
      "source": [
        ""
      ],
      "execution_count": 58,
      "outputs": []
    },
    {
      "cell_type": "markdown",
      "metadata": {
        "id": "e8AzwUvjBkgY"
      },
      "source": [
        "## Windowing dataset\n",
        "\n",
        "Why do we window?\n",
        "\n",
        "TODO: We can turn our time series data into a **supervised learning problem**: use windows of the past to predict the future."
      ]
    },
    {
      "cell_type": "markdown",
      "metadata": {
        "id": "IxZ6h88QZfOs"
      },
      "source": [
        "Want:\n",
        "\n",
        "```\n",
        "# Window for a week (univariate time series)\n",
        "[0, 1, 2, 3, 4, 5, 6] -> [7]\n",
        "[1, 2, 3, 4, 5, 6, 7] -> [8]\n",
        "[2, 3, 4, 5, 6, 7, 8] -> [9]\n",
        "```"
      ]
    },
    {
      "cell_type": "code",
      "metadata": {
        "id": "LibzWQXM2ib-"
      },
      "source": [
        "HORIZON = 1 # predict 1 step at a time\n",
        "WINDOW_SIZE = 7 # use a week worth of timesteps to predict the horizon"
      ],
      "execution_count": 224,
      "outputs": []
    },
    {
      "cell_type": "code",
      "metadata": {
        "id": "zV8pv5K_x81E"
      },
      "source": [
        "# Create function to label windowed data\n",
        "def get_labelled_windows(x, horizon=1):\n",
        "  \"\"\"\n",
        "  Creates labels for windowed dataset.\n",
        "\n",
        "  E.g. if horizon=1 (default)\n",
        "  Input: [1, 2, 3, 4, 5, 6] -> Output: ([1, 2, 3, 4, 5], [6])\n",
        "  \"\"\"\n",
        "  return x[:, :-horizon], x[:, -horizon:]"
      ],
      "execution_count": 225,
      "outputs": []
    },
    {
      "cell_type": "code",
      "metadata": {
        "id": "apea0wiJyCI6"
      },
      "source": [
        "# Create function to view NumPy arrays as windows\n",
        "def make_windows(x, window_size=10, horizon=1):\n",
        "  \"\"\"\n",
        "  Turns a 1D array into a 2D array of sequential windows of window_size.\n",
        "  \"\"\"\n",
        "  # print(len(x)-1)\n",
        "  # start = len(x) % window_size # account for data which doesn't fit into window, cut off at start\n",
        "  # print(start)\n",
        "  window_step = np.expand_dims(np.arange(window_size+horizon), axis=0) # create 2D array of window_size\n",
        "  # print(f\"Window step:\\n {window_step[-5:]}\")\n",
        "  # window_indexes = start + window_step + np.expand_dims(np.arange(len(x)-(window_size+horizon+start-1)), axis=0).T # create 2D array of windows of size window_size\n",
        "  window_indexes = window_step + np.expand_dims(np.arange(len(x)-(window_size+horizon-1)), axis=0).T # create 2D array of windows of size window_size\n",
        "  # print(f\"Window indexes:\\n {window_indexes[:2], window_indexes[-2:]}\")\n",
        "  windowed_array = x[window_indexes] # get the original array indexed with windows\n",
        "  windows, labels = get_labelled_windows(windowed_array, horizon=horizon)\n",
        "  return windows, labels"
      ],
      "execution_count": 226,
      "outputs": []
    },
    {
      "cell_type": "code",
      "metadata": {
        "colab": {
          "base_uri": "https://localhost:8080/"
        },
        "id": "o7MU8nyF1Lfv",
        "outputId": "ecd4663a-5bd8-4172-d300-84e79206fb8e"
      },
      "source": [
        "len(prices) % WINDOW_SIZE"
      ],
      "execution_count": 227,
      "outputs": [
        {
          "output_type": "execute_result",
          "data": {
            "text/plain": [
              "1"
            ]
          },
          "metadata": {
            "tags": []
          },
          "execution_count": 227
        }
      ]
    },
    {
      "cell_type": "code",
      "metadata": {
        "colab": {
          "base_uri": "https://localhost:8080/"
        },
        "id": "u7Yc3V7fc1UG",
        "outputId": "005f7ab2-e846-4d67-88c6-bdbda14b6cc1"
      },
      "source": [
        "full_windows, full_labels = make_windows(prices, window_size=WINDOW_SIZE, horizon=HORIZON)\n",
        "len(full_windows), len(full_labels)"
      ],
      "execution_count": 228,
      "outputs": [
        {
          "output_type": "execute_result",
          "data": {
            "text/plain": [
              "(2780, 2780)"
            ]
          },
          "metadata": {
            "tags": []
          },
          "execution_count": 228
        }
      ]
    },
    {
      "cell_type": "markdown",
      "metadata": {
        "id": "kmuTc0NDYj3l"
      },
      "source": [
        "### TODO: Make train/test splits after windowing, this helps with evaluation..."
      ]
    },
    {
      "cell_type": "code",
      "metadata": {
        "id": "o_8BRgb8YtP3"
      },
      "source": [
        "# Make the train/test splits\n",
        "def make_train_test_splits(windows, labels, test_split=0.2):\n",
        "  \"\"\"\n",
        "  Splits matching pairs of windows and labels into train and test splits.\n",
        "  \"\"\"\n",
        "  split_size = int(len(windows) * (1-test_split))\n",
        "  train_windows = windows[:split_size]\n",
        "  train_labels = labels[:split_size]\n",
        "  test_windows = windows[split_size:]\n",
        "  test_labels = labels[split_size:]\n",
        "  return train_windows, test_windows, train_labels, test_labels"
      ],
      "execution_count": 229,
      "outputs": []
    },
    {
      "cell_type": "code",
      "metadata": {
        "colab": {
          "base_uri": "https://localhost:8080/"
        },
        "id": "-Q41rjQ819Jn",
        "outputId": "f0160b0a-d864-45cd-b25f-445853116a1f"
      },
      "source": [
        "(2224, 2224, 556, 556)"
      ],
      "execution_count": 230,
      "outputs": [
        {
          "output_type": "execute_result",
          "data": {
            "text/plain": [
              "(2224, 2224, 556, 556)"
            ]
          },
          "metadata": {
            "tags": []
          },
          "execution_count": 230
        }
      ]
    },
    {
      "cell_type": "code",
      "metadata": {
        "colab": {
          "base_uri": "https://localhost:8080/"
        },
        "id": "z_xY8T7HEaoU",
        "outputId": "15ccc39e-9c4f-4b7a-be19-3cd97db1e639"
      },
      "source": [
        "train_windows, test_windows, train_labels, test_labels = make_train_test_splits(full_windows, full_labels)\n",
        "len(train_windows), len(test_windows), len(train_labels), len(test_labels)"
      ],
      "execution_count": 231,
      "outputs": [
        {
          "output_type": "execute_result",
          "data": {
            "text/plain": [
              "(2224, 556, 2224, 556)"
            ]
          },
          "metadata": {
            "tags": []
          },
          "execution_count": 231
        }
      ]
    },
    {
      "cell_type": "code",
      "metadata": {
        "colab": {
          "base_uri": "https://localhost:8080/"
        },
        "id": "DDgyT7Gix1fH",
        "outputId": "5034f41d-29dc-4c7a-cf1d-e0b70582a55d"
      },
      "source": [
        "train_windows[:5], train_labels[:5]"
      ],
      "execution_count": 232,
      "outputs": [
        {
          "output_type": "execute_result",
          "data": {
            "text/plain": [
              "(array([[123.65499, 125.455  , 108.58483, 118.67466, 121.33866, 120.65533,\n",
              "         121.795  ],\n",
              "        [125.455  , 108.58483, 118.67466, 121.33866, 120.65533, 121.795  ,\n",
              "         123.033  ],\n",
              "        [108.58483, 118.67466, 121.33866, 120.65533, 121.795  , 123.033  ,\n",
              "         124.049  ],\n",
              "        [118.67466, 121.33866, 120.65533, 121.795  , 123.033  , 124.049  ,\n",
              "         125.96116],\n",
              "        [121.33866, 120.65533, 121.795  , 123.033  , 124.049  , 125.96116,\n",
              "         125.27966]]), array([[123.033  ],\n",
              "        [124.049  ],\n",
              "        [125.96116],\n",
              "        [125.27966],\n",
              "        [125.9275 ]]))"
            ]
          },
          "metadata": {
            "tags": []
          },
          "execution_count": 232
        }
      ]
    },
    {
      "cell_type": "markdown",
      "metadata": {
        "id": "PQX0PF5jV4aq"
      },
      "source": [
        "## TODO: Make a modelling checkpoint... \n",
        "\n",
        "We need to save our model's best performance. "
      ]
    },
    {
      "cell_type": "code",
      "metadata": {
        "id": "knBwm-bCWWk_"
      },
      "source": [
        "import os"
      ],
      "execution_count": 233,
      "outputs": []
    },
    {
      "cell_type": "code",
      "metadata": {
        "id": "Xh8i1f7rV_P2"
      },
      "source": [
        "def create_model_checkpoint(model_name, save_path=\"model_experiments\"):\n",
        "  return tf.keras.callbacks.ModelCheckpoint(filepath=os.path.join(save_path, model_name),\n",
        "                                            verbose=0,\n",
        "                                            save_best_only=True)"
      ],
      "execution_count": 234,
      "outputs": []
    },
    {
      "cell_type": "markdown",
      "metadata": {
        "id": "j5uw1AaVY-J9"
      },
      "source": [
        "## TODO: Model 1: Dense model (window = 7, horizon = 1)"
      ]
    },
    {
      "cell_type": "code",
      "metadata": {
        "id": "Fadbh94rY-WQ"
      },
      "source": [
        "import tensorflow as tf\n",
        "from tensorflow.keras import layers"
      ],
      "execution_count": 235,
      "outputs": []
    },
    {
      "cell_type": "code",
      "metadata": {
        "colab": {
          "base_uri": "https://localhost:8080/"
        },
        "id": "T3ytqCyZ3O4T",
        "outputId": "4b5ce684-6fe7-4349-c384-4bf400cd3a85"
      },
      "source": [
        "len(train_windows), len(test_windows), len(full_windows)"
      ],
      "execution_count": 236,
      "outputs": [
        {
          "output_type": "execute_result",
          "data": {
            "text/plain": [
              "(2224, 556, 2780)"
            ]
          },
          "metadata": {
            "tags": []
          },
          "execution_count": 236
        }
      ]
    },
    {
      "cell_type": "code",
      "metadata": {
        "id": "Slr5hrJHY_Ed",
        "colab": {
          "base_uri": "https://localhost:8080/"
        },
        "outputId": "f66b3587-8f02-4f01-ebb0-e6080f86b790"
      },
      "source": [
        "tf.random.set_seed(42)\n",
        "\n",
        "model_1 = tf.keras.Sequential([\n",
        "  layers.Dense(128, activation=\"relu\"),\n",
        "  layers.Dense(HORIZON)                              \n",
        "], name=\"model_1_dense\")\n",
        "\n",
        "model_1.compile(loss=\"mae\",\n",
        "                optimizer=tf.keras.optimizers.Adam())\n",
        "\n",
        "model_1.fit(x=train_windows, \n",
        "            y=train_labels,\n",
        "            epochs=100,\n",
        "            verbose=1,\n",
        "            batch_size=128,\n",
        "            validation_data=(test_windows, test_labels),\n",
        "            callbacks=[create_model_checkpoint(model_name=model_1.name)])"
      ],
      "execution_count": 237,
      "outputs": [
        {
          "output_type": "stream",
          "text": [
            "Epoch 1/100\n",
            "18/18 [==============================] - 0s 9ms/step - loss: 780.3469 - val_loss: 2279.5828\n",
            "INFO:tensorflow:Assets written to: model_experiments/model_1_dense/assets\n",
            "Epoch 2/100\n",
            "18/18 [==============================] - 0s 4ms/step - loss: 247.6765 - val_loss: 1005.9864\n",
            "INFO:tensorflow:Assets written to: model_experiments/model_1_dense/assets\n",
            "Epoch 3/100\n",
            "18/18 [==============================] - 0s 3ms/step - loss: 188.4107 - val_loss: 923.2859\n",
            "INFO:tensorflow:Assets written to: model_experiments/model_1_dense/assets\n",
            "Epoch 4/100\n",
            "18/18 [==============================] - 0s 3ms/step - loss: 169.4334 - val_loss: 900.5932\n",
            "INFO:tensorflow:Assets written to: model_experiments/model_1_dense/assets\n",
            "Epoch 5/100\n",
            "18/18 [==============================] - 0s 3ms/step - loss: 165.0899 - val_loss: 895.2405\n",
            "INFO:tensorflow:Assets written to: model_experiments/model_1_dense/assets\n",
            "Epoch 6/100\n",
            "18/18 [==============================] - 0s 4ms/step - loss: 158.5206 - val_loss: 855.1868\n",
            "INFO:tensorflow:Assets written to: model_experiments/model_1_dense/assets\n",
            "Epoch 7/100\n",
            "18/18 [==============================] - 0s 3ms/step - loss: 151.3568 - val_loss: 840.9290\n",
            "INFO:tensorflow:Assets written to: model_experiments/model_1_dense/assets\n",
            "Epoch 8/100\n",
            "18/18 [==============================] - 0s 4ms/step - loss: 145.2560 - val_loss: 803.6005\n",
            "INFO:tensorflow:Assets written to: model_experiments/model_1_dense/assets\n",
            "Epoch 9/100\n",
            "18/18 [==============================] - 0s 3ms/step - loss: 144.3546 - val_loss: 799.5592\n",
            "INFO:tensorflow:Assets written to: model_experiments/model_1_dense/assets\n",
            "Epoch 10/100\n",
            "18/18 [==============================] - 0s 3ms/step - loss: 141.2944 - val_loss: 763.5060\n",
            "INFO:tensorflow:Assets written to: model_experiments/model_1_dense/assets\n",
            "Epoch 11/100\n",
            "18/18 [==============================] - 0s 3ms/step - loss: 135.6591 - val_loss: 771.3525\n",
            "Epoch 12/100\n",
            "18/18 [==============================] - 0s 3ms/step - loss: 134.1702 - val_loss: 782.8326\n",
            "Epoch 13/100\n",
            "18/18 [==============================] - 0s 3ms/step - loss: 134.6014 - val_loss: 784.4728\n",
            "Epoch 14/100\n",
            "18/18 [==============================] - 0s 3ms/step - loss: 130.6125 - val_loss: 751.3470\n",
            "INFO:tensorflow:Assets written to: model_experiments/model_1_dense/assets\n",
            "Epoch 15/100\n",
            "18/18 [==============================] - 0s 2ms/step - loss: 128.8352 - val_loss: 696.5837\n",
            "INFO:tensorflow:Assets written to: model_experiments/model_1_dense/assets\n",
            "Epoch 16/100\n",
            "18/18 [==============================] - 0s 3ms/step - loss: 124.8667 - val_loss: 707.2988\n",
            "Epoch 17/100\n",
            "18/18 [==============================] - 0s 4ms/step - loss: 123.6096 - val_loss: 714.2291\n",
            "Epoch 18/100\n",
            "18/18 [==============================] - 0s 3ms/step - loss: 122.3023 - val_loss: 669.1414\n",
            "INFO:tensorflow:Assets written to: model_experiments/model_1_dense/assets\n",
            "Epoch 19/100\n",
            "18/18 [==============================] - 0s 3ms/step - loss: 121.4932 - val_loss: 721.5452\n",
            "Epoch 20/100\n",
            "18/18 [==============================] - 0s 3ms/step - loss: 119.2384 - val_loss: 658.0786\n",
            "INFO:tensorflow:Assets written to: model_experiments/model_1_dense/assets\n",
            "Epoch 21/100\n",
            "18/18 [==============================] - 0s 3ms/step - loss: 121.5293 - val_loss: 638.3386\n",
            "INFO:tensorflow:Assets written to: model_experiments/model_1_dense/assets\n",
            "Epoch 22/100\n",
            "18/18 [==============================] - 0s 3ms/step - loss: 119.3422 - val_loss: 678.8881\n",
            "Epoch 23/100\n",
            "18/18 [==============================] - 0s 3ms/step - loss: 122.8203 - val_loss: 651.8512\n",
            "Epoch 24/100\n",
            "18/18 [==============================] - 0s 3ms/step - loss: 117.0774 - val_loss: 623.5611\n",
            "INFO:tensorflow:Assets written to: model_experiments/model_1_dense/assets\n",
            "Epoch 25/100\n",
            "18/18 [==============================] - 0s 4ms/step - loss: 115.1816 - val_loss: 618.5576\n",
            "INFO:tensorflow:Assets written to: model_experiments/model_1_dense/assets\n",
            "Epoch 26/100\n",
            "18/18 [==============================] - 0s 3ms/step - loss: 115.0673 - val_loss: 616.4918\n",
            "INFO:tensorflow:Assets written to: model_experiments/model_1_dense/assets\n",
            "Epoch 27/100\n",
            "18/18 [==============================] - 0s 3ms/step - loss: 116.6431 - val_loss: 619.0472\n",
            "Epoch 28/100\n",
            "18/18 [==============================] - 0s 3ms/step - loss: 114.0328 - val_loss: 610.3879\n",
            "INFO:tensorflow:Assets written to: model_experiments/model_1_dense/assets\n",
            "Epoch 29/100\n",
            "18/18 [==============================] - 0s 3ms/step - loss: 113.4892 - val_loss: 617.2401\n",
            "Epoch 30/100\n",
            "18/18 [==============================] - 0s 4ms/step - loss: 116.4094 - val_loss: 603.6490\n",
            "INFO:tensorflow:Assets written to: model_experiments/model_1_dense/assets\n",
            "Epoch 31/100\n",
            "18/18 [==============================] - 0s 3ms/step - loss: 112.3454 - val_loss: 623.4434\n",
            "Epoch 32/100\n",
            "18/18 [==============================] - 0s 3ms/step - loss: 113.2056 - val_loss: 600.0261\n",
            "INFO:tensorflow:Assets written to: model_experiments/model_1_dense/assets\n",
            "Epoch 33/100\n",
            "18/18 [==============================] - 0s 3ms/step - loss: 112.9528 - val_loss: 653.0604\n",
            "Epoch 34/100\n",
            "18/18 [==============================] - 0s 3ms/step - loss: 112.1157 - val_loss: 594.7913\n",
            "INFO:tensorflow:Assets written to: model_experiments/model_1_dense/assets\n",
            "Epoch 35/100\n",
            "18/18 [==============================] - 0s 4ms/step - loss: 110.7447 - val_loss: 592.7401\n",
            "INFO:tensorflow:Assets written to: model_experiments/model_1_dense/assets\n",
            "Epoch 36/100\n",
            "18/18 [==============================] - 0s 3ms/step - loss: 116.3301 - val_loss: 592.4697\n",
            "INFO:tensorflow:Assets written to: model_experiments/model_1_dense/assets\n",
            "Epoch 37/100\n",
            "18/18 [==============================] - 0s 3ms/step - loss: 110.7676 - val_loss: 618.5350\n",
            "Epoch 38/100\n",
            "18/18 [==============================] - 0s 3ms/step - loss: 112.5935 - val_loss: 613.9557\n",
            "Epoch 39/100\n",
            "18/18 [==============================] - 0s 3ms/step - loss: 110.1321 - val_loss: 586.6888\n",
            "INFO:tensorflow:Assets written to: model_experiments/model_1_dense/assets\n",
            "Epoch 40/100\n",
            "18/18 [==============================] - 0s 4ms/step - loss: 109.4753 - val_loss: 593.9153\n",
            "Epoch 41/100\n",
            "18/18 [==============================] - 0s 3ms/step - loss: 110.1777 - val_loss: 586.4465\n",
            "INFO:tensorflow:Assets written to: model_experiments/model_1_dense/assets\n",
            "Epoch 42/100\n",
            "18/18 [==============================] - 0s 3ms/step - loss: 111.5192 - val_loss: 649.3650\n",
            "Epoch 43/100\n",
            "18/18 [==============================] - 0s 4ms/step - loss: 115.8939 - val_loss: 686.8293\n",
            "Epoch 44/100\n",
            "18/18 [==============================] - 0s 4ms/step - loss: 123.0945 - val_loss: 661.1304\n",
            "Epoch 45/100\n",
            "18/18 [==============================] - 0s 3ms/step - loss: 113.8169 - val_loss: 626.8177\n",
            "Epoch 46/100\n",
            "18/18 [==============================] - 0s 4ms/step - loss: 114.0971 - val_loss: 588.7769\n",
            "Epoch 47/100\n",
            "18/18 [==============================] - 0s 3ms/step - loss: 108.9936 - val_loss: 636.0583\n",
            "Epoch 48/100\n",
            "18/18 [==============================] - 0s 3ms/step - loss: 109.2967 - val_loss: 604.1586\n",
            "Epoch 49/100\n",
            "18/18 [==============================] - 0s 3ms/step - loss: 111.7787 - val_loss: 591.5096\n",
            "Epoch 50/100\n",
            "18/18 [==============================] - 0s 3ms/step - loss: 111.7319 - val_loss: 636.4677\n",
            "Epoch 51/100\n",
            "18/18 [==============================] - 0s 4ms/step - loss: 110.7498 - val_loss: 589.2878\n",
            "Epoch 52/100\n",
            "18/18 [==============================] - 0s 5ms/step - loss: 111.5193 - val_loss: 609.5289\n",
            "Epoch 53/100\n",
            "18/18 [==============================] - 0s 4ms/step - loss: 113.9868 - val_loss: 584.7471\n",
            "INFO:tensorflow:Assets written to: model_experiments/model_1_dense/assets\n",
            "Epoch 54/100\n",
            "18/18 [==============================] - 0s 3ms/step - loss: 110.1075 - val_loss: 578.7416\n",
            "INFO:tensorflow:Assets written to: model_experiments/model_1_dense/assets\n",
            "Epoch 55/100\n",
            "18/18 [==============================] - 0s 3ms/step - loss: 110.6423 - val_loss: 581.5333\n",
            "Epoch 56/100\n",
            "18/18 [==============================] - 0s 4ms/step - loss: 107.6537 - val_loss: 759.0189\n",
            "Epoch 57/100\n",
            "18/18 [==============================] - 0s 4ms/step - loss: 119.2012 - val_loss: 603.5953\n",
            "Epoch 58/100\n",
            "18/18 [==============================] - 0s 4ms/step - loss: 116.4417 - val_loss: 583.7296\n",
            "Epoch 59/100\n",
            "18/18 [==============================] - 0s 4ms/step - loss: 109.9014 - val_loss: 592.8416\n",
            "Epoch 60/100\n",
            "18/18 [==============================] - 0s 3ms/step - loss: 107.7859 - val_loss: 593.4969\n",
            "Epoch 61/100\n",
            "18/18 [==============================] - 0s 4ms/step - loss: 107.6960 - val_loss: 575.5123\n",
            "INFO:tensorflow:Assets written to: model_experiments/model_1_dense/assets\n",
            "Epoch 62/100\n",
            "18/18 [==============================] - 0s 3ms/step - loss: 107.1257 - val_loss: 580.2645\n",
            "Epoch 63/100\n",
            "18/18 [==============================] - 0s 3ms/step - loss: 111.8451 - val_loss: 654.6143\n",
            "Epoch 64/100\n",
            "18/18 [==============================] - 0s 3ms/step - loss: 110.3121 - val_loss: 610.7810\n",
            "Epoch 65/100\n",
            "18/18 [==============================] - 0s 4ms/step - loss: 109.7098 - val_loss: 573.9960\n",
            "INFO:tensorflow:Assets written to: model_experiments/model_1_dense/assets\n",
            "Epoch 66/100\n",
            "18/18 [==============================] - 0s 3ms/step - loss: 106.8139 - val_loss: 572.9989\n",
            "INFO:tensorflow:Assets written to: model_experiments/model_1_dense/assets\n",
            "Epoch 67/100\n",
            "18/18 [==============================] - 0s 3ms/step - loss: 106.1394 - val_loss: 602.1524\n",
            "Epoch 68/100\n",
            "18/18 [==============================] - 0s 4ms/step - loss: 112.9245 - val_loss: 687.6375\n",
            "Epoch 69/100\n",
            "18/18 [==============================] - 0s 3ms/step - loss: 126.9916 - val_loss: 664.9473\n",
            "Epoch 70/100\n",
            "18/18 [==============================] - 0s 3ms/step - loss: 124.8734 - val_loss: 619.6686\n",
            "Epoch 71/100\n",
            "18/18 [==============================] - 0s 4ms/step - loss: 109.8522 - val_loss: 582.3637\n",
            "Epoch 72/100\n",
            "18/18 [==============================] - 0s 3ms/step - loss: 107.6717 - val_loss: 573.4947\n",
            "Epoch 73/100\n",
            "18/18 [==============================] - 0s 3ms/step - loss: 109.6036 - val_loss: 583.9045\n",
            "Epoch 74/100\n",
            "18/18 [==============================] - 0s 4ms/step - loss: 107.7049 - val_loss: 572.9933\n",
            "INFO:tensorflow:Assets written to: model_experiments/model_1_dense/assets\n",
            "Epoch 75/100\n",
            "18/18 [==============================] - 0s 3ms/step - loss: 108.1179 - val_loss: 583.9372\n",
            "Epoch 76/100\n",
            "18/18 [==============================] - 0s 3ms/step - loss: 109.5447 - val_loss: 592.8235\n",
            "Epoch 77/100\n",
            "18/18 [==============================] - 0s 3ms/step - loss: 108.3639 - val_loss: 575.4260\n",
            "Epoch 78/100\n",
            "18/18 [==============================] - 0s 3ms/step - loss: 108.0055 - val_loss: 574.3941\n",
            "Epoch 79/100\n",
            "18/18 [==============================] - 0s 4ms/step - loss: 107.3223 - val_loss: 597.2478\n",
            "Epoch 80/100\n",
            "18/18 [==============================] - 0s 4ms/step - loss: 108.1452 - val_loss: 586.6866\n",
            "Epoch 81/100\n",
            "18/18 [==============================] - 0s 4ms/step - loss: 106.1153 - val_loss: 575.1765\n",
            "Epoch 82/100\n",
            "18/18 [==============================] - 0s 3ms/step - loss: 116.6344 - val_loss: 575.4340\n",
            "Epoch 83/100\n",
            "18/18 [==============================] - 0s 3ms/step - loss: 110.8731 - val_loss: 654.5366\n",
            "Epoch 84/100\n",
            "18/18 [==============================] - 0s 4ms/step - loss: 111.9106 - val_loss: 572.3373\n",
            "INFO:tensorflow:Assets written to: model_experiments/model_1_dense/assets\n",
            "Epoch 85/100\n",
            "18/18 [==============================] - 0s 3ms/step - loss: 106.6154 - val_loss: 574.2833\n",
            "Epoch 86/100\n",
            "18/18 [==============================] - 0s 3ms/step - loss: 108.4299 - val_loss: 583.3530\n",
            "Epoch 87/100\n",
            "18/18 [==============================] - 0s 3ms/step - loss: 105.7481 - val_loss: 593.0121\n",
            "Epoch 88/100\n",
            "18/18 [==============================] - 0s 3ms/step - loss: 107.2604 - val_loss: 571.7658\n",
            "INFO:tensorflow:Assets written to: model_experiments/model_1_dense/assets\n",
            "Epoch 89/100\n",
            "18/18 [==============================] - 0s 3ms/step - loss: 106.7823 - val_loss: 568.6370\n",
            "INFO:tensorflow:Assets written to: model_experiments/model_1_dense/assets\n",
            "Epoch 90/100\n",
            "18/18 [==============================] - 0s 3ms/step - loss: 105.8682 - val_loss: 602.9690\n",
            "Epoch 91/100\n",
            "18/18 [==============================] - 0s 3ms/step - loss: 110.6365 - val_loss: 605.6947\n",
            "Epoch 92/100\n",
            "18/18 [==============================] - 0s 3ms/step - loss: 109.4668 - val_loss: 572.4370\n",
            "Epoch 93/100\n",
            "18/18 [==============================] - 0s 4ms/step - loss: 113.0063 - val_loss: 617.3001\n",
            "Epoch 94/100\n",
            "18/18 [==============================] - 0s 3ms/step - loss: 112.4903 - val_loss: 599.9803\n",
            "Epoch 95/100\n",
            "18/18 [==============================] - 0s 3ms/step - loss: 106.0053 - val_loss: 570.6210\n",
            "Epoch 96/100\n",
            "18/18 [==============================] - 0s 3ms/step - loss: 109.5910 - val_loss: 676.3395\n",
            "Epoch 97/100\n",
            "18/18 [==============================] - 0s 3ms/step - loss: 110.2213 - val_loss: 574.2988\n",
            "Epoch 98/100\n",
            "18/18 [==============================] - 0s 3ms/step - loss: 106.7290 - val_loss: 576.7734\n",
            "Epoch 99/100\n",
            "18/18 [==============================] - 0s 3ms/step - loss: 106.9889 - val_loss: 568.5499\n",
            "INFO:tensorflow:Assets written to: model_experiments/model_1_dense/assets\n",
            "Epoch 100/100\n",
            "18/18 [==============================] - 0s 4ms/step - loss: 117.7622 - val_loss: 662.5322\n"
          ],
          "name": "stdout"
        },
        {
          "output_type": "execute_result",
          "data": {
            "text/plain": [
              "<tensorflow.python.keras.callbacks.History at 0x7ff4a4451350>"
            ]
          },
          "metadata": {
            "tags": []
          },
          "execution_count": 237
        }
      ]
    },
    {
      "cell_type": "code",
      "metadata": {
        "id": "N1DbcEZBY_Bt",
        "colab": {
          "base_uri": "https://localhost:8080/"
        },
        "outputId": "f904d75a-7838-4573-f280-4a25dab1000d"
      },
      "source": [
        "# Evaluate\n",
        "model_1.evaluate(test_windows, test_labels)"
      ],
      "execution_count": 238,
      "outputs": [
        {
          "output_type": "stream",
          "text": [
            "18/18 [==============================] - 0s 1ms/step - loss: 662.5322\n"
          ],
          "name": "stdout"
        },
        {
          "output_type": "execute_result",
          "data": {
            "text/plain": [
              "662.5322265625"
            ]
          },
          "metadata": {
            "tags": []
          },
          "execution_count": 238
        }
      ]
    },
    {
      "cell_type": "code",
      "metadata": {
        "colab": {
          "base_uri": "https://localhost:8080/"
        },
        "id": "FXey-AX-XZPK",
        "outputId": "1c988046-ef55-4c5b-d8a7-ea1526838bd2"
      },
      "source": [
        "model_1 = tf.keras.models.load_model(\"model_experiments/model_1_dense\")\n",
        "model_1.evaluate(test_windows, test_labels)"
      ],
      "execution_count": 239,
      "outputs": [
        {
          "output_type": "stream",
          "text": [
            "18/18 [==============================] - 0s 1ms/step - loss: 568.5499\n"
          ],
          "name": "stdout"
        },
        {
          "output_type": "execute_result",
          "data": {
            "text/plain": [
              "568.5498657226562"
            ]
          },
          "metadata": {
            "tags": []
          },
          "execution_count": 239
        }
      ]
    },
    {
      "cell_type": "markdown",
      "metadata": {
        "id": "-HfeTX5KhYin"
      },
      "source": [
        "### TODO: Making forecasts with a model\n",
        "\n",
        "* We could make forecasts on the test windows, however this would end up in less prediction values than in the `y_test`\n",
        "* Instead, we're going to make predictions on the full dataset windows "
      ]
    },
    {
      "cell_type": "code",
      "metadata": {
        "id": "hZrExWzyh3ur"
      },
      "source": [
        "def make_forecast(model, input_data):\n",
        "  \"\"\"\n",
        "  Uses model to make forecasts on input_data.\n",
        "\n",
        "  Input_data must be windowed version of whole dataset, otherwise forecasts won't match size of y_test.\n",
        "\n",
        "  Parameters\n",
        "  ----------\n",
        "  model: trained model \n",
        "  input_data: windowed input data (same kind of data model was trained on)\n",
        "\n",
        "  Returns model forecast on input_data from split_size-window_size onwards.\n",
        "  \"\"\"\n",
        "  forecast = model.predict(input_data)\n",
        "  return tf.squeeze(forecast) # return 1D array of predictions "
      ],
      "execution_count": 240,
      "outputs": []
    },
    {
      "cell_type": "code",
      "metadata": {
        "colab": {
          "base_uri": "https://localhost:8080/"
        },
        "id": "ND4uFaYdy463",
        "outputId": "1876f27f-e092-4cde-9dc7-6f58eb0bf213"
      },
      "source": [
        "model_1_preds = tf.squeeze(model_1.predict(test_windows))\n",
        "len(model_1_preds)"
      ],
      "execution_count": 241,
      "outputs": [
        {
          "output_type": "execute_result",
          "data": {
            "text/plain": [
              "556"
            ]
          },
          "metadata": {
            "tags": []
          },
          "execution_count": 241
        }
      ]
    },
    {
      "cell_type": "code",
      "metadata": {
        "colab": {
          "base_uri": "https://localhost:8080/"
        },
        "id": "gACmlubfdL8q",
        "outputId": "567f3163-3b0e-4364-8682-a69bfec6eaea"
      },
      "source": [
        "model_1_preds[:10]"
      ],
      "execution_count": 242,
      "outputs": [
        {
          "output_type": "execute_result",
          "data": {
            "text/plain": [
              "<tf.Tensor: shape=(10,), dtype=float32, numpy=\n",
              "array([8874.493, 8789.944, 9040.986, 8804.829, 8741.21 , 8749.835,\n",
              "       8705.865, 8513.171, 8478.415, 8536.302], dtype=float32)>"
            ]
          },
          "metadata": {
            "tags": []
          },
          "execution_count": 242
        }
      ]
    },
    {
      "cell_type": "code",
      "metadata": {
        "colab": {
          "base_uri": "https://localhost:8080/"
        },
        "id": "eHak7Jqd9aXv",
        "outputId": "82954670-e68c-47bd-d0c5-f6125737ebb6"
      },
      "source": [
        "# Evaluate preds\n",
        "model_1_results = evaluate_preds(y_true=tf.squeeze(test_labels), # reduce to right shape\n",
        "                                 y_pred=model_1_preds)\n",
        "model_1_results"
      ],
      "execution_count": 243,
      "outputs": [
        {
          "output_type": "execute_result",
          "data": {
            "text/plain": [
              "{'mae': 568.5498,\n",
              " 'mape': 2.549229,\n",
              " 'mase': 0.99878454,\n",
              " 'mse': 1172587.6,\n",
              " 'rmse': 1082.8608}"
            ]
          },
          "metadata": {
            "tags": []
          },
          "execution_count": 243
        }
      ]
    },
    {
      "cell_type": "code",
      "metadata": {
        "id": "HLE7DxADBqyV"
      },
      "source": [
        "# # Model 1 with 10 epochs & no block_reward variable\n",
        "# {'mae': 763.506,\n",
        "#  'mape': 3.3924627,\n",
        "#  'mase': 1.3412685,\n",
        "#  'mse': 1933137.0,\n",
        "#  'rmse': 1390.3729}\n",
        "\n",
        "# # Model 1 with 100 epochs & no block_reward variable\n",
        "# {'mae': 568.5498,\n",
        "#  'mape': 2.549229,\n",
        "#  'mase': 0.99878454,\n",
        "#  'mse': 1172587.6,\n",
        "#  'rmse': 1082.8608}"
      ],
      "execution_count": null,
      "outputs": []
    },
    {
      "cell_type": "code",
      "metadata": {
        "colab": {
          "base_uri": "https://localhost:8080/",
          "height": 442
        },
        "id": "Wgxoqg_tIhFJ",
        "outputId": "77ae3490-07b8-42ea-d8d8-8febffb426c4"
      },
      "source": [
        "offset = 300\n",
        "plt.figure(figsize=(10, 7))\n",
        "# Account for the test_window offset and index into test_labels to ensure correct plotting\n",
        "plot_time_series(timesteps=X_test[-len(test_windows):], values=test_labels[:, 0], format=\".\", start=offset, label=\"Test_data\")\n",
        "plot_time_series(timesteps=X_test[-len(test_windows):], values=model_1_preds, start=offset, label=\"model_1_preds\")"
      ],
      "execution_count": 79,
      "outputs": [
        {
          "output_type": "display_data",
          "data": {
            "image/png": "[encoded data removed]",
            "text/plain": [
              "<Figure size 720x504 with 1 Axes>"
            ]
          },
          "metadata": {
            "tags": [],
            "needs_background": "light"
          }
        }
      ]
    },
    {
      "cell_type": "markdown",
      "metadata": {
        "id": "fr18ffVq4i6m"
      },
      "source": [
        "## TODO: Model 2: Dense (window = 30, horizon = 1)\n",
        "\n",
        "Same model as model 1 except with different data.\n",
        "\n",
        "TK - What happens if we make a larger window & horizon?\n",
        "\n",
        "* TK - Window & horizon values are values you can tune..."
      ]
    },
    {
      "cell_type": "code",
      "metadata": {
        "id": "Vz0eMi7F4wpn"
      },
      "source": [
        "HORIZON = 1 # predict one step at a time\n",
        "WINDOW_SIZE = 30 # use 30 timesteps in the past"
      ],
      "execution_count": 80,
      "outputs": []
    },
    {
      "cell_type": "code",
      "metadata": {
        "colab": {
          "base_uri": "https://localhost:8080/"
        },
        "id": "1HlYaAxr6UoC",
        "outputId": "80411d0b-e1c0-4c8c-8cba-d03b6ac507cb"
      },
      "source": [
        "# Make windowed data with appropriate horizon and window sizes\n",
        "full_windows, full_labels = make_windows(prices, window_size=WINDOW_SIZE, horizon=HORIZON)\n",
        "len(full_windows), len(full_labels)"
      ],
      "execution_count": 81,
      "outputs": [
        {
          "output_type": "execute_result",
          "data": {
            "text/plain": [
              "(2757, 2757)"
            ]
          },
          "metadata": {
            "tags": []
          },
          "execution_count": 81
        }
      ]
    },
    {
      "cell_type": "code",
      "metadata": {
        "colab": {
          "base_uri": "https://localhost:8080/"
        },
        "id": "jWxYZtOuelzO",
        "outputId": "b134d2bb-986e-45eb-b264-e161a8da197f"
      },
      "source": [
        "# Make train and testing windows\n",
        "train_windows, test_windows, train_labels, test_labels = make_train_test_splits(windows=full_windows, labels=full_labels)\n",
        "len(train_windows), len(test_windows), len(train_labels), len(test_labels)"
      ],
      "execution_count": 82,
      "outputs": [
        {
          "output_type": "execute_result",
          "data": {
            "text/plain": [
              "(2205, 552, 2205, 552)"
            ]
          },
          "metadata": {
            "tags": []
          },
          "execution_count": 82
        }
      ]
    },
    {
      "cell_type": "code",
      "metadata": {
        "colab": {
          "base_uri": "https://localhost:8080/"
        },
        "id": "b_oz5aJE6UwN",
        "outputId": "685d264b-f9e9-468b-bdc8-b9446c30e343"
      },
      "source": [
        "# Create model (same model as model 1 but data input will be different)\n",
        "model_2 = tf.keras.Sequential([\n",
        "  layers.Dense(128, activation=\"relu\"),\n",
        "  layers.Dense(HORIZON) # need to predict horizon number of steps into the future\n",
        "], name=\"model_2_dense\")\n",
        "\n",
        "model_2.compile(loss=\"mae\",\n",
        "                optimizer=tf.keras.optimizers.Adam())\n",
        "\n",
        "model_2.fit(train_windows,\n",
        "            train_labels,\n",
        "            epochs=10,\n",
        "            validation_data=(test_windows, test_labels),\n",
        "            callbacks=[create_model_checkpoint(model_name=model_2.name)])"
      ],
      "execution_count": 83,
      "outputs": [
        {
          "output_type": "stream",
          "text": [
            "Epoch 1/10\n",
            "69/69 [==============================] - 1s 3ms/step - loss: 642.6424 - val_loss: 1336.3065\n",
            "INFO:tensorflow:Assets written to: model_experiments/model_2_dense/assets\n",
            "Epoch 2/10\n",
            "69/69 [==============================] - 0s 2ms/step - loss: 247.4086 - val_loss: 1096.2328\n",
            "INFO:tensorflow:Assets written to: model_experiments/model_2_dense/assets\n",
            "Epoch 3/10\n",
            "69/69 [==============================] - 0s 2ms/step - loss: 213.0396 - val_loss: 994.9252\n",
            "INFO:tensorflow:Assets written to: model_experiments/model_2_dense/assets\n",
            "Epoch 4/10\n",
            "69/69 [==============================] - 0s 2ms/step - loss: 176.5722 - val_loss: 2013.2117\n",
            "Epoch 5/10\n",
            "69/69 [==============================] - 0s 2ms/step - loss: 193.2152 - val_loss: 901.3291\n",
            "INFO:tensorflow:Assets written to: model_experiments/model_2_dense/assets\n",
            "Epoch 6/10\n",
            "69/69 [==============================] - 0s 2ms/step - loss: 174.4808 - val_loss: 1297.7122\n",
            "Epoch 7/10\n",
            "69/69 [==============================] - 0s 2ms/step - loss: 186.2697 - val_loss: 1295.9282\n",
            "Epoch 8/10\n",
            "69/69 [==============================] - 0s 2ms/step - loss: 193.3333 - val_loss: 1765.9612\n",
            "Epoch 9/10\n",
            "69/69 [==============================] - 0s 2ms/step - loss: 162.6445 - val_loss: 758.8428\n",
            "INFO:tensorflow:Assets written to: model_experiments/model_2_dense/assets\n",
            "Epoch 10/10\n",
            "69/69 [==============================] - 0s 2ms/step - loss: 166.1284 - val_loss: 756.4861\n",
            "INFO:tensorflow:Assets written to: model_experiments/model_2_dense/assets\n"
          ],
          "name": "stdout"
        },
        {
          "output_type": "execute_result",
          "data": {
            "text/plain": [
              "<tensorflow.python.keras.callbacks.History at 0x7ff4a4416350>"
            ]
          },
          "metadata": {
            "tags": []
          },
          "execution_count": 83
        }
      ]
    },
    {
      "cell_type": "code",
      "metadata": {
        "id": "W42Fa-aO8rhg",
        "colab": {
          "base_uri": "https://localhost:8080/"
        },
        "outputId": "0820a183-178e-49d0-92fc-4ddce498fbc0"
      },
      "source": [
        "# Evaluate model 2 preds\n",
        "model_2.evaluate(test_windows, test_labels)"
      ],
      "execution_count": 84,
      "outputs": [
        {
          "output_type": "stream",
          "text": [
            "18/18 [==============================] - 0s 1ms/step - loss: 756.4861\n"
          ],
          "name": "stdout"
        },
        {
          "output_type": "execute_result",
          "data": {
            "text/plain": [
              "756.486083984375"
            ]
          },
          "metadata": {
            "tags": []
          },
          "execution_count": 84
        }
      ]
    },
    {
      "cell_type": "code",
      "metadata": {
        "colab": {
          "base_uri": "https://localhost:8080/"
        },
        "id": "c_hG89F5YV4i",
        "outputId": "62c16dbc-ca86-42b8-e811-285eeafbbb89"
      },
      "source": [
        "# Load in best performing model\n",
        "model_2 = tf.keras.models.load_model(\"model_experiments/model_2_dense/\")\n",
        "model_2.evaluate(test_windows, test_labels)"
      ],
      "execution_count": 85,
      "outputs": [
        {
          "output_type": "stream",
          "text": [
            "18/18 [==============================] - 0s 1ms/step - loss: 756.4861\n"
          ],
          "name": "stdout"
        },
        {
          "output_type": "execute_result",
          "data": {
            "text/plain": [
              "756.486083984375"
            ]
          },
          "metadata": {
            "tags": []
          },
          "execution_count": 85
        }
      ]
    },
    {
      "cell_type": "code",
      "metadata": {
        "id": "TPfvPgkUknY5"
      },
      "source": [
        "# Get forecast predictions\n",
        "model_2_preds = make_forecast(model_2,\n",
        "                              input_data=test_windows)"
      ],
      "execution_count": 86,
      "outputs": []
    },
    {
      "cell_type": "code",
      "metadata": {
        "colab": {
          "base_uri": "https://localhost:8080/"
        },
        "id": "dy7XZx7FllHX",
        "outputId": "23100b37-8f2a-430b-8931-2bb1109a2a20"
      },
      "source": [
        "# Evaluate results for model 2 predictions\n",
        "model_2_results = evaluate_preds(y_true=tf.squeeze(test_labels), # remove 1 dimension of test labels\n",
        "                                 y_pred=model_2_preds)\n",
        "model_2_results"
      ],
      "execution_count": 87,
      "outputs": [
        {
          "output_type": "execute_result",
          "data": {
            "text/plain": [
              "{'mae': 756.4862,\n",
              " 'mape': 3.4484272,\n",
              " 'mase': 1.3223451,\n",
              " 'mse': 1840753.9,\n",
              " 'rmse': 1356.7439}"
            ]
          },
          "metadata": {
            "tags": []
          },
          "execution_count": 87
        }
      ]
    },
    {
      "cell_type": "code",
      "metadata": {
        "colab": {
          "base_uri": "https://localhost:8080/",
          "height": 442
        },
        "id": "jHh_qtXflx7Z",
        "outputId": "0b368c8e-e927-4c91-895a-eef50554b8d5"
      },
      "source": [
        "offset = 300\n",
        "plt.figure(figsize=(10, 7))\n",
        "\n",
        "# Account for the test_window offset\n",
        "plot_time_series(timesteps=X_test[-len(test_windows):], values=test_labels[:, 0], start=offset, label=\"test_data\")\n",
        "plot_time_series(timesteps=X_test[-len(test_windows):], values=model_2_preds, start=offset, label=\"model_2_preds\") "
      ],
      "execution_count": 88,
      "outputs": [
        {
          "output_type": "display_data",
          "data": {
            "image/png": "[encoded data removed]",
            "text/plain": [
              "<Figure size 720x504 with 1 Axes>"
            ]
          },
          "metadata": {
            "tags": [],
            "needs_background": "light"
          }
        }
      ]
    },
    {
      "cell_type": "markdown",
      "metadata": {
        "id": "Sls7mUaq9lMl"
      },
      "source": [
        "### Model 3: Dense (window = 30, horizon = 7)\n",
        "\n",
        "Let's try and predict 7 days ahead given the previous 30 days.\n",
        "\n",
        "* -> How does a larger window effect a smaller horizon?\n",
        "* -> Model 1: horizon=1, window=7\n",
        "* -> Model 2: horizon=1, window=30\n",
        "* -> Model 3: horizon=7, window=30"
      ]
    },
    {
      "cell_type": "code",
      "metadata": {
        "colab": {
          "base_uri": "https://localhost:8080/"
        },
        "id": "8PtmayTM98Mb",
        "outputId": "4bb26c57-a205-45bb-ee32-5422585fbb8b"
      },
      "source": [
        "HORIZON = 7\n",
        "WINDOW_SIZE = 30\n",
        "\n",
        "full_windows, full_labels = make_windows(prices, window_size=WINDOW_SIZE, horizon=HORIZON)\n",
        "len(full_windows), len(full_labels)"
      ],
      "execution_count": 89,
      "outputs": [
        {
          "output_type": "execute_result",
          "data": {
            "text/plain": [
              "(2751, 2751)"
            ]
          },
          "metadata": {
            "tags": []
          },
          "execution_count": 89
        }
      ]
    },
    {
      "cell_type": "code",
      "metadata": {
        "colab": {
          "base_uri": "https://localhost:8080/"
        },
        "id": "E8xgoKunZ__e",
        "outputId": "f1a45b71-ee16-44f1-c9f6-f4575cbeb57c"
      },
      "source": [
        "train_windows, test_windows, train_labels, test_labels = make_train_test_splits(windows=full_windows, labels=full_labels, test_split=0.2)\n",
        "len(train_windows), len(test_windows), len(train_labels), len(test_labels)"
      ],
      "execution_count": 90,
      "outputs": [
        {
          "output_type": "execute_result",
          "data": {
            "text/plain": [
              "(2200, 551, 2200, 551)"
            ]
          },
          "metadata": {
            "tags": []
          },
          "execution_count": 90
        }
      ]
    },
    {
      "cell_type": "code",
      "metadata": {
        "colab": {
          "base_uri": "https://localhost:8080/"
        },
        "id": "hxHh7xS2-CoH",
        "outputId": "549c84d3-39db-4027-eaa5-c2a97c2847ef"
      },
      "source": [
        "# Create model (same as model_1 except with different data input size)\n",
        "model_3 = tf.keras.Sequential([\n",
        "  layers.Dense(128, activation=\"relu\"),\n",
        "  layers.Dense(HORIZON)\n",
        "], name=\"model_3_dense\")\n",
        "\n",
        "model_3.compile(loss=\"mae\",\n",
        "                optimizer=tf.keras.optimizers.Adam())\n",
        "\n",
        "model_3.fit(train_windows,\n",
        "            train_labels,\n",
        "            epochs=10,\n",
        "            validation_data=(test_windows, test_labels),\n",
        "            callbacks=[create_model_checkpoint(model_name=model_3.name)])"
      ],
      "execution_count": 91,
      "outputs": [
        {
          "output_type": "stream",
          "text": [
            "Epoch 1/10\n",
            "69/69 [==============================] - 1s 4ms/step - loss: 646.3674 - val_loss: 1837.6635\n",
            "INFO:tensorflow:Assets written to: model_experiments/model_3_dense/assets\n",
            "Epoch 2/10\n",
            "69/69 [==============================] - 0s 2ms/step - loss: 346.0227 - val_loss: 1709.9707\n",
            "INFO:tensorflow:Assets written to: model_experiments/model_3_dense/assets\n",
            "Epoch 3/10\n",
            "69/69 [==============================] - 0s 2ms/step - loss: 302.7966 - val_loss: 1702.7645\n",
            "INFO:tensorflow:Assets written to: model_experiments/model_3_dense/assets\n",
            "Epoch 4/10\n",
            "69/69 [==============================] - 0s 2ms/step - loss: 280.9153 - val_loss: 1449.1541\n",
            "INFO:tensorflow:Assets written to: model_experiments/model_3_dense/assets\n",
            "Epoch 5/10\n",
            "69/69 [==============================] - 0s 2ms/step - loss: 270.8253 - val_loss: 1684.4430\n",
            "Epoch 6/10\n",
            "69/69 [==============================] - 0s 2ms/step - loss: 267.3368 - val_loss: 1761.8397\n",
            "Epoch 7/10\n",
            "69/69 [==============================] - 0s 2ms/step - loss: 284.2815 - val_loss: 1460.2297\n",
            "Epoch 8/10\n",
            "69/69 [==============================] - 0s 2ms/step - loss: 264.2976 - val_loss: 1405.8760\n",
            "INFO:tensorflow:Assets written to: model_experiments/model_3_dense/assets\n",
            "Epoch 9/10\n",
            "69/69 [==============================] - 0s 2ms/step - loss: 257.6087 - val_loss: 1431.5646\n",
            "Epoch 10/10\n",
            "69/69 [==============================] - 0s 2ms/step - loss: 262.3799 - val_loss: 1422.7954\n"
          ],
          "name": "stdout"
        },
        {
          "output_type": "execute_result",
          "data": {
            "text/plain": [
              "<tensorflow.python.keras.callbacks.History at 0x7ff4a7fd7bd0>"
            ]
          },
          "metadata": {
            "tags": []
          },
          "execution_count": 91
        }
      ]
    },
    {
      "cell_type": "code",
      "metadata": {
        "colab": {
          "base_uri": "https://localhost:8080/"
        },
        "id": "Pd-8pbfh-DDI",
        "outputId": "195ff80c-acb0-489f-f5f1-ae2d5c7f03e1"
      },
      "source": [
        "model_3.evaluate(test_windows, test_labels)"
      ],
      "execution_count": 92,
      "outputs": [
        {
          "output_type": "stream",
          "text": [
            "18/18 [==============================] - 0s 1ms/step - loss: 1422.7954\n"
          ],
          "name": "stdout"
        },
        {
          "output_type": "execute_result",
          "data": {
            "text/plain": [
              "1422.79541015625"
            ]
          },
          "metadata": {
            "tags": []
          },
          "execution_count": 92
        }
      ]
    },
    {
      "cell_type": "markdown",
      "metadata": {
        "id": "q--5dtgITJbc"
      },
      "source": [
        "TODO: The error will be higher because we're predicting 7 steps at a time... the further you try and predict, the larger your error will be (think of trying to predict the weather 7 days out...)."
      ]
    },
    {
      "cell_type": "code",
      "metadata": {
        "id": "uKBNVovRpvhd",
        "colab": {
          "base_uri": "https://localhost:8080/"
        },
        "outputId": "8221c871-9f07-4ed8-c67e-2e6c93b532aa"
      },
      "source": [
        "# The predictions are going to be 7 steps at a time (this is the HORIZON size)\n",
        "model_3_preds = make_forecast(model_3,\n",
        "                              input_data=test_windows)\n",
        "model_3_preds[:5]"
      ],
      "execution_count": 93,
      "outputs": [
        {
          "output_type": "execute_result",
          "data": {
            "text/plain": [
              "<tf.Tensor: shape=(5, 7), dtype=float32, numpy=\n",
              "array([[9629.563 , 9903.682 , 9525.497 , 9208.796 , 9304.4375, 9509.803 ,\n",
              "        9582.437 ],\n",
              "       [9398.016 , 9658.865 , 9252.494 , 9094.36  , 9030.1   , 9548.736 ,\n",
              "        9428.433 ],\n",
              "       [9367.661 , 9586.821 , 9231.73  , 9330.727 , 8863.176 , 9448.307 ,\n",
              "        9346.333 ],\n",
              "       [9523.295 , 9669.618 , 9350.159 , 9442.1045, 9075.29  , 9589.568 ,\n",
              "        9468.685 ],\n",
              "       [9382.286 , 9419.873 , 9197.667 , 9337.203 , 9062.027 , 9499.824 ,\n",
              "        9593.781 ]], dtype=float32)>"
            ]
          },
          "metadata": {
            "tags": []
          },
          "execution_count": 93
        }
      ]
    },
    {
      "cell_type": "code",
      "metadata": {
        "colab": {
          "base_uri": "https://localhost:8080/"
        },
        "id": "P9VQqenW-5to",
        "outputId": "283a857b-797a-4c0e-9581-92f9b406d488"
      },
      "source": [
        "# Calculate model_3 results - these are going to be multi-dimensional because\n",
        "# we're trying to predict more than one step at a time.\n",
        "model_3_results = evaluate_preds(y_true=tf.squeeze(test_labels),\n",
        "                                 y_pred=model_3_preds)\n",
        "model_3_results"
      ],
      "execution_count": 94,
      "outputs": [
        {
          "output_type": "execute_result",
          "data": {
            "text/plain": [
              "{'mae': array([  730.24426 ,   593.1734  ,   606.3923  ,   818.9368  ,\n",
              "          801.74677 ,   852.0338  ,   720.71875 ,   638.5058  ,\n",
              "          692.7745  ,   823.45325 ,  1009.71783 ,  1001.2422  ,\n",
              "         1068.3967  ,  1067.5782  ,   808.9046  ,   489.539   ,\n",
              "          290.7929  ,   295.33133 ,   214.04387 ,   230.31473 ,\n",
              "          184.85938 ,    87.881485,   231.02303 ,   267.24518 ,\n",
              "          295.57053 ,   342.2647  ,   344.32568 ,   245.19398 ,\n",
              "          343.2346  ,   294.24197 ,   313.5678  ,   491.46442 ,\n",
              "          539.14075 ,   530.1719  ,   557.3163  ,   544.3029  ,\n",
              "          562.36066 ,   428.23618 ,   432.3132  ,   182.93262 ,\n",
              "          227.85799 ,   183.65486 ,   180.9174  ,   152.92815 ,\n",
              "          190.80412 ,   168.89871 ,   218.94197 ,   239.18457 ,\n",
              "          237.91525 ,   226.13086 ,   247.49449 ,   254.53264 ,\n",
              "          290.5793  ,   259.31342 ,   315.67154 ,   358.92334 ,\n",
              "          357.03488 ,   474.26236 ,   455.47992 ,   423.68436 ,\n",
              "          331.80963 ,   398.0565  ,   381.49414 ,   361.98578 ,\n",
              "          516.4171  ,   563.9384  ,   448.05698 ,   308.95746 ,\n",
              "          268.96735 ,   214.8683  ,   237.32729 ,   372.08316 ,\n",
              "          560.91113 ,   629.4795  ,   546.27844 ,   458.14508 ,\n",
              "          435.86343 ,   374.06    ,   494.7468  ,   567.9249  ,\n",
              "          594.6395  ,   577.12946 ,   371.1582  ,   155.6974  ,\n",
              "          265.97266 ,   269.4943  ,   252.54381 ,   383.1137  ,\n",
              "          395.74246 ,   407.607   ,   406.74567 ,   454.1236  ,\n",
              "          355.83414 ,   364.5452  ,   312.12418 ,   196.15025 ,\n",
              "          328.83774 ,   641.8499  ,   770.94324 ,   935.74774 ,\n",
              "          831.2142  ,   622.5717  ,   431.4795  ,   604.06335 ,\n",
              "          583.64606 ,   611.78864 ,   716.7486  ,   776.6265  ,\n",
              "         1079.9786  ,  1157.3038  ,  1095.0004  ,   817.6229  ,\n",
              "          615.1839  ,   382.17426 ,   241.46107 ,   340.61725 ,\n",
              "          459.04263 ,   453.0415  ,   552.14856 ,  1068.101   ,\n",
              "         1636.3932  ,  2238.5334  ,  2475.3572  ,  2503.4956  ,\n",
              "         2734.856   ,  2949.8557  ,  1945.5583  ,  1126.1842  ,\n",
              "          543.8586  ,   414.9738  ,   573.47015 ,   768.5596  ,\n",
              "          924.6359  ,   620.0395  ,   491.28738 ,   430.447   ,\n",
              "          287.11063 ,   313.3203  ,   333.22662 ,   356.47885 ,\n",
              "          346.497   ,   387.80664 ,   306.7754  ,   367.55377 ,\n",
              "          472.331   ,   335.5113  ,   282.39523 ,   337.08572 ,\n",
              "          272.52408 ,   295.0547  ,   332.87354 ,   312.0554  ,\n",
              "          343.51834 ,   740.98334 ,   730.47217 ,   479.38315 ,\n",
              "          299.8858  ,   243.81445 ,   348.23102 ,   272.75504 ,\n",
              "          199.11559 ,   188.51472 ,   194.92578 ,   353.9191  ,\n",
              "          370.9654  ,   351.44678 ,   307.49332 ,   533.32306 ,\n",
              "          608.85516 ,   729.86835 ,   809.11456 ,   968.9328  ,\n",
              "          973.79236 ,   982.1738  ,   708.7778  ,   513.3912  ,\n",
              "          463.02567 ,   478.62027 ,   538.2706  ,   567.4894  ,\n",
              "          450.3228  ,   368.78012 ,   536.1158  ,   870.3104  ,\n",
              "          908.2757  ,   548.87726 ,   303.3365  ,   324.14383 ,\n",
              "          375.70215 ,   378.982   ,   299.60797 ,   228.69043 ,\n",
              "          368.37808 ,   526.53406 ,   661.6122  ,   763.39996 ,\n",
              "          674.49677 ,   575.1992  ,   410.5498  ,   380.97    ,\n",
              "          523.4183  ,   612.2716  ,   653.5827  ,   366.30734 ,\n",
              "          303.60016 ,   254.30357 ,   154.55482 ,   394.01785 ,\n",
              "          292.48285 ,   332.02023 ,   469.1314  ,   450.1236  ,\n",
              "          366.0279  ,   439.2768  ,   458.7059  ,   535.9682  ,\n",
              "          622.7687  ,   477.91476 ,   487.9018  ,   521.46356 ,\n",
              "          413.91797 ,   398.33942 ,   306.7422  ,   361.88336 ,\n",
              "          350.02875 ,   353.0689  ,   300.8718  ,   216.95522 ,\n",
              "          491.45465 ,   590.04675 ,   533.6635  ,   489.27414 ,\n",
              "          427.36914 ,   294.32535 ,   273.59668 ,   302.07465 ,\n",
              "          268.41977 ,   312.66098 ,   243.14299 ,   223.52135 ,\n",
              "          206.99539 ,   254.5     ,   202.29129 ,   250.10867 ,\n",
              "          433.50278 ,   355.71762 ,   303.07156 ,   313.4209  ,\n",
              "          303.85785 ,   360.9541  ,   377.63754 ,   311.42535 ,\n",
              "          234.9901  ,   237.09766 ,   252.49428 ,   316.66016 ,\n",
              "          491.6271  ,   623.4428  ,   837.64594 ,   952.0025  ,\n",
              "         1104.2385  ,  1224.7875  ,  1235.7706  ,   706.95465 ,\n",
              "          481.05176 ,   324.38965 ,   144.7726  ,   297.58148 ,\n",
              "          441.37766 ,   404.29965 ,   343.90024 ,   266.7627  ,\n",
              "          374.31863 ,   365.37555 ,   335.61453 ,   378.67886 ,\n",
              "          349.46918 ,   458.06976 ,   268.9478  ,   354.00293 ,\n",
              "          341.63882 ,   340.14355 ,   275.5484  ,   246.4149  ,\n",
              "          522.9463  ,   624.0717  ,   626.39856 ,   584.9195  ,\n",
              "          572.11816 ,   638.95746 ,   485.70187 ,   513.64777 ,\n",
              "          267.45718 ,   346.15738 ,   457.3641  ,   549.059   ,\n",
              "          743.30817 ,   894.00226 ,  1222.7129  ,  1607.0817  ,\n",
              "         1659.917   ,  1372.886   ,  1109.1869  ,   641.9058  ,\n",
              "          413.72543 ,   430.93863 ,   175.96652 ,   310.715   ,\n",
              "          323.26312 ,   469.54605 ,   434.97446 ,   311.8566  ,\n",
              "          278.77246 ,   279.97043 ,   496.69043 ,   530.4632  ,\n",
              "          538.72473 ,   598.39075 ,   577.4774  ,   484.8354  ,\n",
              "          468.10422 ,   312.4873  ,   275.68024 ,   289.9619  ,\n",
              "          351.84012 ,   437.1021  ,   506.54633 ,   534.4668  ,\n",
              "          599.8715  ,   455.3521  ,   366.09097 ,   260.06754 ,\n",
              "          322.06137 ,   503.4421  ,   509.0865  ,   542.29816 ,\n",
              "          493.36383 ,   391.04437 ,   181.55692 ,   140.48438 ,\n",
              "          293.45425 ,   332.125   ,   464.92886 ,   618.3124  ,\n",
              "          789.02496 ,   965.1569  ,  1037.666   ,  1046.6395  ,\n",
              "         1062.3503  ,   633.91797 ,   466.96176 ,   420.57562 ,\n",
              "          360.59808 ,   250.52148 ,   297.1494  ,   372.33566 ,\n",
              "          332.03864 ,   423.19058 ,   604.4375  ,   869.68805 ,\n",
              "         1085.9193  ,  1097.5934  ,  1057.9559  ,  1011.99774 ,\n",
              "          676.3012  ,   639.50653 ,   511.32227 ,   514.6044  ,\n",
              "          706.73926 ,   742.2003  ,   760.04364 ,   984.7101  ,\n",
              "         1325.805   ,  1343.8488  ,  1544.9705  ,  1517.5096  ,\n",
              "         1222.0201  ,   914.3599  ,   666.84796 ,   679.606   ,\n",
              "         1002.3577  ,  1151.2913  ,   934.858   ,  1295.7277  ,\n",
              "         1280.158   ,   799.8122  ,   877.6456  ,   933.4643  ,\n",
              "          931.2168  ,   435.73773 ,   331.54214 ,   455.1021  ,\n",
              "          896.8273  ,  1077.5312  ,   981.94336 ,  1060.882   ,\n",
              "         1009.7458  ,   792.4333  ,   773.5505  ,  1486.4108  ,\n",
              "         2024.4802  ,  2567.805   ,  3121.698   ,  3197.9595  ,\n",
              "         3301.776   ,  2536.8157  ,  1658.283   ,  1041.3787  ,\n",
              "          916.1953  ,  1223.6758  ,  1598.8114  ,  1974.8231  ,\n",
              "         2528.3286  ,  2730.112   ,  2931.8025  ,  2925.7332  ,\n",
              "         3336.821   ,  3201.3198  ,  3738.131   ,  4069.9214  ,\n",
              "         4561.4604  ,  5171.8877  ,  5341.6016  ,  5162.874   ,\n",
              "         4767.109   ,  4044.7383  ,  2949.371   ,  1842.0184  ,\n",
              "         2164.306   ,  3974.5999  ,  4683.687   ,  3229.6472  ,\n",
              "         1194.7858  ,  1514.745   ,  3194.0151  ,  3486.2756  ,\n",
              "         3469.5112  ,  3804.2175  ,  4032.6555  ,  4386.3804  ,\n",
              "         4612.2534  ,  3050.2598  ,  2228.488   ,  1336.0795  ,\n",
              "         1465.1471  ,  1967.1823  ,  2598.1772  ,  3945.5208  ,\n",
              "         3048.943   ,  2981.9375  ,  3580.1333  ,  3171.4458  ,\n",
              "         4313.9097  ,  5425.811   ,  4966.0786  ,  5347.7314  ,\n",
              "         6748.6597  ,  6671.43    ,  6781.382   ,  5254.383   ,\n",
              "         3223.1497  ,  2581.1602  ,  2303.0464  ,  2528.9475  ,\n",
              "         3073.6746  ,  3919.1736  ,  3663.073   ,  3898.681   ,\n",
              "         3195.01    ,  2901.9458  ,  3455.1685  ,  6168.329   ,\n",
              "         8807.237   ,  9419.643   ,  7709.626   ,  6265.1562  ,\n",
              "         4292.404   ,  2832.2495  ,  1544.9459  ,  2493.2031  ,\n",
              "         2466.2712  ,  3343.0195  ,  4049.5017  ,  4884.001   ,\n",
              "         4528.124   ,  5529.0977  ,  5952.7964  ,  6069.363   ,\n",
              "         4523.5854  ,  3736.3555  ,  2430.48    ,  1225.5156  ,\n",
              "         1585.8778  ,  3284.1536  ,  3651.7886  ,  3147.53    ,\n",
              "         4638.594   ,  5329.4946  ,  6673.0376  ,  5823.382   ,\n",
              "         5793.681   ,  4615.22    ,  2921.168   ,  2548.615   ,\n",
              "         2099.0217  ,  2673.375   ,  2408.234   ,  2346.2227  ,\n",
              "         1463.5692  ,  1556.1456  ,  1106.1406  ,  1889.1869  ,\n",
              "         2027.4219  ,  1789.4291  ,  2238.6926  ,  2213.7573  ,\n",
              "         1906.9447  ,  1886.1808  ,  2711.2144  ,  3101.3403  ,\n",
              "         2567.8108  ,  2514.875   ,  2022.0067  ,  3198.9888  ,\n",
              "         5946.7505  ,  8043.271   ,  9514.971   , 10476.404   ,\n",
              "         9784.359   ,  7884.029   ,  7129.6714  ,  5606.264   ,\n",
              "         3700.177   ,  2496.0999  ,  3113.861   ,  4186.641   ,\n",
              "         3820.6875  ,  2953.5056  ,  2094.9739  ,  1605.9626  ,\n",
              "         1602.2031  ,  1625.2723  ,  1936.6663  ,  2449.9192  ,\n",
              "         2128.8276  ,  2375.2683  ,  3700.4348  ,  3362.9783  ,\n",
              "         6099.7236  ,  8458.858   ,  9519.444   ], dtype=float32),\n",
              " 'mape': array([ 8.321245 ,  6.802707 ,  7.015016 ,  9.503141 ,  9.432675 ,\n",
              "        10.140229 ,  8.678843 ,  7.889173 ,  8.9403105, 10.8414755,\n",
              "        13.4146185, 13.542827 , 14.613819 , 14.657356 , 11.148829 ,\n",
              "         6.749992 ,  4.0060277,  3.983653 ,  2.8768032,  3.058495 ,\n",
              "         2.4947238,  1.1905804,  3.134194 ,  3.64129  ,  4.009764 ,\n",
              "         4.658296 ,  4.6883655,  3.3493824,  4.684504 ,  4.02971  ,\n",
              "         4.348094 ,  6.839266 ,  7.58418  ,  7.661732 ,  7.996612 ,\n",
              "         7.7858977,  8.102993 ,  6.1570873,  6.2611637,  2.6808572,\n",
              "         3.1325839,  2.5579076,  2.5109363,  2.1169734,  2.6406424,\n",
              "         2.339436 ,  3.021745 ,  3.3105302,  3.2952964,  3.1584105,\n",
              "         3.4551182,  3.5217042,  4.0487   ,  3.61819  ,  4.278262 ,\n",
              "         4.7191567,  4.5299864,  6.049171 ,  5.716429 ,  5.2551994,\n",
              "         4.1068187,  4.8140006,  4.511758 ,  4.2119527,  5.9858074,\n",
              "         6.475495 ,  5.132101 ,  3.4974325,  3.0552673,  2.4534702,\n",
              "         2.7524035,  4.3483973,  6.582954 ,  7.3812566,  6.38517  ,\n",
              "         5.3842754,  5.141039 ,  4.266441 ,  5.4684877,  6.0906467,\n",
              "         6.329997 ,  6.1538243,  3.966442 ,  1.6507739,  2.8163588,\n",
              "         2.8557968,  2.684002 ,  4.035368 ,  4.0666227,  4.0769157,\n",
              "         4.0595913,  4.4677205,  3.462861 ,  3.5778773,  3.0890722,\n",
              "         1.9768854,  3.3075073,  6.461744 ,  7.8564787,  9.575057 ,\n",
              "         8.565564 ,  6.3761725,  4.4371424,  6.280299 ,  6.2667975,\n",
              "         6.748283 ,  7.9492793,  8.744316 , 12.243139 , 13.158793 ,\n",
              "        12.521005 ,  9.362408 ,  7.018463 ,  4.389571 ,  2.7338037,\n",
              "         3.9325743,  5.4520316,  5.488049 ,  6.8032913, 15.46575  ,\n",
              "        25.170088 , 36.237003 , 42.393616 , 45.641296 , 50.306927 ,\n",
              "        54.706467 , 35.932713 , 20.632109 ,  9.9971285,  7.382976 ,\n",
              "         9.278308 , 12.178444 , 14.346738 ,  9.42805  ,  7.459011 ,\n",
              "         6.659822 ,  4.3198147,  4.92276  ,  5.2120504,  5.6486998,\n",
              "         5.50208  ,  6.2485037,  4.7610335,  5.465316 ,  6.858448 ,\n",
              "         4.8131847,  3.963098 ,  4.770241 ,  3.808579 ,  4.1708565,\n",
              "         4.73572  ,  4.4401193,  4.904978 , 10.689459 , 10.63268  ,\n",
              "         6.9147563,  4.3187475,  3.5056632,  4.966713 ,  3.9260428,\n",
              "         2.8099184,  2.6382565,  2.707513 ,  4.9528384,  5.1281395,\n",
              "         4.718441 ,  4.0453672,  6.589606 ,  7.284642 ,  8.584424 ,\n",
              "         9.30057  , 10.984703 , 11.010705 , 11.049349 ,  7.863151 ,\n",
              "         5.4813514,  4.7909474,  5.0135503,  5.7025824,  6.1064577,\n",
              "         4.8908124,  4.0443606,  5.9779906,  9.702528 , 10.187333 ,\n",
              "         6.080001 ,  3.2684577,  3.3663294,  3.902679 ,  4.0159645,\n",
              "         3.2038991,  2.4647377,  3.9746888,  5.7106333,  7.2792096,\n",
              "         8.437735 ,  7.417504 ,  6.331147 ,  4.535909 ,  4.15588  ,\n",
              "         5.511069 ,  6.3065367,  6.645188 ,  3.7282593,  3.0852509,\n",
              "         2.624982 ,  1.5719539,  4.082801 ,  3.003299 ,  3.4048789,\n",
              "         4.9021473,  4.7101164,  3.8258214,  4.626148 ,  4.8358703,\n",
              "         5.6832066,  6.616921 ,  5.0647063,  5.200752 ,  5.5616984,\n",
              "         4.4084225,  4.226162 ,  3.2616127,  3.880153 ,  3.749746 ,\n",
              "         3.7856963,  3.23636  ,  2.3746524,  5.325321 ,  6.4359665,\n",
              "         5.822715 ,  5.3633037,  4.702819 ,  3.2183437,  3.0002224,\n",
              "         3.2985616,  2.927938 ,  3.416909 ,  2.655244 ,  2.4311998,\n",
              "         2.245137 ,  2.7388604,  2.175985 ,  2.7011747,  4.690251 ,\n",
              "         3.8612347,  3.290009 ,  3.4016523,  3.3002694,  3.9259136,\n",
              "         4.1064177,  3.382365 ,  2.5512753,  2.5400054,  2.6992369,\n",
              "         3.3111362,  4.760598 ,  5.8818636,  7.7470226,  8.720038 ,\n",
              "         9.96423  , 10.844343 , 10.9116125,  6.207926 ,  4.223155 ,\n",
              "         2.8377872,  1.253075 ,  2.6171331,  3.8935633,  3.5415416,\n",
              "         2.9708188,  2.3063536,  3.2232456,  3.1399283,  2.8794749,\n",
              "         3.254164 ,  3.0282543,  3.9421659,  2.2838414,  2.9691622,\n",
              "         2.863394 ,  2.8498476,  2.3357403,  2.0808482,  4.4509654,\n",
              "         5.3537345,  5.408016 ,  5.079636 ,  4.978922 ,  5.549781 ,\n",
              "         4.2309837,  4.4794374,  2.334136 ,  3.0224583,  4.0490775,\n",
              "         4.9602804,  6.9521093,  8.571649 , 11.665955 , 15.518708 ,\n",
              "        16.115856 , 13.406375 , 10.852616 ,  6.232079 ,  4.0289207,\n",
              "         4.196847 ,  1.6898758,  2.9049904,  2.9769886,  4.3462763,\n",
              "         4.011869 ,  2.84761  ,  2.56057  ,  2.609502 ,  4.6780944,\n",
              "         4.996057 ,  5.0686684,  5.669914 ,  5.471626 ,  4.594872 ,\n",
              "         4.4132733,  2.9080749,  2.5734615,  2.717192 ,  3.2997835,\n",
              "         4.0936356,  4.7463946,  5.023641 ,  5.6549306,  4.281724 ,\n",
              "         3.4346554,  2.4129648,  2.9376638,  4.542733 ,  4.514556 ,\n",
              "         4.739386 ,  4.3054104,  3.4044967,  1.5885224,  1.2284404,\n",
              "         2.5662568,  2.899506 ,  3.8880181,  5.03763  ,  6.297868 ,\n",
              "         7.5685544,  8.002145 ,  8.034932 ,  8.064373 ,  4.766568 ,\n",
              "         3.4912999,  3.1532965,  2.7068512,  1.8580334,  2.1877522,\n",
              "         2.7606575,  2.429257 ,  2.927417 ,  4.055734 ,  5.8649774,\n",
              "         7.226781 ,  7.2481813,  6.8969145,  6.559451 ,  4.326571 ,\n",
              "         4.077079 ,  3.1963825,  3.2404318,  4.3781023,  4.4290757,\n",
              "         4.4198947,  5.690708 ,  7.597915 ,  7.5041175,  8.450692 ,\n",
              "         8.243022 ,  6.5574245,  4.8956127,  3.6184855,  3.8530145,\n",
              "         5.6528206,  6.492518 ,  5.285772 ,  7.342557 ,  7.2683387,\n",
              "         4.4565587,  4.639053 ,  4.889059 ,  4.8602753,  2.2715497,\n",
              "         1.7395107,  2.412677 ,  4.787717 ,  5.785116 ,  5.259153 ,\n",
              "         5.684433 ,  5.437493 ,  4.2518783,  4.046325 ,  7.1532726,\n",
              "         9.2940855, 11.356466 , 13.606052 , 13.78421  , 14.225702 ,\n",
              "        10.853751 ,  7.071466 ,  4.3664155,  3.685524 ,  4.893575 ,\n",
              "         6.303508 ,  7.6940427,  9.46471  ,  9.900029 , 10.402729 ,\n",
              "         9.86044  , 10.801155 , 10.195142 , 11.546411 , 12.083136 ,\n",
              "        12.769339 , 13.808058 , 13.8682785, 13.318494 , 12.170742 ,\n",
              "        10.329698 ,  7.5046577,  4.99871  ,  6.1095486, 11.160014 ,\n",
              "        13.141346 ,  8.96849  ,  3.2740228,  4.2040997,  9.440403 ,\n",
              "        10.371481 , 10.560342 , 11.62052  , 12.39026  , 13.64229  ,\n",
              "        14.527394 ,  9.516097 ,  6.9141283,  4.206686 ,  4.4247084,\n",
              "         5.943235 ,  7.59473  , 11.279605 ,  8.495547 ,  8.120928 ,\n",
              "         9.610448 ,  8.411014 , 10.724597 , 12.793213 , 11.268174 ,\n",
              "        11.773796 , 14.68803  , 14.365132 , 14.348366 , 11.031316 ,\n",
              "         6.6895723,  5.193682 ,  4.5814304,  4.8207316,  5.793375 ,\n",
              "         7.3621683,  6.7035103,  7.146596 ,  6.054732 ,  5.6051044,\n",
              "         7.290052 , 12.86166  , 18.554213 , 19.929926 , 16.324707 ,\n",
              "        13.325803 ,  9.135417 ,  5.9757876,  3.2705421,  5.023701 ,\n",
              "         4.921552 ,  6.4983854,  7.614062 ,  8.890481 ,  8.081659 ,\n",
              "         9.656981 , 10.16152  , 10.357923 ,  7.7329082,  6.3417845,\n",
              "         4.121695 ,  2.0886497,  2.7752461,  5.7379255,  6.4519873,\n",
              "         5.6398983,  8.408477 ,  9.887923 , 12.244781 , 10.75548  ,\n",
              "        10.707836 ,  8.534273 ,  5.4297833,  4.62887  ,  3.6354966,\n",
              "         4.5875406,  4.1235533,  4.010319 ,  2.4996119,  2.6620474,\n",
              "         1.8930084,  3.2760448,  3.503557 ,  3.0850713,  3.8302255,\n",
              "         3.824145 ,  3.2326486,  3.111444 ,  4.4017143,  4.9708505,\n",
              "         4.104472 ,  4.1711273,  3.4826074,  5.56213  , 10.445171 ,\n",
              "        14.440693 , 17.581165 , 19.716862 , 18.855051 , 15.307395 ,\n",
              "        13.761454 , 10.910478 ,  7.2221255,  4.810525 ,  5.7507997,\n",
              "         7.4787498,  6.7406664,  5.2247477,  3.7100103,  2.824281 ,\n",
              "         2.8615174,  2.8784406,  3.477481 ,  4.3660426,  3.7227354,\n",
              "         4.3234878,  6.970432 ,  6.5538826, 12.033682 , 17.136612 ,\n",
              "        20.14841  ], dtype=float32),\n",
              " 'mase': 2.5317845,\n",
              " 'mse': array([5.84949188e+05, 4.04611781e+05, 4.45360781e+05, 7.02092875e+05,\n",
              "        7.18844125e+05, 8.04504875e+05, 5.83898688e+05, 4.90151344e+05,\n",
              "        6.94271812e+05, 9.85059438e+05, 1.16321400e+06, 1.12659925e+06,\n",
              "        1.21050300e+06, 1.16025138e+06, 6.90756875e+05, 3.17218781e+05,\n",
              "        1.39105281e+05, 1.31555703e+05, 7.31313906e+04, 8.22136641e+04,\n",
              "        4.45676914e+04, 1.07151455e+04, 6.55014023e+04, 1.01362398e+05,\n",
              "        1.10086109e+05, 1.62147016e+05, 1.46674438e+05, 9.25928828e+04,\n",
              "        1.43862297e+05, 1.03506703e+05, 1.37300875e+05, 2.77601812e+05,\n",
              "        3.23846344e+05, 3.82384406e+05, 3.75714594e+05, 3.34938031e+05,\n",
              "        3.92842656e+05, 2.38377594e+05, 2.89716312e+05, 1.00246961e+05,\n",
              "        6.94395703e+04, 5.82166133e+04, 4.25640859e+04, 3.07812070e+04,\n",
              "        5.01800977e+04, 4.84309180e+04, 5.72656055e+04, 8.05265000e+04,\n",
              "        7.57945078e+04, 7.69478594e+04, 9.91727656e+04, 8.02975703e+04,\n",
              "        1.19633398e+05, 1.00838203e+05, 1.50196781e+05, 1.67734156e+05,\n",
              "        2.22854328e+05, 2.55375625e+05, 2.60246734e+05, 2.35750969e+05,\n",
              "        1.39143625e+05, 2.17196656e+05, 2.23296328e+05, 2.00040109e+05,\n",
              "        3.28228750e+05, 3.46610188e+05, 2.64745000e+05, 1.49414469e+05,\n",
              "        9.20742969e+04, 5.92942539e+04, 7.94898359e+04, 1.98251250e+05,\n",
              "        3.56078219e+05, 4.11655562e+05, 3.15470969e+05, 2.87946438e+05,\n",
              "        2.98576594e+05, 1.78924781e+05, 2.69260875e+05, 4.28265219e+05,\n",
              "        4.71356969e+05, 4.01540500e+05, 1.86204500e+05, 3.43950625e+04,\n",
              "        8.37714141e+04, 8.20676172e+04, 9.73970625e+04, 2.16915125e+05,\n",
              "        1.79262031e+05, 2.65003500e+05, 1.79867828e+05, 2.66571844e+05,\n",
              "        2.12443391e+05, 1.64545547e+05, 1.28668039e+05, 7.81440391e+04,\n",
              "        1.80527766e+05, 4.54277344e+05, 6.83521438e+05, 9.23480812e+05,\n",
              "        7.96640500e+05, 4.01493000e+05, 2.39966719e+05, 4.46293781e+05,\n",
              "        5.33818688e+05, 6.45640438e+05, 7.02577625e+05, 7.83687188e+05,\n",
              "        1.28864912e+06, 1.38778112e+06, 1.22660538e+06, 7.08910125e+05,\n",
              "        4.23551000e+05, 2.42858672e+05, 9.27583828e+04, 1.89047406e+05,\n",
              "        2.90646688e+05, 2.98994281e+05, 4.29896500e+05, 2.03911025e+06,\n",
              "        3.97416175e+06, 6.29022450e+06, 7.67738850e+06, 7.84776700e+06,\n",
              "        8.40180600e+06, 8.74813000e+06, 3.90686975e+06, 1.31640725e+06,\n",
              "        3.92968750e+05, 2.30623703e+05, 4.86310844e+05, 6.96449500e+05,\n",
              "        9.77899188e+05, 5.04017469e+05, 2.92765812e+05, 2.20034250e+05,\n",
              "        1.19610430e+05, 1.82855219e+05, 1.80435859e+05, 2.06409375e+05,\n",
              "        1.76796891e+05, 3.03310656e+05, 1.35760984e+05, 1.65198281e+05,\n",
              "        3.11474688e+05, 1.69692406e+05, 1.75272031e+05, 1.43356969e+05,\n",
              "        1.21368750e+05, 1.27622266e+05, 1.53499578e+05, 1.41862672e+05,\n",
              "        1.50448156e+05, 5.77123125e+05, 6.34994375e+05, 2.42680109e+05,\n",
              "        1.28254148e+05, 8.28718906e+04, 1.51642719e+05, 1.04916070e+05,\n",
              "        5.03841133e+04, 5.07985352e+04, 4.97538047e+04, 1.47920344e+05,\n",
              "        1.51412750e+05, 1.27043180e+05, 1.20738430e+05, 4.98512406e+05,\n",
              "        6.36177125e+05, 7.83712562e+05, 9.35567688e+05, 1.25229362e+06,\n",
              "        1.11925038e+06, 1.01415056e+06, 6.30134562e+05, 4.37432000e+05,\n",
              "        4.16454219e+05, 3.23767938e+05, 3.40274406e+05, 3.71590844e+05,\n",
              "        2.64605844e+05, 1.76496969e+05, 4.04293344e+05, 9.51359688e+05,\n",
              "        1.12319788e+06, 4.39193469e+05, 1.33812047e+05, 1.49125172e+05,\n",
              "        1.87009281e+05, 1.91811469e+05, 1.37171109e+05, 9.52861250e+04,\n",
              "        1.67697859e+05, 2.91687406e+05, 4.99943969e+05, 6.74829688e+05,\n",
              "        5.00565531e+05, 4.04931031e+05, 2.34519734e+05, 1.93043578e+05,\n",
              "        2.92295781e+05, 4.99907969e+05, 6.74737688e+05, 2.28102031e+05,\n",
              "        1.67150219e+05, 1.03105516e+05, 3.60081641e+04, 2.10541641e+05,\n",
              "        1.01082914e+05, 1.58669172e+05, 3.58296312e+05, 2.98908719e+05,\n",
              "        1.80002516e+05, 2.41054609e+05, 2.51188703e+05, 3.45054312e+05,\n",
              "        4.50754906e+05, 2.62411438e+05, 2.93820406e+05, 3.19954062e+05,\n",
              "        2.11334250e+05, 1.75560469e+05, 1.10363680e+05, 2.15358406e+05,\n",
              "        1.56665078e+05, 1.76648844e+05, 1.17966859e+05, 1.03872164e+05,\n",
              "        2.81614812e+05, 3.77216062e+05, 3.15085250e+05, 2.73925250e+05,\n",
              "        2.73109531e+05, 1.21638820e+05, 1.00202008e+05, 1.16641977e+05,\n",
              "        8.78115703e+04, 1.26948164e+05, 8.78788281e+04, 8.95282734e+04,\n",
              "        6.13180820e+04, 7.29381953e+04, 5.32008242e+04, 8.40426953e+04,\n",
              "        2.25827047e+05, 1.58440516e+05, 1.24449891e+05, 1.27995773e+05,\n",
              "        1.21524828e+05, 1.60898969e+05, 1.86815859e+05, 1.41876406e+05,\n",
              "        8.35824766e+04, 7.66045234e+04, 9.29526094e+04, 1.05767164e+05,\n",
              "        4.63876438e+05, 7.03304438e+05, 1.09779688e+06, 1.22708512e+06,\n",
              "        1.52018862e+06, 1.77358338e+06, 1.68949125e+06, 7.04843938e+05,\n",
              "        3.06124312e+05, 1.28548391e+05, 3.39306641e+04, 1.61833922e+05,\n",
              "        3.09264219e+05, 2.57522891e+05, 1.51696016e+05, 1.12791266e+05,\n",
              "        1.69963844e+05, 1.73218922e+05, 1.51334641e+05, 1.92998094e+05,\n",
              "        2.57328094e+05, 3.36553094e+05, 1.25250680e+05, 1.93124500e+05,\n",
              "        1.29925430e+05, 1.78872859e+05, 1.07067359e+05, 7.73252109e+04,\n",
              "        3.42562938e+05, 4.48881094e+05, 5.30849125e+05, 4.01186844e+05,\n",
              "        4.28709562e+05, 4.55596000e+05, 3.19816688e+05, 3.65287594e+05,\n",
              "        1.14885477e+05, 2.15915719e+05, 3.24700594e+05, 4.19927781e+05,\n",
              "        8.22504688e+05, 1.24333562e+06, 1.77321300e+06, 2.77896750e+06,\n",
              "        2.78799575e+06, 1.96106375e+06, 1.33582925e+06, 4.64266531e+05,\n",
              "        2.25356109e+05, 2.50746172e+05, 4.16114258e+04, 1.43348484e+05,\n",
              "        1.81827078e+05, 2.64794594e+05, 2.08782766e+05, 1.46803406e+05,\n",
              "        1.21816148e+05, 1.14057836e+05, 3.07697781e+05, 3.29346281e+05,\n",
              "        3.22084719e+05, 4.57283812e+05, 4.58719469e+05, 3.35222594e+05,\n",
              "        2.89494406e+05, 1.28881430e+05, 1.12249430e+05, 1.47478109e+05,\n",
              "        1.70822141e+05, 2.21425781e+05, 2.80078406e+05, 3.35378406e+05,\n",
              "        4.35645656e+05, 2.61135453e+05, 2.15808922e+05, 9.19085391e+04,\n",
              "        1.46778609e+05, 2.87819844e+05, 2.94023594e+05, 4.23052469e+05,\n",
              "        3.30862281e+05, 2.31769453e+05, 6.59846797e+04, 3.35947109e+04,\n",
              "        1.41768656e+05, 1.52355203e+05, 3.17694156e+05, 5.69330438e+05,\n",
              "        8.51247312e+05, 1.15319375e+06, 1.35649688e+06, 1.28231100e+06,\n",
              "        1.19010825e+06, 5.79440312e+05, 3.12214281e+05, 1.97368000e+05,\n",
              "        1.78023125e+05, 9.83425625e+04, 1.59802750e+05, 2.40957875e+05,\n",
              "        1.97608406e+05, 3.02627906e+05, 6.50826125e+05, 1.14938575e+06,\n",
              "        1.53529012e+06, 1.40039638e+06, 1.37905912e+06, 1.11309962e+06,\n",
              "        6.00435438e+05, 5.88945438e+05, 4.08945094e+05, 3.45607250e+05,\n",
              "        5.62937938e+05, 8.80079562e+05, 1.04814688e+06, 1.35930388e+06,\n",
              "        1.99338812e+06, 2.17738375e+06, 2.98810600e+06, 2.82134175e+06,\n",
              "        1.96549738e+06, 1.12083038e+06, 6.33054312e+05, 7.87380062e+05,\n",
              "        1.31576675e+06, 1.63063862e+06, 1.21686425e+06, 2.48914125e+06,\n",
              "        2.48262325e+06, 1.07360288e+06, 9.29552062e+05, 1.10911012e+06,\n",
              "        1.00345112e+06, 3.78148031e+05, 1.34385891e+05, 3.25717688e+05,\n",
              "        9.73051625e+05, 1.34151788e+06, 1.02459962e+06, 1.21563012e+06,\n",
              "        1.28982512e+06, 9.03492188e+05, 9.90129500e+05, 3.55189200e+06,\n",
              "        6.74675600e+06, 1.05376110e+07, 1.34496900e+07, 1.31067820e+07,\n",
              "        1.17331250e+07, 6.91226800e+06, 3.13698050e+06, 1.65340888e+06,\n",
              "        1.61609500e+06, 2.14875925e+06, 3.55224550e+06, 4.36997500e+06,\n",
              "        7.66936950e+06, 9.12659700e+06, 1.06979570e+07, 1.30085440e+07,\n",
              "        1.69443920e+07, 1.54387610e+07, 1.98315580e+07, 2.35960380e+07,\n",
              "        3.13999080e+07, 4.00776640e+07, 4.04252880e+07, 3.45073080e+07,\n",
              "        3.12173940e+07, 2.27076860e+07, 1.26034870e+07, 4.05912175e+06,\n",
              "        8.46245700e+06, 2.06357320e+07, 2.50170740e+07, 1.19357070e+07,\n",
              "        2.65073600e+06, 4.20662100e+06, 1.58420590e+07, 1.61800020e+07,\n",
              "        1.75193660e+07, 1.74692500e+07, 1.88219360e+07, 2.24467840e+07,\n",
              "        2.31207160e+07, 1.04771780e+07, 5.62447300e+06, 3.66496975e+06,\n",
              "        2.56506325e+06, 4.63532700e+06, 8.83580300e+06, 1.72389120e+07,\n",
              "        1.32019570e+07, 1.41451680e+07, 1.57892790e+07, 1.18421420e+07,\n",
              "        2.58375420e+07, 4.39272600e+07, 3.95239480e+07, 4.41259720e+07,\n",
              "        5.73386920e+07, 5.21624120e+07, 5.05271400e+07, 3.03011520e+07,\n",
              "        1.33739750e+07, 1.09965600e+07, 7.75892250e+06, 1.11513070e+07,\n",
              "        1.42397070e+07, 1.78113500e+07, 1.77153760e+07, 2.15624360e+07,\n",
              "        1.12636500e+07, 1.03996100e+07, 2.31375680e+07, 4.66754360e+07,\n",
              "        8.30064400e+07, 9.07066400e+07, 6.03877000e+07, 4.47867120e+07,\n",
              "        2.26670900e+07, 1.04755070e+07, 5.08792700e+06, 8.14332950e+06,\n",
              "        8.55711000e+06, 1.45132030e+07, 2.48205800e+07, 3.62774760e+07,\n",
              "        3.09430380e+07, 4.05449480e+07, 4.80442440e+07, 4.70540880e+07,\n",
              "        2.55075000e+07, 1.91397960e+07, 9.42659100e+06, 2.53638425e+06,\n",
              "        4.93325100e+06, 1.50763450e+07, 1.86929860e+07, 1.70558520e+07,\n",
              "        2.89454980e+07, 4.19635200e+07, 4.73497600e+07, 3.75454200e+07,\n",
              "        3.56028560e+07, 2.54151620e+07, 1.42973980e+07, 9.73199300e+06,\n",
              "        6.21520350e+06, 8.91084300e+06, 8.14168800e+06, 6.91539700e+06,\n",
              "        2.83949400e+06, 2.76879000e+06, 2.05843200e+06, 5.94533650e+06,\n",
              "        6.22562650e+06, 4.05659225e+06, 6.32509700e+06, 7.70896950e+06,\n",
              "        5.26267250e+06, 4.64594650e+06, 9.61432800e+06, 1.35207060e+07,\n",
              "        1.09375120e+07, 8.12817050e+06, 8.50059300e+06, 1.72122640e+07,\n",
              "        4.38096080e+07, 7.24332400e+07, 1.01472984e+08, 1.18196784e+08,\n",
              "        1.02776792e+08, 6.98708000e+07, 5.20939240e+07, 3.63792680e+07,\n",
              "        1.73749720e+07, 8.77671500e+06, 1.20161310e+07, 2.06385900e+07,\n",
              "        1.99386520e+07, 1.14968180e+07, 5.71181750e+06, 2.85355375e+06,\n",
              "        3.66636275e+06, 3.90349825e+06, 6.57952750e+06, 8.87721900e+06,\n",
              "        5.05301300e+06, 1.00906190e+07, 2.13060300e+07, 2.22158900e+07,\n",
              "        5.11574120e+07, 8.43695440e+07, 1.10019112e+08], dtype=float32),\n",
              " 'rmse': array([  764.81964 ,   636.091   ,   667.3536  ,   837.90985 ,\n",
              "          847.8467  ,   896.942   ,   764.1326  ,   700.10815 ,\n",
              "          833.2297  ,   992.5016  ,  1078.5239  ,  1061.4138  ,\n",
              "         1100.2285  ,  1077.1497  ,   831.11786 ,   563.22174 ,\n",
              "          372.96817 ,   362.70605 ,   270.42816 ,   286.72925 ,\n",
              "          211.11061 ,   103.513985,   255.93242 ,   318.3746  ,\n",
              "          331.79224 ,   402.6748  ,   382.98096 ,   304.29077 ,\n",
              "          379.29184 ,   321.72458 ,   370.54135 ,   526.8793  ,\n",
              "          569.07495 ,   618.37244 ,   612.9556  ,   578.7383  ,\n",
              "          626.7716  ,   488.23926 ,   538.25305 ,   316.618   ,\n",
              "          263.5139  ,   241.28119 ,   206.31065 ,   175.44572 ,\n",
              "          224.00912 ,   220.07025 ,   239.30232 ,   283.7719  ,\n",
              "          275.308   ,   277.39478 ,   314.91708 ,   283.36826 ,\n",
              "          345.88058 ,   317.55032 ,   387.5523  ,   409.55362 ,\n",
              "          472.0745  ,   505.34702 ,   510.14383 ,   485.5419  ,\n",
              "          373.0196  ,   466.04364 ,   472.5424  ,   447.25845 ,\n",
              "          572.91254 ,   588.7361  ,   514.5337  ,   386.5417  ,\n",
              "          303.43747 ,   243.50412 ,   281.9394  ,   445.25415 ,\n",
              "          596.72284 ,   641.6039  ,   561.668   ,   536.60645 ,\n",
              "          546.42163 ,   422.99503 ,   518.9035  ,   654.41974 ,\n",
              "          686.55444 ,   633.67224 ,   431.5142  ,   185.45905 ,\n",
              "          289.43292 ,   286.4745  ,   312.08502 ,   465.7415  ,\n",
              "          423.39352 ,   514.78485 ,   424.10828 ,   516.3059  ,\n",
              "          460.9158  ,   405.64215 ,   358.70328 ,   279.54254 ,\n",
              "          424.88562 ,   674.001   ,   826.7535  ,   960.97906 ,\n",
              "          892.5471  ,   633.6347  ,   489.86395 ,   668.05225 ,\n",
              "          730.62897 ,   803.5175  ,   838.199   ,   885.26105 ,\n",
              "         1135.1869  ,  1178.0411  ,  1107.5221  ,   841.968   ,\n",
              "          650.808   ,   492.80692 ,   304.56262 ,   434.7958  ,\n",
              "          539.1166  ,   546.8037  ,   655.6649  ,  1427.9742  ,\n",
              "         1993.5299  ,  2508.032   ,  2770.81    ,  2801.3865  ,\n",
              "         2898.587   ,  2957.7239  ,  1976.5803  ,  1147.3479  ,\n",
              "          626.8722  ,   480.23297 ,   697.3599  ,   834.53546 ,\n",
              "          988.8879  ,   709.9419  ,   541.07837 ,   469.07806 ,\n",
              "          345.8474  ,   427.61575 ,   424.77744 ,   454.323   ,\n",
              "          420.47223 ,   550.73645 ,   368.45758 ,   406.4459  ,\n",
              "          558.0992  ,   411.9374  ,   418.65503 ,   378.6251  ,\n",
              "          348.3802  ,   357.24258 ,   391.79022 ,   376.6466  ,\n",
              "          387.87643 ,   759.6861  ,   796.8654  ,   492.62573 ,\n",
              "          358.1259  ,   287.87476 ,   389.4133  ,   323.9075  ,\n",
              "          224.46405 ,   225.38531 ,   223.05562 ,   384.60413 ,\n",
              "          389.1179  ,   356.43118 ,   347.47437 ,   706.0541  ,\n",
              "          797.6071  ,   885.2754  ,   967.24744 ,  1119.0593  ,\n",
              "         1057.9462  ,  1007.0504  ,   793.8102  ,   661.3864  ,\n",
              "          645.33264 ,   569.0061  ,   583.33044 ,   609.5825  ,\n",
              "          514.39856 ,   420.1154  ,   635.84064 ,   975.3766  ,\n",
              "         1059.8102  ,   662.71674 ,   365.80328 ,   386.1673  ,\n",
              "          432.44568 ,   437.96286 ,   370.36618 ,   308.68448 ,\n",
              "          409.50928 ,   540.08093 ,   707.06714 ,   821.4801  ,\n",
              "          707.50653 ,   636.3419  ,   484.27237 ,   439.36728 ,\n",
              "          540.64386 ,   707.0417  ,   821.42413 ,   477.60028 ,\n",
              "          408.8401  ,   321.10043 ,   189.75816 ,   458.8482  ,\n",
              "          317.93542 ,   398.333   ,   598.5786  ,   546.72546 ,\n",
              "          424.26703 ,   490.9731  ,   501.1873  ,   587.4132  ,\n",
              "          671.3828  ,   512.26105 ,   542.052   ,   565.6448  ,\n",
              "          459.71106 ,   418.99936 ,   332.2103  ,   464.06726 ,\n",
              "          395.8094  ,   420.2961  ,   343.46304 ,   322.29205 ,\n",
              "          530.6739  ,   614.1792  ,   561.3245  ,   523.37866 ,\n",
              "          522.5988  ,   348.76755 ,   316.547   ,   341.52887 ,\n",
              "          296.33017 ,   356.29785 ,   296.44363 ,   299.21274 ,\n",
              "          247.6249  ,   270.0707  ,   230.65303 ,   289.90118 ,\n",
              "          475.21265 ,   398.0459  ,   352.77457 ,   357.76498 ,\n",
              "          348.6041  ,   401.12207 ,   432.222   ,   376.66486 ,\n",
              "          289.10635 ,   276.7752  ,   304.88132 ,   325.21863 ,\n",
              "          681.08466 ,   838.6324  ,  1047.7579  ,  1107.7386  ,\n",
              "         1232.9592  ,  1331.7595  ,  1299.8042  ,   839.54987 ,\n",
              "          553.285   ,   358.53647 ,   184.20277 ,   402.28586 ,\n",
              "          556.1153  ,   507.46713 ,   389.4817  ,   335.84412 ,\n",
              "          412.2667  ,   416.19577 ,   389.01752 ,   439.3155  ,\n",
              "          507.27518 ,   580.13196 ,   353.9077  ,   439.4593  ,\n",
              "          360.4517  ,   422.93362 ,   327.2115  ,   278.07413 ,\n",
              "          585.28876 ,   669.9859  ,   728.5939  ,   633.3931  ,\n",
              "          654.75916 ,   674.9785  ,   565.5234  ,   604.39026 ,\n",
              "          338.9476  ,   464.6673  ,   569.825   ,   648.0183  ,\n",
              "          906.9205  ,  1115.0496  ,  1331.6205  ,  1667.0234  ,\n",
              "         1669.7292  ,  1400.3799  ,  1155.7808  ,   681.3711  ,\n",
              "          474.71686 ,   500.7456  ,   203.98878 ,   378.6139  ,\n",
              "          426.41187 ,   514.582   ,   456.9275  ,   383.14932 ,\n",
              "          349.0217  ,   337.7245  ,   554.7051  ,   573.887   ,\n",
              "          567.525   ,   676.2276  ,   677.2883  ,   578.9841  ,\n",
              "          538.0468  ,   359.00058 ,   335.03647 ,   384.02878 ,\n",
              "          413.30634 ,   470.559   ,   529.2243  ,   579.11865 ,\n",
              "          660.0346  ,   511.01416 ,   464.55237 ,   303.1642  ,\n",
              "          383.11697 ,   536.48846 ,   542.23944 ,   650.4248  ,\n",
              "          575.2063  ,   481.42438 ,   256.8748  ,   183.28859 ,\n",
              "          376.52176 ,   390.32703 ,   563.6436  ,   754.53986 ,\n",
              "          922.63055 ,  1073.8685  ,  1164.6875  ,  1132.3918  ,\n",
              "         1090.9208  ,   761.2097  ,   558.76135 ,   444.2612  ,\n",
              "          421.9279  ,   313.59616 ,   399.75333 ,   490.8746  ,\n",
              "          444.53165 ,   550.1162  ,   806.7379  ,  1072.0941  ,\n",
              "         1239.0682  ,  1183.3834  ,  1174.3334  ,  1055.0354  ,\n",
              "          774.8777  ,   767.4278  ,   639.48816 ,   587.88367 ,\n",
              "          750.29193 ,   938.12555 ,  1023.79047 ,  1165.8918  ,\n",
              "         1411.8739  ,  1475.5961  ,  1728.6136  ,  1679.6849  ,\n",
              "         1401.962   ,  1058.6927  ,   795.6471  ,   887.3444  ,\n",
              "         1147.0687  ,  1276.9647  ,  1103.1157  ,  1577.7013  ,\n",
              "         1575.6342  ,  1036.1481  ,   964.1328  ,  1053.1428  ,\n",
              "         1001.7241  ,   614.93744 ,   366.5868  ,   570.7168  ,\n",
              "          986.4338  ,  1158.239   ,  1012.22504 ,  1102.5562  ,\n",
              "         1135.7047  ,   950.52203 ,   995.0524  ,  1884.6464  ,\n",
              "         2597.4517  ,  3246.1687  ,  3667.3818  ,  3620.329   ,\n",
              "         3425.365   ,  2629.1191  ,  1771.1523  ,  1285.8495  ,\n",
              "         1271.2573  ,  1465.8646  ,  1884.7401  ,  2090.4485  ,\n",
              "         2769.3628  ,  3021.0254  ,  3270.773   ,  3606.7356  ,\n",
              "         4116.3564  ,  3929.2188  ,  4453.2637  ,  4857.575   ,\n",
              "         5603.5625  ,  6330.6914  ,  6358.0884  ,  5874.292   ,\n",
              "         5587.253   ,  4765.2583  ,  3550.1392  ,  2014.7262  ,\n",
              "         2909.0303  ,  4542.657   ,  5001.7065  ,  3454.8093  ,\n",
              "         1628.108   ,  2051.0046  ,  3980.2085  ,  4022.437   ,\n",
              "         4185.6143  ,  4179.623   ,  4338.4253  ,  4737.8037  ,\n",
              "         4808.4004  ,  3236.8467  ,  2371.5972  ,  1914.4111  ,\n",
              "         1601.5814  ,  2152.981   ,  2972.5078  ,  4151.977   ,\n",
              "         3633.45    ,  3761.0066  ,  3973.5723  ,  3441.2415  ,\n",
              "         5083.064   ,  6627.764   ,  6286.8076  ,  6642.738   ,\n",
              "         7572.231   ,  7222.3545  ,  7108.2446  ,  5504.6484  ,\n",
              "         3657.0444  ,  3316.1064  ,  2785.4841  ,  3339.3574  ,\n",
              "         3773.5535  ,  4220.349   ,  4208.9634  ,  4643.5366  ,\n",
              "         3356.136   ,  3224.8425  ,  4810.1523  ,  6831.942   ,\n",
              "         9110.787   ,  9524.002   ,  7770.9526  ,  6692.287   ,\n",
              "         4760.9966  ,  3236.5889  ,  2255.6433  ,  2853.652   ,\n",
              "         2925.254   ,  3809.6199  ,  4982.0254  ,  6023.078   ,\n",
              "         5562.647   ,  6367.4917  ,  6931.395   ,  6859.598   ,\n",
              "         5050.495   ,  4374.9053  ,  3070.2754  ,  1592.6029  ,\n",
              "         2221.0923  ,  3882.827   ,  4323.5386  ,  4129.873   ,\n",
              "         5380.102   ,  6477.926   ,  6881.116   ,  6127.431   ,\n",
              "         5966.8125  ,  5041.345   ,  3781.19    ,  3119.614   ,\n",
              "         2493.0308  ,  2985.1035  ,  2853.3645  ,  2629.7144  ,\n",
              "         1685.08    ,  1663.9681  ,  1434.7235  ,  2438.3062  ,\n",
              "         2495.1204  ,  2014.0985  ,  2514.9746  ,  2776.503   ,\n",
              "         2294.0515  ,  2155.4458  ,  3100.6978  ,  3677.0513  ,\n",
              "         3307.1912  ,  2850.9949  ,  2915.5776  ,  4148.7666  ,\n",
              "         6618.883   ,  8510.771   , 10073.381   , 10871.835   ,\n",
              "        10137.889   ,  8358.875   ,  7217.612   ,  6031.522   ,\n",
              "         4168.3296  ,  2962.5522  ,  3466.4292  ,  4542.9717  ,\n",
              "         4465.2715  ,  3390.696   ,  2389.941   ,  1689.2466  ,\n",
              "         1914.7749  ,  1975.7273  ,  2565.0588  ,  2979.466   ,\n",
              "         2247.8909  ,  3176.5735  ,  4615.8457  ,  4713.3735  ,\n",
              "         7152.441   ,  9185.289   , 10489.      ], dtype=float32)}"
            ]
          },
          "metadata": {
            "tags": []
          },
          "execution_count": 94
        }
      ]
    },
    {
      "cell_type": "markdown",
      "metadata": {
        "id": "t405o940Twum"
      },
      "source": [
        "To fix this, let's adjust our `evaluate_preds()` function to work with multiple shapes of data."
      ]
    },
    {
      "cell_type": "code",
      "metadata": {
        "id": "ERkl26UFgSbz"
      },
      "source": [
        "def evaluate_preds(y_true, y_pred):\n",
        "  # Make sure float32 (for metric calculations)\n",
        "  y_true = tf.cast(y_true, dtype=tf.float32)\n",
        "  y_pred = tf.cast(y_pred, dtype=tf.float32)\n",
        "\n",
        "  # Calculate various metrics\n",
        "  mae = tf.keras.metrics.mean_absolute_error(y_true, y_pred)\n",
        "  mse = tf.keras.metrics.mean_squared_error(y_true, y_pred)\n",
        "  rmse = tf.sqrt(mse)\n",
        "  mape = tf.keras.metrics.mean_absolute_percentage_error(y_true, y_pred)\n",
        "  mase = mean_absolute_scaled_error(y_true, y_pred)\n",
        "\n",
        "  # Account for different sized metrics (for longer horizons, reduce to single number)\n",
        "  if mae.ndim > 0: # if mae isn't already a scalar, reduce it to one by aggregating tensors to mean\n",
        "    mae = tf.reduce_mean(mae)\n",
        "    mse = tf.reduce_mean(mse)\n",
        "    rmse = tf.reduce_mean(rmse)\n",
        "    mape = tf.reduce_mean(mape)\n",
        "    mase = tf.reduce_mean(mase)\n",
        "\n",
        "  return {\"mae\": mae.numpy(),\n",
        "          \"mse\": mse.numpy(),\n",
        "          \"rmse\": rmse.numpy(),\n",
        "          \"mape\": mape.numpy(),\n",
        "          \"mase\": mase.numpy()}"
      ],
      "execution_count": 95,
      "outputs": []
    },
    {
      "cell_type": "markdown",
      "metadata": {
        "id": "_RnoZl28Udx4"
      },
      "source": [
        "Now we've updated `evaluate_preds()` to work with multiple shapes, how does it look?"
      ]
    },
    {
      "cell_type": "code",
      "metadata": {
        "colab": {
          "base_uri": "https://localhost:8080/"
        },
        "id": "Kt1Z8yjpUij2",
        "outputId": "2693854f-0df0-4160-83b1-f2dbf047eb1a"
      },
      "source": [
        "# Get model_3 results aggregated to single values\n",
        "model_3_results = evaluate_preds(y_true=tf.squeeze(test_labels),\n",
        "                                 y_pred=model_3_preds)\n",
        "model_3_results"
      ],
      "execution_count": 96,
      "outputs": [
        {
          "output_type": "execute_result",
          "data": {
            "text/plain": [
              "{'mae': 1422.7954,\n",
              " 'mape': 6.590842,\n",
              " 'mase': 2.5317845,\n",
              " 'mse': 6533327.0,\n",
              " 'rmse': 1625.3761}"
            ]
          },
          "metadata": {
            "tags": []
          },
          "execution_count": 96
        }
      ]
    },
    {
      "cell_type": "markdown",
      "metadata": {
        "id": "0XNIJfcsTpdA"
      },
      "source": [
        "If we try to plot our multi-horizon predicts, we're going to get a funky looking plot."
      ]
    },
    {
      "cell_type": "code",
      "metadata": {
        "colab": {
          "base_uri": "https://localhost:8080/",
          "height": 442
        },
        "id": "gBdg1NcLs3gW",
        "outputId": "539de762-8afe-445b-f9bd-cdc9efe4b91c"
      },
      "source": [
        "offset = 300\n",
        "plt.figure(figsize=(10, 7))\n",
        "plot_time_series(timesteps=X_test[-len(test_windows):], values=test_labels[:, 0], start=offset, label=\"Test_data\")\n",
        "# Checking the shape of model_3_preds results in [n_test_samples, HORIZON] (this will screw up the plot)\n",
        "plot_time_series(timesteps=X_test[-len(test_windows):], values=model_3_preds, start=offset, label=\"model_3_preds\") "
      ],
      "execution_count": 97,
      "outputs": [
        {
          "output_type": "display_data",
          "data": {
            "image/png": "[encoded data removed]",
            "text/plain": [
              "<Figure size 720x504 with 1 Axes>"
            ]
          },
          "metadata": {
            "tags": [],
            "needs_background": "light"
          }
        }
      ]
    },
    {
      "cell_type": "markdown",
      "metadata": {
        "id": "j3nZnSG1Uute"
      },
      "source": [
        "TODO: what information do we lose through aggregated the predictions? E.g. going from 7 steps at a time to one step at a time? \n",
        "\n",
        "Again, we can fix this by aggregating our model's predictions."
      ]
    },
    {
      "cell_type": "code",
      "metadata": {
        "colab": {
          "base_uri": "https://localhost:8080/",
          "height": 442
        },
        "id": "wYpZb27bU6OO",
        "outputId": "28d2098d-82b4-4d31-d80f-7606a0cc277d"
      },
      "source": [
        "offset = 300\n",
        "plt.figure(figsize=(10, 7))\n",
        "# Plot model_3_preds by aggregating them (note: this condenses information so the preds will look fruther ahead than the test data)\n",
        "plot_time_series(timesteps=X_test[-len(test_windows):], values=test_labels[:, 0], start=offset, label=\"Test_data\")\n",
        "plot_time_series(timesteps=X_test[-len(test_windows):], values=tf.reduce_mean(model_3_preds, axis=1), start=offset, label=\"model_3_preds\")"
      ],
      "execution_count": 98,
      "outputs": [
        {
          "output_type": "display_data",
          "data": {
            "image/png": "[encoded data removed]",
            "text/plain": [
              "<Figure size 720x504 with 1 Axes>"
            ]
          },
          "metadata": {
            "tags": [],
            "needs_background": "light"
          }
        }
      ]
    },
    {
      "cell_type": "markdown",
      "metadata": {
        "id": "Ojqon-Y5VpCC"
      },
      "source": [
        "Which of our models is performing best so far?"
      ]
    },
    {
      "cell_type": "code",
      "metadata": {
        "colab": {
          "base_uri": "https://localhost:8080/"
        },
        "id": "ItBZl38fWEAC",
        "outputId": "80662d68-654e-45ea-bcc4-b92cda0d6bab"
      },
      "source": [
        "model_1_results, model_2_results"
      ],
      "execution_count": 99,
      "outputs": [
        {
          "output_type": "execute_result",
          "data": {
            "text/plain": [
              "({'mae': 763.506,\n",
              "  'mape': 3.3924627,\n",
              "  'mase': 1.3412685,\n",
              "  'mse': 1933137.0,\n",
              "  'rmse': 1390.3729},\n",
              " {'mae': 756.4862,\n",
              "  'mape': 3.4484272,\n",
              "  'mase': 1.3223451,\n",
              "  'mse': 1840753.9,\n",
              "  'rmse': 1356.7439})"
            ]
          },
          "metadata": {
            "tags": []
          },
          "execution_count": 99
        }
      ]
    },
    {
      "cell_type": "code",
      "metadata": {
        "colab": {
          "base_uri": "https://localhost:8080/"
        },
        "id": "ABvnMeWfWOZq",
        "outputId": "7dfa758c-a5ac-4d31-81c9-9e6bfbc49c5f"
      },
      "source": [
        "naive_results[\"mae\"]"
      ],
      "execution_count": 100,
      "outputs": [
        {
          "output_type": "execute_result",
          "data": {
            "text/plain": [
              "567.9802"
            ]
          },
          "metadata": {
            "tags": []
          },
          "execution_count": 100
        }
      ]
    },
    {
      "cell_type": "code",
      "metadata": {
        "colab": {
          "base_uri": "https://localhost:8080/",
          "height": 440
        },
        "id": "QA4EKseAVrYf",
        "outputId": "4c51e5c5-c9c6-4e85-dfea-e733372c2d7f"
      },
      "source": [
        "pd.DataFrame({\"naive\": naive_results[\"mae\"], \n",
        "              \"horizon_1_window_7\": model_1_results[\"mae\"], \n",
        "              \"horizon_1_window_30\": model_2_results[\"mae\"], \n",
        "              \"horizon_7_window_30\": model_3_results[\"mae\"]}, index=[\"mae\"]).plot(figsize=(10, 7), kind=\"bar\");"
      ],
      "execution_count": 101,
      "outputs": [
        {
          "output_type": "display_data",
          "data": {
            "image/png": "[encoded data removed]",
            "text/plain": [
              "<Figure size 720x504 with 1 Axes>"
            ]
          },
          "metadata": {
            "tags": [],
            "needs_background": "light"
          }
        }
      ]
    },
    {
      "cell_type": "markdown",
      "metadata": {
        "id": "dIRwia9BWeI5"
      },
      "source": [
        "Our naive model is performing best (it's very hard to beat a naive model in open systems) but the dense model with a horizon of 1 and a window size of 7 looks to be performing cloest.\n",
        "\n",
        "Because of this, let's use `HORIZON=1` and `WINDOW_SIZE=7` for our next series of modelling experiments (in other words, we'll use the previous week of Bitcoin prices to try and predict the next day)."
      ]
    },
    {
      "cell_type": "markdown",
      "metadata": {
        "id": "CxcL0gi-rWC5"
      },
      "source": [
        "## TODO: Model 4: Conv1D"
      ]
    },
    {
      "cell_type": "code",
      "metadata": {
        "id": "2_t9hXvXrZPD"
      },
      "source": [
        "HORIZON = 1 # predict next day\n",
        "WINDOW_SIZE = 7 # use previous week worth of data"
      ],
      "execution_count": 102,
      "outputs": []
    },
    {
      "cell_type": "code",
      "metadata": {
        "colab": {
          "base_uri": "https://localhost:8080/"
        },
        "id": "CRCy-vXzsEGL",
        "outputId": "c9038fd5-cde5-4220-a1e0-767b9c844902"
      },
      "source": [
        "# Create windowed dataset\n",
        "full_windows, full_labels = make_windows(prices, window_size=WINDOW_SIZE, horizon=HORIZON)\n",
        "len(full_windows), len(full_labels)"
      ],
      "execution_count": 103,
      "outputs": [
        {
          "output_type": "execute_result",
          "data": {
            "text/plain": [
              "(2780, 2780)"
            ]
          },
          "metadata": {
            "tags": []
          },
          "execution_count": 103
        }
      ]
    },
    {
      "cell_type": "code",
      "metadata": {
        "colab": {
          "base_uri": "https://localhost:8080/"
        },
        "id": "ZtsLeB3rsED2",
        "outputId": "6374e0a6-5269-44ac-9ccc-423acceca47b"
      },
      "source": [
        "# Create train/test splits\n",
        "train_windows, test_windows, train_labels, test_labels = make_train_test_splits(full_windows, full_labels)\n",
        "len(train_windows), len(test_windows), len(train_labels), len(test_labels)"
      ],
      "execution_count": 104,
      "outputs": [
        {
          "output_type": "execute_result",
          "data": {
            "text/plain": [
              "(2224, 556, 2224, 556)"
            ]
          },
          "metadata": {
            "tags": []
          },
          "execution_count": 104
        }
      ]
    },
    {
      "cell_type": "markdown",
      "metadata": {
        "id": "RMtzZKYRXExH"
      },
      "source": [
        "TK - Since we're going to be using [Conv1D layers](https://www.tensorflow.org/api_docs/python/tf/keras/layers/Conv1D), we need to make sure our input shapes are correct.\n",
        "\n",
        "The Conv1D layer in TensorFlow takes an input of: `(batch_size, timesteps, input_dim)`.\n",
        "\n",
        "In our case, the `batch_size` is handled for us but the other values will be:\n",
        "* `timesteps = WINDOW_SIZE` - the `timesteps` is also often referred to as `features`, our features are the previous `WINDOW_SIZE` values of Bitcoin \n",
        "* `input_dim = 1` - our model views one week of data at a time to predict the next day\n",
        "\n",
        "Right now, our data has the `timesteps` dimension ready but we'll have to adjust it to have the `input_dim` dimension. "
      ]
    },
    {
      "cell_type": "code",
      "metadata": {
        "colab": {
          "base_uri": "https://localhost:8080/"
        },
        "id": "To_k7zIAX7Pj",
        "outputId": "5f0a5f2f-9a61-4e5e-9227-65283e2d5af2"
      },
      "source": [
        "# Check data sample shapes\n",
        "train_windows[0].shape # returns (WINDOW_SIZE, )"
      ],
      "execution_count": 105,
      "outputs": [
        {
          "output_type": "execute_result",
          "data": {
            "text/plain": [
              "(7,)"
            ]
          },
          "metadata": {
            "tags": []
          },
          "execution_count": 105
        }
      ]
    },
    {
      "cell_type": "markdown",
      "metadata": {
        "id": "oPIMnb3GYMvP"
      },
      "source": [
        "To fix this, we could adjust the shape of all of our `train_windows` or we could use a `tf.keras.layers.Lamdba` (called a Lambda layer) to do this for us in our model."
      ]
    },
    {
      "cell_type": "code",
      "metadata": {
        "colab": {
          "base_uri": "https://localhost:8080/"
        },
        "id": "62oSNy3VvZpv",
        "outputId": "015e5e4e-65b2-47e1-965b-404f6deaa8b1"
      },
      "source": [
        "# Before we pass our data to the Conv1D layer, we have to reshape it in order to make sure it works\n",
        "x = tf.constant(train_windows[0])\n",
        "expand_dims_layer = layers.Lambda(lambda x: tf.expand_dims(x, axis=1)) # add an extra dimension for timesteps\n",
        "print(f\"Original shape: {x.shape}\") # (WINDOW_SIZE)\n",
        "print(f\"Expanded shape: {expand_dims_layer(x).shape}\") # (WINDOW_SIZE, input_dim) \n",
        "print(f\"Original values with expanded shape:\\n {expand_dims_layer(x)}\")"
      ],
      "execution_count": 106,
      "outputs": [
        {
          "output_type": "stream",
          "text": [
            "Original shape: (7,)\n",
            "Expanded shape: (7, 1)\n",
            "Original values with expanded shape:\n",
            " [[123.65499]\n",
            " [125.455  ]\n",
            " [108.58483]\n",
            " [118.67466]\n",
            " [121.33866]\n",
            " [120.65533]\n",
            " [121.795  ]]\n"
          ],
          "name": "stdout"
        }
      ]
    },
    {
      "cell_type": "code",
      "metadata": {
        "colab": {
          "base_uri": "https://localhost:8080/"
        },
        "id": "jODevMWGsEBI",
        "outputId": "74cfa057-0a86-426f-b57b-453300bc6698"
      },
      "source": [
        "# Create model\n",
        "model_4 = tf.keras.Sequential([\n",
        "  # Create Lambda layer to reshape inputs, without this layer, the model will error\n",
        "  layers.Lambda(lambda x: tf.expand_dims(x, axis=1)), # resize the inputs to adjust for window size / Conv1D 3D input requirements\n",
        "  layers.Conv1D(filters=128, kernel_size=3, padding=\"causal\", activation=\"relu\"),\n",
        "  layers.Dense(HORIZON)\n",
        "], name=\"model_4_conv1D\")\n",
        "\n",
        "# Compile model\n",
        "model_4.compile(loss=\"mae\",\n",
        "                optimizer=tf.keras.optimizers.Adam())\n",
        "\n",
        "# Fit model\n",
        "model_4.fit(train_windows,\n",
        "            train_labels, \n",
        "            epochs=10,\n",
        "            validation_data=(test_windows, test_labels),\n",
        "            callbacks=[create_model_checkpoint(model_name=model_4.name)])"
      ],
      "execution_count": 107,
      "outputs": [
        {
          "output_type": "stream",
          "text": [
            "Epoch 1/10\n",
            "70/70 [==============================] - 1s 4ms/step - loss: 573.8150 - val_loss: 1082.8043\n",
            "INFO:tensorflow:Assets written to: model_experiments/model_4_conv1D/assets\n",
            "Epoch 2/10\n",
            "70/70 [==============================] - 0s 3ms/step - loss: 183.5497 - val_loss: 990.6661\n",
            "INFO:tensorflow:Assets written to: model_experiments/model_4_conv1D/assets\n",
            "Epoch 3/10\n",
            "70/70 [==============================] - 0s 2ms/step - loss: 175.4526 - val_loss: 951.7990\n",
            "INFO:tensorflow:Assets written to: model_experiments/model_4_conv1D/assets\n",
            "Epoch 4/10\n",
            "70/70 [==============================] - 0s 2ms/step - loss: 166.1359 - val_loss: 854.8732\n",
            "INFO:tensorflow:Assets written to: model_experiments/model_4_conv1D/assets\n",
            "Epoch 5/10\n",
            "70/70 [==============================] - 0s 2ms/step - loss: 153.4301 - val_loss: 823.3202\n",
            "INFO:tensorflow:Assets written to: model_experiments/model_4_conv1D/assets\n",
            "Epoch 6/10\n",
            "70/70 [==============================] - 0s 2ms/step - loss: 144.2551 - val_loss: 779.6635\n",
            "INFO:tensorflow:Assets written to: model_experiments/model_4_conv1D/assets\n",
            "Epoch 7/10\n",
            "70/70 [==============================] - 0s 2ms/step - loss: 144.9633 - val_loss: 780.6532\n",
            "Epoch 8/10\n",
            "70/70 [==============================] - 0s 2ms/step - loss: 141.4988 - val_loss: 750.6558\n",
            "INFO:tensorflow:Assets written to: model_experiments/model_4_conv1D/assets\n",
            "Epoch 9/10\n",
            "70/70 [==============================] - 0s 2ms/step - loss: 136.0453 - val_loss: 1020.9984\n",
            "Epoch 10/10\n",
            "70/70 [==============================] - 0s 2ms/step - loss: 144.2247 - val_loss: 746.4917\n",
            "INFO:tensorflow:Assets written to: model_experiments/model_4_conv1D/assets\n"
          ],
          "name": "stdout"
        },
        {
          "output_type": "execute_result",
          "data": {
            "text/plain": [
              "<tensorflow.python.keras.callbacks.History at 0x7ff4a3556d10>"
            ]
          },
          "metadata": {
            "tags": []
          },
          "execution_count": 107
        }
      ]
    },
    {
      "cell_type": "code",
      "metadata": {
        "colab": {
          "base_uri": "https://localhost:8080/"
        },
        "id": "2FcGUALG4RxJ",
        "outputId": "88bcb0d5-c65b-4e88-f9ed-c50d9ee7b77a"
      },
      "source": [
        "model_4.summary()"
      ],
      "execution_count": 108,
      "outputs": [
        {
          "output_type": "stream",
          "text": [
            "Model: \"model_4_conv1D\"\n",
            "_________________________________________________________________\n",
            "Layer (type)                 Output Shape              Param #   \n",
            "=================================================================\n",
            "lambda_1 (Lambda)            (None, 1, 7)              0         \n",
            "_________________________________________________________________\n",
            "conv1d (Conv1D)              (None, 1, 128)            2816      \n",
            "_________________________________________________________________\n",
            "dense_6 (Dense)              (None, 1, 1)              129       \n",
            "=================================================================\n",
            "Total params: 2,945\n",
            "Trainable params: 2,945\n",
            "Non-trainable params: 0\n",
            "_________________________________________________________________\n"
          ],
          "name": "stdout"
        }
      ]
    },
    {
      "cell_type": "code",
      "metadata": {
        "colab": {
          "base_uri": "https://localhost:8080/"
        },
        "id": "KXEL9FuhsD-3",
        "outputId": "70c55e21-ef91-4c14-a3aa-cf214bdc2ebe"
      },
      "source": [
        "model_4 = tf.keras.models.load_model(\"model_experiments/model_4_conv1D\")\n",
        "model_4.evaluate(test_windows, test_labels)"
      ],
      "execution_count": 109,
      "outputs": [
        {
          "output_type": "stream",
          "text": [
            "18/18 [==============================] - 0s 2ms/step - loss: 746.4917\n"
          ],
          "name": "stdout"
        },
        {
          "output_type": "execute_result",
          "data": {
            "text/plain": [
              "746.49169921875"
            ]
          },
          "metadata": {
            "tags": []
          },
          "execution_count": 109
        }
      ]
    },
    {
      "cell_type": "code",
      "metadata": {
        "colab": {
          "base_uri": "https://localhost:8080/"
        },
        "id": "j99tbnwSsD8R",
        "outputId": "6e659b2a-595a-4836-dd0b-83cd63dca92d"
      },
      "source": [
        "# Make predictions\n",
        "model_4_preds = make_forecast(model_4, test_windows)\n",
        "model_4_preds[:10]"
      ],
      "execution_count": 110,
      "outputs": [
        {
          "output_type": "execute_result",
          "data": {
            "text/plain": [
              "<tf.Tensor: shape=(10,), dtype=float32, numpy=\n",
              "array([8933.125 , 8784.543 , 8834.274 , 8678.964 , 8669.731 , 8664.715 ,\n",
              "       8599.756 , 8454.384 , 8427.6045, 8400.453 ], dtype=float32)>"
            ]
          },
          "metadata": {
            "tags": []
          },
          "execution_count": 110
        }
      ]
    },
    {
      "cell_type": "code",
      "metadata": {
        "colab": {
          "base_uri": "https://localhost:8080/"
        },
        "id": "yjfEDWxjrZW2",
        "outputId": "a8ffae31-1bea-43eb-9eeb-c17b554c0304"
      },
      "source": [
        "# Evaluate predictions\n",
        "model_4_results = evaluate_preds(y_true=tf.squeeze(test_labels),\n",
        "                                 y_pred=model_4_preds)\n",
        "model_4_results"
      ],
      "execution_count": 111,
      "outputs": [
        {
          "output_type": "execute_result",
          "data": {
            "text/plain": [
              "{'mae': 746.4917,\n",
              " 'mape': 3.3379905,\n",
              " 'mase': 1.3113792,\n",
              " 'mse': 1693792.1,\n",
              " 'rmse': 1301.4576}"
            ]
          },
          "metadata": {
            "tags": []
          },
          "execution_count": 111
        }
      ]
    },
    {
      "cell_type": "markdown",
      "metadata": {
        "id": "pZ2s0Rx0rZjE"
      },
      "source": [
        "## TODO: Model 5: RNN (LSTM)\n",
        "\n",
        "TK (image) - make an image of inputs -> model -> output "
      ]
    },
    {
      "cell_type": "code",
      "metadata": {
        "colab": {
          "base_uri": "https://localhost:8080/"
        },
        "id": "LwG908g24AER",
        "outputId": "b18e7294-1127-4e53-8cde-d9ef430b0403"
      },
      "source": [
        "len(train_windows), len(train_labels)"
      ],
      "execution_count": 112,
      "outputs": [
        {
          "output_type": "execute_result",
          "data": {
            "text/plain": [
              "(2224, 2224)"
            ]
          },
          "metadata": {
            "tags": []
          },
          "execution_count": 112
        }
      ]
    },
    {
      "cell_type": "code",
      "metadata": {
        "colab": {
          "base_uri": "https://localhost:8080/"
        },
        "id": "a6YFL_b-rZrt",
        "outputId": "70407c31-45bf-45cf-974d-1941f27224bc"
      },
      "source": [
        "tf.random.set_seed(42)\n",
        "\n",
        "# Let's build an LSTM model with the Functional API\n",
        "inputs = layers.Input(shape=(WINDOW_SIZE))\n",
        "x = layers.Lambda(lambda x: tf.expand_dims(x, axis=1))(inputs) # expand input dimension to be compatible with LSTM\n",
        "# print(x.shape)\n",
        "# x = layers.Conv1D(128, kernel_size=3, padding=\"causal\", activation=\"relu\")(x)\n",
        "# x = layers.LSTM(128, activation=\"relu\", return_sequences=True)(x) # this layer will error if the inputs are not the right shape\n",
        "# x = layers.Dropout(0.05)(x)\n",
        "x = layers.LSTM(128, activation=\"relu\")(x)\n",
        "# print(x.shape)\n",
        "# x = layers.Dense(32, activation=\"relu\")(x)\n",
        "output = layers.Dense(HORIZON)(x)\n",
        "model_5 = tf.keras.Model(inputs=inputs, outputs=output, name=\"model_5_lstm\")\n",
        "\n",
        "# Compile model\n",
        "model_5.compile(loss=\"mae\",\n",
        "                optimizer=tf.keras.optimizers.Adam())\n",
        "\n",
        "# Seems when saving the model several warnings are appearing: https://github.com/tensorflow/tensorflow/issues/47554 \n",
        "model_5.fit(train_windows,\n",
        "            train_labels,\n",
        "            epochs=10,\n",
        "            validation_data=(test_windows, test_labels),\n",
        "            callbacks=[create_model_checkpoint(model_name=model_5.name)])"
      ],
      "execution_count": 113,
      "outputs": [
        {
          "output_type": "stream",
          "text": [
            "Epoch 1/10\n",
            "70/70 [==============================] - 2s 8ms/step - loss: 923.8434 - val_loss: 999.7668\n",
            "INFO:tensorflow:Assets written to: model_experiments/model_5_lstm/assets\n",
            "Epoch 2/10\n",
            "70/70 [==============================] - 0s 4ms/step - loss: 174.3587 - val_loss: 1059.6038\n",
            "Epoch 3/10\n",
            "70/70 [==============================] - 0s 4ms/step - loss: 169.0973 - val_loss: 915.7014\n",
            "INFO:tensorflow:Assets written to: model_experiments/model_5_lstm/assets\n",
            "Epoch 4/10\n",
            "70/70 [==============================] - 0s 5ms/step - loss: 159.9524 - val_loss: 795.7064\n",
            "INFO:tensorflow:Assets written to: model_experiments/model_5_lstm/assets\n",
            "Epoch 5/10\n",
            "70/70 [==============================] - 0s 4ms/step - loss: 161.4001 - val_loss: 874.0946\n",
            "Epoch 6/10\n",
            "70/70 [==============================] - 0s 4ms/step - loss: 154.2141 - val_loss: 906.1810\n",
            "Epoch 7/10\n",
            "70/70 [==============================] - 0s 4ms/step - loss: 152.0637 - val_loss: 819.2089\n",
            "Epoch 8/10\n",
            "70/70 [==============================] - 0s 5ms/step - loss: 147.7731 - val_loss: 787.1523\n",
            "INFO:tensorflow:Assets written to: model_experiments/model_5_lstm/assets\n",
            "Epoch 9/10\n",
            "70/70 [==============================] - 0s 4ms/step - loss: 141.9028 - val_loss: 806.7898\n",
            "Epoch 10/10\n",
            "70/70 [==============================] - 0s 4ms/step - loss: 143.9359 - val_loss: 868.2096\n"
          ],
          "name": "stdout"
        },
        {
          "output_type": "execute_result",
          "data": {
            "text/plain": [
              "<tensorflow.python.keras.callbacks.History at 0x7ff4a7b0c4d0>"
            ]
          },
          "metadata": {
            "tags": []
          },
          "execution_count": 113
        }
      ]
    },
    {
      "cell_type": "code",
      "metadata": {
        "colab": {
          "base_uri": "https://localhost:8080/"
        },
        "id": "N59tLdtu58G4",
        "outputId": "4b2d2a57-4467-4d53-ea26-d9175c843b38"
      },
      "source": [
        "model_5.summary()"
      ],
      "execution_count": 114,
      "outputs": [
        {
          "output_type": "stream",
          "text": [
            "Model: \"model_5_lstm\"\n",
            "_________________________________________________________________\n",
            "Layer (type)                 Output Shape              Param #   \n",
            "=================================================================\n",
            "input_1 (InputLayer)         [(None, 7)]               0         \n",
            "_________________________________________________________________\n",
            "lambda_2 (Lambda)            (None, 1, 7)              0         \n",
            "_________________________________________________________________\n",
            "lstm (LSTM)                  (None, 128)               69632     \n",
            "_________________________________________________________________\n",
            "dense_7 (Dense)              (None, 1)                 129       \n",
            "=================================================================\n",
            "Total params: 69,761\n",
            "Trainable params: 69,761\n",
            "Non-trainable params: 0\n",
            "_________________________________________________________________\n"
          ],
          "name": "stdout"
        }
      ]
    },
    {
      "cell_type": "code",
      "metadata": {
        "colab": {
          "base_uri": "https://localhost:8080/"
        },
        "id": "yfG11v_51UWa",
        "outputId": "5fb48f9a-439b-49bb-d663-05cfe2cfdc8e"
      },
      "source": [
        "# Make predictions with our LSTM model\n",
        "model_5_preds = make_forecast(model_5, test_windows)\n",
        "model_5_preds[:10]"
      ],
      "execution_count": 115,
      "outputs": [
        {
          "output_type": "execute_result",
          "data": {
            "text/plain": [
              "<tf.Tensor: shape=(10,), dtype=float32, numpy=\n",
              "array([8961.902, 8800.973, 8862.362, 8755.027, 8638.399, 8662.238,\n",
              "       8614.01 , 8466.264, 8435.461, 8407.676], dtype=float32)>"
            ]
          },
          "metadata": {
            "tags": []
          },
          "execution_count": 115
        }
      ]
    },
    {
      "cell_type": "code",
      "metadata": {
        "colab": {
          "base_uri": "https://localhost:8080/"
        },
        "id": "sVv5Kg5N1axK",
        "outputId": "c25eb4e7-1aa8-48f8-d893-72e845594bfc"
      },
      "source": [
        "# Evaluate model 5 preds\n",
        "model_5_results = evaluate_preds(y_true=tf.squeeze(test_labels),\n",
        "                                 y_pred=model_5_preds)\n",
        "model_5_results"
      ],
      "execution_count": 116,
      "outputs": [
        {
          "output_type": "execute_result",
          "data": {
            "text/plain": [
              "{'mae': 868.20966,\n",
              " 'mape': 3.8733237,\n",
              " 'mase': 1.525204,\n",
              " 'mse': 2190942.8,\n",
              " 'rmse': 1480.1833}"
            ]
          },
          "metadata": {
            "tags": []
          },
          "execution_count": 116
        }
      ]
    },
    {
      "cell_type": "markdown",
      "metadata": {
        "id": "Y82CDMWp5Wva"
      },
      "source": [
        "# TODO: Make a multivariate time series \n",
        "\n",
        "Bitcoin price + halving events...\n",
        "\n",
        "-> https://www.investopedia.com/bitcoin-halving-4843769\n",
        "\n",
        "> Vigg_1991: For me … I use sensor data for predictions and forecasting … the toughest part of a time series has been .. when doing multivariate time series … some inputs may have larger scale compared to the target .. therefore do we de-trend all the data to keep them consistent or do we keep them them the way they are … because sometimes they lose the correlation between them once they are retreaded for prediction. How would you handle that ? Or is that important for deep learning predictions?\n",
        "\n",
        "* inputs: larger scale compared to target\n",
        "* detrend all the data to keep them consistent? Or keep the same way?\n",
        "* sometimes they lose the correlation between them once they are de-trended "
      ]
    },
    {
      "cell_type": "code",
      "metadata": {
        "colab": {
          "base_uri": "https://localhost:8080/",
          "height": 235
        },
        "id": "Z06o2ls4sSoF",
        "outputId": "450d8dc0-8b61-4675-e7eb-8bb07514f666"
      },
      "source": [
        "# Let's make a multivariate time series\n",
        "bitcoin_prices.head()"
      ],
      "execution_count": 117,
      "outputs": [
        {
          "output_type": "execute_result",
          "data": {
            "text/html": [
              "<div>\n",
              "<style scoped>\n",
              "    .dataframe tbody tr th:only-of-type {\n",
              "        vertical-align: middle;\n",
              "    }\n",
              "\n",
              "    .dataframe tbody tr th {\n",
              "        vertical-align: top;\n",
              "    }\n",
              "\n",
              "    .dataframe thead th {\n",
              "        text-align: right;\n",
              "    }\n",
              "</style>\n",
              "<table border=\"1\" class=\"dataframe\">\n",
              "  <thead>\n",
              "    <tr style=\"text-align: right;\">\n",
              "      <th></th>\n",
              "      <th>Price</th>\n",
              "    </tr>\n",
              "    <tr>\n",
              "      <th>Date</th>\n",
              "      <th></th>\n",
              "    </tr>\n",
              "  </thead>\n",
              "  <tbody>\n",
              "    <tr>\n",
              "      <th>2013-10-01</th>\n",
              "      <td>123.65499</td>\n",
              "    </tr>\n",
              "    <tr>\n",
              "      <th>2013-10-02</th>\n",
              "      <td>125.45500</td>\n",
              "    </tr>\n",
              "    <tr>\n",
              "      <th>2013-10-03</th>\n",
              "      <td>108.58483</td>\n",
              "    </tr>\n",
              "    <tr>\n",
              "      <th>2013-10-04</th>\n",
              "      <td>118.67466</td>\n",
              "    </tr>\n",
              "    <tr>\n",
              "      <th>2013-10-05</th>\n",
              "      <td>121.33866</td>\n",
              "    </tr>\n",
              "  </tbody>\n",
              "</table>\n",
              "</div>"
            ],
            "text/plain": [
              "                Price\n",
              "Date                 \n",
              "2013-10-01  123.65499\n",
              "2013-10-02  125.45500\n",
              "2013-10-03  108.58483\n",
              "2013-10-04  118.67466\n",
              "2013-10-05  121.33866"
            ]
          },
          "metadata": {
            "tags": []
          },
          "execution_count": 117
        }
      ]
    },
    {
      "cell_type": "markdown",
      "metadata": {
        "id": "DEqgTKX-t7xe"
      },
      "source": [
        "Now let's add another feature column, the block reward size (the amount of Bitcoin recevied by mining a block, this value halves every ~4 years and may be related to the price).\n",
        "\n",
        "Source: https://www.cmcmarkets.com/en/learn-cryptocurrencies/bitcoin-halving"
      ]
    },
    {
      "cell_type": "code",
      "metadata": {
        "id": "HrUKQXnssWHt"
      },
      "source": [
        "# Block reward values\n",
        "block_reward_1 = 50 # 3 January 2009 (2009-01-03) - this isn't in our dataset (it starts from 01 October 2013)\n",
        "block_reward_2 = 25 # 28 November 2012 \n",
        "block_reward_3 = 12.5 # 9 July 2016\n",
        "block_reward_4 = 6.25 # 11 May 2020\n",
        "\n",
        "# Block reward dates (datetime form of the above date stamps)\n",
        "block_reward_2_datetime = np.datetime64(\"2012-11-28\")\n",
        "block_reward_3_datetime = np.datetime64(\"2016-07-09\")\n",
        "block_reward_4_datetime = np.datetime64(\"2020-05-11\")"
      ],
      "execution_count": 118,
      "outputs": []
    },
    {
      "cell_type": "markdown",
      "metadata": {
        "id": "I2RiTXPd3lAL"
      },
      "source": [
        "We're going to get the days (indexes) for different block reward values. \n",
        "\n",
        "This is important because if we're going to use multiple variables for our time series, they have to the same frequency as our original variable. For example, if our Bitcoin prices are daily, we need the block reward values to be daily as well.\n",
        "\n",
        "> 🔑 **Note:** For using multiple variables, make sure they're the same frequency as each other. If your variables aren't at the same frequency (e.g. Bitcoin prices are daily but block rewards are weekly), you may need to transform them in a way that they can be used with your model."
      ]
    },
    {
      "cell_type": "code",
      "metadata": {
        "colab": {
          "base_uri": "https://localhost:8080/"
        },
        "id": "jmawWFj9udzC",
        "outputId": "2ea66793-7276-40cb-d980-44f3d443f5a5"
      },
      "source": [
        "# Get date indexes for when to add in different block dates\n",
        "block_reward_2_days = (block_reward_3_datetime - bitcoin_prices.index[0]).days\n",
        "block_reward_3_days = (block_reward_4_datetime - bitcoin_prices.index[0]).days\n",
        "block_reward_2_days, block_reward_3_days"
      ],
      "execution_count": 119,
      "outputs": [
        {
          "output_type": "execute_result",
          "data": {
            "text/plain": [
              "(1012, 2414)"
            ]
          },
          "metadata": {
            "tags": []
          },
          "execution_count": 119
        }
      ]
    },
    {
      "cell_type": "markdown",
      "metadata": {
        "id": "B2ZxThVAy0B3"
      },
      "source": [
        "Now we can add another feature to our dataset `block_reward` (this gets lower over time so it may lead to increasing prices of Bitcoin)."
      ]
    },
    {
      "cell_type": "code",
      "metadata": {
        "colab": {
          "base_uri": "https://localhost:8080/",
          "height": 235
        },
        "id": "BM9zRZDQvw7m",
        "outputId": "6452d7d4-3544-4b9a-bb5a-1f752f388213"
      },
      "source": [
        "# Add block_reward column\n",
        "bitcoin_prices_block = bitcoin_prices.copy()\n",
        "bitcoin_prices_block[\"block_reward\"] = None\n",
        "\n",
        "# Set values of block_reward column (it's the last column hence -1 indexing on iloc)\n",
        "bitcoin_prices_block.iloc[:block_reward_2_days, -1] = block_reward_2\n",
        "bitcoin_prices_block.iloc[block_reward_2_days:block_reward_3_days, -1] = block_reward_3\n",
        "bitcoin_prices_block.iloc[block_reward_3_days:, -1] = block_reward_4\n",
        "bitcoin_prices_block.head()"
      ],
      "execution_count": 120,
      "outputs": [
        {
          "output_type": "execute_result",
          "data": {
            "text/html": [
              "<div>\n",
              "<style scoped>\n",
              "    .dataframe tbody tr th:only-of-type {\n",
              "        vertical-align: middle;\n",
              "    }\n",
              "\n",
              "    .dataframe tbody tr th {\n",
              "        vertical-align: top;\n",
              "    }\n",
              "\n",
              "    .dataframe thead th {\n",
              "        text-align: right;\n",
              "    }\n",
              "</style>\n",
              "<table border=\"1\" class=\"dataframe\">\n",
              "  <thead>\n",
              "    <tr style=\"text-align: right;\">\n",
              "      <th></th>\n",
              "      <th>Price</th>\n",
              "      <th>block_reward</th>\n",
              "    </tr>\n",
              "    <tr>\n",
              "      <th>Date</th>\n",
              "      <th></th>\n",
              "      <th></th>\n",
              "    </tr>\n",
              "  </thead>\n",
              "  <tbody>\n",
              "    <tr>\n",
              "      <th>2013-10-01</th>\n",
              "      <td>123.65499</td>\n",
              "      <td>25</td>\n",
              "    </tr>\n",
              "    <tr>\n",
              "      <th>2013-10-02</th>\n",
              "      <td>125.45500</td>\n",
              "      <td>25</td>\n",
              "    </tr>\n",
              "    <tr>\n",
              "      <th>2013-10-03</th>\n",
              "      <td>108.58483</td>\n",
              "      <td>25</td>\n",
              "    </tr>\n",
              "    <tr>\n",
              "      <th>2013-10-04</th>\n",
              "      <td>118.67466</td>\n",
              "      <td>25</td>\n",
              "    </tr>\n",
              "    <tr>\n",
              "      <th>2013-10-05</th>\n",
              "      <td>121.33866</td>\n",
              "      <td>25</td>\n",
              "    </tr>\n",
              "  </tbody>\n",
              "</table>\n",
              "</div>"
            ],
            "text/plain": [
              "                Price block_reward\n",
              "Date                              \n",
              "2013-10-01  123.65499           25\n",
              "2013-10-02  125.45500           25\n",
              "2013-10-03  108.58483           25\n",
              "2013-10-04  118.67466           25\n",
              "2013-10-05  121.33866           25"
            ]
          },
          "metadata": {
            "tags": []
          },
          "execution_count": 120
        }
      ]
    },
    {
      "cell_type": "code",
      "metadata": {
        "colab": {
          "base_uri": "https://localhost:8080/",
          "height": 442
        },
        "id": "Tfh8dmtF46Lf",
        "outputId": "31e2be1d-5327-41a7-ecd3-d1d80edf9a8b"
      },
      "source": [
        "# Plot the block reward/price over time\n",
        "from sklearn.preprocessing import minmax_scale\n",
        "scaled_price_block_df = pd.DataFrame(minmax_scale(bitcoin_prices_block[[\"Price\", \"block_reward\"]]), # we need to scale the data first\n",
        "                                     columns=bitcoin_prices_block.columns,\n",
        "                                     index=bitcoin_prices_block.index)\n",
        "scaled_price_block_df.plot(figsize=(10, 7));"
      ],
      "execution_count": 121,
      "outputs": [
        {
          "output_type": "display_data",
          "data": {
            "image/png": "[encoded data removed]",
            "text/plain": [
              "<Figure size 720x504 with 1 Axes>"
            ]
          },
          "metadata": {
            "tags": [],
            "needs_background": "light"
          }
        }
      ]
    },
    {
      "cell_type": "markdown",
      "metadata": {
        "id": "V-lSjFE-4_qq"
      },
      "source": [
        "When we scale the block reward and the Bitcoin price, we can see the price goes up as the block reward goes down, perhaps this information will be helpful to our model's performance."
      ]
    },
    {
      "cell_type": "markdown",
      "metadata": {
        "id": "7m0h2WcP5Ko8"
      },
      "source": [
        "### TODO: Making a windowed dataset with pandas\n",
        "\n",
        "TK - explain this\n",
        "\n",
        "Let's make a windowed dataset with pandas."
      ]
    },
    {
      "cell_type": "code",
      "metadata": {
        "id": "8_9iFxKS8Sed"
      },
      "source": [
        "HORIZON = 1\n",
        "WINDOW_SIZE = 7"
      ],
      "execution_count": 274,
      "outputs": []
    },
    {
      "cell_type": "code",
      "metadata": {
        "colab": {
          "base_uri": "https://localhost:8080/",
          "height": 235
        },
        "id": "DqPp3HdHsXO8",
        "outputId": "2f8f617b-2deb-41cd-ee0f-2772f23a61b1"
      },
      "source": [
        "# Add windowed columns\n",
        "bitcoin_prices_windowed = bitcoin_prices_block.copy()\n",
        "for i in range(WINDOW_SIZE):\n",
        "  bitcoin_prices_windowed[f\"Price+{i+1}\"] = bitcoin_prices_windowed[\"Price\"].shift(i+1)\n",
        "bitcoin_prices_windowed.head()"
      ],
      "execution_count": 275,
      "outputs": [
        {
          "output_type": "execute_result",
          "data": {
            "text/html": [
              "<div>\n",
              "<style scoped>\n",
              "    .dataframe tbody tr th:only-of-type {\n",
              "        vertical-align: middle;\n",
              "    }\n",
              "\n",
              "    .dataframe tbody tr th {\n",
              "        vertical-align: top;\n",
              "    }\n",
              "\n",
              "    .dataframe thead th {\n",
              "        text-align: right;\n",
              "    }\n",
              "</style>\n",
              "<table border=\"1\" class=\"dataframe\">\n",
              "  <thead>\n",
              "    <tr style=\"text-align: right;\">\n",
              "      <th></th>\n",
              "      <th>Price</th>\n",
              "      <th>block_reward</th>\n",
              "      <th>Price+1</th>\n",
              "      <th>Price+2</th>\n",
              "      <th>Price+3</th>\n",
              "      <th>Price+4</th>\n",
              "      <th>Price+5</th>\n",
              "      <th>Price+6</th>\n",
              "      <th>Price+7</th>\n",
              "    </tr>\n",
              "    <tr>\n",
              "      <th>Date</th>\n",
              "      <th></th>\n",
              "      <th></th>\n",
              "      <th></th>\n",
              "      <th></th>\n",
              "      <th></th>\n",
              "      <th></th>\n",
              "      <th></th>\n",
              "      <th></th>\n",
              "      <th></th>\n",
              "    </tr>\n",
              "  </thead>\n",
              "  <tbody>\n",
              "    <tr>\n",
              "      <th>2013-10-01</th>\n",
              "      <td>123.65499</td>\n",
              "      <td>25</td>\n",
              "      <td>NaN</td>\n",
              "      <td>NaN</td>\n",
              "      <td>NaN</td>\n",
              "      <td>NaN</td>\n",
              "      <td>NaN</td>\n",
              "      <td>NaN</td>\n",
              "      <td>NaN</td>\n",
              "    </tr>\n",
              "    <tr>\n",
              "      <th>2013-10-02</th>\n",
              "      <td>125.45500</td>\n",
              "      <td>25</td>\n",
              "      <td>123.65499</td>\n",
              "      <td>NaN</td>\n",
              "      <td>NaN</td>\n",
              "      <td>NaN</td>\n",
              "      <td>NaN</td>\n",
              "      <td>NaN</td>\n",
              "      <td>NaN</td>\n",
              "    </tr>\n",
              "    <tr>\n",
              "      <th>2013-10-03</th>\n",
              "      <td>108.58483</td>\n",
              "      <td>25</td>\n",
              "      <td>125.45500</td>\n",
              "      <td>123.65499</td>\n",
              "      <td>NaN</td>\n",
              "      <td>NaN</td>\n",
              "      <td>NaN</td>\n",
              "      <td>NaN</td>\n",
              "      <td>NaN</td>\n",
              "    </tr>\n",
              "    <tr>\n",
              "      <th>2013-10-04</th>\n",
              "      <td>118.67466</td>\n",
              "      <td>25</td>\n",
              "      <td>108.58483</td>\n",
              "      <td>125.45500</td>\n",
              "      <td>123.65499</td>\n",
              "      <td>NaN</td>\n",
              "      <td>NaN</td>\n",
              "      <td>NaN</td>\n",
              "      <td>NaN</td>\n",
              "    </tr>\n",
              "    <tr>\n",
              "      <th>2013-10-05</th>\n",
              "      <td>121.33866</td>\n",
              "      <td>25</td>\n",
              "      <td>118.67466</td>\n",
              "      <td>108.58483</td>\n",
              "      <td>125.45500</td>\n",
              "      <td>123.65499</td>\n",
              "      <td>NaN</td>\n",
              "      <td>NaN</td>\n",
              "      <td>NaN</td>\n",
              "    </tr>\n",
              "  </tbody>\n",
              "</table>\n",
              "</div>"
            ],
            "text/plain": [
              "                Price block_reward    Price+1  ...  Price+5  Price+6  Price+7\n",
              "Date                                           ...                           \n",
              "2013-10-01  123.65499           25        NaN  ...      NaN      NaN      NaN\n",
              "2013-10-02  125.45500           25  123.65499  ...      NaN      NaN      NaN\n",
              "2013-10-03  108.58483           25  125.45500  ...      NaN      NaN      NaN\n",
              "2013-10-04  118.67466           25  108.58483  ...      NaN      NaN      NaN\n",
              "2013-10-05  121.33866           25  118.67466  ...      NaN      NaN      NaN\n",
              "\n",
              "[5 rows x 9 columns]"
            ]
          },
          "metadata": {
            "tags": []
          },
          "execution_count": 275
        }
      ]
    },
    {
      "cell_type": "markdown",
      "metadata": {
        "id": "dVN20lqn6b_Y"
      },
      "source": [
        "Now that we've got a windowed dataset, let's separate features (`X`) from labels (`y`).\n",
        "\n",
        "Remember in our windowed dataset, we're trying to use the previous `WINDOW_SIZE` steps to predict `HORIZON` steps.\n",
        "\n",
        "```\n",
        "# Window for a week (7) to predict a horizon of 1 (multivariate time series)\n",
        "WINDOW_SIZE -> HORIZON\n",
        "[0, 1, 2, 3, 4, 5, 6, block_reward] -> [7]\n",
        "[1, 2, 3, 4, 5, 6, 7, block_reward] -> [8]\n",
        "[2, 3, 4, 5, 6, 7, 8, block_reward] -> [9]\n",
        "```\n",
        "\n",
        "We'll also remove the `NaN` values using pandas `dropna()` method, this equivalent to starting our windowing function at `sample 0 (the first sample) + WINDOW_SIZE`."
      ]
    },
    {
      "cell_type": "code",
      "metadata": {
        "colab": {
          "base_uri": "https://localhost:8080/",
          "height": 235
        },
        "id": "VpMH6_Dax2wJ",
        "outputId": "46b96b2e-4139-4272-b297-274a17e1333d"
      },
      "source": [
        "# Let's create X & y, remove the NaN's and convert to float32 to prevent TensorFlow errors \n",
        "X = bitcoin_prices_windowed.dropna().drop(\"Price\", axis=1).astype(np.float32) \n",
        "y = bitcoin_prices_windowed.dropna()[\"Price\"].astype(np.float32)\n",
        "X.head()"
      ],
      "execution_count": 276,
      "outputs": [
        {
          "output_type": "execute_result",
          "data": {
            "text/html": [
              "<div>\n",
              "<style scoped>\n",
              "    .dataframe tbody tr th:only-of-type {\n",
              "        vertical-align: middle;\n",
              "    }\n",
              "\n",
              "    .dataframe tbody tr th {\n",
              "        vertical-align: top;\n",
              "    }\n",
              "\n",
              "    .dataframe thead th {\n",
              "        text-align: right;\n",
              "    }\n",
              "</style>\n",
              "<table border=\"1\" class=\"dataframe\">\n",
              "  <thead>\n",
              "    <tr style=\"text-align: right;\">\n",
              "      <th></th>\n",
              "      <th>block_reward</th>\n",
              "      <th>Price+1</th>\n",
              "      <th>Price+2</th>\n",
              "      <th>Price+3</th>\n",
              "      <th>Price+4</th>\n",
              "      <th>Price+5</th>\n",
              "      <th>Price+6</th>\n",
              "      <th>Price+7</th>\n",
              "    </tr>\n",
              "    <tr>\n",
              "      <th>Date</th>\n",
              "      <th></th>\n",
              "      <th></th>\n",
              "      <th></th>\n",
              "      <th></th>\n",
              "      <th></th>\n",
              "      <th></th>\n",
              "      <th></th>\n",
              "      <th></th>\n",
              "    </tr>\n",
              "  </thead>\n",
              "  <tbody>\n",
              "    <tr>\n",
              "      <th>2013-10-08</th>\n",
              "      <td>25.0</td>\n",
              "      <td>121.794998</td>\n",
              "      <td>120.655327</td>\n",
              "      <td>121.338661</td>\n",
              "      <td>118.674660</td>\n",
              "      <td>108.584831</td>\n",
              "      <td>125.455002</td>\n",
              "      <td>123.654991</td>\n",
              "    </tr>\n",
              "    <tr>\n",
              "      <th>2013-10-09</th>\n",
              "      <td>25.0</td>\n",
              "      <td>123.032997</td>\n",
              "      <td>121.794998</td>\n",
              "      <td>120.655327</td>\n",
              "      <td>121.338661</td>\n",
              "      <td>118.674660</td>\n",
              "      <td>108.584831</td>\n",
              "      <td>125.455002</td>\n",
              "    </tr>\n",
              "    <tr>\n",
              "      <th>2013-10-10</th>\n",
              "      <td>25.0</td>\n",
              "      <td>124.049004</td>\n",
              "      <td>123.032997</td>\n",
              "      <td>121.794998</td>\n",
              "      <td>120.655327</td>\n",
              "      <td>121.338661</td>\n",
              "      <td>118.674660</td>\n",
              "      <td>108.584831</td>\n",
              "    </tr>\n",
              "    <tr>\n",
              "      <th>2013-10-11</th>\n",
              "      <td>25.0</td>\n",
              "      <td>125.961159</td>\n",
              "      <td>124.049004</td>\n",
              "      <td>123.032997</td>\n",
              "      <td>121.794998</td>\n",
              "      <td>120.655327</td>\n",
              "      <td>121.338661</td>\n",
              "      <td>118.674660</td>\n",
              "    </tr>\n",
              "    <tr>\n",
              "      <th>2013-10-12</th>\n",
              "      <td>25.0</td>\n",
              "      <td>125.279663</td>\n",
              "      <td>125.961159</td>\n",
              "      <td>124.049004</td>\n",
              "      <td>123.032997</td>\n",
              "      <td>121.794998</td>\n",
              "      <td>120.655327</td>\n",
              "      <td>121.338661</td>\n",
              "    </tr>\n",
              "  </tbody>\n",
              "</table>\n",
              "</div>"
            ],
            "text/plain": [
              "            block_reward     Price+1  ...     Price+6     Price+7\n",
              "Date                                  ...                        \n",
              "2013-10-08          25.0  121.794998  ...  125.455002  123.654991\n",
              "2013-10-09          25.0  123.032997  ...  108.584831  125.455002\n",
              "2013-10-10          25.0  124.049004  ...  118.674660  108.584831\n",
              "2013-10-11          25.0  125.961159  ...  121.338661  118.674660\n",
              "2013-10-12          25.0  125.279663  ...  120.655327  121.338661\n",
              "\n",
              "[5 rows x 8 columns]"
            ]
          },
          "metadata": {
            "tags": []
          },
          "execution_count": 276
        }
      ]
    },
    {
      "cell_type": "markdown",
      "metadata": {
        "id": "ECzmudIK8BW5"
      },
      "source": [
        "What a good looking dataset, let's split it into train and test sets."
      ]
    },
    {
      "cell_type": "code",
      "metadata": {
        "colab": {
          "base_uri": "https://localhost:8080/"
        },
        "id": "8GtEFj6HsVwy",
        "outputId": "20213fd1-16a8-47c6-8ee8-9e4bd8ee2e4e"
      },
      "source": [
        "# Make train and test sets\n",
        "split_size = int(len(X) * 0.8)\n",
        "X_train, y_train = X[:split_size], y[:split_size]\n",
        "X_test, y_test = X[split_size:], y[split_size:]\n",
        "len(X_train), len(y_train), len(X_test), len(y_test)"
      ],
      "execution_count": 277,
      "outputs": [
        {
          "output_type": "execute_result",
          "data": {
            "text/plain": [
              "(2224, 2224, 556, 556)"
            ]
          },
          "metadata": {
            "tags": []
          },
          "execution_count": 277
        }
      ]
    },
    {
      "cell_type": "code",
      "metadata": {
        "colab": {
          "base_uri": "https://localhost:8080/",
          "height": 235
        },
        "id": "cUZ6Aidz8EJY",
        "outputId": "f741526b-f60f-4e9e-ddd6-92b71eed1b98"
      },
      "source": [
        "X_train.head()"
      ],
      "execution_count": 278,
      "outputs": [
        {
          "output_type": "execute_result",
          "data": {
            "text/html": [
              "<div>\n",
              "<style scoped>\n",
              "    .dataframe tbody tr th:only-of-type {\n",
              "        vertical-align: middle;\n",
              "    }\n",
              "\n",
              "    .dataframe tbody tr th {\n",
              "        vertical-align: top;\n",
              "    }\n",
              "\n",
              "    .dataframe thead th {\n",
              "        text-align: right;\n",
              "    }\n",
              "</style>\n",
              "<table border=\"1\" class=\"dataframe\">\n",
              "  <thead>\n",
              "    <tr style=\"text-align: right;\">\n",
              "      <th></th>\n",
              "      <th>block_reward</th>\n",
              "      <th>Price+1</th>\n",
              "      <th>Price+2</th>\n",
              "      <th>Price+3</th>\n",
              "      <th>Price+4</th>\n",
              "      <th>Price+5</th>\n",
              "      <th>Price+6</th>\n",
              "      <th>Price+7</th>\n",
              "    </tr>\n",
              "    <tr>\n",
              "      <th>Date</th>\n",
              "      <th></th>\n",
              "      <th></th>\n",
              "      <th></th>\n",
              "      <th></th>\n",
              "      <th></th>\n",
              "      <th></th>\n",
              "      <th></th>\n",
              "      <th></th>\n",
              "    </tr>\n",
              "  </thead>\n",
              "  <tbody>\n",
              "    <tr>\n",
              "      <th>2013-10-08</th>\n",
              "      <td>25.0</td>\n",
              "      <td>121.794998</td>\n",
              "      <td>120.655327</td>\n",
              "      <td>121.338661</td>\n",
              "      <td>118.674660</td>\n",
              "      <td>108.584831</td>\n",
              "      <td>125.455002</td>\n",
              "      <td>123.654991</td>\n",
              "    </tr>\n",
              "    <tr>\n",
              "      <th>2013-10-09</th>\n",
              "      <td>25.0</td>\n",
              "      <td>123.032997</td>\n",
              "      <td>121.794998</td>\n",
              "      <td>120.655327</td>\n",
              "      <td>121.338661</td>\n",
              "      <td>118.674660</td>\n",
              "      <td>108.584831</td>\n",
              "      <td>125.455002</td>\n",
              "    </tr>\n",
              "    <tr>\n",
              "      <th>2013-10-10</th>\n",
              "      <td>25.0</td>\n",
              "      <td>124.049004</td>\n",
              "      <td>123.032997</td>\n",
              "      <td>121.794998</td>\n",
              "      <td>120.655327</td>\n",
              "      <td>121.338661</td>\n",
              "      <td>118.674660</td>\n",
              "      <td>108.584831</td>\n",
              "    </tr>\n",
              "    <tr>\n",
              "      <th>2013-10-11</th>\n",
              "      <td>25.0</td>\n",
              "      <td>125.961159</td>\n",
              "      <td>124.049004</td>\n",
              "      <td>123.032997</td>\n",
              "      <td>121.794998</td>\n",
              "      <td>120.655327</td>\n",
              "      <td>121.338661</td>\n",
              "      <td>118.674660</td>\n",
              "    </tr>\n",
              "    <tr>\n",
              "      <th>2013-10-12</th>\n",
              "      <td>25.0</td>\n",
              "      <td>125.279663</td>\n",
              "      <td>125.961159</td>\n",
              "      <td>124.049004</td>\n",
              "      <td>123.032997</td>\n",
              "      <td>121.794998</td>\n",
              "      <td>120.655327</td>\n",
              "      <td>121.338661</td>\n",
              "    </tr>\n",
              "  </tbody>\n",
              "</table>\n",
              "</div>"
            ],
            "text/plain": [
              "            block_reward     Price+1  ...     Price+6     Price+7\n",
              "Date                                  ...                        \n",
              "2013-10-08          25.0  121.794998  ...  125.455002  123.654991\n",
              "2013-10-09          25.0  123.032997  ...  108.584831  125.455002\n",
              "2013-10-10          25.0  124.049004  ...  118.674660  108.584831\n",
              "2013-10-11          25.0  125.961159  ...  121.338661  118.674660\n",
              "2013-10-12          25.0  125.279663  ...  120.655327  121.338661\n",
              "\n",
              "[5 rows x 8 columns]"
            ]
          },
          "metadata": {
            "tags": []
          },
          "execution_count": 278
        }
      ]
    },
    {
      "cell_type": "markdown",
      "metadata": {
        "id": "APXrtOva8cNH"
      },
      "source": [
        "### Model 6: Dense (multivariate time series)\n",
        "\n",
        "Since `model_1` has performed the best so far, let's replicate its architecture and use it to train and make predictions on our multivariate time series data."
      ]
    },
    {
      "cell_type": "code",
      "metadata": {
        "colab": {
          "base_uri": "https://localhost:8080/"
        },
        "id": "AppTkPafzVyg",
        "outputId": "fddf0207-e86b-4568-ad05-78319e328729"
      },
      "source": [
        "tf.random.set_seed(42)\n",
        "\n",
        "# Make multivariate time series model\n",
        "model_6 = tf.keras.Sequential([\n",
        "  layers.Dense(128, activation=\"relu\"),\n",
        "  layers.Dense(128, activation=\"relu\"),\n",
        "  layers.Dense(HORIZON)\n",
        "], name=\"model_6_dense_multivariate\")\n",
        "\n",
        "model_6.compile(loss=\"mae\",\n",
        "                optimizer=tf.keras.optimizers.Adam())\n",
        "\n",
        "model_6.fit(X_train, y_train,\n",
        "            epochs=100,\n",
        "            batch_size=32,\n",
        "            validation_data=(X_test, y_test),\n",
        "            callbacks=[create_model_checkpoint(model_name=model_6.name)])"
      ],
      "execution_count": 279,
      "outputs": [
        {
          "output_type": "stream",
          "text": [
            "Epoch 1/100\n",
            "70/70 [==============================] - 1s 4ms/step - loss: 345.5877 - val_loss: 731.4584\n",
            "INFO:tensorflow:Assets written to: model_experiments/model_6_dense_multivariate/assets\n",
            "Epoch 2/100\n",
            "70/70 [==============================] - 0s 2ms/step - loss: 154.9957 - val_loss: 750.0645\n",
            "Epoch 3/100\n",
            "70/70 [==============================] - 0s 2ms/step - loss: 146.8651 - val_loss: 654.8021\n",
            "INFO:tensorflow:Assets written to: model_experiments/model_6_dense_multivariate/assets\n",
            "Epoch 4/100\n",
            "70/70 [==============================] - 0s 2ms/step - loss: 145.1462 - val_loss: 716.1282\n",
            "Epoch 5/100\n",
            "70/70 [==============================] - 0s 3ms/step - loss: 131.6037 - val_loss: 1164.8066\n",
            "Epoch 6/100\n",
            "70/70 [==============================] - 0s 2ms/step - loss: 133.4743 - val_loss: 608.0205\n",
            "INFO:tensorflow:Assets written to: model_experiments/model_6_dense_multivariate/assets\n",
            "Epoch 7/100\n",
            "70/70 [==============================] - 0s 2ms/step - loss: 127.4906 - val_loss: 660.4788\n",
            "Epoch 8/100\n",
            "70/70 [==============================] - 0s 2ms/step - loss: 119.3148 - val_loss: 576.3640\n",
            "INFO:tensorflow:Assets written to: model_experiments/model_6_dense_multivariate/assets\n",
            "Epoch 9/100\n",
            "70/70 [==============================] - 0s 2ms/step - loss: 109.9099 - val_loss: 811.8914\n",
            "Epoch 10/100\n",
            "70/70 [==============================] - 0s 2ms/step - loss: 119.3076 - val_loss: 726.8741\n",
            "Epoch 11/100\n",
            "70/70 [==============================] - 0s 2ms/step - loss: 130.5785 - val_loss: 608.1910\n",
            "Epoch 12/100\n",
            "70/70 [==============================] - 0s 2ms/step - loss: 113.1138 - val_loss: 653.8787\n",
            "Epoch 13/100\n",
            "70/70 [==============================] - 0s 2ms/step - loss: 120.8271 - val_loss: 577.1927\n",
            "Epoch 14/100\n",
            "70/70 [==============================] - 0s 2ms/step - loss: 137.0554 - val_loss: 1220.6040\n",
            "Epoch 15/100\n",
            "70/70 [==============================] - 0s 2ms/step - loss: 118.7541 - val_loss: 1080.0668\n",
            "Epoch 16/100\n",
            "70/70 [==============================] - 0s 2ms/step - loss: 120.4973 - val_loss: 568.2769\n",
            "INFO:tensorflow:Assets written to: model_experiments/model_6_dense_multivariate/assets\n",
            "Epoch 17/100\n",
            "70/70 [==============================] - 0s 2ms/step - loss: 115.3870 - val_loss: 633.1516\n",
            "Epoch 18/100\n",
            "70/70 [==============================] - 0s 2ms/step - loss: 119.5834 - val_loss: 662.5466\n",
            "Epoch 19/100\n",
            "70/70 [==============================] - 0s 2ms/step - loss: 116.5644 - val_loss: 616.7457\n",
            "Epoch 20/100\n",
            "70/70 [==============================] - 0s 2ms/step - loss: 114.6150 - val_loss: 885.7930\n",
            "Epoch 21/100\n",
            "70/70 [==============================] - 0s 3ms/step - loss: 111.8145 - val_loss: 690.0031\n",
            "Epoch 22/100\n",
            "70/70 [==============================] - 0s 2ms/step - loss: 114.8548 - val_loss: 772.0884\n",
            "Epoch 23/100\n",
            "70/70 [==============================] - 0s 2ms/step - loss: 119.7326 - val_loss: 616.4391\n",
            "Epoch 24/100\n",
            "70/70 [==============================] - 0s 2ms/step - loss: 114.9030 - val_loss: 575.1409\n",
            "Epoch 25/100\n",
            "70/70 [==============================] - 0s 2ms/step - loss: 113.2337 - val_loss: 569.7712\n",
            "Epoch 26/100\n",
            "70/70 [==============================] - 0s 2ms/step - loss: 113.1315 - val_loss: 570.4717\n",
            "Epoch 27/100\n",
            "70/70 [==============================] - 0s 2ms/step - loss: 109.4572 - val_loss: 624.0204\n",
            "Epoch 28/100\n",
            "70/70 [==============================] - 0s 2ms/step - loss: 116.7456 - val_loss: 575.9621\n",
            "Epoch 29/100\n",
            "70/70 [==============================] - 0s 3ms/step - loss: 115.5651 - val_loss: 768.3138\n",
            "Epoch 30/100\n",
            "70/70 [==============================] - 0s 2ms/step - loss: 113.7237 - val_loss: 576.5367\n",
            "Epoch 31/100\n",
            "70/70 [==============================] - 0s 2ms/step - loss: 125.6868 - val_loss: 608.0018\n",
            "Epoch 32/100\n",
            "70/70 [==============================] - 0s 2ms/step - loss: 109.9912 - val_loss: 571.1479\n",
            "Epoch 33/100\n",
            "70/70 [==============================] - 0s 2ms/step - loss: 119.5825 - val_loss: 651.7409\n",
            "Epoch 34/100\n",
            "70/70 [==============================] - 0s 2ms/step - loss: 127.4408 - val_loss: 575.2214\n",
            "Epoch 35/100\n",
            "70/70 [==============================] - 0s 2ms/step - loss: 111.2067 - val_loss: 573.7968\n",
            "Epoch 36/100\n",
            "70/70 [==============================] - 0s 2ms/step - loss: 113.6529 - val_loss: 1033.4086\n",
            "Epoch 37/100\n",
            "70/70 [==============================] - 0s 2ms/step - loss: 120.9634 - val_loss: 576.2377\n",
            "Epoch 38/100\n",
            "70/70 [==============================] - 0s 2ms/step - loss: 124.2534 - val_loss: 610.7279\n",
            "Epoch 39/100\n",
            "70/70 [==============================] - 0s 2ms/step - loss: 109.6288 - val_loss: 583.3161\n",
            "Epoch 40/100\n",
            "70/70 [==============================] - 0s 2ms/step - loss: 117.9824 - val_loss: 614.9868\n",
            "Epoch 41/100\n",
            "70/70 [==============================] - 0s 3ms/step - loss: 110.0288 - val_loss: 774.2092\n",
            "Epoch 42/100\n",
            "70/70 [==============================] - 0s 2ms/step - loss: 136.5035 - val_loss: 796.5354\n",
            "Epoch 43/100\n",
            "70/70 [==============================] - 0s 2ms/step - loss: 119.3778 - val_loss: 747.0870\n",
            "Epoch 44/100\n",
            "70/70 [==============================] - 0s 2ms/step - loss: 116.5655 - val_loss: 581.4911\n",
            "Epoch 45/100\n",
            "70/70 [==============================] - 0s 2ms/step - loss: 116.6761 - val_loss: 575.2715\n",
            "Epoch 46/100\n",
            "70/70 [==============================] - 0s 2ms/step - loss: 125.6054 - val_loss: 684.8663\n",
            "Epoch 47/100\n",
            "70/70 [==============================] - 0s 2ms/step - loss: 115.9049 - val_loss: 575.6409\n",
            "Epoch 48/100\n",
            "70/70 [==============================] - 0s 2ms/step - loss: 130.7989 - val_loss: 624.2106\n",
            "Epoch 49/100\n",
            "70/70 [==============================] - 0s 2ms/step - loss: 108.4228 - val_loss: 574.8398\n",
            "Epoch 50/100\n",
            "70/70 [==============================] - 0s 2ms/step - loss: 113.5092 - val_loss: 678.2512\n",
            "Epoch 51/100\n",
            "70/70 [==============================] - 0s 2ms/step - loss: 122.8053 - val_loss: 835.9107\n",
            "Epoch 52/100\n",
            "70/70 [==============================] - 0s 3ms/step - loss: 123.0289 - val_loss: 570.8987\n",
            "Epoch 53/100\n",
            "70/70 [==============================] - 0s 2ms/step - loss: 111.3566 - val_loss: 575.7154\n",
            "Epoch 54/100\n",
            "70/70 [==============================] - 0s 2ms/step - loss: 112.7894 - val_loss: 576.2241\n",
            "Epoch 55/100\n",
            "70/70 [==============================] - 0s 2ms/step - loss: 109.7403 - val_loss: 569.9967\n",
            "Epoch 56/100\n",
            "70/70 [==============================] - 0s 2ms/step - loss: 109.5679 - val_loss: 736.3779\n",
            "Epoch 57/100\n",
            "70/70 [==============================] - 0s 2ms/step - loss: 108.5970 - val_loss: 580.3306\n",
            "Epoch 58/100\n",
            "70/70 [==============================] - 0s 2ms/step - loss: 108.0540 - val_loss: 576.6318\n",
            "Epoch 59/100\n",
            "70/70 [==============================] - 0s 2ms/step - loss: 110.1923 - val_loss: 567.6617\n",
            "INFO:tensorflow:Assets written to: model_experiments/model_6_dense_multivariate/assets\n",
            "Epoch 60/100\n",
            "70/70 [==============================] - 0s 2ms/step - loss: 112.7550 - val_loss: 592.8599\n",
            "Epoch 61/100\n",
            "70/70 [==============================] - 0s 2ms/step - loss: 119.6724 - val_loss: 842.2538\n",
            "Epoch 62/100\n",
            "70/70 [==============================] - 0s 2ms/step - loss: 114.2842 - val_loss: 566.1509\n",
            "INFO:tensorflow:Assets written to: model_experiments/model_6_dense_multivariate/assets\n",
            "Epoch 63/100\n",
            "70/70 [==============================] - 0s 2ms/step - loss: 118.0252 - val_loss: 582.3126\n",
            "Epoch 64/100\n",
            "70/70 [==============================] - 0s 2ms/step - loss: 110.2762 - val_loss: 581.4326\n",
            "Epoch 65/100\n",
            "70/70 [==============================] - 0s 2ms/step - loss: 113.7018 - val_loss: 577.6329\n",
            "Epoch 66/100\n",
            "70/70 [==============================] - 0s 2ms/step - loss: 113.5998 - val_loss: 591.6744\n",
            "Epoch 67/100\n",
            "70/70 [==============================] - 0s 2ms/step - loss: 112.9304 - val_loss: 586.3288\n",
            "Epoch 68/100\n",
            "70/70 [==============================] - 0s 2ms/step - loss: 111.8570 - val_loss: 589.9696\n",
            "Epoch 69/100\n",
            "70/70 [==============================] - 0s 2ms/step - loss: 107.0585 - val_loss: 614.3500\n",
            "Epoch 70/100\n",
            "70/70 [==============================] - 0s 2ms/step - loss: 122.1702 - val_loss: 700.5733\n",
            "Epoch 71/100\n",
            "70/70 [==============================] - 0s 2ms/step - loss: 111.0428 - val_loss: 615.1188\n",
            "Epoch 72/100\n",
            "70/70 [==============================] - 0s 2ms/step - loss: 112.8276 - val_loss: 713.3300\n",
            "Epoch 73/100\n",
            "70/70 [==============================] - 0s 2ms/step - loss: 107.7954 - val_loss: 581.6080\n",
            "Epoch 74/100\n",
            "70/70 [==============================] - 0s 2ms/step - loss: 119.8940 - val_loss: 593.7875\n",
            "Epoch 75/100\n",
            "70/70 [==============================] - 0s 2ms/step - loss: 108.8347 - val_loss: 869.2951\n",
            "Epoch 76/100\n",
            "70/70 [==============================] - 0s 2ms/step - loss: 109.7848 - val_loss: 601.6555\n",
            "Epoch 77/100\n",
            "70/70 [==============================] - 0s 2ms/step - loss: 113.3362 - val_loss: 575.5883\n",
            "Epoch 78/100\n",
            "70/70 [==============================] - 0s 2ms/step - loss: 111.1361 - val_loss: 657.5789\n",
            "Epoch 79/100\n",
            "70/70 [==============================] - 0s 2ms/step - loss: 128.6046 - val_loss: 590.6577\n",
            "Epoch 80/100\n",
            "70/70 [==============================] - 0s 2ms/step - loss: 126.5245 - val_loss: 683.3282\n",
            "Epoch 81/100\n",
            "70/70 [==============================] - 0s 2ms/step - loss: 110.5195 - val_loss: 570.8763\n",
            "Epoch 82/100\n",
            "70/70 [==============================] - 0s 2ms/step - loss: 120.2889 - val_loss: 590.3370\n",
            "Epoch 83/100\n",
            "70/70 [==============================] - 0s 2ms/step - loss: 112.3191 - val_loss: 632.1088\n",
            "Epoch 84/100\n",
            "70/70 [==============================] - 0s 2ms/step - loss: 113.6184 - val_loss: 617.5689\n",
            "Epoch 85/100\n",
            "70/70 [==============================] - 0s 2ms/step - loss: 115.0826 - val_loss: 759.0490\n",
            "Epoch 86/100\n",
            "70/70 [==============================] - 0s 2ms/step - loss: 125.5977 - val_loss: 690.0055\n",
            "Epoch 87/100\n",
            "70/70 [==============================] - 0s 2ms/step - loss: 108.4950 - val_loss: 670.0900\n",
            "Epoch 88/100\n",
            "70/70 [==============================] - 0s 3ms/step - loss: 115.3943 - val_loss: 569.0059\n",
            "Epoch 89/100\n",
            "70/70 [==============================] - 0s 3ms/step - loss: 116.4811 - val_loss: 1344.2167\n",
            "Epoch 90/100\n",
            "70/70 [==============================] - 0s 2ms/step - loss: 118.0201 - val_loss: 650.9283\n",
            "Epoch 91/100\n",
            "70/70 [==============================] - 0s 2ms/step - loss: 117.3953 - val_loss: 574.0941\n",
            "Epoch 92/100\n",
            "70/70 [==============================] - 0s 3ms/step - loss: 108.2399 - val_loss: 583.8444\n",
            "Epoch 93/100\n",
            "70/70 [==============================] - 0s 2ms/step - loss: 106.7254 - val_loss: 574.1815\n",
            "Epoch 94/100\n",
            "70/70 [==============================] - 0s 2ms/step - loss: 113.0171 - val_loss: 797.2064\n",
            "Epoch 95/100\n",
            "70/70 [==============================] - 0s 2ms/step - loss: 114.3607 - val_loss: 646.3542\n",
            "Epoch 96/100\n",
            "70/70 [==============================] - 0s 2ms/step - loss: 113.0620 - val_loss: 568.6572\n",
            "Epoch 97/100\n",
            "70/70 [==============================] - 0s 2ms/step - loss: 112.2611 - val_loss: 643.4067\n",
            "Epoch 98/100\n",
            "70/70 [==============================] - 0s 2ms/step - loss: 118.6483 - val_loss: 574.6597\n",
            "Epoch 99/100\n",
            "70/70 [==============================] - 0s 2ms/step - loss: 113.0570 - val_loss: 595.7736\n",
            "Epoch 100/100\n",
            "70/70 [==============================] - 0s 2ms/step - loss: 117.3229 - val_loss: 678.2203\n"
          ],
          "name": "stdout"
        },
        {
          "output_type": "execute_result",
          "data": {
            "text/plain": [
              "<tensorflow.python.keras.callbacks.History at 0x7ff49d1df710>"
            ]
          },
          "metadata": {
            "tags": []
          },
          "execution_count": 279
        }
      ]
    },
    {
      "cell_type": "code",
      "metadata": {
        "colab": {
          "base_uri": "https://localhost:8080/"
        },
        "id": "PCDHUobK1rvj",
        "outputId": "9208cbeb-4418-4703-99f2-bea435b1a996"
      },
      "source": [
        "# Evalaute\n",
        "model_6.evaluate(X_test, y_test)"
      ],
      "execution_count": 280,
      "outputs": [
        {
          "output_type": "stream",
          "text": [
            "18/18 [==============================] - 0s 1ms/step - loss: 678.2203\n"
          ],
          "name": "stdout"
        },
        {
          "output_type": "execute_result",
          "data": {
            "text/plain": [
              "678.2203369140625"
            ]
          },
          "metadata": {
            "tags": []
          },
          "execution_count": 280
        }
      ]
    },
    {
      "cell_type": "code",
      "metadata": {
        "colab": {
          "base_uri": "https://localhost:8080/"
        },
        "id": "K1miRk_b3g97",
        "outputId": "5eb0bc59-d46c-4b35-8626-0ba4e19b95a6"
      },
      "source": [
        "# Make sure best model is loaded and evaluate\n",
        "model_6 = tf.keras.models.load_model(\"model_experiments/model_6_dense_multivariate\")\n",
        "model_6.evaluate(X_test, y_test)"
      ],
      "execution_count": 281,
      "outputs": [
        {
          "output_type": "stream",
          "text": [
            "18/18 [==============================] - 0s 1ms/step - loss: 566.1509\n"
          ],
          "name": "stdout"
        },
        {
          "output_type": "execute_result",
          "data": {
            "text/plain": [
              "566.1509399414062"
            ]
          },
          "metadata": {
            "tags": []
          },
          "execution_count": 281
        }
      ]
    },
    {
      "cell_type": "code",
      "metadata": {
        "colab": {
          "base_uri": "https://localhost:8080/"
        },
        "id": "1t9d_Yyx17dE",
        "outputId": "fa87b8b3-7e7f-4d26-91f4-6c250c6bc383"
      },
      "source": [
        "# Make predictions on multivariate data\n",
        "model_6_preds = tf.squeeze(model_6.predict(X_test))\n",
        "model_6_preds[:10]"
      ],
      "execution_count": 282,
      "outputs": [
        {
          "output_type": "execute_result",
          "data": {
            "text/plain": [
              "<tf.Tensor: shape=(10,), dtype=float32, numpy=\n",
              "array([8796.159, 8747.883, 9022.061, 8721.576, 8712.521, 8719.008,\n",
              "       8650.224, 8485.869, 8428.74 , 8509.546], dtype=float32)>"
            ]
          },
          "metadata": {
            "tags": []
          },
          "execution_count": 282
        }
      ]
    },
    {
      "cell_type": "code",
      "metadata": {
        "colab": {
          "base_uri": "https://localhost:8080/"
        },
        "id": "MsMPgRO117aB",
        "outputId": "15bfa88d-7752-43f8-c154-7215cf96bdd5"
      },
      "source": [
        "# Evaluate preds\n",
        "model_6_results = evaluate_preds(y_true=y_test,\n",
        "                                 y_pred=model_6_preds)\n",
        "model_6_results"
      ],
      "execution_count": 283,
      "outputs": [
        {
          "output_type": "execute_result",
          "data": {
            "text/plain": [
              "{'mae': 566.151,\n",
              " 'mape': 2.5469217,\n",
              " 'mase': 0.9945705,\n",
              " 'mse': 1152910.5,\n",
              " 'rmse': 1073.7367}"
            ]
          },
          "metadata": {
            "tags": []
          },
          "execution_count": 283
        }
      ]
    },
    {
      "cell_type": "markdown",
      "metadata": {
        "id": "dSoDXRJQC07r"
      },
      "source": [
        "TODO: Doesn't look like the block_reward variable adds anything to our model..."
      ]
    },
    {
      "cell_type": "code",
      "metadata": {
        "colab": {
          "base_uri": "https://localhost:8080/"
        },
        "id": "skT58GmhCIUH",
        "outputId": "7cffce50-c1db-4ca7-99f3-8473946fb57c"
      },
      "source": [
        "model_1_results"
      ],
      "execution_count": 263,
      "outputs": [
        {
          "output_type": "execute_result",
          "data": {
            "text/plain": [
              "{'mae': 568.5498,\n",
              " 'mape': 2.549229,\n",
              " 'mase': 0.99878454,\n",
              " 'mse': 1172587.6,\n",
              " 'rmse': 1082.8608}"
            ]
          },
          "metadata": {
            "tags": []
          },
          "execution_count": 263
        }
      ]
    },
    {
      "cell_type": "code",
      "metadata": {
        "colab": {
          "base_uri": "https://localhost:8080/"
        },
        "id": "exB-5qx9CWh9",
        "outputId": "4dec056f-59c5-47c9-c28b-3f62a5ffd587"
      },
      "source": [
        "naive_results"
      ],
      "execution_count": 255,
      "outputs": [
        {
          "output_type": "execute_result",
          "data": {
            "text/plain": [
              "{'mae': 567.9802,\n",
              " 'mape': 2.516525,\n",
              " 'mase': 0.99957,\n",
              " 'mse': 1147547.0,\n",
              " 'rmse': 1071.2362}"
            ]
          },
          "metadata": {
            "tags": []
          },
          "execution_count": 255
        }
      ]
    },
    {
      "cell_type": "code",
      "metadata": {
        "id": "ff20hcOT6eI-"
      },
      "source": [
        "# # 10 epochs:\n",
        "# {'mae': 623.8663,\n",
        "#  'mape': 2.8061981,\n",
        "#  'mase': 1.0959603,\n",
        "#  'mse': 1357517.8,\n",
        "#  'rmse': 1165.1256}\n",
        "\n",
        "# # 100 epochs\n",
        "# {'mae': 568.70306,\n",
        "#  'mape': 2.5386326,\n",
        "#  'mase': 0.9990538,\n",
        "#  'mse': 1157112.4,\n",
        "#  'rmse': 1075.6915}\n",
        "\n",
        "# # 500 epochs - 128 dense\n",
        "# {'mae': 563.119,\n",
        "#  'mape': 2.5294802,\n",
        "#  'mase': 0.98924416,\n",
        "#  'mse': 1147479.6,\n",
        "#  'rmse': 1071.2047}\n",
        "\n",
        "# # 100 epochs - 2x 128 dense\n",
        "# {'mae': 566.151,\n",
        "#  'mape': 2.5469217,\n",
        "#  'mase': 0.9945705,\n",
        "#  'mse': 1152910.5,\n",
        "#  'rmse': 1073.7367}"
      ],
      "execution_count": null,
      "outputs": []
    },
    {
      "cell_type": "markdown",
      "metadata": {
        "id": "bfl8rXDVu_pJ"
      },
      "source": [
        "## TODO: Make TensorFlow windows"
      ]
    },
    {
      "cell_type": "markdown",
      "metadata": {
        "id": "ZUZ9QT1zC1oq"
      },
      "source": [
        "UPTOHERE:\n",
        "* Creating a custom TensorFlow dataset for windowed data\n",
        "* Cleanup TensorFlow windowing setup \n",
        "* Use this dataset for finding different window sizes? Or... go into N-Beats algorithm?\n",
        "* Try without the block_size, does this influence the code?\n",
        "* Make future forecasts\n",
        "* Make future forecasts with uncertainty\n",
        "* Introduce Turkey problem & show how it effects our models\n"
      ]
    },
    {
      "cell_type": "code",
      "metadata": {
        "colab": {
          "base_uri": "https://localhost:8080/",
          "height": 235
        },
        "id": "mZFbRymp9krv",
        "outputId": "06b41efa-e476-49fe-ce1c-c06ac238288d"
      },
      "source": [
        "bitcoin_prices.head()"
      ],
      "execution_count": 265,
      "outputs": [
        {
          "output_type": "execute_result",
          "data": {
            "text/html": [
              "<div>\n",
              "<style scoped>\n",
              "    .dataframe tbody tr th:only-of-type {\n",
              "        vertical-align: middle;\n",
              "    }\n",
              "\n",
              "    .dataframe tbody tr th {\n",
              "        vertical-align: top;\n",
              "    }\n",
              "\n",
              "    .dataframe thead th {\n",
              "        text-align: right;\n",
              "    }\n",
              "</style>\n",
              "<table border=\"1\" class=\"dataframe\">\n",
              "  <thead>\n",
              "    <tr style=\"text-align: right;\">\n",
              "      <th></th>\n",
              "      <th>Price</th>\n",
              "    </tr>\n",
              "    <tr>\n",
              "      <th>Date</th>\n",
              "      <th></th>\n",
              "    </tr>\n",
              "  </thead>\n",
              "  <tbody>\n",
              "    <tr>\n",
              "      <th>2013-10-01</th>\n",
              "      <td>123.65499</td>\n",
              "    </tr>\n",
              "    <tr>\n",
              "      <th>2013-10-02</th>\n",
              "      <td>125.45500</td>\n",
              "    </tr>\n",
              "    <tr>\n",
              "      <th>2013-10-03</th>\n",
              "      <td>108.58483</td>\n",
              "    </tr>\n",
              "    <tr>\n",
              "      <th>2013-10-04</th>\n",
              "      <td>118.67466</td>\n",
              "    </tr>\n",
              "    <tr>\n",
              "      <th>2013-10-05</th>\n",
              "      <td>121.33866</td>\n",
              "    </tr>\n",
              "  </tbody>\n",
              "</table>\n",
              "</div>"
            ],
            "text/plain": [
              "                Price\n",
              "Date                 \n",
              "2013-10-01  123.65499\n",
              "2013-10-02  125.45500\n",
              "2013-10-03  108.58483\n",
              "2013-10-04  118.67466\n",
              "2013-10-05  121.33866"
            ]
          },
          "metadata": {
            "tags": []
          },
          "execution_count": 265
        }
      ]
    },
    {
      "cell_type": "code",
      "metadata": {
        "colab": {
          "base_uri": "https://localhost:8080/",
          "height": 235
        },
        "id": "zMyGlzdfzFlj",
        "outputId": "49762a55-8184-4c6c-d31c-af93f223b8cc"
      },
      "source": [
        "# Remove the block_reward value and see if the model improves\n",
        "X_no_reward = X.drop(\"block_reward\", axis=1)\n",
        "X_no_reward.head()"
      ],
      "execution_count": 266,
      "outputs": [
        {
          "output_type": "execute_result",
          "data": {
            "text/html": [
              "<div>\n",
              "<style scoped>\n",
              "    .dataframe tbody tr th:only-of-type {\n",
              "        vertical-align: middle;\n",
              "    }\n",
              "\n",
              "    .dataframe tbody tr th {\n",
              "        vertical-align: top;\n",
              "    }\n",
              "\n",
              "    .dataframe thead th {\n",
              "        text-align: right;\n",
              "    }\n",
              "</style>\n",
              "<table border=\"1\" class=\"dataframe\">\n",
              "  <thead>\n",
              "    <tr style=\"text-align: right;\">\n",
              "      <th></th>\n",
              "      <th>Price+1</th>\n",
              "      <th>Price+2</th>\n",
              "      <th>Price+3</th>\n",
              "      <th>Price+4</th>\n",
              "      <th>Price+5</th>\n",
              "      <th>Price+6</th>\n",
              "      <th>Price+7</th>\n",
              "    </tr>\n",
              "    <tr>\n",
              "      <th>Date</th>\n",
              "      <th></th>\n",
              "      <th></th>\n",
              "      <th></th>\n",
              "      <th></th>\n",
              "      <th></th>\n",
              "      <th></th>\n",
              "      <th></th>\n",
              "    </tr>\n",
              "  </thead>\n",
              "  <tbody>\n",
              "    <tr>\n",
              "      <th>2013-10-08</th>\n",
              "      <td>121.794998</td>\n",
              "      <td>120.655327</td>\n",
              "      <td>121.338661</td>\n",
              "      <td>118.674660</td>\n",
              "      <td>108.584831</td>\n",
              "      <td>125.455002</td>\n",
              "      <td>123.654991</td>\n",
              "    </tr>\n",
              "    <tr>\n",
              "      <th>2013-10-09</th>\n",
              "      <td>123.032997</td>\n",
              "      <td>121.794998</td>\n",
              "      <td>120.655327</td>\n",
              "      <td>121.338661</td>\n",
              "      <td>118.674660</td>\n",
              "      <td>108.584831</td>\n",
              "      <td>125.455002</td>\n",
              "    </tr>\n",
              "    <tr>\n",
              "      <th>2013-10-10</th>\n",
              "      <td>124.049004</td>\n",
              "      <td>123.032997</td>\n",
              "      <td>121.794998</td>\n",
              "      <td>120.655327</td>\n",
              "      <td>121.338661</td>\n",
              "      <td>118.674660</td>\n",
              "      <td>108.584831</td>\n",
              "    </tr>\n",
              "    <tr>\n",
              "      <th>2013-10-11</th>\n",
              "      <td>125.961159</td>\n",
              "      <td>124.049004</td>\n",
              "      <td>123.032997</td>\n",
              "      <td>121.794998</td>\n",
              "      <td>120.655327</td>\n",
              "      <td>121.338661</td>\n",
              "      <td>118.674660</td>\n",
              "    </tr>\n",
              "    <tr>\n",
              "      <th>2013-10-12</th>\n",
              "      <td>125.279663</td>\n",
              "      <td>125.961159</td>\n",
              "      <td>124.049004</td>\n",
              "      <td>123.032997</td>\n",
              "      <td>121.794998</td>\n",
              "      <td>120.655327</td>\n",
              "      <td>121.338661</td>\n",
              "    </tr>\n",
              "  </tbody>\n",
              "</table>\n",
              "</div>"
            ],
            "text/plain": [
              "               Price+1     Price+2  ...     Price+6     Price+7\n",
              "Date                                ...                        \n",
              "2013-10-08  121.794998  120.655327  ...  125.455002  123.654991\n",
              "2013-10-09  123.032997  121.794998  ...  108.584831  125.455002\n",
              "2013-10-10  124.049004  123.032997  ...  118.674660  108.584831\n",
              "2013-10-11  125.961159  124.049004  ...  121.338661  118.674660\n",
              "2013-10-12  125.279663  125.961159  ...  120.655327  121.338661\n",
              "\n",
              "[5 rows x 7 columns]"
            ]
          },
          "metadata": {
            "tags": []
          },
          "execution_count": 266
        }
      ]
    },
    {
      "cell_type": "code",
      "metadata": {
        "colab": {
          "base_uri": "https://localhost:8080/"
        },
        "id": "nXCgvna-zTV5",
        "outputId": "e9f5ddc8-4bc0-46bd-fbe8-8b004c7a0606"
      },
      "source": [
        "X_train, X_test = X_no_reward[:split_size], X_no_reward[split_size:]\n",
        "len(X_train), len(X_test)"
      ],
      "execution_count": 267,
      "outputs": [
        {
          "output_type": "execute_result",
          "data": {
            "text/plain": [
              "(2224, 556)"
            ]
          },
          "metadata": {
            "tags": []
          },
          "execution_count": 267
        }
      ]
    },
    {
      "cell_type": "code",
      "metadata": {
        "id": "N5Bs0_NwvCFV"
      },
      "source": [
        "# TODO: Break down the windowing function...\n",
        "# TODO: We can also turn our own data into windows..."
      ],
      "execution_count": 268,
      "outputs": []
    },
    {
      "cell_type": "code",
      "metadata": {
        "colab": {
          "base_uri": "https://localhost:8080/"
        },
        "id": "ZhmuOrueB2Sx",
        "outputId": "572ac9f5-ad34-4a73-8adc-dcedeff7a333"
      },
      "source": [
        "# Create TensorFlow dataset - from_tensor_slices is best when your data fits in memory: https://www.tensorflow.org/api_docs/python/tf/data/Dataset#from_tensor_slices\n",
        "train_features_dataset = tf.data.Dataset.from_tensor_slices(X_train)\n",
        "train_labels_dataset = tf.data.Dataset.from_tensor_slices(y_train)\n",
        "\n",
        "test_features_dataset = tf.data.Dataset.from_tensor_slices(X_test)\n",
        "test_labels_dataset = tf.data.Dataset.from_tensor_slices(y_test)\n",
        "\n",
        "# Combine labels & features\n",
        "train_dataset = tf.data.Dataset.zip((train_features_dataset, train_labels_dataset))\n",
        "test_dataset = tf.data.Dataset.zip((test_features_dataset, test_labels_dataset))\n",
        "\n",
        "# Batch and prefetch\n",
        "train_dataset = train_dataset.batch(32).prefetch(tf.data.AUTOTUNE)\n",
        "test_dataset = test_dataset.batch(32).prefetch(tf.data.AUTOTUNE)\n",
        "\n",
        "train_dataset, test_dataset"
      ],
      "execution_count": 269,
      "outputs": [
        {
          "output_type": "execute_result",
          "data": {
            "text/plain": [
              "(<PrefetchDataset shapes: ((None, 7), (None,)), types: (tf.float32, tf.float32)>,\n",
              " <PrefetchDataset shapes: ((None, 7), (None,)), types: (tf.float32, tf.float32)>)"
            ]
          },
          "metadata": {
            "tags": []
          },
          "execution_count": 269
        }
      ]
    },
    {
      "cell_type": "code",
      "metadata": {
        "colab": {
          "base_uri": "https://localhost:8080/"
        },
        "id": "FkzhbeXAFX3e",
        "outputId": "ed156ef7-64e9-4aa0-8067-b8465d957fc6"
      },
      "source": [
        "tf.random.set_seed(42)\n",
        "\n",
        "# Fit a model to the TensorFlow datasets\n",
        "inputs = layers.Input(shape=(WINDOW_SIZE))\n",
        "x = layers.Dense(128, activation=\"relu\")(inputs)\n",
        "output = layers.Dense(1)(x)\n",
        "model_X = tf.keras.Model(inputs=inputs, outputs=output, name=\"model_X_with_block_reward\")\n",
        "\n",
        "# Compile\n",
        "model_X.compile(loss=\"mae\",\n",
        "                optimizer=tf.keras.optimizers.Adam())\n",
        "\n",
        "# Fit\n",
        "model_X.fit(train_dataset,\n",
        "            epochs=500,\n",
        "            verbose=0,\n",
        "            validation_data=test_dataset,\n",
        "            callbacks=[create_model_checkpoint(model_name=model_X.name)])\n",
        "\n",
        "# Evaluate\n",
        "model_X.evaluate(test_dataset)"
      ],
      "execution_count": 271,
      "outputs": [
        {
          "output_type": "stream",
          "text": [
            "INFO:tensorflow:Assets written to: model_experiments/model_X_with_block_reward/assets\n",
            "INFO:tensorflow:Assets written to: model_experiments/model_X_with_block_reward/assets\n",
            "INFO:tensorflow:Assets written to: model_experiments/model_X_with_block_reward/assets\n",
            "INFO:tensorflow:Assets written to: model_experiments/model_X_with_block_reward/assets\n",
            "INFO:tensorflow:Assets written to: model_experiments/model_X_with_block_reward/assets\n",
            "INFO:tensorflow:Assets written to: model_experiments/model_X_with_block_reward/assets\n",
            "INFO:tensorflow:Assets written to: model_experiments/model_X_with_block_reward/assets\n",
            "INFO:tensorflow:Assets written to: model_experiments/model_X_with_block_reward/assets\n",
            "INFO:tensorflow:Assets written to: model_experiments/model_X_with_block_reward/assets\n",
            "INFO:tensorflow:Assets written to: model_experiments/model_X_with_block_reward/assets\n",
            "INFO:tensorflow:Assets written to: model_experiments/model_X_with_block_reward/assets\n",
            "INFO:tensorflow:Assets written to: model_experiments/model_X_with_block_reward/assets\n",
            "INFO:tensorflow:Assets written to: model_experiments/model_X_with_block_reward/assets\n",
            "INFO:tensorflow:Assets written to: model_experiments/model_X_with_block_reward/assets\n",
            "INFO:tensorflow:Assets written to: model_experiments/model_X_with_block_reward/assets\n",
            "INFO:tensorflow:Assets written to: model_experiments/model_X_with_block_reward/assets\n",
            "INFO:tensorflow:Assets written to: model_experiments/model_X_with_block_reward/assets\n",
            "INFO:tensorflow:Assets written to: model_experiments/model_X_with_block_reward/assets\n",
            "INFO:tensorflow:Assets written to: model_experiments/model_X_with_block_reward/assets\n",
            "INFO:tensorflow:Assets written to: model_experiments/model_X_with_block_reward/assets\n",
            "INFO:tensorflow:Assets written to: model_experiments/model_X_with_block_reward/assets\n",
            "18/18 [==============================] - 0s 1ms/step - loss: 705.2228\n"
          ],
          "name": "stdout"
        },
        {
          "output_type": "execute_result",
          "data": {
            "text/plain": [
              "705.2227783203125"
            ]
          },
          "metadata": {
            "tags": []
          },
          "execution_count": 271
        }
      ]
    },
    {
      "cell_type": "code",
      "metadata": {
        "colab": {
          "base_uri": "https://localhost:8080/"
        },
        "id": "xouWMAWY5q3R",
        "outputId": "a7e24276-94b6-4d71-9f03-9272ad7a84aa"
      },
      "source": [
        "# Load back in best model\n",
        "model_X = tf.keras.models.load_model(\"model_experiments/model_X_with_block_reward\")\n",
        "model_X.evaluate(test_dataset)"
      ],
      "execution_count": 272,
      "outputs": [
        {
          "output_type": "stream",
          "text": [
            "18/18 [==============================] - 0s 1ms/step - loss: 630.9904\n"
          ],
          "name": "stdout"
        },
        {
          "output_type": "execute_result",
          "data": {
            "text/plain": [
              "630.9904174804688"
            ]
          },
          "metadata": {
            "tags": []
          },
          "execution_count": 272
        }
      ]
    },
    {
      "cell_type": "code",
      "metadata": {
        "colab": {
          "base_uri": "https://localhost:8080/"
        },
        "id": "6wcHFhAV_V2Z",
        "outputId": "9d2656b2-913d-47f7-a854-5b5b6ec61fcc"
      },
      "source": [
        "naive_results"
      ],
      "execution_count": 273,
      "outputs": [
        {
          "output_type": "execute_result",
          "data": {
            "text/plain": [
              "{'mae': 567.9802,\n",
              " 'mape': 2.516525,\n",
              " 'mase': 0.99957,\n",
              " 'mse': 1147547.0,\n",
              " 'rmse': 1071.2362}"
            ]
          },
          "metadata": {
            "tags": []
          },
          "execution_count": 273
        }
      ]
    },
    {
      "cell_type": "code",
      "metadata": {
        "id": "oyoymUigC_vB"
      },
      "source": [
        ""
      ],
      "execution_count": null,
      "outputs": []
    },
    {
      "cell_type": "code",
      "metadata": {
        "id": "I20gGmTq7Aih"
      },
      "source": [
        "# # No block_reward + batch 32 + 500 epochs + tf windows \n",
        "# 18/18 [==============================] - 0s 1ms/step - loss: 630.9904\n",
        "# 630.9904174804688\n",
        "\n",
        "# # No block_reward + batch 128 + 100 epochs + tf windows \n",
        "# 5/5 [==============================] - 0s 3ms/step - loss: 648.3307\n",
        "# 648.3306884765625\n",
        "\n",
        "# # With block_reward + batch 128 + 100 epochs + tf windows \n",
        "# 5/5 [==============================] - 0s 2ms/step - loss: 895.1320\n",
        "# 895.1320190429688\n",
        "\n",
        "# # With block_reward + batch 32 + 100 epochs + tf windows\n",
        "# 18/18 [==============================] - 0s 1ms/step - loss: 572.0220\n",
        "# 572.02197265625\n",
        "\n",
        "# # With block_reward + batch 128 + 500 epochs + tf windows \n",
        "# 5/5 [==============================] - 0s 3ms/step - loss: 719.8735\n",
        "# 719.87353515625\n",
        "\n",
        "# # With block_reward + batch 32 + 500 epochs + tf windows \n",
        "# 18/18 [==============================] - 0s 2ms/step - loss: 565.4488\n",
        "# 565.4487915039062"
      ],
      "execution_count": 199,
      "outputs": []
    },
    {
      "cell_type": "markdown",
      "metadata": {
        "id": "TPkzQccU-dtR"
      },
      "source": [
        "## TODO:  N-BEATs algorithm"
      ]
    },
    {
      "cell_type": "code",
      "metadata": {
        "id": "llwhXCn9-hQt"
      },
      "source": [
        ""
      ],
      "execution_count": null,
      "outputs": []
    },
    {
      "cell_type": "code",
      "metadata": {
        "id": "ne7XLO4gAGfm"
      },
      "source": [
        ""
      ],
      "execution_count": null,
      "outputs": []
    },
    {
      "cell_type": "code",
      "metadata": {
        "id": "DtAT8Onk-hX_"
      },
      "source": [
        ""
      ],
      "execution_count": null,
      "outputs": []
    },
    {
      "cell_type": "code",
      "metadata": {
        "id": "2U3-Wv94-hfQ"
      },
      "source": [
        ""
      ],
      "execution_count": null,
      "outputs": []
    },
    {
      "cell_type": "code",
      "metadata": {
        "id": "iZ_BEvNB--8J"
      },
      "source": [
        ""
      ],
      "execution_count": null,
      "outputs": []
    },
    {
      "cell_type": "markdown",
      "metadata": {
        "id": "QknmUSJf_JoF"
      },
      "source": [
        "## TODO: Experimenting for different window sizes..."
      ]
    },
    {
      "cell_type": "code",
      "metadata": {
        "id": "w4Ml9tyj_N2C"
      },
      "source": [
        ""
      ],
      "execution_count": null,
      "outputs": []
    },
    {
      "cell_type": "code",
      "metadata": {
        "id": "PLFCudEC_ODA"
      },
      "source": [
        ""
      ],
      "execution_count": null,
      "outputs": []
    },
    {
      "cell_type": "code",
      "metadata": {
        "id": "hCos-f0b_ONO"
      },
      "source": [
        ""
      ],
      "execution_count": null,
      "outputs": []
    },
    {
      "cell_type": "code",
      "metadata": {
        "id": "OuTsOtcG_OYJ"
      },
      "source": [
        ""
      ],
      "execution_count": null,
      "outputs": []
    },
    {
      "cell_type": "markdown",
      "metadata": {
        "id": "UW9oxH47EK-6"
      },
      "source": [
        "## TODO: Make future forecasts...\n",
        "\n",
        "* TODO\n",
        "  * Make forecasting better (how can I forecast on an arbitrary amount of steps)\n",
        "  * Create evaluation method for larger windows/horizons\n",
        "  * Build more modelling experiments\n",
        "  * Create multivariate time series\n",
        "  * Create TensorFlow windowing function\n",
        "\n",
        "* Forecasts can't be compared to anything... because they're a forecast... derp"
      ]
    },
    {
      "cell_type": "code",
      "metadata": {
        "id": "0Hu1eH59BcuN"
      },
      "source": [
        "# TODO: Create make forecast function with:\n",
        "# Can forecast on any model\n",
        "# Can forecast on any time series (gets formatted to be same as the model's requirements)"
      ],
      "execution_count": null,
      "outputs": []
    },
    {
      "cell_type": "code",
      "metadata": {
        "colab": {
          "base_uri": "https://localhost:8080/"
        },
        "id": "uWlh2P7pBQpX",
        "outputId": "b59d2640-df5b-4081-b53b-abd1af6077e5"
      },
      "source": [
        "WINDOW_SIZE"
      ],
      "execution_count": null,
      "outputs": [
        {
          "output_type": "execute_result",
          "data": {
            "text/plain": [
              "10"
            ]
          },
          "metadata": {
            "tags": []
          },
          "execution_count": 365
        }
      ]
    },
    {
      "cell_type": "code",
      "metadata": {
        "colab": {
          "base_uri": "https://localhost:8080/"
        },
        "id": "6WYGil3TBTEA",
        "outputId": "ec25bc72-77be-4b06-c929-e180f6a450ce"
      },
      "source": [
        "# Make forecast with one model... \n",
        "model_3_forecast = model_3.predict(tf.expand_dims(y_test[-model_3.input_shape[-1]:], axis=0))\n",
        "model_3_forecast"
      ],
      "execution_count": null,
      "outputs": [
        {
          "output_type": "execute_result",
          "data": {
            "text/plain": [
              "array([[51037.02]], dtype=float32)"
            ]
          },
          "metadata": {
            "tags": []
          },
          "execution_count": 450
        }
      ]
    },
    {
      "cell_type": "code",
      "metadata": {
        "id": "soQoulDxEhAp"
      },
      "source": [
        "# TODO: Update this to work with future data...\n",
        "def make_future_forecast(model, input_data):\n",
        "  \"\"\"\n",
        "  Uses model to make forecasts on input_data.\n",
        "  \"\"\"\n",
        "  forecast = model.predict(tf.expand_dims(input_data[-model.input_shape[-1]:], axis=0)) # make future predictions on last timestep(s) of input_data\n",
        "  return tf.squeeze(forecast).numpy()"
      ],
      "execution_count": null,
      "outputs": []
    },
    {
      "cell_type": "code",
      "metadata": {
        "colab": {
          "base_uri": "https://localhost:8080/"
        },
        "id": "cU0-6mgXFT3F",
        "outputId": "8c6216a3-480f-4212-ec28-eb40595c4a06"
      },
      "source": [
        "model_2_forecast = make_forecast(model_2, y_test)\n",
        "model_2_forecast"
      ],
      "execution_count": null,
      "outputs": [
        {
          "output_type": "execute_result",
          "data": {
            "text/plain": [
              "array([53904.688, 43581.746, 53670.637, 51078.867, 45989.836, 47447.473,\n",
              "       44555.715, 46859.6  , 54127.32 , 54640.65 , 52999.043, 52226.145,\n",
              "       46463.242, 45323.86 ], dtype=float32)"
            ]
          },
          "metadata": {
            "tags": []
          },
          "execution_count": 454
        }
      ]
    },
    {
      "cell_type": "code",
      "metadata": {
        "colab": {
          "base_uri": "https://localhost:8080/"
        },
        "id": "6cIibo-CFcxA",
        "outputId": "e3167e29-944a-4f7d-b28a-3e7812a7d7eb"
      },
      "source": [
        "model_3_forecast = make_forecast(model_3, y_test)\n",
        "model_3_forecast"
      ],
      "execution_count": null,
      "outputs": [
        {
          "output_type": "execute_result",
          "data": {
            "text/plain": [
              "51037.02"
            ]
          },
          "metadata": {
            "tags": []
          },
          "execution_count": 457
        }
      ]
    },
    {
      "cell_type": "markdown",
      "metadata": {
        "id": "QuaY0cOaCHfr"
      },
      "source": [
        "## TODO: Plot future forecasts\n",
        "\n",
        "* Need: \n",
        "  * horizon # of dates in future\n",
        "  * forecast"
      ]
    },
    {
      "cell_type": "code",
      "metadata": {
        "colab": {
          "base_uri": "https://localhost:8080/"
        },
        "id": "6676Sl-cAFn5",
        "outputId": "c8cfc1d7-a4d7-4930-a2de-40e4b84c6640"
      },
      "source": [
        "# Last timestep of timesteps (currently in np.datetime64 format)\n",
        "X_test[-1]"
      ],
      "execution_count": null,
      "outputs": [
        {
          "output_type": "execute_result",
          "data": {
            "text/plain": [
              "numpy.datetime64('2021-05-18T00:00:00.000000000')"
            ]
          },
          "metadata": {
            "tags": []
          },
          "execution_count": 443
        }
      ]
    },
    {
      "cell_type": "code",
      "metadata": {
        "id": "i4iNNliSCbU-"
      },
      "source": [
        "def get_future_dates(start_date, horizon=1, offset=1):\n",
        "  \"\"\"\n",
        "  Returns array of datetime values from ranging from start_date to start_date+horizon.\n",
        "\n",
        "  start_date: date to start range (np.datetime64)\n",
        "  horizon: number of day to add onto start date for range (int)\n",
        "  offset: if offset=1 (default), original date is not included, if offset=0, original date is included\n",
        "  \"\"\"\n",
        "  return np.arange(start_date + np.timedelta64(offset, \"D\"), start_date + np.timedelta64(horizon+1, \"D\"), dtype=\"datetime64[D]\")"
      ],
      "execution_count": null,
      "outputs": []
    },
    {
      "cell_type": "code",
      "metadata": {
        "id": "252bhVD7C5NZ"
      },
      "source": [
        "next_time_steps = get_future_dates(start_date=X_test[-1], horizon=HORIZON)"
      ],
      "execution_count": null,
      "outputs": []
    },
    {
      "cell_type": "code",
      "metadata": {
        "colab": {
          "base_uri": "https://localhost:8080/"
        },
        "id": "gtOqAgSPyjtn",
        "outputId": "e54d6fcf-ac1e-4152-b646-20778f81393d"
      },
      "source": [
        "# Example of getting next two weeks\n",
        "next_two_weeks = get_future_dates(start_date=X_test[-1], horizon=14)\n",
        "next_two_weeks"
      ],
      "execution_count": null,
      "outputs": [
        {
          "output_type": "execute_result",
          "data": {
            "text/plain": [
              "array(['2021-05-19', '2021-05-20', '2021-05-21', '2021-05-22',\n",
              "       '2021-05-23', '2021-05-24', '2021-05-25', '2021-05-26',\n",
              "       '2021-05-27', '2021-05-28', '2021-05-29', '2021-05-30',\n",
              "       '2021-05-31', '2021-06-01'], dtype='datetime64[D]')"
            ]
          },
          "metadata": {
            "tags": []
          },
          "execution_count": 544
        }
      ]
    },
    {
      "cell_type": "code",
      "metadata": {
        "id": "G_5UX08aCThS"
      },
      "source": [
        "model_2_forecast = np.insert(model_2_forecast, 0, y_test[-1]) \n",
        "future_dates = np.insert(next_two_weeks, 0, X_test[-1])"
      ],
      "execution_count": null,
      "outputs": []
    },
    {
      "cell_type": "code",
      "metadata": {
        "colab": {
          "base_uri": "https://localhost:8080/"
        },
        "id": "iBj7y088EAYc",
        "outputId": "b56e0a2e-76f6-4189-f678-559a602bfe79"
      },
      "source": [
        "model_2_forecast, future_dates"
      ],
      "execution_count": null,
      "outputs": [
        {
          "output_type": "execute_result",
          "data": {
            "text/plain": [
              "(array([43144.473, 53904.688, 43581.746, 53670.637, 51078.867, 45989.836,\n",
              "        47447.473, 44555.715, 46859.6  , 54127.32 , 54640.65 , 52999.043,\n",
              "        52226.145, 46463.242, 45323.86 ], dtype=float32),\n",
              " array(['2021-05-18', '2021-05-19', '2021-05-20', '2021-05-21',\n",
              "        '2021-05-22', '2021-05-23', '2021-05-24', '2021-05-25',\n",
              "        '2021-05-26', '2021-05-27', '2021-05-28', '2021-05-29',\n",
              "        '2021-05-30', '2021-05-31', '2021-06-01'], dtype='datetime64[D]'))"
            ]
          },
          "metadata": {
            "tags": []
          },
          "execution_count": 546
        }
      ]
    },
    {
      "cell_type": "markdown",
      "metadata": {
        "id": "V4jPtORZEgs9"
      },
      "source": [
        "TODO: Fix the below graph to have model_2_preds... continued into model 2 forecast, want to have the windowed forecast plottable & then predictions being able to be made multiple steps into the future"
      ]
    },
    {
      "cell_type": "code",
      "metadata": {
        "colab": {
          "base_uri": "https://localhost:8080/"
        },
        "id": "GyaSsy8bJw5-",
        "outputId": "3debee8b-a82b-4a0f-e105-55f6379a4349"
      },
      "source": [
        "tf.keras.metrics.mean_absolute_error(y_test[WINDOW_SIZE:-(len(y_test) % HORIZON)-1], # account for window sizes/cutoff\n",
        "                                     tf.reduce_mean(model_2_preds, axis=1))"
      ],
      "execution_count": null,
      "outputs": [
        {
          "output_type": "execute_result",
          "data": {
            "text/plain": [
              "<tf.Tensor: shape=(), dtype=float32, numpy=1481.0415>"
            ]
          },
          "metadata": {
            "tags": []
          },
          "execution_count": 528
        }
      ]
    },
    {
      "cell_type": "code",
      "metadata": {
        "colab": {
          "base_uri": "https://localhost:8080/"
        },
        "id": "xTYDnN2WGhu9",
        "outputId": "90215aa3-9fb1-4821-b91d-508c5cdcf3a1"
      },
      "source": [
        "model_2_results"
      ],
      "execution_count": null,
      "outputs": [
        {
          "output_type": "execute_result",
          "data": {
            "text/plain": [
              "{'mae': 2529.3965, 'mape': 9.727565, 'mse': 16825896.0, 'smape': 10.112202}"
            ]
          },
          "metadata": {
            "tags": []
          },
          "execution_count": 529
        }
      ]
    },
    {
      "cell_type": "code",
      "metadata": {
        "colab": {
          "base_uri": "https://localhost:8080/"
        },
        "id": "Yw-e5fkcMOAl",
        "outputId": "5341bffb-fce2-4ecf-fb8e-8a98d66edcbc"
      },
      "source": [
        "y_test[140:140+14], test_labels[0]"
      ],
      "execution_count": null,
      "outputs": [
        {
          "output_type": "execute_result",
          "data": {
            "text/plain": [
              "(array([6721.49539238, 6682.7800492 , 6229.48834283, 5922.48983509,\n",
              "        6483.73944553, 6446.42134684, 6537.3364615 , 6850.55871169,\n",
              "        6776.37009357, 6855.93326446, 6805.3622869 , 7278.24396977,\n",
              "        7175.66747656, 7367.29339845]),\n",
              " array([6721.49539238, 6682.7800492 , 6229.48834283, 5922.48983509,\n",
              "        6483.73944553, 6446.42134684, 6537.3364615 , 6850.55871169,\n",
              "        6776.37009357, 6855.93326446, 6805.3622869 , 7278.24396977,\n",
              "        7175.66747656, 7367.29339845]))"
            ]
          },
          "metadata": {
            "tags": []
          },
          "execution_count": 551
        }
      ]
    },
    {
      "cell_type": "code",
      "metadata": {
        "colab": {
          "base_uri": "https://localhost:8080/"
        },
        "id": "QNC3HzAGLM1z",
        "outputId": "b3af51ad-69e9-4107-9b2c-cdcf54656cce"
      },
      "source": [
        "tf.reduce_mean(model_2_preds[-100:], axis=1)"
      ],
      "execution_count": null,
      "outputs": [
        {
          "output_type": "execute_result",
          "data": {
            "text/plain": [
              "<tf.Tensor: shape=(100,), dtype=float32, numpy=\n",
              "array([36701.473, 36144.57 , 35764.348, 34901.656, 34843.71 , 35094.81 ,\n",
              "       35132.727, 34703.82 , 34822.19 , 34917.02 , 35235.418, 35918.348,\n",
              "       36537.855, 36705.363, 37077.176, 38421.293, 39489.344, 40080.098,\n",
              "       40876.883, 42075.066, 43110.34 , 44393.844, 45216.777, 45956.57 ,\n",
              "       46855.19 , 48068.395, 49270.723, 50073.617, 51104.812, 51841.305,\n",
              "       51963.098, 52384.965, 52220.   , 51455.895, 51411.168, 51489.188,\n",
              "       51131.52 , 50980.19 , 50987.875, 51007.54 , 51163.258, 51886.066,\n",
              "       52521.082, 52356.008, 53245.973, 54041.48 , 55264.96 , 55964.742,\n",
              "       56759.926, 57594.387, 58877.68 , 59014.035, 59824.086, 59583.305,\n",
              "       59824.34 , 60218.43 , 59945.965, 59501.598, 58837.625, 58398.35 ,\n",
              "       57354.477, 57350.035, 57393.535, 56191.32 , 56402.09 , 56915.77 ,\n",
              "       56231.77 , 56628.395, 56597.395, 56858.844, 57405.73 , 58069.418,\n",
              "       57892.56 , 57875.32 , 57569.188, 58106.938, 58683.445, 59460.043,\n",
              "       60356.37 , 61224.145, 61700.85 , 62376.965, 63341.246, 63533.957,\n",
              "       63728.312, 63351.645, 63100.29 , 62591.418, 61397.555, 60589.914,\n",
              "       60047.062, 58441.508, 58210.43 , 58898.125, 57963.316, 57164.215,\n",
              "       57364.543, 56864.16 , 56845.277, 56932.164], dtype=float32)>"
            ]
          },
          "metadata": {
            "tags": []
          },
          "execution_count": 549
        }
      ]
    },
    {
      "cell_type": "code",
      "metadata": {
        "colab": {
          "base_uri": "https://localhost:8080/"
        },
        "id": "ShxXEbrGNQ1Q",
        "outputId": "5a3e10e0-25d6-469f-d809-4be40346e9f4"
      },
      "source": [
        "100-len(y_test) % HORIZON - 1"
      ],
      "execution_count": null,
      "outputs": [
        {
          "output_type": "execute_result",
          "data": {
            "text/plain": [
              "87"
            ]
          },
          "metadata": {
            "tags": []
          },
          "execution_count": 556
        }
      ]
    },
    {
      "cell_type": "code",
      "metadata": {
        "colab": {
          "base_uri": "https://localhost:8080/"
        },
        "id": "3t7X4qdnNd49",
        "outputId": "be879017-f34c-4879-c30b-da8c00d5f0fb"
      },
      "source": [
        "100+((len(y_test) % HORIZON) - 1)"
      ],
      "execution_count": null,
      "outputs": [
        {
          "output_type": "execute_result",
          "data": {
            "text/plain": [
              "111"
            ]
          },
          "metadata": {
            "tags": []
          },
          "execution_count": 564
        }
      ]
    },
    {
      "cell_type": "code",
      "metadata": {
        "colab": {
          "base_uri": "https://localhost:8080/"
        },
        "id": "sd7o-YLKNsyU",
        "outputId": "a1fd41b8-87c1-4753-a9ff-53f4117de4ef"
      },
      "source": [
        "X_test[-111]"
      ],
      "execution_count": null,
      "outputs": [
        {
          "output_type": "execute_result",
          "data": {
            "text/plain": [
              "numpy.datetime64('2021-01-28T00:00:00.000000000')"
            ]
          },
          "metadata": {
            "tags": []
          },
          "execution_count": 565
        }
      ]
    },
    {
      "cell_type": "code",
      "metadata": {
        "colab": {
          "base_uri": "https://localhost:8080/"
        },
        "id": "2l1nbCpMN29T",
        "outputId": "77b16be9-5635-42e4-d2da-42588a3ed7b5"
      },
      "source": [
        "# Does indexing on this account for the lagging window???\n",
        "(100+(len(y_test) % HORIZON) - 1)"
      ],
      "execution_count": null,
      "outputs": [
        {
          "output_type": "execute_result",
          "data": {
            "text/plain": [
              "111"
            ]
          },
          "metadata": {
            "tags": []
          },
          "execution_count": 566
        }
      ]
    },
    {
      "cell_type": "code",
      "metadata": {
        "colab": {
          "base_uri": "https://localhost:8080/",
          "height": 447
        },
        "id": "B_7z2XE5N9mj",
        "outputId": "299990ef-0b00-4190-dffd-99c330a36334"
      },
      "source": [
        "## TODO: Note the non-adjusted plot here...\n",
        "# Plot forecast\n",
        "plt.figure(figsize=(10, 7))\n",
        "plt.plot(X_test[-100:], y_test[-100:], label=\"test_data\")\n",
        "# plt.plot(X_train, y_train)\n",
        "plt.plot(X_test[-100:], tf.reduce_mean(model_2_preds[-100:], axis=1), label=\"model_2_preds\")\n",
        "plt.plot(future_dates, model_2_forecast.ravel(), label=\"model_2_forecast\")\n",
        "plt.legend()\n",
        "plt.plot()"
      ],
      "execution_count": null,
      "outputs": [
        {
          "output_type": "execute_result",
          "data": {
            "text/plain": [
              "[]"
            ]
          },
          "metadata": {
            "tags": []
          },
          "execution_count": 569
        },
        {
          "output_type": "display_data",
          "data": {
            "image/png": "[encoded data removed]",
            "text/plain": [
              "<Figure size 720x504 with 1 Axes>"
            ]
          },
          "metadata": {
            "tags": [],
            "needs_background": "light"
          }
        }
      ]
    },
    {
      "cell_type": "code",
      "metadata": {
        "colab": {
          "base_uri": "https://localhost:8080/",
          "height": 447
        },
        "id": "MqTK7pr688o2",
        "outputId": "786ba446-0e9f-4647-a00c-6bbde286097d"
      },
      "source": [
        "## TODO: Note the adjusted plot here...\n",
        "# Plot forecast\n",
        "plt.figure(figsize=(10, 7))\n",
        "plt.plot(X_test[-100:], y_test[-100:], label=\"test_data\")\n",
        "# plt.plot(X_train, y_train)\n",
        "plt.plot(X_test[-(100+HORIZON):-HORIZON], tf.reduce_mean(model_2_preds[-100:], axis=1), label=\"model_2_preds\")\n",
        "plt.plot(future_dates, model_2_forecast.ravel(), label=\"model_2_forecast\")\n",
        "plt.legend()\n",
        "plt.plot()"
      ],
      "execution_count": null,
      "outputs": [
        {
          "output_type": "execute_result",
          "data": {
            "text/plain": [
              "[]"
            ]
          },
          "metadata": {
            "tags": []
          },
          "execution_count": 571
        },
        {
          "output_type": "display_data",
          "data": {
            "image/png": "[encoded data removed]",
            "text/plain": [
              "<Figure size 720x504 with 1 Axes>"
            ]
          },
          "metadata": {
            "tags": [],
            "needs_background": "light"
          }
        }
      ]
    },
    {
      "cell_type": "code",
      "metadata": {
        "id": "_bSQcfknCjN4"
      },
      "source": [
        ""
      ],
      "execution_count": null,
      "outputs": []
    },
    {
      "cell_type": "code",
      "metadata": {
        "id": "ZcbnNGhhL6ss"
      },
      "source": [
        ""
      ],
      "execution_count": null,
      "outputs": []
    },
    {
      "cell_type": "code",
      "metadata": {
        "id": "b4W2c9woL6jZ"
      },
      "source": [
        ""
      ],
      "execution_count": null,
      "outputs": []
    },
    {
      "cell_type": "code",
      "metadata": {
        "id": "4dfvsCORCjIi"
      },
      "source": [
        ""
      ],
      "execution_count": null,
      "outputs": []
    },
    {
      "cell_type": "code",
      "metadata": {
        "id": "z7XrBXMy5WQG"
      },
      "source": [
        ""
      ],
      "execution_count": null,
      "outputs": []
    },
    {
      "cell_type": "code",
      "metadata": {
        "id": "jak40o1MYznM"
      },
      "source": [
        ""
      ],
      "execution_count": null,
      "outputs": []
    },
    {
      "cell_type": "code",
      "metadata": {
        "id": "bEPwZjIASOWg"
      },
      "source": [
        "# TODO: Use entire time series to predict next step, compare to actual data \n",
        "# (e.g. revisit the prices in 1 week & see how the model goes)\n",
        "# Start date: 18 May 2021\n",
        "# End date: 25 May 2021 (revisit the updated prices here & see how wrong the model is...)"
      ],
      "execution_count": null,
      "outputs": []
    },
    {
      "cell_type": "markdown",
      "metadata": {
        "id": "fVGY8WhHBlHV"
      },
      "source": [
        "## TODO: Uncertainty estimates"
      ]
    },
    {
      "cell_type": "markdown",
      "metadata": {
        "id": "SQsz_JNwBooW"
      },
      "source": [
        "### TODO: Model X: (model with Dropout to make MC Dropout model)..."
      ]
    },
    {
      "cell_type": "code",
      "metadata": {
        "id": "-Neg2BC6Bo_F"
      },
      "source": [
        ""
      ],
      "execution_count": null,
      "outputs": []
    },
    {
      "cell_type": "code",
      "metadata": {
        "id": "_n3iKK_mz9Uu"
      },
      "source": [
        ""
      ],
      "execution_count": null,
      "outputs": []
    },
    {
      "cell_type": "markdown",
      "metadata": {
        "id": "U5VMaZ1UBpXt"
      },
      "source": [
        "# TODO: Why forecasting is BS (turkey problem)\n",
        "\n",
        "TK - inject a turkey problem piece of data into the model & see how it effects (e.g. 1 data point that's 50x of outlier)\n",
        "\n",
        "* See this video: https://youtu.be/hRwimmE2wEk\n",
        "* Open system: beware (like fortune telling), see Mark Saroufim's tweet - https://twitter.com/marksaroufim/status/1366871736604532739?s=20\n",
        "* Closed system: try it out"
      ]
    },
    {
      "cell_type": "code",
      "metadata": {
        "id": "KD50Xt36BsOk"
      },
      "source": [
        ""
      ],
      "execution_count": null,
      "outputs": []
    },
    {
      "cell_type": "code",
      "metadata": {
        "id": "kUFWcnNGB7yn"
      },
      "source": [
        ""
      ],
      "execution_count": null,
      "outputs": []
    },
    {
      "cell_type": "code",
      "metadata": {
        "id": "DgG2hk9PB7wi"
      },
      "source": [
        ""
      ],
      "execution_count": null,
      "outputs": []
    },
    {
      "cell_type": "code",
      "metadata": {
        "id": "dPWjKlk_B7tb"
      },
      "source": [
        ""
      ],
      "execution_count": null,
      "outputs": []
    },
    {
      "cell_type": "code",
      "metadata": {
        "id": "JLSwuKgzB7q_"
      },
      "source": [
        ""
      ],
      "execution_count": null,
      "outputs": []
    },
    {
      "cell_type": "markdown",
      "metadata": {
        "id": "47VA8gR3B7QP"
      },
      "source": [
        "# TODO: Exercises\n",
        "\n",
        "* Does scaling the data help for multivariate data? (e.g. getting all of the values between 0 & 1) "
      ]
    },
    {
      "cell_type": "code",
      "metadata": {
        "id": "vSZLIopuCAJN"
      },
      "source": [
        ""
      ],
      "execution_count": null,
      "outputs": []
    },
    {
      "cell_type": "markdown",
      "metadata": {
        "id": "iiOlVRREB7No"
      },
      "source": [
        "# TODO: Extra-curriculum\n",
        "\n",
        "* Evaluation metrics - https://otexts.com/fpp2/accuracy.html \n",
        "* "
      ]
    }
  ]
}