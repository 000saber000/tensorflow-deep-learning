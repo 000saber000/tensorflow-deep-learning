{
  "nbformat": 4,
  "nbformat_minor": 0,
  "metadata": {
    "colab": {
      "name": "10_time_series_forecasting_in_tensorflow.ipynb",
      "provenance": [],
      "collapsed_sections": [],
      "authorship_tag": "ABX9TyNNGgFzxYxhwNlvcKBhbmEp",
      "include_colab_link": true
    },
    "kernelspec": {
      "name": "python3",
      "display_name": "Python 3"
    },
    "language_info": {
      "name": "python"
    }
  },
  "cells": [
    {
      "cell_type": "markdown",
      "metadata": {
        "id": "view-in-github",
        "colab_type": "text"
      },
      "source": [
        "<a href=\"https://colab.research.google.com/github/mrdbourke/tensorflow-deep-learning/blob/main/10_time_series_forecasting_in_tensorflow.ipynb\" target=\"_parent\"><img src=\"https://colab.research.google.com/assets/colab-badge.svg\" alt=\"Open In Colab\"/></a>"
      ]
    },
    {
      "cell_type": "markdown",
      "metadata": {
        "id": "vlVtweEv7nAx"
      },
      "source": [
        "# Note: This notebook is a work in progress & will be updated continuously over the next week or so before it's ready - 26 May 2021\n",
        "\n",
        "# Time series forecasting in TensorFlow\n",
        "\n",
        "The goal of this notebook is to get you familiar with working with time series data.\n",
        "\n",
        "It won't cover all of the time series field but by the end you will get a fairly good overview of things to consider for time series problems...\n",
        "\n",
        "Outline:\n",
        "* Get data (a time series)\n",
        "* Format data\n",
        "  * Turn data into a windowed dataset\n",
        "  * Training/test sets for time series\n",
        "  * Univariate - Bitcoin's price history\n",
        "  * Multivariate - Bitcoin's price history + block size\n",
        "* Model data\n",
        "  * Baseline - naive forecasting\n",
        "  * Baseline 2 - random forest regressor - https://youtu.be/5qgk9QJ4rdQ \n",
        "  * Deep model - fully connected\n",
        "  * Sequence models\n",
        "    * LSTM\n",
        "    * Conv1D\n",
        "  * N-Beats algorithm - https://arxiv.org/pdf/1905.10437.pdf\n",
        "* Evaluating a time series model\n",
        "  * MAE\n",
        "  * MSE\n",
        "  * RMSE etc...\n",
        "* Uncertainty estimates\n",
        "  * Coconut uncertainty - epistemic uncertainty\n",
        "  * Subway uncertainty - aleatory uncertainty\n",
        "* Why forecasting is BS (turkey problem) - https://youtu.be/hRwimmE2wEk\n",
        "  * Open system: beware (like fortune telling), see Mark Saroufim's tweet - https://twitter.com/marksaroufim/status/1366871736604532739?s=20 \n",
        "  * Closed system: try it out \n",
        "* Exercises\n",
        "* Extra-curriculum\n",
        "  * Time series book - https://otexts.com/fpp2/accuracy.html \n"
      ]
    },
    {
      "cell_type": "markdown",
      "metadata": {
        "id": "ZdeV4DEeAjF2"
      },
      "source": [
        "## TODO: What is a time series problem?\n",
        "\n",
        "* Forecasting\n",
        "* Classification"
      ]
    },
    {
      "cell_type": "markdown",
      "metadata": {
        "id": "81ywkh0q8Apj"
      },
      "source": [
        "## TODO: Get data\n",
        "\n",
        "Let's predict the price of Bitcoin! Data source: https://www.coindesk.com/price/bitcoin\n",
        "\n",
        "> **Note:** This is not financial advice, as you'll see time series forecasting for stock market prices is actually quite terrible.\n",
        "\n",
        "See this tweet for reference: https://twitter.com/marksaroufim/status/1366871736604532739?s=20\n",
        "\n",
        "TODO (upload to Google Storage/GitHub): Data: https://www.dropbox.com/s/hoexgnrk44uco0a/BTC_USD_2013-10-01_2021-05-18-CoinDesk.csv?dl=0"
      ]
    },
    {
      "cell_type": "code",
      "metadata": {
        "colab": {
          "base_uri": "https://localhost:8080/"
        },
        "id": "mVEjK6ZHDqkQ",
        "outputId": "069035ce-501c-4fa9-bd8b-bc390e3db232"
      },
      "source": [
        "!wget https://www.dropbox.com/s/hoexgnrk44uco0a/BTC_USD_2013-10-01_2021-05-18-CoinDesk.csv"
      ],
      "execution_count": null,
      "outputs": [
        {
          "output_type": "stream",
          "text": [
            "--2021-05-26 01:16:35--  https://www.dropbox.com/s/hoexgnrk44uco0a/BTC_USD_2013-10-01_2021-05-18-CoinDesk.csv\n",
            "Resolving www.dropbox.com (www.dropbox.com)... 162.125.2.18, 2620:100:6017:18::a27d:212\n",
            "Connecting to www.dropbox.com (www.dropbox.com)|162.125.2.18|:443... connected.\n",
            "HTTP request sent, awaiting response... 301 Moved Permanently\n",
            "Location: /s/raw/hoexgnrk44uco0a/BTC_USD_2013-10-01_2021-05-18-CoinDesk.csv [following]\n",
            "--2021-05-26 01:16:35--  https://www.dropbox.com/s/raw/hoexgnrk44uco0a/BTC_USD_2013-10-01_2021-05-18-CoinDesk.csv\n",
            "Reusing existing connection to www.dropbox.com:443.\n",
            "HTTP request sent, awaiting response... 302 Found\n",
            "Location: https://uc2e194c1b6abba9b5baf1328e2c.dl.dropboxusercontent.com/cd/0/inline/BPOPbAtfOPJ0PypLmFUVg8SapT7HjcEOCqjEmlHh476Ri9ZEPfyNQYECBaJArtvioLn0vh0eMeHOtNX2YlY3q3Dh_uRl8QiLcMKCK3aLa2nrTyoONTk5w7wZpJJCWjC9QJk3_00yzdXGYKNqdVzsxfgd/file# [following]\n",
            "--2021-05-26 01:16:35--  https://uc2e194c1b6abba9b5baf1328e2c.dl.dropboxusercontent.com/cd/0/inline/BPOPbAtfOPJ0PypLmFUVg8SapT7HjcEOCqjEmlHh476Ri9ZEPfyNQYECBaJArtvioLn0vh0eMeHOtNX2YlY3q3Dh_uRl8QiLcMKCK3aLa2nrTyoONTk5w7wZpJJCWjC9QJk3_00yzdXGYKNqdVzsxfgd/file\n",
            "Resolving uc2e194c1b6abba9b5baf1328e2c.dl.dropboxusercontent.com (uc2e194c1b6abba9b5baf1328e2c.dl.dropboxusercontent.com)... 162.125.4.15, 2620:100:6017:15::a27d:20f\n",
            "Connecting to uc2e194c1b6abba9b5baf1328e2c.dl.dropboxusercontent.com (uc2e194c1b6abba9b5baf1328e2c.dl.dropboxusercontent.com)|162.125.4.15|:443... connected.\n",
            "HTTP request sent, awaiting response... 200 OK\n",
            "Length: 178509 (174K) [text/plain]\n",
            "Saving to: ‘BTC_USD_2013-10-01_2021-05-18-CoinDesk.csv.1’\n",
            "\n",
            "BTC_USD_2013-10-01_ 100%[===================>] 174.33K   806KB/s    in 0.2s    \n",
            "\n",
            "2021-05-26 01:16:36 (806 KB/s) - ‘BTC_USD_2013-10-01_2021-05-18-CoinDesk.csv.1’ saved [178509/178509]\n",
            "\n"
          ],
          "name": "stdout"
        }
      ]
    },
    {
      "cell_type": "code",
      "metadata": {
        "colab": {
          "base_uri": "https://localhost:8080/",
          "height": 637
        },
        "id": "5FOrshVX_dUE",
        "outputId": "bf72c330-15a5-442d-c829-483c3d3ef912"
      },
      "source": [
        "# Import with pandas \n",
        "import pandas as pd\n",
        "# Parse dates and set date column to index\n",
        "df = pd.read_csv(\"/content/BTC_USD_2013-10-01_2021-05-18-CoinDesk.csv\", \n",
        "                 parse_dates=[\"Date\"], \n",
        "                 index_col=[\"Date\"]) # parse the date column (tell pandas column 1 is a datetime)\n",
        "df"
      ],
      "execution_count": null,
      "outputs": [
        {
          "output_type": "execute_result",
          "data": {
            "text/html": [
              "<div>\n",
              "<style scoped>\n",
              "    .dataframe tbody tr th:only-of-type {\n",
              "        vertical-align: middle;\n",
              "    }\n",
              "\n",
              "    .dataframe tbody tr th {\n",
              "        vertical-align: top;\n",
              "    }\n",
              "\n",
              "    .dataframe thead th {\n",
              "        text-align: right;\n",
              "    }\n",
              "</style>\n",
              "<table border=\"1\" class=\"dataframe\">\n",
              "  <thead>\n",
              "    <tr style=\"text-align: right;\">\n",
              "      <th></th>\n",
              "      <th>Currency</th>\n",
              "      <th>Closing Price (USD)</th>\n",
              "      <th>24h Open (USD)</th>\n",
              "      <th>24h High (USD)</th>\n",
              "      <th>24h Low (USD)</th>\n",
              "    </tr>\n",
              "    <tr>\n",
              "      <th>Date</th>\n",
              "      <th></th>\n",
              "      <th></th>\n",
              "      <th></th>\n",
              "      <th></th>\n",
              "      <th></th>\n",
              "    </tr>\n",
              "  </thead>\n",
              "  <tbody>\n",
              "    <tr>\n",
              "      <th>2013-10-01</th>\n",
              "      <td>BTC</td>\n",
              "      <td>123.654990</td>\n",
              "      <td>124.304660</td>\n",
              "      <td>124.751660</td>\n",
              "      <td>122.563490</td>\n",
              "    </tr>\n",
              "    <tr>\n",
              "      <th>2013-10-02</th>\n",
              "      <td>BTC</td>\n",
              "      <td>125.455000</td>\n",
              "      <td>123.654990</td>\n",
              "      <td>125.758500</td>\n",
              "      <td>123.633830</td>\n",
              "    </tr>\n",
              "    <tr>\n",
              "      <th>2013-10-03</th>\n",
              "      <td>BTC</td>\n",
              "      <td>108.584830</td>\n",
              "      <td>125.455000</td>\n",
              "      <td>125.665660</td>\n",
              "      <td>83.328330</td>\n",
              "    </tr>\n",
              "    <tr>\n",
              "      <th>2013-10-04</th>\n",
              "      <td>BTC</td>\n",
              "      <td>118.674660</td>\n",
              "      <td>108.584830</td>\n",
              "      <td>118.675000</td>\n",
              "      <td>107.058160</td>\n",
              "    </tr>\n",
              "    <tr>\n",
              "      <th>2013-10-05</th>\n",
              "      <td>BTC</td>\n",
              "      <td>121.338660</td>\n",
              "      <td>118.674660</td>\n",
              "      <td>121.936330</td>\n",
              "      <td>118.005660</td>\n",
              "    </tr>\n",
              "    <tr>\n",
              "      <th>...</th>\n",
              "      <td>...</td>\n",
              "      <td>...</td>\n",
              "      <td>...</td>\n",
              "      <td>...</td>\n",
              "      <td>...</td>\n",
              "    </tr>\n",
              "    <tr>\n",
              "      <th>2021-05-14</th>\n",
              "      <td>BTC</td>\n",
              "      <td>49764.132082</td>\n",
              "      <td>49596.778891</td>\n",
              "      <td>51448.798576</td>\n",
              "      <td>46294.720180</td>\n",
              "    </tr>\n",
              "    <tr>\n",
              "      <th>2021-05-15</th>\n",
              "      <td>BTC</td>\n",
              "      <td>50032.693137</td>\n",
              "      <td>49717.354353</td>\n",
              "      <td>51578.312545</td>\n",
              "      <td>48944.346536</td>\n",
              "    </tr>\n",
              "    <tr>\n",
              "      <th>2021-05-16</th>\n",
              "      <td>BTC</td>\n",
              "      <td>47885.625255</td>\n",
              "      <td>49926.035067</td>\n",
              "      <td>50690.802950</td>\n",
              "      <td>47005.102292</td>\n",
              "    </tr>\n",
              "    <tr>\n",
              "      <th>2021-05-17</th>\n",
              "      <td>BTC</td>\n",
              "      <td>45604.615754</td>\n",
              "      <td>46805.537852</td>\n",
              "      <td>49670.414174</td>\n",
              "      <td>43868.638969</td>\n",
              "    </tr>\n",
              "    <tr>\n",
              "      <th>2021-05-18</th>\n",
              "      <td>BTC</td>\n",
              "      <td>43144.471291</td>\n",
              "      <td>46439.336570</td>\n",
              "      <td>46622.853437</td>\n",
              "      <td>42102.346430</td>\n",
              "    </tr>\n",
              "  </tbody>\n",
              "</table>\n",
              "<p>2787 rows × 5 columns</p>\n",
              "</div>"
            ],
            "text/plain": [
              "           Currency  Closing Price (USD)  ...  24h High (USD)  24h Low (USD)\n",
              "Date                                      ...                               \n",
              "2013-10-01      BTC           123.654990  ...      124.751660     122.563490\n",
              "2013-10-02      BTC           125.455000  ...      125.758500     123.633830\n",
              "2013-10-03      BTC           108.584830  ...      125.665660      83.328330\n",
              "2013-10-04      BTC           118.674660  ...      118.675000     107.058160\n",
              "2013-10-05      BTC           121.338660  ...      121.936330     118.005660\n",
              "...             ...                  ...  ...             ...            ...\n",
              "2021-05-14      BTC         49764.132082  ...    51448.798576   46294.720180\n",
              "2021-05-15      BTC         50032.693137  ...    51578.312545   48944.346536\n",
              "2021-05-16      BTC         47885.625255  ...    50690.802950   47005.102292\n",
              "2021-05-17      BTC         45604.615754  ...    49670.414174   43868.638969\n",
              "2021-05-18      BTC         43144.471291  ...    46622.853437   42102.346430\n",
              "\n",
              "[2787 rows x 5 columns]"
            ]
          },
          "metadata": {
            "tags": []
          },
          "execution_count": 2
        }
      ]
    },
    {
      "cell_type": "code",
      "metadata": {
        "colab": {
          "base_uri": "https://localhost:8080/"
        },
        "id": "Z-YoeINjCzJ_",
        "outputId": "f0d54d33-65d8-493b-8e48-cbf169f71919"
      },
      "source": [
        "df.info()"
      ],
      "execution_count": null,
      "outputs": [
        {
          "output_type": "stream",
          "text": [
            "<class 'pandas.core.frame.DataFrame'>\n",
            "DatetimeIndex: 2787 entries, 2013-10-01 to 2021-05-18\n",
            "Data columns (total 5 columns):\n",
            " #   Column               Non-Null Count  Dtype  \n",
            "---  ------               --------------  -----  \n",
            " 0   Currency             2787 non-null   object \n",
            " 1   Closing Price (USD)  2787 non-null   float64\n",
            " 2   24h Open (USD)       2787 non-null   float64\n",
            " 3   24h High (USD)       2787 non-null   float64\n",
            " 4   24h Low (USD)        2787 non-null   float64\n",
            "dtypes: float64(4), object(1)\n",
            "memory usage: 130.6+ KB\n"
          ],
          "name": "stdout"
        }
      ]
    },
    {
      "cell_type": "code",
      "metadata": {
        "colab": {
          "base_uri": "https://localhost:8080/"
        },
        "id": "XP3cN0uvlxhi",
        "outputId": "285e8c5b-fcd6-4953-8873-462eb9080e96"
      },
      "source": [
        "# TODO: time series often may not have very many samples (e.g. monthly = only 12 per year, daily = 365 per year... etc)\n",
        "# Deep learning algorithms usually flourish with lots of data (1000's of samples)\n",
        "len(df)"
      ],
      "execution_count": null,
      "outputs": [
        {
          "output_type": "execute_result",
          "data": {
            "text/plain": [
              "2787"
            ]
          },
          "metadata": {
            "tags": []
          },
          "execution_count": 4
        }
      ]
    },
    {
      "cell_type": "code",
      "metadata": {
        "colab": {
          "base_uri": "https://localhost:8080/",
          "height": 235
        },
        "id": "QxoNCv2NCuLY",
        "outputId": "997a2104-5366-41e4-c7f0-8d12ef3250c7"
      },
      "source": [
        "# Only want closing price\n",
        "bitcoin_prices = pd.DataFrame(df[\"Closing Price (USD)\"]).rename(columns={\"Closing Price (USD)\": \"Price\"})\n",
        "bitcoin_prices.head()"
      ],
      "execution_count": null,
      "outputs": [
        {
          "output_type": "execute_result",
          "data": {
            "text/html": [
              "<div>\n",
              "<style scoped>\n",
              "    .dataframe tbody tr th:only-of-type {\n",
              "        vertical-align: middle;\n",
              "    }\n",
              "\n",
              "    .dataframe tbody tr th {\n",
              "        vertical-align: top;\n",
              "    }\n",
              "\n",
              "    .dataframe thead th {\n",
              "        text-align: right;\n",
              "    }\n",
              "</style>\n",
              "<table border=\"1\" class=\"dataframe\">\n",
              "  <thead>\n",
              "    <tr style=\"text-align: right;\">\n",
              "      <th></th>\n",
              "      <th>Price</th>\n",
              "    </tr>\n",
              "    <tr>\n",
              "      <th>Date</th>\n",
              "      <th></th>\n",
              "    </tr>\n",
              "  </thead>\n",
              "  <tbody>\n",
              "    <tr>\n",
              "      <th>2013-10-01</th>\n",
              "      <td>123.65499</td>\n",
              "    </tr>\n",
              "    <tr>\n",
              "      <th>2013-10-02</th>\n",
              "      <td>125.45500</td>\n",
              "    </tr>\n",
              "    <tr>\n",
              "      <th>2013-10-03</th>\n",
              "      <td>108.58483</td>\n",
              "    </tr>\n",
              "    <tr>\n",
              "      <th>2013-10-04</th>\n",
              "      <td>118.67466</td>\n",
              "    </tr>\n",
              "    <tr>\n",
              "      <th>2013-10-05</th>\n",
              "      <td>121.33866</td>\n",
              "    </tr>\n",
              "  </tbody>\n",
              "</table>\n",
              "</div>"
            ],
            "text/plain": [
              "                Price\n",
              "Date                 \n",
              "2013-10-01  123.65499\n",
              "2013-10-02  125.45500\n",
              "2013-10-03  108.58483\n",
              "2013-10-04  118.67466\n",
              "2013-10-05  121.33866"
            ]
          },
          "metadata": {
            "tags": []
          },
          "execution_count": 5
        }
      ]
    },
    {
      "cell_type": "code",
      "metadata": {
        "colab": {
          "base_uri": "https://localhost:8080/"
        },
        "id": "Y0CAu0PTFT5R",
        "outputId": "731739b7-28b6-40d1-ca7d-835175f181e3"
      },
      "source": [
        "bitcoin_prices.info()"
      ],
      "execution_count": null,
      "outputs": [
        {
          "output_type": "stream",
          "text": [
            "<class 'pandas.core.frame.DataFrame'>\n",
            "DatetimeIndex: 2787 entries, 2013-10-01 to 2021-05-18\n",
            "Data columns (total 1 columns):\n",
            " #   Column  Non-Null Count  Dtype  \n",
            "---  ------  --------------  -----  \n",
            " 0   Price   2787 non-null   float64\n",
            "dtypes: float64(1)\n",
            "memory usage: 43.5 KB\n"
          ],
          "name": "stdout"
        }
      ]
    },
    {
      "cell_type": "code",
      "metadata": {
        "colab": {
          "base_uri": "https://localhost:8080/",
          "height": 442
        },
        "id": "CfkhZhmCEyUe",
        "outputId": "bf61dc30-daa2-48e2-9577-611bb31f74fe"
      },
      "source": [
        "bitcoin_prices.plot(figsize=(10, 7));"
      ],
      "execution_count": null,
      "outputs": [
        {
          "output_type": "display_data",
          "data": {
            "image/png": "[encoded data removed]",
            "text/plain": [
              "<Figure size 720x504 with 1 Axes>"
            ]
          },
          "metadata": {
            "tags": [],
            "needs_background": "light"
          }
        }
      ]
    },
    {
      "cell_type": "code",
      "metadata": {
        "colab": {
          "base_uri": "https://localhost:8080/",
          "height": 235
        },
        "id": "v-hEaaGjePVD",
        "outputId": "131c8242-dc43-44f1-a4ec-dbebfc012013"
      },
      "source": [
        "bitcoin_prices.head()"
      ],
      "execution_count": null,
      "outputs": [
        {
          "output_type": "execute_result",
          "data": {
            "text/html": [
              "<div>\n",
              "<style scoped>\n",
              "    .dataframe tbody tr th:only-of-type {\n",
              "        vertical-align: middle;\n",
              "    }\n",
              "\n",
              "    .dataframe tbody tr th {\n",
              "        vertical-align: top;\n",
              "    }\n",
              "\n",
              "    .dataframe thead th {\n",
              "        text-align: right;\n",
              "    }\n",
              "</style>\n",
              "<table border=\"1\" class=\"dataframe\">\n",
              "  <thead>\n",
              "    <tr style=\"text-align: right;\">\n",
              "      <th></th>\n",
              "      <th>Price</th>\n",
              "    </tr>\n",
              "    <tr>\n",
              "      <th>Date</th>\n",
              "      <th></th>\n",
              "    </tr>\n",
              "  </thead>\n",
              "  <tbody>\n",
              "    <tr>\n",
              "      <th>2013-10-01</th>\n",
              "      <td>123.65499</td>\n",
              "    </tr>\n",
              "    <tr>\n",
              "      <th>2013-10-02</th>\n",
              "      <td>125.45500</td>\n",
              "    </tr>\n",
              "    <tr>\n",
              "      <th>2013-10-03</th>\n",
              "      <td>108.58483</td>\n",
              "    </tr>\n",
              "    <tr>\n",
              "      <th>2013-10-04</th>\n",
              "      <td>118.67466</td>\n",
              "    </tr>\n",
              "    <tr>\n",
              "      <th>2013-10-05</th>\n",
              "      <td>121.33866</td>\n",
              "    </tr>\n",
              "  </tbody>\n",
              "</table>\n",
              "</div>"
            ],
            "text/plain": [
              "                Price\n",
              "Date                 \n",
              "2013-10-01  123.65499\n",
              "2013-10-02  125.45500\n",
              "2013-10-03  108.58483\n",
              "2013-10-04  118.67466\n",
              "2013-10-05  121.33866"
            ]
          },
          "metadata": {
            "tags": []
          },
          "execution_count": 8
        }
      ]
    },
    {
      "cell_type": "markdown",
      "metadata": {
        "id": "O2C1JsHUPYGG"
      },
      "source": [
        "### Importing time series as a CSV"
      ]
    },
    {
      "cell_type": "code",
      "metadata": {
        "colab": {
          "base_uri": "https://localhost:8080/"
        },
        "id": "UkTvwP2DCuGK",
        "outputId": "29c3194c-eb1c-463c-e361-85e5c61628ed"
      },
      "source": [
        "# Importing with Python CSV - https://realpython.com/python-csv/\n",
        "import csv\n",
        "from datetime import datetime\n",
        "\n",
        "timesteps = []\n",
        "btc_price = []\n",
        "with open(\"/content/BTC_USD_2013-10-01_2021-05-18-CoinDesk.csv\", \"r\") as f:\n",
        "  csv_reader = csv.reader(f, delimiter=\",\")\n",
        "  next(csv_reader) # skip first line\n",
        "  for line in csv_reader:\n",
        "    timesteps.append(datetime.strptime(line[1], \"%Y-%m-%d\")) # get the dates as dates (not strings)\n",
        "    btc_price.append(float(line[2])) # get the closing price as float\n",
        "\n",
        "# View first 10\n",
        "timesteps[:10], btc_price[:10]"
      ],
      "execution_count": null,
      "outputs": [
        {
          "output_type": "execute_result",
          "data": {
            "text/plain": [
              "([datetime.datetime(2013, 10, 1, 0, 0),\n",
              "  datetime.datetime(2013, 10, 2, 0, 0),\n",
              "  datetime.datetime(2013, 10, 3, 0, 0),\n",
              "  datetime.datetime(2013, 10, 4, 0, 0),\n",
              "  datetime.datetime(2013, 10, 5, 0, 0),\n",
              "  datetime.datetime(2013, 10, 6, 0, 0),\n",
              "  datetime.datetime(2013, 10, 7, 0, 0),\n",
              "  datetime.datetime(2013, 10, 8, 0, 0),\n",
              "  datetime.datetime(2013, 10, 9, 0, 0),\n",
              "  datetime.datetime(2013, 10, 10, 0, 0)],\n",
              " [123.65499,\n",
              "  125.455,\n",
              "  108.58483,\n",
              "  118.67466,\n",
              "  121.33866,\n",
              "  120.65533,\n",
              "  121.795,\n",
              "  123.033,\n",
              "  124.049,\n",
              "  125.96116])"
            ]
          },
          "metadata": {
            "tags": []
          },
          "execution_count": 9
        }
      ]
    },
    {
      "cell_type": "code",
      "metadata": {
        "colab": {
          "base_uri": "https://localhost:8080/",
          "height": 442
        },
        "id": "bTSX7RZ9Cytj",
        "outputId": "ab7581ea-3b6e-4c6e-b2ed-69bdace211d6"
      },
      "source": [
        "# Plot from CSV\n",
        "import matplotlib.pyplot as plt\n",
        "import numpy as np\n",
        "plt.figure(figsize=(10, 7))\n",
        "plt.plot(timesteps, np.array(btc_price))\n",
        "plt.xlabel(\"Date\")\n",
        "plt.ylabel(\"BTC Price\");"
      ],
      "execution_count": null,
      "outputs": [
        {
          "output_type": "display_data",
          "data": {
            "image/png": "[encoded data removed]",
            "text/plain": [
              "<Figure size 720x504 with 1 Axes>"
            ]
          },
          "metadata": {
            "tags": [],
            "needs_background": "light"
          }
        }
      ]
    },
    {
      "cell_type": "markdown",
      "metadata": {
        "id": "_nfP7i9R_dOp"
      },
      "source": [
        "## TODO: Format data \n",
        "\n",
        "* Turn data into a windowed dataset\n",
        "* Training/test sets for time series\n",
        "* Univariate - Bitcoin's price history\n",
        "* Multivariate - Bitcoin's price history + block size"
      ]
    },
    {
      "cell_type": "markdown",
      "metadata": {
        "id": "prkQhgiHNOKd"
      },
      "source": [
        "### TODO: Create train & test sets for time series\n",
        "\n",
        "* Note: cannot do random split, time series will buckle under this (using future values in the past)\n",
        "* Need to make train set: values from past, test set: values from \"future\""
      ]
    },
    {
      "cell_type": "code",
      "metadata": {
        "colab": {
          "base_uri": "https://localhost:8080/"
        },
        "id": "wxQbuGVTRFKX",
        "outputId": "09d596da-9f6d-42f3-902d-424f46946cf6"
      },
      "source": [
        "# Get bitcoin date array\n",
        "timesteps = bitcoin_prices.index.to_numpy()\n",
        "prices = bitcoin_prices[\"Price\"].to_numpy()\n",
        "\n",
        "timesteps[:10], prices[:10]"
      ],
      "execution_count": null,
      "outputs": [
        {
          "output_type": "execute_result",
          "data": {
            "text/plain": [
              "(array(['2013-10-01T00:00:00.000000000', '2013-10-02T00:00:00.000000000',\n",
              "        '2013-10-03T00:00:00.000000000', '2013-10-04T00:00:00.000000000',\n",
              "        '2013-10-05T00:00:00.000000000', '2013-10-06T00:00:00.000000000',\n",
              "        '2013-10-07T00:00:00.000000000', '2013-10-08T00:00:00.000000000',\n",
              "        '2013-10-09T00:00:00.000000000', '2013-10-10T00:00:00.000000000'],\n",
              "       dtype='datetime64[ns]'),\n",
              " array([123.65499, 125.455  , 108.58483, 118.67466, 121.33866, 120.65533,\n",
              "        121.795  , 123.033  , 124.049  , 125.96116]))"
            ]
          },
          "metadata": {
            "tags": []
          },
          "execution_count": 11
        }
      ]
    },
    {
      "cell_type": "code",
      "metadata": {
        "colab": {
          "base_uri": "https://localhost:8080/"
        },
        "id": "eGY7hTfyNLZ1",
        "outputId": "51513b13-9b1f-4322-faeb-8d24d8fd4aa2"
      },
      "source": [
        "# Wrong way to make train/test sets for time series\n",
        "from sklearn.model_selection import train_test_split \n",
        "\n",
        "X_train, X_test, y_train, y_test = train_test_split(timesteps, # dates\n",
        "                                                    prices, # prices\n",
        "                                                    test_size=0.2,\n",
        "                                                    random_state=42)\n",
        "X_train.shape, X_test.shape, y_train.shape, y_test.shape "
      ],
      "execution_count": null,
      "outputs": [
        {
          "output_type": "execute_result",
          "data": {
            "text/plain": [
              "((2229,), (558,), (2229,), (558,))"
            ]
          },
          "metadata": {
            "tags": []
          },
          "execution_count": 12
        }
      ]
    },
    {
      "cell_type": "code",
      "metadata": {
        "colab": {
          "base_uri": "https://localhost:8080/",
          "height": 442
        },
        "id": "cvH_0RvSNLWm",
        "outputId": "727f0f57-71f2-472e-9439-500af61aad23"
      },
      "source": [
        "# Let's plot wrong train and test splits\n",
        "plt.figure(figsize=(10, 7))\n",
        "plt.scatter(X_train, y_train, s=5, label=\"Train data\")\n",
        "plt.scatter(X_test, y_test, s=5, label=\"Test data\")\n",
        "plt.xlabel(\"Date\")\n",
        "plt.ylabel(\"BTC Price\")\n",
        "plt.legend()\n",
        "plt.show();"
      ],
      "execution_count": null,
      "outputs": [
        {
          "output_type": "display_data",
          "data": {
            "image/png": "[encoded data removed]",
            "text/plain": [
              "<Figure size 720x504 with 1 Axes>"
            ]
          },
          "metadata": {
            "tags": [],
            "needs_background": "light"
          }
        }
      ]
    },
    {
      "cell_type": "markdown",
      "metadata": {
        "id": "OK9sORtjRh5z"
      },
      "source": [
        "* TODO: Note: time series forecasting can often have many less data points than traditional deep learning projects (e.g. the entire history of BTC daily price data = only ~3000 samples)\n",
        "\n",
        "* TODO: What kind of steps should we predict? E.g. 80/20 split is that realisitic? You may want to use all of the data up until the last week..."
      ]
    },
    {
      "cell_type": "code",
      "metadata": {
        "colab": {
          "base_uri": "https://localhost:8080/"
        },
        "id": "lpEVKyXANLT4",
        "outputId": "f90a54f3-33d6-45a3-d5ba-581fe5b9fd90"
      },
      "source": [
        "# Create train and test splits the right way for time series data\n",
        "split_size = int(0.8 * len(prices)) # 80% train, 20% test\n",
        "\n",
        "# Create train data splits\n",
        "X_train, y_train = timesteps[:split_size], prices[:split_size]\n",
        "\n",
        "# Create test data splits\n",
        "X_test, y_test = timesteps[split_size:], prices[split_size:]\n",
        "\n",
        "X_train.shape, X_test.shape, y_train.shape, y_test.shape"
      ],
      "execution_count": null,
      "outputs": [
        {
          "output_type": "execute_result",
          "data": {
            "text/plain": [
              "((2229,), (558,), (2229,), (558,))"
            ]
          },
          "metadata": {
            "tags": []
          },
          "execution_count": 14
        }
      ]
    },
    {
      "cell_type": "code",
      "metadata": {
        "colab": {
          "base_uri": "https://localhost:8080/",
          "height": 442
        },
        "id": "L9QImNlhOQuS",
        "outputId": "d2c0d672-fd36-4b17-f2a0-33e6dc8ee98c"
      },
      "source": [
        "# Plot correctly made splits\n",
        "plt.figure(figsize=(10, 7))\n",
        "plt.scatter(X_train, y_train, s=5, label=\"Train data\")\n",
        "plt.scatter(X_test, y_test, s=5, label=\"Test data\")\n",
        "plt.xlabel(\"Date\")\n",
        "plt.ylabel(\"BTC Price\")\n",
        "plt.legend()\n",
        "plt.show();"
      ],
      "execution_count": null,
      "outputs": [
        {
          "output_type": "display_data",
          "data": {
            "image/png": "[encoded data removed]",
            "text/plain": [
              "<Figure size 720x504 with 1 Axes>"
            ]
          },
          "metadata": {
            "tags": [],
            "needs_background": "light"
          }
        }
      ]
    },
    {
      "cell_type": "markdown",
      "metadata": {
        "id": "sGUelYVKCybB"
      },
      "source": [
        "### TODO: Create a plotting function\n",
        "\n",
        "Rather than retyping `matplotlib` commands to continuously plot data, let's make a plotting function we can reuse later."
      ]
    },
    {
      "cell_type": "code",
      "metadata": {
        "id": "trkvizA0C6vc"
      },
      "source": [
        "# Create a function to plot time series data\n",
        "def plot_time_series(timesteps, values, format='-', start=0, end=None, label=None):\n",
        "  # Plot the series\n",
        "  plt.plot(timesteps[start:end], values[start:end], format, label=label)\n",
        "  plt.xlabel(\"Time\")\n",
        "  plt.ylabel(\"BTC Price\")\n",
        "  if label:\n",
        "    plt.legend(fontsize=14) # make label bigger\n",
        "  plt.grid(True)"
      ],
      "execution_count": null,
      "outputs": []
    },
    {
      "cell_type": "code",
      "metadata": {
        "colab": {
          "base_uri": "https://localhost:8080/",
          "height": 442
        },
        "id": "6TyFY1cGC_sw",
        "outputId": "988a0f4a-c142-4099-88de-3938d1968676"
      },
      "source": [
        "# Try out our plotting function\n",
        "plt.figure(figsize=(10, 7))\n",
        "plot_time_series(timesteps=X_train, values=y_train, format=\".\", label=\"Train data\")\n",
        "plot_time_series(timesteps=X_test, values=y_test, format=\".\", label=\"Test data\")"
      ],
      "execution_count": null,
      "outputs": [
        {
          "output_type": "display_data",
          "data": {
            "image/png": "[encoded data removed]",
            "text/plain": [
              "<Figure size 720x504 with 1 Axes>"
            ]
          },
          "metadata": {
            "tags": [],
            "needs_background": "light"
          }
        }
      ]
    },
    {
      "cell_type": "markdown",
      "metadata": {
        "id": "cwSpQQRl_dHb"
      },
      "source": [
        "## TODO: Model data\n",
        "\n",
        "* Baseline - naive forecasting\n",
        "* Baseline 2 - decision forest - https://www.tensorflow.org/decision_forests/tutorials/beginner_colab\n",
        "* Deep model - fully connected\n",
        "  * Fully connected with different size window/horizon\n",
        "* Sequence models\n",
        "  * LSTM\n",
        "  * Conv1D\n",
        "* N-Beats algorithm - https://arxiv.org/pdf/1905.10437.pdf"
      ]
    },
    {
      "cell_type": "markdown",
      "metadata": {
        "id": "JO1YAv7w_dE7"
      },
      "source": [
        "### Model 0: Naive forecast\n",
        "\n",
        "Naive forecast = Use the previous timestep to predict the next timestep\n",
        "\n",
        "$$\\hat{y}_{t} = y_{t-1}$$ "
      ]
    },
    {
      "cell_type": "code",
      "metadata": {
        "colab": {
          "base_uri": "https://localhost:8080/"
        },
        "id": "nCKGUO4OVos9",
        "outputId": "efd0bf58-7347-4a21-f58d-53f6286da6b4"
      },
      "source": [
        "naive_forecast = y_test[:-1]\n",
        "naive_forecast[:10]"
      ],
      "execution_count": null,
      "outputs": [
        {
          "output_type": "execute_result",
          "data": {
            "text/plain": [
              "array([9226.48582088, 8794.35864452, 8798.04205463, 9081.18687849,\n",
              "       8711.53433917, 8760.89271814, 8749.52059102, 8656.97092235,\n",
              "       8500.64355816, 8469.2608989 ])"
            ]
          },
          "metadata": {
            "tags": []
          },
          "execution_count": 18
        }
      ]
    },
    {
      "cell_type": "code",
      "metadata": {
        "colab": {
          "base_uri": "https://localhost:8080/",
          "height": 442
        },
        "id": "a0NLHXDhWDX-",
        "outputId": "aaaebf26-6ab9-47e1-c52b-5345958089aa"
      },
      "source": [
        "# Plot naive forecast\n",
        "plt.figure(figsize=(10, 7))\n",
        "plot_time_series(timesteps=X_train, values=y_train, format=\".\", label=\"Train data\")\n",
        "plot_time_series(timesteps=X_test, values=y_test, format=\".\", label=\"Test data\")\n",
        "plot_time_series(timesteps=X_test[1:], values=naive_forecast, label=\"Naive forecast\");"
      ],
      "execution_count": null,
      "outputs": [
        {
          "output_type": "display_data",
          "data": {
            "image/png": "[encoded data removed]",
            "text/plain": [
              "<Figure size 720x504 with 1 Axes>"
            ]
          },
          "metadata": {
            "tags": [],
            "needs_background": "light"
          }
        }
      ]
    },
    {
      "cell_type": "markdown",
      "metadata": {
        "id": "8Zj2p8NAkRLD"
      },
      "source": [
        "The naive forecast looks like it's following the data well. But let's zoom in to take a better look."
      ]
    },
    {
      "cell_type": "code",
      "metadata": {
        "id": "dx0wUhtOW_VX",
        "colab": {
          "base_uri": "https://localhost:8080/",
          "height": 442
        },
        "outputId": "4b09050d-90ae-4c8f-f465-fcc932151d9a"
      },
      "source": [
        "plt.figure(figsize=(10, 7))\n",
        "offset=300\n",
        "plot_time_series(timesteps=X_test, values=y_test, format=\".\", start=offset, label=\"Test data\")\n",
        "plot_time_series(timesteps=X_test[1:], values=naive_forecast, start=offset, label=\"Naive forecast\");"
      ],
      "execution_count": null,
      "outputs": [
        {
          "output_type": "display_data",
          "data": {
            "image/png": "[encoded data removed]",
            "text/plain": [
              "<Figure size 720x504 with 1 Axes>"
            ]
          },
          "metadata": {
            "tags": [],
            "needs_background": "light"
          }
        }
      ]
    },
    {
      "cell_type": "markdown",
      "metadata": {
        "id": "AdPsP9SwD72K"
      },
      "source": [
        "When we zoom in we see the naive forecast comes slightly after the test data. This makes sense because the naive forecast uses the previous timestep value to predict the next timestep value.\n",
        "\n",
        "TK - add image for naive forecast (previous step to predict next step) "
      ]
    },
    {
      "cell_type": "markdown",
      "metadata": {
        "id": "UdK4KoFnA90I"
      },
      "source": [
        "## TODO: Evaluating a time series model\n",
        "\n",
        "TK - this can be a function for each model (compares predictions to ground truth...)\n",
        "\n",
        "TK - metrics for evaluating time series models: https://otexts.com/fpp2/accuracy.html\n",
        "\n",
        "Scale-dependent erros (these can't be used to make comparisons between series that involve different units):\n",
        "* MAE - a forecast method that minimises the MAE will lead to forecasts of the median\n",
        "* RMSE - a forecast method that minimisies RMSE will lead to forecasts of the mean\n",
        "\n",
        "Percentage errors: \n",
        "* MAPE (mean absolute percentage error) \n",
        "* sMAPE (recommended not to be used, though it is used in forecasting competitions)\n",
        "\n",
        "Scaled errors (these are good when comparing forecasts accuracy across series with different units):\n",
        "* MASE (mean absolute scaled error)\n"
      ]
    },
    {
      "cell_type": "code",
      "metadata": {
        "id": "ljaO69huYCZD"
      },
      "source": [
        "import tensorflow as tf"
      ],
      "execution_count": null,
      "outputs": []
    },
    {
      "cell_type": "code",
      "metadata": {
        "id": "2jbLBJ_IGjla"
      },
      "source": [
        "# MASE implemented courtesy of sktime - https://github.com/alan-turing-institute/sktime/blob/ee7a06843a44f4aaec7582d847e36073a9ab0566/sktime/performance_metrics/forecasting/_functions.py#L16\n",
        "def mean_absolute_scaled_error(y_true, y_pred):\n",
        "  \"\"\"\n",
        "  Implement MASE (assuming no seasonality of data)\n",
        "  \"\"\"\n",
        "  mae = tf.reduce_mean(tf.abs(y_true - y_pred))\n",
        "  # Find MAE of naive forecast (no seasonality)\n",
        "  mae_naive_no_season = tf.reduce_mean(tf.abs(y_true[1:] - y_true[:-1]))\n",
        "  return mae / mae_naive_no_season"
      ],
      "execution_count": null,
      "outputs": []
    },
    {
      "cell_type": "code",
      "metadata": {
        "id": "MwMeVgRXWaJp"
      },
      "source": [
        "def evaluate_preds(y_true, y_pred):\n",
        "  # Make sure float32 (for metric calculations)\n",
        "  y_true = tf.cast(y_true, dtype=tf.float32)\n",
        "  y_pred = tf.cast(y_pred, dtype=tf.float32)\n",
        "\n",
        "  # Calculate various metrics\n",
        "  mae = tf.keras.metrics.mean_absolute_error(y_true, y_pred)\n",
        "  mse = tf.keras.metrics.mean_squared_error(y_true, y_pred)\n",
        "  rmse = tf.sqrt(mse)\n",
        "  mape = tf.keras.metrics.mean_absolute_percentage_error(y_true, y_pred)\n",
        "  mase = mean_absolute_scaled_error(y_true, y_pred)\n",
        "  \n",
        "  return {\"mae\": mae.numpy(),\n",
        "          \"mse\": mse.numpy(),\n",
        "          \"rmse\": rmse.numpy(),\n",
        "          \"mape\": mape.numpy(),\n",
        "          \"mase\": mase.numpy()}"
      ],
      "execution_count": null,
      "outputs": []
    },
    {
      "cell_type": "code",
      "metadata": {
        "colab": {
          "base_uri": "https://localhost:8080/"
        },
        "id": "HbJlsvUwYEsf",
        "outputId": "eff1347a-3372-42eb-bfa0-b8164e0c7cf0"
      },
      "source": [
        "naive_results = evaluate_preds(y_true=y_test[1:],\n",
        "                               y_pred=naive_forecast)\n",
        "naive_results"
      ],
      "execution_count": null,
      "outputs": [
        {
          "output_type": "execute_result",
          "data": {
            "text/plain": [
              "{'mae': 567.9802,\n",
              " 'mape': 2.516525,\n",
              " 'mase': 0.99957,\n",
              " 'mse': 1147547.0,\n",
              " 'rmse': 1071.2362}"
            ]
          },
          "metadata": {
            "tags": []
          },
          "execution_count": 25
        }
      ]
    },
    {
      "cell_type": "markdown",
      "metadata": {
        "id": "_5kgVzdq1S1A"
      },
      "source": [
        "## TODO: Mention other kinds of models which can be used for baselines\n",
        "\n",
        "* TensorFlow Decision Forest\n",
        "* Moving average\n",
        "* Etc...\n",
        "* Focused on pure TensorFlow kinds of models"
      ]
    },
    {
      "cell_type": "code",
      "metadata": {
        "id": "o8O_uBXUx7yP"
      },
      "source": [
        ""
      ],
      "execution_count": null,
      "outputs": []
    },
    {
      "cell_type": "code",
      "metadata": {
        "id": "VYhcUJEbwTXw"
      },
      "source": [
        ""
      ],
      "execution_count": null,
      "outputs": []
    },
    {
      "cell_type": "code",
      "metadata": {
        "id": "w-lS1r2MPx78"
      },
      "source": [
        ""
      ],
      "execution_count": null,
      "outputs": []
    },
    {
      "cell_type": "markdown",
      "metadata": {
        "id": "e8AzwUvjBkgY"
      },
      "source": [
        "## Windowing dataset\n",
        "\n",
        "Why do we window?\n",
        "\n",
        "TODO: We can turn our time series data into a **supervised learning problem**: use windows of the past to predict the future."
      ]
    },
    {
      "cell_type": "markdown",
      "metadata": {
        "id": "IxZ6h88QZfOs"
      },
      "source": [
        "Want:\n",
        "\n",
        "```\n",
        "# Window for a week (univariate time series)\n",
        "[0, 1, 2, 3, 4, 5, 6] -> [7]\n",
        "[1, 2, 3, 4, 5, 6, 7] -> [8]\n",
        "[2, 3, 4, 5, 6, 7, 8] -> [9]\n",
        "```"
      ]
    },
    {
      "cell_type": "code",
      "metadata": {
        "id": "LibzWQXM2ib-"
      },
      "source": [
        "HORIZON = 1 # predict 1 step at a time\n",
        "WINDOW_SIZE = 7 # use a week worth of timesteps to predict the horizon"
      ],
      "execution_count": null,
      "outputs": []
    },
    {
      "cell_type": "code",
      "metadata": {
        "id": "zV8pv5K_x81E"
      },
      "source": [
        "# Create function to label windowed data\n",
        "def get_labelled_windows(x, horizon=1):\n",
        "  \"\"\"\n",
        "  Creates labels for windowed dataset.\n",
        "\n",
        "  E.g. if horizon=1 (default)\n",
        "  Input: [1, 2, 3, 4, 5, 6] -> Output: ([1, 2, 3, 4, 5], [6])\n",
        "  \"\"\"\n",
        "  return x[:, :-horizon], x[:, -horizon:]"
      ],
      "execution_count": null,
      "outputs": []
    },
    {
      "cell_type": "code",
      "metadata": {
        "id": "apea0wiJyCI6"
      },
      "source": [
        "# Create function to view NumPy arrays as windows\n",
        "def make_windows(x, window_size=10, horizon=1):\n",
        "  \"\"\"\n",
        "  Turns a 1D array into a 2D array of sequential windows of window_size.\n",
        "  \"\"\"\n",
        "  # print(len(x)-1)\n",
        "  start = len(x) % window_size # account for data which doesn't fit into window, cut off at start\n",
        "  window_step = np.expand_dims(np.arange(window_size+horizon), axis=0) # create 2D array of window_size\n",
        "  # print(f\"Window step:\\n {window_step[-5:]}\")\n",
        "  window_indexes = start + window_step + np.expand_dims(np.arange(len(x)-(window_size+horizon+start-1)), axis=0).T # create 2D array of windows of size window_size\n",
        "  # print(f\"Window indexes:\\n {window_indexes[:2], window_indexes[-2:]}\")\n",
        "  windowed_array = x[window_indexes] # get the original array indexed with windows\n",
        "  windows, labels = get_labelled_windows(windowed_array, horizon=horizon)\n",
        "  return windows, labels"
      ],
      "execution_count": 33,
      "outputs": []
    },
    {
      "cell_type": "code",
      "metadata": {
        "colab": {
          "base_uri": "https://localhost:8080/"
        },
        "id": "u7Yc3V7fc1UG",
        "outputId": "d28dcc26-474b-4d96-bf0c-8655f5ba263c"
      },
      "source": [
        "full_windows, full_labels = make_windows(prices, window_size=WINDOW_SIZE, horizon=HORIZON)\n",
        "len(full_windows), len(full_labels)"
      ],
      "execution_count": 34,
      "outputs": [
        {
          "output_type": "execute_result",
          "data": {
            "text/plain": [
              "(2779, 2779)"
            ]
          },
          "metadata": {
            "tags": []
          },
          "execution_count": 34
        }
      ]
    },
    {
      "cell_type": "markdown",
      "metadata": {
        "id": "kmuTc0NDYj3l"
      },
      "source": [
        "### TODO: Make train/test splits after windowing, this helps with evaluation..."
      ]
    },
    {
      "cell_type": "code",
      "metadata": {
        "id": "o_8BRgb8YtP3"
      },
      "source": [
        "# Make the train/test splits\n",
        "def make_train_test_splits(windows, labels, test_split=0.2):\n",
        "  \"\"\"\n",
        "  Splits matching pairs of windows and labels into train and test splits.\n",
        "  \"\"\"\n",
        "  split_size = int(len(windows) * (1-test_split))\n",
        "  train_windows = windows[:split_size]\n",
        "  train_labels = labels[:split_size]\n",
        "  test_windows = windows[split_size:]\n",
        "  test_labels = labels[split_size:]\n",
        "  return train_windows, test_windows, train_labels, test_labels"
      ],
      "execution_count": 35,
      "outputs": []
    },
    {
      "cell_type": "code",
      "metadata": {
        "colab": {
          "base_uri": "https://localhost:8080/"
        },
        "id": "z_xY8T7HEaoU",
        "outputId": "49a797ab-4648-4d72-f07a-1e4607924637"
      },
      "source": [
        "train_windows, test_windows, train_labels, test_labels = make_train_test_splits(full_windows, full_labels)\n",
        "len(train_windows), len(test_windows), len(train_labels), len(test_labels)"
      ],
      "execution_count": 36,
      "outputs": [
        {
          "output_type": "execute_result",
          "data": {
            "text/plain": [
              "(2223, 556, 2223, 556)"
            ]
          },
          "metadata": {
            "tags": []
          },
          "execution_count": 36
        }
      ]
    },
    {
      "cell_type": "code",
      "metadata": {
        "colab": {
          "base_uri": "https://localhost:8080/"
        },
        "id": "DDgyT7Gix1fH",
        "outputId": "b9e20ec6-fde9-4ea0-8692-5baf8e27f4e4"
      },
      "source": [
        "train_windows[:5], train_labels[:5]"
      ],
      "execution_count": 37,
      "outputs": [
        {
          "output_type": "execute_result",
          "data": {
            "text/plain": [
              "(array([[125.455  , 108.58483, 118.67466, 121.33866, 120.65533, 121.795  ,\n",
              "         123.033  ],\n",
              "        [108.58483, 118.67466, 121.33866, 120.65533, 121.795  , 123.033  ,\n",
              "         124.049  ],\n",
              "        [118.67466, 121.33866, 120.65533, 121.795  , 123.033  , 124.049  ,\n",
              "         125.96116],\n",
              "        [121.33866, 120.65533, 121.795  , 123.033  , 124.049  , 125.96116,\n",
              "         125.27966],\n",
              "        [120.65533, 121.795  , 123.033  , 124.049  , 125.96116, 125.27966,\n",
              "         125.9275 ]]), array([[124.049  ],\n",
              "        [125.96116],\n",
              "        [125.27966],\n",
              "        [125.9275 ],\n",
              "        [126.38333]]))"
            ]
          },
          "metadata": {
            "tags": []
          },
          "execution_count": 37
        }
      ]
    },
    {
      "cell_type": "markdown",
      "metadata": {
        "id": "PQX0PF5jV4aq"
      },
      "source": [
        "## TODO: Make a modelling checkpoint... \n",
        "\n",
        "We need to save our model's best performance. "
      ]
    },
    {
      "cell_type": "code",
      "metadata": {
        "id": "knBwm-bCWWk_"
      },
      "source": [
        "import os"
      ],
      "execution_count": 38,
      "outputs": []
    },
    {
      "cell_type": "code",
      "metadata": {
        "id": "Xh8i1f7rV_P2"
      },
      "source": [
        "def create_model_checkpoint(model_name, save_path=\"model_experiments\"):\n",
        "  return tf.keras.callbacks.ModelCheckpoint(filepath=os.path.join(save_path, model_name),\n",
        "                                            verbose=0,\n",
        "                                            save_best_only=True)"
      ],
      "execution_count": 55,
      "outputs": []
    },
    {
      "cell_type": "markdown",
      "metadata": {
        "id": "j5uw1AaVY-J9"
      },
      "source": [
        "## TODO: Model 1: Dense model (window = 7, horizon = 1)"
      ]
    },
    {
      "cell_type": "code",
      "metadata": {
        "id": "Fadbh94rY-WQ"
      },
      "source": [
        "import tensorflow as tf\n",
        "from tensorflow.keras import layers"
      ],
      "execution_count": 56,
      "outputs": []
    },
    {
      "cell_type": "code",
      "metadata": {
        "colab": {
          "base_uri": "https://localhost:8080/"
        },
        "id": "T3ytqCyZ3O4T",
        "outputId": "7b36c229-781a-43d5-8d82-46df6c338427"
      },
      "source": [
        "len(train_windows), len(test_windows), len(full_windows)"
      ],
      "execution_count": 57,
      "outputs": [
        {
          "output_type": "execute_result",
          "data": {
            "text/plain": [
              "(2223, 556, 2779)"
            ]
          },
          "metadata": {
            "tags": []
          },
          "execution_count": 57
        }
      ]
    },
    {
      "cell_type": "code",
      "metadata": {
        "id": "Slr5hrJHY_Ed",
        "colab": {
          "base_uri": "https://localhost:8080/"
        },
        "outputId": "3d78b7c5-d49c-4ce6-a7db-98eb32b6b409"
      },
      "source": [
        "tf.random.set_seed(42)\n",
        "\n",
        "model_1 = tf.keras.Sequential([\n",
        "  layers.Dense(128, activation=\"relu\"),\n",
        "  layers.Dense(HORIZON)                              \n",
        "], name=\"model_1_dense\")\n",
        "\n",
        "model_1.compile(loss=\"mae\",\n",
        "                optimizer=tf.keras.optimizers.Adam())\n",
        "\n",
        "model_1.fit(x=train_windows, \n",
        "            y=train_labels,\n",
        "            epochs=10,\n",
        "            verbose=1,\n",
        "            validation_data=(test_windows, test_labels),\n",
        "            callbacks=[create_model_checkpoint(model_name=model_1.name)])"
      ],
      "execution_count": 58,
      "outputs": [
        {
          "output_type": "stream",
          "text": [
            "Epoch 1/10\n",
            "70/70 [==============================] - 0s 3ms/step - loss: 365.6064 - val_loss: 1093.3888\n",
            "INFO:tensorflow:Assets written to: model_experiments/model_1_dense/assets\n",
            "Epoch 2/10\n",
            "70/70 [==============================] - 0s 2ms/step - loss: 165.6460 - val_loss: 807.2575\n",
            "INFO:tensorflow:Assets written to: model_experiments/model_1_dense/assets\n",
            "Epoch 3/10\n",
            "70/70 [==============================] - 0s 1ms/step - loss: 144.6243 - val_loss: 748.2397\n",
            "INFO:tensorflow:Assets written to: model_experiments/model_1_dense/assets\n",
            "Epoch 4/10\n",
            "70/70 [==============================] - 0s 2ms/step - loss: 136.8425 - val_loss: 741.1890\n",
            "INFO:tensorflow:Assets written to: model_experiments/model_1_dense/assets\n",
            "Epoch 5/10\n",
            "70/70 [==============================] - 0s 2ms/step - loss: 129.6421 - val_loss: 746.9256\n",
            "Epoch 6/10\n",
            "70/70 [==============================] - 0s 2ms/step - loss: 133.2969 - val_loss: 655.9176\n",
            "INFO:tensorflow:Assets written to: model_experiments/model_1_dense/assets\n",
            "Epoch 7/10\n",
            "70/70 [==============================] - 0s 2ms/step - loss: 127.1284 - val_loss: 663.9422\n",
            "Epoch 8/10\n",
            "70/70 [==============================] - 0s 1ms/step - loss: 126.4991 - val_loss: 657.6819\n",
            "Epoch 9/10\n",
            "70/70 [==============================] - 0s 2ms/step - loss: 126.9756 - val_loss: 728.3283\n",
            "Epoch 10/10\n",
            "70/70 [==============================] - 0s 2ms/step - loss: 127.2498 - val_loss: 615.8317\n",
            "INFO:tensorflow:Assets written to: model_experiments/model_1_dense/assets\n"
          ],
          "name": "stdout"
        },
        {
          "output_type": "execute_result",
          "data": {
            "text/plain": [
              "<tensorflow.python.keras.callbacks.History at 0x7f2644fc2cd0>"
            ]
          },
          "metadata": {
            "tags": []
          },
          "execution_count": 58
        }
      ]
    },
    {
      "cell_type": "code",
      "metadata": {
        "id": "N1DbcEZBY_Bt",
        "colab": {
          "base_uri": "https://localhost:8080/"
        },
        "outputId": "9b19048a-6e74-4aca-f743-88bdafc25b26"
      },
      "source": [
        "# Evaluate\n",
        "model_1.evaluate(test_windows, test_labels)"
      ],
      "execution_count": 59,
      "outputs": [
        {
          "output_type": "stream",
          "text": [
            "18/18 [==============================] - 0s 1ms/step - loss: 615.8317\n"
          ],
          "name": "stdout"
        },
        {
          "output_type": "execute_result",
          "data": {
            "text/plain": [
              "615.8316650390625"
            ]
          },
          "metadata": {
            "tags": []
          },
          "execution_count": 59
        }
      ]
    },
    {
      "cell_type": "code",
      "metadata": {
        "colab": {
          "base_uri": "https://localhost:8080/"
        },
        "id": "FXey-AX-XZPK",
        "outputId": "28dde714-e5d8-4ae0-a2ee-75a0b8c0760d"
      },
      "source": [
        "model_1 = tf.keras.models.load_model(\"model_experiments/model_1_dense\")\n",
        "model_1.evaluate(test_windows, test_labels)"
      ],
      "execution_count": 60,
      "outputs": [
        {
          "output_type": "stream",
          "text": [
            "18/18 [==============================] - 0s 1ms/step - loss: 615.8317\n"
          ],
          "name": "stdout"
        },
        {
          "output_type": "execute_result",
          "data": {
            "text/plain": [
              "615.8316650390625"
            ]
          },
          "metadata": {
            "tags": []
          },
          "execution_count": 60
        }
      ]
    },
    {
      "cell_type": "markdown",
      "metadata": {
        "id": "-HfeTX5KhYin"
      },
      "source": [
        "### TODO: Making forecasts with a model\n",
        "\n",
        "* We could make forecasts on the test windows, however this would end up in less prediction values than in the `y_test`\n",
        "* Instead, we're going to make predictions on the full dataset windows "
      ]
    },
    {
      "cell_type": "code",
      "metadata": {
        "id": "hZrExWzyh3ur"
      },
      "source": [
        "def make_forecast(model, input_data):\n",
        "  \"\"\"\n",
        "  Uses model to make forecasts on input_data.\n",
        "\n",
        "  Input_data must be windowed version of whole dataset, otherwise forecasts won't match size of y_test.\n",
        "\n",
        "  Parameters\n",
        "  ----------\n",
        "  model: trained model \n",
        "  input_data: windowed input data (same kind of data model was trained on)\n",
        "\n",
        "  Returns model forecast on input_data from split_size-window_size onwards.\n",
        "  \"\"\"\n",
        "  forecast = model.predict(input_data)\n",
        "  return tf.squeeze(forecast) # return 1D array of predictions "
      ],
      "execution_count": 61,
      "outputs": []
    },
    {
      "cell_type": "code",
      "metadata": {
        "colab": {
          "base_uri": "https://localhost:8080/"
        },
        "id": "ND4uFaYdy463",
        "outputId": "eccd37c9-6365-4638-80aa-a4e5a6fb9514"
      },
      "source": [
        "model_1_preds = tf.squeeze(model_1.predict(test_windows))\n",
        "len(model_1_preds)"
      ],
      "execution_count": 62,
      "outputs": [
        {
          "output_type": "execute_result",
          "data": {
            "text/plain": [
              "556"
            ]
          },
          "metadata": {
            "tags": []
          },
          "execution_count": 62
        }
      ]
    },
    {
      "cell_type": "code",
      "metadata": {
        "colab": {
          "base_uri": "https://localhost:8080/"
        },
        "id": "gACmlubfdL8q",
        "outputId": "97d5cbe0-f5d2-4ecb-cd33-1514f4757f66"
      },
      "source": [
        "model_1_preds[:10]"
      ],
      "execution_count": 63,
      "outputs": [
        {
          "output_type": "execute_result",
          "data": {
            "text/plain": [
              "<tf.Tensor: shape=(10,), dtype=float32, numpy=\n",
              "array([8984.943 , 8822.457 , 8953.9795, 8796.487 , 8755.492 , 8772.864 ,\n",
              "       8692.159 , 8542.487 , 8504.595 , 8503.341 ], dtype=float32)>"
            ]
          },
          "metadata": {
            "tags": []
          },
          "execution_count": 63
        }
      ]
    },
    {
      "cell_type": "code",
      "metadata": {
        "colab": {
          "base_uri": "https://localhost:8080/"
        },
        "id": "eHak7Jqd9aXv",
        "outputId": "75e1e87c-c080-48cf-d725-d6534309084b"
      },
      "source": [
        "# Evaluate preds\n",
        "model_1_results = evaluate_preds(y_true=tf.squeeze(test_labels), # reduce to right shape\n",
        "                                 y_pred=model_1_preds)\n",
        "model_1_results"
      ],
      "execution_count": 65,
      "outputs": [
        {
          "output_type": "execute_result",
          "data": {
            "text/plain": [
              "{'mae': 615.83154,\n",
              " 'mape': 2.7535346,\n",
              " 'mase': 1.0818454,\n",
              " 'mse': 1320297.8,\n",
              " 'rmse': 1149.0421}"
            ]
          },
          "metadata": {
            "tags": []
          },
          "execution_count": 65
        }
      ]
    },
    {
      "cell_type": "code",
      "metadata": {
        "colab": {
          "base_uri": "https://localhost:8080/",
          "height": 442
        },
        "id": "Wgxoqg_tIhFJ",
        "outputId": "6d2a52f1-06a0-4206-c27b-c03418b276af"
      },
      "source": [
        "offset = 300\n",
        "plt.figure(figsize=(10, 7))\n",
        "# Account for the test_window offset and index into test_labels to ensure correct plotting\n",
        "plot_time_series(timesteps=X_test[-len(test_windows):], values=test_labels[:, 0], format=\".\", start=offset, label=\"Test_data\")\n",
        "plot_time_series(timesteps=X_test[-len(test_windows):], values=model_1_preds, start=offset, label=\"model_1_preds\")"
      ],
      "execution_count": 67,
      "outputs": [
        {
          "output_type": "display_data",
          "data": {
            "image/png": "[encoded data removed]",
            "text/plain": [
              "<Figure size 720x504 with 1 Axes>"
            ]
          },
          "metadata": {
            "tags": [],
            "needs_background": "light"
          }
        }
      ]
    },
    {
      "cell_type": "markdown",
      "metadata": {
        "id": "fr18ffVq4i6m"
      },
      "source": [
        "## TODO: Model 2: Dense (window = 30, horizon = 1)\n",
        "\n",
        "Same model as model 1 except with different data.\n",
        "\n",
        "TK - What happens if we make a larger window & horizon?\n",
        "\n",
        "* TK - Window & horizon values are values you can tune..."
      ]
    },
    {
      "cell_type": "code",
      "metadata": {
        "id": "Vz0eMi7F4wpn"
      },
      "source": [
        "HORIZON = 1 # predict one step at a time\n",
        "WINDOW_SIZE = 30 # use 30 timesteps in the past"
      ],
      "execution_count": 68,
      "outputs": []
    },
    {
      "cell_type": "code",
      "metadata": {
        "colab": {
          "base_uri": "https://localhost:8080/"
        },
        "id": "1HlYaAxr6UoC",
        "outputId": "de90816e-564a-410f-f8e6-23236e7e420a"
      },
      "source": [
        "# Make windowed data with appropriate horizon and window sizes\n",
        "full_windows, full_labels = make_windows(prices, window_size=WINDOW_SIZE, horizon=HORIZON)\n",
        "len(full_windows), len(full_labels)"
      ],
      "execution_count": 69,
      "outputs": [
        {
          "output_type": "execute_result",
          "data": {
            "text/plain": [
              "(2730, 2730)"
            ]
          },
          "metadata": {
            "tags": []
          },
          "execution_count": 69
        }
      ]
    },
    {
      "cell_type": "code",
      "metadata": {
        "colab": {
          "base_uri": "https://localhost:8080/"
        },
        "id": "jWxYZtOuelzO",
        "outputId": "9d125d88-5f74-4a28-9efa-76c6af6803b5"
      },
      "source": [
        "# Make train and testing windows\n",
        "train_windows, test_windows, train_labels, test_labels = make_train_test_splits(windows=full_windows, labels=full_labels)\n",
        "len(train_windows), len(test_windows), len(train_labels), len(test_labels)"
      ],
      "execution_count": 70,
      "outputs": [
        {
          "output_type": "execute_result",
          "data": {
            "text/plain": [
              "(2184, 546, 2184, 546)"
            ]
          },
          "metadata": {
            "tags": []
          },
          "execution_count": 70
        }
      ]
    },
    {
      "cell_type": "code",
      "metadata": {
        "colab": {
          "base_uri": "https://localhost:8080/"
        },
        "id": "b_oz5aJE6UwN",
        "outputId": "8abdaceb-675b-43fa-ed64-f6c684dc80f4"
      },
      "source": [
        "# Create model (same model as model 1 but data input will be different)\n",
        "model_2 = tf.keras.Sequential([\n",
        "  layers.Dense(128, activation=\"relu\"),\n",
        "  layers.Dense(HORIZON) # need to predict horizon number of steps into the future\n",
        "], name=\"model_2_dense\")\n",
        "\n",
        "model_2.compile(loss=\"mae\",\n",
        "                optimizer=tf.keras.optimizers.Adam())\n",
        "\n",
        "model_2.fit(train_windows,\n",
        "            train_labels,\n",
        "            epochs=10,\n",
        "            validation_data=(test_windows, test_labels),\n",
        "            callbacks=[create_model_checkpoint(model_name=model_2.name)])"
      ],
      "execution_count": 71,
      "outputs": [
        {
          "output_type": "stream",
          "text": [
            "Epoch 1/10\n",
            "69/69 [==============================] - 0s 3ms/step - loss: 580.0876 - val_loss: 1285.6443\n",
            "INFO:tensorflow:Assets written to: model_experiments/model_2_dense/assets\n",
            "Epoch 2/10\n",
            "69/69 [==============================] - 0s 2ms/step - loss: 253.1951 - val_loss: 1134.7874\n",
            "INFO:tensorflow:Assets written to: model_experiments/model_2_dense/assets\n",
            "Epoch 3/10\n",
            "69/69 [==============================] - 0s 2ms/step - loss: 207.5339 - val_loss: 1177.5907\n",
            "Epoch 4/10\n",
            "69/69 [==============================] - 0s 2ms/step - loss: 195.5561 - val_loss: 1212.7876\n",
            "Epoch 5/10\n",
            "69/69 [==============================] - 0s 2ms/step - loss: 177.2713 - val_loss: 866.0209\n",
            "INFO:tensorflow:Assets written to: model_experiments/model_2_dense/assets\n",
            "Epoch 6/10\n",
            "69/69 [==============================] - 0s 2ms/step - loss: 177.3426 - val_loss: 951.2712\n",
            "Epoch 7/10\n",
            "69/69 [==============================] - 0s 2ms/step - loss: 182.3657 - val_loss: 964.1740\n",
            "Epoch 8/10\n",
            "69/69 [==============================] - 0s 2ms/step - loss: 154.5594 - val_loss: 882.1998\n",
            "Epoch 9/10\n",
            "69/69 [==============================] - 0s 2ms/step - loss: 161.5562 - val_loss: 1489.4441\n",
            "Epoch 10/10\n",
            "69/69 [==============================] - 0s 2ms/step - loss: 197.6024 - val_loss: 762.0139\n",
            "INFO:tensorflow:Assets written to: model_experiments/model_2_dense/assets\n"
          ],
          "name": "stdout"
        },
        {
          "output_type": "execute_result",
          "data": {
            "text/plain": [
              "<tensorflow.python.keras.callbacks.History at 0x7f26411a7190>"
            ]
          },
          "metadata": {
            "tags": []
          },
          "execution_count": 71
        }
      ]
    },
    {
      "cell_type": "code",
      "metadata": {
        "id": "W42Fa-aO8rhg",
        "colab": {
          "base_uri": "https://localhost:8080/"
        },
        "outputId": "a33e4d51-59a1-4bee-d476-55789bef40e2"
      },
      "source": [
        "# Evaluate model 2 preds\n",
        "model_2.evaluate(test_windows, test_labels)"
      ],
      "execution_count": 72,
      "outputs": [
        {
          "output_type": "stream",
          "text": [
            "18/18 [==============================] - 0s 1ms/step - loss: 762.0139\n"
          ],
          "name": "stdout"
        },
        {
          "output_type": "execute_result",
          "data": {
            "text/plain": [
              "762.013916015625"
            ]
          },
          "metadata": {
            "tags": []
          },
          "execution_count": 72
        }
      ]
    },
    {
      "cell_type": "code",
      "metadata": {
        "colab": {
          "base_uri": "https://localhost:8080/"
        },
        "id": "c_hG89F5YV4i",
        "outputId": "93f1fb16-eab5-4405-9373-a6d5b99b0b29"
      },
      "source": [
        "# Load in best performing model\n",
        "model_2 = tf.keras.models.load_model(\"model_experiments/model_2_dense/\")\n",
        "model_2.evaluate(test_windows, test_labels)"
      ],
      "execution_count": 73,
      "outputs": [
        {
          "output_type": "stream",
          "text": [
            "18/18 [==============================] - 0s 1ms/step - loss: 762.0139\n"
          ],
          "name": "stdout"
        },
        {
          "output_type": "execute_result",
          "data": {
            "text/plain": [
              "762.013916015625"
            ]
          },
          "metadata": {
            "tags": []
          },
          "execution_count": 73
        }
      ]
    },
    {
      "cell_type": "code",
      "metadata": {
        "id": "TPfvPgkUknY5"
      },
      "source": [
        "# Get forecast predictions\n",
        "model_2_preds = make_forecast(model_2,\n",
        "                              input_data=test_windows)"
      ],
      "execution_count": 77,
      "outputs": []
    },
    {
      "cell_type": "code",
      "metadata": {
        "colab": {
          "base_uri": "https://localhost:8080/"
        },
        "id": "dy7XZx7FllHX",
        "outputId": "21c22fdf-88fe-45a5-d313-dee0cd7fcd74"
      },
      "source": [
        "# Evaluate results for model 2 predictions\n",
        "model_2_results = evaluate_preds(y_true=tf.squeeze(test_labels), # remove 1 dimension of test labels\n",
        "                                 y_pred=model_2_preds)\n",
        "model_2_results"
      ],
      "execution_count": 79,
      "outputs": [
        {
          "output_type": "execute_result",
          "data": {
            "text/plain": [
              "{'mae': 762.01404,\n",
              " 'mape': 3.3568778,\n",
              " 'mase': 1.3207177,\n",
              " 'mse': 1829011.0,\n",
              " 'rmse': 1352.4093}"
            ]
          },
          "metadata": {
            "tags": []
          },
          "execution_count": 79
        }
      ]
    },
    {
      "cell_type": "code",
      "metadata": {
        "colab": {
          "base_uri": "https://localhost:8080/",
          "height": 442
        },
        "id": "jHh_qtXflx7Z",
        "outputId": "2a2886f5-bdb8-4057-9578-083066dba6cc"
      },
      "source": [
        "offset = 300\n",
        "plt.figure(figsize=(10, 7))\n",
        "\n",
        "# Account for the test_window offset\n",
        "plot_time_series(timesteps=X_test[-len(test_windows):], values=test_labels[:, 0], start=offset, label=\"test_data\")\n",
        "plot_time_series(timesteps=X_test[-len(test_windows):], values=model_2_preds, start=offset, label=\"model_2_preds\") "
      ],
      "execution_count": 80,
      "outputs": [
        {
          "output_type": "display_data",
          "data": {
            "image/png": "[encoded data removed]",
            "text/plain": [
              "<Figure size 720x504 with 1 Axes>"
            ]
          },
          "metadata": {
            "tags": [],
            "needs_background": "light"
          }
        }
      ]
    },
    {
      "cell_type": "markdown",
      "metadata": {
        "id": "Sls7mUaq9lMl"
      },
      "source": [
        "### Model 3: Dense (window = 30, horizon = 7)\n",
        "\n",
        "Let's try and predict 7 days ahead given the previous 30 days.\n",
        "\n",
        "* -> How does a larger window effect a smaller horizon?\n",
        "* -> Model 1: horizon=1, window=7\n",
        "* -> Model 2: horizon=1, window=30\n",
        "* -> Model 3: horizon=7, window=30"
      ]
    },
    {
      "cell_type": "code",
      "metadata": {
        "colab": {
          "base_uri": "https://localhost:8080/"
        },
        "id": "8PtmayTM98Mb",
        "outputId": "78cf0bbf-2715-4bab-8750-ff1dfc7dc829"
      },
      "source": [
        "HORIZON = 7\n",
        "WINDOW_SIZE = 30\n",
        "\n",
        "full_windows, full_labels = make_windows(prices, window_size=WINDOW_SIZE, horizon=HORIZON)\n",
        "len(full_windows), len(full_labels)"
      ],
      "execution_count": 81,
      "outputs": [
        {
          "output_type": "execute_result",
          "data": {
            "text/plain": [
              "(2724, 2724)"
            ]
          },
          "metadata": {
            "tags": []
          },
          "execution_count": 81
        }
      ]
    },
    {
      "cell_type": "code",
      "metadata": {
        "colab": {
          "base_uri": "https://localhost:8080/"
        },
        "id": "E8xgoKunZ__e",
        "outputId": "2004074d-0e04-416c-fcbb-f61d9c01ffab"
      },
      "source": [
        "train_windows, test_windows, train_labels, test_labels = make_train_test_splits(windows=full_windows, labels=full_labels, test_split=0.2)\n",
        "len(train_windows), len(test_windows), len(train_labels), len(test_labels)"
      ],
      "execution_count": 82,
      "outputs": [
        {
          "output_type": "execute_result",
          "data": {
            "text/plain": [
              "(2179, 545, 2179, 545)"
            ]
          },
          "metadata": {
            "tags": []
          },
          "execution_count": 82
        }
      ]
    },
    {
      "cell_type": "code",
      "metadata": {
        "colab": {
          "base_uri": "https://localhost:8080/"
        },
        "id": "hxHh7xS2-CoH",
        "outputId": "1379ed15-31d2-4814-bcda-130cee8f0fa2"
      },
      "source": [
        "# Create model (same as model_1 except with different data input size)\n",
        "model_3 = tf.keras.Sequential([\n",
        "  layers.Dense(128, activation=\"relu\"),\n",
        "  layers.Dense(HORIZON)\n",
        "], name=\"model_3_dense\")\n",
        "\n",
        "model_3.compile(loss=\"mae\",\n",
        "                optimizer=tf.keras.optimizers.Adam())\n",
        "\n",
        "model_3.fit(train_windows,\n",
        "            train_labels,\n",
        "            epochs=10,\n",
        "            validation_data=(test_windows, test_labels),\n",
        "            callbacks=[create_model_checkpoint(model_name=model_3.name)])"
      ],
      "execution_count": 84,
      "outputs": [
        {
          "output_type": "stream",
          "text": [
            "Epoch 1/10\n",
            "69/69 [==============================] - 1s 5ms/step - loss: 636.6586 - val_loss: 2143.2146\n",
            "INFO:tensorflow:Assets written to: model_experiments/model_3_dense/assets\n",
            "Epoch 2/10\n",
            "69/69 [==============================] - 0s 2ms/step - loss: 341.6805 - val_loss: 1756.2783\n",
            "INFO:tensorflow:Assets written to: model_experiments/model_3_dense/assets\n",
            "Epoch 3/10\n",
            "69/69 [==============================] - 0s 2ms/step - loss: 295.6740 - val_loss: 1600.8668\n",
            "INFO:tensorflow:Assets written to: model_experiments/model_3_dense/assets\n",
            "Epoch 4/10\n",
            "69/69 [==============================] - 0s 2ms/step - loss: 286.8115 - val_loss: 1572.6080\n",
            "INFO:tensorflow:Assets written to: model_experiments/model_3_dense/assets\n",
            "Epoch 5/10\n",
            "69/69 [==============================] - 0s 2ms/step - loss: 278.2675 - val_loss: 1823.4644\n",
            "Epoch 6/10\n",
            "69/69 [==============================] - 0s 2ms/step - loss: 267.6548 - val_loss: 1679.8372\n",
            "Epoch 7/10\n",
            "69/69 [==============================] - 0s 2ms/step - loss: 269.7374 - val_loss: 1500.4779\n",
            "INFO:tensorflow:Assets written to: model_experiments/model_3_dense/assets\n",
            "Epoch 8/10\n",
            "69/69 [==============================] - 0s 2ms/step - loss: 272.9373 - val_loss: 1475.3101\n",
            "INFO:tensorflow:Assets written to: model_experiments/model_3_dense/assets\n",
            "Epoch 9/10\n",
            "69/69 [==============================] - 0s 2ms/step - loss: 269.0825 - val_loss: 1465.8914\n",
            "INFO:tensorflow:Assets written to: model_experiments/model_3_dense/assets\n",
            "Epoch 10/10\n",
            "69/69 [==============================] - 0s 2ms/step - loss: 262.6721 - val_loss: 1751.6193\n"
          ],
          "name": "stdout"
        },
        {
          "output_type": "execute_result",
          "data": {
            "text/plain": [
              "<tensorflow.python.keras.callbacks.History at 0x7f263b43be50>"
            ]
          },
          "metadata": {
            "tags": []
          },
          "execution_count": 84
        }
      ]
    },
    {
      "cell_type": "code",
      "metadata": {
        "colab": {
          "base_uri": "https://localhost:8080/"
        },
        "id": "Pd-8pbfh-DDI",
        "outputId": "3de8b879-576c-4c95-fd8b-2ad251a6b1e5"
      },
      "source": [
        "model_3.evaluate(test_windows, test_labels)"
      ],
      "execution_count": 85,
      "outputs": [
        {
          "output_type": "stream",
          "text": [
            "18/18 [==============================] - 0s 1ms/step - loss: 1751.6193\n"
          ],
          "name": "stdout"
        },
        {
          "output_type": "execute_result",
          "data": {
            "text/plain": [
              "1751.6192626953125"
            ]
          },
          "metadata": {
            "tags": []
          },
          "execution_count": 85
        }
      ]
    },
    {
      "cell_type": "markdown",
      "metadata": {
        "id": "q--5dtgITJbc"
      },
      "source": [
        "TODO: The error will be higher because we're predicting 7 steps at a time... the further you try and predict, the larger your error will be (think of trying to predict the weather 7 days out...)."
      ]
    },
    {
      "cell_type": "code",
      "metadata": {
        "id": "uKBNVovRpvhd",
        "colab": {
          "base_uri": "https://localhost:8080/"
        },
        "outputId": "43c18937-3a96-46b2-9249-8f3f6df1e52e"
      },
      "source": [
        "# The predictions are going to be 7 steps at a time (this is the HORIZON size)\n",
        "model_3_preds = make_forecast(model_3,\n",
        "                              input_data=test_windows)\n",
        "model_3_preds[:5]"
      ],
      "execution_count": 90,
      "outputs": [
        {
          "output_type": "execute_result",
          "data": {
            "text/plain": [
              "<tf.Tensor: shape=(5, 7), dtype=float32, numpy=\n",
              "array([[8115.3403, 8008.607 , 8558.449 , 8604.077 , 8982.619 , 8431.953 ,\n",
              "        8603.227 ],\n",
              "       [7843.235 , 8078.9062, 8420.283 , 8298.901 , 8666.485 , 8098.3096,\n",
              "        8135.737 ],\n",
              "       [7579.958 , 7937.115 , 8297.007 , 8184.2534, 8382.737 , 8262.382 ,\n",
              "        8188.8066],\n",
              "       [7656.1943, 7999.1997, 8181.27  , 8197.599 , 8071.423 , 8532.82  ,\n",
              "        8066.2773],\n",
              "       [7897.589 , 8150.4717, 8228.5625, 8181.407 , 8004.2607, 8416.353 ,\n",
              "        7740.5933]], dtype=float32)>"
            ]
          },
          "metadata": {
            "tags": []
          },
          "execution_count": 90
        }
      ]
    },
    {
      "cell_type": "code",
      "metadata": {
        "colab": {
          "base_uri": "https://localhost:8080/"
        },
        "id": "P9VQqenW-5to",
        "outputId": "c8e3b3dd-b95b-4480-d9c7-be1a7dc8d9e0"
      },
      "source": [
        "# Calculate model_3 results - these are going to be multi-dimensional because\n",
        "# we're trying to predict more than one step at a time.\n",
        "model_3_results = evaluate_preds(y_true=tf.squeeze(test_labels),\n",
        "                                 y_pred=model_3_preds)\n",
        "model_3_results"
      ],
      "execution_count": 91,
      "outputs": [
        {
          "output_type": "execute_result",
          "data": {
            "text/plain": [
              "{'mae': array([ 401.179  ,  336.05338,  504.3891 ,  537.9361 ,  516.6491 ,\n",
              "         637.1935 ,  679.31854,  526.85565,  380.38483,  253.10533,\n",
              "         324.54172,  558.0136 ,  609.5745 ,  696.54645,  563.255  ,\n",
              "         476.56927,  354.8169 ,  318.33908,  306.75955,  287.29205,\n",
              "         339.45425,  421.56293,  309.28348,  278.902  ,  248.31396,\n",
              "         184.1451 ,  217.41664,  285.02567,  353.8909 ,  293.52817,\n",
              "         252.44713,  286.6868 ,  208.42912,  356.57645,  699.70013,\n",
              "         488.76465,  460.1275 ,  422.6716 ,  321.07492,  342.52832,\n",
              "         357.363  ,  333.36908,  364.18472,  332.65723,  350.39084,\n",
              "         282.23578,  217.4548 ,  350.6497 ,  477.60687,  637.0812 ,\n",
              "         809.3462 ,  809.28674,  923.7783 ,  925.3895 ,  867.53503,\n",
              "         842.5411 ,  741.48145,  800.8515 ,  822.3583 ,  931.8459 ,\n",
              "         854.0573 ,  856.9645 ,  757.22156,  504.42258,  342.84424,\n",
              "         247.92342,  220.03725,  273.73828,  340.61057,  238.71764,\n",
              "         313.09653,  518.459  ,  784.31195, 1065.2852 , 1140.9779 ,\n",
              "        1147.7556 ,  933.11707,  677.49664,  524.0049 ,  542.3931 ,\n",
              "         500.4082 ,  576.30145,  807.0869 ,  974.52313,  889.86884,\n",
              "         955.2662 ,  961.7132 ,  815.3499 ,  599.9669 ,  597.9478 ,\n",
              "         494.28278,  357.66602,  387.7648 ,  405.93512,  316.9305 ,\n",
              "         289.7723 ,  273.50375,  202.21848,  353.61703,  520.31934,\n",
              "         570.15106,  659.1646 ,  768.14636,  617.13477,  447.51605,\n",
              "         358.04477,  229.73283,  303.82114,  531.11914,  615.9669 ,\n",
              "         625.66455,  601.2298 ,  641.31415,  908.02203, 1223.4994 ,\n",
              "        1571.9812 , 1790.1931 , 2123.642  , 2253.2234 , 2318.5728 ,\n",
              "        1345.2754 ,  610.48254,  251.51381,  524.8319 , 1012.7685 ,\n",
              "        1201.9265 , 1416.7731 , 1143.8279 ,  977.4752 ,  803.9386 ,\n",
              "         746.9886 ,  692.2093 ,  489.8137 ,  333.65912,  329.59613,\n",
              "         266.17648,  423.3323 ,  737.9495 ,  894.2923 ,  773.669  ,\n",
              "         620.1757 ,  552.9703 ,  599.1375 ,  423.76047,  444.19135,\n",
              "         387.77002,  266.1236 ,  280.1836 ,  312.61188,  184.96777,\n",
              "         200.29527,  371.3611 ,  469.9518 ,  374.89285,  510.812  ,\n",
              "         518.248  ,  470.79498,  373.87158,  500.26382,  680.784  ,\n",
              "         784.8394 ,  970.66473, 1038.9645 , 1068.6238 , 1207.6642 ,\n",
              "        1460.9716 , 1446.571  , 1508.2966 , 1215.8884 , 1025.8287 ,\n",
              "         937.0087 ,  817.0004 ,  767.3039 ,  664.56195,  674.805  ,\n",
              "         657.606  ,  562.59247,  442.9163 ,  322.38882,  193.6801 ,\n",
              "         569.99945,  893.28937,  844.5776 ,  437.24945,  378.35797,\n",
              "         490.80566,  352.3044 ,  301.89243,  262.9273 ,  274.69336,\n",
              "         340.37906,  246.37737,  306.9266 ,  503.08133,  837.73114,\n",
              "        1230.5365 , 1255.1492 ,  959.91925,  791.2337 ,  589.0917 ,\n",
              "         673.6522 ,  386.90067,  439.2221 ,  418.70383,  319.93765,\n",
              "         413.49652,  408.48953,  364.3054 ,  317.0706 ,  240.01102,\n",
              "         196.97475,  243.42104,  274.8937 ,  271.27203,  262.98715,\n",
              "         298.5434 ,  380.74805,  331.09946,  391.4615 ,  417.39398,\n",
              "         440.9936 ,  543.33734,  298.39398,  232.8323 ,  193.34041,\n",
              "         225.21596,  245.27707,  361.8521 ,  449.5095 ,  408.86078,\n",
              "         375.4898 ,  375.26297,  472.91254,  530.2831 ,  524.96484,\n",
              "         571.44464,  499.6148 ,  462.4597 ,  241.86594,  306.8488 ,\n",
              "         358.3273 ,  359.2175 ,  364.0088 ,  318.4488 ,  293.1635 ,\n",
              "         343.9121 ,  475.28363,  553.7757 ,  641.8595 ,  780.6713 ,\n",
              "        1057.751  , 1166.9952 , 1295.6088 , 1440.7382 , 1623.6195 ,\n",
              "        1883.9718 , 1919.9172 , 1405.1136 , 1156.55   ,  838.4061 ,\n",
              "         788.79047,  683.5931 ,  412.01102,  501.13504,  595.46594,\n",
              "         636.1401 ,  504.51605,  437.06027,  412.44852,  476.65555,\n",
              "         440.63742,  414.16324,  628.2133 ,  584.55316,  635.9132 ,\n",
              "         588.3126 ,  600.38116,  587.48535,  290.44418,  242.79256,\n",
              "         284.0561 ,  311.5554 ,  343.5032 ,  365.53305,  364.56976,\n",
              "         299.10742,  565.72687,  544.903  ,  656.3673 ,  658.6097 ,\n",
              "         747.071  ,  843.08344,  955.9117 ,  969.26953,  829.46094,\n",
              "         671.2868 ,  336.21707,  242.9255 ,  457.40582,  477.4816 ,\n",
              "         733.99316,  919.2984 , 1034.1589 , 1062.359  , 1019.69586,\n",
              "        1073.1212 ,  866.6836 ,  584.3676 ,  391.60883,  375.02457,\n",
              "         382.1165 ,  343.41086,  313.8482 ,  386.54086,  370.70786,\n",
              "         545.6964 ,  547.77234,  474.19196,  440.35434,  386.52176,\n",
              "         348.9262 ,  285.58246,  284.45145,  361.46722,  392.19797,\n",
              "         598.6632 ,  801.28015,  894.8788 , 1068.0873 , 1190.1078 ,\n",
              "        1196.4524 , 1115.6102 ,  798.98254,  689.4258 ,  501.41824,\n",
              "         521.5233 ,  762.25433,  944.061  , 1207.5459 , 1475.2194 ,\n",
              "        1689.5408 , 1773.0712 , 1850.6543 , 1416.4147 , 1130.6407 ,\n",
              "         962.96375,  868.3436 ,  909.4206 ,  865.6387 ,  633.964  ,\n",
              "         804.2282 , 1060.9365 , 1258.5625 , 1332.405  , 1572.1594 ,\n",
              "        1695.2565 , 1887.6212 , 1906.2333 , 1426.9017 , 1103.1598 ,\n",
              "        1287.0769 , 1163.9275 , 1363.8387 , 1632.3527 , 1635.2689 ,\n",
              "        1564.3445 , 1720.9882 , 2047.1481 , 2584.9263 , 2538.3123 ,\n",
              "        2270.7073 , 1994.9597 , 1434.1869 , 1033.4113 ,  834.7458 ,\n",
              "         881.3284 , 1039.9495 ,  918.2338 ,  548.8253 ,  813.6423 ,\n",
              "        1515.0295 , 1879.267  , 2033.7723 , 1513.0408 , 1172.7617 ,\n",
              "         919.33734,  510.58844,  576.49414,  649.1618 ,  523.00696,\n",
              "         584.046  ,  553.1429 , 1109.2897 , 2158.3499 , 3128.8416 ,\n",
              "        3693.2532 , 4166.353  , 4476.654  , 4603.0522 , 3878.1125 ,\n",
              "        3077.1267 , 2557.4832 , 2073.243  , 1954.5963 , 2199.431  ,\n",
              "        2672.7964 , 3371.7502 , 4053.5098 , 4434.898  , 4487.945  ,\n",
              "        4885.4243 , 4748.261  , 5439.614  , 5605.3306 , 6106.393  ,\n",
              "        7023.846  , 6879.98   , 6538.758  , 6772.534  , 6038.5024 ,\n",
              "        4904.012  , 3333.3203 , 2044.9113 , 2103.0247 , 2361.0334 ,\n",
              "        1405.4414 , 1635.8186 , 1226.4247 , 1493.0586 , 2074.2249 ,\n",
              "        2769.116  , 2976.467  , 2658.0042 , 2675.778  , 2548.6504 ,\n",
              "        1426.2645 , 1396.1744 , 1623.005  , 1994.8572 , 2635.868  ,\n",
              "        4292.792  , 6163.118  , 5134.66   , 4740.3193 , 4619.461  ,\n",
              "        4729.8325 , 6827.289  , 8020.8657 , 7653.2847 , 8052.1177 ,\n",
              "        8911.193  , 8931.933  , 9637.268  , 7832.332  , 5580.7095 ,\n",
              "        5511.7104 , 4622.414  , 4669.833  , 5031.41   , 4962.601  ,\n",
              "        6176.562  , 5867.1475 , 4223.322  , 4150.637  , 4166.1685 ,\n",
              "        5250.5933 , 6109.4673 , 5981.3364 , 4575.267  , 3055.9067 ,\n",
              "        1319.7701 , 1647.9961 , 2498.0457 , 5328.36   , 5303.9585 ,\n",
              "        5909.861  , 5750.3115 , 7023.6343 , 7375.8564 , 8516.239  ,\n",
              "        9233.307  , 9641.2705 , 8200.251  , 7419.7354 , 6204.292  ,\n",
              "        4808.9067 , 3126.5715 , 1007.50165, 1469.0675 , 3121.4543 ,\n",
              "        2982.865  , 4423.2515 , 4177.722  , 3278.006  , 2087.1272 ,\n",
              "        1983.476  , 1596.7673 , 3241.039  , 4826.1753 , 5699.8276 ,\n",
              "        5620.517  , 5990.512  , 5319.704  , 5035.683  , 3620.4146 ,\n",
              "        2542.3281 , 2206.9934 , 2341.7466 , 1886.9681 , 2335.438  ,\n",
              "        3990.345  , 5255.9243 , 5570.0474 , 6605.106  , 5841.4346 ,\n",
              "        3925.4956 , 4052.1511 , 3601.4558 , 4278.513  , 5189.9756 ,\n",
              "        6049.9956 , 6029.13   , 5448.1323 , 4903.3228 , 3516.0703 ,\n",
              "        1935.0642 , 1790.7584 , 3417.8755 , 5260.058  , 7820.649  ,\n",
              "        7458.0454 , 5762.3423 , 5316.5312 , 5527.322  , 4483.8643 ,\n",
              "        3320.5999 , 3402.7026 , 3082.74   , 4253.0933 , 3315.4214 ,\n",
              "        3765.2517 , 3838.6206 , 4451.167  , 6157.1406 , 6868.818  ],\n",
              "       dtype=float32),\n",
              " 'mape': array([ 4.8215594,  4.108418 ,  6.365674 ,  7.0144057,  6.9866323,\n",
              "         8.661967 ,  9.347292 ,  7.312095 ,  5.277512 ,  3.464201 ,\n",
              "         4.3994794,  7.514686 ,  8.181439 ,  9.306557 ,  7.5372934,\n",
              "         6.3427486,  4.757242 ,  4.2871976,  4.140028 ,  3.8833897,\n",
              "         4.584912 ,  5.653056 ,  4.1318393,  3.737204 ,  3.346498 ,\n",
              "         2.5422075,  3.038927 ,  4.0860076,  5.076944 ,  4.212258 ,\n",
              "         3.6511831,  4.1044526,  2.920375 ,  4.9440923,  9.627564 ,\n",
              "         6.7897124,  6.3862214,  5.8386884,  4.444195 ,  4.7219543,\n",
              "         4.918145 ,  4.600853 ,  5.02913  ,  4.5867143,  4.817361 ,\n",
              "         3.8627415,  2.9935265,  4.7832036,  6.3000426,  8.322755 ,\n",
              "        10.507445 , 10.33561  , 11.7134   , 11.565222 , 10.75442  ,\n",
              "        10.246882 ,  8.823425 ,  9.455763 ,  9.532156 , 10.71829  ,\n",
              "         9.766763 ,  9.748404 ,  8.617632 ,  5.741828 ,  3.8789768,\n",
              "         2.8251793,  2.578342 ,  3.2089942,  3.9606712,  2.7402062,\n",
              "         3.5267081,  5.7346373,  8.618551 , 11.594997 , 12.271861 ,\n",
              "        12.298078 ,  9.968978 ,  7.1737366,  5.518833 ,  5.6842837,\n",
              "         5.2074037,  5.9071174,  8.25722  ,  9.8379965,  8.885077 ,\n",
              "         9.46416  ,  9.444157 ,  8.025547 ,  5.912686 ,  5.84479  ,\n",
              "         4.84656  ,  3.5602412,  3.9075131,  4.1736646,  3.2489398,\n",
              "         2.9393833,  2.7388756,  2.07932  ,  3.7304394,  5.624821 ,\n",
              "         6.1848035,  7.1975217,  8.659552 ,  7.0306473,  5.141104 ,\n",
              "         4.102058 ,  2.6215734,  3.4228466,  5.986389 ,  6.9114866,\n",
              "         7.1129346,  6.8711333,  7.3725066, 12.707175 , 19.074007 ,\n",
              "        26.683983 , 32.026234 , 38.758774 , 41.493347 , 43.28558  ,\n",
              "        25.03182  , 11.338449 ,  4.440511 ,  8.805554 , 16.786854 ,\n",
              "        19.225683 , 22.139763 , 17.646896 , 14.995667 , 12.308617 ,\n",
              "        11.379131 , 10.483198 ,  7.455807 ,  5.2081594,  5.0802383,\n",
              "         4.1015635,  6.3770547, 11.006076 , 13.123171 , 11.214297 ,\n",
              "         8.815276 ,  7.7472935,  8.451477 ,  5.957704 ,  6.1664615,\n",
              "         5.4556003,  3.7006338,  4.027273 ,  4.55419  ,  2.6914587,\n",
              "         2.8355088,  5.2340145,  6.662799 ,  5.2864428,  7.1679316,\n",
              "         7.1647167,  6.4491377,  5.0981154,  6.7664742,  9.139104 ,\n",
              "        10.383137 , 12.201675 , 12.730932 , 12.739984 , 14.12224  ,\n",
              "        16.925657 , 16.500689 , 16.996035 , 13.532461 , 11.095056 ,\n",
              "         9.916555 ,  8.592441 ,  8.076018 ,  6.966602 ,  7.0269217,\n",
              "         6.829161 ,  6.062665 ,  4.9434085,  3.6252477,  2.012941 ,\n",
              "         6.0145283,  9.312449 ,  8.779163 ,  4.5789003,  3.9495804,\n",
              "         5.0999312,  3.6661127,  3.191999 ,  2.8599775,  3.0606318,\n",
              "         3.7355986,  2.7092938,  3.3038933,  5.3967776,  8.761071 ,\n",
              "        12.823693 , 12.94069  ,  9.854121 ,  8.1258545,  5.974802 ,\n",
              "         6.8394313,  3.9928908,  4.5085073,  4.2840056,  3.3042014,\n",
              "         4.2796526,  4.2069674,  3.7430997,  3.264692 ,  2.4846082,\n",
              "         2.0997024,  2.5755112,  2.9186578,  2.888439 ,  2.7819016,\n",
              "         3.1397264,  4.008702 ,  3.5106268,  4.1532917,  4.429919 ,\n",
              "         4.6798735,  5.7493424,  3.1881545,  2.5283155,  2.1037822,\n",
              "         2.4673116,  2.6921794,  3.9573066,  4.9155736,  4.455506 ,\n",
              "         4.0885477,  4.075238 ,  5.1296945,  5.7526054,  5.6782336,\n",
              "         6.150481 ,  5.372128 ,  4.959814 ,  2.6176696,  3.3240833,\n",
              "         3.8791842,  3.8900156,  3.9491389,  3.4569707,  3.1771963,\n",
              "         3.7092357,  5.0884438,  5.905875 ,  6.792926 ,  8.155747 ,\n",
              "        10.504693 , 11.298919 , 12.191616 , 13.387783 , 14.841167 ,\n",
              "        16.862057 , 17.030052 , 12.444746 , 10.2063465,  7.3467073,\n",
              "         6.8176584,  5.885929 ,  3.561375 ,  4.332318 ,  5.1134443,\n",
              "         5.4314795,  4.302441 ,  3.7356641,  3.519338 ,  4.0641556,\n",
              "         3.740483 ,  3.4784477,  5.277531 ,  4.8973775,  5.308613 ,\n",
              "         4.906379 ,  4.978875 ,  4.8647513,  2.441672 ,  2.064805 ,\n",
              "         2.44443  ,  2.6840148,  2.9662347,  3.146361 ,  3.1500232,\n",
              "         2.5959282,  4.887456 ,  4.70942  ,  5.666386 ,  5.7202024,\n",
              "         6.693655 ,  7.7315083,  8.94717  ,  9.386223 ,  8.1288   ,\n",
              "         6.5549483,  3.278425 ,  2.3590639,  4.4366384,  4.607972 ,\n",
              "         7.0087442,  8.670334 ,  9.685259 ,  9.882898 ,  9.415984 ,\n",
              "         9.863767 ,  7.9485483,  5.3476086,  3.5878134,  3.4450617,\n",
              "         3.5382054,  3.2228005,  2.9601927,  3.6267478,  3.4818552,\n",
              "         5.0807095,  5.0967298,  4.4140773,  4.088411 ,  3.590307 ,\n",
              "         3.249908 ,  2.675003 ,  2.6798632,  3.3870864,  3.6416988,\n",
              "         5.4833527,  7.284588 ,  8.01664  ,  9.5173855, 10.521603 ,\n",
              "        10.496188 ,  9.762827 ,  6.9717703,  5.99701  ,  4.358245 ,\n",
              "         4.488852 ,  6.28911  ,  7.5981684,  9.634051 , 11.618055 ,\n",
              "        13.208874 , 13.712215 , 14.039604 , 10.724239 ,  8.526586 ,\n",
              "         7.210505 ,  6.4572616,  6.7050533,  6.3495755,  4.655435 ,\n",
              "         5.8319664,  7.430976 ,  8.603974 ,  9.025786 , 10.4997225,\n",
              "        11.27112  , 12.405163 , 12.338708 ,  9.152865 ,  6.9639726,\n",
              "         8.125916 ,  7.3458614,  8.446244 ,  9.854222 ,  9.677438 ,\n",
              "         9.067717 ,  9.756611 , 11.486148 , 14.323235 , 13.899975 ,\n",
              "        12.300687 , 10.728862 ,  7.697504 ,  5.599619 ,  4.606987 ,\n",
              "         4.9014974,  5.66868  ,  5.045687 ,  2.972834 ,  4.2883534,\n",
              "         8.043391 ,  9.862415 , 10.607374 ,  7.912674 ,  6.127065 ,\n",
              "         4.8195386,  2.7009857,  3.0573847,  3.4469702,  2.7890286,\n",
              "         3.1274314,  2.931646 ,  5.634496 , 10.403509 , 14.780905 ,\n",
              "        16.844711 , 18.531128 , 19.694134 , 19.958628 , 16.6422   ,\n",
              "        13.123755 , 10.75478  ,  8.463033 ,  7.7682495,  8.547631 ,\n",
              "        10.288078 , 12.588798 , 14.840974 , 15.922297 , 15.451278 ,\n",
              "        16.206327 , 15.476894 , 17.15345  , 16.966347 , 17.410238 ,\n",
              "        19.187662 , 18.19531  , 16.97474  , 17.65859  , 15.65551  ,\n",
              "        12.551374 ,  8.66152  ,  5.5895953,  5.9223866,  6.6063194,\n",
              "         3.8842392,  4.3890996,  3.3034217,  4.5474973,  6.28896  ,\n",
              "         8.420851 ,  9.008187 ,  8.228849 ,  8.276329 ,  8.034677 ,\n",
              "         4.4849124,  4.3225474,  4.920772 ,  5.986637 ,  7.862063 ,\n",
              "        12.5997305, 17.683603 , 14.414843 , 13.0400915, 12.312241 ,\n",
              "        12.587918 , 17.295702 , 19.312225 , 17.923157 , 18.19726  ,\n",
              "        19.584583 , 19.377495 , 20.465374 , 16.529718 , 11.656104 ,\n",
              "        11.225618 ,  9.289132 ,  9.058002 ,  9.544841 ,  9.186968 ,\n",
              "        11.427713 , 10.774444 ,  7.7353826,  7.6224394,  8.178432 ,\n",
              "        10.743044 , 12.899949 , 12.745314 ,  9.788372 ,  6.560351 ,\n",
              "         2.8309405,  3.3669431,  5.080893 , 10.809534 , 10.6319685,\n",
              "        11.564316 , 10.883427 , 12.975083 , 13.465164 , 15.117693 ,\n",
              "        16.043922 , 16.641088 , 14.120992 , 12.701564 , 10.580044 ,\n",
              "         8.148832 ,  5.3246984,  1.7366496,  2.5762975,  5.483756 ,\n",
              "         5.3768034,  8.044747 ,  7.6838994,  6.0364256,  3.904481 ,\n",
              "         3.6415505,  2.8307536,  5.704591 ,  8.417573 ,  9.876223 ,\n",
              "         9.704756 , 10.266488 ,  9.074777 ,  8.609443 ,  6.2136087,\n",
              "         4.3764462,  3.8042762,  4.003226 ,  3.2206838,  3.979    ,\n",
              "         6.6806936,  8.726891 ,  9.085136 , 10.710381 ,  9.468055 ,\n",
              "         6.2970347,  6.527396 ,  5.954646 ,  7.380362 ,  9.318662 ,\n",
              "        11.234443 , 11.524389 , 10.732846 ,  9.626723 ,  6.911075 ,\n",
              "         3.818446 ,  3.5124898,  6.316357 ,  9.549759 , 14.098353 ,\n",
              "        13.281886 , 10.305077 ,  9.424434 ,  9.6845875,  7.8606052,\n",
              "         5.7862062,  5.9202085,  5.387668 ,  7.4099174,  5.8514585,\n",
              "         6.7833915,  7.0340385,  8.702679 , 12.433256 , 14.467606 ],\n",
              "       dtype=float32),\n",
              " 'mase': 3.0901449,\n",
              " 'mse': array([2.18394047e+05, 1.68758219e+05, 3.62767094e+05, 4.63597188e+05,\n",
              "        3.88696531e+05, 5.34338312e+05, 5.56196750e+05, 3.96211156e+05,\n",
              "        1.81477828e+05, 1.03975484e+05, 1.29766883e+05, 3.32113188e+05,\n",
              "        4.18536969e+05, 5.51155438e+05, 4.07363781e+05, 3.36658312e+05,\n",
              "        2.14494781e+05, 1.46556984e+05, 1.25915055e+05, 9.72844844e+04,\n",
              "        1.27784812e+05, 2.56373266e+05, 1.67764000e+05, 1.56861984e+05,\n",
              "        1.57524719e+05, 6.35100703e+04, 5.74357109e+04, 1.30418391e+05,\n",
              "        1.82670016e+05, 1.27990586e+05, 9.65284922e+04, 1.38066828e+05,\n",
              "        5.54619102e+04, 1.72322781e+05, 5.85034625e+05, 2.50824953e+05,\n",
              "        2.47315297e+05, 2.33778750e+05, 1.38650141e+05, 1.44540875e+05,\n",
              "        1.69225922e+05, 1.44783516e+05, 1.45540141e+05, 1.47340703e+05,\n",
              "        1.76949797e+05, 1.32333266e+05, 7.53248516e+04, 1.60013844e+05,\n",
              "        3.29414344e+05, 4.73505500e+05, 7.07502000e+05, 7.01528375e+05,\n",
              "        8.66985062e+05, 8.85737688e+05, 8.12368125e+05, 8.12640812e+05,\n",
              "        6.98218062e+05, 7.18526000e+05, 7.86265938e+05, 9.30842000e+05,\n",
              "        7.73309812e+05, 7.78422375e+05, 6.19889062e+05, 3.03630094e+05,\n",
              "        2.24776156e+05, 1.41564375e+05, 6.95365859e+04, 8.88662422e+04,\n",
              "        1.30794578e+05, 9.48397969e+04, 1.45014500e+05, 3.45846781e+05,\n",
              "        6.55048938e+05, 1.14948262e+06, 1.32658625e+06, 1.33937188e+06,\n",
              "        9.18392375e+05, 5.51199938e+05, 3.86808188e+05, 3.69958156e+05,\n",
              "        3.02382531e+05, 3.87827969e+05, 6.76755438e+05, 9.90905562e+05,\n",
              "        8.18259062e+05, 9.39796000e+05, 9.93900188e+05, 7.04055562e+05,\n",
              "        3.89488438e+05, 5.34450438e+05, 3.71601969e+05, 1.80736719e+05,\n",
              "        1.96947250e+05, 1.93715172e+05, 1.27822820e+05, 1.34325828e+05,\n",
              "        2.14647078e+05, 7.47036016e+04, 1.67104781e+05, 3.90261844e+05,\n",
              "        4.39004312e+05, 5.09716719e+05, 6.10845062e+05, 4.49045219e+05,\n",
              "        2.61490734e+05, 1.39949078e+05, 8.41705156e+04, 1.19359359e+05,\n",
              "        3.18759344e+05, 4.58567312e+05, 4.59321188e+05, 4.57858188e+05,\n",
              "        5.95579375e+05, 1.27385925e+06, 2.51031875e+06, 4.08333075e+06,\n",
              "        5.15466100e+06, 5.67223600e+06, 5.70029250e+06, 5.59032400e+06,\n",
              "        2.00768500e+06, 5.33811938e+05, 8.16079375e+04, 3.52259281e+05,\n",
              "        1.19716325e+06, 1.63101938e+06, 2.19361950e+06, 1.49479838e+06,\n",
              "        1.02384100e+06, 7.17441688e+05, 6.33481438e+05, 6.02585875e+05,\n",
              "        2.98991750e+05, 1.53179641e+05, 1.47295578e+05, 8.91220078e+04,\n",
              "        2.12081359e+05, 5.71778125e+05, 8.49942188e+05, 6.47570000e+05,\n",
              "        5.11557906e+05, 3.65824844e+05, 4.18343781e+05, 3.17712469e+05,\n",
              "        2.78411906e+05, 1.79448047e+05, 1.38771938e+05, 1.06883680e+05,\n",
              "        1.61594125e+05, 5.63775820e+04, 6.08917773e+04, 1.76808406e+05,\n",
              "        2.46261359e+05, 2.03131953e+05, 3.21312719e+05, 3.63447281e+05,\n",
              "        2.98036250e+05, 1.84588859e+05, 3.06532094e+05, 4.76839906e+05,\n",
              "        6.43690500e+05, 1.17491588e+06, 1.33163262e+06, 1.41734975e+06,\n",
              "        1.70604000e+06, 2.24977425e+06, 2.17835625e+06, 2.29143200e+06,\n",
              "        1.54837488e+06, 1.22997812e+06, 1.10682212e+06, 7.84517562e+05,\n",
              "        7.18561938e+05, 5.64729062e+05, 6.81305500e+05, 6.72832438e+05,\n",
              "        3.70400781e+05, 3.10442594e+05, 1.81234750e+05, 1.00821461e+05,\n",
              "        3.60950188e+05, 8.61435562e+05, 7.84706125e+05, 2.40779656e+05,\n",
              "        2.24059078e+05, 4.21548000e+05, 2.68693188e+05, 1.56541391e+05,\n",
              "        1.09047578e+05, 1.31803047e+05, 1.27703812e+05, 8.21677891e+04,\n",
              "        1.30352859e+05, 2.79316250e+05, 7.78677125e+05, 1.58851800e+06,\n",
              "        1.71511025e+06, 1.03167500e+06, 6.81627062e+05, 5.10990750e+05,\n",
              "        6.15644188e+05, 1.92602547e+05, 2.66705312e+05, 2.76482656e+05,\n",
              "        1.17673773e+05, 1.78167125e+05, 2.12594375e+05, 2.41035391e+05,\n",
              "        2.17696000e+05, 1.44988703e+05, 5.98341289e+04, 1.05571867e+05,\n",
              "        1.43562094e+05, 1.36186578e+05, 1.70927641e+05, 1.67332078e+05,\n",
              "        2.58429719e+05, 1.46192766e+05, 2.45590094e+05, 2.22771656e+05,\n",
              "        2.62026891e+05, 4.47960156e+05, 1.50063844e+05, 9.78087656e+04,\n",
              "        7.60156172e+04, 1.34697594e+05, 9.01826172e+04, 1.81227328e+05,\n",
              "        2.75825062e+05, 2.23016797e+05, 2.22208672e+05, 1.97703406e+05,\n",
              "        2.66887031e+05, 3.07065562e+05, 3.32141844e+05, 3.70795156e+05,\n",
              "        3.10236156e+05, 3.11301406e+05, 9.14349375e+04, 1.52294391e+05,\n",
              "        1.95705281e+05, 1.78749344e+05, 1.94203531e+05, 1.67080672e+05,\n",
              "        1.41106219e+05, 1.58494641e+05, 2.84820531e+05, 3.44519688e+05,\n",
              "        4.25206906e+05, 6.45827812e+05, 1.42339488e+06, 1.71292500e+06,\n",
              "        2.11601150e+06, 2.39949825e+06, 2.84680925e+06, 3.73114025e+06,\n",
              "        3.74113775e+06, 2.03980188e+06, 1.38632388e+06, 7.86939125e+05,\n",
              "        7.87031312e+05, 6.08745062e+05, 2.09194016e+05, 2.62918438e+05,\n",
              "        3.85843688e+05, 5.15980750e+05, 3.85193312e+05, 2.61995172e+05,\n",
              "        2.85680469e+05, 3.19204969e+05, 2.95672844e+05, 2.59342219e+05,\n",
              "        4.45927781e+05, 3.92480812e+05, 5.19491062e+05, 4.41409531e+05,\n",
              "        5.85483000e+05, 6.20734062e+05, 1.79701078e+05, 1.27598047e+05,\n",
              "        1.15239477e+05, 1.80686297e+05, 2.04849469e+05, 2.52010906e+05,\n",
              "        2.63771531e+05, 1.43162156e+05, 4.25804250e+05, 3.44467312e+05,\n",
              "        5.47532875e+05, 5.35914125e+05, 6.28405938e+05, 9.24624125e+05,\n",
              "        9.86886375e+05, 1.15358712e+06, 8.58715188e+05, 5.06396250e+05,\n",
              "        1.61716047e+05, 9.37310625e+04, 3.23093156e+05, 2.58083578e+05,\n",
              "        6.26181000e+05, 9.30261688e+05, 1.17419075e+06, 1.17356488e+06,\n",
              "        1.07095412e+06, 1.19360725e+06, 8.23930000e+05, 4.59044156e+05,\n",
              "        3.04048688e+05, 2.60149219e+05, 2.81347938e+05, 1.80753906e+05,\n",
              "        1.16177977e+05, 1.95063609e+05, 1.78995031e+05, 3.76756656e+05,\n",
              "        4.09616438e+05, 3.36495969e+05, 3.89474719e+05, 3.01483062e+05,\n",
              "        2.59474156e+05, 1.49222594e+05, 1.11724492e+05, 2.00556969e+05,\n",
              "        2.05994469e+05, 4.59578406e+05, 7.13337375e+05, 8.81883688e+05,\n",
              "        1.17844638e+06, 1.43836362e+06, 1.46535425e+06, 1.27967212e+06,\n",
              "        7.27346125e+05, 6.01569938e+05, 3.38459938e+05, 3.89162781e+05,\n",
              "        9.06176000e+05, 1.28410862e+06, 1.79038775e+06, 2.46438750e+06,\n",
              "        2.96442075e+06, 3.23210525e+06, 3.58352350e+06, 2.13931825e+06,\n",
              "        1.37329375e+06, 1.04782981e+06, 8.05655438e+05, 9.09943375e+05,\n",
              "        8.12113688e+05, 4.42480469e+05, 7.11187438e+05, 1.47523188e+06,\n",
              "        2.01802138e+06, 2.23580625e+06, 2.95967375e+06, 3.03761025e+06,\n",
              "        3.74514675e+06, 3.87894625e+06, 2.29854325e+06, 1.55079075e+06,\n",
              "        1.81006588e+06, 1.37215638e+06, 2.02273462e+06, 3.10027550e+06,\n",
              "        3.15445950e+06, 3.01863175e+06, 3.65274575e+06, 4.56892950e+06,\n",
              "        6.82069150e+06, 6.52608800e+06, 5.23448300e+06, 4.09281600e+06,\n",
              "        2.33178275e+06, 1.37550000e+06, 8.49564500e+05, 1.08891875e+06,\n",
              "        1.35078100e+06, 9.31294625e+05, 3.96726250e+05, 9.22194812e+05,\n",
              "        2.36293625e+06, 3.76144775e+06, 4.42487550e+06, 2.55162750e+06,\n",
              "        1.67016662e+06, 1.36266912e+06, 4.96635781e+05, 4.95821719e+05,\n",
              "        6.06989125e+05, 4.29008500e+05, 4.50752438e+05, 3.89585438e+05,\n",
              "        1.76664975e+06, 6.93643750e+06, 1.19186010e+07, 1.63104800e+07,\n",
              "        2.00296500e+07, 2.11942760e+07, 2.14775160e+07, 1.51604420e+07,\n",
              "        9.87010400e+06, 7.43247200e+06, 5.81331450e+06, 5.48368800e+06,\n",
              "        6.84248450e+06, 8.59092100e+06, 1.35780460e+07, 1.78745760e+07,\n",
              "        2.05630300e+07, 2.31133140e+07, 2.80038940e+07, 2.55407820e+07,\n",
              "        3.32371040e+07, 3.68157880e+07, 4.73191000e+07, 6.04328880e+07,\n",
              "        5.72356800e+07, 5.05059320e+07, 4.99821480e+07, 4.21295880e+07,\n",
              "        3.10119200e+07, 1.33395910e+07, 6.09234300e+06, 6.40385550e+06,\n",
              "        6.22189600e+06, 2.36609625e+06, 4.58449600e+06, 3.20728850e+06,\n",
              "        5.38904250e+06, 7.69431900e+06, 1.17983390e+07, 9.88873600e+06,\n",
              "        1.08455610e+07, 7.94259550e+06, 7.90830550e+06, 3.30148075e+06,\n",
              "        2.39259425e+06, 3.02233425e+06, 4.69679600e+06, 7.71538050e+06,\n",
              "        2.06583720e+07, 3.98451400e+07, 2.97421460e+07, 2.79425640e+07,\n",
              "        2.77481740e+07, 2.43408180e+07, 5.30114000e+07, 7.75898160e+07,\n",
              "        6.99021040e+07, 7.65347760e+07, 9.08292400e+07, 8.65895120e+07,\n",
              "        9.63552080e+07, 6.18186440e+07, 3.24852300e+07, 3.46283880e+07,\n",
              "        2.41527060e+07, 2.79153420e+07, 3.28139100e+07, 3.05983720e+07,\n",
              "        4.08715160e+07, 4.04228360e+07, 2.49253660e+07, 2.47372660e+07,\n",
              "        2.01728100e+07, 3.02986980e+07, 4.08837520e+07, 4.01488520e+07,\n",
              "        2.79971800e+07, 1.39697920e+07, 2.85866175e+06, 3.78239525e+06,\n",
              "        9.00682100e+06, 3.07906280e+07, 3.19864960e+07, 4.09219240e+07,\n",
              "        4.47409320e+07, 6.31490240e+07, 6.13757320e+07, 7.91153680e+07,\n",
              "        9.14104880e+07, 9.81111600e+07, 6.79511440e+07, 5.74934840e+07,\n",
              "        4.20120760e+07, 2.75748300e+07, 1.40256820e+07, 1.47340200e+06,\n",
              "        4.29118100e+06, 1.22643380e+07, 1.18167430e+07, 2.44479680e+07,\n",
              "        1.91120700e+07, 1.47948150e+07, 7.50770750e+06, 6.11557350e+06,\n",
              "        5.45970700e+06, 1.23269120e+07, 2.64474620e+07, 3.29127960e+07,\n",
              "        3.22215540e+07, 3.79827840e+07, 3.10893440e+07, 2.70612040e+07,\n",
              "        1.46143460e+07, 7.72565650e+06, 6.63100000e+06, 8.65422100e+06,\n",
              "        5.97878000e+06, 6.68931050e+06, 1.82051060e+07, 2.91386400e+07,\n",
              "        3.32653660e+07, 4.59944520e+07, 3.56627320e+07, 2.16554240e+07,\n",
              "        2.39733300e+07, 1.90463660e+07, 2.18143340e+07, 3.06732580e+07,\n",
              "        4.46564920e+07, 4.97795320e+07, 4.37999160e+07, 3.36698360e+07,\n",
              "        1.74557260e+07, 6.80639600e+06, 5.38509350e+06, 1.49356660e+07,\n",
              "        3.16599680e+07, 6.41591480e+07, 6.01912520e+07, 3.40577280e+07,\n",
              "        3.17789660e+07, 3.67092600e+07, 2.46222260e+07, 1.43439020e+07,\n",
              "        1.43859430e+07, 1.11098780e+07, 2.02040600e+07, 1.26446690e+07,\n",
              "        1.60555450e+07, 2.06807540e+07, 2.57645660e+07, 4.31701560e+07,\n",
              "        5.82550360e+07], dtype=float32),\n",
              " 'rmse': array([ 467.3265 ,  410.80194,  602.30145,  680.8797 ,  623.4553 ,\n",
              "         730.9845 ,  745.786  ,  629.45306,  426.00214,  322.4523 ,\n",
              "         360.23172,  576.29266,  646.94434,  742.39844,  638.25055,\n",
              "         580.2226 ,  463.1358 ,  382.8276 ,  354.84512,  311.90457,\n",
              "         357.47003,  506.3332 ,  409.59003,  396.05807,  396.89383,\n",
              "         252.01207,  239.65747,  361.13486,  427.39908,  357.75772,\n",
              "         310.6903 ,  371.57346,  235.5035 ,  415.1178 ,  764.8756 ,\n",
              "         500.82428,  497.30804,  483.50674,  372.35754,  380.1853 ,\n",
              "         411.37073,  380.50433,  381.49722,  383.84985,  420.654  ,\n",
              "         363.77637,  274.4537 ,  400.01727,  573.9463 ,  688.1173 ,\n",
              "         841.1314 ,  837.5729 ,  931.1203 ,  941.13635,  901.31464,\n",
              "         901.4659 ,  835.5945 ,  847.6591 ,  886.7164 ,  964.8016 ,\n",
              "         879.3803 ,  882.2824 ,  787.3303 ,  551.02637,  474.10562,\n",
              "         376.2504 ,  263.6979 ,  298.10443,  361.65533,  307.9607 ,\n",
              "         380.8077 ,  588.0874 ,  809.35095, 1072.1393 , 1151.7753 ,\n",
              "        1157.3123 ,  958.32794,  742.4284 ,  621.939  ,  608.2419 ,\n",
              "         549.8932 ,  622.75836,  822.6515 ,  995.44244,  904.57666,\n",
              "         969.4308 ,  996.9454 ,  839.08014,  624.0901 ,  731.06116,\n",
              "         609.5916 ,  425.13138,  443.78738,  440.13086,  357.52316,\n",
              "         366.50485,  463.30017,  273.31958,  408.78452,  624.7094 ,\n",
              "         662.57404,  713.94446,  781.5658 ,  670.1084 ,  511.3616 ,\n",
              "         374.0977 ,  290.12155,  345.48425,  564.5877 ,  677.17596,\n",
              "         677.7324 ,  676.65216,  771.7378 , 1128.6537 , 1584.3986 ,\n",
              "        2020.7253 , 2270.388  , 2381.6458 , 2387.5286 , 2364.3865 ,\n",
              "        1416.928  ,  730.6244 ,  285.671  ,  593.51434, 1094.1495 ,\n",
              "        1277.1136 , 1481.0873 , 1222.6194 , 1011.8502 ,  847.0193 ,\n",
              "         795.91547,  776.26404,  546.80133,  391.3817 ,  383.79108,\n",
              "         298.53308,  460.5229 ,  756.16016,  921.9231 ,  804.71735,\n",
              "         715.2328 ,  604.83453,  646.795  ,  563.65985,  527.6475 ,\n",
              "         423.6131 ,  372.52106,  326.9307 ,  401.98773,  237.43964,\n",
              "         246.76259,  420.4859 ,  496.24725,  450.7016 ,  566.8445 ,\n",
              "         602.86584,  545.92694,  429.63806,  553.65344,  690.53595,\n",
              "         802.3032 , 1083.9353 , 1153.964  , 1190.5249 , 1306.1547 ,\n",
              "        1499.9248 , 1475.9255 , 1513.7476 , 1244.3373 , 1109.0438 ,\n",
              "        1052.0562 ,  885.7299 ,  847.68036,  751.4845 ,  825.41223,\n",
              "         820.2636 ,  608.6056 ,  557.17377,  425.71674,  317.52393,\n",
              "         600.79126,  928.1355 ,  885.8365 ,  490.69305,  473.3488 ,\n",
              "         649.2673 ,  518.3562 ,  395.65308,  330.22354,  363.0469 ,\n",
              "         357.35666,  286.64926,  361.04416,  528.5038 ,  882.42676,\n",
              "        1260.3641 , 1309.6222 , 1015.714  ,  825.6071 ,  714.8361 ,\n",
              "         784.63   ,  438.86508,  516.4352 ,  525.81616,  343.03613,\n",
              "         422.09848,  461.0796 ,  490.95355,  466.57904,  380.7738 ,\n",
              "         244.61017,  324.91824,  378.89587,  369.03464,  413.43396,\n",
              "         409.06244,  508.3598 ,  382.35162,  495.57043,  471.98697,\n",
              "         511.8856 ,  669.2983 ,  387.38074,  312.74393,  275.7093 ,\n",
              "         367.0117 ,  300.3042 ,  425.708  ,  525.1905 ,  472.24658,\n",
              "         471.39008,  444.6385 ,  516.6111 ,  554.135  ,  576.31744,\n",
              "         608.92957,  556.98846,  557.9439 ,  302.3821 ,  390.24915,\n",
              "         442.3859 ,  422.78757,  440.68527,  408.75504,  375.64108,\n",
              "         398.11383,  533.6858 ,  586.95795,  652.0789 ,  803.6341 ,\n",
              "        1193.061  , 1308.7876 , 1454.6516 , 1549.0314 , 1687.2489 ,\n",
              "        1931.616  , 1934.2021 , 1428.2164 , 1177.4226 ,  887.0958 ,\n",
              "         887.1478 ,  780.22107,  457.37735,  512.7557 ,  621.1632 ,\n",
              "         718.31805,  620.6394 ,  511.8546 ,  534.4908 ,  564.98224,\n",
              "         543.75806,  509.25653,  667.7782 ,  626.48285,  720.7573 ,\n",
              "         664.3866 ,  765.1686 ,  787.86676,  423.91162,  357.2087 ,\n",
              "         339.4694 ,  425.0721 ,  452.60297,  502.00684,  513.5869 ,\n",
              "         378.36777,  652.53674,  586.9134 ,  739.95465,  732.0615 ,\n",
              "         792.7206 ,  961.5738 ,  993.4215 , 1074.0518 ,  926.6688 ,\n",
              "         711.61523,  402.1393 ,  306.15527,  568.41284,  508.01932,\n",
              "         791.3159 ,  964.50073, 1083.6008 , 1083.3119 , 1034.8691 ,\n",
              "        1092.5233 ,  907.7059 ,  677.528  ,  551.40607,  510.04825,\n",
              "         530.4224 ,  425.1516 ,  340.8489 ,  441.66006,  423.07803,\n",
              "         613.80505,  640.0129 ,  580.0827 ,  624.0791 ,  549.07477,\n",
              "         509.38608,  386.29337,  334.25214,  447.83588,  453.86615,\n",
              "         677.9221 ,  844.59296,  939.0866 , 1085.5626 , 1199.318  ,\n",
              "        1210.5182 , 1131.226  ,  852.8459 ,  775.6093 ,  581.7731 ,\n",
              "         623.82916,  951.9327 , 1133.185  , 1338.0537 , 1569.8367 ,\n",
              "        1721.7491 , 1797.8058 , 1893.0197 , 1462.6409 , 1171.8761 ,\n",
              "        1023.63556,  897.5831 ,  953.9096 ,  901.1735 ,  665.192  ,\n",
              "         843.3192 , 1214.5913 , 1420.5709 , 1495.2612 , 1720.3701 ,\n",
              "        1742.8741 , 1935.2383 , 1969.5039 , 1516.0948 , 1245.3075 ,\n",
              "        1345.387  , 1171.3907 , 1422.2288 , 1760.7599 , 1776.0798 ,\n",
              "        1737.421  , 1911.2157 , 2137.5056 , 2611.6455 , 2554.6208 ,\n",
              "        2287.8992 , 2023.071  , 1527.0176 , 1172.8171 ,  921.71826,\n",
              "        1043.5127 , 1162.2311 ,  965.0361 ,  629.86206,  960.3098 ,\n",
              "        1537.1846 , 1939.4453 , 2103.5388 , 1597.3815 , 1292.3492 ,\n",
              "        1167.3341 ,  704.72394,  704.14606,  779.09503,  654.9874 ,\n",
              "         671.381  ,  624.1678 , 1329.1539 , 2633.7117 , 3452.3328 ,\n",
              "        4038.6233 , 4475.4497 , 4603.724  , 4634.384  , 3893.641  ,\n",
              "        3141.6719 , 2726.256  , 2411.0815 , 2341.7275 , 2615.8142 ,\n",
              "        2931.0273 , 3684.8403 , 4227.8335 , 4534.6475 , 4807.6304 ,\n",
              "        5291.8706 , 5053.7886 , 5765.163  , 6067.6016 , 6878.888  ,\n",
              "        7773.8594 , 7565.426  , 7106.7524 , 7069.805  , 6490.7305 ,\n",
              "        5568.8345 , 3652.3403 , 2468.267  , 2530.584  , 2494.3728 ,\n",
              "        1538.212  , 2141.1436 , 1790.8904 , 2321.4312 , 2773.8638 ,\n",
              "        3434.871  , 3144.6357 , 3293.26   , 2818.261  , 2812.171  ,\n",
              "        1816.9976 , 1546.8014 , 1738.4861 , 2167.2092 , 2777.6575 ,\n",
              "        4545.148  , 6312.3    , 5453.636  , 5286.0723 , 5267.6533 ,\n",
              "        4933.6416 , 7280.8926 , 8808.508  , 8360.747  , 8748.416  ,\n",
              "        9530.437  , 9305.348  , 9816.068  , 7862.484  , 5699.5815 ,\n",
              "        5884.5884 , 4914.54   , 5283.497  , 5728.3423 , 5531.5796 ,\n",
              "        6393.083  , 6357.896  , 4992.5312 , 4973.657  , 4491.415  ,\n",
              "        5504.426  , 6394.04   , 6336.3125 , 5291.236  , 3737.6182 ,\n",
              "        1690.7577 , 1944.8381 , 3001.1365 , 5548.9307 , 5655.6606 ,\n",
              "        6397.0244 , 6688.8667 , 7946.636  , 7834.2666 , 8894.682  ,\n",
              "        9560.883  , 9905.107  , 8243.248  , 7582.446  , 6481.672  ,\n",
              "        5251.174  , 3745.0876 , 1213.8376 , 2071.5164 , 3502.0476 ,\n",
              "        3437.549  , 4944.489  , 4371.7354 , 3846.403  , 2740.0198 ,\n",
              "        2472.9685 , 2336.6016 , 3510.9702 , 5142.7095 , 5736.968  ,\n",
              "        5676.4033 , 6163.017  , 5575.7817 , 5202.038  , 3822.8716 ,\n",
              "        2779.5063 , 2575.0728 , 2941.8057 , 2445.1545 , 2586.37   ,\n",
              "        4266.744  , 5398.0215 , 5767.614  , 6781.921  , 5971.828  ,\n",
              "        4653.539  , 4896.2563 , 4364.2144 , 4670.5815 , 5538.3438 ,\n",
              "        6682.5513 , 7055.4614 , 6618.15   , 5802.5713 , 4178.005  ,\n",
              "        2608.907  , 2320.5806 , 3864.6692 , 5626.719  , 8009.9404 ,\n",
              "        7758.3022 , 5835.9    , 5637.2837 , 6058.8164 , 4962.0786 ,\n",
              "        3787.3345 , 3792.8806 , 3333.1482 , 4494.8926 , 3555.9343 ,\n",
              "        4006.937  , 4547.61   , 5075.881  , 6570.4    , 7632.4985 ],\n",
              "       dtype=float32)}"
            ]
          },
          "metadata": {
            "tags": []
          },
          "execution_count": 91
        }
      ]
    },
    {
      "cell_type": "markdown",
      "metadata": {
        "id": "t405o940Twum"
      },
      "source": [
        "To fix this, let's adjust our `evaluate_preds()` function to work with multiple shapes of data."
      ]
    },
    {
      "cell_type": "code",
      "metadata": {
        "id": "ERkl26UFgSbz"
      },
      "source": [
        "def evaluate_preds(y_true, y_pred):\n",
        "  # Make sure float32 (for metric calculations)\n",
        "  y_true = tf.cast(y_true, dtype=tf.float32)\n",
        "  y_pred = tf.cast(y_pred, dtype=tf.float32)\n",
        "\n",
        "  # Calculate various metrics\n",
        "  mae = tf.keras.metrics.mean_absolute_error(y_true, y_pred)\n",
        "  mse = tf.keras.metrics.mean_squared_error(y_true, y_pred)\n",
        "  rmse = tf.sqrt(mse)\n",
        "  mape = tf.keras.metrics.mean_absolute_percentage_error(y_true, y_pred)\n",
        "  mase = mean_absolute_scaled_error(y_true, y_pred)\n",
        "\n",
        "  # Account for different sized metrics (for longer horizons, reduce to single number)\n",
        "  if mae.ndim > 0: # if mae isn't already a scalar, reduce it to one by aggregating tensors to mean\n",
        "    mae = tf.reduce_mean(mae)\n",
        "    mse = tf.reduce_mean(mse)\n",
        "    rmse = tf.reduce_mean(rmse)\n",
        "    mape = tf.reduce_mean(mape)\n",
        "    mase = tf.reduce_mean(mase)\n",
        "\n",
        "  return {\"mae\": mae.numpy(),\n",
        "          \"mse\": mse.numpy(),\n",
        "          \"rmse\": rmse.numpy(),\n",
        "          \"mape\": mape.numpy(),\n",
        "          \"mase\": mase.numpy()}"
      ],
      "execution_count": 93,
      "outputs": []
    },
    {
      "cell_type": "markdown",
      "metadata": {
        "id": "_RnoZl28Udx4"
      },
      "source": [
        "Now we've updated `evaluate_preds()` to work with multiple shapes, how does it look?"
      ]
    },
    {
      "cell_type": "code",
      "metadata": {
        "colab": {
          "base_uri": "https://localhost:8080/"
        },
        "id": "Kt1Z8yjpUij2",
        "outputId": "a8bcea82-720e-499b-db71-e92930f48e8f"
      },
      "source": [
        "# Get model_3 results aggregated to single values\n",
        "model_3_results = evaluate_preds(y_true=tf.squeeze(test_labels),\n",
        "                                 y_pred=model_3_preds)\n",
        "model_3_results"
      ],
      "execution_count": 94,
      "outputs": [
        {
          "output_type": "execute_result",
          "data": {
            "text/plain": [
              "{'mae': 1751.6193,\n",
              " 'mape': 7.9360075,\n",
              " 'mase': 3.0901449,\n",
              " 'mse': 8347361.5,\n",
              " 'rmse': 1921.0623}"
            ]
          },
          "metadata": {
            "tags": []
          },
          "execution_count": 94
        }
      ]
    },
    {
      "cell_type": "markdown",
      "metadata": {
        "id": "0XNIJfcsTpdA"
      },
      "source": [
        "If we try to plot our multi-horizon predicts, we're going to get a funky looking plot."
      ]
    },
    {
      "cell_type": "code",
      "metadata": {
        "colab": {
          "base_uri": "https://localhost:8080/",
          "height": 442
        },
        "id": "gBdg1NcLs3gW",
        "outputId": "24c3b6f4-1ac6-4845-bc63-e8cdf22a6279"
      },
      "source": [
        "offset = 300\n",
        "plt.figure(figsize=(10, 7))\n",
        "plot_time_series(timesteps=X_test[-len(test_windows):], values=test_labels[:, 0], start=offset, label=\"Test_data\")\n",
        "# Checking the shape of model_3_preds results in [n_test_samples, HORIZON] (this will screw up the plot)\n",
        "plot_time_series(timesteps=X_test[-len(test_windows):], values=model_3_preds, start=offset, label=\"model_3_preds\") "
      ],
      "execution_count": 95,
      "outputs": [
        {
          "output_type": "display_data",
          "data": {
            "image/png": "[encoded data removed]",
            "text/plain": [
              "<Figure size 720x504 with 1 Axes>"
            ]
          },
          "metadata": {
            "tags": [],
            "needs_background": "light"
          }
        }
      ]
    },
    {
      "cell_type": "markdown",
      "metadata": {
        "id": "j3nZnSG1Uute"
      },
      "source": [
        "TODO: what information do we lose through aggregated the predictions? E.g. going from 7 steps at a time to one step at a time? \n",
        "\n",
        "Again, we can fix this by aggregating our model's predictions."
      ]
    },
    {
      "cell_type": "code",
      "metadata": {
        "colab": {
          "base_uri": "https://localhost:8080/",
          "height": 442
        },
        "id": "wYpZb27bU6OO",
        "outputId": "fcd98d62-869f-4544-ea5f-5e2937c34d72"
      },
      "source": [
        "offset = 300\n",
        "plt.figure(figsize=(10, 7))\n",
        "# Plot model_3_preds by aggregating them (note: this condenses information so the preds will look fruther ahead than the test data)\n",
        "plot_time_series(timesteps=X_test[-len(test_windows):], values=test_labels[:, 0], start=offset, label=\"Test_data\")\n",
        "plot_time_series(timesteps=X_test[-len(test_windows):], values=tf.reduce_mean(model_3_preds, axis=1), start=offset, label=\"model_3_preds\")"
      ],
      "execution_count": 96,
      "outputs": [
        {
          "output_type": "display_data",
          "data": {
            "image/png": "[encoded data removed]",
            "text/plain": [
              "<Figure size 720x504 with 1 Axes>"
            ]
          },
          "metadata": {
            "tags": [],
            "needs_background": "light"
          }
        }
      ]
    },
    {
      "cell_type": "markdown",
      "metadata": {
        "id": "Ojqon-Y5VpCC"
      },
      "source": [
        "Which of our models is performing best so far?"
      ]
    },
    {
      "cell_type": "code",
      "metadata": {
        "colab": {
          "base_uri": "https://localhost:8080/"
        },
        "id": "ItBZl38fWEAC",
        "outputId": "1dfd5d1d-9a3d-47a0-fe26-44a233f7e86e"
      },
      "source": [
        "model_1_results, model_2_results"
      ],
      "execution_count": 101,
      "outputs": [
        {
          "output_type": "execute_result",
          "data": {
            "text/plain": [
              "({'mae': 615.83154,\n",
              "  'mape': 2.7535346,\n",
              "  'mase': 1.0818454,\n",
              "  'mse': 1320297.8,\n",
              "  'rmse': 1149.0421},\n",
              " {'mae': 762.01404,\n",
              "  'mape': 3.3568778,\n",
              "  'mase': 1.3207177,\n",
              "  'mse': 1829011.0,\n",
              "  'rmse': 1352.4093})"
            ]
          },
          "metadata": {
            "tags": []
          },
          "execution_count": 101
        }
      ]
    },
    {
      "cell_type": "code",
      "metadata": {
        "colab": {
          "base_uri": "https://localhost:8080/"
        },
        "id": "ABvnMeWfWOZq",
        "outputId": "fef99727-679e-4ddb-8e43-24ef563b84b2"
      },
      "source": [
        "naive_results[\"mae\"]"
      ],
      "execution_count": 102,
      "outputs": [
        {
          "output_type": "execute_result",
          "data": {
            "text/plain": [
              "567.9802"
            ]
          },
          "metadata": {
            "tags": []
          },
          "execution_count": 102
        }
      ]
    },
    {
      "cell_type": "code",
      "metadata": {
        "colab": {
          "base_uri": "https://localhost:8080/",
          "height": 440
        },
        "id": "QA4EKseAVrYf",
        "outputId": "d37581f8-f419-4b7b-a08f-da2f87fbed11"
      },
      "source": [
        "pd.DataFrame({\"naive\": naive_results[\"mae\"], \n",
        "              \"horizon_1_window_7\": model_1_results[\"mae\"], \n",
        "              \"horizon_1_window_30\": model_2_results[\"mae\"], \n",
        "              \"horizon_7_window_30\": model_3_results[\"mae\"]}, index=[\"mae\"]).plot(figsize=(10, 7), kind=\"bar\");"
      ],
      "execution_count": 106,
      "outputs": [
        {
          "output_type": "display_data",
          "data": {
            "image/png": "[encoded data removed]",
            "text/plain": [
              "<Figure size 720x504 with 1 Axes>"
            ]
          },
          "metadata": {
            "tags": [],
            "needs_background": "light"
          }
        }
      ]
    },
    {
      "cell_type": "markdown",
      "metadata": {
        "id": "dIRwia9BWeI5"
      },
      "source": [
        "Our naive model is performing best (it's very hard to beat a naive model in open systems) but the dense model with a horizon of 1 and a window size of 7 looks to be performing cloest.\n",
        "\n",
        "Because of this, let's use `HORIZON=1` and `WINDOW_SIZE=7` for our next series of modelling experiments (in other words, we'll use the previous week of Bitcoin prices to try and predict the next day)."
      ]
    },
    {
      "cell_type": "markdown",
      "metadata": {
        "id": "CxcL0gi-rWC5"
      },
      "source": [
        "## TODO: Model 4: Conv1D"
      ]
    },
    {
      "cell_type": "code",
      "metadata": {
        "id": "2_t9hXvXrZPD"
      },
      "source": [
        "HORIZON = 1 # predict next day\n",
        "WINDOW_SIZE = 7 # use previous week worth of data"
      ],
      "execution_count": 108,
      "outputs": []
    },
    {
      "cell_type": "code",
      "metadata": {
        "colab": {
          "base_uri": "https://localhost:8080/"
        },
        "id": "CRCy-vXzsEGL",
        "outputId": "89831a6d-c3bd-49a9-bca3-f6dd2318bbdb"
      },
      "source": [
        "# Create windowed dataset\n",
        "full_windows, full_labels = make_windows(prices, window_size=WINDOW_SIZE, horizon=HORIZON)\n",
        "len(full_windows), len(full_labels)"
      ],
      "execution_count": 109,
      "outputs": [
        {
          "output_type": "execute_result",
          "data": {
            "text/plain": [
              "(2779, 2779)"
            ]
          },
          "metadata": {
            "tags": []
          },
          "execution_count": 109
        }
      ]
    },
    {
      "cell_type": "code",
      "metadata": {
        "colab": {
          "base_uri": "https://localhost:8080/"
        },
        "id": "ZtsLeB3rsED2",
        "outputId": "37da1b16-edc1-4bdf-bdda-dd3e6dc29dd4"
      },
      "source": [
        "# Create train/test splits\n",
        "train_windows, test_windows, train_labels, test_labels = make_train_test_splits(full_windows, full_labels)\n",
        "len(train_windows), len(test_windows), len(train_labels), len(test_labels)"
      ],
      "execution_count": 110,
      "outputs": [
        {
          "output_type": "execute_result",
          "data": {
            "text/plain": [
              "(2223, 556, 2223, 556)"
            ]
          },
          "metadata": {
            "tags": []
          },
          "execution_count": 110
        }
      ]
    },
    {
      "cell_type": "markdown",
      "metadata": {
        "id": "RMtzZKYRXExH"
      },
      "source": [
        "TK - Since we're going to be using [Conv1D layers](https://www.tensorflow.org/api_docs/python/tf/keras/layers/Conv1D), we need to make sure our input shapes are correct.\n",
        "\n",
        "The Conv1D layer in TensorFlow takes an input of: `(batch_size, timesteps, input_dim)`.\n",
        "\n",
        "In our case, the `batch_size` is handled for us but the other values will be:\n",
        "* `timesteps = WINDOW_SIZE` - the `timesteps` is also often referred to as `features`, our features are the previous `WINDOW_SIZE` values of Bitcoin \n",
        "* `input_dim = 1` - our model views one week of data at a time to predict the next day\n",
        "\n",
        "Right now, our data has the `timesteps` dimension ready but we'll have to adjust it to have the `input_dim` dimension. "
      ]
    },
    {
      "cell_type": "code",
      "metadata": {
        "colab": {
          "base_uri": "https://localhost:8080/"
        },
        "id": "To_k7zIAX7Pj",
        "outputId": "0ec25011-fab5-45f9-af5b-d2bf57981942"
      },
      "source": [
        "# Check data sample shapes\n",
        "train_windows[0].shape # returns (WINDOW_SIZE, )"
      ],
      "execution_count": 117,
      "outputs": [
        {
          "output_type": "execute_result",
          "data": {
            "text/plain": [
              "(7,)"
            ]
          },
          "metadata": {
            "tags": []
          },
          "execution_count": 117
        }
      ]
    },
    {
      "cell_type": "markdown",
      "metadata": {
        "id": "oPIMnb3GYMvP"
      },
      "source": [
        "To fix this, we could adjust the shape of all of our `train_windows` or we could use a `tf.keras.layers.Lamdba` (called a Lambda layer) to do this for us in our model."
      ]
    },
    {
      "cell_type": "code",
      "metadata": {
        "colab": {
          "base_uri": "https://localhost:8080/"
        },
        "id": "62oSNy3VvZpv",
        "outputId": "3a7dfc6e-5c8f-4b63-f3a7-93b5c48619ef"
      },
      "source": [
        "# Before we pass our data to the Conv1D layer, we have to reshape it in order to make sure it works\n",
        "x = tf.constant(train_windows[0])\n",
        "expand_dims_layer = layers.Lambda(lambda x: tf.expand_dims(x, axis=1)) # add an extra dimension for timesteps\n",
        "print(f\"Original shape: {x.shape}\") # (WINDOW_SIZE)\n",
        "print(f\"Expanded shape: {expand_dims_layer(x).shape}\") # (WINDOW_SIZE, input_dim) \n",
        "print(f\"Original values with expanded shape:\\n {expand_dims_layer(x)}\")"
      ],
      "execution_count": 124,
      "outputs": [
        {
          "output_type": "stream",
          "text": [
            "Original shape: (7,)\n",
            "Expanded shape: (7, 1)\n",
            "Original values with expanded shape:\n",
            " [[125.455  ]\n",
            " [108.58483]\n",
            " [118.67466]\n",
            " [121.33866]\n",
            " [120.65533]\n",
            " [121.795  ]\n",
            " [123.033  ]]\n"
          ],
          "name": "stdout"
        }
      ]
    },
    {
      "cell_type": "code",
      "metadata": {
        "colab": {
          "base_uri": "https://localhost:8080/"
        },
        "id": "jODevMWGsEBI",
        "outputId": "e91965f3-998a-4919-f1ef-94ffdf1ae2a2"
      },
      "source": [
        "# Create model\n",
        "model_4 = tf.keras.Sequential([\n",
        "  # Create Lambda layer to reshape inputs, without this layer, the model will error\n",
        "  layers.Lambda(lambda x: tf.expand_dims(x, axis=1)), # resize the inputs to adjust for window size / Conv1D 3D input requirements\n",
        "  layers.Conv1D(filters=128, kernel_size=3, padding=\"causal\", activation=\"relu\"),\n",
        "  layers.Dense(HORIZON)\n",
        "], name=\"model_4_conv1D\")\n",
        "\n",
        "# Compile model\n",
        "model_4.compile(loss=\"mae\",\n",
        "                optimizer=tf.keras.optimizers.Adam())\n",
        "\n",
        "# Fit model\n",
        "model_4.fit(train_windows,\n",
        "            train_labels, \n",
        "            epochs=10,\n",
        "            validation_data=(test_windows, test_labels),\n",
        "            callbacks=[create_model_checkpoint(model_name=model_4.name)])"
      ],
      "execution_count": 121,
      "outputs": [
        {
          "output_type": "stream",
          "text": [
            "Epoch 1/10\n",
            "70/70 [==============================] - 1s 3ms/step - loss: 570.5132 - val_loss: 990.4088\n",
            "INFO:tensorflow:Assets written to: model_experiments/model_4_conv1D/assets\n",
            "Epoch 2/10\n",
            "70/70 [==============================] - 0s 2ms/step - loss: 172.8111 - val_loss: 910.7156\n",
            "INFO:tensorflow:Assets written to: model_experiments/model_4_conv1D/assets\n",
            "Epoch 3/10\n",
            "70/70 [==============================] - 0s 2ms/step - loss: 161.5531 - val_loss: 869.7102\n",
            "INFO:tensorflow:Assets written to: model_experiments/model_4_conv1D/assets\n",
            "Epoch 4/10\n",
            "70/70 [==============================] - 0s 2ms/step - loss: 169.8771 - val_loss: 820.2207\n",
            "INFO:tensorflow:Assets written to: model_experiments/model_4_conv1D/assets\n",
            "Epoch 5/10\n",
            "70/70 [==============================] - 0s 2ms/step - loss: 146.9277 - val_loss: 786.4641\n",
            "INFO:tensorflow:Assets written to: model_experiments/model_4_conv1D/assets\n",
            "Epoch 6/10\n",
            "70/70 [==============================] - 0s 2ms/step - loss: 140.6934 - val_loss: 731.3009\n",
            "INFO:tensorflow:Assets written to: model_experiments/model_4_conv1D/assets\n",
            "Epoch 7/10\n",
            "70/70 [==============================] - 0s 2ms/step - loss: 134.0842 - val_loss: 756.5139\n",
            "Epoch 8/10\n",
            "70/70 [==============================] - 0s 2ms/step - loss: 130.6437 - val_loss: 717.1405\n",
            "INFO:tensorflow:Assets written to: model_experiments/model_4_conv1D/assets\n",
            "Epoch 9/10\n",
            "70/70 [==============================] - 0s 2ms/step - loss: 128.8577 - val_loss: 763.6005\n",
            "Epoch 10/10\n",
            "70/70 [==============================] - 0s 2ms/step - loss: 126.2843 - val_loss: 657.0135\n",
            "INFO:tensorflow:Assets written to: model_experiments/model_4_conv1D/assets\n"
          ],
          "name": "stdout"
        },
        {
          "output_type": "execute_result",
          "data": {
            "text/plain": [
              "<tensorflow.python.keras.callbacks.History at 0x7f2643d2e190>"
            ]
          },
          "metadata": {
            "tags": []
          },
          "execution_count": 121
        }
      ]
    },
    {
      "cell_type": "code",
      "metadata": {
        "colab": {
          "base_uri": "https://localhost:8080/"
        },
        "id": "2FcGUALG4RxJ",
        "outputId": "4cb5af71-6bd1-4ebe-bcfb-32660d754544"
      },
      "source": [
        "model_4.summary()"
      ],
      "execution_count": 125,
      "outputs": [
        {
          "output_type": "stream",
          "text": [
            "Model: \"model_4_conv1D\"\n",
            "_________________________________________________________________\n",
            "Layer (type)                 Output Shape              Param #   \n",
            "=================================================================\n",
            "lambda_6 (Lambda)            (None, 1, 7)              0         \n",
            "_________________________________________________________________\n",
            "conv1d_1 (Conv1D)            (None, 1, 128)            2816      \n",
            "_________________________________________________________________\n",
            "dense_13 (Dense)             (None, 1, 1)              129       \n",
            "=================================================================\n",
            "Total params: 2,945\n",
            "Trainable params: 2,945\n",
            "Non-trainable params: 0\n",
            "_________________________________________________________________\n"
          ],
          "name": "stdout"
        }
      ]
    },
    {
      "cell_type": "code",
      "metadata": {
        "colab": {
          "base_uri": "https://localhost:8080/"
        },
        "id": "KXEL9FuhsD-3",
        "outputId": "7b8eab6e-0ea8-4668-f157-bacc0de6fa51"
      },
      "source": [
        "model_4 = tf.keras.models.load_model(\"model_experiments/model_4_conv1D\")\n",
        "model_4.evaluate(test_windows, test_labels)"
      ],
      "execution_count": 126,
      "outputs": [
        {
          "output_type": "stream",
          "text": [
            "18/18 [==============================] - 0s 1ms/step - loss: 657.0135\n"
          ],
          "name": "stdout"
        },
        {
          "output_type": "execute_result",
          "data": {
            "text/plain": [
              "657.0135498046875"
            ]
          },
          "metadata": {
            "tags": []
          },
          "execution_count": 126
        }
      ]
    },
    {
      "cell_type": "code",
      "metadata": {
        "colab": {
          "base_uri": "https://localhost:8080/"
        },
        "id": "j99tbnwSsD8R",
        "outputId": "52811f87-558f-4664-aba2-2c19a4a40d7d"
      },
      "source": [
        "# Make predictions\n",
        "model_4_preds = make_forecast(model_4, test_windows)\n",
        "model_4_preds[:10]"
      ],
      "execution_count": 127,
      "outputs": [
        {
          "output_type": "execute_result",
          "data": {
            "text/plain": [
              "<tf.Tensor: shape=(10,), dtype=float32, numpy=\n",
              "array([8956.796, 8839.942, 8948.702, 8742.303, 8758.204, 8774.125,\n",
              "       8632.043, 8541.238, 8495.955, 8482.782], dtype=float32)>"
            ]
          },
          "metadata": {
            "tags": []
          },
          "execution_count": 127
        }
      ]
    },
    {
      "cell_type": "code",
      "metadata": {
        "colab": {
          "base_uri": "https://localhost:8080/"
        },
        "id": "yjfEDWxjrZW2",
        "outputId": "cb186eee-5ecb-4c7f-d3cb-1e922d15af6b"
      },
      "source": [
        "# Evaluate predictions\n",
        "model_4_results = evaluate_preds(y_true=tf.squeeze(test_labels),\n",
        "                                 y_pred=model_4_preds)\n",
        "model_4_results"
      ],
      "execution_count": 128,
      "outputs": [
        {
          "output_type": "execute_result",
          "data": {
            "text/plain": [
              "{'mae': 657.0136,\n",
              " 'mape': 2.9044948,\n",
              " 'mase': 1.1541909,\n",
              " 'mse': 1433576.5,\n",
              " 'rmse': 1197.3206}"
            ]
          },
          "metadata": {
            "tags": []
          },
          "execution_count": 128
        }
      ]
    },
    {
      "cell_type": "markdown",
      "metadata": {
        "id": "wg-oDSXqZlop"
      },
      "source": [
        "UPTOHERE:\n",
        "* Make LSTM code work\n",
        "* After LSTM bring in N-BEATS algorithm?\n",
        "* Make TensorFlow windowing function, use it with best model\n",
        "* Make multivariate time series model work \n",
        "* Make future forecasts\n",
        "* Make future forecasts with uncertainty\n",
        "* Introduce Turkey problem & show how it effects our models"
      ]
    },
    {
      "cell_type": "markdown",
      "metadata": {
        "id": "pZ2s0Rx0rZjE"
      },
      "source": [
        "## TODO: Model X RNN (LSTM)"
      ]
    },
    {
      "cell_type": "code",
      "metadata": {
        "colab": {
          "base_uri": "https://localhost:8080/"
        },
        "id": "LwG908g24AER",
        "outputId": "1592272d-993b-414f-ebda-f01650a2af41"
      },
      "source": [
        "len(train_windows), len(train_labels)"
      ],
      "execution_count": null,
      "outputs": [
        {
          "output_type": "execute_result",
          "data": {
            "text/plain": [
              "(2184, 2184)"
            ]
          },
          "metadata": {
            "tags": []
          },
          "execution_count": 87
        }
      ]
    },
    {
      "cell_type": "code",
      "metadata": {
        "colab": {
          "base_uri": "https://localhost:8080/"
        },
        "id": "a6YFL_b-rZrt",
        "outputId": "aabe3e17-80ba-4fe2-9e5c-5ba3d3bb76a0"
      },
      "source": [
        "# Let's build an LSTM model with the Functional API\n",
        "inputs = layers.Input(shape=(WINDOW_SIZE))\n",
        "x = layers.Lambda(lambda x: tf.expand_dims(x, axis=1))(inputs) # expand input dimension to be compatible with LSTM\n",
        "print(x.shape)\n",
        "# x = layers.Conv1D(128, kernel_size=3, padding=\"causal\", activation=\"relu\")(x)\n",
        "# x = layers.LSTM(128, activation=\"relu\", return_sequences=True)(x) # this layer will error if the inputs are not the right shape\n",
        "# x = layers.Dropout(0.05)(x)\n",
        "x = layers.LSTM(128, activation=\"relu\")(x)\n",
        "print(x.shape)\n",
        "# x = layers.Dense(32, activation=\"relu\")(x)\n",
        "output = layers.Dense(HORIZON)(x)\n",
        "model_5 = tf.keras.Model(inputs=inputs, outputs=output, name=\"model_5_lstm\")"
      ],
      "execution_count": null,
      "outputs": [
        {
          "output_type": "stream",
          "text": [
            "(None, 1, 30)\n",
            "(None, 128)\n"
          ],
          "name": "stdout"
        }
      ]
    },
    {
      "cell_type": "code",
      "metadata": {
        "colab": {
          "base_uri": "https://localhost:8080/"
        },
        "id": "N59tLdtu58G4",
        "outputId": "5f78b009-ff48-4eab-9669-d34096dd1260"
      },
      "source": [
        "model_5.summary()"
      ],
      "execution_count": null,
      "outputs": [
        {
          "output_type": "stream",
          "text": [
            "Model: \"model_5_lstm\"\n",
            "_________________________________________________________________\n",
            "Layer (type)                 Output Shape              Param #   \n",
            "=================================================================\n",
            "input_1 (InputLayer)         [(None, 30)]              0         \n",
            "_________________________________________________________________\n",
            "lambda_2 (Lambda)            (None, 1, 30)             0         \n",
            "_________________________________________________________________\n",
            "lstm (LSTM)                  (None, 128)               81408     \n",
            "_________________________________________________________________\n",
            "dense_7 (Dense)              (None, 1)                 129       \n",
            "=================================================================\n",
            "Total params: 81,537\n",
            "Trainable params: 81,537\n",
            "Non-trainable params: 0\n",
            "_________________________________________________________________\n"
          ],
          "name": "stdout"
        }
      ]
    },
    {
      "cell_type": "code",
      "metadata": {
        "colab": {
          "base_uri": "https://localhost:8080/"
        },
        "id": "F5V02KgdrZzR",
        "outputId": "cfc653dc-f92a-4e2f-e803-0bc4d77c1dd4"
      },
      "source": [
        "# Compile model\n",
        "model_5.compile(loss=\"mae\",\n",
        "                optimizer=tf.keras.optimizers.Adam())\n",
        "\n",
        "# Seems when saving the model several warnings are appearing: https://github.com/tensorflow/tensorflow/issues/47554 \n",
        "model_5.fit(train_windows,\n",
        "            train_labels,\n",
        "            epochs=30,\n",
        "            validation_data=(test_windows, test_labels))\n",
        "            # callbacks=[create_model_checkpoint(model_name=model_5.name)])"
      ],
      "execution_count": null,
      "outputs": [
        {
          "output_type": "stream",
          "text": [
            "Epoch 1/30\n",
            "69/69 [==============================] - 2s 7ms/step - loss: 645.9108 - val_loss: 1576.4532\n",
            "Epoch 2/30\n",
            "69/69 [==============================] - 0s 5ms/step - loss: 296.1179 - val_loss: 1666.4329\n",
            "Epoch 3/30\n",
            "69/69 [==============================] - 0s 5ms/step - loss: 254.2605 - val_loss: 1309.1185\n",
            "Epoch 4/30\n",
            "69/69 [==============================] - 0s 4ms/step - loss: 224.7246 - val_loss: 1202.6456\n",
            "Epoch 5/30\n",
            "69/69 [==============================] - 0s 5ms/step - loss: 232.4084 - val_loss: 1273.4736\n",
            "Epoch 6/30\n",
            "69/69 [==============================] - 0s 4ms/step - loss: 200.9379 - val_loss: 1169.3539\n",
            "Epoch 7/30\n",
            "69/69 [==============================] - 0s 4ms/step - loss: 203.0619 - val_loss: 1016.5412\n",
            "Epoch 8/30\n",
            "69/69 [==============================] - 0s 5ms/step - loss: 186.0586 - val_loss: 1115.6791\n",
            "Epoch 9/30\n",
            "69/69 [==============================] - 0s 4ms/step - loss: 178.5414 - val_loss: 1033.5319\n",
            "Epoch 10/30\n",
            "69/69 [==============================] - 0s 7ms/step - loss: 172.5347 - val_loss: 922.4499\n",
            "Epoch 11/30\n",
            "69/69 [==============================] - 0s 6ms/step - loss: 175.0198 - val_loss: 979.6345\n",
            "Epoch 12/30\n",
            "69/69 [==============================] - 0s 5ms/step - loss: 165.4395 - val_loss: 884.2683\n",
            "Epoch 13/30\n",
            "69/69 [==============================] - 0s 5ms/step - loss: 156.8997 - val_loss: 873.2719\n",
            "Epoch 14/30\n",
            "69/69 [==============================] - 0s 7ms/step - loss: 174.0316 - val_loss: 983.9476\n",
            "Epoch 15/30\n",
            "69/69 [==============================] - 0s 6ms/step - loss: 162.9545 - val_loss: 1058.8915\n",
            "Epoch 16/30\n",
            "69/69 [==============================] - 0s 6ms/step - loss: 170.2091 - val_loss: 820.8110\n",
            "Epoch 17/30\n",
            "69/69 [==============================] - 0s 6ms/step - loss: 148.8471 - val_loss: 901.5699\n",
            "Epoch 18/30\n",
            "69/69 [==============================] - 0s 6ms/step - loss: 152.7714 - val_loss: 794.8671\n",
            "Epoch 19/30\n",
            "69/69 [==============================] - 0s 5ms/step - loss: 167.8316 - val_loss: 897.8719\n",
            "Epoch 20/30\n",
            "69/69 [==============================] - 0s 7ms/step - loss: 155.2006 - val_loss: 807.5974\n",
            "Epoch 21/30\n",
            "69/69 [==============================] - 1s 8ms/step - loss: 152.8892 - val_loss: 771.0411\n",
            "Epoch 22/30\n",
            "69/69 [==============================] - 1s 8ms/step - loss: 157.4165 - val_loss: 796.7450\n",
            "Epoch 23/30\n",
            "69/69 [==============================] - 1s 8ms/step - loss: 141.5777 - val_loss: 751.6353\n",
            "Epoch 24/30\n",
            "69/69 [==============================] - 1s 8ms/step - loss: 142.5019 - val_loss: 747.1499\n",
            "Epoch 25/30\n",
            "69/69 [==============================] - 1s 8ms/step - loss: 137.7521 - val_loss: 760.7312\n",
            "Epoch 26/30\n",
            "69/69 [==============================] - 1s 8ms/step - loss: 135.1494 - val_loss: 802.1629\n",
            "Epoch 27/30\n",
            "69/69 [==============================] - 1s 7ms/step - loss: 156.3878 - val_loss: 728.4892\n",
            "Epoch 28/30\n",
            "69/69 [==============================] - 1s 8ms/step - loss: 135.5737 - val_loss: 815.5932\n",
            "Epoch 29/30\n",
            "69/69 [==============================] - 1s 7ms/step - loss: 141.5007 - val_loss: 818.3892\n",
            "Epoch 30/30\n",
            "69/69 [==============================] - 1s 9ms/step - loss: 136.9788 - val_loss: 825.0615\n"
          ],
          "name": "stdout"
        },
        {
          "output_type": "execute_result",
          "data": {
            "text/plain": [
              "<tensorflow.python.keras.callbacks.History at 0x7f5f6c3c76d0>"
            ]
          },
          "metadata": {
            "tags": []
          },
          "execution_count": 90
        }
      ]
    },
    {
      "cell_type": "code",
      "metadata": {
        "colab": {
          "base_uri": "https://localhost:8080/"
        },
        "id": "3DcbfLJOrcGu",
        "outputId": "b4087f40-92ee-4d87-e6d6-46607906e763"
      },
      "source": [
        "model_5.predict(test_windows)"
      ],
      "execution_count": null,
      "outputs": [
        {
          "output_type": "execute_result",
          "data": {
            "text/plain": [
              "array([[ 8157.5723],\n",
              "       [ 8051.5396],\n",
              "       [ 7945.422 ],\n",
              "       [ 7686.1777],\n",
              "       [ 7423.9956],\n",
              "       [ 7296.    ],\n",
              "       [ 7063.7646],\n",
              "       [ 7013.809 ],\n",
              "       [ 6975.6104],\n",
              "       [ 7113.3945],\n",
              "       [ 7180.0137],\n",
              "       [ 7388.5586],\n",
              "       [ 7413.935 ],\n",
              "       [ 7389.2744],\n",
              "       [ 7316.7935],\n",
              "       [ 7258.013 ],\n",
              "       [ 7183.0977],\n",
              "       [ 7239.2485],\n",
              "       [ 7235.2427],\n",
              "       [ 7319.8257],\n",
              "       [ 7379.342 ],\n",
              "       [ 7265.42  ],\n",
              "       [ 7184.805 ],\n",
              "       [ 7133.657 ],\n",
              "       [ 7117.671 ],\n",
              "       [ 7097.4766],\n",
              "       [ 7087.506 ],\n",
              "       [ 7034.4355],\n",
              "       [ 6914.677 ],\n",
              "       [ 6684.8047],\n",
              "       [ 6962.304 ],\n",
              "       [ 6948.789 ],\n",
              "       [ 6966.8667],\n",
              "       [ 7103.765 ],\n",
              "       [ 7067.0117],\n",
              "       [ 7057.8423],\n",
              "       [ 7142.401 ],\n",
              "       [ 7104.19  ],\n",
              "       [ 7104.1484],\n",
              "       [ 7105.29  ],\n",
              "       [ 7116.7383],\n",
              "       [ 7162.9814],\n",
              "       [ 7140.699 ],\n",
              "       [ 7101.0815],\n",
              "       [ 7089.017 ],\n",
              "       [ 6975.283 ],\n",
              "       [ 7024.0957],\n",
              "       [ 7130.9297],\n",
              "       [ 7164.1333],\n",
              "       [ 7409.647 ],\n",
              "       [ 7625.9307],\n",
              "       [ 7791.9355],\n",
              "       [ 7813.394 ],\n",
              "       [ 7860.894 ],\n",
              "       [ 7917.839 ],\n",
              "       [ 8005.581 ],\n",
              "       [ 7983.5815],\n",
              "       [ 8254.263 ],\n",
              "       [ 8508.542 ],\n",
              "       [ 8540.515 ],\n",
              "       [ 8675.283 ],\n",
              "       [ 8755.914 ],\n",
              "       [ 8605.681 ],\n",
              "       [ 8609.316 ],\n",
              "       [ 8584.1875],\n",
              "       [ 8543.423 ],\n",
              "       [ 8399.358 ],\n",
              "       [ 8342.096 ],\n",
              "       [ 8287.001 ],\n",
              "       [ 8296.368 ],\n",
              "       [ 8470.177 ],\n",
              "       [ 8712.132 ],\n",
              "       [ 8942.837 ],\n",
              "       [ 9141.559 ],\n",
              "       [ 9248.893 ],\n",
              "       [ 9283.996 ],\n",
              "       [ 9279.535 ],\n",
              "       [ 9213.841 ],\n",
              "       [ 9153.329 ],\n",
              "       [ 9276.851 ],\n",
              "       [ 9321.921 ],\n",
              "       [ 9448.38  ],\n",
              "       [ 9618.849 ],\n",
              "       [ 9754.315 ],\n",
              "       [ 9722.878 ],\n",
              "       [ 9940.419 ],\n",
              "       [10079.566 ],\n",
              "       [10079.474 ],\n",
              "       [10199.282 ],\n",
              "       [10040.063 ],\n",
              "       [ 9852.865 ],\n",
              "       [ 9682.776 ],\n",
              "       [ 9774.653 ],\n",
              "       [ 9638.43  ],\n",
              "       [ 9527.103 ],\n",
              "       [ 9473.491 ],\n",
              "       [ 9452.397 ],\n",
              "       [ 9555.75  ],\n",
              "       [ 9593.568 ],\n",
              "       [ 9385.686 ],\n",
              "       [ 9096.175 ],\n",
              "       [ 8820.182 ],\n",
              "       [ 8674.88  ],\n",
              "       [ 8534.147 ],\n",
              "       [ 8442.89  ],\n",
              "       [ 8562.191 ],\n",
              "       [ 8517.527 ],\n",
              "       [ 8589.724 ],\n",
              "       [ 8673.426 ],\n",
              "       [ 8824.847 ],\n",
              "       [ 8836.223 ],\n",
              "       [ 8539.88  ],\n",
              "       [ 8107.7666],\n",
              "       [ 7956.5527],\n",
              "       [ 7830.2964],\n",
              "       [ 6816.313 ],\n",
              "       [ 6196.1484],\n",
              "       [ 5660.0303],\n",
              "       [ 5299.9004],\n",
              "       [ 5100.2637],\n",
              "       [ 5212.513 ],\n",
              "       [ 5109.7134],\n",
              "       [ 5613.2866],\n",
              "       [ 5852.026 ],\n",
              "       [ 6064.573 ],\n",
              "       [ 5972.089 ],\n",
              "       [ 6213.5186],\n",
              "       [ 6499.4375],\n",
              "       [ 6581.54  ],\n",
              "       [ 6567.491 ],\n",
              "       [ 6559.498 ],\n",
              "       [ 6339.188 ],\n",
              "       [ 6063.6685],\n",
              "       [ 6171.5664],\n",
              "       [ 6115.2603],\n",
              "       [ 6316.742 ],\n",
              "       [ 6530.455 ],\n",
              "       [ 6652.468 ],\n",
              "       [ 6736.7974],\n",
              "       [ 6817.0293],\n",
              "       [ 6956.723 ],\n",
              "       [ 7190.129 ],\n",
              "       [ 7238.4834],\n",
              "       [ 7166.0103],\n",
              "       [ 6998.9854],\n",
              "       [ 6859.4785],\n",
              "       [ 6875.778 ],\n",
              "       [ 6777.871 ],\n",
              "       [ 6795.1934],\n",
              "       [ 6621.3184],\n",
              "       [ 6788.2266],\n",
              "       [ 6859.065 ],\n",
              "       [ 7002.914 ],\n",
              "       [ 7044.5586],\n",
              "       [ 6964.42  ],\n",
              "       [ 6914.2656],\n",
              "       [ 6922.763 ],\n",
              "       [ 7143.4155],\n",
              "       [ 7297.3887],\n",
              "       [ 7337.685 ],\n",
              "       [ 7421.5186],\n",
              "       [ 7547.5977],\n",
              "       [ 7549.92  ],\n",
              "       [ 8056.5845],\n",
              "       [ 8368.054 ],\n",
              "       [ 8598.072 ],\n",
              "       [ 8741.458 ],\n",
              "       [ 8811.403 ],\n",
              "       [ 8798.691 ],\n",
              "       [ 8861.009 ],\n",
              "       [ 9034.627 ],\n",
              "       [ 9424.476 ],\n",
              "       [ 9562.496 ],\n",
              "       [ 9522.824 ],\n",
              "       [ 9165.513 ],\n",
              "       [ 8803.444 ],\n",
              "       [ 8713.878 ],\n",
              "       [ 8888.901 ],\n",
              "       [ 9244.854 ],\n",
              "       [ 9206.56  ],\n",
              "       [ 9245.34  ],\n",
              "       [ 9371.866 ],\n",
              "       [ 9456.704 ],\n",
              "       [ 9521.409 ],\n",
              "       [ 9513.669 ],\n",
              "       [ 9290.417 ],\n",
              "       [ 9129.639 ],\n",
              "       [ 9031.36  ],\n",
              "       [ 8949.525 ],\n",
              "       [ 8824.114 ],\n",
              "       [ 8740.277 ],\n",
              "       [ 8820.843 ],\n",
              "       [ 8991.796 ],\n",
              "       [ 9056.529 ],\n",
              "       [ 9292.306 ],\n",
              "       [ 9358.462 ],\n",
              "       [ 9736.622 ],\n",
              "       [ 9645.612 ],\n",
              "       [ 9586.288 ],\n",
              "       [ 9651.897 ],\n",
              "       [ 9569.872 ],\n",
              "       [ 9516.813 ],\n",
              "       [ 9551.39  ],\n",
              "       [ 9474.081 ],\n",
              "       [ 9543.202 ],\n",
              "       [ 9619.839 ],\n",
              "       [ 9421.89  ],\n",
              "       [ 9317.538 ],\n",
              "       [ 9291.362 ],\n",
              "       [ 9261.569 ],\n",
              "       [ 9284.076 ],\n",
              "       [ 9353.388 ],\n",
              "       [ 9250.918 ],\n",
              "       [ 9298.296 ],\n",
              "       [ 9160.706 ],\n",
              "       [ 9193.197 ],\n",
              "       [ 9112.699 ],\n",
              "       [ 9294.329 ],\n",
              "       [ 9374.93  ],\n",
              "       [ 9256.161 ],\n",
              "       [ 9201.458 ],\n",
              "       [ 9108.107 ],\n",
              "       [ 8957.131 ],\n",
              "       [ 8942.046 ],\n",
              "       [ 8999.219 ],\n",
              "       [ 8909.897 ],\n",
              "       [ 9011.524 ],\n",
              "       [ 8970.952 ],\n",
              "       [ 8935.96  ],\n",
              "       [ 8972.206 ],\n",
              "       [ 8944.847 ],\n",
              "       [ 9015.963 ],\n",
              "       [ 9083.824 ],\n",
              "       [ 9161.93  ],\n",
              "       [ 9127.364 ],\n",
              "       [ 9126.962 ],\n",
              "       [ 9114.182 ],\n",
              "       [ 9097.909 ],\n",
              "       [ 9075.115 ],\n",
              "       [ 9102.738 ],\n",
              "       [ 9044.438 ],\n",
              "       [ 9012.157 ],\n",
              "       [ 9006.422 ],\n",
              "       [ 9014.651 ],\n",
              "       [ 9000.911 ],\n",
              "       [ 9042.108 ],\n",
              "       [ 9119.035 ],\n",
              "       [ 9218.544 ],\n",
              "       [ 9351.296 ],\n",
              "       [ 9384.3   ],\n",
              "       [ 9490.188 ],\n",
              "       [ 9628.499 ],\n",
              "       [10283.081 ],\n",
              "       [10547.448 ],\n",
              "       [10873.193 ],\n",
              "       [10972.907 ],\n",
              "       [11084.806 ],\n",
              "       [11346.684 ],\n",
              "       [11242.858 ],\n",
              "       [11151.19  ],\n",
              "       [11150.402 ],\n",
              "       [11221.647 ],\n",
              "       [11415.343 ],\n",
              "       [11428.454 ],\n",
              "       [11463.542 ],\n",
              "       [11523.015 ],\n",
              "       [11545.468 ],\n",
              "       [11430.985 ],\n",
              "       [11337.175 ],\n",
              "       [11467.268 ],\n",
              "       [11519.769 ],\n",
              "       [11666.27  ],\n",
              "       [11650.679 ],\n",
              "       [11841.417 ],\n",
              "       [11894.737 ],\n",
              "       [11705.641 ],\n",
              "       [11702.814 ],\n",
              "       [11483.519 ],\n",
              "       [11430.618 ],\n",
              "       [11482.993 ],\n",
              "       [11495.454 ],\n",
              "       [11339.224 ],\n",
              "       [11272.114 ],\n",
              "       [11152.399 ],\n",
              "       [11189.651 ],\n",
              "       [11237.239 ],\n",
              "       [11316.979 ],\n",
              "       [11418.011 ],\n",
              "       [11590.587 ],\n",
              "       [11430.328 ],\n",
              "       [11063.878 ],\n",
              "       [10712.407 ],\n",
              "       [10260.209 ],\n",
              "       [10063.457 ],\n",
              "       [10081.245 ],\n",
              "       [ 9878.69  ],\n",
              "       [ 9920.491 ],\n",
              "       [10028.115 ],\n",
              "       [10065.512 ],\n",
              "       [10190.689 ],\n",
              "       [10154.711 ],\n",
              "       [10384.829 ],\n",
              "       [10523.797 ],\n",
              "       [10688.782 ],\n",
              "       [10775.067 ],\n",
              "       [10773.97  ],\n",
              "       [10817.147 ],\n",
              "       [10762.656 ],\n",
              "       [10530.668 ],\n",
              "       [10392.631 ],\n",
              "       [10207.483 ],\n",
              "       [10291.845 ],\n",
              "       [10435.478 ],\n",
              "       [10507.126 ],\n",
              "       [10537.815 ],\n",
              "       [10636.942 ],\n",
              "       [10650.794 ],\n",
              "       [10608.739 ],\n",
              "       [10538.747 ],\n",
              "       [10482.148 ],\n",
              "       [10414.622 ],\n",
              "       [10455.094 ],\n",
              "       [10488.399 ],\n",
              "       [10414.646 ],\n",
              "       [10426.083 ],\n",
              "       [10533.261 ],\n",
              "       [10674.822 ],\n",
              "       [10890.199 ],\n",
              "       [11047.301 ],\n",
              "       [11264.356 ],\n",
              "       [11337.375 ],\n",
              "       [11307.5625],\n",
              "       [11325.945 ],\n",
              "       [11257.571 ],\n",
              "       [11212.165 ],\n",
              "       [11236.099 ],\n",
              "       [11351.537 ],\n",
              "       [11521.606 ],\n",
              "       [12125.591 ],\n",
              "       [12575.954 ],\n",
              "       [12719.727 ],\n",
              "       [12864.613 ],\n",
              "       [12870.85  ],\n",
              "       [12869.623 ],\n",
              "       [13241.407 ],\n",
              "       [13157.739 ],\n",
              "       [13248.452 ],\n",
              "       [13283.358 ],\n",
              "       [13394.501 ],\n",
              "       [13447.208 ],\n",
              "       [13435.369 ],\n",
              "       [13488.183 ],\n",
              "       [13714.126 ],\n",
              "       [14386.705 ],\n",
              "       [14883.7295],\n",
              "       [14820.65  ],\n",
              "       [15102.527 ],\n",
              "       [15148.831 ],\n",
              "       [15089.333 ],\n",
              "       [15379.491 ],\n",
              "       [15616.743 ],\n",
              "       [15830.012 ],\n",
              "       [15827.589 ],\n",
              "       [15759.794 ],\n",
              "       [16029.578 ],\n",
              "       [16591.244 ],\n",
              "       [17172.99  ],\n",
              "       [17497.18  ],\n",
              "       [17903.953 ],\n",
              "       [18115.793 ],\n",
              "       [18280.082 ],\n",
              "       [18359.955 ],\n",
              "       [18592.355 ],\n",
              "       [18521.402 ],\n",
              "       [17768.043 ],\n",
              "       [17253.867 ],\n",
              "       [17197.377 ],\n",
              "       [17314.031 ],\n",
              "       [18211.041 ],\n",
              "       [18447.91  ],\n",
              "       [18583.967 ],\n",
              "       [18964.61  ],\n",
              "       [18749.346 ],\n",
              "       [18803.809 ],\n",
              "       [18934.195 ],\n",
              "       [18810.059 ],\n",
              "       [18694.883 ],\n",
              "       [18412.852 ],\n",
              "       [18075.92  ],\n",
              "       [17892.188 ],\n",
              "       [18103.043 ],\n",
              "       [18364.469 ],\n",
              "       [18562.664 ],\n",
              "       [18847.406 ],\n",
              "       [19813.387 ],\n",
              "       [21204.361 ],\n",
              "       [22088.812 ],\n",
              "       [23048.758 ],\n",
              "       [23373.012 ],\n",
              "       [23140.197 ],\n",
              "       [23337.406 ],\n",
              "       [23044.82  ],\n",
              "       [23055.727 ],\n",
              "       [23610.03  ],\n",
              "       [24597.227 ],\n",
              "       [25315.582 ],\n",
              "       [25840.195 ],\n",
              "       [26203.797 ],\n",
              "       [27353.213 ],\n",
              "       [28269.387 ],\n",
              "       [28830.393 ],\n",
              "       [30417.219 ],\n",
              "       [31794.086 ],\n",
              "       [31671.824 ],\n",
              "       [33075.855 ],\n",
              "       [34435.27  ],\n",
              "       [36855.293 ],\n",
              "       [38874.98  ],\n",
              "       [39697.92  ],\n",
              "       [39457.605 ],\n",
              "       [37007.277 ],\n",
              "       [35202.8   ],\n",
              "       [35824.246 ],\n",
              "       [36462.605 ],\n",
              "       [36330.14  ],\n",
              "       [36000.34  ],\n",
              "       [35513.566 ],\n",
              "       [35329.195 ],\n",
              "       [35590.508 ],\n",
              "       [35331.945 ],\n",
              "       [32934.125 ],\n",
              "       [32709.146 ],\n",
              "       [31890.63  ],\n",
              "       [31668.697 ],\n",
              "       [31683.117 ],\n",
              "       [31500.008 ],\n",
              "       [30836.953 ],\n",
              "       [31506.127 ],\n",
              "       [32119.926 ],\n",
              "       [33099.246 ],\n",
              "       [33084.895 ],\n",
              "       [33304.547 ],\n",
              "       [34153.44  ],\n",
              "       [35436.133 ],\n",
              "       [36207.418 ],\n",
              "       [36860.71  ],\n",
              "       [38301.438 ],\n",
              "       [38109.17  ],\n",
              "       [40744.285 ],\n",
              "       [43336.043 ],\n",
              "       [44597.35  ],\n",
              "       [46347.74  ],\n",
              "       [47362.855 ],\n",
              "       [47146.53  ],\n",
              "       [48365.004 ],\n",
              "       [47851.63  ],\n",
              "       [48648.938 ],\n",
              "       [49964.83  ],\n",
              "       [50016.47  ],\n",
              "       [52748.68  ],\n",
              "       [53481.668 ],\n",
              "       [54767.332 ],\n",
              "       [54742.914 ],\n",
              "       [51528.08  ],\n",
              "       [49445.617 ],\n",
              "       [48571.71  ],\n",
              "       [46304.652 ],\n",
              "       [46383.28  ],\n",
              "       [44714.086 ],\n",
              "       [45673.4   ],\n",
              "       [46374.234 ],\n",
              "       [47694.145 ],\n",
              "       [47632.805 ],\n",
              "       [48185.656 ],\n",
              "       [48247.992 ],\n",
              "       [48963.984 ],\n",
              "       [50215.156 ],\n",
              "       [51803.562 ],\n",
              "       [53754.703 ],\n",
              "       [55617.523 ],\n",
              "       [55760.984 ],\n",
              "       [57510.508 ],\n",
              "       [58312.152 ],\n",
              "       [57154.32  ],\n",
              "       [56852.125 ],\n",
              "       [56980.79  ],\n",
              "       [57179.72  ],\n",
              "       [57418.062 ],\n",
              "       [57660.176 ],\n",
              "       [57298.15  ],\n",
              "       [55485.63  ],\n",
              "       [54194.402 ],\n",
              "       [53191.633 ],\n",
              "       [51931.63  ],\n",
              "       [52594.75  ],\n",
              "       [53855.84  ],\n",
              "       [54113.727 ],\n",
              "       [55385.39  ],\n",
              "       [56305.61  ],\n",
              "       [57279.81  ],\n",
              "       [57699.37  ],\n",
              "       [57733.027 ],\n",
              "       [57117.438 ],\n",
              "       [57311.227 ],\n",
              "       [57364.07  ],\n",
              "       [57192.605 ],\n",
              "       [56674.11  ],\n",
              "       [56391.63  ],\n",
              "       [56407.824 ],\n",
              "       [57306.18  ],\n",
              "       [58054.48  ],\n",
              "       [58208.824 ],\n",
              "       [60340.953 ],\n",
              "       [61564.73  ],\n",
              "       [62083.016 ],\n",
              "       [61944.984 ],\n",
              "       [61051.133 ],\n",
              "       [58569.47  ],\n",
              "       [56779.93  ],\n",
              "       [55892.312 ],\n",
              "       [54140.38  ],\n",
              "       [52157.086 ],\n",
              "       [50998.645 ],\n",
              "       [49782.816 ],\n",
              "       [48354.996 ],\n",
              "       [50129.566 ],\n",
              "       [52088.316 ],\n",
              "       [52905.39  ],\n",
              "       [53055.336 ],\n",
              "       [54833.906 ],\n",
              "       [55536.85  ],\n",
              "       [56081.387 ],\n",
              "       [56385.504 ],\n",
              "       [54876.523 ],\n",
              "       [54953.37  ],\n",
              "       [55168.05  ],\n",
              "       [55185.18  ],\n",
              "       [56604.613 ],\n",
              "       [56732.984 ],\n",
              "       [55667.746 ],\n",
              "       [56245.895 ],\n",
              "       [53425.586 ],\n",
              "       [51445.902 ],\n",
              "       [50395.05  ],\n",
              "       [48932.66  ],\n",
              "       [46459.926 ]], dtype=float32)"
            ]
          },
          "metadata": {
            "tags": []
          },
          "execution_count": 91
        }
      ]
    },
    {
      "cell_type": "markdown",
      "metadata": {
        "id": "Y82CDMWp5Wva"
      },
      "source": [
        "# TODO: Make a multivariate time series \n",
        "\n",
        "Bitcoin price + halving events...\n",
        "\n",
        "-> https://www.investopedia.com/bitcoin-halving-4843769\n",
        "\n",
        "> Vigg_1991: For me … I use sensor data for predictions and forecasting … the toughest part of a time series has been .. when doing multivariate time series … some inputs may have larger scale compared to the target .. therefore do we de-trend all the data to keep them consistent or do we keep them them the way they are … because sometimes they lose the correlation between them once they are retreaded for prediction. How would you handle that ? Or is that important for deep learning predictions?\n",
        "\n",
        "* inputs: larger scale compared to target\n",
        "* detrend all the data to keep them consistent? Or keep the same way?\n",
        "* sometimes they lose the correlation between them once they are de-trended "
      ]
    },
    {
      "cell_type": "code",
      "metadata": {
        "colab": {
          "base_uri": "https://localhost:8080/",
          "height": 228
        },
        "id": "Z06o2ls4sSoF",
        "outputId": "31ae663d-ebad-4f86-8ab7-34993c6e4c20"
      },
      "source": [
        "# Let's make a multivariate time series\n",
        "bitcoin_prices.head()"
      ],
      "execution_count": null,
      "outputs": [
        {
          "output_type": "execute_result",
          "data": {
            "text/html": [
              "<div>\n",
              "<style scoped>\n",
              "    .dataframe tbody tr th:only-of-type {\n",
              "        vertical-align: middle;\n",
              "    }\n",
              "\n",
              "    .dataframe tbody tr th {\n",
              "        vertical-align: top;\n",
              "    }\n",
              "\n",
              "    .dataframe thead th {\n",
              "        text-align: right;\n",
              "    }\n",
              "</style>\n",
              "<table border=\"1\" class=\"dataframe\">\n",
              "  <thead>\n",
              "    <tr style=\"text-align: right;\">\n",
              "      <th></th>\n",
              "      <th>Price</th>\n",
              "    </tr>\n",
              "    <tr>\n",
              "      <th>Date</th>\n",
              "      <th></th>\n",
              "    </tr>\n",
              "  </thead>\n",
              "  <tbody>\n",
              "    <tr>\n",
              "      <th>2013-10-01</th>\n",
              "      <td>123.65499</td>\n",
              "    </tr>\n",
              "    <tr>\n",
              "      <th>2013-10-02</th>\n",
              "      <td>125.45500</td>\n",
              "    </tr>\n",
              "    <tr>\n",
              "      <th>2013-10-03</th>\n",
              "      <td>108.58483</td>\n",
              "    </tr>\n",
              "    <tr>\n",
              "      <th>2013-10-04</th>\n",
              "      <td>118.67466</td>\n",
              "    </tr>\n",
              "    <tr>\n",
              "      <th>2013-10-05</th>\n",
              "      <td>121.33866</td>\n",
              "    </tr>\n",
              "  </tbody>\n",
              "</table>\n",
              "</div>"
            ],
            "text/plain": [
              "                Price\n",
              "Date                 \n",
              "2013-10-01  123.65499\n",
              "2013-10-02  125.45500\n",
              "2013-10-03  108.58483\n",
              "2013-10-04  118.67466\n",
              "2013-10-05  121.33866"
            ]
          },
          "metadata": {
            "tags": []
          },
          "execution_count": 151
        }
      ]
    },
    {
      "cell_type": "code",
      "metadata": {
        "colab": {
          "base_uri": "https://localhost:8080/",
          "height": 228
        },
        "id": "DqPp3HdHsXO8",
        "outputId": "7bc6ec1e-adb1-4ebf-d52a-d40175d6cf6c"
      },
      "source": [
        "# Add windowed columns\n",
        "WINDOW_SIZE = 7\n",
        "bitcoin_prices_windowed = bitcoin_prices.copy()\n",
        "for i in range(WINDOW_SIZE):\n",
        "  bitcoin_prices_windowed[f\"Price+{i+1}\"] = bitcoin_prices_windowed[\"Price\"].shift(i+1)\n",
        "bitcoin_prices_windowed.head()"
      ],
      "execution_count": null,
      "outputs": [
        {
          "output_type": "execute_result",
          "data": {
            "text/html": [
              "<div>\n",
              "<style scoped>\n",
              "    .dataframe tbody tr th:only-of-type {\n",
              "        vertical-align: middle;\n",
              "    }\n",
              "\n",
              "    .dataframe tbody tr th {\n",
              "        vertical-align: top;\n",
              "    }\n",
              "\n",
              "    .dataframe thead th {\n",
              "        text-align: right;\n",
              "    }\n",
              "</style>\n",
              "<table border=\"1\" class=\"dataframe\">\n",
              "  <thead>\n",
              "    <tr style=\"text-align: right;\">\n",
              "      <th></th>\n",
              "      <th>Price</th>\n",
              "      <th>Price+1</th>\n",
              "      <th>Price+2</th>\n",
              "      <th>Price+3</th>\n",
              "      <th>Price+4</th>\n",
              "      <th>Price+5</th>\n",
              "      <th>Price+6</th>\n",
              "      <th>Price+7</th>\n",
              "    </tr>\n",
              "    <tr>\n",
              "      <th>Date</th>\n",
              "      <th></th>\n",
              "      <th></th>\n",
              "      <th></th>\n",
              "      <th></th>\n",
              "      <th></th>\n",
              "      <th></th>\n",
              "      <th></th>\n",
              "      <th></th>\n",
              "    </tr>\n",
              "  </thead>\n",
              "  <tbody>\n",
              "    <tr>\n",
              "      <th>2013-10-01</th>\n",
              "      <td>123.65499</td>\n",
              "      <td>NaN</td>\n",
              "      <td>NaN</td>\n",
              "      <td>NaN</td>\n",
              "      <td>NaN</td>\n",
              "      <td>NaN</td>\n",
              "      <td>NaN</td>\n",
              "      <td>NaN</td>\n",
              "    </tr>\n",
              "    <tr>\n",
              "      <th>2013-10-02</th>\n",
              "      <td>125.45500</td>\n",
              "      <td>123.65499</td>\n",
              "      <td>NaN</td>\n",
              "      <td>NaN</td>\n",
              "      <td>NaN</td>\n",
              "      <td>NaN</td>\n",
              "      <td>NaN</td>\n",
              "      <td>NaN</td>\n",
              "    </tr>\n",
              "    <tr>\n",
              "      <th>2013-10-03</th>\n",
              "      <td>108.58483</td>\n",
              "      <td>125.45500</td>\n",
              "      <td>123.65499</td>\n",
              "      <td>NaN</td>\n",
              "      <td>NaN</td>\n",
              "      <td>NaN</td>\n",
              "      <td>NaN</td>\n",
              "      <td>NaN</td>\n",
              "    </tr>\n",
              "    <tr>\n",
              "      <th>2013-10-04</th>\n",
              "      <td>118.67466</td>\n",
              "      <td>108.58483</td>\n",
              "      <td>125.45500</td>\n",
              "      <td>123.65499</td>\n",
              "      <td>NaN</td>\n",
              "      <td>NaN</td>\n",
              "      <td>NaN</td>\n",
              "      <td>NaN</td>\n",
              "    </tr>\n",
              "    <tr>\n",
              "      <th>2013-10-05</th>\n",
              "      <td>121.33866</td>\n",
              "      <td>118.67466</td>\n",
              "      <td>108.58483</td>\n",
              "      <td>125.45500</td>\n",
              "      <td>123.65499</td>\n",
              "      <td>NaN</td>\n",
              "      <td>NaN</td>\n",
              "      <td>NaN</td>\n",
              "    </tr>\n",
              "  </tbody>\n",
              "</table>\n",
              "</div>"
            ],
            "text/plain": [
              "                Price    Price+1    Price+2  ...  Price+5  Price+6  Price+7\n",
              "Date                                         ...                           \n",
              "2013-10-01  123.65499        NaN        NaN  ...      NaN      NaN      NaN\n",
              "2013-10-02  125.45500  123.65499        NaN  ...      NaN      NaN      NaN\n",
              "2013-10-03  108.58483  125.45500  123.65499  ...      NaN      NaN      NaN\n",
              "2013-10-04  118.67466  108.58483  125.45500  ...      NaN      NaN      NaN\n",
              "2013-10-05  121.33866  118.67466  108.58483  ...      NaN      NaN      NaN\n",
              "\n",
              "[5 rows x 8 columns]"
            ]
          },
          "metadata": {
            "tags": []
          },
          "execution_count": 152
        }
      ]
    },
    {
      "cell_type": "markdown",
      "metadata": {
        "id": "DEqgTKX-t7xe"
      },
      "source": [
        "Now let's add another feature column, the block reward size (the amount of Bitcoin recevied by mining a block, this value halves every ~4 years and may be related to the price).\n",
        "\n",
        "Source: https://www.cmcmarkets.com/en/learn-cryptocurrencies/bitcoin-halving"
      ]
    },
    {
      "cell_type": "code",
      "metadata": {
        "id": "HrUKQXnssWHt"
      },
      "source": [
        "# Block reward values\n",
        "block_reward_1 = 50 # 3 January 2009 (2009-01-03) - this isn't in our dataset (it starts from 01 October 2013)\n",
        "block_reward_2 = 25 # 28 November 2012 \n",
        "block_reward_3 = 12.5 # 9 July 2016\n",
        "block_reward_4 = 6.25 # 11 May 2020\n",
        "\n",
        "# Block reward dates (datetime form of the above date stamps)\n",
        "block_reward_2_datetime = np.datetime64(\"2012-11-28\")\n",
        "block_reward_3_datetime = np.datetime64(\"2016-07-09\")\n",
        "block_reward_4_datetime = np.datetime64(\"2020-05-11\")"
      ],
      "execution_count": null,
      "outputs": []
    },
    {
      "cell_type": "code",
      "metadata": {
        "colab": {
          "base_uri": "https://localhost:8080/"
        },
        "id": "jmawWFj9udzC",
        "outputId": "b23c51e2-8397-4084-d318-45d04eedf55a"
      },
      "source": [
        "# Get date indexes for when to add in different block dates\n",
        "block_reward_2_days = (block_reward_3_datetime - bitcoin_prices_windowed.index[0]).days\n",
        "block_reward_3_days = (block_reward_4_datetime - bitcoin_prices_windowed.index[0]).days\n",
        "block_reward_2_days, block_reward_3_days"
      ],
      "execution_count": null,
      "outputs": [
        {
          "output_type": "execute_result",
          "data": {
            "text/plain": [
              "(1012, 2414)"
            ]
          },
          "metadata": {
            "tags": []
          },
          "execution_count": 154
        }
      ]
    },
    {
      "cell_type": "markdown",
      "metadata": {
        "id": "B2ZxThVAy0B3"
      },
      "source": [
        "Now we can add another feature to our dataset `block_reward` (this gets lower over time so it may lead to increasing prices of Bitcoin)."
      ]
    },
    {
      "cell_type": "code",
      "metadata": {
        "colab": {
          "base_uri": "https://localhost:8080/",
          "height": 228
        },
        "id": "BM9zRZDQvw7m",
        "outputId": "05fd8545-64fc-4574-cf3d-c5f7a872d1aa"
      },
      "source": [
        "# Add block_reward column\n",
        "bitcoin_prices_windowed_block = bitcoin_prices_windowed.copy()\n",
        "bitcoin_prices_windowed_block[\"block_reward\"] = None\n",
        "\n",
        "# Set values of block_reward column (it's the last column hence -1 indexing on iloc)\n",
        "bitcoin_prices_windowed_block.iloc[:block_reward_2_days, -1] = block_reward_2\n",
        "bitcoin_prices_windowed_block.iloc[block_reward_2_days:block_reward_3_days, -1] = block_reward_3\n",
        "bitcoin_prices_windowed_block.iloc[block_reward_3_days:, -1] = block_reward_4\n",
        "bitcoin_prices_windowed_block.head()"
      ],
      "execution_count": null,
      "outputs": [
        {
          "output_type": "execute_result",
          "data": {
            "text/html": [
              "<div>\n",
              "<style scoped>\n",
              "    .dataframe tbody tr th:only-of-type {\n",
              "        vertical-align: middle;\n",
              "    }\n",
              "\n",
              "    .dataframe tbody tr th {\n",
              "        vertical-align: top;\n",
              "    }\n",
              "\n",
              "    .dataframe thead th {\n",
              "        text-align: right;\n",
              "    }\n",
              "</style>\n",
              "<table border=\"1\" class=\"dataframe\">\n",
              "  <thead>\n",
              "    <tr style=\"text-align: right;\">\n",
              "      <th></th>\n",
              "      <th>Price</th>\n",
              "      <th>Price+1</th>\n",
              "      <th>Price+2</th>\n",
              "      <th>Price+3</th>\n",
              "      <th>Price+4</th>\n",
              "      <th>Price+5</th>\n",
              "      <th>Price+6</th>\n",
              "      <th>Price+7</th>\n",
              "      <th>block_reward</th>\n",
              "    </tr>\n",
              "    <tr>\n",
              "      <th>Date</th>\n",
              "      <th></th>\n",
              "      <th></th>\n",
              "      <th></th>\n",
              "      <th></th>\n",
              "      <th></th>\n",
              "      <th></th>\n",
              "      <th></th>\n",
              "      <th></th>\n",
              "      <th></th>\n",
              "    </tr>\n",
              "  </thead>\n",
              "  <tbody>\n",
              "    <tr>\n",
              "      <th>2013-10-01</th>\n",
              "      <td>123.65499</td>\n",
              "      <td>NaN</td>\n",
              "      <td>NaN</td>\n",
              "      <td>NaN</td>\n",
              "      <td>NaN</td>\n",
              "      <td>NaN</td>\n",
              "      <td>NaN</td>\n",
              "      <td>NaN</td>\n",
              "      <td>25</td>\n",
              "    </tr>\n",
              "    <tr>\n",
              "      <th>2013-10-02</th>\n",
              "      <td>125.45500</td>\n",
              "      <td>123.65499</td>\n",
              "      <td>NaN</td>\n",
              "      <td>NaN</td>\n",
              "      <td>NaN</td>\n",
              "      <td>NaN</td>\n",
              "      <td>NaN</td>\n",
              "      <td>NaN</td>\n",
              "      <td>25</td>\n",
              "    </tr>\n",
              "    <tr>\n",
              "      <th>2013-10-03</th>\n",
              "      <td>108.58483</td>\n",
              "      <td>125.45500</td>\n",
              "      <td>123.65499</td>\n",
              "      <td>NaN</td>\n",
              "      <td>NaN</td>\n",
              "      <td>NaN</td>\n",
              "      <td>NaN</td>\n",
              "      <td>NaN</td>\n",
              "      <td>25</td>\n",
              "    </tr>\n",
              "    <tr>\n",
              "      <th>2013-10-04</th>\n",
              "      <td>118.67466</td>\n",
              "      <td>108.58483</td>\n",
              "      <td>125.45500</td>\n",
              "      <td>123.65499</td>\n",
              "      <td>NaN</td>\n",
              "      <td>NaN</td>\n",
              "      <td>NaN</td>\n",
              "      <td>NaN</td>\n",
              "      <td>25</td>\n",
              "    </tr>\n",
              "    <tr>\n",
              "      <th>2013-10-05</th>\n",
              "      <td>121.33866</td>\n",
              "      <td>118.67466</td>\n",
              "      <td>108.58483</td>\n",
              "      <td>125.45500</td>\n",
              "      <td>123.65499</td>\n",
              "      <td>NaN</td>\n",
              "      <td>NaN</td>\n",
              "      <td>NaN</td>\n",
              "      <td>25</td>\n",
              "    </tr>\n",
              "  </tbody>\n",
              "</table>\n",
              "</div>"
            ],
            "text/plain": [
              "                Price    Price+1    Price+2  ...  Price+6  Price+7  block_reward\n",
              "Date                                         ...                                \n",
              "2013-10-01  123.65499        NaN        NaN  ...      NaN      NaN            25\n",
              "2013-10-02  125.45500  123.65499        NaN  ...      NaN      NaN            25\n",
              "2013-10-03  108.58483  125.45500  123.65499  ...      NaN      NaN            25\n",
              "2013-10-04  118.67466  108.58483  125.45500  ...      NaN      NaN            25\n",
              "2013-10-05  121.33866  118.67466  108.58483  ...      NaN      NaN            25\n",
              "\n",
              "[5 rows x 9 columns]"
            ]
          },
          "metadata": {
            "tags": []
          },
          "execution_count": 155
        }
      ]
    },
    {
      "cell_type": "markdown",
      "metadata": {
        "id": "Hv0x9RgJzuKI"
      },
      "source": [
        "TODO: Plot the multivariate time series (price/block_reward over time), these will need to be scaled to plot them "
      ]
    },
    {
      "cell_type": "code",
      "metadata": {
        "colab": {
          "base_uri": "https://localhost:8080/",
          "height": 228
        },
        "id": "VpMH6_Dax2wJ",
        "outputId": "ee94764a-b983-42da-ce4e-7d5b214291d0"
      },
      "source": [
        "# Let's create X & y, convert to float32 to prevent TensorFlow errors\n",
        "X = bitcoin_prices_windowed_block.dropna().drop(\"Price\", axis=1).astype(np.float32)\n",
        "y = bitcoin_prices_windowed_block.dropna()[\"Price\"].astype(np.float32)\n",
        "X.head()"
      ],
      "execution_count": null,
      "outputs": [
        {
          "output_type": "execute_result",
          "data": {
            "text/html": [
              "<div>\n",
              "<style scoped>\n",
              "    .dataframe tbody tr th:only-of-type {\n",
              "        vertical-align: middle;\n",
              "    }\n",
              "\n",
              "    .dataframe tbody tr th {\n",
              "        vertical-align: top;\n",
              "    }\n",
              "\n",
              "    .dataframe thead th {\n",
              "        text-align: right;\n",
              "    }\n",
              "</style>\n",
              "<table border=\"1\" class=\"dataframe\">\n",
              "  <thead>\n",
              "    <tr style=\"text-align: right;\">\n",
              "      <th></th>\n",
              "      <th>Price+1</th>\n",
              "      <th>Price+2</th>\n",
              "      <th>Price+3</th>\n",
              "      <th>Price+4</th>\n",
              "      <th>Price+5</th>\n",
              "      <th>Price+6</th>\n",
              "      <th>Price+7</th>\n",
              "      <th>block_reward</th>\n",
              "    </tr>\n",
              "    <tr>\n",
              "      <th>Date</th>\n",
              "      <th></th>\n",
              "      <th></th>\n",
              "      <th></th>\n",
              "      <th></th>\n",
              "      <th></th>\n",
              "      <th></th>\n",
              "      <th></th>\n",
              "      <th></th>\n",
              "    </tr>\n",
              "  </thead>\n",
              "  <tbody>\n",
              "    <tr>\n",
              "      <th>2013-10-08</th>\n",
              "      <td>121.794998</td>\n",
              "      <td>120.655327</td>\n",
              "      <td>121.338661</td>\n",
              "      <td>118.674660</td>\n",
              "      <td>108.584831</td>\n",
              "      <td>125.455002</td>\n",
              "      <td>123.654991</td>\n",
              "      <td>25.0</td>\n",
              "    </tr>\n",
              "    <tr>\n",
              "      <th>2013-10-09</th>\n",
              "      <td>123.032997</td>\n",
              "      <td>121.794998</td>\n",
              "      <td>120.655327</td>\n",
              "      <td>121.338661</td>\n",
              "      <td>118.674660</td>\n",
              "      <td>108.584831</td>\n",
              "      <td>125.455002</td>\n",
              "      <td>25.0</td>\n",
              "    </tr>\n",
              "    <tr>\n",
              "      <th>2013-10-10</th>\n",
              "      <td>124.049004</td>\n",
              "      <td>123.032997</td>\n",
              "      <td>121.794998</td>\n",
              "      <td>120.655327</td>\n",
              "      <td>121.338661</td>\n",
              "      <td>118.674660</td>\n",
              "      <td>108.584831</td>\n",
              "      <td>25.0</td>\n",
              "    </tr>\n",
              "    <tr>\n",
              "      <th>2013-10-11</th>\n",
              "      <td>125.961159</td>\n",
              "      <td>124.049004</td>\n",
              "      <td>123.032997</td>\n",
              "      <td>121.794998</td>\n",
              "      <td>120.655327</td>\n",
              "      <td>121.338661</td>\n",
              "      <td>118.674660</td>\n",
              "      <td>25.0</td>\n",
              "    </tr>\n",
              "    <tr>\n",
              "      <th>2013-10-12</th>\n",
              "      <td>125.279663</td>\n",
              "      <td>125.961159</td>\n",
              "      <td>124.049004</td>\n",
              "      <td>123.032997</td>\n",
              "      <td>121.794998</td>\n",
              "      <td>120.655327</td>\n",
              "      <td>121.338661</td>\n",
              "      <td>25.0</td>\n",
              "    </tr>\n",
              "  </tbody>\n",
              "</table>\n",
              "</div>"
            ],
            "text/plain": [
              "               Price+1     Price+2  ...     Price+7  block_reward\n",
              "Date                                ...                          \n",
              "2013-10-08  121.794998  120.655327  ...  123.654991          25.0\n",
              "2013-10-09  123.032997  121.794998  ...  125.455002          25.0\n",
              "2013-10-10  124.049004  123.032997  ...  108.584831          25.0\n",
              "2013-10-11  125.961159  124.049004  ...  118.674660          25.0\n",
              "2013-10-12  125.279663  125.961159  ...  121.338661          25.0\n",
              "\n",
              "[5 rows x 8 columns]"
            ]
          },
          "metadata": {
            "tags": []
          },
          "execution_count": 156
        }
      ]
    },
    {
      "cell_type": "code",
      "metadata": {
        "colab": {
          "base_uri": "https://localhost:8080/"
        },
        "id": "8GtEFj6HsVwy",
        "outputId": "ef99877c-f9f0-444d-ebfd-11f13da00d58"
      },
      "source": [
        "# Make train and test sets\n",
        "X_train, y_train = X[:split_size], y[:split_size]\n",
        "X_test, y_test = X[split_size:], y[split_size:]\n",
        "len(X_train), len(y_train), len(X_test), len(y_test)"
      ],
      "execution_count": null,
      "outputs": [
        {
          "output_type": "execute_result",
          "data": {
            "text/plain": [
              "(2229, 2229, 551, 551)"
            ]
          },
          "metadata": {
            "tags": []
          },
          "execution_count": 158
        }
      ]
    },
    {
      "cell_type": "code",
      "metadata": {
        "colab": {
          "base_uri": "https://localhost:8080/"
        },
        "id": "AppTkPafzVyg",
        "outputId": "9bbd380f-a887-473d-ece7-494b85df9b79"
      },
      "source": [
        "tf.random.set_seed(42)\n",
        "\n",
        "# TODO: Change X (model number) to being the actual number\n",
        "# Make multivariate time series model\n",
        "model_X = tf.keras.Sequential([\n",
        "  layers.Dense(128, activation=\"relu\"),\n",
        "  layers.Dense(1)\n",
        "], name=\"model_X_dense_multivariate\")\n",
        "\n",
        "model_X.compile(loss=\"mae\",\n",
        "                optimizer=tf.keras.optimizers.Adam())\n",
        "\n",
        "model_X.fit(X_train, y_train,\n",
        "            epochs=20,\n",
        "            validation_data=(X_test, y_test),\n",
        "            callbacks=[create_model_checkpoint(model_name=model_X.name)])"
      ],
      "execution_count": null,
      "outputs": [
        {
          "output_type": "stream",
          "text": [
            "Epoch 1/20\n",
            "70/70 [==============================] - 1s 3ms/step - loss: 344.3097 - val_loss: 950.2267\n",
            "INFO:tensorflow:Assets written to: model_experiments/model_X_dense_multivariate/assets\n",
            "Epoch 2/20\n",
            "70/70 [==============================] - 0s 2ms/step - loss: 170.1488 - val_loss: 906.0863\n",
            "INFO:tensorflow:Assets written to: model_experiments/model_X_dense_multivariate/assets\n",
            "Epoch 3/20\n",
            "70/70 [==============================] - 0s 2ms/step - loss: 162.5783 - val_loss: 810.1052\n",
            "INFO:tensorflow:Assets written to: model_experiments/model_X_dense_multivariate/assets\n",
            "Epoch 4/20\n",
            "70/70 [==============================] - 0s 2ms/step - loss: 142.9977 - val_loss: 755.9776\n",
            "INFO:tensorflow:Assets written to: model_experiments/model_X_dense_multivariate/assets\n",
            "Epoch 5/20\n",
            "70/70 [==============================] - 0s 2ms/step - loss: 136.4173 - val_loss: 916.6490\n",
            "Epoch 6/20\n",
            "70/70 [==============================] - 0s 2ms/step - loss: 137.8533 - val_loss: 699.0709\n",
            "INFO:tensorflow:Assets written to: model_experiments/model_X_dense_multivariate/assets\n",
            "Epoch 7/20\n",
            "70/70 [==============================] - 0s 2ms/step - loss: 128.4515 - val_loss: 885.4615\n",
            "Epoch 8/20\n",
            "70/70 [==============================] - 0s 2ms/step - loss: 123.8848 - val_loss: 643.7025\n",
            "INFO:tensorflow:Assets written to: model_experiments/model_X_dense_multivariate/assets\n",
            "Epoch 9/20\n",
            "70/70 [==============================] - 0s 2ms/step - loss: 119.5530 - val_loss: 622.4467\n",
            "INFO:tensorflow:Assets written to: model_experiments/model_X_dense_multivariate/assets\n",
            "Epoch 10/20\n",
            "70/70 [==============================] - 0s 2ms/step - loss: 122.1554 - val_loss: 620.3522\n",
            "INFO:tensorflow:Assets written to: model_experiments/model_X_dense_multivariate/assets\n",
            "Epoch 11/20\n",
            "70/70 [==============================] - 0s 2ms/step - loss: 127.5596 - val_loss: 614.3029\n",
            "INFO:tensorflow:Assets written to: model_experiments/model_X_dense_multivariate/assets\n",
            "Epoch 12/20\n",
            "70/70 [==============================] - 0s 2ms/step - loss: 128.3324 - val_loss: 600.6531\n",
            "INFO:tensorflow:Assets written to: model_experiments/model_X_dense_multivariate/assets\n",
            "Epoch 13/20\n",
            "70/70 [==============================] - 0s 2ms/step - loss: 113.9054 - val_loss: 681.0824\n",
            "Epoch 14/20\n",
            "70/70 [==============================] - 0s 2ms/step - loss: 123.4331 - val_loss: 598.5336\n",
            "INFO:tensorflow:Assets written to: model_experiments/model_X_dense_multivariate/assets\n",
            "Epoch 15/20\n",
            "70/70 [==============================] - 0s 2ms/step - loss: 119.0715 - val_loss: 619.8446\n",
            "Epoch 16/20\n",
            "70/70 [==============================] - 0s 2ms/step - loss: 115.1378 - val_loss: 611.3533\n",
            "Epoch 17/20\n",
            "70/70 [==============================] - 0s 2ms/step - loss: 111.7995 - val_loss: 598.0052\n",
            "INFO:tensorflow:Assets written to: model_experiments/model_X_dense_multivariate/assets\n",
            "Epoch 18/20\n",
            "70/70 [==============================] - 0s 2ms/step - loss: 113.9635 - val_loss: 699.6063\n",
            "Epoch 19/20\n",
            "70/70 [==============================] - 0s 2ms/step - loss: 122.3902 - val_loss: 668.4158\n",
            "Epoch 20/20\n",
            "70/70 [==============================] - 0s 2ms/step - loss: 128.6162 - val_loss: 825.1368\n"
          ],
          "name": "stdout"
        },
        {
          "output_type": "execute_result",
          "data": {
            "text/plain": [
              "<tensorflow.python.keras.callbacks.History at 0x7f5f7604dcd0>"
            ]
          },
          "metadata": {
            "tags": []
          },
          "execution_count": 162
        }
      ]
    },
    {
      "cell_type": "code",
      "metadata": {
        "colab": {
          "base_uri": "https://localhost:8080/"
        },
        "id": "PCDHUobK1rvj",
        "outputId": "d959737d-28a6-4a2b-f4ae-bf43a1027716"
      },
      "source": [
        "# Evalaute\n",
        "model_X.evaluate(X_test, y_test)"
      ],
      "execution_count": null,
      "outputs": [
        {
          "output_type": "stream",
          "text": [
            "18/18 [==============================] - 0s 1ms/step - loss: 825.1368\n"
          ],
          "name": "stdout"
        },
        {
          "output_type": "execute_result",
          "data": {
            "text/plain": [
              "825.1367797851562"
            ]
          },
          "metadata": {
            "tags": []
          },
          "execution_count": 167
        }
      ]
    },
    {
      "cell_type": "code",
      "metadata": {
        "colab": {
          "base_uri": "https://localhost:8080/"
        },
        "id": "K1miRk_b3g97",
        "outputId": "52538c46-b2c7-4551-982e-45eeef01e758"
      },
      "source": [
        "# Reload best model\n",
        "model_X = tf.keras.models.load_model(\"model_experiments/model_X_dense_multivariate\")\n",
        "model_X.evaluate(X_test, y_test)"
      ],
      "execution_count": null,
      "outputs": [
        {
          "output_type": "stream",
          "text": [
            "18/18 [==============================] - 0s 1ms/step - loss: 598.0052\n"
          ],
          "name": "stdout"
        },
        {
          "output_type": "execute_result",
          "data": {
            "text/plain": [
              "598.0051879882812"
            ]
          },
          "metadata": {
            "tags": []
          },
          "execution_count": 168
        }
      ]
    },
    {
      "cell_type": "code",
      "metadata": {
        "colab": {
          "base_uri": "https://localhost:8080/"
        },
        "id": "1t9d_Yyx17dE",
        "outputId": "343f1bbb-a25a-44c7-b832-cdfd762c16e9"
      },
      "source": [
        "# Make predictions\n",
        "model_X_preds = tf.squeeze(model_X.predict(X_test))\n",
        "model_X_preds[:10]"
      ],
      "execution_count": null,
      "outputs": [
        {
          "output_type": "execute_result",
          "data": {
            "text/plain": [
              "<tf.Tensor: shape=(10,), dtype=float32, numpy=\n",
              "array([8792.934 , 8705.937 , 8617.653 , 8499.71  , 8567.33  , 8319.603 ,\n",
              "       8183.8174, 8119.6343, 7750.4106, 7407.408 ], dtype=float32)>"
            ]
          },
          "metadata": {
            "tags": []
          },
          "execution_count": 169
        }
      ]
    },
    {
      "cell_type": "code",
      "metadata": {
        "colab": {
          "base_uri": "https://localhost:8080/"
        },
        "id": "MsMPgRO117aB",
        "outputId": "98c8d89b-b46a-4e27-d808-aaa519506707"
      },
      "source": [
        "# Evaluate preds\n",
        "model_X_results = evaluate_preds(y_true=y_test,\n",
        "                                 y_pred=model_X_preds)\n",
        "model_X_results"
      ],
      "execution_count": null,
      "outputs": [
        {
          "output_type": "execute_result",
          "data": {
            "text/plain": [
              "{'mae': 598.0052, 'mape': 2.6974614, 'mse': 1257749.0, 'smape': 2.6735888}"
            ]
          },
          "metadata": {
            "tags": []
          },
          "execution_count": 178
        }
      ]
    },
    {
      "cell_type": "code",
      "metadata": {
        "colab": {
          "base_uri": "https://localhost:8080/"
        },
        "id": "0UtCJYO117XI",
        "outputId": "f51a9c0e-d30c-4ab8-c3a4-3a4ce064467c"
      },
      "source": [
        "model_1_results"
      ],
      "execution_count": null,
      "outputs": [
        {
          "output_type": "execute_result",
          "data": {
            "text/plain": [
              "{'mae': 581.276, 'mape': 2.5996687, 'mse': 1218963.6, 'smape': 2.5956254}"
            ]
          },
          "metadata": {
            "tags": []
          },
          "execution_count": 179
        }
      ]
    },
    {
      "cell_type": "code",
      "metadata": {
        "id": "Y4ktJKW0zViR"
      },
      "source": [
        ""
      ],
      "execution_count": null,
      "outputs": []
    },
    {
      "cell_type": "markdown",
      "metadata": {
        "id": "bfl8rXDVu_pJ"
      },
      "source": [
        "## TODO: Make TensorFlow windows"
      ]
    },
    {
      "cell_type": "code",
      "metadata": {
        "id": "N5Bs0_NwvCFV"
      },
      "source": [
        ""
      ],
      "execution_count": null,
      "outputs": []
    },
    {
      "cell_type": "code",
      "metadata": {
        "id": "BWJe7V5z4ABh"
      },
      "source": [
        ""
      ],
      "execution_count": null,
      "outputs": []
    },
    {
      "cell_type": "markdown",
      "metadata": {
        "id": "UW9oxH47EK-6"
      },
      "source": [
        "## TODO: Make future forecasts...\n",
        "\n",
        "* TODO\n",
        "  * Make forecasting better (how can I forecast on an arbitrary amount of steps)\n",
        "  * Create evaluation method for larger windows/horizons\n",
        "  * Build more modelling experiments\n",
        "  * Create multivariate time series\n",
        "  * Create TensorFlow windowing function\n",
        "\n",
        "* Forecasts can't be compared to anything... because they're a forecast... derp"
      ]
    },
    {
      "cell_type": "code",
      "metadata": {
        "colab": {
          "base_uri": "https://localhost:8080/"
        },
        "id": "uWlh2P7pBQpX",
        "outputId": "b59d2640-df5b-4081-b53b-abd1af6077e5"
      },
      "source": [
        "WINDOW_SIZE"
      ],
      "execution_count": null,
      "outputs": [
        {
          "output_type": "execute_result",
          "data": {
            "text/plain": [
              "10"
            ]
          },
          "metadata": {
            "tags": []
          },
          "execution_count": 365
        }
      ]
    },
    {
      "cell_type": "code",
      "metadata": {
        "id": "0Hu1eH59BcuN"
      },
      "source": [
        "# TODO: Create make forecast function with:\n",
        "# Can forecast on any model\n",
        "# Can forecast on any time series (gets formatted to be same as the model's requirements)"
      ],
      "execution_count": null,
      "outputs": []
    },
    {
      "cell_type": "code",
      "metadata": {
        "colab": {
          "base_uri": "https://localhost:8080/"
        },
        "id": "6WYGil3TBTEA",
        "outputId": "ec25bc72-77be-4b06-c929-e180f6a450ce"
      },
      "source": [
        "# Make forecast with one model... \n",
        "model_3_forecast = model_3.predict(tf.expand_dims(y_test[-model_3.input_shape[-1]:], axis=0))\n",
        "model_3_forecast"
      ],
      "execution_count": null,
      "outputs": [
        {
          "output_type": "execute_result",
          "data": {
            "text/plain": [
              "array([[51037.02]], dtype=float32)"
            ]
          },
          "metadata": {
            "tags": []
          },
          "execution_count": 450
        }
      ]
    },
    {
      "cell_type": "code",
      "metadata": {
        "id": "soQoulDxEhAp"
      },
      "source": [
        "# TODO: Update this to work with future data...\n",
        "def make_future_forecast(model, input_data):\n",
        "  \"\"\"\n",
        "  Uses model to make forecasts on input_data.\n",
        "  \"\"\"\n",
        "  forecast = model.predict(tf.expand_dims(input_data[-model.input_shape[-1]:], axis=0)) # make future predictions on last timestep(s) of input_data\n",
        "  return tf.squeeze(forecast).numpy()"
      ],
      "execution_count": null,
      "outputs": []
    },
    {
      "cell_type": "code",
      "metadata": {
        "colab": {
          "base_uri": "https://localhost:8080/"
        },
        "id": "cU0-6mgXFT3F",
        "outputId": "8c6216a3-480f-4212-ec28-eb40595c4a06"
      },
      "source": [
        "model_2_forecast = make_forecast(model_2, y_test)\n",
        "model_2_forecast"
      ],
      "execution_count": null,
      "outputs": [
        {
          "output_type": "execute_result",
          "data": {
            "text/plain": [
              "array([53904.688, 43581.746, 53670.637, 51078.867, 45989.836, 47447.473,\n",
              "       44555.715, 46859.6  , 54127.32 , 54640.65 , 52999.043, 52226.145,\n",
              "       46463.242, 45323.86 ], dtype=float32)"
            ]
          },
          "metadata": {
            "tags": []
          },
          "execution_count": 454
        }
      ]
    },
    {
      "cell_type": "code",
      "metadata": {
        "colab": {
          "base_uri": "https://localhost:8080/"
        },
        "id": "6cIibo-CFcxA",
        "outputId": "e3167e29-944a-4f7d-b28a-3e7812a7d7eb"
      },
      "source": [
        "model_3_forecast = make_forecast(model_3, y_test)\n",
        "model_3_forecast"
      ],
      "execution_count": null,
      "outputs": [
        {
          "output_type": "execute_result",
          "data": {
            "text/plain": [
              "51037.02"
            ]
          },
          "metadata": {
            "tags": []
          },
          "execution_count": 457
        }
      ]
    },
    {
      "cell_type": "markdown",
      "metadata": {
        "id": "QuaY0cOaCHfr"
      },
      "source": [
        "### TODO: Plot forecasts\n",
        "\n",
        "* Need: \n",
        "  * horizon # of dates in future\n",
        "  * forecast"
      ]
    },
    {
      "cell_type": "code",
      "metadata": {
        "colab": {
          "base_uri": "https://localhost:8080/"
        },
        "id": "6676Sl-cAFn5",
        "outputId": "c8cfc1d7-a4d7-4930-a2de-40e4b84c6640"
      },
      "source": [
        "# Last timestep of timesteps (currently in np.datetime64 format)\n",
        "X_test[-1]"
      ],
      "execution_count": null,
      "outputs": [
        {
          "output_type": "execute_result",
          "data": {
            "text/plain": [
              "numpy.datetime64('2021-05-18T00:00:00.000000000')"
            ]
          },
          "metadata": {
            "tags": []
          },
          "execution_count": 443
        }
      ]
    },
    {
      "cell_type": "code",
      "metadata": {
        "id": "i4iNNliSCbU-"
      },
      "source": [
        "def get_future_dates(start_date, horizon=1, offset=1):\n",
        "  \"\"\"\n",
        "  Returns array of datetime values from ranging from start_date to start_date+horizon.\n",
        "\n",
        "  start_date: date to start range (np.datetime64)\n",
        "  horizon: number of day to add onto start date for range (int)\n",
        "  offset: if offset=1 (default), original date is not included, if offset=0, original date is included\n",
        "  \"\"\"\n",
        "  return np.arange(start_date + np.timedelta64(offset, \"D\"), start_date + np.timedelta64(horizon+1, \"D\"), dtype=\"datetime64[D]\")"
      ],
      "execution_count": null,
      "outputs": []
    },
    {
      "cell_type": "code",
      "metadata": {
        "id": "252bhVD7C5NZ"
      },
      "source": [
        "next_time_steps = get_future_dates(start_date=X_test[-1], horizon=HORIZON)"
      ],
      "execution_count": null,
      "outputs": []
    },
    {
      "cell_type": "code",
      "metadata": {
        "colab": {
          "base_uri": "https://localhost:8080/"
        },
        "id": "gtOqAgSPyjtn",
        "outputId": "e54d6fcf-ac1e-4152-b646-20778f81393d"
      },
      "source": [
        "# Example of getting next two weeks\n",
        "next_two_weeks = get_future_dates(start_date=X_test[-1], horizon=14)\n",
        "next_two_weeks"
      ],
      "execution_count": null,
      "outputs": [
        {
          "output_type": "execute_result",
          "data": {
            "text/plain": [
              "array(['2021-05-19', '2021-05-20', '2021-05-21', '2021-05-22',\n",
              "       '2021-05-23', '2021-05-24', '2021-05-25', '2021-05-26',\n",
              "       '2021-05-27', '2021-05-28', '2021-05-29', '2021-05-30',\n",
              "       '2021-05-31', '2021-06-01'], dtype='datetime64[D]')"
            ]
          },
          "metadata": {
            "tags": []
          },
          "execution_count": 544
        }
      ]
    },
    {
      "cell_type": "code",
      "metadata": {
        "id": "G_5UX08aCThS"
      },
      "source": [
        "model_2_forecast = np.insert(model_2_forecast, 0, y_test[-1]) \n",
        "future_dates = np.insert(next_two_weeks, 0, X_test[-1])"
      ],
      "execution_count": null,
      "outputs": []
    },
    {
      "cell_type": "code",
      "metadata": {
        "colab": {
          "base_uri": "https://localhost:8080/"
        },
        "id": "iBj7y088EAYc",
        "outputId": "b56e0a2e-76f6-4189-f678-559a602bfe79"
      },
      "source": [
        "model_2_forecast, future_dates"
      ],
      "execution_count": null,
      "outputs": [
        {
          "output_type": "execute_result",
          "data": {
            "text/plain": [
              "(array([43144.473, 53904.688, 43581.746, 53670.637, 51078.867, 45989.836,\n",
              "        47447.473, 44555.715, 46859.6  , 54127.32 , 54640.65 , 52999.043,\n",
              "        52226.145, 46463.242, 45323.86 ], dtype=float32),\n",
              " array(['2021-05-18', '2021-05-19', '2021-05-20', '2021-05-21',\n",
              "        '2021-05-22', '2021-05-23', '2021-05-24', '2021-05-25',\n",
              "        '2021-05-26', '2021-05-27', '2021-05-28', '2021-05-29',\n",
              "        '2021-05-30', '2021-05-31', '2021-06-01'], dtype='datetime64[D]'))"
            ]
          },
          "metadata": {
            "tags": []
          },
          "execution_count": 546
        }
      ]
    },
    {
      "cell_type": "markdown",
      "metadata": {
        "id": "V4jPtORZEgs9"
      },
      "source": [
        "TODO: Fix the below graph to have model_2_preds... continued into model 2 forecast, want to have the windowed forecast plottable & then predictions being able to be made multiple steps into the future"
      ]
    },
    {
      "cell_type": "code",
      "metadata": {
        "colab": {
          "base_uri": "https://localhost:8080/"
        },
        "id": "GyaSsy8bJw5-",
        "outputId": "3debee8b-a82b-4a0f-e105-55f6379a4349"
      },
      "source": [
        "tf.keras.metrics.mean_absolute_error(y_test[WINDOW_SIZE:-(len(y_test) % HORIZON)-1], # account for window sizes/cutoff\n",
        "                                     tf.reduce_mean(model_2_preds, axis=1))"
      ],
      "execution_count": null,
      "outputs": [
        {
          "output_type": "execute_result",
          "data": {
            "text/plain": [
              "<tf.Tensor: shape=(), dtype=float32, numpy=1481.0415>"
            ]
          },
          "metadata": {
            "tags": []
          },
          "execution_count": 528
        }
      ]
    },
    {
      "cell_type": "code",
      "metadata": {
        "colab": {
          "base_uri": "https://localhost:8080/"
        },
        "id": "xTYDnN2WGhu9",
        "outputId": "90215aa3-9fb1-4821-b91d-508c5cdcf3a1"
      },
      "source": [
        "model_2_results"
      ],
      "execution_count": null,
      "outputs": [
        {
          "output_type": "execute_result",
          "data": {
            "text/plain": [
              "{'mae': 2529.3965, 'mape': 9.727565, 'mse': 16825896.0, 'smape': 10.112202}"
            ]
          },
          "metadata": {
            "tags": []
          },
          "execution_count": 529
        }
      ]
    },
    {
      "cell_type": "code",
      "metadata": {
        "colab": {
          "base_uri": "https://localhost:8080/"
        },
        "id": "Yw-e5fkcMOAl",
        "outputId": "5341bffb-fce2-4ecf-fb8e-8a98d66edcbc"
      },
      "source": [
        "y_test[140:140+14], test_labels[0]"
      ],
      "execution_count": null,
      "outputs": [
        {
          "output_type": "execute_result",
          "data": {
            "text/plain": [
              "(array([6721.49539238, 6682.7800492 , 6229.48834283, 5922.48983509,\n",
              "        6483.73944553, 6446.42134684, 6537.3364615 , 6850.55871169,\n",
              "        6776.37009357, 6855.93326446, 6805.3622869 , 7278.24396977,\n",
              "        7175.66747656, 7367.29339845]),\n",
              " array([6721.49539238, 6682.7800492 , 6229.48834283, 5922.48983509,\n",
              "        6483.73944553, 6446.42134684, 6537.3364615 , 6850.55871169,\n",
              "        6776.37009357, 6855.93326446, 6805.3622869 , 7278.24396977,\n",
              "        7175.66747656, 7367.29339845]))"
            ]
          },
          "metadata": {
            "tags": []
          },
          "execution_count": 551
        }
      ]
    },
    {
      "cell_type": "code",
      "metadata": {
        "colab": {
          "base_uri": "https://localhost:8080/"
        },
        "id": "QNC3HzAGLM1z",
        "outputId": "b3af51ad-69e9-4107-9b2c-cdcf54656cce"
      },
      "source": [
        "tf.reduce_mean(model_2_preds[-100:], axis=1)"
      ],
      "execution_count": null,
      "outputs": [
        {
          "output_type": "execute_result",
          "data": {
            "text/plain": [
              "<tf.Tensor: shape=(100,), dtype=float32, numpy=\n",
              "array([36701.473, 36144.57 , 35764.348, 34901.656, 34843.71 , 35094.81 ,\n",
              "       35132.727, 34703.82 , 34822.19 , 34917.02 , 35235.418, 35918.348,\n",
              "       36537.855, 36705.363, 37077.176, 38421.293, 39489.344, 40080.098,\n",
              "       40876.883, 42075.066, 43110.34 , 44393.844, 45216.777, 45956.57 ,\n",
              "       46855.19 , 48068.395, 49270.723, 50073.617, 51104.812, 51841.305,\n",
              "       51963.098, 52384.965, 52220.   , 51455.895, 51411.168, 51489.188,\n",
              "       51131.52 , 50980.19 , 50987.875, 51007.54 , 51163.258, 51886.066,\n",
              "       52521.082, 52356.008, 53245.973, 54041.48 , 55264.96 , 55964.742,\n",
              "       56759.926, 57594.387, 58877.68 , 59014.035, 59824.086, 59583.305,\n",
              "       59824.34 , 60218.43 , 59945.965, 59501.598, 58837.625, 58398.35 ,\n",
              "       57354.477, 57350.035, 57393.535, 56191.32 , 56402.09 , 56915.77 ,\n",
              "       56231.77 , 56628.395, 56597.395, 56858.844, 57405.73 , 58069.418,\n",
              "       57892.56 , 57875.32 , 57569.188, 58106.938, 58683.445, 59460.043,\n",
              "       60356.37 , 61224.145, 61700.85 , 62376.965, 63341.246, 63533.957,\n",
              "       63728.312, 63351.645, 63100.29 , 62591.418, 61397.555, 60589.914,\n",
              "       60047.062, 58441.508, 58210.43 , 58898.125, 57963.316, 57164.215,\n",
              "       57364.543, 56864.16 , 56845.277, 56932.164], dtype=float32)>"
            ]
          },
          "metadata": {
            "tags": []
          },
          "execution_count": 549
        }
      ]
    },
    {
      "cell_type": "code",
      "metadata": {
        "colab": {
          "base_uri": "https://localhost:8080/"
        },
        "id": "ShxXEbrGNQ1Q",
        "outputId": "5a3e10e0-25d6-469f-d809-4be40346e9f4"
      },
      "source": [
        "100-len(y_test) % HORIZON - 1"
      ],
      "execution_count": null,
      "outputs": [
        {
          "output_type": "execute_result",
          "data": {
            "text/plain": [
              "87"
            ]
          },
          "metadata": {
            "tags": []
          },
          "execution_count": 556
        }
      ]
    },
    {
      "cell_type": "code",
      "metadata": {
        "colab": {
          "base_uri": "https://localhost:8080/"
        },
        "id": "3t7X4qdnNd49",
        "outputId": "be879017-f34c-4879-c30b-da8c00d5f0fb"
      },
      "source": [
        "100+((len(y_test) % HORIZON) - 1)"
      ],
      "execution_count": null,
      "outputs": [
        {
          "output_type": "execute_result",
          "data": {
            "text/plain": [
              "111"
            ]
          },
          "metadata": {
            "tags": []
          },
          "execution_count": 564
        }
      ]
    },
    {
      "cell_type": "code",
      "metadata": {
        "colab": {
          "base_uri": "https://localhost:8080/"
        },
        "id": "sd7o-YLKNsyU",
        "outputId": "a1fd41b8-87c1-4753-a9ff-53f4117de4ef"
      },
      "source": [
        "X_test[-111]"
      ],
      "execution_count": null,
      "outputs": [
        {
          "output_type": "execute_result",
          "data": {
            "text/plain": [
              "numpy.datetime64('2021-01-28T00:00:00.000000000')"
            ]
          },
          "metadata": {
            "tags": []
          },
          "execution_count": 565
        }
      ]
    },
    {
      "cell_type": "code",
      "metadata": {
        "colab": {
          "base_uri": "https://localhost:8080/"
        },
        "id": "2l1nbCpMN29T",
        "outputId": "77b16be9-5635-42e4-d2da-42588a3ed7b5"
      },
      "source": [
        "# Does indexing on this account for the lagging window???\n",
        "(100+(len(y_test) % HORIZON) - 1)"
      ],
      "execution_count": null,
      "outputs": [
        {
          "output_type": "execute_result",
          "data": {
            "text/plain": [
              "111"
            ]
          },
          "metadata": {
            "tags": []
          },
          "execution_count": 566
        }
      ]
    },
    {
      "cell_type": "code",
      "metadata": {
        "colab": {
          "base_uri": "https://localhost:8080/",
          "height": 447
        },
        "id": "B_7z2XE5N9mj",
        "outputId": "299990ef-0b00-4190-dffd-99c330a36334"
      },
      "source": [
        "## TODO: Note the non-adjusted plot here...\n",
        "# Plot forecast\n",
        "plt.figure(figsize=(10, 7))\n",
        "plt.plot(X_test[-100:], y_test[-100:], label=\"test_data\")\n",
        "# plt.plot(X_train, y_train)\n",
        "plt.plot(X_test[-100:], tf.reduce_mean(model_2_preds[-100:], axis=1), label=\"model_2_preds\")\n",
        "plt.plot(future_dates, model_2_forecast.ravel(), label=\"model_2_forecast\")\n",
        "plt.legend()\n",
        "plt.plot()"
      ],
      "execution_count": null,
      "outputs": [
        {
          "output_type": "execute_result",
          "data": {
            "text/plain": [
              "[]"
            ]
          },
          "metadata": {
            "tags": []
          },
          "execution_count": 569
        },
        {
          "output_type": "display_data",
          "data": {
            "image/png": "[encoded data removed]",
            "text/plain": [
              "<Figure size 720x504 with 1 Axes>"
            ]
          },
          "metadata": {
            "tags": [],
            "needs_background": "light"
          }
        }
      ]
    },
    {
      "cell_type": "code",
      "metadata": {
        "colab": {
          "base_uri": "https://localhost:8080/",
          "height": 447
        },
        "id": "MqTK7pr688o2",
        "outputId": "786ba446-0e9f-4647-a00c-6bbde286097d"
      },
      "source": [
        "## TODO: Note the adjusted plot here...\n",
        "# Plot forecast\n",
        "plt.figure(figsize=(10, 7))\n",
        "plt.plot(X_test[-100:], y_test[-100:], label=\"test_data\")\n",
        "# plt.plot(X_train, y_train)\n",
        "plt.plot(X_test[-(100+HORIZON):-HORIZON], tf.reduce_mean(model_2_preds[-100:], axis=1), label=\"model_2_preds\")\n",
        "plt.plot(future_dates, model_2_forecast.ravel(), label=\"model_2_forecast\")\n",
        "plt.legend()\n",
        "plt.plot()"
      ],
      "execution_count": null,
      "outputs": [
        {
          "output_type": "execute_result",
          "data": {
            "text/plain": [
              "[]"
            ]
          },
          "metadata": {
            "tags": []
          },
          "execution_count": 571
        },
        {
          "output_type": "display_data",
          "data": {
            "image/png": "[encoded data removed]",
            "text/plain": [
              "<Figure size 720x504 with 1 Axes>"
            ]
          },
          "metadata": {
            "tags": [],
            "needs_background": "light"
          }
        }
      ]
    },
    {
      "cell_type": "code",
      "metadata": {
        "id": "_bSQcfknCjN4"
      },
      "source": [
        ""
      ],
      "execution_count": null,
      "outputs": []
    },
    {
      "cell_type": "code",
      "metadata": {
        "id": "ZcbnNGhhL6ss"
      },
      "source": [
        ""
      ],
      "execution_count": null,
      "outputs": []
    },
    {
      "cell_type": "code",
      "metadata": {
        "id": "b4W2c9woL6jZ"
      },
      "source": [
        ""
      ],
      "execution_count": null,
      "outputs": []
    },
    {
      "cell_type": "code",
      "metadata": {
        "id": "4dfvsCORCjIi"
      },
      "source": [
        ""
      ],
      "execution_count": null,
      "outputs": []
    },
    {
      "cell_type": "code",
      "metadata": {
        "id": "z7XrBXMy5WQG"
      },
      "source": [
        ""
      ],
      "execution_count": null,
      "outputs": []
    },
    {
      "cell_type": "code",
      "metadata": {
        "id": "KVZ92raO5WL-"
      },
      "source": [
        ""
      ],
      "execution_count": null,
      "outputs": []
    },
    {
      "cell_type": "code",
      "metadata": {
        "id": "RSTXtKsI5WIh"
      },
      "source": [
        ""
      ],
      "execution_count": null,
      "outputs": []
    },
    {
      "cell_type": "code",
      "metadata": {
        "id": "7VCekOGZ5WFi"
      },
      "source": [
        ""
      ],
      "execution_count": null,
      "outputs": []
    },
    {
      "cell_type": "markdown",
      "metadata": {
        "id": "RyK5r-j5Y--4"
      },
      "source": [
        "## TODO: Make TensorFlow tf.data Windowed Dataset"
      ]
    },
    {
      "cell_type": "code",
      "metadata": {
        "id": "ebeKFCfSBk-b"
      },
      "source": [
        ""
      ],
      "execution_count": null,
      "outputs": []
    },
    {
      "cell_type": "code",
      "metadata": {
        "id": "2F6tqMSB5VQw"
      },
      "source": [
        ""
      ],
      "execution_count": null,
      "outputs": []
    },
    {
      "cell_type": "code",
      "metadata": {
        "id": "XAeNIp1IYzz5"
      },
      "source": [
        ""
      ],
      "execution_count": null,
      "outputs": []
    },
    {
      "cell_type": "code",
      "metadata": {
        "id": "cQFBrdoFYzp-"
      },
      "source": [
        ""
      ],
      "execution_count": null,
      "outputs": []
    },
    {
      "cell_type": "code",
      "metadata": {
        "id": "jak40o1MYznM"
      },
      "source": [
        ""
      ],
      "execution_count": null,
      "outputs": []
    },
    {
      "cell_type": "code",
      "metadata": {
        "id": "bEPwZjIASOWg"
      },
      "source": [
        "# TODO: Use entire time series to predict next step, compare to actual data \n",
        "# (e.g. revisit the prices in 1 week & see how the model goes)\n",
        "# Start date: 18 May 2021\n",
        "# End date: 25 May 2021 (revisit the updated prices here & see how wrong the model is...)"
      ],
      "execution_count": null,
      "outputs": []
    },
    {
      "cell_type": "markdown",
      "metadata": {
        "id": "fVGY8WhHBlHV"
      },
      "source": [
        "## TODO: Uncertainty estimates"
      ]
    },
    {
      "cell_type": "markdown",
      "metadata": {
        "id": "SQsz_JNwBooW"
      },
      "source": [
        "### TODO: Model X: (model with Dropout to make MC Dropout model)..."
      ]
    },
    {
      "cell_type": "code",
      "metadata": {
        "id": "-Neg2BC6Bo_F"
      },
      "source": [
        ""
      ],
      "execution_count": null,
      "outputs": []
    },
    {
      "cell_type": "code",
      "metadata": {
        "id": "_n3iKK_mz9Uu"
      },
      "source": [
        ""
      ],
      "execution_count": null,
      "outputs": []
    },
    {
      "cell_type": "markdown",
      "metadata": {
        "id": "U5VMaZ1UBpXt"
      },
      "source": [
        "# TODO: Why forecasting is BS (turkey problem)\n",
        "\n",
        "TK - inject a turkey problem piece of data into the model & see how it effects (e.g. 1 data point that's 50x of outlier)\n",
        "\n",
        "* See this video: https://youtu.be/hRwimmE2wEk\n",
        "* Open system: beware (like fortune telling), see Mark Saroufim's tweet - https://twitter.com/marksaroufim/status/1366871736604532739?s=20\n",
        "* Closed system: try it out"
      ]
    },
    {
      "cell_type": "code",
      "metadata": {
        "id": "KD50Xt36BsOk"
      },
      "source": [
        ""
      ],
      "execution_count": null,
      "outputs": []
    },
    {
      "cell_type": "code",
      "metadata": {
        "id": "kUFWcnNGB7yn"
      },
      "source": [
        ""
      ],
      "execution_count": null,
      "outputs": []
    },
    {
      "cell_type": "code",
      "metadata": {
        "id": "DgG2hk9PB7wi"
      },
      "source": [
        ""
      ],
      "execution_count": null,
      "outputs": []
    },
    {
      "cell_type": "code",
      "metadata": {
        "id": "dPWjKlk_B7tb"
      },
      "source": [
        ""
      ],
      "execution_count": null,
      "outputs": []
    },
    {
      "cell_type": "code",
      "metadata": {
        "id": "JLSwuKgzB7q_"
      },
      "source": [
        ""
      ],
      "execution_count": null,
      "outputs": []
    },
    {
      "cell_type": "markdown",
      "metadata": {
        "id": "47VA8gR3B7QP"
      },
      "source": [
        "# TODO: Exercises"
      ]
    },
    {
      "cell_type": "code",
      "metadata": {
        "id": "vSZLIopuCAJN"
      },
      "source": [
        ""
      ],
      "execution_count": null,
      "outputs": []
    },
    {
      "cell_type": "markdown",
      "metadata": {
        "id": "iiOlVRREB7No"
      },
      "source": [
        "## TODO: Extra-curriculum"
      ]
    },
    {
      "cell_type": "markdown",
      "metadata": {
        "id": "L2PgJ141B7HG"
      },
      "source": [
        ""
      ]
    }
  ]
}