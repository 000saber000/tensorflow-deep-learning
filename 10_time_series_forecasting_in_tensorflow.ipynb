{
  "nbformat": 4,
  "nbformat_minor": 0,
  "metadata": {
    "colab": {
      "name": "10_time_series_forecasting_in_tensorflow.ipynb",
      "provenance": [],
      "collapsed_sections": [],
      "toc_visible": true,
      "authorship_tag": "ABX9TyPnv96LP6gaN7vUXWyyP6ck",
      "include_colab_link": true
    },
    "kernelspec": {
      "name": "python3",
      "display_name": "Python 3"
    },
    "language_info": {
      "name": "python"
    }
  },
  "cells": [
    {
      "cell_type": "markdown",
      "metadata": {
        "id": "view-in-github",
        "colab_type": "text"
      },
      "source": [
        "<a href=\"https://colab.research.google.com/github/mrdbourke/tensorflow-deep-learning/blob/main/10_time_series_forecasting_in_tensorflow.ipynb\" target=\"_parent\"><img src=\"https://colab.research.google.com/assets/colab-badge.svg\" alt=\"Open In Colab\"/></a>"
      ]
    },
    {
      "cell_type": "markdown",
      "metadata": {
        "id": "vlVtweEv7nAx"
      },
      "source": [
        "# Note: This notebook is a work in progress & will be updated continuously over the next week or so before it's ready - 25 May 2021\n",
        "\n",
        "# Time series forecasting in TensorFlow\n",
        "\n",
        "The goal of this notebook is to get you familiar with working with time series data.\n",
        "\n",
        "It won't cover all of the time series field but by the end you will get a fairly good overview of things to consider for time series problems...\n",
        "\n",
        "Outline:\n",
        "* Get data (a time series)\n",
        "* Format data\n",
        "  * Turn data into a windowed dataset\n",
        "  * Training/test sets for time series\n",
        "  * Univariate - Bitcoin's price history\n",
        "  * Multivariate - Bitcoin's price history + block size\n",
        "* Model data\n",
        "  * Baseline - naive forecasting\n",
        "  * Baseline 2 - random forest regressor - https://youtu.be/5qgk9QJ4rdQ \n",
        "  * Deep model - fully connected\n",
        "  * Sequence models\n",
        "    * LSTM\n",
        "    * Conv1D\n",
        "  * N-Beats algorithm - https://arxiv.org/pdf/1905.10437.pdf\n",
        "* Evaluating a time series model\n",
        "  * MAE\n",
        "  * MSE\n",
        "  * RMSE etc...\n",
        "* Uncertainty estimates\n",
        "  * Coconut uncertainty - epistemic uncertainty\n",
        "  * Subway uncertainty - aleatory uncertainty\n",
        "* Why forecasting is BS (turkey problem) - https://youtu.be/hRwimmE2wEk\n",
        "  * Open system: beware (like fortune telling), see Mark Saroufim's tweet - https://twitter.com/marksaroufim/status/1366871736604532739?s=20 \n",
        "  * Closed system: try it out \n",
        "* Exercises\n",
        "* Extra-curriculum\n",
        "  * Time series book - https://otexts.com/fpp2/accuracy.html \n"
      ]
    },
    {
      "cell_type": "markdown",
      "metadata": {
        "id": "ZdeV4DEeAjF2"
      },
      "source": [
        "## TODO: What is a time series problem?\n",
        "\n",
        "* Forecasting\n",
        "* Classification"
      ]
    },
    {
      "cell_type": "code",
      "metadata": {
        "id": "KLYm5RqV4NA2"
      },
      "source": [
        "# This Colab requires TF 2.5.\n",
        "!pip install -U tensorflow>=2.5"
      ],
      "execution_count": 1,
      "outputs": []
    },
    {
      "cell_type": "code",
      "metadata": {
        "colab": {
          "base_uri": "https://localhost:8080/",
          "height": 35
        },
        "id": "P-dgXYt026DE",
        "outputId": "72529239-800d-4db5-c8f5-300f10364bd4"
      },
      "source": [
        "import tensorflow as tf\n",
        "tf.__version__"
      ],
      "execution_count": 2,
      "outputs": [
        {
          "output_type": "execute_result",
          "data": {
            "application/vnd.google.colaboratory.intrinsic+json": {
              "type": "string"
            },
            "text/plain": [
              "'2.5.0'"
            ]
          },
          "metadata": {
            "tags": []
          },
          "execution_count": 2
        }
      ]
    },
    {
      "cell_type": "code",
      "metadata": {
        "colab": {
          "base_uri": "https://localhost:8080/"
        },
        "id": "iPcoD-l429T4",
        "outputId": "64864bc9-1860-43a1-fc90-943a68e40fa5"
      },
      "source": [
        "!pip3 install -U tensorflow_decision_forests"
      ],
      "execution_count": 3,
      "outputs": [
        {
          "output_type": "stream",
          "text": [
            "Requirement already up-to-date: tensorflow_decision_forests in /usr/local/lib/python3.7/dist-packages (0.1.4)\n",
            "Requirement already satisfied, skipping upgrade: tensorflow~=2.5 in /usr/local/lib/python3.7/dist-packages (from tensorflow_decision_forests) (2.5.0)\n",
            "Requirement already satisfied, skipping upgrade: six in /usr/local/lib/python3.7/dist-packages (from tensorflow_decision_forests) (1.15.0)\n",
            "Requirement already satisfied, skipping upgrade: absl-py in /usr/local/lib/python3.7/dist-packages (from tensorflow_decision_forests) (0.12.0)\n",
            "Requirement already satisfied, skipping upgrade: pandas in /usr/local/lib/python3.7/dist-packages (from tensorflow_decision_forests) (1.1.5)\n",
            "Requirement already satisfied, skipping upgrade: wheel in /usr/local/lib/python3.7/dist-packages (from tensorflow_decision_forests) (0.36.2)\n",
            "Requirement already satisfied, skipping upgrade: numpy in /usr/local/lib/python3.7/dist-packages (from tensorflow_decision_forests) (1.19.5)\n",
            "Requirement already satisfied, skipping upgrade: h5py~=3.1.0 in /usr/local/lib/python3.7/dist-packages (from tensorflow~=2.5->tensorflow_decision_forests) (3.1.0)\n",
            "Requirement already satisfied, skipping upgrade: protobuf>=3.9.2 in /usr/local/lib/python3.7/dist-packages (from tensorflow~=2.5->tensorflow_decision_forests) (3.12.4)\n",
            "Requirement already satisfied, skipping upgrade: typing-extensions~=3.7.4 in /usr/local/lib/python3.7/dist-packages (from tensorflow~=2.5->tensorflow_decision_forests) (3.7.4.3)\n",
            "Requirement already satisfied, skipping upgrade: keras-preprocessing~=1.1.2 in /usr/local/lib/python3.7/dist-packages (from tensorflow~=2.5->tensorflow_decision_forests) (1.1.2)\n",
            "Requirement already satisfied, skipping upgrade: termcolor~=1.1.0 in /usr/local/lib/python3.7/dist-packages (from tensorflow~=2.5->tensorflow_decision_forests) (1.1.0)\n",
            "Requirement already satisfied, skipping upgrade: gast==0.4.0 in /usr/local/lib/python3.7/dist-packages (from tensorflow~=2.5->tensorflow_decision_forests) (0.4.0)\n",
            "Requirement already satisfied, skipping upgrade: wrapt~=1.12.1 in /usr/local/lib/python3.7/dist-packages (from tensorflow~=2.5->tensorflow_decision_forests) (1.12.1)\n",
            "Requirement already satisfied, skipping upgrade: opt-einsum~=3.3.0 in /usr/local/lib/python3.7/dist-packages (from tensorflow~=2.5->tensorflow_decision_forests) (3.3.0)\n",
            "Requirement already satisfied, skipping upgrade: tensorflow-estimator<2.6.0,>=2.5.0rc0 in /usr/local/lib/python3.7/dist-packages (from tensorflow~=2.5->tensorflow_decision_forests) (2.5.0)\n",
            "Requirement already satisfied, skipping upgrade: tensorboard~=2.5 in /usr/local/lib/python3.7/dist-packages (from tensorflow~=2.5->tensorflow_decision_forests) (2.5.0)\n",
            "Requirement already satisfied, skipping upgrade: astunparse~=1.6.3 in /usr/local/lib/python3.7/dist-packages (from tensorflow~=2.5->tensorflow_decision_forests) (1.6.3)\n",
            "Requirement already satisfied, skipping upgrade: grpcio~=1.34.0 in /usr/local/lib/python3.7/dist-packages (from tensorflow~=2.5->tensorflow_decision_forests) (1.34.1)\n",
            "Requirement already satisfied, skipping upgrade: google-pasta~=0.2 in /usr/local/lib/python3.7/dist-packages (from tensorflow~=2.5->tensorflow_decision_forests) (0.2.0)\n",
            "Requirement already satisfied, skipping upgrade: keras-nightly~=2.5.0.dev in /usr/local/lib/python3.7/dist-packages (from tensorflow~=2.5->tensorflow_decision_forests) (2.5.0.dev2021032900)\n",
            "Requirement already satisfied, skipping upgrade: flatbuffers~=1.12.0 in /usr/local/lib/python3.7/dist-packages (from tensorflow~=2.5->tensorflow_decision_forests) (1.12)\n",
            "Requirement already satisfied, skipping upgrade: pytz>=2017.2 in /usr/local/lib/python3.7/dist-packages (from pandas->tensorflow_decision_forests) (2018.9)\n",
            "Requirement already satisfied, skipping upgrade: python-dateutil>=2.7.3 in /usr/local/lib/python3.7/dist-packages (from pandas->tensorflow_decision_forests) (2.8.1)\n",
            "Requirement already satisfied, skipping upgrade: cached-property; python_version < \"3.8\" in /usr/local/lib/python3.7/dist-packages (from h5py~=3.1.0->tensorflow~=2.5->tensorflow_decision_forests) (1.5.2)\n",
            "Requirement already satisfied, skipping upgrade: setuptools in /usr/local/lib/python3.7/dist-packages (from protobuf>=3.9.2->tensorflow~=2.5->tensorflow_decision_forests) (56.1.0)\n",
            "Requirement already satisfied, skipping upgrade: requests<3,>=2.21.0 in /usr/local/lib/python3.7/dist-packages (from tensorboard~=2.5->tensorflow~=2.5->tensorflow_decision_forests) (2.23.0)\n",
            "Requirement already satisfied, skipping upgrade: google-auth-oauthlib<0.5,>=0.4.1 in /usr/local/lib/python3.7/dist-packages (from tensorboard~=2.5->tensorflow~=2.5->tensorflow_decision_forests) (0.4.4)\n",
            "Requirement already satisfied, skipping upgrade: markdown>=2.6.8 in /usr/local/lib/python3.7/dist-packages (from tensorboard~=2.5->tensorflow~=2.5->tensorflow_decision_forests) (3.3.4)\n",
            "Requirement already satisfied, skipping upgrade: tensorboard-plugin-wit>=1.6.0 in /usr/local/lib/python3.7/dist-packages (from tensorboard~=2.5->tensorflow~=2.5->tensorflow_decision_forests) (1.8.0)\n",
            "Requirement already satisfied, skipping upgrade: tensorboard-data-server<0.7.0,>=0.6.0 in /usr/local/lib/python3.7/dist-packages (from tensorboard~=2.5->tensorflow~=2.5->tensorflow_decision_forests) (0.6.1)\n",
            "Requirement already satisfied, skipping upgrade: werkzeug>=0.11.15 in /usr/local/lib/python3.7/dist-packages (from tensorboard~=2.5->tensorflow~=2.5->tensorflow_decision_forests) (2.0.0)\n",
            "Requirement already satisfied, skipping upgrade: google-auth<2,>=1.6.3 in /usr/local/lib/python3.7/dist-packages (from tensorboard~=2.5->tensorflow~=2.5->tensorflow_decision_forests) (1.30.0)\n",
            "Requirement already satisfied, skipping upgrade: certifi>=2017.4.17 in /usr/local/lib/python3.7/dist-packages (from requests<3,>=2.21.0->tensorboard~=2.5->tensorflow~=2.5->tensorflow_decision_forests) (2020.12.5)\n",
            "Requirement already satisfied, skipping upgrade: chardet<4,>=3.0.2 in /usr/local/lib/python3.7/dist-packages (from requests<3,>=2.21.0->tensorboard~=2.5->tensorflow~=2.5->tensorflow_decision_forests) (3.0.4)\n",
            "Requirement already satisfied, skipping upgrade: urllib3!=1.25.0,!=1.25.1,<1.26,>=1.21.1 in /usr/local/lib/python3.7/dist-packages (from requests<3,>=2.21.0->tensorboard~=2.5->tensorflow~=2.5->tensorflow_decision_forests) (1.24.3)\n",
            "Requirement already satisfied, skipping upgrade: idna<3,>=2.5 in /usr/local/lib/python3.7/dist-packages (from requests<3,>=2.21.0->tensorboard~=2.5->tensorflow~=2.5->tensorflow_decision_forests) (2.10)\n",
            "Requirement already satisfied, skipping upgrade: requests-oauthlib>=0.7.0 in /usr/local/lib/python3.7/dist-packages (from google-auth-oauthlib<0.5,>=0.4.1->tensorboard~=2.5->tensorflow~=2.5->tensorflow_decision_forests) (1.3.0)\n",
            "Requirement already satisfied, skipping upgrade: importlib-metadata; python_version < \"3.8\" in /usr/local/lib/python3.7/dist-packages (from markdown>=2.6.8->tensorboard~=2.5->tensorflow~=2.5->tensorflow_decision_forests) (4.0.1)\n",
            "Requirement already satisfied, skipping upgrade: pyasn1-modules>=0.2.1 in /usr/local/lib/python3.7/dist-packages (from google-auth<2,>=1.6.3->tensorboard~=2.5->tensorflow~=2.5->tensorflow_decision_forests) (0.2.8)\n",
            "Requirement already satisfied, skipping upgrade: rsa<5,>=3.1.4; python_version >= \"3.6\" in /usr/local/lib/python3.7/dist-packages (from google-auth<2,>=1.6.3->tensorboard~=2.5->tensorflow~=2.5->tensorflow_decision_forests) (4.7.2)\n",
            "Requirement already satisfied, skipping upgrade: cachetools<5.0,>=2.0.0 in /usr/local/lib/python3.7/dist-packages (from google-auth<2,>=1.6.3->tensorboard~=2.5->tensorflow~=2.5->tensorflow_decision_forests) (4.2.2)\n",
            "Requirement already satisfied, skipping upgrade: oauthlib>=3.0.0 in /usr/local/lib/python3.7/dist-packages (from requests-oauthlib>=0.7.0->google-auth-oauthlib<0.5,>=0.4.1->tensorboard~=2.5->tensorflow~=2.5->tensorflow_decision_forests) (3.1.0)\n",
            "Requirement already satisfied, skipping upgrade: zipp>=0.5 in /usr/local/lib/python3.7/dist-packages (from importlib-metadata; python_version < \"3.8\"->markdown>=2.6.8->tensorboard~=2.5->tensorflow~=2.5->tensorflow_decision_forests) (3.4.1)\n",
            "Requirement already satisfied, skipping upgrade: pyasn1<0.5.0,>=0.4.6 in /usr/local/lib/python3.7/dist-packages (from pyasn1-modules>=0.2.1->google-auth<2,>=1.6.3->tensorboard~=2.5->tensorflow~=2.5->tensorflow_decision_forests) (0.4.8)\n"
          ],
          "name": "stdout"
        }
      ]
    },
    {
      "cell_type": "code",
      "metadata": {
        "colab": {
          "base_uri": "https://localhost:8080/"
        },
        "id": "mlY-z98w314L",
        "outputId": "5fcaac81-d7c3-49ed-c32c-b7eaf35272f1"
      },
      "source": [
        "!python3 -c \"import tensorflow_decision_forests as tfdf; print('Found TF-DF v' + tfdf.__version__)\""
      ],
      "execution_count": 4,
      "outputs": [
        {
          "output_type": "stream",
          "text": [
            "2021-05-25 04:31:50.565254: I tensorflow/stream_executor/platform/default/dso_loader.cc:53] Successfully opened dynamic library libcudart.so.11.0\n",
            "Found TF-DF v0.1.4\n"
          ],
          "name": "stdout"
        }
      ]
    },
    {
      "cell_type": "code",
      "metadata": {
        "id": "C9AEQFoo3GUF"
      },
      "source": [
        "# See here for TensorFlow Decision Forests - https://www.tensorflow.org/decision_forests/tutorials/beginner_colab#training_a_regression_model\n",
        "import tensorflow_decision_forests as tfdf"
      ],
      "execution_count": 5,
      "outputs": []
    },
    {
      "cell_type": "markdown",
      "metadata": {
        "id": "81ywkh0q8Apj"
      },
      "source": [
        "## TODO: Get data\n",
        "\n",
        "Let's predict the price of Bitcoin! Data source: https://www.coindesk.com/price/bitcoin\n",
        "\n",
        "> **Note:** This is not financial advice, as you'll see time series forecasting for stock market prices is actually quite terrible.\n",
        "\n",
        "See this tweet for reference: https://twitter.com/marksaroufim/status/1366871736604532739?s=20\n",
        "\n",
        "TODO (upload to Google Storage/GitHub): Data: https://www.dropbox.com/s/hoexgnrk44uco0a/BTC_USD_2013-10-01_2021-05-18-CoinDesk.csv?dl=0"
      ]
    },
    {
      "cell_type": "code",
      "metadata": {
        "colab": {
          "base_uri": "https://localhost:8080/"
        },
        "id": "mVEjK6ZHDqkQ",
        "outputId": "d9f8f31d-80f3-471c-cb59-4f0226087cbf"
      },
      "source": [
        "!wget https://www.dropbox.com/s/hoexgnrk44uco0a/BTC_USD_2013-10-01_2021-05-18-CoinDesk.csv"
      ],
      "execution_count": 6,
      "outputs": [
        {
          "output_type": "stream",
          "text": [
            "--2021-05-25 04:31:53--  https://www.dropbox.com/s/hoexgnrk44uco0a/BTC_USD_2013-10-01_2021-05-18-CoinDesk.csv\n",
            "Resolving www.dropbox.com (www.dropbox.com)... 162.125.6.18, 2620:100:601c:18::a27d:612\n",
            "Connecting to www.dropbox.com (www.dropbox.com)|162.125.6.18|:443... connected.\n",
            "HTTP request sent, awaiting response... 301 Moved Permanently\n",
            "Location: /s/raw/hoexgnrk44uco0a/BTC_USD_2013-10-01_2021-05-18-CoinDesk.csv [following]\n",
            "--2021-05-25 04:31:53--  https://www.dropbox.com/s/raw/hoexgnrk44uco0a/BTC_USD_2013-10-01_2021-05-18-CoinDesk.csv\n",
            "Reusing existing connection to www.dropbox.com:443.\n",
            "HTTP request sent, awaiting response... 302 Found\n",
            "Location: https://uc4f1f72eac0e1afbce375348b65.dl.dropboxusercontent.com/cd/0/inline/BPLwoaZpOtlkxuZYr1E94sZR9B1r5EGajE0DrC-on-F6gZkEql81X_1kq8gzgYs875rYJxrPOH6lTZOTkXinemJJb48rIWCbYoB9ly_soL_3z7M4YgDvm10_vPFgMgPUJWqe4Pn0RydVZeF68tV9hmIc/file# [following]\n",
            "--2021-05-25 04:31:53--  https://uc4f1f72eac0e1afbce375348b65.dl.dropboxusercontent.com/cd/0/inline/BPLwoaZpOtlkxuZYr1E94sZR9B1r5EGajE0DrC-on-F6gZkEql81X_1kq8gzgYs875rYJxrPOH6lTZOTkXinemJJb48rIWCbYoB9ly_soL_3z7M4YgDvm10_vPFgMgPUJWqe4Pn0RydVZeF68tV9hmIc/file\n",
            "Resolving uc4f1f72eac0e1afbce375348b65.dl.dropboxusercontent.com (uc4f1f72eac0e1afbce375348b65.dl.dropboxusercontent.com)... 162.125.6.15, 2620:100:601c:15::a27d:60f\n",
            "Connecting to uc4f1f72eac0e1afbce375348b65.dl.dropboxusercontent.com (uc4f1f72eac0e1afbce375348b65.dl.dropboxusercontent.com)|162.125.6.15|:443... connected.\n",
            "HTTP request sent, awaiting response... 200 OK\n",
            "Length: 178509 (174K) [text/plain]\n",
            "Saving to: ‘BTC_USD_2013-10-01_2021-05-18-CoinDesk.csv.2’\n",
            "\n",
            "BTC_USD_2013-10-01_ 100%[===================>] 174.33K  --.-KB/s    in 0.002s  \n",
            "\n",
            "2021-05-25 04:31:53 (90.1 MB/s) - ‘BTC_USD_2013-10-01_2021-05-18-CoinDesk.csv.2’ saved [178509/178509]\n",
            "\n"
          ],
          "name": "stdout"
        }
      ]
    },
    {
      "cell_type": "code",
      "metadata": {
        "colab": {
          "base_uri": "https://localhost:8080/",
          "height": 437
        },
        "id": "5FOrshVX_dUE",
        "outputId": "3d5818d3-e044-48d4-c052-ebce24aaedf1"
      },
      "source": [
        "# Import with pandas \n",
        "import pandas as pd\n",
        "# Parse dates and set date column to index\n",
        "df = pd.read_csv(\"/content/BTC_USD_2013-10-01_2021-05-18-CoinDesk.csv\", \n",
        "                 parse_dates=[\"Date\"], \n",
        "                 index_col=[\"Date\"]) # parse the date column (tell pandas column 1 is a datetime)\n",
        "df"
      ],
      "execution_count": 7,
      "outputs": [
        {
          "output_type": "execute_result",
          "data": {
            "text/html": [
              "<div>\n",
              "<style scoped>\n",
              "    .dataframe tbody tr th:only-of-type {\n",
              "        vertical-align: middle;\n",
              "    }\n",
              "\n",
              "    .dataframe tbody tr th {\n",
              "        vertical-align: top;\n",
              "    }\n",
              "\n",
              "    .dataframe thead th {\n",
              "        text-align: right;\n",
              "    }\n",
              "</style>\n",
              "<table border=\"1\" class=\"dataframe\">\n",
              "  <thead>\n",
              "    <tr style=\"text-align: right;\">\n",
              "      <th></th>\n",
              "      <th>Currency</th>\n",
              "      <th>Closing Price (USD)</th>\n",
              "      <th>24h Open (USD)</th>\n",
              "      <th>24h High (USD)</th>\n",
              "      <th>24h Low (USD)</th>\n",
              "    </tr>\n",
              "    <tr>\n",
              "      <th>Date</th>\n",
              "      <th></th>\n",
              "      <th></th>\n",
              "      <th></th>\n",
              "      <th></th>\n",
              "      <th></th>\n",
              "    </tr>\n",
              "  </thead>\n",
              "  <tbody>\n",
              "    <tr>\n",
              "      <th>2013-10-01</th>\n",
              "      <td>BTC</td>\n",
              "      <td>123.654990</td>\n",
              "      <td>124.304660</td>\n",
              "      <td>124.751660</td>\n",
              "      <td>122.563490</td>\n",
              "    </tr>\n",
              "    <tr>\n",
              "      <th>2013-10-02</th>\n",
              "      <td>BTC</td>\n",
              "      <td>125.455000</td>\n",
              "      <td>123.654990</td>\n",
              "      <td>125.758500</td>\n",
              "      <td>123.633830</td>\n",
              "    </tr>\n",
              "    <tr>\n",
              "      <th>2013-10-03</th>\n",
              "      <td>BTC</td>\n",
              "      <td>108.584830</td>\n",
              "      <td>125.455000</td>\n",
              "      <td>125.665660</td>\n",
              "      <td>83.328330</td>\n",
              "    </tr>\n",
              "    <tr>\n",
              "      <th>2013-10-04</th>\n",
              "      <td>BTC</td>\n",
              "      <td>118.674660</td>\n",
              "      <td>108.584830</td>\n",
              "      <td>118.675000</td>\n",
              "      <td>107.058160</td>\n",
              "    </tr>\n",
              "    <tr>\n",
              "      <th>2013-10-05</th>\n",
              "      <td>BTC</td>\n",
              "      <td>121.338660</td>\n",
              "      <td>118.674660</td>\n",
              "      <td>121.936330</td>\n",
              "      <td>118.005660</td>\n",
              "    </tr>\n",
              "    <tr>\n",
              "      <th>...</th>\n",
              "      <td>...</td>\n",
              "      <td>...</td>\n",
              "      <td>...</td>\n",
              "      <td>...</td>\n",
              "      <td>...</td>\n",
              "    </tr>\n",
              "    <tr>\n",
              "      <th>2021-05-14</th>\n",
              "      <td>BTC</td>\n",
              "      <td>49764.132082</td>\n",
              "      <td>49596.778891</td>\n",
              "      <td>51448.798576</td>\n",
              "      <td>46294.720180</td>\n",
              "    </tr>\n",
              "    <tr>\n",
              "      <th>2021-05-15</th>\n",
              "      <td>BTC</td>\n",
              "      <td>50032.693137</td>\n",
              "      <td>49717.354353</td>\n",
              "      <td>51578.312545</td>\n",
              "      <td>48944.346536</td>\n",
              "    </tr>\n",
              "    <tr>\n",
              "      <th>2021-05-16</th>\n",
              "      <td>BTC</td>\n",
              "      <td>47885.625255</td>\n",
              "      <td>49926.035067</td>\n",
              "      <td>50690.802950</td>\n",
              "      <td>47005.102292</td>\n",
              "    </tr>\n",
              "    <tr>\n",
              "      <th>2021-05-17</th>\n",
              "      <td>BTC</td>\n",
              "      <td>45604.615754</td>\n",
              "      <td>46805.537852</td>\n",
              "      <td>49670.414174</td>\n",
              "      <td>43868.638969</td>\n",
              "    </tr>\n",
              "    <tr>\n",
              "      <th>2021-05-18</th>\n",
              "      <td>BTC</td>\n",
              "      <td>43144.471291</td>\n",
              "      <td>46439.336570</td>\n",
              "      <td>46622.853437</td>\n",
              "      <td>42102.346430</td>\n",
              "    </tr>\n",
              "  </tbody>\n",
              "</table>\n",
              "<p>2787 rows × 5 columns</p>\n",
              "</div>"
            ],
            "text/plain": [
              "           Currency  Closing Price (USD)  ...  24h High (USD)  24h Low (USD)\n",
              "Date                                      ...                               \n",
              "2013-10-01      BTC           123.654990  ...      124.751660     122.563490\n",
              "2013-10-02      BTC           125.455000  ...      125.758500     123.633830\n",
              "2013-10-03      BTC           108.584830  ...      125.665660      83.328330\n",
              "2013-10-04      BTC           118.674660  ...      118.675000     107.058160\n",
              "2013-10-05      BTC           121.338660  ...      121.936330     118.005660\n",
              "...             ...                  ...  ...             ...            ...\n",
              "2021-05-14      BTC         49764.132082  ...    51448.798576   46294.720180\n",
              "2021-05-15      BTC         50032.693137  ...    51578.312545   48944.346536\n",
              "2021-05-16      BTC         47885.625255  ...    50690.802950   47005.102292\n",
              "2021-05-17      BTC         45604.615754  ...    49670.414174   43868.638969\n",
              "2021-05-18      BTC         43144.471291  ...    46622.853437   42102.346430\n",
              "\n",
              "[2787 rows x 5 columns]"
            ]
          },
          "metadata": {
            "tags": []
          },
          "execution_count": 7
        }
      ]
    },
    {
      "cell_type": "code",
      "metadata": {
        "colab": {
          "base_uri": "https://localhost:8080/"
        },
        "id": "Z-YoeINjCzJ_",
        "outputId": "eb14373b-8386-487a-8471-b6e76ed1f045"
      },
      "source": [
        "df.info()"
      ],
      "execution_count": 8,
      "outputs": [
        {
          "output_type": "stream",
          "text": [
            "<class 'pandas.core.frame.DataFrame'>\n",
            "DatetimeIndex: 2787 entries, 2013-10-01 to 2021-05-18\n",
            "Data columns (total 5 columns):\n",
            " #   Column               Non-Null Count  Dtype  \n",
            "---  ------               --------------  -----  \n",
            " 0   Currency             2787 non-null   object \n",
            " 1   Closing Price (USD)  2787 non-null   float64\n",
            " 2   24h Open (USD)       2787 non-null   float64\n",
            " 3   24h High (USD)       2787 non-null   float64\n",
            " 4   24h Low (USD)        2787 non-null   float64\n",
            "dtypes: float64(4), object(1)\n",
            "memory usage: 130.6+ KB\n"
          ],
          "name": "stdout"
        }
      ]
    },
    {
      "cell_type": "code",
      "metadata": {
        "colab": {
          "base_uri": "https://localhost:8080/"
        },
        "id": "XP3cN0uvlxhi",
        "outputId": "a376ecc5-b65b-4059-ddfa-8e7e8091ba7c"
      },
      "source": [
        "# TODO: time series often may not have very many samples (e.g. monthly = only 12 per year, daily = 365 per year... etc)\n",
        "# Deep learning algorithms usually flourish with lots of data (1000's of samples)\n",
        "len(df)"
      ],
      "execution_count": 9,
      "outputs": [
        {
          "output_type": "execute_result",
          "data": {
            "text/plain": [
              "2787"
            ]
          },
          "metadata": {
            "tags": []
          },
          "execution_count": 9
        }
      ]
    },
    {
      "cell_type": "code",
      "metadata": {
        "colab": {
          "base_uri": "https://localhost:8080/",
          "height": 228
        },
        "id": "QxoNCv2NCuLY",
        "outputId": "0a503074-e542-4076-f46d-08d461e6355f"
      },
      "source": [
        "# Only want closing price\n",
        "bitcoin_prices = pd.DataFrame(df[\"Closing Price (USD)\"]).rename(columns={\"Closing Price (USD)\": \"Price\"})\n",
        "bitcoin_prices.head()"
      ],
      "execution_count": 10,
      "outputs": [
        {
          "output_type": "execute_result",
          "data": {
            "text/html": [
              "<div>\n",
              "<style scoped>\n",
              "    .dataframe tbody tr th:only-of-type {\n",
              "        vertical-align: middle;\n",
              "    }\n",
              "\n",
              "    .dataframe tbody tr th {\n",
              "        vertical-align: top;\n",
              "    }\n",
              "\n",
              "    .dataframe thead th {\n",
              "        text-align: right;\n",
              "    }\n",
              "</style>\n",
              "<table border=\"1\" class=\"dataframe\">\n",
              "  <thead>\n",
              "    <tr style=\"text-align: right;\">\n",
              "      <th></th>\n",
              "      <th>Price</th>\n",
              "    </tr>\n",
              "    <tr>\n",
              "      <th>Date</th>\n",
              "      <th></th>\n",
              "    </tr>\n",
              "  </thead>\n",
              "  <tbody>\n",
              "    <tr>\n",
              "      <th>2013-10-01</th>\n",
              "      <td>123.65499</td>\n",
              "    </tr>\n",
              "    <tr>\n",
              "      <th>2013-10-02</th>\n",
              "      <td>125.45500</td>\n",
              "    </tr>\n",
              "    <tr>\n",
              "      <th>2013-10-03</th>\n",
              "      <td>108.58483</td>\n",
              "    </tr>\n",
              "    <tr>\n",
              "      <th>2013-10-04</th>\n",
              "      <td>118.67466</td>\n",
              "    </tr>\n",
              "    <tr>\n",
              "      <th>2013-10-05</th>\n",
              "      <td>121.33866</td>\n",
              "    </tr>\n",
              "  </tbody>\n",
              "</table>\n",
              "</div>"
            ],
            "text/plain": [
              "                Price\n",
              "Date                 \n",
              "2013-10-01  123.65499\n",
              "2013-10-02  125.45500\n",
              "2013-10-03  108.58483\n",
              "2013-10-04  118.67466\n",
              "2013-10-05  121.33866"
            ]
          },
          "metadata": {
            "tags": []
          },
          "execution_count": 10
        }
      ]
    },
    {
      "cell_type": "code",
      "metadata": {
        "colab": {
          "base_uri": "https://localhost:8080/"
        },
        "id": "Y0CAu0PTFT5R",
        "outputId": "13d118a5-f01c-44af-c4b2-e32b024820f4"
      },
      "source": [
        "bitcoin_prices.info()"
      ],
      "execution_count": 11,
      "outputs": [
        {
          "output_type": "stream",
          "text": [
            "<class 'pandas.core.frame.DataFrame'>\n",
            "DatetimeIndex: 2787 entries, 2013-10-01 to 2021-05-18\n",
            "Data columns (total 1 columns):\n",
            " #   Column  Non-Null Count  Dtype  \n",
            "---  ------  --------------  -----  \n",
            " 0   Price   2787 non-null   float64\n",
            "dtypes: float64(1)\n",
            "memory usage: 43.5 KB\n"
          ],
          "name": "stdout"
        }
      ]
    },
    {
      "cell_type": "code",
      "metadata": {
        "colab": {
          "base_uri": "https://localhost:8080/",
          "height": 442
        },
        "id": "CfkhZhmCEyUe",
        "outputId": "fe31df5f-4100-47a8-898d-df60020dd841"
      },
      "source": [
        "bitcoin_prices.plot(figsize=(10, 7));"
      ],
      "execution_count": 12,
      "outputs": [
        {
          "output_type": "display_data",
          "data": {
            "image/png": "[encoded data removed]",
            "text/plain": [
              "<Figure size 720x504 with 1 Axes>"
            ]
          },
          "metadata": {
            "tags": [],
            "needs_background": "light"
          }
        }
      ]
    },
    {
      "cell_type": "code",
      "metadata": {
        "colab": {
          "base_uri": "https://localhost:8080/",
          "height": 228
        },
        "id": "v-hEaaGjePVD",
        "outputId": "c6909298-496d-4e09-e17d-ce4b47e55975"
      },
      "source": [
        "bitcoin_prices.head()"
      ],
      "execution_count": 13,
      "outputs": [
        {
          "output_type": "execute_result",
          "data": {
            "text/html": [
              "<div>\n",
              "<style scoped>\n",
              "    .dataframe tbody tr th:only-of-type {\n",
              "        vertical-align: middle;\n",
              "    }\n",
              "\n",
              "    .dataframe tbody tr th {\n",
              "        vertical-align: top;\n",
              "    }\n",
              "\n",
              "    .dataframe thead th {\n",
              "        text-align: right;\n",
              "    }\n",
              "</style>\n",
              "<table border=\"1\" class=\"dataframe\">\n",
              "  <thead>\n",
              "    <tr style=\"text-align: right;\">\n",
              "      <th></th>\n",
              "      <th>Price</th>\n",
              "    </tr>\n",
              "    <tr>\n",
              "      <th>Date</th>\n",
              "      <th></th>\n",
              "    </tr>\n",
              "  </thead>\n",
              "  <tbody>\n",
              "    <tr>\n",
              "      <th>2013-10-01</th>\n",
              "      <td>123.65499</td>\n",
              "    </tr>\n",
              "    <tr>\n",
              "      <th>2013-10-02</th>\n",
              "      <td>125.45500</td>\n",
              "    </tr>\n",
              "    <tr>\n",
              "      <th>2013-10-03</th>\n",
              "      <td>108.58483</td>\n",
              "    </tr>\n",
              "    <tr>\n",
              "      <th>2013-10-04</th>\n",
              "      <td>118.67466</td>\n",
              "    </tr>\n",
              "    <tr>\n",
              "      <th>2013-10-05</th>\n",
              "      <td>121.33866</td>\n",
              "    </tr>\n",
              "  </tbody>\n",
              "</table>\n",
              "</div>"
            ],
            "text/plain": [
              "                Price\n",
              "Date                 \n",
              "2013-10-01  123.65499\n",
              "2013-10-02  125.45500\n",
              "2013-10-03  108.58483\n",
              "2013-10-04  118.67466\n",
              "2013-10-05  121.33866"
            ]
          },
          "metadata": {
            "tags": []
          },
          "execution_count": 13
        }
      ]
    },
    {
      "cell_type": "markdown",
      "metadata": {
        "id": "BKJIGu_uNaq4"
      },
      "source": [
        "## Getting data ready for TensorFlow Decision Forests\n",
        "\n",
        "See here: https://www.tensorflow.org/decision_forests/tutorials/beginner_colab#training_a_regression_model\n",
        "\n",
        "We need:\n",
        "* A dataframe with variables and a label column..."
      ]
    },
    {
      "cell_type": "markdown",
      "metadata": {
        "id": "O2C1JsHUPYGG"
      },
      "source": [
        "### Importing time series as a CSV"
      ]
    },
    {
      "cell_type": "code",
      "metadata": {
        "colab": {
          "base_uri": "https://localhost:8080/"
        },
        "id": "UkTvwP2DCuGK",
        "outputId": "15b133d3-56cf-4917-b9ec-f2e66d01ff99"
      },
      "source": [
        "# Importing with Python CSV - https://realpython.com/python-csv/\n",
        "import csv\n",
        "from datetime import datetime\n",
        "\n",
        "timesteps = []\n",
        "btc_price = []\n",
        "with open(\"/content/BTC_USD_2013-10-01_2021-05-18-CoinDesk.csv\", \"r\") as f:\n",
        "  csv_reader = csv.reader(f, delimiter=\",\")\n",
        "  next(csv_reader) # skip first line\n",
        "  for line in csv_reader:\n",
        "    timesteps.append(datetime.strptime(line[1], \"%Y-%m-%d\")) # get the dates as dates (not strings)\n",
        "    btc_price.append(float(line[2])) # get the closing price as float\n",
        "\n",
        "# View first 10\n",
        "timesteps[:10], btc_price[:10]"
      ],
      "execution_count": 14,
      "outputs": [
        {
          "output_type": "execute_result",
          "data": {
            "text/plain": [
              "([datetime.datetime(2013, 10, 1, 0, 0),\n",
              "  datetime.datetime(2013, 10, 2, 0, 0),\n",
              "  datetime.datetime(2013, 10, 3, 0, 0),\n",
              "  datetime.datetime(2013, 10, 4, 0, 0),\n",
              "  datetime.datetime(2013, 10, 5, 0, 0),\n",
              "  datetime.datetime(2013, 10, 6, 0, 0),\n",
              "  datetime.datetime(2013, 10, 7, 0, 0),\n",
              "  datetime.datetime(2013, 10, 8, 0, 0),\n",
              "  datetime.datetime(2013, 10, 9, 0, 0),\n",
              "  datetime.datetime(2013, 10, 10, 0, 0)],\n",
              " [123.65499,\n",
              "  125.455,\n",
              "  108.58483,\n",
              "  118.67466,\n",
              "  121.33866,\n",
              "  120.65533,\n",
              "  121.795,\n",
              "  123.033,\n",
              "  124.049,\n",
              "  125.96116])"
            ]
          },
          "metadata": {
            "tags": []
          },
          "execution_count": 14
        }
      ]
    },
    {
      "cell_type": "code",
      "metadata": {
        "colab": {
          "base_uri": "https://localhost:8080/",
          "height": 442
        },
        "id": "bTSX7RZ9Cytj",
        "outputId": "9ef5f379-bd66-4f6f-e830-3b98f1610cf1"
      },
      "source": [
        "# Plot from CSV\n",
        "import matplotlib.pyplot as plt\n",
        "import numpy as np\n",
        "plt.figure(figsize=(10, 7))\n",
        "plt.plot(timesteps, np.array(btc_price))\n",
        "plt.xlabel(\"Date\")\n",
        "plt.ylabel(\"BTC Price\");"
      ],
      "execution_count": 15,
      "outputs": [
        {
          "output_type": "display_data",
          "data": {
            "image/png": "[encoded data removed]",
            "text/plain": [
              "<Figure size 720x504 with 1 Axes>"
            ]
          },
          "metadata": {
            "tags": [],
            "needs_background": "light"
          }
        }
      ]
    },
    {
      "cell_type": "markdown",
      "metadata": {
        "id": "_nfP7i9R_dOp"
      },
      "source": [
        "## TODO: Format data \n",
        "\n",
        "* Turn data into a windowed dataset\n",
        "* Training/test sets for time series\n",
        "* Univariate - Bitcoin's price history\n",
        "* Multivariate - Bitcoin's price history + block size"
      ]
    },
    {
      "cell_type": "markdown",
      "metadata": {
        "id": "prkQhgiHNOKd"
      },
      "source": [
        "### TODO: Create train & test sets for time series\n",
        "\n",
        "* Note: cannot do random split, time series will buckle under this (using future values in the past)\n",
        "* Need to make train set: values from past, test set: values from \"future\""
      ]
    },
    {
      "cell_type": "code",
      "metadata": {
        "colab": {
          "base_uri": "https://localhost:8080/"
        },
        "id": "wxQbuGVTRFKX",
        "outputId": "16fb686a-f661-42b4-c81a-29f0379b6ecf"
      },
      "source": [
        "# Get bitcoin date array\n",
        "timesteps = bitcoin_prices.index.to_numpy()\n",
        "prices = bitcoin_prices[\"Price\"].to_numpy()\n",
        "\n",
        "timesteps[:10], prices[:10]"
      ],
      "execution_count": 16,
      "outputs": [
        {
          "output_type": "execute_result",
          "data": {
            "text/plain": [
              "(array(['2013-10-01T00:00:00.000000000', '2013-10-02T00:00:00.000000000',\n",
              "        '2013-10-03T00:00:00.000000000', '2013-10-04T00:00:00.000000000',\n",
              "        '2013-10-05T00:00:00.000000000', '2013-10-06T00:00:00.000000000',\n",
              "        '2013-10-07T00:00:00.000000000', '2013-10-08T00:00:00.000000000',\n",
              "        '2013-10-09T00:00:00.000000000', '2013-10-10T00:00:00.000000000'],\n",
              "       dtype='datetime64[ns]'),\n",
              " array([123.65499, 125.455  , 108.58483, 118.67466, 121.33866, 120.65533,\n",
              "        121.795  , 123.033  , 124.049  , 125.96116]))"
            ]
          },
          "metadata": {
            "tags": []
          },
          "execution_count": 16
        }
      ]
    },
    {
      "cell_type": "code",
      "metadata": {
        "colab": {
          "base_uri": "https://localhost:8080/"
        },
        "id": "eGY7hTfyNLZ1",
        "outputId": "b461f427-b159-4ef7-8206-309157034fc8"
      },
      "source": [
        "# Wrong way to make train/test sets for time series\n",
        "from sklearn.model_selection import train_test_split \n",
        "\n",
        "X_train, X_test, y_train, y_test = train_test_split(timesteps, # dates\n",
        "                                                    prices, # prices\n",
        "                                                    test_size=0.2,\n",
        "                                                    random_state=42)\n",
        "X_train.shape, X_test.shape, y_train.shape, y_test.shape "
      ],
      "execution_count": 17,
      "outputs": [
        {
          "output_type": "execute_result",
          "data": {
            "text/plain": [
              "((2229,), (558,), (2229,), (558,))"
            ]
          },
          "metadata": {
            "tags": []
          },
          "execution_count": 17
        }
      ]
    },
    {
      "cell_type": "code",
      "metadata": {
        "colab": {
          "base_uri": "https://localhost:8080/",
          "height": 442
        },
        "id": "cvH_0RvSNLWm",
        "outputId": "eb684c5f-8974-4d84-95ff-f682fac3c13d"
      },
      "source": [
        "# Let's plot wrong train and test splits\n",
        "plt.figure(figsize=(10, 7))\n",
        "plt.scatter(X_train, y_train, s=5, label=\"Train data\")\n",
        "plt.scatter(X_test, y_test, s=5, label=\"Test data\")\n",
        "plt.xlabel(\"Date\")\n",
        "plt.ylabel(\"BTC Price\")\n",
        "plt.legend()\n",
        "plt.show();"
      ],
      "execution_count": 18,
      "outputs": [
        {
          "output_type": "display_data",
          "data": {
            "image/png": "[encoded data removed]",
            "text/plain": [
              "<Figure size 720x504 with 1 Axes>"
            ]
          },
          "metadata": {
            "tags": [],
            "needs_background": "light"
          }
        }
      ]
    },
    {
      "cell_type": "markdown",
      "metadata": {
        "id": "OK9sORtjRh5z"
      },
      "source": [
        "* TODO: Note: time series forecasting can often have many less data points than traditional deep learning projects (e.g. the entire history of BTC daily price data = only ~3000 samples)\n",
        "\n",
        "* TODO: What kind of steps should we predict? E.g. 80/20 split is that realisitic? You may want to use all of the data up until the last week..."
      ]
    },
    {
      "cell_type": "code",
      "metadata": {
        "colab": {
          "base_uri": "https://localhost:8080/"
        },
        "id": "lpEVKyXANLT4",
        "outputId": "943764b8-444f-458c-d2af-b617fdfa1833"
      },
      "source": [
        "# Create train and test splits the right way for time series data\n",
        "split_size = int(0.8 * len(prices)) # 80% train, 20% test\n",
        "\n",
        "# Create train data splits\n",
        "X_train, y_train = timesteps[:split_size], prices[:split_size]\n",
        "\n",
        "# Create test data splits\n",
        "X_test, y_test = timesteps[split_size:], prices[split_size:]\n",
        "\n",
        "X_train.shape, X_test.shape, y_train.shape, y_test.shape"
      ],
      "execution_count": 19,
      "outputs": [
        {
          "output_type": "execute_result",
          "data": {
            "text/plain": [
              "((2229,), (558,), (2229,), (558,))"
            ]
          },
          "metadata": {
            "tags": []
          },
          "execution_count": 19
        }
      ]
    },
    {
      "cell_type": "code",
      "metadata": {
        "colab": {
          "base_uri": "https://localhost:8080/",
          "height": 442
        },
        "id": "L9QImNlhOQuS",
        "outputId": "6d51eea6-2b2f-4cf4-dcb7-589271c5eb4e"
      },
      "source": [
        "# Plot correctly made splits\n",
        "plt.figure(figsize=(10, 7))\n",
        "plt.scatter(X_train, y_train, s=5, label=\"Train data\")\n",
        "plt.scatter(X_test, y_test, s=5, label=\"Test data\")\n",
        "plt.xlabel(\"Date\")\n",
        "plt.ylabel(\"BTC Price\")\n",
        "plt.legend()\n",
        "plt.show();"
      ],
      "execution_count": 20,
      "outputs": [
        {
          "output_type": "display_data",
          "data": {
            "image/png": "[encoded data removed]",
            "text/plain": [
              "<Figure size 720x504 with 1 Axes>"
            ]
          },
          "metadata": {
            "tags": [],
            "needs_background": "light"
          }
        }
      ]
    },
    {
      "cell_type": "markdown",
      "metadata": {
        "id": "cwSpQQRl_dHb"
      },
      "source": [
        "## TODO: Model data\n",
        "\n",
        "* Baseline - naive forecasting\n",
        "* Baseline 2 - decision forest - https://www.tensorflow.org/decision_forests/tutorials/beginner_colab\n",
        "* Deep model - fully connected\n",
        "  * Fully connected with different size window/horizon\n",
        "* Sequence models\n",
        "  * LSTM\n",
        "  * Conv1D\n",
        "* N-Beats algorithm - https://arxiv.org/pdf/1905.10437.pdf"
      ]
    },
    {
      "cell_type": "markdown",
      "metadata": {
        "id": "JO1YAv7w_dE7"
      },
      "source": [
        "### Model 0: Naive forecast\n",
        "\n",
        "Naive forecast = Use the previous timestep to predict the next timestep\n",
        "\n",
        "$$\\hat{y}_{t} = y_{t-1}$$ "
      ]
    },
    {
      "cell_type": "code",
      "metadata": {
        "colab": {
          "base_uri": "https://localhost:8080/"
        },
        "id": "nCKGUO4OVos9",
        "outputId": "638794da-dbc2-4738-9a94-cce7b583fe33"
      },
      "source": [
        "naive_forecast = y_test[:-1]\n",
        "naive_forecast[:10]"
      ],
      "execution_count": 21,
      "outputs": [
        {
          "output_type": "execute_result",
          "data": {
            "text/plain": [
              "array([9226.48582088, 8794.35864452, 8798.04205463, 9081.18687849,\n",
              "       8711.53433917, 8760.89271814, 8749.52059102, 8656.97092235,\n",
              "       8500.64355816, 8469.2608989 ])"
            ]
          },
          "metadata": {
            "tags": []
          },
          "execution_count": 21
        }
      ]
    },
    {
      "cell_type": "code",
      "metadata": {
        "colab": {
          "base_uri": "https://localhost:8080/",
          "height": 442
        },
        "id": "a0NLHXDhWDX-",
        "outputId": "7fe6eae0-f84a-4459-e11d-90b7213f2755"
      },
      "source": [
        "# Plot naive forecast\n",
        "plt.figure(figsize=(10, 7))\n",
        "plt.scatter(X_train, y_train, s=5, label=\"Train data\")\n",
        "plt.scatter(X_test, y_test, s=5, label=\"Test data\")\n",
        "plt.scatter(X_test[1:], naive_forecast, s=5, label=\"Naive forecast\")\n",
        "plt.xlabel(\"Date\")\n",
        "plt.ylabel(\"BTC Price\")\n",
        "plt.legend()\n",
        "plt.show();"
      ],
      "execution_count": 22,
      "outputs": [
        {
          "output_type": "display_data",
          "data": {
            "image/png": "[encoded data removed]",
            "text/plain": [
              "<Figure size 720x504 with 1 Axes>"
            ]
          },
          "metadata": {
            "tags": [],
            "needs_background": "light"
          }
        }
      ]
    },
    {
      "cell_type": "markdown",
      "metadata": {
        "id": "8Zj2p8NAkRLD"
      },
      "source": [
        "TODO: Replace the function below with the improved plot function for time series"
      ]
    },
    {
      "cell_type": "code",
      "metadata": {
        "id": "dx0wUhtOW_VX"
      },
      "source": [
        "def plot_zoomed_in(new_preds=None, new_preds_name=\"New Preds\", zoom_timesteps=100, plot_naive=True):\n",
        "  # Plot naive forecast zoomed in\n",
        "  plt.figure(figsize=(10, 7))\n",
        "  plt.plot(X_test[-zoom_timesteps:], y_test[-zoom_timesteps:], label=\"Test data\")\n",
        "  if plot_naive:\n",
        "    plt.plot(X_test[1:][-zoom_timesteps:], naive_forecast[-zoom_timesteps:], label=\"Naive forecast\")\n",
        "  if new_preds != None:\n",
        "    plt.plot(X_test[-zoom_timesteps:], new_preds[-zoom_timesteps:], label=new_preds_name)\n",
        "  plt.xlabel(\"Date\")\n",
        "  plt.ylabel(\"BTC Price\")\n",
        "  plt.legend()\n",
        "  plt.show();"
      ],
      "execution_count": 23,
      "outputs": []
    },
    {
      "cell_type": "code",
      "metadata": {
        "colab": {
          "base_uri": "https://localhost:8080/",
          "height": 442
        },
        "id": "E1gbUOr3U5Vt",
        "outputId": "f51f11de-927d-4d02-dd33-8b63196d86b3"
      },
      "source": [
        "plot_zoomed_in()"
      ],
      "execution_count": 24,
      "outputs": [
        {
          "output_type": "display_data",
          "data": {
            "image/png": "[encoded data removed]",
            "text/plain": [
              "<Figure size 720x504 with 1 Axes>"
            ]
          },
          "metadata": {
            "tags": [],
            "needs_background": "light"
          }
        }
      ]
    },
    {
      "cell_type": "markdown",
      "metadata": {
        "id": "UdK4KoFnA90I"
      },
      "source": [
        "## TODO: Evaluating a time series model\n",
        "\n",
        "TK - this can be a function for each model (compares predictions to ground truth...)\n",
        "\n",
        "TK - metrics for evaluating time series models: https://otexts.com/fpp2/accuracy.html"
      ]
    },
    {
      "cell_type": "code",
      "metadata": {
        "id": "ljaO69huYCZD"
      },
      "source": [
        "import tensorflow as tf"
      ],
      "execution_count": 25,
      "outputs": []
    },
    {
      "cell_type": "code",
      "metadata": {
        "id": "ZaSHxVMqYBnG"
      },
      "source": [
        "def scaled_mape(y_true, y_pred):\n",
        "  return tf.reduce_mean(200 * (tf.abs(y_true - y_pred)/(tf.abs(y_true) + tf.abs(y_pred))))"
      ],
      "execution_count": 26,
      "outputs": []
    },
    {
      "cell_type": "code",
      "metadata": {
        "id": "MwMeVgRXWaJp"
      },
      "source": [
        "def evaluate_preds(y_true, y_pred):\n",
        "  # Make sure float32 (for metric calculations)\n",
        "  y_true = tf.cast(y_true, dtype=tf.float32)\n",
        "  y_pred = tf.cast(y_pred, dtype=tf.float32)\n",
        "\n",
        "  # Calculate various metrics\n",
        "  mae = tf.keras.metrics.mean_absolute_error(y_true, y_pred)\n",
        "  mse = tf.keras.metrics.mean_squared_error(y_true, y_pred)\n",
        "  mape = tf.keras.metrics.mean_absolute_percentage_error(y_true, y_pred)\n",
        "  smape = scaled_mape(y_true, y_pred)\n",
        "  return {\"mae\": mae.numpy(),\n",
        "          \"mse\": mse.numpy(),\n",
        "          \"mape\": mape.numpy(),\n",
        "          \"smape\": smape.numpy()}"
      ],
      "execution_count": 27,
      "outputs": []
    },
    {
      "cell_type": "code",
      "metadata": {
        "colab": {
          "base_uri": "https://localhost:8080/"
        },
        "id": "HbJlsvUwYEsf",
        "outputId": "62b470e1-4aea-4284-b5df-d32d7687e021"
      },
      "source": [
        "naive_results = evaluate_preds(y_true=y_test[1:],\n",
        "                               y_pred=naive_forecast)\n",
        "naive_results"
      ],
      "execution_count": 28,
      "outputs": [
        {
          "output_type": "execute_result",
          "data": {
            "text/plain": [
              "{'mae': 567.9802, 'mape': 2.516525, 'mse': 1147547.0, 'smape': 2.5180573}"
            ]
          },
          "metadata": {
            "tags": []
          },
          "execution_count": 28
        }
      ]
    },
    {
      "cell_type": "markdown",
      "metadata": {
        "id": "_5kgVzdq1S1A"
      },
      "source": [
        "## TODO: Mention other kinds of models which can be used for baselines\n",
        "\n",
        "* TensorFlow Decision Forest\n",
        "* Moving average\n",
        "* Etc...\n",
        "* Focused on pure TensorFlow kinds of models"
      ]
    },
    {
      "cell_type": "code",
      "metadata": {
        "id": "o8O_uBXUx7yP"
      },
      "source": [
        ""
      ],
      "execution_count": 28,
      "outputs": []
    },
    {
      "cell_type": "code",
      "metadata": {
        "id": "VYhcUJEbwTXw"
      },
      "source": [
        ""
      ],
      "execution_count": 28,
      "outputs": []
    },
    {
      "cell_type": "markdown",
      "metadata": {
        "id": "e8AzwUvjBkgY"
      },
      "source": [
        "## Windowing dataset\n",
        "\n",
        "Why do we window?\n",
        "\n",
        "TODO: We can turn our time series data into a **supervised learning problem**: use windows of the past to predict the future."
      ]
    },
    {
      "cell_type": "code",
      "metadata": {
        "colab": {
          "base_uri": "https://localhost:8080/"
        },
        "id": "nIo5R-I8ZJZS",
        "outputId": "10faeef5-d81f-4d11-df7c-963473314692"
      },
      "source": [
        "X_train, y_train"
      ],
      "execution_count": 29,
      "outputs": [
        {
          "output_type": "execute_result",
          "data": {
            "text/plain": [
              "(array(['2013-10-01T00:00:00.000000000', '2013-10-02T00:00:00.000000000',\n",
              "        '2013-10-03T00:00:00.000000000', ...,\n",
              "        '2019-11-05T00:00:00.000000000', '2019-11-06T00:00:00.000000000',\n",
              "        '2019-11-07T00:00:00.000000000'], dtype='datetime64[ns]'),\n",
              " array([ 123.65499   ,  125.455     ,  108.58483   , ..., 9369.62808116,\n",
              "        9326.59962378, 9335.75240233]))"
            ]
          },
          "metadata": {
            "tags": []
          },
          "execution_count": 29
        }
      ]
    },
    {
      "cell_type": "code",
      "metadata": {
        "colab": {
          "base_uri": "https://localhost:8080/"
        },
        "id": "V413SOWmZJVW",
        "outputId": "264dab5d-76e3-48d5-89dd-f3e56e332a80"
      },
      "source": [
        "X_test[:10], y_test[:10]"
      ],
      "execution_count": 30,
      "outputs": [
        {
          "output_type": "execute_result",
          "data": {
            "text/plain": [
              "(array(['2019-11-08T00:00:00.000000000', '2019-11-09T00:00:00.000000000',\n",
              "        '2019-11-10T00:00:00.000000000', '2019-11-11T00:00:00.000000000',\n",
              "        '2019-11-12T00:00:00.000000000', '2019-11-13T00:00:00.000000000',\n",
              "        '2019-11-14T00:00:00.000000000', '2019-11-15T00:00:00.000000000',\n",
              "        '2019-11-16T00:00:00.000000000', '2019-11-17T00:00:00.000000000'],\n",
              "       dtype='datetime64[ns]'),\n",
              " array([9226.48582088, 8794.35864452, 8798.04205463, 9081.18687849,\n",
              "        8711.53433917, 8760.89271814, 8749.52059102, 8656.97092235,\n",
              "        8500.64355816, 8469.2608989 ]))"
            ]
          },
          "metadata": {
            "tags": []
          },
          "execution_count": 30
        }
      ]
    },
    {
      "cell_type": "markdown",
      "metadata": {
        "id": "IxZ6h88QZfOs"
      },
      "source": [
        "Want:\n",
        "\n",
        "```\n",
        "# Window for a week (univariate time series)\n",
        "[0, 1, 2, 3, 4, 5, 6] -> [7]\n",
        "[1, 2, 3, 4, 5, 6, 7] -> [8]\n",
        "[2, 3, 4, 5, 6, 7, 8] -> [9]\n",
        "```"
      ]
    },
    {
      "cell_type": "code",
      "metadata": {
        "id": "LibzWQXM2ib-"
      },
      "source": [
        "HORIZON = 1 # predict 1 step at a time\n",
        "WINDOW_SIZE = 7 # use a week worth of timesteps to predict the horizon"
      ],
      "execution_count": 129,
      "outputs": []
    },
    {
      "cell_type": "code",
      "metadata": {
        "id": "zV8pv5K_x81E"
      },
      "source": [
        "# Create function to label windowed data\n",
        "def get_labelled_windows(x, horizon=1):\n",
        "  \"\"\"\n",
        "  Creates labels for windowed dataset.\n",
        "\n",
        "  E.g. if horizon=1 (default)\n",
        "  [1, 2, 3, 4, 5, 6] -> ([1, 2, 3, 4, 5], [6])\n",
        "  \"\"\"\n",
        "  return x[:, :-horizon], x[:, -horizon:]"
      ],
      "execution_count": 130,
      "outputs": []
    },
    {
      "cell_type": "code",
      "metadata": {
        "id": "apea0wiJyCI6"
      },
      "source": [
        "# Create function to view NumPy arrays as windows\n",
        "def make_windows(x, window_size=10, horizon=1):\n",
        "  \"\"\"\n",
        "  Turns a 1D array into a 2D array of sequential windows of window_size.\n",
        "  \"\"\"\n",
        "  # print(len(x)-1)\n",
        "  start = len(x) % window_size # account for data which doesn't fit into window, cut off at start\n",
        "  window_step = np.expand_dims(np.arange(window_size+horizon), axis=0) # create 2D array of window_size\n",
        "  # print(f\"Window step:\\n {window_step[-5:]}\")\n",
        "  window_indexes = start + window_step + np.expand_dims(np.arange(len(x)-(window_size+horizon+start-1)), axis=0).T # create 2D array of windows of size window_size\n",
        "  # print(f\"Window indexes:\\n {window_indexes[:2], window_indexes[-2:]}\")\n",
        "  windowed_array = x[window_indexes] # get the original array indexed with windows\n",
        "  windows, labels = get_labelled_windows(windowed_array, horizon=horizon)\n",
        "  return windows, labels"
      ],
      "execution_count": 131,
      "outputs": []
    },
    {
      "cell_type": "code",
      "metadata": {
        "colab": {
          "base_uri": "https://localhost:8080/"
        },
        "id": "u7Yc3V7fc1UG",
        "outputId": "7dbaae68-69e7-4e84-f68f-3e2239887ffd"
      },
      "source": [
        "full_windows, full_labels = make_windows(prices, window_size=WINDOW_SIZE, horizon=HORIZON)\n",
        "len(full_windows), len(full_labels)"
      ],
      "execution_count": 132,
      "outputs": [
        {
          "output_type": "execute_result",
          "data": {
            "text/plain": [
              "(2779, 2779)"
            ]
          },
          "metadata": {
            "tags": []
          },
          "execution_count": 132
        }
      ]
    },
    {
      "cell_type": "markdown",
      "metadata": {
        "id": "kmuTc0NDYj3l"
      },
      "source": [
        "### TODO: Make train/test splits after windowing, this helps with evaluation..."
      ]
    },
    {
      "cell_type": "code",
      "metadata": {
        "id": "o_8BRgb8YtP3"
      },
      "source": [
        "# Make the train/test splits\n",
        "def make_train_test_splits(windows, labels, test_split=0.2):\n",
        "  \"\"\"\n",
        "  Splits matching pairs of windows and labels into train and test splits.\n",
        "  \"\"\"\n",
        "  split_size = int(len(windows) * (1-test_split))\n",
        "  train_windows = windows[:split_size]\n",
        "  train_labels = labels[:split_size]\n",
        "  test_windows = windows[split_size:]\n",
        "  test_labels = labels[split_size:]\n",
        "  return train_windows, test_windows, train_labels, test_labels"
      ],
      "execution_count": 133,
      "outputs": []
    },
    {
      "cell_type": "code",
      "metadata": {
        "colab": {
          "base_uri": "https://localhost:8080/"
        },
        "id": "z_xY8T7HEaoU",
        "outputId": "84a328c0-c174-40c9-f122-4ca940438d41"
      },
      "source": [
        "train_windows, test_windows, train_labels, test_labels = make_train_test_splits(full_windows, full_labels)\n",
        "len(train_windows), len(test_windows), len(train_labels), len(test_labels)"
      ],
      "execution_count": 134,
      "outputs": [
        {
          "output_type": "execute_result",
          "data": {
            "text/plain": [
              "(2223, 556, 2223, 556)"
            ]
          },
          "metadata": {
            "tags": []
          },
          "execution_count": 134
        }
      ]
    },
    {
      "cell_type": "code",
      "metadata": {
        "colab": {
          "base_uri": "https://localhost:8080/"
        },
        "id": "DDgyT7Gix1fH",
        "outputId": "9d2c6bfb-c92d-40ab-d0ab-f8625699cd7b"
      },
      "source": [
        "train_windows[:5], train_labels[:5]"
      ],
      "execution_count": 135,
      "outputs": [
        {
          "output_type": "execute_result",
          "data": {
            "text/plain": [
              "(array([[125.455  , 108.58483, 118.67466, 121.33866, 120.65533, 121.795  ,\n",
              "         123.033  ],\n",
              "        [108.58483, 118.67466, 121.33866, 120.65533, 121.795  , 123.033  ,\n",
              "         124.049  ],\n",
              "        [118.67466, 121.33866, 120.65533, 121.795  , 123.033  , 124.049  ,\n",
              "         125.96116],\n",
              "        [121.33866, 120.65533, 121.795  , 123.033  , 124.049  , 125.96116,\n",
              "         125.27966],\n",
              "        [120.65533, 121.795  , 123.033  , 124.049  , 125.96116, 125.27966,\n",
              "         125.9275 ]]), array([[124.049  ],\n",
              "        [125.96116],\n",
              "        [125.27966],\n",
              "        [125.9275 ],\n",
              "        [126.38333]]))"
            ]
          },
          "metadata": {
            "tags": []
          },
          "execution_count": 135
        }
      ]
    },
    {
      "cell_type": "markdown",
      "metadata": {
        "id": "PQX0PF5jV4aq"
      },
      "source": [
        "## TODO: Make a modelling checkpoint... \n",
        "\n",
        "We need to save our model's best performance. "
      ]
    },
    {
      "cell_type": "code",
      "metadata": {
        "id": "knBwm-bCWWk_"
      },
      "source": [
        "import os"
      ],
      "execution_count": 136,
      "outputs": []
    },
    {
      "cell_type": "code",
      "metadata": {
        "id": "Xh8i1f7rV_P2"
      },
      "source": [
        "def create_model_checkpoint(model_name, save_path=\"model_experiments\"):\n",
        "  return tf.keras.callbacks.ModelCheckpoint(filepath=os.path.join(save_path, model_name),\n",
        "                                            verbose=0,\n",
        "                                            save_best_only=True)"
      ],
      "execution_count": 137,
      "outputs": []
    },
    {
      "cell_type": "markdown",
      "metadata": {
        "id": "j5uw1AaVY-J9"
      },
      "source": [
        "## TODO: Model X: Dense model "
      ]
    },
    {
      "cell_type": "code",
      "metadata": {
        "id": "Fadbh94rY-WQ"
      },
      "source": [
        "import tensorflow as tf\n",
        "from tensorflow.keras import layers"
      ],
      "execution_count": 138,
      "outputs": []
    },
    {
      "cell_type": "code",
      "metadata": {
        "colab": {
          "base_uri": "https://localhost:8080/"
        },
        "id": "T3ytqCyZ3O4T",
        "outputId": "6777771a-03fc-4261-a682-db08b7e7445f"
      },
      "source": [
        "len(train_windows), len(test_windows), len(full_windows)"
      ],
      "execution_count": 139,
      "outputs": [
        {
          "output_type": "execute_result",
          "data": {
            "text/plain": [
              "(2223, 556, 2779)"
            ]
          },
          "metadata": {
            "tags": []
          },
          "execution_count": 139
        }
      ]
    },
    {
      "cell_type": "code",
      "metadata": {
        "id": "Slr5hrJHY_Ed",
        "colab": {
          "base_uri": "https://localhost:8080/"
        },
        "outputId": "555cea5e-c605-4ce0-d8c9-bfd7ac2c8df0"
      },
      "source": [
        "tf.random.set_seed(42)\n",
        "\n",
        "model_1 = tf.keras.Sequential([\n",
        "  layers.Dense(128, activation=\"relu\"),\n",
        "  layers.Dense(HORIZON)                              \n",
        "], name=\"model_1_dense\")\n",
        "\n",
        "model_1.compile(loss=\"mae\",\n",
        "                optimizer=tf.keras.optimizers.Adam())\n",
        "\n",
        "model_1.fit(x=train_windows, \n",
        "            y=train_labels,\n",
        "            epochs=20,\n",
        "            validation_data=(test_windows, test_labels),\n",
        "            callbacks=[create_model_checkpoint(model_name=model_1.name)])"
      ],
      "execution_count": 164,
      "outputs": [
        {
          "output_type": "stream",
          "text": [
            "Epoch 1/20\n",
            "70/70 [==============================] - 1s 3ms/step - loss: 365.6065 - val_loss: 1093.3887\n",
            "INFO:tensorflow:Assets written to: model_experiments/model_1_dense/assets\n",
            "Epoch 2/20\n",
            "70/70 [==============================] - 0s 2ms/step - loss: 165.6461 - val_loss: 807.2574\n",
            "INFO:tensorflow:Assets written to: model_experiments/model_1_dense/assets\n",
            "Epoch 3/20\n",
            "70/70 [==============================] - 0s 2ms/step - loss: 144.6243 - val_loss: 748.2397\n",
            "INFO:tensorflow:Assets written to: model_experiments/model_1_dense/assets\n",
            "Epoch 4/20\n",
            "70/70 [==============================] - 0s 2ms/step - loss: 136.8425 - val_loss: 741.1893\n",
            "INFO:tensorflow:Assets written to: model_experiments/model_1_dense/assets\n",
            "Epoch 5/20\n",
            "70/70 [==============================] - 0s 2ms/step - loss: 129.6421 - val_loss: 746.9254\n",
            "Epoch 6/20\n",
            "70/70 [==============================] - 0s 2ms/step - loss: 133.2969 - val_loss: 655.9176\n",
            "INFO:tensorflow:Assets written to: model_experiments/model_1_dense/assets\n",
            "Epoch 7/20\n",
            "70/70 [==============================] - 0s 2ms/step - loss: 127.1284 - val_loss: 663.9423\n",
            "Epoch 8/20\n",
            "70/70 [==============================] - 0s 2ms/step - loss: 126.4992 - val_loss: 657.6816\n",
            "Epoch 9/20\n",
            "70/70 [==============================] - 0s 2ms/step - loss: 126.9756 - val_loss: 728.3282\n",
            "Epoch 10/20\n",
            "70/70 [==============================] - 0s 2ms/step - loss: 127.2498 - val_loss: 615.8317\n",
            "INFO:tensorflow:Assets written to: model_experiments/model_1_dense/assets\n",
            "Epoch 11/20\n",
            "70/70 [==============================] - 0s 2ms/step - loss: 119.1729 - val_loss: 654.7941\n",
            "Epoch 12/20\n",
            "70/70 [==============================] - 0s 2ms/step - loss: 122.3152 - val_loss: 823.8652\n",
            "Epoch 13/20\n",
            "70/70 [==============================] - 0s 2ms/step - loss: 126.7736 - val_loss: 727.1515\n",
            "Epoch 14/20\n",
            "70/70 [==============================] - 0s 2ms/step - loss: 121.6560 - val_loss: 599.2497\n",
            "INFO:tensorflow:Assets written to: model_experiments/model_1_dense/assets\n",
            "Epoch 15/20\n",
            "70/70 [==============================] - 0s 2ms/step - loss: 120.6416 - val_loss: 594.9940\n",
            "INFO:tensorflow:Assets written to: model_experiments/model_1_dense/assets\n",
            "Epoch 16/20\n",
            "70/70 [==============================] - 0s 2ms/step - loss: 116.1636 - val_loss: 710.7823\n",
            "Epoch 17/20\n",
            "70/70 [==============================] - 0s 2ms/step - loss: 110.7149 - val_loss: 583.6633\n",
            "INFO:tensorflow:Assets written to: model_experiments/model_1_dense/assets\n",
            "Epoch 18/20\n",
            "70/70 [==============================] - 0s 2ms/step - loss: 113.6185 - val_loss: 581.2761\n",
            "INFO:tensorflow:Assets written to: model_experiments/model_1_dense/assets\n",
            "Epoch 19/20\n",
            "70/70 [==============================] - 0s 2ms/step - loss: 114.0691 - val_loss: 598.5696\n",
            "Epoch 20/20\n",
            "70/70 [==============================] - 0s 2ms/step - loss: 115.4482 - val_loss: 639.7830\n"
          ],
          "name": "stdout"
        },
        {
          "output_type": "execute_result",
          "data": {
            "text/plain": [
              "<tensorflow.python.keras.callbacks.History at 0x7f5f758f6ed0>"
            ]
          },
          "metadata": {
            "tags": []
          },
          "execution_count": 164
        }
      ]
    },
    {
      "cell_type": "code",
      "metadata": {
        "id": "N1DbcEZBY_Bt",
        "colab": {
          "base_uri": "https://localhost:8080/"
        },
        "outputId": "724e6ea1-e79b-4d4a-d82f-de723678ca30"
      },
      "source": [
        "# Evaluate\n",
        "model_1.evaluate(test_windows, test_labels)"
      ],
      "execution_count": 165,
      "outputs": [
        {
          "output_type": "stream",
          "text": [
            "18/18 [==============================] - 0s 1ms/step - loss: 639.7830\n"
          ],
          "name": "stdout"
        },
        {
          "output_type": "execute_result",
          "data": {
            "text/plain": [
              "639.7830200195312"
            ]
          },
          "metadata": {
            "tags": []
          },
          "execution_count": 165
        }
      ]
    },
    {
      "cell_type": "code",
      "metadata": {
        "colab": {
          "base_uri": "https://localhost:8080/"
        },
        "id": "FXey-AX-XZPK",
        "outputId": "0b78aa71-c788-4b9c-d7b5-3d85810a905f"
      },
      "source": [
        "model_1 = tf.keras.models.load_model(\"model_experiments/model_1_dense\")\n",
        "model_1.evaluate(test_windows, test_labels)"
      ],
      "execution_count": 173,
      "outputs": [
        {
          "output_type": "stream",
          "text": [
            "18/18 [==============================] - 0s 1ms/step - loss: 581.2761\n"
          ],
          "name": "stdout"
        },
        {
          "output_type": "execute_result",
          "data": {
            "text/plain": [
              "581.2760620117188"
            ]
          },
          "metadata": {
            "tags": []
          },
          "execution_count": 173
        }
      ]
    },
    {
      "cell_type": "markdown",
      "metadata": {
        "id": "-HfeTX5KhYin"
      },
      "source": [
        "### TODO: Making forecasts with a model\n",
        "\n",
        "* We could make forecasts on the test windows, however this would end up in less prediction values than in the `y_test`\n",
        "* Instead, we're going to make predictions on the full dataset windows "
      ]
    },
    {
      "cell_type": "code",
      "metadata": {
        "id": "hZrExWzyh3ur"
      },
      "source": [
        "def make_forecast(model, input_data):\n",
        "  \"\"\"\n",
        "  Uses model to make forecasts on input_data.\n",
        "\n",
        "  Input_data must be windowed version of whole dataset, otherwise forecasts won't match size of y_test.\n",
        "\n",
        "  Parameters\n",
        "  ----------\n",
        "  model: trained model \n",
        "  input_data: windowed input data (with windiw_size windows)\n",
        "\n",
        "  Returns model forecast on input_data from split_size-window_size onwards.\n",
        "  \"\"\"\n",
        "  forecast = model.predict(input_data)\n",
        "  return tf.squeeze(forecast) # return 1D array of predictions "
      ],
      "execution_count": 145,
      "outputs": []
    },
    {
      "cell_type": "code",
      "metadata": {
        "colab": {
          "base_uri": "https://localhost:8080/"
        },
        "id": "ND4uFaYdy463",
        "outputId": "7f215e60-6b08-4cfd-e191-cb369d22293c"
      },
      "source": [
        "model_1_preds = tf.squeeze(model_1.predict(test_windows))\n",
        "# adjusted_preds = preds[split_size-WINDOW_SIZE-HORIZON-start+1:]\n",
        "len(model_1_preds)"
      ],
      "execution_count": 174,
      "outputs": [
        {
          "output_type": "execute_result",
          "data": {
            "text/plain": [
              "556"
            ]
          },
          "metadata": {
            "tags": []
          },
          "execution_count": 174
        }
      ]
    },
    {
      "cell_type": "code",
      "metadata": {
        "colab": {
          "base_uri": "https://localhost:8080/"
        },
        "id": "gACmlubfdL8q",
        "outputId": "1cc14279-2324-439d-cfb3-192df3be4378"
      },
      "source": [
        "model_1_preds[:10]"
      ],
      "execution_count": 175,
      "outputs": [
        {
          "output_type": "execute_result",
          "data": {
            "text/plain": [
              "<tf.Tensor: shape=(10,), dtype=float32, numpy=\n",
              "array([8918.271, 8782.864, 8982.305, 8816.604, 8743.233, 8752.173,\n",
              "       8689.957, 8528.286, 8479.657, 8508.37 ], dtype=float32)>"
            ]
          },
          "metadata": {
            "tags": []
          },
          "execution_count": 175
        }
      ]
    },
    {
      "cell_type": "code",
      "metadata": {
        "colab": {
          "base_uri": "https://localhost:8080/"
        },
        "id": "SXTL7WX-FNoF",
        "outputId": "a3becf32-f09f-4f81-9461-a5e7392adcbb"
      },
      "source": [
        "# Test labels are the same as the backend of y_test (accounting for HORIZON size)\n",
        "y_test[-HORIZON:] == test_labels[-1]"
      ],
      "execution_count": 176,
      "outputs": [
        {
          "output_type": "execute_result",
          "data": {
            "text/plain": [
              "Date\n",
              "2021-05-18    False\n",
              "Name: Price, dtype: bool"
            ]
          },
          "metadata": {
            "tags": []
          },
          "execution_count": 176
        }
      ]
    },
    {
      "cell_type": "code",
      "metadata": {
        "colab": {
          "base_uri": "https://localhost:8080/"
        },
        "id": "eHak7Jqd9aXv",
        "outputId": "b3cfe4f6-94b7-4bad-d78f-3250b52e2e6f"
      },
      "source": [
        "# TODO: Change this function to work with multi-level windows as well as single step\n",
        "# Evaluate preds\n",
        "model_1_results = evaluate_preds(y_true=tf.squeeze(test_labels), # reduce to right shape\n",
        "                                 y_pred=model_1_preds)\n",
        "model_1_results"
      ],
      "execution_count": 177,
      "outputs": [
        {
          "output_type": "execute_result",
          "data": {
            "text/plain": [
              "{'mae': 581.276, 'mape': 2.5996687, 'mse': 1218963.6, 'smape': 2.5956254}"
            ]
          },
          "metadata": {
            "tags": []
          },
          "execution_count": 177
        }
      ]
    },
    {
      "cell_type": "code",
      "metadata": {
        "id": "Pmm8HkpuC-ya"
      },
      "source": [
        "# Create a function to plot time series data\n",
        "def plot_time_series(timesteps, values, format='-', start=0, end=None, label=None):\n",
        "  # Plot the series\n",
        "  plt.plot(timesteps[start:end], values[start:end], format, label=label)\n",
        "  plt.xlabel(\"Time\")\n",
        "  plt.ylabel(\"BTC Price\")\n",
        "  if label:\n",
        "    plt.legend(fontsize=14)\n",
        "  plt.grid(True)"
      ],
      "execution_count": 50,
      "outputs": []
    },
    {
      "cell_type": "code",
      "metadata": {
        "colab": {
          "base_uri": "https://localhost:8080/",
          "height": 442
        },
        "id": "wFKZFKBhE2Ng",
        "outputId": "39e8fa24-9ba8-4a85-ff8a-0e64fa944880"
      },
      "source": [
        "plt.figure(figsize=(10, 7))\n",
        "plot_time_series(timesteps=X_train, values=y_train, label=\"train_data\")\n",
        "plot_time_series(timesteps=X_test, values=y_test, label=\"test_data\")"
      ],
      "execution_count": 51,
      "outputs": [
        {
          "output_type": "display_data",
          "data": {
            "image/png": "[encoded data removed]",
            "text/plain": [
              "<Figure size 720x504 with 1 Axes>"
            ]
          },
          "metadata": {
            "tags": [],
            "needs_background": "light"
          }
        }
      ]
    },
    {
      "cell_type": "code",
      "metadata": {
        "colab": {
          "base_uri": "https://localhost:8080/",
          "height": 442
        },
        "id": "Wgxoqg_tIhFJ",
        "outputId": "c7e70e1a-727f-4127-b887-c9d9f3399e39"
      },
      "source": [
        "offset = 300\n",
        "plt.figure(figsize=(10, 7))\n",
        "\n",
        "# Account for the test_window offset\n",
        "plot_time_series(timesteps=X_test[-len(test_windows):], values=test_labels[:, 0], start=offset, label=\"test_data\")\n",
        "plot_time_series(timesteps=X_test[-len(test_windows):], values=model_1_preds, start=offset, label=\"model_1_preds\")"
      ],
      "execution_count": 52,
      "outputs": [
        {
          "output_type": "display_data",
          "data": {
            "image/png": "[encoded data removed]",
            "text/plain": [
              "<Figure size 720x504 with 1 Axes>"
            ]
          },
          "metadata": {
            "tags": [],
            "needs_background": "light"
          }
        }
      ]
    },
    {
      "cell_type": "markdown",
      "metadata": {
        "id": "fr18ffVq4i6m"
      },
      "source": [
        "## TODO: Model X: Larger window + horizon\n",
        "\n",
        "TK - What happens if we make a larger window & horizon?\n",
        "\n",
        "* TK - Window & horizon values are values you can tune..."
      ]
    },
    {
      "cell_type": "code",
      "metadata": {
        "id": "Vz0eMi7F4wpn"
      },
      "source": [
        "HORIZON = 7 # predict a week at a time\n",
        "WINDOW_SIZE = 30 # use 30 timesteps in the past"
      ],
      "execution_count": 53,
      "outputs": []
    },
    {
      "cell_type": "code",
      "metadata": {
        "colab": {
          "base_uri": "https://localhost:8080/"
        },
        "id": "1HlYaAxr6UoC",
        "outputId": "3066bbf0-3ec5-4bd0-fc5a-3c95e9ab04e9"
      },
      "source": [
        "# Make windowed data with appropriate horizon and window sizes\n",
        "full_windows, full_labels = make_windows(prices, window_size=WINDOW_SIZE, horizon=HORIZON)\n",
        "len(full_windows), len(full_labels)"
      ],
      "execution_count": 54,
      "outputs": [
        {
          "output_type": "execute_result",
          "data": {
            "text/plain": [
              "(2724, 2724)"
            ]
          },
          "metadata": {
            "tags": []
          },
          "execution_count": 54
        }
      ]
    },
    {
      "cell_type": "code",
      "metadata": {
        "colab": {
          "base_uri": "https://localhost:8080/"
        },
        "id": "jWxYZtOuelzO",
        "outputId": "5b5db749-0d16-4616-cc4d-279c54d98c14"
      },
      "source": [
        "# Make train and testing windows\n",
        "train_windows, test_windows, train_labels, test_labels = make_train_test_splits(windows=full_windows, labels=full_labels)\n",
        "len(train_windows), len(test_windows), len(train_labels), len(test_labels)"
      ],
      "execution_count": 55,
      "outputs": [
        {
          "output_type": "execute_result",
          "data": {
            "text/plain": [
              "(2179, 545, 2179, 545)"
            ]
          },
          "metadata": {
            "tags": []
          },
          "execution_count": 55
        }
      ]
    },
    {
      "cell_type": "code",
      "metadata": {
        "colab": {
          "base_uri": "https://localhost:8080/"
        },
        "id": "b_oz5aJE6UwN",
        "outputId": "15fd3573-cd86-434d-ab06-0810cf66f538"
      },
      "source": [
        "model_2 = tf.keras.Sequential([\n",
        "  layers.Dense(128, activation=\"relu\"),\n",
        "  layers.Dense(HORIZON) # need to predict horizon number of steps into the future\n",
        "], name=\"model_2_dense\")\n",
        "\n",
        "model_2.compile(loss=\"mae\",\n",
        "                optimizer=tf.keras.optimizers.Adam())\n",
        "\n",
        "model_2.fit(train_windows,\n",
        "            train_labels,\n",
        "            epochs=10,\n",
        "            validation_data=(test_windows, test_labels),\n",
        "            callbacks=[create_model_checkpoint(model_name=model_2.name)])"
      ],
      "execution_count": 56,
      "outputs": [
        {
          "output_type": "stream",
          "text": [
            "Epoch 1/10\n",
            "69/69 [==============================] - 1s 4ms/step - loss: 720.8497 - val_loss: 2551.5081\n",
            "INFO:tensorflow:Assets written to: model_experiments/model_2_dense/assets\n",
            "Epoch 2/10\n",
            "69/69 [==============================] - 0s 2ms/step - loss: 387.1968 - val_loss: 2021.0807\n",
            "INFO:tensorflow:Assets written to: model_experiments/model_2_dense/assets\n",
            "Epoch 3/10\n",
            "69/69 [==============================] - 0s 2ms/step - loss: 331.4737 - val_loss: 1776.8286\n",
            "INFO:tensorflow:Assets written to: model_experiments/model_2_dense/assets\n",
            "Epoch 4/10\n",
            "69/69 [==============================] - 0s 2ms/step - loss: 312.4746 - val_loss: 1917.6241\n",
            "Epoch 5/10\n",
            "69/69 [==============================] - 0s 2ms/step - loss: 314.2629 - val_loss: 1625.4810\n",
            "INFO:tensorflow:Assets written to: model_experiments/model_2_dense/assets\n",
            "Epoch 6/10\n",
            "69/69 [==============================] - 0s 2ms/step - loss: 294.6410 - val_loss: 1640.1356\n",
            "Epoch 7/10\n",
            "69/69 [==============================] - 0s 2ms/step - loss: 284.4191 - val_loss: 1668.2035\n",
            "Epoch 8/10\n",
            "69/69 [==============================] - 0s 2ms/step - loss: 276.7572 - val_loss: 1529.2152\n",
            "INFO:tensorflow:Assets written to: model_experiments/model_2_dense/assets\n",
            "Epoch 9/10\n",
            "69/69 [==============================] - 0s 2ms/step - loss: 279.3990 - val_loss: 1694.0669\n",
            "Epoch 10/10\n",
            "69/69 [==============================] - 0s 2ms/step - loss: 270.5573 - val_loss: 1409.6621\n",
            "INFO:tensorflow:Assets written to: model_experiments/model_2_dense/assets\n"
          ],
          "name": "stdout"
        },
        {
          "output_type": "execute_result",
          "data": {
            "text/plain": [
              "<tensorflow.python.keras.callbacks.History at 0x7f5f7251c350>"
            ]
          },
          "metadata": {
            "tags": []
          },
          "execution_count": 56
        }
      ]
    },
    {
      "cell_type": "code",
      "metadata": {
        "id": "W42Fa-aO8rhg",
        "colab": {
          "base_uri": "https://localhost:8080/"
        },
        "outputId": "03544f43-a7ea-42dd-de9b-8fcff1c5fdd4"
      },
      "source": [
        "# Evaluate model 2 preds\n",
        "model_2.evaluate(test_windows, test_labels)"
      ],
      "execution_count": 57,
      "outputs": [
        {
          "output_type": "stream",
          "text": [
            "18/18 [==============================] - 0s 1ms/step - loss: 1409.6621\n"
          ],
          "name": "stdout"
        },
        {
          "output_type": "execute_result",
          "data": {
            "text/plain": [
              "1409.662109375"
            ]
          },
          "metadata": {
            "tags": []
          },
          "execution_count": 57
        }
      ]
    },
    {
      "cell_type": "code",
      "metadata": {
        "colab": {
          "base_uri": "https://localhost:8080/"
        },
        "id": "c_hG89F5YV4i",
        "outputId": "7d1effe9-72ef-4288-f23c-fdad8fd0ae52"
      },
      "source": [
        "# Load in best performing model\n",
        "model_2 = tf.keras.models.load_model(\"model_experiments/model_2_dense/\")\n",
        "model_2.evaluate(test_windows, test_labels)"
      ],
      "execution_count": 58,
      "outputs": [
        {
          "output_type": "stream",
          "text": [
            "18/18 [==============================] - 0s 1ms/step - loss: 1409.6621\n"
          ],
          "name": "stdout"
        },
        {
          "output_type": "execute_result",
          "data": {
            "text/plain": [
              "1409.662109375"
            ]
          },
          "metadata": {
            "tags": []
          },
          "execution_count": 58
        }
      ]
    },
    {
      "cell_type": "code",
      "metadata": {
        "id": "TPfvPgkUknY5"
      },
      "source": [
        "# Get forecast predictions\n",
        "model_2_preds = make_forecast(model_2,\n",
        "                              input_data=test_windows)"
      ],
      "execution_count": 59,
      "outputs": []
    },
    {
      "cell_type": "code",
      "metadata": {
        "colab": {
          "base_uri": "https://localhost:8080/"
        },
        "id": "PGbTLohj4YiX",
        "outputId": "43d064a0-cce3-449d-cb71-1c081e91d4d3"
      },
      "source": [
        "# Each prediction is a window of 7 steps \n",
        "model_2_preds.shape, test_labels.shape"
      ],
      "execution_count": 60,
      "outputs": [
        {
          "output_type": "execute_result",
          "data": {
            "text/plain": [
              "(TensorShape([545, 7]), (545, 7))"
            ]
          },
          "metadata": {
            "tags": []
          },
          "execution_count": 60
        }
      ]
    },
    {
      "cell_type": "code",
      "metadata": {
        "colab": {
          "base_uri": "https://localhost:8080/"
        },
        "id": "dy7XZx7FllHX",
        "outputId": "84a5c421-16de-48e0-cdc5-d463a2b8458f"
      },
      "source": [
        "# Evaluate results for model 2 predictions, these will be metrics across axes (the shapes above)\n",
        "model_2_results = evaluate_preds(y_true=test_labels,\n",
        "                                 y_pred=model_2_preds)\n",
        "model_2_results"
      ],
      "execution_count": 61,
      "outputs": [
        {
          "output_type": "execute_result",
          "data": {
            "text/plain": [
              "{'mae': array([ 407.55414 ,  551.7404  ,  770.20233 ,  814.00684 ,  874.61993 ,\n",
              "         798.4036  ,  883.4588  ,  834.57263 ,  644.06995 ,  377.05447 ,\n",
              "         269.43646 ,  193.25098 ,  155.59807 ,  240.03062 ,  159.86057 ,\n",
              "         162.86105 ,  238.91748 ,  215.12807 ,  223.09926 ,  187.48103 ,\n",
              "         142.25719 ,  108.199844,  150.70166 ,  154.57512 ,  233.78293 ,\n",
              "         359.31412 ,  419.78745 ,  442.78452 ,  397.3946  ,  328.02652 ,\n",
              "         294.15137 ,  167.70006 ,  258.46713 ,  170.50732 ,  245.47594 ,\n",
              "          85.68624 ,  137.7959  ,  151.58914 ,  150.20076 ,  145.72029 ,\n",
              "          96.92285 ,  127.00007 ,  110.3833  ,  123.569756,   56.433872,\n",
              "         134.33768 ,  154.98361 ,  208.95389 ,  287.87946 ,  369.89557 ,\n",
              "         443.20786 ,  543.7189  ,  633.19794 ,  699.89215 ,  669.3907  ,\n",
              "         516.7294  ,  418.40695 ,  538.6628  ,  579.4852  ,  604.3286  ,\n",
              "         638.9757  ,  681.62274 ,  551.2593  ,  229.96861 ,  193.68932 ,\n",
              "         228.02846 ,  417.035   ,  425.0784  ,  318.2779  ,  263.8107  ,\n",
              "         351.59348 ,  413.01004 ,  509.30832 ,  657.3849  ,  742.0599  ,\n",
              "         714.56165 ,  564.3633  ,  501.10965 ,  370.85562 ,  306.24762 ,\n",
              "         314.20703 ,  353.62918 ,  474.36606 ,  572.07355 ,  633.36426 ,\n",
              "         662.88574 ,  606.6776  ,  453.02148 ,  306.3196  ,  282.98117 ,\n",
              "         142.08846 ,  369.0699  ,  383.4915  ,  473.26828 ,  497.30093 ,\n",
              "         415.58148 ,  295.91168 ,  424.3729  ,  402.08273 ,  335.50922 ,\n",
              "         437.87305 ,  652.66925 ,  839.9007  ,  860.52094 ,  833.96906 ,\n",
              "         657.7899  ,  429.8923  ,  283.82324 ,  217.80998 ,  334.0729  ,\n",
              "         355.29193 ,  345.88498 ,  494.86078 , 1010.74023 , 1521.0178  ,\n",
              "        1955.6381  , 2207.7861  , 2308.9216  , 2615.944   , 2750.7024  ,\n",
              "        1964.278   , 1201.2706  ,  767.475   ,  496.49274 ,  595.2061  ,\n",
              "         844.0084  , 1089.5121  ,  805.1259  ,  647.8284  ,  484.93903 ,\n",
              "         629.3949  ,  278.33447 ,  238.87898 ,  300.956   ,  249.62932 ,\n",
              "         346.0847  ,  322.42865 ,  265.21402 ,  316.3801  ,  397.38617 ,\n",
              "         494.8431  ,  559.79865 ,  261.95584 ,  200.35219 ,  207.13303 ,\n",
              "         270.1605  ,  309.2574  ,  427.96002 ,  504.96973 ,  254.4091  ,\n",
              "         236.49944 ,  209.53955 ,  224.37277 ,  318.5657  ,  325.12326 ,\n",
              "         242.9031  ,  317.66315 ,  332.82547 ,  281.56906 ,  392.80267 ,\n",
              "         480.78287 ,  685.99414 ,  772.173   ,  913.09235 , 1059.3875  ,\n",
              "        1124.5446  , 1045.223   , 1151.7032  ,  976.3156  ,  880.6484  ,\n",
              "         854.9924  ,  651.4859  ,  498.0777  ,  507.58286 ,  435.69196 ,\n",
              "         410.85434 ,  421.3884  ,  602.6646  ,  635.41113 ,  346.93484 ,\n",
              "         264.33105 ,  293.50558 ,  340.94183 ,  397.80273 ,  398.11203 ,\n",
              "         244.99162 ,  283.97    ,  508.90305 ,  515.6069  ,  511.1596  ,\n",
              "         254.75182 ,  257.82574 ,  323.13644 ,  283.70242 ,  537.7599  ,\n",
              "         642.2419  ,  569.3227  ,  488.46207 ,  493.42844 ,  436.44992 ,\n",
              "         439.0847  ,  142.21638 ,  191.87932 ,  143.47572 ,  254.65443 ,\n",
              "         156.97559 ,  164.34529 ,  267.3387  ,  266.24567 ,  264.11508 ,\n",
              "         365.05496 ,  297.9778  ,  200.6342  ,  256.29282 ,  129.92578 ,\n",
              "         110.34961 ,  193.01633 ,  252.89941 ,  228.20633 ,  188.4181  ,\n",
              "         115.8125  ,  164.32129 ,  265.1504  ,  234.43625 ,  237.13365 ,\n",
              "         242.35059 ,  288.15067 ,  184.73215 ,  108.700615,  109.055244,\n",
              "         103.44099 ,  163.82896 ,  167.75935 ,  133.24818 ,  100.91671 ,\n",
              "         109.60365 ,  144.4633  ,  135.14676 ,  141.02232 ,  133.85254 ,\n",
              "         111.713585,  131.21443 ,  138.47935 ,  173.26256 ,  122.93346 ,\n",
              "         153.15486 ,  198.2532  ,  191.87221 ,  210.70885 ,  344.08453 ,\n",
              "         601.608   ,  771.7171  ,  928.9216  , 1101.3534  , 1270.6656  ,\n",
              "        1496.6     , 1518.4854  , 1077.1146  ,  852.8337  ,  643.7921  ,\n",
              "         551.2038  ,  363.23285 ,  288.36203 ,  247.51842 ,  290.96176 ,\n",
              "         317.23383 ,  126.2274  ,  162.69963 ,  242.87346 ,  200.68611 ,\n",
              "         238.81808 ,  389.1932  ,  247.08147 ,  313.32867 ,  310.45047 ,\n",
              "         365.215   ,  242.15318 ,  250.63713 ,  282.54953 ,  374.08804 ,\n",
              "         348.37653 ,  268.3369  ,  286.80844 ,  252.15178 ,  221.11272 ,\n",
              "         196.02414 ,  188.81096 ,  319.98312 ,  278.57227 ,  346.88434 ,\n",
              "         471.4456  ,  725.36774 ,  923.762   , 1129.0144  , 1352.0354  ,\n",
              "        1190.6073  ,  950.0001  ,  551.38116 ,  232.22154 ,  214.36258 ,\n",
              "         321.53824 ,  462.67062 ,  432.55426 ,  392.33566 ,  387.33707 ,\n",
              "         518.63043 ,  439.92508 ,  348.14774 ,  267.51437 ,  261.61008 ,\n",
              "         352.69016 ,  404.60562 ,  455.26758 ,  314.41043 ,  240.13156 ,\n",
              "         159.87723 ,  199.37193 ,  178.25572 ,  166.5717  ,  157.67494 ,\n",
              "         251.32227 ,  322.21664 ,  311.92172 ,  186.05553 ,  186.79199 ,\n",
              "         306.51703 ,  379.26004 ,  468.96024 ,  560.7881  ,  660.33624 ,\n",
              "         659.5883  ,  582.86804 ,  417.15945 ,  374.7415  ,  200.42982 ,\n",
              "         219.78069 ,  410.64746 ,  630.0294  ,  797.2538  , 1059.1803  ,\n",
              "        1266.8359  , 1322.6345  , 1464.2473  , 1070.2496  ,  703.5333  ,\n",
              "         597.17883 ,  463.88785 ,  452.36832 ,  362.7387  ,  288.4611  ,\n",
              "         397.36703 ,  632.8483  ,  787.1493  ,  817.99054 ,  993.6356  ,\n",
              "        1133.7742  , 1363.5321  , 1426.466   , 1098.47    ,  819.24304 ,\n",
              "         981.58344 ,  717.9837  ,  587.5611  ,  783.28973 , 1076.5452  ,\n",
              "        1208.9674  , 1413.5724  , 1684.9827  , 1853.3298  , 1813.7345  ,\n",
              "        1569.3535  , 1402.3861  , 1225.6111  ,  745.6886  ,  531.46063 ,\n",
              "         699.0419  ,  750.87976 ,  937.0999  , 1077.4674  , 1057.4333  ,\n",
              "        1011.9872  , 1113.5128  , 1073.4657  ,  850.7679  ,  791.53015 ,\n",
              "         474.70285 ,  382.73773 ,  627.95953 ,  434.34207 ,  417.81976 ,\n",
              "         542.0854  ,  534.8722  ,  855.9537  , 1412.7107  , 2042.4592  ,\n",
              "        2633.1401  , 3293.064   , 3756.3152  , 3986.8997  , 3563.9858  ,\n",
              "        2737.7566  , 2108.188   , 1444.1953  , 1464.5371  , 1741.1947  ,\n",
              "        1958.4916  , 2416.8762  , 3286.4846  , 3798.3218  , 3543.0054  ,\n",
              "        3827.8914  , 3759.3708  , 4204.734   , 4269.861   , 5046.8804  ,\n",
              "        6406.978   , 6415.4126  , 5970.7095  , 5921.882   , 4784.7373  ,\n",
              "        3194.549   , 2175.471   , 1958.1819  , 2421.0334  , 3280.2183  ,\n",
              "        2500.198   , 1287.9045  , 1737.0491  , 2155.0269  , 2027.5714  ,\n",
              "        2302.8572  , 3252.9436  , 4220.9004  , 4619.948   , 3880.2039  ,\n",
              "        1408.0413  ,  922.7282  , 1304.659   , 1363.7952  , 2663.822   ,\n",
              "        2126.3347  , 2862.481   , 3130.7507  , 3047.8518  , 3688.8518  ,\n",
              "        4564.802   , 5968.6206  , 6229.3916  , 5701.8594  , 6752.936   ,\n",
              "        7933.839   , 7524.8228  , 7616.5425  , 6327.264   , 4763.1255  ,\n",
              "        4882.0884  , 3638.6462  , 2968.1223  , 2985.3733  , 3542.659   ,\n",
              "        4123.4204  , 4023.7114  , 2987.6467  , 2884.0261  , 3608.7651  ,\n",
              "        5273.282   , 7057.962   , 8631.306   , 6831.2505  , 5028.1787  ,\n",
              "        3414.477   , 2079.1936  , 1917.9694  , 3594.0964  , 2494.9597  ,\n",
              "        3419.2004  , 3963.2974  , 5279.0356  , 5642.6562  , 6918.835   ,\n",
              "        8163.7227  , 8531.475   , 7291.8164  , 5416.185   , 3542.0847  ,\n",
              "        2611.47    , 1731.6624  , 2139.659   , 1867.1278  , 1945.327   ,\n",
              "        3042.0295  , 4023.6545  , 4447.0576  , 4809.363   , 5351.2393  ,\n",
              "        4562.11    , 2917.3472  , 2137.391   , 3513.3542  , 4251.8794  ,\n",
              "        4051.9592  , 4149.6704  , 3488.5754  , 1597.1456  , 1560.8806  ,\n",
              "        1046.3566  ,  888.7963  ,  825.5296  , 1040.9587  , 1267.5865  ,\n",
              "        1605.1819  , 2470.2952  , 2934.2996  , 3242.2942  , 2861.6697  ,\n",
              "        2922.3862  , 2945.451   , 2694.5808  , 4149.058   , 5700.072   ,\n",
              "        7464.657   , 8644.87    , 8299.935   , 6977.553   , 6133.794   ,\n",
              "        4199.866   , 2579.317   , 2385.5413  , 2649.8638  , 4016.1719  ,\n",
              "        4412.532   , 3232.899   , 3530.4956  , 3368.2266  , 2412.2417  ,\n",
              "        1385.4158  , 2070.6367  , 2195.5005  , 1494.3466  , 1761.8209  ,\n",
              "        2143.3376  , 2905.6702  , 4438.0913  , 6370.7954  , 8755.464   ],\n",
              "       dtype=float32),\n",
              " 'mape': array([ 4.9000483,  6.8541994,  9.845855 , 10.633516 , 11.682808 ,\n",
              "        10.813916 , 12.131767 , 11.503003 ,  8.906047 ,  5.2367787,\n",
              "         3.708897 ,  2.6122484,  2.0734503,  3.1979036,  2.1498003,\n",
              "         2.1616552,  3.2389503,  2.9346173,  3.0309086,  2.5477436,\n",
              "         1.933776 ,  1.4669678,  2.0544698,  2.105669 ,  3.2403755,\n",
              "         4.996588 ,  5.9095836,  6.4007854,  5.7276535,  4.7379436,\n",
              "         4.2741966,  2.4632025,  3.729452 ,  2.446855 ,  3.374556 ,\n",
              "         1.1904752,  1.9080635,  2.1029468,  2.0804448,  2.0087442,\n",
              "         1.3274732,  1.7523928,  1.5272937,  1.7328322,  0.7886447,\n",
              "         1.8753841,  2.1723123,  2.866425 ,  3.807474 ,  4.7674937,\n",
              "         5.6215434,  6.8540745,  7.9591527,  8.721457 ,  8.292476 ,\n",
              "         6.2726283,  4.920809 ,  6.2453594,  6.633974 ,  6.8678217,\n",
              "         7.262651 ,  7.740307 ,  6.2726326,  2.6125085,  2.235652 ,\n",
              "         2.6571064,  4.8979936,  4.990008 ,  3.7512343,  3.1129348,\n",
              "         4.0302415,  4.518098 ,  5.5229445,  7.0546856,  7.935953 ,\n",
              "         7.6341977,  6.025968 ,  5.3355017,  3.9069898,  3.1957724,\n",
              "         3.2515857,  3.597706 ,  4.808285 ,  5.7335258,  6.2799416,\n",
              "         6.53562  ,  5.9279823,  4.4116874,  3.0042746,  2.792013 ,\n",
              "         1.4138685,  3.7384923,  3.9264462,  4.858275 ,  5.124362 ,\n",
              "         4.2754416,  3.0518944,  4.419367 ,  4.3489056,  3.7054102,\n",
              "         4.9074173,  7.337725 ,  9.584897 ,  9.813208 ,  9.541137 ,\n",
              "         7.5415874,  4.9317117,  3.2520664,  2.4253237,  3.7989597,\n",
              "         4.174211 ,  4.248089 ,  6.0665703, 14.682259 , 23.464415 ,\n",
              "        32.092503 , 37.90956  , 42.260975 , 48.33409  , 51.15113  ,\n",
              "        36.57112  , 22.36189  , 14.373757 ,  9.230806 ,  9.779229 ,\n",
              "        13.398287 , 16.851454 , 12.278636 ,  9.923201 ,  7.3383675,\n",
              "         9.562155 ,  4.2042203,  3.6760726,  4.7486954,  3.879184 ,\n",
              "         5.4862375,  5.0067472,  3.9148955,  4.574802 ,  5.7475185,\n",
              "         6.9865575,  7.8496413,  3.658536 ,  2.8318193,  2.9462175,\n",
              "         3.8494267,  4.456342 ,  6.198729 ,  7.306034 ,  3.6550431,\n",
              "         3.399506 ,  2.998888 ,  3.2079947,  4.5152407,  4.566249 ,\n",
              "         3.3390825,  4.329041 ,  4.531337 ,  3.7535024,  5.2170777,\n",
              "         6.297885 ,  8.596292 ,  9.29927  , 10.714159 , 12.19335  ,\n",
              "        12.848049 , 11.79887  , 12.967231 , 10.884484 ,  9.536891 ,\n",
              "         8.993033 ,  6.7353954,  5.1798162,  5.3626037,  4.6326203,\n",
              "         4.4009404,  4.7530003,  6.738035 ,  7.171321 ,  3.9000642,\n",
              "         2.807856 ,  3.039606 ,  3.5286386,  4.159347 ,  4.1664624,\n",
              "         2.5685344,  3.062913 ,  5.572128 ,  5.7003202,  5.6274304,\n",
              "         2.7938206,  2.840606 ,  3.5041611,  3.0273135,  5.54283  ,\n",
              "         6.602102 ,  5.7953897,  4.960271 ,  5.0133166,  4.442102 ,\n",
              "         4.432718 ,  1.463852 ,  1.9697613,  1.468126 ,  2.6774185,\n",
              "         1.631063 ,  1.7172601,  2.83848  ,  2.8308678,  2.8033843,\n",
              "         3.8826678,  3.1642187,  2.141999 ,  2.732275 ,  1.3901994,\n",
              "         1.1734444,  2.0378819,  2.6912184,  2.441088 ,  2.012423 ,\n",
              "         1.2529633,  1.7518566,  2.8817794,  2.5715082,  2.5995338,\n",
              "         2.6623895,  3.1610124,  2.0208063,  1.1923236,  1.1943223,\n",
              "         1.1257362,  1.7746353,  1.80589  ,  1.4394647,  1.0899265,\n",
              "         1.1805617,  1.5531669,  1.4499115,  1.5263461,  1.4539427,\n",
              "         1.2124768,  1.4250127,  1.5062736,  1.8869059,  1.3383374,\n",
              "         1.6456826,  2.1008575,  2.016807 ,  2.1959724,  3.5568874,\n",
              "         5.8314857,  7.275881 ,  8.52346  , 10.024119 , 11.44824  ,\n",
              "        13.302252 , 13.435152 ,  9.499855 ,  7.5224104,  5.6498537,\n",
              "         4.7702622,  3.1245952,  2.5315335,  2.1391928,  2.4927084,\n",
              "         2.7139966,  1.0805696,  1.4100405,  2.0955737,  1.7348942,\n",
              "         2.06669  ,  3.3192635,  2.0456362,  2.582655 ,  2.5735335,\n",
              "         3.0446823,  2.012684 ,  2.0881677,  2.4015713,  3.2251272,\n",
              "         3.0057642,  2.3340316,  2.4923522,  2.196471 ,  1.9179868,\n",
              "         1.7116612,  1.625465 ,  2.7646651,  2.4723024,  3.1564023,\n",
              "         4.4789295,  6.8732285,  8.819953 , 11.004184 , 13.160811 ,\n",
              "        11.635755 ,  9.295385 ,  5.3744287,  2.2758067,  2.0891619,\n",
              "         3.031341 ,  4.3069205,  3.9970663,  3.6225564,  3.539928 ,\n",
              "         4.744334 ,  4.027031 ,  3.2097328,  2.521366 ,  2.4501834,\n",
              "         3.336994 ,  3.8445938,  4.3367205,  2.996223 ,  2.2764122,\n",
              "         1.4820541,  1.8535024,  1.6645868,  1.5567944,  1.4800023,\n",
              "         2.3618338,  3.038814 ,  2.94209  ,  1.7497132,  1.7390752,\n",
              "         2.7786362,  3.3948886,  4.1425853,  4.908016 ,  5.7808213,\n",
              "         5.765794 ,  5.0937176,  3.6370163,  3.2691505,  1.7473083,\n",
              "         1.8880686,  3.3276536,  5.008983 ,  6.1996727,  8.190924 ,\n",
              "         9.77995  , 10.162906 , 11.1162405,  8.079352 ,  5.274816 ,\n",
              "         4.4400682,  3.416801 ,  3.3130374,  2.6385946,  2.107442 ,\n",
              "         2.8739107,  4.3545203,  5.23316  ,  5.4420166,  6.531225 ,\n",
              "         7.404547 ,  8.903842 ,  9.2234745,  7.029473 ,  5.133449 ,\n",
              "         6.133011 ,  4.4657717,  3.6159384,  4.6674023,  6.283743 ,\n",
              "         6.8999877,  7.8843727,  9.306264 , 10.175996 ,  9.895431 ,\n",
              "         8.473671 ,  7.5101094,  6.589938 ,  4.0833774,  3.0209308,\n",
              "         3.9935005,  4.2615232,  5.320562 ,  6.097218 ,  5.777421 ,\n",
              "         5.286386 ,  5.8323526,  5.599947 ,  4.443901 ,  4.130918 ,\n",
              "         2.4865   ,  2.0477483,  3.37556  ,  2.332631 ,  2.2424908,\n",
              "         2.9174652,  2.8600483,  4.317447 ,  6.624483 ,  9.258177 ,\n",
              "        11.574628 , 14.40783  , 16.319271 , 17.195372 , 15.280999 ,\n",
              "        11.682233 ,  8.89973  ,  5.874896 ,  5.78887  ,  6.738819 ,\n",
              "         7.4503603,  8.914714 , 11.90214  , 13.546321 , 12.056353 ,\n",
              "        12.504254 , 12.056647 , 13.109311 , 12.77513  , 14.194749 ,\n",
              "        17.358103 , 16.789629 , 15.326466 , 15.2996855, 12.375237 ,\n",
              "         8.13035  ,  5.7400146,  5.4442754,  6.889301 ,  9.257055 ,\n",
              "         6.938644 ,  3.5235956,  4.781935 ,  6.4338484,  6.0549893,\n",
              "         7.0715046,  9.976923 , 13.0744095, 14.356443 , 12.285136 ,\n",
              "         4.412965 ,  2.8484826,  4.00896  ,  4.056123 ,  8.04147  ,\n",
              "         6.1927805,  8.111833 ,  8.709899 ,  8.265684 ,  9.713304 ,\n",
              "        11.926787 , 15.083822 , 14.973405 , 13.131145 , 15.099589 ,\n",
              "        17.323954 , 16.175116 , 16.126732 , 13.308732 ,  9.9387045,\n",
              "         9.959703 ,  7.243152 ,  5.683186 ,  5.564403 ,  6.4571657,\n",
              "         7.503064 ,  7.351975 ,  5.514175 ,  5.539163 ,  7.4079275,\n",
              "        10.899358 , 14.999373 , 18.284647 , 14.509935 , 10.712431 ,\n",
              "         7.3033204,  4.4257436,  3.9638705,  7.2562084,  4.9580517,\n",
              "         6.598068 ,  7.3806157,  9.643453 , 10.043263 , 12.105953 ,\n",
              "        14.1249895, 14.681098 , 12.514971 ,  9.272795 ,  6.034258 ,\n",
              "         4.443731 ,  2.9909434,  3.7306871,  3.3266182,  3.4617763,\n",
              "         5.5819173,  7.488574 ,  8.25494  ,  8.937361 ,  9.916789 ,\n",
              "         8.49822  ,  5.413034 ,  3.8137884,  6.0485477,  7.3028164,\n",
              "         6.9428673,  7.112126 ,  5.958684 ,  2.7253563,  2.6880767,\n",
              "         1.8090928,  1.5345644,  1.4274096,  1.7793046,  2.1454928,\n",
              "         2.6456566,  4.0098896,  4.719412 ,  5.1920633,  4.5767927,\n",
              "         4.752972 ,  4.822395 ,  4.585657 ,  7.3328776, 10.398761 ,\n",
              "        13.87465  , 16.278696 , 16.024757 , 13.545403 , 11.934103 ,\n",
              "         8.265413 ,  5.0898213,  4.5496426,  4.812181 ,  7.15835  ,\n",
              "         7.80952  ,  5.7169623,  6.2544994,  5.906173 ,  4.2622337,\n",
              "         2.4736452,  3.6338394,  3.8533192,  2.5860226,  3.1642025,\n",
              "         4.0887628,  5.587119 ,  8.864955 , 13.088897 , 18.55012  ],\n",
              "       dtype=float32),\n",
              " 'mse': array([2.02526516e+05, 3.94159500e+05, 7.23008875e+05, 8.11577062e+05,\n",
              "        8.83746188e+05, 7.23403438e+05, 8.85766125e+05, 7.54177500e+05,\n",
              "        4.52041062e+05, 2.14035875e+05, 9.84443359e+04, 7.97469141e+04,\n",
              "        3.42950820e+04, 8.02831719e+04, 3.33007305e+04, 6.39830625e+04,\n",
              "        6.51387266e+04, 7.62443984e+04, 6.40465820e+04, 5.70745078e+04,\n",
              "        3.64715430e+04, 2.25229473e+04, 2.95562188e+04, 3.13847598e+04,\n",
              "        6.94706016e+04, 1.40347578e+05, 1.95344391e+05, 2.60527031e+05,\n",
              "        1.98844797e+05, 1.51091500e+05, 1.42817047e+05, 6.51801445e+04,\n",
              "        1.03910109e+05, 4.76799336e+04, 7.52365156e+04, 9.34582324e+03,\n",
              "        2.79676680e+04, 3.55799648e+04, 4.17367227e+04, 2.77389727e+04,\n",
              "        1.54856621e+04, 2.77116426e+04, 2.37686582e+04, 2.95255273e+04,\n",
              "        4.67186426e+03, 2.51336855e+04, 4.13021172e+04, 6.76747891e+04,\n",
              "        1.36701359e+05, 2.24917250e+05, 3.13496781e+05, 3.91347219e+05,\n",
              "        4.55482531e+05, 5.26537750e+05, 4.86228969e+05, 3.26256844e+05,\n",
              "        2.89957688e+05, 4.70976031e+05, 5.02685812e+05, 4.81712938e+05,\n",
              "        4.88641406e+05, 5.19787031e+05, 3.29482750e+05, 7.29148359e+04,\n",
              "        5.13001953e+04, 7.00558203e+04, 1.96706953e+05, 1.85535047e+05,\n",
              "        1.39489969e+05, 1.10230914e+05, 1.35807828e+05, 2.62562812e+05,\n",
              "        3.48425969e+05, 5.40510188e+05, 6.16550938e+05, 5.44016500e+05,\n",
              "        3.62546188e+05, 2.65645562e+05, 2.06223250e+05, 1.45406688e+05,\n",
              "        1.52026500e+05, 1.84877484e+05, 3.06371031e+05, 4.11957188e+05,\n",
              "        4.94477500e+05, 5.11126969e+05, 4.52530656e+05, 2.99900938e+05,\n",
              "        1.28470234e+05, 1.15659258e+05, 2.57612148e+04, 1.97797000e+05,\n",
              "        2.10168531e+05, 2.61498328e+05, 2.96785438e+05, 1.89434844e+05,\n",
              "        1.13066211e+05, 2.22294547e+05, 2.88413031e+05, 2.06345750e+05,\n",
              "        3.15379281e+05, 5.51240125e+05, 8.53778125e+05, 8.17801125e+05,\n",
              "        7.20224688e+05, 4.62615812e+05, 2.33776000e+05, 1.14070492e+05,\n",
              "        7.68685391e+04, 1.31668969e+05, 1.82038016e+05, 2.00757344e+05,\n",
              "        3.24523219e+05, 1.87966438e+06, 3.51255475e+06, 5.15038800e+06,\n",
              "        6.19241050e+06, 6.81383550e+06, 7.79933850e+06, 7.65402450e+06,\n",
              "        4.14824725e+06, 1.72499400e+06, 8.97322562e+05, 3.86985719e+05,\n",
              "        4.86775094e+05, 9.10390688e+05, 1.44741012e+06, 8.37546375e+05,\n",
              "        4.75368031e+05, 3.56436500e+05, 5.17196094e+05, 1.01985195e+05,\n",
              "        7.22803984e+04, 1.10104289e+05, 8.85520000e+04, 2.13484328e+05,\n",
              "        1.38020906e+05, 9.99525859e+04, 1.44511109e+05, 1.81742250e+05,\n",
              "        2.97045875e+05, 3.51875562e+05, 9.43226953e+04, 4.98820547e+04,\n",
              "        5.68600703e+04, 9.99724219e+04, 1.26767383e+05, 2.29800203e+05,\n",
              "        2.84227469e+05, 6.96460234e+04, 7.49690234e+04, 7.38408672e+04,\n",
              "        6.11511641e+04, 1.39073906e+05, 1.20840148e+05, 9.19278281e+04,\n",
              "        1.58063047e+05, 1.58327344e+05, 1.28595875e+05, 1.84593969e+05,\n",
              "        2.79370500e+05, 6.22271312e+05, 9.20196562e+05, 1.26943188e+06,\n",
              "        1.57827138e+06, 1.53543712e+06, 1.28609262e+06, 1.35284500e+06,\n",
              "        9.90060688e+05, 9.16821125e+05, 1.02399869e+06, 6.87005812e+05,\n",
              "        3.81008312e+05, 3.52752344e+05, 2.16673047e+05, 2.13257297e+05,\n",
              "        3.22977219e+05, 4.96209812e+05, 6.38893812e+05, 2.73808188e+05,\n",
              "        9.16157266e+04, 1.23812320e+05, 1.47274297e+05, 1.89025391e+05,\n",
              "        1.91117734e+05, 8.05759141e+04, 1.06780445e+05, 3.37770844e+05,\n",
              "        3.36981562e+05, 2.94152219e+05, 8.36136094e+04, 9.55831875e+04,\n",
              "        1.18769391e+05, 1.49918203e+05, 4.03881438e+05, 5.45634875e+05,\n",
              "        5.14701500e+05, 3.44289812e+05, 3.32676688e+05, 2.76544656e+05,\n",
              "        3.35399156e+05, 2.25720371e+04, 4.36062930e+04, 2.46317051e+04,\n",
              "        1.30376961e+05, 3.52801953e+04, 3.56637539e+04, 1.08554680e+05,\n",
              "        1.05143242e+05, 8.72241250e+04, 1.53660109e+05, 1.13141703e+05,\n",
              "        6.19699023e+04, 8.20584297e+04, 3.74337383e+04, 2.10372402e+04,\n",
              "        5.72306641e+04, 6.76338359e+04, 6.26373750e+04, 6.29124805e+04,\n",
              "        2.79463652e+04, 4.08516562e+04, 8.94709375e+04, 9.54011328e+04,\n",
              "        8.42946250e+04, 8.59196328e+04, 9.53439453e+04, 4.00758203e+04,\n",
              "        1.46742354e+04, 1.68810078e+04, 2.35062598e+04, 3.59417578e+04,\n",
              "        5.62895898e+04, 3.11435605e+04, 1.44163730e+04, 1.87731055e+04,\n",
              "        2.89594043e+04, 2.95633223e+04, 2.44072402e+04, 2.71134824e+04,\n",
              "        1.87580195e+04, 2.41684336e+04, 3.32869023e+04, 4.05886172e+04,\n",
              "        1.69208770e+04, 3.17894473e+04, 6.38756055e+04, 6.92793828e+04,\n",
              "        8.00707500e+04, 1.55624750e+05, 6.71621562e+05, 1.08742975e+06,\n",
              "        1.48113912e+06, 1.77559975e+06, 2.04720212e+06, 2.51252175e+06,\n",
              "        2.41603625e+06, 1.31864888e+06, 7.95119375e+05, 4.79235469e+05,\n",
              "        3.94700656e+05, 1.92280172e+05, 1.22889508e+05, 8.75753516e+04,\n",
              "        1.16087391e+05, 1.15711352e+05, 2.58483906e+04, 5.13393125e+04,\n",
              "        8.54729453e+04, 6.78063984e+04, 1.09575242e+05, 2.04529609e+05,\n",
              "        1.21608164e+05, 1.88585266e+05, 1.49987031e+05, 1.65025500e+05,\n",
              "        9.23341953e+04, 1.01569984e+05, 9.11434531e+04, 1.97847625e+05,\n",
              "        1.77425328e+05, 1.12182250e+05, 1.00190086e+05, 8.37051641e+04,\n",
              "        6.99945000e+04, 5.14504102e+04, 5.31771250e+04, 1.19493648e+05,\n",
              "        1.94095125e+05, 2.24543203e+05, 4.37753500e+05, 7.18651875e+05,\n",
              "        1.03099212e+06, 1.59681988e+06, 1.89714712e+06, 1.48557200e+06,\n",
              "        9.47388875e+05, 3.43181969e+05, 9.71867656e+04, 6.61215156e+04,\n",
              "        1.93446328e+05, 3.31594906e+05, 2.94516062e+05, 2.05295469e+05,\n",
              "        2.13715109e+05, 3.19159594e+05, 2.34906500e+05, 1.34113062e+05,\n",
              "        1.00115609e+05, 8.43193047e+04, 1.51192891e+05, 2.25425750e+05,\n",
              "        2.95078969e+05, 1.80486734e+05, 9.46405000e+04, 4.39658750e+04,\n",
              "        5.10213203e+04, 4.00432148e+04, 4.42341016e+04, 3.53001680e+04,\n",
              "        7.89596641e+04, 1.43100781e+05, 1.36210797e+05, 4.25402578e+04,\n",
              "        4.76381758e+04, 1.55271406e+05, 2.46877672e+05, 3.36932312e+05,\n",
              "        4.86988656e+05, 5.62705938e+05, 4.94711469e+05, 3.65850062e+05,\n",
              "        2.25467906e+05, 1.82504891e+05, 5.62725820e+04, 7.48159453e+04,\n",
              "        3.65464438e+05, 6.88787688e+05, 1.15162788e+06, 1.63927000e+06,\n",
              "        1.97157125e+06, 1.94900662e+06, 2.20253425e+06, 1.31509875e+06,\n",
              "        6.59925375e+05, 5.14660750e+05, 3.09566844e+05, 2.86650344e+05,\n",
              "        2.17105078e+05, 1.42355641e+05, 2.10585406e+05, 7.55657812e+05,\n",
              "        1.26158175e+06, 1.14845812e+06, 1.49381575e+06, 1.80769862e+06,\n",
              "        2.14218150e+06, 2.23664150e+06, 1.37417212e+06, 1.07056975e+06,\n",
              "        1.31607625e+06, 7.48995562e+05, 4.64059219e+05, 1.01462100e+06,\n",
              "        1.79396425e+06, 2.42242350e+06, 3.14162925e+06, 3.85310400e+06,\n",
              "        3.92488350e+06, 3.52415600e+06, 2.60756950e+06, 2.26719025e+06,\n",
              "        1.75271312e+06, 7.13298000e+05, 4.49868500e+05, 8.78982312e+05,\n",
              "        9.78628500e+05, 1.41225775e+06, 1.68632288e+06, 1.32831575e+06,\n",
              "        1.36369888e+06, 1.35444212e+06, 1.23063200e+06, 9.38701125e+05,\n",
              "        8.35210312e+05, 3.22182250e+05, 2.17463406e+05, 5.40498562e+05,\n",
              "        2.36389656e+05, 2.11985547e+05, 3.49394500e+05, 3.62200219e+05,\n",
              "        1.24821800e+06, 4.18669650e+06, 7.89675550e+06, 1.16374080e+07,\n",
              "        1.44638580e+07, 1.65304140e+07, 1.67252310e+07, 1.29002930e+07,\n",
              "        7.89998500e+06, 4.75435350e+06, 3.14969550e+06, 3.52019000e+06,\n",
              "        4.53968350e+06, 5.52104750e+06, 8.25025500e+06, 1.33427110e+07,\n",
              "        1.62273270e+07, 1.63903090e+07, 2.00083680e+07, 1.91359640e+07,\n",
              "        2.22761280e+07, 2.39822660e+07, 3.63733160e+07, 5.36636760e+07,\n",
              "        5.40571200e+07, 4.64687880e+07, 4.18991920e+07, 2.71332100e+07,\n",
              "        1.41280530e+07, 5.23889850e+06, 6.25391650e+06, 1.03948010e+07,\n",
              "        1.38600240e+07, 7.15759250e+06, 2.31580275e+06, 3.53587675e+06,\n",
              "        7.96066850e+06, 5.96510500e+06, 9.24432300e+06, 1.36798790e+07,\n",
              "        2.24759780e+07, 2.40862440e+07, 1.77702600e+07, 3.00540525e+06,\n",
              "        1.19783975e+06, 2.32068325e+06, 3.24326250e+06, 7.32584550e+06,\n",
              "        6.33771750e+06, 1.15463570e+07, 1.31498310e+07, 1.42940270e+07,\n",
              "        2.07147680e+07, 2.89646460e+07, 4.11062040e+07, 4.67778600e+07,\n",
              "        4.45325000e+07, 5.91021800e+07, 7.64570240e+07, 6.64925880e+07,\n",
              "        6.27679960e+07, 4.28831280e+07, 2.51706840e+07, 2.60343140e+07,\n",
              "        1.83269580e+07, 1.37966700e+07, 1.48929300e+07, 1.98548580e+07,\n",
              "        2.40007080e+07, 2.19977660e+07, 1.13858490e+07, 9.19468700e+06,\n",
              "        1.78901240e+07, 3.19940260e+07, 5.81663600e+07, 7.62151440e+07,\n",
              "        4.93522680e+07, 2.97344600e+07, 1.47532700e+07, 7.66593450e+06,\n",
              "        5.35690500e+06, 1.42572170e+07, 9.52677300e+06, 1.79725460e+07,\n",
              "        2.71295740e+07, 4.04452080e+07, 4.89036920e+07, 6.17548600e+07,\n",
              "        7.50204240e+07, 7.92195440e+07, 5.71731160e+07, 3.07710980e+07,\n",
              "        1.53069700e+07, 7.90243950e+06, 4.12276050e+06, 6.46467100e+06,\n",
              "        6.50455050e+06, 5.83478050e+06, 1.62627830e+07, 2.46003020e+07,\n",
              "        2.48417920e+07, 2.83661000e+07, 3.10550740e+07, 2.88006820e+07,\n",
              "        1.26685120e+07, 5.88025050e+06, 1.65103650e+07, 2.06990500e+07,\n",
              "        1.95453080e+07, 1.73353240e+07, 1.29082930e+07, 4.08506150e+06,\n",
              "        3.10861325e+06, 1.30056738e+06, 1.13982138e+06, 1.00307456e+06,\n",
              "        2.17953975e+06, 2.83383750e+06, 4.45745650e+06, 9.92085600e+06,\n",
              "        1.27621060e+07, 1.47928470e+07, 1.14668450e+07, 1.00252940e+07,\n",
              "        1.07248710e+07, 1.00675730e+07, 2.43776280e+07, 4.58810440e+07,\n",
              "        6.71433680e+07, 8.02375680e+07, 7.44922560e+07, 5.29867920e+07,\n",
              "        4.10312320e+07, 2.39236800e+07, 1.07028830e+07, 9.13917800e+06,\n",
              "        1.02503290e+07, 1.98378980e+07, 2.28618500e+07, 1.42345150e+07,\n",
              "        1.35811150e+07, 1.41685540e+07, 7.72449650e+06, 2.91878800e+06,\n",
              "        7.24290300e+06, 7.31437650e+06, 4.11196525e+06, 5.04717250e+06,\n",
              "        1.06822410e+07, 1.41765710e+07, 3.15688000e+07, 5.69302480e+07,\n",
              "        9.33882000e+07], dtype=float32),\n",
              " 'smape': 6.2378125}"
            ]
          },
          "metadata": {
            "tags": []
          },
          "execution_count": 61
        }
      ]
    },
    {
      "cell_type": "markdown",
      "metadata": {
        "id": "P_DO0Ygwk24X"
      },
      "source": [
        "Let's adjust the `evaluate_preds()` to work with multiple shapes."
      ]
    },
    {
      "cell_type": "code",
      "metadata": {
        "id": "ERkl26UFgSbz"
      },
      "source": [
        "def evaluate_preds(y_true, y_pred):\n",
        "  # Make sure float32 (for metric calculations)\n",
        "  y_true = tf.cast(y_true, dtype=tf.float32)\n",
        "  y_pred = tf.cast(y_pred, dtype=tf.float32)\n",
        "\n",
        "  # Calculate various metrics\n",
        "  mae = tf.keras.metrics.mean_absolute_error(y_true, y_pred)\n",
        "  mse = tf.keras.metrics.mean_squared_error(y_true, y_pred)\n",
        "  mape = tf.keras.metrics.mean_absolute_percentage_error(y_true, y_pred)\n",
        "  smape = scaled_mape(y_true, y_pred)\n",
        "\n",
        "  # Account for different sized metrics (for longer horizons, reduce to single number)\n",
        "  if mae.ndim > 0: # if mae isn't already a scalar, reduce it to one by aggregating tensors to mean\n",
        "    mae = tf.reduce_mean(mae)\n",
        "    mse = tf.reduce_mean(mse)\n",
        "    mape = tf.reduce_mean(mape)\n",
        "    smape = tf.reduce_mean(smape)\n",
        "\n",
        "  return {\"mae\": mae.numpy(),\n",
        "          \"mse\": mse.numpy(),\n",
        "          \"mape\": mape.numpy(),\n",
        "          \"smape\": smape.numpy()}"
      ],
      "execution_count": 62,
      "outputs": []
    },
    {
      "cell_type": "code",
      "metadata": {
        "colab": {
          "base_uri": "https://localhost:8080/"
        },
        "id": "luzVNzaVe3ku",
        "outputId": "e3fbe64f-ffa6-4f19-95e6-4fbaf06aada1"
      },
      "source": [
        "model_2_results = evaluate_preds(y_true=test_labels,\n",
        "                                 y_pred=model_2_preds)\n",
        "model_2_results"
      ],
      "execution_count": 63,
      "outputs": [
        {
          "output_type": "execute_result",
          "data": {
            "text/plain": [
              "{'mae': 1409.6621, 'mape': 6.235136, 'mse': 6517940.5, 'smape': 6.2378125}"
            ]
          },
          "metadata": {
            "tags": []
          },
          "execution_count": 63
        }
      ]
    },
    {
      "cell_type": "code",
      "metadata": {
        "colab": {
          "base_uri": "https://localhost:8080/",
          "height": 442
        },
        "id": "jHh_qtXflx7Z",
        "outputId": "96f7e314-f4e6-4004-f6f4-38ac79af1eb0"
      },
      "source": [
        "offset = 300\n",
        "plt.figure(figsize=(10, 7))\n",
        "\n",
        "# Account for the test_window offset\n",
        "plot_time_series(timesteps=X_test[-len(test_windows):], values=test_labels[:, 0], start=offset, label=\"test_data\")\n",
        "plot_time_series(timesteps=X_test[-len(test_windows):], values=model_2_preds, start=offset, label=\"model_2_preds\") # this will buckle (too many shapes)"
      ],
      "execution_count": 64,
      "outputs": [
        {
          "output_type": "display_data",
          "data": {
            "image/png": "[encoded data removed]",
            "text/plain": [
              "<Figure size 720x504 with 1 Axes>"
            ]
          },
          "metadata": {
            "tags": [],
            "needs_background": "light"
          }
        }
      ]
    },
    {
      "cell_type": "code",
      "metadata": {
        "colab": {
          "base_uri": "https://localhost:8080/",
          "height": 442
        },
        "id": "mP_xjebjl51L",
        "outputId": "f27cdd4c-1feb-4e77-b2a8-0a917b461078"
      },
      "source": [
        "plt.figure(figsize=(10, 7))\n",
        "\n",
        "# Account for the test_window offset\n",
        "plot_time_series(timesteps=X_test[-len(test_windows):], values=test_labels[:, 0], start=offset, label=\"test_data\")\n",
        "# Account for different shapes, but this still predicts an average of 7 days ahead (horizon=7)\n",
        "plot_time_series(timesteps=X_test[-len(test_windows):], values=tf.reduce_mean(model_2_preds, axis=1), start=offset, label=\"model_2_preds\") "
      ],
      "execution_count": 65,
      "outputs": [
        {
          "output_type": "display_data",
          "data": {
            "image/png": "[encoded data removed]",
            "text/plain": [
              "<Figure size 720x504 with 1 Axes>"
            ]
          },
          "metadata": {
            "tags": [],
            "needs_background": "light"
          }
        }
      ]
    },
    {
      "cell_type": "code",
      "metadata": {
        "colab": {
          "base_uri": "https://localhost:8080/",
          "height": 442
        },
        "id": "XBGbGaaemc7P",
        "outputId": "04baa850-e4e7-4425-bb59-ead56386a336"
      },
      "source": [
        "plt.figure(figsize=(10, 7))\n",
        "\n",
        "# Account for the test_window offset\n",
        "plot_time_series(timesteps=X_test[-len(test_windows):], values=test_labels[:, 0], start=offset, label=\"test_data\")\n",
        "# Account for different shapes, but this still predicts an average of 7 days ahead (horizon=7)\n",
        "plot_time_series(timesteps=X_test[-len(test_windows):], values=model_2_preds[:, 0], start=offset, label=\"model_2_preds\")"
      ],
      "execution_count": 66,
      "outputs": [
        {
          "output_type": "display_data",
          "data": {
            "image/png": "[encoded data removed]",
            "text/plain": [
              "<Figure size 720x504 with 1 Axes>"
            ]
          },
          "metadata": {
            "tags": [],
            "needs_background": "light"
          }
        }
      ]
    },
    {
      "cell_type": "markdown",
      "metadata": {
        "id": "Sls7mUaq9lMl"
      },
      "source": [
        "### Model 3: Dense (1 horizon, 30 window)\n",
        "\n",
        "* -> How does a larger window effect a smaller horizon?\n",
        "* -> Model 1 looked at predicting horizon=1 with window=10\n",
        "* -> Model 2: horizon=7, window=30\n",
        "* -> Model 3: horizon=1, window=30\n",
        "* -> Compare them all..."
      ]
    },
    {
      "cell_type": "code",
      "metadata": {
        "colab": {
          "base_uri": "https://localhost:8080/"
        },
        "id": "8PtmayTM98Mb",
        "outputId": "046da6ce-9418-448f-fa40-ef0b05402c17"
      },
      "source": [
        "HORIZON = 1\n",
        "WINDOW_SIZE = 30\n",
        "\n",
        "full_windows, full_labels = make_windows(prices, window_size=WINDOW_SIZE, horizon=HORIZON)\n",
        "len(full_windows), len(full_labels)"
      ],
      "execution_count": 67,
      "outputs": [
        {
          "output_type": "execute_result",
          "data": {
            "text/plain": [
              "(2730, 2730)"
            ]
          },
          "metadata": {
            "tags": []
          },
          "execution_count": 67
        }
      ]
    },
    {
      "cell_type": "code",
      "metadata": {
        "colab": {
          "base_uri": "https://localhost:8080/"
        },
        "id": "E8xgoKunZ__e",
        "outputId": "8b12ddad-b68b-406e-ee9a-f9f6d5ed155d"
      },
      "source": [
        "train_windows, test_windows, train_labels, test_labels = make_train_test_splits(windows=full_windows, labels=full_labels, test_split=0.2)\n",
        "len(train_windows), len(test_windows), len(train_labels), len(test_labels)"
      ],
      "execution_count": 68,
      "outputs": [
        {
          "output_type": "execute_result",
          "data": {
            "text/plain": [
              "(2184, 546, 2184, 546)"
            ]
          },
          "metadata": {
            "tags": []
          },
          "execution_count": 68
        }
      ]
    },
    {
      "cell_type": "code",
      "metadata": {
        "colab": {
          "base_uri": "https://localhost:8080/"
        },
        "id": "4sCwHE0Rq-00",
        "outputId": "043e0c9c-745c-44d2-9fcc-cabea5baa40b"
      },
      "source": [
        "test_labels[-1], y_test[-1]"
      ],
      "execution_count": 69,
      "outputs": [
        {
          "output_type": "execute_result",
          "data": {
            "text/plain": [
              "(array([43144.47129086]), 43144.471290860296)"
            ]
          },
          "metadata": {
            "tags": []
          },
          "execution_count": 69
        }
      ]
    },
    {
      "cell_type": "code",
      "metadata": {
        "colab": {
          "base_uri": "https://localhost:8080/"
        },
        "id": "hxHh7xS2-CoH",
        "outputId": "118c2491-bda7-48dd-9270-e49507ecfacf"
      },
      "source": [
        "# Build model\n",
        "model_3 = tf.keras.Sequential([\n",
        "  layers.Dense(128, activation=\"relu\"),\n",
        "  layers.Dense(HORIZON)\n",
        "], name=\"model_3_dense\")\n",
        "\n",
        "model_3.compile(loss=\"mae\",\n",
        "                optimizer=tf.keras.optimizers.Adam())\n",
        "\n",
        "model_3.fit(train_windows,\n",
        "            train_labels,\n",
        "            epochs=10,\n",
        "            validation_data=(test_windows, test_labels),\n",
        "            callbacks=[create_model_checkpoint(model_name=model_3.name)])"
      ],
      "execution_count": 70,
      "outputs": [
        {
          "output_type": "stream",
          "text": [
            "Epoch 1/10\n",
            "69/69 [==============================] - 1s 3ms/step - loss: 374.5710 - val_loss: 1548.1019\n",
            "INFO:tensorflow:Assets written to: model_experiments/model_3_dense/assets\n",
            "Epoch 2/10\n",
            "69/69 [==============================] - 0s 2ms/step - loss: 229.9562 - val_loss: 1073.6124\n",
            "INFO:tensorflow:Assets written to: model_experiments/model_3_dense/assets\n",
            "Epoch 3/10\n",
            "69/69 [==============================] - 0s 2ms/step - loss: 232.9060 - val_loss: 1192.8121\n",
            "Epoch 4/10\n",
            "69/69 [==============================] - 0s 2ms/step - loss: 196.5502 - val_loss: 1245.8132\n",
            "Epoch 5/10\n",
            "69/69 [==============================] - 0s 2ms/step - loss: 194.0997 - val_loss: 881.8704\n",
            "INFO:tensorflow:Assets written to: model_experiments/model_3_dense/assets\n",
            "Epoch 6/10\n",
            "69/69 [==============================] - 0s 2ms/step - loss: 171.2338 - val_loss: 824.4242\n",
            "INFO:tensorflow:Assets written to: model_experiments/model_3_dense/assets\n",
            "Epoch 7/10\n",
            "69/69 [==============================] - 0s 2ms/step - loss: 206.5557 - val_loss: 812.6521\n",
            "INFO:tensorflow:Assets written to: model_experiments/model_3_dense/assets\n",
            "Epoch 8/10\n",
            "69/69 [==============================] - 0s 2ms/step - loss: 185.0547 - val_loss: 1134.6233\n",
            "Epoch 9/10\n",
            "69/69 [==============================] - 0s 2ms/step - loss: 152.9752 - val_loss: 1061.9503\n",
            "Epoch 10/10\n",
            "69/69 [==============================] - 0s 2ms/step - loss: 174.0674 - val_loss: 871.5537\n"
          ],
          "name": "stdout"
        },
        {
          "output_type": "execute_result",
          "data": {
            "text/plain": [
              "<tensorflow.python.keras.callbacks.History at 0x7f5f75c44710>"
            ]
          },
          "metadata": {
            "tags": []
          },
          "execution_count": 70
        }
      ]
    },
    {
      "cell_type": "code",
      "metadata": {
        "colab": {
          "base_uri": "https://localhost:8080/"
        },
        "id": "Pd-8pbfh-DDI",
        "outputId": "90e07779-763f-46d3-f5b6-68d9be3aca8f"
      },
      "source": [
        "model_3.evaluate(test_windows, test_labels)"
      ],
      "execution_count": 71,
      "outputs": [
        {
          "output_type": "stream",
          "text": [
            "18/18 [==============================] - 0s 1ms/step - loss: 871.5537\n"
          ],
          "name": "stdout"
        },
        {
          "output_type": "execute_result",
          "data": {
            "text/plain": [
              "871.5537109375"
            ]
          },
          "metadata": {
            "tags": []
          },
          "execution_count": 71
        }
      ]
    },
    {
      "cell_type": "code",
      "metadata": {
        "id": "uKBNVovRpvhd"
      },
      "source": [
        "model_3_preds = make_forecast(model_3,\n",
        "                              input_data=test_windows)"
      ],
      "execution_count": 72,
      "outputs": []
    },
    {
      "cell_type": "code",
      "metadata": {
        "colab": {
          "base_uri": "https://localhost:8080/"
        },
        "id": "kU8TgGv3frKW",
        "outputId": "7f4e1add-69c3-42d2-9f65-39b1a03e06cd"
      },
      "source": [
        "len(model_3_preds)"
      ],
      "execution_count": 73,
      "outputs": [
        {
          "output_type": "execute_result",
          "data": {
            "text/plain": [
              "546"
            ]
          },
          "metadata": {
            "tags": []
          },
          "execution_count": 73
        }
      ]
    },
    {
      "cell_type": "code",
      "metadata": {
        "colab": {
          "base_uri": "https://localhost:8080/"
        },
        "id": "P9VQqenW-5to",
        "outputId": "a09a2f6c-1d1b-4897-e42d-df03ffe91275"
      },
      "source": [
        "model_3_results = evaluate_preds(y_true=tf.squeeze(test_labels),\n",
        "                                 y_pred=model_3_preds)\n",
        "model_3_results"
      ],
      "execution_count": 74,
      "outputs": [
        {
          "output_type": "execute_result",
          "data": {
            "text/plain": [
              "{'mae': 871.5538, 'mape': 4.112692, 'mse': 2447444.0, 'smape': 3.995773}"
            ]
          },
          "metadata": {
            "tags": []
          },
          "execution_count": 74
        }
      ]
    },
    {
      "cell_type": "code",
      "metadata": {
        "colab": {
          "base_uri": "https://localhost:8080/",
          "height": 442
        },
        "id": "gBdg1NcLs3gW",
        "outputId": "3e7b4be6-4605-4bc7-b1ea-bead466bdc49"
      },
      "source": [
        "plt.figure(figsize=(10, 7))\n",
        "offset = 300\n",
        "plot_time_series(timesteps=X_test[-len(test_windows):], values=test_labels[:, 0], start=offset, label=\"test_data\")\n",
        "plot_time_series(timesteps=X_test[-len(test_windows):], values=model_3_preds, start=offset, label=\"model_3_preds\")"
      ],
      "execution_count": 75,
      "outputs": [
        {
          "output_type": "display_data",
          "data": {
            "image/png": "[encoded data removed]",
            "text/plain": [
              "<Figure size 720x504 with 1 Axes>"
            ]
          },
          "metadata": {
            "tags": [],
            "needs_background": "light"
          }
        }
      ]
    },
    {
      "cell_type": "code",
      "metadata": {
        "colab": {
          "base_uri": "https://localhost:8080/"
        },
        "id": "t5FHjtgvAueF",
        "outputId": "ec79bc80-cbdc-4ff0-f1e2-dae71b536c57"
      },
      "source": [
        "naive_results, model_1_results, model_2_results, model_3_results"
      ],
      "execution_count": 76,
      "outputs": [
        {
          "output_type": "execute_result",
          "data": {
            "text/plain": [
              "({'mae': 567.9802, 'mape': 2.516525, 'mse': 1147547.0, 'smape': 2.5180573},\n",
              " {'mae': 631.49457, 'mape': 2.8401394, 'mse': 1364612.5, 'smape': 2.846366},\n",
              " {'mae': 1409.6621, 'mape': 6.235136, 'mse': 6517940.5, 'smape': 6.2378125},\n",
              " {'mae': 871.5538, 'mape': 4.112692, 'mse': 2447444.0, 'smape': 3.995773})"
            ]
          },
          "metadata": {
            "tags": []
          },
          "execution_count": 76
        }
      ]
    },
    {
      "cell_type": "markdown",
      "metadata": {
        "id": "CxcL0gi-rWC5"
      },
      "source": [
        "## TODO: Model X Conv1D"
      ]
    },
    {
      "cell_type": "code",
      "metadata": {
        "id": "2_t9hXvXrZPD"
      },
      "source": [
        "HORIZON = 1\n",
        "WINDOW_SIZE = 30"
      ],
      "execution_count": 77,
      "outputs": []
    },
    {
      "cell_type": "code",
      "metadata": {
        "colab": {
          "base_uri": "https://localhost:8080/"
        },
        "id": "CRCy-vXzsEGL",
        "outputId": "ca76869b-65e3-42a5-aa34-26d91c5792d8"
      },
      "source": [
        "full_windows, full_labels = make_windows(prices, window_size=WINDOW_SIZE, horizon=HORIZON)\n",
        "len(full_windows), len(full_labels)"
      ],
      "execution_count": 78,
      "outputs": [
        {
          "output_type": "execute_result",
          "data": {
            "text/plain": [
              "(2730, 2730)"
            ]
          },
          "metadata": {
            "tags": []
          },
          "execution_count": 78
        }
      ]
    },
    {
      "cell_type": "code",
      "metadata": {
        "colab": {
          "base_uri": "https://localhost:8080/"
        },
        "id": "ZtsLeB3rsED2",
        "outputId": "622a4e77-1c2e-4fcf-dfa3-ed5b97fd3189"
      },
      "source": [
        "# Create train/test splits\n",
        "train_windows, test_windows, train_labels, test_labels = make_train_test_splits(full_windows, full_labels)\n",
        "len(train_windows), len(test_windows), len(train_labels), len(test_labels)"
      ],
      "execution_count": 79,
      "outputs": [
        {
          "output_type": "execute_result",
          "data": {
            "text/plain": [
              "(2184, 546, 2184, 546)"
            ]
          },
          "metadata": {
            "tags": []
          },
          "execution_count": 79
        }
      ]
    },
    {
      "cell_type": "code",
      "metadata": {
        "colab": {
          "base_uri": "https://localhost:8080/"
        },
        "id": "62oSNy3VvZpv",
        "outputId": "0e569b19-7502-4fa7-dcde-95307696faf2"
      },
      "source": [
        "# Before we pass our data to the Conv1D layer, we have to reshape it in order to make sure it works\n",
        "x = tf.constant([1, 2, 3])\n",
        "expand_dims_layer = layers.Lambda(lambda x: tf.expand_dims(x, axis=-1))\n",
        "x.shape, expand_dims_layer(x).shape, expand_dims_layer(x)"
      ],
      "execution_count": 80,
      "outputs": [
        {
          "output_type": "execute_result",
          "data": {
            "text/plain": [
              "(TensorShape([3]),\n",
              " TensorShape([3, 1]),\n",
              " <tf.Tensor: shape=(3, 1), dtype=int32, numpy=\n",
              " array([[1],\n",
              "        [2],\n",
              "        [3]], dtype=int32)>)"
            ]
          },
          "metadata": {
            "tags": []
          },
          "execution_count": 80
        }
      ]
    },
    {
      "cell_type": "code",
      "metadata": {
        "colab": {
          "base_uri": "https://localhost:8080/"
        },
        "id": "jODevMWGsEBI",
        "outputId": "93ece162-220b-41d7-8f92-b72692c6113e"
      },
      "source": [
        "# Create model\n",
        "model_4 = tf.keras.Sequential([\n",
        "  # Without this layer, the model will error\n",
        "  layers.Lambda(lambda x: tf.expand_dims(x, axis=1)), # resize the inputs to adjust for window size / Conv1D 3D input requirements\n",
        "  layers.Conv1D(filters=128, kernel_size=3, padding=\"causal\", activation=\"relu\"),\n",
        "  layers.Dense(HORIZON)\n",
        "], name=\"model_4_conv1D\")\n",
        "\n",
        "# Compile model\n",
        "model_4.compile(loss=\"mae\",\n",
        "                optimizer=tf.keras.optimizers.Adam())\n",
        "\n",
        "# Fit model\n",
        "model_4.fit(train_windows,\n",
        "            train_labels, \n",
        "            epochs=10,\n",
        "            validation_data=(test_windows, test_labels),\n",
        "            callbacks=[create_model_checkpoint(model_name=model_4.name)])"
      ],
      "execution_count": 81,
      "outputs": [
        {
          "output_type": "stream",
          "text": [
            "Epoch 1/10\n",
            "69/69 [==============================] - 1s 7ms/step - loss: 522.6184 - val_loss: 1638.2435\n",
            "INFO:tensorflow:Assets written to: model_experiments/model_4_conv1D/assets\n",
            "Epoch 2/10\n",
            "69/69 [==============================] - 0s 2ms/step - loss: 247.1719 - val_loss: 1166.9731\n",
            "INFO:tensorflow:Assets written to: model_experiments/model_4_conv1D/assets\n",
            "Epoch 3/10\n",
            "69/69 [==============================] - 0s 2ms/step - loss: 205.4687 - val_loss: 1089.7944\n",
            "INFO:tensorflow:Assets written to: model_experiments/model_4_conv1D/assets\n",
            "Epoch 4/10\n",
            "69/69 [==============================] - 0s 2ms/step - loss: 220.3343 - val_loss: 982.7162\n",
            "INFO:tensorflow:Assets written to: model_experiments/model_4_conv1D/assets\n",
            "Epoch 5/10\n",
            "69/69 [==============================] - 0s 2ms/step - loss: 183.0307 - val_loss: 1353.7122\n",
            "Epoch 6/10\n",
            "69/69 [==============================] - 0s 2ms/step - loss: 182.0530 - val_loss: 847.8718\n",
            "INFO:tensorflow:Assets written to: model_experiments/model_4_conv1D/assets\n",
            "Epoch 7/10\n",
            "69/69 [==============================] - 0s 2ms/step - loss: 189.6807 - val_loss: 866.1710\n",
            "Epoch 8/10\n",
            "69/69 [==============================] - 0s 2ms/step - loss: 169.0342 - val_loss: 933.8240\n",
            "Epoch 9/10\n",
            "69/69 [==============================] - 0s 2ms/step - loss: 162.2650 - val_loss: 777.9023\n",
            "INFO:tensorflow:Assets written to: model_experiments/model_4_conv1D/assets\n",
            "Epoch 10/10\n",
            "69/69 [==============================] - 0s 2ms/step - loss: 160.7327 - val_loss: 1061.8506\n"
          ],
          "name": "stdout"
        },
        {
          "output_type": "execute_result",
          "data": {
            "text/plain": [
              "<tensorflow.python.keras.callbacks.History at 0x7f5f71f75810>"
            ]
          },
          "metadata": {
            "tags": []
          },
          "execution_count": 81
        }
      ]
    },
    {
      "cell_type": "code",
      "metadata": {
        "colab": {
          "base_uri": "https://localhost:8080/"
        },
        "id": "2FcGUALG4RxJ",
        "outputId": "daed4a0b-ebf2-4869-b1c9-e96ff9611765"
      },
      "source": [
        "model_4.summary()"
      ],
      "execution_count": 82,
      "outputs": [
        {
          "output_type": "stream",
          "text": [
            "Model: \"model_4_conv1D\"\n",
            "_________________________________________________________________\n",
            "Layer (type)                 Output Shape              Param #   \n",
            "=================================================================\n",
            "lambda_1 (Lambda)            (None, 1, 30)             0         \n",
            "_________________________________________________________________\n",
            "conv1d (Conv1D)              (None, 1, 128)            11648     \n",
            "_________________________________________________________________\n",
            "dense_6 (Dense)              (None, 1, 1)              129       \n",
            "=================================================================\n",
            "Total params: 11,777\n",
            "Trainable params: 11,777\n",
            "Non-trainable params: 0\n",
            "_________________________________________________________________\n"
          ],
          "name": "stdout"
        }
      ]
    },
    {
      "cell_type": "code",
      "metadata": {
        "colab": {
          "base_uri": "https://localhost:8080/"
        },
        "id": "KXEL9FuhsD-3",
        "outputId": "5b5cfdb1-84a3-44a1-f63a-f31482f62b75"
      },
      "source": [
        "model_4 = tf.keras.models.load_model(\"model_experiments/model_4_conv1D\")\n",
        "model_4.evaluate(test_windows, test_labels)"
      ],
      "execution_count": 83,
      "outputs": [
        {
          "output_type": "stream",
          "text": [
            "18/18 [==============================] - 0s 2ms/step - loss: 777.9023\n"
          ],
          "name": "stdout"
        },
        {
          "output_type": "execute_result",
          "data": {
            "text/plain": [
              "777.9022827148438"
            ]
          },
          "metadata": {
            "tags": []
          },
          "execution_count": 83
        }
      ]
    },
    {
      "cell_type": "code",
      "metadata": {
        "colab": {
          "base_uri": "https://localhost:8080/"
        },
        "id": "j99tbnwSsD8R",
        "outputId": "e32caa74-f756-4d05-fa92-640a6d1357c0"
      },
      "source": [
        "# Make predictions\n",
        "model_4_preds = make_forecast(model_4, test_windows)\n",
        "model_4_preds[:10]"
      ],
      "execution_count": 84,
      "outputs": [
        {
          "output_type": "execute_result",
          "data": {
            "text/plain": [
              "<tf.Tensor: shape=(10,), dtype=float32, numpy=\n",
              "array([8284.754 , 8069.042 , 8006.818 , 7832.0464, 7511.361 , 7308.519 ,\n",
              "       7093.775 , 7081.4424, 7024.9814, 7063.788 ], dtype=float32)>"
            ]
          },
          "metadata": {
            "tags": []
          },
          "execution_count": 84
        }
      ]
    },
    {
      "cell_type": "code",
      "metadata": {
        "colab": {
          "base_uri": "https://localhost:8080/"
        },
        "id": "yjfEDWxjrZW2",
        "outputId": "386f8117-d011-4c99-dd5e-b4406c040a2b"
      },
      "source": [
        "# Evaluate predictions\n",
        "model_4_results = evaluate_preds(y_true=tf.squeeze(test_labels),\n",
        "                                 y_pred=model_4_preds)\n",
        "model_4_results"
      ],
      "execution_count": 85,
      "outputs": [
        {
          "output_type": "execute_result",
          "data": {
            "text/plain": [
              "{'mae': 777.9022, 'mape': 3.4081788, 'mse': 1979354.2, 'smape': 3.418485}"
            ]
          },
          "metadata": {
            "tags": []
          },
          "execution_count": 85
        }
      ]
    },
    {
      "cell_type": "code",
      "metadata": {
        "colab": {
          "base_uri": "https://localhost:8080/"
        },
        "id": "9cot26xWrcXh",
        "outputId": "23139890-f845-48e2-ec57-9e142fb45857"
      },
      "source": [
        "model_4_results"
      ],
      "execution_count": 86,
      "outputs": [
        {
          "output_type": "execute_result",
          "data": {
            "text/plain": [
              "{'mae': 777.9022, 'mape': 3.4081788, 'mse': 1979354.2, 'smape': 3.418485}"
            ]
          },
          "metadata": {
            "tags": []
          },
          "execution_count": 86
        }
      ]
    },
    {
      "cell_type": "markdown",
      "metadata": {
        "id": "pZ2s0Rx0rZjE"
      },
      "source": [
        "## TODO: Model X RNN (LSTM)"
      ]
    },
    {
      "cell_type": "code",
      "metadata": {
        "colab": {
          "base_uri": "https://localhost:8080/"
        },
        "id": "LwG908g24AER",
        "outputId": "1592272d-993b-414f-ebda-f01650a2af41"
      },
      "source": [
        "len(train_windows), len(train_labels)"
      ],
      "execution_count": 87,
      "outputs": [
        {
          "output_type": "execute_result",
          "data": {
            "text/plain": [
              "(2184, 2184)"
            ]
          },
          "metadata": {
            "tags": []
          },
          "execution_count": 87
        }
      ]
    },
    {
      "cell_type": "code",
      "metadata": {
        "colab": {
          "base_uri": "https://localhost:8080/"
        },
        "id": "a6YFL_b-rZrt",
        "outputId": "aabe3e17-80ba-4fe2-9e5c-5ba3d3bb76a0"
      },
      "source": [
        "# Let's build an LSTM model with the Functional API\n",
        "inputs = layers.Input(shape=(WINDOW_SIZE))\n",
        "x = layers.Lambda(lambda x: tf.expand_dims(x, axis=1))(inputs) # expand input dimension to be compatible with LSTM\n",
        "print(x.shape)\n",
        "# x = layers.Conv1D(128, kernel_size=3, padding=\"causal\", activation=\"relu\")(x)\n",
        "# x = layers.LSTM(128, activation=\"relu\", return_sequences=True)(x) # this layer will error if the inputs are not the right shape\n",
        "# x = layers.Dropout(0.05)(x)\n",
        "x = layers.LSTM(128, activation=\"relu\")(x)\n",
        "print(x.shape)\n",
        "# x = layers.Dense(32, activation=\"relu\")(x)\n",
        "output = layers.Dense(HORIZON)(x)\n",
        "model_5 = tf.keras.Model(inputs=inputs, outputs=output, name=\"model_5_lstm\")"
      ],
      "execution_count": 88,
      "outputs": [
        {
          "output_type": "stream",
          "text": [
            "(None, 1, 30)\n",
            "(None, 128)\n"
          ],
          "name": "stdout"
        }
      ]
    },
    {
      "cell_type": "code",
      "metadata": {
        "colab": {
          "base_uri": "https://localhost:8080/"
        },
        "id": "N59tLdtu58G4",
        "outputId": "5f78b009-ff48-4eab-9669-d34096dd1260"
      },
      "source": [
        "model_5.summary()"
      ],
      "execution_count": 89,
      "outputs": [
        {
          "output_type": "stream",
          "text": [
            "Model: \"model_5_lstm\"\n",
            "_________________________________________________________________\n",
            "Layer (type)                 Output Shape              Param #   \n",
            "=================================================================\n",
            "input_1 (InputLayer)         [(None, 30)]              0         \n",
            "_________________________________________________________________\n",
            "lambda_2 (Lambda)            (None, 1, 30)             0         \n",
            "_________________________________________________________________\n",
            "lstm (LSTM)                  (None, 128)               81408     \n",
            "_________________________________________________________________\n",
            "dense_7 (Dense)              (None, 1)                 129       \n",
            "=================================================================\n",
            "Total params: 81,537\n",
            "Trainable params: 81,537\n",
            "Non-trainable params: 0\n",
            "_________________________________________________________________\n"
          ],
          "name": "stdout"
        }
      ]
    },
    {
      "cell_type": "code",
      "metadata": {
        "colab": {
          "base_uri": "https://localhost:8080/"
        },
        "id": "F5V02KgdrZzR",
        "outputId": "cfc653dc-f92a-4e2f-e803-0bc4d77c1dd4"
      },
      "source": [
        "# Compile model\n",
        "model_5.compile(loss=\"mae\",\n",
        "                optimizer=tf.keras.optimizers.Adam())\n",
        "\n",
        "# Seems when saving the model several warnings are appearing: https://github.com/tensorflow/tensorflow/issues/47554 \n",
        "model_5.fit(train_windows,\n",
        "            train_labels,\n",
        "            epochs=30,\n",
        "            validation_data=(test_windows, test_labels))\n",
        "            # callbacks=[create_model_checkpoint(model_name=model_5.name)])"
      ],
      "execution_count": 90,
      "outputs": [
        {
          "output_type": "stream",
          "text": [
            "Epoch 1/30\n",
            "69/69 [==============================] - 2s 7ms/step - loss: 645.9108 - val_loss: 1576.4532\n",
            "Epoch 2/30\n",
            "69/69 [==============================] - 0s 5ms/step - loss: 296.1179 - val_loss: 1666.4329\n",
            "Epoch 3/30\n",
            "69/69 [==============================] - 0s 5ms/step - loss: 254.2605 - val_loss: 1309.1185\n",
            "Epoch 4/30\n",
            "69/69 [==============================] - 0s 4ms/step - loss: 224.7246 - val_loss: 1202.6456\n",
            "Epoch 5/30\n",
            "69/69 [==============================] - 0s 5ms/step - loss: 232.4084 - val_loss: 1273.4736\n",
            "Epoch 6/30\n",
            "69/69 [==============================] - 0s 4ms/step - loss: 200.9379 - val_loss: 1169.3539\n",
            "Epoch 7/30\n",
            "69/69 [==============================] - 0s 4ms/step - loss: 203.0619 - val_loss: 1016.5412\n",
            "Epoch 8/30\n",
            "69/69 [==============================] - 0s 5ms/step - loss: 186.0586 - val_loss: 1115.6791\n",
            "Epoch 9/30\n",
            "69/69 [==============================] - 0s 4ms/step - loss: 178.5414 - val_loss: 1033.5319\n",
            "Epoch 10/30\n",
            "69/69 [==============================] - 0s 7ms/step - loss: 172.5347 - val_loss: 922.4499\n",
            "Epoch 11/30\n",
            "69/69 [==============================] - 0s 6ms/step - loss: 175.0198 - val_loss: 979.6345\n",
            "Epoch 12/30\n",
            "69/69 [==============================] - 0s 5ms/step - loss: 165.4395 - val_loss: 884.2683\n",
            "Epoch 13/30\n",
            "69/69 [==============================] - 0s 5ms/step - loss: 156.8997 - val_loss: 873.2719\n",
            "Epoch 14/30\n",
            "69/69 [==============================] - 0s 7ms/step - loss: 174.0316 - val_loss: 983.9476\n",
            "Epoch 15/30\n",
            "69/69 [==============================] - 0s 6ms/step - loss: 162.9545 - val_loss: 1058.8915\n",
            "Epoch 16/30\n",
            "69/69 [==============================] - 0s 6ms/step - loss: 170.2091 - val_loss: 820.8110\n",
            "Epoch 17/30\n",
            "69/69 [==============================] - 0s 6ms/step - loss: 148.8471 - val_loss: 901.5699\n",
            "Epoch 18/30\n",
            "69/69 [==============================] - 0s 6ms/step - loss: 152.7714 - val_loss: 794.8671\n",
            "Epoch 19/30\n",
            "69/69 [==============================] - 0s 5ms/step - loss: 167.8316 - val_loss: 897.8719\n",
            "Epoch 20/30\n",
            "69/69 [==============================] - 0s 7ms/step - loss: 155.2006 - val_loss: 807.5974\n",
            "Epoch 21/30\n",
            "69/69 [==============================] - 1s 8ms/step - loss: 152.8892 - val_loss: 771.0411\n",
            "Epoch 22/30\n",
            "69/69 [==============================] - 1s 8ms/step - loss: 157.4165 - val_loss: 796.7450\n",
            "Epoch 23/30\n",
            "69/69 [==============================] - 1s 8ms/step - loss: 141.5777 - val_loss: 751.6353\n",
            "Epoch 24/30\n",
            "69/69 [==============================] - 1s 8ms/step - loss: 142.5019 - val_loss: 747.1499\n",
            "Epoch 25/30\n",
            "69/69 [==============================] - 1s 8ms/step - loss: 137.7521 - val_loss: 760.7312\n",
            "Epoch 26/30\n",
            "69/69 [==============================] - 1s 8ms/step - loss: 135.1494 - val_loss: 802.1629\n",
            "Epoch 27/30\n",
            "69/69 [==============================] - 1s 7ms/step - loss: 156.3878 - val_loss: 728.4892\n",
            "Epoch 28/30\n",
            "69/69 [==============================] - 1s 8ms/step - loss: 135.5737 - val_loss: 815.5932\n",
            "Epoch 29/30\n",
            "69/69 [==============================] - 1s 7ms/step - loss: 141.5007 - val_loss: 818.3892\n",
            "Epoch 30/30\n",
            "69/69 [==============================] - 1s 9ms/step - loss: 136.9788 - val_loss: 825.0615\n"
          ],
          "name": "stdout"
        },
        {
          "output_type": "execute_result",
          "data": {
            "text/plain": [
              "<tensorflow.python.keras.callbacks.History at 0x7f5f6c3c76d0>"
            ]
          },
          "metadata": {
            "tags": []
          },
          "execution_count": 90
        }
      ]
    },
    {
      "cell_type": "code",
      "metadata": {
        "colab": {
          "base_uri": "https://localhost:8080/"
        },
        "id": "3DcbfLJOrcGu",
        "outputId": "b4087f40-92ee-4d87-e6d6-46607906e763"
      },
      "source": [
        "model_5.predict(test_windows)"
      ],
      "execution_count": 91,
      "outputs": [
        {
          "output_type": "execute_result",
          "data": {
            "text/plain": [
              "array([[ 8157.5723],\n",
              "       [ 8051.5396],\n",
              "       [ 7945.422 ],\n",
              "       [ 7686.1777],\n",
              "       [ 7423.9956],\n",
              "       [ 7296.    ],\n",
              "       [ 7063.7646],\n",
              "       [ 7013.809 ],\n",
              "       [ 6975.6104],\n",
              "       [ 7113.3945],\n",
              "       [ 7180.0137],\n",
              "       [ 7388.5586],\n",
              "       [ 7413.935 ],\n",
              "       [ 7389.2744],\n",
              "       [ 7316.7935],\n",
              "       [ 7258.013 ],\n",
              "       [ 7183.0977],\n",
              "       [ 7239.2485],\n",
              "       [ 7235.2427],\n",
              "       [ 7319.8257],\n",
              "       [ 7379.342 ],\n",
              "       [ 7265.42  ],\n",
              "       [ 7184.805 ],\n",
              "       [ 7133.657 ],\n",
              "       [ 7117.671 ],\n",
              "       [ 7097.4766],\n",
              "       [ 7087.506 ],\n",
              "       [ 7034.4355],\n",
              "       [ 6914.677 ],\n",
              "       [ 6684.8047],\n",
              "       [ 6962.304 ],\n",
              "       [ 6948.789 ],\n",
              "       [ 6966.8667],\n",
              "       [ 7103.765 ],\n",
              "       [ 7067.0117],\n",
              "       [ 7057.8423],\n",
              "       [ 7142.401 ],\n",
              "       [ 7104.19  ],\n",
              "       [ 7104.1484],\n",
              "       [ 7105.29  ],\n",
              "       [ 7116.7383],\n",
              "       [ 7162.9814],\n",
              "       [ 7140.699 ],\n",
              "       [ 7101.0815],\n",
              "       [ 7089.017 ],\n",
              "       [ 6975.283 ],\n",
              "       [ 7024.0957],\n",
              "       [ 7130.9297],\n",
              "       [ 7164.1333],\n",
              "       [ 7409.647 ],\n",
              "       [ 7625.9307],\n",
              "       [ 7791.9355],\n",
              "       [ 7813.394 ],\n",
              "       [ 7860.894 ],\n",
              "       [ 7917.839 ],\n",
              "       [ 8005.581 ],\n",
              "       [ 7983.5815],\n",
              "       [ 8254.263 ],\n",
              "       [ 8508.542 ],\n",
              "       [ 8540.515 ],\n",
              "       [ 8675.283 ],\n",
              "       [ 8755.914 ],\n",
              "       [ 8605.681 ],\n",
              "       [ 8609.316 ],\n",
              "       [ 8584.1875],\n",
              "       [ 8543.423 ],\n",
              "       [ 8399.358 ],\n",
              "       [ 8342.096 ],\n",
              "       [ 8287.001 ],\n",
              "       [ 8296.368 ],\n",
              "       [ 8470.177 ],\n",
              "       [ 8712.132 ],\n",
              "       [ 8942.837 ],\n",
              "       [ 9141.559 ],\n",
              "       [ 9248.893 ],\n",
              "       [ 9283.996 ],\n",
              "       [ 9279.535 ],\n",
              "       [ 9213.841 ],\n",
              "       [ 9153.329 ],\n",
              "       [ 9276.851 ],\n",
              "       [ 9321.921 ],\n",
              "       [ 9448.38  ],\n",
              "       [ 9618.849 ],\n",
              "       [ 9754.315 ],\n",
              "       [ 9722.878 ],\n",
              "       [ 9940.419 ],\n",
              "       [10079.566 ],\n",
              "       [10079.474 ],\n",
              "       [10199.282 ],\n",
              "       [10040.063 ],\n",
              "       [ 9852.865 ],\n",
              "       [ 9682.776 ],\n",
              "       [ 9774.653 ],\n",
              "       [ 9638.43  ],\n",
              "       [ 9527.103 ],\n",
              "       [ 9473.491 ],\n",
              "       [ 9452.397 ],\n",
              "       [ 9555.75  ],\n",
              "       [ 9593.568 ],\n",
              "       [ 9385.686 ],\n",
              "       [ 9096.175 ],\n",
              "       [ 8820.182 ],\n",
              "       [ 8674.88  ],\n",
              "       [ 8534.147 ],\n",
              "       [ 8442.89  ],\n",
              "       [ 8562.191 ],\n",
              "       [ 8517.527 ],\n",
              "       [ 8589.724 ],\n",
              "       [ 8673.426 ],\n",
              "       [ 8824.847 ],\n",
              "       [ 8836.223 ],\n",
              "       [ 8539.88  ],\n",
              "       [ 8107.7666],\n",
              "       [ 7956.5527],\n",
              "       [ 7830.2964],\n",
              "       [ 6816.313 ],\n",
              "       [ 6196.1484],\n",
              "       [ 5660.0303],\n",
              "       [ 5299.9004],\n",
              "       [ 5100.2637],\n",
              "       [ 5212.513 ],\n",
              "       [ 5109.7134],\n",
              "       [ 5613.2866],\n",
              "       [ 5852.026 ],\n",
              "       [ 6064.573 ],\n",
              "       [ 5972.089 ],\n",
              "       [ 6213.5186],\n",
              "       [ 6499.4375],\n",
              "       [ 6581.54  ],\n",
              "       [ 6567.491 ],\n",
              "       [ 6559.498 ],\n",
              "       [ 6339.188 ],\n",
              "       [ 6063.6685],\n",
              "       [ 6171.5664],\n",
              "       [ 6115.2603],\n",
              "       [ 6316.742 ],\n",
              "       [ 6530.455 ],\n",
              "       [ 6652.468 ],\n",
              "       [ 6736.7974],\n",
              "       [ 6817.0293],\n",
              "       [ 6956.723 ],\n",
              "       [ 7190.129 ],\n",
              "       [ 7238.4834],\n",
              "       [ 7166.0103],\n",
              "       [ 6998.9854],\n",
              "       [ 6859.4785],\n",
              "       [ 6875.778 ],\n",
              "       [ 6777.871 ],\n",
              "       [ 6795.1934],\n",
              "       [ 6621.3184],\n",
              "       [ 6788.2266],\n",
              "       [ 6859.065 ],\n",
              "       [ 7002.914 ],\n",
              "       [ 7044.5586],\n",
              "       [ 6964.42  ],\n",
              "       [ 6914.2656],\n",
              "       [ 6922.763 ],\n",
              "       [ 7143.4155],\n",
              "       [ 7297.3887],\n",
              "       [ 7337.685 ],\n",
              "       [ 7421.5186],\n",
              "       [ 7547.5977],\n",
              "       [ 7549.92  ],\n",
              "       [ 8056.5845],\n",
              "       [ 8368.054 ],\n",
              "       [ 8598.072 ],\n",
              "       [ 8741.458 ],\n",
              "       [ 8811.403 ],\n",
              "       [ 8798.691 ],\n",
              "       [ 8861.009 ],\n",
              "       [ 9034.627 ],\n",
              "       [ 9424.476 ],\n",
              "       [ 9562.496 ],\n",
              "       [ 9522.824 ],\n",
              "       [ 9165.513 ],\n",
              "       [ 8803.444 ],\n",
              "       [ 8713.878 ],\n",
              "       [ 8888.901 ],\n",
              "       [ 9244.854 ],\n",
              "       [ 9206.56  ],\n",
              "       [ 9245.34  ],\n",
              "       [ 9371.866 ],\n",
              "       [ 9456.704 ],\n",
              "       [ 9521.409 ],\n",
              "       [ 9513.669 ],\n",
              "       [ 9290.417 ],\n",
              "       [ 9129.639 ],\n",
              "       [ 9031.36  ],\n",
              "       [ 8949.525 ],\n",
              "       [ 8824.114 ],\n",
              "       [ 8740.277 ],\n",
              "       [ 8820.843 ],\n",
              "       [ 8991.796 ],\n",
              "       [ 9056.529 ],\n",
              "       [ 9292.306 ],\n",
              "       [ 9358.462 ],\n",
              "       [ 9736.622 ],\n",
              "       [ 9645.612 ],\n",
              "       [ 9586.288 ],\n",
              "       [ 9651.897 ],\n",
              "       [ 9569.872 ],\n",
              "       [ 9516.813 ],\n",
              "       [ 9551.39  ],\n",
              "       [ 9474.081 ],\n",
              "       [ 9543.202 ],\n",
              "       [ 9619.839 ],\n",
              "       [ 9421.89  ],\n",
              "       [ 9317.538 ],\n",
              "       [ 9291.362 ],\n",
              "       [ 9261.569 ],\n",
              "       [ 9284.076 ],\n",
              "       [ 9353.388 ],\n",
              "       [ 9250.918 ],\n",
              "       [ 9298.296 ],\n",
              "       [ 9160.706 ],\n",
              "       [ 9193.197 ],\n",
              "       [ 9112.699 ],\n",
              "       [ 9294.329 ],\n",
              "       [ 9374.93  ],\n",
              "       [ 9256.161 ],\n",
              "       [ 9201.458 ],\n",
              "       [ 9108.107 ],\n",
              "       [ 8957.131 ],\n",
              "       [ 8942.046 ],\n",
              "       [ 8999.219 ],\n",
              "       [ 8909.897 ],\n",
              "       [ 9011.524 ],\n",
              "       [ 8970.952 ],\n",
              "       [ 8935.96  ],\n",
              "       [ 8972.206 ],\n",
              "       [ 8944.847 ],\n",
              "       [ 9015.963 ],\n",
              "       [ 9083.824 ],\n",
              "       [ 9161.93  ],\n",
              "       [ 9127.364 ],\n",
              "       [ 9126.962 ],\n",
              "       [ 9114.182 ],\n",
              "       [ 9097.909 ],\n",
              "       [ 9075.115 ],\n",
              "       [ 9102.738 ],\n",
              "       [ 9044.438 ],\n",
              "       [ 9012.157 ],\n",
              "       [ 9006.422 ],\n",
              "       [ 9014.651 ],\n",
              "       [ 9000.911 ],\n",
              "       [ 9042.108 ],\n",
              "       [ 9119.035 ],\n",
              "       [ 9218.544 ],\n",
              "       [ 9351.296 ],\n",
              "       [ 9384.3   ],\n",
              "       [ 9490.188 ],\n",
              "       [ 9628.499 ],\n",
              "       [10283.081 ],\n",
              "       [10547.448 ],\n",
              "       [10873.193 ],\n",
              "       [10972.907 ],\n",
              "       [11084.806 ],\n",
              "       [11346.684 ],\n",
              "       [11242.858 ],\n",
              "       [11151.19  ],\n",
              "       [11150.402 ],\n",
              "       [11221.647 ],\n",
              "       [11415.343 ],\n",
              "       [11428.454 ],\n",
              "       [11463.542 ],\n",
              "       [11523.015 ],\n",
              "       [11545.468 ],\n",
              "       [11430.985 ],\n",
              "       [11337.175 ],\n",
              "       [11467.268 ],\n",
              "       [11519.769 ],\n",
              "       [11666.27  ],\n",
              "       [11650.679 ],\n",
              "       [11841.417 ],\n",
              "       [11894.737 ],\n",
              "       [11705.641 ],\n",
              "       [11702.814 ],\n",
              "       [11483.519 ],\n",
              "       [11430.618 ],\n",
              "       [11482.993 ],\n",
              "       [11495.454 ],\n",
              "       [11339.224 ],\n",
              "       [11272.114 ],\n",
              "       [11152.399 ],\n",
              "       [11189.651 ],\n",
              "       [11237.239 ],\n",
              "       [11316.979 ],\n",
              "       [11418.011 ],\n",
              "       [11590.587 ],\n",
              "       [11430.328 ],\n",
              "       [11063.878 ],\n",
              "       [10712.407 ],\n",
              "       [10260.209 ],\n",
              "       [10063.457 ],\n",
              "       [10081.245 ],\n",
              "       [ 9878.69  ],\n",
              "       [ 9920.491 ],\n",
              "       [10028.115 ],\n",
              "       [10065.512 ],\n",
              "       [10190.689 ],\n",
              "       [10154.711 ],\n",
              "       [10384.829 ],\n",
              "       [10523.797 ],\n",
              "       [10688.782 ],\n",
              "       [10775.067 ],\n",
              "       [10773.97  ],\n",
              "       [10817.147 ],\n",
              "       [10762.656 ],\n",
              "       [10530.668 ],\n",
              "       [10392.631 ],\n",
              "       [10207.483 ],\n",
              "       [10291.845 ],\n",
              "       [10435.478 ],\n",
              "       [10507.126 ],\n",
              "       [10537.815 ],\n",
              "       [10636.942 ],\n",
              "       [10650.794 ],\n",
              "       [10608.739 ],\n",
              "       [10538.747 ],\n",
              "       [10482.148 ],\n",
              "       [10414.622 ],\n",
              "       [10455.094 ],\n",
              "       [10488.399 ],\n",
              "       [10414.646 ],\n",
              "       [10426.083 ],\n",
              "       [10533.261 ],\n",
              "       [10674.822 ],\n",
              "       [10890.199 ],\n",
              "       [11047.301 ],\n",
              "       [11264.356 ],\n",
              "       [11337.375 ],\n",
              "       [11307.5625],\n",
              "       [11325.945 ],\n",
              "       [11257.571 ],\n",
              "       [11212.165 ],\n",
              "       [11236.099 ],\n",
              "       [11351.537 ],\n",
              "       [11521.606 ],\n",
              "       [12125.591 ],\n",
              "       [12575.954 ],\n",
              "       [12719.727 ],\n",
              "       [12864.613 ],\n",
              "       [12870.85  ],\n",
              "       [12869.623 ],\n",
              "       [13241.407 ],\n",
              "       [13157.739 ],\n",
              "       [13248.452 ],\n",
              "       [13283.358 ],\n",
              "       [13394.501 ],\n",
              "       [13447.208 ],\n",
              "       [13435.369 ],\n",
              "       [13488.183 ],\n",
              "       [13714.126 ],\n",
              "       [14386.705 ],\n",
              "       [14883.7295],\n",
              "       [14820.65  ],\n",
              "       [15102.527 ],\n",
              "       [15148.831 ],\n",
              "       [15089.333 ],\n",
              "       [15379.491 ],\n",
              "       [15616.743 ],\n",
              "       [15830.012 ],\n",
              "       [15827.589 ],\n",
              "       [15759.794 ],\n",
              "       [16029.578 ],\n",
              "       [16591.244 ],\n",
              "       [17172.99  ],\n",
              "       [17497.18  ],\n",
              "       [17903.953 ],\n",
              "       [18115.793 ],\n",
              "       [18280.082 ],\n",
              "       [18359.955 ],\n",
              "       [18592.355 ],\n",
              "       [18521.402 ],\n",
              "       [17768.043 ],\n",
              "       [17253.867 ],\n",
              "       [17197.377 ],\n",
              "       [17314.031 ],\n",
              "       [18211.041 ],\n",
              "       [18447.91  ],\n",
              "       [18583.967 ],\n",
              "       [18964.61  ],\n",
              "       [18749.346 ],\n",
              "       [18803.809 ],\n",
              "       [18934.195 ],\n",
              "       [18810.059 ],\n",
              "       [18694.883 ],\n",
              "       [18412.852 ],\n",
              "       [18075.92  ],\n",
              "       [17892.188 ],\n",
              "       [18103.043 ],\n",
              "       [18364.469 ],\n",
              "       [18562.664 ],\n",
              "       [18847.406 ],\n",
              "       [19813.387 ],\n",
              "       [21204.361 ],\n",
              "       [22088.812 ],\n",
              "       [23048.758 ],\n",
              "       [23373.012 ],\n",
              "       [23140.197 ],\n",
              "       [23337.406 ],\n",
              "       [23044.82  ],\n",
              "       [23055.727 ],\n",
              "       [23610.03  ],\n",
              "       [24597.227 ],\n",
              "       [25315.582 ],\n",
              "       [25840.195 ],\n",
              "       [26203.797 ],\n",
              "       [27353.213 ],\n",
              "       [28269.387 ],\n",
              "       [28830.393 ],\n",
              "       [30417.219 ],\n",
              "       [31794.086 ],\n",
              "       [31671.824 ],\n",
              "       [33075.855 ],\n",
              "       [34435.27  ],\n",
              "       [36855.293 ],\n",
              "       [38874.98  ],\n",
              "       [39697.92  ],\n",
              "       [39457.605 ],\n",
              "       [37007.277 ],\n",
              "       [35202.8   ],\n",
              "       [35824.246 ],\n",
              "       [36462.605 ],\n",
              "       [36330.14  ],\n",
              "       [36000.34  ],\n",
              "       [35513.566 ],\n",
              "       [35329.195 ],\n",
              "       [35590.508 ],\n",
              "       [35331.945 ],\n",
              "       [32934.125 ],\n",
              "       [32709.146 ],\n",
              "       [31890.63  ],\n",
              "       [31668.697 ],\n",
              "       [31683.117 ],\n",
              "       [31500.008 ],\n",
              "       [30836.953 ],\n",
              "       [31506.127 ],\n",
              "       [32119.926 ],\n",
              "       [33099.246 ],\n",
              "       [33084.895 ],\n",
              "       [33304.547 ],\n",
              "       [34153.44  ],\n",
              "       [35436.133 ],\n",
              "       [36207.418 ],\n",
              "       [36860.71  ],\n",
              "       [38301.438 ],\n",
              "       [38109.17  ],\n",
              "       [40744.285 ],\n",
              "       [43336.043 ],\n",
              "       [44597.35  ],\n",
              "       [46347.74  ],\n",
              "       [47362.855 ],\n",
              "       [47146.53  ],\n",
              "       [48365.004 ],\n",
              "       [47851.63  ],\n",
              "       [48648.938 ],\n",
              "       [49964.83  ],\n",
              "       [50016.47  ],\n",
              "       [52748.68  ],\n",
              "       [53481.668 ],\n",
              "       [54767.332 ],\n",
              "       [54742.914 ],\n",
              "       [51528.08  ],\n",
              "       [49445.617 ],\n",
              "       [48571.71  ],\n",
              "       [46304.652 ],\n",
              "       [46383.28  ],\n",
              "       [44714.086 ],\n",
              "       [45673.4   ],\n",
              "       [46374.234 ],\n",
              "       [47694.145 ],\n",
              "       [47632.805 ],\n",
              "       [48185.656 ],\n",
              "       [48247.992 ],\n",
              "       [48963.984 ],\n",
              "       [50215.156 ],\n",
              "       [51803.562 ],\n",
              "       [53754.703 ],\n",
              "       [55617.523 ],\n",
              "       [55760.984 ],\n",
              "       [57510.508 ],\n",
              "       [58312.152 ],\n",
              "       [57154.32  ],\n",
              "       [56852.125 ],\n",
              "       [56980.79  ],\n",
              "       [57179.72  ],\n",
              "       [57418.062 ],\n",
              "       [57660.176 ],\n",
              "       [57298.15  ],\n",
              "       [55485.63  ],\n",
              "       [54194.402 ],\n",
              "       [53191.633 ],\n",
              "       [51931.63  ],\n",
              "       [52594.75  ],\n",
              "       [53855.84  ],\n",
              "       [54113.727 ],\n",
              "       [55385.39  ],\n",
              "       [56305.61  ],\n",
              "       [57279.81  ],\n",
              "       [57699.37  ],\n",
              "       [57733.027 ],\n",
              "       [57117.438 ],\n",
              "       [57311.227 ],\n",
              "       [57364.07  ],\n",
              "       [57192.605 ],\n",
              "       [56674.11  ],\n",
              "       [56391.63  ],\n",
              "       [56407.824 ],\n",
              "       [57306.18  ],\n",
              "       [58054.48  ],\n",
              "       [58208.824 ],\n",
              "       [60340.953 ],\n",
              "       [61564.73  ],\n",
              "       [62083.016 ],\n",
              "       [61944.984 ],\n",
              "       [61051.133 ],\n",
              "       [58569.47  ],\n",
              "       [56779.93  ],\n",
              "       [55892.312 ],\n",
              "       [54140.38  ],\n",
              "       [52157.086 ],\n",
              "       [50998.645 ],\n",
              "       [49782.816 ],\n",
              "       [48354.996 ],\n",
              "       [50129.566 ],\n",
              "       [52088.316 ],\n",
              "       [52905.39  ],\n",
              "       [53055.336 ],\n",
              "       [54833.906 ],\n",
              "       [55536.85  ],\n",
              "       [56081.387 ],\n",
              "       [56385.504 ],\n",
              "       [54876.523 ],\n",
              "       [54953.37  ],\n",
              "       [55168.05  ],\n",
              "       [55185.18  ],\n",
              "       [56604.613 ],\n",
              "       [56732.984 ],\n",
              "       [55667.746 ],\n",
              "       [56245.895 ],\n",
              "       [53425.586 ],\n",
              "       [51445.902 ],\n",
              "       [50395.05  ],\n",
              "       [48932.66  ],\n",
              "       [46459.926 ]], dtype=float32)"
            ]
          },
          "metadata": {
            "tags": []
          },
          "execution_count": 91
        }
      ]
    },
    {
      "cell_type": "markdown",
      "metadata": {
        "id": "Y82CDMWp5Wva"
      },
      "source": [
        "# TODO: Make a multivariate time series \n",
        "\n",
        "Bitcoin price + halving events...\n",
        "\n",
        "-> https://www.investopedia.com/bitcoin-halving-4843769\n",
        "\n",
        "> Vigg_1991: For me … I use sensor data for predictions and forecasting … the toughest part of a time series has been .. when doing multivariate time series … some inputs may have larger scale compared to the target .. therefore do we de-trend all the data to keep them consistent or do we keep them them the way they are … because sometimes they lose the correlation between them once they are retreaded for prediction. How would you handle that ? Or is that important for deep learning predictions?\n",
        "\n",
        "* inputs: larger scale compared to target\n",
        "* detrend all the data to keep them consistent? Or keep the same way?\n",
        "* sometimes they lose the correlation between them once they are de-trended "
      ]
    },
    {
      "cell_type": "code",
      "metadata": {
        "colab": {
          "base_uri": "https://localhost:8080/",
          "height": 228
        },
        "id": "Z06o2ls4sSoF",
        "outputId": "31ae663d-ebad-4f86-8ab7-34993c6e4c20"
      },
      "source": [
        "# Let's make a multivariate time series\n",
        "bitcoin_prices.head()"
      ],
      "execution_count": 151,
      "outputs": [
        {
          "output_type": "execute_result",
          "data": {
            "text/html": [
              "<div>\n",
              "<style scoped>\n",
              "    .dataframe tbody tr th:only-of-type {\n",
              "        vertical-align: middle;\n",
              "    }\n",
              "\n",
              "    .dataframe tbody tr th {\n",
              "        vertical-align: top;\n",
              "    }\n",
              "\n",
              "    .dataframe thead th {\n",
              "        text-align: right;\n",
              "    }\n",
              "</style>\n",
              "<table border=\"1\" class=\"dataframe\">\n",
              "  <thead>\n",
              "    <tr style=\"text-align: right;\">\n",
              "      <th></th>\n",
              "      <th>Price</th>\n",
              "    </tr>\n",
              "    <tr>\n",
              "      <th>Date</th>\n",
              "      <th></th>\n",
              "    </tr>\n",
              "  </thead>\n",
              "  <tbody>\n",
              "    <tr>\n",
              "      <th>2013-10-01</th>\n",
              "      <td>123.65499</td>\n",
              "    </tr>\n",
              "    <tr>\n",
              "      <th>2013-10-02</th>\n",
              "      <td>125.45500</td>\n",
              "    </tr>\n",
              "    <tr>\n",
              "      <th>2013-10-03</th>\n",
              "      <td>108.58483</td>\n",
              "    </tr>\n",
              "    <tr>\n",
              "      <th>2013-10-04</th>\n",
              "      <td>118.67466</td>\n",
              "    </tr>\n",
              "    <tr>\n",
              "      <th>2013-10-05</th>\n",
              "      <td>121.33866</td>\n",
              "    </tr>\n",
              "  </tbody>\n",
              "</table>\n",
              "</div>"
            ],
            "text/plain": [
              "                Price\n",
              "Date                 \n",
              "2013-10-01  123.65499\n",
              "2013-10-02  125.45500\n",
              "2013-10-03  108.58483\n",
              "2013-10-04  118.67466\n",
              "2013-10-05  121.33866"
            ]
          },
          "metadata": {
            "tags": []
          },
          "execution_count": 151
        }
      ]
    },
    {
      "cell_type": "code",
      "metadata": {
        "colab": {
          "base_uri": "https://localhost:8080/",
          "height": 228
        },
        "id": "DqPp3HdHsXO8",
        "outputId": "7bc6ec1e-adb1-4ebf-d52a-d40175d6cf6c"
      },
      "source": [
        "# Add windowed columns\n",
        "WINDOW_SIZE = 7\n",
        "bitcoin_prices_windowed = bitcoin_prices.copy()\n",
        "for i in range(WINDOW_SIZE):\n",
        "  bitcoin_prices_windowed[f\"Price+{i+1}\"] = bitcoin_prices_windowed[\"Price\"].shift(i+1)\n",
        "bitcoin_prices_windowed.head()"
      ],
      "execution_count": 152,
      "outputs": [
        {
          "output_type": "execute_result",
          "data": {
            "text/html": [
              "<div>\n",
              "<style scoped>\n",
              "    .dataframe tbody tr th:only-of-type {\n",
              "        vertical-align: middle;\n",
              "    }\n",
              "\n",
              "    .dataframe tbody tr th {\n",
              "        vertical-align: top;\n",
              "    }\n",
              "\n",
              "    .dataframe thead th {\n",
              "        text-align: right;\n",
              "    }\n",
              "</style>\n",
              "<table border=\"1\" class=\"dataframe\">\n",
              "  <thead>\n",
              "    <tr style=\"text-align: right;\">\n",
              "      <th></th>\n",
              "      <th>Price</th>\n",
              "      <th>Price+1</th>\n",
              "      <th>Price+2</th>\n",
              "      <th>Price+3</th>\n",
              "      <th>Price+4</th>\n",
              "      <th>Price+5</th>\n",
              "      <th>Price+6</th>\n",
              "      <th>Price+7</th>\n",
              "    </tr>\n",
              "    <tr>\n",
              "      <th>Date</th>\n",
              "      <th></th>\n",
              "      <th></th>\n",
              "      <th></th>\n",
              "      <th></th>\n",
              "      <th></th>\n",
              "      <th></th>\n",
              "      <th></th>\n",
              "      <th></th>\n",
              "    </tr>\n",
              "  </thead>\n",
              "  <tbody>\n",
              "    <tr>\n",
              "      <th>2013-10-01</th>\n",
              "      <td>123.65499</td>\n",
              "      <td>NaN</td>\n",
              "      <td>NaN</td>\n",
              "      <td>NaN</td>\n",
              "      <td>NaN</td>\n",
              "      <td>NaN</td>\n",
              "      <td>NaN</td>\n",
              "      <td>NaN</td>\n",
              "    </tr>\n",
              "    <tr>\n",
              "      <th>2013-10-02</th>\n",
              "      <td>125.45500</td>\n",
              "      <td>123.65499</td>\n",
              "      <td>NaN</td>\n",
              "      <td>NaN</td>\n",
              "      <td>NaN</td>\n",
              "      <td>NaN</td>\n",
              "      <td>NaN</td>\n",
              "      <td>NaN</td>\n",
              "    </tr>\n",
              "    <tr>\n",
              "      <th>2013-10-03</th>\n",
              "      <td>108.58483</td>\n",
              "      <td>125.45500</td>\n",
              "      <td>123.65499</td>\n",
              "      <td>NaN</td>\n",
              "      <td>NaN</td>\n",
              "      <td>NaN</td>\n",
              "      <td>NaN</td>\n",
              "      <td>NaN</td>\n",
              "    </tr>\n",
              "    <tr>\n",
              "      <th>2013-10-04</th>\n",
              "      <td>118.67466</td>\n",
              "      <td>108.58483</td>\n",
              "      <td>125.45500</td>\n",
              "      <td>123.65499</td>\n",
              "      <td>NaN</td>\n",
              "      <td>NaN</td>\n",
              "      <td>NaN</td>\n",
              "      <td>NaN</td>\n",
              "    </tr>\n",
              "    <tr>\n",
              "      <th>2013-10-05</th>\n",
              "      <td>121.33866</td>\n",
              "      <td>118.67466</td>\n",
              "      <td>108.58483</td>\n",
              "      <td>125.45500</td>\n",
              "      <td>123.65499</td>\n",
              "      <td>NaN</td>\n",
              "      <td>NaN</td>\n",
              "      <td>NaN</td>\n",
              "    </tr>\n",
              "  </tbody>\n",
              "</table>\n",
              "</div>"
            ],
            "text/plain": [
              "                Price    Price+1    Price+2  ...  Price+5  Price+6  Price+7\n",
              "Date                                         ...                           \n",
              "2013-10-01  123.65499        NaN        NaN  ...      NaN      NaN      NaN\n",
              "2013-10-02  125.45500  123.65499        NaN  ...      NaN      NaN      NaN\n",
              "2013-10-03  108.58483  125.45500  123.65499  ...      NaN      NaN      NaN\n",
              "2013-10-04  118.67466  108.58483  125.45500  ...      NaN      NaN      NaN\n",
              "2013-10-05  121.33866  118.67466  108.58483  ...      NaN      NaN      NaN\n",
              "\n",
              "[5 rows x 8 columns]"
            ]
          },
          "metadata": {
            "tags": []
          },
          "execution_count": 152
        }
      ]
    },
    {
      "cell_type": "markdown",
      "metadata": {
        "id": "DEqgTKX-t7xe"
      },
      "source": [
        "Now let's add another feature column, the block reward size (the amount of Bitcoin recevied by mining a block, this value halves every ~4 years and may be related to the price).\n",
        "\n",
        "Source: https://www.cmcmarkets.com/en/learn-cryptocurrencies/bitcoin-halving"
      ]
    },
    {
      "cell_type": "code",
      "metadata": {
        "id": "HrUKQXnssWHt"
      },
      "source": [
        "# Block reward values\n",
        "block_reward_1 = 50 # 3 January 2009 (2009-01-03) - this isn't in our dataset (it starts from 01 October 2013)\n",
        "block_reward_2 = 25 # 28 November 2012 \n",
        "block_reward_3 = 12.5 # 9 July 2016\n",
        "block_reward_4 = 6.25 # 11 May 2020\n",
        "\n",
        "# Block reward dates (datetime form of the above date stamps)\n",
        "block_reward_2_datetime = np.datetime64(\"2012-11-28\")\n",
        "block_reward_3_datetime = np.datetime64(\"2016-07-09\")\n",
        "block_reward_4_datetime = np.datetime64(\"2020-05-11\")"
      ],
      "execution_count": 153,
      "outputs": []
    },
    {
      "cell_type": "code",
      "metadata": {
        "colab": {
          "base_uri": "https://localhost:8080/"
        },
        "id": "jmawWFj9udzC",
        "outputId": "b23c51e2-8397-4084-d318-45d04eedf55a"
      },
      "source": [
        "# Get date indexes for when to add in different block dates\n",
        "block_reward_2_days = (block_reward_3_datetime - bitcoin_prices_windowed.index[0]).days\n",
        "block_reward_3_days = (block_reward_4_datetime - bitcoin_prices_windowed.index[0]).days\n",
        "block_reward_2_days, block_reward_3_days"
      ],
      "execution_count": 154,
      "outputs": [
        {
          "output_type": "execute_result",
          "data": {
            "text/plain": [
              "(1012, 2414)"
            ]
          },
          "metadata": {
            "tags": []
          },
          "execution_count": 154
        }
      ]
    },
    {
      "cell_type": "markdown",
      "metadata": {
        "id": "B2ZxThVAy0B3"
      },
      "source": [
        "Now we can add another feature to our dataset `block_reward` (this gets lower over time so it may lead to increasing prices of Bitcoin)."
      ]
    },
    {
      "cell_type": "code",
      "metadata": {
        "colab": {
          "base_uri": "https://localhost:8080/",
          "height": 228
        },
        "id": "BM9zRZDQvw7m",
        "outputId": "05fd8545-64fc-4574-cf3d-c5f7a872d1aa"
      },
      "source": [
        "# Add block_reward column\n",
        "bitcoin_prices_windowed_block = bitcoin_prices_windowed.copy()\n",
        "bitcoin_prices_windowed_block[\"block_reward\"] = None\n",
        "\n",
        "# Set values of block_reward column (it's the last column hence -1 indexing on iloc)\n",
        "bitcoin_prices_windowed_block.iloc[:block_reward_2_days, -1] = block_reward_2\n",
        "bitcoin_prices_windowed_block.iloc[block_reward_2_days:block_reward_3_days, -1] = block_reward_3\n",
        "bitcoin_prices_windowed_block.iloc[block_reward_3_days:, -1] = block_reward_4\n",
        "bitcoin_prices_windowed_block.head()"
      ],
      "execution_count": 155,
      "outputs": [
        {
          "output_type": "execute_result",
          "data": {
            "text/html": [
              "<div>\n",
              "<style scoped>\n",
              "    .dataframe tbody tr th:only-of-type {\n",
              "        vertical-align: middle;\n",
              "    }\n",
              "\n",
              "    .dataframe tbody tr th {\n",
              "        vertical-align: top;\n",
              "    }\n",
              "\n",
              "    .dataframe thead th {\n",
              "        text-align: right;\n",
              "    }\n",
              "</style>\n",
              "<table border=\"1\" class=\"dataframe\">\n",
              "  <thead>\n",
              "    <tr style=\"text-align: right;\">\n",
              "      <th></th>\n",
              "      <th>Price</th>\n",
              "      <th>Price+1</th>\n",
              "      <th>Price+2</th>\n",
              "      <th>Price+3</th>\n",
              "      <th>Price+4</th>\n",
              "      <th>Price+5</th>\n",
              "      <th>Price+6</th>\n",
              "      <th>Price+7</th>\n",
              "      <th>block_reward</th>\n",
              "    </tr>\n",
              "    <tr>\n",
              "      <th>Date</th>\n",
              "      <th></th>\n",
              "      <th></th>\n",
              "      <th></th>\n",
              "      <th></th>\n",
              "      <th></th>\n",
              "      <th></th>\n",
              "      <th></th>\n",
              "      <th></th>\n",
              "      <th></th>\n",
              "    </tr>\n",
              "  </thead>\n",
              "  <tbody>\n",
              "    <tr>\n",
              "      <th>2013-10-01</th>\n",
              "      <td>123.65499</td>\n",
              "      <td>NaN</td>\n",
              "      <td>NaN</td>\n",
              "      <td>NaN</td>\n",
              "      <td>NaN</td>\n",
              "      <td>NaN</td>\n",
              "      <td>NaN</td>\n",
              "      <td>NaN</td>\n",
              "      <td>25</td>\n",
              "    </tr>\n",
              "    <tr>\n",
              "      <th>2013-10-02</th>\n",
              "      <td>125.45500</td>\n",
              "      <td>123.65499</td>\n",
              "      <td>NaN</td>\n",
              "      <td>NaN</td>\n",
              "      <td>NaN</td>\n",
              "      <td>NaN</td>\n",
              "      <td>NaN</td>\n",
              "      <td>NaN</td>\n",
              "      <td>25</td>\n",
              "    </tr>\n",
              "    <tr>\n",
              "      <th>2013-10-03</th>\n",
              "      <td>108.58483</td>\n",
              "      <td>125.45500</td>\n",
              "      <td>123.65499</td>\n",
              "      <td>NaN</td>\n",
              "      <td>NaN</td>\n",
              "      <td>NaN</td>\n",
              "      <td>NaN</td>\n",
              "      <td>NaN</td>\n",
              "      <td>25</td>\n",
              "    </tr>\n",
              "    <tr>\n",
              "      <th>2013-10-04</th>\n",
              "      <td>118.67466</td>\n",
              "      <td>108.58483</td>\n",
              "      <td>125.45500</td>\n",
              "      <td>123.65499</td>\n",
              "      <td>NaN</td>\n",
              "      <td>NaN</td>\n",
              "      <td>NaN</td>\n",
              "      <td>NaN</td>\n",
              "      <td>25</td>\n",
              "    </tr>\n",
              "    <tr>\n",
              "      <th>2013-10-05</th>\n",
              "      <td>121.33866</td>\n",
              "      <td>118.67466</td>\n",
              "      <td>108.58483</td>\n",
              "      <td>125.45500</td>\n",
              "      <td>123.65499</td>\n",
              "      <td>NaN</td>\n",
              "      <td>NaN</td>\n",
              "      <td>NaN</td>\n",
              "      <td>25</td>\n",
              "    </tr>\n",
              "  </tbody>\n",
              "</table>\n",
              "</div>"
            ],
            "text/plain": [
              "                Price    Price+1    Price+2  ...  Price+6  Price+7  block_reward\n",
              "Date                                         ...                                \n",
              "2013-10-01  123.65499        NaN        NaN  ...      NaN      NaN            25\n",
              "2013-10-02  125.45500  123.65499        NaN  ...      NaN      NaN            25\n",
              "2013-10-03  108.58483  125.45500  123.65499  ...      NaN      NaN            25\n",
              "2013-10-04  118.67466  108.58483  125.45500  ...      NaN      NaN            25\n",
              "2013-10-05  121.33866  118.67466  108.58483  ...      NaN      NaN            25\n",
              "\n",
              "[5 rows x 9 columns]"
            ]
          },
          "metadata": {
            "tags": []
          },
          "execution_count": 155
        }
      ]
    },
    {
      "cell_type": "markdown",
      "metadata": {
        "id": "Hv0x9RgJzuKI"
      },
      "source": [
        "TODO: Plot the multivariate time series (price/block_reward over time), these will need to be scaled to plot them "
      ]
    },
    {
      "cell_type": "code",
      "metadata": {
        "colab": {
          "base_uri": "https://localhost:8080/",
          "height": 228
        },
        "id": "VpMH6_Dax2wJ",
        "outputId": "ee94764a-b983-42da-ce4e-7d5b214291d0"
      },
      "source": [
        "# Let's create X & y, convert to float32 to prevent TensorFlow errors\n",
        "X = bitcoin_prices_windowed_block.dropna().drop(\"Price\", axis=1).astype(np.float32)\n",
        "y = bitcoin_prices_windowed_block.dropna()[\"Price\"].astype(np.float32)\n",
        "X.head()"
      ],
      "execution_count": 156,
      "outputs": [
        {
          "output_type": "execute_result",
          "data": {
            "text/html": [
              "<div>\n",
              "<style scoped>\n",
              "    .dataframe tbody tr th:only-of-type {\n",
              "        vertical-align: middle;\n",
              "    }\n",
              "\n",
              "    .dataframe tbody tr th {\n",
              "        vertical-align: top;\n",
              "    }\n",
              "\n",
              "    .dataframe thead th {\n",
              "        text-align: right;\n",
              "    }\n",
              "</style>\n",
              "<table border=\"1\" class=\"dataframe\">\n",
              "  <thead>\n",
              "    <tr style=\"text-align: right;\">\n",
              "      <th></th>\n",
              "      <th>Price+1</th>\n",
              "      <th>Price+2</th>\n",
              "      <th>Price+3</th>\n",
              "      <th>Price+4</th>\n",
              "      <th>Price+5</th>\n",
              "      <th>Price+6</th>\n",
              "      <th>Price+7</th>\n",
              "      <th>block_reward</th>\n",
              "    </tr>\n",
              "    <tr>\n",
              "      <th>Date</th>\n",
              "      <th></th>\n",
              "      <th></th>\n",
              "      <th></th>\n",
              "      <th></th>\n",
              "      <th></th>\n",
              "      <th></th>\n",
              "      <th></th>\n",
              "      <th></th>\n",
              "    </tr>\n",
              "  </thead>\n",
              "  <tbody>\n",
              "    <tr>\n",
              "      <th>2013-10-08</th>\n",
              "      <td>121.794998</td>\n",
              "      <td>120.655327</td>\n",
              "      <td>121.338661</td>\n",
              "      <td>118.674660</td>\n",
              "      <td>108.584831</td>\n",
              "      <td>125.455002</td>\n",
              "      <td>123.654991</td>\n",
              "      <td>25.0</td>\n",
              "    </tr>\n",
              "    <tr>\n",
              "      <th>2013-10-09</th>\n",
              "      <td>123.032997</td>\n",
              "      <td>121.794998</td>\n",
              "      <td>120.655327</td>\n",
              "      <td>121.338661</td>\n",
              "      <td>118.674660</td>\n",
              "      <td>108.584831</td>\n",
              "      <td>125.455002</td>\n",
              "      <td>25.0</td>\n",
              "    </tr>\n",
              "    <tr>\n",
              "      <th>2013-10-10</th>\n",
              "      <td>124.049004</td>\n",
              "      <td>123.032997</td>\n",
              "      <td>121.794998</td>\n",
              "      <td>120.655327</td>\n",
              "      <td>121.338661</td>\n",
              "      <td>118.674660</td>\n",
              "      <td>108.584831</td>\n",
              "      <td>25.0</td>\n",
              "    </tr>\n",
              "    <tr>\n",
              "      <th>2013-10-11</th>\n",
              "      <td>125.961159</td>\n",
              "      <td>124.049004</td>\n",
              "      <td>123.032997</td>\n",
              "      <td>121.794998</td>\n",
              "      <td>120.655327</td>\n",
              "      <td>121.338661</td>\n",
              "      <td>118.674660</td>\n",
              "      <td>25.0</td>\n",
              "    </tr>\n",
              "    <tr>\n",
              "      <th>2013-10-12</th>\n",
              "      <td>125.279663</td>\n",
              "      <td>125.961159</td>\n",
              "      <td>124.049004</td>\n",
              "      <td>123.032997</td>\n",
              "      <td>121.794998</td>\n",
              "      <td>120.655327</td>\n",
              "      <td>121.338661</td>\n",
              "      <td>25.0</td>\n",
              "    </tr>\n",
              "  </tbody>\n",
              "</table>\n",
              "</div>"
            ],
            "text/plain": [
              "               Price+1     Price+2  ...     Price+7  block_reward\n",
              "Date                                ...                          \n",
              "2013-10-08  121.794998  120.655327  ...  123.654991          25.0\n",
              "2013-10-09  123.032997  121.794998  ...  125.455002          25.0\n",
              "2013-10-10  124.049004  123.032997  ...  108.584831          25.0\n",
              "2013-10-11  125.961159  124.049004  ...  118.674660          25.0\n",
              "2013-10-12  125.279663  125.961159  ...  121.338661          25.0\n",
              "\n",
              "[5 rows x 8 columns]"
            ]
          },
          "metadata": {
            "tags": []
          },
          "execution_count": 156
        }
      ]
    },
    {
      "cell_type": "code",
      "metadata": {
        "colab": {
          "base_uri": "https://localhost:8080/"
        },
        "id": "8GtEFj6HsVwy",
        "outputId": "ef99877c-f9f0-444d-ebfd-11f13da00d58"
      },
      "source": [
        "# Make train and test sets\n",
        "X_train, y_train = X[:split_size], y[:split_size]\n",
        "X_test, y_test = X[split_size:], y[split_size:]\n",
        "len(X_train), len(y_train), len(X_test), len(y_test)"
      ],
      "execution_count": 158,
      "outputs": [
        {
          "output_type": "execute_result",
          "data": {
            "text/plain": [
              "(2229, 2229, 551, 551)"
            ]
          },
          "metadata": {
            "tags": []
          },
          "execution_count": 158
        }
      ]
    },
    {
      "cell_type": "code",
      "metadata": {
        "colab": {
          "base_uri": "https://localhost:8080/"
        },
        "id": "AppTkPafzVyg",
        "outputId": "9bbd380f-a887-473d-ece7-494b85df9b79"
      },
      "source": [
        "tf.random.set_seed(42)\n",
        "\n",
        "# TODO: Change X (model number) to being the actual number\n",
        "# Make multivariate time series model\n",
        "model_X = tf.keras.Sequential([\n",
        "  layers.Dense(128, activation=\"relu\"),\n",
        "  layers.Dense(1)\n",
        "], name=\"model_X_dense_multivariate\")\n",
        "\n",
        "model_X.compile(loss=\"mae\",\n",
        "                optimizer=tf.keras.optimizers.Adam())\n",
        "\n",
        "model_X.fit(X_train, y_train,\n",
        "            epochs=20,\n",
        "            validation_data=(X_test, y_test),\n",
        "            callbacks=[create_model_checkpoint(model_name=model_X.name)])"
      ],
      "execution_count": 162,
      "outputs": [
        {
          "output_type": "stream",
          "text": [
            "Epoch 1/20\n",
            "70/70 [==============================] - 1s 3ms/step - loss: 344.3097 - val_loss: 950.2267\n",
            "INFO:tensorflow:Assets written to: model_experiments/model_X_dense_multivariate/assets\n",
            "Epoch 2/20\n",
            "70/70 [==============================] - 0s 2ms/step - loss: 170.1488 - val_loss: 906.0863\n",
            "INFO:tensorflow:Assets written to: model_experiments/model_X_dense_multivariate/assets\n",
            "Epoch 3/20\n",
            "70/70 [==============================] - 0s 2ms/step - loss: 162.5783 - val_loss: 810.1052\n",
            "INFO:tensorflow:Assets written to: model_experiments/model_X_dense_multivariate/assets\n",
            "Epoch 4/20\n",
            "70/70 [==============================] - 0s 2ms/step - loss: 142.9977 - val_loss: 755.9776\n",
            "INFO:tensorflow:Assets written to: model_experiments/model_X_dense_multivariate/assets\n",
            "Epoch 5/20\n",
            "70/70 [==============================] - 0s 2ms/step - loss: 136.4173 - val_loss: 916.6490\n",
            "Epoch 6/20\n",
            "70/70 [==============================] - 0s 2ms/step - loss: 137.8533 - val_loss: 699.0709\n",
            "INFO:tensorflow:Assets written to: model_experiments/model_X_dense_multivariate/assets\n",
            "Epoch 7/20\n",
            "70/70 [==============================] - 0s 2ms/step - loss: 128.4515 - val_loss: 885.4615\n",
            "Epoch 8/20\n",
            "70/70 [==============================] - 0s 2ms/step - loss: 123.8848 - val_loss: 643.7025\n",
            "INFO:tensorflow:Assets written to: model_experiments/model_X_dense_multivariate/assets\n",
            "Epoch 9/20\n",
            "70/70 [==============================] - 0s 2ms/step - loss: 119.5530 - val_loss: 622.4467\n",
            "INFO:tensorflow:Assets written to: model_experiments/model_X_dense_multivariate/assets\n",
            "Epoch 10/20\n",
            "70/70 [==============================] - 0s 2ms/step - loss: 122.1554 - val_loss: 620.3522\n",
            "INFO:tensorflow:Assets written to: model_experiments/model_X_dense_multivariate/assets\n",
            "Epoch 11/20\n",
            "70/70 [==============================] - 0s 2ms/step - loss: 127.5596 - val_loss: 614.3029\n",
            "INFO:tensorflow:Assets written to: model_experiments/model_X_dense_multivariate/assets\n",
            "Epoch 12/20\n",
            "70/70 [==============================] - 0s 2ms/step - loss: 128.3324 - val_loss: 600.6531\n",
            "INFO:tensorflow:Assets written to: model_experiments/model_X_dense_multivariate/assets\n",
            "Epoch 13/20\n",
            "70/70 [==============================] - 0s 2ms/step - loss: 113.9054 - val_loss: 681.0824\n",
            "Epoch 14/20\n",
            "70/70 [==============================] - 0s 2ms/step - loss: 123.4331 - val_loss: 598.5336\n",
            "INFO:tensorflow:Assets written to: model_experiments/model_X_dense_multivariate/assets\n",
            "Epoch 15/20\n",
            "70/70 [==============================] - 0s 2ms/step - loss: 119.0715 - val_loss: 619.8446\n",
            "Epoch 16/20\n",
            "70/70 [==============================] - 0s 2ms/step - loss: 115.1378 - val_loss: 611.3533\n",
            "Epoch 17/20\n",
            "70/70 [==============================] - 0s 2ms/step - loss: 111.7995 - val_loss: 598.0052\n",
            "INFO:tensorflow:Assets written to: model_experiments/model_X_dense_multivariate/assets\n",
            "Epoch 18/20\n",
            "70/70 [==============================] - 0s 2ms/step - loss: 113.9635 - val_loss: 699.6063\n",
            "Epoch 19/20\n",
            "70/70 [==============================] - 0s 2ms/step - loss: 122.3902 - val_loss: 668.4158\n",
            "Epoch 20/20\n",
            "70/70 [==============================] - 0s 2ms/step - loss: 128.6162 - val_loss: 825.1368\n"
          ],
          "name": "stdout"
        },
        {
          "output_type": "execute_result",
          "data": {
            "text/plain": [
              "<tensorflow.python.keras.callbacks.History at 0x7f5f7604dcd0>"
            ]
          },
          "metadata": {
            "tags": []
          },
          "execution_count": 162
        }
      ]
    },
    {
      "cell_type": "code",
      "metadata": {
        "colab": {
          "base_uri": "https://localhost:8080/"
        },
        "id": "PCDHUobK1rvj",
        "outputId": "d959737d-28a6-4a2b-f4ae-bf43a1027716"
      },
      "source": [
        "# Evalaute\n",
        "model_X.evaluate(X_test, y_test)"
      ],
      "execution_count": 167,
      "outputs": [
        {
          "output_type": "stream",
          "text": [
            "18/18 [==============================] - 0s 1ms/step - loss: 825.1368\n"
          ],
          "name": "stdout"
        },
        {
          "output_type": "execute_result",
          "data": {
            "text/plain": [
              "825.1367797851562"
            ]
          },
          "metadata": {
            "tags": []
          },
          "execution_count": 167
        }
      ]
    },
    {
      "cell_type": "code",
      "metadata": {
        "colab": {
          "base_uri": "https://localhost:8080/"
        },
        "id": "K1miRk_b3g97",
        "outputId": "52538c46-b2c7-4551-982e-45eeef01e758"
      },
      "source": [
        "# Reload best model\n",
        "model_X = tf.keras.models.load_model(\"model_experiments/model_X_dense_multivariate\")\n",
        "model_X.evaluate(X_test, y_test)"
      ],
      "execution_count": 168,
      "outputs": [
        {
          "output_type": "stream",
          "text": [
            "18/18 [==============================] - 0s 1ms/step - loss: 598.0052\n"
          ],
          "name": "stdout"
        },
        {
          "output_type": "execute_result",
          "data": {
            "text/plain": [
              "598.0051879882812"
            ]
          },
          "metadata": {
            "tags": []
          },
          "execution_count": 168
        }
      ]
    },
    {
      "cell_type": "code",
      "metadata": {
        "colab": {
          "base_uri": "https://localhost:8080/"
        },
        "id": "1t9d_Yyx17dE",
        "outputId": "343f1bbb-a25a-44c7-b832-cdfd762c16e9"
      },
      "source": [
        "# Make predictions\n",
        "model_X_preds = tf.squeeze(model_X.predict(X_test))\n",
        "model_X_preds[:10]"
      ],
      "execution_count": 169,
      "outputs": [
        {
          "output_type": "execute_result",
          "data": {
            "text/plain": [
              "<tf.Tensor: shape=(10,), dtype=float32, numpy=\n",
              "array([8792.934 , 8705.937 , 8617.653 , 8499.71  , 8567.33  , 8319.603 ,\n",
              "       8183.8174, 8119.6343, 7750.4106, 7407.408 ], dtype=float32)>"
            ]
          },
          "metadata": {
            "tags": []
          },
          "execution_count": 169
        }
      ]
    },
    {
      "cell_type": "code",
      "metadata": {
        "colab": {
          "base_uri": "https://localhost:8080/"
        },
        "id": "MsMPgRO117aB",
        "outputId": "98c8d89b-b46a-4e27-d808-aaa519506707"
      },
      "source": [
        "# Evaluate preds\n",
        "model_X_results = evaluate_preds(y_true=y_test,\n",
        "                                 y_pred=model_X_preds)\n",
        "model_X_results"
      ],
      "execution_count": 178,
      "outputs": [
        {
          "output_type": "execute_result",
          "data": {
            "text/plain": [
              "{'mae': 598.0052, 'mape': 2.6974614, 'mse': 1257749.0, 'smape': 2.6735888}"
            ]
          },
          "metadata": {
            "tags": []
          },
          "execution_count": 178
        }
      ]
    },
    {
      "cell_type": "code",
      "metadata": {
        "colab": {
          "base_uri": "https://localhost:8080/"
        },
        "id": "0UtCJYO117XI",
        "outputId": "f51a9c0e-d30c-4ab8-c3a4-3a4ce064467c"
      },
      "source": [
        "model_1_results"
      ],
      "execution_count": 179,
      "outputs": [
        {
          "output_type": "execute_result",
          "data": {
            "text/plain": [
              "{'mae': 581.276, 'mape': 2.5996687, 'mse': 1218963.6, 'smape': 2.5956254}"
            ]
          },
          "metadata": {
            "tags": []
          },
          "execution_count": 179
        }
      ]
    },
    {
      "cell_type": "code",
      "metadata": {
        "id": "Y4ktJKW0zViR"
      },
      "source": [
        ""
      ],
      "execution_count": null,
      "outputs": []
    },
    {
      "cell_type": "markdown",
      "metadata": {
        "id": "bfl8rXDVu_pJ"
      },
      "source": [
        "## TODO: Make TensorFlow windows"
      ]
    },
    {
      "cell_type": "code",
      "metadata": {
        "id": "N5Bs0_NwvCFV"
      },
      "source": [
        ""
      ],
      "execution_count": null,
      "outputs": []
    },
    {
      "cell_type": "code",
      "metadata": {
        "id": "BWJe7V5z4ABh"
      },
      "source": [
        ""
      ],
      "execution_count": null,
      "outputs": []
    },
    {
      "cell_type": "markdown",
      "metadata": {
        "id": "UW9oxH47EK-6"
      },
      "source": [
        "## TODO: Make future forecasts...\n",
        "\n",
        "* TODO\n",
        "  * Make forecasting better (how can I forecast on an arbitrary amount of steps)\n",
        "  * Create evaluation method for larger windows/horizons\n",
        "  * Build more modelling experiments\n",
        "  * Create multivariate time series\n",
        "  * Create TensorFlow windowing function\n",
        "\n",
        "* Forecasts can't be compared to anything... because they're a forecast... derp"
      ]
    },
    {
      "cell_type": "code",
      "metadata": {
        "colab": {
          "base_uri": "https://localhost:8080/"
        },
        "id": "uWlh2P7pBQpX",
        "outputId": "b59d2640-df5b-4081-b53b-abd1af6077e5"
      },
      "source": [
        "WINDOW_SIZE"
      ],
      "execution_count": null,
      "outputs": [
        {
          "output_type": "execute_result",
          "data": {
            "text/plain": [
              "10"
            ]
          },
          "metadata": {
            "tags": []
          },
          "execution_count": 365
        }
      ]
    },
    {
      "cell_type": "code",
      "metadata": {
        "id": "0Hu1eH59BcuN"
      },
      "source": [
        "# TODO: Create make forecast function with:\n",
        "# Can forecast on any model\n",
        "# Can forecast on any time series (gets formatted to be same as the model's requirements)"
      ],
      "execution_count": null,
      "outputs": []
    },
    {
      "cell_type": "code",
      "metadata": {
        "colab": {
          "base_uri": "https://localhost:8080/"
        },
        "id": "6WYGil3TBTEA",
        "outputId": "ec25bc72-77be-4b06-c929-e180f6a450ce"
      },
      "source": [
        "# Make forecast with one model... \n",
        "model_3_forecast = model_3.predict(tf.expand_dims(y_test[-model_3.input_shape[-1]:], axis=0))\n",
        "model_3_forecast"
      ],
      "execution_count": null,
      "outputs": [
        {
          "output_type": "execute_result",
          "data": {
            "text/plain": [
              "array([[51037.02]], dtype=float32)"
            ]
          },
          "metadata": {
            "tags": []
          },
          "execution_count": 450
        }
      ]
    },
    {
      "cell_type": "code",
      "metadata": {
        "id": "soQoulDxEhAp"
      },
      "source": [
        "# TODO: Update this to work with future data...\n",
        "def make_future_forecast(model, input_data):\n",
        "  \"\"\"\n",
        "  Uses model to make forecasts on input_data.\n",
        "  \"\"\"\n",
        "  forecast = model.predict(tf.expand_dims(input_data[-model.input_shape[-1]:], axis=0)) # make future predictions on last timestep(s) of input_data\n",
        "  return tf.squeeze(forecast).numpy()"
      ],
      "execution_count": null,
      "outputs": []
    },
    {
      "cell_type": "code",
      "metadata": {
        "colab": {
          "base_uri": "https://localhost:8080/"
        },
        "id": "cU0-6mgXFT3F",
        "outputId": "8c6216a3-480f-4212-ec28-eb40595c4a06"
      },
      "source": [
        "model_2_forecast = make_forecast(model_2, y_test)\n",
        "model_2_forecast"
      ],
      "execution_count": null,
      "outputs": [
        {
          "output_type": "execute_result",
          "data": {
            "text/plain": [
              "array([53904.688, 43581.746, 53670.637, 51078.867, 45989.836, 47447.473,\n",
              "       44555.715, 46859.6  , 54127.32 , 54640.65 , 52999.043, 52226.145,\n",
              "       46463.242, 45323.86 ], dtype=float32)"
            ]
          },
          "metadata": {
            "tags": []
          },
          "execution_count": 454
        }
      ]
    },
    {
      "cell_type": "code",
      "metadata": {
        "colab": {
          "base_uri": "https://localhost:8080/"
        },
        "id": "6cIibo-CFcxA",
        "outputId": "e3167e29-944a-4f7d-b28a-3e7812a7d7eb"
      },
      "source": [
        "model_3_forecast = make_forecast(model_3, y_test)\n",
        "model_3_forecast"
      ],
      "execution_count": null,
      "outputs": [
        {
          "output_type": "execute_result",
          "data": {
            "text/plain": [
              "51037.02"
            ]
          },
          "metadata": {
            "tags": []
          },
          "execution_count": 457
        }
      ]
    },
    {
      "cell_type": "markdown",
      "metadata": {
        "id": "QuaY0cOaCHfr"
      },
      "source": [
        "### TODO: Plot forecasts\n",
        "\n",
        "* Need: \n",
        "  * horizon # of dates in future\n",
        "  * forecast"
      ]
    },
    {
      "cell_type": "code",
      "metadata": {
        "colab": {
          "base_uri": "https://localhost:8080/"
        },
        "id": "6676Sl-cAFn5",
        "outputId": "c8cfc1d7-a4d7-4930-a2de-40e4b84c6640"
      },
      "source": [
        "# Last timestep of timesteps (currently in np.datetime64 format)\n",
        "X_test[-1]"
      ],
      "execution_count": null,
      "outputs": [
        {
          "output_type": "execute_result",
          "data": {
            "text/plain": [
              "numpy.datetime64('2021-05-18T00:00:00.000000000')"
            ]
          },
          "metadata": {
            "tags": []
          },
          "execution_count": 443
        }
      ]
    },
    {
      "cell_type": "code",
      "metadata": {
        "id": "i4iNNliSCbU-"
      },
      "source": [
        "def get_future_dates(start_date, horizon=1, offset=1):\n",
        "  \"\"\"\n",
        "  Returns array of datetime values from ranging from start_date to start_date+horizon.\n",
        "\n",
        "  start_date: date to start range (np.datetime64)\n",
        "  horizon: number of day to add onto start date for range (int)\n",
        "  offset: if offset=1 (default), original date is not included, if offset=0, original date is included\n",
        "  \"\"\"\n",
        "  return np.arange(start_date + np.timedelta64(offset, \"D\"), start_date + np.timedelta64(horizon+1, \"D\"), dtype=\"datetime64[D]\")"
      ],
      "execution_count": null,
      "outputs": []
    },
    {
      "cell_type": "code",
      "metadata": {
        "id": "252bhVD7C5NZ"
      },
      "source": [
        "next_time_steps = get_future_dates(start_date=X_test[-1], horizon=HORIZON)"
      ],
      "execution_count": null,
      "outputs": []
    },
    {
      "cell_type": "code",
      "metadata": {
        "colab": {
          "base_uri": "https://localhost:8080/"
        },
        "id": "gtOqAgSPyjtn",
        "outputId": "e54d6fcf-ac1e-4152-b646-20778f81393d"
      },
      "source": [
        "# Example of getting next two weeks\n",
        "next_two_weeks = get_future_dates(start_date=X_test[-1], horizon=14)\n",
        "next_two_weeks"
      ],
      "execution_count": null,
      "outputs": [
        {
          "output_type": "execute_result",
          "data": {
            "text/plain": [
              "array(['2021-05-19', '2021-05-20', '2021-05-21', '2021-05-22',\n",
              "       '2021-05-23', '2021-05-24', '2021-05-25', '2021-05-26',\n",
              "       '2021-05-27', '2021-05-28', '2021-05-29', '2021-05-30',\n",
              "       '2021-05-31', '2021-06-01'], dtype='datetime64[D]')"
            ]
          },
          "metadata": {
            "tags": []
          },
          "execution_count": 544
        }
      ]
    },
    {
      "cell_type": "code",
      "metadata": {
        "id": "G_5UX08aCThS"
      },
      "source": [
        "model_2_forecast = np.insert(model_2_forecast, 0, y_test[-1]) \n",
        "future_dates = np.insert(next_two_weeks, 0, X_test[-1])"
      ],
      "execution_count": null,
      "outputs": []
    },
    {
      "cell_type": "code",
      "metadata": {
        "colab": {
          "base_uri": "https://localhost:8080/"
        },
        "id": "iBj7y088EAYc",
        "outputId": "b56e0a2e-76f6-4189-f678-559a602bfe79"
      },
      "source": [
        "model_2_forecast, future_dates"
      ],
      "execution_count": null,
      "outputs": [
        {
          "output_type": "execute_result",
          "data": {
            "text/plain": [
              "(array([43144.473, 53904.688, 43581.746, 53670.637, 51078.867, 45989.836,\n",
              "        47447.473, 44555.715, 46859.6  , 54127.32 , 54640.65 , 52999.043,\n",
              "        52226.145, 46463.242, 45323.86 ], dtype=float32),\n",
              " array(['2021-05-18', '2021-05-19', '2021-05-20', '2021-05-21',\n",
              "        '2021-05-22', '2021-05-23', '2021-05-24', '2021-05-25',\n",
              "        '2021-05-26', '2021-05-27', '2021-05-28', '2021-05-29',\n",
              "        '2021-05-30', '2021-05-31', '2021-06-01'], dtype='datetime64[D]'))"
            ]
          },
          "metadata": {
            "tags": []
          },
          "execution_count": 546
        }
      ]
    },
    {
      "cell_type": "markdown",
      "metadata": {
        "id": "V4jPtORZEgs9"
      },
      "source": [
        "TODO: Fix the below graph to have model_2_preds... continued into model 2 forecast, want to have the windowed forecast plottable & then predictions being able to be made multiple steps into the future"
      ]
    },
    {
      "cell_type": "code",
      "metadata": {
        "colab": {
          "base_uri": "https://localhost:8080/"
        },
        "id": "GyaSsy8bJw5-",
        "outputId": "3debee8b-a82b-4a0f-e105-55f6379a4349"
      },
      "source": [
        "tf.keras.metrics.mean_absolute_error(y_test[WINDOW_SIZE:-(len(y_test) % HORIZON)-1], # account for window sizes/cutoff\n",
        "                                     tf.reduce_mean(model_2_preds, axis=1))"
      ],
      "execution_count": null,
      "outputs": [
        {
          "output_type": "execute_result",
          "data": {
            "text/plain": [
              "<tf.Tensor: shape=(), dtype=float32, numpy=1481.0415>"
            ]
          },
          "metadata": {
            "tags": []
          },
          "execution_count": 528
        }
      ]
    },
    {
      "cell_type": "code",
      "metadata": {
        "colab": {
          "base_uri": "https://localhost:8080/"
        },
        "id": "xTYDnN2WGhu9",
        "outputId": "90215aa3-9fb1-4821-b91d-508c5cdcf3a1"
      },
      "source": [
        "model_2_results"
      ],
      "execution_count": null,
      "outputs": [
        {
          "output_type": "execute_result",
          "data": {
            "text/plain": [
              "{'mae': 2529.3965, 'mape': 9.727565, 'mse': 16825896.0, 'smape': 10.112202}"
            ]
          },
          "metadata": {
            "tags": []
          },
          "execution_count": 529
        }
      ]
    },
    {
      "cell_type": "code",
      "metadata": {
        "colab": {
          "base_uri": "https://localhost:8080/"
        },
        "id": "Yw-e5fkcMOAl",
        "outputId": "5341bffb-fce2-4ecf-fb8e-8a98d66edcbc"
      },
      "source": [
        "y_test[140:140+14], test_labels[0]"
      ],
      "execution_count": null,
      "outputs": [
        {
          "output_type": "execute_result",
          "data": {
            "text/plain": [
              "(array([6721.49539238, 6682.7800492 , 6229.48834283, 5922.48983509,\n",
              "        6483.73944553, 6446.42134684, 6537.3364615 , 6850.55871169,\n",
              "        6776.37009357, 6855.93326446, 6805.3622869 , 7278.24396977,\n",
              "        7175.66747656, 7367.29339845]),\n",
              " array([6721.49539238, 6682.7800492 , 6229.48834283, 5922.48983509,\n",
              "        6483.73944553, 6446.42134684, 6537.3364615 , 6850.55871169,\n",
              "        6776.37009357, 6855.93326446, 6805.3622869 , 7278.24396977,\n",
              "        7175.66747656, 7367.29339845]))"
            ]
          },
          "metadata": {
            "tags": []
          },
          "execution_count": 551
        }
      ]
    },
    {
      "cell_type": "code",
      "metadata": {
        "colab": {
          "base_uri": "https://localhost:8080/"
        },
        "id": "QNC3HzAGLM1z",
        "outputId": "b3af51ad-69e9-4107-9b2c-cdcf54656cce"
      },
      "source": [
        "tf.reduce_mean(model_2_preds[-100:], axis=1)"
      ],
      "execution_count": null,
      "outputs": [
        {
          "output_type": "execute_result",
          "data": {
            "text/plain": [
              "<tf.Tensor: shape=(100,), dtype=float32, numpy=\n",
              "array([36701.473, 36144.57 , 35764.348, 34901.656, 34843.71 , 35094.81 ,\n",
              "       35132.727, 34703.82 , 34822.19 , 34917.02 , 35235.418, 35918.348,\n",
              "       36537.855, 36705.363, 37077.176, 38421.293, 39489.344, 40080.098,\n",
              "       40876.883, 42075.066, 43110.34 , 44393.844, 45216.777, 45956.57 ,\n",
              "       46855.19 , 48068.395, 49270.723, 50073.617, 51104.812, 51841.305,\n",
              "       51963.098, 52384.965, 52220.   , 51455.895, 51411.168, 51489.188,\n",
              "       51131.52 , 50980.19 , 50987.875, 51007.54 , 51163.258, 51886.066,\n",
              "       52521.082, 52356.008, 53245.973, 54041.48 , 55264.96 , 55964.742,\n",
              "       56759.926, 57594.387, 58877.68 , 59014.035, 59824.086, 59583.305,\n",
              "       59824.34 , 60218.43 , 59945.965, 59501.598, 58837.625, 58398.35 ,\n",
              "       57354.477, 57350.035, 57393.535, 56191.32 , 56402.09 , 56915.77 ,\n",
              "       56231.77 , 56628.395, 56597.395, 56858.844, 57405.73 , 58069.418,\n",
              "       57892.56 , 57875.32 , 57569.188, 58106.938, 58683.445, 59460.043,\n",
              "       60356.37 , 61224.145, 61700.85 , 62376.965, 63341.246, 63533.957,\n",
              "       63728.312, 63351.645, 63100.29 , 62591.418, 61397.555, 60589.914,\n",
              "       60047.062, 58441.508, 58210.43 , 58898.125, 57963.316, 57164.215,\n",
              "       57364.543, 56864.16 , 56845.277, 56932.164], dtype=float32)>"
            ]
          },
          "metadata": {
            "tags": []
          },
          "execution_count": 549
        }
      ]
    },
    {
      "cell_type": "code",
      "metadata": {
        "colab": {
          "base_uri": "https://localhost:8080/"
        },
        "id": "ShxXEbrGNQ1Q",
        "outputId": "5a3e10e0-25d6-469f-d809-4be40346e9f4"
      },
      "source": [
        "100-len(y_test) % HORIZON - 1"
      ],
      "execution_count": null,
      "outputs": [
        {
          "output_type": "execute_result",
          "data": {
            "text/plain": [
              "87"
            ]
          },
          "metadata": {
            "tags": []
          },
          "execution_count": 556
        }
      ]
    },
    {
      "cell_type": "code",
      "metadata": {
        "colab": {
          "base_uri": "https://localhost:8080/"
        },
        "id": "3t7X4qdnNd49",
        "outputId": "be879017-f34c-4879-c30b-da8c00d5f0fb"
      },
      "source": [
        "100+((len(y_test) % HORIZON) - 1)"
      ],
      "execution_count": null,
      "outputs": [
        {
          "output_type": "execute_result",
          "data": {
            "text/plain": [
              "111"
            ]
          },
          "metadata": {
            "tags": []
          },
          "execution_count": 564
        }
      ]
    },
    {
      "cell_type": "code",
      "metadata": {
        "colab": {
          "base_uri": "https://localhost:8080/"
        },
        "id": "sd7o-YLKNsyU",
        "outputId": "a1fd41b8-87c1-4753-a9ff-53f4117de4ef"
      },
      "source": [
        "X_test[-111]"
      ],
      "execution_count": null,
      "outputs": [
        {
          "output_type": "execute_result",
          "data": {
            "text/plain": [
              "numpy.datetime64('2021-01-28T00:00:00.000000000')"
            ]
          },
          "metadata": {
            "tags": []
          },
          "execution_count": 565
        }
      ]
    },
    {
      "cell_type": "code",
      "metadata": {
        "colab": {
          "base_uri": "https://localhost:8080/"
        },
        "id": "2l1nbCpMN29T",
        "outputId": "77b16be9-5635-42e4-d2da-42588a3ed7b5"
      },
      "source": [
        "# Does indexing on this account for the lagging window???\n",
        "(100+(len(y_test) % HORIZON) - 1)"
      ],
      "execution_count": null,
      "outputs": [
        {
          "output_type": "execute_result",
          "data": {
            "text/plain": [
              "111"
            ]
          },
          "metadata": {
            "tags": []
          },
          "execution_count": 566
        }
      ]
    },
    {
      "cell_type": "code",
      "metadata": {
        "colab": {
          "base_uri": "https://localhost:8080/",
          "height": 447
        },
        "id": "B_7z2XE5N9mj",
        "outputId": "299990ef-0b00-4190-dffd-99c330a36334"
      },
      "source": [
        "## TODO: Note the non-adjusted plot here...\n",
        "# Plot forecast\n",
        "plt.figure(figsize=(10, 7))\n",
        "plt.plot(X_test[-100:], y_test[-100:], label=\"test_data\")\n",
        "# plt.plot(X_train, y_train)\n",
        "plt.plot(X_test[-100:], tf.reduce_mean(model_2_preds[-100:], axis=1), label=\"model_2_preds\")\n",
        "plt.plot(future_dates, model_2_forecast.ravel(), label=\"model_2_forecast\")\n",
        "plt.legend()\n",
        "plt.plot()"
      ],
      "execution_count": null,
      "outputs": [
        {
          "output_type": "execute_result",
          "data": {
            "text/plain": [
              "[]"
            ]
          },
          "metadata": {
            "tags": []
          },
          "execution_count": 569
        },
        {
          "output_type": "display_data",
          "data": {
            "image/png": "[encoded data removed]",
            "text/plain": [
              "<Figure size 720x504 with 1 Axes>"
            ]
          },
          "metadata": {
            "tags": [],
            "needs_background": "light"
          }
        }
      ]
    },
    {
      "cell_type": "code",
      "metadata": {
        "colab": {
          "base_uri": "https://localhost:8080/",
          "height": 447
        },
        "id": "MqTK7pr688o2",
        "outputId": "786ba446-0e9f-4647-a00c-6bbde286097d"
      },
      "source": [
        "## TODO: Note the adjusted plot here...\n",
        "# Plot forecast\n",
        "plt.figure(figsize=(10, 7))\n",
        "plt.plot(X_test[-100:], y_test[-100:], label=\"test_data\")\n",
        "# plt.plot(X_train, y_train)\n",
        "plt.plot(X_test[-(100+HORIZON):-HORIZON], tf.reduce_mean(model_2_preds[-100:], axis=1), label=\"model_2_preds\")\n",
        "plt.plot(future_dates, model_2_forecast.ravel(), label=\"model_2_forecast\")\n",
        "plt.legend()\n",
        "plt.plot()"
      ],
      "execution_count": null,
      "outputs": [
        {
          "output_type": "execute_result",
          "data": {
            "text/plain": [
              "[]"
            ]
          },
          "metadata": {
            "tags": []
          },
          "execution_count": 571
        },
        {
          "output_type": "display_data",
          "data": {
            "image/png": "[encoded data removed]",
            "text/plain": [
              "<Figure size 720x504 with 1 Axes>"
            ]
          },
          "metadata": {
            "tags": [],
            "needs_background": "light"
          }
        }
      ]
    },
    {
      "cell_type": "code",
      "metadata": {
        "id": "_bSQcfknCjN4"
      },
      "source": [
        ""
      ],
      "execution_count": null,
      "outputs": []
    },
    {
      "cell_type": "code",
      "metadata": {
        "id": "ZcbnNGhhL6ss"
      },
      "source": [
        ""
      ],
      "execution_count": null,
      "outputs": []
    },
    {
      "cell_type": "code",
      "metadata": {
        "id": "b4W2c9woL6jZ"
      },
      "source": [
        ""
      ],
      "execution_count": null,
      "outputs": []
    },
    {
      "cell_type": "code",
      "metadata": {
        "id": "4dfvsCORCjIi"
      },
      "source": [
        ""
      ],
      "execution_count": null,
      "outputs": []
    },
    {
      "cell_type": "code",
      "metadata": {
        "id": "z7XrBXMy5WQG"
      },
      "source": [
        ""
      ],
      "execution_count": null,
      "outputs": []
    },
    {
      "cell_type": "code",
      "metadata": {
        "id": "KVZ92raO5WL-"
      },
      "source": [
        ""
      ],
      "execution_count": null,
      "outputs": []
    },
    {
      "cell_type": "code",
      "metadata": {
        "id": "RSTXtKsI5WIh"
      },
      "source": [
        ""
      ],
      "execution_count": null,
      "outputs": []
    },
    {
      "cell_type": "code",
      "metadata": {
        "id": "7VCekOGZ5WFi"
      },
      "source": [
        ""
      ],
      "execution_count": null,
      "outputs": []
    },
    {
      "cell_type": "markdown",
      "metadata": {
        "id": "RyK5r-j5Y--4"
      },
      "source": [
        "## TODO: Make TensorFlow tf.data Windowed Dataset"
      ]
    },
    {
      "cell_type": "code",
      "metadata": {
        "id": "ebeKFCfSBk-b"
      },
      "source": [
        ""
      ],
      "execution_count": null,
      "outputs": []
    },
    {
      "cell_type": "code",
      "metadata": {
        "id": "2F6tqMSB5VQw"
      },
      "source": [
        ""
      ],
      "execution_count": null,
      "outputs": []
    },
    {
      "cell_type": "code",
      "metadata": {
        "id": "XAeNIp1IYzz5"
      },
      "source": [
        ""
      ],
      "execution_count": null,
      "outputs": []
    },
    {
      "cell_type": "code",
      "metadata": {
        "id": "cQFBrdoFYzp-"
      },
      "source": [
        ""
      ],
      "execution_count": null,
      "outputs": []
    },
    {
      "cell_type": "code",
      "metadata": {
        "id": "jak40o1MYznM"
      },
      "source": [
        ""
      ],
      "execution_count": null,
      "outputs": []
    },
    {
      "cell_type": "code",
      "metadata": {
        "id": "bEPwZjIASOWg"
      },
      "source": [
        "# TODO: Use entire time series to predict next step, compare to actual data \n",
        "# (e.g. revisit the prices in 1 week & see how the model goes)\n",
        "# Start date: 18 May 2021\n",
        "# End date: 25 May 2021 (revisit the updated prices here & see how wrong the model is...)"
      ],
      "execution_count": null,
      "outputs": []
    },
    {
      "cell_type": "markdown",
      "metadata": {
        "id": "fVGY8WhHBlHV"
      },
      "source": [
        "## TODO: Uncertainty estimates"
      ]
    },
    {
      "cell_type": "markdown",
      "metadata": {
        "id": "SQsz_JNwBooW"
      },
      "source": [
        "### TODO: Model X: (model with Dropout to make MC Dropout model)..."
      ]
    },
    {
      "cell_type": "code",
      "metadata": {
        "id": "-Neg2BC6Bo_F"
      },
      "source": [
        ""
      ],
      "execution_count": null,
      "outputs": []
    },
    {
      "cell_type": "code",
      "metadata": {
        "id": "_n3iKK_mz9Uu"
      },
      "source": [
        ""
      ],
      "execution_count": null,
      "outputs": []
    },
    {
      "cell_type": "markdown",
      "metadata": {
        "id": "U5VMaZ1UBpXt"
      },
      "source": [
        "# TODO: Why forecasting is BS (turkey problem)\n",
        "\n",
        "TK - inject a turkey problem piece of data into the model & see how it effects (e.g. 1 data point that's 50x of outlier)\n",
        "\n",
        "* See this video: https://youtu.be/hRwimmE2wEk\n",
        "* Open system: beware (like fortune telling), see Mark Saroufim's tweet - https://twitter.com/marksaroufim/status/1366871736604532739?s=20\n",
        "* Closed system: try it out"
      ]
    },
    {
      "cell_type": "code",
      "metadata": {
        "id": "KD50Xt36BsOk"
      },
      "source": [
        ""
      ],
      "execution_count": null,
      "outputs": []
    },
    {
      "cell_type": "code",
      "metadata": {
        "id": "kUFWcnNGB7yn"
      },
      "source": [
        ""
      ],
      "execution_count": null,
      "outputs": []
    },
    {
      "cell_type": "code",
      "metadata": {
        "id": "DgG2hk9PB7wi"
      },
      "source": [
        ""
      ],
      "execution_count": null,
      "outputs": []
    },
    {
      "cell_type": "code",
      "metadata": {
        "id": "dPWjKlk_B7tb"
      },
      "source": [
        ""
      ],
      "execution_count": null,
      "outputs": []
    },
    {
      "cell_type": "code",
      "metadata": {
        "id": "JLSwuKgzB7q_"
      },
      "source": [
        ""
      ],
      "execution_count": null,
      "outputs": []
    },
    {
      "cell_type": "markdown",
      "metadata": {
        "id": "47VA8gR3B7QP"
      },
      "source": [
        "# TODO: Exercises"
      ]
    },
    {
      "cell_type": "code",
      "metadata": {
        "id": "vSZLIopuCAJN"
      },
      "source": [
        ""
      ],
      "execution_count": null,
      "outputs": []
    },
    {
      "cell_type": "markdown",
      "metadata": {
        "id": "iiOlVRREB7No"
      },
      "source": [
        "## TODO: Extra-curriculum"
      ]
    },
    {
      "cell_type": "markdown",
      "metadata": {
        "id": "L2PgJ141B7HG"
      },
      "source": [
        ""
      ]
    }
  ]
}