{
  "nbformat": 4,
  "nbformat_minor": 0,
  "metadata": {
    "colab": {
      "name": "10_time_series_forecasting_in_tensorflow.ipynb",
      "provenance": [],
      "collapsed_sections": [],
      "authorship_tag": "ABX9TyNhbJ+WA8h/sK7qLBSqWgmo",
      "include_colab_link": true
    },
    "kernelspec": {
      "name": "python3",
      "display_name": "Python 3"
    },
    "language_info": {
      "name": "python"
    }
  },
  "cells": [
    {
      "cell_type": "markdown",
      "metadata": {
        "id": "view-in-github",
        "colab_type": "text"
      },
      "source": [
        "<a href=\"https://colab.research.google.com/github/mrdbourke/tensorflow-deep-learning/blob/main/10_time_series_forecasting_in_tensorflow.ipynb\" target=\"_parent\"><img src=\"https://colab.research.google.com/assets/colab-badge.svg\" alt=\"Open In Colab\"/></a>"
      ]
    },
    {
      "cell_type": "markdown",
      "metadata": {
        "id": "vlVtweEv7nAx"
      },
      "source": [
        "# Note: This notebook is a work in progress & will be updated continuously over the next week or so before it's ready - 26 May 2021\n",
        "\n",
        "# Time series forecasting in TensorFlow\n",
        "\n",
        "The goal of this notebook is to get you familiar with working with time series data.\n",
        "\n",
        "It won't cover all of the time series field but by the end you will get a fairly good overview of things to consider for time series problems...\n",
        "\n",
        "Outline:\n",
        "* Get data (a time series)\n",
        "* Format data\n",
        "  * Turn data into a windowed dataset\n",
        "  * Training/test sets for time series\n",
        "  * Univariate - Bitcoin's price history\n",
        "  * Multivariate - Bitcoin's price history + block size\n",
        "* Model data\n",
        "  * Baseline - naive forecasting\n",
        "  * Baseline 2 - random forest regressor - https://youtu.be/5qgk9QJ4rdQ \n",
        "  * Deep model - fully connected\n",
        "  * Sequence models\n",
        "    * LSTM\n",
        "    * Conv1D\n",
        "  * N-Beats algorithm - https://arxiv.org/pdf/1905.10437.pdf\n",
        "* Evaluating a time series model\n",
        "  * MAE\n",
        "  * MSE\n",
        "  * RMSE etc...\n",
        "* Uncertainty estimates\n",
        "  * Coconut uncertainty - epistemic uncertainty\n",
        "  * Subway uncertainty - aleatory uncertainty\n",
        "* Why forecasting is BS (turkey problem) - https://youtu.be/hRwimmE2wEk\n",
        "  * Open system: beware (like fortune telling), see Mark Saroufim's tweet - https://twitter.com/marksaroufim/status/1366871736604532739?s=20 \n",
        "  * Closed system: try it out \n",
        "* Exercises\n",
        "* Extra-curriculum\n",
        "  * Time series book - https://otexts.com/fpp2/accuracy.html \n"
      ]
    },
    {
      "cell_type": "markdown",
      "metadata": {
        "id": "ZdeV4DEeAjF2"
      },
      "source": [
        "## TODO: What is a time series problem?\n",
        "\n",
        "* Forecasting\n",
        "* Classification"
      ]
    },
    {
      "cell_type": "markdown",
      "metadata": {
        "id": "81ywkh0q8Apj"
      },
      "source": [
        "## TODO: Get data\n",
        "\n",
        "Let's predict the price of Bitcoin! Data source: https://www.coindesk.com/price/bitcoin\n",
        "\n",
        "> **Note:** This is not financial advice, as you'll see time series forecasting for stock market prices is actually quite terrible.\n",
        "\n",
        "See this tweet for reference: https://twitter.com/marksaroufim/status/1366871736604532739?s=20\n",
        "\n",
        "TODO (upload to Google Storage/GitHub): Data: https://www.dropbox.com/s/hoexgnrk44uco0a/BTC_USD_2013-10-01_2021-05-18-CoinDesk.csv?dl=0"
      ]
    },
    {
      "cell_type": "code",
      "metadata": {
        "colab": {
          "base_uri": "https://localhost:8080/"
        },
        "id": "mVEjK6ZHDqkQ",
        "outputId": "f3957b8e-2f83-4183-ce6a-2533e1ef1153"
      },
      "source": [
        "!wget https://www.dropbox.com/s/hoexgnrk44uco0a/BTC_USD_2013-10-01_2021-05-18-CoinDesk.csv"
      ],
      "execution_count": 1,
      "outputs": [
        {
          "output_type": "stream",
          "text": [
            "--2021-05-26 03:47:17--  https://www.dropbox.com/s/hoexgnrk44uco0a/BTC_USD_2013-10-01_2021-05-18-CoinDesk.csv\n",
            "Resolving www.dropbox.com (www.dropbox.com)... 162.125.3.18, 2620:100:6018:18::a27d:312\n",
            "Connecting to www.dropbox.com (www.dropbox.com)|162.125.3.18|:443... connected.\n",
            "HTTP request sent, awaiting response... 301 Moved Permanently\n",
            "Location: /s/raw/hoexgnrk44uco0a/BTC_USD_2013-10-01_2021-05-18-CoinDesk.csv [following]\n",
            "--2021-05-26 03:47:18--  https://www.dropbox.com/s/raw/hoexgnrk44uco0a/BTC_USD_2013-10-01_2021-05-18-CoinDesk.csv\n",
            "Reusing existing connection to www.dropbox.com:443.\n",
            "HTTP request sent, awaiting response... 302 Found\n",
            "Location: https://uc71dbdd1894765aff78f77d0687.dl.dropboxusercontent.com/cd/0/inline/BPPY-fcFR9ySAFAPKSE3PJBlEEFUj9Yy0BgLGQvf_gsqkYGqiWzURxQPkE-VGBB6ySfBn7vDbOAtRB41yiqLAidjFVkEsKuu-pr7lPv3gV4Q2Rvr0RC3Nx6gEvMKplUNPQ99sBJychc9W5Thi_PSc6UZ/file# [following]\n",
            "--2021-05-26 03:47:18--  https://uc71dbdd1894765aff78f77d0687.dl.dropboxusercontent.com/cd/0/inline/BPPY-fcFR9ySAFAPKSE3PJBlEEFUj9Yy0BgLGQvf_gsqkYGqiWzURxQPkE-VGBB6ySfBn7vDbOAtRB41yiqLAidjFVkEsKuu-pr7lPv3gV4Q2Rvr0RC3Nx6gEvMKplUNPQ99sBJychc9W5Thi_PSc6UZ/file\n",
            "Resolving uc71dbdd1894765aff78f77d0687.dl.dropboxusercontent.com (uc71dbdd1894765aff78f77d0687.dl.dropboxusercontent.com)... 162.125.3.15, 2620:100:601b:15::a27d:80f\n",
            "Connecting to uc71dbdd1894765aff78f77d0687.dl.dropboxusercontent.com (uc71dbdd1894765aff78f77d0687.dl.dropboxusercontent.com)|162.125.3.15|:443... connected.\n",
            "HTTP request sent, awaiting response... 200 OK\n",
            "Length: 178509 (174K) [text/plain]\n",
            "Saving to: ‘BTC_USD_2013-10-01_2021-05-18-CoinDesk.csv’\n",
            "\n",
            "BTC_USD_2013-10-01_ 100%[===================>] 174.33K  --.-KB/s    in 0.03s   \n",
            "\n",
            "2021-05-26 03:47:18 (5.10 MB/s) - ‘BTC_USD_2013-10-01_2021-05-18-CoinDesk.csv’ saved [178509/178509]\n",
            "\n"
          ],
          "name": "stdout"
        }
      ]
    },
    {
      "cell_type": "code",
      "metadata": {
        "colab": {
          "base_uri": "https://localhost:8080/",
          "height": 437
        },
        "id": "5FOrshVX_dUE",
        "outputId": "981e0d53-1d20-45b6-867f-8efa836cca32"
      },
      "source": [
        "# Import with pandas \n",
        "import pandas as pd\n",
        "# Parse dates and set date column to index\n",
        "df = pd.read_csv(\"/content/BTC_USD_2013-10-01_2021-05-18-CoinDesk.csv\", \n",
        "                 parse_dates=[\"Date\"], \n",
        "                 index_col=[\"Date\"]) # parse the date column (tell pandas column 1 is a datetime)\n",
        "df"
      ],
      "execution_count": 2,
      "outputs": [
        {
          "output_type": "execute_result",
          "data": {
            "text/html": [
              "<div>\n",
              "<style scoped>\n",
              "    .dataframe tbody tr th:only-of-type {\n",
              "        vertical-align: middle;\n",
              "    }\n",
              "\n",
              "    .dataframe tbody tr th {\n",
              "        vertical-align: top;\n",
              "    }\n",
              "\n",
              "    .dataframe thead th {\n",
              "        text-align: right;\n",
              "    }\n",
              "</style>\n",
              "<table border=\"1\" class=\"dataframe\">\n",
              "  <thead>\n",
              "    <tr style=\"text-align: right;\">\n",
              "      <th></th>\n",
              "      <th>Currency</th>\n",
              "      <th>Closing Price (USD)</th>\n",
              "      <th>24h Open (USD)</th>\n",
              "      <th>24h High (USD)</th>\n",
              "      <th>24h Low (USD)</th>\n",
              "    </tr>\n",
              "    <tr>\n",
              "      <th>Date</th>\n",
              "      <th></th>\n",
              "      <th></th>\n",
              "      <th></th>\n",
              "      <th></th>\n",
              "      <th></th>\n",
              "    </tr>\n",
              "  </thead>\n",
              "  <tbody>\n",
              "    <tr>\n",
              "      <th>2013-10-01</th>\n",
              "      <td>BTC</td>\n",
              "      <td>123.654990</td>\n",
              "      <td>124.304660</td>\n",
              "      <td>124.751660</td>\n",
              "      <td>122.563490</td>\n",
              "    </tr>\n",
              "    <tr>\n",
              "      <th>2013-10-02</th>\n",
              "      <td>BTC</td>\n",
              "      <td>125.455000</td>\n",
              "      <td>123.654990</td>\n",
              "      <td>125.758500</td>\n",
              "      <td>123.633830</td>\n",
              "    </tr>\n",
              "    <tr>\n",
              "      <th>2013-10-03</th>\n",
              "      <td>BTC</td>\n",
              "      <td>108.584830</td>\n",
              "      <td>125.455000</td>\n",
              "      <td>125.665660</td>\n",
              "      <td>83.328330</td>\n",
              "    </tr>\n",
              "    <tr>\n",
              "      <th>2013-10-04</th>\n",
              "      <td>BTC</td>\n",
              "      <td>118.674660</td>\n",
              "      <td>108.584830</td>\n",
              "      <td>118.675000</td>\n",
              "      <td>107.058160</td>\n",
              "    </tr>\n",
              "    <tr>\n",
              "      <th>2013-10-05</th>\n",
              "      <td>BTC</td>\n",
              "      <td>121.338660</td>\n",
              "      <td>118.674660</td>\n",
              "      <td>121.936330</td>\n",
              "      <td>118.005660</td>\n",
              "    </tr>\n",
              "    <tr>\n",
              "      <th>...</th>\n",
              "      <td>...</td>\n",
              "      <td>...</td>\n",
              "      <td>...</td>\n",
              "      <td>...</td>\n",
              "      <td>...</td>\n",
              "    </tr>\n",
              "    <tr>\n",
              "      <th>2021-05-14</th>\n",
              "      <td>BTC</td>\n",
              "      <td>49764.132082</td>\n",
              "      <td>49596.778891</td>\n",
              "      <td>51448.798576</td>\n",
              "      <td>46294.720180</td>\n",
              "    </tr>\n",
              "    <tr>\n",
              "      <th>2021-05-15</th>\n",
              "      <td>BTC</td>\n",
              "      <td>50032.693137</td>\n",
              "      <td>49717.354353</td>\n",
              "      <td>51578.312545</td>\n",
              "      <td>48944.346536</td>\n",
              "    </tr>\n",
              "    <tr>\n",
              "      <th>2021-05-16</th>\n",
              "      <td>BTC</td>\n",
              "      <td>47885.625255</td>\n",
              "      <td>49926.035067</td>\n",
              "      <td>50690.802950</td>\n",
              "      <td>47005.102292</td>\n",
              "    </tr>\n",
              "    <tr>\n",
              "      <th>2021-05-17</th>\n",
              "      <td>BTC</td>\n",
              "      <td>45604.615754</td>\n",
              "      <td>46805.537852</td>\n",
              "      <td>49670.414174</td>\n",
              "      <td>43868.638969</td>\n",
              "    </tr>\n",
              "    <tr>\n",
              "      <th>2021-05-18</th>\n",
              "      <td>BTC</td>\n",
              "      <td>43144.471291</td>\n",
              "      <td>46439.336570</td>\n",
              "      <td>46622.853437</td>\n",
              "      <td>42102.346430</td>\n",
              "    </tr>\n",
              "  </tbody>\n",
              "</table>\n",
              "<p>2787 rows × 5 columns</p>\n",
              "</div>"
            ],
            "text/plain": [
              "           Currency  Closing Price (USD)  ...  24h High (USD)  24h Low (USD)\n",
              "Date                                      ...                               \n",
              "2013-10-01      BTC           123.654990  ...      124.751660     122.563490\n",
              "2013-10-02      BTC           125.455000  ...      125.758500     123.633830\n",
              "2013-10-03      BTC           108.584830  ...      125.665660      83.328330\n",
              "2013-10-04      BTC           118.674660  ...      118.675000     107.058160\n",
              "2013-10-05      BTC           121.338660  ...      121.936330     118.005660\n",
              "...             ...                  ...  ...             ...            ...\n",
              "2021-05-14      BTC         49764.132082  ...    51448.798576   46294.720180\n",
              "2021-05-15      BTC         50032.693137  ...    51578.312545   48944.346536\n",
              "2021-05-16      BTC         47885.625255  ...    50690.802950   47005.102292\n",
              "2021-05-17      BTC         45604.615754  ...    49670.414174   43868.638969\n",
              "2021-05-18      BTC         43144.471291  ...    46622.853437   42102.346430\n",
              "\n",
              "[2787 rows x 5 columns]"
            ]
          },
          "metadata": {
            "tags": []
          },
          "execution_count": 2
        }
      ]
    },
    {
      "cell_type": "code",
      "metadata": {
        "colab": {
          "base_uri": "https://localhost:8080/"
        },
        "id": "Z-YoeINjCzJ_",
        "outputId": "f7c5090b-32c9-403a-a021-729bb70eb5b7"
      },
      "source": [
        "df.info()"
      ],
      "execution_count": 3,
      "outputs": [
        {
          "output_type": "stream",
          "text": [
            "<class 'pandas.core.frame.DataFrame'>\n",
            "DatetimeIndex: 2787 entries, 2013-10-01 to 2021-05-18\n",
            "Data columns (total 5 columns):\n",
            " #   Column               Non-Null Count  Dtype  \n",
            "---  ------               --------------  -----  \n",
            " 0   Currency             2787 non-null   object \n",
            " 1   Closing Price (USD)  2787 non-null   float64\n",
            " 2   24h Open (USD)       2787 non-null   float64\n",
            " 3   24h High (USD)       2787 non-null   float64\n",
            " 4   24h Low (USD)        2787 non-null   float64\n",
            "dtypes: float64(4), object(1)\n",
            "memory usage: 130.6+ KB\n"
          ],
          "name": "stdout"
        }
      ]
    },
    {
      "cell_type": "code",
      "metadata": {
        "colab": {
          "base_uri": "https://localhost:8080/"
        },
        "id": "XP3cN0uvlxhi",
        "outputId": "35f8204d-31a0-4a1c-9f9a-dce5555243eb"
      },
      "source": [
        "# TODO: time series often may not have very many samples (e.g. monthly = only 12 per year, daily = 365 per year... etc)\n",
        "# Deep learning algorithms usually flourish with lots of data (1000's of samples)\n",
        "len(df)"
      ],
      "execution_count": 4,
      "outputs": [
        {
          "output_type": "execute_result",
          "data": {
            "text/plain": [
              "2787"
            ]
          },
          "metadata": {
            "tags": []
          },
          "execution_count": 4
        }
      ]
    },
    {
      "cell_type": "code",
      "metadata": {
        "colab": {
          "base_uri": "https://localhost:8080/",
          "height": 228
        },
        "id": "QxoNCv2NCuLY",
        "outputId": "69b3210e-c4fd-41b2-c0a5-0a067ad3da34"
      },
      "source": [
        "# Only want closing price\n",
        "bitcoin_prices = pd.DataFrame(df[\"Closing Price (USD)\"]).rename(columns={\"Closing Price (USD)\": \"Price\"})\n",
        "bitcoin_prices.head()"
      ],
      "execution_count": 5,
      "outputs": [
        {
          "output_type": "execute_result",
          "data": {
            "text/html": [
              "<div>\n",
              "<style scoped>\n",
              "    .dataframe tbody tr th:only-of-type {\n",
              "        vertical-align: middle;\n",
              "    }\n",
              "\n",
              "    .dataframe tbody tr th {\n",
              "        vertical-align: top;\n",
              "    }\n",
              "\n",
              "    .dataframe thead th {\n",
              "        text-align: right;\n",
              "    }\n",
              "</style>\n",
              "<table border=\"1\" class=\"dataframe\">\n",
              "  <thead>\n",
              "    <tr style=\"text-align: right;\">\n",
              "      <th></th>\n",
              "      <th>Price</th>\n",
              "    </tr>\n",
              "    <tr>\n",
              "      <th>Date</th>\n",
              "      <th></th>\n",
              "    </tr>\n",
              "  </thead>\n",
              "  <tbody>\n",
              "    <tr>\n",
              "      <th>2013-10-01</th>\n",
              "      <td>123.65499</td>\n",
              "    </tr>\n",
              "    <tr>\n",
              "      <th>2013-10-02</th>\n",
              "      <td>125.45500</td>\n",
              "    </tr>\n",
              "    <tr>\n",
              "      <th>2013-10-03</th>\n",
              "      <td>108.58483</td>\n",
              "    </tr>\n",
              "    <tr>\n",
              "      <th>2013-10-04</th>\n",
              "      <td>118.67466</td>\n",
              "    </tr>\n",
              "    <tr>\n",
              "      <th>2013-10-05</th>\n",
              "      <td>121.33866</td>\n",
              "    </tr>\n",
              "  </tbody>\n",
              "</table>\n",
              "</div>"
            ],
            "text/plain": [
              "                Price\n",
              "Date                 \n",
              "2013-10-01  123.65499\n",
              "2013-10-02  125.45500\n",
              "2013-10-03  108.58483\n",
              "2013-10-04  118.67466\n",
              "2013-10-05  121.33866"
            ]
          },
          "metadata": {
            "tags": []
          },
          "execution_count": 5
        }
      ]
    },
    {
      "cell_type": "code",
      "metadata": {
        "colab": {
          "base_uri": "https://localhost:8080/"
        },
        "id": "Y0CAu0PTFT5R",
        "outputId": "a23e62f7-b072-4964-f799-1016fb3e1b36"
      },
      "source": [
        "bitcoin_prices.info()"
      ],
      "execution_count": 6,
      "outputs": [
        {
          "output_type": "stream",
          "text": [
            "<class 'pandas.core.frame.DataFrame'>\n",
            "DatetimeIndex: 2787 entries, 2013-10-01 to 2021-05-18\n",
            "Data columns (total 1 columns):\n",
            " #   Column  Non-Null Count  Dtype  \n",
            "---  ------  --------------  -----  \n",
            " 0   Price   2787 non-null   float64\n",
            "dtypes: float64(1)\n",
            "memory usage: 43.5 KB\n"
          ],
          "name": "stdout"
        }
      ]
    },
    {
      "cell_type": "code",
      "metadata": {
        "colab": {
          "base_uri": "https://localhost:8080/",
          "height": 442
        },
        "id": "CfkhZhmCEyUe",
        "outputId": "06d69ec3-1e72-4cc1-c3c5-5d51aa98a43e"
      },
      "source": [
        "bitcoin_prices.plot(figsize=(10, 7));"
      ],
      "execution_count": 7,
      "outputs": [
        {
          "output_type": "display_data",
          "data": {
            "image/png": "[encoded data removed]",
            "text/plain": [
              "<Figure size 720x504 with 1 Axes>"
            ]
          },
          "metadata": {
            "tags": [],
            "needs_background": "light"
          }
        }
      ]
    },
    {
      "cell_type": "code",
      "metadata": {
        "colab": {
          "base_uri": "https://localhost:8080/",
          "height": 228
        },
        "id": "v-hEaaGjePVD",
        "outputId": "e53b71f9-dacc-452a-be25-504ac2d373c1"
      },
      "source": [
        "bitcoin_prices.head()"
      ],
      "execution_count": 8,
      "outputs": [
        {
          "output_type": "execute_result",
          "data": {
            "text/html": [
              "<div>\n",
              "<style scoped>\n",
              "    .dataframe tbody tr th:only-of-type {\n",
              "        vertical-align: middle;\n",
              "    }\n",
              "\n",
              "    .dataframe tbody tr th {\n",
              "        vertical-align: top;\n",
              "    }\n",
              "\n",
              "    .dataframe thead th {\n",
              "        text-align: right;\n",
              "    }\n",
              "</style>\n",
              "<table border=\"1\" class=\"dataframe\">\n",
              "  <thead>\n",
              "    <tr style=\"text-align: right;\">\n",
              "      <th></th>\n",
              "      <th>Price</th>\n",
              "    </tr>\n",
              "    <tr>\n",
              "      <th>Date</th>\n",
              "      <th></th>\n",
              "    </tr>\n",
              "  </thead>\n",
              "  <tbody>\n",
              "    <tr>\n",
              "      <th>2013-10-01</th>\n",
              "      <td>123.65499</td>\n",
              "    </tr>\n",
              "    <tr>\n",
              "      <th>2013-10-02</th>\n",
              "      <td>125.45500</td>\n",
              "    </tr>\n",
              "    <tr>\n",
              "      <th>2013-10-03</th>\n",
              "      <td>108.58483</td>\n",
              "    </tr>\n",
              "    <tr>\n",
              "      <th>2013-10-04</th>\n",
              "      <td>118.67466</td>\n",
              "    </tr>\n",
              "    <tr>\n",
              "      <th>2013-10-05</th>\n",
              "      <td>121.33866</td>\n",
              "    </tr>\n",
              "  </tbody>\n",
              "</table>\n",
              "</div>"
            ],
            "text/plain": [
              "                Price\n",
              "Date                 \n",
              "2013-10-01  123.65499\n",
              "2013-10-02  125.45500\n",
              "2013-10-03  108.58483\n",
              "2013-10-04  118.67466\n",
              "2013-10-05  121.33866"
            ]
          },
          "metadata": {
            "tags": []
          },
          "execution_count": 8
        }
      ]
    },
    {
      "cell_type": "markdown",
      "metadata": {
        "id": "O2C1JsHUPYGG"
      },
      "source": [
        "### Importing time series as a CSV"
      ]
    },
    {
      "cell_type": "code",
      "metadata": {
        "colab": {
          "base_uri": "https://localhost:8080/"
        },
        "id": "UkTvwP2DCuGK",
        "outputId": "c0cb736a-01b3-4008-b94f-e9e9702dd40e"
      },
      "source": [
        "# Importing with Python CSV - https://realpython.com/python-csv/\n",
        "import csv\n",
        "from datetime import datetime\n",
        "\n",
        "timesteps = []\n",
        "btc_price = []\n",
        "with open(\"/content/BTC_USD_2013-10-01_2021-05-18-CoinDesk.csv\", \"r\") as f:\n",
        "  csv_reader = csv.reader(f, delimiter=\",\")\n",
        "  next(csv_reader) # skip first line\n",
        "  for line in csv_reader:\n",
        "    timesteps.append(datetime.strptime(line[1], \"%Y-%m-%d\")) # get the dates as dates (not strings)\n",
        "    btc_price.append(float(line[2])) # get the closing price as float\n",
        "\n",
        "# View first 10\n",
        "timesteps[:10], btc_price[:10]"
      ],
      "execution_count": 9,
      "outputs": [
        {
          "output_type": "execute_result",
          "data": {
            "text/plain": [
              "([datetime.datetime(2013, 10, 1, 0, 0),\n",
              "  datetime.datetime(2013, 10, 2, 0, 0),\n",
              "  datetime.datetime(2013, 10, 3, 0, 0),\n",
              "  datetime.datetime(2013, 10, 4, 0, 0),\n",
              "  datetime.datetime(2013, 10, 5, 0, 0),\n",
              "  datetime.datetime(2013, 10, 6, 0, 0),\n",
              "  datetime.datetime(2013, 10, 7, 0, 0),\n",
              "  datetime.datetime(2013, 10, 8, 0, 0),\n",
              "  datetime.datetime(2013, 10, 9, 0, 0),\n",
              "  datetime.datetime(2013, 10, 10, 0, 0)],\n",
              " [123.65499,\n",
              "  125.455,\n",
              "  108.58483,\n",
              "  118.67466,\n",
              "  121.33866,\n",
              "  120.65533,\n",
              "  121.795,\n",
              "  123.033,\n",
              "  124.049,\n",
              "  125.96116])"
            ]
          },
          "metadata": {
            "tags": []
          },
          "execution_count": 9
        }
      ]
    },
    {
      "cell_type": "code",
      "metadata": {
        "colab": {
          "base_uri": "https://localhost:8080/",
          "height": 442
        },
        "id": "bTSX7RZ9Cytj",
        "outputId": "5a37a047-e1e4-4788-8169-1b9d65e9227a"
      },
      "source": [
        "# Plot from CSV\n",
        "import matplotlib.pyplot as plt\n",
        "import numpy as np\n",
        "plt.figure(figsize=(10, 7))\n",
        "plt.plot(timesteps, np.array(btc_price))\n",
        "plt.xlabel(\"Date\")\n",
        "plt.ylabel(\"BTC Price\");"
      ],
      "execution_count": 10,
      "outputs": [
        {
          "output_type": "display_data",
          "data": {
            "image/png": "[encoded data removed]",
            "text/plain": [
              "<Figure size 720x504 with 1 Axes>"
            ]
          },
          "metadata": {
            "tags": [],
            "needs_background": "light"
          }
        }
      ]
    },
    {
      "cell_type": "markdown",
      "metadata": {
        "id": "_nfP7i9R_dOp"
      },
      "source": [
        "## TODO: Format data \n",
        "\n",
        "* Turn data into a windowed dataset\n",
        "* Training/test sets for time series\n",
        "* Univariate - Bitcoin's price history\n",
        "* Multivariate - Bitcoin's price history + block size"
      ]
    },
    {
      "cell_type": "markdown",
      "metadata": {
        "id": "prkQhgiHNOKd"
      },
      "source": [
        "### TODO: Create train & test sets for time series\n",
        "\n",
        "* Note: cannot do random split, time series will buckle under this (using future values in the past)\n",
        "* Need to make train set: values from past, test set: values from \"future\""
      ]
    },
    {
      "cell_type": "code",
      "metadata": {
        "colab": {
          "base_uri": "https://localhost:8080/"
        },
        "id": "wxQbuGVTRFKX",
        "outputId": "9c5a44ca-c508-414b-e049-a89d5f82df5e"
      },
      "source": [
        "# Get bitcoin date array\n",
        "timesteps = bitcoin_prices.index.to_numpy()\n",
        "prices = bitcoin_prices[\"Price\"].to_numpy()\n",
        "\n",
        "timesteps[:10], prices[:10]"
      ],
      "execution_count": 11,
      "outputs": [
        {
          "output_type": "execute_result",
          "data": {
            "text/plain": [
              "(array(['2013-10-01T00:00:00.000000000', '2013-10-02T00:00:00.000000000',\n",
              "        '2013-10-03T00:00:00.000000000', '2013-10-04T00:00:00.000000000',\n",
              "        '2013-10-05T00:00:00.000000000', '2013-10-06T00:00:00.000000000',\n",
              "        '2013-10-07T00:00:00.000000000', '2013-10-08T00:00:00.000000000',\n",
              "        '2013-10-09T00:00:00.000000000', '2013-10-10T00:00:00.000000000'],\n",
              "       dtype='datetime64[ns]'),\n",
              " array([123.65499, 125.455  , 108.58483, 118.67466, 121.33866, 120.65533,\n",
              "        121.795  , 123.033  , 124.049  , 125.96116]))"
            ]
          },
          "metadata": {
            "tags": []
          },
          "execution_count": 11
        }
      ]
    },
    {
      "cell_type": "code",
      "metadata": {
        "colab": {
          "base_uri": "https://localhost:8080/"
        },
        "id": "eGY7hTfyNLZ1",
        "outputId": "2c4c0f35-f579-44bf-f33a-068e7c3315d6"
      },
      "source": [
        "# Wrong way to make train/test sets for time series\n",
        "from sklearn.model_selection import train_test_split \n",
        "\n",
        "X_train, X_test, y_train, y_test = train_test_split(timesteps, # dates\n",
        "                                                    prices, # prices\n",
        "                                                    test_size=0.2,\n",
        "                                                    random_state=42)\n",
        "X_train.shape, X_test.shape, y_train.shape, y_test.shape "
      ],
      "execution_count": 12,
      "outputs": [
        {
          "output_type": "execute_result",
          "data": {
            "text/plain": [
              "((2229,), (558,), (2229,), (558,))"
            ]
          },
          "metadata": {
            "tags": []
          },
          "execution_count": 12
        }
      ]
    },
    {
      "cell_type": "code",
      "metadata": {
        "colab": {
          "base_uri": "https://localhost:8080/",
          "height": 442
        },
        "id": "cvH_0RvSNLWm",
        "outputId": "0c84021d-79dc-4421-961e-edae1ede7fbf"
      },
      "source": [
        "# Let's plot wrong train and test splits\n",
        "plt.figure(figsize=(10, 7))\n",
        "plt.scatter(X_train, y_train, s=5, label=\"Train data\")\n",
        "plt.scatter(X_test, y_test, s=5, label=\"Test data\")\n",
        "plt.xlabel(\"Date\")\n",
        "plt.ylabel(\"BTC Price\")\n",
        "plt.legend()\n",
        "plt.show();"
      ],
      "execution_count": 13,
      "outputs": [
        {
          "output_type": "display_data",
          "data": {
            "image/png": "[encoded data removed]",
            "text/plain": [
              "<Figure size 720x504 with 1 Axes>"
            ]
          },
          "metadata": {
            "tags": [],
            "needs_background": "light"
          }
        }
      ]
    },
    {
      "cell_type": "markdown",
      "metadata": {
        "id": "OK9sORtjRh5z"
      },
      "source": [
        "* TODO: Note: time series forecasting can often have many less data points than traditional deep learning projects (e.g. the entire history of BTC daily price data = only ~3000 samples)\n",
        "\n",
        "* TODO: What kind of steps should we predict? E.g. 80/20 split is that realisitic? You may want to use all of the data up until the last week..."
      ]
    },
    {
      "cell_type": "code",
      "metadata": {
        "colab": {
          "base_uri": "https://localhost:8080/"
        },
        "id": "lpEVKyXANLT4",
        "outputId": "fe74556e-3d60-4b22-a608-36dd8dcee475"
      },
      "source": [
        "# Create train and test splits the right way for time series data\n",
        "split_size = int(0.8 * len(prices)) # 80% train, 20% test\n",
        "\n",
        "# Create train data splits\n",
        "X_train, y_train = timesteps[:split_size], prices[:split_size]\n",
        "\n",
        "# Create test data splits\n",
        "X_test, y_test = timesteps[split_size:], prices[split_size:]\n",
        "\n",
        "X_train.shape, X_test.shape, y_train.shape, y_test.shape"
      ],
      "execution_count": 14,
      "outputs": [
        {
          "output_type": "execute_result",
          "data": {
            "text/plain": [
              "((2229,), (558,), (2229,), (558,))"
            ]
          },
          "metadata": {
            "tags": []
          },
          "execution_count": 14
        }
      ]
    },
    {
      "cell_type": "code",
      "metadata": {
        "colab": {
          "base_uri": "https://localhost:8080/",
          "height": 442
        },
        "id": "L9QImNlhOQuS",
        "outputId": "a3332374-2ef2-47c7-c15d-01573239d9bb"
      },
      "source": [
        "# Plot correctly made splits\n",
        "plt.figure(figsize=(10, 7))\n",
        "plt.scatter(X_train, y_train, s=5, label=\"Train data\")\n",
        "plt.scatter(X_test, y_test, s=5, label=\"Test data\")\n",
        "plt.xlabel(\"Date\")\n",
        "plt.ylabel(\"BTC Price\")\n",
        "plt.legend()\n",
        "plt.show();"
      ],
      "execution_count": 15,
      "outputs": [
        {
          "output_type": "display_data",
          "data": {
            "image/png": "[encoded data removed]",
            "text/plain": [
              "<Figure size 720x504 with 1 Axes>"
            ]
          },
          "metadata": {
            "tags": [],
            "needs_background": "light"
          }
        }
      ]
    },
    {
      "cell_type": "markdown",
      "metadata": {
        "id": "sGUelYVKCybB"
      },
      "source": [
        "### TODO: Create a plotting function\n",
        "\n",
        "Rather than retyping `matplotlib` commands to continuously plot data, let's make a plotting function we can reuse later."
      ]
    },
    {
      "cell_type": "code",
      "metadata": {
        "id": "trkvizA0C6vc"
      },
      "source": [
        "# Create a function to plot time series data\n",
        "def plot_time_series(timesteps, values, format='-', start=0, end=None, label=None):\n",
        "  # Plot the series\n",
        "  plt.plot(timesteps[start:end], values[start:end], format, label=label)\n",
        "  plt.xlabel(\"Time\")\n",
        "  plt.ylabel(\"BTC Price\")\n",
        "  if label:\n",
        "    plt.legend(fontsize=14) # make label bigger\n",
        "  plt.grid(True)"
      ],
      "execution_count": 16,
      "outputs": []
    },
    {
      "cell_type": "code",
      "metadata": {
        "colab": {
          "base_uri": "https://localhost:8080/",
          "height": 442
        },
        "id": "6TyFY1cGC_sw",
        "outputId": "d52b844c-2d44-40a1-f60d-70262fe7e5e0"
      },
      "source": [
        "# Try out our plotting function\n",
        "plt.figure(figsize=(10, 7))\n",
        "plot_time_series(timesteps=X_train, values=y_train, format=\".\", label=\"Train data\")\n",
        "plot_time_series(timesteps=X_test, values=y_test, format=\".\", label=\"Test data\")"
      ],
      "execution_count": 17,
      "outputs": [
        {
          "output_type": "display_data",
          "data": {
            "image/png": "[encoded data removed]",
            "text/plain": [
              "<Figure size 720x504 with 1 Axes>"
            ]
          },
          "metadata": {
            "tags": [],
            "needs_background": "light"
          }
        }
      ]
    },
    {
      "cell_type": "markdown",
      "metadata": {
        "id": "cwSpQQRl_dHb"
      },
      "source": [
        "## TODO: Model data\n",
        "\n",
        "* Baseline - naive forecasting\n",
        "* Baseline 2 - decision forest - https://www.tensorflow.org/decision_forests/tutorials/beginner_colab\n",
        "* Deep model - fully connected\n",
        "  * Fully connected with different size window/horizon\n",
        "* Sequence models\n",
        "  * LSTM\n",
        "  * Conv1D\n",
        "* N-Beats algorithm - https://arxiv.org/pdf/1905.10437.pdf"
      ]
    },
    {
      "cell_type": "markdown",
      "metadata": {
        "id": "JO1YAv7w_dE7"
      },
      "source": [
        "### Model 0: Naive forecast\n",
        "\n",
        "Naive forecast = Use the previous timestep to predict the next timestep\n",
        "\n",
        "$$\\hat{y}_{t} = y_{t-1}$$ "
      ]
    },
    {
      "cell_type": "code",
      "metadata": {
        "colab": {
          "base_uri": "https://localhost:8080/"
        },
        "id": "nCKGUO4OVos9",
        "outputId": "f55632d6-7a47-4f5b-f1de-cc757924ce84"
      },
      "source": [
        "naive_forecast = y_test[:-1]\n",
        "naive_forecast[:10]"
      ],
      "execution_count": 18,
      "outputs": [
        {
          "output_type": "execute_result",
          "data": {
            "text/plain": [
              "array([9226.48582088, 8794.35864452, 8798.04205463, 9081.18687849,\n",
              "       8711.53433917, 8760.89271814, 8749.52059102, 8656.97092235,\n",
              "       8500.64355816, 8469.2608989 ])"
            ]
          },
          "metadata": {
            "tags": []
          },
          "execution_count": 18
        }
      ]
    },
    {
      "cell_type": "code",
      "metadata": {
        "colab": {
          "base_uri": "https://localhost:8080/",
          "height": 442
        },
        "id": "a0NLHXDhWDX-",
        "outputId": "75776e70-1588-4e22-b26c-9bc670c07b3d"
      },
      "source": [
        "# Plot naive forecast\n",
        "plt.figure(figsize=(10, 7))\n",
        "plot_time_series(timesteps=X_train, values=y_train, format=\".\", label=\"Train data\")\n",
        "plot_time_series(timesteps=X_test, values=y_test, format=\".\", label=\"Test data\")\n",
        "plot_time_series(timesteps=X_test[1:], values=naive_forecast, label=\"Naive forecast\");"
      ],
      "execution_count": 19,
      "outputs": [
        {
          "output_type": "display_data",
          "data": {
            "image/png": "[encoded data removed]",
            "text/plain": [
              "<Figure size 720x504 with 1 Axes>"
            ]
          },
          "metadata": {
            "tags": [],
            "needs_background": "light"
          }
        }
      ]
    },
    {
      "cell_type": "markdown",
      "metadata": {
        "id": "8Zj2p8NAkRLD"
      },
      "source": [
        "The naive forecast looks like it's following the data well. But let's zoom in to take a better look."
      ]
    },
    {
      "cell_type": "code",
      "metadata": {
        "id": "dx0wUhtOW_VX",
        "colab": {
          "base_uri": "https://localhost:8080/",
          "height": 442
        },
        "outputId": "a24747b1-b616-4eb6-cd17-2951bdb831f5"
      },
      "source": [
        "plt.figure(figsize=(10, 7))\n",
        "offset=300\n",
        "plot_time_series(timesteps=X_test, values=y_test, format=\".\", start=offset, label=\"Test data\")\n",
        "plot_time_series(timesteps=X_test[1:], values=naive_forecast, start=offset, label=\"Naive forecast\");"
      ],
      "execution_count": 20,
      "outputs": [
        {
          "output_type": "display_data",
          "data": {
            "image/png": "[encoded data removed]",
            "text/plain": [
              "<Figure size 720x504 with 1 Axes>"
            ]
          },
          "metadata": {
            "tags": [],
            "needs_background": "light"
          }
        }
      ]
    },
    {
      "cell_type": "markdown",
      "metadata": {
        "id": "AdPsP9SwD72K"
      },
      "source": [
        "When we zoom in we see the naive forecast comes slightly after the test data. This makes sense because the naive forecast uses the previous timestep value to predict the next timestep value.\n",
        "\n",
        "TK - add image for naive forecast (previous step to predict next step) "
      ]
    },
    {
      "cell_type": "markdown",
      "metadata": {
        "id": "UdK4KoFnA90I"
      },
      "source": [
        "## TODO: Evaluating a time series model\n",
        "\n",
        "TK - this can be a function for each model (compares predictions to ground truth...)\n",
        "\n",
        "TK - metrics for evaluating time series models: https://otexts.com/fpp2/accuracy.html\n",
        "\n",
        "Scale-dependent erros (these can't be used to make comparisons between series that involve different units):\n",
        "* MAE - a forecast method that minimises the MAE will lead to forecasts of the median\n",
        "* RMSE - a forecast method that minimisies RMSE will lead to forecasts of the mean\n",
        "\n",
        "Percentage errors: \n",
        "* MAPE (mean absolute percentage error) \n",
        "* sMAPE (recommended not to be used, though it is used in forecasting competitions)\n",
        "\n",
        "Scaled errors (these are good when comparing forecasts accuracy across series with different units) - https://otexts.com/fpp2/accuracy.html#scaled-errors:\n",
        "* MASE (mean absolute scaled error) \n",
        "  * There are two kinds of MASE, one for seasonal, one for non-seasonal data\n",
        "    * \"To take a non-seasonal example, consider the Google stock price...\"\n"
      ]
    },
    {
      "cell_type": "code",
      "metadata": {
        "id": "ljaO69huYCZD"
      },
      "source": [
        "import tensorflow as tf"
      ],
      "execution_count": 21,
      "outputs": []
    },
    {
      "cell_type": "code",
      "metadata": {
        "id": "2jbLBJ_IGjla"
      },
      "source": [
        "# MASE implemented courtesy of sktime - https://github.com/alan-turing-institute/sktime/blob/ee7a06843a44f4aaec7582d847e36073a9ab0566/sktime/performance_metrics/forecasting/_functions.py#L16\n",
        "def mean_absolute_scaled_error(y_true, y_pred):\n",
        "  \"\"\"\n",
        "  Implement MASE (assuming no seasonality of data)\n",
        "  \"\"\"\n",
        "  mae = tf.reduce_mean(tf.abs(y_true - y_pred))\n",
        "  # Find MAE of naive forecast (no seasonality)\n",
        "  mae_naive_no_season = tf.reduce_mean(tf.abs(y_true[1:] - y_true[:-1]))\n",
        "  return mae / mae_naive_no_season"
      ],
      "execution_count": 22,
      "outputs": []
    },
    {
      "cell_type": "code",
      "metadata": {
        "id": "MwMeVgRXWaJp"
      },
      "source": [
        "def evaluate_preds(y_true, y_pred):\n",
        "  # Make sure float32 (for metric calculations)\n",
        "  y_true = tf.cast(y_true, dtype=tf.float32)\n",
        "  y_pred = tf.cast(y_pred, dtype=tf.float32)\n",
        "\n",
        "  # Calculate various metrics\n",
        "  mae = tf.keras.metrics.mean_absolute_error(y_true, y_pred)\n",
        "  mse = tf.keras.metrics.mean_squared_error(y_true, y_pred)\n",
        "  rmse = tf.sqrt(mse)\n",
        "  mape = tf.keras.metrics.mean_absolute_percentage_error(y_true, y_pred)\n",
        "  mase = mean_absolute_scaled_error(y_true, y_pred)\n",
        "  \n",
        "  return {\"mae\": mae.numpy(),\n",
        "          \"mse\": mse.numpy(),\n",
        "          \"rmse\": rmse.numpy(),\n",
        "          \"mape\": mape.numpy(),\n",
        "          \"mase\": mase.numpy()}"
      ],
      "execution_count": 23,
      "outputs": []
    },
    {
      "cell_type": "code",
      "metadata": {
        "colab": {
          "base_uri": "https://localhost:8080/"
        },
        "id": "HbJlsvUwYEsf",
        "outputId": "228df01f-0e20-4714-d3f3-13ec2a5f7207"
      },
      "source": [
        "naive_results = evaluate_preds(y_true=y_test[1:],\n",
        "                               y_pred=naive_forecast)\n",
        "naive_results"
      ],
      "execution_count": 24,
      "outputs": [
        {
          "output_type": "execute_result",
          "data": {
            "text/plain": [
              "{'mae': 567.9802,\n",
              " 'mape': 2.516525,\n",
              " 'mase': 0.99957,\n",
              " 'mse': 1147547.0,\n",
              " 'rmse': 1071.2362}"
            ]
          },
          "metadata": {
            "tags": []
          },
          "execution_count": 24
        }
      ]
    },
    {
      "cell_type": "markdown",
      "metadata": {
        "id": "_5kgVzdq1S1A"
      },
      "source": [
        "## TODO: Mention other kinds of models which can be used for baselines\n",
        "\n",
        "* TensorFlow Decision Forest\n",
        "* Moving average\n",
        "* Etc...\n",
        "* Focused on pure TensorFlow kinds of models"
      ]
    },
    {
      "cell_type": "code",
      "metadata": {
        "id": "o8O_uBXUx7yP"
      },
      "source": [
        ""
      ],
      "execution_count": 24,
      "outputs": []
    },
    {
      "cell_type": "code",
      "metadata": {
        "id": "VYhcUJEbwTXw"
      },
      "source": [
        ""
      ],
      "execution_count": 24,
      "outputs": []
    },
    {
      "cell_type": "code",
      "metadata": {
        "id": "w-lS1r2MPx78"
      },
      "source": [
        ""
      ],
      "execution_count": 24,
      "outputs": []
    },
    {
      "cell_type": "markdown",
      "metadata": {
        "id": "e8AzwUvjBkgY"
      },
      "source": [
        "## Windowing dataset\n",
        "\n",
        "Why do we window?\n",
        "\n",
        "TODO: We can turn our time series data into a **supervised learning problem**: use windows of the past to predict the future."
      ]
    },
    {
      "cell_type": "markdown",
      "metadata": {
        "id": "IxZ6h88QZfOs"
      },
      "source": [
        "Want:\n",
        "\n",
        "```\n",
        "# Window for a week (univariate time series)\n",
        "[0, 1, 2, 3, 4, 5, 6] -> [7]\n",
        "[1, 2, 3, 4, 5, 6, 7] -> [8]\n",
        "[2, 3, 4, 5, 6, 7, 8] -> [9]\n",
        "```"
      ]
    },
    {
      "cell_type": "code",
      "metadata": {
        "id": "LibzWQXM2ib-"
      },
      "source": [
        "HORIZON = 1 # predict 1 step at a time\n",
        "WINDOW_SIZE = 7 # use a week worth of timesteps to predict the horizon"
      ],
      "execution_count": 25,
      "outputs": []
    },
    {
      "cell_type": "code",
      "metadata": {
        "id": "zV8pv5K_x81E"
      },
      "source": [
        "# Create function to label windowed data\n",
        "def get_labelled_windows(x, horizon=1):\n",
        "  \"\"\"\n",
        "  Creates labels for windowed dataset.\n",
        "\n",
        "  E.g. if horizon=1 (default)\n",
        "  Input: [1, 2, 3, 4, 5, 6] -> Output: ([1, 2, 3, 4, 5], [6])\n",
        "  \"\"\"\n",
        "  return x[:, :-horizon], x[:, -horizon:]"
      ],
      "execution_count": 26,
      "outputs": []
    },
    {
      "cell_type": "code",
      "metadata": {
        "id": "apea0wiJyCI6"
      },
      "source": [
        "# Create function to view NumPy arrays as windows\n",
        "def make_windows(x, window_size=10, horizon=1):\n",
        "  \"\"\"\n",
        "  Turns a 1D array into a 2D array of sequential windows of window_size.\n",
        "  \"\"\"\n",
        "  # print(len(x)-1)\n",
        "  start = len(x) % window_size # account for data which doesn't fit into window, cut off at start\n",
        "  window_step = np.expand_dims(np.arange(window_size+horizon), axis=0) # create 2D array of window_size\n",
        "  # print(f\"Window step:\\n {window_step[-5:]}\")\n",
        "  window_indexes = start + window_step + np.expand_dims(np.arange(len(x)-(window_size+horizon+start-1)), axis=0).T # create 2D array of windows of size window_size\n",
        "  # print(f\"Window indexes:\\n {window_indexes[:2], window_indexes[-2:]}\")\n",
        "  windowed_array = x[window_indexes] # get the original array indexed with windows\n",
        "  windows, labels = get_labelled_windows(windowed_array, horizon=horizon)\n",
        "  return windows, labels"
      ],
      "execution_count": 27,
      "outputs": []
    },
    {
      "cell_type": "code",
      "metadata": {
        "colab": {
          "base_uri": "https://localhost:8080/"
        },
        "id": "u7Yc3V7fc1UG",
        "outputId": "59ea4283-cfc8-4871-d668-a939e4fcdce9"
      },
      "source": [
        "full_windows, full_labels = make_windows(prices, window_size=WINDOW_SIZE, horizon=HORIZON)\n",
        "len(full_windows), len(full_labels)"
      ],
      "execution_count": 28,
      "outputs": [
        {
          "output_type": "execute_result",
          "data": {
            "text/plain": [
              "(2779, 2779)"
            ]
          },
          "metadata": {
            "tags": []
          },
          "execution_count": 28
        }
      ]
    },
    {
      "cell_type": "markdown",
      "metadata": {
        "id": "kmuTc0NDYj3l"
      },
      "source": [
        "### TODO: Make train/test splits after windowing, this helps with evaluation..."
      ]
    },
    {
      "cell_type": "code",
      "metadata": {
        "id": "o_8BRgb8YtP3"
      },
      "source": [
        "# Make the train/test splits\n",
        "def make_train_test_splits(windows, labels, test_split=0.2):\n",
        "  \"\"\"\n",
        "  Splits matching pairs of windows and labels into train and test splits.\n",
        "  \"\"\"\n",
        "  split_size = int(len(windows) * (1-test_split))\n",
        "  train_windows = windows[:split_size]\n",
        "  train_labels = labels[:split_size]\n",
        "  test_windows = windows[split_size:]\n",
        "  test_labels = labels[split_size:]\n",
        "  return train_windows, test_windows, train_labels, test_labels"
      ],
      "execution_count": 29,
      "outputs": []
    },
    {
      "cell_type": "code",
      "metadata": {
        "colab": {
          "base_uri": "https://localhost:8080/"
        },
        "id": "z_xY8T7HEaoU",
        "outputId": "929d7b63-e25e-4fb0-d4cf-061eeb1fca99"
      },
      "source": [
        "train_windows, test_windows, train_labels, test_labels = make_train_test_splits(full_windows, full_labels)\n",
        "len(train_windows), len(test_windows), len(train_labels), len(test_labels)"
      ],
      "execution_count": 30,
      "outputs": [
        {
          "output_type": "execute_result",
          "data": {
            "text/plain": [
              "(2223, 556, 2223, 556)"
            ]
          },
          "metadata": {
            "tags": []
          },
          "execution_count": 30
        }
      ]
    },
    {
      "cell_type": "code",
      "metadata": {
        "colab": {
          "base_uri": "https://localhost:8080/"
        },
        "id": "DDgyT7Gix1fH",
        "outputId": "96fee61d-f919-4dd1-c57c-9963f509eab8"
      },
      "source": [
        "train_windows[:5], train_labels[:5]"
      ],
      "execution_count": 31,
      "outputs": [
        {
          "output_type": "execute_result",
          "data": {
            "text/plain": [
              "(array([[125.455  , 108.58483, 118.67466, 121.33866, 120.65533, 121.795  ,\n",
              "         123.033  ],\n",
              "        [108.58483, 118.67466, 121.33866, 120.65533, 121.795  , 123.033  ,\n",
              "         124.049  ],\n",
              "        [118.67466, 121.33866, 120.65533, 121.795  , 123.033  , 124.049  ,\n",
              "         125.96116],\n",
              "        [121.33866, 120.65533, 121.795  , 123.033  , 124.049  , 125.96116,\n",
              "         125.27966],\n",
              "        [120.65533, 121.795  , 123.033  , 124.049  , 125.96116, 125.27966,\n",
              "         125.9275 ]]), array([[124.049  ],\n",
              "        [125.96116],\n",
              "        [125.27966],\n",
              "        [125.9275 ],\n",
              "        [126.38333]]))"
            ]
          },
          "metadata": {
            "tags": []
          },
          "execution_count": 31
        }
      ]
    },
    {
      "cell_type": "markdown",
      "metadata": {
        "id": "PQX0PF5jV4aq"
      },
      "source": [
        "## TODO: Make a modelling checkpoint... \n",
        "\n",
        "We need to save our model's best performance. "
      ]
    },
    {
      "cell_type": "code",
      "metadata": {
        "id": "knBwm-bCWWk_"
      },
      "source": [
        "import os"
      ],
      "execution_count": 32,
      "outputs": []
    },
    {
      "cell_type": "code",
      "metadata": {
        "id": "Xh8i1f7rV_P2"
      },
      "source": [
        "def create_model_checkpoint(model_name, save_path=\"model_experiments\"):\n",
        "  return tf.keras.callbacks.ModelCheckpoint(filepath=os.path.join(save_path, model_name),\n",
        "                                            verbose=0,\n",
        "                                            save_best_only=True)"
      ],
      "execution_count": 33,
      "outputs": []
    },
    {
      "cell_type": "markdown",
      "metadata": {
        "id": "j5uw1AaVY-J9"
      },
      "source": [
        "## TODO: Model 1: Dense model (window = 7, horizon = 1)"
      ]
    },
    {
      "cell_type": "code",
      "metadata": {
        "id": "Fadbh94rY-WQ"
      },
      "source": [
        "import tensorflow as tf\n",
        "from tensorflow.keras import layers"
      ],
      "execution_count": 34,
      "outputs": []
    },
    {
      "cell_type": "code",
      "metadata": {
        "colab": {
          "base_uri": "https://localhost:8080/"
        },
        "id": "T3ytqCyZ3O4T",
        "outputId": "16a012fe-9729-43cf-a146-5122f1106f93"
      },
      "source": [
        "len(train_windows), len(test_windows), len(full_windows)"
      ],
      "execution_count": 35,
      "outputs": [
        {
          "output_type": "execute_result",
          "data": {
            "text/plain": [
              "(2223, 556, 2779)"
            ]
          },
          "metadata": {
            "tags": []
          },
          "execution_count": 35
        }
      ]
    },
    {
      "cell_type": "code",
      "metadata": {
        "id": "Slr5hrJHY_Ed",
        "colab": {
          "base_uri": "https://localhost:8080/"
        },
        "outputId": "8b8b4846-fe4a-497e-eec2-f3222da14941"
      },
      "source": [
        "tf.random.set_seed(42)\n",
        "\n",
        "model_1 = tf.keras.Sequential([\n",
        "  layers.Dense(128, activation=\"relu\"),\n",
        "  layers.Dense(HORIZON)                              \n",
        "], name=\"model_1_dense\")\n",
        "\n",
        "model_1.compile(loss=\"mae\",\n",
        "                optimizer=tf.keras.optimizers.Adam())\n",
        "\n",
        "model_1.fit(x=train_windows, \n",
        "            y=train_labels,\n",
        "            epochs=10,\n",
        "            verbose=1,\n",
        "            validation_data=(test_windows, test_labels),\n",
        "            callbacks=[create_model_checkpoint(model_name=model_1.name)])"
      ],
      "execution_count": 36,
      "outputs": [
        {
          "output_type": "stream",
          "text": [
            "Epoch 1/10\n",
            "70/70 [==============================] - 1s 4ms/step - loss: 365.6064 - val_loss: 1093.3888\n",
            "INFO:tensorflow:Assets written to: model_experiments/model_1_dense/assets\n",
            "Epoch 2/10\n",
            "70/70 [==============================] - 0s 2ms/step - loss: 165.6460 - val_loss: 807.2574\n",
            "INFO:tensorflow:Assets written to: model_experiments/model_1_dense/assets\n",
            "Epoch 3/10\n",
            "70/70 [==============================] - 0s 2ms/step - loss: 144.6243 - val_loss: 748.2397\n",
            "INFO:tensorflow:Assets written to: model_experiments/model_1_dense/assets\n",
            "Epoch 4/10\n",
            "70/70 [==============================] - 0s 2ms/step - loss: 136.8425 - val_loss: 741.1891\n",
            "INFO:tensorflow:Assets written to: model_experiments/model_1_dense/assets\n",
            "Epoch 5/10\n",
            "70/70 [==============================] - 0s 2ms/step - loss: 129.6421 - val_loss: 746.9255\n",
            "Epoch 6/10\n",
            "70/70 [==============================] - 0s 2ms/step - loss: 133.2969 - val_loss: 655.9176\n",
            "INFO:tensorflow:Assets written to: model_experiments/model_1_dense/assets\n",
            "Epoch 7/10\n",
            "70/70 [==============================] - 0s 2ms/step - loss: 127.1284 - val_loss: 663.9423\n",
            "Epoch 8/10\n",
            "70/70 [==============================] - 0s 2ms/step - loss: 126.4992 - val_loss: 657.6816\n",
            "Epoch 9/10\n",
            "70/70 [==============================] - 0s 2ms/step - loss: 126.9756 - val_loss: 728.3285\n",
            "Epoch 10/10\n",
            "70/70 [==============================] - 0s 2ms/step - loss: 127.2498 - val_loss: 615.8317\n",
            "INFO:tensorflow:Assets written to: model_experiments/model_1_dense/assets\n"
          ],
          "name": "stdout"
        },
        {
          "output_type": "execute_result",
          "data": {
            "text/plain": [
              "<tensorflow.python.keras.callbacks.History at 0x7fbfd568ccd0>"
            ]
          },
          "metadata": {
            "tags": []
          },
          "execution_count": 36
        }
      ]
    },
    {
      "cell_type": "code",
      "metadata": {
        "id": "N1DbcEZBY_Bt",
        "colab": {
          "base_uri": "https://localhost:8080/"
        },
        "outputId": "c7feca70-4fb0-4a3c-e3ab-034cda271e7d"
      },
      "source": [
        "# Evaluate\n",
        "model_1.evaluate(test_windows, test_labels)"
      ],
      "execution_count": 37,
      "outputs": [
        {
          "output_type": "stream",
          "text": [
            "18/18 [==============================] - 0s 1ms/step - loss: 615.8317\n"
          ],
          "name": "stdout"
        },
        {
          "output_type": "execute_result",
          "data": {
            "text/plain": [
              "615.8316650390625"
            ]
          },
          "metadata": {
            "tags": []
          },
          "execution_count": 37
        }
      ]
    },
    {
      "cell_type": "code",
      "metadata": {
        "colab": {
          "base_uri": "https://localhost:8080/"
        },
        "id": "FXey-AX-XZPK",
        "outputId": "ebf452d3-0513-4143-ac1c-63f36e9076fb"
      },
      "source": [
        "model_1 = tf.keras.models.load_model(\"model_experiments/model_1_dense\")\n",
        "model_1.evaluate(test_windows, test_labels)"
      ],
      "execution_count": 38,
      "outputs": [
        {
          "output_type": "stream",
          "text": [
            "18/18 [==============================] - 0s 1ms/step - loss: 615.8317\n"
          ],
          "name": "stdout"
        },
        {
          "output_type": "execute_result",
          "data": {
            "text/plain": [
              "615.8316650390625"
            ]
          },
          "metadata": {
            "tags": []
          },
          "execution_count": 38
        }
      ]
    },
    {
      "cell_type": "markdown",
      "metadata": {
        "id": "-HfeTX5KhYin"
      },
      "source": [
        "### TODO: Making forecasts with a model\n",
        "\n",
        "* We could make forecasts on the test windows, however this would end up in less prediction values than in the `y_test`\n",
        "* Instead, we're going to make predictions on the full dataset windows "
      ]
    },
    {
      "cell_type": "code",
      "metadata": {
        "id": "hZrExWzyh3ur"
      },
      "source": [
        "def make_forecast(model, input_data):\n",
        "  \"\"\"\n",
        "  Uses model to make forecasts on input_data.\n",
        "\n",
        "  Input_data must be windowed version of whole dataset, otherwise forecasts won't match size of y_test.\n",
        "\n",
        "  Parameters\n",
        "  ----------\n",
        "  model: trained model \n",
        "  input_data: windowed input data (same kind of data model was trained on)\n",
        "\n",
        "  Returns model forecast on input_data from split_size-window_size onwards.\n",
        "  \"\"\"\n",
        "  forecast = model.predict(input_data)\n",
        "  return tf.squeeze(forecast) # return 1D array of predictions "
      ],
      "execution_count": 39,
      "outputs": []
    },
    {
      "cell_type": "code",
      "metadata": {
        "colab": {
          "base_uri": "https://localhost:8080/"
        },
        "id": "ND4uFaYdy463",
        "outputId": "f9491d04-0413-4d46-cd54-0860745642f8"
      },
      "source": [
        "model_1_preds = tf.squeeze(model_1.predict(test_windows))\n",
        "len(model_1_preds)"
      ],
      "execution_count": 40,
      "outputs": [
        {
          "output_type": "execute_result",
          "data": {
            "text/plain": [
              "556"
            ]
          },
          "metadata": {
            "tags": []
          },
          "execution_count": 40
        }
      ]
    },
    {
      "cell_type": "code",
      "metadata": {
        "colab": {
          "base_uri": "https://localhost:8080/"
        },
        "id": "gACmlubfdL8q",
        "outputId": "e94d4784-9cfd-479c-f433-00eae3458570"
      },
      "source": [
        "model_1_preds[:10]"
      ],
      "execution_count": 41,
      "outputs": [
        {
          "output_type": "execute_result",
          "data": {
            "text/plain": [
              "<tf.Tensor: shape=(10,), dtype=float32, numpy=\n",
              "array([8984.943 , 8822.456 , 8953.9795, 8796.486 , 8755.492 , 8772.864 ,\n",
              "       8692.16  , 8542.487 , 8504.595 , 8503.341 ], dtype=float32)>"
            ]
          },
          "metadata": {
            "tags": []
          },
          "execution_count": 41
        }
      ]
    },
    {
      "cell_type": "code",
      "metadata": {
        "colab": {
          "base_uri": "https://localhost:8080/"
        },
        "id": "eHak7Jqd9aXv",
        "outputId": "891d2abc-6ab9-47e1-f1f8-a6607e742877"
      },
      "source": [
        "# Evaluate preds\n",
        "model_1_results = evaluate_preds(y_true=tf.squeeze(test_labels), # reduce to right shape\n",
        "                                 y_pred=model_1_preds)\n",
        "model_1_results"
      ],
      "execution_count": 42,
      "outputs": [
        {
          "output_type": "execute_result",
          "data": {
            "text/plain": [
              "{'mae': 615.8316,\n",
              " 'mape': 2.7535346,\n",
              " 'mase': 1.0818455,\n",
              " 'mse': 1320297.5,\n",
              " 'rmse': 1149.042}"
            ]
          },
          "metadata": {
            "tags": []
          },
          "execution_count": 42
        }
      ]
    },
    {
      "cell_type": "code",
      "metadata": {
        "colab": {
          "base_uri": "https://localhost:8080/",
          "height": 442
        },
        "id": "Wgxoqg_tIhFJ",
        "outputId": "e2a22d8c-1762-4973-de91-bed5f4ec5f66"
      },
      "source": [
        "offset = 300\n",
        "plt.figure(figsize=(10, 7))\n",
        "# Account for the test_window offset and index into test_labels to ensure correct plotting\n",
        "plot_time_series(timesteps=X_test[-len(test_windows):], values=test_labels[:, 0], format=\".\", start=offset, label=\"Test_data\")\n",
        "plot_time_series(timesteps=X_test[-len(test_windows):], values=model_1_preds, start=offset, label=\"model_1_preds\")"
      ],
      "execution_count": 43,
      "outputs": [
        {
          "output_type": "display_data",
          "data": {
            "image/png": "[encoded data removed]",
            "text/plain": [
              "<Figure size 720x504 with 1 Axes>"
            ]
          },
          "metadata": {
            "tags": [],
            "needs_background": "light"
          }
        }
      ]
    },
    {
      "cell_type": "markdown",
      "metadata": {
        "id": "fr18ffVq4i6m"
      },
      "source": [
        "## TODO: Model 2: Dense (window = 30, horizon = 1)\n",
        "\n",
        "Same model as model 1 except with different data.\n",
        "\n",
        "TK - What happens if we make a larger window & horizon?\n",
        "\n",
        "* TK - Window & horizon values are values you can tune..."
      ]
    },
    {
      "cell_type": "code",
      "metadata": {
        "id": "Vz0eMi7F4wpn"
      },
      "source": [
        "HORIZON = 1 # predict one step at a time\n",
        "WINDOW_SIZE = 30 # use 30 timesteps in the past"
      ],
      "execution_count": 44,
      "outputs": []
    },
    {
      "cell_type": "code",
      "metadata": {
        "colab": {
          "base_uri": "https://localhost:8080/"
        },
        "id": "1HlYaAxr6UoC",
        "outputId": "a67dec11-b857-4c92-a0ef-59f4b2733e9b"
      },
      "source": [
        "# Make windowed data with appropriate horizon and window sizes\n",
        "full_windows, full_labels = make_windows(prices, window_size=WINDOW_SIZE, horizon=HORIZON)\n",
        "len(full_windows), len(full_labels)"
      ],
      "execution_count": 45,
      "outputs": [
        {
          "output_type": "execute_result",
          "data": {
            "text/plain": [
              "(2730, 2730)"
            ]
          },
          "metadata": {
            "tags": []
          },
          "execution_count": 45
        }
      ]
    },
    {
      "cell_type": "code",
      "metadata": {
        "colab": {
          "base_uri": "https://localhost:8080/"
        },
        "id": "jWxYZtOuelzO",
        "outputId": "2da3273e-e794-489c-f121-5db5418a5282"
      },
      "source": [
        "# Make train and testing windows\n",
        "train_windows, test_windows, train_labels, test_labels = make_train_test_splits(windows=full_windows, labels=full_labels)\n",
        "len(train_windows), len(test_windows), len(train_labels), len(test_labels)"
      ],
      "execution_count": 46,
      "outputs": [
        {
          "output_type": "execute_result",
          "data": {
            "text/plain": [
              "(2184, 546, 2184, 546)"
            ]
          },
          "metadata": {
            "tags": []
          },
          "execution_count": 46
        }
      ]
    },
    {
      "cell_type": "code",
      "metadata": {
        "colab": {
          "base_uri": "https://localhost:8080/"
        },
        "id": "b_oz5aJE6UwN",
        "outputId": "84e105f6-45d9-4e0e-8df4-1ba8c53b9b4f"
      },
      "source": [
        "# Create model (same model as model 1 but data input will be different)\n",
        "model_2 = tf.keras.Sequential([\n",
        "  layers.Dense(128, activation=\"relu\"),\n",
        "  layers.Dense(HORIZON) # need to predict horizon number of steps into the future\n",
        "], name=\"model_2_dense\")\n",
        "\n",
        "model_2.compile(loss=\"mae\",\n",
        "                optimizer=tf.keras.optimizers.Adam())\n",
        "\n",
        "model_2.fit(train_windows,\n",
        "            train_labels,\n",
        "            epochs=10,\n",
        "            validation_data=(test_windows, test_labels),\n",
        "            callbacks=[create_model_checkpoint(model_name=model_2.name)])"
      ],
      "execution_count": 47,
      "outputs": [
        {
          "output_type": "stream",
          "text": [
            "Epoch 1/10\n",
            "69/69 [==============================] - 1s 3ms/step - loss: 580.0876 - val_loss: 1285.6443\n",
            "INFO:tensorflow:Assets written to: model_experiments/model_2_dense/assets\n",
            "Epoch 2/10\n",
            "69/69 [==============================] - 0s 2ms/step - loss: 253.1950 - val_loss: 1134.7875\n",
            "INFO:tensorflow:Assets written to: model_experiments/model_2_dense/assets\n",
            "Epoch 3/10\n",
            "69/69 [==============================] - 0s 2ms/step - loss: 207.5340 - val_loss: 1177.5903\n",
            "Epoch 4/10\n",
            "69/69 [==============================] - 0s 2ms/step - loss: 195.5561 - val_loss: 1212.7874\n",
            "Epoch 5/10\n",
            "69/69 [==============================] - 0s 2ms/step - loss: 177.2713 - val_loss: 866.0209\n",
            "INFO:tensorflow:Assets written to: model_experiments/model_2_dense/assets\n",
            "Epoch 6/10\n",
            "69/69 [==============================] - 0s 2ms/step - loss: 177.3425 - val_loss: 951.2717\n",
            "Epoch 7/10\n",
            "69/69 [==============================] - 0s 2ms/step - loss: 182.3657 - val_loss: 964.1744\n",
            "Epoch 8/10\n",
            "69/69 [==============================] - 0s 2ms/step - loss: 154.5594 - val_loss: 882.1995\n",
            "Epoch 9/10\n",
            "69/69 [==============================] - 0s 2ms/step - loss: 161.5562 - val_loss: 1489.4443\n",
            "Epoch 10/10\n",
            "69/69 [==============================] - 0s 2ms/step - loss: 197.6024 - val_loss: 762.0138\n",
            "INFO:tensorflow:Assets written to: model_experiments/model_2_dense/assets\n"
          ],
          "name": "stdout"
        },
        {
          "output_type": "execute_result",
          "data": {
            "text/plain": [
              "<tensorflow.python.keras.callbacks.History at 0x7fbfd0d20d10>"
            ]
          },
          "metadata": {
            "tags": []
          },
          "execution_count": 47
        }
      ]
    },
    {
      "cell_type": "code",
      "metadata": {
        "id": "W42Fa-aO8rhg",
        "colab": {
          "base_uri": "https://localhost:8080/"
        },
        "outputId": "854d2d79-cb78-4332-bdf6-634601d81b33"
      },
      "source": [
        "# Evaluate model 2 preds\n",
        "model_2.evaluate(test_windows, test_labels)"
      ],
      "execution_count": 48,
      "outputs": [
        {
          "output_type": "stream",
          "text": [
            "18/18 [==============================] - 0s 1ms/step - loss: 762.0138\n"
          ],
          "name": "stdout"
        },
        {
          "output_type": "execute_result",
          "data": {
            "text/plain": [
              "762.0137939453125"
            ]
          },
          "metadata": {
            "tags": []
          },
          "execution_count": 48
        }
      ]
    },
    {
      "cell_type": "code",
      "metadata": {
        "colab": {
          "base_uri": "https://localhost:8080/"
        },
        "id": "c_hG89F5YV4i",
        "outputId": "e7a9a94f-67ae-457d-cd5a-bcbc408eceb3"
      },
      "source": [
        "# Load in best performing model\n",
        "model_2 = tf.keras.models.load_model(\"model_experiments/model_2_dense/\")\n",
        "model_2.evaluate(test_windows, test_labels)"
      ],
      "execution_count": 49,
      "outputs": [
        {
          "output_type": "stream",
          "text": [
            "18/18 [==============================] - 0s 1ms/step - loss: 762.0138\n"
          ],
          "name": "stdout"
        },
        {
          "output_type": "execute_result",
          "data": {
            "text/plain": [
              "762.0137939453125"
            ]
          },
          "metadata": {
            "tags": []
          },
          "execution_count": 49
        }
      ]
    },
    {
      "cell_type": "code",
      "metadata": {
        "id": "TPfvPgkUknY5"
      },
      "source": [
        "# Get forecast predictions\n",
        "model_2_preds = make_forecast(model_2,\n",
        "                              input_data=test_windows)"
      ],
      "execution_count": 50,
      "outputs": []
    },
    {
      "cell_type": "code",
      "metadata": {
        "colab": {
          "base_uri": "https://localhost:8080/"
        },
        "id": "dy7XZx7FllHX",
        "outputId": "213f8d01-01a7-4f17-9d82-a99b65c63d43"
      },
      "source": [
        "# Evaluate results for model 2 predictions\n",
        "model_2_results = evaluate_preds(y_true=tf.squeeze(test_labels), # remove 1 dimension of test labels\n",
        "                                 y_pred=model_2_preds)\n",
        "model_2_results"
      ],
      "execution_count": 51,
      "outputs": [
        {
          "output_type": "execute_result",
          "data": {
            "text/plain": [
              "{'mae': 762.0139,\n",
              " 'mape': 3.3568778,\n",
              " 'mase': 1.3207175,\n",
              " 'mse': 1829010.1,\n",
              " 'rmse': 1352.409}"
            ]
          },
          "metadata": {
            "tags": []
          },
          "execution_count": 51
        }
      ]
    },
    {
      "cell_type": "code",
      "metadata": {
        "colab": {
          "base_uri": "https://localhost:8080/",
          "height": 442
        },
        "id": "jHh_qtXflx7Z",
        "outputId": "f8d6d47a-9a50-4705-998b-76efb1ca643b"
      },
      "source": [
        "offset = 300\n",
        "plt.figure(figsize=(10, 7))\n",
        "\n",
        "# Account for the test_window offset\n",
        "plot_time_series(timesteps=X_test[-len(test_windows):], values=test_labels[:, 0], start=offset, label=\"test_data\")\n",
        "plot_time_series(timesteps=X_test[-len(test_windows):], values=model_2_preds, start=offset, label=\"model_2_preds\") "
      ],
      "execution_count": 52,
      "outputs": [
        {
          "output_type": "display_data",
          "data": {
            "image/png": "[encoded data removed]",
            "text/plain": [
              "<Figure size 720x504 with 1 Axes>"
            ]
          },
          "metadata": {
            "tags": [],
            "needs_background": "light"
          }
        }
      ]
    },
    {
      "cell_type": "markdown",
      "metadata": {
        "id": "Sls7mUaq9lMl"
      },
      "source": [
        "### Model 3: Dense (window = 30, horizon = 7)\n",
        "\n",
        "Let's try and predict 7 days ahead given the previous 30 days.\n",
        "\n",
        "* -> How does a larger window effect a smaller horizon?\n",
        "* -> Model 1: horizon=1, window=7\n",
        "* -> Model 2: horizon=1, window=30\n",
        "* -> Model 3: horizon=7, window=30"
      ]
    },
    {
      "cell_type": "code",
      "metadata": {
        "colab": {
          "base_uri": "https://localhost:8080/"
        },
        "id": "8PtmayTM98Mb",
        "outputId": "4ae5a061-c309-4ba6-d40c-ccd76a5e0d53"
      },
      "source": [
        "HORIZON = 7\n",
        "WINDOW_SIZE = 30\n",
        "\n",
        "full_windows, full_labels = make_windows(prices, window_size=WINDOW_SIZE, horizon=HORIZON)\n",
        "len(full_windows), len(full_labels)"
      ],
      "execution_count": 53,
      "outputs": [
        {
          "output_type": "execute_result",
          "data": {
            "text/plain": [
              "(2724, 2724)"
            ]
          },
          "metadata": {
            "tags": []
          },
          "execution_count": 53
        }
      ]
    },
    {
      "cell_type": "code",
      "metadata": {
        "colab": {
          "base_uri": "https://localhost:8080/"
        },
        "id": "E8xgoKunZ__e",
        "outputId": "5909828a-5863-40a8-97ee-af18f385264e"
      },
      "source": [
        "train_windows, test_windows, train_labels, test_labels = make_train_test_splits(windows=full_windows, labels=full_labels, test_split=0.2)\n",
        "len(train_windows), len(test_windows), len(train_labels), len(test_labels)"
      ],
      "execution_count": 54,
      "outputs": [
        {
          "output_type": "execute_result",
          "data": {
            "text/plain": [
              "(2179, 545, 2179, 545)"
            ]
          },
          "metadata": {
            "tags": []
          },
          "execution_count": 54
        }
      ]
    },
    {
      "cell_type": "code",
      "metadata": {
        "colab": {
          "base_uri": "https://localhost:8080/"
        },
        "id": "hxHh7xS2-CoH",
        "outputId": "a1d3416b-2eac-4017-ce63-0941a023300c"
      },
      "source": [
        "# Create model (same as model_1 except with different data input size)\n",
        "model_3 = tf.keras.Sequential([\n",
        "  layers.Dense(128, activation=\"relu\"),\n",
        "  layers.Dense(HORIZON)\n",
        "], name=\"model_3_dense\")\n",
        "\n",
        "model_3.compile(loss=\"mae\",\n",
        "                optimizer=tf.keras.optimizers.Adam())\n",
        "\n",
        "model_3.fit(train_windows,\n",
        "            train_labels,\n",
        "            epochs=10,\n",
        "            validation_data=(test_windows, test_labels),\n",
        "            callbacks=[create_model_checkpoint(model_name=model_3.name)])"
      ],
      "execution_count": 55,
      "outputs": [
        {
          "output_type": "stream",
          "text": [
            "Epoch 1/10\n",
            "69/69 [==============================] - 1s 3ms/step - loss: 636.6586 - val_loss: 2143.2146\n",
            "INFO:tensorflow:Assets written to: model_experiments/model_3_dense/assets\n",
            "Epoch 2/10\n",
            "69/69 [==============================] - 0s 2ms/step - loss: 341.6805 - val_loss: 1756.2781\n",
            "INFO:tensorflow:Assets written to: model_experiments/model_3_dense/assets\n",
            "Epoch 3/10\n",
            "69/69 [==============================] - 0s 2ms/step - loss: 295.6740 - val_loss: 1600.8671\n",
            "INFO:tensorflow:Assets written to: model_experiments/model_3_dense/assets\n",
            "Epoch 4/10\n",
            "69/69 [==============================] - 0s 2ms/step - loss: 286.8115 - val_loss: 1572.6079\n",
            "INFO:tensorflow:Assets written to: model_experiments/model_3_dense/assets\n",
            "Epoch 5/10\n",
            "69/69 [==============================] - 0s 2ms/step - loss: 278.2675 - val_loss: 1823.4644\n",
            "Epoch 6/10\n",
            "69/69 [==============================] - 0s 2ms/step - loss: 267.6548 - val_loss: 1679.8374\n",
            "Epoch 7/10\n",
            "69/69 [==============================] - 0s 2ms/step - loss: 269.7374 - val_loss: 1500.4777\n",
            "INFO:tensorflow:Assets written to: model_experiments/model_3_dense/assets\n",
            "Epoch 8/10\n",
            "69/69 [==============================] - 0s 2ms/step - loss: 272.9373 - val_loss: 1475.3101\n",
            "INFO:tensorflow:Assets written to: model_experiments/model_3_dense/assets\n",
            "Epoch 9/10\n",
            "69/69 [==============================] - 0s 2ms/step - loss: 269.0825 - val_loss: 1465.8914\n",
            "INFO:tensorflow:Assets written to: model_experiments/model_3_dense/assets\n",
            "Epoch 10/10\n",
            "69/69 [==============================] - 0s 2ms/step - loss: 262.6721 - val_loss: 1751.6196\n"
          ],
          "name": "stdout"
        },
        {
          "output_type": "execute_result",
          "data": {
            "text/plain": [
              "<tensorflow.python.keras.callbacks.History at 0x7fbfcf2a4190>"
            ]
          },
          "metadata": {
            "tags": []
          },
          "execution_count": 55
        }
      ]
    },
    {
      "cell_type": "code",
      "metadata": {
        "colab": {
          "base_uri": "https://localhost:8080/"
        },
        "id": "Pd-8pbfh-DDI",
        "outputId": "c6d45182-b126-477d-8167-52c1e4e24be0"
      },
      "source": [
        "model_3.evaluate(test_windows, test_labels)"
      ],
      "execution_count": 56,
      "outputs": [
        {
          "output_type": "stream",
          "text": [
            "18/18 [==============================] - 0s 1ms/step - loss: 1751.6196\n"
          ],
          "name": "stdout"
        },
        {
          "output_type": "execute_result",
          "data": {
            "text/plain": [
              "1751.61962890625"
            ]
          },
          "metadata": {
            "tags": []
          },
          "execution_count": 56
        }
      ]
    },
    {
      "cell_type": "markdown",
      "metadata": {
        "id": "q--5dtgITJbc"
      },
      "source": [
        "TODO: The error will be higher because we're predicting 7 steps at a time... the further you try and predict, the larger your error will be (think of trying to predict the weather 7 days out...)."
      ]
    },
    {
      "cell_type": "code",
      "metadata": {
        "id": "uKBNVovRpvhd",
        "colab": {
          "base_uri": "https://localhost:8080/"
        },
        "outputId": "79af63d2-3b16-49fc-8e88-8e47fa7ff9bc"
      },
      "source": [
        "# The predictions are going to be 7 steps at a time (this is the HORIZON size)\n",
        "model_3_preds = make_forecast(model_3,\n",
        "                              input_data=test_windows)\n",
        "model_3_preds[:5]"
      ],
      "execution_count": 57,
      "outputs": [
        {
          "output_type": "execute_result",
          "data": {
            "text/plain": [
              "<tf.Tensor: shape=(5, 7), dtype=float32, numpy=\n",
              "array([[8115.3403, 8008.609 , 8558.449 , 8604.078 , 8982.618 , 8431.953 ,\n",
              "        8603.225 ],\n",
              "       [7843.2344, 8078.9053, 8420.284 , 8298.903 , 8666.484 , 8098.308 ,\n",
              "        8135.736 ],\n",
              "       [7579.9556, 7937.1143, 8297.006 , 8184.2534, 8382.736 , 8262.38  ,\n",
              "        8188.8057],\n",
              "       [7656.1943, 7999.2017, 8181.269 , 8197.599 , 8071.4224, 8532.818 ,\n",
              "        8066.277 ],\n",
              "       [7897.5903, 8150.471 , 8228.563 , 8181.406 , 8004.2617, 8416.353 ,\n",
              "        7740.5923]], dtype=float32)>"
            ]
          },
          "metadata": {
            "tags": []
          },
          "execution_count": 57
        }
      ]
    },
    {
      "cell_type": "code",
      "metadata": {
        "colab": {
          "base_uri": "https://localhost:8080/"
        },
        "id": "P9VQqenW-5to",
        "outputId": "eccd2eac-5fd5-41f6-e8c7-7d3c90393d4a"
      },
      "source": [
        "# Calculate model_3 results - these are going to be multi-dimensional because\n",
        "# we're trying to predict more than one step at a time.\n",
        "model_3_results = evaluate_preds(y_true=tf.squeeze(test_labels),\n",
        "                                 y_pred=model_3_preds)\n",
        "model_3_results"
      ],
      "execution_count": 58,
      "outputs": [
        {
          "output_type": "execute_result",
          "data": {
            "text/plain": [
              "{'mae': array([ 401.17844,  336.05322,  504.3889 ,  537.93524,  516.6488 ,\n",
              "         637.1939 ,  679.31903,  526.85583,  380.38422,  253.10603,\n",
              "         324.54227,  558.01404,  609.57477,  696.54626,  563.25574,\n",
              "         476.56967,  354.81717,  318.3387 ,  306.75955,  287.29282,\n",
              "         339.45474,  421.56326,  309.28342,  278.90317,  248.31383,\n",
              "         184.14432,  217.41685,  285.02496,  353.8911 ,  293.52887,\n",
              "         252.44768,  286.68668,  208.42982,  356.57602,  699.70056,\n",
              "         488.76437,  460.1275 ,  422.6722 ,  321.0752 ,  342.52832,\n",
              "         357.36313,  333.3692 ,  364.18527,  332.65756,  350.39078,\n",
              "         282.2353 ,  217.4548 ,  350.65005,  477.6072 ,  637.0805 ,\n",
              "         809.3465 ,  809.2869 ,  923.7789 ,  925.3898 ,  867.5352 ,\n",
              "         842.54114,  741.4816 ,  800.85114,  822.3585 ,  931.8454 ,\n",
              "         854.0572 ,  856.96436,  757.2218 ,  504.4232 ,  342.84494,\n",
              "         247.92334,  220.03725,  273.73883,  340.61084,  238.71791,\n",
              "         313.09674,  518.4588 ,  784.31195, 1065.285  , 1140.9769 ,\n",
              "        1147.7556 ,  933.1176 ,  677.49677,  524.00433,  542.39355,\n",
              "         500.4089 ,  576.3019 ,  807.0868 ,  974.523  ,  889.86847,\n",
              "         955.2659 ,  961.7129 ,  815.3496 ,  599.96765,  597.9478 ,\n",
              "         494.28207,  357.667  ,  387.76492,  405.93457,  316.93024,\n",
              "         289.773  ,  273.50473,  202.21819,  353.6172 ,  520.31903,\n",
              "         570.1507 ,  659.1645 ,  768.1468 ,  617.13477,  447.51578,\n",
              "         358.0445 ,  229.73305,  303.82172,  531.11884,  615.9665 ,\n",
              "         625.6641 ,  601.2293 ,  641.31396,  908.0225 , 1223.4994 ,\n",
              "        1571.9805 , 1790.193  , 2123.6423 , 2253.2239 , 2318.5725 ,\n",
              "        1345.2751 ,  610.4827 ,  251.51457,  524.83234, 1012.7684 ,\n",
              "        1201.9261 , 1416.7726 , 1143.8284 ,  977.4751 ,  803.939  ,\n",
              "         746.9889 ,  692.2093 ,  489.81412,  333.65952,  329.59604,\n",
              "         266.17642,  423.33267,  737.94934,  894.2928 ,  773.66876,\n",
              "         620.17566,  552.97064,  599.1372 ,  423.7604 ,  444.19174,\n",
              "         387.77045,  266.12338,  280.18353,  312.61215,  184.9677 ,\n",
              "         200.2952 ,  371.3616 ,  469.95193,  374.8921 ,  510.81223,\n",
              "         518.2485 ,  470.79547,  373.87164,  500.26437,  680.7845 ,\n",
              "         784.8393 ,  970.665  , 1038.9646 , 1068.624  , 1207.6641 ,\n",
              "        1460.9713 , 1446.5706 , 1508.2975 , 1215.8887 , 1025.8289 ,\n",
              "         937.0088 ,  817.0007 ,  767.3034 ,  664.5624 ,  674.80566,\n",
              "         657.6056 ,  562.5929 ,  442.91714,  322.38797,  193.68053,\n",
              "         569.9999 ,  893.2895 ,  844.57745,  437.24985,  378.35825,\n",
              "         490.8054 ,  352.30453,  301.8937 ,  262.9273 ,  274.6935 ,\n",
              "         340.38016,  246.37752,  306.9272 ,  503.08176,  837.7313 ,\n",
              "        1230.5365 , 1255.1495 ,  959.9202 ,  791.2335 ,  589.09265,\n",
              "         673.6528 ,  386.90067,  439.2221 ,  418.7041 ,  319.93735,\n",
              "         413.49594,  408.4894 ,  364.30582,  317.07047,  240.012  ,\n",
              "         196.97488,  243.42049,  274.8934 ,  271.27133,  262.9873 ,\n",
              "         298.54465,  380.74847,  331.0996 ,  391.46136,  417.39398,\n",
              "         440.99316,  543.3379 ,  298.39313,  232.83273,  193.3411 ,\n",
              "         225.21596,  245.27762,  361.85254,  449.51004,  408.8616 ,\n",
              "         375.49023,  375.26352,  472.9121 ,  530.2832 ,  524.9654 ,\n",
              "         571.445  ,  499.61523,  462.4605 ,  241.86719,  306.84848,\n",
              "         358.32742,  359.21664,  364.00906,  318.45004,  293.16324,\n",
              "         343.91266,  475.28516,  553.77594,  641.8591 ,  780.671  ,\n",
              "        1057.7501 , 1166.9951 , 1295.6094 , 1440.7384 , 1623.6195 ,\n",
              "        1883.9713 , 1919.9178 , 1405.1143 , 1156.5499 ,  838.4067 ,\n",
              "         788.7907 ,  683.59375,  412.01144,  501.13492,  595.4661 ,\n",
              "         636.1403 ,  504.5152 ,  437.06097,  412.4478 ,  476.65582,\n",
              "         440.63657,  414.16336,  628.21387,  584.5536 ,  635.9132 ,\n",
              "         588.3135 ,  600.38116,  587.4855 ,  290.44504,  242.7924 ,\n",
              "         284.0565 ,  311.5561 ,  343.50363,  365.53305,  364.56934,\n",
              "         299.1077 ,  565.7256 ,  544.9022 ,  656.36707,  658.6088 ,\n",
              "         747.07043,  843.0827 ,  955.91156,  969.26855,  829.46136,\n",
              "         671.2874 ,  336.21722,  242.92537,  457.40668,  477.48187,\n",
              "         733.9933 ,  919.2994 , 1034.1599 , 1062.3588 , 1019.69586,\n",
              "        1073.1208 ,  866.6839 ,  584.3672 ,  391.6091 ,  375.0244 ,\n",
              "         382.11664,  343.41183,  313.84933,  386.54086,  370.708  ,\n",
              "         545.6964 ,  547.7712 ,  474.19223,  440.3552 ,  386.52203,\n",
              "         348.9272 ,  285.58203,  284.45215,  361.46695,  392.1984 ,\n",
              "         598.66376,  801.2792 ,  894.8789 , 1068.0869 , 1190.108  ,\n",
              "        1196.4524 , 1115.6104 ,  798.9821 ,  689.42645,  501.4188 ,\n",
              "         521.52277,  762.255  ,  944.0618 , 1207.5463 , 1475.2198 ,\n",
              "        1689.5427 , 1773.0725 , 1850.6543 , 1416.4154 , 1130.641  ,\n",
              "         962.9647 ,  868.34485,  909.422  ,  865.63934,  633.96387,\n",
              "         804.22864, 1060.9374 , 1258.5629 , 1332.406  , 1572.1589 ,\n",
              "        1695.2572 , 1887.6221 , 1906.2336 , 1426.9008 , 1103.16   ,\n",
              "        1287.0764 , 1163.928  , 1363.8392 , 1632.3518 , 1635.2703 ,\n",
              "        1564.3445 , 1720.9884 , 2047.1486 , 2584.9265 , 2538.3125 ,\n",
              "        2270.7073 , 1994.9596 , 1434.1875 , 1033.4119 ,  834.74524,\n",
              "         881.329  , 1039.9503 ,  918.2349 ,  548.82477,  813.6423 ,\n",
              "        1515.0295 , 1879.2673 , 2033.7726 , 1513.0408 , 1172.762  ,\n",
              "         919.33563,  510.58817,  576.49414,  649.16296,  523.00586,\n",
              "         584.048  ,  553.1429 , 1109.2908 , 2158.35   , 3128.8418 ,\n",
              "        3693.2537 , 4166.3525 , 4476.6543 , 4603.052  , 3878.1145 ,\n",
              "        3077.1267 , 2557.4817 , 2073.2427 , 1954.5966 , 2199.4312 ,\n",
              "        2672.7952 , 3371.75   , 4053.5093 , 4434.898  , 4487.9453 ,\n",
              "        4885.4243 , 4748.261  , 5439.613  , 5605.3306 , 6106.395  ,\n",
              "        7023.848  , 6879.982  , 6538.757  , 6772.5347 , 6038.5015 ,\n",
              "        4904.013  , 3333.3225 , 2044.9135 , 2103.0278 , 2361.0325 ,\n",
              "        1405.4408 , 1635.8197 , 1226.4252 , 1493.0586 , 2074.2283 ,\n",
              "        2769.1155 , 2976.471  , 2658.0076 , 2675.7805 , 2548.65   ,\n",
              "        1426.2637 , 1396.1749 , 1623.0104 , 1994.858  , 2635.8684 ,\n",
              "        4292.794  , 6163.1196 , 5134.6606 , 4740.318  , 4619.4614 ,\n",
              "        4729.8335 , 6827.2925 , 8020.867  , 7653.2837 , 8052.121  ,\n",
              "        8911.195  , 8931.934  , 9637.266  , 7832.3306 , 5580.707  ,\n",
              "        5511.7075 , 4622.4204 , 4669.8345 , 5031.4126 , 4962.6006 ,\n",
              "        6176.562  , 5867.149  , 4223.322  , 4150.6367 , 4166.1685 ,\n",
              "        5250.591  , 6109.4673 , 5981.336  , 4575.268  , 3055.904  ,\n",
              "        1319.7645 , 1648.0006 , 2498.0474 , 5328.36   , 5303.9595 ,\n",
              "        5909.863  , 5750.3125 , 7023.6367 , 7375.856  , 8516.237  ,\n",
              "        9233.307  , 9641.2705 , 8200.254  , 7419.737  , 6204.29   ,\n",
              "        4808.9097 , 3126.5742 , 1007.5028 , 1469.0692 , 3121.4514 ,\n",
              "        2982.866  , 4423.251  , 4177.722  , 3278.0066 , 2087.125  ,\n",
              "        1983.4727 , 1596.7656 , 3241.039  , 4826.175  , 5699.8335 ,\n",
              "        5620.52   , 5990.511  , 5319.7065 , 5035.685  , 3620.4153 ,\n",
              "        2542.3242 , 2206.9927 , 2341.7505 , 1886.9738 , 2335.4426 ,\n",
              "        3990.3494 , 5255.927  , 5570.0464 , 6605.1084 , 5841.4346 ,\n",
              "        3925.4978 , 4052.1484 , 3601.4548 , 4278.513  , 5189.974  ,\n",
              "        6049.9946 , 6029.132  , 5448.1343 , 4903.3247 , 3516.0725 ,\n",
              "        1935.0675 , 1790.7533 , 3417.8738 , 5260.068  , 7820.652  ,\n",
              "        7458.0464 , 5762.3423 , 5316.534  , 5527.3257 , 4483.8633 ,\n",
              "        3320.6003 , 3402.7036 , 3082.7427 , 4253.0894 , 3315.4214 ,\n",
              "        3765.2544 , 3838.619  , 4451.1616 , 6157.141  , 6868.8193 ],\n",
              "       dtype=float32),\n",
              " 'mape': array([ 4.8215528,  4.108416 ,  6.36567  ,  7.014395 ,  6.9866285,\n",
              "         8.661973 ,  9.347298 ,  7.3120975,  5.2775035,  3.4642107,\n",
              "         4.399487 ,  7.5146923,  8.181442 ,  9.306555 ,  7.537304 ,\n",
              "         6.3427544,  4.757246 ,  4.2871923,  4.140028 ,  3.883401 ,\n",
              "         4.5849185,  5.6530604,  4.1318383,  3.7372203,  3.3464963,\n",
              "         2.5421968,  3.0389304,  4.085997 ,  5.076947 ,  4.2122674,\n",
              "         3.6511905,  4.1044507,  2.9203851,  4.944087 ,  9.627569 ,\n",
              "         6.789709 ,  6.3862205,  5.8386974,  4.444199 ,  4.721955 ,\n",
              "         4.918146 ,  4.6008554,  5.0291376,  4.5867186,  4.81736  ,\n",
              "         3.8627353,  2.9935262,  4.783209 ,  6.300048 ,  8.322745 ,\n",
              "        10.507449 , 10.335611 , 11.7134075, 11.565226 , 10.754423 ,\n",
              "        10.246883 ,  8.823427 ,  9.455758 ,  9.532161 , 10.7182865,\n",
              "         9.766762 ,  9.748403 ,  8.617635 ,  5.741835 ,  3.878985 ,\n",
              "         2.825178 ,  2.578342 ,  3.209    ,  3.9606743,  2.7402093,\n",
              "         3.5267107,  5.734635 ,  8.618551 , 11.5949955, 12.27185  ,\n",
              "        12.298079 ,  9.968984 ,  7.1737385,  5.518827 ,  5.684288 ,\n",
              "         5.207411 ,  5.907122 ,  8.257218 ,  9.837995 ,  8.885072 ,\n",
              "         9.464157 ,  9.444153 ,  8.025544 ,  5.9126935,  5.84479  ,\n",
              "         4.8465533,  3.560251 ,  3.907514 ,  4.1736584,  3.2489371,\n",
              "         2.9393907,  2.7388856,  2.079317 ,  3.7304401,  5.624818 ,\n",
              "         6.1847987,  7.1975193,  8.659557 ,  7.0306463,  5.1411004,\n",
              "         4.1020546,  2.6215758,  3.422853 ,  5.9863853,  6.9114814,\n",
              "         7.1129284,  6.8711267,  7.3725038, 12.707181 , 19.074001 ,\n",
              "        26.683968 , 32.026234 , 38.75878  , 41.493355 , 43.28558  ,\n",
              "        25.03181  , 11.338452 ,  4.4405246,  8.805561 , 16.786852 ,\n",
              "        19.22568  , 22.13976  , 17.646904 , 14.995666 , 12.308625 ,\n",
              "        11.379138 , 10.483199 ,  7.455814 ,  5.208166 ,  5.0802374,\n",
              "         4.1015625,  6.37706  , 11.006074 , 13.1231785, 11.214293 ,\n",
              "         8.815274 ,  7.7472982,  8.451474 ,  5.957703 ,  6.166468 ,\n",
              "         5.455606 ,  3.70063  ,  4.0272717,  4.5541945,  2.691458 ,\n",
              "         2.8355076,  5.234021 ,  6.662801 ,  5.2864323,  7.1679344,\n",
              "         7.1647234,  6.4491444,  5.098116 ,  6.766482 ,  9.139111 ,\n",
              "        10.383134 , 12.201678 , 12.730934 , 12.7399845, 14.122239 ,\n",
              "        16.925655 , 16.500685 , 16.996046 , 13.532464 , 11.095056 ,\n",
              "         9.916556 ,  8.592444 ,  8.076013 ,  6.966607 ,  7.0269294,\n",
              "         6.829157 ,  6.06267  ,  4.943416 ,  3.6252387,  2.0129454,\n",
              "         6.0145326,  9.31245  ,  8.779161 ,  4.578905 ,  3.9495838,\n",
              "         5.099928 ,  3.666114 ,  3.1920123,  2.8599772,  3.0606332,\n",
              "         3.7356105,  2.7092955,  3.3038993,  5.396783 ,  8.761073 ,\n",
              "        12.823692 , 12.940695 ,  9.854132 ,  8.125852 ,  5.9748116,\n",
              "         6.8394365,  3.9928908,  4.5085073,  4.284008 ,  3.3041987,\n",
              "         4.279647 ,  4.2069664,  3.7431042,  3.2646906,  2.4846187,\n",
              "         2.0997038,  2.575506 ,  2.918655 ,  2.8884318,  2.7819033,\n",
              "         3.1397398,  4.0087066,  3.510628 ,  4.1532907,  4.429919 ,\n",
              "         4.679868 ,  5.7493477,  3.1881456,  2.5283203,  2.1037898,\n",
              "         2.4673114,  2.6921856,  3.9573107,  4.91558  ,  4.455515 ,\n",
              "         4.0885525,  4.0752444,  5.1296897,  5.7526073,  5.67824  ,\n",
              "         6.150486 ,  5.372133 ,  4.9598227,  2.617683 ,  3.3240802,\n",
              "         3.8791862,  3.8900058,  3.9491422,  3.456984 ,  3.1771932,\n",
              "         3.7092419,  5.0884604,  5.9058776,  6.7929215,  8.155744 ,\n",
              "        10.504684 , 11.298917 , 12.191621 , 13.387786 , 14.8411665,\n",
              "        16.862051 , 17.030058 , 12.444752 , 10.206346 ,  7.3467126,\n",
              "         6.8176603,  5.885935 ,  3.5613787,  4.332316 ,  5.1134458,\n",
              "         5.4314814,  4.3024344,  3.7356706,  3.5193317,  4.064157 ,\n",
              "         3.7404764,  3.478449 ,  5.2775354,  4.897382 ,  5.308614 ,\n",
              "         4.9063864,  4.978875 ,  4.8647523,  2.44168  ,  2.064804 ,\n",
              "         2.4444337,  2.6840208,  2.9662385,  3.146361 ,  3.15002  ,\n",
              "         2.5959308,  4.8874454,  4.7094135,  5.6663837,  5.720194 ,\n",
              "         6.6936502,  7.731501 ,  8.947169 ,  9.386213 ,  8.128805 ,\n",
              "         6.5549536,  3.2784262,  2.3590627,  4.436646 ,  4.607975 ,\n",
              "         7.0087457,  8.6703415,  9.685267 ,  9.882896 ,  9.415984 ,\n",
              "         9.863763 ,  7.948552 ,  5.3476048,  3.5878162,  3.4450603,\n",
              "         3.538206 ,  3.2228098,  2.9602034,  3.6267478,  3.4818563,\n",
              "         5.0807095,  5.0967193,  4.414079 ,  4.0884185,  3.5903096,\n",
              "         3.2499173,  2.6749992,  2.6798697,  3.3870838,  3.6417034,\n",
              "         5.483359 ,  7.2845793,  8.016641 ,  9.517382 , 10.521605 ,\n",
              "        10.496187 ,  9.762829 ,  6.9717674,  5.9970164,  4.3582497,\n",
              "         4.4888473,  6.2891164,  7.598175 ,  9.634054 , 11.618061 ,\n",
              "        13.20889  , 13.712227 , 14.039604 , 10.724247 ,  8.526588 ,\n",
              "         7.2105126,  6.4572716,  6.7050643,  6.349581 ,  4.6554346,\n",
              "         5.8319697,  7.4309816,  8.603976 ,  9.025793 , 10.49972  ,\n",
              "        11.271126 , 12.405169 , 12.338712 ,  9.15286  ,  6.963974 ,\n",
              "         8.125914 ,  7.345865 ,  8.446247 ,  9.854217 ,  9.677444 ,\n",
              "         9.067717 ,  9.756613 , 11.486153 , 14.323235 , 13.899978 ,\n",
              "        12.300687 , 10.728862 ,  7.6975064,  5.5996222,  4.606984 ,\n",
              "         4.9015   ,  5.6686845,  5.0456934,  2.9728315,  4.2883534,\n",
              "         8.043391 ,  9.862418 , 10.607374 ,  7.9126754,  6.1270666,\n",
              "         4.8195295,  2.7009842,  3.057384 ,  3.4469762,  2.7890224,\n",
              "         3.1274416,  2.9316463,  5.634501 , 10.40351  , 14.780905 ,\n",
              "        16.844713 , 18.531122 , 19.694136 , 19.958626 , 16.642212 ,\n",
              "        13.123755 , 10.754771 ,  8.463031 ,  7.7682505,  8.547631 ,\n",
              "        10.288075 , 12.588798 , 14.840974 , 15.922295 , 15.45128  ,\n",
              "        16.206326 , 15.476894 , 17.153446 , 16.966347 , 17.410242 ,\n",
              "        19.187668 , 18.19532  , 16.974735 , 17.658592 , 15.655509 ,\n",
              "        12.551376 ,  8.661526 ,  5.5896015,  5.922395 ,  6.6063156,\n",
              "         3.884238 ,  4.3891025,  3.3034232,  4.5474973,  6.2889686,\n",
              "         8.420849 ,  9.008198 ,  8.228859 ,  8.276336 ,  8.034675 ,\n",
              "         4.48491  ,  4.3225493,  4.920789 ,  5.986639 ,  7.8620634,\n",
              "        12.599735 , 17.683609 , 14.414844 , 13.040087 , 12.312243 ,\n",
              "        12.58792  , 17.29571  , 19.31223  , 17.923155 , 18.197268 ,\n",
              "        19.584587 , 19.377497 , 20.46537  , 16.529713 , 11.656099 ,\n",
              "        11.225614 ,  9.289144 ,  9.058003 ,  9.544845 ,  9.186967 ,\n",
              "        11.427712 , 10.774447 ,  7.7353835,  7.6224384,  8.1784315,\n",
              "        10.74304  , 12.899949 , 12.745314 ,  9.788372 ,  6.560345 ,\n",
              "         2.8309288,  3.366952 ,  5.0808964, 10.809534 , 10.631971 ,\n",
              "        11.564321 , 10.883429 , 12.975086 , 13.465164 , 15.117688 ,\n",
              "        16.04392  , 16.641088 , 14.120997 , 12.701568 , 10.580041 ,\n",
              "         8.148837 ,  5.324703 ,  1.7366518,  2.5763006,  5.483751 ,\n",
              "         5.376805 ,  8.044747 ,  7.6838994,  6.0364265,  3.9044771,\n",
              "         3.6415446,  2.8307514,  5.704591 ,  8.417573 ,  9.876234 ,\n",
              "         9.7047615, 10.266485 ,  9.0747795,  8.6094475,  6.2136097,\n",
              "         4.3764396,  3.8042755,  4.0032325,  3.220693 ,  3.9790075,\n",
              "         6.6807017,  8.726894 ,  9.085135 , 10.710384 ,  9.468056 ,\n",
              "         6.2970376,  6.527392 ,  5.954644 ,  7.380362 ,  9.31866  ,\n",
              "        11.23444  , 11.524393 , 10.73285  ,  9.626728 ,  6.9110804,\n",
              "         3.818453 ,  3.5124805,  6.3163533,  9.549779 , 14.098358 ,\n",
              "        13.281888 , 10.3050785,  9.424439 ,  9.684594 ,  7.8606024,\n",
              "         5.7862062,  5.9202104,  5.3876734,  7.4099107,  5.8514585,\n",
              "         6.7833967,  7.034035 ,  8.70267  , 12.433257 , 14.4676075],\n",
              "       dtype=float32),\n",
              " 'mase': 3.0901456,\n",
              " 'mse': array([2.18393281e+05, 1.68758141e+05, 3.62767156e+05, 4.63596188e+05,\n",
              "        3.88696219e+05, 5.34339250e+05, 5.56197625e+05, 3.96211094e+05,\n",
              "        1.81477516e+05, 1.03975930e+05, 1.29767289e+05, 3.32113562e+05,\n",
              "        4.18537406e+05, 5.51155500e+05, 4.07364469e+05, 3.36658844e+05,\n",
              "        2.14495250e+05, 1.46557172e+05, 1.25915133e+05, 9.72849844e+04,\n",
              "        1.27785055e+05, 2.56373375e+05, 1.67764328e+05, 1.56862625e+05,\n",
              "        1.57525156e+05, 6.35099453e+04, 5.74358398e+04, 1.30418039e+05,\n",
              "        1.82670141e+05, 1.27990922e+05, 9.65287734e+04, 1.38066859e+05,\n",
              "        5.54621680e+04, 1.72322391e+05, 5.85035438e+05, 2.50824719e+05,\n",
              "        2.47315375e+05, 2.33779359e+05, 1.38650328e+05, 1.44541156e+05,\n",
              "        1.69226109e+05, 1.44783797e+05, 1.45540531e+05, 1.47341094e+05,\n",
              "        1.76950078e+05, 1.32332844e+05, 7.53251953e+04, 1.60014219e+05,\n",
              "        3.29415000e+05, 4.73504844e+05, 7.07502688e+05, 7.01528562e+05,\n",
              "        8.66986125e+05, 8.85738375e+05, 8.12368438e+05, 8.12641312e+05,\n",
              "        6.98219375e+05, 7.18525188e+05, 7.86266562e+05, 9.30840875e+05,\n",
              "        7.73309438e+05, 7.78422062e+05, 6.19889562e+05, 3.03630750e+05,\n",
              "        2.24776734e+05, 1.41564531e+05, 6.95367891e+04, 8.88664453e+04,\n",
              "        1.30794758e+05, 9.48400156e+04, 1.45014641e+05, 3.45846656e+05,\n",
              "        6.55048938e+05, 1.14948238e+06, 1.32658388e+06, 1.33937225e+06,\n",
              "        9.18393438e+05, 5.51199812e+05, 3.86807688e+05, 3.69959281e+05,\n",
              "        3.02383594e+05, 3.87828406e+05, 6.76755562e+05, 9.90905188e+05,\n",
              "        8.18258688e+05, 9.39795562e+05, 9.93899938e+05, 7.04055062e+05,\n",
              "        3.89489094e+05, 5.34451000e+05, 3.71601656e+05, 1.80737484e+05,\n",
              "        1.96947609e+05, 1.93714781e+05, 1.27822523e+05, 1.34325734e+05,\n",
              "        2.14647406e+05, 7.47033906e+04, 1.67104500e+05, 3.90261656e+05,\n",
              "        4.39003562e+05, 5.09716062e+05, 6.10845500e+05, 4.49044969e+05,\n",
              "        2.61490422e+05, 1.39949000e+05, 8.41708203e+04, 1.19359891e+05,\n",
              "        3.18759188e+05, 4.58567156e+05, 4.59321281e+05, 4.57857656e+05,\n",
              "        5.95579438e+05, 1.27386000e+06, 2.51031825e+06, 4.08332575e+06,\n",
              "        5.15466150e+06, 5.67223750e+06, 5.70029350e+06, 5.59032350e+06,\n",
              "        2.00768425e+06, 5.33812438e+05, 8.16083594e+04, 3.52259688e+05,\n",
              "        1.19716275e+06, 1.63101825e+06, 2.19361800e+06, 1.49479938e+06,\n",
              "        1.02384088e+06, 7.17442375e+05, 6.33481875e+05, 6.02586312e+05,\n",
              "        2.98991969e+05, 1.53180078e+05, 1.47295594e+05, 8.91218906e+04,\n",
              "        2.12081547e+05, 5.71777875e+05, 8.49943125e+05, 6.47569500e+05,\n",
              "        5.11557844e+05, 3.65825031e+05, 4.18343344e+05, 3.17712656e+05,\n",
              "        2.78412281e+05, 1.79448500e+05, 1.38771875e+05, 1.06883773e+05,\n",
              "        1.61594047e+05, 5.63775664e+04, 6.08917578e+04, 1.76808891e+05,\n",
              "        2.46261406e+05, 2.03131172e+05, 3.21312688e+05, 3.63448281e+05,\n",
              "        2.98036969e+05, 1.84589141e+05, 3.06532906e+05, 4.76840656e+05,\n",
              "        6.43690188e+05, 1.17491662e+06, 1.33163312e+06, 1.41735062e+06,\n",
              "        1.70604012e+06, 2.24977375e+06, 2.17835475e+06, 2.29143400e+06,\n",
              "        1.54837562e+06, 1.22997888e+06, 1.10682288e+06, 7.84517562e+05,\n",
              "        7.18561062e+05, 5.64729312e+05, 6.81307062e+05, 6.72832312e+05,\n",
              "        3.70401062e+05, 3.10443250e+05, 1.81234641e+05, 1.00821500e+05,\n",
              "        3.60950438e+05, 8.61435812e+05, 7.84706125e+05, 2.40779656e+05,\n",
              "        2.24059219e+05, 4.21548062e+05, 2.68693625e+05, 1.56542172e+05,\n",
              "        1.09047766e+05, 1.31803016e+05, 1.27704453e+05, 8.21680469e+04,\n",
              "        1.30353305e+05, 2.79316469e+05, 7.78677812e+05, 1.58851800e+06,\n",
              "        1.71511162e+06, 1.03167700e+06, 6.81626500e+05, 5.10991062e+05,\n",
              "        6.15644625e+05, 1.92602859e+05, 2.66705406e+05, 2.76482812e+05,\n",
              "        1.17673695e+05, 1.78166781e+05, 2.12594484e+05, 2.41035016e+05,\n",
              "        2.17695781e+05, 1.44988984e+05, 5.98346641e+04, 1.05571695e+05,\n",
              "        1.43561844e+05, 1.36186531e+05, 1.70927453e+05, 1.67333125e+05,\n",
              "        2.58430797e+05, 1.46192984e+05, 2.45590016e+05, 2.22771750e+05,\n",
              "        2.62026750e+05, 4.47961094e+05, 1.50063219e+05, 9.78092578e+04,\n",
              "        7.60160078e+04, 1.34697812e+05, 9.01830234e+04, 1.81227734e+05,\n",
              "        2.75825656e+05, 2.23017406e+05, 2.22209094e+05, 1.97704172e+05,\n",
              "        2.66886906e+05, 3.07065812e+05, 3.32142562e+05, 3.70795469e+05,\n",
              "        3.10236844e+05, 3.11302531e+05, 9.14358047e+04, 1.52294172e+05,\n",
              "        1.95705656e+05, 1.78749078e+05, 1.94203922e+05, 1.67081844e+05,\n",
              "        1.41106234e+05, 1.58495422e+05, 2.84822156e+05, 3.44520094e+05,\n",
              "        4.25206562e+05, 6.45827375e+05, 1.42339375e+06, 1.71292575e+06,\n",
              "        2.11601350e+06, 2.39949975e+06, 2.84680875e+06, 3.73113875e+06,\n",
              "        3.74114025e+06, 2.03980375e+06, 1.38632325e+06, 7.86940125e+05,\n",
              "        7.87032562e+05, 6.08747000e+05, 2.09194406e+05, 2.62918250e+05,\n",
              "        3.85843938e+05, 5.15981000e+05, 3.85192438e+05, 2.61995984e+05,\n",
              "        2.85680125e+05, 3.19206062e+05, 2.95672438e+05, 2.59343000e+05,\n",
              "        4.45928281e+05, 3.92481312e+05, 5.19491250e+05, 4.41410750e+05,\n",
              "        5.85483312e+05, 6.20733812e+05, 1.79701859e+05, 1.27597867e+05,\n",
              "        1.15240070e+05, 1.80686906e+05, 2.04850484e+05, 2.52011391e+05,\n",
              "        2.63771562e+05, 1.43162625e+05, 4.25803062e+05, 3.44466906e+05,\n",
              "        5.47532125e+05, 5.35913125e+05, 6.28405562e+05, 9.24622688e+05,\n",
              "        9.86886312e+05, 1.15358562e+06, 8.58715312e+05, 5.06397000e+05,\n",
              "        1.61715781e+05, 9.37312422e+04, 3.23094281e+05, 2.58084031e+05,\n",
              "        6.26181500e+05, 9.30263625e+05, 1.17419288e+06, 1.17356475e+06,\n",
              "        1.07095425e+06, 1.19360638e+06, 8.23929812e+05, 4.59043531e+05,\n",
              "        3.04048688e+05, 2.60149344e+05, 2.81348344e+05, 1.80754484e+05,\n",
              "        1.16178898e+05, 1.95063828e+05, 1.78995469e+05, 3.76757812e+05,\n",
              "        4.09615250e+05, 3.36495781e+05, 3.89475219e+05, 3.01483688e+05,\n",
              "        2.59474516e+05, 1.49222859e+05, 1.11724711e+05, 2.00556922e+05,\n",
              "        2.05995000e+05, 4.59579031e+05, 7.13335812e+05, 8.81884562e+05,\n",
              "        1.17844600e+06, 1.43836388e+06, 1.46535412e+06, 1.27967238e+06,\n",
              "        7.27345438e+05, 6.01570688e+05, 3.38460500e+05, 3.89163219e+05,\n",
              "        9.06177000e+05, 1.28410975e+06, 1.79038838e+06, 2.46438850e+06,\n",
              "        2.96442750e+06, 3.23211000e+06, 3.58352450e+06, 2.13932150e+06,\n",
              "        1.37329438e+06, 1.04783194e+06, 8.05658125e+05, 9.09946000e+05,\n",
              "        8.12115812e+05, 4.42479938e+05, 7.11188688e+05, 1.47523325e+06,\n",
              "        2.01802538e+06, 2.23580975e+06, 2.95967200e+06, 3.03761225e+06,\n",
              "        3.74514875e+06, 3.87894875e+06, 2.29854150e+06, 1.55079138e+06,\n",
              "        1.81006588e+06, 1.37215738e+06, 2.02273625e+06, 3.10027250e+06,\n",
              "        3.15446450e+06, 3.01863275e+06, 3.65274575e+06, 4.56893050e+06,\n",
              "        6.82069250e+06, 6.52609050e+06, 5.23448250e+06, 4.09281550e+06,\n",
              "        2.33178450e+06, 1.37550238e+06, 8.49563375e+05, 1.08892012e+06,\n",
              "        1.35078300e+06, 9.31297125e+05, 3.96726000e+05, 9.22195000e+05,\n",
              "        2.36293550e+06, 3.76144975e+06, 4.42487700e+06, 2.55162675e+06,\n",
              "        1.67016638e+06, 1.36266700e+06, 4.96635344e+05, 4.95822562e+05,\n",
              "        6.06990375e+05, 4.29008500e+05, 4.50754250e+05, 3.89585938e+05,\n",
              "        1.76665338e+06, 6.93644100e+06, 1.19186030e+07, 1.63104820e+07,\n",
              "        2.00296520e+07, 2.11942820e+07, 2.14775080e+07, 1.51604580e+07,\n",
              "        9.87010600e+06, 7.43246500e+06, 5.81331900e+06, 5.48369750e+06,\n",
              "        6.84248450e+06, 8.59091500e+06, 1.35780430e+07, 1.78745720e+07,\n",
              "        2.05630340e+07, 2.31133220e+07, 2.80039080e+07, 2.55407820e+07,\n",
              "        3.32370980e+07, 3.68157960e+07, 4.73191120e+07, 6.04329160e+07,\n",
              "        5.72357160e+07, 5.05059080e+07, 4.99821480e+07, 4.21295760e+07,\n",
              "        3.10119320e+07, 1.33396030e+07, 6.09235100e+06, 6.40386400e+06,\n",
              "        6.22188650e+06, 2.36609275e+06, 4.58450100e+06, 3.20729350e+06,\n",
              "        5.38904150e+06, 7.69432350e+06, 1.17983420e+07, 9.88875500e+06,\n",
              "        1.08455740e+07, 7.94260550e+06, 7.90829750e+06, 3.30148025e+06,\n",
              "        2.39259575e+06, 3.02235525e+06, 4.69680050e+06, 7.71538050e+06,\n",
              "        2.06583900e+07, 3.98451640e+07, 2.97421540e+07, 2.79425580e+07,\n",
              "        2.77481800e+07, 2.43408360e+07, 5.30114440e+07, 7.75898640e+07,\n",
              "        6.99020960e+07, 7.65348240e+07, 9.08292720e+07, 8.65895280e+07,\n",
              "        9.63551760e+07, 6.18186200e+07, 3.24851980e+07, 3.46283720e+07,\n",
              "        2.41527780e+07, 2.79153560e+07, 3.28139640e+07, 3.05983740e+07,\n",
              "        4.08715240e+07, 4.04228360e+07, 2.49253860e+07, 2.47372580e+07,\n",
              "        2.01728000e+07, 3.02986820e+07, 4.08837480e+07, 4.01488600e+07,\n",
              "        2.79971720e+07, 1.39697870e+07, 2.85865000e+06, 3.78241400e+06,\n",
              "        9.00683600e+06, 3.07906220e+07, 3.19864980e+07, 4.09219640e+07,\n",
              "        4.47409480e+07, 6.31490360e+07, 6.13757040e+07, 7.91153360e+07,\n",
              "        9.14104720e+07, 9.81111200e+07, 6.79511760e+07, 5.74935000e+07,\n",
              "        4.20120600e+07, 2.75748800e+07, 1.40257020e+07, 1.47339800e+06,\n",
              "        4.29119000e+06, 1.22643250e+07, 1.18167530e+07, 2.44479640e+07,\n",
              "        1.91120760e+07, 1.47948380e+07, 7.50769950e+06, 6.11555850e+06,\n",
              "        5.45970300e+06, 1.23269210e+07, 2.64474540e+07, 3.29128660e+07,\n",
              "        3.22215940e+07, 3.79827760e+07, 3.10893800e+07, 2.70612360e+07,\n",
              "        1.46143590e+07, 7.72564000e+06, 6.63099100e+06, 8.65424500e+06,\n",
              "        5.97881150e+06, 6.68934650e+06, 1.82051580e+07, 2.91386720e+07,\n",
              "        3.32653720e+07, 4.59944840e+07, 3.56627320e+07, 2.16554200e+07,\n",
              "        2.39733240e+07, 1.90463820e+07, 2.18143160e+07, 3.06732440e+07,\n",
              "        4.46564760e+07, 4.97795640e+07, 4.37999560e+07, 3.36698720e+07,\n",
              "        1.74557620e+07, 6.80641200e+06, 5.38509350e+06, 1.49356590e+07,\n",
              "        3.16600740e+07, 6.41591920e+07, 6.01912640e+07, 3.40577200e+07,\n",
              "        3.17790200e+07, 3.67093400e+07, 2.46222180e+07, 1.43439220e+07,\n",
              "        1.43859620e+07, 1.11098960e+07, 2.02040180e+07, 1.26446700e+07,\n",
              "        1.60555750e+07, 2.06807520e+07, 2.57645420e+07, 4.31701640e+07,\n",
              "        5.82550400e+07], dtype=float32),\n",
              " 'rmse': array([ 467.32568,  410.80185,  602.3016 ,  680.87897,  623.45514,\n",
              "         730.9851 ,  745.7866 ,  629.453  ,  426.0018 ,  322.453  ,\n",
              "         360.23227,  576.29297,  646.9447 ,  742.39844,  638.2511 ,\n",
              "         580.2231 ,  463.13632,  382.82785,  354.84525,  311.90543,\n",
              "         357.47037,  506.33328,  409.59045,  396.05887,  396.89438,\n",
              "         252.01181,  239.65775,  361.13437,  427.3993 ,  357.75818,\n",
              "         310.6908 ,  371.57352,  235.50407,  415.11734,  764.8761 ,\n",
              "         500.82404,  497.30814,  483.50742,  372.35776,  380.18567,\n",
              "         411.371  ,  380.50467,  381.4977 ,  383.85034,  420.65433,\n",
              "         363.77582,  274.45435,  400.01776,  573.94684,  688.1169 ,\n",
              "         841.13184,  837.573  ,  931.1209 ,  941.1368 ,  901.3148 ,\n",
              "         901.46606,  835.5952 ,  847.6586 ,  886.71674,  964.801  ,\n",
              "         879.38007,  882.28235,  787.3306 ,  551.027  ,  474.1062 ,\n",
              "         376.2506 ,  263.69827,  298.10477,  361.65558,  307.96106,\n",
              "         380.80786,  588.0873 ,  809.35095, 1072.1392 , 1151.7742 ,\n",
              "        1157.3124 ,  958.3285 ,  742.4283 ,  621.93866,  608.24274,\n",
              "         549.89417,  622.75867,  822.6515 ,  995.4422 ,  904.5764 ,\n",
              "         969.4306 ,  996.94525,  839.0799 ,  624.09064,  731.0615 ,\n",
              "         609.5914 ,  425.1323 ,  443.78778,  440.1304 ,  357.52274,\n",
              "         366.50476,  463.30054,  273.3192 ,  408.78418,  624.7093 ,\n",
              "         662.5734 ,  713.94403,  781.56604,  670.10815,  511.3613 ,\n",
              "         374.09756,  290.12207,  345.485  ,  564.5876 ,  677.17584,\n",
              "         677.7324 ,  676.6518 ,  771.73785, 1128.654  , 1584.3984 ,\n",
              "        2020.724  , 2270.3882 , 2381.646  , 2387.5288 , 2364.3865 ,\n",
              "        1416.9277 ,  730.6247 ,  285.67178,  593.51465, 1094.1493 ,\n",
              "        1277.1133 , 1481.0868 , 1222.6199 , 1011.8502 ,  847.01965,\n",
              "         795.9157 ,  776.26434,  546.8016 ,  391.3823 ,  383.79108,\n",
              "         298.5329 ,  460.52316,  756.16   ,  921.9236 ,  804.717  ,\n",
              "         715.2327 ,  604.83466,  646.7947 ,  563.66003,  527.6479 ,\n",
              "         423.61362,  372.521  ,  326.93082,  401.9876 ,  237.43959,\n",
              "         246.76253,  420.4865 ,  496.24728,  450.7007 ,  566.8445 ,\n",
              "         602.8667 ,  545.9276 ,  429.6384 ,  553.6541 ,  690.5365 ,\n",
              "         802.30304, 1083.9358 , 1153.9641 , 1190.5254 , 1306.1547 ,\n",
              "        1499.9246 , 1475.925  , 1513.7482 , 1244.3374 , 1109.0441 ,\n",
              "        1052.0565 ,  885.7299 ,  847.6798 ,  751.4846 ,  825.41327,\n",
              "         820.26355,  608.60583,  557.1743 ,  425.7166 ,  317.52402,\n",
              "         600.7915 ,  928.1357 ,  885.8365 ,  490.69305,  473.34897,\n",
              "         649.26733,  518.3567 ,  395.65408,  330.22382,  363.04684,\n",
              "         357.35757,  286.6497 ,  361.04474,  528.504  ,  882.4272 ,\n",
              "        1260.3641 , 1309.6227 , 1015.715  ,  825.6067 ,  714.83636,\n",
              "         784.6303 ,  438.86545,  516.4353 ,  525.8163 ,  343.03598,\n",
              "         422.09808,  461.0797 ,  490.9532 ,  466.57883,  380.7742 ,\n",
              "         244.61124,  324.918  ,  378.89554,  369.03458,  413.43372,\n",
              "         409.0637 ,  508.36084,  382.3519 ,  495.5704 ,  471.98706,\n",
              "         511.8855 ,  669.29895,  387.37994,  312.74472,  275.71   ,\n",
              "         367.01202,  300.30487,  425.7085 ,  525.19104,  472.2472 ,\n",
              "         471.39056,  444.63937,  516.61096,  554.1352 ,  576.3181 ,\n",
              "         608.9298 ,  556.9891 ,  557.9449 ,  302.38354,  390.24884,\n",
              "         442.38632,  422.78723,  440.68573,  408.75644,  375.64108,\n",
              "         398.11487,  533.6873 ,  586.9583 ,  652.0786 ,  803.63385,\n",
              "        1193.0605 , 1308.7878 , 1454.6522 , 1549.0319 , 1687.2488 ,\n",
              "        1931.6155 , 1934.2028 , 1428.217  , 1177.4222 ,  887.09644,\n",
              "         887.14856,  780.22235,  457.37775,  512.7555 ,  621.1634 ,\n",
              "         718.3181 ,  620.63873,  511.8554 ,  534.4905 ,  564.9832 ,\n",
              "         543.7577 ,  509.25735,  667.77856,  626.4833 ,  720.7574 ,\n",
              "         664.3875 ,  765.16876,  787.86664,  423.91254,  357.2084 ,\n",
              "         339.47028,  425.0728 ,  452.60413,  502.00735,  513.587  ,\n",
              "         378.36838,  652.5359 ,  586.913  ,  739.9541 ,  732.0609 ,\n",
              "         792.72034,  961.57306,  993.4216 , 1074.051  ,  926.66895,\n",
              "         711.6158 ,  402.139  ,  306.15558,  568.4138 ,  508.01965,\n",
              "         791.3162 ,  964.5018 , 1083.6018 , 1083.3119 , 1034.8691 ,\n",
              "        1092.523  ,  907.70575,  677.52747,  551.40607,  510.0484 ,\n",
              "         530.4228 ,  425.1523 ,  340.85025,  441.6603 ,  423.07858,\n",
              "         613.806  ,  640.0119 ,  580.0826 ,  624.07947,  549.0753 ,\n",
              "         509.3864 ,  386.2937 ,  334.25244,  447.83582,  453.8667 ,\n",
              "         677.9226 ,  844.59204,  939.0871 , 1085.5625 , 1199.3181 ,\n",
              "        1210.5182 , 1131.2261 ,  852.8455 ,  775.6098 ,  581.77356,\n",
              "         623.82947,  951.9332 , 1133.1857 , 1338.0541 , 1569.8372 ,\n",
              "        1721.7513 , 1797.8071 , 1893.0198 , 1462.6418 , 1171.8763 ,\n",
              "        1023.63654,  897.58466,  953.91095,  901.17474,  665.19165,\n",
              "         843.32007, 1214.5918 , 1420.5721 , 1495.2623 , 1720.3696 ,\n",
              "        1742.8748 , 1935.2386 , 1969.5048 , 1516.0942 , 1245.3077 ,\n",
              "        1345.387  , 1171.3911 , 1422.2292 , 1760.759  , 1776.0813 ,\n",
              "        1737.4213 , 1911.2157 , 2137.5056 , 2611.6453 , 2554.6216 ,\n",
              "        2287.8992 , 2023.0708 , 1527.0182 , 1172.8181 ,  921.7176 ,\n",
              "        1043.5134 , 1162.2318 ,  965.03735,  629.8619 ,  960.3098 ,\n",
              "        1537.1842 , 1939.4457 , 2103.539  , 1597.3811 , 1292.3492 ,\n",
              "        1167.3333 ,  704.72363,  704.1467 ,  779.0958 ,  654.9874 ,\n",
              "         671.3823 ,  624.1682 , 1329.1552 , 2633.7124 , 3452.333  ,\n",
              "        4038.6233 , 4475.45   , 4603.725  , 4634.3833 , 3893.6433 ,\n",
              "        3141.6724 , 2726.255  , 2411.0825 , 2341.7297 , 2615.8142 ,\n",
              "        2931.0261 , 3684.8398 , 4227.8325 , 4534.648  , 4807.632  ,\n",
              "        5291.8716 , 5053.7886 , 5765.1626 , 6067.602  , 6878.8887 ,\n",
              "        7773.8613 , 7565.429  , 7106.7505 , 7069.805  , 6490.73   ,\n",
              "        5568.836  , 3652.342  , 2468.2686 , 2530.5857 , 2494.3708 ,\n",
              "        1538.2108 , 2141.1445 , 1790.8918 , 2321.431  , 2773.8643 ,\n",
              "        3434.8713 , 3144.639  , 3293.262  , 2818.263  , 2812.1697 ,\n",
              "        1816.9976 , 1546.8018 , 1738.4922 , 2167.2104 , 2777.6575 ,\n",
              "        4545.15   , 6312.302  , 5453.6367 , 5286.0723 , 5267.6543 ,\n",
              "        4933.6436 , 7280.8955 , 8808.51   , 8360.747  , 8748.418  ,\n",
              "        9530.439  , 9305.35   , 9816.067  , 7862.4814 , 5699.5786 ,\n",
              "        5884.5874 , 4914.5474 , 5283.4985 , 5728.347  , 5531.58   ,\n",
              "        6393.084  , 6357.896  , 4992.533  , 4973.6562 , 4491.414  ,\n",
              "        5504.424  , 6394.04   , 6336.313  , 5291.236  , 3737.6174 ,\n",
              "        1690.7543 , 1944.8429 , 3001.1392 , 5548.9297 , 5655.6606 ,\n",
              "        6397.028  , 6688.8667 , 7946.637  , 7834.2646 , 8894.681  ,\n",
              "        9560.882  , 9905.106  , 8243.25   , 7582.4463 , 6481.6714 ,\n",
              "        5251.1787 , 3745.09   , 1213.836  , 2071.5188 , 3502.0457 ,\n",
              "        3437.5505 , 4944.489  , 4371.7363 , 3846.4055 , 2740.018  ,\n",
              "        2472.9653 , 2336.6006 , 3510.9714 , 5142.709  , 5736.9736 ,\n",
              "        5676.4067 , 6163.0166 , 5575.7847 , 5202.041  , 3822.8733 ,\n",
              "        2779.5034 , 2575.071  , 2941.8098 , 2445.161  , 2586.377  ,\n",
              "        4266.7505 , 5398.0244 , 5767.6143 , 6781.9233 , 5971.828  ,\n",
              "        4653.5386 , 4896.256  , 4364.216  , 4670.58   , 5538.343  ,\n",
              "        6682.5493 , 7055.463  , 6618.153  , 5802.5747 , 4178.0093 ,\n",
              "        2608.9102 , 2320.5806 , 3864.6682 , 5626.729  , 8009.943  ,\n",
              "        7758.303  , 5835.8994 , 5637.288  , 6058.823  , 4962.078  ,\n",
              "        3787.337  , 3792.883  , 3333.151  , 4494.8877 , 3555.9346 ,\n",
              "        4006.9414 , 4547.6094 , 5075.8784 , 6570.401  , 7632.499  ],\n",
              "       dtype=float32)}"
            ]
          },
          "metadata": {
            "tags": []
          },
          "execution_count": 58
        }
      ]
    },
    {
      "cell_type": "markdown",
      "metadata": {
        "id": "t405o940Twum"
      },
      "source": [
        "To fix this, let's adjust our `evaluate_preds()` function to work with multiple shapes of data."
      ]
    },
    {
      "cell_type": "code",
      "metadata": {
        "id": "ERkl26UFgSbz"
      },
      "source": [
        "def evaluate_preds(y_true, y_pred):\n",
        "  # Make sure float32 (for metric calculations)\n",
        "  y_true = tf.cast(y_true, dtype=tf.float32)\n",
        "  y_pred = tf.cast(y_pred, dtype=tf.float32)\n",
        "\n",
        "  # Calculate various metrics\n",
        "  mae = tf.keras.metrics.mean_absolute_error(y_true, y_pred)\n",
        "  mse = tf.keras.metrics.mean_squared_error(y_true, y_pred)\n",
        "  rmse = tf.sqrt(mse)\n",
        "  mape = tf.keras.metrics.mean_absolute_percentage_error(y_true, y_pred)\n",
        "  mase = mean_absolute_scaled_error(y_true, y_pred)\n",
        "\n",
        "  # Account for different sized metrics (for longer horizons, reduce to single number)\n",
        "  if mae.ndim > 0: # if mae isn't already a scalar, reduce it to one by aggregating tensors to mean\n",
        "    mae = tf.reduce_mean(mae)\n",
        "    mse = tf.reduce_mean(mse)\n",
        "    rmse = tf.reduce_mean(rmse)\n",
        "    mape = tf.reduce_mean(mape)\n",
        "    mase = tf.reduce_mean(mase)\n",
        "\n",
        "  return {\"mae\": mae.numpy(),\n",
        "          \"mse\": mse.numpy(),\n",
        "          \"rmse\": rmse.numpy(),\n",
        "          \"mape\": mape.numpy(),\n",
        "          \"mase\": mase.numpy()}"
      ],
      "execution_count": 59,
      "outputs": []
    },
    {
      "cell_type": "markdown",
      "metadata": {
        "id": "_RnoZl28Udx4"
      },
      "source": [
        "Now we've updated `evaluate_preds()` to work with multiple shapes, how does it look?"
      ]
    },
    {
      "cell_type": "code",
      "metadata": {
        "colab": {
          "base_uri": "https://localhost:8080/"
        },
        "id": "Kt1Z8yjpUij2",
        "outputId": "af8edd8c-108b-49b7-db7a-263714a8f9b1"
      },
      "source": [
        "# Get model_3 results aggregated to single values\n",
        "model_3_results = evaluate_preds(y_true=tf.squeeze(test_labels),\n",
        "                                 y_pred=model_3_preds)\n",
        "model_3_results"
      ],
      "execution_count": 60,
      "outputs": [
        {
          "output_type": "execute_result",
          "data": {
            "text/plain": [
              "{'mae': 1751.6196,\n",
              " 'mape': 7.9360094,\n",
              " 'mase': 3.0901456,\n",
              " 'mse': 8347364.5,\n",
              " 'rmse': 1921.0627}"
            ]
          },
          "metadata": {
            "tags": []
          },
          "execution_count": 60
        }
      ]
    },
    {
      "cell_type": "markdown",
      "metadata": {
        "id": "0XNIJfcsTpdA"
      },
      "source": [
        "If we try to plot our multi-horizon predicts, we're going to get a funky looking plot."
      ]
    },
    {
      "cell_type": "code",
      "metadata": {
        "colab": {
          "base_uri": "https://localhost:8080/",
          "height": 442
        },
        "id": "gBdg1NcLs3gW",
        "outputId": "cb4c2b5b-f77f-48c1-a560-9bc1c22e09d5"
      },
      "source": [
        "offset = 300\n",
        "plt.figure(figsize=(10, 7))\n",
        "plot_time_series(timesteps=X_test[-len(test_windows):], values=test_labels[:, 0], start=offset, label=\"Test_data\")\n",
        "# Checking the shape of model_3_preds results in [n_test_samples, HORIZON] (this will screw up the plot)\n",
        "plot_time_series(timesteps=X_test[-len(test_windows):], values=model_3_preds, start=offset, label=\"model_3_preds\") "
      ],
      "execution_count": 61,
      "outputs": [
        {
          "output_type": "display_data",
          "data": {
            "image/png": "[encoded data removed]",
            "text/plain": [
              "<Figure size 720x504 with 1 Axes>"
            ]
          },
          "metadata": {
            "tags": [],
            "needs_background": "light"
          }
        }
      ]
    },
    {
      "cell_type": "markdown",
      "metadata": {
        "id": "j3nZnSG1Uute"
      },
      "source": [
        "TODO: what information do we lose through aggregated the predictions? E.g. going from 7 steps at a time to one step at a time? \n",
        "\n",
        "Again, we can fix this by aggregating our model's predictions."
      ]
    },
    {
      "cell_type": "code",
      "metadata": {
        "colab": {
          "base_uri": "https://localhost:8080/",
          "height": 442
        },
        "id": "wYpZb27bU6OO",
        "outputId": "2b08ce8b-8a61-43de-ea3f-462edcea1191"
      },
      "source": [
        "offset = 300\n",
        "plt.figure(figsize=(10, 7))\n",
        "# Plot model_3_preds by aggregating them (note: this condenses information so the preds will look fruther ahead than the test data)\n",
        "plot_time_series(timesteps=X_test[-len(test_windows):], values=test_labels[:, 0], start=offset, label=\"Test_data\")\n",
        "plot_time_series(timesteps=X_test[-len(test_windows):], values=tf.reduce_mean(model_3_preds, axis=1), start=offset, label=\"model_3_preds\")"
      ],
      "execution_count": 62,
      "outputs": [
        {
          "output_type": "display_data",
          "data": {
            "image/png": "[encoded data removed]",
            "text/plain": [
              "<Figure size 720x504 with 1 Axes>"
            ]
          },
          "metadata": {
            "tags": [],
            "needs_background": "light"
          }
        }
      ]
    },
    {
      "cell_type": "markdown",
      "metadata": {
        "id": "Ojqon-Y5VpCC"
      },
      "source": [
        "Which of our models is performing best so far?"
      ]
    },
    {
      "cell_type": "code",
      "metadata": {
        "colab": {
          "base_uri": "https://localhost:8080/"
        },
        "id": "ItBZl38fWEAC",
        "outputId": "2aa4a99d-761d-4ba9-acfd-8b17cca8dbac"
      },
      "source": [
        "model_1_results, model_2_results"
      ],
      "execution_count": 63,
      "outputs": [
        {
          "output_type": "execute_result",
          "data": {
            "text/plain": [
              "({'mae': 615.8316,\n",
              "  'mape': 2.7535346,\n",
              "  'mase': 1.0818455,\n",
              "  'mse': 1320297.5,\n",
              "  'rmse': 1149.042},\n",
              " {'mae': 762.0139,\n",
              "  'mape': 3.3568778,\n",
              "  'mase': 1.3207175,\n",
              "  'mse': 1829010.1,\n",
              "  'rmse': 1352.409})"
            ]
          },
          "metadata": {
            "tags": []
          },
          "execution_count": 63
        }
      ]
    },
    {
      "cell_type": "code",
      "metadata": {
        "colab": {
          "base_uri": "https://localhost:8080/"
        },
        "id": "ABvnMeWfWOZq",
        "outputId": "1303d810-2ca8-4a30-a461-03cca1675e95"
      },
      "source": [
        "naive_results[\"mae\"]"
      ],
      "execution_count": 64,
      "outputs": [
        {
          "output_type": "execute_result",
          "data": {
            "text/plain": [
              "567.9802"
            ]
          },
          "metadata": {
            "tags": []
          },
          "execution_count": 64
        }
      ]
    },
    {
      "cell_type": "code",
      "metadata": {
        "colab": {
          "base_uri": "https://localhost:8080/",
          "height": 440
        },
        "id": "QA4EKseAVrYf",
        "outputId": "93c9ec66-8ccb-4dc9-b948-c974016e51d3"
      },
      "source": [
        "pd.DataFrame({\"naive\": naive_results[\"mae\"], \n",
        "              \"horizon_1_window_7\": model_1_results[\"mae\"], \n",
        "              \"horizon_1_window_30\": model_2_results[\"mae\"], \n",
        "              \"horizon_7_window_30\": model_3_results[\"mae\"]}, index=[\"mae\"]).plot(figsize=(10, 7), kind=\"bar\");"
      ],
      "execution_count": 65,
      "outputs": [
        {
          "output_type": "display_data",
          "data": {
            "image/png": "[encoded data removed]",
            "text/plain": [
              "<Figure size 720x504 with 1 Axes>"
            ]
          },
          "metadata": {
            "tags": [],
            "needs_background": "light"
          }
        }
      ]
    },
    {
      "cell_type": "markdown",
      "metadata": {
        "id": "dIRwia9BWeI5"
      },
      "source": [
        "Our naive model is performing best (it's very hard to beat a naive model in open systems) but the dense model with a horizon of 1 and a window size of 7 looks to be performing cloest.\n",
        "\n",
        "Because of this, let's use `HORIZON=1` and `WINDOW_SIZE=7` for our next series of modelling experiments (in other words, we'll use the previous week of Bitcoin prices to try and predict the next day)."
      ]
    },
    {
      "cell_type": "markdown",
      "metadata": {
        "id": "CxcL0gi-rWC5"
      },
      "source": [
        "## TODO: Model 4: Conv1D"
      ]
    },
    {
      "cell_type": "code",
      "metadata": {
        "id": "2_t9hXvXrZPD"
      },
      "source": [
        "HORIZON = 1 # predict next day\n",
        "WINDOW_SIZE = 7 # use previous week worth of data"
      ],
      "execution_count": 66,
      "outputs": []
    },
    {
      "cell_type": "code",
      "metadata": {
        "colab": {
          "base_uri": "https://localhost:8080/"
        },
        "id": "CRCy-vXzsEGL",
        "outputId": "32c7c8e2-776c-43ed-f2f7-b3dca77fd609"
      },
      "source": [
        "# Create windowed dataset\n",
        "full_windows, full_labels = make_windows(prices, window_size=WINDOW_SIZE, horizon=HORIZON)\n",
        "len(full_windows), len(full_labels)"
      ],
      "execution_count": 67,
      "outputs": [
        {
          "output_type": "execute_result",
          "data": {
            "text/plain": [
              "(2779, 2779)"
            ]
          },
          "metadata": {
            "tags": []
          },
          "execution_count": 67
        }
      ]
    },
    {
      "cell_type": "code",
      "metadata": {
        "colab": {
          "base_uri": "https://localhost:8080/"
        },
        "id": "ZtsLeB3rsED2",
        "outputId": "8c2a738f-56bc-4089-9772-6234bc266f36"
      },
      "source": [
        "# Create train/test splits\n",
        "train_windows, test_windows, train_labels, test_labels = make_train_test_splits(full_windows, full_labels)\n",
        "len(train_windows), len(test_windows), len(train_labels), len(test_labels)"
      ],
      "execution_count": 68,
      "outputs": [
        {
          "output_type": "execute_result",
          "data": {
            "text/plain": [
              "(2223, 556, 2223, 556)"
            ]
          },
          "metadata": {
            "tags": []
          },
          "execution_count": 68
        }
      ]
    },
    {
      "cell_type": "markdown",
      "metadata": {
        "id": "RMtzZKYRXExH"
      },
      "source": [
        "TK - Since we're going to be using [Conv1D layers](https://www.tensorflow.org/api_docs/python/tf/keras/layers/Conv1D), we need to make sure our input shapes are correct.\n",
        "\n",
        "The Conv1D layer in TensorFlow takes an input of: `(batch_size, timesteps, input_dim)`.\n",
        "\n",
        "In our case, the `batch_size` is handled for us but the other values will be:\n",
        "* `timesteps = WINDOW_SIZE` - the `timesteps` is also often referred to as `features`, our features are the previous `WINDOW_SIZE` values of Bitcoin \n",
        "* `input_dim = 1` - our model views one week of data at a time to predict the next day\n",
        "\n",
        "Right now, our data has the `timesteps` dimension ready but we'll have to adjust it to have the `input_dim` dimension. "
      ]
    },
    {
      "cell_type": "code",
      "metadata": {
        "colab": {
          "base_uri": "https://localhost:8080/"
        },
        "id": "To_k7zIAX7Pj",
        "outputId": "3ace8169-e242-4a2f-b2e1-94cea26968c7"
      },
      "source": [
        "# Check data sample shapes\n",
        "train_windows[0].shape # returns (WINDOW_SIZE, )"
      ],
      "execution_count": 69,
      "outputs": [
        {
          "output_type": "execute_result",
          "data": {
            "text/plain": [
              "(7,)"
            ]
          },
          "metadata": {
            "tags": []
          },
          "execution_count": 69
        }
      ]
    },
    {
      "cell_type": "markdown",
      "metadata": {
        "id": "oPIMnb3GYMvP"
      },
      "source": [
        "To fix this, we could adjust the shape of all of our `train_windows` or we could use a `tf.keras.layers.Lamdba` (called a Lambda layer) to do this for us in our model."
      ]
    },
    {
      "cell_type": "code",
      "metadata": {
        "colab": {
          "base_uri": "https://localhost:8080/"
        },
        "id": "62oSNy3VvZpv",
        "outputId": "645be247-7e37-49e4-a7a4-cde30d057430"
      },
      "source": [
        "# Before we pass our data to the Conv1D layer, we have to reshape it in order to make sure it works\n",
        "x = tf.constant(train_windows[0])\n",
        "expand_dims_layer = layers.Lambda(lambda x: tf.expand_dims(x, axis=1)) # add an extra dimension for timesteps\n",
        "print(f\"Original shape: {x.shape}\") # (WINDOW_SIZE)\n",
        "print(f\"Expanded shape: {expand_dims_layer(x).shape}\") # (WINDOW_SIZE, input_dim) \n",
        "print(f\"Original values with expanded shape:\\n {expand_dims_layer(x)}\")"
      ],
      "execution_count": 70,
      "outputs": [
        {
          "output_type": "stream",
          "text": [
            "Original shape: (7,)\n",
            "Expanded shape: (7, 1)\n",
            "Original values with expanded shape:\n",
            " [[125.455  ]\n",
            " [108.58483]\n",
            " [118.67466]\n",
            " [121.33866]\n",
            " [120.65533]\n",
            " [121.795  ]\n",
            " [123.033  ]]\n"
          ],
          "name": "stdout"
        }
      ]
    },
    {
      "cell_type": "code",
      "metadata": {
        "colab": {
          "base_uri": "https://localhost:8080/"
        },
        "id": "jODevMWGsEBI",
        "outputId": "32a66487-ffec-4072-ad20-6f641b6c41a6"
      },
      "source": [
        "# Create model\n",
        "model_4 = tf.keras.Sequential([\n",
        "  # Create Lambda layer to reshape inputs, without this layer, the model will error\n",
        "  layers.Lambda(lambda x: tf.expand_dims(x, axis=1)), # resize the inputs to adjust for window size / Conv1D 3D input requirements\n",
        "  layers.Conv1D(filters=128, kernel_size=3, padding=\"causal\", activation=\"relu\"),\n",
        "  layers.Dense(HORIZON)\n",
        "], name=\"model_4_conv1D\")\n",
        "\n",
        "# Compile model\n",
        "model_4.compile(loss=\"mae\",\n",
        "                optimizer=tf.keras.optimizers.Adam())\n",
        "\n",
        "# Fit model\n",
        "model_4.fit(train_windows,\n",
        "            train_labels, \n",
        "            epochs=10,\n",
        "            validation_data=(test_windows, test_labels),\n",
        "            callbacks=[create_model_checkpoint(model_name=model_4.name)])"
      ],
      "execution_count": 71,
      "outputs": [
        {
          "output_type": "stream",
          "text": [
            "Epoch 1/10\n",
            "70/70 [==============================] - 1s 3ms/step - loss: 565.9537 - val_loss: 1041.5715\n",
            "INFO:tensorflow:Assets written to: model_experiments/model_4_conv1D/assets\n",
            "Epoch 2/10\n",
            "70/70 [==============================] - 0s 2ms/step - loss: 181.5649 - val_loss: 956.1019\n",
            "INFO:tensorflow:Assets written to: model_experiments/model_4_conv1D/assets\n",
            "Epoch 3/10\n",
            "70/70 [==============================] - 0s 2ms/step - loss: 168.1970 - val_loss: 903.0877\n",
            "INFO:tensorflow:Assets written to: model_experiments/model_4_conv1D/assets\n",
            "Epoch 4/10\n",
            "70/70 [==============================] - 0s 2ms/step - loss: 175.7158 - val_loss: 917.8769\n",
            "Epoch 5/10\n",
            "70/70 [==============================] - 0s 2ms/step - loss: 153.2911 - val_loss: 809.5917\n",
            "INFO:tensorflow:Assets written to: model_experiments/model_4_conv1D/assets\n",
            "Epoch 6/10\n",
            "70/70 [==============================] - 0s 2ms/step - loss: 147.4438 - val_loss: 764.6306\n",
            "INFO:tensorflow:Assets written to: model_experiments/model_4_conv1D/assets\n",
            "Epoch 7/10\n",
            "70/70 [==============================] - 0s 2ms/step - loss: 141.8337 - val_loss: 788.6697\n",
            "Epoch 8/10\n",
            "70/70 [==============================] - 0s 2ms/step - loss: 137.4909 - val_loss: 757.3361\n",
            "INFO:tensorflow:Assets written to: model_experiments/model_4_conv1D/assets\n",
            "Epoch 9/10\n",
            "70/70 [==============================] - 0s 2ms/step - loss: 131.2619 - val_loss: 697.4286\n",
            "INFO:tensorflow:Assets written to: model_experiments/model_4_conv1D/assets\n",
            "Epoch 10/10\n",
            "70/70 [==============================] - 0s 2ms/step - loss: 128.5704 - val_loss: 668.5227\n",
            "INFO:tensorflow:Assets written to: model_experiments/model_4_conv1D/assets\n"
          ],
          "name": "stdout"
        },
        {
          "output_type": "execute_result",
          "data": {
            "text/plain": [
              "<tensorflow.python.keras.callbacks.History at 0x7fbfd0cadcd0>"
            ]
          },
          "metadata": {
            "tags": []
          },
          "execution_count": 71
        }
      ]
    },
    {
      "cell_type": "code",
      "metadata": {
        "colab": {
          "base_uri": "https://localhost:8080/"
        },
        "id": "2FcGUALG4RxJ",
        "outputId": "ab2d18fa-e4c8-486e-c0cf-ac07018f998e"
      },
      "source": [
        "model_4.summary()"
      ],
      "execution_count": 72,
      "outputs": [
        {
          "output_type": "stream",
          "text": [
            "Model: \"model_4_conv1D\"\n",
            "_________________________________________________________________\n",
            "Layer (type)                 Output Shape              Param #   \n",
            "=================================================================\n",
            "lambda_1 (Lambda)            (None, 1, 7)              0         \n",
            "_________________________________________________________________\n",
            "conv1d (Conv1D)              (None, 1, 128)            2816      \n",
            "_________________________________________________________________\n",
            "dense_6 (Dense)              (None, 1, 1)              129       \n",
            "=================================================================\n",
            "Total params: 2,945\n",
            "Trainable params: 2,945\n",
            "Non-trainable params: 0\n",
            "_________________________________________________________________\n"
          ],
          "name": "stdout"
        }
      ]
    },
    {
      "cell_type": "code",
      "metadata": {
        "colab": {
          "base_uri": "https://localhost:8080/"
        },
        "id": "KXEL9FuhsD-3",
        "outputId": "8a16516e-2b09-4ac8-9833-5c223333f73d"
      },
      "source": [
        "model_4 = tf.keras.models.load_model(\"model_experiments/model_4_conv1D\")\n",
        "model_4.evaluate(test_windows, test_labels)"
      ],
      "execution_count": 73,
      "outputs": [
        {
          "output_type": "stream",
          "text": [
            "18/18 [==============================] - 0s 1ms/step - loss: 668.5227\n"
          ],
          "name": "stdout"
        },
        {
          "output_type": "execute_result",
          "data": {
            "text/plain": [
              "668.522705078125"
            ]
          },
          "metadata": {
            "tags": []
          },
          "execution_count": 73
        }
      ]
    },
    {
      "cell_type": "code",
      "metadata": {
        "colab": {
          "base_uri": "https://localhost:8080/"
        },
        "id": "j99tbnwSsD8R",
        "outputId": "1eab6ef5-7dfd-4acb-98ab-9658e227f387"
      },
      "source": [
        "# Make predictions\n",
        "model_4_preds = make_forecast(model_4, test_windows)\n",
        "model_4_preds[:10]"
      ],
      "execution_count": 74,
      "outputs": [
        {
          "output_type": "execute_result",
          "data": {
            "text/plain": [
              "<tf.Tensor: shape=(10,), dtype=float32, numpy=\n",
              "array([9102.444, 8944.48 , 8993.979, 8837.419, 8819.122, 8821.533,\n",
              "       8765.156, 8603.106, 8581.648, 8554.227], dtype=float32)>"
            ]
          },
          "metadata": {
            "tags": []
          },
          "execution_count": 74
        }
      ]
    },
    {
      "cell_type": "code",
      "metadata": {
        "colab": {
          "base_uri": "https://localhost:8080/"
        },
        "id": "yjfEDWxjrZW2",
        "outputId": "7633660c-c024-4c43-9739-c30f438191c7"
      },
      "source": [
        "# Evaluate predictions\n",
        "model_4_results = evaluate_preds(y_true=tf.squeeze(test_labels),\n",
        "                                 y_pred=model_4_preds)\n",
        "model_4_results"
      ],
      "execution_count": 75,
      "outputs": [
        {
          "output_type": "execute_result",
          "data": {
            "text/plain": [
              "{'mae': 668.5227,\n",
              " 'mape': 3.0028498,\n",
              " 'mase': 1.1744093,\n",
              " 'mse': 1525955.6,\n",
              " 'rmse': 1235.2958}"
            ]
          },
          "metadata": {
            "tags": []
          },
          "execution_count": 75
        }
      ]
    },
    {
      "cell_type": "markdown",
      "metadata": {
        "id": "wg-oDSXqZlop"
      },
      "source": [
        "UPTOHERE:\n",
        "* Make LSTM code work\n",
        "* After LSTM bring in N-BEATS algorithm?\n",
        "* Make TensorFlow windowing function, use it with best model\n",
        "* Make multivariate time series model work \n",
        "* Make future forecasts\n",
        "* Make future forecasts with uncertainty\n",
        "* Introduce Turkey problem & show how it effects our models"
      ]
    },
    {
      "cell_type": "markdown",
      "metadata": {
        "id": "pZ2s0Rx0rZjE"
      },
      "source": [
        "## TODO: Model 5: RNN (LSTM)\n",
        "\n",
        "TK (image) - make an image of inputs -> model -> output "
      ]
    },
    {
      "cell_type": "code",
      "metadata": {
        "colab": {
          "base_uri": "https://localhost:8080/"
        },
        "id": "LwG908g24AER",
        "outputId": "aef5b1e7-dc72-4cff-ae31-092c675457e3"
      },
      "source": [
        "len(train_windows), len(train_labels)"
      ],
      "execution_count": 80,
      "outputs": [
        {
          "output_type": "execute_result",
          "data": {
            "text/plain": [
              "(2223, 2223)"
            ]
          },
          "metadata": {
            "tags": []
          },
          "execution_count": 80
        }
      ]
    },
    {
      "cell_type": "code",
      "metadata": {
        "colab": {
          "base_uri": "https://localhost:8080/"
        },
        "id": "a6YFL_b-rZrt",
        "outputId": "680ff944-a389-4f51-dba2-1b3abf9e46c8"
      },
      "source": [
        "tf.random.set_seed(42)\n",
        "\n",
        "# Let's build an LSTM model with the Functional API\n",
        "inputs = layers.Input(shape=(WINDOW_SIZE))\n",
        "x = layers.Lambda(lambda x: tf.expand_dims(x, axis=1))(inputs) # expand input dimension to be compatible with LSTM\n",
        "# print(x.shape)\n",
        "# x = layers.Conv1D(128, kernel_size=3, padding=\"causal\", activation=\"relu\")(x)\n",
        "# x = layers.LSTM(128, activation=\"relu\", return_sequences=True)(x) # this layer will error if the inputs are not the right shape\n",
        "# x = layers.Dropout(0.05)(x)\n",
        "x = layers.LSTM(128, activation=\"relu\")(x)\n",
        "# print(x.shape)\n",
        "# x = layers.Dense(32, activation=\"relu\")(x)\n",
        "output = layers.Dense(HORIZON)(x)\n",
        "model_5 = tf.keras.Model(inputs=inputs, outputs=output, name=\"model_5_lstm\")\n",
        "\n",
        "# Compile model\n",
        "model_5.compile(loss=\"mae\",\n",
        "                optimizer=tf.keras.optimizers.Adam())\n",
        "\n",
        "# Seems when saving the model several warnings are appearing: https://github.com/tensorflow/tensorflow/issues/47554 \n",
        "model_5.fit(train_windows,\n",
        "            train_labels,\n",
        "            epochs=10,\n",
        "            validation_data=(test_windows, test_labels),\n",
        "            callbacks=[create_model_checkpoint(model_name=model_5.name)])"
      ],
      "execution_count": 113,
      "outputs": [
        {
          "output_type": "stream",
          "text": [
            "Epoch 1/10\n",
            "70/70 [==============================] - 2s 7ms/step - loss: 923.1740 - val_loss: 974.0411\n",
            "INFO:tensorflow:Assets written to: model_experiments/model_5_lstm/assets\n",
            "Epoch 2/10\n",
            "70/70 [==============================] - 0s 3ms/step - loss: 174.1213 - val_loss: 945.0856\n",
            "INFO:tensorflow:Assets written to: model_experiments/model_5_lstm/assets\n",
            "Epoch 3/10\n",
            "70/70 [==============================] - 0s 4ms/step - loss: 166.7541 - val_loss: 982.9055\n",
            "Epoch 4/10\n",
            "70/70 [==============================] - 0s 4ms/step - loss: 165.7386 - val_loss: 888.1649\n",
            "INFO:tensorflow:Assets written to: model_experiments/model_5_lstm/assets\n",
            "Epoch 5/10\n",
            "70/70 [==============================] - 0s 4ms/step - loss: 155.1983 - val_loss: 862.0515\n",
            "INFO:tensorflow:Assets written to: model_experiments/model_5_lstm/assets\n",
            "Epoch 6/10\n",
            "70/70 [==============================] - 0s 4ms/step - loss: 148.9927 - val_loss: 811.6896\n",
            "INFO:tensorflow:Assets written to: model_experiments/model_5_lstm/assets\n",
            "Epoch 7/10\n",
            "70/70 [==============================] - 0s 4ms/step - loss: 147.2536 - val_loss: 802.6459\n",
            "INFO:tensorflow:Assets written to: model_experiments/model_5_lstm/assets\n",
            "Epoch 8/10\n",
            "70/70 [==============================] - 0s 4ms/step - loss: 142.9419 - val_loss: 755.9104\n",
            "INFO:tensorflow:Assets written to: model_experiments/model_5_lstm/assets\n",
            "Epoch 9/10\n",
            "70/70 [==============================] - 0s 4ms/step - loss: 136.7105 - val_loss: 739.2155\n",
            "INFO:tensorflow:Assets written to: model_experiments/model_5_lstm/assets\n",
            "Epoch 10/10\n",
            "70/70 [==============================] - 0s 4ms/step - loss: 133.8250 - val_loss: 774.0806\n"
          ],
          "name": "stdout"
        },
        {
          "output_type": "execute_result",
          "data": {
            "text/plain": [
              "<tensorflow.python.keras.callbacks.History at 0x7fbfc77a3c10>"
            ]
          },
          "metadata": {
            "tags": []
          },
          "execution_count": 113
        }
      ]
    },
    {
      "cell_type": "code",
      "metadata": {
        "colab": {
          "base_uri": "https://localhost:8080/"
        },
        "id": "N59tLdtu58G4",
        "outputId": "8e427692-6c0c-4511-e2a8-5837abf3a53e"
      },
      "source": [
        "model_5.summary()"
      ],
      "execution_count": 114,
      "outputs": [
        {
          "output_type": "stream",
          "text": [
            "Model: \"model_5_lstm\"\n",
            "_________________________________________________________________\n",
            "Layer (type)                 Output Shape              Param #   \n",
            "=================================================================\n",
            "input_14 (InputLayer)        [(None, 7)]               0         \n",
            "_________________________________________________________________\n",
            "lambda_15 (Lambda)           (None, 1, 7)              0         \n",
            "_________________________________________________________________\n",
            "lstm_15 (LSTM)               (None, 128)               69632     \n",
            "_________________________________________________________________\n",
            "dense_25 (Dense)             (None, 1)                 129       \n",
            "=================================================================\n",
            "Total params: 69,761\n",
            "Trainable params: 69,761\n",
            "Non-trainable params: 0\n",
            "_________________________________________________________________\n"
          ],
          "name": "stdout"
        }
      ]
    },
    {
      "cell_type": "code",
      "metadata": {
        "colab": {
          "base_uri": "https://localhost:8080/"
        },
        "id": "yfG11v_51UWa",
        "outputId": "9e548667-c3b2-4fe5-e88e-7ab4e08e76ff"
      },
      "source": [
        "# Make predictions with our LSTM model\n",
        "model_5_preds = make_forecast(model_5, test_windows)\n",
        "model_5_preds[:10]"
      ],
      "execution_count": 115,
      "outputs": [
        {
          "output_type": "execute_result",
          "data": {
            "text/plain": [
              "<tf.Tensor: shape=(10,), dtype=float32, numpy=\n",
              "array([9301.812 , 9130.1   , 9208.8545, 9075.832 , 8963.54  , 9014.763 ,\n",
              "       8943.372 , 8786.986 , 8761.33  , 8735.051 ], dtype=float32)>"
            ]
          },
          "metadata": {
            "tags": []
          },
          "execution_count": 115
        }
      ]
    },
    {
      "cell_type": "code",
      "metadata": {
        "colab": {
          "base_uri": "https://localhost:8080/"
        },
        "id": "sVv5Kg5N1axK",
        "outputId": "2eae425d-9bd3-4345-eede-e7af724e61ba"
      },
      "source": [
        "# Evaluate model 5 preds\n",
        "model_5_results = evaluate_preds(y_true=tf.squeeze(test_labels),\n",
        "                                 y_pred=model_5_preds)\n",
        "model_5_results"
      ],
      "execution_count": 116,
      "outputs": [
        {
          "output_type": "execute_result",
          "data": {
            "text/plain": [
              "{'mae': 774.0805,\n",
              " 'mape': 3.6154144,\n",
              " 'mase': 1.359845,\n",
              " 'mse': 1995518.6,\n",
              " 'rmse': 1412.6283}"
            ]
          },
          "metadata": {
            "tags": []
          },
          "execution_count": 116
        }
      ]
    },
    {
      "cell_type": "markdown",
      "metadata": {
        "id": "Y82CDMWp5Wva"
      },
      "source": [
        "# TODO: Make a multivariate time series \n",
        "\n",
        "Bitcoin price + halving events...\n",
        "\n",
        "-> https://www.investopedia.com/bitcoin-halving-4843769\n",
        "\n",
        "> Vigg_1991: For me … I use sensor data for predictions and forecasting … the toughest part of a time series has been .. when doing multivariate time series … some inputs may have larger scale compared to the target .. therefore do we de-trend all the data to keep them consistent or do we keep them them the way they are … because sometimes they lose the correlation between them once they are retreaded for prediction. How would you handle that ? Or is that important for deep learning predictions?\n",
        "\n",
        "* inputs: larger scale compared to target\n",
        "* detrend all the data to keep them consistent? Or keep the same way?\n",
        "* sometimes they lose the correlation between them once they are de-trended "
      ]
    },
    {
      "cell_type": "code",
      "metadata": {
        "colab": {
          "base_uri": "https://localhost:8080/",
          "height": 228
        },
        "id": "Z06o2ls4sSoF",
        "outputId": "5ca509e1-bd89-4435-bc1a-14fedd502e5d"
      },
      "source": [
        "# Let's make a multivariate time series\n",
        "bitcoin_prices.head()"
      ],
      "execution_count": 117,
      "outputs": [
        {
          "output_type": "execute_result",
          "data": {
            "text/html": [
              "<div>\n",
              "<style scoped>\n",
              "    .dataframe tbody tr th:only-of-type {\n",
              "        vertical-align: middle;\n",
              "    }\n",
              "\n",
              "    .dataframe tbody tr th {\n",
              "        vertical-align: top;\n",
              "    }\n",
              "\n",
              "    .dataframe thead th {\n",
              "        text-align: right;\n",
              "    }\n",
              "</style>\n",
              "<table border=\"1\" class=\"dataframe\">\n",
              "  <thead>\n",
              "    <tr style=\"text-align: right;\">\n",
              "      <th></th>\n",
              "      <th>Price</th>\n",
              "    </tr>\n",
              "    <tr>\n",
              "      <th>Date</th>\n",
              "      <th></th>\n",
              "    </tr>\n",
              "  </thead>\n",
              "  <tbody>\n",
              "    <tr>\n",
              "      <th>2013-10-01</th>\n",
              "      <td>123.65499</td>\n",
              "    </tr>\n",
              "    <tr>\n",
              "      <th>2013-10-02</th>\n",
              "      <td>125.45500</td>\n",
              "    </tr>\n",
              "    <tr>\n",
              "      <th>2013-10-03</th>\n",
              "      <td>108.58483</td>\n",
              "    </tr>\n",
              "    <tr>\n",
              "      <th>2013-10-04</th>\n",
              "      <td>118.67466</td>\n",
              "    </tr>\n",
              "    <tr>\n",
              "      <th>2013-10-05</th>\n",
              "      <td>121.33866</td>\n",
              "    </tr>\n",
              "  </tbody>\n",
              "</table>\n",
              "</div>"
            ],
            "text/plain": [
              "                Price\n",
              "Date                 \n",
              "2013-10-01  123.65499\n",
              "2013-10-02  125.45500\n",
              "2013-10-03  108.58483\n",
              "2013-10-04  118.67466\n",
              "2013-10-05  121.33866"
            ]
          },
          "metadata": {
            "tags": []
          },
          "execution_count": 117
        }
      ]
    },
    {
      "cell_type": "markdown",
      "metadata": {
        "id": "DEqgTKX-t7xe"
      },
      "source": [
        "Now let's add another feature column, the block reward size (the amount of Bitcoin recevied by mining a block, this value halves every ~4 years and may be related to the price).\n",
        "\n",
        "Source: https://www.cmcmarkets.com/en/learn-cryptocurrencies/bitcoin-halving"
      ]
    },
    {
      "cell_type": "code",
      "metadata": {
        "id": "HrUKQXnssWHt"
      },
      "source": [
        "# Block reward values\n",
        "block_reward_1 = 50 # 3 January 2009 (2009-01-03) - this isn't in our dataset (it starts from 01 October 2013)\n",
        "block_reward_2 = 25 # 28 November 2012 \n",
        "block_reward_3 = 12.5 # 9 July 2016\n",
        "block_reward_4 = 6.25 # 11 May 2020\n",
        "\n",
        "# Block reward dates (datetime form of the above date stamps)\n",
        "block_reward_2_datetime = np.datetime64(\"2012-11-28\")\n",
        "block_reward_3_datetime = np.datetime64(\"2016-07-09\")\n",
        "block_reward_4_datetime = np.datetime64(\"2020-05-11\")"
      ],
      "execution_count": 118,
      "outputs": []
    },
    {
      "cell_type": "markdown",
      "metadata": {
        "id": "I2RiTXPd3lAL"
      },
      "source": [
        "We're going to get the days (indexes) for different block reward values. \n",
        "\n",
        "This is important because if we're going to use multiple variables for our time series, they have to the same frequency as our original variable. For example, if our Bitcoin prices are daily, we need the block reward values to be daily as well.\n",
        "\n",
        "> 🔑 **Note:** For using multiple variables, make sure they're the same frequency as each other. If your variables aren't at the same frequency (e.g. Bitcoin prices are daily but block rewards are weekly), you may need to transform them in a way that they can be used with your model."
      ]
    },
    {
      "cell_type": "code",
      "metadata": {
        "colab": {
          "base_uri": "https://localhost:8080/"
        },
        "id": "jmawWFj9udzC",
        "outputId": "5f484ce5-1a17-4242-cca8-b38e87f2d31a"
      },
      "source": [
        "# Get date indexes for when to add in different block dates\n",
        "block_reward_2_days = (block_reward_3_datetime - bitcoin_prices.index[0]).days\n",
        "block_reward_3_days = (block_reward_4_datetime - bitcoin_prices.index[0]).days\n",
        "block_reward_2_days, block_reward_3_days"
      ],
      "execution_count": 119,
      "outputs": [
        {
          "output_type": "execute_result",
          "data": {
            "text/plain": [
              "(1012, 2414)"
            ]
          },
          "metadata": {
            "tags": []
          },
          "execution_count": 119
        }
      ]
    },
    {
      "cell_type": "markdown",
      "metadata": {
        "id": "B2ZxThVAy0B3"
      },
      "source": [
        "Now we can add another feature to our dataset `block_reward` (this gets lower over time so it may lead to increasing prices of Bitcoin)."
      ]
    },
    {
      "cell_type": "code",
      "metadata": {
        "colab": {
          "base_uri": "https://localhost:8080/",
          "height": 228
        },
        "id": "BM9zRZDQvw7m",
        "outputId": "c8fc7f43-d61e-4ab0-cf97-b0d45aa2e59d"
      },
      "source": [
        "# Add block_reward column\n",
        "bitcoin_prices_block = bitcoin_prices.copy()\n",
        "bitcoin_prices_block[\"block_reward\"] = None\n",
        "\n",
        "# Set values of block_reward column (it's the last column hence -1 indexing on iloc)\n",
        "bitcoin_prices_block.iloc[:block_reward_2_days, -1] = block_reward_2\n",
        "bitcoin_prices_block.iloc[block_reward_2_days:block_reward_3_days, -1] = block_reward_3\n",
        "bitcoin_prices_block.iloc[block_reward_3_days:, -1] = block_reward_4\n",
        "bitcoin_prices_block.head()"
      ],
      "execution_count": 120,
      "outputs": [
        {
          "output_type": "execute_result",
          "data": {
            "text/html": [
              "<div>\n",
              "<style scoped>\n",
              "    .dataframe tbody tr th:only-of-type {\n",
              "        vertical-align: middle;\n",
              "    }\n",
              "\n",
              "    .dataframe tbody tr th {\n",
              "        vertical-align: top;\n",
              "    }\n",
              "\n",
              "    .dataframe thead th {\n",
              "        text-align: right;\n",
              "    }\n",
              "</style>\n",
              "<table border=\"1\" class=\"dataframe\">\n",
              "  <thead>\n",
              "    <tr style=\"text-align: right;\">\n",
              "      <th></th>\n",
              "      <th>Price</th>\n",
              "      <th>block_reward</th>\n",
              "    </tr>\n",
              "    <tr>\n",
              "      <th>Date</th>\n",
              "      <th></th>\n",
              "      <th></th>\n",
              "    </tr>\n",
              "  </thead>\n",
              "  <tbody>\n",
              "    <tr>\n",
              "      <th>2013-10-01</th>\n",
              "      <td>123.65499</td>\n",
              "      <td>25</td>\n",
              "    </tr>\n",
              "    <tr>\n",
              "      <th>2013-10-02</th>\n",
              "      <td>125.45500</td>\n",
              "      <td>25</td>\n",
              "    </tr>\n",
              "    <tr>\n",
              "      <th>2013-10-03</th>\n",
              "      <td>108.58483</td>\n",
              "      <td>25</td>\n",
              "    </tr>\n",
              "    <tr>\n",
              "      <th>2013-10-04</th>\n",
              "      <td>118.67466</td>\n",
              "      <td>25</td>\n",
              "    </tr>\n",
              "    <tr>\n",
              "      <th>2013-10-05</th>\n",
              "      <td>121.33866</td>\n",
              "      <td>25</td>\n",
              "    </tr>\n",
              "  </tbody>\n",
              "</table>\n",
              "</div>"
            ],
            "text/plain": [
              "                Price block_reward\n",
              "Date                              \n",
              "2013-10-01  123.65499           25\n",
              "2013-10-02  125.45500           25\n",
              "2013-10-03  108.58483           25\n",
              "2013-10-04  118.67466           25\n",
              "2013-10-05  121.33866           25"
            ]
          },
          "metadata": {
            "tags": []
          },
          "execution_count": 120
        }
      ]
    },
    {
      "cell_type": "code",
      "metadata": {
        "colab": {
          "base_uri": "https://localhost:8080/",
          "height": 459
        },
        "id": "Tfh8dmtF46Lf",
        "outputId": "c9d098b1-db0a-4018-bc33-d2b28aa08a6c"
      },
      "source": [
        "# Plot the block reward/price over time\n",
        "from sklearn.preprocessing import minmax_scale\n",
        "scaled_price_block_df = pd.DataFrame(minmax_scale(bitcoin_prices_block[[\"Price\", \"block_reward\"]]), # we need to scale the data first\n",
        "                                     columns=bitcoin_prices_block.columns,\n",
        "                                     index=bitcoin_prices_block.index)\n",
        "scaled_price_block_df.plot(figsize=(10, 7));"
      ],
      "execution_count": 124,
      "outputs": [
        {
          "output_type": "execute_result",
          "data": {
            "text/plain": [
              "<matplotlib.axes._subplots.AxesSubplot at 0x7fbfca325c10>"
            ]
          },
          "metadata": {
            "tags": []
          },
          "execution_count": 124
        },
        {
          "output_type": "display_data",
          "data": {
            "image/png": "[encoded data removed]",
            "text/plain": [
              "<Figure size 720x504 with 1 Axes>"
            ]
          },
          "metadata": {
            "tags": [],
            "needs_background": "light"
          }
        }
      ]
    },
    {
      "cell_type": "markdown",
      "metadata": {
        "id": "V-lSjFE-4_qq"
      },
      "source": [
        "When we scale the block reward and the Bitcoin price, we can see the price goes up as the block reward goes down, perhaps this information will be helpful to our model's performance."
      ]
    },
    {
      "cell_type": "markdown",
      "metadata": {
        "id": "7m0h2WcP5Ko8"
      },
      "source": [
        "### TODO: Making a windowed dataset with pandas\n",
        "\n",
        "TK - explain this\n",
        "\n",
        "Let's make a windowed dataset with pandas."
      ]
    },
    {
      "cell_type": "code",
      "metadata": {
        "id": "8_9iFxKS8Sed"
      },
      "source": [
        "HORIZON = 1\n",
        "WINDOW_SIZE = 7"
      ],
      "execution_count": 128,
      "outputs": []
    },
    {
      "cell_type": "code",
      "metadata": {
        "colab": {
          "base_uri": "https://localhost:8080/",
          "height": 335
        },
        "id": "DqPp3HdHsXO8",
        "outputId": "282d2e2b-3c1e-4359-bcf0-db37986d10c7"
      },
      "source": [
        "# Add windowed columns\n",
        "bitcoin_prices_windowed = bitcoin_prices_block.copy()\n",
        "for i in range(WINDOW_SIZE):\n",
        "  bitcoin_prices_windowed[f\"Price+{i+1}\"] = bitcoin_prices_windowed[\"Price\"].shift(i+1)\n",
        "bitcoin_prices_windowed.head()"
      ],
      "execution_count": 125,
      "outputs": [
        {
          "output_type": "execute_result",
          "data": {
            "text/html": [
              "<div>\n",
              "<style scoped>\n",
              "    .dataframe tbody tr th:only-of-type {\n",
              "        vertical-align: middle;\n",
              "    }\n",
              "\n",
              "    .dataframe tbody tr th {\n",
              "        vertical-align: top;\n",
              "    }\n",
              "\n",
              "    .dataframe thead th {\n",
              "        text-align: right;\n",
              "    }\n",
              "</style>\n",
              "<table border=\"1\" class=\"dataframe\">\n",
              "  <thead>\n",
              "    <tr style=\"text-align: right;\">\n",
              "      <th></th>\n",
              "      <th>Price</th>\n",
              "      <th>block_reward</th>\n",
              "      <th>Price+1</th>\n",
              "      <th>Price+2</th>\n",
              "      <th>Price+3</th>\n",
              "      <th>Price+4</th>\n",
              "      <th>Price+5</th>\n",
              "      <th>Price+6</th>\n",
              "      <th>Price+7</th>\n",
              "    </tr>\n",
              "    <tr>\n",
              "      <th>Date</th>\n",
              "      <th></th>\n",
              "      <th></th>\n",
              "      <th></th>\n",
              "      <th></th>\n",
              "      <th></th>\n",
              "      <th></th>\n",
              "      <th></th>\n",
              "      <th></th>\n",
              "      <th></th>\n",
              "    </tr>\n",
              "  </thead>\n",
              "  <tbody>\n",
              "    <tr>\n",
              "      <th>2013-10-01</th>\n",
              "      <td>123.65499</td>\n",
              "      <td>25</td>\n",
              "      <td>NaN</td>\n",
              "      <td>NaN</td>\n",
              "      <td>NaN</td>\n",
              "      <td>NaN</td>\n",
              "      <td>NaN</td>\n",
              "      <td>NaN</td>\n",
              "      <td>NaN</td>\n",
              "    </tr>\n",
              "    <tr>\n",
              "      <th>2013-10-02</th>\n",
              "      <td>125.45500</td>\n",
              "      <td>25</td>\n",
              "      <td>123.65499</td>\n",
              "      <td>NaN</td>\n",
              "      <td>NaN</td>\n",
              "      <td>NaN</td>\n",
              "      <td>NaN</td>\n",
              "      <td>NaN</td>\n",
              "      <td>NaN</td>\n",
              "    </tr>\n",
              "    <tr>\n",
              "      <th>2013-10-03</th>\n",
              "      <td>108.58483</td>\n",
              "      <td>25</td>\n",
              "      <td>125.45500</td>\n",
              "      <td>123.65499</td>\n",
              "      <td>NaN</td>\n",
              "      <td>NaN</td>\n",
              "      <td>NaN</td>\n",
              "      <td>NaN</td>\n",
              "      <td>NaN</td>\n",
              "    </tr>\n",
              "    <tr>\n",
              "      <th>2013-10-04</th>\n",
              "      <td>118.67466</td>\n",
              "      <td>25</td>\n",
              "      <td>108.58483</td>\n",
              "      <td>125.45500</td>\n",
              "      <td>123.65499</td>\n",
              "      <td>NaN</td>\n",
              "      <td>NaN</td>\n",
              "      <td>NaN</td>\n",
              "      <td>NaN</td>\n",
              "    </tr>\n",
              "    <tr>\n",
              "      <th>2013-10-05</th>\n",
              "      <td>121.33866</td>\n",
              "      <td>25</td>\n",
              "      <td>118.67466</td>\n",
              "      <td>108.58483</td>\n",
              "      <td>125.45500</td>\n",
              "      <td>123.65499</td>\n",
              "      <td>NaN</td>\n",
              "      <td>NaN</td>\n",
              "      <td>NaN</td>\n",
              "    </tr>\n",
              "  </tbody>\n",
              "</table>\n",
              "</div>"
            ],
            "text/plain": [
              "                Price block_reward    Price+1  ...  Price+5  Price+6  Price+7\n",
              "Date                                           ...                           \n",
              "2013-10-01  123.65499           25        NaN  ...      NaN      NaN      NaN\n",
              "2013-10-02  125.45500           25  123.65499  ...      NaN      NaN      NaN\n",
              "2013-10-03  108.58483           25  125.45500  ...      NaN      NaN      NaN\n",
              "2013-10-04  118.67466           25  108.58483  ...      NaN      NaN      NaN\n",
              "2013-10-05  121.33866           25  118.67466  ...      NaN      NaN      NaN\n",
              "\n",
              "[5 rows x 9 columns]"
            ]
          },
          "metadata": {
            "tags": []
          },
          "execution_count": 125
        }
      ]
    },
    {
      "cell_type": "markdown",
      "metadata": {
        "id": "dVN20lqn6b_Y"
      },
      "source": [
        "Now that we've got a windowed dataset, let's separate features (`X`) from labels (`y`).\n",
        "\n",
        "Remember in our windowed dataset, we're trying to use the previous `WINDOW_SIZE` steps to predict `HORIZON` steps.\n",
        "\n",
        "```\n",
        "# Window for a week (7) to predict a horizon of 1 (multivariate time series)\n",
        "WINDOW_SIZE -> HORIZON\n",
        "[0, 1, 2, 3, 4, 5, 6, block_reward] -> [7]\n",
        "[1, 2, 3, 4, 5, 6, 7, block_reward] -> [8]\n",
        "[2, 3, 4, 5, 6, 7, 8, block_reward] -> [9]\n",
        "```\n",
        "\n",
        "We'll also remove the `NaN` values using pandas `dropna()` method, this equivalent to starting our windowing function at `sample 0 (the first sample) + WINDOW_SIZE`."
      ]
    },
    {
      "cell_type": "code",
      "metadata": {
        "colab": {
          "base_uri": "https://localhost:8080/",
          "height": 335
        },
        "id": "VpMH6_Dax2wJ",
        "outputId": "8f68776d-76e3-464b-ac16-4e1df51da4e2"
      },
      "source": [
        "# Let's create X & y, remove the NaN's and convert to float32 to prevent TensorFlow errors \n",
        "X = bitcoin_prices_windowed.dropna().drop(\"Price\", axis=1).astype(np.float32) \n",
        "y = bitcoin_prices_windowed.dropna()[\"Price\"].astype(np.float32)\n",
        "X.head()"
      ],
      "execution_count": 126,
      "outputs": [
        {
          "output_type": "execute_result",
          "data": {
            "text/html": [
              "<div>\n",
              "<style scoped>\n",
              "    .dataframe tbody tr th:only-of-type {\n",
              "        vertical-align: middle;\n",
              "    }\n",
              "\n",
              "    .dataframe tbody tr th {\n",
              "        vertical-align: top;\n",
              "    }\n",
              "\n",
              "    .dataframe thead th {\n",
              "        text-align: right;\n",
              "    }\n",
              "</style>\n",
              "<table border=\"1\" class=\"dataframe\">\n",
              "  <thead>\n",
              "    <tr style=\"text-align: right;\">\n",
              "      <th></th>\n",
              "      <th>block_reward</th>\n",
              "      <th>Price+1</th>\n",
              "      <th>Price+2</th>\n",
              "      <th>Price+3</th>\n",
              "      <th>Price+4</th>\n",
              "      <th>Price+5</th>\n",
              "      <th>Price+6</th>\n",
              "      <th>Price+7</th>\n",
              "    </tr>\n",
              "    <tr>\n",
              "      <th>Date</th>\n",
              "      <th></th>\n",
              "      <th></th>\n",
              "      <th></th>\n",
              "      <th></th>\n",
              "      <th></th>\n",
              "      <th></th>\n",
              "      <th></th>\n",
              "      <th></th>\n",
              "    </tr>\n",
              "  </thead>\n",
              "  <tbody>\n",
              "    <tr>\n",
              "      <th>2013-10-08</th>\n",
              "      <td>25.0</td>\n",
              "      <td>121.794998</td>\n",
              "      <td>120.655327</td>\n",
              "      <td>121.338661</td>\n",
              "      <td>118.674660</td>\n",
              "      <td>108.584831</td>\n",
              "      <td>125.455002</td>\n",
              "      <td>123.654991</td>\n",
              "    </tr>\n",
              "    <tr>\n",
              "      <th>2013-10-09</th>\n",
              "      <td>25.0</td>\n",
              "      <td>123.032997</td>\n",
              "      <td>121.794998</td>\n",
              "      <td>120.655327</td>\n",
              "      <td>121.338661</td>\n",
              "      <td>118.674660</td>\n",
              "      <td>108.584831</td>\n",
              "      <td>125.455002</td>\n",
              "    </tr>\n",
              "    <tr>\n",
              "      <th>2013-10-10</th>\n",
              "      <td>25.0</td>\n",
              "      <td>124.049004</td>\n",
              "      <td>123.032997</td>\n",
              "      <td>121.794998</td>\n",
              "      <td>120.655327</td>\n",
              "      <td>121.338661</td>\n",
              "      <td>118.674660</td>\n",
              "      <td>108.584831</td>\n",
              "    </tr>\n",
              "    <tr>\n",
              "      <th>2013-10-11</th>\n",
              "      <td>25.0</td>\n",
              "      <td>125.961159</td>\n",
              "      <td>124.049004</td>\n",
              "      <td>123.032997</td>\n",
              "      <td>121.794998</td>\n",
              "      <td>120.655327</td>\n",
              "      <td>121.338661</td>\n",
              "      <td>118.674660</td>\n",
              "    </tr>\n",
              "    <tr>\n",
              "      <th>2013-10-12</th>\n",
              "      <td>25.0</td>\n",
              "      <td>125.279663</td>\n",
              "      <td>125.961159</td>\n",
              "      <td>124.049004</td>\n",
              "      <td>123.032997</td>\n",
              "      <td>121.794998</td>\n",
              "      <td>120.655327</td>\n",
              "      <td>121.338661</td>\n",
              "    </tr>\n",
              "  </tbody>\n",
              "</table>\n",
              "</div>"
            ],
            "text/plain": [
              "            block_reward     Price+1  ...     Price+6     Price+7\n",
              "Date                                  ...                        \n",
              "2013-10-08          25.0  121.794998  ...  125.455002  123.654991\n",
              "2013-10-09          25.0  123.032997  ...  108.584831  125.455002\n",
              "2013-10-10          25.0  124.049004  ...  118.674660  108.584831\n",
              "2013-10-11          25.0  125.961159  ...  121.338661  118.674660\n",
              "2013-10-12          25.0  125.279663  ...  120.655327  121.338661\n",
              "\n",
              "[5 rows x 8 columns]"
            ]
          },
          "metadata": {
            "tags": []
          },
          "execution_count": 126
        }
      ]
    },
    {
      "cell_type": "markdown",
      "metadata": {
        "id": "ECzmudIK8BW5"
      },
      "source": [
        "What a good looking dataset, let's split it into train and test sets."
      ]
    },
    {
      "cell_type": "code",
      "metadata": {
        "colab": {
          "base_uri": "https://localhost:8080/"
        },
        "id": "8GtEFj6HsVwy",
        "outputId": "82d31897-995d-4a2b-8bbc-57dacaba7ef4"
      },
      "source": [
        "# Make train and test sets\n",
        "split_size = int(len(X) * 0.8)\n",
        "X_train, y_train = X[:split_size], y[:split_size]\n",
        "X_test, y_test = X[split_size:], y[split_size:]\n",
        "len(X_train), len(y_train), len(X_test), len(y_test)"
      ],
      "execution_count": 127,
      "outputs": [
        {
          "output_type": "execute_result",
          "data": {
            "text/plain": [
              "(2224, 2224, 556, 556)"
            ]
          },
          "metadata": {
            "tags": []
          },
          "execution_count": 127
        }
      ]
    },
    {
      "cell_type": "markdown",
      "metadata": {
        "id": "APXrtOva8cNH"
      },
      "source": [
        "### Model 6: Dense (multivariate time series)\n",
        "\n",
        "Since `model_1` has performed the best so far, let's replicate its architecture and use it to train and make predictions on our multivariate time series data."
      ]
    },
    {
      "cell_type": "code",
      "metadata": {
        "colab": {
          "base_uri": "https://localhost:8080/"
        },
        "id": "AppTkPafzVyg",
        "outputId": "b8bcfb79-b5ef-4c8c-e5c0-b85a38752e55"
      },
      "source": [
        "tf.random.set_seed(42)\n",
        "\n",
        "# Make multivariate time series model\n",
        "model_6 = tf.keras.Sequential([\n",
        "  layers.Dense(128, activation=\"relu\"),\n",
        "  layers.Dense(HORIZON)\n",
        "], name=\"model_6_dense_multivariate\")\n",
        "\n",
        "model_6.compile(loss=\"mae\",\n",
        "                optimizer=tf.keras.optimizers.Adam())\n",
        "\n",
        "model_6.fit(X_train, y_train,\n",
        "            epochs=10,\n",
        "            validation_data=(X_test, y_test),\n",
        "            callbacks=[create_model_checkpoint(model_name=model_6.name)])"
      ],
      "execution_count": 129,
      "outputs": [
        {
          "output_type": "stream",
          "text": [
            "Epoch 1/10\n",
            "70/70 [==============================] - 1s 3ms/step - loss: 524.0240 - val_loss: 1194.3868\n",
            "INFO:tensorflow:Assets written to: model_experiments/model_6_dense_multivariate/assets\n",
            "Epoch 2/10\n",
            "70/70 [==============================] - 0s 2ms/step - loss: 189.9448 - val_loss: 957.4065\n",
            "INFO:tensorflow:Assets written to: model_experiments/model_6_dense_multivariate/assets\n",
            "Epoch 3/10\n",
            "70/70 [==============================] - 0s 2ms/step - loss: 169.2796 - val_loss: 888.7115\n",
            "INFO:tensorflow:Assets written to: model_experiments/model_6_dense_multivariate/assets\n",
            "Epoch 4/10\n",
            "70/70 [==============================] - 0s 2ms/step - loss: 155.6411 - val_loss: 839.4633\n",
            "INFO:tensorflow:Assets written to: model_experiments/model_6_dense_multivariate/assets\n",
            "Epoch 5/10\n",
            "70/70 [==============================] - 0s 2ms/step - loss: 148.5585 - val_loss: 765.8876\n",
            "INFO:tensorflow:Assets written to: model_experiments/model_6_dense_multivariate/assets\n",
            "Epoch 6/10\n",
            "70/70 [==============================] - 0s 2ms/step - loss: 139.5355 - val_loss: 774.2629\n",
            "Epoch 7/10\n",
            "70/70 [==============================] - 0s 2ms/step - loss: 137.2688 - val_loss: 717.8492\n",
            "INFO:tensorflow:Assets written to: model_experiments/model_6_dense_multivariate/assets\n",
            "Epoch 8/10\n",
            "70/70 [==============================] - 0s 2ms/step - loss: 133.2147 - val_loss: 692.1285\n",
            "INFO:tensorflow:Assets written to: model_experiments/model_6_dense_multivariate/assets\n",
            "Epoch 9/10\n",
            "70/70 [==============================] - 0s 2ms/step - loss: 123.2382 - val_loss: 885.1099\n",
            "Epoch 10/10\n",
            "70/70 [==============================] - 0s 2ms/step - loss: 130.8972 - val_loss: 623.8663\n",
            "INFO:tensorflow:Assets written to: model_experiments/model_6_dense_multivariate/assets\n"
          ],
          "name": "stdout"
        },
        {
          "output_type": "execute_result",
          "data": {
            "text/plain": [
              "<tensorflow.python.keras.callbacks.History at 0x7fbfd4c86ad0>"
            ]
          },
          "metadata": {
            "tags": []
          },
          "execution_count": 129
        }
      ]
    },
    {
      "cell_type": "code",
      "metadata": {
        "colab": {
          "base_uri": "https://localhost:8080/"
        },
        "id": "PCDHUobK1rvj",
        "outputId": "1ed29cff-f8ef-4999-a6fc-a115b01ed319"
      },
      "source": [
        "# Evalaute\n",
        "model_6.evaluate(X_test, y_test)"
      ],
      "execution_count": 130,
      "outputs": [
        {
          "output_type": "stream",
          "text": [
            "18/18 [==============================] - 0s 1ms/step - loss: 623.8663\n"
          ],
          "name": "stdout"
        },
        {
          "output_type": "execute_result",
          "data": {
            "text/plain": [
              "623.8663330078125"
            ]
          },
          "metadata": {
            "tags": []
          },
          "execution_count": 130
        }
      ]
    },
    {
      "cell_type": "code",
      "metadata": {
        "colab": {
          "base_uri": "https://localhost:8080/"
        },
        "id": "K1miRk_b3g97",
        "outputId": "b07a9fcd-acf3-4849-9e00-0b94cc75648f"
      },
      "source": [
        "# Make sure best model is loaded and evaluate\n",
        "model_X = tf.keras.models.load_model(\"model_experiments/model_6_dense_multivariate\")\n",
        "model_X.evaluate(X_test, y_test)"
      ],
      "execution_count": 132,
      "outputs": [
        {
          "output_type": "stream",
          "text": [
            "18/18 [==============================] - 0s 1ms/step - loss: 623.8663\n"
          ],
          "name": "stdout"
        },
        {
          "output_type": "execute_result",
          "data": {
            "text/plain": [
              "623.8663330078125"
            ]
          },
          "metadata": {
            "tags": []
          },
          "execution_count": 132
        }
      ]
    },
    {
      "cell_type": "code",
      "metadata": {
        "colab": {
          "base_uri": "https://localhost:8080/",
          "height": 571
        },
        "id": "5g_IyP-G9LSM",
        "outputId": "9a7bd07f-a6ee-4519-faf0-5c993e18c36e"
      },
      "source": [
        "X_test[:10]"
      ],
      "execution_count": 134,
      "outputs": [
        {
          "output_type": "execute_result",
          "data": {
            "text/html": [
              "<div>\n",
              "<style scoped>\n",
              "    .dataframe tbody tr th:only-of-type {\n",
              "        vertical-align: middle;\n",
              "    }\n",
              "\n",
              "    .dataframe tbody tr th {\n",
              "        vertical-align: top;\n",
              "    }\n",
              "\n",
              "    .dataframe thead th {\n",
              "        text-align: right;\n",
              "    }\n",
              "</style>\n",
              "<table border=\"1\" class=\"dataframe\">\n",
              "  <thead>\n",
              "    <tr style=\"text-align: right;\">\n",
              "      <th></th>\n",
              "      <th>block_reward</th>\n",
              "      <th>Price+1</th>\n",
              "      <th>Price+2</th>\n",
              "      <th>Price+3</th>\n",
              "      <th>Price+4</th>\n",
              "      <th>Price+5</th>\n",
              "      <th>Price+6</th>\n",
              "      <th>Price+7</th>\n",
              "    </tr>\n",
              "    <tr>\n",
              "      <th>Date</th>\n",
              "      <th></th>\n",
              "      <th></th>\n",
              "      <th></th>\n",
              "      <th></th>\n",
              "      <th></th>\n",
              "      <th></th>\n",
              "      <th></th>\n",
              "      <th></th>\n",
              "    </tr>\n",
              "  </thead>\n",
              "  <tbody>\n",
              "    <tr>\n",
              "      <th>2019-11-10</th>\n",
              "      <td>12.5</td>\n",
              "      <td>8794.358398</td>\n",
              "      <td>9226.485352</td>\n",
              "      <td>9335.751953</td>\n",
              "      <td>9326.599609</td>\n",
              "      <td>9369.627930</td>\n",
              "      <td>9202.415039</td>\n",
              "      <td>9290.896484</td>\n",
              "    </tr>\n",
              "    <tr>\n",
              "      <th>2019-11-11</th>\n",
              "      <td>12.5</td>\n",
              "      <td>8798.041992</td>\n",
              "      <td>8794.358398</td>\n",
              "      <td>9226.485352</td>\n",
              "      <td>9335.751953</td>\n",
              "      <td>9326.599609</td>\n",
              "      <td>9369.627930</td>\n",
              "      <td>9202.415039</td>\n",
              "    </tr>\n",
              "    <tr>\n",
              "      <th>2019-11-12</th>\n",
              "      <td>12.5</td>\n",
              "      <td>9081.186523</td>\n",
              "      <td>8798.041992</td>\n",
              "      <td>8794.358398</td>\n",
              "      <td>9226.485352</td>\n",
              "      <td>9335.751953</td>\n",
              "      <td>9326.599609</td>\n",
              "      <td>9369.627930</td>\n",
              "    </tr>\n",
              "    <tr>\n",
              "      <th>2019-11-13</th>\n",
              "      <td>12.5</td>\n",
              "      <td>8711.534180</td>\n",
              "      <td>9081.186523</td>\n",
              "      <td>8798.041992</td>\n",
              "      <td>8794.358398</td>\n",
              "      <td>9226.485352</td>\n",
              "      <td>9335.751953</td>\n",
              "      <td>9326.599609</td>\n",
              "    </tr>\n",
              "    <tr>\n",
              "      <th>2019-11-14</th>\n",
              "      <td>12.5</td>\n",
              "      <td>8760.892578</td>\n",
              "      <td>8711.534180</td>\n",
              "      <td>9081.186523</td>\n",
              "      <td>8798.041992</td>\n",
              "      <td>8794.358398</td>\n",
              "      <td>9226.485352</td>\n",
              "      <td>9335.751953</td>\n",
              "    </tr>\n",
              "    <tr>\n",
              "      <th>2019-11-15</th>\n",
              "      <td>12.5</td>\n",
              "      <td>8749.520508</td>\n",
              "      <td>8760.892578</td>\n",
              "      <td>8711.534180</td>\n",
              "      <td>9081.186523</td>\n",
              "      <td>8798.041992</td>\n",
              "      <td>8794.358398</td>\n",
              "      <td>9226.485352</td>\n",
              "    </tr>\n",
              "    <tr>\n",
              "      <th>2019-11-16</th>\n",
              "      <td>12.5</td>\n",
              "      <td>8656.970703</td>\n",
              "      <td>8749.520508</td>\n",
              "      <td>8760.892578</td>\n",
              "      <td>8711.534180</td>\n",
              "      <td>9081.186523</td>\n",
              "      <td>8798.041992</td>\n",
              "      <td>8794.358398</td>\n",
              "    </tr>\n",
              "    <tr>\n",
              "      <th>2019-11-17</th>\n",
              "      <td>12.5</td>\n",
              "      <td>8500.643555</td>\n",
              "      <td>8656.970703</td>\n",
              "      <td>8749.520508</td>\n",
              "      <td>8760.892578</td>\n",
              "      <td>8711.534180</td>\n",
              "      <td>9081.186523</td>\n",
              "      <td>8798.041992</td>\n",
              "    </tr>\n",
              "    <tr>\n",
              "      <th>2019-11-18</th>\n",
              "      <td>12.5</td>\n",
              "      <td>8469.260742</td>\n",
              "      <td>8500.643555</td>\n",
              "      <td>8656.970703</td>\n",
              "      <td>8749.520508</td>\n",
              "      <td>8760.892578</td>\n",
              "      <td>8711.534180</td>\n",
              "      <td>9081.186523</td>\n",
              "    </tr>\n",
              "    <tr>\n",
              "      <th>2019-11-19</th>\n",
              "      <td>12.5</td>\n",
              "      <td>8537.339844</td>\n",
              "      <td>8469.260742</td>\n",
              "      <td>8500.643555</td>\n",
              "      <td>8656.970703</td>\n",
              "      <td>8749.520508</td>\n",
              "      <td>8760.892578</td>\n",
              "      <td>8711.534180</td>\n",
              "    </tr>\n",
              "  </tbody>\n",
              "</table>\n",
              "</div>"
            ],
            "text/plain": [
              "            block_reward      Price+1  ...      Price+6      Price+7\n",
              "Date                                   ...                          \n",
              "2019-11-10          12.5  8794.358398  ...  9202.415039  9290.896484\n",
              "2019-11-11          12.5  8798.041992  ...  9369.627930  9202.415039\n",
              "2019-11-12          12.5  9081.186523  ...  9326.599609  9369.627930\n",
              "2019-11-13          12.5  8711.534180  ...  9335.751953  9326.599609\n",
              "2019-11-14          12.5  8760.892578  ...  9226.485352  9335.751953\n",
              "2019-11-15          12.5  8749.520508  ...  8794.358398  9226.485352\n",
              "2019-11-16          12.5  8656.970703  ...  8798.041992  8794.358398\n",
              "2019-11-17          12.5  8500.643555  ...  9081.186523  8798.041992\n",
              "2019-11-18          12.5  8469.260742  ...  8711.534180  9081.186523\n",
              "2019-11-19          12.5  8537.339844  ...  8760.892578  8711.534180\n",
              "\n",
              "[10 rows x 8 columns]"
            ]
          },
          "metadata": {
            "tags": []
          },
          "execution_count": 134
        }
      ]
    },
    {
      "cell_type": "code",
      "metadata": {
        "colab": {
          "base_uri": "https://localhost:8080/"
        },
        "id": "1t9d_Yyx17dE",
        "outputId": "4c1ed6bc-988d-4ffa-9b19-16a459c8d9b5"
      },
      "source": [
        "# Make predictions on multivariate data\n",
        "model_6_preds = tf.squeeze(model_X.predict(X_test))\n",
        "model_6_preds[:10]"
      ],
      "execution_count": 135,
      "outputs": [
        {
          "output_type": "execute_result",
          "data": {
            "text/plain": [
              "<tf.Tensor: shape=(10,), dtype=float32, numpy=\n",
              "array([9010.176, 8902.804, 9031.411, 8761.877, 8772.363, 8843.424,\n",
              "       8704.264, 8575.809, 8545.895, 8550.852], dtype=float32)>"
            ]
          },
          "metadata": {
            "tags": []
          },
          "execution_count": 135
        }
      ]
    },
    {
      "cell_type": "code",
      "metadata": {
        "colab": {
          "base_uri": "https://localhost:8080/"
        },
        "id": "MsMPgRO117aB",
        "outputId": "0b794721-75a0-4b49-8d45-a5f249029785"
      },
      "source": [
        "# Evaluate preds\n",
        "model_6_results = evaluate_preds(y_true=y_test,\n",
        "                                 y_pred=model_6_preds)\n",
        "model_6_results"
      ],
      "execution_count": 137,
      "outputs": [
        {
          "output_type": "execute_result",
          "data": {
            "text/plain": [
              "{'mae': 623.8663,\n",
              " 'mape': 2.8061981,\n",
              " 'mase': 1.0959603,\n",
              " 'mse': 1357517.8,\n",
              " 'rmse': 1165.1256}"
            ]
          },
          "metadata": {
            "tags": []
          },
          "execution_count": 137
        }
      ]
    },
    {
      "cell_type": "markdown",
      "metadata": {
        "id": "bfl8rXDVu_pJ"
      },
      "source": [
        "## TODO: Make TensorFlow windows"
      ]
    },
    {
      "cell_type": "code",
      "metadata": {
        "colab": {
          "base_uri": "https://localhost:8080/",
          "height": 228
        },
        "id": "mZFbRymp9krv",
        "outputId": "15990461-88ab-4e82-d254-37f8679fd8ca"
      },
      "source": [
        "bitcoin_prices.head()"
      ],
      "execution_count": 145,
      "outputs": [
        {
          "output_type": "execute_result",
          "data": {
            "text/html": [
              "<div>\n",
              "<style scoped>\n",
              "    .dataframe tbody tr th:only-of-type {\n",
              "        vertical-align: middle;\n",
              "    }\n",
              "\n",
              "    .dataframe tbody tr th {\n",
              "        vertical-align: top;\n",
              "    }\n",
              "\n",
              "    .dataframe thead th {\n",
              "        text-align: right;\n",
              "    }\n",
              "</style>\n",
              "<table border=\"1\" class=\"dataframe\">\n",
              "  <thead>\n",
              "    <tr style=\"text-align: right;\">\n",
              "      <th></th>\n",
              "      <th>Price</th>\n",
              "    </tr>\n",
              "    <tr>\n",
              "      <th>Date</th>\n",
              "      <th></th>\n",
              "    </tr>\n",
              "  </thead>\n",
              "  <tbody>\n",
              "    <tr>\n",
              "      <th>2013-10-01</th>\n",
              "      <td>123.65499</td>\n",
              "    </tr>\n",
              "    <tr>\n",
              "      <th>2013-10-02</th>\n",
              "      <td>125.45500</td>\n",
              "    </tr>\n",
              "    <tr>\n",
              "      <th>2013-10-03</th>\n",
              "      <td>108.58483</td>\n",
              "    </tr>\n",
              "    <tr>\n",
              "      <th>2013-10-04</th>\n",
              "      <td>118.67466</td>\n",
              "    </tr>\n",
              "    <tr>\n",
              "      <th>2013-10-05</th>\n",
              "      <td>121.33866</td>\n",
              "    </tr>\n",
              "  </tbody>\n",
              "</table>\n",
              "</div>"
            ],
            "text/plain": [
              "                Price\n",
              "Date                 \n",
              "2013-10-01  123.65499\n",
              "2013-10-02  125.45500\n",
              "2013-10-03  108.58483\n",
              "2013-10-04  118.67466\n",
              "2013-10-05  121.33866"
            ]
          },
          "metadata": {
            "tags": []
          },
          "execution_count": 145
        }
      ]
    },
    {
      "cell_type": "code",
      "metadata": {
        "colab": {
          "base_uri": "https://localhost:8080/"
        },
        "id": "5Kqsy-98ALGC",
        "outputId": "c4e5205e-37b0-4e26-8f16-9c5c4526bb7c"
      },
      "source": [
        "X.to_numpy()"
      ],
      "execution_count": 144,
      "outputs": [
        {
          "output_type": "execute_result",
          "data": {
            "text/plain": [
              "array([[2.5000000e+01, 1.2179500e+02, 1.2065533e+02, ..., 1.0858483e+02,\n",
              "        1.2545500e+02, 1.2365499e+02],\n",
              "       [2.5000000e+01, 1.2303300e+02, 1.2179500e+02, ..., 1.1867466e+02,\n",
              "        1.0858483e+02, 1.2545500e+02],\n",
              "       [2.5000000e+01, 1.2404900e+02, 1.2303300e+02, ..., 1.2133866e+02,\n",
              "        1.1867466e+02, 1.0858483e+02],\n",
              "       ...,\n",
              "       [6.2500000e+00, 5.0032691e+04, 4.9764133e+04, ..., 5.5715547e+04,\n",
              "        5.8102191e+04, 5.8788211e+04],\n",
              "       [6.2500000e+00, 4.7885625e+04, 5.0032691e+04, ..., 5.6573555e+04,\n",
              "        5.5715547e+04, 5.8102191e+04],\n",
              "       [6.2500000e+00, 4.5604617e+04, 4.7885625e+04, ..., 5.2147820e+04,\n",
              "        5.6573555e+04, 5.5715547e+04]], dtype=float32)"
            ]
          },
          "metadata": {
            "tags": []
          },
          "execution_count": 144
        }
      ]
    },
    {
      "cell_type": "markdown",
      "metadata": {
        "id": "ZUZ9QT1zC1oq"
      },
      "source": [
        "UPTOHERE:\n",
        "* Creating a custom TensorFlow dataset for windowed data\n",
        "* Use this dataset for finding different window sizes? Or... go into N-Beats algorithm?"
      ]
    },
    {
      "cell_type": "code",
      "metadata": {
        "id": "ZhmuOrueB2Sx"
      },
      "source": [
        "# Create TensorFlow dataset - from_tensor_slices is best when your data fits in memory: https://www.tensorflow.org/api_docs/python/tf/data/Dataset#from_tensor_slices\n",
        "train_features_dataset = tf.data.Dataset.from_tensor_slices(X_train)\n",
        "train_labels_dataset = tf.data.Dataset.from_tensor_slices(y_train)\n",
        "\n",
        "test_features_dataset = tf.data.Dataset.from_tensor_slices(X_test)\n",
        "test_labels_dataset = tf.data.Dataset.from_tensor_slices(y_test)\n",
        "\n",
        "# Combine labels & features"
      ],
      "execution_count": null,
      "outputs": []
    },
    {
      "cell_type": "code",
      "metadata": {
        "id": "N5Bs0_NwvCFV"
      },
      "source": [
        "# TODO: Break down the windowing function...\n",
        "# TODO: We can also turn our own data into windows..."
      ],
      "execution_count": null,
      "outputs": []
    },
    {
      "cell_type": "code",
      "metadata": {
        "id": "BWJe7V5z4ABh"
      },
      "source": [
        ""
      ],
      "execution_count": null,
      "outputs": []
    },
    {
      "cell_type": "code",
      "metadata": {
        "id": "MhFSbH5s_iGo"
      },
      "source": [
        ""
      ],
      "execution_count": null,
      "outputs": []
    },
    {
      "cell_type": "code",
      "metadata": {
        "id": "LVca1UCI_iBO"
      },
      "source": [
        ""
      ],
      "execution_count": null,
      "outputs": []
    },
    {
      "cell_type": "markdown",
      "metadata": {
        "id": "TPkzQccU-dtR"
      },
      "source": [
        "## TODO:  N-BEATs algorithm"
      ]
    },
    {
      "cell_type": "code",
      "metadata": {
        "id": "llwhXCn9-hQt"
      },
      "source": [
        ""
      ],
      "execution_count": null,
      "outputs": []
    },
    {
      "cell_type": "code",
      "metadata": {
        "id": "DtAT8Onk-hX_"
      },
      "source": [
        ""
      ],
      "execution_count": null,
      "outputs": []
    },
    {
      "cell_type": "code",
      "metadata": {
        "id": "2U3-Wv94-hfQ"
      },
      "source": [
        ""
      ],
      "execution_count": null,
      "outputs": []
    },
    {
      "cell_type": "code",
      "metadata": {
        "id": "iZ_BEvNB--8J"
      },
      "source": [
        ""
      ],
      "execution_count": null,
      "outputs": []
    },
    {
      "cell_type": "markdown",
      "metadata": {
        "id": "QknmUSJf_JoF"
      },
      "source": [
        "## TODO: Experimenting for different window sizes..."
      ]
    },
    {
      "cell_type": "code",
      "metadata": {
        "id": "w4Ml9tyj_N2C"
      },
      "source": [
        ""
      ],
      "execution_count": null,
      "outputs": []
    },
    {
      "cell_type": "code",
      "metadata": {
        "id": "PLFCudEC_ODA"
      },
      "source": [
        ""
      ],
      "execution_count": null,
      "outputs": []
    },
    {
      "cell_type": "code",
      "metadata": {
        "id": "hCos-f0b_ONO"
      },
      "source": [
        ""
      ],
      "execution_count": null,
      "outputs": []
    },
    {
      "cell_type": "code",
      "metadata": {
        "id": "OuTsOtcG_OYJ"
      },
      "source": [
        ""
      ],
      "execution_count": null,
      "outputs": []
    },
    {
      "cell_type": "markdown",
      "metadata": {
        "id": "UW9oxH47EK-6"
      },
      "source": [
        "## TODO: Make future forecasts...\n",
        "\n",
        "* TODO\n",
        "  * Make forecasting better (how can I forecast on an arbitrary amount of steps)\n",
        "  * Create evaluation method for larger windows/horizons\n",
        "  * Build more modelling experiments\n",
        "  * Create multivariate time series\n",
        "  * Create TensorFlow windowing function\n",
        "\n",
        "* Forecasts can't be compared to anything... because they're a forecast... derp"
      ]
    },
    {
      "cell_type": "code",
      "metadata": {
        "id": "0Hu1eH59BcuN"
      },
      "source": [
        "# TODO: Create make forecast function with:\n",
        "# Can forecast on any model\n",
        "# Can forecast on any time series (gets formatted to be same as the model's requirements)"
      ],
      "execution_count": null,
      "outputs": []
    },
    {
      "cell_type": "code",
      "metadata": {
        "colab": {
          "base_uri": "https://localhost:8080/"
        },
        "id": "uWlh2P7pBQpX",
        "outputId": "b59d2640-df5b-4081-b53b-abd1af6077e5"
      },
      "source": [
        "WINDOW_SIZE"
      ],
      "execution_count": null,
      "outputs": [
        {
          "output_type": "execute_result",
          "data": {
            "text/plain": [
              "10"
            ]
          },
          "metadata": {
            "tags": []
          },
          "execution_count": 365
        }
      ]
    },
    {
      "cell_type": "code",
      "metadata": {
        "colab": {
          "base_uri": "https://localhost:8080/"
        },
        "id": "6WYGil3TBTEA",
        "outputId": "ec25bc72-77be-4b06-c929-e180f6a450ce"
      },
      "source": [
        "# Make forecast with one model... \n",
        "model_3_forecast = model_3.predict(tf.expand_dims(y_test[-model_3.input_shape[-1]:], axis=0))\n",
        "model_3_forecast"
      ],
      "execution_count": null,
      "outputs": [
        {
          "output_type": "execute_result",
          "data": {
            "text/plain": [
              "array([[51037.02]], dtype=float32)"
            ]
          },
          "metadata": {
            "tags": []
          },
          "execution_count": 450
        }
      ]
    },
    {
      "cell_type": "code",
      "metadata": {
        "id": "soQoulDxEhAp"
      },
      "source": [
        "# TODO: Update this to work with future data...\n",
        "def make_future_forecast(model, input_data):\n",
        "  \"\"\"\n",
        "  Uses model to make forecasts on input_data.\n",
        "  \"\"\"\n",
        "  forecast = model.predict(tf.expand_dims(input_data[-model.input_shape[-1]:], axis=0)) # make future predictions on last timestep(s) of input_data\n",
        "  return tf.squeeze(forecast).numpy()"
      ],
      "execution_count": null,
      "outputs": []
    },
    {
      "cell_type": "code",
      "metadata": {
        "colab": {
          "base_uri": "https://localhost:8080/"
        },
        "id": "cU0-6mgXFT3F",
        "outputId": "8c6216a3-480f-4212-ec28-eb40595c4a06"
      },
      "source": [
        "model_2_forecast = make_forecast(model_2, y_test)\n",
        "model_2_forecast"
      ],
      "execution_count": null,
      "outputs": [
        {
          "output_type": "execute_result",
          "data": {
            "text/plain": [
              "array([53904.688, 43581.746, 53670.637, 51078.867, 45989.836, 47447.473,\n",
              "       44555.715, 46859.6  , 54127.32 , 54640.65 , 52999.043, 52226.145,\n",
              "       46463.242, 45323.86 ], dtype=float32)"
            ]
          },
          "metadata": {
            "tags": []
          },
          "execution_count": 454
        }
      ]
    },
    {
      "cell_type": "code",
      "metadata": {
        "colab": {
          "base_uri": "https://localhost:8080/"
        },
        "id": "6cIibo-CFcxA",
        "outputId": "e3167e29-944a-4f7d-b28a-3e7812a7d7eb"
      },
      "source": [
        "model_3_forecast = make_forecast(model_3, y_test)\n",
        "model_3_forecast"
      ],
      "execution_count": null,
      "outputs": [
        {
          "output_type": "execute_result",
          "data": {
            "text/plain": [
              "51037.02"
            ]
          },
          "metadata": {
            "tags": []
          },
          "execution_count": 457
        }
      ]
    },
    {
      "cell_type": "markdown",
      "metadata": {
        "id": "QuaY0cOaCHfr"
      },
      "source": [
        "### TODO: Plot forecasts\n",
        "\n",
        "* Need: \n",
        "  * horizon # of dates in future\n",
        "  * forecast"
      ]
    },
    {
      "cell_type": "code",
      "metadata": {
        "colab": {
          "base_uri": "https://localhost:8080/"
        },
        "id": "6676Sl-cAFn5",
        "outputId": "c8cfc1d7-a4d7-4930-a2de-40e4b84c6640"
      },
      "source": [
        "# Last timestep of timesteps (currently in np.datetime64 format)\n",
        "X_test[-1]"
      ],
      "execution_count": null,
      "outputs": [
        {
          "output_type": "execute_result",
          "data": {
            "text/plain": [
              "numpy.datetime64('2021-05-18T00:00:00.000000000')"
            ]
          },
          "metadata": {
            "tags": []
          },
          "execution_count": 443
        }
      ]
    },
    {
      "cell_type": "code",
      "metadata": {
        "id": "i4iNNliSCbU-"
      },
      "source": [
        "def get_future_dates(start_date, horizon=1, offset=1):\n",
        "  \"\"\"\n",
        "  Returns array of datetime values from ranging from start_date to start_date+horizon.\n",
        "\n",
        "  start_date: date to start range (np.datetime64)\n",
        "  horizon: number of day to add onto start date for range (int)\n",
        "  offset: if offset=1 (default), original date is not included, if offset=0, original date is included\n",
        "  \"\"\"\n",
        "  return np.arange(start_date + np.timedelta64(offset, \"D\"), start_date + np.timedelta64(horizon+1, \"D\"), dtype=\"datetime64[D]\")"
      ],
      "execution_count": null,
      "outputs": []
    },
    {
      "cell_type": "code",
      "metadata": {
        "id": "252bhVD7C5NZ"
      },
      "source": [
        "next_time_steps = get_future_dates(start_date=X_test[-1], horizon=HORIZON)"
      ],
      "execution_count": null,
      "outputs": []
    },
    {
      "cell_type": "code",
      "metadata": {
        "colab": {
          "base_uri": "https://localhost:8080/"
        },
        "id": "gtOqAgSPyjtn",
        "outputId": "e54d6fcf-ac1e-4152-b646-20778f81393d"
      },
      "source": [
        "# Example of getting next two weeks\n",
        "next_two_weeks = get_future_dates(start_date=X_test[-1], horizon=14)\n",
        "next_two_weeks"
      ],
      "execution_count": null,
      "outputs": [
        {
          "output_type": "execute_result",
          "data": {
            "text/plain": [
              "array(['2021-05-19', '2021-05-20', '2021-05-21', '2021-05-22',\n",
              "       '2021-05-23', '2021-05-24', '2021-05-25', '2021-05-26',\n",
              "       '2021-05-27', '2021-05-28', '2021-05-29', '2021-05-30',\n",
              "       '2021-05-31', '2021-06-01'], dtype='datetime64[D]')"
            ]
          },
          "metadata": {
            "tags": []
          },
          "execution_count": 544
        }
      ]
    },
    {
      "cell_type": "code",
      "metadata": {
        "id": "G_5UX08aCThS"
      },
      "source": [
        "model_2_forecast = np.insert(model_2_forecast, 0, y_test[-1]) \n",
        "future_dates = np.insert(next_two_weeks, 0, X_test[-1])"
      ],
      "execution_count": null,
      "outputs": []
    },
    {
      "cell_type": "code",
      "metadata": {
        "colab": {
          "base_uri": "https://localhost:8080/"
        },
        "id": "iBj7y088EAYc",
        "outputId": "b56e0a2e-76f6-4189-f678-559a602bfe79"
      },
      "source": [
        "model_2_forecast, future_dates"
      ],
      "execution_count": null,
      "outputs": [
        {
          "output_type": "execute_result",
          "data": {
            "text/plain": [
              "(array([43144.473, 53904.688, 43581.746, 53670.637, 51078.867, 45989.836,\n",
              "        47447.473, 44555.715, 46859.6  , 54127.32 , 54640.65 , 52999.043,\n",
              "        52226.145, 46463.242, 45323.86 ], dtype=float32),\n",
              " array(['2021-05-18', '2021-05-19', '2021-05-20', '2021-05-21',\n",
              "        '2021-05-22', '2021-05-23', '2021-05-24', '2021-05-25',\n",
              "        '2021-05-26', '2021-05-27', '2021-05-28', '2021-05-29',\n",
              "        '2021-05-30', '2021-05-31', '2021-06-01'], dtype='datetime64[D]'))"
            ]
          },
          "metadata": {
            "tags": []
          },
          "execution_count": 546
        }
      ]
    },
    {
      "cell_type": "markdown",
      "metadata": {
        "id": "V4jPtORZEgs9"
      },
      "source": [
        "TODO: Fix the below graph to have model_2_preds... continued into model 2 forecast, want to have the windowed forecast plottable & then predictions being able to be made multiple steps into the future"
      ]
    },
    {
      "cell_type": "code",
      "metadata": {
        "colab": {
          "base_uri": "https://localhost:8080/"
        },
        "id": "GyaSsy8bJw5-",
        "outputId": "3debee8b-a82b-4a0f-e105-55f6379a4349"
      },
      "source": [
        "tf.keras.metrics.mean_absolute_error(y_test[WINDOW_SIZE:-(len(y_test) % HORIZON)-1], # account for window sizes/cutoff\n",
        "                                     tf.reduce_mean(model_2_preds, axis=1))"
      ],
      "execution_count": null,
      "outputs": [
        {
          "output_type": "execute_result",
          "data": {
            "text/plain": [
              "<tf.Tensor: shape=(), dtype=float32, numpy=1481.0415>"
            ]
          },
          "metadata": {
            "tags": []
          },
          "execution_count": 528
        }
      ]
    },
    {
      "cell_type": "code",
      "metadata": {
        "colab": {
          "base_uri": "https://localhost:8080/"
        },
        "id": "xTYDnN2WGhu9",
        "outputId": "90215aa3-9fb1-4821-b91d-508c5cdcf3a1"
      },
      "source": [
        "model_2_results"
      ],
      "execution_count": null,
      "outputs": [
        {
          "output_type": "execute_result",
          "data": {
            "text/plain": [
              "{'mae': 2529.3965, 'mape': 9.727565, 'mse': 16825896.0, 'smape': 10.112202}"
            ]
          },
          "metadata": {
            "tags": []
          },
          "execution_count": 529
        }
      ]
    },
    {
      "cell_type": "code",
      "metadata": {
        "colab": {
          "base_uri": "https://localhost:8080/"
        },
        "id": "Yw-e5fkcMOAl",
        "outputId": "5341bffb-fce2-4ecf-fb8e-8a98d66edcbc"
      },
      "source": [
        "y_test[140:140+14], test_labels[0]"
      ],
      "execution_count": null,
      "outputs": [
        {
          "output_type": "execute_result",
          "data": {
            "text/plain": [
              "(array([6721.49539238, 6682.7800492 , 6229.48834283, 5922.48983509,\n",
              "        6483.73944553, 6446.42134684, 6537.3364615 , 6850.55871169,\n",
              "        6776.37009357, 6855.93326446, 6805.3622869 , 7278.24396977,\n",
              "        7175.66747656, 7367.29339845]),\n",
              " array([6721.49539238, 6682.7800492 , 6229.48834283, 5922.48983509,\n",
              "        6483.73944553, 6446.42134684, 6537.3364615 , 6850.55871169,\n",
              "        6776.37009357, 6855.93326446, 6805.3622869 , 7278.24396977,\n",
              "        7175.66747656, 7367.29339845]))"
            ]
          },
          "metadata": {
            "tags": []
          },
          "execution_count": 551
        }
      ]
    },
    {
      "cell_type": "code",
      "metadata": {
        "colab": {
          "base_uri": "https://localhost:8080/"
        },
        "id": "QNC3HzAGLM1z",
        "outputId": "b3af51ad-69e9-4107-9b2c-cdcf54656cce"
      },
      "source": [
        "tf.reduce_mean(model_2_preds[-100:], axis=1)"
      ],
      "execution_count": null,
      "outputs": [
        {
          "output_type": "execute_result",
          "data": {
            "text/plain": [
              "<tf.Tensor: shape=(100,), dtype=float32, numpy=\n",
              "array([36701.473, 36144.57 , 35764.348, 34901.656, 34843.71 , 35094.81 ,\n",
              "       35132.727, 34703.82 , 34822.19 , 34917.02 , 35235.418, 35918.348,\n",
              "       36537.855, 36705.363, 37077.176, 38421.293, 39489.344, 40080.098,\n",
              "       40876.883, 42075.066, 43110.34 , 44393.844, 45216.777, 45956.57 ,\n",
              "       46855.19 , 48068.395, 49270.723, 50073.617, 51104.812, 51841.305,\n",
              "       51963.098, 52384.965, 52220.   , 51455.895, 51411.168, 51489.188,\n",
              "       51131.52 , 50980.19 , 50987.875, 51007.54 , 51163.258, 51886.066,\n",
              "       52521.082, 52356.008, 53245.973, 54041.48 , 55264.96 , 55964.742,\n",
              "       56759.926, 57594.387, 58877.68 , 59014.035, 59824.086, 59583.305,\n",
              "       59824.34 , 60218.43 , 59945.965, 59501.598, 58837.625, 58398.35 ,\n",
              "       57354.477, 57350.035, 57393.535, 56191.32 , 56402.09 , 56915.77 ,\n",
              "       56231.77 , 56628.395, 56597.395, 56858.844, 57405.73 , 58069.418,\n",
              "       57892.56 , 57875.32 , 57569.188, 58106.938, 58683.445, 59460.043,\n",
              "       60356.37 , 61224.145, 61700.85 , 62376.965, 63341.246, 63533.957,\n",
              "       63728.312, 63351.645, 63100.29 , 62591.418, 61397.555, 60589.914,\n",
              "       60047.062, 58441.508, 58210.43 , 58898.125, 57963.316, 57164.215,\n",
              "       57364.543, 56864.16 , 56845.277, 56932.164], dtype=float32)>"
            ]
          },
          "metadata": {
            "tags": []
          },
          "execution_count": 549
        }
      ]
    },
    {
      "cell_type": "code",
      "metadata": {
        "colab": {
          "base_uri": "https://localhost:8080/"
        },
        "id": "ShxXEbrGNQ1Q",
        "outputId": "5a3e10e0-25d6-469f-d809-4be40346e9f4"
      },
      "source": [
        "100-len(y_test) % HORIZON - 1"
      ],
      "execution_count": null,
      "outputs": [
        {
          "output_type": "execute_result",
          "data": {
            "text/plain": [
              "87"
            ]
          },
          "metadata": {
            "tags": []
          },
          "execution_count": 556
        }
      ]
    },
    {
      "cell_type": "code",
      "metadata": {
        "colab": {
          "base_uri": "https://localhost:8080/"
        },
        "id": "3t7X4qdnNd49",
        "outputId": "be879017-f34c-4879-c30b-da8c00d5f0fb"
      },
      "source": [
        "100+((len(y_test) % HORIZON) - 1)"
      ],
      "execution_count": null,
      "outputs": [
        {
          "output_type": "execute_result",
          "data": {
            "text/plain": [
              "111"
            ]
          },
          "metadata": {
            "tags": []
          },
          "execution_count": 564
        }
      ]
    },
    {
      "cell_type": "code",
      "metadata": {
        "colab": {
          "base_uri": "https://localhost:8080/"
        },
        "id": "sd7o-YLKNsyU",
        "outputId": "a1fd41b8-87c1-4753-a9ff-53f4117de4ef"
      },
      "source": [
        "X_test[-111]"
      ],
      "execution_count": null,
      "outputs": [
        {
          "output_type": "execute_result",
          "data": {
            "text/plain": [
              "numpy.datetime64('2021-01-28T00:00:00.000000000')"
            ]
          },
          "metadata": {
            "tags": []
          },
          "execution_count": 565
        }
      ]
    },
    {
      "cell_type": "code",
      "metadata": {
        "colab": {
          "base_uri": "https://localhost:8080/"
        },
        "id": "2l1nbCpMN29T",
        "outputId": "77b16be9-5635-42e4-d2da-42588a3ed7b5"
      },
      "source": [
        "# Does indexing on this account for the lagging window???\n",
        "(100+(len(y_test) % HORIZON) - 1)"
      ],
      "execution_count": null,
      "outputs": [
        {
          "output_type": "execute_result",
          "data": {
            "text/plain": [
              "111"
            ]
          },
          "metadata": {
            "tags": []
          },
          "execution_count": 566
        }
      ]
    },
    {
      "cell_type": "code",
      "metadata": {
        "colab": {
          "base_uri": "https://localhost:8080/",
          "height": 447
        },
        "id": "B_7z2XE5N9mj",
        "outputId": "299990ef-0b00-4190-dffd-99c330a36334"
      },
      "source": [
        "## TODO: Note the non-adjusted plot here...\n",
        "# Plot forecast\n",
        "plt.figure(figsize=(10, 7))\n",
        "plt.plot(X_test[-100:], y_test[-100:], label=\"test_data\")\n",
        "# plt.plot(X_train, y_train)\n",
        "plt.plot(X_test[-100:], tf.reduce_mean(model_2_preds[-100:], axis=1), label=\"model_2_preds\")\n",
        "plt.plot(future_dates, model_2_forecast.ravel(), label=\"model_2_forecast\")\n",
        "plt.legend()\n",
        "plt.plot()"
      ],
      "execution_count": null,
      "outputs": [
        {
          "output_type": "execute_result",
          "data": {
            "text/plain": [
              "[]"
            ]
          },
          "metadata": {
            "tags": []
          },
          "execution_count": 569
        },
        {
          "output_type": "display_data",
          "data": {
            "image/png": "[encoded data removed]",
            "text/plain": [
              "<Figure size 720x504 with 1 Axes>"
            ]
          },
          "metadata": {
            "tags": [],
            "needs_background": "light"
          }
        }
      ]
    },
    {
      "cell_type": "code",
      "metadata": {
        "colab": {
          "base_uri": "https://localhost:8080/",
          "height": 447
        },
        "id": "MqTK7pr688o2",
        "outputId": "786ba446-0e9f-4647-a00c-6bbde286097d"
      },
      "source": [
        "## TODO: Note the adjusted plot here...\n",
        "# Plot forecast\n",
        "plt.figure(figsize=(10, 7))\n",
        "plt.plot(X_test[-100:], y_test[-100:], label=\"test_data\")\n",
        "# plt.plot(X_train, y_train)\n",
        "plt.plot(X_test[-(100+HORIZON):-HORIZON], tf.reduce_mean(model_2_preds[-100:], axis=1), label=\"model_2_preds\")\n",
        "plt.plot(future_dates, model_2_forecast.ravel(), label=\"model_2_forecast\")\n",
        "plt.legend()\n",
        "plt.plot()"
      ],
      "execution_count": null,
      "outputs": [
        {
          "output_type": "execute_result",
          "data": {
            "text/plain": [
              "[]"
            ]
          },
          "metadata": {
            "tags": []
          },
          "execution_count": 571
        },
        {
          "output_type": "display_data",
          "data": {
            "image/png": "[encoded data removed]",
            "text/plain": [
              "<Figure size 720x504 with 1 Axes>"
            ]
          },
          "metadata": {
            "tags": [],
            "needs_background": "light"
          }
        }
      ]
    },
    {
      "cell_type": "code",
      "metadata": {
        "id": "_bSQcfknCjN4"
      },
      "source": [
        ""
      ],
      "execution_count": null,
      "outputs": []
    },
    {
      "cell_type": "code",
      "metadata": {
        "id": "ZcbnNGhhL6ss"
      },
      "source": [
        ""
      ],
      "execution_count": null,
      "outputs": []
    },
    {
      "cell_type": "code",
      "metadata": {
        "id": "b4W2c9woL6jZ"
      },
      "source": [
        ""
      ],
      "execution_count": null,
      "outputs": []
    },
    {
      "cell_type": "code",
      "metadata": {
        "id": "4dfvsCORCjIi"
      },
      "source": [
        ""
      ],
      "execution_count": null,
      "outputs": []
    },
    {
      "cell_type": "code",
      "metadata": {
        "id": "z7XrBXMy5WQG"
      },
      "source": [
        ""
      ],
      "execution_count": null,
      "outputs": []
    },
    {
      "cell_type": "code",
      "metadata": {
        "id": "jak40o1MYznM"
      },
      "source": [
        ""
      ],
      "execution_count": null,
      "outputs": []
    },
    {
      "cell_type": "code",
      "metadata": {
        "id": "bEPwZjIASOWg"
      },
      "source": [
        "# TODO: Use entire time series to predict next step, compare to actual data \n",
        "# (e.g. revisit the prices in 1 week & see how the model goes)\n",
        "# Start date: 18 May 2021\n",
        "# End date: 25 May 2021 (revisit the updated prices here & see how wrong the model is...)"
      ],
      "execution_count": null,
      "outputs": []
    },
    {
      "cell_type": "markdown",
      "metadata": {
        "id": "fVGY8WhHBlHV"
      },
      "source": [
        "## TODO: Uncertainty estimates"
      ]
    },
    {
      "cell_type": "markdown",
      "metadata": {
        "id": "SQsz_JNwBooW"
      },
      "source": [
        "### TODO: Model X: (model with Dropout to make MC Dropout model)..."
      ]
    },
    {
      "cell_type": "code",
      "metadata": {
        "id": "-Neg2BC6Bo_F"
      },
      "source": [
        ""
      ],
      "execution_count": null,
      "outputs": []
    },
    {
      "cell_type": "code",
      "metadata": {
        "id": "_n3iKK_mz9Uu"
      },
      "source": [
        ""
      ],
      "execution_count": null,
      "outputs": []
    },
    {
      "cell_type": "markdown",
      "metadata": {
        "id": "U5VMaZ1UBpXt"
      },
      "source": [
        "# TODO: Why forecasting is BS (turkey problem)\n",
        "\n",
        "TK - inject a turkey problem piece of data into the model & see how it effects (e.g. 1 data point that's 50x of outlier)\n",
        "\n",
        "* See this video: https://youtu.be/hRwimmE2wEk\n",
        "* Open system: beware (like fortune telling), see Mark Saroufim's tweet - https://twitter.com/marksaroufim/status/1366871736604532739?s=20\n",
        "* Closed system: try it out"
      ]
    },
    {
      "cell_type": "code",
      "metadata": {
        "id": "KD50Xt36BsOk"
      },
      "source": [
        ""
      ],
      "execution_count": null,
      "outputs": []
    },
    {
      "cell_type": "code",
      "metadata": {
        "id": "kUFWcnNGB7yn"
      },
      "source": [
        ""
      ],
      "execution_count": null,
      "outputs": []
    },
    {
      "cell_type": "code",
      "metadata": {
        "id": "DgG2hk9PB7wi"
      },
      "source": [
        ""
      ],
      "execution_count": null,
      "outputs": []
    },
    {
      "cell_type": "code",
      "metadata": {
        "id": "dPWjKlk_B7tb"
      },
      "source": [
        ""
      ],
      "execution_count": null,
      "outputs": []
    },
    {
      "cell_type": "code",
      "metadata": {
        "id": "JLSwuKgzB7q_"
      },
      "source": [
        ""
      ],
      "execution_count": null,
      "outputs": []
    },
    {
      "cell_type": "markdown",
      "metadata": {
        "id": "47VA8gR3B7QP"
      },
      "source": [
        "# TODO: Exercises\n",
        "\n",
        "* Does scaling the data help for multivariate data? (e.g. getting all of the values between 0 & 1) "
      ]
    },
    {
      "cell_type": "code",
      "metadata": {
        "id": "vSZLIopuCAJN"
      },
      "source": [
        ""
      ],
      "execution_count": null,
      "outputs": []
    },
    {
      "cell_type": "markdown",
      "metadata": {
        "id": "iiOlVRREB7No"
      },
      "source": [
        "# TODO: Extra-curriculum\n",
        "\n",
        "* Evaluation metrics - https://otexts.com/fpp2/accuracy.html \n",
        "* "
      ]
    }
  ]
}