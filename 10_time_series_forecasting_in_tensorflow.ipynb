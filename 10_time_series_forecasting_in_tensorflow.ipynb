{
  "nbformat": 4,
  "nbformat_minor": 0,
  "metadata": {
    "colab": {
      "name": "10_time_series_forecasting_in_tensorflow.ipynb",
      "provenance": [],
      "collapsed_sections": [],
      "toc_visible": true,
      "authorship_tag": "ABX9TyNjyt5LCk67dBE9cwD/TF7/",
      "include_colab_link": true
    },
    "kernelspec": {
      "name": "python3",
      "display_name": "Python 3"
    },
    "language_info": {
      "name": "python"
    },
    "accelerator": "GPU"
  },
  "cells": [
    {
      "cell_type": "markdown",
      "metadata": {
        "id": "view-in-github",
        "colab_type": "text"
      },
      "source": [
        "<a href=\"https://colab.research.google.com/github/mrdbourke/tensorflow-deep-learning/blob/main/10_time_series_forecasting_in_tensorflow.ipynb\" target=\"_parent\"><img src=\"https://colab.research.google.com/assets/colab-badge.svg\" alt=\"Open In Colab\"/></a>"
      ]
    },
    {
      "cell_type": "markdown",
      "metadata": {
        "id": "vlVtweEv7nAx"
      },
      "source": [
        "# Note: This notebook is a work in progress & will be updated continuously until it's ready - 1 June 2021\n",
        "\n",
        "# Time series forecasting in TensorFlow\n",
        "\n",
        "The goal of this notebook is to get you familiar with working with time series data.\n",
        "\n",
        "It won't cover all of the time series field but by the end you will get a fairly good overview of things to consider for time series problems...\n",
        "\n",
        "### What we're going to cover\n",
        "* Get data (a time series)\n",
        "* Format data\n",
        "  * Turn data into a windowed dataset\n",
        "  * Training/test sets for time series\n",
        "  * Univariate - Bitcoin's price history\n",
        "  * Multivariate - Bitcoin's price history + block size\n",
        "* Model data\n",
        "  * Baseline - naive forecasting (use the last timestep to predict the next timestep)\n",
        "  * Deep model - fully connected\n",
        "  * Sequence models\n",
        "    * LSTM\n",
        "    * Conv1D\n",
        "  * N-Beats algorithm - https://arxiv.org/pdf/1905.10437.pdf\n",
        "* Evaluating a time series model\n",
        "  * MAE\n",
        "  * MSE\n",
        "  * RMSE etc...\n",
        "* Uncertainty estimates\n",
        "  * Coconut uncertainty - epistemic uncertainty\n",
        "  * Subway uncertainty - aleatory uncertainty\n",
        "* Why forecasting is BS (turkey problem) - https://youtu.be/hRwimmE2wEk\n",
        "  * Open system: beware (like fortune telling), see Mark Saroufim's tweet - https://twitter.com/marksaroufim/status/1366871736604532739?s=20 \n",
        "  * Closed system: try it out \n",
        "* Exercises\n",
        "* Extra-curriculum\n",
        "  * Time series book - https://otexts.com/fpp2/accuracy.html \n"
      ]
    },
    {
      "cell_type": "markdown",
      "metadata": {
        "id": "ZdeV4DEeAjF2"
      },
      "source": [
        "## TODO: What is a time series problem?\n",
        "\n",
        "* Forecasting\n",
        "* Classification"
      ]
    },
    {
      "cell_type": "markdown",
      "metadata": {
        "id": "81ywkh0q8Apj"
      },
      "source": [
        "## TODO: Get data\n",
        "\n",
        "Let's predict the price of Bitcoin! Data source: https://www.coindesk.com/price/bitcoin\n",
        "\n",
        "> **Note:** This is not financial advice, as you'll see time series forecasting for stock market prices is actually quite terrible.\n",
        "\n",
        "See this tweet for reference: https://twitter.com/marksaroufim/status/1366871736604532739?s=20\n",
        "\n",
        "TODO (upload to Google Storage/GitHub): Data: https://www.dropbox.com/s/hoexgnrk44uco0a/BTC_USD_2013-10-01_2021-05-18-CoinDesk.csv?dl=0"
      ]
    },
    {
      "cell_type": "code",
      "metadata": {
        "colab": {
          "base_uri": "https://localhost:8080/"
        },
        "id": "mVEjK6ZHDqkQ",
        "outputId": "6d215069-13cc-44bb-8f04-7a380b318773"
      },
      "source": [
        "!wget https://www.dropbox.com/s/hoexgnrk44uco0a/BTC_USD_2013-10-01_2021-05-18-CoinDesk.csv"
      ],
      "execution_count": 5,
      "outputs": [
        {
          "output_type": "stream",
          "text": [
            "--2021-05-31 22:24:31--  https://www.dropbox.com/s/hoexgnrk44uco0a/BTC_USD_2013-10-01_2021-05-18-CoinDesk.csv\n",
            "Resolving www.dropbox.com (www.dropbox.com)... 162.125.6.18, 2620:100:601c:18::a27d:612\n",
            "Connecting to www.dropbox.com (www.dropbox.com)|162.125.6.18|:443... connected.\n",
            "HTTP request sent, awaiting response... 301 Moved Permanently\n",
            "Location: /s/raw/hoexgnrk44uco0a/BTC_USD_2013-10-01_2021-05-18-CoinDesk.csv [following]\n",
            "--2021-05-31 22:24:31--  https://www.dropbox.com/s/raw/hoexgnrk44uco0a/BTC_USD_2013-10-01_2021-05-18-CoinDesk.csv\n",
            "Reusing existing connection to www.dropbox.com:443.\n",
            "HTTP request sent, awaiting response... 302 Found\n",
            "Location: https://uc4b6f40d2b4157accbcf75d1c5d.dl.dropboxusercontent.com/cd/0/inline/BPgzJfEX7cI6nEh178RrZWb9WMJzGh9bkheKj3RewWpRnntek_vPyr412KQ-3h1Wc2BJghGXiAPtpa7gBEbg1tpMn7k3FZ5mXZBUatj3C3mdIpFgruTDGfJ8OF6CUabdjQnQiymFSeeUwGZGJGlVyd7B/file# [following]\n",
            "--2021-05-31 22:24:32--  https://uc4b6f40d2b4157accbcf75d1c5d.dl.dropboxusercontent.com/cd/0/inline/BPgzJfEX7cI6nEh178RrZWb9WMJzGh9bkheKj3RewWpRnntek_vPyr412KQ-3h1Wc2BJghGXiAPtpa7gBEbg1tpMn7k3FZ5mXZBUatj3C3mdIpFgruTDGfJ8OF6CUabdjQnQiymFSeeUwGZGJGlVyd7B/file\n",
            "Resolving uc4b6f40d2b4157accbcf75d1c5d.dl.dropboxusercontent.com (uc4b6f40d2b4157accbcf75d1c5d.dl.dropboxusercontent.com)... 162.125.6.15, 2620:100:6019:15::a27d:40f\n",
            "Connecting to uc4b6f40d2b4157accbcf75d1c5d.dl.dropboxusercontent.com (uc4b6f40d2b4157accbcf75d1c5d.dl.dropboxusercontent.com)|162.125.6.15|:443... connected.\n",
            "HTTP request sent, awaiting response... 200 OK\n",
            "Length: 178509 (174K) [text/plain]\n",
            "Saving to: ‘BTC_USD_2013-10-01_2021-05-18-CoinDesk.csv.1’\n",
            "\n",
            "BTC_USD_2013-10-01_ 100%[===================>] 174.33K  --.-KB/s    in 0.005s  \n",
            "\n",
            "2021-05-31 22:24:32 (36.0 MB/s) - ‘BTC_USD_2013-10-01_2021-05-18-CoinDesk.csv.1’ saved [178509/178509]\n",
            "\n"
          ],
          "name": "stdout"
        }
      ]
    },
    {
      "cell_type": "code",
      "metadata": {
        "colab": {
          "base_uri": "https://localhost:8080/",
          "height": 450
        },
        "id": "5FOrshVX_dUE",
        "outputId": "89111fef-e7a5-4afc-bb05-6eaec0223775"
      },
      "source": [
        "# Import with pandas \n",
        "import pandas as pd\n",
        "# Parse dates and set date column to index\n",
        "df = pd.read_csv(\"/content/BTC_USD_2013-10-01_2021-05-18-CoinDesk.csv\", \n",
        "                 parse_dates=[\"Date\"], \n",
        "                 index_col=[\"Date\"]) # parse the date column (tell pandas column 1 is a datetime)\n",
        "df"
      ],
      "execution_count": 6,
      "outputs": [
        {
          "output_type": "execute_result",
          "data": {
            "text/html": [
              "<div>\n",
              "<style scoped>\n",
              "    .dataframe tbody tr th:only-of-type {\n",
              "        vertical-align: middle;\n",
              "    }\n",
              "\n",
              "    .dataframe tbody tr th {\n",
              "        vertical-align: top;\n",
              "    }\n",
              "\n",
              "    .dataframe thead th {\n",
              "        text-align: right;\n",
              "    }\n",
              "</style>\n",
              "<table border=\"1\" class=\"dataframe\">\n",
              "  <thead>\n",
              "    <tr style=\"text-align: right;\">\n",
              "      <th></th>\n",
              "      <th>Currency</th>\n",
              "      <th>Closing Price (USD)</th>\n",
              "      <th>24h Open (USD)</th>\n",
              "      <th>24h High (USD)</th>\n",
              "      <th>24h Low (USD)</th>\n",
              "    </tr>\n",
              "    <tr>\n",
              "      <th>Date</th>\n",
              "      <th></th>\n",
              "      <th></th>\n",
              "      <th></th>\n",
              "      <th></th>\n",
              "      <th></th>\n",
              "    </tr>\n",
              "  </thead>\n",
              "  <tbody>\n",
              "    <tr>\n",
              "      <th>2013-10-01</th>\n",
              "      <td>BTC</td>\n",
              "      <td>123.654990</td>\n",
              "      <td>124.304660</td>\n",
              "      <td>124.751660</td>\n",
              "      <td>122.563490</td>\n",
              "    </tr>\n",
              "    <tr>\n",
              "      <th>2013-10-02</th>\n",
              "      <td>BTC</td>\n",
              "      <td>125.455000</td>\n",
              "      <td>123.654990</td>\n",
              "      <td>125.758500</td>\n",
              "      <td>123.633830</td>\n",
              "    </tr>\n",
              "    <tr>\n",
              "      <th>2013-10-03</th>\n",
              "      <td>BTC</td>\n",
              "      <td>108.584830</td>\n",
              "      <td>125.455000</td>\n",
              "      <td>125.665660</td>\n",
              "      <td>83.328330</td>\n",
              "    </tr>\n",
              "    <tr>\n",
              "      <th>2013-10-04</th>\n",
              "      <td>BTC</td>\n",
              "      <td>118.674660</td>\n",
              "      <td>108.584830</td>\n",
              "      <td>118.675000</td>\n",
              "      <td>107.058160</td>\n",
              "    </tr>\n",
              "    <tr>\n",
              "      <th>2013-10-05</th>\n",
              "      <td>BTC</td>\n",
              "      <td>121.338660</td>\n",
              "      <td>118.674660</td>\n",
              "      <td>121.936330</td>\n",
              "      <td>118.005660</td>\n",
              "    </tr>\n",
              "    <tr>\n",
              "      <th>...</th>\n",
              "      <td>...</td>\n",
              "      <td>...</td>\n",
              "      <td>...</td>\n",
              "      <td>...</td>\n",
              "      <td>...</td>\n",
              "    </tr>\n",
              "    <tr>\n",
              "      <th>2021-05-14</th>\n",
              "      <td>BTC</td>\n",
              "      <td>49764.132082</td>\n",
              "      <td>49596.778891</td>\n",
              "      <td>51448.798576</td>\n",
              "      <td>46294.720180</td>\n",
              "    </tr>\n",
              "    <tr>\n",
              "      <th>2021-05-15</th>\n",
              "      <td>BTC</td>\n",
              "      <td>50032.693137</td>\n",
              "      <td>49717.354353</td>\n",
              "      <td>51578.312545</td>\n",
              "      <td>48944.346536</td>\n",
              "    </tr>\n",
              "    <tr>\n",
              "      <th>2021-05-16</th>\n",
              "      <td>BTC</td>\n",
              "      <td>47885.625255</td>\n",
              "      <td>49926.035067</td>\n",
              "      <td>50690.802950</td>\n",
              "      <td>47005.102292</td>\n",
              "    </tr>\n",
              "    <tr>\n",
              "      <th>2021-05-17</th>\n",
              "      <td>BTC</td>\n",
              "      <td>45604.615754</td>\n",
              "      <td>46805.537852</td>\n",
              "      <td>49670.414174</td>\n",
              "      <td>43868.638969</td>\n",
              "    </tr>\n",
              "    <tr>\n",
              "      <th>2021-05-18</th>\n",
              "      <td>BTC</td>\n",
              "      <td>43144.471291</td>\n",
              "      <td>46439.336570</td>\n",
              "      <td>46622.853437</td>\n",
              "      <td>42102.346430</td>\n",
              "    </tr>\n",
              "  </tbody>\n",
              "</table>\n",
              "<p>2787 rows × 5 columns</p>\n",
              "</div>"
            ],
            "text/plain": [
              "           Currency  Closing Price (USD)  ...  24h High (USD)  24h Low (USD)\n",
              "Date                                      ...                               \n",
              "2013-10-01      BTC           123.654990  ...      124.751660     122.563490\n",
              "2013-10-02      BTC           125.455000  ...      125.758500     123.633830\n",
              "2013-10-03      BTC           108.584830  ...      125.665660      83.328330\n",
              "2013-10-04      BTC           118.674660  ...      118.675000     107.058160\n",
              "2013-10-05      BTC           121.338660  ...      121.936330     118.005660\n",
              "...             ...                  ...  ...             ...            ...\n",
              "2021-05-14      BTC         49764.132082  ...    51448.798576   46294.720180\n",
              "2021-05-15      BTC         50032.693137  ...    51578.312545   48944.346536\n",
              "2021-05-16      BTC         47885.625255  ...    50690.802950   47005.102292\n",
              "2021-05-17      BTC         45604.615754  ...    49670.414174   43868.638969\n",
              "2021-05-18      BTC         43144.471291  ...    46622.853437   42102.346430\n",
              "\n",
              "[2787 rows x 5 columns]"
            ]
          },
          "metadata": {
            "tags": []
          },
          "execution_count": 6
        }
      ]
    },
    {
      "cell_type": "code",
      "metadata": {
        "colab": {
          "base_uri": "https://localhost:8080/"
        },
        "id": "Z-YoeINjCzJ_",
        "outputId": "3357c51f-302a-4836-82b8-9055a48204c7"
      },
      "source": [
        "df.info()"
      ],
      "execution_count": 7,
      "outputs": [
        {
          "output_type": "stream",
          "text": [
            "<class 'pandas.core.frame.DataFrame'>\n",
            "DatetimeIndex: 2787 entries, 2013-10-01 to 2021-05-18\n",
            "Data columns (total 5 columns):\n",
            " #   Column               Non-Null Count  Dtype  \n",
            "---  ------               --------------  -----  \n",
            " 0   Currency             2787 non-null   object \n",
            " 1   Closing Price (USD)  2787 non-null   float64\n",
            " 2   24h Open (USD)       2787 non-null   float64\n",
            " 3   24h High (USD)       2787 non-null   float64\n",
            " 4   24h Low (USD)        2787 non-null   float64\n",
            "dtypes: float64(4), object(1)\n",
            "memory usage: 130.6+ KB\n"
          ],
          "name": "stdout"
        }
      ]
    },
    {
      "cell_type": "code",
      "metadata": {
        "colab": {
          "base_uri": "https://localhost:8080/"
        },
        "id": "XP3cN0uvlxhi",
        "outputId": "f38d32c5-6cde-44a8-e97f-4925839ca064"
      },
      "source": [
        "# TODO: time series often may not have very many samples (e.g. monthly = only 12 per year, daily = 365 per year... etc)\n",
        "# Deep learning algorithms usually flourish with lots of data (1000's of samples)\n",
        "len(df)"
      ],
      "execution_count": 8,
      "outputs": [
        {
          "output_type": "execute_result",
          "data": {
            "text/plain": [
              "2787"
            ]
          },
          "metadata": {
            "tags": []
          },
          "execution_count": 8
        }
      ]
    },
    {
      "cell_type": "code",
      "metadata": {
        "colab": {
          "base_uri": "https://localhost:8080/",
          "height": 235
        },
        "id": "QxoNCv2NCuLY",
        "outputId": "8e1fb9d9-3425-486f-e8e5-ab267889c906"
      },
      "source": [
        "# Only want closing price\n",
        "bitcoin_prices = pd.DataFrame(df[\"Closing Price (USD)\"]).rename(columns={\"Closing Price (USD)\": \"Price\"})\n",
        "bitcoin_prices.head()"
      ],
      "execution_count": 9,
      "outputs": [
        {
          "output_type": "execute_result",
          "data": {
            "text/html": [
              "<div>\n",
              "<style scoped>\n",
              "    .dataframe tbody tr th:only-of-type {\n",
              "        vertical-align: middle;\n",
              "    }\n",
              "\n",
              "    .dataframe tbody tr th {\n",
              "        vertical-align: top;\n",
              "    }\n",
              "\n",
              "    .dataframe thead th {\n",
              "        text-align: right;\n",
              "    }\n",
              "</style>\n",
              "<table border=\"1\" class=\"dataframe\">\n",
              "  <thead>\n",
              "    <tr style=\"text-align: right;\">\n",
              "      <th></th>\n",
              "      <th>Price</th>\n",
              "    </tr>\n",
              "    <tr>\n",
              "      <th>Date</th>\n",
              "      <th></th>\n",
              "    </tr>\n",
              "  </thead>\n",
              "  <tbody>\n",
              "    <tr>\n",
              "      <th>2013-10-01</th>\n",
              "      <td>123.65499</td>\n",
              "    </tr>\n",
              "    <tr>\n",
              "      <th>2013-10-02</th>\n",
              "      <td>125.45500</td>\n",
              "    </tr>\n",
              "    <tr>\n",
              "      <th>2013-10-03</th>\n",
              "      <td>108.58483</td>\n",
              "    </tr>\n",
              "    <tr>\n",
              "      <th>2013-10-04</th>\n",
              "      <td>118.67466</td>\n",
              "    </tr>\n",
              "    <tr>\n",
              "      <th>2013-10-05</th>\n",
              "      <td>121.33866</td>\n",
              "    </tr>\n",
              "  </tbody>\n",
              "</table>\n",
              "</div>"
            ],
            "text/plain": [
              "                Price\n",
              "Date                 \n",
              "2013-10-01  123.65499\n",
              "2013-10-02  125.45500\n",
              "2013-10-03  108.58483\n",
              "2013-10-04  118.67466\n",
              "2013-10-05  121.33866"
            ]
          },
          "metadata": {
            "tags": []
          },
          "execution_count": 9
        }
      ]
    },
    {
      "cell_type": "code",
      "metadata": {
        "colab": {
          "base_uri": "https://localhost:8080/"
        },
        "id": "Y0CAu0PTFT5R",
        "outputId": "e073d485-4a9f-4e6a-e5a3-e9909f762f63"
      },
      "source": [
        "bitcoin_prices.info()"
      ],
      "execution_count": 10,
      "outputs": [
        {
          "output_type": "stream",
          "text": [
            "<class 'pandas.core.frame.DataFrame'>\n",
            "DatetimeIndex: 2787 entries, 2013-10-01 to 2021-05-18\n",
            "Data columns (total 1 columns):\n",
            " #   Column  Non-Null Count  Dtype  \n",
            "---  ------  --------------  -----  \n",
            " 0   Price   2787 non-null   float64\n",
            "dtypes: float64(1)\n",
            "memory usage: 43.5 KB\n"
          ],
          "name": "stdout"
        }
      ]
    },
    {
      "cell_type": "code",
      "metadata": {
        "colab": {
          "base_uri": "https://localhost:8080/",
          "height": 442
        },
        "id": "CfkhZhmCEyUe",
        "outputId": "ce420460-e0df-4c68-838a-f4f97172bdbe"
      },
      "source": [
        "bitcoin_prices.plot(figsize=(10, 7));"
      ],
      "execution_count": 11,
      "outputs": [
        {
          "output_type": "display_data",
          "data": {
            "image/png": "[encoded data removed]",
            "text/plain": [
              "<Figure size 720x504 with 1 Axes>"
            ]
          },
          "metadata": {
            "tags": [],
            "needs_background": "light"
          }
        }
      ]
    },
    {
      "cell_type": "code",
      "metadata": {
        "colab": {
          "base_uri": "https://localhost:8080/",
          "height": 235
        },
        "id": "v-hEaaGjePVD",
        "outputId": "b49fc1c2-86b9-4de4-8a09-e2008c41574d"
      },
      "source": [
        "bitcoin_prices.head()"
      ],
      "execution_count": 12,
      "outputs": [
        {
          "output_type": "execute_result",
          "data": {
            "text/html": [
              "<div>\n",
              "<style scoped>\n",
              "    .dataframe tbody tr th:only-of-type {\n",
              "        vertical-align: middle;\n",
              "    }\n",
              "\n",
              "    .dataframe tbody tr th {\n",
              "        vertical-align: top;\n",
              "    }\n",
              "\n",
              "    .dataframe thead th {\n",
              "        text-align: right;\n",
              "    }\n",
              "</style>\n",
              "<table border=\"1\" class=\"dataframe\">\n",
              "  <thead>\n",
              "    <tr style=\"text-align: right;\">\n",
              "      <th></th>\n",
              "      <th>Price</th>\n",
              "    </tr>\n",
              "    <tr>\n",
              "      <th>Date</th>\n",
              "      <th></th>\n",
              "    </tr>\n",
              "  </thead>\n",
              "  <tbody>\n",
              "    <tr>\n",
              "      <th>2013-10-01</th>\n",
              "      <td>123.65499</td>\n",
              "    </tr>\n",
              "    <tr>\n",
              "      <th>2013-10-02</th>\n",
              "      <td>125.45500</td>\n",
              "    </tr>\n",
              "    <tr>\n",
              "      <th>2013-10-03</th>\n",
              "      <td>108.58483</td>\n",
              "    </tr>\n",
              "    <tr>\n",
              "      <th>2013-10-04</th>\n",
              "      <td>118.67466</td>\n",
              "    </tr>\n",
              "    <tr>\n",
              "      <th>2013-10-05</th>\n",
              "      <td>121.33866</td>\n",
              "    </tr>\n",
              "  </tbody>\n",
              "</table>\n",
              "</div>"
            ],
            "text/plain": [
              "                Price\n",
              "Date                 \n",
              "2013-10-01  123.65499\n",
              "2013-10-02  125.45500\n",
              "2013-10-03  108.58483\n",
              "2013-10-04  118.67466\n",
              "2013-10-05  121.33866"
            ]
          },
          "metadata": {
            "tags": []
          },
          "execution_count": 12
        }
      ]
    },
    {
      "cell_type": "markdown",
      "metadata": {
        "id": "O2C1JsHUPYGG"
      },
      "source": [
        "### Importing time series as a CSV"
      ]
    },
    {
      "cell_type": "code",
      "metadata": {
        "colab": {
          "base_uri": "https://localhost:8080/"
        },
        "id": "UkTvwP2DCuGK",
        "outputId": "2760459a-7bb8-4353-8641-a0a82c7d589b"
      },
      "source": [
        "# Importing with Python CSV - https://realpython.com/python-csv/\n",
        "import csv\n",
        "from datetime import datetime\n",
        "\n",
        "timesteps = []\n",
        "btc_price = []\n",
        "with open(\"/content/BTC_USD_2013-10-01_2021-05-18-CoinDesk.csv\", \"r\") as f:\n",
        "  csv_reader = csv.reader(f, delimiter=\",\")\n",
        "  next(csv_reader) # skip first line\n",
        "  for line in csv_reader:\n",
        "    timesteps.append(datetime.strptime(line[1], \"%Y-%m-%d\")) # get the dates as dates (not strings)\n",
        "    btc_price.append(float(line[2])) # get the closing price as float\n",
        "\n",
        "# View first 10\n",
        "timesteps[:10], btc_price[:10]"
      ],
      "execution_count": 13,
      "outputs": [
        {
          "output_type": "execute_result",
          "data": {
            "text/plain": [
              "([datetime.datetime(2013, 10, 1, 0, 0),\n",
              "  datetime.datetime(2013, 10, 2, 0, 0),\n",
              "  datetime.datetime(2013, 10, 3, 0, 0),\n",
              "  datetime.datetime(2013, 10, 4, 0, 0),\n",
              "  datetime.datetime(2013, 10, 5, 0, 0),\n",
              "  datetime.datetime(2013, 10, 6, 0, 0),\n",
              "  datetime.datetime(2013, 10, 7, 0, 0),\n",
              "  datetime.datetime(2013, 10, 8, 0, 0),\n",
              "  datetime.datetime(2013, 10, 9, 0, 0),\n",
              "  datetime.datetime(2013, 10, 10, 0, 0)],\n",
              " [123.65499,\n",
              "  125.455,\n",
              "  108.58483,\n",
              "  118.67466,\n",
              "  121.33866,\n",
              "  120.65533,\n",
              "  121.795,\n",
              "  123.033,\n",
              "  124.049,\n",
              "  125.96116])"
            ]
          },
          "metadata": {
            "tags": []
          },
          "execution_count": 13
        }
      ]
    },
    {
      "cell_type": "code",
      "metadata": {
        "colab": {
          "base_uri": "https://localhost:8080/",
          "height": 442
        },
        "id": "bTSX7RZ9Cytj",
        "outputId": "35fde80d-7abe-4f43-c3c0-77331eb1c1ae"
      },
      "source": [
        "# Plot from CSV\n",
        "import matplotlib.pyplot as plt\n",
        "import numpy as np\n",
        "plt.figure(figsize=(10, 7))\n",
        "plt.plot(timesteps, np.array(btc_price))\n",
        "plt.xlabel(\"Date\")\n",
        "plt.ylabel(\"BTC Price\");"
      ],
      "execution_count": 14,
      "outputs": [
        {
          "output_type": "display_data",
          "data": {
            "image/png": "[encoded data removed]",
            "text/plain": [
              "<Figure size 720x504 with 1 Axes>"
            ]
          },
          "metadata": {
            "tags": [],
            "needs_background": "light"
          }
        }
      ]
    },
    {
      "cell_type": "markdown",
      "metadata": {
        "id": "_nfP7i9R_dOp"
      },
      "source": [
        "## TODO: Format data \n",
        "\n",
        "* Turn data into a windowed dataset\n",
        "* Training/test sets for time series\n",
        "* Univariate - Bitcoin's price history\n",
        "* Multivariate - Bitcoin's price history + block size"
      ]
    },
    {
      "cell_type": "markdown",
      "metadata": {
        "id": "prkQhgiHNOKd"
      },
      "source": [
        "### TODO: Create train & test sets for time series\n",
        "\n",
        "* Note: cannot do random split, time series will buckle under this (using future values in the past)\n",
        "* Need to make train set: values from past, test set: values from \"future\""
      ]
    },
    {
      "cell_type": "code",
      "metadata": {
        "colab": {
          "base_uri": "https://localhost:8080/"
        },
        "id": "wxQbuGVTRFKX",
        "outputId": "fbaf0f90-4ab9-4a80-c7ce-30f3de4b455f"
      },
      "source": [
        "# Get bitcoin date array\n",
        "timesteps = bitcoin_prices.index.to_numpy()\n",
        "prices = bitcoin_prices[\"Price\"].to_numpy()\n",
        "\n",
        "timesteps[:10], prices[:10]"
      ],
      "execution_count": 15,
      "outputs": [
        {
          "output_type": "execute_result",
          "data": {
            "text/plain": [
              "(array(['2013-10-01T00:00:00.000000000', '2013-10-02T00:00:00.000000000',\n",
              "        '2013-10-03T00:00:00.000000000', '2013-10-04T00:00:00.000000000',\n",
              "        '2013-10-05T00:00:00.000000000', '2013-10-06T00:00:00.000000000',\n",
              "        '2013-10-07T00:00:00.000000000', '2013-10-08T00:00:00.000000000',\n",
              "        '2013-10-09T00:00:00.000000000', '2013-10-10T00:00:00.000000000'],\n",
              "       dtype='datetime64[ns]'),\n",
              " array([123.65499, 125.455  , 108.58483, 118.67466, 121.33866, 120.65533,\n",
              "        121.795  , 123.033  , 124.049  , 125.96116]))"
            ]
          },
          "metadata": {
            "tags": []
          },
          "execution_count": 15
        }
      ]
    },
    {
      "cell_type": "code",
      "metadata": {
        "colab": {
          "base_uri": "https://localhost:8080/"
        },
        "id": "eGY7hTfyNLZ1",
        "outputId": "df9af31e-9d65-4764-a3f3-8fa0eed48e18"
      },
      "source": [
        "# Wrong way to make train/test sets for time series\n",
        "from sklearn.model_selection import train_test_split \n",
        "\n",
        "X_train, X_test, y_train, y_test = train_test_split(timesteps, # dates\n",
        "                                                    prices, # prices\n",
        "                                                    test_size=0.2,\n",
        "                                                    random_state=42)\n",
        "X_train.shape, X_test.shape, y_train.shape, y_test.shape "
      ],
      "execution_count": 16,
      "outputs": [
        {
          "output_type": "execute_result",
          "data": {
            "text/plain": [
              "((2229,), (558,), (2229,), (558,))"
            ]
          },
          "metadata": {
            "tags": []
          },
          "execution_count": 16
        }
      ]
    },
    {
      "cell_type": "code",
      "metadata": {
        "colab": {
          "base_uri": "https://localhost:8080/",
          "height": 442
        },
        "id": "cvH_0RvSNLWm",
        "outputId": "284b3e74-162f-4603-f307-47028e488545"
      },
      "source": [
        "# Let's plot wrong train and test splits\n",
        "plt.figure(figsize=(10, 7))\n",
        "plt.scatter(X_train, y_train, s=5, label=\"Train data\")\n",
        "plt.scatter(X_test, y_test, s=5, label=\"Test data\")\n",
        "plt.xlabel(\"Date\")\n",
        "plt.ylabel(\"BTC Price\")\n",
        "plt.legend()\n",
        "plt.show();"
      ],
      "execution_count": 17,
      "outputs": [
        {
          "output_type": "display_data",
          "data": {
            "image/png": "[encoded data removed]",
            "text/plain": [
              "<Figure size 720x504 with 1 Axes>"
            ]
          },
          "metadata": {
            "tags": [],
            "needs_background": "light"
          }
        }
      ]
    },
    {
      "cell_type": "markdown",
      "metadata": {
        "id": "OK9sORtjRh5z"
      },
      "source": [
        "* TODO: Note: time series forecasting can often have many less data points than traditional deep learning projects (e.g. the entire history of BTC daily price data = only ~3000 samples)\n",
        "\n",
        "* TODO: What kind of steps should we predict? E.g. 80/20 split is that realisitic? You may want to use all of the data up until the last week..."
      ]
    },
    {
      "cell_type": "code",
      "metadata": {
        "colab": {
          "base_uri": "https://localhost:8080/"
        },
        "id": "lpEVKyXANLT4",
        "outputId": "8bc116fc-894b-4119-c777-c6bcc3ca9e5c"
      },
      "source": [
        "# Create train and test splits the right way for time series data\n",
        "split_size = int(0.8 * len(prices)) # 80% train, 20% test\n",
        "\n",
        "# Create train data splits\n",
        "X_train, y_train = timesteps[:split_size], prices[:split_size]\n",
        "\n",
        "# Create test data splits\n",
        "X_test, y_test = timesteps[split_size:], prices[split_size:]\n",
        "\n",
        "X_train.shape, X_test.shape, y_train.shape, y_test.shape"
      ],
      "execution_count": 18,
      "outputs": [
        {
          "output_type": "execute_result",
          "data": {
            "text/plain": [
              "((2229,), (558,), (2229,), (558,))"
            ]
          },
          "metadata": {
            "tags": []
          },
          "execution_count": 18
        }
      ]
    },
    {
      "cell_type": "code",
      "metadata": {
        "colab": {
          "base_uri": "https://localhost:8080/",
          "height": 442
        },
        "id": "L9QImNlhOQuS",
        "outputId": "b6ec10cb-f42b-4087-bbec-47be055ca400"
      },
      "source": [
        "# Plot correctly made splits\n",
        "plt.figure(figsize=(10, 7))\n",
        "plt.scatter(X_train, y_train, s=5, label=\"Train data\")\n",
        "plt.scatter(X_test, y_test, s=5, label=\"Test data\")\n",
        "plt.xlabel(\"Date\")\n",
        "plt.ylabel(\"BTC Price\")\n",
        "plt.legend()\n",
        "plt.show();"
      ],
      "execution_count": 19,
      "outputs": [
        {
          "output_type": "display_data",
          "data": {
            "image/png": "[encoded data removed]",
            "text/plain": [
              "<Figure size 720x504 with 1 Axes>"
            ]
          },
          "metadata": {
            "tags": [],
            "needs_background": "light"
          }
        }
      ]
    },
    {
      "cell_type": "markdown",
      "metadata": {
        "id": "sGUelYVKCybB"
      },
      "source": [
        "### TODO: Create a plotting function\n",
        "\n",
        "Rather than retyping `matplotlib` commands to continuously plot data, let's make a plotting function we can reuse later."
      ]
    },
    {
      "cell_type": "code",
      "metadata": {
        "id": "trkvizA0C6vc"
      },
      "source": [
        "# Create a function to plot time series data\n",
        "def plot_time_series(timesteps, values, format='-', start=0, end=None, label=None):\n",
        "  # Plot the series\n",
        "  plt.plot(timesteps[start:end], values[start:end], format, label=label)\n",
        "  plt.xlabel(\"Time\")\n",
        "  plt.ylabel(\"BTC Price\")\n",
        "  if label:\n",
        "    plt.legend(fontsize=14) # make label bigger\n",
        "  plt.grid(True)"
      ],
      "execution_count": 20,
      "outputs": []
    },
    {
      "cell_type": "code",
      "metadata": {
        "colab": {
          "base_uri": "https://localhost:8080/",
          "height": 442
        },
        "id": "6TyFY1cGC_sw",
        "outputId": "10c60c3a-2a65-4672-fe5a-4acc2b555e43"
      },
      "source": [
        "# Try out our plotting function\n",
        "plt.figure(figsize=(10, 7))\n",
        "plot_time_series(timesteps=X_train, values=y_train, format=\".\", label=\"Train data\")\n",
        "plot_time_series(timesteps=X_test, values=y_test, format=\".\", label=\"Test data\")"
      ],
      "execution_count": 21,
      "outputs": [
        {
          "output_type": "display_data",
          "data": {
            "image/png": "[encoded data removed]",
            "text/plain": [
              "<Figure size 720x504 with 1 Axes>"
            ]
          },
          "metadata": {
            "tags": [],
            "needs_background": "light"
          }
        }
      ]
    },
    {
      "cell_type": "markdown",
      "metadata": {
        "id": "cwSpQQRl_dHb"
      },
      "source": [
        "## TODO: Modelling Experiments\n",
        "\n",
        "* Baseline - naive forecasting\n",
        "* Deep model - fully connected\n",
        "  * Fully connected with different size window/horizon\n",
        "  * -> How does a larger window effect a smaller horizon?\n",
        "  * -> Model 1: horizon=1, window=7\n",
        "  * -> Model 2: horizon=1, window=30\n",
        "  * -> Model 3: horizon=7, window=30\n",
        "* Sequence models\n",
        "  * LSTM\n",
        "  * Conv1D\n",
        "* N-Beats algorithm - https://arxiv.org/pdf/1905.10437.pdf"
      ]
    },
    {
      "cell_type": "markdown",
      "metadata": {
        "id": "JO1YAv7w_dE7"
      },
      "source": [
        "## Model 0: Naive forecast (baseline)\n",
        "\n",
        "Naive forecast = Use the previous timestep to predict the next timestep\n",
        "\n",
        "$$\\hat{y}_{t} = y_{t-1}$$ "
      ]
    },
    {
      "cell_type": "code",
      "metadata": {
        "colab": {
          "base_uri": "https://localhost:8080/"
        },
        "id": "nCKGUO4OVos9",
        "outputId": "666e97b9-3905-4339-d792-473cdec34b84"
      },
      "source": [
        "naive_forecast = y_test[:-1]\n",
        "naive_forecast[:10]"
      ],
      "execution_count": 22,
      "outputs": [
        {
          "output_type": "execute_result",
          "data": {
            "text/plain": [
              "array([9226.48582088, 8794.35864452, 8798.04205463, 9081.18687849,\n",
              "       8711.53433917, 8760.89271814, 8749.52059102, 8656.97092235,\n",
              "       8500.64355816, 8469.2608989 ])"
            ]
          },
          "metadata": {
            "tags": []
          },
          "execution_count": 22
        }
      ]
    },
    {
      "cell_type": "code",
      "metadata": {
        "colab": {
          "base_uri": "https://localhost:8080/",
          "height": 442
        },
        "id": "a0NLHXDhWDX-",
        "outputId": "abd24017-9825-4727-868e-36836c10b18b"
      },
      "source": [
        "# Plot naive forecast\n",
        "plt.figure(figsize=(10, 7))\n",
        "plot_time_series(timesteps=X_train, values=y_train, format=\".\", label=\"Train data\")\n",
        "plot_time_series(timesteps=X_test, values=y_test, format=\".\", label=\"Test data\")\n",
        "plot_time_series(timesteps=X_test[1:], values=naive_forecast, label=\"Naive forecast\");"
      ],
      "execution_count": 23,
      "outputs": [
        {
          "output_type": "display_data",
          "data": {
            "image/png": "[encoded data removed]",
            "text/plain": [
              "<Figure size 720x504 with 1 Axes>"
            ]
          },
          "metadata": {
            "tags": [],
            "needs_background": "light"
          }
        }
      ]
    },
    {
      "cell_type": "markdown",
      "metadata": {
        "id": "8Zj2p8NAkRLD"
      },
      "source": [
        "The naive forecast looks like it's following the data well. But let's zoom in to take a better look."
      ]
    },
    {
      "cell_type": "code",
      "metadata": {
        "id": "dx0wUhtOW_VX",
        "colab": {
          "base_uri": "https://localhost:8080/",
          "height": 442
        },
        "outputId": "08c3dd86-d6ff-4cfe-fd43-ff44ebd3571b"
      },
      "source": [
        "plt.figure(figsize=(10, 7))\n",
        "offset=300\n",
        "plot_time_series(timesteps=X_test, values=y_test, format=\".\", start=offset, label=\"Test data\")\n",
        "plot_time_series(timesteps=X_test[1:], values=naive_forecast, start=offset, label=\"Naive forecast\");"
      ],
      "execution_count": 24,
      "outputs": [
        {
          "output_type": "display_data",
          "data": {
            "image/png": "[encoded data removed]",
            "text/plain": [
              "<Figure size 720x504 with 1 Axes>"
            ]
          },
          "metadata": {
            "tags": [],
            "needs_background": "light"
          }
        }
      ]
    },
    {
      "cell_type": "markdown",
      "metadata": {
        "id": "AdPsP9SwD72K"
      },
      "source": [
        "When we zoom in we see the naive forecast comes slightly after the test data. This makes sense because the naive forecast uses the previous timestep value to predict the next timestep value.\n",
        "\n",
        "TK - add image for naive forecast (previous step to predict next step) "
      ]
    },
    {
      "cell_type": "markdown",
      "metadata": {
        "id": "UdK4KoFnA90I"
      },
      "source": [
        "## TODO: Evaluating a time series model\n",
        "\n",
        "TK - this can be a function for each model (compares predictions to ground truth...)\n",
        "\n",
        "TK - metrics for evaluating time series models: https://otexts.com/fpp2/accuracy.html\n",
        "\n",
        "Scale-dependent erros (these can't be used to make comparisons between series that involve different units):\n",
        "* MAE - a forecast method that minimises the MAE will lead to forecasts of the median\n",
        "* RMSE - a forecast method that minimisies RMSE will lead to forecasts of the mean\n",
        "\n",
        "Percentage errors: \n",
        "* MAPE (mean absolute percentage error) \n",
        "* sMAPE (recommended not to be used, though it is used in forecasting competitions)\n",
        "\n",
        "Scaled errors (these are good when comparing forecasts accuracy across series with different units) - https://otexts.com/fpp2/accuracy.html#scaled-errors:\n",
        "* MASE (mean absolute scaled error) \n",
        "  * There are two kinds of MASE, one for seasonal, one for non-seasonal data\n",
        "    * \"To take a non-seasonal example, consider the Google stock price...\"\n"
      ]
    },
    {
      "cell_type": "code",
      "metadata": {
        "id": "ljaO69huYCZD"
      },
      "source": [
        "import tensorflow as tf"
      ],
      "execution_count": 25,
      "outputs": []
    },
    {
      "cell_type": "code",
      "metadata": {
        "id": "2jbLBJ_IGjla"
      },
      "source": [
        "# MASE implemented courtesy of sktime - https://github.com/alan-turing-institute/sktime/blob/ee7a06843a44f4aaec7582d847e36073a9ab0566/sktime/performance_metrics/forecasting/_functions.py#L16\n",
        "def mean_absolute_scaled_error(y_true, y_pred):\n",
        "  \"\"\"\n",
        "  Implement MASE (assuming no seasonality of data)\n",
        "  \"\"\"\n",
        "  mae = tf.reduce_mean(tf.abs(y_true - y_pred))\n",
        "  # Find MAE of naive forecast (no seasonality)\n",
        "  mae_naive_no_season = tf.reduce_mean(tf.abs(y_true[1:] - y_true[:-1]))\n",
        "  return mae / mae_naive_no_season"
      ],
      "execution_count": 26,
      "outputs": []
    },
    {
      "cell_type": "code",
      "metadata": {
        "id": "MwMeVgRXWaJp"
      },
      "source": [
        "def evaluate_preds(y_true, y_pred):\n",
        "  # Make sure float32 (for metric calculations)\n",
        "  y_true = tf.cast(y_true, dtype=tf.float32)\n",
        "  y_pred = tf.cast(y_pred, dtype=tf.float32)\n",
        "\n",
        "  # Calculate various metrics\n",
        "  mae = tf.keras.metrics.mean_absolute_error(y_true, y_pred)\n",
        "  mse = tf.keras.metrics.mean_squared_error(y_true, y_pred)\n",
        "  rmse = tf.sqrt(mse)\n",
        "  mape = tf.keras.metrics.mean_absolute_percentage_error(y_true, y_pred)\n",
        "  mase = mean_absolute_scaled_error(y_true, y_pred)\n",
        "  \n",
        "  return {\"mae\": mae.numpy(),\n",
        "          \"mse\": mse.numpy(),\n",
        "          \"rmse\": rmse.numpy(),\n",
        "          \"mape\": mape.numpy(),\n",
        "          \"mase\": mase.numpy()}"
      ],
      "execution_count": 27,
      "outputs": []
    },
    {
      "cell_type": "code",
      "metadata": {
        "colab": {
          "base_uri": "https://localhost:8080/"
        },
        "id": "HbJlsvUwYEsf",
        "outputId": "efb78cd0-e110-477b-c304-316c3ac8ea8d"
      },
      "source": [
        "naive_results = evaluate_preds(y_true=y_test[1:],\n",
        "                               y_pred=naive_forecast)\n",
        "naive_results"
      ],
      "execution_count": 28,
      "outputs": [
        {
          "output_type": "execute_result",
          "data": {
            "text/plain": [
              "{'mae': 567.9802,\n",
              " 'mape': 2.516525,\n",
              " 'mase': 0.99957,\n",
              " 'mse': 1147547.0,\n",
              " 'rmse': 1071.2362}"
            ]
          },
          "metadata": {
            "tags": []
          },
          "execution_count": 28
        }
      ]
    },
    {
      "cell_type": "markdown",
      "metadata": {
        "id": "_5kgVzdq1S1A"
      },
      "source": [
        "## TODO: Mention other kinds of models which can be used for baselines\n",
        "\n",
        "* TensorFlow Decision Forest\n",
        "* Moving average\n",
        "* Etc...\n",
        "* Focused on pure TensorFlow kinds of models"
      ]
    },
    {
      "cell_type": "code",
      "metadata": {
        "id": "o8O_uBXUx7yP"
      },
      "source": [
        ""
      ],
      "execution_count": 28,
      "outputs": []
    },
    {
      "cell_type": "code",
      "metadata": {
        "id": "VYhcUJEbwTXw"
      },
      "source": [
        ""
      ],
      "execution_count": 28,
      "outputs": []
    },
    {
      "cell_type": "code",
      "metadata": {
        "id": "w-lS1r2MPx78"
      },
      "source": [
        ""
      ],
      "execution_count": 28,
      "outputs": []
    },
    {
      "cell_type": "markdown",
      "metadata": {
        "id": "e8AzwUvjBkgY"
      },
      "source": [
        "## Windowing dataset\n",
        "\n",
        "Why do we window?\n",
        "\n",
        "TODO: We can turn our time series data into a **supervised learning problem**: use windows of the past to predict the future."
      ]
    },
    {
      "cell_type": "markdown",
      "metadata": {
        "id": "IxZ6h88QZfOs"
      },
      "source": [
        "Want:\n",
        "\n",
        "```\n",
        "# Window for a week (univariate time series)\n",
        "[0, 1, 2, 3, 4, 5, 6] -> [7]\n",
        "[1, 2, 3, 4, 5, 6, 7] -> [8]\n",
        "[2, 3, 4, 5, 6, 7, 8] -> [9]\n",
        "```"
      ]
    },
    {
      "cell_type": "code",
      "metadata": {
        "id": "LibzWQXM2ib-"
      },
      "source": [
        "HORIZON = 1 # predict 1 step at a time\n",
        "WINDOW_SIZE = 7 # use a week worth of timesteps to predict the horizon"
      ],
      "execution_count": 29,
      "outputs": []
    },
    {
      "cell_type": "code",
      "metadata": {
        "id": "zV8pv5K_x81E"
      },
      "source": [
        "# Create function to label windowed data\n",
        "def get_labelled_windows(x, horizon=1):\n",
        "  \"\"\"\n",
        "  Creates labels for windowed dataset.\n",
        "\n",
        "  E.g. if horizon=1 (default)\n",
        "  Input: [1, 2, 3, 4, 5, 6] -> Output: ([1, 2, 3, 4, 5], [6])\n",
        "  \"\"\"\n",
        "  return x[:, :-horizon], x[:, -horizon:]"
      ],
      "execution_count": 30,
      "outputs": []
    },
    {
      "cell_type": "code",
      "metadata": {
        "id": "apea0wiJyCI6"
      },
      "source": [
        "# Create function to view NumPy arrays as windows\n",
        "def make_windows(x, window_size=10, horizon=1):\n",
        "  \"\"\"\n",
        "  Turns a 1D array into a 2D array of sequential windows of window_size.\n",
        "  \"\"\"\n",
        "  # print(len(x)-1)\n",
        "  # start = len(x) % window_size # account for data which doesn't fit into window, cut off at start\n",
        "  # print(start)\n",
        "  window_step = np.expand_dims(np.arange(window_size+horizon), axis=0) # create 2D array of window_size\n",
        "  # print(f\"Window step:\\n {window_step[-5:]}\")\n",
        "  # window_indexes = start + window_step + np.expand_dims(np.arange(len(x)-(window_size+horizon+start-1)), axis=0).T # create 2D array of windows of size window_size\n",
        "  window_indexes = window_step + np.expand_dims(np.arange(len(x)-(window_size+horizon-1)), axis=0).T # create 2D array of windows of size window_size\n",
        "  # print(f\"Window indexes:\\n {window_indexes[:2], window_indexes[-2:]}\")\n",
        "  windowed_array = x[window_indexes] # get the original array indexed with windows\n",
        "  windows, labels = get_labelled_windows(windowed_array, horizon=horizon)\n",
        "  return windows, labels"
      ],
      "execution_count": 31,
      "outputs": []
    },
    {
      "cell_type": "code",
      "metadata": {
        "colab": {
          "base_uri": "https://localhost:8080/"
        },
        "id": "o7MU8nyF1Lfv",
        "outputId": "1412113f-f1a5-41df-9c46-187acc0fdf0e"
      },
      "source": [
        "len(prices) % WINDOW_SIZE"
      ],
      "execution_count": 32,
      "outputs": [
        {
          "output_type": "execute_result",
          "data": {
            "text/plain": [
              "1"
            ]
          },
          "metadata": {
            "tags": []
          },
          "execution_count": 32
        }
      ]
    },
    {
      "cell_type": "code",
      "metadata": {
        "colab": {
          "base_uri": "https://localhost:8080/"
        },
        "id": "u7Yc3V7fc1UG",
        "outputId": "0e6bbed3-87dd-4246-dcf3-2645b428b2b3"
      },
      "source": [
        "full_windows, full_labels = make_windows(prices, window_size=WINDOW_SIZE, horizon=HORIZON)\n",
        "len(full_windows), len(full_labels)"
      ],
      "execution_count": 33,
      "outputs": [
        {
          "output_type": "execute_result",
          "data": {
            "text/plain": [
              "(2780, 2780)"
            ]
          },
          "metadata": {
            "tags": []
          },
          "execution_count": 33
        }
      ]
    },
    {
      "cell_type": "markdown",
      "metadata": {
        "id": "kmuTc0NDYj3l"
      },
      "source": [
        "### TODO: Make train/test splits after windowing, this helps with evaluation..."
      ]
    },
    {
      "cell_type": "code",
      "metadata": {
        "id": "o_8BRgb8YtP3"
      },
      "source": [
        "# Make the train/test splits\n",
        "def make_train_test_splits(windows, labels, test_split=0.2):\n",
        "  \"\"\"\n",
        "  Splits matching pairs of windows and labels into train and test splits.\n",
        "  \"\"\"\n",
        "  split_size = int(len(windows) * (1-test_split))\n",
        "  train_windows = windows[:split_size]\n",
        "  train_labels = labels[:split_size]\n",
        "  test_windows = windows[split_size:]\n",
        "  test_labels = labels[split_size:]\n",
        "  return train_windows, test_windows, train_labels, test_labels"
      ],
      "execution_count": 34,
      "outputs": []
    },
    {
      "cell_type": "code",
      "metadata": {
        "colab": {
          "base_uri": "https://localhost:8080/"
        },
        "id": "-Q41rjQ819Jn",
        "outputId": "22c58cfe-11d4-426c-a5bb-6bc5b7efcabf"
      },
      "source": [
        "(2224, 2224, 556, 556)"
      ],
      "execution_count": 35,
      "outputs": [
        {
          "output_type": "execute_result",
          "data": {
            "text/plain": [
              "(2224, 2224, 556, 556)"
            ]
          },
          "metadata": {
            "tags": []
          },
          "execution_count": 35
        }
      ]
    },
    {
      "cell_type": "code",
      "metadata": {
        "colab": {
          "base_uri": "https://localhost:8080/"
        },
        "id": "z_xY8T7HEaoU",
        "outputId": "6410255d-8576-4f4c-d948-0ba936db92f2"
      },
      "source": [
        "train_windows, test_windows, train_labels, test_labels = make_train_test_splits(full_windows, full_labels)\n",
        "len(train_windows), len(test_windows), len(train_labels), len(test_labels)"
      ],
      "execution_count": 36,
      "outputs": [
        {
          "output_type": "execute_result",
          "data": {
            "text/plain": [
              "(2224, 556, 2224, 556)"
            ]
          },
          "metadata": {
            "tags": []
          },
          "execution_count": 36
        }
      ]
    },
    {
      "cell_type": "code",
      "metadata": {
        "colab": {
          "base_uri": "https://localhost:8080/"
        },
        "id": "DDgyT7Gix1fH",
        "outputId": "94d2a8fc-d095-4e2b-ca93-0fd31f4864f1"
      },
      "source": [
        "train_windows[:5], train_labels[:5]"
      ],
      "execution_count": 37,
      "outputs": [
        {
          "output_type": "execute_result",
          "data": {
            "text/plain": [
              "(array([[123.65499, 125.455  , 108.58483, 118.67466, 121.33866, 120.65533,\n",
              "         121.795  ],\n",
              "        [125.455  , 108.58483, 118.67466, 121.33866, 120.65533, 121.795  ,\n",
              "         123.033  ],\n",
              "        [108.58483, 118.67466, 121.33866, 120.65533, 121.795  , 123.033  ,\n",
              "         124.049  ],\n",
              "        [118.67466, 121.33866, 120.65533, 121.795  , 123.033  , 124.049  ,\n",
              "         125.96116],\n",
              "        [121.33866, 120.65533, 121.795  , 123.033  , 124.049  , 125.96116,\n",
              "         125.27966]]), array([[123.033  ],\n",
              "        [124.049  ],\n",
              "        [125.96116],\n",
              "        [125.27966],\n",
              "        [125.9275 ]]))"
            ]
          },
          "metadata": {
            "tags": []
          },
          "execution_count": 37
        }
      ]
    },
    {
      "cell_type": "markdown",
      "metadata": {
        "id": "PQX0PF5jV4aq"
      },
      "source": [
        "## TODO: Make a modelling checkpoint... \n",
        "\n",
        "We need to save our model's best performance. "
      ]
    },
    {
      "cell_type": "code",
      "metadata": {
        "id": "knBwm-bCWWk_"
      },
      "source": [
        "import os"
      ],
      "execution_count": 38,
      "outputs": []
    },
    {
      "cell_type": "code",
      "metadata": {
        "id": "Xh8i1f7rV_P2"
      },
      "source": [
        "def create_model_checkpoint(model_name, save_path=\"model_experiments\"):\n",
        "  return tf.keras.callbacks.ModelCheckpoint(filepath=os.path.join(save_path, model_name),\n",
        "                                            verbose=0,\n",
        "                                            save_best_only=True)"
      ],
      "execution_count": 39,
      "outputs": []
    },
    {
      "cell_type": "markdown",
      "metadata": {
        "id": "j5uw1AaVY-J9"
      },
      "source": [
        "## TODO: Model 1: Dense model (window = 7, horizon = 1)\n",
        "\n",
        "* -> How does a larger window effect a smaller horizon?\n",
        "* -> Model 1: horizon=1, window=7\n",
        "* -> Model 2: horizon=1, window=30\n",
        "* -> Model 3: horizon=7, window=30"
      ]
    },
    {
      "cell_type": "code",
      "metadata": {
        "id": "Fadbh94rY-WQ"
      },
      "source": [
        "import tensorflow as tf\n",
        "from tensorflow.keras import layers"
      ],
      "execution_count": 40,
      "outputs": []
    },
    {
      "cell_type": "code",
      "metadata": {
        "colab": {
          "base_uri": "https://localhost:8080/"
        },
        "id": "T3ytqCyZ3O4T",
        "outputId": "24d5cb18-d454-4497-f565-d4fcb8067993"
      },
      "source": [
        "len(train_windows), len(test_windows), len(full_windows)"
      ],
      "execution_count": 41,
      "outputs": [
        {
          "output_type": "execute_result",
          "data": {
            "text/plain": [
              "(2224, 556, 2780)"
            ]
          },
          "metadata": {
            "tags": []
          },
          "execution_count": 41
        }
      ]
    },
    {
      "cell_type": "code",
      "metadata": {
        "id": "Slr5hrJHY_Ed",
        "colab": {
          "base_uri": "https://localhost:8080/"
        },
        "outputId": "5c0e0981-c012-4369-e4e6-53b56992bb7b"
      },
      "source": [
        "tf.random.set_seed(42)\n",
        "\n",
        "model_1 = tf.keras.Sequential([\n",
        "  layers.Dense(128, activation=\"relu\"),\n",
        "  layers.Dense(HORIZON)                              \n",
        "], name=\"model_1_dense\")\n",
        "\n",
        "model_1.compile(loss=\"mae\",\n",
        "                optimizer=tf.keras.optimizers.Adam())\n",
        "\n",
        "model_1.fit(x=train_windows, \n",
        "            y=train_labels,\n",
        "            epochs=100,\n",
        "            verbose=1,\n",
        "            batch_size=128,\n",
        "            validation_data=(test_windows, test_labels),\n",
        "            callbacks=[create_model_checkpoint(model_name=model_1.name)])"
      ],
      "execution_count": 42,
      "outputs": [
        {
          "output_type": "stream",
          "text": [
            "Epoch 1/100\n",
            "18/18 [==============================] - 3s 9ms/step - loss: 780.3455 - val_loss: 2279.6528\n",
            "INFO:tensorflow:Assets written to: model_experiments/model_1_dense/assets\n",
            "Epoch 2/100\n",
            "18/18 [==============================] - 0s 3ms/step - loss: 247.6756 - val_loss: 1005.9993\n",
            "INFO:tensorflow:Assets written to: model_experiments/model_1_dense/assets\n",
            "Epoch 3/100\n",
            "18/18 [==============================] - 0s 3ms/step - loss: 188.4116 - val_loss: 923.2862\n",
            "INFO:tensorflow:Assets written to: model_experiments/model_1_dense/assets\n",
            "Epoch 4/100\n",
            "18/18 [==============================] - 0s 3ms/step - loss: 169.4340 - val_loss: 900.5872\n",
            "INFO:tensorflow:Assets written to: model_experiments/model_1_dense/assets\n",
            "Epoch 5/100\n",
            "18/18 [==============================] - 0s 3ms/step - loss: 165.0894 - val_loss: 895.2237\n",
            "INFO:tensorflow:Assets written to: model_experiments/model_1_dense/assets\n",
            "Epoch 6/100\n",
            "18/18 [==============================] - 0s 3ms/step - loss: 158.5210 - val_loss: 855.1984\n",
            "INFO:tensorflow:Assets written to: model_experiments/model_1_dense/assets\n",
            "Epoch 7/100\n",
            "18/18 [==============================] - 0s 3ms/step - loss: 151.3566 - val_loss: 840.9166\n",
            "INFO:tensorflow:Assets written to: model_experiments/model_1_dense/assets\n",
            "Epoch 8/100\n",
            "18/18 [==============================] - 0s 3ms/step - loss: 145.2560 - val_loss: 803.5956\n",
            "INFO:tensorflow:Assets written to: model_experiments/model_1_dense/assets\n",
            "Epoch 9/100\n",
            "18/18 [==============================] - 0s 3ms/step - loss: 144.3546 - val_loss: 799.5454\n",
            "INFO:tensorflow:Assets written to: model_experiments/model_1_dense/assets\n",
            "Epoch 10/100\n",
            "18/18 [==============================] - 0s 3ms/step - loss: 141.2943 - val_loss: 763.5010\n",
            "INFO:tensorflow:Assets written to: model_experiments/model_1_dense/assets\n",
            "Epoch 11/100\n",
            "18/18 [==============================] - 0s 3ms/step - loss: 135.6595 - val_loss: 771.3356\n",
            "Epoch 12/100\n",
            "18/18 [==============================] - 0s 4ms/step - loss: 134.1700 - val_loss: 782.8079\n",
            "Epoch 13/100\n",
            "18/18 [==============================] - 0s 3ms/step - loss: 134.6015 - val_loss: 784.4449\n",
            "Epoch 14/100\n",
            "18/18 [==============================] - 0s 3ms/step - loss: 130.6127 - val_loss: 751.3234\n",
            "INFO:tensorflow:Assets written to: model_experiments/model_1_dense/assets\n",
            "Epoch 15/100\n",
            "18/18 [==============================] - 0s 3ms/step - loss: 128.8347 - val_loss: 696.5756\n",
            "INFO:tensorflow:Assets written to: model_experiments/model_1_dense/assets\n",
            "Epoch 16/100\n",
            "18/18 [==============================] - 0s 3ms/step - loss: 124.7739 - val_loss: 702.4698\n",
            "Epoch 17/100\n",
            "18/18 [==============================] - 0s 3ms/step - loss: 123.4474 - val_loss: 704.9239\n",
            "Epoch 18/100\n",
            "18/18 [==============================] - 0s 3ms/step - loss: 122.2105 - val_loss: 667.9724\n",
            "INFO:tensorflow:Assets written to: model_experiments/model_1_dense/assets\n",
            "Epoch 19/100\n",
            "18/18 [==============================] - 0s 3ms/step - loss: 121.7263 - val_loss: 718.8796\n",
            "Epoch 20/100\n",
            "18/18 [==============================] - 0s 3ms/step - loss: 119.2420 - val_loss: 657.0666\n",
            "INFO:tensorflow:Assets written to: model_experiments/model_1_dense/assets\n",
            "Epoch 21/100\n",
            "18/18 [==============================] - 0s 3ms/step - loss: 121.2275 - val_loss: 637.0333\n",
            "INFO:tensorflow:Assets written to: model_experiments/model_1_dense/assets\n",
            "Epoch 22/100\n",
            "18/18 [==============================] - 0s 3ms/step - loss: 119.9544 - val_loss: 671.2488\n",
            "Epoch 23/100\n",
            "18/18 [==============================] - 0s 3ms/step - loss: 121.9248 - val_loss: 633.3592\n",
            "INFO:tensorflow:Assets written to: model_experiments/model_1_dense/assets\n",
            "Epoch 24/100\n",
            "18/18 [==============================] - 0s 3ms/step - loss: 116.3665 - val_loss: 624.4852\n",
            "INFO:tensorflow:Assets written to: model_experiments/model_1_dense/assets\n",
            "Epoch 25/100\n",
            "18/18 [==============================] - 0s 3ms/step - loss: 114.6816 - val_loss: 619.7570\n",
            "INFO:tensorflow:Assets written to: model_experiments/model_1_dense/assets\n",
            "Epoch 26/100\n",
            "18/18 [==============================] - 0s 3ms/step - loss: 116.4455 - val_loss: 615.6364\n",
            "INFO:tensorflow:Assets written to: model_experiments/model_1_dense/assets\n",
            "Epoch 27/100\n",
            "18/18 [==============================] - 0s 3ms/step - loss: 116.5868 - val_loss: 615.9629\n",
            "Epoch 28/100\n",
            "18/18 [==============================] - 0s 3ms/step - loss: 113.4691 - val_loss: 608.0921\n",
            "INFO:tensorflow:Assets written to: model_experiments/model_1_dense/assets\n",
            "Epoch 29/100\n",
            "18/18 [==============================] - 0s 3ms/step - loss: 113.7598 - val_loss: 621.9305\n",
            "Epoch 30/100\n",
            "18/18 [==============================] - 0s 3ms/step - loss: 116.8613 - val_loss: 604.4056\n",
            "INFO:tensorflow:Assets written to: model_experiments/model_1_dense/assets\n",
            "Epoch 31/100\n",
            "18/18 [==============================] - 0s 3ms/step - loss: 111.9375 - val_loss: 609.3882\n",
            "Epoch 32/100\n",
            "18/18 [==============================] - 0s 3ms/step - loss: 112.4175 - val_loss: 603.0588\n",
            "INFO:tensorflow:Assets written to: model_experiments/model_1_dense/assets\n",
            "Epoch 33/100\n",
            "18/18 [==============================] - 0s 3ms/step - loss: 112.6697 - val_loss: 645.6973\n",
            "Epoch 34/100\n",
            "18/18 [==============================] - 0s 3ms/step - loss: 111.9867 - val_loss: 604.7634\n",
            "Epoch 35/100\n",
            "18/18 [==============================] - 0s 3ms/step - loss: 110.9451 - val_loss: 593.4648\n",
            "INFO:tensorflow:Assets written to: model_experiments/model_1_dense/assets\n",
            "Epoch 36/100\n",
            "18/18 [==============================] - 0s 3ms/step - loss: 114.4816 - val_loss: 608.0074\n",
            "Epoch 37/100\n",
            "18/18 [==============================] - 0s 3ms/step - loss: 110.2016 - val_loss: 597.2308\n",
            "Epoch 38/100\n",
            "18/18 [==============================] - 0s 3ms/step - loss: 112.2372 - val_loss: 637.9798\n",
            "Epoch 39/100\n",
            "18/18 [==============================] - 0s 3ms/step - loss: 115.1289 - val_loss: 587.4680\n",
            "INFO:tensorflow:Assets written to: model_experiments/model_1_dense/assets\n",
            "Epoch 40/100\n",
            "18/18 [==============================] - 0s 3ms/step - loss: 110.0854 - val_loss: 592.7117\n",
            "Epoch 41/100\n",
            "18/18 [==============================] - 0s 3ms/step - loss: 110.6344 - val_loss: 593.8997\n",
            "Epoch 42/100\n",
            "18/18 [==============================] - 0s 3ms/step - loss: 113.5762 - val_loss: 636.3674\n",
            "Epoch 43/100\n",
            "18/18 [==============================] - 0s 3ms/step - loss: 116.2285 - val_loss: 662.9263\n",
            "Epoch 44/100\n",
            "18/18 [==============================] - 0s 3ms/step - loss: 120.0192 - val_loss: 635.6360\n",
            "Epoch 45/100\n",
            "18/18 [==============================] - 0s 3ms/step - loss: 110.9675 - val_loss: 601.9926\n",
            "Epoch 46/100\n",
            "18/18 [==============================] - 0s 3ms/step - loss: 111.6012 - val_loss: 593.3531\n",
            "Epoch 47/100\n",
            "18/18 [==============================] - 0s 3ms/step - loss: 109.6161 - val_loss: 637.0011\n",
            "Epoch 48/100\n",
            "18/18 [==============================] - 0s 3ms/step - loss: 109.1368 - val_loss: 598.4197\n",
            "Epoch 49/100\n",
            "18/18 [==============================] - 0s 3ms/step - loss: 112.4355 - val_loss: 579.7042\n",
            "INFO:tensorflow:Assets written to: model_experiments/model_1_dense/assets\n",
            "Epoch 50/100\n",
            "18/18 [==============================] - 0s 3ms/step - loss: 110.2108 - val_loss: 639.2327\n",
            "Epoch 51/100\n",
            "18/18 [==============================] - 0s 3ms/step - loss: 111.0958 - val_loss: 597.3571\n",
            "Epoch 52/100\n",
            "18/18 [==============================] - 0s 3ms/step - loss: 110.7351 - val_loss: 580.7227\n",
            "Epoch 53/100\n",
            "18/18 [==============================] - 0s 3ms/step - loss: 111.1785 - val_loss: 648.3586\n",
            "Epoch 54/100\n",
            "18/18 [==============================] - 0s 3ms/step - loss: 114.0831 - val_loss: 593.2006\n",
            "Epoch 55/100\n",
            "18/18 [==============================] - 0s 4ms/step - loss: 110.4910 - val_loss: 579.5067\n",
            "INFO:tensorflow:Assets written to: model_experiments/model_1_dense/assets\n",
            "Epoch 56/100\n",
            "18/18 [==============================] - 0s 3ms/step - loss: 108.0488 - val_loss: 807.3853\n",
            "Epoch 57/100\n",
            "18/18 [==============================] - 0s 3ms/step - loss: 125.0614 - val_loss: 674.1658\n",
            "Epoch 58/100\n",
            "18/18 [==============================] - 0s 3ms/step - loss: 115.4340 - val_loss: 582.2697\n",
            "Epoch 59/100\n",
            "18/18 [==============================] - 0s 3ms/step - loss: 110.0881 - val_loss: 606.7640\n",
            "Epoch 60/100\n",
            "18/18 [==============================] - 0s 3ms/step - loss: 108.7156 - val_loss: 602.3099\n",
            "Epoch 61/100\n",
            "18/18 [==============================] - 0s 3ms/step - loss: 108.1525 - val_loss: 573.9990\n",
            "INFO:tensorflow:Assets written to: model_experiments/model_1_dense/assets\n",
            "Epoch 62/100\n",
            "18/18 [==============================] - 0s 3ms/step - loss: 107.3726 - val_loss: 581.7015\n",
            "Epoch 63/100\n",
            "18/18 [==============================] - 0s 3ms/step - loss: 110.7667 - val_loss: 637.5243\n",
            "Epoch 64/100\n",
            "18/18 [==============================] - 0s 4ms/step - loss: 110.1539 - val_loss: 586.6598\n",
            "Epoch 65/100\n",
            "18/18 [==============================] - 0s 3ms/step - loss: 108.2325 - val_loss: 573.5618\n",
            "INFO:tensorflow:Assets written to: model_experiments/model_1_dense/assets\n",
            "Epoch 66/100\n",
            "18/18 [==============================] - 0s 3ms/step - loss: 108.6825 - val_loss: 572.2206\n",
            "INFO:tensorflow:Assets written to: model_experiments/model_1_dense/assets\n",
            "Epoch 67/100\n",
            "18/18 [==============================] - 0s 3ms/step - loss: 106.6371 - val_loss: 646.6359\n",
            "Epoch 68/100\n",
            "18/18 [==============================] - 0s 3ms/step - loss: 114.1603 - val_loss: 681.8572\n",
            "Epoch 69/100\n",
            "18/18 [==============================] - 0s 4ms/step - loss: 124.5514 - val_loss: 655.9892\n",
            "Epoch 70/100\n",
            "18/18 [==============================] - 0s 3ms/step - loss: 125.0234 - val_loss: 601.0039\n",
            "Epoch 71/100\n",
            "18/18 [==============================] - 0s 3ms/step - loss: 110.3652 - val_loss: 595.3957\n",
            "Epoch 72/100\n",
            "18/18 [==============================] - 0s 3ms/step - loss: 107.9285 - val_loss: 573.7084\n",
            "Epoch 73/100\n",
            "18/18 [==============================] - 0s 3ms/step - loss: 109.5085 - val_loss: 580.4183\n",
            "Epoch 74/100\n",
            "18/18 [==============================] - 0s 3ms/step - loss: 108.7380 - val_loss: 576.1216\n",
            "Epoch 75/100\n",
            "18/18 [==============================] - 0s 3ms/step - loss: 107.9404 - val_loss: 591.1470\n",
            "Epoch 76/100\n",
            "18/18 [==============================] - 0s 3ms/step - loss: 109.4232 - val_loss: 597.8611\n",
            "Epoch 77/100\n",
            "18/18 [==============================] - 0s 3ms/step - loss: 107.5879 - val_loss: 571.9301\n",
            "INFO:tensorflow:Assets written to: model_experiments/model_1_dense/assets\n",
            "Epoch 78/100\n",
            "18/18 [==============================] - 0s 4ms/step - loss: 108.1598 - val_loss: 575.2387\n",
            "Epoch 79/100\n",
            "18/18 [==============================] - 0s 4ms/step - loss: 107.9175 - val_loss: 617.3083\n",
            "Epoch 80/100\n",
            "18/18 [==============================] - 0s 3ms/step - loss: 108.9510 - val_loss: 583.4841\n",
            "Epoch 81/100\n",
            "18/18 [==============================] - 0s 3ms/step - loss: 106.0505 - val_loss: 570.0803\n",
            "INFO:tensorflow:Assets written to: model_experiments/model_1_dense/assets\n",
            "Epoch 82/100\n",
            "18/18 [==============================] - 0s 3ms/step - loss: 115.6827 - val_loss: 575.7388\n",
            "Epoch 83/100\n",
            "18/18 [==============================] - 0s 3ms/step - loss: 110.9379 - val_loss: 659.6579\n",
            "Epoch 84/100\n",
            "18/18 [==============================] - 0s 3ms/step - loss: 111.4836 - val_loss: 570.1957\n",
            "Epoch 85/100\n",
            "18/18 [==============================] - 0s 3ms/step - loss: 107.5949 - val_loss: 601.5939\n",
            "Epoch 86/100\n",
            "18/18 [==============================] - 0s 3ms/step - loss: 108.9425 - val_loss: 592.8101\n",
            "Epoch 87/100\n",
            "18/18 [==============================] - 0s 3ms/step - loss: 105.7717 - val_loss: 603.6174\n",
            "Epoch 88/100\n",
            "18/18 [==============================] - 0s 3ms/step - loss: 107.9217 - val_loss: 569.0500\n",
            "INFO:tensorflow:Assets written to: model_experiments/model_1_dense/assets\n",
            "Epoch 89/100\n",
            "18/18 [==============================] - 0s 3ms/step - loss: 106.0344 - val_loss: 568.9510\n",
            "INFO:tensorflow:Assets written to: model_experiments/model_1_dense/assets\n",
            "Epoch 90/100\n",
            "18/18 [==============================] - 0s 3ms/step - loss: 105.4977 - val_loss: 581.7677\n",
            "Epoch 91/100\n",
            "18/18 [==============================] - 0s 3ms/step - loss: 108.8468 - val_loss: 573.6025\n",
            "Epoch 92/100\n",
            "18/18 [==============================] - 0s 3ms/step - loss: 110.8884 - val_loss: 576.8243\n",
            "Epoch 93/100\n",
            "18/18 [==============================] - 0s 3ms/step - loss: 113.8781 - val_loss: 608.3022\n",
            "Epoch 94/100\n",
            "18/18 [==============================] - 0s 3ms/step - loss: 110.5763 - val_loss: 601.6042\n",
            "Epoch 95/100\n",
            "18/18 [==============================] - 0s 3ms/step - loss: 106.5906 - val_loss: 570.3651\n",
            "Epoch 96/100\n",
            "18/18 [==============================] - 0s 3ms/step - loss: 116.9515 - val_loss: 615.2584\n",
            "Epoch 97/100\n",
            "18/18 [==============================] - 0s 3ms/step - loss: 108.0739 - val_loss: 580.3076\n",
            "Epoch 98/100\n",
            "18/18 [==============================] - 0s 3ms/step - loss: 108.7102 - val_loss: 586.6510\n",
            "Epoch 99/100\n",
            "18/18 [==============================] - 0s 3ms/step - loss: 109.0488 - val_loss: 570.0628\n",
            "Epoch 100/100\n",
            "18/18 [==============================] - 0s 3ms/step - loss: 106.1845 - val_loss: 585.9758\n"
          ],
          "name": "stdout"
        },
        {
          "output_type": "execute_result",
          "data": {
            "text/plain": [
              "<tensorflow.python.keras.callbacks.History at 0x7f22a06b2f90>"
            ]
          },
          "metadata": {
            "tags": []
          },
          "execution_count": 42
        }
      ]
    },
    {
      "cell_type": "code",
      "metadata": {
        "id": "N1DbcEZBY_Bt",
        "colab": {
          "base_uri": "https://localhost:8080/"
        },
        "outputId": "a7b8e6be-3d1e-4a51-fa21-9d9fa364a668"
      },
      "source": [
        "# Evaluate\n",
        "model_1.evaluate(test_windows, test_labels)"
      ],
      "execution_count": 43,
      "outputs": [
        {
          "output_type": "stream",
          "text": [
            "18/18 [==============================] - 0s 1ms/step - loss: 585.9758\n"
          ],
          "name": "stdout"
        },
        {
          "output_type": "execute_result",
          "data": {
            "text/plain": [
              "585.9757690429688"
            ]
          },
          "metadata": {
            "tags": []
          },
          "execution_count": 43
        }
      ]
    },
    {
      "cell_type": "code",
      "metadata": {
        "colab": {
          "base_uri": "https://localhost:8080/"
        },
        "id": "FXey-AX-XZPK",
        "outputId": "58b2341b-1424-457b-ff35-19dc3cdf30af"
      },
      "source": [
        "model_1 = tf.keras.models.load_model(\"model_experiments/model_1_dense\")\n",
        "model_1.evaluate(test_windows, test_labels)"
      ],
      "execution_count": 44,
      "outputs": [
        {
          "output_type": "stream",
          "text": [
            "18/18 [==============================] - 0s 2ms/step - loss: 568.9510\n"
          ],
          "name": "stdout"
        },
        {
          "output_type": "execute_result",
          "data": {
            "text/plain": [
              "568.9510498046875"
            ]
          },
          "metadata": {
            "tags": []
          },
          "execution_count": 44
        }
      ]
    },
    {
      "cell_type": "markdown",
      "metadata": {
        "id": "-HfeTX5KhYin"
      },
      "source": [
        "### TODO: Making forecasts with a model\n",
        "\n",
        "* We could make forecasts on the test windows, however this would end up in less prediction values than in the `y_test`\n",
        "* Instead, we're going to make predictions on the full dataset windows "
      ]
    },
    {
      "cell_type": "code",
      "metadata": {
        "id": "hZrExWzyh3ur"
      },
      "source": [
        "def make_forecast(model, input_data):\n",
        "  \"\"\"\n",
        "  Uses model to make forecasts on input_data.\n",
        "\n",
        "  Input_data must be windowed version of whole dataset, otherwise forecasts won't match size of y_test.\n",
        "\n",
        "  Parameters\n",
        "  ----------\n",
        "  model: trained model \n",
        "  input_data: windowed input data (same kind of data model was trained on)\n",
        "\n",
        "  Returns model forecast on input_data from split_size-window_size onwards.\n",
        "  \"\"\"\n",
        "  forecast = model.predict(input_data)\n",
        "  return tf.squeeze(forecast) # return 1D array of predictions "
      ],
      "execution_count": 45,
      "outputs": []
    },
    {
      "cell_type": "code",
      "metadata": {
        "colab": {
          "base_uri": "https://localhost:8080/"
        },
        "id": "ND4uFaYdy463",
        "outputId": "149d698f-a0b3-408b-da49-1933b453271c"
      },
      "source": [
        "model_1_preds = tf.squeeze(model_1.predict(test_windows))\n",
        "len(model_1_preds)"
      ],
      "execution_count": 46,
      "outputs": [
        {
          "output_type": "execute_result",
          "data": {
            "text/plain": [
              "556"
            ]
          },
          "metadata": {
            "tags": []
          },
          "execution_count": 46
        }
      ]
    },
    {
      "cell_type": "code",
      "metadata": {
        "colab": {
          "base_uri": "https://localhost:8080/"
        },
        "id": "gACmlubfdL8q",
        "outputId": "4c4946e5-9938-4c59-c883-f14fbad13823"
      },
      "source": [
        "model_1_preds[:10]"
      ],
      "execution_count": 47,
      "outputs": [
        {
          "output_type": "execute_result",
          "data": {
            "text/plain": [
              "<tf.Tensor: shape=(10,), dtype=float32, numpy=\n",
              "array([8861.71 , 8769.887, 9015.711, 8795.519, 8723.811, 8730.111,\n",
              "       8691.952, 8502.054, 8460.961, 8516.548], dtype=float32)>"
            ]
          },
          "metadata": {
            "tags": []
          },
          "execution_count": 47
        }
      ]
    },
    {
      "cell_type": "code",
      "metadata": {
        "colab": {
          "base_uri": "https://localhost:8080/"
        },
        "id": "eHak7Jqd9aXv",
        "outputId": "a7bcab69-2497-4466-f174-96969eecae4b"
      },
      "source": [
        "# Evaluate preds\n",
        "model_1_results = evaluate_preds(y_true=tf.squeeze(test_labels), # reduce to right shape\n",
        "                                 y_pred=model_1_preds)\n",
        "model_1_results"
      ],
      "execution_count": 48,
      "outputs": [
        {
          "output_type": "execute_result",
          "data": {
            "text/plain": [
              "{'mae': 568.9511,\n",
              " 'mape': 2.5448983,\n",
              " 'mase': 0.99948955,\n",
              " 'mse': 1171743.8,\n",
              " 'rmse': 1082.4712}"
            ]
          },
          "metadata": {
            "tags": []
          },
          "execution_count": 48
        }
      ]
    },
    {
      "cell_type": "code",
      "metadata": {
        "id": "HLE7DxADBqyV"
      },
      "source": [
        "# # Model 1 with 10 epochs & no block_reward variable\n",
        "# {'mae': 763.506,\n",
        "#  'mape': 3.3924627,\n",
        "#  'mase': 1.3412685,\n",
        "#  'mse': 1933137.0,\n",
        "#  'rmse': 1390.3729}\n",
        "\n",
        "# # Model 1 with 100 epochs & no block_reward variable\n",
        "# {'mae': 568.5498,\n",
        "#  'mape': 2.549229,\n",
        "#  'mase': 0.99878454,\n",
        "#  'mse': 1172587.6,\n",
        "#  'rmse': 1082.8608}"
      ],
      "execution_count": 49,
      "outputs": []
    },
    {
      "cell_type": "code",
      "metadata": {
        "colab": {
          "base_uri": "https://localhost:8080/",
          "height": 442
        },
        "id": "Wgxoqg_tIhFJ",
        "outputId": "fdf447a2-274c-4c13-af31-1c802079cd7a"
      },
      "source": [
        "offset = 300\n",
        "plt.figure(figsize=(10, 7))\n",
        "# Account for the test_window offset and index into test_labels to ensure correct plotting\n",
        "plot_time_series(timesteps=X_test[-len(test_windows):], values=test_labels[:, 0], format=\".\", start=offset, label=\"Test_data\")\n",
        "plot_time_series(timesteps=X_test[-len(test_windows):], values=model_1_preds, start=offset, label=\"model_1_preds\")"
      ],
      "execution_count": 50,
      "outputs": [
        {
          "output_type": "display_data",
          "data": {
            "image/png": "[encoded data removed]",
            "text/plain": [
              "<Figure size 720x504 with 1 Axes>"
            ]
          },
          "metadata": {
            "tags": [],
            "needs_background": "light"
          }
        }
      ]
    },
    {
      "cell_type": "markdown",
      "metadata": {
        "id": "fr18ffVq4i6m"
      },
      "source": [
        "## TODO: Model 2: Dense (window = 30, horizon = 1)\n",
        "\n",
        "Same model as model 1 except with different data.\n",
        "\n",
        "TK - What happens if we make a larger window & horizon?\n",
        "\n",
        "* TK - Window & horizon values are values you can tune..."
      ]
    },
    {
      "cell_type": "code",
      "metadata": {
        "id": "Vz0eMi7F4wpn"
      },
      "source": [
        "HORIZON = 1 # predict one step at a time\n",
        "WINDOW_SIZE = 30 # use 30 timesteps in the past"
      ],
      "execution_count": 51,
      "outputs": []
    },
    {
      "cell_type": "code",
      "metadata": {
        "colab": {
          "base_uri": "https://localhost:8080/"
        },
        "id": "1HlYaAxr6UoC",
        "outputId": "7c30a5c8-f4c9-485a-ac7e-e4a4229ffadb"
      },
      "source": [
        "# Make windowed data with appropriate horizon and window sizes\n",
        "full_windows, full_labels = make_windows(prices, window_size=WINDOW_SIZE, horizon=HORIZON)\n",
        "len(full_windows), len(full_labels)"
      ],
      "execution_count": 52,
      "outputs": [
        {
          "output_type": "execute_result",
          "data": {
            "text/plain": [
              "(2757, 2757)"
            ]
          },
          "metadata": {
            "tags": []
          },
          "execution_count": 52
        }
      ]
    },
    {
      "cell_type": "code",
      "metadata": {
        "colab": {
          "base_uri": "https://localhost:8080/"
        },
        "id": "jWxYZtOuelzO",
        "outputId": "115981d3-7cf4-4304-a226-147d8b9ff3ea"
      },
      "source": [
        "# Make train and testing windows\n",
        "train_windows, test_windows, train_labels, test_labels = make_train_test_splits(windows=full_windows, labels=full_labels)\n",
        "len(train_windows), len(test_windows), len(train_labels), len(test_labels)"
      ],
      "execution_count": 53,
      "outputs": [
        {
          "output_type": "execute_result",
          "data": {
            "text/plain": [
              "(2205, 552, 2205, 552)"
            ]
          },
          "metadata": {
            "tags": []
          },
          "execution_count": 53
        }
      ]
    },
    {
      "cell_type": "code",
      "metadata": {
        "colab": {
          "base_uri": "https://localhost:8080/"
        },
        "id": "b_oz5aJE6UwN",
        "outputId": "aef71208-b059-4fdd-e5a4-398c519ff8f6"
      },
      "source": [
        "# Create model (same model as model 1 but data input will be different)\n",
        "model_2 = tf.keras.Sequential([\n",
        "  layers.Dense(128, activation=\"relu\"),\n",
        "  layers.Dense(HORIZON) # need to predict horizon number of steps into the future\n",
        "], name=\"model_2_dense\")\n",
        "\n",
        "model_2.compile(loss=\"mae\",\n",
        "                optimizer=tf.keras.optimizers.Adam())\n",
        "\n",
        "model_2.fit(train_windows,\n",
        "            train_labels,\n",
        "            epochs=10,\n",
        "            validation_data=(test_windows, test_labels),\n",
        "            callbacks=[create_model_checkpoint(model_name=model_2.name)])"
      ],
      "execution_count": 54,
      "outputs": [
        {
          "output_type": "stream",
          "text": [
            "Epoch 1/10\n",
            "69/69 [==============================] - 0s 3ms/step - loss: 642.6427 - val_loss: 1336.2981\n",
            "INFO:tensorflow:Assets written to: model_experiments/model_2_dense/assets\n",
            "Epoch 2/10\n",
            "69/69 [==============================] - 0s 2ms/step - loss: 247.4091 - val_loss: 1096.2052\n",
            "INFO:tensorflow:Assets written to: model_experiments/model_2_dense/assets\n",
            "Epoch 3/10\n",
            "69/69 [==============================] - 0s 2ms/step - loss: 213.0392 - val_loss: 994.9751\n",
            "INFO:tensorflow:Assets written to: model_experiments/model_2_dense/assets\n",
            "Epoch 4/10\n",
            "69/69 [==============================] - 0s 2ms/step - loss: 176.5719 - val_loss: 2013.3877\n",
            "Epoch 5/10\n",
            "69/69 [==============================] - 0s 2ms/step - loss: 193.2157 - val_loss: 901.2618\n",
            "INFO:tensorflow:Assets written to: model_experiments/model_2_dense/assets\n",
            "Epoch 6/10\n",
            "69/69 [==============================] - 0s 2ms/step - loss: 174.4803 - val_loss: 1297.8466\n",
            "Epoch 7/10\n",
            "69/69 [==============================] - 0s 2ms/step - loss: 186.2701 - val_loss: 1296.0597\n",
            "Epoch 8/10\n",
            "69/69 [==============================] - 0s 2ms/step - loss: 193.3339 - val_loss: 1765.7928\n",
            "Epoch 9/10\n",
            "69/69 [==============================] - 0s 2ms/step - loss: 162.6438 - val_loss: 758.8418\n",
            "INFO:tensorflow:Assets written to: model_experiments/model_2_dense/assets\n",
            "Epoch 10/10\n",
            "69/69 [==============================] - 0s 2ms/step - loss: 166.1281 - val_loss: 756.5145\n",
            "INFO:tensorflow:Assets written to: model_experiments/model_2_dense/assets\n"
          ],
          "name": "stdout"
        },
        {
          "output_type": "execute_result",
          "data": {
            "text/plain": [
              "<tensorflow.python.keras.callbacks.History at 0x7f22a0224d90>"
            ]
          },
          "metadata": {
            "tags": []
          },
          "execution_count": 54
        }
      ]
    },
    {
      "cell_type": "code",
      "metadata": {
        "id": "W42Fa-aO8rhg",
        "colab": {
          "base_uri": "https://localhost:8080/"
        },
        "outputId": "d5063ffc-ebb0-4022-d491-ce56e15f1dbd"
      },
      "source": [
        "# Evaluate model 2 preds\n",
        "model_2.evaluate(test_windows, test_labels)"
      ],
      "execution_count": 55,
      "outputs": [
        {
          "output_type": "stream",
          "text": [
            "18/18 [==============================] - 0s 1ms/step - loss: 756.5145\n"
          ],
          "name": "stdout"
        },
        {
          "output_type": "execute_result",
          "data": {
            "text/plain": [
              "756.5144653320312"
            ]
          },
          "metadata": {
            "tags": []
          },
          "execution_count": 55
        }
      ]
    },
    {
      "cell_type": "code",
      "metadata": {
        "colab": {
          "base_uri": "https://localhost:8080/"
        },
        "id": "c_hG89F5YV4i",
        "outputId": "1f025d5e-70a9-48fa-9330-9664cc541284"
      },
      "source": [
        "# Load in best performing model\n",
        "model_2 = tf.keras.models.load_model(\"model_experiments/model_2_dense/\")\n",
        "model_2.evaluate(test_windows, test_labels)"
      ],
      "execution_count": 56,
      "outputs": [
        {
          "output_type": "stream",
          "text": [
            "18/18 [==============================] - 0s 1ms/step - loss: 756.5145\n"
          ],
          "name": "stdout"
        },
        {
          "output_type": "execute_result",
          "data": {
            "text/plain": [
              "756.5144653320312"
            ]
          },
          "metadata": {
            "tags": []
          },
          "execution_count": 56
        }
      ]
    },
    {
      "cell_type": "code",
      "metadata": {
        "id": "TPfvPgkUknY5"
      },
      "source": [
        "# Get forecast predictions\n",
        "model_2_preds = make_forecast(model_2,\n",
        "                              input_data=test_windows)"
      ],
      "execution_count": 57,
      "outputs": []
    },
    {
      "cell_type": "code",
      "metadata": {
        "colab": {
          "base_uri": "https://localhost:8080/"
        },
        "id": "dy7XZx7FllHX",
        "outputId": "a9808528-fd6e-4cee-ae64-d5c40fcdf63e"
      },
      "source": [
        "# Evaluate results for model 2 predictions\n",
        "model_2_results = evaluate_preds(y_true=tf.squeeze(test_labels), # remove 1 dimension of test labels\n",
        "                                 y_pred=model_2_preds)\n",
        "model_2_results"
      ],
      "execution_count": 58,
      "outputs": [
        {
          "output_type": "execute_result",
          "data": {
            "text/plain": [
              "{'mae': 756.5144,\n",
              " 'mape': 3.4486432,\n",
              " 'mase': 1.3223946,\n",
              " 'mse': 1840869.1,\n",
              " 'rmse': 1356.7864}"
            ]
          },
          "metadata": {
            "tags": []
          },
          "execution_count": 58
        }
      ]
    },
    {
      "cell_type": "code",
      "metadata": {
        "colab": {
          "base_uri": "https://localhost:8080/",
          "height": 442
        },
        "id": "jHh_qtXflx7Z",
        "outputId": "c88c649f-a6be-44d1-b660-3d8a936b884d"
      },
      "source": [
        "offset = 300\n",
        "plt.figure(figsize=(10, 7))\n",
        "\n",
        "# Account for the test_window offset\n",
        "plot_time_series(timesteps=X_test[-len(test_windows):], values=test_labels[:, 0], start=offset, label=\"test_data\")\n",
        "plot_time_series(timesteps=X_test[-len(test_windows):], values=model_2_preds, start=offset, label=\"model_2_preds\") "
      ],
      "execution_count": 59,
      "outputs": [
        {
          "output_type": "display_data",
          "data": {
            "image/png": "[encoded data removed]",
            "text/plain": [
              "<Figure size 720x504 with 1 Axes>"
            ]
          },
          "metadata": {
            "tags": [],
            "needs_background": "light"
          }
        }
      ]
    },
    {
      "cell_type": "markdown",
      "metadata": {
        "id": "Sls7mUaq9lMl"
      },
      "source": [
        "## Model 3: Dense (window = 30, horizon = 7)\n",
        "\n",
        "Let's try and predict 7 days ahead given the previous 30 days.\n",
        "\n"
      ]
    },
    {
      "cell_type": "code",
      "metadata": {
        "colab": {
          "base_uri": "https://localhost:8080/"
        },
        "id": "8PtmayTM98Mb",
        "outputId": "001e3601-9658-4f8e-99c8-d05f01a9f9bd"
      },
      "source": [
        "HORIZON = 7\n",
        "WINDOW_SIZE = 30\n",
        "\n",
        "full_windows, full_labels = make_windows(prices, window_size=WINDOW_SIZE, horizon=HORIZON)\n",
        "len(full_windows), len(full_labels)"
      ],
      "execution_count": 60,
      "outputs": [
        {
          "output_type": "execute_result",
          "data": {
            "text/plain": [
              "(2751, 2751)"
            ]
          },
          "metadata": {
            "tags": []
          },
          "execution_count": 60
        }
      ]
    },
    {
      "cell_type": "code",
      "metadata": {
        "colab": {
          "base_uri": "https://localhost:8080/"
        },
        "id": "E8xgoKunZ__e",
        "outputId": "91ea0b7e-694d-41b4-be1c-085928a6ca30"
      },
      "source": [
        "train_windows, test_windows, train_labels, test_labels = make_train_test_splits(windows=full_windows, labels=full_labels, test_split=0.2)\n",
        "len(train_windows), len(test_windows), len(train_labels), len(test_labels)"
      ],
      "execution_count": 61,
      "outputs": [
        {
          "output_type": "execute_result",
          "data": {
            "text/plain": [
              "(2200, 551, 2200, 551)"
            ]
          },
          "metadata": {
            "tags": []
          },
          "execution_count": 61
        }
      ]
    },
    {
      "cell_type": "code",
      "metadata": {
        "colab": {
          "base_uri": "https://localhost:8080/"
        },
        "id": "hxHh7xS2-CoH",
        "outputId": "f1c60a38-b6d3-4525-a560-f5af47f7ee91"
      },
      "source": [
        "# Create model (same as model_1 except with different data input size)\n",
        "model_3 = tf.keras.Sequential([\n",
        "  layers.Dense(128, activation=\"relu\"),\n",
        "  layers.Dense(HORIZON)\n",
        "], name=\"model_3_dense\")\n",
        "\n",
        "model_3.compile(loss=\"mae\",\n",
        "                optimizer=tf.keras.optimizers.Adam())\n",
        "\n",
        "model_3.fit(train_windows,\n",
        "            train_labels,\n",
        "            epochs=10,\n",
        "            validation_data=(test_windows, test_labels),\n",
        "            callbacks=[create_model_checkpoint(model_name=model_3.name)])"
      ],
      "execution_count": 62,
      "outputs": [
        {
          "output_type": "stream",
          "text": [
            "Epoch 1/10\n",
            "69/69 [==============================] - 0s 3ms/step - loss: 646.3671 - val_loss: 1837.6399\n",
            "INFO:tensorflow:Assets written to: model_experiments/model_3_dense/assets\n",
            "Epoch 2/10\n",
            "69/69 [==============================] - 0s 2ms/step - loss: 345.9967 - val_loss: 1711.8430\n",
            "INFO:tensorflow:Assets written to: model_experiments/model_3_dense/assets\n",
            "Epoch 3/10\n",
            "69/69 [==============================] - 0s 2ms/step - loss: 304.5448 - val_loss: 1678.5288\n",
            "INFO:tensorflow:Assets written to: model_experiments/model_3_dense/assets\n",
            "Epoch 4/10\n",
            "69/69 [==============================] - 0s 2ms/step - loss: 283.8305 - val_loss: 1459.5493\n",
            "INFO:tensorflow:Assets written to: model_experiments/model_3_dense/assets\n",
            "Epoch 5/10\n",
            "69/69 [==============================] - 0s 2ms/step - loss: 267.8029 - val_loss: 1688.3199\n",
            "Epoch 6/10\n",
            "69/69 [==============================] - 0s 2ms/step - loss: 267.2786 - val_loss: 1785.9604\n",
            "Epoch 7/10\n",
            "69/69 [==============================] - 0s 2ms/step - loss: 282.3341 - val_loss: 1451.1809\n",
            "INFO:tensorflow:Assets written to: model_experiments/model_3_dense/assets\n",
            "Epoch 8/10\n",
            "69/69 [==============================] - 0s 2ms/step - loss: 265.2730 - val_loss: 1382.7725\n",
            "INFO:tensorflow:Assets written to: model_experiments/model_3_dense/assets\n",
            "Epoch 9/10\n",
            "69/69 [==============================] - 0s 2ms/step - loss: 256.4079 - val_loss: 1388.3202\n",
            "Epoch 10/10\n",
            "69/69 [==============================] - 0s 2ms/step - loss: 259.1886 - val_loss: 1434.5563\n"
          ],
          "name": "stdout"
        },
        {
          "output_type": "execute_result",
          "data": {
            "text/plain": [
              "<tensorflow.python.keras.callbacks.History at 0x7f22b34bfd90>"
            ]
          },
          "metadata": {
            "tags": []
          },
          "execution_count": 62
        }
      ]
    },
    {
      "cell_type": "code",
      "metadata": {
        "colab": {
          "base_uri": "https://localhost:8080/"
        },
        "id": "Pd-8pbfh-DDI",
        "outputId": "4a4907f3-fd85-4046-de60-accebee2343b"
      },
      "source": [
        "model_3.evaluate(test_windows, test_labels)"
      ],
      "execution_count": 63,
      "outputs": [
        {
          "output_type": "stream",
          "text": [
            "18/18 [==============================] - 0s 1ms/step - loss: 1434.5563\n"
          ],
          "name": "stdout"
        },
        {
          "output_type": "execute_result",
          "data": {
            "text/plain": [
              "1434.5562744140625"
            ]
          },
          "metadata": {
            "tags": []
          },
          "execution_count": 63
        }
      ]
    },
    {
      "cell_type": "markdown",
      "metadata": {
        "id": "q--5dtgITJbc"
      },
      "source": [
        "TODO: The error will be higher because we're predicting 7 steps at a time... the further you try and predict, the larger your error will be (think of trying to predict the weather 7 days out...)."
      ]
    },
    {
      "cell_type": "code",
      "metadata": {
        "id": "uKBNVovRpvhd",
        "colab": {
          "base_uri": "https://localhost:8080/"
        },
        "outputId": "ef102836-a0a4-4d38-bf8e-e56ef9d96e2b"
      },
      "source": [
        "# The predictions are going to be 7 steps at a time (this is the HORIZON size)\n",
        "model_3_preds = make_forecast(model_3,\n",
        "                              input_data=test_windows)\n",
        "model_3_preds[:5]"
      ],
      "execution_count": 64,
      "outputs": [
        {
          "output_type": "execute_result",
          "data": {
            "text/plain": [
              "<tf.Tensor: shape=(5, 7), dtype=float32, numpy=\n",
              "array([[9673.147 , 9942.092 , 9523.3955, 9135.803 , 9259.    , 9401.579 ,\n",
              "        9419.822 ],\n",
              "       [9443.995 , 9703.351 , 9250.772 , 9023.315 , 8985.831 , 9441.16  ,\n",
              "        9268.931 ],\n",
              "       [9426.777 , 9604.523 , 9231.978 , 9241.314 , 8835.734 , 9350.83  ,\n",
              "        9207.692 ],\n",
              "       [9591.581 , 9667.355 , 9352.048 , 9339.593 , 9061.151 , 9500.524 ,\n",
              "        9345.751 ],\n",
              "       [9455.072 , 9415.408 , 9199.38  , 9231.769 , 9050.712 , 9412.863 ,\n",
              "        9474.887 ]], dtype=float32)>"
            ]
          },
          "metadata": {
            "tags": []
          },
          "execution_count": 64
        }
      ]
    },
    {
      "cell_type": "code",
      "metadata": {
        "colab": {
          "base_uri": "https://localhost:8080/"
        },
        "id": "P9VQqenW-5to",
        "outputId": "28463383-f574-42fa-d5c2-febeaac68e05"
      },
      "source": [
        "# Calculate model_3 results - these are going to be multi-dimensional because\n",
        "# we're trying to predict more than one step at a time.\n",
        "model_3_results = evaluate_preds(y_true=tf.squeeze(test_labels),\n",
        "                                 y_pred=model_3_preds)\n",
        "model_3_results"
      ],
      "execution_count": 65,
      "outputs": [
        {
          "output_type": "execute_result",
          "data": {
            "text/plain": [
              "{'mae': array([  686.0477 ,   551.22363,   566.97723,   781.6917 ,   765.66516,\n",
              "          816.7739 ,   685.733  ,   603.82556,   657.87286,   788.69196,\n",
              "          976.2626 ,   969.11237,  1036.1349 ,  1034.4282 ,   774.34125,\n",
              "          458.61063,   278.5941 ,   321.98773,   247.57812,   231.3192 ,\n",
              "          198.34451,    50.99951,   195.43289,   232.40807,   256.08252,\n",
              "          302.06793,   316.72748,   257.01862,   311.06766,   254.4783 ,\n",
              "          273.91672,   451.2696 ,   498.76694,   490.76764,   518.6963 ,\n",
              "          505.93707,   525.24603,   407.9771 ,   400.69943,   180.955  ,\n",
              "          236.00578,   219.62828,   206.04988,   144.09451,   162.81633,\n",
              "          139.07121,   207.29973,   233.77477,   222.1741 ,   208.85666,\n",
              "          215.99693,   220.95647,   257.19907,   260.3397 ,   332.02496,\n",
              "          411.19147,   403.9979 ,   517.54987,   508.86258,   476.8522 ,\n",
              "          364.2795 ,   419.97015,   420.40717,   406.66483,   561.2755 ,\n",
              "          602.5834 ,   500.976  ,   363.18484,   286.768  ,   206.24162,\n",
              "          201.35281,   336.37933,   525.15765,   593.5357 ,   510.83804,\n",
              "          422.89664,   461.6971 ,   430.93304,   548.94086,   622.696  ,\n",
              "          646.1162 ,   611.26227,   403.07797,   218.42201,   299.20062,\n",
              "          304.2853 ,   312.53055,   433.14633,   442.6607 ,   453.51898,\n",
              "          458.5512 ,   508.12778,   417.45703,   388.1469 ,   324.9897 ,\n",
              "          182.65541,   287.69476,   601.51965,   730.7539 ,   895.45703,\n",
              "          790.27496,   580.54034,   389.5222 ,   563.7335 ,   582.47375,\n",
              "          571.1928 ,   677.3101 ,   737.4463 ,  1040.7382 ,  1118.1339 ,\n",
              "         1055.7958 ,   778.648  ,   575.40497,   345.06445,   228.96121,\n",
              "          370.02072,   473.8572 ,   466.1919 ,   494.88754,  1028.8297 ,\n",
              "         1597.3134 ,  2199.8127 ,  2436.0923 ,  2461.8813 ,  2692.287  ,\n",
              "         2904.7417 ,  1900.7659 ,  1094.8208 ,   510.41373,   445.08426,\n",
              "          589.4164 ,   821.3701 ,   947.4371 ,   623.3915 ,   517.1602 ,\n",
              "          486.1024 ,   318.13498,   315.26715,   337.6563 ,   341.27505,\n",
              "          321.08685,   364.11334,   313.0542 ,   411.40836,   487.32388,\n",
              "          389.0627 ,   281.4689 ,   380.69028,   280.60678,   300.85645,\n",
              "          329.0761 ,   277.37906,   312.81592,   712.0514 ,   703.0955 ,\n",
              "          454.3361 ,   288.02225,   289.15897,   364.8554 ,   268.79037,\n",
              "          208.43694,   225.34584,   236.09627,   398.3247 ,   421.9128 ,\n",
              "          400.7221 ,   354.12277,   552.11566,   640.5387 ,   765.671  ,\n",
              "          853.03864,   996.5108 ,  1021.68787,  1012.798  ,   739.4335 ,\n",
              "          564.00714,   503.6462 ,   532.5766 ,   555.1423 ,   559.703  ,\n",
              "          446.53152,   329.23828,   514.2878 ,   832.8891 ,   871.9149 ,\n",
              "          535.1215 ,   355.98996,   376.1971 ,   416.08426,   353.64914,\n",
              "          288.29926,   194.78822,   336.19965,   493.947  ,   629.953  ,\n",
              "          732.6224 ,   643.44543,   543.2028 ,   388.87906,   406.4922 ,\n",
              "          597.6099 ,   652.04285,   689.4732 ,   431.3637 ,   358.56348,\n",
              "          256.15137,   163.01869,   380.91113,   254.19002,   287.64328,\n",
              "          425.98633,   411.8221 ,   366.85547,   395.83524,   414.75223,\n",
              "          492.30637,   578.5618 ,   433.86496,   443.36176,   477.85687,\n",
              "          370.74902,   356.29742,   264.54898,   336.04312,   354.8309 ,\n",
              "          359.78586,   263.15695,   186.54506,   453.08774,   551.4287 ,\n",
              "          494.67886,   448.1469 ,   385.45145,   252.52483,   232.56041,\n",
              "          262.3898 ,   224.93918,   274.70953,   244.59068,   244.60783,\n",
              "          212.06236,   220.88797,   157.84975,   205.9714 ,   392.48828,\n",
              "          314.59793,   261.94223,   271.59262,   261.6797 ,   318.36398,\n",
              "          335.7793 ,   269.31152,   240.28906,   262.3955 ,   314.34625,\n",
              "          373.45926,   547.566  ,   676.61383,   892.5485 ,  1008.4442 ,\n",
              "         1162.5763 ,  1291.4733 ,  1275.6642 ,   753.42316,   506.50836,\n",
              "          335.79437,   214.29842,   319.20465,   414.9675 ,   398.63058,\n",
              "          298.1359 ,   267.60547,   331.10114,   325.50922,   286.25864,\n",
              "          331.04868,   320.2136 ,   472.96136,   313.9396 ,   360.93668,\n",
              "          331.19574,   343.50113,   229.31543,   197.91867,   480.2137 ,\n",
              "          581.65094,   590.42816,   541.751  ,   528.0575 ,   592.5651 ,\n",
              "          447.34402,   473.23746,   226.8058 ,   371.857  ,   458.97153,\n",
              "          555.25793,   696.6543 ,   845.1747 ,  1175.3414 ,  1558.6735 ,\n",
              "         1611.4602 ,  1322.6456 ,  1057.8339 ,   590.4322 ,   358.2274 ,\n",
              "          383.09402,   245.34096,   397.54074,   405.38016,   550.14813,\n",
              "          508.41965,   367.3277 ,   285.0389 ,   293.73032,   455.2429 ,\n",
              "          482.90317,   488.85434,   546.8242 ,   525.2958 ,   429.21875,\n",
              "          416.16156,   284.982  ,   232.12137,   241.60129,   297.42215,\n",
              "          383.98746,   454.78473,   484.9809 ,   552.381  ,   409.30106,\n",
              "          322.00504,   270.53293,   372.68344,   562.7885 ,   576.2702 ,\n",
              "          612.91473,   566.5777 ,   439.57965,   215.3492 ,   143.77553,\n",
              "          260.84262,   322.07965,   475.9611 ,   669.57196,   848.4167 ,\n",
              "         1026.6864 ,  1098.798  ,  1126.0166 ,  1112.6552 ,   690.696  ,\n",
              "          544.3903 ,   499.3506 ,   432.7228 ,   321.36078,   319.66797,\n",
              "          359.3252 ,   393.18024,   449.37082,   686.1698 ,   948.6621 ,\n",
              "         1171.2571 ,  1187.3124 ,  1135.7277 ,  1063.1946 ,   723.7673 ,\n",
              "          704.38324,   607.3686 ,   608.2945 ,   787.4845 ,   816.889  ,\n",
              "          831.6458 ,  1070.6638 ,  1422.278  ,  1445.7151 ,  1605.4554 ,\n",
              "         1579.1578 ,  1290.8326 ,  1010.05383,   697.74915,   670.6967 ,\n",
              "          929.9269 ,  1087.6749 ,   943.9238 ,  1277.7452 ,  1217.0944 ,\n",
              "          861.0714 ,   910.9308 ,  1035.8527 ,  1004.2235 ,   561.738  ,\n",
              "          372.1473 ,   396.55804,   832.2626 ,  1011.6585 ,   915.971  ,\n",
              "          996.255  ,   941.3954 ,   718.3669 ,   815.0446 ,  1596.9974 ,\n",
              "         2154.0742 ,  2707.8552 ,  3256.1736 ,  3318.3372 ,  3378.3164 ,\n",
              "         2613.7397 ,  1734.6359 ,  1117.7213 ,   946.80304,  1277.1135 ,\n",
              "         1704.6194 ,  2070.5522 ,  2636.1057 ,  2879.2695 ,  3029.623  ,\n",
              "         3026.5837 ,  3433.2112 ,  3346.9565 ,  3839.059  ,  4142.5366 ,\n",
              "         4709.289  ,  5264.935  ,  5409.6787 ,  5321.6104 ,  4858.6562 ,\n",
              "         4139.6704 ,  3003.342  ,  1829.1322 ,  2072.2327 ,  3874.5112 ,\n",
              "         4579.361  ,  3116.7751 ,  1068.842  ,  1335.6361 ,  3050.7778 ,\n",
              "         3344.845  ,  3335.644  ,  3673.8208 ,  3909.094  ,  4271.505  ,\n",
              "         4505.05   ,  2950.897  ,  2128.3904 ,  1397.4392 ,  1562.5779 ,\n",
              "         2219.3147 ,  2825.7322 ,  4061.5796 ,  3166.644  ,  3116.4382 ,\n",
              "         3835.989  ,  3389.9973 ,  4445.1978 ,  5565.4097 ,  5124.6665 ,\n",
              "         5656.8003 ,  6780.5786 ,  6969.197  ,  6952.395  ,  5416.063  ,\n",
              "         3444.058  ,  2710.5168 ,  2535.0876 ,  2708.47   ,  3270.7544 ,\n",
              "         4144.7344 ,  3862.4246 ,  3869.5017 ,  3183.6746 ,  2810.5464 ,\n",
              "         3279.2031 ,  6000.3257 ,  8631.669  ,  9262.264  ,  7542.604  ,\n",
              "         6090.102  ,  4121.5693 ,  2637.477  ,  1628.5642 ,  2742.9934 ,\n",
              "         2643.1106 ,  3615.7026 ,  4430.2305 ,  5246.882  ,  4960.091  ,\n",
              "         5815.978  ,  6275.546  ,  6233.462  ,  4705.534  ,  3934.4336 ,\n",
              "         2826.2004 ,  1257.2578 ,  1727.6931 ,  3093.6206 ,  3408.5603 ,\n",
              "         2977.674  ,  4376.5947 ,  5046.1064 ,  6390.289  ,  5535.57   ,\n",
              "         5521.0864 ,  4351.456  ,  2914.9895 ,  2915.299  ,  2504.6328 ,\n",
              "         3058.862  ,  2750.6624 ,  2546.0095 ,  1680.0006 ,  1728.7756 ,\n",
              "         1205.692  ,  1858.913  ,  1840.5189 ,  1567.3131 ,  2025.4994 ,\n",
              "         2133.0894 ,  2261.194  ,  2272.4883 ,  3105.8303 ,  3432.2065 ,\n",
              "         2951.9197 ,  2542.5955 ,  1863.8019 ,  2946.043  ,  5695.646  ,\n",
              "         7788.97   ,  9263.037  , 10220.3125 ,  9529.096  ,  7625.9023 ,\n",
              "         6869.8174 ,  5343.6577 ,  3500.6897 ,  2783.6619 ,  3592.5151 ,\n",
              "         4440.0986 ,  4062.9614 ,  3341.266  ,  2507.048  ,  1836.0106 ,\n",
              "         1367.0184 ,  1888.1478 ,  1763.9158 ,  2413.6575 ,  2262.385  ,\n",
              "         2280.8052 ,  3429.7856 ,  2896.9153 ,  5811.1646 ,  8162.6396 ,\n",
              "         9225.877  ], dtype=float32),\n",
              " 'mape': array([ 7.812269 ,  6.3108244,  6.5485053,  9.065686 ,  8.998123 ,\n",
              "         9.704232 ,  8.245446 ,  7.4473276,  8.48657  , 10.376959 ,\n",
              "        12.951328 , 13.078396 , 14.144312 , 14.191248 , 10.6794815,\n",
              "         6.3344164,  3.8489647,  4.342952 ,  3.320578 ,  3.0616255,\n",
              "         2.6678567,  0.6860087,  2.6474502,  3.1620927,  3.4783614,\n",
              "         4.1197677,  4.3233337,  3.5019286,  4.241889 ,  3.481206 ,\n",
              "         3.7901487,  6.2749104,  7.0150666,  7.0894456,  7.449407 ,\n",
              "         7.2386036,  7.5587773,  5.8712387,  5.816424 ,  2.6734185,\n",
              "         3.2455177,  3.0551295,  2.8652759,  1.9927968,  2.254589 ,\n",
              "         1.9319822,  2.8583212,  3.2336633,  3.0783072,  2.916661 ,\n",
              "         3.015476 ,  3.0549402,  3.5800583,  3.6231782,  4.480848 ,\n",
              "         5.4065194,  5.137162 ,  6.5960603,  6.3930283,  5.9255285,\n",
              "         4.5068274,  5.0715895,  4.9793773,  4.7430806,  6.502752 ,\n",
              "         6.913351 ,  5.7467666,  4.1156826,  3.2576885,  2.3519337,\n",
              "         2.3291376,  3.9245625,  6.1572585,  6.9527307,  5.9747577,\n",
              "         4.987079 ,  5.42026  ,  4.890612 ,  6.058809 ,  6.683975 ,\n",
              "         6.8806343,  6.516813 ,  4.312189 ,  2.315666 ,  3.1586719,\n",
              "         3.211103 ,  3.303928 ,  4.5464773,  4.5501266,  4.538434 ,\n",
              "         4.5702095,  5.0058646,  4.0652723,  3.8013976,  3.2099915,\n",
              "         1.8250803,  2.8888628,  6.0497494,  7.4332833,  9.164533 ,\n",
              "         8.139743 ,  5.9482718,  3.999899 ,  5.8570633,  6.2281218,\n",
              "         6.289152 ,  7.4872913,  8.272128 , 11.767478 , 12.70268  ,\n",
              "        12.072611 ,  8.911498 ,  6.5738373,  3.9759147,  2.597171 ,\n",
              "         4.241413 ,  5.581818 ,  5.6015973,  6.1057067, 14.87187  ,\n",
              "        24.546425 , 35.614986 , 41.66712  , 44.861412 , 49.423805 ,\n",
              "        53.86117  , 35.05628  , 20.086548 ,  9.41946  ,  7.8865237,\n",
              "         9.484176 , 13.0507145, 14.71981  ,  9.452672 ,  7.8371406,\n",
              "         7.5392447,  4.7824764,  4.962068 ,  5.2532053,  5.3742533,\n",
              "         5.1056075,  5.895826 ,  4.8782835,  6.1101384,  7.0565634,\n",
              "         5.5918937,  3.9291375,  5.371415 ,  3.9152715,  4.245907 ,\n",
              "         4.6679993,  3.9482527,  4.46479  , 10.264639 , 10.235091 ,\n",
              "         6.5611763,  4.1494484,  4.1420507,  5.1964087,  3.8597465,\n",
              "         2.9384558,  3.1374507,  3.2568388,  5.552234 ,  5.8160486,\n",
              "         5.3774023,  4.662853 ,  6.8188467,  7.674431 ,  9.027162 ,\n",
              "         9.810964 , 11.279619 , 11.565379 , 11.38965  ,  8.197266 ,\n",
              "         6.0279846,  5.2156477,  5.5830145,  5.863291 ,  5.9942074,\n",
              "         4.822523 ,  3.6043656,  5.726691 ,  9.298331 ,  9.806804 ,\n",
              "         5.942718 ,  3.8241484,  3.9076247,  4.3227715,  3.7467122,\n",
              "         3.0702403,  2.0944567,  3.6114447,  5.338359 ,  6.9176674,\n",
              "         8.094166 ,  7.0787005,  5.9841285,  4.3078384,  4.430072 ,\n",
              "         6.28647  ,  6.7071514,  7.0199556,  4.3899546,  3.6530528,\n",
              "         2.6510208,  1.667376 ,  3.950986 ,  2.6113625,  2.9490066,\n",
              "         4.4565907,  4.3127956,  3.8283534,  4.157748 ,  4.3641624,\n",
              "         5.21807  ,  6.1505895,  4.5973516,  4.72591  ,  5.0962925,\n",
              "         3.9467134,  3.778553 ,  2.816275 ,  3.5979319,  3.791744 ,\n",
              "         3.8461964,  2.8283482,  2.0403237,  4.899604 ,  6.0084248,\n",
              "         5.395498 ,  4.913744 ,  4.245105 ,  2.763876 ,  2.5474715,\n",
              "         2.8651385,  2.4527776,  3.0075068,  2.6695821,  2.6597812,\n",
              "         2.2971141,  2.3745124,  1.6982751,  2.219405 ,  4.2476315,\n",
              "         3.414101 ,  2.8430305,  2.9454324,  2.839415 ,  3.4602787,\n",
              "         3.6527839,  2.933759 ,  2.600729 ,  2.811726 ,  3.3481746,\n",
              "         3.9009545,  5.3214226,  6.4034185,  8.2756405,  9.238816 ,\n",
              "        10.50186  , 11.445437 , 11.266136 ,  6.6173553,  4.438338 ,\n",
              "         2.9351277,  1.8571738,  2.7948012,  3.6724567,  3.493262 ,\n",
              "         2.5846167,  2.3079758,  2.8452506,  2.7986755,  2.4551308,\n",
              "         2.8508506,  2.7835476,  4.062918 ,  2.6569078,  3.0248613,\n",
              "         2.7683585,  2.8721285,  1.9383976,  1.6739203,  4.080572 ,\n",
              "         4.9846797,  5.090657 ,  4.7019677,  4.5880427,  5.14219  ,\n",
              "         3.895543 ,  4.133023 ,  1.9865843,  3.2392335,  4.044898 ,\n",
              "         4.98032  ,  6.505295 ,  8.091266 , 11.1888275, 15.022929 ,\n",
              "        15.634235 , 12.914576 , 10.352733 ,  5.7360444,  3.4879088,\n",
              "         3.7444558,  2.3483546,  3.7235682,  3.7423213,  5.0932093,\n",
              "         4.68852  ,  3.355395 ,  2.6180675,  2.725306 ,  4.290985 ,\n",
              "         4.5461774,  4.59396  ,  5.1688323,  4.9833484,  4.0747766,\n",
              "         3.9376352,  2.652662 ,  2.1679568,  2.2625978,  2.7875016,\n",
              "         3.5916739,  4.259307 ,  4.5552115,  5.2076654,  3.8552263,\n",
              "         3.0284345,  2.4981592,  3.3927565,  5.073991 ,  5.109587 ,\n",
              "         5.3645644,  4.945492 ,  3.8285792,  1.8858316,  1.2536067,\n",
              "         2.2850165,  2.809991 ,  3.9599068,  5.4512577,  6.7800617,\n",
              "         8.04783  ,  8.474944 ,  8.6554   ,  8.441426 ,  5.1931996,\n",
              "         4.0765634,  3.7377365,  3.2408323,  2.381117 ,  2.3506384,\n",
              "         2.667275 ,  2.8711798,  3.0969858,  4.6091175,  6.4027944,\n",
              "         7.7956295,  7.844288 ,  7.4142494,  6.8862476,  4.623091 ,\n",
              "         4.485061 ,  3.7998595,  3.8301353,  4.877006 ,  4.879933 ,\n",
              "         4.84334  ,  6.1848664,  8.143246 ,  8.073952 ,  8.767392 ,\n",
              "         8.568792 ,  6.920519 ,  5.408912 ,  3.7692885,  3.7736032,\n",
              "         5.241945 ,  6.1271744,  5.3106937,  7.238792 ,  6.9397173,\n",
              "         4.7844133,  4.8156304,  5.431602 ,  5.242517 ,  2.933374 ,\n",
              "         1.9454691,  2.102001 ,  4.4367385,  5.419381 ,  4.89946  ,\n",
              "         5.337264 ,  5.0705247,  3.866997 ,  4.2463036,  7.696884 ,\n",
              "         9.90955  , 11.98908  , 14.206703 , 14.315851 , 14.540707 ,\n",
              "        11.180342 ,  7.3972025,  4.6876926,  3.7966404,  5.101205 ,\n",
              "         6.7213097,  8.056467 ,  9.869365 , 10.446223 , 10.734692 ,\n",
              "        10.181232 , 11.092508 , 10.672382 , 11.845049 , 12.271374 ,\n",
              "        13.2012825, 14.037965 , 14.021047 , 13.746159 , 12.408656 ,\n",
              "        10.589292 ,  7.645414 ,  4.953641 ,  5.845516 , 10.876398 ,\n",
              "        12.863883 ,  8.666106 ,  2.9285629,  3.7099779,  9.008154 ,\n",
              "         9.9439335, 10.152572 , 11.198207 , 12.00713  , 13.274911 ,\n",
              "        14.188899 ,  9.204079 ,  6.6269293,  4.365559 ,  4.7152195,\n",
              "         6.7009845,  8.271075 , 11.604194 ,  8.822452 ,  8.482075 ,\n",
              "        10.305389 ,  8.985702 , 11.028331 , 13.107009 , 11.657815 ,\n",
              "        12.516438 , 14.700277 , 15.043931 , 14.70045  , 11.366842 ,\n",
              "         7.155206 ,  5.4468317,  5.0460362,  5.1742196,  6.163114 ,\n",
              "         7.7814684,  7.065793 ,  7.0667043,  5.998001 ,  5.409124 ,\n",
              "         6.908835 , 12.493765 , 18.16232  , 19.591288 , 15.976344 ,\n",
              "        12.961522 ,  8.799432 ,  5.5787215,  3.4438896,  5.5304904,\n",
              "         5.2658863,  7.02589  ,  8.334948 ,  9.567679 ,  8.875569 ,\n",
              "        10.156963 , 10.731796 , 10.635666 ,  8.036317 ,  6.6733174,\n",
              "         4.8079705,  2.1513245,  3.0162902,  5.413154 ,  6.0201426,\n",
              "         5.322721 ,  7.922002 ,  9.348772 , 11.713112 , 10.2194195,\n",
              "        10.207539 ,  8.063911 ,  5.4190016,  5.274322 ,  4.337438 ,\n",
              "         5.250471 ,  4.7174497,  4.3518724,  2.868695 ,  2.962106 ,\n",
              "         2.057693 ,  3.21816  ,  3.1838663,  2.6996489,  3.4696076,\n",
              "         3.6865678,  3.8250268,  3.745598 ,  5.0459404,  5.4992533,\n",
              "         4.727813 ,  4.195937 ,  3.19745  ,  5.1094856,  9.981581 ,\n",
              "        13.963511 , 17.102114 , 19.223162 , 18.348112 , 14.791624 ,\n",
              "        13.263102 , 10.406458 ,  6.858491 ,  5.3380933,  6.6225433,\n",
              "         7.9280562,  7.161124 ,  5.918318 ,  4.451887 ,  3.2289724,\n",
              "         2.4319913,  3.3372555,  3.1563103,  4.3177867,  3.9430373,\n",
              "         4.147207 ,  6.466585 ,  5.705481 , 11.435435 , 16.49834  ,\n",
              "        19.492413 ], dtype=float32),\n",
              " 'mase': 2.5527127,\n",
              " 'mse': array([5.30272375e+05, 3.46435438e+05, 3.82957156e+05, 6.36624562e+05,\n",
              "        6.38462062e+05, 7.22829000e+05, 5.25535938e+05, 4.37765719e+05,\n",
              "        6.24461625e+05, 8.99197562e+05, 1.07440325e+06, 1.03925519e+06,\n",
              "        1.11459512e+06, 1.08511338e+06, 6.36686438e+05, 2.78721812e+05,\n",
              "        1.35327156e+05, 1.35516922e+05, 1.04674055e+05, 1.02270922e+05,\n",
              "        4.90578008e+04, 3.46964648e+03, 4.94612891e+04, 8.33600000e+04,\n",
              "        9.28765234e+04, 1.45924031e+05, 1.41307453e+05, 9.00908203e+04,\n",
              "        1.29046109e+05, 8.12051016e+04, 1.02304125e+05, 2.34537844e+05,\n",
              "        2.88143406e+05, 3.29443719e+05, 3.35489438e+05, 2.88083594e+05,\n",
              "        3.40335688e+05, 2.16400906e+05, 2.67832062e+05, 1.13658367e+05,\n",
              "        7.98420000e+04, 6.30153125e+04, 5.52783477e+04, 2.98790332e+04,\n",
              "        4.55857617e+04, 5.19403516e+04, 5.33705391e+04, 7.27074219e+04,\n",
              "        7.06393438e+04, 6.70153203e+04, 7.80189844e+04, 6.09738867e+04,\n",
              "        1.02768000e+05, 1.08277750e+05, 1.72695141e+05, 2.10643828e+05,\n",
              "        2.57664297e+05, 2.99429469e+05, 3.11843344e+05, 2.74628938e+05,\n",
              "        1.74437078e+05, 2.54946156e+05, 2.61566109e+05, 2.32025469e+05,\n",
              "        3.83777562e+05, 3.95677500e+05, 3.04775781e+05, 1.76732891e+05,\n",
              "        1.05295180e+05, 5.53447852e+04, 5.74556055e+04, 1.65009250e+05,\n",
              "        3.15042906e+05, 3.68080188e+05, 2.83039844e+05, 2.75082125e+05,\n",
              "        3.14160531e+05, 2.20071344e+05, 3.26675438e+05, 4.98068844e+05,\n",
              "        5.51422125e+05, 4.54622594e+05, 2.17645500e+05, 6.09810000e+04,\n",
              "        1.15301266e+05, 1.01547586e+05, 1.25537438e+05, 2.56521453e+05,\n",
              "        2.15180922e+05, 2.97952969e+05, 2.29027625e+05, 3.13418156e+05,\n",
              "        2.71268562e+05, 1.94828203e+05, 1.42103391e+05, 5.99127578e+04,\n",
              "        1.38812375e+05, 3.96293844e+05, 5.98004562e+05, 8.51997438e+05,\n",
              "        7.22952875e+05, 3.58193844e+05, 1.93567078e+05, 3.94245688e+05,\n",
              "        4.90112781e+05, 5.55631062e+05, 5.96505312e+05, 6.64910000e+05,\n",
              "        1.15815738e+06, 1.28794425e+06, 1.15108262e+06, 6.35351875e+05,\n",
              "        3.83498656e+05, 2.35685453e+05, 1.00498805e+05, 1.91060375e+05,\n",
              "        2.73679969e+05, 2.77991281e+05, 3.46436469e+05, 1.87012888e+06,\n",
              "        3.76180000e+06, 6.08317750e+06, 7.39660550e+06, 7.55770750e+06,\n",
              "        8.05587050e+06, 8.47272500e+06, 3.72573200e+06, 1.24540138e+06,\n",
              "        3.78797000e+05, 2.69067719e+05, 5.45693688e+05, 7.75229688e+05,\n",
              "        1.02672531e+06, 5.26844625e+05, 3.34831156e+05, 2.76199406e+05,\n",
              "        1.44208672e+05, 1.99890359e+05, 1.76456000e+05, 1.92169297e+05,\n",
              "        1.53714359e+05, 3.07671312e+05, 1.54916781e+05, 2.04626281e+05,\n",
              "        3.49213094e+05, 2.08864281e+05, 1.87678953e+05, 1.70173391e+05,\n",
              "        1.30055984e+05, 1.23360258e+05, 1.37869703e+05, 1.08581258e+05,\n",
              "        1.20510203e+05, 5.33261938e+05, 6.10567000e+05, 2.27590484e+05,\n",
              "        1.31038328e+05, 1.04154562e+05, 1.61543172e+05, 1.00124375e+05,\n",
              "        5.50893789e+04, 6.69019297e+04, 7.04913125e+04, 1.80625547e+05,\n",
              "        1.93319484e+05, 1.63552375e+05, 1.46471375e+05, 5.37281500e+05,\n",
              "        6.83235125e+05, 8.40401438e+05, 1.03769869e+06, 1.35009012e+06,\n",
              "        1.21209938e+06, 1.09081038e+06, 6.92465375e+05, 5.09522031e+05,\n",
              "        4.80009938e+05, 3.79081438e+05, 3.60066750e+05, 3.60458000e+05,\n",
              "        2.46327031e+05, 1.38140078e+05, 3.63939594e+05, 9.00518312e+05,\n",
              "        1.09374475e+06, 4.44852062e+05, 1.59808719e+05, 1.91812297e+05,\n",
              "        2.14397422e+05, 1.77948047e+05, 1.21144234e+05, 6.46744375e+04,\n",
              "        1.32068703e+05, 2.56473578e+05, 4.58772844e+05, 6.25140812e+05,\n",
              "        4.58059844e+05, 3.75742469e+05, 2.34399234e+05, 2.29335234e+05,\n",
              "        3.82121406e+05, 5.82162688e+05, 7.19452125e+05, 2.95599000e+05,\n",
              "        1.85902500e+05, 1.17085984e+05, 4.16822852e+04, 2.05690594e+05,\n",
              "        8.76447344e+04, 1.15272008e+05, 3.16774469e+05, 2.73701906e+05,\n",
              "        1.77548219e+05, 1.92803375e+05, 1.99577000e+05, 3.00565688e+05,\n",
              "        4.06860719e+05, 2.31073609e+05, 2.50688172e+05, 2.71974031e+05,\n",
              "        1.66777094e+05, 1.53403516e+05, 8.94260234e+04, 1.98091109e+05,\n",
              "        1.45836203e+05, 1.71571125e+05, 1.12017789e+05, 7.65789844e+04,\n",
              "        2.32324016e+05, 3.28290062e+05, 2.84826688e+05, 2.28082141e+05,\n",
              "        2.50789219e+05, 1.04125086e+05, 7.83145156e+04, 9.76238828e+04,\n",
              "        7.24460859e+04, 1.13551273e+05, 9.26373594e+04, 9.33097500e+04,\n",
              "        6.81883359e+04, 6.65692422e+04, 4.32167227e+04, 5.89658320e+04,\n",
              "        2.02803234e+05, 1.40375797e+05, 1.03017180e+05, 1.09549234e+05,\n",
              "        9.78910469e+04, 1.30036055e+05, 1.59119828e+05, 1.38369234e+05,\n",
              "        8.51599141e+04, 9.02124453e+04, 1.18583688e+05, 1.45357672e+05,\n",
              "        5.35393125e+05, 7.83727438e+05, 1.19359250e+06, 1.37550762e+06,\n",
              "        1.66626062e+06, 1.94403312e+06, 1.79893875e+06, 7.78636625e+05,\n",
              "        3.74784719e+05, 1.50387234e+05, 6.64108594e+04, 1.66250609e+05,\n",
              "        3.19441031e+05, 2.60544000e+05, 1.50836016e+05, 9.67364297e+04,\n",
              "        1.31314625e+05, 1.59665234e+05, 1.28287391e+05, 1.86781656e+05,\n",
              "        2.61761359e+05, 3.69748188e+05, 1.52094344e+05, 1.99613031e+05,\n",
              "        1.29444102e+05, 1.74139453e+05, 8.44565625e+04, 5.06463477e+04,\n",
              "        3.03083344e+05, 4.01624156e+05, 4.97593438e+05, 3.54335938e+05,\n",
              "        3.68898719e+05, 3.81953531e+05, 2.66972375e+05, 3.49243312e+05,\n",
              "        1.12517359e+05, 2.15008531e+05, 2.86091531e+05, 3.83991781e+05,\n",
              "        7.21876625e+05, 1.08745288e+06, 1.58527612e+06, 2.55618775e+06,\n",
              "        2.61841325e+06, 1.82061800e+06, 1.22926588e+06, 4.16709000e+05,\n",
              "        1.80038328e+05, 2.49413359e+05, 7.10499453e+04, 2.03089109e+05,\n",
              "        2.47340219e+05, 3.40858719e+05, 2.89086562e+05, 1.89013484e+05,\n",
              "        1.24336945e+05, 1.13018008e+05, 2.72460031e+05, 2.84452156e+05,\n",
              "        2.69843625e+05, 3.61591156e+05, 4.17222938e+05, 2.99538344e+05,\n",
              "        2.74810344e+05, 1.12900961e+05, 9.35575781e+04, 1.16878750e+05,\n",
              "        1.27755609e+05, 1.70349000e+05, 2.24932000e+05, 2.85181938e+05,\n",
              "        4.00940406e+05, 2.42505422e+05, 2.08608594e+05, 1.02289922e+05,\n",
              "        1.72923266e+05, 3.41774594e+05, 3.80335219e+05, 4.94989781e+05,\n",
              "        4.19621938e+05, 2.80455062e+05, 8.38120156e+04, 2.87993340e+04,\n",
              "        1.35805891e+05, 1.49733859e+05, 3.50799562e+05, 6.38916000e+05,\n",
              "        9.27925375e+05, 1.31033662e+06, 1.51237788e+06, 1.43600688e+06,\n",
              "        1.33812662e+06, 6.88319125e+05, 3.91378938e+05, 2.76668188e+05,\n",
              "        2.30551719e+05, 1.41958125e+05, 1.68687531e+05, 2.51170391e+05,\n",
              "        2.24384359e+05, 3.87413219e+05, 8.05234438e+05, 1.29816788e+06,\n",
              "        1.76522125e+06, 1.61376762e+06, 1.54333262e+06, 1.27811775e+06,\n",
              "        7.33892312e+05, 7.32682812e+05, 5.23226438e+05, 4.35975812e+05,\n",
              "        6.96715875e+05, 1.04046331e+06, 1.18043050e+06, 1.56722338e+06,\n",
              "        2.31996250e+06, 2.51959375e+06, 3.30931550e+06, 3.13929375e+06,\n",
              "        2.23588625e+06, 1.32925862e+06, 6.52373125e+05, 6.48554875e+05,\n",
              "        1.16192625e+06, 1.43898825e+06, 1.13378038e+06, 2.46908350e+06,\n",
              "        2.47440000e+06, 1.19147062e+06, 1.04013469e+06, 1.30123700e+06,\n",
              "        1.21046438e+06, 4.71484750e+05, 1.74937672e+05, 2.96961719e+05,\n",
              "        8.53132688e+05, 1.17218012e+06, 9.14239438e+05, 1.13236188e+06,\n",
              "        1.13311225e+06, 8.39522438e+05, 1.13544788e+06, 4.02917425e+06,\n",
              "        7.45150950e+06, 1.15312400e+07, 1.44586560e+07, 1.39842350e+07,\n",
              "        1.24097420e+07, 7.41221150e+06, 3.52397075e+06, 1.92845575e+06,\n",
              "        1.81143138e+06, 2.38608925e+06, 3.78709375e+06, 4.83161850e+06,\n",
              "        8.37473700e+06, 1.00403970e+07, 1.16371750e+07, 1.42376090e+07,\n",
              "        1.83285140e+07, 1.65918330e+07, 2.11904620e+07, 2.50923580e+07,\n",
              "        3.30644000e+07, 4.20155840e+07, 4.20590680e+07, 3.62897360e+07,\n",
              "        3.24071780e+07, 2.33958900e+07, 1.30472150e+07, 3.81962850e+06,\n",
              "        7.77015750e+06, 1.96256460e+07, 2.44180520e+07, 1.13627390e+07,\n",
              "        1.95441788e+06, 3.38980250e+06, 1.43029420e+07, 1.47656490e+07,\n",
              "        1.60281010e+07, 1.57933280e+07, 1.79501200e+07, 2.13717300e+07,\n",
              "        2.21924000e+07, 9.90233100e+06, 5.46289450e+06, 3.47179475e+06,\n",
              "        2.83285125e+06, 5.63083550e+06, 1.03885910e+07, 1.84977180e+07,\n",
              "        1.43164000e+07, 1.52850460e+07, 1.79256200e+07, 1.35719270e+07,\n",
              "        2.81469380e+07, 4.65104280e+07, 4.06617720e+07, 4.63177160e+07,\n",
              "        6.02053320e+07, 5.53550120e+07, 5.38231760e+07, 3.22821580e+07,\n",
              "        1.48503730e+07, 1.25477350e+07, 9.12845400e+06, 1.24283390e+07,\n",
              "        1.58453700e+07, 1.97923520e+07, 2.00182680e+07, 2.21558100e+07,\n",
              "        1.13016870e+07, 9.30693600e+06, 2.03202060e+07, 4.35315840e+07,\n",
              "        7.88421840e+07, 8.79273520e+07, 5.76311680e+07, 4.25311480e+07,\n",
              "        2.20471480e+07, 1.01640710e+07, 5.84768150e+06, 9.38776200e+06,\n",
              "        1.06636380e+07, 1.73746300e+07, 2.93190560e+07, 4.10148760e+07,\n",
              "        3.55091640e+07, 4.47045760e+07, 5.16545560e+07, 4.93106120e+07,\n",
              "        2.82157340e+07, 2.13764700e+07, 1.04887140e+07, 2.75314975e+06,\n",
              "        4.84344150e+06, 1.45987120e+07, 1.67806220e+07, 1.40693530e+07,\n",
              "        2.52286400e+07, 3.65612760e+07, 4.26569000e+07, 3.35735560e+07,\n",
              "        3.31086180e+07, 2.41157900e+07, 1.47773460e+07, 1.14788660e+07,\n",
              "        8.40597800e+06, 1.10429440e+07, 9.81175900e+06, 8.31737500e+06,\n",
              "        4.03087650e+06, 3.58631550e+06, 2.20659525e+06, 6.02982950e+06,\n",
              "        6.13834050e+06, 3.18852875e+06, 5.50306750e+06, 7.49728450e+06,\n",
              "        6.60579650e+06, 6.21780250e+06, 1.16491280e+07, 1.61704410e+07,\n",
              "        1.25160590e+07, 8.30062100e+06, 6.72676750e+06, 1.37914430e+07,\n",
              "        3.89299840e+07, 6.67558520e+07, 9.54500080e+07, 1.11905352e+08,\n",
              "        9.70469360e+07, 6.45708200e+07, 4.85188280e+07, 3.39245240e+07,\n",
              "        1.69008820e+07, 1.06948940e+07, 1.55379340e+07, 2.35215360e+07,\n",
              "        2.26954020e+07, 1.37243980e+07, 7.40944550e+06, 4.09540275e+06,\n",
              "        2.56160725e+06, 4.79585700e+06, 5.58551500e+06, 9.44552700e+06,\n",
              "        5.91376100e+06, 9.30452000e+06, 1.94001960e+07, 1.93962520e+07,\n",
              "        4.53134280e+07, 7.67750800e+07, 1.01680112e+08], dtype=float32),\n",
              " 'rmse': array([  728.19806 ,   588.58765 ,   618.8353  ,   797.8876  ,\n",
              "          799.0382  ,   850.1935  ,   724.9386  ,   661.6387  ,\n",
              "          790.2288  ,   948.26025 ,  1036.5343  ,  1019.43866 ,\n",
              "         1055.7439  ,  1041.6877  ,   797.92633 ,   527.9411  ,\n",
              "          367.8684  ,   368.12622 ,   323.5337  ,   319.79825 ,\n",
              "          221.48996 ,    58.903706,   222.39894 ,   288.7213  ,\n",
              "          304.7565  ,   382.00003 ,   375.90884 ,   300.15134 ,\n",
              "          359.2299  ,   284.9651  ,   319.85016 ,   484.29108 ,\n",
              "          536.7899  ,   573.97186 ,   579.2145  ,   536.7342  ,\n",
              "          583.383   ,   465.18912 ,   517.52496 ,   337.13257 ,\n",
              "          282.56326 ,   251.0285  ,   235.11348 ,   172.85553 ,\n",
              "          213.50822 ,   227.90427 ,   231.02065 ,   269.64313 ,\n",
              "          265.78064 ,   258.87317 ,   279.3188  ,   246.92891 ,\n",
              "          320.5745  ,   329.05585 ,   415.56604 ,   458.9595  ,\n",
              "          507.60645 ,   547.2015  ,   558.4294  ,   524.05054 ,\n",
              "          417.65665 ,   504.92194 ,   511.43533 ,   481.69022 ,\n",
              "          619.4978  ,   629.029   ,   552.065   ,   420.39612 ,\n",
              "          324.4922  ,   235.25473 ,   239.69899 ,   406.21332 ,\n",
              "          561.2868  ,   606.6961  ,   532.0149  ,   524.4827  ,\n",
              "          560.50024 ,   469.1176  ,   571.5553  ,   705.7399  ,\n",
              "          742.578   ,   674.2571  ,   466.52493 ,   246.94331 ,\n",
              "          339.5604  ,   318.6653  ,   354.31262 ,   506.47946 ,\n",
              "          463.87598 ,   545.8507  ,   478.5683  ,   559.8376  ,\n",
              "          520.8345  ,   441.3935  ,   376.96603 ,   244.77083 ,\n",
              "          372.57532 ,   629.51874 ,   773.30756 ,   923.03705 ,\n",
              "          850.26636 ,   598.493   ,   439.9626  ,   627.8899  ,\n",
              "          700.08057 ,   745.4066  ,   772.3376  ,   815.42017 ,\n",
              "         1076.1772  ,  1134.8763  ,  1072.8851  ,   797.0896  ,\n",
              "          619.2727  ,   485.47446 ,   317.01547 ,   437.10452 ,\n",
              "          523.1443  ,   527.2488  ,   588.58856 ,  1367.5266  ,\n",
              "         1939.536   ,  2466.41    ,  2719.6702  ,  2749.1284  ,\n",
              "         2838.2866  ,  2910.7947  ,  1930.2156  ,  1115.9756  ,\n",
              "          615.46484 ,   518.7174  ,   738.7108  ,   880.4713  ,\n",
              "         1013.27454 ,   725.84064 ,   578.646   ,   525.54675 ,\n",
              "          379.74817 ,   447.091   ,   420.06665 ,   438.3712  ,\n",
              "          392.06424 ,   554.6813  ,   393.5947  ,   452.35635 ,\n",
              "          590.94257 ,   457.01672 ,   433.2193  ,   412.52078 ,\n",
              "          360.63275 ,   351.22678 ,   371.3081  ,   329.5167  ,\n",
              "          347.14578 ,   730.24786 ,   781.3879  ,   477.06445 ,\n",
              "          361.99216 ,   322.72986 ,   401.92435 ,   316.42435 ,\n",
              "          234.71127 ,   258.65408 ,   265.502   ,   425.00064 ,\n",
              "          439.68112 ,   404.41608 ,   382.7158  ,   732.9949  ,\n",
              "          826.5804  ,   916.73413 ,  1018.675   ,  1161.9338  ,\n",
              "         1100.9539  ,  1044.4187  ,   832.145   ,   713.8081  ,\n",
              "          692.8275  ,   615.6959  ,   600.0556  ,   600.38153 ,\n",
              "          496.31345 ,   371.672   ,   603.27405 ,   948.9564  ,\n",
              "         1045.8225  ,   666.9723  ,   399.76083 ,   437.9638  ,\n",
              "          463.0307  ,   421.8389  ,   348.0578  ,   254.31169 ,\n",
              "          363.41257 ,   506.4322  ,   677.3277  ,   790.65845 ,\n",
              "          676.8012  ,   612.97833 ,   484.14795 ,   478.8896  ,\n",
              "          618.15967 ,   762.99585 ,   848.20526 ,   543.6902  ,\n",
              "          431.16412 ,   342.17828 ,   204.1624  ,   453.53125 ,\n",
              "          296.04852 ,   339.5173  ,   562.8272  ,   523.1653  ,\n",
              "          421.36472 ,   439.0938  ,   446.74042 ,   548.2387  ,\n",
              "          637.8563  ,   480.70117 ,   500.6877  ,   521.5113  ,\n",
              "          408.3835  ,   391.6676  ,   299.04184 ,   445.07428 ,\n",
              "          381.88507 ,   414.21146 ,   334.69058 ,   276.7291  ,\n",
              "          482.00003 ,   572.966   ,   533.6916  ,   477.57947 ,\n",
              "          500.7886  ,   322.6842  ,   279.84732 ,   312.4482  ,\n",
              "          269.1581  ,   336.9737  ,   304.36386 ,   305.46646 ,\n",
              "          261.12897 ,   258.01016 ,   207.88632 ,   242.82881 ,\n",
              "          450.3368  ,   374.66757 ,   320.9629  ,   330.98224 ,\n",
              "          312.87546 ,   360.60513 ,   398.89825 ,   371.98016 ,\n",
              "          291.82172 ,   300.35388 ,   344.35983 ,   381.25803 ,\n",
              "          731.7056  ,   885.2838  ,  1092.5166  ,  1172.8203  ,\n",
              "         1290.8372  ,  1394.2859  ,  1341.2452  ,   882.4039  ,\n",
              "          612.19666 ,   387.79794 ,   257.70303 ,   407.7384  ,\n",
              "          565.19116 ,   510.43512 ,   388.37613 ,   311.0248  ,\n",
              "          362.3736  ,   399.58133 ,   358.1723  ,   432.18243 ,\n",
              "          511.6262  ,   608.0692  ,   389.99274 ,   446.78073 ,\n",
              "          359.78342 ,   417.3002  ,   290.6141  ,   225.04744 ,\n",
              "          550.53    ,   633.7382  ,   705.403   ,   595.2612  ,\n",
              "          607.37036 ,   618.02386 ,   516.6937  ,   590.96814 ,\n",
              "          335.43607 ,   463.69012 ,   534.87524 ,   619.6707  ,\n",
              "          849.63324 ,  1042.81    ,  1259.0775  ,  1598.8082  ,\n",
              "         1618.1511  ,  1349.3027  ,  1108.7227  ,   645.53    ,\n",
              "          424.30923 ,   499.41302 ,   266.55194 ,   450.65408 ,\n",
              "          497.3331  ,   583.83105 ,   537.6677  ,   434.7568  ,\n",
              "          352.61444 ,   336.18152 ,   521.97705 ,   533.3406  ,\n",
              "          519.4647  ,   601.3245  ,   645.928   ,   547.30096 ,\n",
              "          524.2236  ,   336.0074  ,   305.87183 ,   341.87534 ,\n",
              "          357.42917 ,   412.73358 ,   474.26996 ,   534.0243  ,\n",
              "          633.19855 ,   492.4484  ,   456.7369  ,   319.82794 ,\n",
              "          415.84042 ,   584.6149  ,   616.71326 ,   703.5551  ,\n",
              "          647.78235 ,   529.5801  ,   289.50305 ,   169.70366 ,\n",
              "          368.5185  ,   386.9546  ,   592.2833  ,   799.3222  ,\n",
              "          963.2888  ,  1144.6993  ,  1229.7877  ,  1198.3351  ,\n",
              "         1156.7743  ,   829.65    ,   625.60284 ,   525.99255 ,\n",
              "          480.15802 ,   376.77332 ,   410.71588 ,   501.16904 ,\n",
              "          473.69226 ,   622.4253  ,   897.3486  ,  1139.3717  ,\n",
              "         1328.6163  ,  1270.3416  ,  1242.3094  ,  1130.5387  ,\n",
              "          856.6752  ,   855.96893 ,   723.34393 ,   660.28467 ,\n",
              "          834.69507 ,  1020.031   ,  1086.4762  ,  1251.888   ,\n",
              "         1523.1423  ,  1587.3229  ,  1819.1525  ,  1771.8052  ,\n",
              "         1495.288   ,  1152.9348  ,   807.69617 ,   805.32904 ,\n",
              "         1077.9269  ,  1199.5784  ,  1064.7913  ,  1571.3318  ,\n",
              "         1573.0226  ,  1091.545   ,  1019.86993 ,  1140.7178  ,\n",
              "         1100.211   ,   686.64746 ,   418.25552 ,   544.94196 ,\n",
              "          923.6518  ,  1082.6727  ,   956.1587  ,  1064.1249  ,\n",
              "         1064.4774  ,   916.2546  ,  1065.574   ,  2007.2803  ,\n",
              "         2729.7454  ,  3395.768   ,  3802.4539  ,  3739.55    ,\n",
              "         3522.7463  ,  2722.5376  ,  1877.2242  ,  1388.6885  ,\n",
              "         1345.8943  ,  1544.6971  ,  1946.0457  ,  2198.0942  ,\n",
              "         2893.9138  ,  3168.6584  ,  3411.3303  ,  3773.2756  ,\n",
              "         4281.181   ,  4073.3074  ,  4603.31    ,  5009.227   ,\n",
              "         5750.165   ,  6481.943   ,  6485.2964  ,  6024.096   ,\n",
              "         5692.7305  ,  4836.9297  ,  3612.0928  ,  1954.387   ,\n",
              "         2787.5002  ,  4430.084   ,  4941.4624  ,  3370.8662  ,\n",
              "         1398.005   ,  1841.1416  ,  3781.923   ,  3842.6096  ,\n",
              "         4003.511   ,  3974.082   ,  4236.7583  ,  4622.957   ,\n",
              "         4710.881   ,  3146.7969  ,  2337.2837  ,  1863.2753  ,\n",
              "         1683.1077  ,  2372.9382  ,  3223.1338  ,  4300.8975  ,\n",
              "         3783.702   ,  3909.6094  ,  4233.8657  ,  3684.0095  ,\n",
              "         5305.3687  ,  6819.8555  ,  6376.658   ,  6805.712   ,\n",
              "         7759.2095  ,  7440.0947  ,  7336.428   ,  5681.739   ,\n",
              "         3853.6182  ,  3542.2783  ,  3021.3333  ,  3525.385   ,\n",
              "         3980.6243  ,  4448.86    ,  4474.1777  ,  4706.996   ,\n",
              "         3361.798   ,  3050.727   ,  4507.794   ,  6597.8467  ,\n",
              "         8879.3125  ,  9376.959   ,  7591.5195  ,  6521.591   ,\n",
              "         4695.439   ,  3188.114   ,  2418.198   ,  3063.9456  ,\n",
              "         3265.5227  ,  4168.2886  ,  5414.7075  ,  6404.2856  ,\n",
              "         5958.9565  ,  6686.148   ,  7187.1104  ,  7022.1514  ,\n",
              "         5311.8486  ,  4623.469   ,  3238.6284  ,  1659.2618  ,\n",
              "         2200.782   ,  3820.8262  ,  4096.4155  ,  3750.9136  ,\n",
              "         5022.812   ,  6046.5923  ,  6531.225   ,  5794.269   ,\n",
              "         5754.009   ,  4910.783   ,  3844.1313  ,  3388.0476  ,\n",
              "         2899.3064  ,  3323.0925  ,  3132.3728  ,  2883.9858  ,\n",
              "         2007.7043  ,  1893.757   ,  1485.4613  ,  2455.571   ,\n",
              "         2477.5674  ,  1785.6451  ,  2345.8618  ,  2738.117   ,\n",
              "         2570.1743  ,  2493.5522  ,  3413.0818  ,  4021.2488  ,\n",
              "         3537.8042  ,  2881.0798  ,  2593.6013  ,  3713.683   ,\n",
              "         6239.3896  ,  8170.4253  ,  9769.852   , 10578.532   ,\n",
              "         9851.24    ,  8035.597   ,  6965.546   ,  5824.476   ,\n",
              "         4111.0684  ,  3270.305   ,  3941.8186  ,  4849.9004  ,\n",
              "         4763.969   ,  3704.6455  ,  2722.0298  ,  2023.7102  ,\n",
              "         1600.5022  ,  2189.9446  ,  2363.3694  ,  3073.3577  ,\n",
              "         2431.8225  ,  3050.331   ,  4404.5654  ,  4404.1177  ,\n",
              "         6731.525   ,  8762.139   , 10083.655   ], dtype=float32)}"
            ]
          },
          "metadata": {
            "tags": []
          },
          "execution_count": 65
        }
      ]
    },
    {
      "cell_type": "markdown",
      "metadata": {
        "id": "t405o940Twum"
      },
      "source": [
        "To fix this, let's adjust our `evaluate_preds()` function to work with multiple shapes of data."
      ]
    },
    {
      "cell_type": "code",
      "metadata": {
        "id": "ERkl26UFgSbz"
      },
      "source": [
        "def evaluate_preds(y_true, y_pred):\n",
        "  # Make sure float32 (for metric calculations)\n",
        "  y_true = tf.cast(y_true, dtype=tf.float32)\n",
        "  y_pred = tf.cast(y_pred, dtype=tf.float32)\n",
        "\n",
        "  # Calculate various metrics\n",
        "  mae = tf.keras.metrics.mean_absolute_error(y_true, y_pred)\n",
        "  mse = tf.keras.metrics.mean_squared_error(y_true, y_pred)\n",
        "  rmse = tf.sqrt(mse)\n",
        "  mape = tf.keras.metrics.mean_absolute_percentage_error(y_true, y_pred)\n",
        "  mase = mean_absolute_scaled_error(y_true, y_pred)\n",
        "\n",
        "  # Account for different sized metrics (for longer horizons, reduce to single number)\n",
        "  if mae.ndim > 0: # if mae isn't already a scalar, reduce it to one by aggregating tensors to mean\n",
        "    mae = tf.reduce_mean(mae)\n",
        "    mse = tf.reduce_mean(mse)\n",
        "    rmse = tf.reduce_mean(rmse)\n",
        "    mape = tf.reduce_mean(mape)\n",
        "    mase = tf.reduce_mean(mase)\n",
        "\n",
        "  return {\"mae\": mae.numpy(),\n",
        "          \"mse\": mse.numpy(),\n",
        "          \"rmse\": rmse.numpy(),\n",
        "          \"mape\": mape.numpy(),\n",
        "          \"mase\": mase.numpy()}"
      ],
      "execution_count": 66,
      "outputs": []
    },
    {
      "cell_type": "markdown",
      "metadata": {
        "id": "_RnoZl28Udx4"
      },
      "source": [
        "Now we've updated `evaluate_preds()` to work with multiple shapes, how does it look?"
      ]
    },
    {
      "cell_type": "code",
      "metadata": {
        "colab": {
          "base_uri": "https://localhost:8080/"
        },
        "id": "Kt1Z8yjpUij2",
        "outputId": "0087588d-b9d1-435e-bb17-046bf14d0718"
      },
      "source": [
        "# Get model_3 results aggregated to single values\n",
        "model_3_results = evaluate_preds(y_true=tf.squeeze(test_labels),\n",
        "                                 y_pred=model_3_preds)\n",
        "model_3_results"
      ],
      "execution_count": 67,
      "outputs": [
        {
          "output_type": "execute_result",
          "data": {
            "text/plain": [
              "{'mae': 1434.5563,\n",
              " 'mape': 6.596248,\n",
              " 'mase': 2.5527127,\n",
              " 'mse': 6545260.0,\n",
              " 'rmse': 1637.6982}"
            ]
          },
          "metadata": {
            "tags": []
          },
          "execution_count": 67
        }
      ]
    },
    {
      "cell_type": "markdown",
      "metadata": {
        "id": "0XNIJfcsTpdA"
      },
      "source": [
        "If we try to plot our multi-horizon predicts, we're going to get a funky looking plot."
      ]
    },
    {
      "cell_type": "code",
      "metadata": {
        "colab": {
          "base_uri": "https://localhost:8080/",
          "height": 442
        },
        "id": "gBdg1NcLs3gW",
        "outputId": "14289cfe-7947-460b-afbe-66ad8fb1cdbf"
      },
      "source": [
        "offset = 300\n",
        "plt.figure(figsize=(10, 7))\n",
        "plot_time_series(timesteps=X_test[-len(test_windows):], values=test_labels[:, 0], start=offset, label=\"Test_data\")\n",
        "# Checking the shape of model_3_preds results in [n_test_samples, HORIZON] (this will screw up the plot)\n",
        "plot_time_series(timesteps=X_test[-len(test_windows):], values=model_3_preds, start=offset, label=\"model_3_preds\") "
      ],
      "execution_count": 68,
      "outputs": [
        {
          "output_type": "display_data",
          "data": {
            "image/png": "[encoded data removed]",
            "text/plain": [
              "<Figure size 720x504 with 1 Axes>"
            ]
          },
          "metadata": {
            "tags": [],
            "needs_background": "light"
          }
        }
      ]
    },
    {
      "cell_type": "markdown",
      "metadata": {
        "id": "j3nZnSG1Uute"
      },
      "source": [
        "TODO: what information do we lose through aggregated the predictions? E.g. going from 7 steps at a time to one step at a time? \n",
        "\n",
        "Again, we can fix this by aggregating our model's predictions."
      ]
    },
    {
      "cell_type": "code",
      "metadata": {
        "colab": {
          "base_uri": "https://localhost:8080/",
          "height": 442
        },
        "id": "wYpZb27bU6OO",
        "outputId": "fecefed5-30ea-4f9a-83ab-f3cf72fe2998"
      },
      "source": [
        "offset = 300\n",
        "plt.figure(figsize=(10, 7))\n",
        "# Plot model_3_preds by aggregating them (note: this condenses information so the preds will look fruther ahead than the test data)\n",
        "plot_time_series(timesteps=X_test[-len(test_windows):], values=test_labels[:, 0], start=offset, label=\"Test_data\")\n",
        "plot_time_series(timesteps=X_test[-len(test_windows):], values=tf.reduce_mean(model_3_preds, axis=1), start=offset, label=\"model_3_preds\")"
      ],
      "execution_count": 69,
      "outputs": [
        {
          "output_type": "display_data",
          "data": {
            "image/png": "[encoded data removed]",
            "text/plain": [
              "<Figure size 720x504 with 1 Axes>"
            ]
          },
          "metadata": {
            "tags": [],
            "needs_background": "light"
          }
        }
      ]
    },
    {
      "cell_type": "markdown",
      "metadata": {
        "id": "Ojqon-Y5VpCC"
      },
      "source": [
        "Which of our models is performing best so far?"
      ]
    },
    {
      "cell_type": "code",
      "metadata": {
        "colab": {
          "base_uri": "https://localhost:8080/"
        },
        "id": "ItBZl38fWEAC",
        "outputId": "875c8238-2dab-4778-dadf-5c85c0250dae"
      },
      "source": [
        "model_1_results, model_2_results"
      ],
      "execution_count": 70,
      "outputs": [
        {
          "output_type": "execute_result",
          "data": {
            "text/plain": [
              "({'mae': 568.9511,\n",
              "  'mape': 2.5448983,\n",
              "  'mase': 0.99948955,\n",
              "  'mse': 1171743.8,\n",
              "  'rmse': 1082.4712},\n",
              " {'mae': 756.5144,\n",
              "  'mape': 3.4486432,\n",
              "  'mase': 1.3223946,\n",
              "  'mse': 1840869.1,\n",
              "  'rmse': 1356.7864})"
            ]
          },
          "metadata": {
            "tags": []
          },
          "execution_count": 70
        }
      ]
    },
    {
      "cell_type": "code",
      "metadata": {
        "colab": {
          "base_uri": "https://localhost:8080/"
        },
        "id": "ABvnMeWfWOZq",
        "outputId": "710566ee-eac3-4dad-f2e7-ec7c125e5114"
      },
      "source": [
        "naive_results[\"mae\"]"
      ],
      "execution_count": 71,
      "outputs": [
        {
          "output_type": "execute_result",
          "data": {
            "text/plain": [
              "567.9802"
            ]
          },
          "metadata": {
            "tags": []
          },
          "execution_count": 71
        }
      ]
    },
    {
      "cell_type": "code",
      "metadata": {
        "colab": {
          "base_uri": "https://localhost:8080/",
          "height": 440
        },
        "id": "QA4EKseAVrYf",
        "outputId": "eb679747-826a-4af0-8255-afff19a220c2"
      },
      "source": [
        "pd.DataFrame({\"naive\": naive_results[\"mae\"], \n",
        "              \"horizon_1_window_7\": model_1_results[\"mae\"], \n",
        "              \"horizon_1_window_30\": model_2_results[\"mae\"], \n",
        "              \"horizon_7_window_30\": model_3_results[\"mae\"]}, index=[\"mae\"]).plot(figsize=(10, 7), kind=\"bar\");"
      ],
      "execution_count": 72,
      "outputs": [
        {
          "output_type": "display_data",
          "data": {
            "image/png": "[encoded data removed]",
            "text/plain": [
              "<Figure size 720x504 with 1 Axes>"
            ]
          },
          "metadata": {
            "tags": [],
            "needs_background": "light"
          }
        }
      ]
    },
    {
      "cell_type": "markdown",
      "metadata": {
        "id": "dIRwia9BWeI5"
      },
      "source": [
        "Our naive model is performing best (it's very hard to beat a naive model in open systems) but the dense model with a horizon of 1 and a window size of 7 looks to be performing cloest.\n",
        "\n",
        "Because of this, let's use `HORIZON=1` and `WINDOW_SIZE=7` for our next series of modelling experiments (in other words, we'll use the previous week of Bitcoin prices to try and predict the next day)."
      ]
    },
    {
      "cell_type": "markdown",
      "metadata": {
        "id": "CxcL0gi-rWC5"
      },
      "source": [
        "## TODO: Model 4: Conv1D"
      ]
    },
    {
      "cell_type": "code",
      "metadata": {
        "id": "2_t9hXvXrZPD"
      },
      "source": [
        "HORIZON = 1 # predict next day\n",
        "WINDOW_SIZE = 7 # use previous week worth of data"
      ],
      "execution_count": 73,
      "outputs": []
    },
    {
      "cell_type": "code",
      "metadata": {
        "colab": {
          "base_uri": "https://localhost:8080/"
        },
        "id": "CRCy-vXzsEGL",
        "outputId": "88b4a029-3ece-4927-b186-3f65f6458188"
      },
      "source": [
        "# Create windowed dataset\n",
        "full_windows, full_labels = make_windows(prices, window_size=WINDOW_SIZE, horizon=HORIZON)\n",
        "len(full_windows), len(full_labels)"
      ],
      "execution_count": 74,
      "outputs": [
        {
          "output_type": "execute_result",
          "data": {
            "text/plain": [
              "(2780, 2780)"
            ]
          },
          "metadata": {
            "tags": []
          },
          "execution_count": 74
        }
      ]
    },
    {
      "cell_type": "code",
      "metadata": {
        "colab": {
          "base_uri": "https://localhost:8080/"
        },
        "id": "ZtsLeB3rsED2",
        "outputId": "0e2144aa-4b7d-4aae-d502-091c0884e633"
      },
      "source": [
        "# Create train/test splits\n",
        "train_windows, test_windows, train_labels, test_labels = make_train_test_splits(full_windows, full_labels)\n",
        "len(train_windows), len(test_windows), len(train_labels), len(test_labels)"
      ],
      "execution_count": 75,
      "outputs": [
        {
          "output_type": "execute_result",
          "data": {
            "text/plain": [
              "(2224, 556, 2224, 556)"
            ]
          },
          "metadata": {
            "tags": []
          },
          "execution_count": 75
        }
      ]
    },
    {
      "cell_type": "markdown",
      "metadata": {
        "id": "RMtzZKYRXExH"
      },
      "source": [
        "TK - Since we're going to be using [Conv1D layers](https://www.tensorflow.org/api_docs/python/tf/keras/layers/Conv1D), we need to make sure our input shapes are correct.\n",
        "\n",
        "The Conv1D layer in TensorFlow takes an input of: `(batch_size, timesteps, input_dim)`.\n",
        "\n",
        "In our case, the `batch_size` is handled for us but the other values will be:\n",
        "* `timesteps = WINDOW_SIZE` - the `timesteps` is also often referred to as `features`, our features are the previous `WINDOW_SIZE` values of Bitcoin \n",
        "* `input_dim = 1` - our model views one week of data at a time to predict the next day\n",
        "\n",
        "Right now, our data has the `timesteps` dimension ready but we'll have to adjust it to have the `input_dim` dimension. "
      ]
    },
    {
      "cell_type": "code",
      "metadata": {
        "colab": {
          "base_uri": "https://localhost:8080/"
        },
        "id": "To_k7zIAX7Pj",
        "outputId": "edb2ee75-83fb-4ffa-dd67-1fb9997cb7e1"
      },
      "source": [
        "# Check data sample shapes\n",
        "train_windows[0].shape # returns (WINDOW_SIZE, )"
      ],
      "execution_count": 76,
      "outputs": [
        {
          "output_type": "execute_result",
          "data": {
            "text/plain": [
              "(7,)"
            ]
          },
          "metadata": {
            "tags": []
          },
          "execution_count": 76
        }
      ]
    },
    {
      "cell_type": "markdown",
      "metadata": {
        "id": "oPIMnb3GYMvP"
      },
      "source": [
        "To fix this, we could adjust the shape of all of our `train_windows` or we could use a `tf.keras.layers.Lamdba` (called a Lambda layer) to do this for us in our model."
      ]
    },
    {
      "cell_type": "code",
      "metadata": {
        "colab": {
          "base_uri": "https://localhost:8080/"
        },
        "id": "62oSNy3VvZpv",
        "outputId": "b2f21d06-1f87-4a5c-d157-a7e3c083bc8d"
      },
      "source": [
        "# Before we pass our data to the Conv1D layer, we have to reshape it in order to make sure it works\n",
        "x = tf.constant(train_windows[0])\n",
        "expand_dims_layer = layers.Lambda(lambda x: tf.expand_dims(x, axis=1)) # add an extra dimension for timesteps\n",
        "print(f\"Original shape: {x.shape}\") # (WINDOW_SIZE)\n",
        "print(f\"Expanded shape: {expand_dims_layer(x).shape}\") # (WINDOW_SIZE, input_dim) \n",
        "print(f\"Original values with expanded shape:\\n {expand_dims_layer(x)}\")"
      ],
      "execution_count": 77,
      "outputs": [
        {
          "output_type": "stream",
          "text": [
            "Original shape: (7,)\n",
            "Expanded shape: (7, 1)\n",
            "Original values with expanded shape:\n",
            " [[123.65499]\n",
            " [125.455  ]\n",
            " [108.58483]\n",
            " [118.67466]\n",
            " [121.33866]\n",
            " [120.65533]\n",
            " [121.795  ]]\n"
          ],
          "name": "stdout"
        }
      ]
    },
    {
      "cell_type": "code",
      "metadata": {
        "colab": {
          "base_uri": "https://localhost:8080/"
        },
        "id": "jODevMWGsEBI",
        "outputId": "f7b0197a-05fb-4558-eec3-7bd46a2d2975"
      },
      "source": [
        "# Create model\n",
        "model_4 = tf.keras.Sequential([\n",
        "  # Create Lambda layer to reshape inputs, without this layer, the model will error\n",
        "  layers.Lambda(lambda x: tf.expand_dims(x, axis=1)), # resize the inputs to adjust for window size / Conv1D 3D input requirements\n",
        "  layers.Conv1D(filters=128, kernel_size=3, padding=\"causal\", activation=\"relu\"),\n",
        "  layers.Dense(HORIZON)\n",
        "], name=\"model_4_conv1D\")\n",
        "\n",
        "# Compile model\n",
        "model_4.compile(loss=\"mae\",\n",
        "                optimizer=tf.keras.optimizers.Adam())\n",
        "\n",
        "# Fit model\n",
        "model_4.fit(train_windows,\n",
        "            train_labels, \n",
        "            epochs=10,\n",
        "            validation_data=(test_windows, test_labels),\n",
        "            callbacks=[create_model_checkpoint(model_name=model_4.name)])"
      ],
      "execution_count": 78,
      "outputs": [
        {
          "output_type": "stream",
          "text": [
            "Epoch 1/10\n",
            "70/70 [==============================] - 29s 7ms/step - loss: 573.8143 - val_loss: 1082.8293\n",
            "INFO:tensorflow:Assets written to: model_experiments/model_4_conv1D/assets\n",
            "Epoch 2/10\n",
            "70/70 [==============================] - 0s 3ms/step - loss: 183.5496 - val_loss: 990.6497\n",
            "INFO:tensorflow:Assets written to: model_experiments/model_4_conv1D/assets\n",
            "Epoch 3/10\n",
            "70/70 [==============================] - 0s 3ms/step - loss: 175.4528 - val_loss: 951.7766\n",
            "INFO:tensorflow:Assets written to: model_experiments/model_4_conv1D/assets\n",
            "Epoch 4/10\n",
            "70/70 [==============================] - 0s 3ms/step - loss: 166.1357 - val_loss: 854.8707\n",
            "INFO:tensorflow:Assets written to: model_experiments/model_4_conv1D/assets\n",
            "Epoch 5/10\n",
            "70/70 [==============================] - 0s 3ms/step - loss: 153.4302 - val_loss: 823.3082\n",
            "INFO:tensorflow:Assets written to: model_experiments/model_4_conv1D/assets\n",
            "Epoch 6/10\n",
            "70/70 [==============================] - 0s 3ms/step - loss: 144.2551 - val_loss: 779.6782\n",
            "INFO:tensorflow:Assets written to: model_experiments/model_4_conv1D/assets\n",
            "Epoch 7/10\n",
            "70/70 [==============================] - 0s 3ms/step - loss: 144.9633 - val_loss: 780.6294\n",
            "Epoch 8/10\n",
            "70/70 [==============================] - 0s 3ms/step - loss: 141.4987 - val_loss: 750.6768\n",
            "INFO:tensorflow:Assets written to: model_experiments/model_4_conv1D/assets\n",
            "Epoch 9/10\n",
            "70/70 [==============================] - 0s 3ms/step - loss: 136.0457 - val_loss: 1020.9443\n",
            "Epoch 10/10\n",
            "70/70 [==============================] - 0s 3ms/step - loss: 144.2258 - val_loss: 746.7556\n",
            "INFO:tensorflow:Assets written to: model_experiments/model_4_conv1D/assets\n"
          ],
          "name": "stdout"
        },
        {
          "output_type": "execute_result",
          "data": {
            "text/plain": [
              "<tensorflow.python.keras.callbacks.History at 0x7f22520e3490>"
            ]
          },
          "metadata": {
            "tags": []
          },
          "execution_count": 78
        }
      ]
    },
    {
      "cell_type": "code",
      "metadata": {
        "colab": {
          "base_uri": "https://localhost:8080/"
        },
        "id": "2FcGUALG4RxJ",
        "outputId": "cb8d8c40-d5d0-422c-dd2b-1bf9aca0591f"
      },
      "source": [
        "model_4.summary()"
      ],
      "execution_count": 79,
      "outputs": [
        {
          "output_type": "stream",
          "text": [
            "Model: \"model_4_conv1D\"\n",
            "_________________________________________________________________\n",
            "Layer (type)                 Output Shape              Param #   \n",
            "=================================================================\n",
            "lambda_1 (Lambda)            (None, 1, 7)              0         \n",
            "_________________________________________________________________\n",
            "conv1d (Conv1D)              (None, 1, 128)            2816      \n",
            "_________________________________________________________________\n",
            "dense_6 (Dense)              (None, 1, 1)              129       \n",
            "=================================================================\n",
            "Total params: 2,945\n",
            "Trainable params: 2,945\n",
            "Non-trainable params: 0\n",
            "_________________________________________________________________\n"
          ],
          "name": "stdout"
        }
      ]
    },
    {
      "cell_type": "code",
      "metadata": {
        "colab": {
          "base_uri": "https://localhost:8080/"
        },
        "id": "KXEL9FuhsD-3",
        "outputId": "d5c4e5cf-8bfc-4d3b-af6c-5546e549a879"
      },
      "source": [
        "model_4 = tf.keras.models.load_model(\"model_experiments/model_4_conv1D\")\n",
        "model_4.evaluate(test_windows, test_labels)"
      ],
      "execution_count": 80,
      "outputs": [
        {
          "output_type": "stream",
          "text": [
            "18/18 [==============================] - 0s 2ms/step - loss: 746.7556\n"
          ],
          "name": "stdout"
        },
        {
          "output_type": "execute_result",
          "data": {
            "text/plain": [
              "746.7555541992188"
            ]
          },
          "metadata": {
            "tags": []
          },
          "execution_count": 80
        }
      ]
    },
    {
      "cell_type": "code",
      "metadata": {
        "colab": {
          "base_uri": "https://localhost:8080/"
        },
        "id": "j99tbnwSsD8R",
        "outputId": "2999e634-f428-44fa-bd85-b6fdde81a5c5"
      },
      "source": [
        "# Make predictions\n",
        "model_4_preds = make_forecast(model_4, test_windows)\n",
        "model_4_preds[:10]"
      ],
      "execution_count": 81,
      "outputs": [
        {
          "output_type": "execute_result",
          "data": {
            "text/plain": [
              "<tf.Tensor: shape=(10,), dtype=float32, numpy=\n",
              "array([8932.787, 8784.208, 8833.94 , 8678.634, 8669.403, 8664.391,\n",
              "       8599.434, 8454.063, 8427.286, 8400.136], dtype=float32)>"
            ]
          },
          "metadata": {
            "tags": []
          },
          "execution_count": 81
        }
      ]
    },
    {
      "cell_type": "code",
      "metadata": {
        "colab": {
          "base_uri": "https://localhost:8080/"
        },
        "id": "yjfEDWxjrZW2",
        "outputId": "8c5cbccd-3589-43ea-ca54-2b1ceaba9c1c"
      },
      "source": [
        "# Evaluate predictions\n",
        "model_4_results = evaluate_preds(y_true=tf.squeeze(test_labels),\n",
        "                                 y_pred=model_4_preds)\n",
        "model_4_results"
      ],
      "execution_count": 82,
      "outputs": [
        {
          "output_type": "execute_result",
          "data": {
            "text/plain": [
              "{'mae': 746.7556,\n",
              " 'mape': 3.3394878,\n",
              " 'mase': 1.3118428,\n",
              " 'mse': 1694575.0,\n",
              " 'rmse': 1301.7584}"
            ]
          },
          "metadata": {
            "tags": []
          },
          "execution_count": 82
        }
      ]
    },
    {
      "cell_type": "markdown",
      "metadata": {
        "id": "pZ2s0Rx0rZjE"
      },
      "source": [
        "## TODO: Model 5: RNN (LSTM)\n",
        "\n",
        "TK (image) - make an image of inputs -> model -> output "
      ]
    },
    {
      "cell_type": "code",
      "metadata": {
        "colab": {
          "base_uri": "https://localhost:8080/"
        },
        "id": "LwG908g24AER",
        "outputId": "75562ca7-eab0-42c4-b68d-441ecb8384ec"
      },
      "source": [
        "len(train_windows), len(train_labels)"
      ],
      "execution_count": 83,
      "outputs": [
        {
          "output_type": "execute_result",
          "data": {
            "text/plain": [
              "(2224, 2224)"
            ]
          },
          "metadata": {
            "tags": []
          },
          "execution_count": 83
        }
      ]
    },
    {
      "cell_type": "code",
      "metadata": {
        "colab": {
          "base_uri": "https://localhost:8080/"
        },
        "id": "a6YFL_b-rZrt",
        "outputId": "00f8446e-f747-45bc-eef9-63fb7ac1e6d7"
      },
      "source": [
        "tf.random.set_seed(42)\n",
        "\n",
        "# Let's build an LSTM model with the Functional API\n",
        "inputs = layers.Input(shape=(WINDOW_SIZE))\n",
        "x = layers.Lambda(lambda x: tf.expand_dims(x, axis=1))(inputs) # expand input dimension to be compatible with LSTM\n",
        "# print(x.shape)\n",
        "# x = layers.Conv1D(128, kernel_size=3, padding=\"causal\", activation=\"relu\")(x)\n",
        "# x = layers.LSTM(128, activation=\"relu\", return_sequences=True)(x) # this layer will error if the inputs are not the right shape\n",
        "# x = layers.Dropout(0.05)(x)\n",
        "x = layers.LSTM(128, activation=\"relu\")(x)\n",
        "# print(x.shape)\n",
        "# x = layers.Dense(32, activation=\"relu\")(x)\n",
        "output = layers.Dense(HORIZON)(x)\n",
        "model_5 = tf.keras.Model(inputs=inputs, outputs=output, name=\"model_5_lstm\")\n",
        "\n",
        "# Compile model\n",
        "model_5.compile(loss=\"mae\",\n",
        "                optimizer=tf.keras.optimizers.Adam())\n",
        "\n",
        "# Seems when saving the model several warnings are appearing: https://github.com/tensorflow/tensorflow/issues/47554 \n",
        "model_5.fit(train_windows,\n",
        "            train_labels,\n",
        "            epochs=10,\n",
        "            validation_data=(test_windows, test_labels),\n",
        "            callbacks=[create_model_checkpoint(model_name=model_5.name)])"
      ],
      "execution_count": 84,
      "outputs": [
        {
          "output_type": "stream",
          "text": [
            "WARNING:tensorflow:Layer lstm will not use cuDNN kernels since it doesn't meet the criteria. It will use a generic GPU kernel as fallback when running on GPU.\n",
            "Epoch 1/10\n",
            "70/70 [==============================] - 2s 8ms/step - loss: 923.8335 - val_loss: 999.7739\n",
            "INFO:tensorflow:Assets written to: model_experiments/model_5_lstm/assets\n",
            "Epoch 2/10\n",
            "70/70 [==============================] - 0s 5ms/step - loss: 174.3591 - val_loss: 1059.5967\n",
            "Epoch 3/10\n",
            "70/70 [==============================] - 0s 5ms/step - loss: 169.0976 - val_loss: 915.7005\n",
            "INFO:tensorflow:Assets written to: model_experiments/model_5_lstm/assets\n",
            "Epoch 4/10\n",
            "70/70 [==============================] - 0s 5ms/step - loss: 164.8597 - val_loss: 961.9780\n",
            "Epoch 5/10\n",
            "70/70 [==============================] - 0s 5ms/step - loss: 162.1378 - val_loss: 881.1057\n",
            "INFO:tensorflow:Assets written to: model_experiments/model_5_lstm/assets\n",
            "Epoch 6/10\n",
            "70/70 [==============================] - 0s 5ms/step - loss: 154.4248 - val_loss: 1048.9911\n",
            "Epoch 7/10\n",
            "70/70 [==============================] - 0s 5ms/step - loss: 151.9672 - val_loss: 817.6928\n",
            "INFO:tensorflow:Assets written to: model_experiments/model_5_lstm/assets\n",
            "Epoch 8/10\n",
            "70/70 [==============================] - 0s 5ms/step - loss: 148.8312 - val_loss: 783.2538\n",
            "INFO:tensorflow:Assets written to: model_experiments/model_5_lstm/assets\n",
            "Epoch 9/10\n",
            "70/70 [==============================] - 0s 5ms/step - loss: 140.9373 - val_loss: 801.6102\n",
            "Epoch 10/10\n",
            "70/70 [==============================] - 0s 5ms/step - loss: 145.7707 - val_loss: 848.7509\n"
          ],
          "name": "stdout"
        },
        {
          "output_type": "execute_result",
          "data": {
            "text/plain": [
              "<tensorflow.python.keras.callbacks.History at 0x7f22305bfe90>"
            ]
          },
          "metadata": {
            "tags": []
          },
          "execution_count": 84
        }
      ]
    },
    {
      "cell_type": "code",
      "metadata": {
        "colab": {
          "base_uri": "https://localhost:8080/"
        },
        "id": "N59tLdtu58G4",
        "outputId": "3025698f-d9b6-443d-a043-6457e785792c"
      },
      "source": [
        "model_5.summary()"
      ],
      "execution_count": 85,
      "outputs": [
        {
          "output_type": "stream",
          "text": [
            "Model: \"model_5_lstm\"\n",
            "_________________________________________________________________\n",
            "Layer (type)                 Output Shape              Param #   \n",
            "=================================================================\n",
            "input_1 (InputLayer)         [(None, 7)]               0         \n",
            "_________________________________________________________________\n",
            "lambda_2 (Lambda)            (None, 1, 7)              0         \n",
            "_________________________________________________________________\n",
            "lstm (LSTM)                  (None, 128)               69632     \n",
            "_________________________________________________________________\n",
            "dense_7 (Dense)              (None, 1)                 129       \n",
            "=================================================================\n",
            "Total params: 69,761\n",
            "Trainable params: 69,761\n",
            "Non-trainable params: 0\n",
            "_________________________________________________________________\n"
          ],
          "name": "stdout"
        }
      ]
    },
    {
      "cell_type": "code",
      "metadata": {
        "colab": {
          "base_uri": "https://localhost:8080/"
        },
        "id": "yfG11v_51UWa",
        "outputId": "8ca179dc-500b-4a78-9f56-8e430ec0660c"
      },
      "source": [
        "# Make predictions with our LSTM model\n",
        "model_5_preds = make_forecast(model_5, test_windows)\n",
        "model_5_preds[:10]"
      ],
      "execution_count": 86,
      "outputs": [
        {
          "output_type": "execute_result",
          "data": {
            "text/plain": [
              "<tf.Tensor: shape=(10,), dtype=float32, numpy=\n",
              "array([9002.466 , 8850.116 , 8907.427 , 8797.8955, 8680.045 , 8696.605 ,\n",
              "       8652.487 , 8509.562 , 8473.361 , 8447.549 ], dtype=float32)>"
            ]
          },
          "metadata": {
            "tags": []
          },
          "execution_count": 86
        }
      ]
    },
    {
      "cell_type": "code",
      "metadata": {
        "colab": {
          "base_uri": "https://localhost:8080/"
        },
        "id": "sVv5Kg5N1axK",
        "outputId": "3c81d4c2-57e4-419e-a418-4fffce4bb1e4"
      },
      "source": [
        "# Evaluate model 5 preds\n",
        "model_5_results = evaluate_preds(y_true=tf.squeeze(test_labels),\n",
        "                                 y_pred=model_5_preds)\n",
        "model_5_results"
      ],
      "execution_count": 87,
      "outputs": [
        {
          "output_type": "execute_result",
          "data": {
            "text/plain": [
              "{'mae': 848.7509,\n",
              " 'mape': 3.756708,\n",
              " 'mase': 1.4910203,\n",
              " 'mse': 2154121.0,\n",
              " 'rmse': 1467.6924}"
            ]
          },
          "metadata": {
            "tags": []
          },
          "execution_count": 87
        }
      ]
    },
    {
      "cell_type": "markdown",
      "metadata": {
        "id": "Y82CDMWp5Wva"
      },
      "source": [
        "# TODO: Make a multivariate time series \n",
        "\n",
        "Bitcoin price + halving events...\n",
        "\n",
        "-> https://www.investopedia.com/bitcoin-halving-4843769\n",
        "\n",
        "> Vigg_1991: For me … I use sensor data for predictions and forecasting … the toughest part of a time series has been .. when doing multivariate time series … some inputs may have larger scale compared to the target .. therefore do we de-trend all the data to keep them consistent or do we keep them them the way they are … because sometimes they lose the correlation between them once they are retreaded for prediction. How would you handle that ? Or is that important for deep learning predictions?\n",
        "\n",
        "* inputs: larger scale compared to target\n",
        "* detrend all the data to keep them consistent? Or keep the same way?\n",
        "* sometimes they lose the correlation between them once they are de-trended "
      ]
    },
    {
      "cell_type": "code",
      "metadata": {
        "colab": {
          "base_uri": "https://localhost:8080/",
          "height": 235
        },
        "id": "Z06o2ls4sSoF",
        "outputId": "919c9f8a-df8d-40d9-a736-7fc5ec56d892"
      },
      "source": [
        "# Let's make a multivariate time series\n",
        "bitcoin_prices.head()"
      ],
      "execution_count": 88,
      "outputs": [
        {
          "output_type": "execute_result",
          "data": {
            "text/html": [
              "<div>\n",
              "<style scoped>\n",
              "    .dataframe tbody tr th:only-of-type {\n",
              "        vertical-align: middle;\n",
              "    }\n",
              "\n",
              "    .dataframe tbody tr th {\n",
              "        vertical-align: top;\n",
              "    }\n",
              "\n",
              "    .dataframe thead th {\n",
              "        text-align: right;\n",
              "    }\n",
              "</style>\n",
              "<table border=\"1\" class=\"dataframe\">\n",
              "  <thead>\n",
              "    <tr style=\"text-align: right;\">\n",
              "      <th></th>\n",
              "      <th>Price</th>\n",
              "    </tr>\n",
              "    <tr>\n",
              "      <th>Date</th>\n",
              "      <th></th>\n",
              "    </tr>\n",
              "  </thead>\n",
              "  <tbody>\n",
              "    <tr>\n",
              "      <th>2013-10-01</th>\n",
              "      <td>123.65499</td>\n",
              "    </tr>\n",
              "    <tr>\n",
              "      <th>2013-10-02</th>\n",
              "      <td>125.45500</td>\n",
              "    </tr>\n",
              "    <tr>\n",
              "      <th>2013-10-03</th>\n",
              "      <td>108.58483</td>\n",
              "    </tr>\n",
              "    <tr>\n",
              "      <th>2013-10-04</th>\n",
              "      <td>118.67466</td>\n",
              "    </tr>\n",
              "    <tr>\n",
              "      <th>2013-10-05</th>\n",
              "      <td>121.33866</td>\n",
              "    </tr>\n",
              "  </tbody>\n",
              "</table>\n",
              "</div>"
            ],
            "text/plain": [
              "                Price\n",
              "Date                 \n",
              "2013-10-01  123.65499\n",
              "2013-10-02  125.45500\n",
              "2013-10-03  108.58483\n",
              "2013-10-04  118.67466\n",
              "2013-10-05  121.33866"
            ]
          },
          "metadata": {
            "tags": []
          },
          "execution_count": 88
        }
      ]
    },
    {
      "cell_type": "markdown",
      "metadata": {
        "id": "DEqgTKX-t7xe"
      },
      "source": [
        "Now let's add another feature column, the block reward size (the amount of Bitcoin recevied by mining a block, this value halves every ~4 years and may be related to the price).\n",
        "\n",
        "Source: https://www.cmcmarkets.com/en/learn-cryptocurrencies/bitcoin-halving"
      ]
    },
    {
      "cell_type": "code",
      "metadata": {
        "id": "HrUKQXnssWHt"
      },
      "source": [
        "# Block reward values\n",
        "block_reward_1 = 50 # 3 January 2009 (2009-01-03) - this isn't in our dataset (it starts from 01 October 2013)\n",
        "block_reward_2 = 25 # 28 November 2012 \n",
        "block_reward_3 = 12.5 # 9 July 2016\n",
        "block_reward_4 = 6.25 # 11 May 2020\n",
        "\n",
        "# Block reward dates (datetime form of the above date stamps)\n",
        "block_reward_2_datetime = np.datetime64(\"2012-11-28\")\n",
        "block_reward_3_datetime = np.datetime64(\"2016-07-09\")\n",
        "block_reward_4_datetime = np.datetime64(\"2020-05-11\")"
      ],
      "execution_count": 89,
      "outputs": []
    },
    {
      "cell_type": "markdown",
      "metadata": {
        "id": "I2RiTXPd3lAL"
      },
      "source": [
        "We're going to get the days (indexes) for different block reward values. \n",
        "\n",
        "This is important because if we're going to use multiple variables for our time series, they have to the same frequency as our original variable. For example, if our Bitcoin prices are daily, we need the block reward values to be daily as well.\n",
        "\n",
        "> 🔑 **Note:** For using multiple variables, make sure they're the same frequency as each other. If your variables aren't at the same frequency (e.g. Bitcoin prices are daily but block rewards are weekly), you may need to transform them in a way that they can be used with your model."
      ]
    },
    {
      "cell_type": "code",
      "metadata": {
        "colab": {
          "base_uri": "https://localhost:8080/"
        },
        "id": "jmawWFj9udzC",
        "outputId": "5263b92a-2168-4e08-d298-e12deb0a9f43"
      },
      "source": [
        "# Get date indexes for when to add in different block dates\n",
        "block_reward_2_days = (block_reward_3_datetime - bitcoin_prices.index[0]).days\n",
        "block_reward_3_days = (block_reward_4_datetime - bitcoin_prices.index[0]).days\n",
        "block_reward_2_days, block_reward_3_days"
      ],
      "execution_count": 90,
      "outputs": [
        {
          "output_type": "execute_result",
          "data": {
            "text/plain": [
              "(1012, 2414)"
            ]
          },
          "metadata": {
            "tags": []
          },
          "execution_count": 90
        }
      ]
    },
    {
      "cell_type": "markdown",
      "metadata": {
        "id": "B2ZxThVAy0B3"
      },
      "source": [
        "Now we can add another feature to our dataset `block_reward` (this gets lower over time so it may lead to increasing prices of Bitcoin)."
      ]
    },
    {
      "cell_type": "code",
      "metadata": {
        "colab": {
          "base_uri": "https://localhost:8080/",
          "height": 235
        },
        "id": "BM9zRZDQvw7m",
        "outputId": "25c178d3-651c-4297-e354-b54061cc18d9"
      },
      "source": [
        "# Add block_reward column\n",
        "bitcoin_prices_block = bitcoin_prices.copy()\n",
        "bitcoin_prices_block[\"block_reward\"] = None\n",
        "\n",
        "# Set values of block_reward column (it's the last column hence -1 indexing on iloc)\n",
        "bitcoin_prices_block.iloc[:block_reward_2_days, -1] = block_reward_2\n",
        "bitcoin_prices_block.iloc[block_reward_2_days:block_reward_3_days, -1] = block_reward_3\n",
        "bitcoin_prices_block.iloc[block_reward_3_days:, -1] = block_reward_4\n",
        "bitcoin_prices_block.head()"
      ],
      "execution_count": 91,
      "outputs": [
        {
          "output_type": "execute_result",
          "data": {
            "text/html": [
              "<div>\n",
              "<style scoped>\n",
              "    .dataframe tbody tr th:only-of-type {\n",
              "        vertical-align: middle;\n",
              "    }\n",
              "\n",
              "    .dataframe tbody tr th {\n",
              "        vertical-align: top;\n",
              "    }\n",
              "\n",
              "    .dataframe thead th {\n",
              "        text-align: right;\n",
              "    }\n",
              "</style>\n",
              "<table border=\"1\" class=\"dataframe\">\n",
              "  <thead>\n",
              "    <tr style=\"text-align: right;\">\n",
              "      <th></th>\n",
              "      <th>Price</th>\n",
              "      <th>block_reward</th>\n",
              "    </tr>\n",
              "    <tr>\n",
              "      <th>Date</th>\n",
              "      <th></th>\n",
              "      <th></th>\n",
              "    </tr>\n",
              "  </thead>\n",
              "  <tbody>\n",
              "    <tr>\n",
              "      <th>2013-10-01</th>\n",
              "      <td>123.65499</td>\n",
              "      <td>25</td>\n",
              "    </tr>\n",
              "    <tr>\n",
              "      <th>2013-10-02</th>\n",
              "      <td>125.45500</td>\n",
              "      <td>25</td>\n",
              "    </tr>\n",
              "    <tr>\n",
              "      <th>2013-10-03</th>\n",
              "      <td>108.58483</td>\n",
              "      <td>25</td>\n",
              "    </tr>\n",
              "    <tr>\n",
              "      <th>2013-10-04</th>\n",
              "      <td>118.67466</td>\n",
              "      <td>25</td>\n",
              "    </tr>\n",
              "    <tr>\n",
              "      <th>2013-10-05</th>\n",
              "      <td>121.33866</td>\n",
              "      <td>25</td>\n",
              "    </tr>\n",
              "  </tbody>\n",
              "</table>\n",
              "</div>"
            ],
            "text/plain": [
              "                Price block_reward\n",
              "Date                              \n",
              "2013-10-01  123.65499           25\n",
              "2013-10-02  125.45500           25\n",
              "2013-10-03  108.58483           25\n",
              "2013-10-04  118.67466           25\n",
              "2013-10-05  121.33866           25"
            ]
          },
          "metadata": {
            "tags": []
          },
          "execution_count": 91
        }
      ]
    },
    {
      "cell_type": "code",
      "metadata": {
        "colab": {
          "base_uri": "https://localhost:8080/",
          "height": 442
        },
        "id": "Tfh8dmtF46Lf",
        "outputId": "afa2bb3e-c57f-4dba-978f-48aead669c20"
      },
      "source": [
        "# Plot the block reward/price over time\n",
        "from sklearn.preprocessing import minmax_scale\n",
        "scaled_price_block_df = pd.DataFrame(minmax_scale(bitcoin_prices_block[[\"Price\", \"block_reward\"]]), # we need to scale the data first\n",
        "                                     columns=bitcoin_prices_block.columns,\n",
        "                                     index=bitcoin_prices_block.index)\n",
        "scaled_price_block_df.plot(figsize=(10, 7));"
      ],
      "execution_count": 92,
      "outputs": [
        {
          "output_type": "display_data",
          "data": {
            "image/png": "[encoded data removed]",
            "text/plain": [
              "<Figure size 720x504 with 1 Axes>"
            ]
          },
          "metadata": {
            "tags": [],
            "needs_background": "light"
          }
        }
      ]
    },
    {
      "cell_type": "markdown",
      "metadata": {
        "id": "V-lSjFE-4_qq"
      },
      "source": [
        "When we scale the block reward and the Bitcoin price, we can see the price goes up as the block reward goes down, perhaps this information will be helpful to our model's performance."
      ]
    },
    {
      "cell_type": "markdown",
      "metadata": {
        "id": "7m0h2WcP5Ko8"
      },
      "source": [
        "### TODO: Making a windowed dataset with pandas\n",
        "\n",
        "TK - explain this\n",
        "\n",
        "Let's make a windowed dataset with pandas."
      ]
    },
    {
      "cell_type": "code",
      "metadata": {
        "id": "8_9iFxKS8Sed"
      },
      "source": [
        "HORIZON = 1\n",
        "WINDOW_SIZE = 7"
      ],
      "execution_count": 93,
      "outputs": []
    },
    {
      "cell_type": "code",
      "metadata": {
        "colab": {
          "base_uri": "https://localhost:8080/",
          "height": 235
        },
        "id": "DqPp3HdHsXO8",
        "outputId": "204711b2-bb73-413e-a396-990b764a9302"
      },
      "source": [
        "# Add windowed columns\n",
        "bitcoin_prices_windowed = bitcoin_prices_block.copy()\n",
        "for i in range(WINDOW_SIZE):\n",
        "  bitcoin_prices_windowed[f\"Price+{i+1}\"] = bitcoin_prices_windowed[\"Price\"].shift(i+1)\n",
        "bitcoin_prices_windowed.head()"
      ],
      "execution_count": 94,
      "outputs": [
        {
          "output_type": "execute_result",
          "data": {
            "text/html": [
              "<div>\n",
              "<style scoped>\n",
              "    .dataframe tbody tr th:only-of-type {\n",
              "        vertical-align: middle;\n",
              "    }\n",
              "\n",
              "    .dataframe tbody tr th {\n",
              "        vertical-align: top;\n",
              "    }\n",
              "\n",
              "    .dataframe thead th {\n",
              "        text-align: right;\n",
              "    }\n",
              "</style>\n",
              "<table border=\"1\" class=\"dataframe\">\n",
              "  <thead>\n",
              "    <tr style=\"text-align: right;\">\n",
              "      <th></th>\n",
              "      <th>Price</th>\n",
              "      <th>block_reward</th>\n",
              "      <th>Price+1</th>\n",
              "      <th>Price+2</th>\n",
              "      <th>Price+3</th>\n",
              "      <th>Price+4</th>\n",
              "      <th>Price+5</th>\n",
              "      <th>Price+6</th>\n",
              "      <th>Price+7</th>\n",
              "    </tr>\n",
              "    <tr>\n",
              "      <th>Date</th>\n",
              "      <th></th>\n",
              "      <th></th>\n",
              "      <th></th>\n",
              "      <th></th>\n",
              "      <th></th>\n",
              "      <th></th>\n",
              "      <th></th>\n",
              "      <th></th>\n",
              "      <th></th>\n",
              "    </tr>\n",
              "  </thead>\n",
              "  <tbody>\n",
              "    <tr>\n",
              "      <th>2013-10-01</th>\n",
              "      <td>123.65499</td>\n",
              "      <td>25</td>\n",
              "      <td>NaN</td>\n",
              "      <td>NaN</td>\n",
              "      <td>NaN</td>\n",
              "      <td>NaN</td>\n",
              "      <td>NaN</td>\n",
              "      <td>NaN</td>\n",
              "      <td>NaN</td>\n",
              "    </tr>\n",
              "    <tr>\n",
              "      <th>2013-10-02</th>\n",
              "      <td>125.45500</td>\n",
              "      <td>25</td>\n",
              "      <td>123.65499</td>\n",
              "      <td>NaN</td>\n",
              "      <td>NaN</td>\n",
              "      <td>NaN</td>\n",
              "      <td>NaN</td>\n",
              "      <td>NaN</td>\n",
              "      <td>NaN</td>\n",
              "    </tr>\n",
              "    <tr>\n",
              "      <th>2013-10-03</th>\n",
              "      <td>108.58483</td>\n",
              "      <td>25</td>\n",
              "      <td>125.45500</td>\n",
              "      <td>123.65499</td>\n",
              "      <td>NaN</td>\n",
              "      <td>NaN</td>\n",
              "      <td>NaN</td>\n",
              "      <td>NaN</td>\n",
              "      <td>NaN</td>\n",
              "    </tr>\n",
              "    <tr>\n",
              "      <th>2013-10-04</th>\n",
              "      <td>118.67466</td>\n",
              "      <td>25</td>\n",
              "      <td>108.58483</td>\n",
              "      <td>125.45500</td>\n",
              "      <td>123.65499</td>\n",
              "      <td>NaN</td>\n",
              "      <td>NaN</td>\n",
              "      <td>NaN</td>\n",
              "      <td>NaN</td>\n",
              "    </tr>\n",
              "    <tr>\n",
              "      <th>2013-10-05</th>\n",
              "      <td>121.33866</td>\n",
              "      <td>25</td>\n",
              "      <td>118.67466</td>\n",
              "      <td>108.58483</td>\n",
              "      <td>125.45500</td>\n",
              "      <td>123.65499</td>\n",
              "      <td>NaN</td>\n",
              "      <td>NaN</td>\n",
              "      <td>NaN</td>\n",
              "    </tr>\n",
              "  </tbody>\n",
              "</table>\n",
              "</div>"
            ],
            "text/plain": [
              "                Price block_reward    Price+1  ...  Price+5  Price+6  Price+7\n",
              "Date                                           ...                           \n",
              "2013-10-01  123.65499           25        NaN  ...      NaN      NaN      NaN\n",
              "2013-10-02  125.45500           25  123.65499  ...      NaN      NaN      NaN\n",
              "2013-10-03  108.58483           25  125.45500  ...      NaN      NaN      NaN\n",
              "2013-10-04  118.67466           25  108.58483  ...      NaN      NaN      NaN\n",
              "2013-10-05  121.33866           25  118.67466  ...      NaN      NaN      NaN\n",
              "\n",
              "[5 rows x 9 columns]"
            ]
          },
          "metadata": {
            "tags": []
          },
          "execution_count": 94
        }
      ]
    },
    {
      "cell_type": "markdown",
      "metadata": {
        "id": "dVN20lqn6b_Y"
      },
      "source": [
        "Now that we've got a windowed dataset, let's separate features (`X`) from labels (`y`).\n",
        "\n",
        "Remember in our windowed dataset, we're trying to use the previous `WINDOW_SIZE` steps to predict `HORIZON` steps.\n",
        "\n",
        "```\n",
        "# Window for a week (7) to predict a horizon of 1 (multivariate time series)\n",
        "WINDOW_SIZE -> HORIZON\n",
        "[0, 1, 2, 3, 4, 5, 6, block_reward] -> [7]\n",
        "[1, 2, 3, 4, 5, 6, 7, block_reward] -> [8]\n",
        "[2, 3, 4, 5, 6, 7, 8, block_reward] -> [9]\n",
        "```\n",
        "\n",
        "We'll also remove the `NaN` values using pandas `dropna()` method, this equivalent to starting our windowing function at `sample 0 (the first sample) + WINDOW_SIZE`."
      ]
    },
    {
      "cell_type": "code",
      "metadata": {
        "colab": {
          "base_uri": "https://localhost:8080/",
          "height": 235
        },
        "id": "VpMH6_Dax2wJ",
        "outputId": "5e7884be-503c-47a1-b42c-8ddd48a053e7"
      },
      "source": [
        "# Let's create X & y, remove the NaN's and convert to float32 to prevent TensorFlow errors \n",
        "X = bitcoin_prices_windowed.dropna().drop(\"Price\", axis=1).astype(np.float32) \n",
        "y = bitcoin_prices_windowed.dropna()[\"Price\"].astype(np.float32)\n",
        "X.head()"
      ],
      "execution_count": 95,
      "outputs": [
        {
          "output_type": "execute_result",
          "data": {
            "text/html": [
              "<div>\n",
              "<style scoped>\n",
              "    .dataframe tbody tr th:only-of-type {\n",
              "        vertical-align: middle;\n",
              "    }\n",
              "\n",
              "    .dataframe tbody tr th {\n",
              "        vertical-align: top;\n",
              "    }\n",
              "\n",
              "    .dataframe thead th {\n",
              "        text-align: right;\n",
              "    }\n",
              "</style>\n",
              "<table border=\"1\" class=\"dataframe\">\n",
              "  <thead>\n",
              "    <tr style=\"text-align: right;\">\n",
              "      <th></th>\n",
              "      <th>block_reward</th>\n",
              "      <th>Price+1</th>\n",
              "      <th>Price+2</th>\n",
              "      <th>Price+3</th>\n",
              "      <th>Price+4</th>\n",
              "      <th>Price+5</th>\n",
              "      <th>Price+6</th>\n",
              "      <th>Price+7</th>\n",
              "    </tr>\n",
              "    <tr>\n",
              "      <th>Date</th>\n",
              "      <th></th>\n",
              "      <th></th>\n",
              "      <th></th>\n",
              "      <th></th>\n",
              "      <th></th>\n",
              "      <th></th>\n",
              "      <th></th>\n",
              "      <th></th>\n",
              "    </tr>\n",
              "  </thead>\n",
              "  <tbody>\n",
              "    <tr>\n",
              "      <th>2013-10-08</th>\n",
              "      <td>25.0</td>\n",
              "      <td>121.794998</td>\n",
              "      <td>120.655327</td>\n",
              "      <td>121.338661</td>\n",
              "      <td>118.674660</td>\n",
              "      <td>108.584831</td>\n",
              "      <td>125.455002</td>\n",
              "      <td>123.654991</td>\n",
              "    </tr>\n",
              "    <tr>\n",
              "      <th>2013-10-09</th>\n",
              "      <td>25.0</td>\n",
              "      <td>123.032997</td>\n",
              "      <td>121.794998</td>\n",
              "      <td>120.655327</td>\n",
              "      <td>121.338661</td>\n",
              "      <td>118.674660</td>\n",
              "      <td>108.584831</td>\n",
              "      <td>125.455002</td>\n",
              "    </tr>\n",
              "    <tr>\n",
              "      <th>2013-10-10</th>\n",
              "      <td>25.0</td>\n",
              "      <td>124.049004</td>\n",
              "      <td>123.032997</td>\n",
              "      <td>121.794998</td>\n",
              "      <td>120.655327</td>\n",
              "      <td>121.338661</td>\n",
              "      <td>118.674660</td>\n",
              "      <td>108.584831</td>\n",
              "    </tr>\n",
              "    <tr>\n",
              "      <th>2013-10-11</th>\n",
              "      <td>25.0</td>\n",
              "      <td>125.961159</td>\n",
              "      <td>124.049004</td>\n",
              "      <td>123.032997</td>\n",
              "      <td>121.794998</td>\n",
              "      <td>120.655327</td>\n",
              "      <td>121.338661</td>\n",
              "      <td>118.674660</td>\n",
              "    </tr>\n",
              "    <tr>\n",
              "      <th>2013-10-12</th>\n",
              "      <td>25.0</td>\n",
              "      <td>125.279663</td>\n",
              "      <td>125.961159</td>\n",
              "      <td>124.049004</td>\n",
              "      <td>123.032997</td>\n",
              "      <td>121.794998</td>\n",
              "      <td>120.655327</td>\n",
              "      <td>121.338661</td>\n",
              "    </tr>\n",
              "  </tbody>\n",
              "</table>\n",
              "</div>"
            ],
            "text/plain": [
              "            block_reward     Price+1  ...     Price+6     Price+7\n",
              "Date                                  ...                        \n",
              "2013-10-08          25.0  121.794998  ...  125.455002  123.654991\n",
              "2013-10-09          25.0  123.032997  ...  108.584831  125.455002\n",
              "2013-10-10          25.0  124.049004  ...  118.674660  108.584831\n",
              "2013-10-11          25.0  125.961159  ...  121.338661  118.674660\n",
              "2013-10-12          25.0  125.279663  ...  120.655327  121.338661\n",
              "\n",
              "[5 rows x 8 columns]"
            ]
          },
          "metadata": {
            "tags": []
          },
          "execution_count": 95
        }
      ]
    },
    {
      "cell_type": "markdown",
      "metadata": {
        "id": "ECzmudIK8BW5"
      },
      "source": [
        "What a good looking dataset, let's split it into train and test sets."
      ]
    },
    {
      "cell_type": "code",
      "metadata": {
        "colab": {
          "base_uri": "https://localhost:8080/"
        },
        "id": "8GtEFj6HsVwy",
        "outputId": "5d6db661-bac4-4a60-e7e9-b23a9b34ecba"
      },
      "source": [
        "# Make train and test sets\n",
        "split_size = int(len(X) * 0.8)\n",
        "X_train, y_train = X[:split_size], y[:split_size]\n",
        "X_test, y_test = X[split_size:], y[split_size:]\n",
        "len(X_train), len(y_train), len(X_test), len(y_test)"
      ],
      "execution_count": 96,
      "outputs": [
        {
          "output_type": "execute_result",
          "data": {
            "text/plain": [
              "(2224, 2224, 556, 556)"
            ]
          },
          "metadata": {
            "tags": []
          },
          "execution_count": 96
        }
      ]
    },
    {
      "cell_type": "code",
      "metadata": {
        "colab": {
          "base_uri": "https://localhost:8080/",
          "height": 235
        },
        "id": "cUZ6Aidz8EJY",
        "outputId": "83f2f230-dff2-4858-df06-cb16a965a605"
      },
      "source": [
        "X_train.head()"
      ],
      "execution_count": 97,
      "outputs": [
        {
          "output_type": "execute_result",
          "data": {
            "text/html": [
              "<div>\n",
              "<style scoped>\n",
              "    .dataframe tbody tr th:only-of-type {\n",
              "        vertical-align: middle;\n",
              "    }\n",
              "\n",
              "    .dataframe tbody tr th {\n",
              "        vertical-align: top;\n",
              "    }\n",
              "\n",
              "    .dataframe thead th {\n",
              "        text-align: right;\n",
              "    }\n",
              "</style>\n",
              "<table border=\"1\" class=\"dataframe\">\n",
              "  <thead>\n",
              "    <tr style=\"text-align: right;\">\n",
              "      <th></th>\n",
              "      <th>block_reward</th>\n",
              "      <th>Price+1</th>\n",
              "      <th>Price+2</th>\n",
              "      <th>Price+3</th>\n",
              "      <th>Price+4</th>\n",
              "      <th>Price+5</th>\n",
              "      <th>Price+6</th>\n",
              "      <th>Price+7</th>\n",
              "    </tr>\n",
              "    <tr>\n",
              "      <th>Date</th>\n",
              "      <th></th>\n",
              "      <th></th>\n",
              "      <th></th>\n",
              "      <th></th>\n",
              "      <th></th>\n",
              "      <th></th>\n",
              "      <th></th>\n",
              "      <th></th>\n",
              "    </tr>\n",
              "  </thead>\n",
              "  <tbody>\n",
              "    <tr>\n",
              "      <th>2013-10-08</th>\n",
              "      <td>25.0</td>\n",
              "      <td>121.794998</td>\n",
              "      <td>120.655327</td>\n",
              "      <td>121.338661</td>\n",
              "      <td>118.674660</td>\n",
              "      <td>108.584831</td>\n",
              "      <td>125.455002</td>\n",
              "      <td>123.654991</td>\n",
              "    </tr>\n",
              "    <tr>\n",
              "      <th>2013-10-09</th>\n",
              "      <td>25.0</td>\n",
              "      <td>123.032997</td>\n",
              "      <td>121.794998</td>\n",
              "      <td>120.655327</td>\n",
              "      <td>121.338661</td>\n",
              "      <td>118.674660</td>\n",
              "      <td>108.584831</td>\n",
              "      <td>125.455002</td>\n",
              "    </tr>\n",
              "    <tr>\n",
              "      <th>2013-10-10</th>\n",
              "      <td>25.0</td>\n",
              "      <td>124.049004</td>\n",
              "      <td>123.032997</td>\n",
              "      <td>121.794998</td>\n",
              "      <td>120.655327</td>\n",
              "      <td>121.338661</td>\n",
              "      <td>118.674660</td>\n",
              "      <td>108.584831</td>\n",
              "    </tr>\n",
              "    <tr>\n",
              "      <th>2013-10-11</th>\n",
              "      <td>25.0</td>\n",
              "      <td>125.961159</td>\n",
              "      <td>124.049004</td>\n",
              "      <td>123.032997</td>\n",
              "      <td>121.794998</td>\n",
              "      <td>120.655327</td>\n",
              "      <td>121.338661</td>\n",
              "      <td>118.674660</td>\n",
              "    </tr>\n",
              "    <tr>\n",
              "      <th>2013-10-12</th>\n",
              "      <td>25.0</td>\n",
              "      <td>125.279663</td>\n",
              "      <td>125.961159</td>\n",
              "      <td>124.049004</td>\n",
              "      <td>123.032997</td>\n",
              "      <td>121.794998</td>\n",
              "      <td>120.655327</td>\n",
              "      <td>121.338661</td>\n",
              "    </tr>\n",
              "  </tbody>\n",
              "</table>\n",
              "</div>"
            ],
            "text/plain": [
              "            block_reward     Price+1  ...     Price+6     Price+7\n",
              "Date                                  ...                        \n",
              "2013-10-08          25.0  121.794998  ...  125.455002  123.654991\n",
              "2013-10-09          25.0  123.032997  ...  108.584831  125.455002\n",
              "2013-10-10          25.0  124.049004  ...  118.674660  108.584831\n",
              "2013-10-11          25.0  125.961159  ...  121.338661  118.674660\n",
              "2013-10-12          25.0  125.279663  ...  120.655327  121.338661\n",
              "\n",
              "[5 rows x 8 columns]"
            ]
          },
          "metadata": {
            "tags": []
          },
          "execution_count": 97
        }
      ]
    },
    {
      "cell_type": "markdown",
      "metadata": {
        "id": "APXrtOva8cNH"
      },
      "source": [
        "### Model 6: Dense (multivariate time series)\n",
        "\n",
        "Since `model_1` has performed the best so far, let's replicate its architecture and use it to train and make predictions on our multivariate time series data."
      ]
    },
    {
      "cell_type": "code",
      "metadata": {
        "colab": {
          "base_uri": "https://localhost:8080/"
        },
        "id": "AppTkPafzVyg",
        "outputId": "49a1b568-cb3d-407c-b283-badb0acc49ee"
      },
      "source": [
        "tf.random.set_seed(42)\n",
        "\n",
        "# Make multivariate time series model\n",
        "model_6 = tf.keras.Sequential([\n",
        "  layers.Dense(128, activation=\"relu\"),\n",
        "  # layers.Dense(128, activation=\"relu\"), # adding an extra layer here should lead to beating the Naive model\n",
        "  layers.Dense(HORIZON)\n",
        "], name=\"model_6_dense_multivariate\")\n",
        "\n",
        "# Compile\n",
        "model_6.compile(loss=\"mae\",\n",
        "                optimizer=tf.keras.optimizers.Adam())\n",
        "\n",
        "# Fit\n",
        "model_6.fit(X_train, y_train,\n",
        "            epochs=100,\n",
        "            batch_size=32,\n",
        "            verbose=2, # only print 1 line per epoch\n",
        "            validation_data=(X_test, y_test),\n",
        "            callbacks=[create_model_checkpoint(model_name=model_6.name)])"
      ],
      "execution_count": 98,
      "outputs": [
        {
          "output_type": "stream",
          "text": [
            "Epoch 1/100\n",
            "70/70 - 0s - loss: 524.0231 - val_loss: 1194.4154\n",
            "INFO:tensorflow:Assets written to: model_experiments/model_6_dense_multivariate/assets\n",
            "Epoch 2/100\n",
            "70/70 - 0s - loss: 189.9447 - val_loss: 957.4072\n",
            "INFO:tensorflow:Assets written to: model_experiments/model_6_dense_multivariate/assets\n",
            "Epoch 3/100\n",
            "70/70 - 0s - loss: 169.2797 - val_loss: 888.6912\n",
            "INFO:tensorflow:Assets written to: model_experiments/model_6_dense_multivariate/assets\n",
            "Epoch 4/100\n",
            "70/70 - 0s - loss: 155.6410 - val_loss: 839.4843\n",
            "INFO:tensorflow:Assets written to: model_experiments/model_6_dense_multivariate/assets\n",
            "Epoch 5/100\n",
            "70/70 - 0s - loss: 148.3778 - val_loss: 773.9180\n",
            "INFO:tensorflow:Assets written to: model_experiments/model_6_dense_multivariate/assets\n",
            "Epoch 6/100\n",
            "70/70 - 0s - loss: 137.3192 - val_loss: 748.4239\n",
            "INFO:tensorflow:Assets written to: model_experiments/model_6_dense_multivariate/assets\n",
            "Epoch 7/100\n",
            "70/70 - 0s - loss: 136.9815 - val_loss: 726.5155\n",
            "INFO:tensorflow:Assets written to: model_experiments/model_6_dense_multivariate/assets\n",
            "Epoch 8/100\n",
            "70/70 - 0s - loss: 134.0781 - val_loss: 652.7250\n",
            "INFO:tensorflow:Assets written to: model_experiments/model_6_dense_multivariate/assets\n",
            "Epoch 9/100\n",
            "70/70 - 0s - loss: 126.3960 - val_loss: 871.7208\n",
            "Epoch 10/100\n",
            "70/70 - 0s - loss: 129.2579 - val_loss: 623.6512\n",
            "INFO:tensorflow:Assets written to: model_experiments/model_6_dense_multivariate/assets\n",
            "Epoch 11/100\n",
            "70/70 - 0s - loss: 117.2186 - val_loss: 760.1041\n",
            "Epoch 12/100\n",
            "70/70 - 0s - loss: 118.4427 - val_loss: 616.1086\n",
            "INFO:tensorflow:Assets written to: model_experiments/model_6_dense_multivariate/assets\n",
            "Epoch 13/100\n",
            "70/70 - 0s - loss: 116.7401 - val_loss: 597.4645\n",
            "INFO:tensorflow:Assets written to: model_experiments/model_6_dense_multivariate/assets\n",
            "Epoch 14/100\n",
            "70/70 - 0s - loss: 124.6736 - val_loss: 1146.4880\n",
            "Epoch 15/100\n",
            "70/70 - 0s - loss: 130.5712 - val_loss: 596.6863\n",
            "INFO:tensorflow:Assets written to: model_experiments/model_6_dense_multivariate/assets\n",
            "Epoch 16/100\n",
            "70/70 - 0s - loss: 112.9210 - val_loss: 652.1058\n",
            "Epoch 17/100\n",
            "70/70 - 0s - loss: 116.9681 - val_loss: 607.8494\n",
            "Epoch 18/100\n",
            "70/70 - 0s - loss: 126.4559 - val_loss: 604.9203\n",
            "Epoch 19/100\n",
            "70/70 - 0s - loss: 115.1039 - val_loss: 644.0861\n",
            "Epoch 20/100\n",
            "70/70 - 0s - loss: 113.2095 - val_loss: 769.8733\n",
            "Epoch 21/100\n",
            "70/70 - 0s - loss: 112.3280 - val_loss: 581.5416\n",
            "INFO:tensorflow:Assets written to: model_experiments/model_6_dense_multivariate/assets\n",
            "Epoch 22/100\n",
            "70/70 - 0s - loss: 111.5075 - val_loss: 620.2291\n",
            "Epoch 23/100\n",
            "70/70 - 0s - loss: 121.5376 - val_loss: 578.9070\n",
            "INFO:tensorflow:Assets written to: model_experiments/model_6_dense_multivariate/assets\n",
            "Epoch 24/100\n",
            "70/70 - 0s - loss: 112.1874 - val_loss: 596.2141\n",
            "Epoch 25/100\n",
            "70/70 - 0s - loss: 111.5637 - val_loss: 686.6594\n",
            "Epoch 26/100\n",
            "70/70 - 0s - loss: 122.7832 - val_loss: 591.2767\n",
            "Epoch 27/100\n",
            "70/70 - 0s - loss: 112.0953 - val_loss: 829.0375\n",
            "Epoch 28/100\n",
            "70/70 - 0s - loss: 116.1852 - val_loss: 592.9684\n",
            "Epoch 29/100\n",
            "70/70 - 0s - loss: 113.9594 - val_loss: 581.0530\n",
            "Epoch 30/100\n",
            "70/70 - 0s - loss: 111.3457 - val_loss: 588.0147\n",
            "Epoch 31/100\n",
            "70/70 - 0s - loss: 110.5759 - val_loss: 752.4336\n",
            "Epoch 32/100\n",
            "70/70 - 0s - loss: 113.1115 - val_loss: 574.5891\n",
            "INFO:tensorflow:Assets written to: model_experiments/model_6_dense_multivariate/assets\n",
            "Epoch 33/100\n",
            "70/70 - 0s - loss: 116.9935 - val_loss: 586.1995\n",
            "Epoch 34/100\n",
            "70/70 - 0s - loss: 118.4227 - val_loss: 578.8988\n",
            "Epoch 35/100\n",
            "70/70 - 0s - loss: 107.3523 - val_loss: 573.8674\n",
            "INFO:tensorflow:Assets written to: model_experiments/model_6_dense_multivariate/assets\n",
            "Epoch 36/100\n",
            "70/70 - 0s - loss: 107.3838 - val_loss: 683.2790\n",
            "Epoch 37/100\n",
            "70/70 - 0s - loss: 112.8967 - val_loss: 599.9301\n",
            "Epoch 38/100\n",
            "70/70 - 0s - loss: 121.7864 - val_loss: 655.2667\n",
            "Epoch 39/100\n",
            "70/70 - 0s - loss: 112.0571 - val_loss: 577.8221\n",
            "Epoch 40/100\n",
            "70/70 - 0s - loss: 114.1507 - val_loss: 655.4401\n",
            "Epoch 41/100\n",
            "70/70 - 0s - loss: 111.1498 - val_loss: 791.7355\n",
            "Epoch 42/100\n",
            "70/70 - 0s - loss: 110.6216 - val_loss: 629.8572\n",
            "Epoch 43/100\n",
            "70/70 - 0s - loss: 110.2741 - val_loss: 638.5098\n",
            "Epoch 44/100\n",
            "70/70 - 0s - loss: 118.1998 - val_loss: 1160.8284\n",
            "Epoch 45/100\n",
            "70/70 - 0s - loss: 121.9434 - val_loss: 583.0708\n",
            "Epoch 46/100\n",
            "70/70 - 0s - loss: 123.4893 - val_loss: 574.2756\n",
            "Epoch 47/100\n",
            "70/70 - 0s - loss: 110.1572 - val_loss: 686.8680\n",
            "Epoch 48/100\n",
            "70/70 - 0s - loss: 125.2326 - val_loss: 678.6088\n",
            "Epoch 49/100\n",
            "70/70 - 0s - loss: 112.4059 - val_loss: 621.2859\n",
            "Epoch 50/100\n",
            "70/70 - 0s - loss: 111.0821 - val_loss: 576.1321\n",
            "Epoch 51/100\n",
            "70/70 - 0s - loss: 113.1272 - val_loss: 610.8566\n",
            "Epoch 52/100\n",
            "70/70 - 0s - loss: 117.2973 - val_loss: 733.4680\n",
            "Epoch 53/100\n",
            "70/70 - 0s - loss: 113.9617 - val_loss: 631.9250\n",
            "Epoch 54/100\n",
            "70/70 - 0s - loss: 109.6996 - val_loss: 589.3685\n",
            "Epoch 55/100\n",
            "70/70 - 0s - loss: 108.7278 - val_loss: 588.0315\n",
            "Epoch 56/100\n",
            "70/70 - 0s - loss: 106.8619 - val_loss: 580.2131\n",
            "Epoch 57/100\n",
            "70/70 - 0s - loss: 107.7806 - val_loss: 592.4637\n",
            "Epoch 58/100\n",
            "70/70 - 0s - loss: 112.0428 - val_loss: 571.8660\n",
            "INFO:tensorflow:Assets written to: model_experiments/model_6_dense_multivariate/assets\n",
            "Epoch 59/100\n",
            "70/70 - 0s - loss: 111.6463 - val_loss: 574.8122\n",
            "Epoch 60/100\n",
            "70/70 - 0s - loss: 108.0022 - val_loss: 612.3742\n",
            "Epoch 61/100\n",
            "70/70 - 0s - loss: 109.3471 - val_loss: 637.9321\n",
            "Epoch 62/100\n",
            "70/70 - 0s - loss: 109.0372 - val_loss: 567.8151\n",
            "INFO:tensorflow:Assets written to: model_experiments/model_6_dense_multivariate/assets\n",
            "Epoch 63/100\n",
            "70/70 - 0s - loss: 110.1633 - val_loss: 570.7405\n",
            "Epoch 64/100\n",
            "70/70 - 0s - loss: 114.8357 - val_loss: 664.0468\n",
            "Epoch 65/100\n",
            "70/70 - 0s - loss: 111.0158 - val_loss: 620.5127\n",
            "Epoch 66/100\n",
            "70/70 - 0s - loss: 108.1815 - val_loss: 567.4014\n",
            "INFO:tensorflow:Assets written to: model_experiments/model_6_dense_multivariate/assets\n",
            "Epoch 67/100\n",
            "70/70 - 0s - loss: 108.0890 - val_loss: 575.6861\n",
            "Epoch 68/100\n",
            "70/70 - 0s - loss: 109.7559 - val_loss: 570.5345\n",
            "Epoch 69/100\n",
            "70/70 - 0s - loss: 110.6568 - val_loss: 636.6310\n",
            "Epoch 70/100\n",
            "70/70 - 0s - loss: 113.2273 - val_loss: 587.7322\n",
            "Epoch 71/100\n",
            "70/70 - 0s - loss: 108.8349 - val_loss: 570.0185\n",
            "Epoch 72/100\n",
            "70/70 - 0s - loss: 109.9382 - val_loss: 575.5114\n",
            "Epoch 73/100\n",
            "70/70 - 0s - loss: 109.9709 - val_loss: 742.6679\n",
            "Epoch 74/100\n",
            "70/70 - 0s - loss: 117.5597 - val_loss: 580.7930\n",
            "Epoch 75/100\n",
            "70/70 - 0s - loss: 107.2240 - val_loss: 714.6134\n",
            "Epoch 76/100\n",
            "70/70 - 0s - loss: 108.1189 - val_loss: 589.6871\n",
            "Epoch 77/100\n",
            "70/70 - 0s - loss: 110.6921 - val_loss: 646.9116\n",
            "Epoch 78/100\n",
            "70/70 - 0s - loss: 109.0430 - val_loss: 578.1762\n",
            "Epoch 79/100\n",
            "70/70 - 0s - loss: 120.1514 - val_loss: 673.5074\n",
            "Epoch 80/100\n",
            "70/70 - 0s - loss: 110.2101 - val_loss: 568.6920\n",
            "Epoch 81/100\n",
            "70/70 - 0s - loss: 108.0934 - val_loss: 594.4876\n",
            "Epoch 82/100\n",
            "70/70 - 0s - loss: 109.9421 - val_loss: 617.5588\n",
            "Epoch 83/100\n",
            "70/70 - 0s - loss: 109.7814 - val_loss: 567.0604\n",
            "INFO:tensorflow:Assets written to: model_experiments/model_6_dense_multivariate/assets\n",
            "Epoch 84/100\n",
            "70/70 - 0s - loss: 109.7796 - val_loss: 584.8882\n",
            "Epoch 85/100\n",
            "70/70 - 0s - loss: 108.7515 - val_loss: 576.8705\n",
            "Epoch 86/100\n",
            "70/70 - 0s - loss: 121.0389 - val_loss: 630.8180\n",
            "Epoch 87/100\n",
            "70/70 - 0s - loss: 109.7140 - val_loss: 570.8603\n",
            "Epoch 88/100\n",
            "70/70 - 0s - loss: 113.8089 - val_loss: 568.3851\n",
            "Epoch 89/100\n",
            "70/70 - 0s - loss: 109.9771 - val_loss: 756.1666\n",
            "Epoch 90/100\n",
            "70/70 - 0s - loss: 110.3571 - val_loss: 568.2111\n",
            "Epoch 91/100\n",
            "70/70 - 0s - loss: 112.0724 - val_loss: 577.6592\n",
            "Epoch 92/100\n",
            "70/70 - 0s - loss: 106.2183 - val_loss: 640.1564\n",
            "Epoch 93/100\n",
            "70/70 - 0s - loss: 107.1008 - val_loss: 620.0152\n",
            "Epoch 94/100\n",
            "70/70 - 0s - loss: 108.6785 - val_loss: 571.4838\n",
            "Epoch 95/100\n",
            "70/70 - 0s - loss: 107.6451 - val_loss: 593.7469\n",
            "Epoch 96/100\n",
            "70/70 - 0s - loss: 109.6856 - val_loss: 569.9012\n",
            "Epoch 97/100\n",
            "70/70 - 0s - loss: 113.6463 - val_loss: 575.6082\n",
            "Epoch 98/100\n",
            "70/70 - 0s - loss: 113.1103 - val_loss: 601.4756\n",
            "Epoch 99/100\n",
            "70/70 - 0s - loss: 110.3709 - val_loss: 643.2316\n",
            "Epoch 100/100\n",
            "70/70 - 0s - loss: 117.8831 - val_loss: 661.6105\n"
          ],
          "name": "stdout"
        },
        {
          "output_type": "execute_result",
          "data": {
            "text/plain": [
              "<tensorflow.python.keras.callbacks.History at 0x7f2246857890>"
            ]
          },
          "metadata": {
            "tags": []
          },
          "execution_count": 98
        }
      ]
    },
    {
      "cell_type": "code",
      "metadata": {
        "colab": {
          "base_uri": "https://localhost:8080/"
        },
        "id": "PCDHUobK1rvj",
        "outputId": "f1f00930-3bce-45fa-8b24-085c8204b07f"
      },
      "source": [
        "# Evalaute\n",
        "model_6.evaluate(X_test, y_test)"
      ],
      "execution_count": 99,
      "outputs": [
        {
          "output_type": "stream",
          "text": [
            "18/18 [==============================] - 0s 1ms/step - loss: 661.6105\n"
          ],
          "name": "stdout"
        },
        {
          "output_type": "execute_result",
          "data": {
            "text/plain": [
              "661.6105346679688"
            ]
          },
          "metadata": {
            "tags": []
          },
          "execution_count": 99
        }
      ]
    },
    {
      "cell_type": "code",
      "metadata": {
        "colab": {
          "base_uri": "https://localhost:8080/"
        },
        "id": "K1miRk_b3g97",
        "outputId": "3f8ca4eb-4926-4216-b810-5ab804585291"
      },
      "source": [
        "# Make sure best model is loaded and evaluate\n",
        "model_6 = tf.keras.models.load_model(\"model_experiments/model_6_dense_multivariate\")\n",
        "model_6.evaluate(X_test, y_test)"
      ],
      "execution_count": 100,
      "outputs": [
        {
          "output_type": "stream",
          "text": [
            "18/18 [==============================] - 0s 1ms/step - loss: 567.0604\n"
          ],
          "name": "stdout"
        },
        {
          "output_type": "execute_result",
          "data": {
            "text/plain": [
              "567.0604248046875"
            ]
          },
          "metadata": {
            "tags": []
          },
          "execution_count": 100
        }
      ]
    },
    {
      "cell_type": "code",
      "metadata": {
        "colab": {
          "base_uri": "https://localhost:8080/"
        },
        "id": "1t9d_Yyx17dE",
        "outputId": "ba6e2307-7894-474b-fafc-751fce239769"
      },
      "source": [
        "# Make predictions on multivariate data\n",
        "model_6_preds = tf.squeeze(model_6.predict(X_test))\n",
        "model_6_preds[:10]"
      ],
      "execution_count": 101,
      "outputs": [
        {
          "output_type": "execute_result",
          "data": {
            "text/plain": [
              "<tf.Tensor: shape=(10,), dtype=float32, numpy=\n",
              "array([8802.976, 8750.705, 9036.692, 8722.869, 8716.079, 8739.228,\n",
              "       8648.347, 8488.017, 8439.643, 8514.621], dtype=float32)>"
            ]
          },
          "metadata": {
            "tags": []
          },
          "execution_count": 101
        }
      ]
    },
    {
      "cell_type": "code",
      "metadata": {
        "colab": {
          "base_uri": "https://localhost:8080/"
        },
        "id": "MsMPgRO117aB",
        "outputId": "aa7d6dc9-42cf-410b-d0f2-a77feb1f7a44"
      },
      "source": [
        "# Evaluate preds\n",
        "model_6_results = evaluate_preds(y_true=y_test,\n",
        "                                 y_pred=model_6_preds)\n",
        "model_6_results"
      ],
      "execution_count": 102,
      "outputs": [
        {
          "output_type": "execute_result",
          "data": {
            "text/plain": [
              "{'mae': 567.0604,\n",
              " 'mape': 2.5321288,\n",
              " 'mase': 0.9961681,\n",
              " 'mse': 1154881.5,\n",
              " 'rmse': 1074.6542}"
            ]
          },
          "metadata": {
            "tags": []
          },
          "execution_count": 102
        }
      ]
    },
    {
      "cell_type": "markdown",
      "metadata": {
        "id": "ZUZ9QT1zC1oq"
      },
      "source": [
        "## TODO: Make TensorFlow windows\n"
      ]
    },
    {
      "cell_type": "code",
      "metadata": {
        "colab": {
          "base_uri": "https://localhost:8080/"
        },
        "id": "ZhmuOrueB2Sx",
        "outputId": "984dee39-af00-4bc4-d73b-acdd2f77c3b8"
      },
      "source": [
        "BATCH_SIZE = 32\n",
        "\n",
        "# Create TensorFlow datasets - from_tensor_slices is best when your data fits in memory: https://www.tensorflow.org/api_docs/python/tf/data/Dataset#from_tensor_slices\n",
        "train_features_dataset = tf.data.Dataset.from_tensor_slices(X_train)\n",
        "train_labels_dataset = tf.data.Dataset.from_tensor_slices(y_train)\n",
        "\n",
        "test_features_dataset = tf.data.Dataset.from_tensor_slices(X_test)\n",
        "test_labels_dataset = tf.data.Dataset.from_tensor_slices(y_test)\n",
        "\n",
        "# Combine labels & features\n",
        "train_dataset = tf.data.Dataset.zip((train_features_dataset, train_labels_dataset))\n",
        "test_dataset = tf.data.Dataset.zip((test_features_dataset, test_labels_dataset))\n",
        "\n",
        "# Batch and prefetch (to speed up training)\n",
        "train_dataset = train_dataset.batch(BATCH_SIZE).prefetch(tf.data.AUTOTUNE) # increasing the batch size should speed up training\n",
        "test_dataset = test_dataset.batch(BATCH_SIZE).prefetch(tf.data.AUTOTUNE)\n",
        "\n",
        "train_dataset, test_dataset"
      ],
      "execution_count": 103,
      "outputs": [
        {
          "output_type": "execute_result",
          "data": {
            "text/plain": [
              "(<PrefetchDataset shapes: ((None, 8), (None,)), types: (tf.float32, tf.float32)>,\n",
              " <PrefetchDataset shapes: ((None, 8), (None,)), types: (tf.float32, tf.float32)>)"
            ]
          },
          "metadata": {
            "tags": []
          },
          "execution_count": 103
        }
      ]
    },
    {
      "cell_type": "markdown",
      "metadata": {
        "id": "6jSuJjxFOXuo"
      },
      "source": [
        "## TODO: Model 7: Dense (TensorFlow Windowed dataset)"
      ]
    },
    {
      "cell_type": "code",
      "metadata": {
        "colab": {
          "base_uri": "https://localhost:8080/"
        },
        "id": "FkzhbeXAFX3e",
        "outputId": "0b1b67e0-9cc3-40c8-f611-a6bef8bc6035"
      },
      "source": [
        "tf.random.set_seed(42)\n",
        "\n",
        "# Fit a model to the TensorFlow datasets\n",
        "inputs = layers.Input(shape=(WINDOW_SIZE+1)) # add an extra dimension for the extra feature (block_reward)\n",
        "x = layers.Dense(128, activation=\"relu\")(inputs)\n",
        "output = layers.Dense(HORIZON)(x)\n",
        "model_7 = tf.keras.Model(inputs=inputs, outputs=output, name=\"model_7_TF_windows_with_block_reward\")\n",
        "\n",
        "# Compile\n",
        "model_7.compile(loss=\"mae\",\n",
        "                optimizer=tf.keras.optimizers.Adam())\n",
        "\n",
        "# Fit\n",
        "model_7.fit(train_dataset,\n",
        "            epochs=500,\n",
        "            verbose=0,\n",
        "            validation_data=test_dataset,\n",
        "            callbacks=[create_model_checkpoint(model_name=model_7.name)])\n",
        "\n",
        "# Evaluate\n",
        "model_7.evaluate(test_dataset)"
      ],
      "execution_count": 104,
      "outputs": [
        {
          "output_type": "stream",
          "text": [
            "INFO:tensorflow:Assets written to: model_experiments/model_7_TF_windows_with_block_reward/assets\n",
            "INFO:tensorflow:Assets written to: model_experiments/model_7_TF_windows_with_block_reward/assets\n",
            "INFO:tensorflow:Assets written to: model_experiments/model_7_TF_windows_with_block_reward/assets\n",
            "INFO:tensorflow:Assets written to: model_experiments/model_7_TF_windows_with_block_reward/assets\n",
            "INFO:tensorflow:Assets written to: model_experiments/model_7_TF_windows_with_block_reward/assets\n",
            "INFO:tensorflow:Assets written to: model_experiments/model_7_TF_windows_with_block_reward/assets\n",
            "INFO:tensorflow:Assets written to: model_experiments/model_7_TF_windows_with_block_reward/assets\n",
            "INFO:tensorflow:Assets written to: model_experiments/model_7_TF_windows_with_block_reward/assets\n",
            "INFO:tensorflow:Assets written to: model_experiments/model_7_TF_windows_with_block_reward/assets\n",
            "INFO:tensorflow:Assets written to: model_experiments/model_7_TF_windows_with_block_reward/assets\n",
            "INFO:tensorflow:Assets written to: model_experiments/model_7_TF_windows_with_block_reward/assets\n",
            "INFO:tensorflow:Assets written to: model_experiments/model_7_TF_windows_with_block_reward/assets\n",
            "INFO:tensorflow:Assets written to: model_experiments/model_7_TF_windows_with_block_reward/assets\n",
            "INFO:tensorflow:Assets written to: model_experiments/model_7_TF_windows_with_block_reward/assets\n",
            "INFO:tensorflow:Assets written to: model_experiments/model_7_TF_windows_with_block_reward/assets\n",
            "INFO:tensorflow:Assets written to: model_experiments/model_7_TF_windows_with_block_reward/assets\n",
            "INFO:tensorflow:Assets written to: model_experiments/model_7_TF_windows_with_block_reward/assets\n",
            "INFO:tensorflow:Assets written to: model_experiments/model_7_TF_windows_with_block_reward/assets\n",
            "INFO:tensorflow:Assets written to: model_experiments/model_7_TF_windows_with_block_reward/assets\n",
            "INFO:tensorflow:Assets written to: model_experiments/model_7_TF_windows_with_block_reward/assets\n",
            "INFO:tensorflow:Assets written to: model_experiments/model_7_TF_windows_with_block_reward/assets\n",
            "18/18 [==============================] - 0s 1ms/step - loss: 575.4096\n"
          ],
          "name": "stdout"
        },
        {
          "output_type": "execute_result",
          "data": {
            "text/plain": [
              "575.4096069335938"
            ]
          },
          "metadata": {
            "tags": []
          },
          "execution_count": 104
        }
      ]
    },
    {
      "cell_type": "code",
      "metadata": {
        "colab": {
          "base_uri": "https://localhost:8080/"
        },
        "id": "xouWMAWY5q3R",
        "outputId": "2020b185-0399-4298-e381-aed5aaf2aaf4"
      },
      "source": [
        "# Load back in best model\n",
        "model_7 = tf.keras.models.load_model(\"model_experiments/model_7_TF_windows_with_block_reward/\")\n",
        "model_7.evaluate(test_dataset)"
      ],
      "execution_count": 105,
      "outputs": [
        {
          "output_type": "stream",
          "text": [
            "18/18 [==============================] - 0s 1ms/step - loss: 565.2972\n"
          ],
          "name": "stdout"
        },
        {
          "output_type": "execute_result",
          "data": {
            "text/plain": [
              "565.2972412109375"
            ]
          },
          "metadata": {
            "tags": []
          },
          "execution_count": 105
        }
      ]
    },
    {
      "cell_type": "markdown",
      "metadata": {
        "id": "TPkzQccU-dtR"
      },
      "source": [
        "## TODO: Model 8: N-BEATs algorithm\n",
        "\n",
        "* Build model - Figure 1: https://arxiv.org/pdf/1905.10437.pdf\n",
        "* Hyperparameters for N-Beats paper are available in Appendix D\n",
        "* TODO: Does ensembling with different loss functions lead to some kind of pseudo uncertainty...?\n",
        "* “N-BEATS is implemented and trained in TensorFlow”"
      ]
    },
    {
      "cell_type": "code",
      "metadata": {
        "id": "llwhXCn9-hQt"
      },
      "source": [
        "# Create NBeatsBlock\n",
        "class NBeatsBlock(tf.keras.layers.Layer):\n",
        "  def __init__(self, \n",
        "               input_size: int,\n",
        "               theta_size: int,\n",
        "               horizon: int,\n",
        "               n_neurons: int,\n",
        "               n_layers: int,\n",
        "               **kwargs):\n",
        "    super().__init__(**kwargs)\n",
        "    self.input_size = input_size\n",
        "    self.theta_size = theta_size\n",
        "    self.horizon = horizon\n",
        "    self.n_neurons = n_neurons\n",
        "    self.n_layers = n_layers\n",
        "    self.hidden = [tf.keras.layers.Dense(n_neurons, activation=\"relu\") for _ in range(n_layers)]\n",
        "    self.theta_layer = tf.keras.layers.Dense(theta_size, activation=\"linear\", name=\"theta\")\n",
        "\n",
        "  def call(self, inputs):\n",
        "    x = inputs \n",
        "    for layer in self.hidden:\n",
        "      x = layer(x)\n",
        "    theta = self.theta_layer(x)\n",
        "    # TODO: are these the right dimensions?\n",
        "    backcast, forecast = theta[:, :self.input_size], theta[:, -self.horizon:]\n",
        "    return backcast, forecast"
      ],
      "execution_count": 106,
      "outputs": []
    },
    {
      "cell_type": "code",
      "metadata": {
        "id": "ne7XLO4gAGfm"
      },
      "source": [
        "# dummy_inputs = tf.expand_dims(tf.range(7) + 1, axis=0)\n",
        "# dummy_inputs"
      ],
      "execution_count": 107,
      "outputs": []
    },
    {
      "cell_type": "code",
      "metadata": {
        "id": "DtAT8Onk-hX_"
      },
      "source": [
        "# nbeats_block_layer(dummy_inputs)"
      ],
      "execution_count": 108,
      "outputs": []
    },
    {
      "cell_type": "code",
      "metadata": {
        "id": "iZ_BEvNB--8J",
        "colab": {
          "base_uri": "https://localhost:8080/"
        },
        "outputId": "9513f2b0-68cc-4000-b392-547c117c619a"
      },
      "source": [
        "# Demo the subtract layer...\n",
        "X1 = tf.range(10) + 10\n",
        "X2 = tf.range(10)\n",
        "input_1 = layers.Input(shape=(10))\n",
        "input_2 = layers.Input(shape=(10))\n",
        "subtract_layer = layers.subtract([input_1, input_2])\n",
        "subtract_model = tf.keras.Model(inputs=[input_1, input_2], outputs=subtract_layer)\n",
        "print(X1)\n",
        "print(X2)\n",
        "subtract_model([X1, X2]).numpy()"
      ],
      "execution_count": 109,
      "outputs": [
        {
          "output_type": "stream",
          "text": [
            "tf.Tensor([10 11 12 13 14 15 16 17 18 19], shape=(10,), dtype=int32)\n",
            "tf.Tensor([0 1 2 3 4 5 6 7 8 9], shape=(10,), dtype=int32)\n"
          ],
          "name": "stdout"
        },
        {
          "output_type": "execute_result",
          "data": {
            "text/plain": [
              "array([10., 10., 10., 10., 10., 10., 10., 10., 10., 10.], dtype=float32)"
            ]
          },
          "metadata": {
            "tags": []
          },
          "execution_count": 109
        }
      ]
    },
    {
      "cell_type": "code",
      "metadata": {
        "colab": {
          "base_uri": "https://localhost:8080/"
        },
        "id": "wK9Ix_zOesPO",
        "outputId": "cacf3b37-28c8-49d7-d0ec-4860be03f306"
      },
      "source": [
        "# Instantiate input variables\n",
        "WINDOW_SIZE = 7 # how far to lookback\n",
        "HORIZON = 1 # how far to predict forward\n",
        "BATCH_SIZE = 1024 # how many samples to look at per batch\n",
        "\n",
        "# Values from paper (see Figure 1/Appendix D)\n",
        "N_NEURONS = 512\n",
        "N_LAYERS = 4\n",
        "N_STACKS = 30\n",
        "INPUT_SIZE = WINDOW_SIZE * HORIZON\n",
        "THETA_SIZE = INPUT_SIZE + HORIZON\n",
        "\n",
        "INPUT_SIZE, THETA_SIZE"
      ],
      "execution_count": 110,
      "outputs": [
        {
          "output_type": "execute_result",
          "data": {
            "text/plain": [
              "(7, 8)"
            ]
          },
          "metadata": {
            "tags": []
          },
          "execution_count": 110
        }
      ]
    },
    {
      "cell_type": "code",
      "metadata": {
        "colab": {
          "base_uri": "https://localhost:8080/",
          "height": 235
        },
        "id": "WsUh9T2uvpA1",
        "outputId": "f9cc25b0-79c8-428d-d265-e845a63623bd"
      },
      "source": [
        "# Create NBEATS data inputs (NBEATS works with univariate time series)\n",
        "bitcoin_prices.head()"
      ],
      "execution_count": 111,
      "outputs": [
        {
          "output_type": "execute_result",
          "data": {
            "text/html": [
              "<div>\n",
              "<style scoped>\n",
              "    .dataframe tbody tr th:only-of-type {\n",
              "        vertical-align: middle;\n",
              "    }\n",
              "\n",
              "    .dataframe tbody tr th {\n",
              "        vertical-align: top;\n",
              "    }\n",
              "\n",
              "    .dataframe thead th {\n",
              "        text-align: right;\n",
              "    }\n",
              "</style>\n",
              "<table border=\"1\" class=\"dataframe\">\n",
              "  <thead>\n",
              "    <tr style=\"text-align: right;\">\n",
              "      <th></th>\n",
              "      <th>Price</th>\n",
              "    </tr>\n",
              "    <tr>\n",
              "      <th>Date</th>\n",
              "      <th></th>\n",
              "    </tr>\n",
              "  </thead>\n",
              "  <tbody>\n",
              "    <tr>\n",
              "      <th>2013-10-01</th>\n",
              "      <td>123.65499</td>\n",
              "    </tr>\n",
              "    <tr>\n",
              "      <th>2013-10-02</th>\n",
              "      <td>125.45500</td>\n",
              "    </tr>\n",
              "    <tr>\n",
              "      <th>2013-10-03</th>\n",
              "      <td>108.58483</td>\n",
              "    </tr>\n",
              "    <tr>\n",
              "      <th>2013-10-04</th>\n",
              "      <td>118.67466</td>\n",
              "    </tr>\n",
              "    <tr>\n",
              "      <th>2013-10-05</th>\n",
              "      <td>121.33866</td>\n",
              "    </tr>\n",
              "  </tbody>\n",
              "</table>\n",
              "</div>"
            ],
            "text/plain": [
              "                Price\n",
              "Date                 \n",
              "2013-10-01  123.65499\n",
              "2013-10-02  125.45500\n",
              "2013-10-03  108.58483\n",
              "2013-10-04  118.67466\n",
              "2013-10-05  121.33866"
            ]
          },
          "metadata": {
            "tags": []
          },
          "execution_count": 111
        }
      ]
    },
    {
      "cell_type": "code",
      "metadata": {
        "colab": {
          "base_uri": "https://localhost:8080/",
          "height": 235
        },
        "id": "iqAnqJvVvsgb",
        "outputId": "43b0e529-a4b7-467c-d951-593994bc4a8a"
      },
      "source": [
        "# Add windowed columns\n",
        "bitcoin_prices_nbeats = bitcoin_prices.copy()\n",
        "for i in range(WINDOW_SIZE):\n",
        "  bitcoin_prices_nbeats[f\"Price+{i+1}\"] = bitcoin_prices_nbeats[\"Price\"].shift(i+1)\n",
        "bitcoin_prices_nbeats.dropna().head()"
      ],
      "execution_count": 112,
      "outputs": [
        {
          "output_type": "execute_result",
          "data": {
            "text/html": [
              "<div>\n",
              "<style scoped>\n",
              "    .dataframe tbody tr th:only-of-type {\n",
              "        vertical-align: middle;\n",
              "    }\n",
              "\n",
              "    .dataframe tbody tr th {\n",
              "        vertical-align: top;\n",
              "    }\n",
              "\n",
              "    .dataframe thead th {\n",
              "        text-align: right;\n",
              "    }\n",
              "</style>\n",
              "<table border=\"1\" class=\"dataframe\">\n",
              "  <thead>\n",
              "    <tr style=\"text-align: right;\">\n",
              "      <th></th>\n",
              "      <th>Price</th>\n",
              "      <th>Price+1</th>\n",
              "      <th>Price+2</th>\n",
              "      <th>Price+3</th>\n",
              "      <th>Price+4</th>\n",
              "      <th>Price+5</th>\n",
              "      <th>Price+6</th>\n",
              "      <th>Price+7</th>\n",
              "    </tr>\n",
              "    <tr>\n",
              "      <th>Date</th>\n",
              "      <th></th>\n",
              "      <th></th>\n",
              "      <th></th>\n",
              "      <th></th>\n",
              "      <th></th>\n",
              "      <th></th>\n",
              "      <th></th>\n",
              "      <th></th>\n",
              "    </tr>\n",
              "  </thead>\n",
              "  <tbody>\n",
              "    <tr>\n",
              "      <th>2013-10-08</th>\n",
              "      <td>123.03300</td>\n",
              "      <td>121.79500</td>\n",
              "      <td>120.65533</td>\n",
              "      <td>121.33866</td>\n",
              "      <td>118.67466</td>\n",
              "      <td>108.58483</td>\n",
              "      <td>125.45500</td>\n",
              "      <td>123.65499</td>\n",
              "    </tr>\n",
              "    <tr>\n",
              "      <th>2013-10-09</th>\n",
              "      <td>124.04900</td>\n",
              "      <td>123.03300</td>\n",
              "      <td>121.79500</td>\n",
              "      <td>120.65533</td>\n",
              "      <td>121.33866</td>\n",
              "      <td>118.67466</td>\n",
              "      <td>108.58483</td>\n",
              "      <td>125.45500</td>\n",
              "    </tr>\n",
              "    <tr>\n",
              "      <th>2013-10-10</th>\n",
              "      <td>125.96116</td>\n",
              "      <td>124.04900</td>\n",
              "      <td>123.03300</td>\n",
              "      <td>121.79500</td>\n",
              "      <td>120.65533</td>\n",
              "      <td>121.33866</td>\n",
              "      <td>118.67466</td>\n",
              "      <td>108.58483</td>\n",
              "    </tr>\n",
              "    <tr>\n",
              "      <th>2013-10-11</th>\n",
              "      <td>125.27966</td>\n",
              "      <td>125.96116</td>\n",
              "      <td>124.04900</td>\n",
              "      <td>123.03300</td>\n",
              "      <td>121.79500</td>\n",
              "      <td>120.65533</td>\n",
              "      <td>121.33866</td>\n",
              "      <td>118.67466</td>\n",
              "    </tr>\n",
              "    <tr>\n",
              "      <th>2013-10-12</th>\n",
              "      <td>125.92750</td>\n",
              "      <td>125.27966</td>\n",
              "      <td>125.96116</td>\n",
              "      <td>124.04900</td>\n",
              "      <td>123.03300</td>\n",
              "      <td>121.79500</td>\n",
              "      <td>120.65533</td>\n",
              "      <td>121.33866</td>\n",
              "    </tr>\n",
              "  </tbody>\n",
              "</table>\n",
              "</div>"
            ],
            "text/plain": [
              "                Price    Price+1    Price+2  ...    Price+5    Price+6    Price+7\n",
              "Date                                         ...                                 \n",
              "2013-10-08  123.03300  121.79500  120.65533  ...  108.58483  125.45500  123.65499\n",
              "2013-10-09  124.04900  123.03300  121.79500  ...  118.67466  108.58483  125.45500\n",
              "2013-10-10  125.96116  124.04900  123.03300  ...  121.33866  118.67466  108.58483\n",
              "2013-10-11  125.27966  125.96116  124.04900  ...  120.65533  121.33866  118.67466\n",
              "2013-10-12  125.92750  125.27966  125.96116  ...  121.79500  120.65533  121.33866\n",
              "\n",
              "[5 rows x 8 columns]"
            ]
          },
          "metadata": {
            "tags": []
          },
          "execution_count": 112
        }
      ]
    },
    {
      "cell_type": "code",
      "metadata": {
        "colab": {
          "base_uri": "https://localhost:8080/"
        },
        "id": "2tOweM-6wRBH",
        "outputId": "696ef40e-48f5-48ba-d75e-4a6865e36c07"
      },
      "source": [
        "# Make features and labels\n",
        "X = bitcoin_prices_nbeats.dropna().drop(\"Price\", axis=1)\n",
        "y = bitcoin_prices_nbeats.dropna()[\"Price\"]\n",
        "\n",
        "# Make train and test sets\n",
        "split_size = int(len(X) * 0.8)\n",
        "X_train, y_train = X[:split_size], y[:split_size]\n",
        "X_test, y_test = X[split_size:], y[split_size:]\n",
        "len(X_train), len(y_train), len(X_test), len(y_test)"
      ],
      "execution_count": 113,
      "outputs": [
        {
          "output_type": "execute_result",
          "data": {
            "text/plain": [
              "(2224, 2224, 556, 556)"
            ]
          },
          "metadata": {
            "tags": []
          },
          "execution_count": 113
        }
      ]
    },
    {
      "cell_type": "code",
      "metadata": {
        "colab": {
          "base_uri": "https://localhost:8080/"
        },
        "id": "BxCwT-b1v6cw",
        "outputId": "cf4d9e0d-3454-48e0-f20b-aa1a4f3681c3"
      },
      "source": [
        "# Create TensorFlow dataset - from_tensor_slices is best when your data fits in memory: https://www.tensorflow.org/api_docs/python/tf/data/Dataset#from_tensor_slices\n",
        "train_features_dataset = tf.data.Dataset.from_tensor_slices(X_train)\n",
        "train_labels_dataset = tf.data.Dataset.from_tensor_slices(y_train)\n",
        "\n",
        "test_features_dataset = tf.data.Dataset.from_tensor_slices(X_test)\n",
        "test_labels_dataset = tf.data.Dataset.from_tensor_slices(y_test)\n",
        "\n",
        "# Combine labels & features\n",
        "train_dataset = tf.data.Dataset.zip((train_features_dataset, train_labels_dataset))\n",
        "test_dataset = tf.data.Dataset.zip((test_features_dataset, test_labels_dataset))\n",
        "\n",
        "# Batch and prefetch\n",
        "train_dataset = train_dataset.batch(BATCH_SIZE).prefetch(tf.data.AUTOTUNE)\n",
        "test_dataset = test_dataset.batch(BATCH_SIZE).prefetch(tf.data.AUTOTUNE)\n",
        "\n",
        "train_dataset, test_dataset"
      ],
      "execution_count": 114,
      "outputs": [
        {
          "output_type": "execute_result",
          "data": {
            "text/plain": [
              "(<PrefetchDataset shapes: ((None, 7), (None,)), types: (tf.float64, tf.float64)>,\n",
              " <PrefetchDataset shapes: ((None, 7), (None,)), types: (tf.float64, tf.float64)>)"
            ]
          },
          "metadata": {
            "tags": []
          },
          "execution_count": 114
        }
      ]
    },
    {
      "cell_type": "code",
      "metadata": {
        "id": "2U3-Wv94-hfQ",
        "colab": {
          "base_uri": "https://localhost:8080/"
        },
        "outputId": "4f0cb12d-0118-41af-86bc-28d5c16dc7fb"
      },
      "source": [
        "tf.random.set_seed(42)\n",
        "\n",
        "# Setup NBEATs Block layer\n",
        "nbeats_block_layer = NBeatsBlock(input_size=INPUT_SIZE,\n",
        "                                 theta_size=THETA_SIZE,\n",
        "                                 horizon=HORIZON,\n",
        "                                 n_neurons=N_NEURONS,\n",
        "                                 n_layers=N_LAYERS,\n",
        "                                 name=\"InitialBlock\")\n",
        "\n",
        "# Build stacks of blocks\n",
        "stack_input = layers.Input(shape=(INPUT_SIZE), name=\"stack_input\")\n",
        "\n",
        "# Create initial backcast and forecast input\n",
        "residuals, forecast = nbeats_block_layer(stack_input)\n",
        "\n",
        "# Create stacks of blocks\n",
        "for i, _ in enumerate(range(N_STACKS-1)):\n",
        "  backcast, block_forecast = NBeatsBlock(\n",
        "      input_size=INPUT_SIZE,\n",
        "      theta_size=THETA_SIZE,\n",
        "      horizon=HORIZON,\n",
        "      n_neurons=N_NEURONS,\n",
        "      n_layers=N_LAYERS,\n",
        "      name=f\"NBeatsBlock_{i}\"\n",
        "  )(residuals) # pass it in residuals (the backcast)\n",
        "  residuals = layers.subtract([residuals, backcast], name=f\"subtract_{i}\") # https://www.tensorflow.org/api_docs/python/tf/keras/layers/subtract\n",
        "  forecast = layers.add([forecast, block_forecast], name=f\"add_{i}\")\n",
        "stack_model = tf.keras.Model(inputs=stack_input, outputs=forecast, name=\"Stack_Model\")\n",
        "\n",
        "# Compile\n",
        "stack_model.compile(loss=\"mae\",\n",
        "                    optimizer=tf.keras.optimizers.Adam(0.001),\n",
        "                    metrics=[\"mae\", \"mse\"])\n",
        "\n",
        "# Fit\n",
        "stack_model.fit(train_dataset,\n",
        "                epochs=5000,\n",
        "                validation_data=test_dataset,\n",
        "                verbose=0,\n",
        "                # callbacks=[create_model_checkpoint(model_name=stack_model.name)] # saving model every epoch consumes far too much time\n",
        "                callbacks=[tf.keras.callbacks.EarlyStopping(monitor=\"val_loss\", patience=200, restore_best_weights=True),\n",
        "                           tf.keras.callbacks.ReduceLROnPlateau(monitor=\"val_loss\", patience=100, verbose=1)])"
      ],
      "execution_count": 115,
      "outputs": [
        {
          "output_type": "stream",
          "text": [
            "\n",
            "Epoch 00643: ReduceLROnPlateau reducing learning rate to 0.00010000000474974513.\n",
            "\n",
            "Epoch 00925: ReduceLROnPlateau reducing learning rate to 1.0000000474974514e-05.\n",
            "\n",
            "Epoch 01025: ReduceLROnPlateau reducing learning rate to 1.0000000656873453e-06.\n"
          ],
          "name": "stdout"
        },
        {
          "output_type": "execute_result",
          "data": {
            "text/plain": [
              "<tensorflow.python.keras.callbacks.History at 0x7f2245a0fcd0>"
            ]
          },
          "metadata": {
            "tags": []
          },
          "execution_count": 115
        }
      ]
    },
    {
      "cell_type": "code",
      "metadata": {
        "colab": {
          "base_uri": "https://localhost:8080/"
        },
        "id": "pyI7WKpbo7cR",
        "outputId": "d4d68cc3-350c-4d3f-f9d9-8564c823edfd"
      },
      "source": [
        "stack_model.evaluate(test_dataset)"
      ],
      "execution_count": 116,
      "outputs": [
        {
          "output_type": "stream",
          "text": [
            "1/1 [==============================] - 0s 21ms/step - loss: 574.0082 - mae: 574.0082 - mse: 1167743.5000\n"
          ],
          "name": "stdout"
        },
        {
          "output_type": "execute_result",
          "data": {
            "text/plain": [
              "[574.0081787109375, 574.0081787109375, 1167743.5]"
            ]
          },
          "metadata": {
            "tags": []
          },
          "execution_count": 116
        }
      ]
    },
    {
      "cell_type": "code",
      "metadata": {
        "colab": {
          "base_uri": "https://localhost:8080/"
        },
        "id": "xTVDsIs31alx",
        "outputId": "f30eccc3-0d43-423f-88f0-8c8483aeb113"
      },
      "source": [
        "stack_preds = make_forecast(stack_model, test_dataset)\n",
        "stack_preds[:10]"
      ],
      "execution_count": 117,
      "outputs": [
        {
          "output_type": "execute_result",
          "data": {
            "text/plain": [
              "<tf.Tensor: shape=(10,), dtype=float32, numpy=\n",
              "array([8835.177, 8769.444, 9022.691, 8762.547, 8749.558, 8737.719,\n",
              "       8652.037, 8497.003, 8469.15 , 8506.716], dtype=float32)>"
            ]
          },
          "metadata": {
            "tags": []
          },
          "execution_count": 117
        }
      ]
    },
    {
      "cell_type": "code",
      "metadata": {
        "colab": {
          "base_uri": "https://localhost:8080/"
        },
        "id": "VL-cncpQ1i7C",
        "outputId": "5066dbae-39a3-43a8-bd22-c12c5a64c3bd"
      },
      "source": [
        "stack_results = evaluate_preds(y_true=y_test,\n",
        "                               y_pred=stack_preds)\n",
        "stack_results"
      ],
      "execution_count": 118,
      "outputs": [
        {
          "output_type": "execute_result",
          "data": {
            "text/plain": [
              "{'mae': 574.0082,\n",
              " 'mape': 2.6163888,\n",
              " 'mase': 1.0083734,\n",
              " 'mse': 1167743.5,\n",
              " 'rmse': 1080.6218}"
            ]
          },
          "metadata": {
            "tags": []
          },
          "execution_count": 118
        }
      ]
    },
    {
      "cell_type": "code",
      "metadata": {
        "colab": {
          "base_uri": "https://localhost:8080/"
        },
        "id": "b_mxaHYeShwu",
        "outputId": "f14a1487-7a99-43a9-de79-ddbb6e3e7417"
      },
      "source": [
        "# TODO: This will error out unless a \"get_config()\" method is implemented\n",
        "stack_model.save(\"stack_model\")"
      ],
      "execution_count": 119,
      "outputs": [
        {
          "output_type": "stream",
          "text": [
            "WARNING:absl:Found untraced functions such as theta_layer_call_fn, theta_layer_call_and_return_conditional_losses, theta_layer_call_fn, theta_layer_call_and_return_conditional_losses, theta_layer_call_fn while saving (showing 5 of 750). These functions will not be directly callable after loading.\n",
            "/usr/local/lib/python3.7/dist-packages/tensorflow/python/keras/utils/generic_utils.py:497: CustomMaskWarning: Custom mask layers require a config and must override get_config. When loading, the custom mask layer must be passed to the custom_objects argument.\n",
            "  category=CustomMaskWarning)\n"
          ],
          "name": "stderr"
        },
        {
          "output_type": "stream",
          "text": [
            "INFO:tensorflow:Assets written to: stack_model/assets\n"
          ],
          "name": "stdout"
        },
        {
          "output_type": "stream",
          "text": [
            "INFO:tensorflow:Assets written to: stack_model/assets\n"
          ],
          "name": "stderr"
        }
      ]
    },
    {
      "cell_type": "markdown",
      "metadata": {
        "id": "9k10r8BN7ELS"
      },
      "source": [
        "# TODO: Create an ensemble\n",
        "\n",
        "* We'll combine the predictions of 3 versions of `simple_model` and see what happens:\n",
        "  * MAE\n",
        "  * MSE\n",
        "  * MAPE"
      ]
    },
    {
      "cell_type": "code",
      "metadata": {
        "colab": {
          "base_uri": "https://localhost:8080/"
        },
        "id": "5iHGtJwN5Rry",
        "outputId": "7e03c806-51dc-450f-ad73-042181a1985c"
      },
      "source": [
        "%%time\n",
        "\n",
        "tf.random.set_seed(42)\n",
        "\n",
        "preds = {}\n",
        "for loss_function in [\"mae\", \"mse\", \"mape\"]:\n",
        "  print(f\"Optimizing model by reducing: {loss_function}\")\n",
        "\n",
        "  # construct simple model\n",
        "  simple_model = tf.keras.Sequential([\n",
        "    layers.Dense(128, activation=\"relu\"),\n",
        "    layers.Dense(128, activation=\"relu\"),\n",
        "    layers.Dense(HORIZON)\n",
        "  ])\n",
        "\n",
        "  simple_model.compile(loss=loss_function,\n",
        "                      optimizer=tf.keras.optimizers.Adam(),\n",
        "                      metrics=[\"mae\", \"mse\"])\n",
        "\n",
        "  simple_model.fit(train_dataset,\n",
        "                   epochs=1000,\n",
        "                   verbose=0,\n",
        "                   validation_data=test_dataset,\n",
        "                   # Stop when a model stops improving for ~200 epochs and lower the learning rate when improvement plateau's\n",
        "                   callbacks=[tf.keras.callbacks.EarlyStopping(monitor=\"val_loss\", patience=200, restore_best_weights=True),\n",
        "                              tf.keras.callbacks.ReduceLROnPlateau(monitor=\"val_loss\", patience=100, verbose=1)])\n",
        "\n",
        "  simple_model_preds = tf.squeeze(simple_model.predict(test_dataset))\n",
        "\n",
        "  # Append predictions with target loss function to dictionary\n",
        "  preds[loss_function] = simple_model_preds"
      ],
      "execution_count": 120,
      "outputs": [
        {
          "output_type": "stream",
          "text": [
            "Optimizing model by reducing: mae\n",
            "\n",
            "Epoch 00694: ReduceLROnPlateau reducing learning rate to 0.00010000000474974513.\n",
            "\n",
            "Epoch 00794: ReduceLROnPlateau reducing learning rate to 1.0000000474974514e-05.\n",
            "Optimizing model by reducing: mse\n",
            "\n",
            "Epoch 00512: ReduceLROnPlateau reducing learning rate to 0.00010000000474974513.\n",
            "\n",
            "Epoch 00612: ReduceLROnPlateau reducing learning rate to 1.0000000474974514e-05.\n",
            "Optimizing model by reducing: mape\n",
            "\n",
            "Epoch 00235: ReduceLROnPlateau reducing learning rate to 0.00010000000474974513.\n",
            "\n",
            "Epoch 00335: ReduceLROnPlateau reducing learning rate to 1.0000000474974514e-05.\n",
            "WARNING:tensorflow:5 out of the last 22 calls to <function Model.make_predict_function.<locals>.predict_function at 0x7f2242acc680> triggered tf.function retracing. Tracing is expensive and the excessive number of tracings could be due to (1) creating @tf.function repeatedly in a loop, (2) passing tensors with different shapes, (3) passing Python objects instead of tensors. For (1), please define your @tf.function outside of the loop. For (2), @tf.function has experimental_relax_shapes=True option that relaxes argument shapes that can avoid unnecessary retracing. For (3), please refer to https://www.tensorflow.org/guide/function#controlling_retracing and https://www.tensorflow.org/api_docs/python/tf/function for  more details.\n"
          ],
          "name": "stdout"
        },
        {
          "output_type": "stream",
          "text": [
            "WARNING:tensorflow:5 out of the last 22 calls to <function Model.make_predict_function.<locals>.predict_function at 0x7f2242acc680> triggered tf.function retracing. Tracing is expensive and the excessive number of tracings could be due to (1) creating @tf.function repeatedly in a loop, (2) passing tensors with different shapes, (3) passing Python objects instead of tensors. For (1), please define your @tf.function outside of the loop. For (2), @tf.function has experimental_relax_shapes=True option that relaxes argument shapes that can avoid unnecessary retracing. For (3), please refer to https://www.tensorflow.org/guide/function#controlling_retracing and https://www.tensorflow.org/api_docs/python/tf/function for  more details.\n"
          ],
          "name": "stderr"
        },
        {
          "output_type": "stream",
          "text": [
            "CPU times: user 48.5 s, sys: 3.21 s, total: 51.7 s\n",
            "Wall time: 41.9 s\n"
          ],
          "name": "stdout"
        }
      ]
    },
    {
      "cell_type": "code",
      "metadata": {
        "colab": {
          "base_uri": "https://localhost:8080/"
        },
        "id": "45YkOBo38qxn",
        "outputId": "720e9a63-152a-4bd6-831e-6118f4e56dc8"
      },
      "source": [
        "ensemble_preds = np.array(list(preds.values()))\n",
        "ensemble_preds.shape"
      ],
      "execution_count": 121,
      "outputs": [
        {
          "output_type": "execute_result",
          "data": {
            "text/plain": [
              "(3, 556)"
            ]
          },
          "metadata": {
            "tags": []
          },
          "execution_count": 121
        }
      ]
    },
    {
      "cell_type": "code",
      "metadata": {
        "colab": {
          "base_uri": "https://localhost:8080/"
        },
        "id": "W5aGqy_C9Aev",
        "outputId": "3e830c27-a5b8-42cc-8ed4-d73c887438b1"
      },
      "source": [
        "ensemble_results = evaluate_preds(y_true=y_test,\n",
        "                                  y_pred=np.median(ensemble_preds, axis=0))\n",
        "ensemble_results"
      ],
      "execution_count": 122,
      "outputs": [
        {
          "output_type": "execute_result",
          "data": {
            "text/plain": [
              "{'mae': 562.66705,\n",
              " 'mape': 2.5368886,\n",
              " 'mase': 0.98845017,\n",
              " 'mse': 1141280.8,\n",
              " 'rmse': 1068.3074}"
            ]
          },
          "metadata": {
            "tags": []
          },
          "execution_count": 122
        }
      ]
    },
    {
      "cell_type": "markdown",
      "metadata": {
        "id": "ARst6lYc_-mb"
      },
      "source": [
        "### Plotting the variance (prediction intervals) of our ensemble\n",
        "\n",
        "* See here for more: https://jakevdp.github.io/PythonDataScienceHandbook/04.03-errorbars.html#Continuous-Errors\n",
        "* And here: https://stackoverflow.com/a/12958534/7900723 "
      ]
    },
    {
      "cell_type": "code",
      "metadata": {
        "colab": {
          "base_uri": "https://localhost:8080/"
        },
        "id": "4ys17iCd-UFv",
        "outputId": "739fd47e-25e3-4f7d-c374-a4877be5f68b"
      },
      "source": [
        "# Get the variance of different ensemble preds (these are how much predictions vary accross loss metrics)\n",
        "ensemble_var = tf.math.reduce_variance(ensemble_preds, axis=0)\n",
        "ensemble_var[:10]"
      ],
      "execution_count": 123,
      "outputs": [
        {
          "output_type": "execute_result",
          "data": {
            "text/plain": [
              "<tf.Tensor: shape=(10,), dtype=float32, numpy=\n",
              "array([ 86.54376 , 697.2673  , 513.1137  , 157.08408 , 641.60986 ,\n",
              "       796.0101  ,  11.262544, 160.8289  , 587.7331  , 183.82018 ],\n",
              "      dtype=float32)>"
            ]
          },
          "metadata": {
            "tags": []
          },
          "execution_count": 123
        }
      ]
    },
    {
      "cell_type": "code",
      "metadata": {
        "colab": {
          "base_uri": "https://localhost:8080/",
          "height": 442
        },
        "id": "QlSqQHFD_JYa",
        "outputId": "c1ceb289-5308-4594-dee2-a12e27796a54"
      },
      "source": [
        "# Plot the variance/median of our ensemble preds\n",
        "ensemble_median = np.median(ensemble_preds, axis=0)\n",
        "\n",
        "offset=300\n",
        "plt.figure(figsize=(10, 7))\n",
        "plt.plot(X_test.index[offset:], y_test[offset:], \"g\", label=\"Test Data\")\n",
        "plt.plot(X_test.index[offset:], ensemble_median[offset:], \"k-\", label=\"Ensemble Preds\")\n",
        "plt.xlabel(\"Date\")\n",
        "plt.ylabel(\"BTC Price\")\n",
        "plt.fill_between(X_test.index[offset:], \n",
        "                 (ensemble_median-ensemble_var)[offset:], \n",
        "                 (ensemble_median+ensemble_var)[offset:], label=\"Prediction variance\")\n",
        "plt.legend(loc=\"upper left\", fontsize=14);"
      ],
      "execution_count": 124,
      "outputs": [
        {
          "output_type": "display_data",
          "data": {
            "image/png": "[encoded data removed]",
            "text/plain": [
              "<Figure size 720x504 with 1 Axes>"
            ]
          },
          "metadata": {
            "tags": [],
            "needs_background": "light"
          }
        }
      ]
    },
    {
      "cell_type": "markdown",
      "metadata": {
        "id": "UW9oxH47EK-6"
      },
      "source": [
        "# TODO: Make future forecasts...\n",
        "\n",
        "* UPTOHERE:\n",
        "  * Make future forecasts with model (make a pred, append it to a window, make a pred, append it to a window, make a pred, append it to window\n",
        "  * Measure the +/- of each pred (the prediction interval/uncertainty intervals)\n",
        "  * Functionize future forecasting (getting future dates, predicting on X steps)"
      ]
    },
    {
      "cell_type": "code",
      "metadata": {
        "id": "-n4HkN1pXT6v"
      },
      "source": [
        "# TODO: Make forecasting work for one model and then make it work for an ensemble model "
      ],
      "execution_count": null,
      "outputs": []
    },
    {
      "cell_type": "code",
      "metadata": {
        "colab": {
          "base_uri": "https://localhost:8080/",
          "height": 620
        },
        "id": "0lseRHbOYseR",
        "outputId": "16cf6e46-a448-44a7-c9ff-17b192a92761"
      },
      "source": [
        "bitcoin_prices_windowed"
      ],
      "execution_count": 125,
      "outputs": [
        {
          "output_type": "execute_result",
          "data": {
            "text/html": [
              "<div>\n",
              "<style scoped>\n",
              "    .dataframe tbody tr th:only-of-type {\n",
              "        vertical-align: middle;\n",
              "    }\n",
              "\n",
              "    .dataframe tbody tr th {\n",
              "        vertical-align: top;\n",
              "    }\n",
              "\n",
              "    .dataframe thead th {\n",
              "        text-align: right;\n",
              "    }\n",
              "</style>\n",
              "<table border=\"1\" class=\"dataframe\">\n",
              "  <thead>\n",
              "    <tr style=\"text-align: right;\">\n",
              "      <th></th>\n",
              "      <th>Price</th>\n",
              "      <th>block_reward</th>\n",
              "      <th>Price+1</th>\n",
              "      <th>Price+2</th>\n",
              "      <th>Price+3</th>\n",
              "      <th>Price+4</th>\n",
              "      <th>Price+5</th>\n",
              "      <th>Price+6</th>\n",
              "      <th>Price+7</th>\n",
              "    </tr>\n",
              "    <tr>\n",
              "      <th>Date</th>\n",
              "      <th></th>\n",
              "      <th></th>\n",
              "      <th></th>\n",
              "      <th></th>\n",
              "      <th></th>\n",
              "      <th></th>\n",
              "      <th></th>\n",
              "      <th></th>\n",
              "      <th></th>\n",
              "    </tr>\n",
              "  </thead>\n",
              "  <tbody>\n",
              "    <tr>\n",
              "      <th>2013-10-01</th>\n",
              "      <td>123.654990</td>\n",
              "      <td>25</td>\n",
              "      <td>NaN</td>\n",
              "      <td>NaN</td>\n",
              "      <td>NaN</td>\n",
              "      <td>NaN</td>\n",
              "      <td>NaN</td>\n",
              "      <td>NaN</td>\n",
              "      <td>NaN</td>\n",
              "    </tr>\n",
              "    <tr>\n",
              "      <th>2013-10-02</th>\n",
              "      <td>125.455000</td>\n",
              "      <td>25</td>\n",
              "      <td>123.654990</td>\n",
              "      <td>NaN</td>\n",
              "      <td>NaN</td>\n",
              "      <td>NaN</td>\n",
              "      <td>NaN</td>\n",
              "      <td>NaN</td>\n",
              "      <td>NaN</td>\n",
              "    </tr>\n",
              "    <tr>\n",
              "      <th>2013-10-03</th>\n",
              "      <td>108.584830</td>\n",
              "      <td>25</td>\n",
              "      <td>125.455000</td>\n",
              "      <td>123.654990</td>\n",
              "      <td>NaN</td>\n",
              "      <td>NaN</td>\n",
              "      <td>NaN</td>\n",
              "      <td>NaN</td>\n",
              "      <td>NaN</td>\n",
              "    </tr>\n",
              "    <tr>\n",
              "      <th>2013-10-04</th>\n",
              "      <td>118.674660</td>\n",
              "      <td>25</td>\n",
              "      <td>108.584830</td>\n",
              "      <td>125.455000</td>\n",
              "      <td>123.654990</td>\n",
              "      <td>NaN</td>\n",
              "      <td>NaN</td>\n",
              "      <td>NaN</td>\n",
              "      <td>NaN</td>\n",
              "    </tr>\n",
              "    <tr>\n",
              "      <th>2013-10-05</th>\n",
              "      <td>121.338660</td>\n",
              "      <td>25</td>\n",
              "      <td>118.674660</td>\n",
              "      <td>108.584830</td>\n",
              "      <td>125.455000</td>\n",
              "      <td>123.654990</td>\n",
              "      <td>NaN</td>\n",
              "      <td>NaN</td>\n",
              "      <td>NaN</td>\n",
              "    </tr>\n",
              "    <tr>\n",
              "      <th>...</th>\n",
              "      <td>...</td>\n",
              "      <td>...</td>\n",
              "      <td>...</td>\n",
              "      <td>...</td>\n",
              "      <td>...</td>\n",
              "      <td>...</td>\n",
              "      <td>...</td>\n",
              "      <td>...</td>\n",
              "      <td>...</td>\n",
              "    </tr>\n",
              "    <tr>\n",
              "      <th>2021-05-14</th>\n",
              "      <td>49764.132082</td>\n",
              "      <td>6.25</td>\n",
              "      <td>52147.821187</td>\n",
              "      <td>56573.555472</td>\n",
              "      <td>55715.546651</td>\n",
              "      <td>58102.191426</td>\n",
              "      <td>58788.209679</td>\n",
              "      <td>57107.120672</td>\n",
              "      <td>56583.849879</td>\n",
              "    </tr>\n",
              "    <tr>\n",
              "      <th>2021-05-15</th>\n",
              "      <td>50032.693137</td>\n",
              "      <td>6.25</td>\n",
              "      <td>49764.132082</td>\n",
              "      <td>52147.821187</td>\n",
              "      <td>56573.555472</td>\n",
              "      <td>55715.546651</td>\n",
              "      <td>58102.191426</td>\n",
              "      <td>58788.209679</td>\n",
              "      <td>57107.120672</td>\n",
              "    </tr>\n",
              "    <tr>\n",
              "      <th>2021-05-16</th>\n",
              "      <td>47885.625255</td>\n",
              "      <td>6.25</td>\n",
              "      <td>50032.693137</td>\n",
              "      <td>49764.132082</td>\n",
              "      <td>52147.821187</td>\n",
              "      <td>56573.555472</td>\n",
              "      <td>55715.546651</td>\n",
              "      <td>58102.191426</td>\n",
              "      <td>58788.209679</td>\n",
              "    </tr>\n",
              "    <tr>\n",
              "      <th>2021-05-17</th>\n",
              "      <td>45604.615754</td>\n",
              "      <td>6.25</td>\n",
              "      <td>47885.625255</td>\n",
              "      <td>50032.693137</td>\n",
              "      <td>49764.132082</td>\n",
              "      <td>52147.821187</td>\n",
              "      <td>56573.555472</td>\n",
              "      <td>55715.546651</td>\n",
              "      <td>58102.191426</td>\n",
              "    </tr>\n",
              "    <tr>\n",
              "      <th>2021-05-18</th>\n",
              "      <td>43144.471291</td>\n",
              "      <td>6.25</td>\n",
              "      <td>45604.615754</td>\n",
              "      <td>47885.625255</td>\n",
              "      <td>50032.693137</td>\n",
              "      <td>49764.132082</td>\n",
              "      <td>52147.821187</td>\n",
              "      <td>56573.555472</td>\n",
              "      <td>55715.546651</td>\n",
              "    </tr>\n",
              "  </tbody>\n",
              "</table>\n",
              "<p>2787 rows × 9 columns</p>\n",
              "</div>"
            ],
            "text/plain": [
              "                   Price block_reward  ...       Price+6       Price+7\n",
              "Date                                   ...                            \n",
              "2013-10-01    123.654990           25  ...           NaN           NaN\n",
              "2013-10-02    125.455000           25  ...           NaN           NaN\n",
              "2013-10-03    108.584830           25  ...           NaN           NaN\n",
              "2013-10-04    118.674660           25  ...           NaN           NaN\n",
              "2013-10-05    121.338660           25  ...           NaN           NaN\n",
              "...                  ...          ...  ...           ...           ...\n",
              "2021-05-14  49764.132082         6.25  ...  57107.120672  56583.849879\n",
              "2021-05-15  50032.693137         6.25  ...  58788.209679  57107.120672\n",
              "2021-05-16  47885.625255         6.25  ...  58102.191426  58788.209679\n",
              "2021-05-17  45604.615754         6.25  ...  55715.546651  58102.191426\n",
              "2021-05-18  43144.471291         6.25  ...  56573.555472  55715.546651\n",
              "\n",
              "[2787 rows x 9 columns]"
            ]
          },
          "metadata": {
            "tags": []
          },
          "execution_count": 125
        }
      ]
    },
    {
      "cell_type": "code",
      "metadata": {
        "id": "-HZ9ObQaYyVf"
      },
      "source": [
        "# Train model on entire data to make prediction for the next day \n",
        "X_all = bitcoin_prices_windowed.drop([\"Price\", \"block_reward\"], axis=1).dropna().to_numpy()\n",
        "y_all = bitcoin_prices_windowed.dropna()[\"Price\"].to_numpy()"
      ],
      "execution_count": 126,
      "outputs": []
    },
    {
      "cell_type": "code",
      "metadata": {
        "id": "B-eX9FBPZYkR"
      },
      "source": [
        "# TODO: Create TensorFlow windows for data"
      ],
      "execution_count": 127,
      "outputs": []
    },
    {
      "cell_type": "code",
      "metadata": {
        "colab": {
          "base_uri": "https://localhost:8080/"
        },
        "id": "dCtmpaCGZ_fj",
        "outputId": "0a056f88-9d5d-4dd6-be5b-413462329f12"
      },
      "source": [
        "tf.random.set_seed(42)\n",
        "\n",
        "# Create model (nice and simple, just to test)\n",
        "model_9 = tf.keras.Sequential([\n",
        "  layers.Dense(128, activation=\"relu\"),\n",
        "  layers.Dense(128, activation=\"relu\"),\n",
        "  layers.Dense(HORIZON)\n",
        "])\n",
        "\n",
        "# Compile\n",
        "model_9.compile(loss=tf.keras.losses.mae,\n",
        "                optimizer=tf.keras.optimizers.Adam())\n",
        "\n",
        "# Fit\n",
        "model_9.fit(X_all, y_all,\n",
        "            epochs=10)"
      ],
      "execution_count": 129,
      "outputs": [
        {
          "output_type": "stream",
          "text": [
            "Epoch 1/10\n",
            "87/87 [==============================] - 0s 2ms/step - loss: 705.2092\n",
            "Epoch 2/10\n",
            "87/87 [==============================] - 0s 2ms/step - loss: 294.3276\n",
            "Epoch 3/10\n",
            "87/87 [==============================] - 0s 2ms/step - loss: 263.1913\n",
            "Epoch 4/10\n",
            "87/87 [==============================] - 0s 2ms/step - loss: 275.9883\n",
            "Epoch 5/10\n",
            "87/87 [==============================] - 0s 2ms/step - loss: 255.7095\n",
            "Epoch 6/10\n",
            "87/87 [==============================] - 0s 2ms/step - loss: 242.3642\n",
            "Epoch 7/10\n",
            "87/87 [==============================] - 0s 2ms/step - loss: 246.4875\n",
            "Epoch 8/10\n",
            "87/87 [==============================] - 0s 2ms/step - loss: 217.4723\n",
            "Epoch 9/10\n",
            "87/87 [==============================] - 0s 2ms/step - loss: 250.9025\n",
            "Epoch 10/10\n",
            "87/87 [==============================] - 0s 2ms/step - loss: 232.3948\n"
          ],
          "name": "stdout"
        },
        {
          "output_type": "execute_result",
          "data": {
            "text/plain": [
              "<tensorflow.python.keras.callbacks.History at 0x7f223027ced0>"
            ]
          },
          "metadata": {
            "tags": []
          },
          "execution_count": 129
        }
      ]
    },
    {
      "cell_type": "code",
      "metadata": {
        "colab": {
          "base_uri": "https://localhost:8080/"
        },
        "id": "vVZArm7vbAOR",
        "outputId": "40417e9d-fd81-4657-a95c-8970230d13fe"
      },
      "source": [
        "# Make predictions on the future\n",
        "\n",
        "# List for new preds\n",
        "future_forecast = []\n",
        "last_window = y_all[-WINDOW_SIZE:] # get the last window of the training data\n",
        "into_future = 14 # how far to predict into the future\n",
        "\n",
        "for i in range(into_future):\n",
        "  # Make a pred for the last window, then append the prediction, append it again, append it again\n",
        "  pred = model_9.predict(tf.expand_dims(last_window, axis=0))\n",
        "  print(f\"Predicting on: \\n {last_window} -> Prediction: {tf.squeeze(pred).numpy()}\\n\")\n",
        "  future_forecast.append(tf.squeeze(pred).numpy())\n",
        "  # Update last window with new pred and get WINDOW_SIZE most recent preds (model was trained on WINDOW_SIZE windows)\n",
        "  last_window = np.append(last_window, pred)[-WINDOW_SIZE:]"
      ],
      "execution_count": 131,
      "outputs": [
        {
          "output_type": "stream",
          "text": [
            "Predicting on: \n",
            " [56573.5554719  52147.82118698 49764.1320816  50032.69313676\n",
            " 47885.62525472 45604.61575361 43144.47129086] -> Prediction: 55336.71875\n",
            "\n",
            "Predicting on: \n",
            " [52147.82118698 49764.1320816  50032.69313676 47885.62525472\n",
            " 45604.61575361 43144.47129086 55336.71875   ] -> Prediction: 50097.1328125\n",
            "\n",
            "Predicting on: \n",
            " [49764.1320816  50032.69313676 47885.62525472 45604.61575361\n",
            " 43144.47129086 55336.71875    50097.1328125 ] -> Prediction: 49777.33203125\n",
            "\n",
            "Predicting on: \n",
            " [50032.69313676 47885.62525472 45604.61575361 43144.47129086\n",
            " 55336.71875    50097.1328125  49777.33203125] -> Prediction: 47575.828125\n",
            "\n",
            "Predicting on: \n",
            " [47885.62525472 45604.61575361 43144.47129086 55336.71875\n",
            " 50097.1328125  49777.33203125 47575.828125  ] -> Prediction: 46344.23828125\n",
            "\n",
            "Predicting on: \n",
            " [45604.61575361 43144.47129086 55336.71875    50097.1328125\n",
            " 49777.33203125 47575.828125   46344.23828125] -> Prediction: 44605.4765625\n",
            "\n",
            "Predicting on: \n",
            " [43144.47129086 55336.71875    50097.1328125  49777.33203125\n",
            " 47575.828125   46344.23828125 44605.4765625 ] -> Prediction: 45323.8515625\n",
            "\n",
            "Predicting on: \n",
            " [55336.71875    50097.1328125  49777.33203125 47575.828125\n",
            " 46344.23828125 44605.4765625  45323.8515625 ] -> Prediction: 53863.51953125\n",
            "\n",
            "Predicting on: \n",
            " [50097.1328125  49777.33203125 47575.828125   46344.23828125\n",
            " 44605.4765625  45323.8515625  53863.51953125] -> Prediction: 48931.70703125\n",
            "\n",
            "Predicting on: \n",
            " [49777.33203125 47575.828125   46344.23828125 44605.4765625\n",
            " 45323.8515625  53863.51953125 48931.70703125] -> Prediction: 48922.55078125\n",
            "\n",
            "Predicting on: \n",
            " [47575.828125   46344.23828125 44605.4765625  45323.8515625\n",
            " 53863.51953125 48931.70703125 48922.55078125] -> Prediction: 45352.15625\n",
            "\n",
            "Predicting on: \n",
            " [46344.23828125 44605.4765625  45323.8515625  53863.51953125\n",
            " 48931.70703125 48922.55078125 45352.15625   ] -> Prediction: 45170.2265625\n",
            "\n",
            "Predicting on: \n",
            " [44605.4765625  45323.8515625  53863.51953125 48931.70703125\n",
            " 48922.55078125 45352.15625    45170.2265625 ] -> Prediction: 44108.58984375\n",
            "\n",
            "Predicting on: \n",
            " [45323.8515625  53863.51953125 48931.70703125 48922.55078125\n",
            " 45352.15625    45170.2265625  44108.58984375] -> Prediction: 46919.9375\n",
            "\n"
          ],
          "name": "stdout"
        }
      ]
    },
    {
      "cell_type": "code",
      "metadata": {
        "colab": {
          "base_uri": "https://localhost:8080/"
        },
        "id": "hFZmkWRccmQ5",
        "outputId": "777bed7d-2db0-473e-c4ae-4038076a4341"
      },
      "source": [
        "future_forecast[:10]"
      ],
      "execution_count": 132,
      "outputs": [
        {
          "output_type": "execute_result",
          "data": {
            "text/plain": [
              "[55336.72,\n",
              " 50097.133,\n",
              " 49777.332,\n",
              " 47575.83,\n",
              " 46344.24,\n",
              " 44605.477,\n",
              " 45323.85,\n",
              " 53863.52,\n",
              " 48931.707,\n",
              " 48922.55]"
            ]
          },
          "metadata": {
            "tags": []
          },
          "execution_count": 132
        }
      ]
    },
    {
      "cell_type": "markdown",
      "metadata": {
        "id": "QuaY0cOaCHfr"
      },
      "source": [
        "## TODO: Plot future forecasts\n",
        "\n",
        "* Need: \n",
        "  * horizon # of dates in future\n",
        "  * forecast"
      ]
    },
    {
      "cell_type": "code",
      "metadata": {
        "colab": {
          "base_uri": "https://localhost:8080/"
        },
        "id": "6676Sl-cAFn5",
        "outputId": "82eec67c-fe76-4aae-9826-629c7c320922"
      },
      "source": [
        "# Last timestep of timesteps (currently in np.datetime64 format)\n",
        "last_timestep = bitcoin_prices.index[-1]\n",
        "last_timestep"
      ],
      "execution_count": 133,
      "outputs": [
        {
          "output_type": "execute_result",
          "data": {
            "text/plain": [
              "Timestamp('2021-05-18 00:00:00')"
            ]
          },
          "metadata": {
            "tags": []
          },
          "execution_count": 133
        }
      ]
    },
    {
      "cell_type": "code",
      "metadata": {
        "id": "i4iNNliSCbU-"
      },
      "source": [
        "def get_future_dates(start_date, horizon=1, offset=1):\n",
        "  \"\"\"\n",
        "  Returns array of datetime values from ranging from start_date to start_date+horizon.\n",
        "\n",
        "  start_date: date to start range (np.datetime64)\n",
        "  horizon: number of day to add onto start date for range (int)\n",
        "  offset: if offset=1 (default), original date is not included, if offset=0, original date is included\n",
        "  \"\"\"\n",
        "  return np.arange(start_date + np.timedelta64(offset, \"D\"), start_date + np.timedelta64(horizon+1, \"D\"), dtype=\"datetime64[D]\")"
      ],
      "execution_count": 134,
      "outputs": []
    },
    {
      "cell_type": "code",
      "metadata": {
        "id": "252bhVD7C5NZ",
        "colab": {
          "base_uri": "https://localhost:8080/"
        },
        "outputId": "93064b9e-898a-4082-90ab-b75e69a4d259"
      },
      "source": [
        "# Get next two weeks of timesteps\n",
        "next_time_steps = get_future_dates(start_date=last_timestep, horizon=into_future)\n",
        "next_time_steps"
      ],
      "execution_count": 135,
      "outputs": [
        {
          "output_type": "execute_result",
          "data": {
            "text/plain": [
              "array(['2021-05-19', '2021-05-20', '2021-05-21', '2021-05-22',\n",
              "       '2021-05-23', '2021-05-24', '2021-05-25', '2021-05-26',\n",
              "       '2021-05-27', '2021-05-28', '2021-05-29', '2021-05-30',\n",
              "       '2021-05-31', '2021-06-01'], dtype='datetime64[D]')"
            ]
          },
          "metadata": {
            "tags": []
          },
          "execution_count": 135
        }
      ]
    },
    {
      "cell_type": "code",
      "metadata": {
        "colab": {
          "base_uri": "https://localhost:8080/"
        },
        "id": "QLXAudg3hIo9",
        "outputId": "c9ae18bb-5b05-4ae8-e85d-be8f2d8174e4"
      },
      "source": [
        "# Add in extra timestep/final price so the graph doesn't look messed\n",
        "next_time_steps = np.insert(next_time_steps, 0, last_timestep)\n",
        "future_forecast = np.insert(future_forecast, 0, btc_price[-1])\n",
        "next_time_steps, future_forecast"
      ],
      "execution_count": 136,
      "outputs": [
        {
          "output_type": "execute_result",
          "data": {
            "text/plain": [
              "(array(['2021-05-18', '2021-05-19', '2021-05-20', '2021-05-21',\n",
              "        '2021-05-22', '2021-05-23', '2021-05-24', '2021-05-25',\n",
              "        '2021-05-26', '2021-05-27', '2021-05-28', '2021-05-29',\n",
              "        '2021-05-30', '2021-05-31', '2021-06-01'], dtype='datetime64[D]'),\n",
              " array([43144.473, 55336.72 , 50097.133, 49777.332, 47575.83 , 46344.24 ,\n",
              "        44605.477, 45323.85 , 53863.52 , 48931.707, 48922.55 , 45352.156,\n",
              "        45170.227, 44108.59 , 46919.938], dtype=float32))"
            ]
          },
          "metadata": {
            "tags": []
          },
          "execution_count": 136
        }
      ]
    },
    {
      "cell_type": "code",
      "metadata": {
        "colab": {
          "base_uri": "https://localhost:8080/",
          "height": 442
        },
        "id": "LUo-rjmpfuM0",
        "outputId": "6e35726c-a3a1-4343-be04-11cadbefd8f6"
      },
      "source": [
        "# TODO: if we predict far enough into the future we start to see what happens to our model's forecasts... (they begin to break down)\n",
        "plt.figure(figsize=(10, 7))\n",
        "plot_time_series(bitcoin_prices.index, btc_price, start=2500, label=\"Actual BTC Price\")\n",
        "plot_time_series(next_time_steps, future_forecast, label=\"Predicted BTC Price\")"
      ],
      "execution_count": 137,
      "outputs": [
        {
          "output_type": "display_data",
          "data": {
            "image/png": "[encoded data removed]",
            "text/plain": [
              "<Figure size 720x504 with 1 Axes>"
            ]
          },
          "metadata": {
            "tags": [],
            "needs_background": "light"
          }
        }
      ]
    },
    {
      "cell_type": "markdown",
      "metadata": {
        "id": "GFZVT29wiFZT"
      },
      "source": [
        "## TODO: Plot uncertainty/prediction intervals on the future forecasts\n",
        "\n",
        "UPTOHERE:\n",
        "* To do this, make a function to make future forecasts in an ensemble format\n",
        "* Return the future predictions as well as their variance(s) (from the ensemble)\n",
        "* Turn X_all and y_all into a TensorFlow dataset? (faster)... time the ensemble training with/without TensorFlow datasets (see which is faster and by how much?)"
      ]
    },
    {
      "cell_type": "code",
      "metadata": {
        "id": "efZjz1hciEYl"
      },
      "source": [
        "# Create ensemble model to predict\n",
        "# Train ensemble on all of training data\n",
        "# Make predictions with ensemble model then plot the prediction intervals for each pred"
      ],
      "execution_count": null,
      "outputs": []
    },
    {
      "cell_type": "code",
      "metadata": {
        "id": "gaY1_DTdqJHQ"
      },
      "source": [
        "# List for new preds\n",
        "future_forecast = []\n",
        "last_window = y_all[-WINDOW_SIZE:] # get the last window of the training data\n",
        "into_future = 14 # how far to predict into the future\n",
        "\n",
        "for i in range(into_future):\n",
        "  # Make a pred for the last window, then append the prediction, append it again, append it again\n",
        "  pred = model_9.predict(tf.expand_dims(last_window, axis=0))\n",
        "  print(f\"Predicting on: \\n {last_window} -> Prediction: {tf.squeeze(pred).numpy()}\\n\")\n",
        "  future_forecast.append(tf.squeeze(pred).numpy())\n",
        "  # Update last window with new pred and get WINDOW_SIZE most recent preds (model was trained on WINDOW_SIZE windows)\n",
        "  last_window = np.append(last_window, pred)[-WINDOW_SIZE:]"
      ],
      "execution_count": null,
      "outputs": []
    },
    {
      "cell_type": "code",
      "metadata": {
        "id": "JEtTHMV_iE7f"
      },
      "source": [
        "def make_future_forecast(values, model, into_future, window_size=WINDOW_SIZE) -> list:\n",
        "  \"\"\"\n",
        "  Makes future forecasts into_future steps after values ends.\n",
        "\n",
        "  Returns future forecasts as list of floats.\n",
        "  \"\"\"\n",
        "  future_forecast = []\n",
        "  last_window = values[-WINDOW_SIZE:] # only want preds from the last window (this will get updated)\n",
        "\n",
        "  for _ in range(into_future):\n",
        "    # Predict on last window then append it again, again, again (model starts to make forecasts on its own forecasts)\n",
        "    future_pred = model.predict(tf.expand_dims(last_window, axis=0))\n",
        "    # print(f\"Predicting on: \\n {last_window} -> Prediction: {tf.squeeze(pred).numpy()}\\n\")\n",
        "    # Append predictions to future_forecast\n",
        "    print(future_pred)\n",
        "    future_forecast.append(tf.squeeze(future_pred).numpy())\n",
        "    print(future_forecast)\n",
        "    # Update last window with new pred and get WINDOW_SIZE most recent preds (model was trained on WINDOW_SIZE windows)\n",
        "    last_window = np.append(last_window, future_pred)[-WINDOW_SIZE:]\n",
        "  \n",
        "  return future_forecast"
      ],
      "execution_count": 145,
      "outputs": []
    },
    {
      "cell_type": "code",
      "metadata": {
        "id": "_n3iKK_mz9Uu",
        "colab": {
          "base_uri": "https://localhost:8080/"
        },
        "outputId": "fcfffe47-1d7d-477a-bd86-67aa9ba69e1c"
      },
      "source": [
        "%%time\n",
        "\n",
        "# Create ensemble model to predict\n",
        "tf.random.set_seed(42)\n",
        "\n",
        "ensemble_forecasts = {}\n",
        "for loss_function in [\"mae\", \"mse\", \"mape\"]:\n",
        "  print(f\"Optimizing model by reducing: {loss_function}\")\n",
        "\n",
        "  # construct simple model\n",
        "  simple_model = tf.keras.Sequential([\n",
        "    layers.Dense(128, activation=\"relu\"),\n",
        "    layers.Dense(128, activation=\"relu\"),\n",
        "    layers.Dense(HORIZON)\n",
        "  ], name=f\"ensemble_{loss_function}\") # name the model after the loss function\n",
        "\n",
        "  simple_model.compile(loss=loss_function,\n",
        "                      optimizer=tf.keras.optimizers.Adam(),\n",
        "                      metrics=[\"mae\", \"mse\"])\n",
        "\n",
        "  simple_model.fit(X_all, y_all,\n",
        "                   epochs=1000,\n",
        "                   verbose=0,\n",
        "                   # Stop when a model stops improving for ~200 epochs and lower the learning rate when improvement plateau's\n",
        "                   # No validation data when training the model on all the data\n",
        "                   batch_size=1024,\n",
        "                   callbacks=[tf.keras.callbacks.EarlyStopping(monitor=\"loss\", patience=200, restore_best_weights=True),\n",
        "                              tf.keras.callbacks.ReduceLROnPlateau(monitor=\"loss\", patience=100, verbose=1)])\n",
        "  \n",
        "  # # Save the model\n",
        "  # simple_model.save(simple_model.name)\n",
        "\n",
        "  # Make future forecasts with the target model\n",
        "  future_forecast = make_future_forecast(values=y_all,\n",
        "                                         model=simple_model, # use the current model\n",
        "                                         into_future=into_future)\n",
        "\n",
        "  print(future_forecast[:10])\n",
        "  # Add the future forecasts with different loss functions to dictionary\n",
        "  print(f\"Adding future forecasts from model reducing: {loss_function}\\n\")\n",
        "  ensemble_forecasts[loss_function] = future_forecast"
      ],
      "execution_count": 146,
      "outputs": [
        {
          "output_type": "stream",
          "text": [
            "Optimizing model by reducing: mae\n",
            "\n",
            "Epoch 00369: ReduceLROnPlateau reducing learning rate to 0.00010000000474974513.\n",
            "\n",
            "Epoch 00604: ReduceLROnPlateau reducing learning rate to 1.0000000474974514e-05.\n",
            "\n",
            "Epoch 00704: ReduceLROnPlateau reducing learning rate to 1.0000000656873453e-06.\n",
            "[[56720.977]]\n",
            "[56720.977]\n",
            "[[51362.297]]\n",
            "[56720.977, 51362.297]\n",
            "[[50416.37]]\n",
            "[56720.977, 51362.297, 50416.37]\n",
            "[[50256.35]]\n",
            "[56720.977, 51362.297, 50416.37, 50256.35]\n",
            "[[47381.625]]\n",
            "[56720.977, 51362.297, 50416.37, 50256.35, 47381.625]\n",
            "[[45729.605]]\n",
            "[56720.977, 51362.297, 50416.37, 50256.35, 47381.625, 45729.605]\n",
            "[[44536.492]]\n",
            "[56720.977, 51362.297, 50416.37, 50256.35, 47381.625, 45729.605, 44536.492]\n",
            "[[56820.66]]\n",
            "[56720.977, 51362.297, 50416.37, 50256.35, 47381.625, 45729.605, 44536.492, 56820.66]\n",
            "[[50786.996]]\n",
            "[56720.977, 51362.297, 50416.37, 50256.35, 47381.625, 45729.605, 44536.492, 56820.66, 50786.996]\n",
            "[[51043.87]]\n",
            "[56720.977, 51362.297, 50416.37, 50256.35, 47381.625, 45729.605, 44536.492, 56820.66, 50786.996, 51043.87]\n",
            "[[50141.543]]\n",
            "[56720.977, 51362.297, 50416.37, 50256.35, 47381.625, 45729.605, 44536.492, 56820.66, 50786.996, 51043.87, 50141.543]\n",
            "[[46969.97]]\n",
            "[56720.977, 51362.297, 50416.37, 50256.35, 47381.625, 45729.605, 44536.492, 56820.66, 50786.996, 51043.87, 50141.543, 46969.97]\n",
            "[[46014.348]]\n",
            "[56720.977, 51362.297, 50416.37, 50256.35, 47381.625, 45729.605, 44536.492, 56820.66, 50786.996, 51043.87, 50141.543, 46969.97, 46014.348]\n",
            "[[45735.645]]\n",
            "[56720.977, 51362.297, 50416.37, 50256.35, 47381.625, 45729.605, 44536.492, 56820.66, 50786.996, 51043.87, 50141.543, 46969.97, 46014.348, 45735.645]\n",
            "[56720.977, 51362.297, 50416.37, 50256.35, 47381.625, 45729.605, 44536.492, 56820.66, 50786.996, 51043.87]\n",
            "Adding future forecasts from model reducing: mae\n",
            "\n",
            "Optimizing model by reducing: mse\n",
            "\n",
            "Epoch 00925: ReduceLROnPlateau reducing learning rate to 0.00010000000474974513.\n",
            "[[56536.566]]\n",
            "[56536.566]\n",
            "[[51746.07]]\n",
            "[56536.566, 51746.07]\n",
            "[[50406.85]]\n",
            "[56536.566, 51746.07, 50406.85]\n",
            "[[49594.92]]\n",
            "[56536.566, 51746.07, 50406.85, 49594.92]\n",
            "[[46747.5]]\n",
            "[56536.566, 51746.07, 50406.85, 49594.92, 46747.5]\n",
            "[[45645.312]]\n",
            "[56536.566, 51746.07, 50406.85, 49594.92, 46747.5, 45645.312]\n",
            "[[44303.805]]\n",
            "[56536.566, 51746.07, 50406.85, 49594.92, 46747.5, 45645.312, 44303.805]\n",
            "[[56490.92]]\n",
            "[56536.566, 51746.07, 50406.85, 49594.92, 46747.5, 45645.312, 44303.805, 56490.92]\n",
            "[[51604.242]]\n",
            "[56536.566, 51746.07, 50406.85, 49594.92, 46747.5, 45645.312, 44303.805, 56490.92, 51604.242]\n",
            "[[50825.855]]\n",
            "[56536.566, 51746.07, 50406.85, 49594.92, 46747.5, 45645.312, 44303.805, 56490.92, 51604.242, 50825.855]\n",
            "[[48891.266]]\n",
            "[56536.566, 51746.07, 50406.85, 49594.92, 46747.5, 45645.312, 44303.805, 56490.92, 51604.242, 50825.855, 48891.266]\n",
            "[[45609.043]]\n",
            "[56536.566, 51746.07, 50406.85, 49594.92, 46747.5, 45645.312, 44303.805, 56490.92, 51604.242, 50825.855, 48891.266, 45609.043]\n",
            "[[45759.39]]\n",
            "[56536.566, 51746.07, 50406.85, 49594.92, 46747.5, 45645.312, 44303.805, 56490.92, 51604.242, 50825.855, 48891.266, 45609.043, 45759.39]\n",
            "[[44968.01]]\n",
            "[56536.566, 51746.07, 50406.85, 49594.92, 46747.5, 45645.312, 44303.805, 56490.92, 51604.242, 50825.855, 48891.266, 45609.043, 45759.39, 44968.01]\n",
            "[56536.566, 51746.07, 50406.85, 49594.92, 46747.5, 45645.312, 44303.805, 56490.92, 51604.242, 50825.855]\n",
            "Adding future forecasts from model reducing: mse\n",
            "\n",
            "Optimizing model by reducing: mape\n",
            "\n",
            "Epoch 00876: ReduceLROnPlateau reducing learning rate to 0.00010000000474974513.\n",
            "[[56937.176]]\n",
            "[56937.176]\n",
            "[[51552.113]]\n",
            "[56937.176, 51552.113]\n",
            "[[48551.473]]\n",
            "[56937.176, 51552.113, 48551.473]\n",
            "[[49968.867]]\n",
            "[56937.176, 51552.113, 48551.473, 49968.867]\n",
            "[[47873.125]]\n",
            "[56937.176, 51552.113, 48551.473, 49968.867, 47873.125]\n",
            "[[45730.]]\n",
            "[56937.176, 51552.113, 48551.473, 49968.867, 47873.125, 45730.0]\n",
            "[[44939.117]]\n",
            "[56937.176, 51552.113, 48551.473, 49968.867, 47873.125, 45730.0, 44939.117]\n",
            "[[57094.855]]\n",
            "[56937.176, 51552.113, 48551.473, 49968.867, 47873.125, 45730.0, 44939.117, 57094.855]\n",
            "[[50934.89]]\n",
            "[56937.176, 51552.113, 48551.473, 49968.867, 47873.125, 45730.0, 44939.117, 57094.855, 50934.89]\n",
            "[[48094.29]]\n",
            "[56937.176, 51552.113, 48551.473, 49968.867, 47873.125, 45730.0, 44939.117, 57094.855, 50934.89, 48094.29]\n",
            "[[49904.48]]\n",
            "[56937.176, 51552.113, 48551.473, 49968.867, 47873.125, 45730.0, 44939.117, 57094.855, 50934.89, 48094.29, 49904.48]\n",
            "[[47731.88]]\n",
            "[56937.176, 51552.113, 48551.473, 49968.867, 47873.125, 45730.0, 44939.117, 57094.855, 50934.89, 48094.29, 49904.48, 47731.88]\n",
            "[[46019.047]]\n",
            "[56937.176, 51552.113, 48551.473, 49968.867, 47873.125, 45730.0, 44939.117, 57094.855, 50934.89, 48094.29, 49904.48, 47731.88, 46019.047]\n",
            "[[46014.215]]\n",
            "[56937.176, 51552.113, 48551.473, 49968.867, 47873.125, 45730.0, 44939.117, 57094.855, 50934.89, 48094.29, 49904.48, 47731.88, 46019.047, 46014.215]\n",
            "[56937.176, 51552.113, 48551.473, 49968.867, 47873.125, 45730.0, 44939.117, 57094.855, 50934.89, 48094.29]\n",
            "Adding future forecasts from model reducing: mape\n",
            "\n",
            "CPU times: user 29.2 s, sys: 2.92 s, total: 32.1 s\n",
            "Wall time: 28.7 s\n"
          ],
          "name": "stdout"
        }
      ]
    },
    {
      "cell_type": "markdown",
      "metadata": {
        "id": "X50rX_yWjxZE"
      },
      "source": [
        "UPTOHERE:\n",
        "* TODO: Can the above be combined into a simpler form?\n",
        "* TODO: Future forecasts would of course have to be updated daily (there's new data every day...) and every time the model would have to be retrained to work with the future forecast\n",
        "* TODO: Variance metrics look wild for forecasts prediction intervals... how can this be improved?"
      ]
    },
    {
      "cell_type": "code",
      "metadata": {
        "id": "3vEDPYxaiEzg",
        "colab": {
          "base_uri": "https://localhost:8080/"
        },
        "outputId": "469e9cba-c8e7-4bc9-e08e-c5bba67ab69f"
      },
      "source": [
        "ensemble_forecasts"
      ],
      "execution_count": 147,
      "outputs": [
        {
          "output_type": "execute_result",
          "data": {
            "text/plain": [
              "{'mae': [56720.977,\n",
              "  51362.297,\n",
              "  50416.37,\n",
              "  50256.35,\n",
              "  47381.625,\n",
              "  45729.605,\n",
              "  44536.492,\n",
              "  56820.66,\n",
              "  50786.996,\n",
              "  51043.87,\n",
              "  50141.543,\n",
              "  46969.97,\n",
              "  46014.348,\n",
              "  45735.645],\n",
              " 'mape': [56937.176,\n",
              "  51552.113,\n",
              "  48551.473,\n",
              "  49968.867,\n",
              "  47873.125,\n",
              "  45730.0,\n",
              "  44939.117,\n",
              "  57094.855,\n",
              "  50934.89,\n",
              "  48094.29,\n",
              "  49904.48,\n",
              "  47731.88,\n",
              "  46019.047,\n",
              "  46014.215],\n",
              " 'mse': [56536.566,\n",
              "  51746.07,\n",
              "  50406.85,\n",
              "  49594.92,\n",
              "  46747.5,\n",
              "  45645.312,\n",
              "  44303.805,\n",
              "  56490.92,\n",
              "  51604.242,\n",
              "  50825.855,\n",
              "  48891.266,\n",
              "  45609.043,\n",
              "  45759.39,\n",
              "  44968.01]}"
            ]
          },
          "metadata": {
            "tags": []
          },
          "execution_count": 147
        }
      ]
    },
    {
      "cell_type": "code",
      "metadata": {
        "id": "4S6RFzcErNbG"
      },
      "source": [
        "ensemble_forecasts_values = np.array(list(ensemble_forecasts.values()))"
      ],
      "execution_count": 150,
      "outputs": []
    },
    {
      "cell_type": "code",
      "metadata": {
        "colab": {
          "base_uri": "https://localhost:8080/"
        },
        "id": "NsoZnjgTqi3h",
        "outputId": "edc67147-0dc6-4b75-a4b4-f3a319cd5d3a"
      },
      "source": [
        "# Get median of ensemble forecasts\n",
        "ensemble_forecasts_median = np.median(ensemble_forecasts_values, axis=0)\n",
        "ensemble_forecasts_median"
      ],
      "execution_count": 151,
      "outputs": [
        {
          "output_type": "execute_result",
          "data": {
            "text/plain": [
              "array([56720.977, 51552.113, 50406.85 , 49968.867, 47381.625, 45729.605,\n",
              "       44536.492, 56820.66 , 50934.89 , 50825.855, 49904.48 , 46969.97 ,\n",
              "       46014.348, 45735.645], dtype=float32)"
            ]
          },
          "metadata": {
            "tags": []
          },
          "execution_count": 151
        }
      ]
    },
    {
      "cell_type": "code",
      "metadata": {
        "colab": {
          "base_uri": "https://localhost:8080/"
        },
        "id": "HwaY0MKtqiwY",
        "outputId": "d3d7121a-9b6e-4b45-e929-ab9a01f20dd3"
      },
      "source": [
        "# Get variance of ensemble forecasts\n",
        "ensemble_forecasts_variance = tf.math.reduce_variance(ensemble_forecasts_values, axis=0)\n",
        "ensemble_forecasts_variance"
      ],
      "execution_count": 163,
      "outputs": [
        {
          "output_type": "execute_result",
          "data": {
            "text/plain": [
              "<tf.Tensor: shape=(14,), dtype=float32, numpy=\n",
              "array([2.6804119e+04, 2.4547961e+04, 7.6892975e+05, 7.3330180e+04,\n",
              "       2.1230205e+05, 1.5863815e+03, 6.8874703e+04, 6.0960688e+04,\n",
              "       1.2642173e+05, 1.8010024e+06, 2.9399959e+05, 7.7100650e+05,\n",
              "       1.4716282e+04, 1.9571139e+05], dtype=float32)>"
            ]
          },
          "metadata": {
            "tags": []
          },
          "execution_count": 163
        }
      ]
    },
    {
      "cell_type": "code",
      "metadata": {
        "colab": {
          "base_uri": "https://localhost:8080/"
        },
        "id": "4IrdJuzcsuJM",
        "outputId": "ccf8705c-fdb6-4547-aedf-e67c1e080681"
      },
      "source": [
        "ensemble_forecasts"
      ],
      "execution_count": 164,
      "outputs": [
        {
          "output_type": "execute_result",
          "data": {
            "text/plain": [
              "{'mae': [56720.977,\n",
              "  51362.297,\n",
              "  50416.37,\n",
              "  50256.35,\n",
              "  47381.625,\n",
              "  45729.605,\n",
              "  44536.492,\n",
              "  56820.66,\n",
              "  50786.996,\n",
              "  51043.87,\n",
              "  50141.543,\n",
              "  46969.97,\n",
              "  46014.348,\n",
              "  45735.645],\n",
              " 'mape': [56937.176,\n",
              "  51552.113,\n",
              "  48551.473,\n",
              "  49968.867,\n",
              "  47873.125,\n",
              "  45730.0,\n",
              "  44939.117,\n",
              "  57094.855,\n",
              "  50934.89,\n",
              "  48094.29,\n",
              "  49904.48,\n",
              "  47731.88,\n",
              "  46019.047,\n",
              "  46014.215],\n",
              " 'mse': [56536.566,\n",
              "  51746.07,\n",
              "  50406.85,\n",
              "  49594.92,\n",
              "  46747.5,\n",
              "  45645.312,\n",
              "  44303.805,\n",
              "  56490.92,\n",
              "  51604.242,\n",
              "  50825.855,\n",
              "  48891.266,\n",
              "  45609.043,\n",
              "  45759.39,\n",
              "  44968.01]}"
            ]
          },
          "metadata": {
            "tags": []
          },
          "execution_count": 164
        }
      ]
    },
    {
      "cell_type": "code",
      "metadata": {
        "colab": {
          "base_uri": "https://localhost:8080/"
        },
        "id": "8fcJchPLrrwx",
        "outputId": "77601f9c-5ca3-4ede-a061-b7b80ed7f0cb"
      },
      "source": [
        "next_time_steps"
      ],
      "execution_count": 155,
      "outputs": [
        {
          "output_type": "execute_result",
          "data": {
            "text/plain": [
              "array(['2021-05-18', '2021-05-19', '2021-05-20', '2021-05-21',\n",
              "       '2021-05-22', '2021-05-23', '2021-05-24', '2021-05-25',\n",
              "       '2021-05-26', '2021-05-27', '2021-05-28', '2021-05-29',\n",
              "       '2021-05-30', '2021-05-31', '2021-06-01'], dtype='datetime64[D]')"
            ]
          },
          "metadata": {
            "tags": []
          },
          "execution_count": 155
        }
      ]
    },
    {
      "cell_type": "code",
      "metadata": {
        "colab": {
          "base_uri": "https://localhost:8080/"
        },
        "id": "rGjo-plJr2Nv",
        "outputId": "2683cbed-143f-410f-92d0-1f28d578a502"
      },
      "source": [
        "len(next_time_steps), len(ensemble_forecasts_median)"
      ],
      "execution_count": 157,
      "outputs": [
        {
          "output_type": "execute_result",
          "data": {
            "text/plain": [
              "(15, 14)"
            ]
          },
          "metadata": {
            "tags": []
          },
          "execution_count": 157
        }
      ]
    },
    {
      "cell_type": "code",
      "metadata": {
        "colab": {
          "base_uri": "https://localhost:8080/",
          "height": 453
        },
        "id": "rS79lpOMrbbY",
        "outputId": "4916d3a8-22d9-40a6-bf47-b97fd598945c"
      },
      "source": [
        "# Plot ensemble forecasts with variance\n",
        "plt.figure(figsize=(10, 7))\n",
        "plt.plot(next_time_steps[1:], ensemble_forecasts_median, \"k-\", label=\"Ensemble Forecasts\")\n",
        "plt.xlabel(\"Date\")\n",
        "plt.ylabel(\"BTC Price\")\n",
        "plt.fill_between(next_time_steps[1:],\n",
        "                 (ensemble_forecasts_median-ensemble_forecasts_variance),\n",
        "                 (ensemble_forecasts_median+ensemble_forecasts_variance),\n",
        "                 label=\"Forecast Prediction Intervals\");"
      ],
      "execution_count": 162,
      "outputs": [
        {
          "output_type": "display_data",
          "data": {
            "image/png": "[encoded data removed]",
            "text/plain": [
              "<Figure size 720x504 with 1 Axes>"
            ]
          },
          "metadata": {
            "tags": [],
            "needs_background": "light"
          }
        }
      ]
    },
    {
      "cell_type": "code",
      "metadata": {
        "id": "4dDEcmolnYEn"
      },
      "source": [
        "plt.figure(figsize=(10, 7))\n",
        "plt.plot(X_test.index[offset:], y_test[offset:], \"g\", label=\"Test Data\")\n",
        "plt.plot(X_test.index[offset:], ensemble_median[offset:], \"k-\", label=\"Ensemble Preds\")\n",
        "plt.xlabel(\"Date\")\n",
        "plt.ylabel(\"BTC Price\")\n",
        "plt.fill_between(X_test.index[offset:], \n",
        "                 (ensemble_median-ensemble_var)[offset:], \n",
        "                 (ensemble_median+ensemble_var)[offset:], label=\"Prediction variance\")\n",
        "plt.legend(loc=\"upper left\", fontsize=14);"
      ],
      "execution_count": null,
      "outputs": []
    },
    {
      "cell_type": "code",
      "metadata": {
        "id": "1YxpTAzknX8m"
      },
      "source": [
        ""
      ],
      "execution_count": null,
      "outputs": []
    },
    {
      "cell_type": "markdown",
      "metadata": {
        "id": "U5VMaZ1UBpXt"
      },
      "source": [
        "# TODO: Why forecasting is BS (turkey problem)\n",
        "\n",
        "TK - inject a turkey problem piece of data into the model & see how it effects (e.g. 1 data point that's 50x of outlier)\n",
        "\n",
        "* See this video: https://youtu.be/hRwimmE2wEk\n",
        "* Open system: beware (like fortune telling), see Mark Saroufim's tweet - https://twitter.com/marksaroufim/status/1366871736604532739?s=20\n",
        "* Closed system: try it out"
      ]
    },
    {
      "cell_type": "code",
      "metadata": {
        "id": "KD50Xt36BsOk"
      },
      "source": [
        ""
      ],
      "execution_count": null,
      "outputs": []
    },
    {
      "cell_type": "code",
      "metadata": {
        "id": "kUFWcnNGB7yn"
      },
      "source": [
        ""
      ],
      "execution_count": null,
      "outputs": []
    },
    {
      "cell_type": "code",
      "metadata": {
        "id": "DgG2hk9PB7wi"
      },
      "source": [
        ""
      ],
      "execution_count": null,
      "outputs": []
    },
    {
      "cell_type": "code",
      "metadata": {
        "id": "dPWjKlk_B7tb"
      },
      "source": [
        ""
      ],
      "execution_count": null,
      "outputs": []
    },
    {
      "cell_type": "code",
      "metadata": {
        "id": "JLSwuKgzB7q_"
      },
      "source": [
        ""
      ],
      "execution_count": null,
      "outputs": []
    },
    {
      "cell_type": "markdown",
      "metadata": {
        "id": "47VA8gR3B7QP"
      },
      "source": [
        "# TODO: Exercises\n",
        "\n",
        "* Does scaling the data help for multivariate data? (e.g. getting all of the values between 0 & 1) "
      ]
    },
    {
      "cell_type": "code",
      "metadata": {
        "id": "vSZLIopuCAJN"
      },
      "source": [
        ""
      ],
      "execution_count": null,
      "outputs": []
    },
    {
      "cell_type": "markdown",
      "metadata": {
        "id": "iiOlVRREB7No"
      },
      "source": [
        "# TODO: Extra-curriculum\n",
        "\n",
        "* Evaluation metrics - https://otexts.com/fpp2/accuracy.html \n",
        "* "
      ]
    }
  ]
}